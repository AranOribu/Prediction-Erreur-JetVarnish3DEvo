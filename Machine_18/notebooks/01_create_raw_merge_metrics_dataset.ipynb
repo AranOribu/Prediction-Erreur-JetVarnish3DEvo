{
 "cells": [
  {
   "attachments": {},
   "cell_type": "markdown",
   "metadata": {},
   "source": [
    "# 01 - Creation du dataset des données brutes de metrics fractionnées"
   ]
  },
  {
   "attachments": {},
   "cell_type": "markdown",
   "metadata": {},
   "source": [
    "Ce notebook génère :\n",
    "\n",
    "- 1 fichier csv \"raw_merge_metrics_dataset.csv\" qui fusionne les colonnes fractionnées avec le dataset d'origine\n",
    "- 1 fichier json \"metrics_events_dict.json\" pour lister les code d'identification des évènements\n",
    "\n",
    "**Etapes de création :**\n",
    "\n",
    "- Pour chaque colonne contenant des valeurs de type list ou dict\n",
    "\n",
    "    - Fractionnement des colonnes en dataframe\n",
    "\n",
    "    - Fusion des dataframes issus de la ou des fraction(s)\n",
    "\n",
    "- Fusion des colonnes fractionnées avec les colonnes non fratcionnées du dataset de départ"
   ]
  },
  {
   "attachments": {},
   "cell_type": "markdown",
   "metadata": {},
   "source": [
    "## Imports"
   ]
  },
  {
   "cell_type": "code",
   "execution_count": 1,
   "metadata": {},
   "outputs": [],
   "source": [
    "import os, json, ast\n",
    "import pandas as pd\n",
    "import numpy as np\n",
    "import matplotlib.pyplot as plt\n",
    "from datetime import datetime\n",
    "from pathlib import Path"
   ]
  },
  {
   "attachments": {},
   "cell_type": "markdown",
   "metadata": {},
   "source": [
    "## 1. Création dataset metrics"
   ]
  },
  {
   "cell_type": "code",
   "execution_count": 2,
   "metadata": {},
   "outputs": [],
   "source": [
    "# source path to raw metrics dataset\n",
    "filename = 'metrics.csv'\n",
    "path = '../data/raw/'\n",
    "source_csv = os.path.join(path, filename)\n",
    "# target path to save metrics dictionnaire\n",
    "save_json ='../data/metrics/metrics_events_dict.json'\n",
    "# target path to save merge raw metrics dataset\n",
    "save_csv = '../data/metrics/raw_merge_metrics_dataset.csv'"
   ]
  },
  {
   "attachments": {},
   "cell_type": "markdown",
   "metadata": {},
   "source": [
    "### a) Import des données brutes"
   ]
  },
  {
   "cell_type": "code",
   "execution_count": 3,
   "metadata": {},
   "outputs": [],
   "source": [
    "# # téléchargement dans le repertoire 'data' d'un fichiers 'csv' depuis le blob Azure\n",
    "# from azure_blob import download_blob_file\n",
    "# download_blob_file(file_name=filename, local_path=path)"
   ]
  },
  {
   "cell_type": "code",
   "execution_count": 4,
   "metadata": {},
   "outputs": [
    {
     "name": "stdout",
     "output_type": "stream",
     "text": [
      "<class 'pandas.core.frame.DataFrame'>\n",
      "RangeIndex: 712905 entries, 0 to 712904\n",
      "Data columns (total 21 columns):\n",
      " #   Column                      Non-Null Count   Dtype  \n",
      "---  ------                      --------------   -----  \n",
      " 0   id                          712905 non-null  int64  \n",
      " 1   status                      712905 non-null  object \n",
      " 2   created_at                  712905 non-null  object \n",
      " 3   cyan_capacity               0 non-null       float64\n",
      " 4   cyan_remaining              0 non-null       float64\n",
      " 5   magenta_capacity            0 non-null       float64\n",
      " 6   magenta_remaining           0 non-null       float64\n",
      " 7   yellow_capacity             0 non-null       float64\n",
      " 8   yellow_remaining            0 non-null       float64\n",
      " 9   black_capacity              0 non-null       float64\n",
      " 10  black_remaining             0 non-null       float64\n",
      " 11  machineId                   712905 non-null  int64  \n",
      " 12  connected_operators         712905 non-null  object \n",
      " 13  varnishLevelsTargetvolume   712905 non-null  float64\n",
      " 14  varnishLevelsTotalvolume    712905 non-null  int64  \n",
      " 15  modules                     712905 non-null  object \n",
      " 16  events                      712905 non-null  object \n",
      " 17  sensors                     0 non-null       float64\n",
      " 18  print_heads                 0 non-null       float64\n",
      " 19  varnishLevelsWeightpercent  0 non-null       float64\n",
      " 20  feeder_counter              0 non-null       float64\n",
      "dtypes: float64(13), int64(3), object(5)\n",
      "memory usage: 114.2+ MB\n"
     ]
    }
   ],
   "source": [
    "# création d'un dataframe à partir du csv de données\n",
    "metrics_df = pd.read_csv(filepath_or_buffer=Path(source_csv)).sort_values(by='created_at')\n",
    "metrics_df.reset_index(level=None, drop=True, inplace=True, col_level=0, col_fill='')\n",
    "metrics_df.info()"
   ]
  },
  {
   "cell_type": "code",
   "execution_count": 5,
   "metadata": {},
   "outputs": [
    {
     "data": {
      "text/html": [
       "<div>\n",
       "<style scoped>\n",
       "    .dataframe tbody tr th:only-of-type {\n",
       "        vertical-align: middle;\n",
       "    }\n",
       "\n",
       "    .dataframe tbody tr th {\n",
       "        vertical-align: top;\n",
       "    }\n",
       "\n",
       "    .dataframe thead th {\n",
       "        text-align: right;\n",
       "    }\n",
       "</style>\n",
       "<table border=\"1\" class=\"dataframe\">\n",
       "  <thead>\n",
       "    <tr style=\"text-align: right;\">\n",
       "      <th></th>\n",
       "      <th>id</th>\n",
       "      <th>status</th>\n",
       "      <th>created_at</th>\n",
       "      <th>connected_operators</th>\n",
       "      <th>varnishLevelsTargetvolume</th>\n",
       "      <th>varnishLevelsTotalvolume</th>\n",
       "      <th>modules</th>\n",
       "      <th>events</th>\n",
       "    </tr>\n",
       "  </thead>\n",
       "  <tbody>\n",
       "    <tr>\n",
       "      <th>0</th>\n",
       "      <td>9658802</td>\n",
       "      <td>ERR</td>\n",
       "      <td>2022-11-02 08:43:45.619000</td>\n",
       "      <td>[{\"name\": \"User\", \"level\": \"Operator\"}]</td>\n",
       "      <td>12766.336997</td>\n",
       "      <td>18000</td>\n",
       "      <td>[{\"sn\": \"\", \"name\": \"Print Engine 1\", \"type\": ...</td>\n",
       "      <td>[]</td>\n",
       "    </tr>\n",
       "    <tr>\n",
       "      <th>1</th>\n",
       "      <td>9658812</td>\n",
       "      <td>ERR</td>\n",
       "      <td>2022-11-02 08:43:55.376000</td>\n",
       "      <td>[{\"name\": \"User\", \"level\": \"Operator\"}]</td>\n",
       "      <td>12766.336997</td>\n",
       "      <td>18000</td>\n",
       "      <td>[{\"sn\": \"\", \"name\": \"Print Engine 1\", \"type\": ...</td>\n",
       "      <td>[{\"source\": \"PLC\", \"message\": \" Démarrage mach...</td>\n",
       "    </tr>\n",
       "    <tr>\n",
       "      <th>2</th>\n",
       "      <td>9658823</td>\n",
       "      <td>ERR</td>\n",
       "      <td>2022-11-02 08:44:05.649000</td>\n",
       "      <td>[{\"name\": \"User\", \"level\": \"Operator\"}]</td>\n",
       "      <td>12766.336997</td>\n",
       "      <td>18000</td>\n",
       "      <td>[{\"sn\": \"\", \"name\": \"Print Engine 1\", \"type\": ...</td>\n",
       "      <td>[]</td>\n",
       "    </tr>\n",
       "  </tbody>\n",
       "</table>\n",
       "</div>"
      ],
      "text/plain": [
       "        id status                  created_at  \\\n",
       "0  9658802    ERR  2022-11-02 08:43:45.619000   \n",
       "1  9658812    ERR  2022-11-02 08:43:55.376000   \n",
       "2  9658823    ERR  2022-11-02 08:44:05.649000   \n",
       "\n",
       "                       connected_operators  varnishLevelsTargetvolume  \\\n",
       "0  [{\"name\": \"User\", \"level\": \"Operator\"}]               12766.336997   \n",
       "1  [{\"name\": \"User\", \"level\": \"Operator\"}]               12766.336997   \n",
       "2  [{\"name\": \"User\", \"level\": \"Operator\"}]               12766.336997   \n",
       "\n",
       "   varnishLevelsTotalvolume  \\\n",
       "0                     18000   \n",
       "1                     18000   \n",
       "2                     18000   \n",
       "\n",
       "                                             modules  \\\n",
       "0  [{\"sn\": \"\", \"name\": \"Print Engine 1\", \"type\": ...   \n",
       "1  [{\"sn\": \"\", \"name\": \"Print Engine 1\", \"type\": ...   \n",
       "2  [{\"sn\": \"\", \"name\": \"Print Engine 1\", \"type\": ...   \n",
       "\n",
       "                                              events  \n",
       "0                                                 []  \n",
       "1  [{\"source\": \"PLC\", \"message\": \" Démarrage mach...  \n",
       "2                                                 []  "
      ]
     },
     "execution_count": 5,
     "metadata": {},
     "output_type": "execute_result"
    }
   ],
   "source": [
    "# suppression des colonnes ne contenant aucune valeurs\n",
    "metrics_df = metrics_df.dropna(axis=1)\n",
    "# suppression de la colonne machineId\n",
    "metrics_df = metrics_df.drop('machineId', axis=1)\n",
    "# visualisation des 3 premières lignes\n",
    "metrics_df.head(3)"
   ]
  },
  {
   "attachments": {},
   "cell_type": "markdown",
   "metadata": {},
   "source": [
    "### b) Fractionnement des colonnes contenant des listes"
   ]
  },
  {
   "cell_type": "code",
   "execution_count": 6,
   "metadata": {},
   "outputs": [
    {
     "name": "stdout",
     "output_type": "stream",
     "text": [
      "modules : <class 'str'>\n",
      "events : <class 'str'>\n",
      "connected_operators : <class 'str'>\n"
     ]
    }
   ],
   "source": [
    "# on verifie le type des valeurs contenu dans les colonnes de type objet contenant des listes\n",
    "print('modules :', type(metrics_df.modules.loc[0]))\n",
    "print('events :', type(metrics_df.events.loc[0]))\n",
    "print('connected_operators :', type(metrics_df.connected_operators.loc[0]))"
   ]
  },
  {
   "cell_type": "code",
   "execution_count": 7,
   "metadata": {},
   "outputs": [],
   "source": [
    "# fonction retournant le dataframe d'une colonne fractionnée\n",
    "# col=colonne à fractionner\n",
    "# df=dataframe source\n",
    "# data=dict des colonnes du df à conserver dans le df à retourner\n",
    "def convert_col_to_df(col, df, data=None):\n",
    "    \n",
    "    # création du dictionnaire de données vide\n",
    "    if data == None :\n",
    "        data = {}\n",
    "    # ou liste des clés du dictionnaire input\n",
    "    else :\n",
    "        data_keys = list(data.keys())\n",
    "\n",
    "    # on converti le type des valeurs str en list\n",
    "    if not isinstance(df[col].loc[0], list):\n",
    "        df[col] = df[col].apply(lambda x : json.loads(x))\n",
    "\n",
    "    # liste des clés du dictionnaire de la colonne à partir de la première occurence\n",
    "    # on recherche la première occurence non vide et de type list \n",
    "    # pour l'affecter à une variable first\n",
    "    for i in range(0, (len(df[col]))):\n",
    "        value = df[col].loc[i]\n",
    "        if len(value) > 0 and isinstance(value, list):\n",
    "            first = value[0]\n",
    "            print('first : ', type(first), first)\n",
    "            break\n",
    "\n",
    "    # on liste les clés du dictionnaire de l'occurence\n",
    "    col_keys = first.keys()\n",
    "    for ck in col_keys :\n",
    "        data[ck+'_'+col] = []\n",
    "\n",
    "    # on itére dans la serie pour récupérer les valeurs et les stocker dans le dictionnaire data\n",
    "    for i in range(df.index.start, df.index.stop):\n",
    "        # evaluation des valeurs 'str' en 'list'\n",
    "        values = df[col].loc[i]\n",
    "        if isinstance(values, list) and len(values) > 0 :\n",
    "            # ajout des valeurs dans le dictionnaire 'd'\n",
    "            for value in values :\n",
    "                for k in value.keys():\n",
    "                    data[k+'_'+col].append(value.get(k))\n",
    "                for dk in data_keys:\n",
    "                    data[dk].append(df[dk].loc[i])\n",
    "\n",
    "    # re-assignation de la variable df\n",
    "    df = pd.DataFrame(data)\n",
    "\n",
    "    return df"
   ]
  },
  {
   "cell_type": "code",
   "execution_count": 8,
   "metadata": {},
   "outputs": [],
   "source": [
    "# id temoin pour vérifier le fractionnement et la fusion des colonnes\n",
    "check_id = 9658812"
   ]
  },
  {
   "cell_type": "code",
   "execution_count": 9,
   "metadata": {},
   "outputs": [],
   "source": [
    "# # Initialize an empty list to collect all the 'counters' values\n",
    "# counters_values = []\n",
    "\n",
    "# # Define a function to extract 'counters' values from the 'modules' column\n",
    "# def extract_counters_value(row):\n",
    "#     try:\n",
    "#         # Convert the JSON-like string to a Python object (list of dictionaries in this case)\n",
    "#         modules_list = json.loads(row.replace(\"'\", \"\\\"\"))\n",
    "        \n",
    "#         # Loop through the list of dictionaries to find the 'counters' key-value pair\n",
    "#         for module in modules_list:\n",
    "#             if 'counters' in module:\n",
    "#                 for counter in module['counters']:\n",
    "#                     counters_values.append(counter['name'])\n",
    "#     except:\n",
    "#         # Handle any exceptions that may occur during JSON conversion or key access\n",
    "#         pass\n",
    "\n",
    "# # Apply the function to each row in the 'modules' column\n",
    "# metrics_df['modules'].apply(extract_counters_value)\n",
    "\n",
    "# # Find unique 'counters' values\n",
    "# unique_counters_values = set(counters_values)\n",
    "\n",
    "# # Display the unique 'counters' values and their count\n",
    "# unique_counters_values, len(unique_counters_values)"
   ]
  },
  {
   "cell_type": "code",
   "execution_count": 10,
   "metadata": {},
   "outputs": [],
   "source": [
    "check_line = metrics_df[metrics_df.id == check_id]"
   ]
  },
  {
   "cell_type": "code",
   "execution_count": 11,
   "metadata": {},
   "outputs": [
    {
     "name": "stdout",
     "output_type": "stream",
     "text": [
      "######## id 9658812 ######## \n",
      "[[9658812 'ERR' '2022-11-02 08:43:55.376000'\n",
      "  '[{\"name\": \"User\", \"level\": \"Operator\"}]' 12766.33699695459 18000\n",
      "  '[{\"sn\": \"\", \"name\": \"Print Engine 1\", \"type\": \"Varnish Printer\", \"counters\": [{\"name\": \"3D Varnish Counter\", \"value\": 3359237}], \"generation\": \"\"}, {\"sn\": \"\", \"name\": \"iFoil L\", \"type\": \"iFoil\", \"counters\": [{\"name\": \"Total Pages Counter\", \"value\": 25411}, {\"name\": \"Foiled Pages Counter\", \"value\": 670871}], \"generation\": \"Gen. 2\"}]'\n",
      "  '[{\"source\": \"PLC\", \"message\": \" Démarrage machine\", \"timestamp\": \"2022-11-02T08:43:46.845Z\", \"criticality\": \"ERROR\", \"identification\": \"358\"}, {\"source\": \"iFoil\", \"message\": \" Démarrage machine\", \"timestamp\": \"2022-11-02T08:43:46.921Z\", \"criticality\": \"INFO\", \"identification\": \"358\"}]']]\n",
      "######## id 9658812 modules details ######## \n",
      "[{'name': '3D Varnish Counter', 'value': 3359237}]\n",
      "[{'name': 'Total Pages Counter', 'value': 25411}, {'name': 'Foiled Pages Counter', 'value': 670871}]\n",
      "######## id 9658812 events details ######## \n",
      "{'source': 'PLC', 'message': ' Démarrage machine', 'timestamp': '2022-11-02T08:43:46.845Z', 'criticality': 'ERROR', 'identification': '358'}\n",
      "{'source': 'iFoil', 'message': ' Démarrage machine', 'timestamp': '2022-11-02T08:43:46.921Z', 'criticality': 'INFO', 'identification': '358'}\n"
     ]
    }
   ],
   "source": [
    "# détail de la ligne témoin\n",
    "check_line = metrics_df[metrics_df.id == check_id]\n",
    "print('######## id %d ######## ' %check_id)\n",
    "print(check_line.values)\n",
    "print('######## id %d modules details ######## ' %check_id)\n",
    "print(json.loads(check_line.modules.values[0])[0].get('counters'))\n",
    "print(json.loads(check_line.modules.values[0])[1].get('counters'))\n",
    "print('######## id %d events details ######## ' %check_id)\n",
    "print(json.loads(check_line.events.values[0])[0])\n",
    "print(json.loads(check_line.events.values[0])[1])"
   ]
  },
  {
   "attachments": {},
   "cell_type": "markdown",
   "metadata": {},
   "source": [
    "#### 1) Colonne 'connected_operators'"
   ]
  },
  {
   "cell_type": "code",
   "execution_count": 12,
   "metadata": {},
   "outputs": [
    {
     "name": "stdout",
     "output_type": "stream",
     "text": [
      "first :  <class 'dict'> {'name': 'User', 'level': 'Operator'}\n",
      "<class 'pandas.core.frame.DataFrame'>\n",
      "RangeIndex: 712905 entries, 0 to 712904\n",
      "Data columns (total 3 columns):\n",
      " #   Column                     Non-Null Count   Dtype \n",
      "---  ------                     --------------   ----- \n",
      " 0   id                         712905 non-null  int64 \n",
      " 1   name_connected_operators   712905 non-null  object\n",
      " 2   level_connected_operators  712905 non-null  object\n",
      "dtypes: int64(1), object(2)\n",
      "memory usage: 16.3+ MB\n",
      "None\n"
     ]
    },
    {
     "data": {
      "text/html": [
       "<div>\n",
       "<style scoped>\n",
       "    .dataframe tbody tr th:only-of-type {\n",
       "        vertical-align: middle;\n",
       "    }\n",
       "\n",
       "    .dataframe tbody tr th {\n",
       "        vertical-align: top;\n",
       "    }\n",
       "\n",
       "    .dataframe thead th {\n",
       "        text-align: right;\n",
       "    }\n",
       "</style>\n",
       "<table border=\"1\" class=\"dataframe\">\n",
       "  <thead>\n",
       "    <tr style=\"text-align: right;\">\n",
       "      <th></th>\n",
       "      <th>id</th>\n",
       "      <th>name_connected_operators</th>\n",
       "      <th>level_connected_operators</th>\n",
       "    </tr>\n",
       "  </thead>\n",
       "  <tbody>\n",
       "    <tr>\n",
       "      <th>0</th>\n",
       "      <td>9658802</td>\n",
       "      <td>User</td>\n",
       "      <td>Operator</td>\n",
       "    </tr>\n",
       "    <tr>\n",
       "      <th>1</th>\n",
       "      <td>9658812</td>\n",
       "      <td>User</td>\n",
       "      <td>Operator</td>\n",
       "    </tr>\n",
       "  </tbody>\n",
       "</table>\n",
       "</div>"
      ],
      "text/plain": [
       "        id name_connected_operators level_connected_operators\n",
       "0  9658802                     User                  Operator\n",
       "1  9658812                     User                  Operator"
      ]
     },
     "execution_count": 12,
     "metadata": {},
     "output_type": "execute_result"
    }
   ],
   "source": [
    "# creation d'un dataframe connected_operators (~42s)\n",
    "connected_operators_df = convert_col_to_df('connected_operators', metrics_df, {'id':[]})\n",
    "print(connected_operators_df.info())\n",
    "connected_operators_df.head(2)"
   ]
  },
  {
   "attachments": {},
   "cell_type": "markdown",
   "metadata": {},
   "source": [
    "#### 2) Colonne 'events'"
   ]
  },
  {
   "cell_type": "code",
   "execution_count": 13,
   "metadata": {},
   "outputs": [
    {
     "name": "stdout",
     "output_type": "stream",
     "text": [
      "first :  <class 'dict'> {'source': 'PLC', 'message': ' Démarrage machine', 'timestamp': '2022-11-02T08:43:46.845Z', 'criticality': 'ERROR', 'identification': '358'}\n",
      "<class 'pandas.core.frame.DataFrame'>\n",
      "RangeIndex: 200930 entries, 0 to 200929\n",
      "Data columns (total 6 columns):\n",
      " #   Column                 Non-Null Count   Dtype \n",
      "---  ------                 --------------   ----- \n",
      " 0   id                     200930 non-null  int64 \n",
      " 1   source_events          200930 non-null  object\n",
      " 2   message_events         200930 non-null  object\n",
      " 3   timestamp_events       200930 non-null  object\n",
      " 4   criticality_events     200930 non-null  object\n",
      " 5   identification_events  200930 non-null  object\n",
      "dtypes: int64(1), object(5)\n",
      "memory usage: 9.2+ MB\n",
      "None\n"
     ]
    },
    {
     "data": {
      "text/html": [
       "<div>\n",
       "<style scoped>\n",
       "    .dataframe tbody tr th:only-of-type {\n",
       "        vertical-align: middle;\n",
       "    }\n",
       "\n",
       "    .dataframe tbody tr th {\n",
       "        vertical-align: top;\n",
       "    }\n",
       "\n",
       "    .dataframe thead th {\n",
       "        text-align: right;\n",
       "    }\n",
       "</style>\n",
       "<table border=\"1\" class=\"dataframe\">\n",
       "  <thead>\n",
       "    <tr style=\"text-align: right;\">\n",
       "      <th></th>\n",
       "      <th>id</th>\n",
       "      <th>source_events</th>\n",
       "      <th>message_events</th>\n",
       "      <th>timestamp_events</th>\n",
       "      <th>criticality_events</th>\n",
       "      <th>identification_events</th>\n",
       "    </tr>\n",
       "  </thead>\n",
       "  <tbody>\n",
       "    <tr>\n",
       "      <th>0</th>\n",
       "      <td>9658812</td>\n",
       "      <td>PLC</td>\n",
       "      <td>Démarrage machine</td>\n",
       "      <td>2022-11-02T08:43:46.845Z</td>\n",
       "      <td>ERROR</td>\n",
       "      <td>358</td>\n",
       "    </tr>\n",
       "    <tr>\n",
       "      <th>1</th>\n",
       "      <td>9658812</td>\n",
       "      <td>iFoil</td>\n",
       "      <td>Démarrage machine</td>\n",
       "      <td>2022-11-02T08:43:46.921Z</td>\n",
       "      <td>INFO</td>\n",
       "      <td>358</td>\n",
       "    </tr>\n",
       "  </tbody>\n",
       "</table>\n",
       "</div>"
      ],
      "text/plain": [
       "        id source_events      message_events          timestamp_events  \\\n",
       "0  9658812           PLC   Démarrage machine  2022-11-02T08:43:46.845Z   \n",
       "1  9658812         iFoil   Démarrage machine  2022-11-02T08:43:46.921Z   \n",
       "\n",
       "  criticality_events identification_events  \n",
       "0              ERROR                   358  \n",
       "1               INFO                   358  "
      ]
     },
     "execution_count": 13,
     "metadata": {},
     "output_type": "execute_result"
    }
   ],
   "source": [
    "# creation d'un dataframe events (~20s)\n",
    "events_df = convert_col_to_df('events', metrics_df, {'id':[]})\n",
    "print(events_df.info())\n",
    "events_df.head(2)"
   ]
  },
  {
   "attachments": {},
   "cell_type": "markdown",
   "metadata": {},
   "source": [
    "##### Identification"
   ]
  },
  {
   "cell_type": "code",
   "execution_count": 14,
   "metadata": {},
   "outputs": [
    {
     "data": {
      "text/plain": [
       "array(['0', '311', '313', '320', '321', '322', '324', '325', '327', '328',\n",
       "       '329', '330', '331', '332', '333', '334', '343', '344', '345',\n",
       "       '349', '350', '351', '352', '354', '355', '356', '357', '358',\n",
       "       '359', '371', '372', '373', '374', '381', '382', '383', '386',\n",
       "       '387', '388', '389', '391', '392', '405', '406', '407', '408',\n",
       "       '417', '418', '430', '440', '444', '445', '446', '447', '451',\n",
       "       '452', '454', '465', '466', '476', '479',\n",
       "       'ICB communication error', 'Kernel_Error',\n",
       "       'RCB communication error', 'iFoil communication error'],\n",
       "      dtype=object)"
      ]
     },
     "execution_count": 14,
     "metadata": {},
     "output_type": "execute_result"
    }
   ],
   "source": [
    "# liste des codes d'identification\n",
    "identification_codes_list = events_df['identification_events'].unique()\n",
    "np.sort(identification_codes_list)"
   ]
  },
  {
   "cell_type": "code",
   "execution_count": 15,
   "metadata": {},
   "outputs": [
    {
     "data": {
      "text/plain": [
       "{'358': ' Démarrage machine',\n",
       " '407': ' Essuyage en cours',\n",
       " '417': ' Portes margeur ouvertes E-0417',\n",
       " '391': ' JV-Ti non prêt : impression impossible',\n",
       " '333': ' Plateau de têtes en mouvement',\n",
       " '406': ' Purge en cours',\n",
       " '440': ' Défaut remplissage réservoirs E-0440',\n",
       " '466': ' Bidon de vernis vide E-466',\n",
       " '330': ' En attente',\n",
       " '332': ' Disponible',\n",
       " '334': ' Préchauffage',\n",
       " '331': ' Impression en cours',\n",
       " '352': ' Double feuille détectée E-0352',\n",
       " '454': ' Bourrage Corona - E0454',\n",
       " '313': ' Ecart nb. feuilles demandées /nb. feuilles sorties',\n",
       " '445': \" Erreur plaque d'empreintes E-0445\",\n",
       " '350': ' Attente extinction machine',\n",
       " '311': ' Attente initialisation',\n",
       " '344': ' Manque papier',\n",
       " '383': ' Capot UV ouvert E-0383',\n",
       " '355': ' Bourrage : module séchage IR E-0355',\n",
       " '381': ' Capot après têtes ouvert E-0381',\n",
       " '405': ' Utilisation déconseillée des IRs: vitesse basse E-0405',\n",
       " '359': ' Mauvais positionnement des cellules plateau de têtes E-0359',\n",
       " 'Kernel_Error': 'No image for the sheet on RCB\\n',\n",
       " '387': ' Erreur positionnement plateau E-0387',\n",
       " '386': ' Erreur four UV E-0386',\n",
       " '444': ' Dépression trop faible E-0444',\n",
       " '343': ' Nettoyage tapis en cours',\n",
       " '372': ' Attente démarrage UV',\n",
       " '371': ' Démarrrage UV en cours',\n",
       " '356': ' Bourrage : module séchage UV E-0356',\n",
       " 'iFoil communication error': 'A communication error has occured with the iFoil at192.168.187.10:502',\n",
       " '479': \" Arrêt d'urgence table de marge E-0479\",\n",
       " '329': ' Relais de securité AU désactivé E-329',\n",
       " '321': \" Arrêt d'urgence impression E-0321\",\n",
       " '388': ' Bidon de nettoyant vide E-0388',\n",
       " '357': ' Bourrage : sortie sécheur E-0357',\n",
       " 'RCB communication error': 'A communication error has occured between Network card  and  RCB n°1',\n",
       " '320': ' Porte avant ouverte E-0320',\n",
       " '430': ' Erreur système de dégazage E-0430',\n",
       " '373': ' Extinction UV en cours',\n",
       " 'ICB communication error': 'A communication error has occured between RCB n° 1 and  ICB n°4',\n",
       " '447': ' Bidon de déchets plein',\n",
       " '349': ' Lampe UV 1000h de fonctionnement',\n",
       " '345': \" Consommable à 80% d'usure\",\n",
       " '324': ' Consommable(s) expiré(s) E-0324',\n",
       " '389': ' Erreur cateurs verticaux plateau de têtes E-0389',\n",
       " '382': ' Capot IR ouvert E-0382',\n",
       " '354': ' Bourrage : module impression E-0354',\n",
       " '325': ' Erreur de com. tapis impression E-0325',\n",
       " '465': ' Défaut communication transport E-0465',\n",
       " '374': ' Défaut LED UV E-0374',\n",
       " '327': ' Défaut carte moteur sys. nett. E-0327',\n",
       " '0': '',\n",
       " '322': \" Arret d'urgence sécheur E-0322\",\n",
       " '451': ' Erreur interlock Corona E-0451',\n",
       " '392': ' Remplissage réservoir éteint',\n",
       " '328': ' Porte arrière ouverte E-0328',\n",
       " '408': ' Nettoyage en cours',\n",
       " '452': ' Erreur postionnement bacs E-0452',\n",
       " '351': ' Defaut carte moteur table marge E-0351',\n",
       " '446': ' Erreur moteur tapis impression E-0446',\n",
       " '476': ' Défaut moteur Corona E-0476',\n",
       " '418': ' Erreur surcharge Corona E-0418'}"
      ]
     },
     "execution_count": 15,
     "metadata": {},
     "output_type": "execute_result"
    }
   ],
   "source": [
    "# liste des évènements uniques\n",
    "identification_dict = {}\n",
    "c = 1\n",
    "id_list = []\n",
    "for i in range(events_df.index.start, events_df.index.stop):\n",
    "    id = events_df.identification_events.loc[i]\n",
    "    if id not in id_list:\n",
    "        id_list.append(id)\n",
    "        identification_dict[id] = events_df.message_events.loc[i]\n",
    "        c += 1\n",
    "identification_dict"
   ]
  },
  {
   "attachments": {},
   "cell_type": "markdown",
   "metadata": {},
   "source": [
    "##### Source"
   ]
  },
  {
   "cell_type": "code",
   "execution_count": 16,
   "metadata": {},
   "outputs": [
    {
     "data": {
      "text/plain": [
       "array(['ICB n°1', 'ICB n°2', 'ICB n°3', 'ICB n°4', 'ICB n°5', 'ICB n°6',\n",
       "       'ICB n°7', 'ICB n°8', 'Kernel', 'PLC', 'RCB n°1', 'RCB n°2',\n",
       "       'iFoil'], dtype=object)"
      ]
     },
     "execution_count": 16,
     "metadata": {},
     "output_type": "execute_result"
    }
   ],
   "source": [
    "# liste des sources\n",
    "source_list = events_df['source_events'].unique()\n",
    "np.sort(source_list)"
   ]
  },
  {
   "attachments": {},
   "cell_type": "markdown",
   "metadata": {},
   "source": [
    "##### Criticality"
   ]
  },
  {
   "cell_type": "code",
   "execution_count": 17,
   "metadata": {},
   "outputs": [
    {
     "data": {
      "text/plain": [
       "array(['ERROR', 'INFO', 'WARNING'], dtype=object)"
      ]
     },
     "execution_count": 17,
     "metadata": {},
     "output_type": "execute_result"
    }
   ],
   "source": [
    "# liste des sources\n",
    "criticality_list = events_df['criticality_events'].unique()\n",
    "np.sort(criticality_list)"
   ]
  },
  {
   "attachments": {},
   "cell_type": "markdown",
   "metadata": {},
   "source": [
    "##### Events Json dict"
   ]
  },
  {
   "cell_type": "code",
   "execution_count": 18,
   "metadata": {},
   "outputs": [],
   "source": [
    "# on sauvegarde la liste des codes d'identification d'event\n",
    "with open(file=Path(save_json), mode=\"r+\", encoding='utf-8') as jsonFile:\n",
    "    try :\n",
    "        # chargement des données du fichier dans un dictionnaire\n",
    "        data = json.load(jsonFile)\n",
    "        # ajout des données dans le dictionnaire\n",
    "        data['identification'] = identification_dict\n",
    "        data['criticality'] = list(np.sort(criticality_list)),\n",
    "        data['source'] = list(np.sort(source_list))\n",
    "        # définit la position actuelle du fichier à l'offset\n",
    "        jsonFile.seek(0)\n",
    "        # écriture du dicitonnaire dans le fichier\n",
    "        json.dump(data, jsonFile, indent=4, ensure_ascii=False)\n",
    "    except ValueError as e:\n",
    "        print(e)\n",
    "    finally :\n",
    "        # fermeture du fichier\n",
    "        jsonFile.close()"
   ]
  },
  {
   "attachments": {},
   "cell_type": "markdown",
   "metadata": {},
   "source": [
    "#### 3) Colonne 'modules'"
   ]
  },
  {
   "cell_type": "code",
   "execution_count": 19,
   "metadata": {},
   "outputs": [
    {
     "name": "stdout",
     "output_type": "stream",
     "text": [
      "first :  <class 'dict'> {'sn': '', 'name': 'Print Engine 1', 'type': 'Varnish Printer', 'counters': [{'name': '3D Varnish Counter', 'value': 3359237}], 'generation': ''}\n",
      "<class 'pandas.core.frame.DataFrame'>\n",
      "RangeIndex: 1425810 entries, 0 to 1425809\n",
      "Data columns (total 6 columns):\n",
      " #   Column              Non-Null Count    Dtype \n",
      "---  ------              --------------    ----- \n",
      " 0   id                  1425810 non-null  int64 \n",
      " 1   sn_modules          1425810 non-null  object\n",
      " 2   name_modules        1425810 non-null  object\n",
      " 3   type_modules        1425810 non-null  object\n",
      " 4   counters_modules    1425810 non-null  object\n",
      " 5   generation_modules  1425810 non-null  object\n",
      "dtypes: int64(1), object(5)\n",
      "memory usage: 65.3+ MB\n",
      "None\n"
     ]
    },
    {
     "data": {
      "text/html": [
       "<div>\n",
       "<style scoped>\n",
       "    .dataframe tbody tr th:only-of-type {\n",
       "        vertical-align: middle;\n",
       "    }\n",
       "\n",
       "    .dataframe tbody tr th {\n",
       "        vertical-align: top;\n",
       "    }\n",
       "\n",
       "    .dataframe thead th {\n",
       "        text-align: right;\n",
       "    }\n",
       "</style>\n",
       "<table border=\"1\" class=\"dataframe\">\n",
       "  <thead>\n",
       "    <tr style=\"text-align: right;\">\n",
       "      <th></th>\n",
       "      <th>id</th>\n",
       "      <th>sn_modules</th>\n",
       "      <th>name_modules</th>\n",
       "      <th>type_modules</th>\n",
       "      <th>counters_modules</th>\n",
       "      <th>generation_modules</th>\n",
       "    </tr>\n",
       "  </thead>\n",
       "  <tbody>\n",
       "    <tr>\n",
       "      <th>0</th>\n",
       "      <td>9658802</td>\n",
       "      <td></td>\n",
       "      <td>Print Engine 1</td>\n",
       "      <td>Varnish Printer</td>\n",
       "      <td>[{'name': '3D Varnish Counter', 'value': 33592...</td>\n",
       "      <td></td>\n",
       "    </tr>\n",
       "    <tr>\n",
       "      <th>1</th>\n",
       "      <td>9658802</td>\n",
       "      <td></td>\n",
       "      <td>iFoil L</td>\n",
       "      <td>iFoil</td>\n",
       "      <td>[{'name': 'Total Pages Counter', 'value': 2541...</td>\n",
       "      <td>Gen. 2</td>\n",
       "    </tr>\n",
       "  </tbody>\n",
       "</table>\n",
       "</div>"
      ],
      "text/plain": [
       "        id sn_modules    name_modules     type_modules  \\\n",
       "0  9658802             Print Engine 1  Varnish Printer   \n",
       "1  9658802                    iFoil L            iFoil   \n",
       "\n",
       "                                    counters_modules generation_modules  \n",
       "0  [{'name': '3D Varnish Counter', 'value': 33592...                     \n",
       "1  [{'name': 'Total Pages Counter', 'value': 2541...             Gen. 2  "
      ]
     },
     "execution_count": 19,
     "metadata": {},
     "output_type": "execute_result"
    }
   ],
   "source": [
    "# creation d'un dataframe modules (~1m15s)\n",
    "modules_df = convert_col_to_df('modules', metrics_df, {'id':[]})\n",
    "# visualisation des données\n",
    "print(modules_df.info())\n",
    "modules_df.head(2)"
   ]
  },
  {
   "attachments": {},
   "cell_type": "markdown",
   "metadata": {},
   "source": [
    "##### Colonne counters"
   ]
  },
  {
   "cell_type": "code",
   "execution_count": 20,
   "metadata": {},
   "outputs": [
    {
     "name": "stdout",
     "output_type": "stream",
     "text": [
      "first :  <class 'dict'> {'name': '3D Varnish Counter', 'value': 3359237}\n",
      "<class 'pandas.core.frame.DataFrame'>\n",
      "RangeIndex: 2138715 entries, 0 to 2138714\n",
      "Data columns (total 4 columns):\n",
      " #   Column                  Dtype \n",
      "---  ------                  ----- \n",
      " 0   type_modules            object\n",
      " 1   id                      int64 \n",
      " 2   name_counters_modules   object\n",
      " 3   value_counters_modules  int64 \n",
      "dtypes: int64(2), object(2)\n",
      "memory usage: 65.3+ MB\n",
      "None\n"
     ]
    },
    {
     "data": {
      "text/html": [
       "<div>\n",
       "<style scoped>\n",
       "    .dataframe tbody tr th:only-of-type {\n",
       "        vertical-align: middle;\n",
       "    }\n",
       "\n",
       "    .dataframe tbody tr th {\n",
       "        vertical-align: top;\n",
       "    }\n",
       "\n",
       "    .dataframe thead th {\n",
       "        text-align: right;\n",
       "    }\n",
       "</style>\n",
       "<table border=\"1\" class=\"dataframe\">\n",
       "  <thead>\n",
       "    <tr style=\"text-align: right;\">\n",
       "      <th></th>\n",
       "      <th>type_modules</th>\n",
       "      <th>id</th>\n",
       "      <th>name_counters_modules</th>\n",
       "      <th>value_counters_modules</th>\n",
       "    </tr>\n",
       "  </thead>\n",
       "  <tbody>\n",
       "    <tr>\n",
       "      <th>0</th>\n",
       "      <td>Varnish Printer</td>\n",
       "      <td>9658802</td>\n",
       "      <td>3D Varnish Counter</td>\n",
       "      <td>3359237</td>\n",
       "    </tr>\n",
       "    <tr>\n",
       "      <th>1</th>\n",
       "      <td>iFoil</td>\n",
       "      <td>9658802</td>\n",
       "      <td>Total Pages Counter</td>\n",
       "      <td>25411</td>\n",
       "    </tr>\n",
       "  </tbody>\n",
       "</table>\n",
       "</div>"
      ],
      "text/plain": [
       "      type_modules       id name_counters_modules  value_counters_modules\n",
       "0  Varnish Printer  9658802    3D Varnish Counter                 3359237\n",
       "1            iFoil  9658802   Total Pages Counter                   25411"
      ]
     },
     "execution_count": 20,
     "metadata": {},
     "output_type": "execute_result"
    }
   ],
   "source": [
    "# creation d'un dataframe counters (~2m7s)\n",
    "counters_df = convert_col_to_df('counters_modules', modules_df, {'type_modules':[], 'id': []})\n",
    "# visualisation des données\n",
    "print(counters_df.info())\n",
    "counters_df.head(2)"
   ]
  },
  {
   "cell_type": "code",
   "execution_count": 21,
   "metadata": {},
   "outputs": [
    {
     "data": {
      "text/html": [
       "<div>\n",
       "<style scoped>\n",
       "    .dataframe tbody tr th:only-of-type {\n",
       "        vertical-align: middle;\n",
       "    }\n",
       "\n",
       "    .dataframe tbody tr th {\n",
       "        vertical-align: top;\n",
       "    }\n",
       "\n",
       "    .dataframe thead th {\n",
       "        text-align: right;\n",
       "    }\n",
       "</style>\n",
       "<table border=\"1\" class=\"dataframe\">\n",
       "  <thead>\n",
       "    <tr style=\"text-align: right;\">\n",
       "      <th></th>\n",
       "      <th>type_modules</th>\n",
       "      <th>id</th>\n",
       "      <th>name_counters_modules</th>\n",
       "      <th>value_counters_modules</th>\n",
       "    </tr>\n",
       "  </thead>\n",
       "  <tbody>\n",
       "    <tr>\n",
       "      <th>3</th>\n",
       "      <td>Varnish Printer</td>\n",
       "      <td>9658812</td>\n",
       "      <td>3D Varnish Counter</td>\n",
       "      <td>3359237</td>\n",
       "    </tr>\n",
       "    <tr>\n",
       "      <th>4</th>\n",
       "      <td>iFoil</td>\n",
       "      <td>9658812</td>\n",
       "      <td>Total Pages Counter</td>\n",
       "      <td>25411</td>\n",
       "    </tr>\n",
       "    <tr>\n",
       "      <th>5</th>\n",
       "      <td>iFoil</td>\n",
       "      <td>9658812</td>\n",
       "      <td>Foiled Pages Counter</td>\n",
       "      <td>670871</td>\n",
       "    </tr>\n",
       "  </tbody>\n",
       "</table>\n",
       "</div>"
      ],
      "text/plain": [
       "      type_modules       id name_counters_modules  value_counters_modules\n",
       "3  Varnish Printer  9658812    3D Varnish Counter                 3359237\n",
       "4            iFoil  9658812   Total Pages Counter                   25411\n",
       "5            iFoil  9658812  Foiled Pages Counter                  670871"
      ]
     },
     "execution_count": 21,
     "metadata": {},
     "output_type": "execute_result"
    }
   ],
   "source": [
    "# verification de l'intégrité des données\n",
    "counters_check_line = counters_df[counters_df.id == check_id]\n",
    "counters_check_line"
   ]
  },
  {
   "attachments": {},
   "cell_type": "markdown",
   "metadata": {},
   "source": [
    "### c) Fusion des dataframes des colonnes fractionnées"
   ]
  },
  {
   "attachments": {},
   "cell_type": "markdown",
   "metadata": {},
   "source": [
    "#### 1) Merge modules et counters"
   ]
  },
  {
   "cell_type": "code",
   "execution_count": 22,
   "metadata": {},
   "outputs": [
    {
     "data": {
      "text/html": [
       "<div>\n",
       "<style scoped>\n",
       "    .dataframe tbody tr th:only-of-type {\n",
       "        vertical-align: middle;\n",
       "    }\n",
       "\n",
       "    .dataframe tbody tr th {\n",
       "        vertical-align: top;\n",
       "    }\n",
       "\n",
       "    .dataframe thead th {\n",
       "        text-align: right;\n",
       "    }\n",
       "</style>\n",
       "<table border=\"1\" class=\"dataframe\">\n",
       "  <thead>\n",
       "    <tr style=\"text-align: right;\">\n",
       "      <th></th>\n",
       "      <th>id</th>\n",
       "      <th>sn_modules</th>\n",
       "      <th>name_modules</th>\n",
       "      <th>type_modules</th>\n",
       "      <th>generation_modules</th>\n",
       "      <th>name_counters_modules</th>\n",
       "      <th>value_counters_modules</th>\n",
       "    </tr>\n",
       "  </thead>\n",
       "  <tbody>\n",
       "    <tr>\n",
       "      <th>3</th>\n",
       "      <td>9658812</td>\n",
       "      <td></td>\n",
       "      <td>Print Engine 1</td>\n",
       "      <td>Varnish Printer</td>\n",
       "      <td></td>\n",
       "      <td>3D Varnish Counter</td>\n",
       "      <td>3359237</td>\n",
       "    </tr>\n",
       "    <tr>\n",
       "      <th>4</th>\n",
       "      <td>9658812</td>\n",
       "      <td></td>\n",
       "      <td>iFoil L</td>\n",
       "      <td>iFoil</td>\n",
       "      <td>Gen. 2</td>\n",
       "      <td>Total Pages Counter</td>\n",
       "      <td>25411</td>\n",
       "    </tr>\n",
       "    <tr>\n",
       "      <th>5</th>\n",
       "      <td>9658812</td>\n",
       "      <td></td>\n",
       "      <td>iFoil L</td>\n",
       "      <td>iFoil</td>\n",
       "      <td>Gen. 2</td>\n",
       "      <td>Foiled Pages Counter</td>\n",
       "      <td>670871</td>\n",
       "    </tr>\n",
       "  </tbody>\n",
       "</table>\n",
       "</div>"
      ],
      "text/plain": [
       "        id sn_modules    name_modules     type_modules generation_modules  \\\n",
       "3  9658812             Print Engine 1  Varnish Printer                      \n",
       "4  9658812                    iFoil L            iFoil             Gen. 2   \n",
       "5  9658812                    iFoil L            iFoil             Gen. 2   \n",
       "\n",
       "  name_counters_modules  value_counters_modules  \n",
       "3    3D Varnish Counter                 3359237  \n",
       "4   Total Pages Counter                   25411  \n",
       "5  Foiled Pages Counter                  670871  "
      ]
     },
     "execution_count": 22,
     "metadata": {},
     "output_type": "execute_result"
    }
   ],
   "source": [
    "# fusion du df modue et du df counter\n",
    "merge_modules_df = pd.merge(modules_df, counters_df, on=['id','type_modules'])\n",
    "# suppression de la colonne fractionnées\n",
    "merge_modules_df = merge_modules_df.drop(['counters_modules'], axis=1)\n",
    "# verification de l'intégrité des données\n",
    "module_check_line = merge_modules_df[merge_modules_df.id == check_id]\n",
    "module_check_line"
   ]
  },
  {
   "cell_type": "code",
   "execution_count": 23,
   "metadata": {},
   "outputs": [
    {
     "name": "stdout",
     "output_type": "stream",
     "text": [
      "<class 'pandas.core.frame.DataFrame'>\n",
      "Int64Index: 2138715 entries, 0 to 2138714\n",
      "Data columns (total 7 columns):\n",
      " #   Column                  Dtype \n",
      "---  ------                  ----- \n",
      " 0   id                      int64 \n",
      " 1   sn_modules              object\n",
      " 2   name_modules            object\n",
      " 3   type_modules            object\n",
      " 4   generation_modules      object\n",
      " 5   name_counters_modules   object\n",
      " 6   value_counters_modules  int64 \n",
      "dtypes: int64(2), object(5)\n",
      "memory usage: 130.5+ MB\n"
     ]
    }
   ],
   "source": [
    "merge_modules_df.info()"
   ]
  },
  {
   "attachments": {},
   "cell_type": "markdown",
   "metadata": {},
   "source": [
    "#### 2) Merge operators"
   ]
  },
  {
   "cell_type": "code",
   "execution_count": 24,
   "metadata": {},
   "outputs": [
    {
     "data": {
      "text/html": [
       "<div>\n",
       "<style scoped>\n",
       "    .dataframe tbody tr th:only-of-type {\n",
       "        vertical-align: middle;\n",
       "    }\n",
       "\n",
       "    .dataframe tbody tr th {\n",
       "        vertical-align: top;\n",
       "    }\n",
       "\n",
       "    .dataframe thead th {\n",
       "        text-align: right;\n",
       "    }\n",
       "</style>\n",
       "<table border=\"1\" class=\"dataframe\">\n",
       "  <thead>\n",
       "    <tr style=\"text-align: right;\">\n",
       "      <th></th>\n",
       "      <th>id</th>\n",
       "      <th>sn_modules</th>\n",
       "      <th>name_modules</th>\n",
       "      <th>type_modules</th>\n",
       "      <th>generation_modules</th>\n",
       "      <th>name_counters_modules</th>\n",
       "      <th>value_counters_modules</th>\n",
       "      <th>name_connected_operators</th>\n",
       "      <th>level_connected_operators</th>\n",
       "    </tr>\n",
       "  </thead>\n",
       "  <tbody>\n",
       "    <tr>\n",
       "      <th>3</th>\n",
       "      <td>9658812</td>\n",
       "      <td></td>\n",
       "      <td>Print Engine 1</td>\n",
       "      <td>Varnish Printer</td>\n",
       "      <td></td>\n",
       "      <td>3D Varnish Counter</td>\n",
       "      <td>3359237</td>\n",
       "      <td>User</td>\n",
       "      <td>Operator</td>\n",
       "    </tr>\n",
       "    <tr>\n",
       "      <th>4</th>\n",
       "      <td>9658812</td>\n",
       "      <td></td>\n",
       "      <td>iFoil L</td>\n",
       "      <td>iFoil</td>\n",
       "      <td>Gen. 2</td>\n",
       "      <td>Total Pages Counter</td>\n",
       "      <td>25411</td>\n",
       "      <td>User</td>\n",
       "      <td>Operator</td>\n",
       "    </tr>\n",
       "    <tr>\n",
       "      <th>5</th>\n",
       "      <td>9658812</td>\n",
       "      <td></td>\n",
       "      <td>iFoil L</td>\n",
       "      <td>iFoil</td>\n",
       "      <td>Gen. 2</td>\n",
       "      <td>Foiled Pages Counter</td>\n",
       "      <td>670871</td>\n",
       "      <td>User</td>\n",
       "      <td>Operator</td>\n",
       "    </tr>\n",
       "  </tbody>\n",
       "</table>\n",
       "</div>"
      ],
      "text/plain": [
       "        id sn_modules    name_modules     type_modules generation_modules  \\\n",
       "3  9658812             Print Engine 1  Varnish Printer                      \n",
       "4  9658812                    iFoil L            iFoil             Gen. 2   \n",
       "5  9658812                    iFoil L            iFoil             Gen. 2   \n",
       "\n",
       "  name_counters_modules  value_counters_modules name_connected_operators  \\\n",
       "3    3D Varnish Counter                 3359237                     User   \n",
       "4   Total Pages Counter                   25411                     User   \n",
       "5  Foiled Pages Counter                  670871                     User   \n",
       "\n",
       "  level_connected_operators  \n",
       "3                  Operator  \n",
       "4                  Operator  \n",
       "5                  Operator  "
      ]
     },
     "execution_count": 24,
     "metadata": {},
     "output_type": "execute_result"
    }
   ],
   "source": [
    "# on merge avec le df operators en fonction de l'id de message\n",
    "merge_operators_df = pd.merge(merge_modules_df, connected_operators_df, on='id', suffixes=['','_op'])\n",
    "# verification de l'intégrité des données\n",
    "op_check_line = merge_operators_df[merge_operators_df.id == check_id]\n",
    "op_check_line"
   ]
  },
  {
   "attachments": {},
   "cell_type": "markdown",
   "metadata": {},
   "source": [
    "#### 3) Merge events"
   ]
  },
  {
   "cell_type": "code",
   "execution_count": 25,
   "metadata": {},
   "outputs": [
    {
     "data": {
      "text/html": [
       "<div>\n",
       "<style scoped>\n",
       "    .dataframe tbody tr th:only-of-type {\n",
       "        vertical-align: middle;\n",
       "    }\n",
       "\n",
       "    .dataframe tbody tr th {\n",
       "        vertical-align: top;\n",
       "    }\n",
       "\n",
       "    .dataframe thead th {\n",
       "        text-align: right;\n",
       "    }\n",
       "</style>\n",
       "<table border=\"1\" class=\"dataframe\">\n",
       "  <thead>\n",
       "    <tr style=\"text-align: right;\">\n",
       "      <th></th>\n",
       "      <th>id</th>\n",
       "      <th>source_events</th>\n",
       "      <th>message_events</th>\n",
       "      <th>timestamp_events</th>\n",
       "      <th>criticality_events</th>\n",
       "      <th>identification_events</th>\n",
       "      <th>sn_modules</th>\n",
       "      <th>name_modules</th>\n",
       "      <th>type_modules</th>\n",
       "      <th>generation_modules</th>\n",
       "      <th>name_counters_modules</th>\n",
       "      <th>value_counters_modules</th>\n",
       "      <th>name_connected_operators</th>\n",
       "      <th>level_connected_operators</th>\n",
       "    </tr>\n",
       "  </thead>\n",
       "  <tbody>\n",
       "    <tr>\n",
       "      <th>0</th>\n",
       "      <td>9658812</td>\n",
       "      <td>iFoil</td>\n",
       "      <td>Démarrage machine</td>\n",
       "      <td>2022-11-02T08:43:46.921Z</td>\n",
       "      <td>INFO</td>\n",
       "      <td>358</td>\n",
       "      <td></td>\n",
       "      <td>iFoil L</td>\n",
       "      <td>iFoil</td>\n",
       "      <td>Gen. 2</td>\n",
       "      <td>Total Pages Counter</td>\n",
       "      <td>25411</td>\n",
       "      <td>User</td>\n",
       "      <td>Operator</td>\n",
       "    </tr>\n",
       "    <tr>\n",
       "      <th>1</th>\n",
       "      <td>9658812</td>\n",
       "      <td>iFoil</td>\n",
       "      <td>Démarrage machine</td>\n",
       "      <td>2022-11-02T08:43:46.921Z</td>\n",
       "      <td>INFO</td>\n",
       "      <td>358</td>\n",
       "      <td></td>\n",
       "      <td>iFoil L</td>\n",
       "      <td>iFoil</td>\n",
       "      <td>Gen. 2</td>\n",
       "      <td>Foiled Pages Counter</td>\n",
       "      <td>670871</td>\n",
       "      <td>User</td>\n",
       "      <td>Operator</td>\n",
       "    </tr>\n",
       "  </tbody>\n",
       "</table>\n",
       "</div>"
      ],
      "text/plain": [
       "        id source_events      message_events          timestamp_events  \\\n",
       "0  9658812         iFoil   Démarrage machine  2022-11-02T08:43:46.921Z   \n",
       "1  9658812         iFoil   Démarrage machine  2022-11-02T08:43:46.921Z   \n",
       "\n",
       "  criticality_events identification_events sn_modules name_modules  \\\n",
       "0               INFO                   358                 iFoil L   \n",
       "1               INFO                   358                 iFoil L   \n",
       "\n",
       "  type_modules generation_modules name_counters_modules  \\\n",
       "0        iFoil             Gen. 2   Total Pages Counter   \n",
       "1        iFoil             Gen. 2  Foiled Pages Counter   \n",
       "\n",
       "   value_counters_modules name_connected_operators level_connected_operators  \n",
       "0                   25411                     User                  Operator  \n",
       "1                  670871                     User                  Operator  "
      ]
     },
     "execution_count": 25,
     "metadata": {},
     "output_type": "execute_result"
    }
   ],
   "source": [
    "# on crée un df, à partir du df events, ne contenant que les lignes ayant un évènement de source Ifoil\n",
    "events_ifoil = events_df[events_df.source_events == 'iFoil']\n",
    "# on crée un df, à partir du df merge, ne contenant que les lignes ayant un module de type Ifoil\n",
    "module_ifoil = merge_operators_df[merge_operators_df.type_modules == 'iFoil']\n",
    "# on merge les deux df des lignes Ifoil en focntion de l'id de message\n",
    "merge_ifoil_df = pd.merge(events_ifoil, module_ifoil, how='outer', on='id', suffixes=['_event','_module'])\n",
    "# verification de l'intégrité des données\n",
    "events_check_line = merge_ifoil_df[merge_ifoil_df.id == check_id]\n",
    "events_check_line"
   ]
  },
  {
   "attachments": {},
   "cell_type": "markdown",
   "metadata": {},
   "source": [
    "Comme il y avait 2 counters ('Total Pages Counter' et 'Foiled Pages Counter') pour le module de type 'Ifoil', nous avons bien 2 lignes."
   ]
  },
  {
   "cell_type": "code",
   "execution_count": 26,
   "metadata": {},
   "outputs": [
    {
     "data": {
      "text/html": [
       "<div>\n",
       "<style scoped>\n",
       "    .dataframe tbody tr th:only-of-type {\n",
       "        vertical-align: middle;\n",
       "    }\n",
       "\n",
       "    .dataframe tbody tr th {\n",
       "        vertical-align: top;\n",
       "    }\n",
       "\n",
       "    .dataframe thead th {\n",
       "        text-align: right;\n",
       "    }\n",
       "</style>\n",
       "<table border=\"1\" class=\"dataframe\">\n",
       "  <thead>\n",
       "    <tr style=\"text-align: right;\">\n",
       "      <th></th>\n",
       "      <th>id</th>\n",
       "      <th>source_events</th>\n",
       "      <th>message_events</th>\n",
       "      <th>timestamp_events</th>\n",
       "      <th>criticality_events</th>\n",
       "      <th>identification_events</th>\n",
       "      <th>sn_modules</th>\n",
       "      <th>name_modules</th>\n",
       "      <th>type_modules</th>\n",
       "      <th>generation_modules</th>\n",
       "      <th>name_counters_modules</th>\n",
       "      <th>value_counters_modules</th>\n",
       "      <th>name_connected_operators</th>\n",
       "      <th>level_connected_operators</th>\n",
       "    </tr>\n",
       "  </thead>\n",
       "  <tbody>\n",
       "    <tr>\n",
       "      <th>0</th>\n",
       "      <td>9658812</td>\n",
       "      <td>PLC</td>\n",
       "      <td>Démarrage machine</td>\n",
       "      <td>2022-11-02T08:43:46.845Z</td>\n",
       "      <td>ERROR</td>\n",
       "      <td>358</td>\n",
       "      <td></td>\n",
       "      <td>Print Engine 1</td>\n",
       "      <td>Varnish Printer</td>\n",
       "      <td></td>\n",
       "      <td>3D Varnish Counter</td>\n",
       "      <td>3359237</td>\n",
       "      <td>User</td>\n",
       "      <td>Operator</td>\n",
       "    </tr>\n",
       "  </tbody>\n",
       "</table>\n",
       "</div>"
      ],
      "text/plain": [
       "        id source_events      message_events          timestamp_events  \\\n",
       "0  9658812           PLC   Démarrage machine  2022-11-02T08:43:46.845Z   \n",
       "\n",
       "  criticality_events identification_events sn_modules    name_modules  \\\n",
       "0              ERROR                   358             Print Engine 1   \n",
       "\n",
       "      type_modules generation_modules name_counters_modules  \\\n",
       "0  Varnish Printer                       3D Varnish Counter   \n",
       "\n",
       "   value_counters_modules name_connected_operators level_connected_operators  \n",
       "0                 3359237                     User                  Operator  "
      ]
     },
     "execution_count": 26,
     "metadata": {},
     "output_type": "execute_result"
    }
   ],
   "source": [
    "# on crée un df, à partir du df events, ne contenant que les lignes ayant un évènement de source Ifoil\n",
    "events_no_ifoil = events_df[events_df.source_events != 'iFoil']\n",
    "# on crée un df, à partir du df merge, ne contenant que les lignes ayant un module de type Ifoil\n",
    "module_no_ifoil = merge_operators_df[merge_operators_df.type_modules != 'iFoil']\n",
    "# on merge les deux df des lignes Ifoil en focntion de l'id de message\n",
    "merge_no_ifoil_df = pd.merge(events_no_ifoil, module_no_ifoil, how='outer', on='id', suffixes=['_event','_module'])\n",
    "# verification de l'intégrité des données\n",
    "events_check_line = merge_no_ifoil_df[merge_no_ifoil_df.id == check_id]\n",
    "events_check_line"
   ]
  },
  {
   "attachments": {},
   "cell_type": "markdown",
   "metadata": {},
   "source": [
    "##### Concaténation"
   ]
  },
  {
   "cell_type": "code",
   "execution_count": 27,
   "metadata": {},
   "outputs": [
    {
     "data": {
      "text/html": [
       "<div>\n",
       "<style scoped>\n",
       "    .dataframe tbody tr th:only-of-type {\n",
       "        vertical-align: middle;\n",
       "    }\n",
       "\n",
       "    .dataframe tbody tr th {\n",
       "        vertical-align: top;\n",
       "    }\n",
       "\n",
       "    .dataframe thead th {\n",
       "        text-align: right;\n",
       "    }\n",
       "</style>\n",
       "<table border=\"1\" class=\"dataframe\">\n",
       "  <thead>\n",
       "    <tr style=\"text-align: right;\">\n",
       "      <th></th>\n",
       "      <th>id</th>\n",
       "      <th>source_events</th>\n",
       "      <th>message_events</th>\n",
       "      <th>timestamp_events</th>\n",
       "      <th>criticality_events</th>\n",
       "      <th>identification_events</th>\n",
       "      <th>sn_modules</th>\n",
       "      <th>name_modules</th>\n",
       "      <th>type_modules</th>\n",
       "      <th>generation_modules</th>\n",
       "      <th>name_counters_modules</th>\n",
       "      <th>value_counters_modules</th>\n",
       "      <th>name_connected_operators</th>\n",
       "      <th>level_connected_operators</th>\n",
       "    </tr>\n",
       "  </thead>\n",
       "  <tbody>\n",
       "    <tr>\n",
       "      <th>0</th>\n",
       "      <td>9658812</td>\n",
       "      <td>iFoil</td>\n",
       "      <td>Démarrage machine</td>\n",
       "      <td>2022-11-02T08:43:46.921Z</td>\n",
       "      <td>INFO</td>\n",
       "      <td>358</td>\n",
       "      <td></td>\n",
       "      <td>iFoil L</td>\n",
       "      <td>iFoil</td>\n",
       "      <td>Gen. 2</td>\n",
       "      <td>Total Pages Counter</td>\n",
       "      <td>25411</td>\n",
       "      <td>User</td>\n",
       "      <td>Operator</td>\n",
       "    </tr>\n",
       "    <tr>\n",
       "      <th>1</th>\n",
       "      <td>9658812</td>\n",
       "      <td>iFoil</td>\n",
       "      <td>Démarrage machine</td>\n",
       "      <td>2022-11-02T08:43:46.921Z</td>\n",
       "      <td>INFO</td>\n",
       "      <td>358</td>\n",
       "      <td></td>\n",
       "      <td>iFoil L</td>\n",
       "      <td>iFoil</td>\n",
       "      <td>Gen. 2</td>\n",
       "      <td>Foiled Pages Counter</td>\n",
       "      <td>670871</td>\n",
       "      <td>User</td>\n",
       "      <td>Operator</td>\n",
       "    </tr>\n",
       "    <tr>\n",
       "      <th>0</th>\n",
       "      <td>9658812</td>\n",
       "      <td>PLC</td>\n",
       "      <td>Démarrage machine</td>\n",
       "      <td>2022-11-02T08:43:46.845Z</td>\n",
       "      <td>ERROR</td>\n",
       "      <td>358</td>\n",
       "      <td></td>\n",
       "      <td>Print Engine 1</td>\n",
       "      <td>Varnish Printer</td>\n",
       "      <td></td>\n",
       "      <td>3D Varnish Counter</td>\n",
       "      <td>3359237</td>\n",
       "      <td>User</td>\n",
       "      <td>Operator</td>\n",
       "    </tr>\n",
       "  </tbody>\n",
       "</table>\n",
       "</div>"
      ],
      "text/plain": [
       "        id source_events      message_events          timestamp_events  \\\n",
       "0  9658812         iFoil   Démarrage machine  2022-11-02T08:43:46.921Z   \n",
       "1  9658812         iFoil   Démarrage machine  2022-11-02T08:43:46.921Z   \n",
       "0  9658812           PLC   Démarrage machine  2022-11-02T08:43:46.845Z   \n",
       "\n",
       "  criticality_events identification_events sn_modules    name_modules  \\\n",
       "0               INFO                   358                    iFoil L   \n",
       "1               INFO                   358                    iFoil L   \n",
       "0              ERROR                   358             Print Engine 1   \n",
       "\n",
       "      type_modules generation_modules name_counters_modules  \\\n",
       "0            iFoil             Gen. 2   Total Pages Counter   \n",
       "1            iFoil             Gen. 2  Foiled Pages Counter   \n",
       "0  Varnish Printer                       3D Varnish Counter   \n",
       "\n",
       "   value_counters_modules name_connected_operators level_connected_operators  \n",
       "0                   25411                     User                  Operator  \n",
       "1                  670871                     User                  Operator  \n",
       "0                 3359237                     User                  Operator  "
      ]
     },
     "execution_count": 27,
     "metadata": {},
     "output_type": "execute_result"
    }
   ],
   "source": [
    "# on concatene les df ifoi et no_ifoil pour ne perdre aucune valeur\n",
    "concat_events_df = pd.concat([merge_ifoil_df, merge_no_ifoil_df])\n",
    "# verification de l'intégrité des données\n",
    "events_check_line = concat_events_df[concat_events_df.id == check_id]\n",
    "events_check_line"
   ]
  },
  {
   "cell_type": "code",
   "execution_count": 28,
   "metadata": {},
   "outputs": [
    {
     "name": "stdout",
     "output_type": "stream",
     "text": [
      "<class 'pandas.core.frame.DataFrame'>\n",
      "Int64Index: 2182421 entries, 0 to 744196\n",
      "Data columns (total 14 columns):\n",
      " #   Column                     Dtype \n",
      "---  ------                     ----- \n",
      " 0   id                         int64 \n",
      " 1   source_events              object\n",
      " 2   message_events             object\n",
      " 3   timestamp_events           object\n",
      " 4   criticality_events         object\n",
      " 5   identification_events      object\n",
      " 6   sn_modules                 object\n",
      " 7   name_modules               object\n",
      " 8   type_modules               object\n",
      " 9   generation_modules         object\n",
      " 10  name_counters_modules      object\n",
      " 11  value_counters_modules     int64 \n",
      " 12  name_connected_operators   object\n",
      " 13  level_connected_operators  object\n",
      "dtypes: int64(2), object(12)\n",
      "memory usage: 249.8+ MB\n"
     ]
    }
   ],
   "source": [
    "concat_events_df.info()"
   ]
  },
  {
   "attachments": {},
   "cell_type": "markdown",
   "metadata": {},
   "source": [
    "#### 4) Merge metrics"
   ]
  },
  {
   "cell_type": "code",
   "execution_count": 29,
   "metadata": {},
   "outputs": [
    {
     "data": {
      "text/html": [
       "<div>\n",
       "<style scoped>\n",
       "    .dataframe tbody tr th:only-of-type {\n",
       "        vertical-align: middle;\n",
       "    }\n",
       "\n",
       "    .dataframe tbody tr th {\n",
       "        vertical-align: top;\n",
       "    }\n",
       "\n",
       "    .dataframe thead th {\n",
       "        text-align: right;\n",
       "    }\n",
       "</style>\n",
       "<table border=\"1\" class=\"dataframe\">\n",
       "  <thead>\n",
       "    <tr style=\"text-align: right;\">\n",
       "      <th></th>\n",
       "      <th>id</th>\n",
       "      <th>source_events</th>\n",
       "      <th>message_events</th>\n",
       "      <th>timestamp_events</th>\n",
       "      <th>criticality_events</th>\n",
       "      <th>identification_events</th>\n",
       "      <th>sn_modules</th>\n",
       "      <th>name_modules</th>\n",
       "      <th>type_modules</th>\n",
       "      <th>generation_modules</th>\n",
       "      <th>name_counters_modules</th>\n",
       "      <th>value_counters_modules</th>\n",
       "      <th>name_connected_operators</th>\n",
       "      <th>level_connected_operators</th>\n",
       "      <th>status</th>\n",
       "      <th>created_at</th>\n",
       "      <th>varnishLevelsTargetvolume</th>\n",
       "      <th>varnishLevelsTotalvolume</th>\n",
       "    </tr>\n",
       "  </thead>\n",
       "  <tbody>\n",
       "    <tr>\n",
       "      <th>0</th>\n",
       "      <td>9658812</td>\n",
       "      <td>iFoil</td>\n",
       "      <td>Démarrage machine</td>\n",
       "      <td>2022-11-02T08:43:46.921Z</td>\n",
       "      <td>INFO</td>\n",
       "      <td>358</td>\n",
       "      <td></td>\n",
       "      <td>iFoil L</td>\n",
       "      <td>iFoil</td>\n",
       "      <td>Gen. 2</td>\n",
       "      <td>Total Pages Counter</td>\n",
       "      <td>25411</td>\n",
       "      <td>User</td>\n",
       "      <td>Operator</td>\n",
       "      <td>ERR</td>\n",
       "      <td>2022-11-02 08:43:55.376000</td>\n",
       "      <td>12766.336997</td>\n",
       "      <td>18000</td>\n",
       "    </tr>\n",
       "    <tr>\n",
       "      <th>1</th>\n",
       "      <td>9658812</td>\n",
       "      <td>iFoil</td>\n",
       "      <td>Démarrage machine</td>\n",
       "      <td>2022-11-02T08:43:46.921Z</td>\n",
       "      <td>INFO</td>\n",
       "      <td>358</td>\n",
       "      <td></td>\n",
       "      <td>iFoil L</td>\n",
       "      <td>iFoil</td>\n",
       "      <td>Gen. 2</td>\n",
       "      <td>Foiled Pages Counter</td>\n",
       "      <td>670871</td>\n",
       "      <td>User</td>\n",
       "      <td>Operator</td>\n",
       "      <td>ERR</td>\n",
       "      <td>2022-11-02 08:43:55.376000</td>\n",
       "      <td>12766.336997</td>\n",
       "      <td>18000</td>\n",
       "    </tr>\n",
       "    <tr>\n",
       "      <th>2</th>\n",
       "      <td>9658812</td>\n",
       "      <td>PLC</td>\n",
       "      <td>Démarrage machine</td>\n",
       "      <td>2022-11-02T08:43:46.845Z</td>\n",
       "      <td>ERROR</td>\n",
       "      <td>358</td>\n",
       "      <td></td>\n",
       "      <td>Print Engine 1</td>\n",
       "      <td>Varnish Printer</td>\n",
       "      <td></td>\n",
       "      <td>3D Varnish Counter</td>\n",
       "      <td>3359237</td>\n",
       "      <td>User</td>\n",
       "      <td>Operator</td>\n",
       "      <td>ERR</td>\n",
       "      <td>2022-11-02 08:43:55.376000</td>\n",
       "      <td>12766.336997</td>\n",
       "      <td>18000</td>\n",
       "    </tr>\n",
       "  </tbody>\n",
       "</table>\n",
       "</div>"
      ],
      "text/plain": [
       "        id source_events      message_events          timestamp_events  \\\n",
       "0  9658812         iFoil   Démarrage machine  2022-11-02T08:43:46.921Z   \n",
       "1  9658812         iFoil   Démarrage machine  2022-11-02T08:43:46.921Z   \n",
       "2  9658812           PLC   Démarrage machine  2022-11-02T08:43:46.845Z   \n",
       "\n",
       "  criticality_events identification_events sn_modules    name_modules  \\\n",
       "0               INFO                   358                    iFoil L   \n",
       "1               INFO                   358                    iFoil L   \n",
       "2              ERROR                   358             Print Engine 1   \n",
       "\n",
       "      type_modules generation_modules name_counters_modules  \\\n",
       "0            iFoil             Gen. 2   Total Pages Counter   \n",
       "1            iFoil             Gen. 2  Foiled Pages Counter   \n",
       "2  Varnish Printer                       3D Varnish Counter   \n",
       "\n",
       "   value_counters_modules name_connected_operators level_connected_operators  \\\n",
       "0                   25411                     User                  Operator   \n",
       "1                  670871                     User                  Operator   \n",
       "2                 3359237                     User                  Operator   \n",
       "\n",
       "  status                  created_at  varnishLevelsTargetvolume  \\\n",
       "0    ERR  2022-11-02 08:43:55.376000               12766.336997   \n",
       "1    ERR  2022-11-02 08:43:55.376000               12766.336997   \n",
       "2    ERR  2022-11-02 08:43:55.376000               12766.336997   \n",
       "\n",
       "   varnishLevelsTotalvolume  \n",
       "0                     18000  \n",
       "1                     18000  \n",
       "2                     18000  "
      ]
     },
     "execution_count": 29,
     "metadata": {},
     "output_type": "execute_result"
    }
   ],
   "source": [
    "# dernier merge de toutes les colonnes\n",
    "merge_metrics_df = pd.merge(concat_events_df, metrics_df, how='outer', on='id', suffixes=['','_metrics'])\n",
    "# suppression des colonnes fractionnées\n",
    "merge_metrics_df = merge_metrics_df.drop(['connected_operators','modules','events'], axis=1)\n",
    "# verification de l'intégrité des données\n",
    "metrics_check_line = merge_metrics_df[merge_metrics_df.id == check_id]\n",
    "metrics_check_line"
   ]
  },
  {
   "cell_type": "code",
   "execution_count": 30,
   "metadata": {},
   "outputs": [
    {
     "name": "stdout",
     "output_type": "stream",
     "text": [
      "<class 'pandas.core.frame.DataFrame'>\n",
      "Int64Index: 2182421 entries, 0 to 2182420\n",
      "Data columns (total 18 columns):\n",
      " #   Column                     Dtype  \n",
      "---  ------                     -----  \n",
      " 0   id                         int64  \n",
      " 1   source_events              object \n",
      " 2   message_events             object \n",
      " 3   timestamp_events           object \n",
      " 4   criticality_events         object \n",
      " 5   identification_events      object \n",
      " 6   sn_modules                 object \n",
      " 7   name_modules               object \n",
      " 8   type_modules               object \n",
      " 9   generation_modules         object \n",
      " 10  name_counters_modules      object \n",
      " 11  value_counters_modules     int64  \n",
      " 12  name_connected_operators   object \n",
      " 13  level_connected_operators  object \n",
      " 14  status                     object \n",
      " 15  created_at                 object \n",
      " 16  varnishLevelsTargetvolume  float64\n",
      " 17  varnishLevelsTotalvolume   int64  \n",
      "dtypes: float64(1), int64(3), object(14)\n",
      "memory usage: 316.4+ MB\n"
     ]
    }
   ],
   "source": [
    "merge_metrics_df.info()"
   ]
  },
  {
   "attachments": {},
   "cell_type": "markdown",
   "metadata": {},
   "source": [
    "## 2. Outout csv"
   ]
  },
  {
   "cell_type": "code",
   "execution_count": 31,
   "metadata": {},
   "outputs": [],
   "source": [
    "merge_metrics_df.to_csv(path_or_buf=Path(save_csv))"
   ]
  }
 ],
 "metadata": {
  "kernelspec": {
   "display_name": ".venv",
   "language": "python",
   "name": "python3"
  },
  "language_info": {
   "codemirror_mode": {
    "name": "ipython",
    "version": 3
   },
   "file_extension": ".py",
   "mimetype": "text/x-python",
   "name": "python",
   "nbconvert_exporter": "python",
   "pygments_lexer": "ipython3",
   "version": "3.10.11"
  },
  "orig_nbformat": 4,
  "vscode": {
   "interpreter": {
    "hash": "2315c9af7dedaeb0b2bf51504304a927c605b523f04dad98936c50abe500b408"
   }
  }
 },
 "nbformat": 4,
 "nbformat_minor": 2
}
