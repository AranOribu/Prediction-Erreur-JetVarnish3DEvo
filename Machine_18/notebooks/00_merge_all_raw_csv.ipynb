{
 "cells": [
  {
   "cell_type": "code",
   "execution_count": 1,
   "metadata": {},
   "outputs": [],
   "source": [
    "import os, json, ast\n",
    "import pandas as pd\n",
    "import numpy as np\n",
    "from datetime import datetime\n",
    "from pathlib import Path"
   ]
  },
  {
   "cell_type": "code",
   "execution_count": 4,
   "metadata": {},
   "outputs": [
    {
     "name": "stdout",
     "output_type": "stream",
     "text": [
      "<class 'pandas.core.frame.DataFrame'>\n",
      "RangeIndex: 51566 entries, 0 to 51565\n",
      "Data columns (total 5 columns):\n",
      " #   Column       Non-Null Count  Dtype \n",
      "---  ------       --------------  ----- \n",
      " 0   id           51566 non-null  int64 \n",
      " 1   payload      51566 non-null  object\n",
      " 2   received_at  51566 non-null  object\n",
      " 3   machine_id   51566 non-null  int64 \n",
      " 4   tag          51566 non-null  object\n",
      "dtypes: int64(2), object(3)\n",
      "memory usage: 2.0+ MB\n"
     ]
    }
   ],
   "source": [
    "# création d'un dataframe à partir du csv de données\n",
    "job_events_df = pd.read_csv(\"../data/raw_unmerged/job_events_18-inf.csv\")\n",
    "job_events_df_sup = pd.read_csv(\"../data/raw_unmerged/job_events_18-sup.csv\")\n",
    "job_events_df.reset_index(level=None, drop=True, inplace=True, col_level=0, col_fill='')\n",
    "job_events_df.info()"
   ]
  },
  {
   "cell_type": "code",
   "execution_count": 5,
   "metadata": {},
   "outputs": [
    {
     "name": "stdout",
     "output_type": "stream",
     "text": [
      "<class 'pandas.core.frame.DataFrame'>\n",
      "RangeIndex: 60539 entries, 0 to 60538\n",
      "Data columns (total 5 columns):\n",
      " #   Column       Non-Null Count  Dtype \n",
      "---  ------       --------------  ----- \n",
      " 0   id           60539 non-null  int64 \n",
      " 1   payload      60539 non-null  object\n",
      " 2   received_at  60539 non-null  object\n",
      " 3   machine_id   60539 non-null  int64 \n",
      " 4   tag          60539 non-null  object\n",
      "dtypes: int64(2), object(3)\n",
      "memory usage: 2.3+ MB\n"
     ]
    }
   ],
   "source": [
    "job_events_df_sup.reset_index(level=None, drop=True, inplace=True, col_level=0, col_fill='')\n",
    "job_events_df_sup.info()"
   ]
  },
  {
   "cell_type": "code",
   "execution_count": 6,
   "metadata": {},
   "outputs": [
    {
     "data": {
      "text/html": [
       "<div>\n",
       "<style scoped>\n",
       "    .dataframe tbody tr th:only-of-type {\n",
       "        vertical-align: middle;\n",
       "    }\n",
       "\n",
       "    .dataframe tbody tr th {\n",
       "        vertical-align: top;\n",
       "    }\n",
       "\n",
       "    .dataframe thead th {\n",
       "        text-align: right;\n",
       "    }\n",
       "</style>\n",
       "<table border=\"1\" class=\"dataframe\">\n",
       "  <thead>\n",
       "    <tr style=\"text-align: right;\">\n",
       "      <th></th>\n",
       "      <th>id</th>\n",
       "      <th>payload</th>\n",
       "      <th>received_at</th>\n",
       "      <th>machine_id</th>\n",
       "      <th>tag</th>\n",
       "    </tr>\n",
       "  </thead>\n",
       "  <tbody>\n",
       "    <tr>\n",
       "      <th>51160</th>\n",
       "      <td>82917</td>\n",
       "      <td>{\"iper\": [{\"id\": \"PRINT_ENGINE_1\", \"LED\": 50, ...</td>\n",
       "      <td>2022-02-22 09:43:18.114000</td>\n",
       "      <td>18</td>\n",
       "      <td>job-started</td>\n",
       "    </tr>\n",
       "    <tr>\n",
       "      <th>51161</th>\n",
       "      <td>82918</td>\n",
       "      <td>{\"path\": \"D:/IMAGES/Standard/1504750#1/0000001...</td>\n",
       "      <td>2022-02-22 09:43:18.290000</td>\n",
       "      <td>18</td>\n",
       "      <td>job-preview-ready</td>\n",
       "    </tr>\n",
       "    <tr>\n",
       "      <th>51162</th>\n",
       "      <td>82919</td>\n",
       "      <td>{\"jobId\": \"1645522997\", \"jobState\": \"SUCCESS\",...</td>\n",
       "      <td>2022-02-22 09:44:33.472000</td>\n",
       "      <td>18</td>\n",
       "      <td>job-ended</td>\n",
       "    </tr>\n",
       "    <tr>\n",
       "      <th>51163</th>\n",
       "      <td>82921</td>\n",
       "      <td>{\"iper\": [{\"id\": \"PRINT_ENGINE_1\", \"LED\": 50, ...</td>\n",
       "      <td>2022-02-22 09:45:01.297000</td>\n",
       "      <td>18</td>\n",
       "      <td>job-started</td>\n",
       "    </tr>\n",
       "    <tr>\n",
       "      <th>51164</th>\n",
       "      <td>82922</td>\n",
       "      <td>{\"path\": \"D:/IMAGES/Standard/1504749#1/0000001...</td>\n",
       "      <td>2022-02-22 09:45:01.456000</td>\n",
       "      <td>18</td>\n",
       "      <td>job-preview-ready</td>\n",
       "    </tr>\n",
       "  </tbody>\n",
       "</table>\n",
       "</div>"
      ],
      "text/plain": [
       "          id                                            payload  \\\n",
       "51160  82917  {\"iper\": [{\"id\": \"PRINT_ENGINE_1\", \"LED\": 50, ...   \n",
       "51161  82918  {\"path\": \"D:/IMAGES/Standard/1504750#1/0000001...   \n",
       "51162  82919  {\"jobId\": \"1645522997\", \"jobState\": \"SUCCESS\",...   \n",
       "51163  82921  {\"iper\": [{\"id\": \"PRINT_ENGINE_1\", \"LED\": 50, ...   \n",
       "51164  82922  {\"path\": \"D:/IMAGES/Standard/1504749#1/0000001...   \n",
       "\n",
       "                      received_at  machine_id                tag  \n",
       "51160  2022-02-22 09:43:18.114000          18        job-started  \n",
       "51161  2022-02-22 09:43:18.290000          18  job-preview-ready  \n",
       "51162  2022-02-22 09:44:33.472000          18          job-ended  \n",
       "51163  2022-02-22 09:45:01.297000          18        job-started  \n",
       "51164  2022-02-22 09:45:01.456000          18  job-preview-ready  "
      ]
     },
     "execution_count": 6,
     "metadata": {},
     "output_type": "execute_result"
    }
   ],
   "source": [
    "job_events_merged_df = pd.concat([job_events_df, job_events_df_sup], ignore_index=True)\n",
    "job_events_merged_df = job_events_merged_df.sort_values(by='received_at')\n",
    "\n",
    "# Vérifier la fusion\n",
    "job_events_merged_df.head()"
   ]
  },
  {
   "cell_type": "code",
   "execution_count": 7,
   "metadata": {},
   "outputs": [
    {
     "data": {
      "text/html": [
       "<div>\n",
       "<style scoped>\n",
       "    .dataframe tbody tr th:only-of-type {\n",
       "        vertical-align: middle;\n",
       "    }\n",
       "\n",
       "    .dataframe tbody tr th {\n",
       "        vertical-align: top;\n",
       "    }\n",
       "\n",
       "    .dataframe thead th {\n",
       "        text-align: right;\n",
       "    }\n",
       "</style>\n",
       "<table border=\"1\" class=\"dataframe\">\n",
       "  <thead>\n",
       "    <tr style=\"text-align: right;\">\n",
       "      <th></th>\n",
       "      <th>id</th>\n",
       "      <th>payload</th>\n",
       "      <th>received_at</th>\n",
       "      <th>machine_id</th>\n",
       "      <th>tag</th>\n",
       "    </tr>\n",
       "  </thead>\n",
       "  <tbody>\n",
       "    <tr>\n",
       "      <th>79292</th>\n",
       "      <td>873661</td>\n",
       "      <td>{\"iper\": [{\"id\": \"PRINT_ENGINE_1\", \"LED\": 50, ...</td>\n",
       "      <td>2023-11-16 12:48:08.191000</td>\n",
       "      <td>18</td>\n",
       "      <td>job-started</td>\n",
       "    </tr>\n",
       "    <tr>\n",
       "      <th>79293</th>\n",
       "      <td>873662</td>\n",
       "      <td>{\"path\": \"D:/IMAGES/Standard/2118611#1/0000001...</td>\n",
       "      <td>2023-11-16 12:48:08.328000</td>\n",
       "      <td>18</td>\n",
       "      <td>job-preview-ready</td>\n",
       "    </tr>\n",
       "    <tr>\n",
       "      <th>79294</th>\n",
       "      <td>873666</td>\n",
       "      <td>{\"jobId\": \"1700138888\", \"jobState\": \"SUCCESS\",...</td>\n",
       "      <td>2023-11-16 12:51:59.168000</td>\n",
       "      <td>18</td>\n",
       "      <td>job-ended</td>\n",
       "    </tr>\n",
       "    <tr>\n",
       "      <th>79295</th>\n",
       "      <td>873671</td>\n",
       "      <td>{\"iper\": [{\"id\": \"PRINT_ENGINE_1\", \"LED\": 50, ...</td>\n",
       "      <td>2023-11-16 12:53:08.804000</td>\n",
       "      <td>18</td>\n",
       "      <td>job-started</td>\n",
       "    </tr>\n",
       "    <tr>\n",
       "      <th>79296</th>\n",
       "      <td>873672</td>\n",
       "      <td>{\"path\": \"D:/IMAGES/Standard/2118611#1/0000001...</td>\n",
       "      <td>2023-11-16 12:53:08.928000</td>\n",
       "      <td>18</td>\n",
       "      <td>job-preview-ready</td>\n",
       "    </tr>\n",
       "  </tbody>\n",
       "</table>\n",
       "</div>"
      ],
      "text/plain": [
       "           id                                            payload  \\\n",
       "79292  873661  {\"iper\": [{\"id\": \"PRINT_ENGINE_1\", \"LED\": 50, ...   \n",
       "79293  873662  {\"path\": \"D:/IMAGES/Standard/2118611#1/0000001...   \n",
       "79294  873666  {\"jobId\": \"1700138888\", \"jobState\": \"SUCCESS\",...   \n",
       "79295  873671  {\"iper\": [{\"id\": \"PRINT_ENGINE_1\", \"LED\": 50, ...   \n",
       "79296  873672  {\"path\": \"D:/IMAGES/Standard/2118611#1/0000001...   \n",
       "\n",
       "                      received_at  machine_id                tag  \n",
       "79292  2023-11-16 12:48:08.191000          18        job-started  \n",
       "79293  2023-11-16 12:48:08.328000          18  job-preview-ready  \n",
       "79294  2023-11-16 12:51:59.168000          18          job-ended  \n",
       "79295  2023-11-16 12:53:08.804000          18        job-started  \n",
       "79296  2023-11-16 12:53:08.928000          18  job-preview-ready  "
      ]
     },
     "execution_count": 7,
     "metadata": {},
     "output_type": "execute_result"
    }
   ],
   "source": [
    "job_events_merged_df.tail()"
   ]
  },
  {
   "cell_type": "code",
   "execution_count": 8,
   "metadata": {},
   "outputs": [
    {
     "name": "stdout",
     "output_type": "stream",
     "text": [
      "112105\n"
     ]
    }
   ],
   "source": [
    "print(len(job_events_merged_df))  "
   ]
  },
  {
   "cell_type": "code",
   "execution_count": 9,
   "metadata": {},
   "outputs": [],
   "source": [
    "job_events_merged_df.to_csv(\"../data/raw/job_events.csv\", index=False)"
   ]
  },
  {
   "cell_type": "code",
   "execution_count": 10,
   "metadata": {},
   "outputs": [
    {
     "name": "stderr",
     "output_type": "stream",
     "text": [
      "C:\\Users\\Allan\\AppData\\Local\\Temp\\ipykernel_6832\\3270355420.py:3: DtypeWarning: Columns (12) have mixed types. Specify dtype option on import or set low_memory=False.\n",
      "  jobs_merged_df = pd.read_csv(\"../data/raw/jobs.csv\")\n"
     ]
    }
   ],
   "source": [
    "metrics_merged_df = pd.read_csv(\"../data/raw/metrics.csv\")\n",
    "job_events_merged_df = pd.read_csv(\"../data/raw/job_events.csv\")\n",
    "jobs_merged_df = pd.read_csv(\"../data/raw/jobs.csv\")"
   ]
  },
  {
   "cell_type": "code",
   "execution_count": 11,
   "metadata": {},
   "outputs": [
    {
     "name": "stdout",
     "output_type": "stream",
     "text": [
      "metrics_merged_df - Date Min: 2022-11-02 08:43:45.619000, Date Max: 2023-11-15 14:18:24.413000\n",
      "job_events_merged_df - Date Min: 2022-02-22 09:43:18.114000, Date Max: 2023-11-16 12:53:08.928000\n",
      "jobs_merged_df - Date Min: 2022-02-22 09:43:18.116000, Date Max: 2023-11-15 14:10:34.430000\n"
     ]
    }
   ],
   "source": [
    "# Convertir les colonnes de date\n",
    "metrics_merged_df['created_at'] = pd.to_datetime(metrics_merged_df['created_at'])\n",
    "job_events_merged_df['received_at'] = pd.to_datetime(job_events_merged_df['received_at'])\n",
    "jobs_merged_df['started_at'] = pd.to_datetime(jobs_merged_df['started_at'])\n",
    "\n",
    "# Trouver et afficher les valeurs maximales et minimales pour chaque DataFrame\n",
    "max_date_metrics = metrics_merged_df['created_at'].max()\n",
    "min_date_metrics = metrics_merged_df['created_at'].min()\n",
    "print(f\"metrics_merged_df - Date Min: {min_date_metrics}, Date Max: {max_date_metrics}\")\n",
    "\n",
    "max_date_job_events = job_events_merged_df['received_at'].max()\n",
    "min_date_job_events = job_events_merged_df['received_at'].min()\n",
    "print(f\"job_events_merged_df - Date Min: {min_date_job_events}, Date Max: {max_date_job_events}\")\n",
    "\n",
    "max_date_jobs = jobs_merged_df['started_at'].max()\n",
    "min_date_jobs = jobs_merged_df['started_at'].min()\n",
    "print(f\"jobs_merged_df - Date Min: {min_date_jobs}, Date Max: {max_date_jobs}\")\n"
   ]
  },
  {
   "cell_type": "markdown",
   "metadata": {},
   "source": [
    "-----------------------------------------------"
   ]
  }
 ],
 "metadata": {
  "kernelspec": {
   "display_name": "venv",
   "language": "python",
   "name": "python3"
  },
  "language_info": {
   "codemirror_mode": {
    "name": "ipython",
    "version": 3
   },
   "file_extension": ".py",
   "mimetype": "text/x-python",
   "name": "python",
   "nbconvert_exporter": "python",
   "pygments_lexer": "ipython3",
   "version": "3.10.11"
  }
 },
 "nbformat": 4,
 "nbformat_minor": 2
}
