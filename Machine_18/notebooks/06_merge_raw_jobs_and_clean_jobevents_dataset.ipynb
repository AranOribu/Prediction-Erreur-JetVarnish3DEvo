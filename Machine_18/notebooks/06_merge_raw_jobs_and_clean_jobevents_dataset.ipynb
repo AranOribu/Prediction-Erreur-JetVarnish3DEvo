{
 "cells": [
  {
   "attachments": {},
   "cell_type": "markdown",
   "metadata": {},
   "source": [
    "# 06 - Création du dataset des données de jobs et de job_events fusionnées"
   ]
  },
  {
   "attachments": {},
   "cell_type": "markdown",
   "metadata": {},
   "source": [
    "Ce notebook génère 1 csv :\n",
    "\n",
    "- merge_raw_jobs_and_clean_jobevents_dataset.csv\n",
    "\n",
    "Etapes :\n",
    "\n",
    "- Suppression des colonnes doublon dans les 2 datasets\n",
    "\n",
    "- Fusion des datasets"
   ]
  },
  {
   "attachments": {},
   "cell_type": "markdown",
   "metadata": {},
   "source": [
    "# A. Imports"
   ]
  },
  {
   "attachments": {},
   "cell_type": "markdown",
   "metadata": {},
   "source": [
    "## a) Librairies"
   ]
  },
  {
   "cell_type": "code",
   "execution_count": 81,
   "metadata": {},
   "outputs": [],
   "source": [
    "import os, json\n",
    "import pandas as pd\n",
    "import numpy as np\n",
    "import matplotlib.pyplot as plt"
   ]
  },
  {
   "attachments": {},
   "cell_type": "markdown",
   "metadata": {},
   "source": [
    "## b) Données"
   ]
  },
  {
   "cell_type": "code",
   "execution_count": 82,
   "metadata": {},
   "outputs": [],
   "source": [
    "# source path\n",
    "jobs = '../data/jobs/raw_jobs_dataset.csv'\n",
    "\n",
    "# source path\n",
    "events = '../data/jobs/clean_merge_job_events_dataset.csv'\n",
    "\n",
    "# save target path\n",
    "save_csv = '../data/jobs/merge_raw_jobs_and_clean_jobevents_dataset.csv'"
   ]
  },
  {
   "attachments": {},
   "cell_type": "markdown",
   "metadata": {},
   "source": [
    "# B. Dataframe"
   ]
  },
  {
   "attachments": {},
   "cell_type": "markdown",
   "metadata": {},
   "source": [
    "## a) Création des dataframes jobs et events"
   ]
  },
  {
   "attachments": {},
   "cell_type": "markdown",
   "metadata": {},
   "source": [
    "### 1. jobs"
   ]
  },
  {
   "cell_type": "code",
   "execution_count": 83,
   "metadata": {},
   "outputs": [
    {
     "name": "stdout",
     "output_type": "stream",
     "text": [
      "<class 'pandas.core.frame.DataFrame'>\n",
      "Int64Index: 37299 entries, 0 to 37298\n",
      "Data columns (total 20 columns):\n",
      " #   Column                        Non-Null Count  Dtype  \n",
      "---  ------                        --------------  -----  \n",
      " 0   total_copies                  37299 non-null  int64  \n",
      " 1   started_at                    37299 non-null  object \n",
      " 2   ended_at                      37299 non-null  object \n",
      " 3   speed                         37299 non-null  int64  \n",
      " 4   operator                      37299 non-null  object \n",
      " 5   operator_level                37299 non-null  object \n",
      " 6   paperHeight                   37299 non-null  int64  \n",
      " 7   paperWidth                    37299 non-null  int64  \n",
      " 8   paperName                     37299 non-null  object \n",
      " 9   paperThickness                37299 non-null  int64  \n",
      " 10  id_on_machine                 37299 non-null  int64  \n",
      " 11  total_copies_requested        37299 non-null  int64  \n",
      " 12  uses_ifoil                    37299 non-null  bool   \n",
      " 13  uses_iper                     37299 non-null  bool   \n",
      " 14  scanner_mode                  37299 non-null  int64  \n",
      " 15  iper_bvar_count               37299 non-null  int64  \n",
      " 16  varnishConsumptionVarnish_3d  37299 non-null  float64\n",
      " 17  run                           37299 non-null  int64  \n",
      " 18  total_run                     37299 non-null  int64  \n",
      " 19  copies_per_run                37299 non-null  int64  \n",
      "dtypes: bool(2), float64(1), int64(12), object(5)\n",
      "memory usage: 5.5+ MB\n"
     ]
    }
   ],
   "source": [
    "# création d'un dataframe à partir du csv de données\n",
    "jobs_df = pd.read_csv(jobs, index_col=0)\n",
    "jobs_df.info()"
   ]
  },
  {
   "attachments": {},
   "cell_type": "markdown",
   "metadata": {},
   "source": [
    "### 2. job events"
   ]
  },
  {
   "cell_type": "code",
   "execution_count": 84,
   "metadata": {},
   "outputs": [
    {
     "name": "stdout",
     "output_type": "stream",
     "text": [
      "<class 'pandas.core.frame.DataFrame'>\n",
      "Int64Index: 37398 entries, 0 to 37397\n",
      "Data columns (total 46 columns):\n",
      " #   Column                                                 Non-Null Count  Dtype  \n",
      "---  ------                                                 --------------  -----  \n",
      " 0   jobId                                                  37398 non-null  int64  \n",
      " 1   timestamp_start                                        37398 non-null  object \n",
      " 2   totalCopies_start                                      37398 non-null  int64  \n",
      " 3   jsonVersion_x                                          22919 non-null  float64\n",
      " 4   LED_iper                                               37398 non-null  int64  \n",
      " 5   bars_iper                                              37398 non-null  object \n",
      " 6   drops_iper                                             37398 non-null  int64  \n",
      " 7   dithering_iper                                         37398 non-null  bool   \n",
      " 8   deadPixelsOffset_iper                                  37398 non-null  int64  \n",
      " 9   level_user                                             37398 non-null  object \n",
      " 10  operator_user                                          37398 non-null  object \n",
      " 11  speed_ifoil                                            37398 non-null  float64\n",
      " 12  enabled_ifoil                                          37398 non-null  bool   \n",
      " 13  optifoil_ifoil                                         37398 non-null  bool   \n",
      " 14  vacuumIn_ifoil                                         37398 non-null  int64  \n",
      " 15  vacuumOut_ifoil                                        37398 non-null  int64  \n",
      " 16  stampAreas_ifoil                                       37398 non-null  object \n",
      " 17  heater1Enabled_ifoil                                   37398 non-null  bool   \n",
      " 18  speedTensionIn_ifoil                                   37398 non-null  float64\n",
      " 19  speedTensionOut_ifoil                                  37398 non-null  float64\n",
      " 20  heater1Temperature_ifoil                               37398 non-null  int64  \n",
      " 21  x_imageLayout_layout                                   37398 non-null  int64  \n",
      " 22  y_imageLayout_layout                                   37398 non-null  int64  \n",
      " 23  name_paperFormat_layout                                37398 non-null  object \n",
      " 24  width_paperFormat_layout                               37398 non-null  float64\n",
      " 25  height_paperFormat_layout                              37398 non-null  float64\n",
      " 26  speed_layout                                           37398 non-null  int64  \n",
      " 27  power_irDryers                                         37398 non-null  int64  \n",
      " 28  power_uvDryers                                         37398 non-null  int64  \n",
      " 29  redScore_gridMode_remoteScannerRegistration            37398 non-null  int64  \n",
      " 30  redScore_cropmarksMode_remoteScannerRegistration       37398 non-null  int64  \n",
      " 31  x_cropmark1_cropmarksMode_remoteScannerRegistration    37398 non-null  int64  \n",
      " 32  y_cropmark1_cropmarksMode_remoteScannerRegistration    37398 non-null  int64  \n",
      " 33  x_cropmark2_cropmarksMode_remoteScannerRegistration    37398 non-null  int64  \n",
      " 34  y_cropmark2_cropmarksMode_remoteScannerRegistration    37398 non-null  int64  \n",
      " 35  exposureTime_manualLighting_remoteScannerRegistration  37398 non-null  int64  \n",
      " 36  redScore_fullScannerMode_remoteScannerRegistration     37398 non-null  int64  \n",
      " 37  blueScore_fullScannerMode_remoteScannerRegistration    37398 non-null  int64  \n",
      " 38  greenScore_fullScannerMode_remoteScannerRegistration   37398 non-null  int64  \n",
      " 39  enable_specialSubstrate_remoteScannerRegistration      37398 non-null  bool   \n",
      " 40  mode_remoteScannerRegistration                         37398 non-null  int64  \n",
      " 41  jobState                                               37398 non-null  object \n",
      " 42  timestamp_end                                          37398 non-null  object \n",
      " 43  totalCopies_end                                        37398 non-null  int64  \n",
      " 44  consumption_operatorSideTanks_varnishConsumption       37398 non-null  float64\n",
      " 45  jsonVersion_y                                          22897 non-null  float64\n",
      "dtypes: bool(5), float64(8), int64(25), object(8)\n",
      "memory usage: 12.2+ MB\n"
     ]
    }
   ],
   "source": [
    "# création d'un dataframe à partir du csv de données\n",
    "events_df = pd.read_csv(events, index_col=0)\n",
    "events_df.info()"
   ]
  },
  {
   "attachments": {},
   "cell_type": "markdown",
   "metadata": {},
   "source": [
    "## b) Création d'un dataframe fusionné"
   ]
  },
  {
   "attachments": {},
   "cell_type": "markdown",
   "metadata": {},
   "source": [
    "### 1. Suppression de colonnes"
   ]
  },
  {
   "cell_type": "code",
   "execution_count": 85,
   "metadata": {},
   "outputs": [],
   "source": [
    "# suppression des colonnes avec des valeurs uniques\n",
    "for col in list(jobs_df.columns):\n",
    "    if jobs_df[col].nunique() == 1:\n",
    "        jobs_df.drop(col, axis=1, inplace=True)"
   ]
  },
  {
   "cell_type": "code",
   "execution_count": 86,
   "metadata": {},
   "outputs": [],
   "source": [
    "# suppression des colonnes avec des valeurs uniques\n",
    "for col in list(events_df.columns) :\n",
    "    if events_df[col].nunique() == 1:\n",
    "        events_df.drop(col, axis=1, inplace=True)"
   ]
  },
  {
   "attachments": {},
   "cell_type": "markdown",
   "metadata": {},
   "source": [
    "### 2. Concordance des colonnes entre dataframes"
   ]
  },
  {
   "cell_type": "code",
   "execution_count": 87,
   "metadata": {},
   "outputs": [],
   "source": [
    "# on renomme des colonnes de jobs\n",
    "jobs_df = jobs_df.rename(columns={\n",
    " 'uses_ifoil' : 'ifoil',\n",
    " 'iper_bvar_count': 'bars'\n",
    " })"
   ]
  },
  {
   "cell_type": "code",
   "execution_count": 88,
   "metadata": {},
   "outputs": [],
   "source": [
    "# on renomme des colonnes de events\n",
    "events_df = events_df.rename(columns={\n",
    "    'totalCopies_start':'total_copies_requested',\n",
    "    'LED_iper' : 'LED',\n",
    "    'bars_iper' : 'bars',\n",
    "    'drops_iper': 'drops',\n",
    "    'dithering_iper' : 'dithering',\n",
    "    'deadPixelsOffset_iper' : 'deadPixelsOffset',\n",
    "    'level_user' : 'operator_level',\n",
    "    'operator_user':'operator',\n",
    "    'enabled_ifoil' : 'ifoil',\n",
    "    'x_imageLayout_layout' : 'x_imageLayout',\n",
    "    'y_imageLayout_layout' : 'y_imageLayout',\n",
    "    'name_paperFormat_layout' : 'paperName',\n",
    "    'width_paperFormat_layout' : 'paperWidth',\n",
    "    'height_paperFormat_layout' : 'paperHeight',\n",
    "    'speed_layout' : 'speed',\n",
    "    'topMargin_registration_remoteScannerRegistration' : 'topMargin_remoteScannerRegistration',\n",
    "    'leftMargin_registration_remoteScannerRegistration' : 'leftMargin_remoteScannerRegistration',\n",
    "    'totalCopies_end' : 'total_copies',\n",
    "    'consumption_operatorSideTanks_varnishConsumption' : 'varnishConsumptionVarnish_3d'\n",
    "    })"
   ]
  },
  {
   "cell_type": "code",
   "execution_count": 89,
   "metadata": {},
   "outputs": [
    {
     "data": {
      "text/plain": [
       "False"
      ]
     },
     "execution_count": 89,
     "metadata": {},
     "output_type": "execute_result"
    }
   ],
   "source": [
    "# Comparer les valeurs de la colonne \"bars\" entre les dataframes \"events_df\" et \"jobs_df\"\n",
    "events_df['bars'].isin(jobs_df['bars']).any()"
   ]
  },
  {
   "cell_type": "code",
   "execution_count": 90,
   "metadata": {},
   "outputs": [],
   "source": [
    "# liste des colonnes communes\n",
    "common_cols = [col for col in jobs_df.columns.to_list() if col in events_df.columns.to_list()]"
   ]
  },
  {
   "attachments": {},
   "cell_type": "markdown",
   "metadata": {},
   "source": [
    "### 3. Concordance des valeurs entre colonnes communes"
   ]
  },
  {
   "cell_type": "code",
   "execution_count": 91,
   "metadata": {},
   "outputs": [
    {
     "data": {
      "text/plain": [
       "(37299, 18)"
      ]
     },
     "execution_count": 91,
     "metadata": {},
     "output_type": "execute_result"
    }
   ],
   "source": [
    "jobs_df.shape"
   ]
  },
  {
   "cell_type": "code",
   "execution_count": 92,
   "metadata": {},
   "outputs": [
    {
     "data": {
      "text/plain": [
       "(37398, 44)"
      ]
     },
     "execution_count": 92,
     "metadata": {},
     "output_type": "execute_result"
    }
   ],
   "source": [
    "events_df.shape"
   ]
  },
  {
   "cell_type": "code",
   "execution_count": 93,
   "metadata": {},
   "outputs": [
    {
     "data": {
      "text/plain": [
       "Index(['jobId', 'timestamp_start', 'total_copies_requested', 'LED', 'bars',\n",
       "       'drops', 'dithering', 'deadPixelsOffset', 'operator_level', 'operator',\n",
       "       'speed_ifoil', 'ifoil', 'optifoil_ifoil', 'vacuumIn_ifoil',\n",
       "       'vacuumOut_ifoil', 'stampAreas_ifoil', 'heater1Enabled_ifoil',\n",
       "       'speedTensionIn_ifoil', 'speedTensionOut_ifoil',\n",
       "       'heater1Temperature_ifoil', 'x_imageLayout', 'y_imageLayout',\n",
       "       'paperName', 'paperWidth', 'paperHeight', 'speed', 'power_irDryers',\n",
       "       'power_uvDryers', 'redScore_gridMode_remoteScannerRegistration',\n",
       "       'redScore_cropmarksMode_remoteScannerRegistration',\n",
       "       'x_cropmark1_cropmarksMode_remoteScannerRegistration',\n",
       "       'y_cropmark1_cropmarksMode_remoteScannerRegistration',\n",
       "       'x_cropmark2_cropmarksMode_remoteScannerRegistration',\n",
       "       'y_cropmark2_cropmarksMode_remoteScannerRegistration',\n",
       "       'exposureTime_manualLighting_remoteScannerRegistration',\n",
       "       'redScore_fullScannerMode_remoteScannerRegistration',\n",
       "       'blueScore_fullScannerMode_remoteScannerRegistration',\n",
       "       'greenScore_fullScannerMode_remoteScannerRegistration',\n",
       "       'enable_specialSubstrate_remoteScannerRegistration',\n",
       "       'mode_remoteScannerRegistration', 'jobState', 'timestamp_end',\n",
       "       'total_copies', 'varnishConsumptionVarnish_3d'],\n",
       "      dtype='object')"
      ]
     },
     "execution_count": 93,
     "metadata": {},
     "output_type": "execute_result"
    }
   ],
   "source": [
    "events_df.columns"
   ]
  },
  {
   "cell_type": "code",
   "execution_count": 94,
   "metadata": {},
   "outputs": [
    {
     "name": "stdout",
     "output_type": "stream",
     "text": [
      "{'speedTensionOut_ifoil', 'exposureTime_manualLighting_remoteScannerRegistration', 'x_cropmark2_cropmarksMode_remoteScannerRegistration', 'x_cropmark1_cropmarksMode_remoteScannerRegistration', 'enable_specialSubstrate_remoteScannerRegistration', 'y_cropmark2_cropmarksMode_remoteScannerRegistration', 'y_cropmark1_cropmarksMode_remoteScannerRegistration'}\n"
     ]
    }
   ],
   "source": [
    "# Colonnes de events_df_17\n",
    "cols_events_df_17 = ['jobId', 'timestamp_start', 'total_copies_requested', 'LED', 'bars',\n",
    "                     'drops', 'dithering', 'deadPixelsOffset', 'operator_level', 'operator',\n",
    "                     'speed_ifoil', 'ifoil', 'optifoil_ifoil', 'stampAreas_ifoil',\n",
    "                     'heater1Enabled_ifoil', 'speedTensionIn_ifoil', 'speedTensionOut_ifoil',\n",
    "                     'heater1Temperature_ifoil', 'x_imageLayout', 'y_imageLayout',\n",
    "                     'paperName', 'paperWidth', 'paperHeight', 'speed', 'power_irDryers',\n",
    "                     'power_uvDryers', 'redScore_gridMode_remoteScannerRegistration',\n",
    "                     'redScore_cropmarksMode_remoteScannerRegistration',\n",
    "                     'x_cropmark1_cropmarksMode_remoteScannerRegistration',\n",
    "                     'y_cropmark1_cropmarksMode_remoteScannerRegistration',\n",
    "                     'x_cropmark2_cropmarksMode_remoteScannerRegistration',\n",
    "                     'y_cropmark2_cropmarksMode_remoteScannerRegistration',\n",
    "                     'exposureTime_manualLighting_remoteScannerRegistration',\n",
    "                     'redScore_fullScannerMode_remoteScannerRegistration',\n",
    "                     'blueScore_fullScannerMode_remoteScannerRegistration',\n",
    "                     'greenScore_fullScannerMode_remoteScannerRegistration',\n",
    "                     'enable_specialSubstrate_remoteScannerRegistration',\n",
    "                     'mode_remoteScannerRegistration', 'jobState', 'timestamp_end',\n",
    "                     'total_copies', 'varnishConsumptionVarnish_3d']\n",
    "\n",
    "# Colonnes de events_df_14\n",
    "cols_events_df_14 = ['jobId', 'timestamp_start', 'total_copies_requested', 'LED', 'bars',\n",
    "                     'drops', 'dithering', 'deadPixelsOffset', 'operator_level', 'operator',\n",
    "                     'speed_ifoil', 'ifoil', 'optifoil_ifoil', 'stampAreas_ifoil',\n",
    "                     'heater1Enabled_ifoil', 'speedTensionIn_ifoil',\n",
    "                     'heater1Temperature_ifoil', 'x_imageLayout', 'y_imageLayout',\n",
    "                     'paperName', 'paperWidth', 'paperHeight', 'speed', 'power_irDryers',\n",
    "                     'power_uvDryers', 'topMargin_remoteScannerRegistration',\n",
    "                     'leftMargin_remoteScannerRegistration',\n",
    "                     'redScore_gridMode_remoteScannerRegistration',\n",
    "                     'redScore_cropmarksMode_remoteScannerRegistration',\n",
    "                     'redScore_fullScannerMode_remoteScannerRegistration',\n",
    "                     'blueScore_fullScannerMode_remoteScannerRegistration',\n",
    "                     'greenScore_fullScannerMode_remoteScannerRegistration',\n",
    "                     'mode_remoteScannerRegistration', 'jobState', 'timestamp_end',\n",
    "                     'total_copies', 'varnishConsumptionVarnish_3d']\n",
    "\n",
    "# Trouver les colonnes uniques à events_df_17\n",
    "unique_cols_to_df_17 = set(cols_events_df_17) - set(cols_events_df_14)\n",
    "\n",
    "print(unique_cols_to_df_17)"
   ]
  },
  {
   "cell_type": "code",
   "execution_count": 95,
   "metadata": {},
   "outputs": [
    {
     "data": {
      "text/html": [
       "<div>\n",
       "<style scoped>\n",
       "    .dataframe tbody tr th:only-of-type {\n",
       "        vertical-align: middle;\n",
       "    }\n",
       "\n",
       "    .dataframe tbody tr th {\n",
       "        vertical-align: top;\n",
       "    }\n",
       "\n",
       "    .dataframe thead th {\n",
       "        text-align: right;\n",
       "    }\n",
       "</style>\n",
       "<table border=\"1\" class=\"dataframe\">\n",
       "  <thead>\n",
       "    <tr style=\"text-align: right;\">\n",
       "      <th></th>\n",
       "      <th>total_copies</th>\n",
       "      <th>started_at</th>\n",
       "      <th>ended_at</th>\n",
       "      <th>speed</th>\n",
       "      <th>operator</th>\n",
       "      <th>operator_level</th>\n",
       "      <th>paperHeight</th>\n",
       "      <th>paperWidth</th>\n",
       "      <th>paperName</th>\n",
       "      <th>id_on_machine</th>\n",
       "      <th>total_copies_requested</th>\n",
       "      <th>ifoil</th>\n",
       "      <th>scanner_mode</th>\n",
       "      <th>bars</th>\n",
       "      <th>varnishConsumptionVarnish_3d</th>\n",
       "      <th>run</th>\n",
       "      <th>total_run</th>\n",
       "      <th>copies_per_run</th>\n",
       "    </tr>\n",
       "  </thead>\n",
       "  <tbody>\n",
       "    <tr>\n",
       "      <th>0</th>\n",
       "      <td>6</td>\n",
       "      <td>2022-02-22 09:43:18.116000+00:00</td>\n",
       "      <td>2022-02-22 09:44:33.389000+00:00</td>\n",
       "      <td>313</td>\n",
       "      <td>User</td>\n",
       "      <td>Operator</td>\n",
       "      <td>483</td>\n",
       "      <td>330</td>\n",
       "      <td>UNDEFINED</td>\n",
       "      <td>1645522997</td>\n",
       "      <td>6</td>\n",
       "      <td>True</td>\n",
       "      <td>3</td>\n",
       "      <td>2</td>\n",
       "      <td>4.585923</td>\n",
       "      <td>0</td>\n",
       "      <td>0</td>\n",
       "      <td>0</td>\n",
       "    </tr>\n",
       "    <tr>\n",
       "      <th>1</th>\n",
       "      <td>11</td>\n",
       "      <td>2022-02-22 09:45:01.304000+00:00</td>\n",
       "      <td>2022-02-22 09:46:34.929000+00:00</td>\n",
       "      <td>313</td>\n",
       "      <td>User</td>\n",
       "      <td>Operator</td>\n",
       "      <td>483</td>\n",
       "      <td>330</td>\n",
       "      <td>UNDEFINED</td>\n",
       "      <td>1645523101</td>\n",
       "      <td>11</td>\n",
       "      <td>True</td>\n",
       "      <td>3</td>\n",
       "      <td>2</td>\n",
       "      <td>2.917403</td>\n",
       "      <td>0</td>\n",
       "      <td>0</td>\n",
       "      <td>0</td>\n",
       "    </tr>\n",
       "    <tr>\n",
       "      <th>2</th>\n",
       "      <td>7</td>\n",
       "      <td>2022-02-22 09:47:30.319000+00:00</td>\n",
       "      <td>2022-02-22 09:48:37.554000+00:00</td>\n",
       "      <td>313</td>\n",
       "      <td>User</td>\n",
       "      <td>Operator</td>\n",
       "      <td>483</td>\n",
       "      <td>330</td>\n",
       "      <td>UNDEFINED</td>\n",
       "      <td>1645523250</td>\n",
       "      <td>7</td>\n",
       "      <td>True</td>\n",
       "      <td>3</td>\n",
       "      <td>2</td>\n",
       "      <td>0.423666</td>\n",
       "      <td>0</td>\n",
       "      <td>0</td>\n",
       "      <td>0</td>\n",
       "    </tr>\n",
       "    <tr>\n",
       "      <th>3</th>\n",
       "      <td>11</td>\n",
       "      <td>2022-02-22 09:49:56.298000+00:00</td>\n",
       "      <td>2022-02-22 09:51:14.406000+00:00</td>\n",
       "      <td>313</td>\n",
       "      <td>User</td>\n",
       "      <td>Operator</td>\n",
       "      <td>483</td>\n",
       "      <td>330</td>\n",
       "      <td>UNDEFINED</td>\n",
       "      <td>1645523396</td>\n",
       "      <td>11</td>\n",
       "      <td>True</td>\n",
       "      <td>3</td>\n",
       "      <td>2</td>\n",
       "      <td>1.100145</td>\n",
       "      <td>0</td>\n",
       "      <td>0</td>\n",
       "      <td>0</td>\n",
       "    </tr>\n",
       "    <tr>\n",
       "      <th>4</th>\n",
       "      <td>47</td>\n",
       "      <td>2022-02-22 09:52:57.305000+00:00</td>\n",
       "      <td>2022-02-22 09:55:59.993000+00:00</td>\n",
       "      <td>313</td>\n",
       "      <td>User</td>\n",
       "      <td>Operator</td>\n",
       "      <td>483</td>\n",
       "      <td>330</td>\n",
       "      <td>UNDEFINED</td>\n",
       "      <td>1645523577</td>\n",
       "      <td>47</td>\n",
       "      <td>True</td>\n",
       "      <td>3</td>\n",
       "      <td>2</td>\n",
       "      <td>4.701610</td>\n",
       "      <td>0</td>\n",
       "      <td>0</td>\n",
       "      <td>0</td>\n",
       "    </tr>\n",
       "  </tbody>\n",
       "</table>\n",
       "</div>"
      ],
      "text/plain": [
       "   total_copies                        started_at  \\\n",
       "0             6  2022-02-22 09:43:18.116000+00:00   \n",
       "1            11  2022-02-22 09:45:01.304000+00:00   \n",
       "2             7  2022-02-22 09:47:30.319000+00:00   \n",
       "3            11  2022-02-22 09:49:56.298000+00:00   \n",
       "4            47  2022-02-22 09:52:57.305000+00:00   \n",
       "\n",
       "                           ended_at  speed operator operator_level  \\\n",
       "0  2022-02-22 09:44:33.389000+00:00    313     User       Operator   \n",
       "1  2022-02-22 09:46:34.929000+00:00    313     User       Operator   \n",
       "2  2022-02-22 09:48:37.554000+00:00    313     User       Operator   \n",
       "3  2022-02-22 09:51:14.406000+00:00    313     User       Operator   \n",
       "4  2022-02-22 09:55:59.993000+00:00    313     User       Operator   \n",
       "\n",
       "   paperHeight  paperWidth  paperName  id_on_machine  total_copies_requested  \\\n",
       "0          483         330  UNDEFINED     1645522997                       6   \n",
       "1          483         330  UNDEFINED     1645523101                      11   \n",
       "2          483         330  UNDEFINED     1645523250                       7   \n",
       "3          483         330  UNDEFINED     1645523396                      11   \n",
       "4          483         330  UNDEFINED     1645523577                      47   \n",
       "\n",
       "   ifoil  scanner_mode  bars  varnishConsumptionVarnish_3d  run  total_run  \\\n",
       "0   True             3     2                      4.585923    0          0   \n",
       "1   True             3     2                      2.917403    0          0   \n",
       "2   True             3     2                      0.423666    0          0   \n",
       "3   True             3     2                      1.100145    0          0   \n",
       "4   True             3     2                      4.701610    0          0   \n",
       "\n",
       "   copies_per_run  \n",
       "0               0  \n",
       "1               0  \n",
       "2               0  \n",
       "3               0  \n",
       "4               0  "
      ]
     },
     "execution_count": 95,
     "metadata": {},
     "output_type": "execute_result"
    }
   ],
   "source": [
    "jobs_df.head()"
   ]
  },
  {
   "cell_type": "code",
   "execution_count": 96,
   "metadata": {},
   "outputs": [
    {
     "data": {
      "text/html": [
       "<div>\n",
       "<style scoped>\n",
       "    .dataframe tbody tr th:only-of-type {\n",
       "        vertical-align: middle;\n",
       "    }\n",
       "\n",
       "    .dataframe tbody tr th {\n",
       "        vertical-align: top;\n",
       "    }\n",
       "\n",
       "    .dataframe thead th {\n",
       "        text-align: right;\n",
       "    }\n",
       "</style>\n",
       "<table border=\"1\" class=\"dataframe\">\n",
       "  <thead>\n",
       "    <tr style=\"text-align: right;\">\n",
       "      <th></th>\n",
       "      <th>jobId</th>\n",
       "      <th>timestamp_start</th>\n",
       "      <th>total_copies_requested</th>\n",
       "      <th>LED</th>\n",
       "      <th>bars</th>\n",
       "      <th>drops</th>\n",
       "      <th>dithering</th>\n",
       "      <th>deadPixelsOffset</th>\n",
       "      <th>operator_level</th>\n",
       "      <th>operator</th>\n",
       "      <th>...</th>\n",
       "      <th>exposureTime_manualLighting_remoteScannerRegistration</th>\n",
       "      <th>redScore_fullScannerMode_remoteScannerRegistration</th>\n",
       "      <th>blueScore_fullScannerMode_remoteScannerRegistration</th>\n",
       "      <th>greenScore_fullScannerMode_remoteScannerRegistration</th>\n",
       "      <th>enable_specialSubstrate_remoteScannerRegistration</th>\n",
       "      <th>mode_remoteScannerRegistration</th>\n",
       "      <th>jobState</th>\n",
       "      <th>timestamp_end</th>\n",
       "      <th>total_copies</th>\n",
       "      <th>varnishConsumptionVarnish_3d</th>\n",
       "    </tr>\n",
       "  </thead>\n",
       "  <tbody>\n",
       "    <tr>\n",
       "      <th>0</th>\n",
       "      <td>1645522997</td>\n",
       "      <td>2022-02-22 09:43:18.116647800+00:00</td>\n",
       "      <td>6</td>\n",
       "      <td>50</td>\n",
       "      <td>[1, 2]</td>\n",
       "      <td>4</td>\n",
       "      <td>False</td>\n",
       "      <td>0</td>\n",
       "      <td>Operator</td>\n",
       "      <td>User</td>\n",
       "      <td>...</td>\n",
       "      <td>0</td>\n",
       "      <td>1500</td>\n",
       "      <td>24</td>\n",
       "      <td>25</td>\n",
       "      <td>False</td>\n",
       "      <td>3</td>\n",
       "      <td>SUCCESS</td>\n",
       "      <td>2022-02-22 09:44:33.389402800+00:00</td>\n",
       "      <td>6</td>\n",
       "      <td>4.585923</td>\n",
       "    </tr>\n",
       "    <tr>\n",
       "      <th>1</th>\n",
       "      <td>1645523101</td>\n",
       "      <td>2022-02-22 09:45:01.304103300+00:00</td>\n",
       "      <td>11</td>\n",
       "      <td>50</td>\n",
       "      <td>[1, 2]</td>\n",
       "      <td>4</td>\n",
       "      <td>False</td>\n",
       "      <td>0</td>\n",
       "      <td>Operator</td>\n",
       "      <td>User</td>\n",
       "      <td>...</td>\n",
       "      <td>0</td>\n",
       "      <td>1500</td>\n",
       "      <td>24</td>\n",
       "      <td>25</td>\n",
       "      <td>False</td>\n",
       "      <td>3</td>\n",
       "      <td>SUCCESS</td>\n",
       "      <td>2022-02-22 09:46:34.929092800+00:00</td>\n",
       "      <td>11</td>\n",
       "      <td>2.917403</td>\n",
       "    </tr>\n",
       "    <tr>\n",
       "      <th>2</th>\n",
       "      <td>1645523250</td>\n",
       "      <td>2022-02-22 09:47:30.319733400+00:00</td>\n",
       "      <td>7</td>\n",
       "      <td>50</td>\n",
       "      <td>[1, 2]</td>\n",
       "      <td>4</td>\n",
       "      <td>False</td>\n",
       "      <td>0</td>\n",
       "      <td>Operator</td>\n",
       "      <td>User</td>\n",
       "      <td>...</td>\n",
       "      <td>0</td>\n",
       "      <td>1500</td>\n",
       "      <td>24</td>\n",
       "      <td>25</td>\n",
       "      <td>False</td>\n",
       "      <td>3</td>\n",
       "      <td>SUCCESS</td>\n",
       "      <td>2022-02-22 09:48:37.554887700+00:00</td>\n",
       "      <td>7</td>\n",
       "      <td>0.423666</td>\n",
       "    </tr>\n",
       "    <tr>\n",
       "      <th>3</th>\n",
       "      <td>1645523396</td>\n",
       "      <td>2022-02-22 09:49:56.298588500+00:00</td>\n",
       "      <td>11</td>\n",
       "      <td>50</td>\n",
       "      <td>[1, 2]</td>\n",
       "      <td>4</td>\n",
       "      <td>False</td>\n",
       "      <td>0</td>\n",
       "      <td>Operator</td>\n",
       "      <td>User</td>\n",
       "      <td>...</td>\n",
       "      <td>0</td>\n",
       "      <td>1500</td>\n",
       "      <td>24</td>\n",
       "      <td>25</td>\n",
       "      <td>False</td>\n",
       "      <td>3</td>\n",
       "      <td>SUCCESS</td>\n",
       "      <td>2022-02-22 09:51:14.406099700+00:00</td>\n",
       "      <td>11</td>\n",
       "      <td>1.100145</td>\n",
       "    </tr>\n",
       "    <tr>\n",
       "      <th>4</th>\n",
       "      <td>1645523577</td>\n",
       "      <td>2022-02-22 09:52:57.305045100+00:00</td>\n",
       "      <td>47</td>\n",
       "      <td>50</td>\n",
       "      <td>[1, 2]</td>\n",
       "      <td>4</td>\n",
       "      <td>False</td>\n",
       "      <td>0</td>\n",
       "      <td>Operator</td>\n",
       "      <td>User</td>\n",
       "      <td>...</td>\n",
       "      <td>0</td>\n",
       "      <td>1500</td>\n",
       "      <td>24</td>\n",
       "      <td>25</td>\n",
       "      <td>False</td>\n",
       "      <td>3</td>\n",
       "      <td>SUCCESS</td>\n",
       "      <td>2022-02-22 09:55:59.993608800+00:00</td>\n",
       "      <td>47</td>\n",
       "      <td>4.701610</td>\n",
       "    </tr>\n",
       "  </tbody>\n",
       "</table>\n",
       "<p>5 rows × 44 columns</p>\n",
       "</div>"
      ],
      "text/plain": [
       "        jobId                      timestamp_start  total_copies_requested  \\\n",
       "0  1645522997  2022-02-22 09:43:18.116647800+00:00                       6   \n",
       "1  1645523101  2022-02-22 09:45:01.304103300+00:00                      11   \n",
       "2  1645523250  2022-02-22 09:47:30.319733400+00:00                       7   \n",
       "3  1645523396  2022-02-22 09:49:56.298588500+00:00                      11   \n",
       "4  1645523577  2022-02-22 09:52:57.305045100+00:00                      47   \n",
       "\n",
       "   LED    bars  drops  dithering  deadPixelsOffset operator_level operator  \\\n",
       "0   50  [1, 2]      4      False                 0       Operator     User   \n",
       "1   50  [1, 2]      4      False                 0       Operator     User   \n",
       "2   50  [1, 2]      4      False                 0       Operator     User   \n",
       "3   50  [1, 2]      4      False                 0       Operator     User   \n",
       "4   50  [1, 2]      4      False                 0       Operator     User   \n",
       "\n",
       "   ...  exposureTime_manualLighting_remoteScannerRegistration  \\\n",
       "0  ...                                                  0       \n",
       "1  ...                                                  0       \n",
       "2  ...                                                  0       \n",
       "3  ...                                                  0       \n",
       "4  ...                                                  0       \n",
       "\n",
       "   redScore_fullScannerMode_remoteScannerRegistration  \\\n",
       "0                                               1500    \n",
       "1                                               1500    \n",
       "2                                               1500    \n",
       "3                                               1500    \n",
       "4                                               1500    \n",
       "\n",
       "   blueScore_fullScannerMode_remoteScannerRegistration  \\\n",
       "0                                                 24     \n",
       "1                                                 24     \n",
       "2                                                 24     \n",
       "3                                                 24     \n",
       "4                                                 24     \n",
       "\n",
       "   greenScore_fullScannerMode_remoteScannerRegistration  \\\n",
       "0                                                 25      \n",
       "1                                                 25      \n",
       "2                                                 25      \n",
       "3                                                 25      \n",
       "4                                                 25      \n",
       "\n",
       "   enable_specialSubstrate_remoteScannerRegistration  \\\n",
       "0                                              False   \n",
       "1                                              False   \n",
       "2                                              False   \n",
       "3                                              False   \n",
       "4                                              False   \n",
       "\n",
       "  mode_remoteScannerRegistration  jobState  \\\n",
       "0                              3   SUCCESS   \n",
       "1                              3   SUCCESS   \n",
       "2                              3   SUCCESS   \n",
       "3                              3   SUCCESS   \n",
       "4                              3   SUCCESS   \n",
       "\n",
       "                         timestamp_end  total_copies  \\\n",
       "0  2022-02-22 09:44:33.389402800+00:00             6   \n",
       "1  2022-02-22 09:46:34.929092800+00:00            11   \n",
       "2  2022-02-22 09:48:37.554887700+00:00             7   \n",
       "3  2022-02-22 09:51:14.406099700+00:00            11   \n",
       "4  2022-02-22 09:55:59.993608800+00:00            47   \n",
       "\n",
       "   varnishConsumptionVarnish_3d  \n",
       "0                      4.585923  \n",
       "1                      2.917403  \n",
       "2                      0.423666  \n",
       "3                      1.100145  \n",
       "4                      4.701610  \n",
       "\n",
       "[5 rows x 44 columns]"
      ]
     },
     "execution_count": 96,
     "metadata": {},
     "output_type": "execute_result"
    }
   ],
   "source": [
    "events_df.head()"
   ]
  },
  {
   "cell_type": "code",
   "execution_count": 97,
   "metadata": {},
   "outputs": [
    {
     "data": {
      "text/plain": [
       "(37398, 44)"
      ]
     },
     "execution_count": 97,
     "metadata": {},
     "output_type": "execute_result"
    }
   ],
   "source": [
    "events_df.shape"
   ]
  },
  {
   "cell_type": "code",
   "execution_count": 98,
   "metadata": {},
   "outputs": [
    {
     "data": {
      "text/plain": [
       "(37299, 18)"
      ]
     },
     "execution_count": 98,
     "metadata": {},
     "output_type": "execute_result"
    }
   ],
   "source": [
    "jobs_df.shape"
   ]
  },
  {
   "cell_type": "code",
   "execution_count": 99,
   "metadata": {},
   "outputs": [],
   "source": [
    "# on supprime les lignes dans events_df qui n'ont pas de JobId qui coïncident avec 'id_on_machine' de jobs_df\n",
    "events_df = events_df[events_df['jobId'].isin(jobs_df['id_on_machine'])]"
   ]
  },
  {
   "cell_type": "code",
   "execution_count": 100,
   "metadata": {},
   "outputs": [
    {
     "data": {
      "text/plain": [
       "(37299, 44)"
      ]
     },
     "execution_count": 100,
     "metadata": {},
     "output_type": "execute_result"
    }
   ],
   "source": [
    "events_df.shape"
   ]
  },
  {
   "cell_type": "code",
   "execution_count": 101,
   "metadata": {},
   "outputs": [
    {
     "data": {
      "text/plain": [
       "['operator', 'operator_level', 'paperName']"
      ]
     },
     "execution_count": 101,
     "metadata": {},
     "output_type": "execute_result"
    }
   ],
   "source": [
    "# # on liste les colonnes des deux dataframes contenant toutes leurs valeurs identiques\n",
    "# col_with_duplicates = []\n",
    "# for col in common_cols :\n",
    "#     if (events_df[col].values == jobs_df[col].values).all():\n",
    "#         col_with_duplicates.append(col)\n",
    "# col_with_duplicates\n",
    "col_with_duplicates = []\n",
    "for col in common_cols:\n",
    "    # Vérifier si les deux colonnes ont la même longueur\n",
    "    if len(events_df[col]) == len(jobs_df[col]):\n",
    "        # Si elles ont la même longueur, effectuer la comparaison\n",
    "        if (events_df[col].values == jobs_df[col].values).all():\n",
    "            col_with_duplicates.append(col)\n",
    "    else:\n",
    "        print(f\"Les colonnes {col} n'ont pas la même longueur.\")\n",
    "col_with_duplicates"
   ]
  },
  {
   "cell_type": "code",
   "execution_count": 102,
   "metadata": {},
   "outputs": [],
   "source": [
    "# suppression des colonnes de jobs en doublons dans events\n",
    "jobs_df = jobs_df.drop(col_with_duplicates, axis=1)"
   ]
  },
  {
   "attachments": {},
   "cell_type": "markdown",
   "metadata": {},
   "source": [
    "### 4. Fusion des dataframes"
   ]
  },
  {
   "cell_type": "code",
   "execution_count": 103,
   "metadata": {},
   "outputs": [],
   "source": [
    "merge_df = pd.merge(jobs_df, events_df, left_on='id_on_machine', right_on='jobId', suffixes=['_job', '_event'])\n",
    "merge_df = merge_df.drop('id_on_machine', axis=1)"
   ]
  },
  {
   "attachments": {},
   "cell_type": "markdown",
   "metadata": {},
   "source": [
    "### 5. Vérification"
   ]
  },
  {
   "cell_type": "code",
   "execution_count": 104,
   "metadata": {},
   "outputs": [
    {
     "data": {
      "text/plain": [
       "False"
      ]
     },
     "execution_count": 104,
     "metadata": {},
     "output_type": "execute_result"
    }
   ],
   "source": [
    "# on verifie que les jobId sont uniques\n",
    "merge_df.jobId.duplicated().any()"
   ]
  },
  {
   "cell_type": "code",
   "execution_count": 105,
   "metadata": {},
   "outputs": [
    {
     "data": {
      "text/html": [
       "<div>\n",
       "<style scoped>\n",
       "    .dataframe tbody tr th:only-of-type {\n",
       "        vertical-align: middle;\n",
       "    }\n",
       "\n",
       "    .dataframe tbody tr th {\n",
       "        vertical-align: top;\n",
       "    }\n",
       "\n",
       "    .dataframe thead th {\n",
       "        text-align: right;\n",
       "    }\n",
       "</style>\n",
       "<table border=\"1\" class=\"dataframe\">\n",
       "  <thead>\n",
       "    <tr style=\"text-align: right;\">\n",
       "      <th></th>\n",
       "      <th>total_copies_job</th>\n",
       "      <th>started_at</th>\n",
       "      <th>ended_at</th>\n",
       "      <th>speed_job</th>\n",
       "      <th>paperHeight_job</th>\n",
       "      <th>paperWidth_job</th>\n",
       "      <th>total_copies_requested_job</th>\n",
       "      <th>ifoil_job</th>\n",
       "      <th>scanner_mode</th>\n",
       "      <th>bars_job</th>\n",
       "      <th>...</th>\n",
       "      <th>exposureTime_manualLighting_remoteScannerRegistration</th>\n",
       "      <th>redScore_fullScannerMode_remoteScannerRegistration</th>\n",
       "      <th>blueScore_fullScannerMode_remoteScannerRegistration</th>\n",
       "      <th>greenScore_fullScannerMode_remoteScannerRegistration</th>\n",
       "      <th>enable_specialSubstrate_remoteScannerRegistration</th>\n",
       "      <th>mode_remoteScannerRegistration</th>\n",
       "      <th>jobState</th>\n",
       "      <th>timestamp_end</th>\n",
       "      <th>total_copies_event</th>\n",
       "      <th>varnishConsumptionVarnish_3d_event</th>\n",
       "    </tr>\n",
       "  </thead>\n",
       "  <tbody>\n",
       "    <tr>\n",
       "      <th>0</th>\n",
       "      <td>6</td>\n",
       "      <td>2022-02-22 09:43:18.116000+00:00</td>\n",
       "      <td>2022-02-22 09:44:33.389000+00:00</td>\n",
       "      <td>313</td>\n",
       "      <td>483</td>\n",
       "      <td>330</td>\n",
       "      <td>6</td>\n",
       "      <td>True</td>\n",
       "      <td>3</td>\n",
       "      <td>2</td>\n",
       "      <td>...</td>\n",
       "      <td>0</td>\n",
       "      <td>1500</td>\n",
       "      <td>24</td>\n",
       "      <td>25</td>\n",
       "      <td>False</td>\n",
       "      <td>3</td>\n",
       "      <td>SUCCESS</td>\n",
       "      <td>2022-02-22 09:44:33.389402800+00:00</td>\n",
       "      <td>6</td>\n",
       "      <td>4.585923</td>\n",
       "    </tr>\n",
       "    <tr>\n",
       "      <th>1</th>\n",
       "      <td>11</td>\n",
       "      <td>2022-02-22 09:45:01.304000+00:00</td>\n",
       "      <td>2022-02-22 09:46:34.929000+00:00</td>\n",
       "      <td>313</td>\n",
       "      <td>483</td>\n",
       "      <td>330</td>\n",
       "      <td>11</td>\n",
       "      <td>True</td>\n",
       "      <td>3</td>\n",
       "      <td>2</td>\n",
       "      <td>...</td>\n",
       "      <td>0</td>\n",
       "      <td>1500</td>\n",
       "      <td>24</td>\n",
       "      <td>25</td>\n",
       "      <td>False</td>\n",
       "      <td>3</td>\n",
       "      <td>SUCCESS</td>\n",
       "      <td>2022-02-22 09:46:34.929092800+00:00</td>\n",
       "      <td>11</td>\n",
       "      <td>2.917403</td>\n",
       "    </tr>\n",
       "    <tr>\n",
       "      <th>2</th>\n",
       "      <td>7</td>\n",
       "      <td>2022-02-22 09:47:30.319000+00:00</td>\n",
       "      <td>2022-02-22 09:48:37.554000+00:00</td>\n",
       "      <td>313</td>\n",
       "      <td>483</td>\n",
       "      <td>330</td>\n",
       "      <td>7</td>\n",
       "      <td>True</td>\n",
       "      <td>3</td>\n",
       "      <td>2</td>\n",
       "      <td>...</td>\n",
       "      <td>0</td>\n",
       "      <td>1500</td>\n",
       "      <td>24</td>\n",
       "      <td>25</td>\n",
       "      <td>False</td>\n",
       "      <td>3</td>\n",
       "      <td>SUCCESS</td>\n",
       "      <td>2022-02-22 09:48:37.554887700+00:00</td>\n",
       "      <td>7</td>\n",
       "      <td>0.423666</td>\n",
       "    </tr>\n",
       "    <tr>\n",
       "      <th>3</th>\n",
       "      <td>11</td>\n",
       "      <td>2022-02-22 09:49:56.298000+00:00</td>\n",
       "      <td>2022-02-22 09:51:14.406000+00:00</td>\n",
       "      <td>313</td>\n",
       "      <td>483</td>\n",
       "      <td>330</td>\n",
       "      <td>11</td>\n",
       "      <td>True</td>\n",
       "      <td>3</td>\n",
       "      <td>2</td>\n",
       "      <td>...</td>\n",
       "      <td>0</td>\n",
       "      <td>1500</td>\n",
       "      <td>24</td>\n",
       "      <td>25</td>\n",
       "      <td>False</td>\n",
       "      <td>3</td>\n",
       "      <td>SUCCESS</td>\n",
       "      <td>2022-02-22 09:51:14.406099700+00:00</td>\n",
       "      <td>11</td>\n",
       "      <td>1.100145</td>\n",
       "    </tr>\n",
       "    <tr>\n",
       "      <th>4</th>\n",
       "      <td>47</td>\n",
       "      <td>2022-02-22 09:52:57.305000+00:00</td>\n",
       "      <td>2022-02-22 09:55:59.993000+00:00</td>\n",
       "      <td>313</td>\n",
       "      <td>483</td>\n",
       "      <td>330</td>\n",
       "      <td>47</td>\n",
       "      <td>True</td>\n",
       "      <td>3</td>\n",
       "      <td>2</td>\n",
       "      <td>...</td>\n",
       "      <td>0</td>\n",
       "      <td>1500</td>\n",
       "      <td>24</td>\n",
       "      <td>25</td>\n",
       "      <td>False</td>\n",
       "      <td>3</td>\n",
       "      <td>SUCCESS</td>\n",
       "      <td>2022-02-22 09:55:59.993608800+00:00</td>\n",
       "      <td>47</td>\n",
       "      <td>4.701610</td>\n",
       "    </tr>\n",
       "  </tbody>\n",
       "</table>\n",
       "<p>5 rows × 58 columns</p>\n",
       "</div>"
      ],
      "text/plain": [
       "   total_copies_job                        started_at  \\\n",
       "0                 6  2022-02-22 09:43:18.116000+00:00   \n",
       "1                11  2022-02-22 09:45:01.304000+00:00   \n",
       "2                 7  2022-02-22 09:47:30.319000+00:00   \n",
       "3                11  2022-02-22 09:49:56.298000+00:00   \n",
       "4                47  2022-02-22 09:52:57.305000+00:00   \n",
       "\n",
       "                           ended_at  speed_job  paperHeight_job  \\\n",
       "0  2022-02-22 09:44:33.389000+00:00        313              483   \n",
       "1  2022-02-22 09:46:34.929000+00:00        313              483   \n",
       "2  2022-02-22 09:48:37.554000+00:00        313              483   \n",
       "3  2022-02-22 09:51:14.406000+00:00        313              483   \n",
       "4  2022-02-22 09:55:59.993000+00:00        313              483   \n",
       "\n",
       "   paperWidth_job  total_copies_requested_job  ifoil_job  scanner_mode  \\\n",
       "0             330                           6       True             3   \n",
       "1             330                          11       True             3   \n",
       "2             330                           7       True             3   \n",
       "3             330                          11       True             3   \n",
       "4             330                          47       True             3   \n",
       "\n",
       "   bars_job  ...  exposureTime_manualLighting_remoteScannerRegistration  \\\n",
       "0         2  ...                                                  0       \n",
       "1         2  ...                                                  0       \n",
       "2         2  ...                                                  0       \n",
       "3         2  ...                                                  0       \n",
       "4         2  ...                                                  0       \n",
       "\n",
       "   redScore_fullScannerMode_remoteScannerRegistration  \\\n",
       "0                                               1500    \n",
       "1                                               1500    \n",
       "2                                               1500    \n",
       "3                                               1500    \n",
       "4                                               1500    \n",
       "\n",
       "   blueScore_fullScannerMode_remoteScannerRegistration  \\\n",
       "0                                                 24     \n",
       "1                                                 24     \n",
       "2                                                 24     \n",
       "3                                                 24     \n",
       "4                                                 24     \n",
       "\n",
       "   greenScore_fullScannerMode_remoteScannerRegistration  \\\n",
       "0                                                 25      \n",
       "1                                                 25      \n",
       "2                                                 25      \n",
       "3                                                 25      \n",
       "4                                                 25      \n",
       "\n",
       "   enable_specialSubstrate_remoteScannerRegistration  \\\n",
       "0                                              False   \n",
       "1                                              False   \n",
       "2                                              False   \n",
       "3                                              False   \n",
       "4                                              False   \n",
       "\n",
       "  mode_remoteScannerRegistration  jobState  \\\n",
       "0                              3   SUCCESS   \n",
       "1                              3   SUCCESS   \n",
       "2                              3   SUCCESS   \n",
       "3                              3   SUCCESS   \n",
       "4                              3   SUCCESS   \n",
       "\n",
       "                         timestamp_end total_copies_event  \\\n",
       "0  2022-02-22 09:44:33.389402800+00:00                  6   \n",
       "1  2022-02-22 09:46:34.929092800+00:00                 11   \n",
       "2  2022-02-22 09:48:37.554887700+00:00                  7   \n",
       "3  2022-02-22 09:51:14.406099700+00:00                 11   \n",
       "4  2022-02-22 09:55:59.993608800+00:00                 47   \n",
       "\n",
       "   varnishConsumptionVarnish_3d_event  \n",
       "0                            4.585923  \n",
       "1                            2.917403  \n",
       "2                            0.423666  \n",
       "3                            1.100145  \n",
       "4                            4.701610  \n",
       "\n",
       "[5 rows x 58 columns]"
      ]
     },
     "execution_count": 105,
     "metadata": {},
     "output_type": "execute_result"
    }
   ],
   "source": [
    "merge_df.head()"
   ]
  },
  {
   "cell_type": "code",
   "execution_count": 106,
   "metadata": {},
   "outputs": [
    {
     "data": {
      "text/plain": [
       "Index(['total_copies_job', 'started_at', 'ended_at', 'speed_job',\n",
       "       'paperHeight_job', 'paperWidth_job', 'total_copies_requested_job',\n",
       "       'ifoil_job', 'scanner_mode', 'bars_job',\n",
       "       'varnishConsumptionVarnish_3d_job', 'run', 'total_run',\n",
       "       'copies_per_run', 'jobId', 'timestamp_start',\n",
       "       'total_copies_requested_event', 'LED', 'bars_event', 'drops',\n",
       "       'dithering', 'deadPixelsOffset', 'operator_level', 'operator',\n",
       "       'speed_ifoil', 'ifoil_event', 'optifoil_ifoil', 'vacuumIn_ifoil',\n",
       "       'vacuumOut_ifoil', 'stampAreas_ifoil', 'heater1Enabled_ifoil',\n",
       "       'speedTensionIn_ifoil', 'speedTensionOut_ifoil',\n",
       "       'heater1Temperature_ifoil', 'x_imageLayout', 'y_imageLayout',\n",
       "       'paperName', 'paperWidth_event', 'paperHeight_event', 'speed_event',\n",
       "       'power_irDryers', 'power_uvDryers',\n",
       "       'redScore_gridMode_remoteScannerRegistration',\n",
       "       'redScore_cropmarksMode_remoteScannerRegistration',\n",
       "       'x_cropmark1_cropmarksMode_remoteScannerRegistration',\n",
       "       'y_cropmark1_cropmarksMode_remoteScannerRegistration',\n",
       "       'x_cropmark2_cropmarksMode_remoteScannerRegistration',\n",
       "       'y_cropmark2_cropmarksMode_remoteScannerRegistration',\n",
       "       'exposureTime_manualLighting_remoteScannerRegistration',\n",
       "       'redScore_fullScannerMode_remoteScannerRegistration',\n",
       "       'blueScore_fullScannerMode_remoteScannerRegistration',\n",
       "       'greenScore_fullScannerMode_remoteScannerRegistration',\n",
       "       'enable_specialSubstrate_remoteScannerRegistration',\n",
       "       'mode_remoteScannerRegistration', 'jobState', 'timestamp_end',\n",
       "       'total_copies_event', 'varnishConsumptionVarnish_3d_event'],\n",
       "      dtype='object')"
      ]
     },
     "execution_count": 106,
     "metadata": {},
     "output_type": "execute_result"
    }
   ],
   "source": [
    "merge_df.columns"
   ]
  },
  {
   "cell_type": "code",
   "execution_count": 107,
   "metadata": {},
   "outputs": [],
   "source": [
    "# id temoin\n",
    "check_jobid = 1645522984\n",
    "# détail de la ligne témoin dans chaque dataset\n",
    "jobs_check_line = jobs_df[jobs_df.id_on_machine == check_jobid]\n",
    "events_check_line = events_df[events_df.jobId == check_jobid]\n",
    "merge_check_line = merge_df[merge_df.jobId == check_jobid]"
   ]
  },
  {
   "cell_type": "code",
   "execution_count": 108,
   "metadata": {},
   "outputs": [
    {
     "data": {
      "text/html": [
       "<div>\n",
       "<style scoped>\n",
       "    .dataframe tbody tr th:only-of-type {\n",
       "        vertical-align: middle;\n",
       "    }\n",
       "\n",
       "    .dataframe tbody tr th {\n",
       "        vertical-align: top;\n",
       "    }\n",
       "\n",
       "    .dataframe thead th {\n",
       "        text-align: right;\n",
       "    }\n",
       "</style>\n",
       "<table border=\"1\" class=\"dataframe\">\n",
       "  <thead>\n",
       "    <tr style=\"text-align: right;\">\n",
       "      <th></th>\n",
       "      <th>total_copies</th>\n",
       "      <th>started_at</th>\n",
       "      <th>ended_at</th>\n",
       "      <th>speed</th>\n",
       "      <th>paperHeight</th>\n",
       "      <th>paperWidth</th>\n",
       "      <th>id_on_machine</th>\n",
       "      <th>total_copies_requested</th>\n",
       "      <th>ifoil</th>\n",
       "      <th>scanner_mode</th>\n",
       "      <th>bars</th>\n",
       "      <th>varnishConsumptionVarnish_3d</th>\n",
       "      <th>run</th>\n",
       "      <th>total_run</th>\n",
       "      <th>copies_per_run</th>\n",
       "    </tr>\n",
       "  </thead>\n",
       "  <tbody>\n",
       "  </tbody>\n",
       "</table>\n",
       "</div>"
      ],
      "text/plain": [
       "Empty DataFrame\n",
       "Columns: [total_copies, started_at, ended_at, speed, paperHeight, paperWidth, id_on_machine, total_copies_requested, ifoil, scanner_mode, bars, varnishConsumptionVarnish_3d, run, total_run, copies_per_run]\n",
       "Index: []"
      ]
     },
     "execution_count": 108,
     "metadata": {},
     "output_type": "execute_result"
    }
   ],
   "source": [
    "jobs_check_line"
   ]
  },
  {
   "cell_type": "code",
   "execution_count": 109,
   "metadata": {},
   "outputs": [
    {
     "data": {
      "text/html": [
       "<div>\n",
       "<style scoped>\n",
       "    .dataframe tbody tr th:only-of-type {\n",
       "        vertical-align: middle;\n",
       "    }\n",
       "\n",
       "    .dataframe tbody tr th {\n",
       "        vertical-align: top;\n",
       "    }\n",
       "\n",
       "    .dataframe thead th {\n",
       "        text-align: right;\n",
       "    }\n",
       "</style>\n",
       "<table border=\"1\" class=\"dataframe\">\n",
       "  <thead>\n",
       "    <tr style=\"text-align: right;\">\n",
       "      <th></th>\n",
       "      <th>jobId</th>\n",
       "      <th>timestamp_start</th>\n",
       "      <th>total_copies_requested</th>\n",
       "      <th>LED</th>\n",
       "      <th>bars</th>\n",
       "      <th>drops</th>\n",
       "      <th>dithering</th>\n",
       "      <th>deadPixelsOffset</th>\n",
       "      <th>operator_level</th>\n",
       "      <th>operator</th>\n",
       "      <th>...</th>\n",
       "      <th>exposureTime_manualLighting_remoteScannerRegistration</th>\n",
       "      <th>redScore_fullScannerMode_remoteScannerRegistration</th>\n",
       "      <th>blueScore_fullScannerMode_remoteScannerRegistration</th>\n",
       "      <th>greenScore_fullScannerMode_remoteScannerRegistration</th>\n",
       "      <th>enable_specialSubstrate_remoteScannerRegistration</th>\n",
       "      <th>mode_remoteScannerRegistration</th>\n",
       "      <th>jobState</th>\n",
       "      <th>timestamp_end</th>\n",
       "      <th>total_copies</th>\n",
       "      <th>varnishConsumptionVarnish_3d</th>\n",
       "    </tr>\n",
       "  </thead>\n",
       "  <tbody>\n",
       "  </tbody>\n",
       "</table>\n",
       "<p>0 rows × 44 columns</p>\n",
       "</div>"
      ],
      "text/plain": [
       "Empty DataFrame\n",
       "Columns: [jobId, timestamp_start, total_copies_requested, LED, bars, drops, dithering, deadPixelsOffset, operator_level, operator, speed_ifoil, ifoil, optifoil_ifoil, vacuumIn_ifoil, vacuumOut_ifoil, stampAreas_ifoil, heater1Enabled_ifoil, speedTensionIn_ifoil, speedTensionOut_ifoil, heater1Temperature_ifoil, x_imageLayout, y_imageLayout, paperName, paperWidth, paperHeight, speed, power_irDryers, power_uvDryers, redScore_gridMode_remoteScannerRegistration, redScore_cropmarksMode_remoteScannerRegistration, x_cropmark1_cropmarksMode_remoteScannerRegistration, y_cropmark1_cropmarksMode_remoteScannerRegistration, x_cropmark2_cropmarksMode_remoteScannerRegistration, y_cropmark2_cropmarksMode_remoteScannerRegistration, exposureTime_manualLighting_remoteScannerRegistration, redScore_fullScannerMode_remoteScannerRegistration, blueScore_fullScannerMode_remoteScannerRegistration, greenScore_fullScannerMode_remoteScannerRegistration, enable_specialSubstrate_remoteScannerRegistration, mode_remoteScannerRegistration, jobState, timestamp_end, total_copies, varnishConsumptionVarnish_3d]\n",
       "Index: []\n",
       "\n",
       "[0 rows x 44 columns]"
      ]
     },
     "execution_count": 109,
     "metadata": {},
     "output_type": "execute_result"
    }
   ],
   "source": [
    "events_check_line"
   ]
  },
  {
   "cell_type": "code",
   "execution_count": 110,
   "metadata": {},
   "outputs": [
    {
     "data": {
      "text/html": [
       "<div>\n",
       "<style scoped>\n",
       "    .dataframe tbody tr th:only-of-type {\n",
       "        vertical-align: middle;\n",
       "    }\n",
       "\n",
       "    .dataframe tbody tr th {\n",
       "        vertical-align: top;\n",
       "    }\n",
       "\n",
       "    .dataframe thead th {\n",
       "        text-align: right;\n",
       "    }\n",
       "</style>\n",
       "<table border=\"1\" class=\"dataframe\">\n",
       "  <thead>\n",
       "    <tr style=\"text-align: right;\">\n",
       "      <th></th>\n",
       "      <th>total_copies_job</th>\n",
       "      <th>started_at</th>\n",
       "      <th>ended_at</th>\n",
       "      <th>speed_job</th>\n",
       "      <th>paperHeight_job</th>\n",
       "      <th>paperWidth_job</th>\n",
       "      <th>total_copies_requested_job</th>\n",
       "      <th>ifoil_job</th>\n",
       "      <th>scanner_mode</th>\n",
       "      <th>bars_job</th>\n",
       "      <th>...</th>\n",
       "      <th>exposureTime_manualLighting_remoteScannerRegistration</th>\n",
       "      <th>redScore_fullScannerMode_remoteScannerRegistration</th>\n",
       "      <th>blueScore_fullScannerMode_remoteScannerRegistration</th>\n",
       "      <th>greenScore_fullScannerMode_remoteScannerRegistration</th>\n",
       "      <th>enable_specialSubstrate_remoteScannerRegistration</th>\n",
       "      <th>mode_remoteScannerRegistration</th>\n",
       "      <th>jobState</th>\n",
       "      <th>timestamp_end</th>\n",
       "      <th>total_copies_event</th>\n",
       "      <th>varnishConsumptionVarnish_3d_event</th>\n",
       "    </tr>\n",
       "  </thead>\n",
       "  <tbody>\n",
       "  </tbody>\n",
       "</table>\n",
       "<p>0 rows × 58 columns</p>\n",
       "</div>"
      ],
      "text/plain": [
       "Empty DataFrame\n",
       "Columns: [total_copies_job, started_at, ended_at, speed_job, paperHeight_job, paperWidth_job, total_copies_requested_job, ifoil_job, scanner_mode, bars_job, varnishConsumptionVarnish_3d_job, run, total_run, copies_per_run, jobId, timestamp_start, total_copies_requested_event, LED, bars_event, drops, dithering, deadPixelsOffset, operator_level, operator, speed_ifoil, ifoil_event, optifoil_ifoil, vacuumIn_ifoil, vacuumOut_ifoil, stampAreas_ifoil, heater1Enabled_ifoil, speedTensionIn_ifoil, speedTensionOut_ifoil, heater1Temperature_ifoil, x_imageLayout, y_imageLayout, paperName, paperWidth_event, paperHeight_event, speed_event, power_irDryers, power_uvDryers, redScore_gridMode_remoteScannerRegistration, redScore_cropmarksMode_remoteScannerRegistration, x_cropmark1_cropmarksMode_remoteScannerRegistration, y_cropmark1_cropmarksMode_remoteScannerRegistration, x_cropmark2_cropmarksMode_remoteScannerRegistration, y_cropmark2_cropmarksMode_remoteScannerRegistration, exposureTime_manualLighting_remoteScannerRegistration, redScore_fullScannerMode_remoteScannerRegistration, blueScore_fullScannerMode_remoteScannerRegistration, greenScore_fullScannerMode_remoteScannerRegistration, enable_specialSubstrate_remoteScannerRegistration, mode_remoteScannerRegistration, jobState, timestamp_end, total_copies_event, varnishConsumptionVarnish_3d_event]\n",
       "Index: []\n",
       "\n",
       "[0 rows x 58 columns]"
      ]
     },
     "execution_count": 110,
     "metadata": {},
     "output_type": "execute_result"
    }
   ],
   "source": [
    "merge_check_line"
   ]
  },
  {
   "cell_type": "code",
   "execution_count": 111,
   "metadata": {},
   "outputs": [],
   "source": [
    "# on conserve les colonnes started_at et ended_at\n",
    "for index, row in merge_df.iterrows():\n",
    "    # on verifie que started_at à le datetime le plus petit\n",
    "    if row.timestamp_start < row.started_at :\n",
    "        row.started_at = row.timestamp_start\n",
    "    # on verifie que ended_at à le datetime le plus grand\n",
    "    if row.timestamp_end > row.ended_at :\n",
    "        row.ended_at = row.timestamp_end"
   ]
  },
  {
   "cell_type": "code",
   "execution_count": 112,
   "metadata": {},
   "outputs": [],
   "source": [
    "merge_df = merge_df.drop(['timestamp_start','timestamp_end'], axis=1)"
   ]
  },
  {
   "cell_type": "code",
   "execution_count": 113,
   "metadata": {},
   "outputs": [],
   "source": [
    "# # conversion des colonnes contenant des valeurs de temsps au format datetime\n",
    "# jobs_df['started_at'] = pd.to_datetime(jobs_df['started_at'], utc=True)\n",
    "# jobs_df['ended_at'] = pd.to_datetime(jobs_df['ended_at'], utc=True)\n",
    "# events_df['timestamp_start'] = pd.to_datetime(events_df['timestamp_start'], utc=True)\n",
    "# events_df['timestamp_end'] = pd.to_datetime(events_df['timestamp_end'], utc=True)"
   ]
  },
  {
   "attachments": {},
   "cell_type": "markdown",
   "metadata": {},
   "source": [
    "### 6. Output csv"
   ]
  },
  {
   "cell_type": "code",
   "execution_count": 114,
   "metadata": {},
   "outputs": [],
   "source": [
    "# sauvegarde du dataset en csv\n",
    "merge_df.to_csv(save_csv)"
   ]
  },
  {
   "cell_type": "code",
   "execution_count": 115,
   "metadata": {},
   "outputs": [
    {
     "data": {
      "text/html": [
       "<div>\n",
       "<style scoped>\n",
       "    .dataframe tbody tr th:only-of-type {\n",
       "        vertical-align: middle;\n",
       "    }\n",
       "\n",
       "    .dataframe tbody tr th {\n",
       "        vertical-align: top;\n",
       "    }\n",
       "\n",
       "    .dataframe thead th {\n",
       "        text-align: right;\n",
       "    }\n",
       "</style>\n",
       "<table border=\"1\" class=\"dataframe\">\n",
       "  <thead>\n",
       "    <tr style=\"text-align: right;\">\n",
       "      <th></th>\n",
       "      <th>total_copies_job</th>\n",
       "      <th>started_at</th>\n",
       "      <th>ended_at</th>\n",
       "      <th>speed_job</th>\n",
       "      <th>paperHeight_job</th>\n",
       "      <th>paperWidth_job</th>\n",
       "      <th>total_copies_requested_job</th>\n",
       "      <th>ifoil_job</th>\n",
       "      <th>scanner_mode</th>\n",
       "      <th>bars_job</th>\n",
       "      <th>...</th>\n",
       "      <th>y_cropmark2_cropmarksMode_remoteScannerRegistration</th>\n",
       "      <th>exposureTime_manualLighting_remoteScannerRegistration</th>\n",
       "      <th>redScore_fullScannerMode_remoteScannerRegistration</th>\n",
       "      <th>blueScore_fullScannerMode_remoteScannerRegistration</th>\n",
       "      <th>greenScore_fullScannerMode_remoteScannerRegistration</th>\n",
       "      <th>enable_specialSubstrate_remoteScannerRegistration</th>\n",
       "      <th>mode_remoteScannerRegistration</th>\n",
       "      <th>jobState</th>\n",
       "      <th>total_copies_event</th>\n",
       "      <th>varnishConsumptionVarnish_3d_event</th>\n",
       "    </tr>\n",
       "  </thead>\n",
       "  <tbody>\n",
       "    <tr>\n",
       "      <th>0</th>\n",
       "      <td>6</td>\n",
       "      <td>2022-02-22 09:43:18.116000+00:00</td>\n",
       "      <td>2022-02-22 09:44:33.389000+00:00</td>\n",
       "      <td>313</td>\n",
       "      <td>483</td>\n",
       "      <td>330</td>\n",
       "      <td>6</td>\n",
       "      <td>True</td>\n",
       "      <td>3</td>\n",
       "      <td>2</td>\n",
       "      <td>...</td>\n",
       "      <td>0</td>\n",
       "      <td>0</td>\n",
       "      <td>1500</td>\n",
       "      <td>24</td>\n",
       "      <td>25</td>\n",
       "      <td>False</td>\n",
       "      <td>3</td>\n",
       "      <td>SUCCESS</td>\n",
       "      <td>6</td>\n",
       "      <td>4.585923</td>\n",
       "    </tr>\n",
       "    <tr>\n",
       "      <th>1</th>\n",
       "      <td>11</td>\n",
       "      <td>2022-02-22 09:45:01.304000+00:00</td>\n",
       "      <td>2022-02-22 09:46:34.929000+00:00</td>\n",
       "      <td>313</td>\n",
       "      <td>483</td>\n",
       "      <td>330</td>\n",
       "      <td>11</td>\n",
       "      <td>True</td>\n",
       "      <td>3</td>\n",
       "      <td>2</td>\n",
       "      <td>...</td>\n",
       "      <td>0</td>\n",
       "      <td>0</td>\n",
       "      <td>1500</td>\n",
       "      <td>24</td>\n",
       "      <td>25</td>\n",
       "      <td>False</td>\n",
       "      <td>3</td>\n",
       "      <td>SUCCESS</td>\n",
       "      <td>11</td>\n",
       "      <td>2.917403</td>\n",
       "    </tr>\n",
       "    <tr>\n",
       "      <th>2</th>\n",
       "      <td>7</td>\n",
       "      <td>2022-02-22 09:47:30.319000+00:00</td>\n",
       "      <td>2022-02-22 09:48:37.554000+00:00</td>\n",
       "      <td>313</td>\n",
       "      <td>483</td>\n",
       "      <td>330</td>\n",
       "      <td>7</td>\n",
       "      <td>True</td>\n",
       "      <td>3</td>\n",
       "      <td>2</td>\n",
       "      <td>...</td>\n",
       "      <td>0</td>\n",
       "      <td>0</td>\n",
       "      <td>1500</td>\n",
       "      <td>24</td>\n",
       "      <td>25</td>\n",
       "      <td>False</td>\n",
       "      <td>3</td>\n",
       "      <td>SUCCESS</td>\n",
       "      <td>7</td>\n",
       "      <td>0.423666</td>\n",
       "    </tr>\n",
       "  </tbody>\n",
       "</table>\n",
       "<p>3 rows × 56 columns</p>\n",
       "</div>"
      ],
      "text/plain": [
       "   total_copies_job                        started_at  \\\n",
       "0                 6  2022-02-22 09:43:18.116000+00:00   \n",
       "1                11  2022-02-22 09:45:01.304000+00:00   \n",
       "2                 7  2022-02-22 09:47:30.319000+00:00   \n",
       "\n",
       "                           ended_at  speed_job  paperHeight_job  \\\n",
       "0  2022-02-22 09:44:33.389000+00:00        313              483   \n",
       "1  2022-02-22 09:46:34.929000+00:00        313              483   \n",
       "2  2022-02-22 09:48:37.554000+00:00        313              483   \n",
       "\n",
       "   paperWidth_job  total_copies_requested_job  ifoil_job  scanner_mode  \\\n",
       "0             330                           6       True             3   \n",
       "1             330                          11       True             3   \n",
       "2             330                           7       True             3   \n",
       "\n",
       "   bars_job  ...  y_cropmark2_cropmarksMode_remoteScannerRegistration  \\\n",
       "0         2  ...                                                  0     \n",
       "1         2  ...                                                  0     \n",
       "2         2  ...                                                  0     \n",
       "\n",
       "   exposureTime_manualLighting_remoteScannerRegistration  \\\n",
       "0                                                  0       \n",
       "1                                                  0       \n",
       "2                                                  0       \n",
       "\n",
       "   redScore_fullScannerMode_remoteScannerRegistration  \\\n",
       "0                                               1500    \n",
       "1                                               1500    \n",
       "2                                               1500    \n",
       "\n",
       "   blueScore_fullScannerMode_remoteScannerRegistration  \\\n",
       "0                                                 24     \n",
       "1                                                 24     \n",
       "2                                                 24     \n",
       "\n",
       "   greenScore_fullScannerMode_remoteScannerRegistration  \\\n",
       "0                                                 25      \n",
       "1                                                 25      \n",
       "2                                                 25      \n",
       "\n",
       "   enable_specialSubstrate_remoteScannerRegistration  \\\n",
       "0                                              False   \n",
       "1                                              False   \n",
       "2                                              False   \n",
       "\n",
       "   mode_remoteScannerRegistration jobState  total_copies_event  \\\n",
       "0                               3  SUCCESS                   6   \n",
       "1                               3  SUCCESS                  11   \n",
       "2                               3  SUCCESS                   7   \n",
       "\n",
       "   varnishConsumptionVarnish_3d_event  \n",
       "0                            4.585923  \n",
       "1                            2.917403  \n",
       "2                            0.423666  \n",
       "\n",
       "[3 rows x 56 columns]"
      ]
     },
     "execution_count": 115,
     "metadata": {},
     "output_type": "execute_result"
    }
   ],
   "source": [
    "merge_df.head(3)"
   ]
  },
  {
   "cell_type": "code",
   "execution_count": 116,
   "metadata": {},
   "outputs": [
    {
     "name": "stdout",
     "output_type": "stream",
     "text": [
      "Column total_copies_job has 175 unique values.\n",
      "Column started_at has 37299 unique values.\n",
      "Column ended_at has 37299 unique values.\n",
      "Column speed_job has 56 unique values.\n",
      "Column paperHeight_job has 11 unique values.\n",
      "Column paperWidth_job has 11 unique values.\n",
      "Column total_copies_requested_job has 179 unique values.\n",
      "Column ifoil_job has 2 unique values.\n",
      "Column scanner_mode has 4 unique values.\n",
      "Column bars_job has 2 unique values.\n",
      "Column varnishConsumptionVarnish_3d_job has 34125 unique values.\n",
      "Column run has 2 unique values.\n",
      "Column total_run has 2 unique values.\n",
      "Column copies_per_run has 107 unique values.\n",
      "Column jobId has 37299 unique values.\n",
      "Column total_copies_requested_event has 179 unique values.\n",
      "Column LED has 20 unique values.\n",
      "Column bars_event has 3 unique values.\n",
      "Column drops has 8 unique values.\n",
      "Column dithering has 2 unique values.\n",
      "Column deadPixelsOffset has 5 unique values.\n",
      "Column operator_level has 2 unique values.\n",
      "Column operator has 2 unique values.\n",
      "Column speed_ifoil has 32 unique values.\n",
      "Column ifoil_event has 2 unique values.\n",
      "Column optifoil_ifoil has 2 unique values.\n",
      "Column vacuumIn_ifoil has 2 unique values.\n",
      "Column vacuumOut_ifoil has 2 unique values.\n",
      "Column stampAreas_ifoil has 26 unique values.\n",
      "Column heater1Enabled_ifoil has 2 unique values.\n",
      "Column speedTensionIn_ifoil has 10 unique values.\n",
      "Column speedTensionOut_ifoil has 8 unique values.\n",
      "Column heater1Temperature_ifoil has 44 unique values.\n",
      "Column x_imageLayout has 67 unique values.\n",
      "Column y_imageLayout has 81 unique values.\n",
      "Column paperName has 3 unique values.\n",
      "Column paperWidth_event has 14 unique values.\n",
      "Column paperHeight_event has 13 unique values.\n",
      "Column speed_event has 56 unique values.\n",
      "Column power_irDryers has 18 unique values.\n",
      "Column power_uvDryers has 35 unique values.\n",
      "Column redScore_gridMode_remoteScannerRegistration has 26 unique values.\n",
      "Column redScore_cropmarksMode_remoteScannerRegistration has 26 unique values.\n",
      "Column x_cropmark1_cropmarksMode_remoteScannerRegistration has 15 unique values.\n",
      "Column y_cropmark1_cropmarksMode_remoteScannerRegistration has 13 unique values.\n",
      "Column x_cropmark2_cropmarksMode_remoteScannerRegistration has 15 unique values.\n",
      "Column y_cropmark2_cropmarksMode_remoteScannerRegistration has 13 unique values.\n",
      "Column exposureTime_manualLighting_remoteScannerRegistration has 8 unique values.\n",
      "Column redScore_fullScannerMode_remoteScannerRegistration has 26 unique values.\n",
      "Column blueScore_fullScannerMode_remoteScannerRegistration has 13 unique values.\n",
      "Column greenScore_fullScannerMode_remoteScannerRegistration has 11 unique values.\n",
      "Column enable_specialSubstrate_remoteScannerRegistration has 2 unique values.\n",
      "Column mode_remoteScannerRegistration has 4 unique values.\n",
      "Column jobState has 4 unique values.\n",
      "Column total_copies_event has 175 unique values.\n",
      "Column varnishConsumptionVarnish_3d_event has 34125 unique values.\n"
     ]
    }
   ],
   "source": [
    "for col in merge_df.columns:\n",
    "    unique_values = merge_df[col].nunique()\n",
    "    print(f\"Column {col} has {unique_values} unique values.\")\n"
   ]
  },
  {
   "cell_type": "code",
   "execution_count": 117,
   "metadata": {},
   "outputs": [
    {
     "name": "stdout",
     "output_type": "stream",
     "text": [
      "<class 'pandas.core.frame.DataFrame'>\n",
      "Int64Index: 37299 entries, 0 to 37298\n",
      "Data columns (total 56 columns):\n",
      " #   Column                                                 Non-Null Count  Dtype  \n",
      "---  ------                                                 --------------  -----  \n",
      " 0   total_copies_job                                       37299 non-null  int64  \n",
      " 1   started_at                                             37299 non-null  object \n",
      " 2   ended_at                                               37299 non-null  object \n",
      " 3   speed_job                                              37299 non-null  int64  \n",
      " 4   paperHeight_job                                        37299 non-null  int64  \n",
      " 5   paperWidth_job                                         37299 non-null  int64  \n",
      " 6   total_copies_requested_job                             37299 non-null  int64  \n",
      " 7   ifoil_job                                              37299 non-null  bool   \n",
      " 8   scanner_mode                                           37299 non-null  int64  \n",
      " 9   bars_job                                               37299 non-null  int64  \n",
      " 10  varnishConsumptionVarnish_3d_job                       37299 non-null  float64\n",
      " 11  run                                                    37299 non-null  int64  \n",
      " 12  total_run                                              37299 non-null  int64  \n",
      " 13  copies_per_run                                         37299 non-null  int64  \n",
      " 14  jobId                                                  37299 non-null  int64  \n",
      " 15  total_copies_requested_event                           37299 non-null  int64  \n",
      " 16  LED                                                    37299 non-null  int64  \n",
      " 17  bars_event                                             37299 non-null  object \n",
      " 18  drops                                                  37299 non-null  int64  \n",
      " 19  dithering                                              37299 non-null  bool   \n",
      " 20  deadPixelsOffset                                       37299 non-null  int64  \n",
      " 21  operator_level                                         37299 non-null  object \n",
      " 22  operator                                               37299 non-null  object \n",
      " 23  speed_ifoil                                            37299 non-null  float64\n",
      " 24  ifoil_event                                            37299 non-null  bool   \n",
      " 25  optifoil_ifoil                                         37299 non-null  bool   \n",
      " 26  vacuumIn_ifoil                                         37299 non-null  int64  \n",
      " 27  vacuumOut_ifoil                                        37299 non-null  int64  \n",
      " 28  stampAreas_ifoil                                       37299 non-null  object \n",
      " 29  heater1Enabled_ifoil                                   37299 non-null  bool   \n",
      " 30  speedTensionIn_ifoil                                   37299 non-null  float64\n",
      " 31  speedTensionOut_ifoil                                  37299 non-null  float64\n",
      " 32  heater1Temperature_ifoil                               37299 non-null  int64  \n",
      " 33  x_imageLayout                                          37299 non-null  int64  \n",
      " 34  y_imageLayout                                          37299 non-null  int64  \n",
      " 35  paperName                                              37299 non-null  object \n",
      " 36  paperWidth_event                                       37299 non-null  float64\n",
      " 37  paperHeight_event                                      37299 non-null  float64\n",
      " 38  speed_event                                            37299 non-null  int64  \n",
      " 39  power_irDryers                                         37299 non-null  int64  \n",
      " 40  power_uvDryers                                         37299 non-null  int64  \n",
      " 41  redScore_gridMode_remoteScannerRegistration            37299 non-null  int64  \n",
      " 42  redScore_cropmarksMode_remoteScannerRegistration       37299 non-null  int64  \n",
      " 43  x_cropmark1_cropmarksMode_remoteScannerRegistration    37299 non-null  int64  \n",
      " 44  y_cropmark1_cropmarksMode_remoteScannerRegistration    37299 non-null  int64  \n",
      " 45  x_cropmark2_cropmarksMode_remoteScannerRegistration    37299 non-null  int64  \n",
      " 46  y_cropmark2_cropmarksMode_remoteScannerRegistration    37299 non-null  int64  \n",
      " 47  exposureTime_manualLighting_remoteScannerRegistration  37299 non-null  int64  \n",
      " 48  redScore_fullScannerMode_remoteScannerRegistration     37299 non-null  int64  \n",
      " 49  blueScore_fullScannerMode_remoteScannerRegistration    37299 non-null  int64  \n",
      " 50  greenScore_fullScannerMode_remoteScannerRegistration   37299 non-null  int64  \n",
      " 51  enable_specialSubstrate_remoteScannerRegistration      37299 non-null  bool   \n",
      " 52  mode_remoteScannerRegistration                         37299 non-null  int64  \n",
      " 53  jobState                                               37299 non-null  object \n",
      " 54  total_copies_event                                     37299 non-null  int64  \n",
      " 55  varnishConsumptionVarnish_3d_event                     37299 non-null  float64\n",
      "dtypes: bool(6), float64(7), int64(35), object(8)\n",
      "memory usage: 14.7+ MB\n"
     ]
    }
   ],
   "source": [
    "merge_df.info()"
   ]
  },
  {
   "attachments": {},
   "cell_type": "markdown",
   "metadata": {},
   "source": [
    "# C. Visualisation"
   ]
  },
  {
   "cell_type": "code",
   "execution_count": 118,
   "metadata": {},
   "outputs": [],
   "source": [
    "df = merge_df.copy()"
   ]
  },
  {
   "cell_type": "code",
   "execution_count": 119,
   "metadata": {},
   "outputs": [
    {
     "data": {
      "text/plain": [
       "array(['SUCCESS', 'ERROR', 'CANCELED', 'UNDEFINED'], dtype=object)"
      ]
     },
     "execution_count": 119,
     "metadata": {},
     "output_type": "execute_result"
    }
   ],
   "source": [
    "df.jobState.unique()"
   ]
  },
  {
   "cell_type": "code",
   "execution_count": 120,
   "metadata": {},
   "outputs": [
    {
     "data": {
      "text/plain": [
       "Index(['total_copies_job', 'started_at', 'ended_at', 'speed_job',\n",
       "       'paperHeight_job', 'paperWidth_job', 'total_copies_requested_job',\n",
       "       'ifoil_job', 'scanner_mode', 'bars_job',\n",
       "       'varnishConsumptionVarnish_3d_job', 'run', 'total_run',\n",
       "       'copies_per_run', 'jobId', 'total_copies_requested_event', 'LED',\n",
       "       'bars_event', 'drops', 'dithering', 'deadPixelsOffset',\n",
       "       'operator_level', 'operator', 'speed_ifoil', 'ifoil_event',\n",
       "       'optifoil_ifoil', 'vacuumIn_ifoil', 'vacuumOut_ifoil',\n",
       "       'stampAreas_ifoil', 'heater1Enabled_ifoil', 'speedTensionIn_ifoil',\n",
       "       'speedTensionOut_ifoil', 'heater1Temperature_ifoil', 'x_imageLayout',\n",
       "       'y_imageLayout', 'paperName', 'paperWidth_event', 'paperHeight_event',\n",
       "       'speed_event', 'power_irDryers', 'power_uvDryers',\n",
       "       'redScore_gridMode_remoteScannerRegistration',\n",
       "       'redScore_cropmarksMode_remoteScannerRegistration',\n",
       "       'x_cropmark1_cropmarksMode_remoteScannerRegistration',\n",
       "       'y_cropmark1_cropmarksMode_remoteScannerRegistration',\n",
       "       'x_cropmark2_cropmarksMode_remoteScannerRegistration',\n",
       "       'y_cropmark2_cropmarksMode_remoteScannerRegistration',\n",
       "       'exposureTime_manualLighting_remoteScannerRegistration',\n",
       "       'redScore_fullScannerMode_remoteScannerRegistration',\n",
       "       'blueScore_fullScannerMode_remoteScannerRegistration',\n",
       "       'greenScore_fullScannerMode_remoteScannerRegistration',\n",
       "       'enable_specialSubstrate_remoteScannerRegistration',\n",
       "       'mode_remoteScannerRegistration', 'jobState', 'total_copies_event',\n",
       "       'varnishConsumptionVarnish_3d_event'],\n",
       "      dtype='object')"
      ]
     },
     "execution_count": 120,
     "metadata": {},
     "output_type": "execute_result"
    }
   ],
   "source": [
    "df.columns"
   ]
  },
  {
   "cell_type": "code",
   "execution_count": 121,
   "metadata": {},
   "outputs": [],
   "source": [
    "# Colonnes de events_df_17\n",
    "df17 = ['total_copies_job', 'started_at', 'ended_at', 'paperHeight_job',\n",
    "       'paperWidth_job', 'scanner_mode', 'bars_job',\n",
    "       'varnishConsumptionVarnish_3d_job', 'run', 'total_run',\n",
    "       'copies_per_run', 'jobId', 'total_copies_requested', 'LED',\n",
    "       'bars_event', 'drops', 'dithering', 'deadPixelsOffset',\n",
    "       'operator_level', 'operator', 'speed_ifoil', 'ifoil', 'optifoil_ifoil',\n",
    "       'stampAreas_ifoil', 'heater1Enabled_ifoil', 'speedTensionIn_ifoil',\n",
    "       'speedTensionOut_ifoil', 'heater1Temperature_ifoil', 'x_imageLayout',\n",
    "       'y_imageLayout', 'paperName', 'paperWidth_event', 'paperHeight_event',\n",
    "       'speed', 'power_irDryers', 'power_uvDryers',\n",
    "       'redScore_gridMode_remoteScannerRegistration',\n",
    "       'redScore_cropmarksMode_remoteScannerRegistration',\n",
    "       'x_cropmark1_cropmarksMode_remoteScannerRegistration',\n",
    "       'y_cropmark1_cropmarksMode_remoteScannerRegistration',\n",
    "       'x_cropmark2_cropmarksMode_remoteScannerRegistration',\n",
    "       'y_cropmark2_cropmarksMode_remoteScannerRegistration',\n",
    "       'exposureTime_manualLighting_remoteScannerRegistration',\n",
    "       'redScore_fullScannerMode_remoteScannerRegistration',\n",
    "       'blueScore_fullScannerMode_remoteScannerRegistration',\n",
    "       'greenScore_fullScannerMode_remoteScannerRegistration',\n",
    "       'enable_specialSubstrate_remoteScannerRegistration',\n",
    "       'mode_remoteScannerRegistration', 'jobState', 'total_copies_event',\n",
    "       'varnishConsumptionVarnish_3d_event']\n",
    "\n",
    "# Colonnes de events_df_18\n",
    "df18 = ['total_copies_job', 'started_at', 'ended_at', 'speed_job',\n",
    "       'paperHeight_job', 'paperWidth_job', 'total_copies_requested_job',\n",
    "       'ifoil_job', 'scanner_mode', 'bars_job',\n",
    "       'varnishConsumptionVarnish_3d_job', 'run', 'total_run',\n",
    "       'copies_per_run', 'jobId', 'total_copies_requested_event', 'LED',\n",
    "       'bars_event', 'drops', 'dithering', 'deadPixelsOffset',\n",
    "       'operator_level', 'operator', 'speed_ifoil', 'ifoil_event',\n",
    "       'optifoil_ifoil', 'vacuumIn_ifoil', 'vacuumOut_ifoil',\n",
    "       'stampAreas_ifoil', 'heater1Enabled_ifoil', 'speedTensionIn_ifoil',\n",
    "       'speedTensionOut_ifoil', 'heater1Temperature_ifoil', 'x_imageLayout',\n",
    "       'y_imageLayout', 'paperName', 'paperWidth_event', 'paperHeight_event',\n",
    "       'speed_event', 'power_irDryers', 'power_uvDryers',\n",
    "       'redScore_gridMode_remoteScannerRegistration',\n",
    "       'redScore_cropmarksMode_remoteScannerRegistration',\n",
    "       'x_cropmark1_cropmarksMode_remoteScannerRegistration',\n",
    "       'y_cropmark1_cropmarksMode_remoteScannerRegistration',\n",
    "       'x_cropmark2_cropmarksMode_remoteScannerRegistration',\n",
    "       'y_cropmark2_cropmarksMode_remoteScannerRegistration',\n",
    "       'exposureTime_manualLighting_remoteScannerRegistration',\n",
    "       'redScore_fullScannerMode_remoteScannerRegistration',\n",
    "       'blueScore_fullScannerMode_remoteScannerRegistration',\n",
    "       'greenScore_fullScannerMode_remoteScannerRegistration',\n",
    "       'enable_specialSubstrate_remoteScannerRegistration',\n",
    "       'mode_remoteScannerRegistration', 'jobState', 'total_copies_event',\n",
    "       'varnishConsumptionVarnish_3d_event']"
   ]
  },
  {
   "cell_type": "code",
   "execution_count": 122,
   "metadata": {},
   "outputs": [
    {
     "name": "stdout",
     "output_type": "stream",
     "text": [
      "Colonnes uniques à df17 (machine 17) :\n",
      "{'ifoil', 'total_copies_requested', 'speed'}\n",
      "\n",
      "Colonnes uniques à df18 (machine 18) :\n",
      "{'speed_event', 'ifoil_job', 'total_copies_requested_job', 'vacuumIn_ifoil', 'vacuumOut_ifoil', 'total_copies_requested_event', 'ifoil_event', 'speed_job'}\n"
     ]
    }
   ],
   "source": [
    "# df14 et df17 sont vos listes de colonnes\n",
    "\n",
    "# Convertir les listes en ensembles\n",
    "colonnes_df17 = set(df17)\n",
    "colonnes_df18 = set(df18)\n",
    "\n",
    "# Trouver les colonnes uniques à df17\n",
    "colonnes_uniques_df17 = colonnes_df17 - colonnes_df18\n",
    "print(\"Colonnes uniques à df17 (machine 17) :\")\n",
    "print(colonnes_uniques_df17)\n",
    "\n",
    "# Trouver les colonnes uniques à df14\n",
    "colonnes_uniques_df18 = colonnes_df18 - colonnes_df17\n",
    "print(\"\\nColonnes uniques à df18 (machine 18) :\")\n",
    "print(colonnes_uniques_df18)\n"
   ]
  }
 ],
 "metadata": {
  "kernelspec": {
   "display_name": ".venv",
   "language": "python",
   "name": "python3"
  },
  "language_info": {
   "codemirror_mode": {
    "name": "ipython",
    "version": 3
   },
   "file_extension": ".py",
   "mimetype": "text/x-python",
   "name": "python",
   "nbconvert_exporter": "python",
   "pygments_lexer": "ipython3",
   "version": "3.10.11"
  },
  "orig_nbformat": 4,
  "vscode": {
   "interpreter": {
    "hash": "2315c9af7dedaeb0b2bf51504304a927c605b523f04dad98936c50abe500b408"
   }
  }
 },
 "nbformat": 4,
 "nbformat_minor": 2
}
