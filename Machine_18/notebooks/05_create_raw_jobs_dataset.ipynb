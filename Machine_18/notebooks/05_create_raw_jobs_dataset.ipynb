{
 "cells": [
  {
   "attachments": {},
   "cell_type": "markdown",
   "metadata": {},
   "source": [
    "# 05 - Création du dataset des données nettoyées de jobs"
   ]
  },
  {
   "attachments": {},
   "cell_type": "markdown",
   "metadata": {},
   "source": [
    "Ce notebook génère 1 csv :\n",
    "\n",
    "- raw_jobs_dataset.csv\n",
    "\n",
    "Etapes :\n",
    "\n",
    "- Suppression des lignes avec les valeurs timestamp_start manquantes\n",
    "\n",
    "- Suppression des colonnes ayant des valeurs uniques\n",
    "\n",
    "- Remplacement des données maquantes\n",
    "\n",
    "- Conversion des types des séries en fonction des types des valeurs"
   ]
  },
  {
   "attachments": {},
   "cell_type": "markdown",
   "metadata": {},
   "source": [
    "# A. Imports"
   ]
  },
  {
   "attachments": {},
   "cell_type": "markdown",
   "metadata": {},
   "source": [
    "## a) Librairies"
   ]
  },
  {
   "cell_type": "code",
   "execution_count": 1,
   "metadata": {},
   "outputs": [],
   "source": [
    "import os, math\n",
    "import pandas as pd\n",
    "pd.set_option('display.max_columns', 500)\n",
    "import numpy as np\n",
    "import matplotlib.pyplot as plt\n",
    "from datetime import datetime"
   ]
  },
  {
   "attachments": {},
   "cell_type": "markdown",
   "metadata": {},
   "source": [
    "## b) Données"
   ]
  },
  {
   "cell_type": "code",
   "execution_count": 2,
   "metadata": {},
   "outputs": [],
   "source": [
    "# chemin vers fichier source\n",
    "filename = 'jobs.csv'\n",
    "path = '../data/raw/'\n",
    "# target path to save merge raw jobs dataset\n",
    "save_csv = '../data/jobs/raw_jobs_dataset.csv'"
   ]
  },
  {
   "cell_type": "code",
   "execution_count": 3,
   "metadata": {},
   "outputs": [],
   "source": [
    "# # téléchargement dans le repertoire 'data' d'un fichiers 'csv' depuis le blob\n",
    "# from azure_blob import download_blob_file\n",
    "# download_blob_file(file_name=filename, local_path=path)"
   ]
  },
  {
   "attachments": {},
   "cell_type": "markdown",
   "metadata": {},
   "source": [
    "# B. Dataframe"
   ]
  },
  {
   "attachments": {},
   "cell_type": "markdown",
   "metadata": {},
   "source": [
    "## a) Création"
   ]
  },
  {
   "cell_type": "code",
   "execution_count": 4,
   "metadata": {},
   "outputs": [
    {
     "name": "stdout",
     "output_type": "stream",
     "text": [
      "<class 'pandas.core.frame.DataFrame'>\n",
      "RangeIndex: 37299 entries, 0 to 37298\n",
      "Data columns (total 26 columns):\n",
      " #   Column                            Non-Null Count  Dtype  \n",
      "---  ------                            --------------  -----  \n",
      " 0   id                                37299 non-null  int64  \n",
      " 1   thumbnail                         0 non-null      float64\n",
      " 2   total_copies                      37222 non-null  float64\n",
      " 3   started_at                        37299 non-null  object \n",
      " 4   ended_at                          37222 non-null  object \n",
      " 5   machineId                         37299 non-null  int64  \n",
      " 6   speed                             37299 non-null  int64  \n",
      " 7   operator                          37299 non-null  object \n",
      " 8   operator_level                    37299 non-null  object \n",
      " 9   first_page_image_path_on_machine  37272 non-null  object \n",
      " 10  paperHeight                       37299 non-null  int64  \n",
      " 11  paperWidth                        37299 non-null  int64  \n",
      " 12  paperName                         13 non-null     object \n",
      " 13  paperThickness                    37299 non-null  int64  \n",
      " 14  id_on_machine                     37299 non-null  int64  \n",
      " 15  total_copies_requested            37299 non-null  int64  \n",
      " 16  job_thumbnail_id                  37272 non-null  float64\n",
      " 17  uses_ifoil                        37299 non-null  bool   \n",
      " 18  uses_iper                         37299 non-null  bool   \n",
      " 19  scanner_mode                      37299 non-null  int64  \n",
      " 20  iper_bvar_count                   37299 non-null  int64  \n",
      " 21  varnishConsumptionVarnish_3d      37222 non-null  float64\n",
      " 22  varnishConsumptionVarnish_2d      0 non-null      float64\n",
      " 23  run                               4038 non-null   float64\n",
      " 24  total_run                         4038 non-null   float64\n",
      " 25  copies_per_run                    4024 non-null   float64\n",
      "dtypes: bool(2), float64(8), int64(10), object(6)\n",
      "memory usage: 6.9+ MB\n"
     ]
    },
    {
     "name": "stderr",
     "output_type": "stream",
     "text": [
      "C:\\Users\\Allan\\AppData\\Local\\Temp\\ipykernel_15576\\774032103.py:2: DtypeWarning: Columns (12) have mixed types. Specify dtype option on import or set low_memory=False.\n",
      "  jobs_df = pd.read_csv(os.path.join(path, filename))\n"
     ]
    }
   ],
   "source": [
    "# création d'un dataframe à partir du csv de données\n",
    "jobs_df = pd.read_csv(os.path.join(path, filename))\n",
    "jobs_df.info()"
   ]
  },
  {
   "cell_type": "code",
   "execution_count": 5,
   "metadata": {},
   "outputs": [
    {
     "data": {
      "text/html": [
       "<div>\n",
       "<style scoped>\n",
       "    .dataframe tbody tr th:only-of-type {\n",
       "        vertical-align: middle;\n",
       "    }\n",
       "\n",
       "    .dataframe tbody tr th {\n",
       "        vertical-align: top;\n",
       "    }\n",
       "\n",
       "    .dataframe thead th {\n",
       "        text-align: right;\n",
       "    }\n",
       "</style>\n",
       "<table border=\"1\" class=\"dataframe\">\n",
       "  <thead>\n",
       "    <tr style=\"text-align: right;\">\n",
       "      <th></th>\n",
       "      <th>id</th>\n",
       "      <th>thumbnail</th>\n",
       "      <th>total_copies</th>\n",
       "      <th>started_at</th>\n",
       "      <th>ended_at</th>\n",
       "      <th>machineId</th>\n",
       "      <th>speed</th>\n",
       "      <th>operator</th>\n",
       "      <th>operator_level</th>\n",
       "      <th>first_page_image_path_on_machine</th>\n",
       "      <th>paperHeight</th>\n",
       "      <th>paperWidth</th>\n",
       "      <th>paperName</th>\n",
       "      <th>paperThickness</th>\n",
       "      <th>id_on_machine</th>\n",
       "      <th>total_copies_requested</th>\n",
       "      <th>job_thumbnail_id</th>\n",
       "      <th>uses_ifoil</th>\n",
       "      <th>uses_iper</th>\n",
       "      <th>scanner_mode</th>\n",
       "      <th>iper_bvar_count</th>\n",
       "      <th>varnishConsumptionVarnish_3d</th>\n",
       "      <th>varnishConsumptionVarnish_2d</th>\n",
       "      <th>run</th>\n",
       "      <th>total_run</th>\n",
       "      <th>copies_per_run</th>\n",
       "    </tr>\n",
       "  </thead>\n",
       "  <tbody>\n",
       "    <tr>\n",
       "      <th>0</th>\n",
       "      <td>28292</td>\n",
       "      <td>NaN</td>\n",
       "      <td>6.0</td>\n",
       "      <td>2022-02-22 09:43:18.116000</td>\n",
       "      <td>2022-02-22 09:44:33.389000</td>\n",
       "      <td>18</td>\n",
       "      <td>313</td>\n",
       "      <td>User</td>\n",
       "      <td>Operator</td>\n",
       "      <td>D:/IMAGES/Standard/1504750#1/0000001.tif</td>\n",
       "      <td>483</td>\n",
       "      <td>330</td>\n",
       "      <td>NaN</td>\n",
       "      <td>0</td>\n",
       "      <td>1645522997</td>\n",
       "      <td>6</td>\n",
       "      <td>25464.0</td>\n",
       "      <td>True</td>\n",
       "      <td>True</td>\n",
       "      <td>3</td>\n",
       "      <td>2</td>\n",
       "      <td>4.585923</td>\n",
       "      <td>NaN</td>\n",
       "      <td>NaN</td>\n",
       "      <td>NaN</td>\n",
       "      <td>NaN</td>\n",
       "    </tr>\n",
       "    <tr>\n",
       "      <th>1</th>\n",
       "      <td>28293</td>\n",
       "      <td>NaN</td>\n",
       "      <td>11.0</td>\n",
       "      <td>2022-02-22 09:45:01.304000</td>\n",
       "      <td>2022-02-22 09:46:34.929000</td>\n",
       "      <td>18</td>\n",
       "      <td>313</td>\n",
       "      <td>User</td>\n",
       "      <td>Operator</td>\n",
       "      <td>D:/IMAGES/Standard/1504749#1/0000001.tif</td>\n",
       "      <td>483</td>\n",
       "      <td>330</td>\n",
       "      <td>NaN</td>\n",
       "      <td>0</td>\n",
       "      <td>1645523101</td>\n",
       "      <td>11</td>\n",
       "      <td>25465.0</td>\n",
       "      <td>True</td>\n",
       "      <td>True</td>\n",
       "      <td>3</td>\n",
       "      <td>2</td>\n",
       "      <td>2.917403</td>\n",
       "      <td>NaN</td>\n",
       "      <td>NaN</td>\n",
       "      <td>NaN</td>\n",
       "      <td>NaN</td>\n",
       "    </tr>\n",
       "    <tr>\n",
       "      <th>2</th>\n",
       "      <td>28295</td>\n",
       "      <td>NaN</td>\n",
       "      <td>7.0</td>\n",
       "      <td>2022-02-22 09:47:30.319000</td>\n",
       "      <td>2022-02-22 09:48:37.554000</td>\n",
       "      <td>18</td>\n",
       "      <td>313</td>\n",
       "      <td>User</td>\n",
       "      <td>Operator</td>\n",
       "      <td>D:/IMAGES/Standard/1505959#1/0000001 V01.tif</td>\n",
       "      <td>483</td>\n",
       "      <td>330</td>\n",
       "      <td>NaN</td>\n",
       "      <td>0</td>\n",
       "      <td>1645523250</td>\n",
       "      <td>7</td>\n",
       "      <td>25467.0</td>\n",
       "      <td>True</td>\n",
       "      <td>True</td>\n",
       "      <td>3</td>\n",
       "      <td>2</td>\n",
       "      <td>0.423666</td>\n",
       "      <td>NaN</td>\n",
       "      <td>NaN</td>\n",
       "      <td>NaN</td>\n",
       "      <td>NaN</td>\n",
       "    </tr>\n",
       "    <tr>\n",
       "      <th>3</th>\n",
       "      <td>28296</td>\n",
       "      <td>NaN</td>\n",
       "      <td>11.0</td>\n",
       "      <td>2022-02-22 09:49:56.298000</td>\n",
       "      <td>2022-02-22 09:51:14.406000</td>\n",
       "      <td>18</td>\n",
       "      <td>313</td>\n",
       "      <td>User</td>\n",
       "      <td>Operator</td>\n",
       "      <td>D:/IMAGES/Standard/1505734#1/0000001 V01.tif</td>\n",
       "      <td>483</td>\n",
       "      <td>330</td>\n",
       "      <td>NaN</td>\n",
       "      <td>0</td>\n",
       "      <td>1645523396</td>\n",
       "      <td>11</td>\n",
       "      <td>25468.0</td>\n",
       "      <td>True</td>\n",
       "      <td>True</td>\n",
       "      <td>3</td>\n",
       "      <td>2</td>\n",
       "      <td>1.100145</td>\n",
       "      <td>NaN</td>\n",
       "      <td>NaN</td>\n",
       "      <td>NaN</td>\n",
       "      <td>NaN</td>\n",
       "    </tr>\n",
       "    <tr>\n",
       "      <th>4</th>\n",
       "      <td>28299</td>\n",
       "      <td>NaN</td>\n",
       "      <td>47.0</td>\n",
       "      <td>2022-02-22 09:52:57.305000</td>\n",
       "      <td>2022-02-22 09:55:59.993000</td>\n",
       "      <td>18</td>\n",
       "      <td>313</td>\n",
       "      <td>User</td>\n",
       "      <td>Operator</td>\n",
       "      <td>D:/IMAGES/Standard/1505736#1/0000001 V01.tif</td>\n",
       "      <td>483</td>\n",
       "      <td>330</td>\n",
       "      <td>NaN</td>\n",
       "      <td>0</td>\n",
       "      <td>1645523577</td>\n",
       "      <td>47</td>\n",
       "      <td>25471.0</td>\n",
       "      <td>True</td>\n",
       "      <td>True</td>\n",
       "      <td>3</td>\n",
       "      <td>2</td>\n",
       "      <td>4.701610</td>\n",
       "      <td>NaN</td>\n",
       "      <td>NaN</td>\n",
       "      <td>NaN</td>\n",
       "      <td>NaN</td>\n",
       "    </tr>\n",
       "  </tbody>\n",
       "</table>\n",
       "</div>"
      ],
      "text/plain": [
       "      id  thumbnail  total_copies                  started_at  \\\n",
       "0  28292        NaN           6.0  2022-02-22 09:43:18.116000   \n",
       "1  28293        NaN          11.0  2022-02-22 09:45:01.304000   \n",
       "2  28295        NaN           7.0  2022-02-22 09:47:30.319000   \n",
       "3  28296        NaN          11.0  2022-02-22 09:49:56.298000   \n",
       "4  28299        NaN          47.0  2022-02-22 09:52:57.305000   \n",
       "\n",
       "                     ended_at  machineId  speed operator operator_level  \\\n",
       "0  2022-02-22 09:44:33.389000         18    313     User       Operator   \n",
       "1  2022-02-22 09:46:34.929000         18    313     User       Operator   \n",
       "2  2022-02-22 09:48:37.554000         18    313     User       Operator   \n",
       "3  2022-02-22 09:51:14.406000         18    313     User       Operator   \n",
       "4  2022-02-22 09:55:59.993000         18    313     User       Operator   \n",
       "\n",
       "               first_page_image_path_on_machine  paperHeight  paperWidth  \\\n",
       "0      D:/IMAGES/Standard/1504750#1/0000001.tif          483         330   \n",
       "1      D:/IMAGES/Standard/1504749#1/0000001.tif          483         330   \n",
       "2  D:/IMAGES/Standard/1505959#1/0000001 V01.tif          483         330   \n",
       "3  D:/IMAGES/Standard/1505734#1/0000001 V01.tif          483         330   \n",
       "4  D:/IMAGES/Standard/1505736#1/0000001 V01.tif          483         330   \n",
       "\n",
       "  paperName  paperThickness  id_on_machine  total_copies_requested  \\\n",
       "0       NaN               0     1645522997                       6   \n",
       "1       NaN               0     1645523101                      11   \n",
       "2       NaN               0     1645523250                       7   \n",
       "3       NaN               0     1645523396                      11   \n",
       "4       NaN               0     1645523577                      47   \n",
       "\n",
       "   job_thumbnail_id  uses_ifoil  uses_iper  scanner_mode  iper_bvar_count  \\\n",
       "0           25464.0        True       True             3                2   \n",
       "1           25465.0        True       True             3                2   \n",
       "2           25467.0        True       True             3                2   \n",
       "3           25468.0        True       True             3                2   \n",
       "4           25471.0        True       True             3                2   \n",
       "\n",
       "   varnishConsumptionVarnish_3d  varnishConsumptionVarnish_2d  run  total_run  \\\n",
       "0                      4.585923                           NaN  NaN        NaN   \n",
       "1                      2.917403                           NaN  NaN        NaN   \n",
       "2                      0.423666                           NaN  NaN        NaN   \n",
       "3                      1.100145                           NaN  NaN        NaN   \n",
       "4                      4.701610                           NaN  NaN        NaN   \n",
       "\n",
       "   copies_per_run  \n",
       "0             NaN  \n",
       "1             NaN  \n",
       "2             NaN  \n",
       "3             NaN  \n",
       "4             NaN  "
      ]
     },
     "execution_count": 5,
     "metadata": {},
     "output_type": "execute_result"
    }
   ],
   "source": [
    "jobs_df.head()"
   ]
  },
  {
   "attachments": {},
   "cell_type": "markdown",
   "metadata": {},
   "source": [
    "## b) Nettoyage"
   ]
  },
  {
   "attachments": {},
   "cell_type": "markdown",
   "metadata": {},
   "source": [
    "### 1. Suppression de lignes"
   ]
  },
  {
   "cell_type": "code",
   "execution_count": 6,
   "metadata": {},
   "outputs": [
    {
     "data": {
      "text/plain": [
       "[]"
      ]
     },
     "execution_count": 6,
     "metadata": {},
     "output_type": "execute_result"
    }
   ],
   "source": [
    "# on cherche les index des lignes sans timestamp de départ\n",
    "no_start_row = list(jobs_df[jobs_df['started_at'].isna()].index)\n",
    "no_start_row"
   ]
  },
  {
   "attachments": {},
   "cell_type": "markdown",
   "metadata": {},
   "source": [
    "### 2. Suppression de colonnes"
   ]
  },
  {
   "cell_type": "code",
   "execution_count": 7,
   "metadata": {},
   "outputs": [],
   "source": [
    "# suppression des colonnes non pertinentes\n",
    "col_to_drop = [\n",
    "    'id',\n",
    "    'thumbnail',\n",
    "    'machineId',\n",
    "    'first_page_image_path_on_machine',\n",
    "    'job_thumbnail_id'\n",
    "    ]\n",
    "jobs_df = jobs_df.drop(col_to_drop, axis=1)"
   ]
  },
  {
   "cell_type": "code",
   "execution_count": 8,
   "metadata": {},
   "outputs": [
    {
     "name": "stdout",
     "output_type": "stream",
     "text": [
      "['varnishConsumptionVarnish_2d']\n"
     ]
    }
   ],
   "source": [
    "# suppression des colonnes ne contenant que des valeurs nulles\n",
    "print(jobs_df.columns[jobs_df.isnull().all()].tolist())\n",
    "jobs_df.dropna(axis=1, how='all', inplace=True)"
   ]
  },
  {
   "attachments": {},
   "cell_type": "markdown",
   "metadata": {},
   "source": [
    "### 3. Données manquantes"
   ]
  },
  {
   "cell_type": "code",
   "execution_count": 9,
   "metadata": {},
   "outputs": [
    {
     "name": "stdout",
     "output_type": "stream",
     "text": [
      "total_copies : 175 - dtype : float64\n",
      "ended_at : 37222 - dtype : object\n",
      "paperName : [nan 'B1' 'A4']\n",
      "varnishConsumptionVarnish_3d : 34125 - dtype : float64\n",
      "run : [nan  1.]\n",
      "total_run : [nan  1.]\n",
      "copies_per_run : 107 - dtype : float64\n"
     ]
    }
   ],
   "source": [
    "# on liste les colonnes qui contiennent des valeurs nulles\n",
    "col_with_nan = []\n",
    "for col in jobs_df.columns:\n",
    "    if jobs_df[col].isnull().any():\n",
    "        col_with_nan.append(col)\n",
    "        print(f'{col} : {jobs_df[col].unique()}') if jobs_df[col].nunique() <= 10 else print(f'{col} : {jobs_df[col].nunique()} - dtype : {jobs_df[col].dtype}')     "
   ]
  },
  {
   "cell_type": "code",
   "execution_count": 10,
   "metadata": {},
   "outputs": [],
   "source": [
    "# on remplace les valeurs de 'total_copies' nulles par 0\n",
    "jobs_df['total_copies'] = jobs_df['total_copies'].fillna(float(0))"
   ]
  },
  {
   "cell_type": "code",
   "execution_count": 11,
   "metadata": {},
   "outputs": [],
   "source": [
    "# on remplace les datetime de fin maquant par les datetime de début\n",
    "jobs_df['ended_at'] = jobs_df['ended_at'].fillna(jobs_df['started_at'])"
   ]
  },
  {
   "cell_type": "code",
   "execution_count": 12,
   "metadata": {},
   "outputs": [],
   "source": [
    "# on remplace les 'paperName' non défini par UNDEFINED\n",
    "jobs_df['paperName'] = jobs_df['paperName'].fillna('UNDEFINED')"
   ]
  },
  {
   "cell_type": "code",
   "execution_count": 13,
   "metadata": {},
   "outputs": [],
   "source": [
    "# on remplace les valeurs de 'scanner_mode' nulles par 0\n",
    "jobs_df['scanner_mode'] = jobs_df['scanner_mode'].fillna(0)"
   ]
  },
  {
   "cell_type": "code",
   "execution_count": 14,
   "metadata": {},
   "outputs": [],
   "source": [
    "# on remplace les valeurs de 'iper_bvar_count' nulles par 0\n",
    "jobs_df['iper_bvar_count'] = jobs_df['iper_bvar_count'].fillna(0)"
   ]
  },
  {
   "cell_type": "code",
   "execution_count": 15,
   "metadata": {},
   "outputs": [],
   "source": [
    "# on remplace les valeurs de 'total_copies' nulles par 0\n",
    "jobs_df['varnishConsumptionVarnish_3d'] = jobs_df['varnishConsumptionVarnish_3d'].fillna(float(0))"
   ]
  },
  {
   "attachments": {},
   "cell_type": "markdown",
   "metadata": {},
   "source": [
    "### 4. Conversion des types"
   ]
  },
  {
   "cell_type": "code",
   "execution_count": 16,
   "metadata": {},
   "outputs": [
    {
     "data": {
      "text/plain": [
       "array([dtype('float64'), dtype('O'), dtype('int64'), dtype('bool')],\n",
       "      dtype=object)"
      ]
     },
     "execution_count": 16,
     "metadata": {},
     "output_type": "execute_result"
    }
   ],
   "source": [
    "jobs_df.dtypes.unique()"
   ]
  },
  {
   "attachments": {},
   "cell_type": "markdown",
   "metadata": {},
   "source": [
    "#### Object"
   ]
  },
  {
   "cell_type": "code",
   "execution_count": 17,
   "metadata": {},
   "outputs": [
    {
     "name": "stdout",
     "output_type": "stream",
     "text": [
      "started_at : 37299 values\n",
      "ended_at : 37299 values\n",
      "operator : ['User' 'Distributor']\n",
      "operator_level : ['Operator' 'Distributor']\n",
      "paperName : ['UNDEFINED' 'B1' 'A4']\n"
     ]
    }
   ],
   "source": [
    "# on liste les valeurs (si pas plus de 5) des colonnes de type object\n",
    "object_columns = list(jobs_df.select_dtypes(include=['object']).columns)\n",
    "for col in object_columns :\n",
    "    print(f\"{col} : {jobs_df[col].unique()}\") if jobs_df[col].nunique() <= 5  else print(f\"{col} : {jobs_df[col].nunique()} values\")"
   ]
  },
  {
   "cell_type": "code",
   "execution_count": 18,
   "metadata": {},
   "outputs": [],
   "source": [
    "# on peut convertir les colonnes contenant des valeurs de temsps au format datetime\n",
    "jobs_df['started_at'] = pd.to_datetime(jobs_df['started_at'], utc=True)\n",
    "jobs_df['ended_at'] = pd.to_datetime(jobs_df['ended_at'], utc=True)"
   ]
  },
  {
   "attachments": {},
   "cell_type": "markdown",
   "metadata": {},
   "source": [
    "#### Float64"
   ]
  },
  {
   "cell_type": "code",
   "execution_count": 19,
   "metadata": {},
   "outputs": [
    {
     "name": "stdout",
     "output_type": "stream",
     "text": [
      "total_copies : 175 values\n",
      "varnishConsumptionVarnish_3d : 34125 values\n",
      "run : [nan  1.]\n",
      "total_run : [nan  1.]\n",
      "copies_per_run : 107 values\n"
     ]
    }
   ],
   "source": [
    "float_columns = list(jobs_df.select_dtypes(include=['float64']).columns)\n",
    "# on liste les valeurs (si pas plus de 5) des colonnes de type object\n",
    "for col in float_columns:\n",
    "    print(f\"{col} : {jobs_df[col].unique()}\") if jobs_df[col].nunique() <= 5  else print(f\"{col} : {jobs_df[col].nunique()} values\")"
   ]
  },
  {
   "cell_type": "code",
   "execution_count": 20,
   "metadata": {},
   "outputs": [],
   "source": [
    "# conversion des colonnes de type 'float' dont toutes les valeurs ont des décimales à 0 en type 'int'\n",
    "for col in float_columns :\n",
    "# remplacement de nan par 0\n",
    "    jobs_df[col] = jobs_df[col].fillna(0)\n",
    "    if not True in (math.modf(value)[0] != float(0) for value in list(jobs_df[col].unique())):\n",
    "        jobs_df[col] = jobs_df[col].astype('int64')"
   ]
  },
  {
   "cell_type": "code",
   "execution_count": 21,
   "metadata": {},
   "outputs": [
    {
     "data": {
      "text/html": [
       "<div>\n",
       "<style scoped>\n",
       "    .dataframe tbody tr th:only-of-type {\n",
       "        vertical-align: middle;\n",
       "    }\n",
       "\n",
       "    .dataframe tbody tr th {\n",
       "        vertical-align: top;\n",
       "    }\n",
       "\n",
       "    .dataframe thead th {\n",
       "        text-align: right;\n",
       "    }\n",
       "</style>\n",
       "<table border=\"1\" class=\"dataframe\">\n",
       "  <thead>\n",
       "    <tr style=\"text-align: right;\">\n",
       "      <th></th>\n",
       "      <th>total_copies</th>\n",
       "      <th>started_at</th>\n",
       "      <th>ended_at</th>\n",
       "      <th>speed</th>\n",
       "      <th>operator</th>\n",
       "      <th>operator_level</th>\n",
       "      <th>paperHeight</th>\n",
       "      <th>paperWidth</th>\n",
       "      <th>paperName</th>\n",
       "      <th>paperThickness</th>\n",
       "      <th>id_on_machine</th>\n",
       "      <th>total_copies_requested</th>\n",
       "      <th>uses_ifoil</th>\n",
       "      <th>uses_iper</th>\n",
       "      <th>scanner_mode</th>\n",
       "      <th>iper_bvar_count</th>\n",
       "      <th>varnishConsumptionVarnish_3d</th>\n",
       "      <th>run</th>\n",
       "      <th>total_run</th>\n",
       "      <th>copies_per_run</th>\n",
       "    </tr>\n",
       "  </thead>\n",
       "  <tbody>\n",
       "    <tr>\n",
       "      <th>0</th>\n",
       "      <td>6</td>\n",
       "      <td>2022-02-22 09:43:18.116000+00:00</td>\n",
       "      <td>2022-02-22 09:44:33.389000+00:00</td>\n",
       "      <td>313</td>\n",
       "      <td>User</td>\n",
       "      <td>Operator</td>\n",
       "      <td>483</td>\n",
       "      <td>330</td>\n",
       "      <td>UNDEFINED</td>\n",
       "      <td>0</td>\n",
       "      <td>1645522997</td>\n",
       "      <td>6</td>\n",
       "      <td>True</td>\n",
       "      <td>True</td>\n",
       "      <td>3</td>\n",
       "      <td>2</td>\n",
       "      <td>4.585923</td>\n",
       "      <td>0</td>\n",
       "      <td>0</td>\n",
       "      <td>0</td>\n",
       "    </tr>\n",
       "    <tr>\n",
       "      <th>1</th>\n",
       "      <td>11</td>\n",
       "      <td>2022-02-22 09:45:01.304000+00:00</td>\n",
       "      <td>2022-02-22 09:46:34.929000+00:00</td>\n",
       "      <td>313</td>\n",
       "      <td>User</td>\n",
       "      <td>Operator</td>\n",
       "      <td>483</td>\n",
       "      <td>330</td>\n",
       "      <td>UNDEFINED</td>\n",
       "      <td>0</td>\n",
       "      <td>1645523101</td>\n",
       "      <td>11</td>\n",
       "      <td>True</td>\n",
       "      <td>True</td>\n",
       "      <td>3</td>\n",
       "      <td>2</td>\n",
       "      <td>2.917403</td>\n",
       "      <td>0</td>\n",
       "      <td>0</td>\n",
       "      <td>0</td>\n",
       "    </tr>\n",
       "    <tr>\n",
       "      <th>2</th>\n",
       "      <td>7</td>\n",
       "      <td>2022-02-22 09:47:30.319000+00:00</td>\n",
       "      <td>2022-02-22 09:48:37.554000+00:00</td>\n",
       "      <td>313</td>\n",
       "      <td>User</td>\n",
       "      <td>Operator</td>\n",
       "      <td>483</td>\n",
       "      <td>330</td>\n",
       "      <td>UNDEFINED</td>\n",
       "      <td>0</td>\n",
       "      <td>1645523250</td>\n",
       "      <td>7</td>\n",
       "      <td>True</td>\n",
       "      <td>True</td>\n",
       "      <td>3</td>\n",
       "      <td>2</td>\n",
       "      <td>0.423666</td>\n",
       "      <td>0</td>\n",
       "      <td>0</td>\n",
       "      <td>0</td>\n",
       "    </tr>\n",
       "    <tr>\n",
       "      <th>3</th>\n",
       "      <td>11</td>\n",
       "      <td>2022-02-22 09:49:56.298000+00:00</td>\n",
       "      <td>2022-02-22 09:51:14.406000+00:00</td>\n",
       "      <td>313</td>\n",
       "      <td>User</td>\n",
       "      <td>Operator</td>\n",
       "      <td>483</td>\n",
       "      <td>330</td>\n",
       "      <td>UNDEFINED</td>\n",
       "      <td>0</td>\n",
       "      <td>1645523396</td>\n",
       "      <td>11</td>\n",
       "      <td>True</td>\n",
       "      <td>True</td>\n",
       "      <td>3</td>\n",
       "      <td>2</td>\n",
       "      <td>1.100145</td>\n",
       "      <td>0</td>\n",
       "      <td>0</td>\n",
       "      <td>0</td>\n",
       "    </tr>\n",
       "    <tr>\n",
       "      <th>4</th>\n",
       "      <td>47</td>\n",
       "      <td>2022-02-22 09:52:57.305000+00:00</td>\n",
       "      <td>2022-02-22 09:55:59.993000+00:00</td>\n",
       "      <td>313</td>\n",
       "      <td>User</td>\n",
       "      <td>Operator</td>\n",
       "      <td>483</td>\n",
       "      <td>330</td>\n",
       "      <td>UNDEFINED</td>\n",
       "      <td>0</td>\n",
       "      <td>1645523577</td>\n",
       "      <td>47</td>\n",
       "      <td>True</td>\n",
       "      <td>True</td>\n",
       "      <td>3</td>\n",
       "      <td>2</td>\n",
       "      <td>4.701610</td>\n",
       "      <td>0</td>\n",
       "      <td>0</td>\n",
       "      <td>0</td>\n",
       "    </tr>\n",
       "  </tbody>\n",
       "</table>\n",
       "</div>"
      ],
      "text/plain": [
       "   total_copies                       started_at  \\\n",
       "0             6 2022-02-22 09:43:18.116000+00:00   \n",
       "1            11 2022-02-22 09:45:01.304000+00:00   \n",
       "2             7 2022-02-22 09:47:30.319000+00:00   \n",
       "3            11 2022-02-22 09:49:56.298000+00:00   \n",
       "4            47 2022-02-22 09:52:57.305000+00:00   \n",
       "\n",
       "                          ended_at  speed operator operator_level  \\\n",
       "0 2022-02-22 09:44:33.389000+00:00    313     User       Operator   \n",
       "1 2022-02-22 09:46:34.929000+00:00    313     User       Operator   \n",
       "2 2022-02-22 09:48:37.554000+00:00    313     User       Operator   \n",
       "3 2022-02-22 09:51:14.406000+00:00    313     User       Operator   \n",
       "4 2022-02-22 09:55:59.993000+00:00    313     User       Operator   \n",
       "\n",
       "   paperHeight  paperWidth  paperName  paperThickness  id_on_machine  \\\n",
       "0          483         330  UNDEFINED               0     1645522997   \n",
       "1          483         330  UNDEFINED               0     1645523101   \n",
       "2          483         330  UNDEFINED               0     1645523250   \n",
       "3          483         330  UNDEFINED               0     1645523396   \n",
       "4          483         330  UNDEFINED               0     1645523577   \n",
       "\n",
       "   total_copies_requested  uses_ifoil  uses_iper  scanner_mode  \\\n",
       "0                       6        True       True             3   \n",
       "1                      11        True       True             3   \n",
       "2                       7        True       True             3   \n",
       "3                      11        True       True             3   \n",
       "4                      47        True       True             3   \n",
       "\n",
       "   iper_bvar_count  varnishConsumptionVarnish_3d  run  total_run  \\\n",
       "0                2                      4.585923    0          0   \n",
       "1                2                      2.917403    0          0   \n",
       "2                2                      0.423666    0          0   \n",
       "3                2                      1.100145    0          0   \n",
       "4                2                      4.701610    0          0   \n",
       "\n",
       "   copies_per_run  \n",
       "0               0  \n",
       "1               0  \n",
       "2               0  \n",
       "3               0  \n",
       "4               0  "
      ]
     },
     "execution_count": 21,
     "metadata": {},
     "output_type": "execute_result"
    }
   ],
   "source": [
    "jobs_df.head(5)"
   ]
  },
  {
   "cell_type": "code",
   "execution_count": 22,
   "metadata": {},
   "outputs": [
    {
     "data": {
      "text/plain": [
       "Index(['total_copies', 'started_at', 'ended_at', 'speed', 'operator',\n",
       "       'operator_level', 'paperHeight', 'paperWidth', 'paperName',\n",
       "       'paperThickness', 'id_on_machine', 'total_copies_requested',\n",
       "       'uses_ifoil', 'uses_iper', 'scanner_mode', 'iper_bvar_count',\n",
       "       'varnishConsumptionVarnish_3d', 'run', 'total_run', 'copies_per_run'],\n",
       "      dtype='object')"
      ]
     },
     "execution_count": 22,
     "metadata": {},
     "output_type": "execute_result"
    }
   ],
   "source": [
    "jobs_df.columns"
   ]
  },
  {
   "attachments": {},
   "cell_type": "markdown",
   "metadata": {},
   "source": [
    "### 5. Outout csv"
   ]
  },
  {
   "cell_type": "code",
   "execution_count": 23,
   "metadata": {},
   "outputs": [],
   "source": [
    "# sauvegarde du dataset en csv\n",
    "jobs_df.to_csv(save_csv)"
   ]
  }
 ],
 "metadata": {
  "kernelspec": {
   "display_name": ".venv",
   "language": "python",
   "name": "python3"
  },
  "language_info": {
   "codemirror_mode": {
    "name": "ipython",
    "version": 3
   },
   "file_extension": ".py",
   "mimetype": "text/x-python",
   "name": "python",
   "nbconvert_exporter": "python",
   "pygments_lexer": "ipython3",
   "version": "3.10.11"
  },
  "orig_nbformat": 4,
  "vscode": {
   "interpreter": {
    "hash": "2315c9af7dedaeb0b2bf51504304a927c605b523f04dad98936c50abe500b408"
   }
  }
 },
 "nbformat": 4,
 "nbformat_minor": 2
}
