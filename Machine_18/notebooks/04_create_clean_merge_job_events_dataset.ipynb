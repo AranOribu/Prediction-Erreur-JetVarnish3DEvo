{
 "cells": [
  {
   "attachments": {},
   "cell_type": "markdown",
   "metadata": {},
   "source": [
    "# 04 - Création d'un dataset des données nettoyées de job_events (après fractionnement)"
   ]
  },
  {
   "attachments": {},
   "cell_type": "markdown",
   "metadata": {},
   "source": [
    "Ce notebook génère 1 csv :\n",
    "\n",
    "- clean_merge_job_events_dataset.csv\n",
    "\n",
    "Etapes :\n",
    "\n",
    "- Suppression des lignes avec les valeurs timestamp_start manquantes\n",
    "\n",
    "- Suppression des colonnes ayant des valeurs uniques\n",
    "\n",
    "- Remplacement des données maquantes\n",
    "\n",
    "- Conversion des types des séries en fonction des types des valeurs"
   ]
  },
  {
   "attachments": {},
   "cell_type": "markdown",
   "metadata": {},
   "source": [
    "# A. Imports"
   ]
  },
  {
   "attachments": {},
   "cell_type": "markdown",
   "metadata": {},
   "source": [
    "## a) Librairies"
   ]
  },
  {
   "cell_type": "code",
   "execution_count": 1,
   "metadata": {},
   "outputs": [],
   "source": [
    "import os, math\n",
    "import pandas as pd\n",
    "import numpy as np\n",
    "import matplotlib.pyplot as plt\n",
    "import seaborn as sns\n",
    "from pathlib import Path"
   ]
  },
  {
   "attachments": {},
   "cell_type": "markdown",
   "metadata": {},
   "source": [
    "## b) Données"
   ]
  },
  {
   "cell_type": "code",
   "execution_count": 2,
   "metadata": {},
   "outputs": [],
   "source": [
    "# source path to raw metrics dataset\n",
    "filename = 'raw_merge_job_events_dataset.csv'\n",
    "path = '../data/jobs'\n",
    "job_events = os.path.join(path, filename)\n",
    "# target path to save merge raw metrics dataset\n",
    "save_csv = '../data/jobs/clean_merge_job_events_dataset.csv'"
   ]
  },
  {
   "attachments": {},
   "cell_type": "markdown",
   "metadata": {},
   "source": [
    "# B. Dataframe"
   ]
  },
  {
   "attachments": {},
   "cell_type": "markdown",
   "metadata": {},
   "source": [
    "## a) Création"
   ]
  },
  {
   "cell_type": "code",
   "execution_count": 3,
   "metadata": {},
   "outputs": [
    {
     "name": "stdout",
     "output_type": "stream",
     "text": [
      "<class 'pandas.core.frame.DataFrame'>\n",
      "Int64Index: 37412 entries, 0 to 37411\n",
      "Data columns (total 48 columns):\n",
      " #   Column                                                 Non-Null Count  Dtype  \n",
      "---  ------                                                 --------------  -----  \n",
      " 0   jobId                                                  37412 non-null  int64  \n",
      " 1   timestamp_start                                        37398 non-null  object \n",
      " 2   totalCopies_start                                      37398 non-null  float64\n",
      " 3   jsonVersion_x                                          22919 non-null  float64\n",
      " 4   LED_iper                                               37398 non-null  float64\n",
      " 5   bars_iper                                              37398 non-null  object \n",
      " 6   drops_iper                                             37398 non-null  float64\n",
      " 7   dithering_iper                                         37398 non-null  object \n",
      " 8   deadPixelsOffset_iper                                  37398 non-null  float64\n",
      " 9   level_user                                             37398 non-null  object \n",
      " 10  operator_user                                          37398 non-null  object \n",
      " 11  speed_ifoil                                            37398 non-null  float64\n",
      " 12  enabled_ifoil                                          37398 non-null  object \n",
      " 13  optifoil_ifoil                                         37398 non-null  object \n",
      " 14  vacuumIn_ifoil                                         37398 non-null  float64\n",
      " 15  vacuumOut_ifoil                                        37398 non-null  float64\n",
      " 16  stampAreas_ifoil                                       37398 non-null  object \n",
      " 17  heater1Enabled_ifoil                                   37398 non-null  object \n",
      " 18  speedTensionIn_ifoil                                   37398 non-null  float64\n",
      " 19  speedTensionOut_ifoil                                  37398 non-null  float64\n",
      " 20  heater1Temperature_ifoil                               37398 non-null  float64\n",
      " 21  x_imageLayout_layout                                   37398 non-null  float64\n",
      " 22  y_imageLayout_layout                                   37398 non-null  float64\n",
      " 23  name_paperFormat_layout                                13 non-null     object \n",
      " 24  width_paperFormat_layout                               37398 non-null  float64\n",
      " 25  height_paperFormat_layout                              37398 non-null  float64\n",
      " 26  speed_layout                                           37398 non-null  float64\n",
      " 27  power_irDryers                                         37398 non-null  float64\n",
      " 28  power_uvDryers                                         37398 non-null  float64\n",
      " 29  redScore_gridMode_remoteScannerRegistration            37398 non-null  float64\n",
      " 30  redScore_cropmarksMode_remoteScannerRegistration       37398 non-null  float64\n",
      " 31  x_cropmark1_cropmarksMode_remoteScannerRegistration    37398 non-null  float64\n",
      " 32  y_cropmark1_cropmarksMode_remoteScannerRegistration    37398 non-null  float64\n",
      " 33  x_cropmark2_cropmarksMode_remoteScannerRegistration    37398 non-null  float64\n",
      " 34  y_cropmark2_cropmarksMode_remoteScannerRegistration    37398 non-null  float64\n",
      " 35  exposureTime_manualLighting_remoteScannerRegistration  37398 non-null  float64\n",
      " 36  redScore_fullScannerMode_remoteScannerRegistration     37398 non-null  float64\n",
      " 37  blueScore_fullScannerMode_remoteScannerRegistration    37398 non-null  float64\n",
      " 38  greenScore_fullScannerMode_remoteScannerRegistration   37398 non-null  float64\n",
      " 39  enable_specialSubstrate_remoteScannerRegistration      37398 non-null  object \n",
      " 40  mode_remoteScannerRegistration                         37398 non-null  float64\n",
      " 41  jobState                                               37333 non-null  object \n",
      " 42  timestamp_end                                          37333 non-null  object \n",
      " 43  totalCopies_end                                        37333 non-null  float64\n",
      " 44  consumption_operatorSideTanks_varnishConsumption       37333 non-null  float64\n",
      " 45  path                                                   37374 non-null  object \n",
      " 46  image                                                  37374 non-null  object \n",
      " 47  jsonVersion_y                                          22899 non-null  float64\n",
      "dtypes: float64(32), int64(1), object(15)\n",
      "memory usage: 14.0+ MB\n"
     ]
    },
    {
     "name": "stderr",
     "output_type": "stream",
     "text": [
      "C:\\Users\\Allan\\AppData\\Local\\Temp\\ipykernel_15692\\3017163755.py:2: DtypeWarning: Columns (8,13,14,18,24,40) have mixed types. Specify dtype option on import or set low_memory=False.\n",
      "  df = pd.read_csv(job_events, index_col=0)\n"
     ]
    }
   ],
   "source": [
    "# création d'un dataframe à partir du csv de données\n",
    "df = pd.read_csv(job_events, index_col=0)\n",
    "df.info()"
   ]
  },
  {
   "cell_type": "code",
   "execution_count": 4,
   "metadata": {},
   "outputs": [
    {
     "data": {
      "text/html": [
       "<div>\n",
       "<style scoped>\n",
       "    .dataframe tbody tr th:only-of-type {\n",
       "        vertical-align: middle;\n",
       "    }\n",
       "\n",
       "    .dataframe tbody tr th {\n",
       "        vertical-align: top;\n",
       "    }\n",
       "\n",
       "    .dataframe thead th {\n",
       "        text-align: right;\n",
       "    }\n",
       "</style>\n",
       "<table border=\"1\" class=\"dataframe\">\n",
       "  <thead>\n",
       "    <tr style=\"text-align: right;\">\n",
       "      <th></th>\n",
       "      <th>jobId</th>\n",
       "      <th>timestamp_start</th>\n",
       "      <th>totalCopies_start</th>\n",
       "      <th>jsonVersion_x</th>\n",
       "      <th>LED_iper</th>\n",
       "      <th>bars_iper</th>\n",
       "      <th>drops_iper</th>\n",
       "      <th>dithering_iper</th>\n",
       "      <th>deadPixelsOffset_iper</th>\n",
       "      <th>level_user</th>\n",
       "      <th>...</th>\n",
       "      <th>greenScore_fullScannerMode_remoteScannerRegistration</th>\n",
       "      <th>enable_specialSubstrate_remoteScannerRegistration</th>\n",
       "      <th>mode_remoteScannerRegistration</th>\n",
       "      <th>jobState</th>\n",
       "      <th>timestamp_end</th>\n",
       "      <th>totalCopies_end</th>\n",
       "      <th>consumption_operatorSideTanks_varnishConsumption</th>\n",
       "      <th>path</th>\n",
       "      <th>image</th>\n",
       "      <th>jsonVersion_y</th>\n",
       "    </tr>\n",
       "  </thead>\n",
       "  <tbody>\n",
       "    <tr>\n",
       "      <th>0</th>\n",
       "      <td>1645522997</td>\n",
       "      <td>2022-02-22T09:43:18.1166478Z</td>\n",
       "      <td>6.0</td>\n",
       "      <td>NaN</td>\n",
       "      <td>50.0</td>\n",
       "      <td>[1, 2]</td>\n",
       "      <td>4.0</td>\n",
       "      <td>False</td>\n",
       "      <td>0.0</td>\n",
       "      <td>Operator</td>\n",
       "      <td>...</td>\n",
       "      <td>25.0</td>\n",
       "      <td>False</td>\n",
       "      <td>3.0</td>\n",
       "      <td>SUCCESS</td>\n",
       "      <td>2022-02-22T09:44:33.3894028Z</td>\n",
       "      <td>6.0</td>\n",
       "      <td>4.585923</td>\n",
       "      <td>D:/IMAGES/Standard/1504750#1/0000001.tif</td>\n",
       "      <td>/9j/4AAQSkZJRgABAQEASABIAAD/4gxYSUNDX1BST0ZJTE...</td>\n",
       "      <td>NaN</td>\n",
       "    </tr>\n",
       "    <tr>\n",
       "      <th>1</th>\n",
       "      <td>1645523101</td>\n",
       "      <td>2022-02-22T09:45:01.3041033Z</td>\n",
       "      <td>11.0</td>\n",
       "      <td>NaN</td>\n",
       "      <td>50.0</td>\n",
       "      <td>[1, 2]</td>\n",
       "      <td>4.0</td>\n",
       "      <td>False</td>\n",
       "      <td>0.0</td>\n",
       "      <td>Operator</td>\n",
       "      <td>...</td>\n",
       "      <td>25.0</td>\n",
       "      <td>False</td>\n",
       "      <td>3.0</td>\n",
       "      <td>SUCCESS</td>\n",
       "      <td>2022-02-22T09:46:34.9290928Z</td>\n",
       "      <td>11.0</td>\n",
       "      <td>2.917403</td>\n",
       "      <td>D:/IMAGES/Standard/1504749#1/0000001.tif</td>\n",
       "      <td>/9j/4AAQSkZJRgABAQEASABIAAD/4gxYSUNDX1BST0ZJTE...</td>\n",
       "      <td>NaN</td>\n",
       "    </tr>\n",
       "    <tr>\n",
       "      <th>2</th>\n",
       "      <td>1645523250</td>\n",
       "      <td>2022-02-22T09:47:30.3197334Z</td>\n",
       "      <td>7.0</td>\n",
       "      <td>NaN</td>\n",
       "      <td>50.0</td>\n",
       "      <td>[1, 2]</td>\n",
       "      <td>4.0</td>\n",
       "      <td>False</td>\n",
       "      <td>0.0</td>\n",
       "      <td>Operator</td>\n",
       "      <td>...</td>\n",
       "      <td>25.0</td>\n",
       "      <td>False</td>\n",
       "      <td>3.0</td>\n",
       "      <td>SUCCESS</td>\n",
       "      <td>2022-02-22T09:48:37.5548877Z</td>\n",
       "      <td>7.0</td>\n",
       "      <td>0.423666</td>\n",
       "      <td>D:/IMAGES/Standard/1505959#1/0000001 V01.tif</td>\n",
       "      <td>/9j/4AAQSkZJRgABAQEAYABgAAD/2wBDAAgGBgcGBQgHBw...</td>\n",
       "      <td>NaN</td>\n",
       "    </tr>\n",
       "    <tr>\n",
       "      <th>3</th>\n",
       "      <td>1645523396</td>\n",
       "      <td>2022-02-22T09:49:56.2985885Z</td>\n",
       "      <td>11.0</td>\n",
       "      <td>NaN</td>\n",
       "      <td>50.0</td>\n",
       "      <td>[1, 2]</td>\n",
       "      <td>4.0</td>\n",
       "      <td>False</td>\n",
       "      <td>0.0</td>\n",
       "      <td>Operator</td>\n",
       "      <td>...</td>\n",
       "      <td>25.0</td>\n",
       "      <td>False</td>\n",
       "      <td>3.0</td>\n",
       "      <td>SUCCESS</td>\n",
       "      <td>2022-02-22T09:51:14.4060997Z</td>\n",
       "      <td>11.0</td>\n",
       "      <td>1.100145</td>\n",
       "      <td>D:/IMAGES/Standard/1505734#1/0000001 V01.tif</td>\n",
       "      <td>/9j/4AAQSkZJRgABAQEAYABgAAD/2wBDAAgGBgcGBQgHBw...</td>\n",
       "      <td>NaN</td>\n",
       "    </tr>\n",
       "    <tr>\n",
       "      <th>4</th>\n",
       "      <td>1645523577</td>\n",
       "      <td>2022-02-22T09:52:57.3050451Z</td>\n",
       "      <td>47.0</td>\n",
       "      <td>NaN</td>\n",
       "      <td>50.0</td>\n",
       "      <td>[1, 2]</td>\n",
       "      <td>4.0</td>\n",
       "      <td>False</td>\n",
       "      <td>0.0</td>\n",
       "      <td>Operator</td>\n",
       "      <td>...</td>\n",
       "      <td>25.0</td>\n",
       "      <td>False</td>\n",
       "      <td>3.0</td>\n",
       "      <td>SUCCESS</td>\n",
       "      <td>2022-02-22T09:55:59.9936088Z</td>\n",
       "      <td>47.0</td>\n",
       "      <td>4.701610</td>\n",
       "      <td>D:/IMAGES/Standard/1505736#1/0000001 V01.tif</td>\n",
       "      <td>/9j/4AAQSkZJRgABAQEAYABgAAD/2wBDAAgGBgcGBQgHBw...</td>\n",
       "      <td>NaN</td>\n",
       "    </tr>\n",
       "  </tbody>\n",
       "</table>\n",
       "<p>5 rows × 48 columns</p>\n",
       "</div>"
      ],
      "text/plain": [
       "        jobId               timestamp_start  totalCopies_start  jsonVersion_x  \\\n",
       "0  1645522997  2022-02-22T09:43:18.1166478Z                6.0            NaN   \n",
       "1  1645523101  2022-02-22T09:45:01.3041033Z               11.0            NaN   \n",
       "2  1645523250  2022-02-22T09:47:30.3197334Z                7.0            NaN   \n",
       "3  1645523396  2022-02-22T09:49:56.2985885Z               11.0            NaN   \n",
       "4  1645523577  2022-02-22T09:52:57.3050451Z               47.0            NaN   \n",
       "\n",
       "   LED_iper bars_iper  drops_iper dithering_iper  deadPixelsOffset_iper  \\\n",
       "0      50.0    [1, 2]         4.0          False                    0.0   \n",
       "1      50.0    [1, 2]         4.0          False                    0.0   \n",
       "2      50.0    [1, 2]         4.0          False                    0.0   \n",
       "3      50.0    [1, 2]         4.0          False                    0.0   \n",
       "4      50.0    [1, 2]         4.0          False                    0.0   \n",
       "\n",
       "  level_user  ... greenScore_fullScannerMode_remoteScannerRegistration  \\\n",
       "0   Operator  ...                                               25.0     \n",
       "1   Operator  ...                                               25.0     \n",
       "2   Operator  ...                                               25.0     \n",
       "3   Operator  ...                                               25.0     \n",
       "4   Operator  ...                                               25.0     \n",
       "\n",
       "   enable_specialSubstrate_remoteScannerRegistration  \\\n",
       "0                                              False   \n",
       "1                                              False   \n",
       "2                                              False   \n",
       "3                                              False   \n",
       "4                                              False   \n",
       "\n",
       "  mode_remoteScannerRegistration jobState                 timestamp_end  \\\n",
       "0                            3.0  SUCCESS  2022-02-22T09:44:33.3894028Z   \n",
       "1                            3.0  SUCCESS  2022-02-22T09:46:34.9290928Z   \n",
       "2                            3.0  SUCCESS  2022-02-22T09:48:37.5548877Z   \n",
       "3                            3.0  SUCCESS  2022-02-22T09:51:14.4060997Z   \n",
       "4                            3.0  SUCCESS  2022-02-22T09:55:59.9936088Z   \n",
       "\n",
       "   totalCopies_end consumption_operatorSideTanks_varnishConsumption  \\\n",
       "0              6.0                                         4.585923   \n",
       "1             11.0                                         2.917403   \n",
       "2              7.0                                         0.423666   \n",
       "3             11.0                                         1.100145   \n",
       "4             47.0                                         4.701610   \n",
       "\n",
       "                                           path  \\\n",
       "0      D:/IMAGES/Standard/1504750#1/0000001.tif   \n",
       "1      D:/IMAGES/Standard/1504749#1/0000001.tif   \n",
       "2  D:/IMAGES/Standard/1505959#1/0000001 V01.tif   \n",
       "3  D:/IMAGES/Standard/1505734#1/0000001 V01.tif   \n",
       "4  D:/IMAGES/Standard/1505736#1/0000001 V01.tif   \n",
       "\n",
       "                                               image  jsonVersion_y  \n",
       "0  /9j/4AAQSkZJRgABAQEASABIAAD/4gxYSUNDX1BST0ZJTE...            NaN  \n",
       "1  /9j/4AAQSkZJRgABAQEASABIAAD/4gxYSUNDX1BST0ZJTE...            NaN  \n",
       "2  /9j/4AAQSkZJRgABAQEAYABgAAD/2wBDAAgGBgcGBQgHBw...            NaN  \n",
       "3  /9j/4AAQSkZJRgABAQEAYABgAAD/2wBDAAgGBgcGBQgHBw...            NaN  \n",
       "4  /9j/4AAQSkZJRgABAQEAYABgAAD/2wBDAAgGBgcGBQgHBw...            NaN  \n",
       "\n",
       "[5 rows x 48 columns]"
      ]
     },
     "execution_count": 4,
     "metadata": {},
     "output_type": "execute_result"
    }
   ],
   "source": [
    "# réindexation\n",
    "df.reset_index(level=None, drop=True, inplace=True, col_level=0, col_fill='')\n",
    "df.head(5)"
   ]
  },
  {
   "attachments": {},
   "cell_type": "markdown",
   "metadata": {},
   "source": [
    "## b) Nettoyage"
   ]
  },
  {
   "attachments": {},
   "cell_type": "markdown",
   "metadata": {},
   "source": [
    "### 1. Suppression de lignes"
   ]
  },
  {
   "cell_type": "code",
   "execution_count": 5,
   "metadata": {},
   "outputs": [
    {
     "data": {
      "text/plain": [
       "[37398,\n",
       " 37399,\n",
       " 37400,\n",
       " 37401,\n",
       " 37402,\n",
       " 37403,\n",
       " 37404,\n",
       " 37405,\n",
       " 37406,\n",
       " 37407,\n",
       " 37408,\n",
       " 37409,\n",
       " 37410,\n",
       " 37411]"
      ]
     },
     "execution_count": 5,
     "metadata": {},
     "output_type": "execute_result"
    }
   ],
   "source": [
    "# on cherche les index des lignes sans timestamp de départ\n",
    "no_start_row = list(df[df['timestamp_start'].isna()].index)\n",
    "no_start_row"
   ]
  },
  {
   "cell_type": "code",
   "execution_count": 6,
   "metadata": {},
   "outputs": [],
   "source": [
    "# on supprime les lignes sans timestamp de départ\n",
    "df.drop(no_start_row, axis=0, inplace=True)"
   ]
  },
  {
   "attachments": {},
   "cell_type": "markdown",
   "metadata": {},
   "source": [
    "### 2. Suppression de colonnes"
   ]
  },
  {
   "cell_type": "code",
   "execution_count": 7,
   "metadata": {},
   "outputs": [
    {
     "data": {
      "text/plain": [
       "Index(['jobId', 'timestamp_start', 'totalCopies_start', 'jsonVersion_x',\n",
       "       'LED_iper', 'bars_iper', 'drops_iper', 'dithering_iper',\n",
       "       'deadPixelsOffset_iper', 'level_user', 'operator_user', 'speed_ifoil',\n",
       "       'enabled_ifoil', 'optifoil_ifoil', 'vacuumIn_ifoil', 'vacuumOut_ifoil',\n",
       "       'stampAreas_ifoil', 'heater1Enabled_ifoil', 'speedTensionIn_ifoil',\n",
       "       'speedTensionOut_ifoil', 'heater1Temperature_ifoil',\n",
       "       'x_imageLayout_layout', 'y_imageLayout_layout',\n",
       "       'name_paperFormat_layout', 'width_paperFormat_layout',\n",
       "       'height_paperFormat_layout', 'speed_layout', 'power_irDryers',\n",
       "       'power_uvDryers', 'redScore_gridMode_remoteScannerRegistration',\n",
       "       'redScore_cropmarksMode_remoteScannerRegistration',\n",
       "       'x_cropmark1_cropmarksMode_remoteScannerRegistration',\n",
       "       'y_cropmark1_cropmarksMode_remoteScannerRegistration',\n",
       "       'x_cropmark2_cropmarksMode_remoteScannerRegistration',\n",
       "       'y_cropmark2_cropmarksMode_remoteScannerRegistration',\n",
       "       'exposureTime_manualLighting_remoteScannerRegistration',\n",
       "       'redScore_fullScannerMode_remoteScannerRegistration',\n",
       "       'blueScore_fullScannerMode_remoteScannerRegistration',\n",
       "       'greenScore_fullScannerMode_remoteScannerRegistration',\n",
       "       'enable_specialSubstrate_remoteScannerRegistration',\n",
       "       'mode_remoteScannerRegistration', 'jobState', 'timestamp_end',\n",
       "       'totalCopies_end', 'consumption_operatorSideTanks_varnishConsumption',\n",
       "       'path', 'image', 'jsonVersion_y'],\n",
       "      dtype='object')"
      ]
     },
     "execution_count": 7,
     "metadata": {},
     "output_type": "execute_result"
    }
   ],
   "source": [
    "# liste des colonnes\n",
    "df.columns"
   ]
  },
  {
   "cell_type": "code",
   "execution_count": 8,
   "metadata": {},
   "outputs": [
    {
     "data": {
      "text/plain": [
       "array([dtype('int64'), dtype('O'), dtype('float64')], dtype=object)"
      ]
     },
     "execution_count": 8,
     "metadata": {},
     "output_type": "execute_result"
    }
   ],
   "source": [
    "# liste des types des colonnes\n",
    "df.dtypes.unique()"
   ]
  },
  {
   "cell_type": "code",
   "execution_count": 9,
   "metadata": {},
   "outputs": [],
   "source": [
    "# suppression des colonnes non pertinentes\n",
    "col_to_drop = [\n",
    "    'path', \n",
    "    'image']\n",
    "df.drop(col_to_drop, axis=1, inplace=True)"
   ]
  },
  {
   "attachments": {},
   "cell_type": "markdown",
   "metadata": {},
   "source": [
    "### 3. Données maquantes"
   ]
  },
  {
   "cell_type": "code",
   "execution_count": 10,
   "metadata": {},
   "outputs": [
    {
     "name": "stdout",
     "output_type": "stream",
     "text": [
      "jsonVersion_x : [nan  2.]\n",
      "name_paperFormat_layout : [nan 'B1' 'A4']\n",
      "jobState : ['SUCCESS' 'ERROR' 'CANCELED' nan]\n",
      "timestamp_end : 37319 - dtype : object\n",
      "totalCopies_end : 175 - dtype : float64\n",
      "consumption_operatorSideTanks_varnishConsumption : 34218 - dtype : float64\n",
      "jsonVersion_y : [nan  2.]\n"
     ]
    }
   ],
   "source": [
    "# on liste les colonnes qui contiennent des valeurs nulles\n",
    "col_with_nan = []\n",
    "for col in df.columns:\n",
    "    if df[col].isnull().any():\n",
    "        col_with_nan.append(col)\n",
    "        print(f'{col} : {df[col].unique()}') if df[col].nunique() <= 10 else print(f'{col} : {df[col].nunique()} - dtype : {df[col].dtype}')     "
   ]
  },
  {
   "cell_type": "code",
   "execution_count": 11,
   "metadata": {},
   "outputs": [],
   "source": [
    "# on remplace les 'name_paperFormat' sans nom par UNDEFINED\n",
    "df['name_paperFormat_layout'] = df['name_paperFormat_layout'].fillna('UNDEFINED')"
   ]
  },
  {
   "cell_type": "code",
   "execution_count": 12,
   "metadata": {},
   "outputs": [],
   "source": [
    "# on remplace les 'jobState' non défini par UNDEFINED\n",
    "df['jobState'] = df['jobState'].fillna('UNDEFINED')"
   ]
  },
  {
   "cell_type": "code",
   "execution_count": 13,
   "metadata": {},
   "outputs": [],
   "source": [
    "# on converti les valeur de 'timestamp_end' en booléen\n",
    "#df['timestamp_end'] = df['timestamp_end'].apply(lambda x: False if pd.isna(x) else True)\n",
    "df['timestamp_end'] = df['timestamp_end'].fillna(df['timestamp_start'])"
   ]
  },
  {
   "cell_type": "code",
   "execution_count": 14,
   "metadata": {},
   "outputs": [],
   "source": [
    "# on remplace les valeurs de 'totalCopies_end' nulles par 0\n",
    "df['totalCopies_end'] = df['totalCopies_end'].fillna(float(0))"
   ]
  },
  {
   "cell_type": "code",
   "execution_count": 15,
   "metadata": {},
   "outputs": [],
   "source": [
    "# on remplace les valeurs de 'varnishConsumption' nulles par 0\n",
    "df['consumption_operatorSideTanks_varnishConsumption'] = df['consumption_operatorSideTanks_varnishConsumption'].fillna(float(0))"
   ]
  },
  {
   "attachments": {},
   "cell_type": "markdown",
   "metadata": {},
   "source": [
    "### 4. Conversion de type"
   ]
  },
  {
   "cell_type": "code",
   "execution_count": 16,
   "metadata": {},
   "outputs": [],
   "source": [
    "# conversion des colonnes de type 'float' dont toutes les valeurs ont des décimales à 0 en type 'int'\n",
    "for col in list(df.select_dtypes(exclude=['object','bool']).columns):\n",
    "    if not True in (math.modf(value)[0] != float(0) for value in list(df[col].unique())):\n",
    "        df[col] = df[col].astype('int64')"
   ]
  },
  {
   "cell_type": "code",
   "execution_count": 17,
   "metadata": {},
   "outputs": [
    {
     "name": "stdout",
     "output_type": "stream",
     "text": [
      "timestamp_start : 37398 values\n",
      "bars_iper : ['[1, 2]' '[2]' '[1]']\n",
      "dithering_iper : [False True]\n",
      "level_user : ['Operator' 'Distributor']\n",
      "operator_user : ['User' 'Distributor']\n",
      "enabled_ifoil : [True False]\n",
      "optifoil_ifoil : [False True]\n",
      "stampAreas_ifoil : 26 values\n",
      "heater1Enabled_ifoil : [True False]\n",
      "name_paperFormat_layout : ['UNDEFINED' 'B1' 'A4']\n",
      "enable_specialSubstrate_remoteScannerRegistration : [False True]\n",
      "jobState : ['SUCCESS' 'ERROR' 'CANCELED' 'UNDEFINED']\n",
      "timestamp_end : 37398 values\n"
     ]
    }
   ],
   "source": [
    "# on liste les valeurs (si pas plus de 5) des colonnes de type object\n",
    "for col in list(df.select_dtypes(include=['object']).columns):\n",
    "    print(f\"{col} : {df[col].unique()}\") if df[col].nunique() <= 5  else print(f\"{col} : {df[col].nunique()} values\")"
   ]
  },
  {
   "cell_type": "code",
   "execution_count": 18,
   "metadata": {},
   "outputs": [],
   "source": [
    "# on peut convertir certaines colonnes au format datetime\n",
    "df['timestamp_start'] = pd.to_datetime(df['timestamp_start'], utc=True)\n",
    "df['timestamp_end'] = pd.to_datetime(df['timestamp_end'], utc=True)"
   ]
  },
  {
   "cell_type": "code",
   "execution_count": 19,
   "metadata": {},
   "outputs": [],
   "source": [
    "# on peut convertir le type des colonnes contenant True au format booléen\n",
    "for col in list(df.select_dtypes(include=['object']).columns):\n",
    "    values = list(df[col].unique())\n",
    "    if True in (len(values) == 2  and value == True for value in values):\n",
    "        df[col] = df[col].astype('bool')"
   ]
  },
  {
   "cell_type": "code",
   "execution_count": 20,
   "metadata": {},
   "outputs": [
    {
     "name": "stdout",
     "output_type": "stream",
     "text": [
      "bars_iper : ['[1, 2]' '[2]' '[1]']\n",
      "level_user : ['Operator' 'Distributor']\n",
      "operator_user : ['User' 'Distributor']\n",
      "stampAreas_ifoil : 26 values\n",
      "name_paperFormat_layout : ['UNDEFINED' 'B1' 'A4']\n",
      "jobState : ['SUCCESS' 'ERROR' 'CANCELED' 'UNDEFINED']\n"
     ]
    }
   ],
   "source": [
    "# on liste les valeurs (si pas plus de 5) des colonnes de type object\n",
    "for col in list(df.select_dtypes(include=['object']).columns):\n",
    "    print(f\"{col} : {df[col].unique()}\") if df[col].nunique() <= 5  else print(f\"{col} : {df[col].nunique()} values\")"
   ]
  },
  {
   "attachments": {},
   "cell_type": "markdown",
   "metadata": {},
   "source": [
    "### 5. Output csv"
   ]
  },
  {
   "cell_type": "code",
   "execution_count": 21,
   "metadata": {},
   "outputs": [
    {
     "data": {
      "text/plain": [
       "Index(['jobId', 'timestamp_start', 'totalCopies_start', 'jsonVersion_x',\n",
       "       'LED_iper', 'bars_iper', 'drops_iper', 'dithering_iper',\n",
       "       'deadPixelsOffset_iper', 'level_user', 'operator_user', 'speed_ifoil',\n",
       "       'enabled_ifoil', 'optifoil_ifoil', 'vacuumIn_ifoil', 'vacuumOut_ifoil',\n",
       "       'stampAreas_ifoil', 'heater1Enabled_ifoil', 'speedTensionIn_ifoil',\n",
       "       'speedTensionOut_ifoil', 'heater1Temperature_ifoil',\n",
       "       'x_imageLayout_layout', 'y_imageLayout_layout',\n",
       "       'name_paperFormat_layout', 'width_paperFormat_layout',\n",
       "       'height_paperFormat_layout', 'speed_layout', 'power_irDryers',\n",
       "       'power_uvDryers', 'redScore_gridMode_remoteScannerRegistration',\n",
       "       'redScore_cropmarksMode_remoteScannerRegistration',\n",
       "       'x_cropmark1_cropmarksMode_remoteScannerRegistration',\n",
       "       'y_cropmark1_cropmarksMode_remoteScannerRegistration',\n",
       "       'x_cropmark2_cropmarksMode_remoteScannerRegistration',\n",
       "       'y_cropmark2_cropmarksMode_remoteScannerRegistration',\n",
       "       'exposureTime_manualLighting_remoteScannerRegistration',\n",
       "       'redScore_fullScannerMode_remoteScannerRegistration',\n",
       "       'blueScore_fullScannerMode_remoteScannerRegistration',\n",
       "       'greenScore_fullScannerMode_remoteScannerRegistration',\n",
       "       'enable_specialSubstrate_remoteScannerRegistration',\n",
       "       'mode_remoteScannerRegistration', 'jobState', 'timestamp_end',\n",
       "       'totalCopies_end', 'consumption_operatorSideTanks_varnishConsumption',\n",
       "       'jsonVersion_y'],\n",
       "      dtype='object')"
      ]
     },
     "execution_count": 21,
     "metadata": {},
     "output_type": "execute_result"
    }
   ],
   "source": [
    "df.columns"
   ]
  },
  {
   "cell_type": "code",
   "execution_count": 22,
   "metadata": {},
   "outputs": [],
   "source": [
    "df.to_csv(path_or_buf=Path(save_csv))"
   ]
  }
 ],
 "metadata": {
  "kernelspec": {
   "display_name": ".venv",
   "language": "python",
   "name": "python3"
  },
  "language_info": {
   "codemirror_mode": {
    "name": "ipython",
    "version": 3
   },
   "file_extension": ".py",
   "mimetype": "text/x-python",
   "name": "python",
   "nbconvert_exporter": "python",
   "pygments_lexer": "ipython3",
   "version": "3.10.11"
  },
  "orig_nbformat": 4,
  "vscode": {
   "interpreter": {
    "hash": "2315c9af7dedaeb0b2bf51504304a927c605b523f04dad98936c50abe500b408"
   }
  }
 },
 "nbformat": 4,
 "nbformat_minor": 2
}
