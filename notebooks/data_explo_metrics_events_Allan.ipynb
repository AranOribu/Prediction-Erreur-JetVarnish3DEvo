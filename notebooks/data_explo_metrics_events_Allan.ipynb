{
 "cells": [
  {
   "attachments": {},
   "cell_type": "markdown",
   "metadata": {},
   "source": [
    "# Notebook exploration données : event les plus fréquents"
   ]
  },
  {
   "attachments": {},
   "cell_type": "markdown",
   "metadata": {},
   "source": [
    "## Imports"
   ]
  },
  {
   "attachments": {},
   "cell_type": "markdown",
   "metadata": {},
   "source": [
    "### Librairies"
   ]
  },
  {
   "cell_type": "code",
   "execution_count": 35,
   "metadata": {},
   "outputs": [],
   "source": [
    "import os, json, ast\n",
    "import pandas as pd\n",
    "import numpy as np\n",
    "\n",
    "import matplotlib.pyplot as plt\n",
    "import matplotlib.dates as mdates\n",
    "from datetime import datetime\n",
    "from babel.dates import format_date\n",
    "import seaborn as sns"
   ]
  },
  {
   "attachments": {},
   "cell_type": "markdown",
   "metadata": {},
   "source": [
    "### Data"
   ]
  },
  {
   "cell_type": "code",
   "execution_count": 36,
   "metadata": {},
   "outputs": [
    {
     "data": {
      "text/html": [
       "<div>\n",
       "<style scoped>\n",
       "    .dataframe tbody tr th:only-of-type {\n",
       "        vertical-align: middle;\n",
       "    }\n",
       "\n",
       "    .dataframe tbody tr th {\n",
       "        vertical-align: top;\n",
       "    }\n",
       "\n",
       "    .dataframe thead th {\n",
       "        text-align: right;\n",
       "    }\n",
       "</style>\n",
       "<table border=\"1\" class=\"dataframe\">\n",
       "  <thead>\n",
       "    <tr style=\"text-align: right;\">\n",
       "      <th></th>\n",
       "      <th>id</th>\n",
       "      <th>status</th>\n",
       "      <th>created_at</th>\n",
       "      <th>varnishLevelsTargetvolume</th>\n",
       "      <th>varnishLevelsTotalvolume</th>\n",
       "      <th>events</th>\n",
       "      <th>operators_name</th>\n",
       "      <th>operators_level</th>\n",
       "      <th>VarnishPrinter_3DVarnishCounter</th>\n",
       "      <th>iFoil_TotalPagesCounter</th>\n",
       "      <th>events_id</th>\n",
       "    </tr>\n",
       "  </thead>\n",
       "  <tbody>\n",
       "    <tr>\n",
       "      <th>307539</th>\n",
       "      <td>4169748</td>\n",
       "      <td>WARNING</td>\n",
       "      <td>2022-04-15 05:55:06.678</td>\n",
       "      <td>36192.322612</td>\n",
       "      <td>100000</td>\n",
       "      <td>[]</td>\n",
       "      <td>Viktor</td>\n",
       "      <td>Operator</td>\n",
       "      <td>1792992</td>\n",
       "      <td>22881</td>\n",
       "      <td>[]</td>\n",
       "    </tr>\n",
       "    <tr>\n",
       "      <th>307540</th>\n",
       "      <td>4169749</td>\n",
       "      <td>WARNING</td>\n",
       "      <td>2022-04-15 05:55:06.829</td>\n",
       "      <td>36192.322612</td>\n",
       "      <td>100000</td>\n",
       "      <td>[{\"source\": \"PLC\", \"message\": \" JV-Ti non prêt...</td>\n",
       "      <td>Viktor</td>\n",
       "      <td>Operator</td>\n",
       "      <td>1792992</td>\n",
       "      <td>22881</td>\n",
       "      <td>[391]</td>\n",
       "    </tr>\n",
       "  </tbody>\n",
       "</table>\n",
       "</div>"
      ],
      "text/plain": [
       "             id   status               created_at  varnishLevelsTargetvolume  \\\n",
       "307539  4169748  WARNING  2022-04-15 05:55:06.678               36192.322612   \n",
       "307540  4169749  WARNING  2022-04-15 05:55:06.829               36192.322612   \n",
       "\n",
       "        varnishLevelsTotalvolume  \\\n",
       "307539                    100000   \n",
       "307540                    100000   \n",
       "\n",
       "                                                   events operators_name  \\\n",
       "307539                                                 []         Viktor   \n",
       "307540  [{\"source\": \"PLC\", \"message\": \" JV-Ti non prêt...         Viktor   \n",
       "\n",
       "       operators_level  VarnishPrinter_3DVarnishCounter  \\\n",
       "307539        Operator                          1792992   \n",
       "307540        Operator                          1792992   \n",
       "\n",
       "        iFoil_TotalPagesCounter events_id  \n",
       "307539                    22881        []  \n",
       "307540                    22881     [391]  "
      ]
     },
     "execution_count": 36,
     "metadata": {},
     "output_type": "execute_result"
    }
   ],
   "source": [
    "# nom de fichier et chemin relatif\n",
    "filename = 'temp_metrics_df.csv'\n",
    "path = '../data/metrics/'\n",
    "# création d'un dataframe à partir du csv de données\n",
    "metrics_df = pd.read_csv(path+filename, index_col=0).sort_values(by='created_at')\n",
    "metrics_df.head(2)"
   ]
  },
  {
   "cell_type": "code",
   "execution_count": 37,
   "metadata": {},
   "outputs": [
    {
     "data": {
      "text/plain": [
       "Index(['id', 'status', 'created_at', 'varnishLevelsTargetvolume',\n",
       "       'varnishLevelsTotalvolume', 'events', 'operators_name',\n",
       "       'operators_level', 'VarnishPrinter_3DVarnishCounter',\n",
       "       'iFoil_TotalPagesCounter', 'events_id'],\n",
       "      dtype='object')"
      ]
     },
     "execution_count": 37,
     "metadata": {},
     "output_type": "execute_result"
    }
   ],
   "source": [
    "metrics_df.columns"
   ]
  },
  {
   "attachments": {},
   "cell_type": "markdown",
   "metadata": {},
   "source": [
    "## Nettoyage"
   ]
  },
  {
   "cell_type": "code",
   "execution_count": 38,
   "metadata": {},
   "outputs": [
    {
     "data": {
      "text/html": [
       "<div>\n",
       "<style scoped>\n",
       "    .dataframe tbody tr th:only-of-type {\n",
       "        vertical-align: middle;\n",
       "    }\n",
       "\n",
       "    .dataframe tbody tr th {\n",
       "        vertical-align: top;\n",
       "    }\n",
       "\n",
       "    .dataframe thead th {\n",
       "        text-align: right;\n",
       "    }\n",
       "</style>\n",
       "<table border=\"1\" class=\"dataframe\">\n",
       "  <thead>\n",
       "    <tr style=\"text-align: right;\">\n",
       "      <th></th>\n",
       "      <th>id</th>\n",
       "      <th>varnishLevelsTargetvolume</th>\n",
       "      <th>varnishLevelsTotalvolume</th>\n",
       "      <th>events</th>\n",
       "      <th>VarnishPrinter_3DVarnishCounter</th>\n",
       "      <th>iFoil_TotalPagesCounter</th>\n",
       "    </tr>\n",
       "  </thead>\n",
       "  <tbody>\n",
       "    <tr>\n",
       "      <th>0</th>\n",
       "      <td>4169748</td>\n",
       "      <td>36192.322612</td>\n",
       "      <td>100000</td>\n",
       "      <td>[]</td>\n",
       "      <td>1792992</td>\n",
       "      <td>22881</td>\n",
       "    </tr>\n",
       "    <tr>\n",
       "      <th>1</th>\n",
       "      <td>4169749</td>\n",
       "      <td>36192.322612</td>\n",
       "      <td>100000</td>\n",
       "      <td>[{\"source\": \"PLC\", \"message\": \" JV-Ti non prêt...</td>\n",
       "      <td>1792992</td>\n",
       "      <td>22881</td>\n",
       "    </tr>\n",
       "  </tbody>\n",
       "</table>\n",
       "</div>"
      ],
      "text/plain": [
       "        id  varnishLevelsTargetvolume  varnishLevelsTotalvolume  \\\n",
       "0  4169748               36192.322612                    100000   \n",
       "1  4169749               36192.322612                    100000   \n",
       "\n",
       "                                              events  \\\n",
       "0                                                 []   \n",
       "1  [{\"source\": \"PLC\", \"message\": \" JV-Ti non prêt...   \n",
       "\n",
       "   VarnishPrinter_3DVarnishCounter  iFoil_TotalPagesCounter  \n",
       "0                          1792992                    22881  \n",
       "1                          1792992                    22881  "
      ]
     },
     "execution_count": 38,
     "metadata": {},
     "output_type": "execute_result"
    }
   ],
   "source": [
    "# indexation du dataset avec les valeurs \"created_at\"\n",
    "# metrics_df.index = metrics_df['created_at']\n",
    "# indexation du dataset avec les valeurs \"id\"\n",
    "# metrics_df.set_index('id')\n",
    "# remise à zero des index\n",
    "metrics_df.reset_index(level=None, drop=True, inplace=True, col_level=0, col_fill='')\n",
    "# suppression des colonne contenant des NaN\n",
    "metrics_df.dropna(axis=1, inplace=True)\n",
    "# suppression des colonnes non pertinentes\n",
    "metrics_df.drop(['status','created_at','operators_name','operators_level', 'events_id']  , axis=1, inplace=True)\n",
    "# metrics_df.drop(['status','operators_name','operators_level']  , axis=1, inplace=True)\n",
    "\n",
    "\n",
    "metrics_df.head(2)"
   ]
  },
  {
   "attachments": {},
   "cell_type": "markdown",
   "metadata": {},
   "source": [
    "## Préparation"
   ]
  },
  {
   "attachments": {},
   "cell_type": "markdown",
   "metadata": {},
   "source": [
    "### Fractionnement de la colonne \"events\""
   ]
  },
  {
   "cell_type": "code",
   "execution_count": 39,
   "metadata": {},
   "outputs": [],
   "source": [
    "# fonction retournant un dataframe des events fractionnés\n",
    "def create_split_event_dataframe(df, code=None):\n",
    "    df.events.apply(lambda x :json.loads(x))\n",
    "\n",
    "    # dicitonnaire de données\n",
    "    d = {\n",
    "            'source': [],\n",
    "            'message': [],\n",
    "            'timestamp': [],\n",
    "            'criticality': [],\n",
    "            'identification': [],\n",
    "            'id': [],\n",
    "            'varnishLevelsTargetvolume' : [],\n",
    "            'varnishLevelsTotalvolume' : [],\n",
    "            'VarnishPrinter_3DVarnishCounter' : [],\n",
    "            'iFoil_TotalPagesCounter' : []\n",
    "            }\n",
    "    \n",
    "    # itération dans le dataframe\n",
    "    for i in range(df.index.start, df.index.stop):\n",
    "        # evaluation des valeurs 'str' en 'list'\n",
    "        values_eval = ast.literal_eval(df.events.loc[i])\n",
    "        # pour chaque list non nulle\n",
    "        if len(values_eval) > 0 :\n",
    "            # ajout des valeurs dans le dictionnaire 'd'\n",
    "            for event in values_eval :\n",
    "                if code != None :\n",
    "                    if event.get('identification') == code:\n",
    "                        d['source'].append(event.get('source'))\n",
    "                        d['message'].append(event.get('message'))\n",
    "                        d['timestamp'].append(event.get('timestamp'))\n",
    "                        d['criticality'].append(event.get('criticality'))\n",
    "                        d['identification'].append(event.get('identification'))\n",
    "                        d['id'].append(df.id.loc[i])\n",
    "                        d['varnishLevelsTargetvolume'].append(df.varnishLevelsTargetvolume.loc[i])\n",
    "                        d['varnishLevelsTotalvolume'].append(df.varnishLevelsTotalvolume.loc[i])\n",
    "                        d['VarnishPrinter_3DVarnishCounter'].append(df.VarnishPrinter_3DVarnishCounter.loc[i])\n",
    "                        d['iFoil_TotalPagesCounter'].append(df.iFoil_TotalPagesCounter.loc[i])\n",
    "                else :\n",
    "                    d['source'].append(event.get('source'))\n",
    "                    d['message'].append(event.get('message'))\n",
    "                    d['timestamp'].append(event.get('timestamp'))\n",
    "                    d['criticality'].append(event.get('criticality'))\n",
    "                    d['identification'].append(event.get('identification'))\n",
    "                    d['id'].append(df.id.loc[i])\n",
    "                    d['varnishLevelsTargetvolume'].append(df.varnishLevelsTargetvolume.loc[i])\n",
    "                    d['varnishLevelsTotalvolume'].append(df.varnishLevelsTotalvolume.loc[i])\n",
    "                    d['VarnishPrinter_3DVarnishCounter'].append(df.VarnishPrinter_3DVarnishCounter.loc[i])\n",
    "                    d['iFoil_TotalPagesCounter'].append(df.iFoil_TotalPagesCounter.loc[i])\n",
    "                    \n",
    "    # re-assignation de la variable df\n",
    "    df = pd.DataFrame(data=d)\n",
    "    # conversion des valeurs 'identification' en entier\n",
    "    #df['identification'] = pd.to_numeric(df['identification'])\n",
    "    # conversion des valeurs 'timestamp' au format datetime\n",
    "    df['timestamp'] = pd.to_datetime(df['timestamp'])\n",
    "    return df"
   ]
  },
  {
   "cell_type": "code",
   "execution_count": 40,
   "metadata": {},
   "outputs": [],
   "source": [
    "df_split = create_split_event_dataframe(metrics_df)"
   ]
  },
  {
   "cell_type": "code",
   "execution_count": 41,
   "metadata": {},
   "outputs": [
    {
     "data": {
      "text/html": [
       "<div>\n",
       "<style scoped>\n",
       "    .dataframe tbody tr th:only-of-type {\n",
       "        vertical-align: middle;\n",
       "    }\n",
       "\n",
       "    .dataframe tbody tr th {\n",
       "        vertical-align: top;\n",
       "    }\n",
       "\n",
       "    .dataframe thead th {\n",
       "        text-align: right;\n",
       "    }\n",
       "</style>\n",
       "<table border=\"1\" class=\"dataframe\">\n",
       "  <thead>\n",
       "    <tr style=\"text-align: right;\">\n",
       "      <th></th>\n",
       "      <th>source</th>\n",
       "      <th>message</th>\n",
       "      <th>timestamp</th>\n",
       "      <th>criticality</th>\n",
       "      <th>identification</th>\n",
       "      <th>id</th>\n",
       "      <th>varnishLevelsTargetvolume</th>\n",
       "      <th>varnishLevelsTotalvolume</th>\n",
       "      <th>VarnishPrinter_3DVarnishCounter</th>\n",
       "      <th>iFoil_TotalPagesCounter</th>\n",
       "    </tr>\n",
       "  </thead>\n",
       "  <tbody>\n",
       "    <tr>\n",
       "      <th>0</th>\n",
       "      <td>PLC</td>\n",
       "      <td>JV-Ti non prêt : impression impossible</td>\n",
       "      <td>2022-04-15 05:55:23.462000+00:00</td>\n",
       "      <td>INFO</td>\n",
       "      <td>391</td>\n",
       "      <td>4169749</td>\n",
       "      <td>36192.322612</td>\n",
       "      <td>100000</td>\n",
       "      <td>1792992</td>\n",
       "      <td>22881</td>\n",
       "    </tr>\n",
       "    <tr>\n",
       "      <th>1</th>\n",
       "      <td>iFoil</td>\n",
       "      <td>JV-Ti non prêt : impression impossible</td>\n",
       "      <td>2022-04-15 06:06:56.278000+00:00</td>\n",
       "      <td>INFO</td>\n",
       "      <td>391</td>\n",
       "      <td>4170152</td>\n",
       "      <td>36192.322612</td>\n",
       "      <td>100000</td>\n",
       "      <td>1792992</td>\n",
       "      <td>22881</td>\n",
       "    </tr>\n",
       "    <tr>\n",
       "      <th>2</th>\n",
       "      <td>PLC</td>\n",
       "      <td>En attente</td>\n",
       "      <td>2022-04-15 06:06:56.418000+00:00</td>\n",
       "      <td>INFO</td>\n",
       "      <td>330</td>\n",
       "      <td>4170152</td>\n",
       "      <td>36192.322612</td>\n",
       "      <td>100000</td>\n",
       "      <td>1792992</td>\n",
       "      <td>22881</td>\n",
       "    </tr>\n",
       "    <tr>\n",
       "      <th>3</th>\n",
       "      <td>PLC</td>\n",
       "      <td>Disponible</td>\n",
       "      <td>2022-04-15 06:07:28.326000+00:00</td>\n",
       "      <td>INFO</td>\n",
       "      <td>332</td>\n",
       "      <td>4170167</td>\n",
       "      <td>36192.322612</td>\n",
       "      <td>100000</td>\n",
       "      <td>1792992</td>\n",
       "      <td>22881</td>\n",
       "    </tr>\n",
       "    <tr>\n",
       "      <th>4</th>\n",
       "      <td>PLC</td>\n",
       "      <td>Chargeur: mode auto non activé</td>\n",
       "      <td>2022-04-15 06:07:37.675000+00:00</td>\n",
       "      <td>WARNING</td>\n",
       "      <td>377</td>\n",
       "      <td>4170172</td>\n",
       "      <td>36192.322612</td>\n",
       "      <td>100000</td>\n",
       "      <td>1792992</td>\n",
       "      <td>22881</td>\n",
       "    </tr>\n",
       "  </tbody>\n",
       "</table>\n",
       "</div>"
      ],
      "text/plain": [
       "  source                                  message  \\\n",
       "0    PLC   JV-Ti non prêt : impression impossible   \n",
       "1  iFoil   JV-Ti non prêt : impression impossible   \n",
       "2    PLC                               En attente   \n",
       "3    PLC                               Disponible   \n",
       "4    PLC           Chargeur: mode auto non activé   \n",
       "\n",
       "                         timestamp criticality identification       id  \\\n",
       "0 2022-04-15 05:55:23.462000+00:00        INFO            391  4169749   \n",
       "1 2022-04-15 06:06:56.278000+00:00        INFO            391  4170152   \n",
       "2 2022-04-15 06:06:56.418000+00:00        INFO            330  4170152   \n",
       "3 2022-04-15 06:07:28.326000+00:00        INFO            332  4170167   \n",
       "4 2022-04-15 06:07:37.675000+00:00     WARNING            377  4170172   \n",
       "\n",
       "   varnishLevelsTargetvolume  varnishLevelsTotalvolume  \\\n",
       "0               36192.322612                    100000   \n",
       "1               36192.322612                    100000   \n",
       "2               36192.322612                    100000   \n",
       "3               36192.322612                    100000   \n",
       "4               36192.322612                    100000   \n",
       "\n",
       "   VarnishPrinter_3DVarnishCounter  iFoil_TotalPagesCounter  \n",
       "0                          1792992                    22881  \n",
       "1                          1792992                    22881  \n",
       "2                          1792992                    22881  \n",
       "3                          1792992                    22881  \n",
       "4                          1792992                    22881  "
      ]
     },
     "execution_count": 41,
     "metadata": {},
     "output_type": "execute_result"
    }
   ],
   "source": [
    "df_split.head(5)"
   ]
  },
  {
   "attachments": {},
   "cell_type": "markdown",
   "metadata": {},
   "source": [
    "### Encodage des identification"
   ]
  },
  {
   "cell_type": "code",
   "execution_count": 42,
   "metadata": {},
   "outputs": [
    {
     "data": {
      "text/plain": [
       "{'Kernel_Error': 1000,\n",
       " 'ICB communication error': 1001,\n",
       " 'RCB communication error': 1002,\n",
       " 'iFoil communication error': 1003,\n",
       " 'Pilot communication error': 1004}"
      ]
     },
     "execution_count": 42,
     "metadata": {},
     "output_type": "execute_result"
    }
   ],
   "source": [
    "# on encode les valeurs du type 'str' avec un code\n",
    "events_id = []\n",
    "str_code_dict = {}\n",
    "str_code = 1000\n",
    "for id in list(df_split['identification'].unique()) :\n",
    "    try:\n",
    "        events_id.append(int(id))\n",
    "    except ValueError:\n",
    "        str_code_dict[id] = str_code\n",
    "        events_id.append(str_code)\n",
    "        str_code += 1\n",
    "str_code_dict"
   ]
  },
  {
   "cell_type": "code",
   "execution_count": 43,
   "metadata": {},
   "outputs": [],
   "source": [
    "# on remplace dans le dataframe les valeurs du type 'str' avec un code\n",
    "df_split.identification.replace(str_code_dict, inplace=True)"
   ]
  },
  {
   "cell_type": "code",
   "execution_count": 44,
   "metadata": {},
   "outputs": [
    {
     "data": {
      "text/html": [
       "<div>\n",
       "<style scoped>\n",
       "    .dataframe tbody tr th:only-of-type {\n",
       "        vertical-align: middle;\n",
       "    }\n",
       "\n",
       "    .dataframe tbody tr th {\n",
       "        vertical-align: top;\n",
       "    }\n",
       "\n",
       "    .dataframe thead th {\n",
       "        text-align: right;\n",
       "    }\n",
       "</style>\n",
       "<table border=\"1\" class=\"dataframe\">\n",
       "  <thead>\n",
       "    <tr style=\"text-align: right;\">\n",
       "      <th></th>\n",
       "      <th>source</th>\n",
       "      <th>message</th>\n",
       "      <th>timestamp</th>\n",
       "      <th>criticality</th>\n",
       "      <th>identification</th>\n",
       "      <th>id</th>\n",
       "      <th>varnishLevelsTargetvolume</th>\n",
       "      <th>varnishLevelsTotalvolume</th>\n",
       "      <th>VarnishPrinter_3DVarnishCounter</th>\n",
       "      <th>iFoil_TotalPagesCounter</th>\n",
       "    </tr>\n",
       "  </thead>\n",
       "  <tbody>\n",
       "    <tr>\n",
       "      <th>0</th>\n",
       "      <td>PLC</td>\n",
       "      <td>JV-Ti non prêt : impression impossible</td>\n",
       "      <td>2022-04-15 05:55:23.462000+00:00</td>\n",
       "      <td>INFO</td>\n",
       "      <td>391</td>\n",
       "      <td>4169749</td>\n",
       "      <td>36192.322612</td>\n",
       "      <td>100000</td>\n",
       "      <td>1792992</td>\n",
       "      <td>22881</td>\n",
       "    </tr>\n",
       "    <tr>\n",
       "      <th>1</th>\n",
       "      <td>iFoil</td>\n",
       "      <td>JV-Ti non prêt : impression impossible</td>\n",
       "      <td>2022-04-15 06:06:56.278000+00:00</td>\n",
       "      <td>INFO</td>\n",
       "      <td>391</td>\n",
       "      <td>4170152</td>\n",
       "      <td>36192.322612</td>\n",
       "      <td>100000</td>\n",
       "      <td>1792992</td>\n",
       "      <td>22881</td>\n",
       "    </tr>\n",
       "    <tr>\n",
       "      <th>2</th>\n",
       "      <td>PLC</td>\n",
       "      <td>En attente</td>\n",
       "      <td>2022-04-15 06:06:56.418000+00:00</td>\n",
       "      <td>INFO</td>\n",
       "      <td>330</td>\n",
       "      <td>4170152</td>\n",
       "      <td>36192.322612</td>\n",
       "      <td>100000</td>\n",
       "      <td>1792992</td>\n",
       "      <td>22881</td>\n",
       "    </tr>\n",
       "    <tr>\n",
       "      <th>3</th>\n",
       "      <td>PLC</td>\n",
       "      <td>Disponible</td>\n",
       "      <td>2022-04-15 06:07:28.326000+00:00</td>\n",
       "      <td>INFO</td>\n",
       "      <td>332</td>\n",
       "      <td>4170167</td>\n",
       "      <td>36192.322612</td>\n",
       "      <td>100000</td>\n",
       "      <td>1792992</td>\n",
       "      <td>22881</td>\n",
       "    </tr>\n",
       "    <tr>\n",
       "      <th>4</th>\n",
       "      <td>PLC</td>\n",
       "      <td>Chargeur: mode auto non activé</td>\n",
       "      <td>2022-04-15 06:07:37.675000+00:00</td>\n",
       "      <td>WARNING</td>\n",
       "      <td>377</td>\n",
       "      <td>4170172</td>\n",
       "      <td>36192.322612</td>\n",
       "      <td>100000</td>\n",
       "      <td>1792992</td>\n",
       "      <td>22881</td>\n",
       "    </tr>\n",
       "  </tbody>\n",
       "</table>\n",
       "</div>"
      ],
      "text/plain": [
       "  source                                  message  \\\n",
       "0    PLC   JV-Ti non prêt : impression impossible   \n",
       "1  iFoil   JV-Ti non prêt : impression impossible   \n",
       "2    PLC                               En attente   \n",
       "3    PLC                               Disponible   \n",
       "4    PLC           Chargeur: mode auto non activé   \n",
       "\n",
       "                         timestamp criticality identification       id  \\\n",
       "0 2022-04-15 05:55:23.462000+00:00        INFO            391  4169749   \n",
       "1 2022-04-15 06:06:56.278000+00:00        INFO            391  4170152   \n",
       "2 2022-04-15 06:06:56.418000+00:00        INFO            330  4170152   \n",
       "3 2022-04-15 06:07:28.326000+00:00        INFO            332  4170167   \n",
       "4 2022-04-15 06:07:37.675000+00:00     WARNING            377  4170172   \n",
       "\n",
       "   varnishLevelsTargetvolume  varnishLevelsTotalvolume  \\\n",
       "0               36192.322612                    100000   \n",
       "1               36192.322612                    100000   \n",
       "2               36192.322612                    100000   \n",
       "3               36192.322612                    100000   \n",
       "4               36192.322612                    100000   \n",
       "\n",
       "   VarnishPrinter_3DVarnishCounter  iFoil_TotalPagesCounter  \n",
       "0                          1792992                    22881  \n",
       "1                          1792992                    22881  \n",
       "2                          1792992                    22881  \n",
       "3                          1792992                    22881  \n",
       "4                          1792992                    22881  "
      ]
     },
     "execution_count": 44,
     "metadata": {},
     "output_type": "execute_result"
    }
   ],
   "source": [
    "df_split.head(5)"
   ]
  },
  {
   "cell_type": "code",
   "execution_count": 45,
   "metadata": {},
   "outputs": [
    {
     "data": {
      "text/plain": [
       "array(['391', '330', '332', '377', '333', '334', '331', 1000, '315',\n",
       "       '417', '406', '407', '352', '344', 1001, '376', '445', '325',\n",
       "       '343', '345', '358', '453', '381', '354', '313', '447', '454',\n",
       "       '387', '386', '372', '371', '323', '480', '311', '479', '351',\n",
       "       '440', '324', '321', '0', '349', 1002, '385', '357', '418', '446',\n",
       "       '355', '389', '476', '356', 1003, '460', '472', '405', '380',\n",
       "       '388', '408', '320', '329', '350', '475', '466', '416', '411',\n",
       "       '346', '471', '327', '430', '444', '2', '326', '419', 1004, '359',\n",
       "       '322', '384'], dtype=object)"
      ]
     },
     "execution_count": 45,
     "metadata": {},
     "output_type": "execute_result"
    }
   ],
   "source": [
    "df_split['identification'].unique()"
   ]
  },
  {
   "cell_type": "code",
   "execution_count": 46,
   "metadata": {},
   "outputs": [],
   "source": [
    "df_split.set_index('timestamp', inplace=True)\n"
   ]
  },
  {
   "cell_type": "code",
   "execution_count": 52,
   "metadata": {},
   "outputs": [
    {
     "data": {
      "image/png": "[encoded data removed]",
      "text/plain": [
       "<Figure size 1500x600 with 1 Axes>"
      ]
     },
     "metadata": {},
     "output_type": "display_data"
    }
   ],
   "source": [
    "# On filtrer pour n'inclure que les lignes avec 'ERR' ou 'WARNING'.\n",
    "df_filtered = df_split[df_split['criticality'].isin(['ERR', 'WARNING'])]\n",
    "\n",
    "\n",
    "# Rééchantillonnage par mois et comptage du nombre d'events_id pour chaque mois.\n",
    "df_monthly_counts = df_filtered.resample('M')['identification'].value_counts().rename('count').reset_index()\n",
    "\n",
    "# On groupe par la colonne \"created_at\" et on applique une fonction lambda à chaque groupe. \n",
    "# La fonction lambda prend les 5 premières lignes de chaque groupe sur la base de la colonne \"count\".\n",
    "df_top5_monthly = df_monthly_counts.groupby('timestamp').apply(lambda x: x.nlargest(5, 'count')).reset_index(drop=True)\n",
    "\n",
    "# On convertie les dates en Français\n",
    "df_top5_monthly['Month'] = df_top5_monthly['timestamp'].apply(lambda x: format_date(x, 'MMMM', locale='fr_FR'))\n",
    "\n",
    "# On affiche avec seaborn\n",
    "plt.figure(figsize=(15, 6))\n",
    "sns.barplot(x='Month', y='count', hue='identification', data=df_top5_monthly)\n",
    "plt.title('Top 5 des évenements par criticité (WARNING ou ERROR) les plus récurents par mois')\n",
    "plt.xlabel('Mois')\n",
    "plt.ylabel('Nombre de detection')\n",
    "plt.legend(title='identification')\n",
    "\n",
    "plt.show()"
   ]
  }
 ],
 "metadata": {
  "kernelspec": {
   "display_name": ".venv",
   "language": "python",
   "name": "python3"
  },
  "language_info": {
   "codemirror_mode": {
    "name": "ipython",
    "version": 3
   },
   "file_extension": ".py",
   "mimetype": "text/x-python",
   "name": "python",
   "nbconvert_exporter": "python",
   "pygments_lexer": "ipython3",
   "version": "3.10.7"
  },
  "orig_nbformat": 4
 },
 "nbformat": 4,
 "nbformat_minor": 2
}
