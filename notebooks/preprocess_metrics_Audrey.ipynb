{
 "cells": [
  {
   "attachments": {},
   "cell_type": "markdown",
   "metadata": {},
   "source": [
    "# Notebook exploration données : metrics"
   ]
  },
  {
   "attachments": {},
   "cell_type": "markdown",
   "metadata": {},
   "source": [
    "Ce notebook génère 2 fichiers csv \n",
    "\n",
    "- complet avec les données métrics nettoyées et les colonnes json fractionnées,\n",
    "\n",
    "- partiel avec les données métrics et ne conservant que les id des events."
   ]
  },
  {
   "attachments": {},
   "cell_type": "markdown",
   "metadata": {},
   "source": [
    "## Imports"
   ]
  },
  {
   "cell_type": "code",
   "execution_count": 1,
   "metadata": {},
   "outputs": [],
   "source": [
    "import os, json\n",
    "import pandas as pd\n",
    "import numpy as np\n",
    "\n",
    "from azure_blob import download_blob_file\n",
    "from preprocess_functions import convert_str_to_list, get_keys, add_key_column, convert_str_to_int_list\n",
    "\n",
    "import matplotlib.pyplot as plt\n",
    "from datetime import datetime"
   ]
  },
  {
   "attachments": {},
   "cell_type": "markdown",
   "metadata": {},
   "source": [
    "### Data"
   ]
  },
  {
   "cell_type": "code",
   "execution_count": 2,
   "metadata": {},
   "outputs": [],
   "source": [
    "filename = 'metrics.csv'\n",
    "path = '../data/'"
   ]
  },
  {
   "cell_type": "code",
   "execution_count": 3,
   "metadata": {},
   "outputs": [
    {
     "name": "stdout",
     "output_type": "stream",
     "text": [
      "metrics.csv already in path ../data/.\n"
     ]
    }
   ],
   "source": [
    "# téléchargement dans le repertoire 'data' d'un fichiers 'csv' depuis le blob\n",
    "download_blob_file(file_name=filename, local_path=path)\n",
    "metrics = os.path.join(path, filename)"
   ]
  },
  {
   "cell_type": "code",
   "execution_count": 4,
   "metadata": {},
   "outputs": [
    {
     "name": "stdout",
     "output_type": "stream",
     "text": [
      "<class 'pandas.core.frame.DataFrame'>\n",
      "Int64Index: 1164430 entries, 307539 to 1164429\n",
      "Data columns (total 17 columns):\n",
      " #   Column                     Non-Null Count    Dtype  \n",
      "---  ------                     --------------    -----  \n",
      " 0   id                         1164430 non-null  int64  \n",
      " 1   status                     1164430 non-null  object \n",
      " 2   created_at                 1164430 non-null  object \n",
      " 3   cyan_capacity              0 non-null        float64\n",
      " 4   cyan_remaining             0 non-null        float64\n",
      " 5   magenta_capacity           0 non-null        float64\n",
      " 6   magenta_remaining          0 non-null        float64\n",
      " 7   yellow_capacity            0 non-null        float64\n",
      " 8   yellow_remaining           0 non-null        float64\n",
      " 9   black_capacity             0 non-null        float64\n",
      " 10  black_remaining            0 non-null        float64\n",
      " 11  machineId                  1164430 non-null  int64  \n",
      " 12  connected_operators        1164430 non-null  object \n",
      " 13  varnishLevelsTargetvolume  1164430 non-null  float64\n",
      " 14  varnishLevelsTotalvolume   1164430 non-null  int64  \n",
      " 15  modules                    1164430 non-null  object \n",
      " 16  events                     1164430 non-null  object \n",
      "dtypes: float64(9), int64(3), object(5)\n",
      "memory usage: 159.9+ MB\n"
     ]
    }
   ],
   "source": [
    "# création d'un dataframe à partir du csv de données\n",
    "metrics_df = pd.read_csv(metrics).sort_values(by='created_at')\n",
    "metrics_df.info()"
   ]
  },
  {
   "cell_type": "code",
   "execution_count": 5,
   "metadata": {},
   "outputs": [],
   "source": [
    "metrics_df.dropna(axis=1, inplace=True)\n",
    "metrics_df.drop('machineId', axis=1, inplace=True)\n",
    "# metrics_df.set_index('id')"
   ]
  },
  {
   "cell_type": "code",
   "execution_count": 6,
   "metadata": {},
   "outputs": [
    {
     "name": "stdout",
     "output_type": "stream",
     "text": [
      "<class 'pandas.core.frame.DataFrame'>\n",
      "Int64Index: 1164430 entries, 307539 to 1164429\n",
      "Data columns (total 8 columns):\n",
      " #   Column                     Non-Null Count    Dtype  \n",
      "---  ------                     --------------    -----  \n",
      " 0   id                         1164430 non-null  int64  \n",
      " 1   status                     1164430 non-null  object \n",
      " 2   created_at                 1164430 non-null  object \n",
      " 3   connected_operators        1164430 non-null  object \n",
      " 4   varnishLevelsTargetvolume  1164430 non-null  float64\n",
      " 5   varnishLevelsTotalvolume   1164430 non-null  int64  \n",
      " 6   modules                    1164430 non-null  object \n",
      " 7   events                     1164430 non-null  object \n",
      "dtypes: float64(1), int64(2), object(5)\n",
      "memory usage: 80.0+ MB\n"
     ]
    }
   ],
   "source": [
    "metrics_df.info()"
   ]
  },
  {
   "cell_type": "code",
   "execution_count": 7,
   "metadata": {},
   "outputs": [
    {
     "data": {
      "text/html": [
       "<div>\n",
       "<style scoped>\n",
       "    .dataframe tbody tr th:only-of-type {\n",
       "        vertical-align: middle;\n",
       "    }\n",
       "\n",
       "    .dataframe tbody tr th {\n",
       "        vertical-align: top;\n",
       "    }\n",
       "\n",
       "    .dataframe thead th {\n",
       "        text-align: right;\n",
       "    }\n",
       "</style>\n",
       "<table border=\"1\" class=\"dataframe\">\n",
       "  <thead>\n",
       "    <tr style=\"text-align: right;\">\n",
       "      <th></th>\n",
       "      <th>id</th>\n",
       "      <th>status</th>\n",
       "      <th>created_at</th>\n",
       "      <th>connected_operators</th>\n",
       "      <th>varnishLevelsTargetvolume</th>\n",
       "      <th>varnishLevelsTotalvolume</th>\n",
       "      <th>modules</th>\n",
       "      <th>events</th>\n",
       "    </tr>\n",
       "  </thead>\n",
       "  <tbody>\n",
       "    <tr>\n",
       "      <th>307539</th>\n",
       "      <td>4169748</td>\n",
       "      <td>WARNING</td>\n",
       "      <td>2022-04-15 05:55:06.678000</td>\n",
       "      <td>[{\"name\": \"Viktor\", \"level\": \"Operator\"}]</td>\n",
       "      <td>36192.322612</td>\n",
       "      <td>100000</td>\n",
       "      <td>[{\"sn\": \"\", \"name\": \"Print Engine 1\", \"type\": ...</td>\n",
       "      <td>[]</td>\n",
       "    </tr>\n",
       "    <tr>\n",
       "      <th>307540</th>\n",
       "      <td>4169749</td>\n",
       "      <td>WARNING</td>\n",
       "      <td>2022-04-15 05:55:06.829000</td>\n",
       "      <td>[{\"name\": \"Viktor\", \"level\": \"Operator\"}]</td>\n",
       "      <td>36192.322612</td>\n",
       "      <td>100000</td>\n",
       "      <td>[{\"sn\": \"\", \"name\": \"Print Engine 1\", \"type\": ...</td>\n",
       "      <td>[{\"source\": \"PLC\", \"message\": \" JV-Ti non prêt...</td>\n",
       "    </tr>\n",
       "    <tr>\n",
       "      <th>307537</th>\n",
       "      <td>4169753</td>\n",
       "      <td>WARNING</td>\n",
       "      <td>2022-04-15 05:55:14.494000</td>\n",
       "      <td>[{\"name\": \"Viktor\", \"level\": \"Operator\"}]</td>\n",
       "      <td>36192.322612</td>\n",
       "      <td>100000</td>\n",
       "      <td>[{\"sn\": \"\", \"name\": \"Print Engine 1\", \"type\": ...</td>\n",
       "      <td>[]</td>\n",
       "    </tr>\n",
       "  </tbody>\n",
       "</table>\n",
       "</div>"
      ],
      "text/plain": [
       "             id   status                  created_at  \\\n",
       "307539  4169748  WARNING  2022-04-15 05:55:06.678000   \n",
       "307540  4169749  WARNING  2022-04-15 05:55:06.829000   \n",
       "307537  4169753  WARNING  2022-04-15 05:55:14.494000   \n",
       "\n",
       "                              connected_operators  varnishLevelsTargetvolume  \\\n",
       "307539  [{\"name\": \"Viktor\", \"level\": \"Operator\"}]               36192.322612   \n",
       "307540  [{\"name\": \"Viktor\", \"level\": \"Operator\"}]               36192.322612   \n",
       "307537  [{\"name\": \"Viktor\", \"level\": \"Operator\"}]               36192.322612   \n",
       "\n",
       "        varnishLevelsTotalvolume  \\\n",
       "307539                    100000   \n",
       "307540                    100000   \n",
       "307537                    100000   \n",
       "\n",
       "                                                  modules  \\\n",
       "307539  [{\"sn\": \"\", \"name\": \"Print Engine 1\", \"type\": ...   \n",
       "307540  [{\"sn\": \"\", \"name\": \"Print Engine 1\", \"type\": ...   \n",
       "307537  [{\"sn\": \"\", \"name\": \"Print Engine 1\", \"type\": ...   \n",
       "\n",
       "                                                   events  \n",
       "307539                                                 []  \n",
       "307540  [{\"source\": \"PLC\", \"message\": \" JV-Ti non prêt...  \n",
       "307537                                                 []  "
      ]
     },
     "execution_count": 7,
     "metadata": {},
     "output_type": "execute_result"
    }
   ],
   "source": [
    "metrics_df.head(3)"
   ]
  },
  {
   "attachments": {},
   "cell_type": "markdown",
   "metadata": {},
   "source": [
    "## Dataframes"
   ]
  },
  {
   "attachments": {},
   "cell_type": "markdown",
   "metadata": {},
   "source": [
    "### Column \"connected_operators\""
   ]
  },
  {
   "cell_type": "code",
   "execution_count": 8,
   "metadata": {},
   "outputs": [],
   "source": [
    "#metrics_df.connected_operators = metrics_df.connected_operators.apply(lambda x :json.loads(x)[0])\n",
    "connected_operators_df = convert_str_to_list(metrics_df.connected_operators)"
   ]
  },
  {
   "cell_type": "code",
   "execution_count": 9,
   "metadata": {},
   "outputs": [],
   "source": [
    "# on récupère les clés du dictionnaire dans la première ligne du dataset 'loc.[0]' dans la première case de la liste '[0]'\n",
    "connected_operators_keys = get_keys(connected_operators_df.connected_operators.loc[0][0])"
   ]
  },
  {
   "cell_type": "code",
   "execution_count": 10,
   "metadata": {},
   "outputs": [],
   "source": [
    "# on ajoute des colonnes pour chaque clés\n",
    "for key in connected_operators_keys:\n",
    "    connected_operators_df = add_key_column(connected_operators_df, 'connected_operators', connected_operators_keys,0)"
   ]
  },
  {
   "cell_type": "code",
   "execution_count": 11,
   "metadata": {},
   "outputs": [],
   "source": [
    "# on supprime la colonne d'origine\n",
    "connected_operators_df.drop('connected_operators', axis='columns', inplace=True)"
   ]
  },
  {
   "cell_type": "code",
   "execution_count": 12,
   "metadata": {},
   "outputs": [],
   "source": [
    "connected_operators_df.rename(\n",
    "    columns={\n",
    "    'connected_operators_name_0': 'operators_name',\n",
    "    'connected_operators_level_0': 'operators_level'\n",
    "    }, \n",
    "    inplace=True)"
   ]
  },
  {
   "cell_type": "code",
   "execution_count": 13,
   "metadata": {},
   "outputs": [
    {
     "data": {
      "text/html": [
       "<div>\n",
       "<style scoped>\n",
       "    .dataframe tbody tr th:only-of-type {\n",
       "        vertical-align: middle;\n",
       "    }\n",
       "\n",
       "    .dataframe tbody tr th {\n",
       "        vertical-align: top;\n",
       "    }\n",
       "\n",
       "    .dataframe thead th {\n",
       "        text-align: right;\n",
       "    }\n",
       "</style>\n",
       "<table border=\"1\" class=\"dataframe\">\n",
       "  <thead>\n",
       "    <tr style=\"text-align: right;\">\n",
       "      <th></th>\n",
       "      <th>operators_name</th>\n",
       "      <th>operators_level</th>\n",
       "    </tr>\n",
       "  </thead>\n",
       "  <tbody>\n",
       "    <tr>\n",
       "      <th>307539</th>\n",
       "      <td>Viktor</td>\n",
       "      <td>Operator</td>\n",
       "    </tr>\n",
       "    <tr>\n",
       "      <th>307540</th>\n",
       "      <td>Viktor</td>\n",
       "      <td>Operator</td>\n",
       "    </tr>\n",
       "    <tr>\n",
       "      <th>307537</th>\n",
       "      <td>Viktor</td>\n",
       "      <td>Operator</td>\n",
       "    </tr>\n",
       "  </tbody>\n",
       "</table>\n",
       "</div>"
      ],
      "text/plain": [
       "       operators_name operators_level\n",
       "307539         Viktor        Operator\n",
       "307540         Viktor        Operator\n",
       "307537         Viktor        Operator"
      ]
     },
     "execution_count": 13,
     "metadata": {},
     "output_type": "execute_result"
    }
   ],
   "source": [
    "connected_operators_df.head(3)"
   ]
  },
  {
   "attachments": {},
   "cell_type": "markdown",
   "metadata": {},
   "source": [
    "### Column \"modules\""
   ]
  },
  {
   "cell_type": "code",
   "execution_count": 14,
   "metadata": {},
   "outputs": [],
   "source": [
    "modules_df = convert_str_to_list(metrics_df.modules)"
   ]
  },
  {
   "cell_type": "code",
   "execution_count": 15,
   "metadata": {},
   "outputs": [],
   "source": [
    "modules_keys = get_keys(modules_df.modules.loc[0][0])"
   ]
  },
  {
   "cell_type": "code",
   "execution_count": 16,
   "metadata": {},
   "outputs": [],
   "source": [
    "for key in modules_keys:\n",
    "    modules_df = add_key_column(modules_df, 'modules', modules_keys,0)\n",
    "for key in modules_keys:\n",
    "    modules_df = add_key_column(modules_df, 'modules', modules_keys,1)"
   ]
  },
  {
   "cell_type": "code",
   "execution_count": 17,
   "metadata": {},
   "outputs": [
    {
     "data": {
      "text/html": [
       "<div>\n",
       "<style scoped>\n",
       "    .dataframe tbody tr th:only-of-type {\n",
       "        vertical-align: middle;\n",
       "    }\n",
       "\n",
       "    .dataframe tbody tr th {\n",
       "        vertical-align: top;\n",
       "    }\n",
       "\n",
       "    .dataframe thead th {\n",
       "        text-align: right;\n",
       "    }\n",
       "</style>\n",
       "<table border=\"1\" class=\"dataframe\">\n",
       "  <thead>\n",
       "    <tr style=\"text-align: right;\">\n",
       "      <th></th>\n",
       "      <th>modules</th>\n",
       "      <th>modules_sn_0</th>\n",
       "      <th>modules_name_0</th>\n",
       "      <th>modules_type_0</th>\n",
       "      <th>modules_counters_0</th>\n",
       "      <th>modules_generation_0</th>\n",
       "      <th>modules_sn_1</th>\n",
       "      <th>modules_name_1</th>\n",
       "      <th>modules_type_1</th>\n",
       "      <th>modules_counters_1</th>\n",
       "      <th>modules_generation_1</th>\n",
       "    </tr>\n",
       "  </thead>\n",
       "  <tbody>\n",
       "    <tr>\n",
       "      <th>307539</th>\n",
       "      <td>[{'sn': '', 'name': 'Print Engine 1', 'type': ...</td>\n",
       "      <td></td>\n",
       "      <td>Print Engine 1</td>\n",
       "      <td>Varnish Printer</td>\n",
       "      <td>[{'name': '3D Varnish Counter', 'value': 17929...</td>\n",
       "      <td></td>\n",
       "      <td></td>\n",
       "      <td>iFoil L</td>\n",
       "      <td>iFoil</td>\n",
       "      <td>[{'name': 'Total Pages Counter', 'value': 2288...</td>\n",
       "      <td>Gen. 2</td>\n",
       "    </tr>\n",
       "    <tr>\n",
       "      <th>307540</th>\n",
       "      <td>[{'sn': '', 'name': 'Print Engine 1', 'type': ...</td>\n",
       "      <td></td>\n",
       "      <td>Print Engine 1</td>\n",
       "      <td>Varnish Printer</td>\n",
       "      <td>[{'name': '3D Varnish Counter', 'value': 17929...</td>\n",
       "      <td></td>\n",
       "      <td></td>\n",
       "      <td>iFoil L</td>\n",
       "      <td>iFoil</td>\n",
       "      <td>[{'name': 'Total Pages Counter', 'value': 2288...</td>\n",
       "      <td>Gen. 2</td>\n",
       "    </tr>\n",
       "    <tr>\n",
       "      <th>307537</th>\n",
       "      <td>[{'sn': '', 'name': 'Print Engine 1', 'type': ...</td>\n",
       "      <td></td>\n",
       "      <td>Print Engine 1</td>\n",
       "      <td>Varnish Printer</td>\n",
       "      <td>[{'name': '3D Varnish Counter', 'value': 17929...</td>\n",
       "      <td></td>\n",
       "      <td></td>\n",
       "      <td>iFoil L</td>\n",
       "      <td>iFoil</td>\n",
       "      <td>[{'name': 'Total Pages Counter', 'value': 2288...</td>\n",
       "      <td>Gen. 2</td>\n",
       "    </tr>\n",
       "  </tbody>\n",
       "</table>\n",
       "</div>"
      ],
      "text/plain": [
       "                                                  modules modules_sn_0  \\\n",
       "307539  [{'sn': '', 'name': 'Print Engine 1', 'type': ...                \n",
       "307540  [{'sn': '', 'name': 'Print Engine 1', 'type': ...                \n",
       "307537  [{'sn': '', 'name': 'Print Engine 1', 'type': ...                \n",
       "\n",
       "        modules_name_0   modules_type_0  \\\n",
       "307539  Print Engine 1  Varnish Printer   \n",
       "307540  Print Engine 1  Varnish Printer   \n",
       "307537  Print Engine 1  Varnish Printer   \n",
       "\n",
       "                                       modules_counters_0  \\\n",
       "307539  [{'name': '3D Varnish Counter', 'value': 17929...   \n",
       "307540  [{'name': '3D Varnish Counter', 'value': 17929...   \n",
       "307537  [{'name': '3D Varnish Counter', 'value': 17929...   \n",
       "\n",
       "       modules_generation_0 modules_sn_1 modules_name_1 modules_type_1  \\\n",
       "307539                                          iFoil L          iFoil   \n",
       "307540                                          iFoil L          iFoil   \n",
       "307537                                          iFoil L          iFoil   \n",
       "\n",
       "                                       modules_counters_1 modules_generation_1  \n",
       "307539  [{'name': 'Total Pages Counter', 'value': 2288...               Gen. 2  \n",
       "307540  [{'name': 'Total Pages Counter', 'value': 2288...               Gen. 2  \n",
       "307537  [{'name': 'Total Pages Counter', 'value': 2288...               Gen. 2  "
      ]
     },
     "execution_count": 17,
     "metadata": {},
     "output_type": "execute_result"
    }
   ],
   "source": [
    "modules_df.head(3)"
   ]
  },
  {
   "cell_type": "code",
   "execution_count": 18,
   "metadata": {},
   "outputs": [],
   "source": [
    "modules_df.drop('modules', axis='columns', inplace=True)"
   ]
  },
  {
   "cell_type": "code",
   "execution_count": 19,
   "metadata": {},
   "outputs": [
    {
     "name": "stdout",
     "output_type": "stream",
     "text": [
      "<class 'pandas.core.frame.DataFrame'>\n",
      "Int64Index: 1164430 entries, 307539 to 1164429\n",
      "Data columns (total 10 columns):\n",
      " #   Column                Non-Null Count    Dtype \n",
      "---  ------                --------------    ----- \n",
      " 0   modules_sn_0          1164430 non-null  object\n",
      " 1   modules_name_0        1164430 non-null  object\n",
      " 2   modules_type_0        1164430 non-null  object\n",
      " 3   modules_counters_0    1164430 non-null  object\n",
      " 4   modules_generation_0  1164430 non-null  object\n",
      " 5   modules_sn_1          1164430 non-null  object\n",
      " 6   modules_name_1        1164430 non-null  object\n",
      " 7   modules_type_1        1164430 non-null  object\n",
      " 8   modules_counters_1    1164430 non-null  object\n",
      " 9   modules_generation_1  1164430 non-null  object\n",
      "dtypes: object(10)\n",
      "memory usage: 130.0+ MB\n"
     ]
    }
   ],
   "source": [
    "modules_df.info()"
   ]
  },
  {
   "attachments": {},
   "cell_type": "markdown",
   "metadata": {},
   "source": [
    "#### Column \"modules counters\""
   ]
  },
  {
   "cell_type": "code",
   "execution_count": 20,
   "metadata": {},
   "outputs": [],
   "source": [
    "modules_counters_keys = get_keys(modules_df.modules_counters_0.loc[0][0])"
   ]
  },
  {
   "cell_type": "code",
   "execution_count": 21,
   "metadata": {},
   "outputs": [],
   "source": [
    "for key in modules_counters_keys:\n",
    "    modules_df = add_key_column(modules_df, 'modules_counters_0', modules_counters_keys,0)\n",
    "for key in modules_counters_keys:\n",
    "    modules_df = add_key_column(modules_df, 'modules_counters_1', modules_counters_keys,0)"
   ]
  },
  {
   "cell_type": "code",
   "execution_count": 22,
   "metadata": {},
   "outputs": [],
   "source": [
    "modules_df.drop(['modules_counters_0', 'modules_counters_1'], axis='columns', inplace=True)"
   ]
  },
  {
   "cell_type": "code",
   "execution_count": 23,
   "metadata": {},
   "outputs": [
    {
     "name": "stdout",
     "output_type": "stream",
     "text": [
      "<class 'pandas.core.frame.DataFrame'>\n",
      "Int64Index: 1164430 entries, 307539 to 1164429\n",
      "Data columns (total 12 columns):\n",
      " #   Column                      Non-Null Count    Dtype \n",
      "---  ------                      --------------    ----- \n",
      " 0   modules_sn_0                1164430 non-null  object\n",
      " 1   modules_name_0              1164430 non-null  object\n",
      " 2   modules_type_0              1164430 non-null  object\n",
      " 3   modules_generation_0        1164430 non-null  object\n",
      " 4   modules_sn_1                1164430 non-null  object\n",
      " 5   modules_name_1              1164430 non-null  object\n",
      " 6   modules_type_1              1164430 non-null  object\n",
      " 7   modules_generation_1        1164430 non-null  object\n",
      " 8   modules_counters_0_name_0   1164430 non-null  object\n",
      " 9   modules_counters_0_value_0  1164430 non-null  int64 \n",
      " 10  modules_counters_1_name_0   1164430 non-null  object\n",
      " 11  modules_counters_1_value_0  1164430 non-null  int64 \n",
      "dtypes: int64(2), object(10)\n",
      "memory usage: 147.7+ MB\n"
     ]
    }
   ],
   "source": [
    "modules_df.info()"
   ]
  },
  {
   "cell_type": "code",
   "execution_count": 24,
   "metadata": {},
   "outputs": [],
   "source": [
    "modules_df.dropna(axis='columns', how='any', inplace=True)"
   ]
  },
  {
   "cell_type": "code",
   "execution_count": 25,
   "metadata": {},
   "outputs": [
    {
     "name": "stdout",
     "output_type": "stream",
     "text": [
      "modules_sn_0 ['']\n",
      "modules_name_0 ['Print Engine 1']\n",
      "modules_type_0 ['Varnish Printer']\n",
      "modules_generation_0 ['']\n",
      "modules_sn_1 ['']\n",
      "modules_name_1 ['iFoil L']\n",
      "modules_type_1 ['iFoil']\n",
      "modules_generation_1 ['Gen. 2']\n",
      "modules_counters_0_name_0 ['3D Varnish Counter']\n",
      "modules_counters_0_value_0 nombre de valeurs unique : 294500\n",
      "modules_counters_1_name_0 ['Total Pages Counter']\n",
      "modules_counters_1_value_0 nombre de valeurs unique : 65342\n"
     ]
    }
   ],
   "source": [
    "for col in modules_df.columns :\n",
    "    if modules_df[col].nunique() > 1 :\n",
    "        print(col, 'nombre de valeurs unique : %d' % modules_df[col].nunique())\n",
    "    else :\n",
    "        print(col, modules_df[col].unique())"
   ]
  },
  {
   "cell_type": "code",
   "execution_count": 26,
   "metadata": {},
   "outputs": [],
   "source": [
    "columns_to_drop = []\n",
    "for col in modules_df.columns :\n",
    "    if modules_df[col].nunique() == 1 :\n",
    "        if modules_df[col].unique().item() != '':\n",
    "            columns_to_drop.append(col)\n",
    "        else :\n",
    "            modules_df.drop(columns=[col], axis='columns', inplace=True)"
   ]
  },
  {
   "cell_type": "code",
   "execution_count": 27,
   "metadata": {},
   "outputs": [],
   "source": [
    "modules_df.rename(columns={\n",
    "    'modules_counters_0_value_0': 'VarnishPrinter_3DVarnishCounter',\n",
    "    'modules_counters_1_value_0': 'iFoil_TotalPagesCounter'\n",
    "    }, inplace=True)\n",
    "modules_df.drop(columns=columns_to_drop, axis='columns', inplace=True)"
   ]
  },
  {
   "cell_type": "code",
   "execution_count": 28,
   "metadata": {},
   "outputs": [
    {
     "data": {
      "text/html": [
       "<div>\n",
       "<style scoped>\n",
       "    .dataframe tbody tr th:only-of-type {\n",
       "        vertical-align: middle;\n",
       "    }\n",
       "\n",
       "    .dataframe tbody tr th {\n",
       "        vertical-align: top;\n",
       "    }\n",
       "\n",
       "    .dataframe thead th {\n",
       "        text-align: right;\n",
       "    }\n",
       "</style>\n",
       "<table border=\"1\" class=\"dataframe\">\n",
       "  <thead>\n",
       "    <tr style=\"text-align: right;\">\n",
       "      <th></th>\n",
       "      <th>VarnishPrinter_3DVarnishCounter</th>\n",
       "      <th>iFoil_TotalPagesCounter</th>\n",
       "    </tr>\n",
       "  </thead>\n",
       "  <tbody>\n",
       "    <tr>\n",
       "      <th>307539</th>\n",
       "      <td>1792992</td>\n",
       "      <td>22881</td>\n",
       "    </tr>\n",
       "    <tr>\n",
       "      <th>307540</th>\n",
       "      <td>1792992</td>\n",
       "      <td>22881</td>\n",
       "    </tr>\n",
       "    <tr>\n",
       "      <th>307537</th>\n",
       "      <td>1792992</td>\n",
       "      <td>22881</td>\n",
       "    </tr>\n",
       "  </tbody>\n",
       "</table>\n",
       "</div>"
      ],
      "text/plain": [
       "        VarnishPrinter_3DVarnishCounter  iFoil_TotalPagesCounter\n",
       "307539                          1792992                    22881\n",
       "307540                          1792992                    22881\n",
       "307537                          1792992                    22881"
      ]
     },
     "execution_count": 28,
     "metadata": {},
     "output_type": "execute_result"
    }
   ],
   "source": [
    "modules_df.head(3)"
   ]
  },
  {
   "attachments": {},
   "cell_type": "markdown",
   "metadata": {},
   "source": [
    "### Column \"events\""
   ]
  },
  {
   "cell_type": "code",
   "execution_count": 29,
   "metadata": {},
   "outputs": [],
   "source": [
    "# conversion des valeurs \"events\" string en list\n",
    "events_df = convert_str_to_list(metrics_df.events)"
   ]
  },
  {
   "attachments": {},
   "cell_type": "markdown",
   "metadata": {},
   "source": [
    "#### Split events in dataframe"
   ]
  },
  {
   "cell_type": "code",
   "execution_count": 30,
   "metadata": {},
   "outputs": [],
   "source": [
    "# création d'un dataframe de la colonne events fractionnées\n",
    "import ast\n",
    "d = {'source': [],\n",
    "    'message': [],\n",
    "    'timestamp': [],\n",
    "    'criticality': [],\n",
    "    'identification': []}\n",
    "for values in events_df.events.values :\n",
    "    # pour chaque list non nulle\n",
    "    if len(values) > 0 :\n",
    "        # ajout des valeurs dans le dictionnaire 'd'\n",
    "        for event in values :\n",
    "            d['source'].append(event.get('source'))\n",
    "            d['message'].append(event.get('message'))\n",
    "            d['timestamp'].append(event.get('timestamp'))\n",
    "            d['criticality'].append(event.get('criticality'))\n",
    "            d['identification'].append(event.get('identification'))\n",
    "df =  pd.DataFrame(data=d)\n"
   ]
  },
  {
   "cell_type": "code",
   "execution_count": 31,
   "metadata": {},
   "outputs": [
    {
     "data": {
      "text/plain": [
       "array(['0', '2', '311', '313', '315', '320', '321', '322', '323', '324',\n",
       "       '325', '326', '327', '329', '330', '331', '332', '333', '334',\n",
       "       '343', '344', '345', '346', '349', '350', '351', '352', '354',\n",
       "       '355', '356', '357', '358', '359', '371', '372', '376', '377',\n",
       "       '380', '381', '384', '385', '386', '387', '388', '389', '391',\n",
       "       '405', '406', '407', '408', '411', '416', '417', '418', '419',\n",
       "       '430', '440', '444', '445', '446', '447', '453', '454', '460',\n",
       "       '466', '471', '472', '475', '476', '479', '480',\n",
       "       'ICB communication error', 'Kernel_Error',\n",
       "       'Pilot communication error', 'RCB communication error',\n",
       "       'iFoil communication error'], dtype=object)"
      ]
     },
     "execution_count": 31,
     "metadata": {},
     "output_type": "execute_result"
    }
   ],
   "source": [
    "# liste des codes d'identification\n",
    "identification_codes_list = df['identification'].unique()\n",
    "np.sort(identification_codes_list)"
   ]
  },
  {
   "cell_type": "code",
   "execution_count": 32,
   "metadata": {},
   "outputs": [
    {
     "data": {
      "text/plain": [
       "RangeIndex(start=0, stop=81361, step=1)"
      ]
     },
     "execution_count": 32,
     "metadata": {},
     "output_type": "execute_result"
    }
   ],
   "source": [
    "df.index"
   ]
  },
  {
   "cell_type": "code",
   "execution_count": 33,
   "metadata": {},
   "outputs": [
    {
     "data": {
      "text/plain": [
       "{1: {'identification': '391',\n",
       "  'message': ' JV-Ti non prêt : impression impossible'},\n",
       " 2: {'identification': '330', 'message': ' En attente'},\n",
       " 3: {'identification': '332', 'message': ' Disponible'},\n",
       " 4: {'identification': '377', 'message': ' Chargeur: mode auto non activé'},\n",
       " 5: {'identification': '333', 'message': ' Plateau de têtes en mouvement'},\n",
       " 6: {'identification': '334', 'message': ' Préchauffage'},\n",
       " 7: {'identification': '331', 'message': ' Impression en cours'},\n",
       " 8: {'identification': 'Kernel_Error',\n",
       "  'message': 'Cannot find enough search zones on the sheet (42,77%), please check your margins\\n'},\n",
       " 9: {'identification': '315', 'message': ' Support lingette non installé'},\n",
       " 10: {'identification': '417', 'message': ' Portes margeur ouvertes E-0417'},\n",
       " 11: {'identification': '406', 'message': ' Purge en cours'},\n",
       " 12: {'identification': '407', 'message': ' Essuyage en cours'},\n",
       " 13: {'identification': '352', 'message': ' Double feuille détectée E-0352'},\n",
       " 14: {'identification': '344', 'message': ' Manque papier'},\n",
       " 15: {'identification': 'ICB communication error',\n",
       "  'message': 'A communication error has occured between RCB n° 1 and  ICB n°5'},\n",
       " 16: {'identification': '376', 'message': ' Réception: mode auto non activé'},\n",
       " 17: {'identification': '445',\n",
       "  'message': \" Erreur plaque d'empreintes E-0445\"},\n",
       " 18: {'identification': '325',\n",
       "  'message': ' Erreur de com. tapis impression E-0325'},\n",
       " 19: {'identification': '343', 'message': ' Nettoyage tapis en cours'},\n",
       " 20: {'identification': '345', 'message': \" Consommable à 80% d'usure\"},\n",
       " 21: {'identification': '358', 'message': ' Démarrage machine'},\n",
       " 22: {'identification': '453',\n",
       "  'message': ' Erreur capteur lift palette C2 E-0453'},\n",
       " 23: {'identification': '381', 'message': ' Capot après têtes ouvert E-0381'},\n",
       " 24: {'identification': '354',\n",
       "  'message': ' Bourrage : module impression E-0354'},\n",
       " 25: {'identification': '313',\n",
       "  'message': ' Ecart nb. feuilles demandées /nb. feuilles sorties'},\n",
       " 26: {'identification': '447', 'message': ' Bidon de déchets plein'},\n",
       " 27: {'identification': '454', 'message': ' Bourrage Corona - E0364'},\n",
       " 28: {'identification': '387',\n",
       "  'message': ' Erreur positionnement plateau E-0387'},\n",
       " 29: {'identification': '386', 'message': ' Erreur four UV E-0386'},\n",
       " 30: {'identification': '372', 'message': ' Attente démarrage UV'},\n",
       " 31: {'identification': '371', 'message': ' Démarrrage UV en cours'},\n",
       " 32: {'identification': '323', 'message': \" Arrêt d'urgence feeder E-0323\"},\n",
       " 33: {'identification': '480', 'message': \" Arrêt d'urgence stacker E-0480\"},\n",
       " 34: {'identification': '311', 'message': ' Attente initialisation'},\n",
       " 35: {'identification': '479',\n",
       "  'message': \" Arrêt d'urgence table de marge E-0479\"},\n",
       " 36: {'identification': '351',\n",
       "  'message': ' Defaut carte moteur table marge E-0351'},\n",
       " 37: {'identification': '440',\n",
       "  'message': ' Défaut remplissage réservoirs E-0440'},\n",
       " 38: {'identification': '324', 'message': ' Consommable(s) expiré(s) E-0324'},\n",
       " 39: {'identification': '321',\n",
       "  'message': \" Arrêt d'urgence impression E-0321\"},\n",
       " 40: {'identification': '0', 'message': ''},\n",
       " 41: {'identification': '349', 'message': ' Lampe UV 1000h de fonctionnement'},\n",
       " 42: {'identification': 'RCB communication error',\n",
       "  'message': 'A communication error has occured between Network card  and  RCB n°1'},\n",
       " 43: {'identification': '385', 'message': \" Absence d'air comprimée E-0385\"},\n",
       " 44: {'identification': '357', 'message': ' Bourrage : sortie sécheur E-0357'},\n",
       " 45: {'identification': '418', 'message': ' Erreur surcharge Corona E-0418'},\n",
       " 46: {'identification': '446',\n",
       "  'message': ' Erreur moteur tapis impression E-0446'},\n",
       " 47: {'identification': '355',\n",
       "  'message': ' Bourrage : module séchage IR E-0355'},\n",
       " 48: {'identification': '389',\n",
       "  'message': ' Erreur cateurs verticaux plateau de têtes E-0389'},\n",
       " 49: {'identification': '476', 'message': ' Défaut moteur Corona E-0476'},\n",
       " 50: {'identification': '356',\n",
       "  'message': ' Bourrage : module séchage UV E-0356'},\n",
       " 51: {'identification': 'iFoil communication error',\n",
       "  'message': 'A communication error has occured with the iFoil at192.168.187.10:502'},\n",
       " 52: {'identification': '460',\n",
       "  'message': ' Défaut communication réception palette E-0460'},\n",
       " 53: {'identification': '472', 'message': '.'},\n",
       " 54: {'identification': '405',\n",
       "  'message': ' Utilisation déconseillée des IRs: vitesse basse E-0405'},\n",
       " 55: {'identification': '380',\n",
       "  'message': ' Défaut communication sécheur E-0380'},\n",
       " 56: {'identification': '388', 'message': ' Bidon de nettoyant vide E-0388'},\n",
       " 57: {'identification': '408', 'message': ' Nettoyage en cours'},\n",
       " 58: {'identification': '320', 'message': ' Porte avant ouverte E-0320'},\n",
       " 59: {'identification': '329',\n",
       "  'message': ' Relais de securité AU désactivé E-329'},\n",
       " 60: {'identification': '350', 'message': ' Attente extinction machine'},\n",
       " 61: {'identification': '475',\n",
       "  'message': ' Défaut communication Corona E-0475'},\n",
       " 62: {'identification': '466', 'message': ' Bidon de vernis vide E-466'},\n",
       " 63: {'identification': '416',\n",
       "  'message': ' Erreur positionnement plateau E-0416'},\n",
       " 64: {'identification': '411',\n",
       "  'message': ' Erreur moteur tapis sécheur E-0411'},\n",
       " 65: {'identification': '346', 'message': ' Règles de marge en mouvement'},\n",
       " 66: {'identification': '471',\n",
       "  'message': ' Défaut carte moteur feeder palette E-0471'},\n",
       " 67: {'identification': '327',\n",
       "  'message': ' Défaut carte moteur sys. nett. E-0327'},\n",
       " 68: {'identification': '430',\n",
       "  'message': ' Erreur système de dégazage E-0430'},\n",
       " 69: {'identification': '444', 'message': ' Dépression trop faible E-0444'},\n",
       " 70: {'identification': '2', 'message': ''},\n",
       " 71: {'identification': '326',\n",
       "  'message': ' Erreur carte moteur plateau têtes E-326'},\n",
       " 72: {'identification': '419',\n",
       "  'message': ' Capteur analogique débranché E-0419'},\n",
       " 73: {'identification': 'Pilot communication error',\n",
       "  'message': 'A communication error has occured with the pilot at192.168.187.47:502'},\n",
       " 74: {'identification': '359',\n",
       "  'message': ' Mauvais positionnement des cellules plateau de têtes E-0359'},\n",
       " 75: {'identification': '322', 'message': \" Arret d'urgence sécheur E-0322\"},\n",
       " 76: {'identification': '384',\n",
       "  'message': ' Capot sortie sécheur ouvert E-0384'}}"
      ]
     },
     "execution_count": 33,
     "metadata": {},
     "output_type": "execute_result"
    }
   ],
   "source": [
    "# liste des évènements uniques\n",
    "identification_dict = {}\n",
    "c = 1\n",
    "id_list = []\n",
    "for i in range(df.index.start, df.index.stop):\n",
    "    id = df.identification.loc[i]\n",
    "    if id not in id_list:\n",
    "        id_list.append(id)\n",
    "        identification_dict[c] = {\n",
    "        'identification' : id,\n",
    "        'message': df.message.loc[i]\n",
    "        }\n",
    "        c += 1\n",
    "identification_dict"
   ]
  },
  {
   "cell_type": "code",
   "execution_count": 34,
   "metadata": {},
   "outputs": [
    {
     "data": {
      "text/plain": [
       "array(['ICB n°1', 'ICB n°2', 'ICB n°4', 'ICB n°5', 'ICB n°6', 'ICB n°7',\n",
       "       'ICB n°8', 'Kernel', 'PLC', 'Pilot', 'RCB n°1', 'RCB n°2',\n",
       "       'RCB n°3', 'iFoil'], dtype=object)"
      ]
     },
     "execution_count": 34,
     "metadata": {},
     "output_type": "execute_result"
    }
   ],
   "source": [
    "# liste des sources\n",
    "source_list = df['source'].unique()\n",
    "np.sort(source_list)"
   ]
  },
  {
   "cell_type": "code",
   "execution_count": 35,
   "metadata": {},
   "outputs": [
    {
     "data": {
      "text/plain": [
       "array(['ERROR', 'INFO', 'WARNING'], dtype=object)"
      ]
     },
     "execution_count": 35,
     "metadata": {},
     "output_type": "execute_result"
    }
   ],
   "source": [
    "# liste des sources\n",
    "criticality_list = df['criticality'].unique()\n",
    "np.sort(criticality_list)"
   ]
  },
  {
   "cell_type": "code",
   "execution_count": 36,
   "metadata": {},
   "outputs": [],
   "source": [
    "# on sauvegarde la liste des codes d'identification d'event\n",
    "with open('../data/metrics/metrics_events_dict.json', 'w') as f:\n",
    "    json.dump({\n",
    "        'identification': identification_dict, \n",
    "        'criticality' : list(np.sort(criticality_list)),\n",
    "        'source' : list(np.sort(source_list))\n",
    "        }, f)"
   ]
  },
  {
   "cell_type": "code",
   "execution_count": 37,
   "metadata": {},
   "outputs": [
    {
     "data": {
      "text/plain": [
       "[dict_keys(['source', 'message', 'timestamp', 'criticality', 'identification'])]"
      ]
     },
     "execution_count": 37,
     "metadata": {},
     "output_type": "execute_result"
    }
   ],
   "source": [
    "# on liste les clés d'un dictionnaire d'event\n",
    "events_keys = []\n",
    "for i in range(0, len(events_df)) :\n",
    "    if len(events_df.events.loc[i]) != 0 :\n",
    "        event_keys = events_df.events.loc[i][0].keys()\n",
    "        if event_keys not in events_keys :\n",
    "            events_keys.append(event_keys)\n",
    "# clés d'un dictionnaire d'event\n",
    "events_keys"
   ]
  },
  {
   "cell_type": "code",
   "execution_count": 38,
   "metadata": {},
   "outputs": [],
   "source": [
    "# création d'un dictionnaire d'event vide\n",
    "events_dict = {}\n",
    "for key in event_keys :\n",
    "    events_dict[key] = np.nan"
   ]
  },
  {
   "cell_type": "code",
   "execution_count": 39,
   "metadata": {},
   "outputs": [],
   "source": [
    "# ajout d'une colonne \"Length\" du nombre d'event pas ligne\n",
    "events_df['Length'] = events_df.events.map(len)"
   ]
  },
  {
   "cell_type": "code",
   "execution_count": 40,
   "metadata": {},
   "outputs": [
    {
     "data": {
      "text/html": [
       "<div>\n",
       "<style scoped>\n",
       "    .dataframe tbody tr th:only-of-type {\n",
       "        vertical-align: middle;\n",
       "    }\n",
       "\n",
       "    .dataframe tbody tr th {\n",
       "        vertical-align: top;\n",
       "    }\n",
       "\n",
       "    .dataframe thead th {\n",
       "        text-align: right;\n",
       "    }\n",
       "</style>\n",
       "<table border=\"1\" class=\"dataframe\">\n",
       "  <thead>\n",
       "    <tr style=\"text-align: right;\">\n",
       "      <th></th>\n",
       "      <th>events</th>\n",
       "      <th>Length</th>\n",
       "    </tr>\n",
       "  </thead>\n",
       "  <tbody>\n",
       "    <tr>\n",
       "      <th>307539</th>\n",
       "      <td>[]</td>\n",
       "      <td>0</td>\n",
       "    </tr>\n",
       "    <tr>\n",
       "      <th>307540</th>\n",
       "      <td>[{'source': 'PLC', 'message': ' JV-Ti non prêt...</td>\n",
       "      <td>1</td>\n",
       "    </tr>\n",
       "    <tr>\n",
       "      <th>307537</th>\n",
       "      <td>[]</td>\n",
       "      <td>0</td>\n",
       "    </tr>\n",
       "  </tbody>\n",
       "</table>\n",
       "</div>"
      ],
      "text/plain": [
       "                                                   events  Length\n",
       "307539                                                 []       0\n",
       "307540  [{'source': 'PLC', 'message': ' JV-Ti non prêt...       1\n",
       "307537                                                 []       0"
      ]
     },
     "execution_count": 40,
     "metadata": {},
     "output_type": "execute_result"
    }
   ],
   "source": [
    "events_df.head(3)"
   ]
  },
  {
   "cell_type": "code",
   "execution_count": 41,
   "metadata": {},
   "outputs": [
    {
     "data": {
      "text/html": [
       "<div>\n",
       "<style scoped>\n",
       "    .dataframe tbody tr th:only-of-type {\n",
       "        vertical-align: middle;\n",
       "    }\n",
       "\n",
       "    .dataframe tbody tr th {\n",
       "        vertical-align: top;\n",
       "    }\n",
       "\n",
       "    .dataframe thead th {\n",
       "        text-align: right;\n",
       "    }\n",
       "</style>\n",
       "<table border=\"1\" class=\"dataframe\">\n",
       "  <thead>\n",
       "    <tr style=\"text-align: right;\">\n",
       "      <th></th>\n",
       "      <th>0</th>\n",
       "      <th>1</th>\n",
       "      <th>2</th>\n",
       "      <th>3</th>\n",
       "      <th>4</th>\n",
       "      <th>5</th>\n",
       "      <th>6</th>\n",
       "      <th>7</th>\n",
       "      <th>8</th>\n",
       "      <th>9</th>\n",
       "      <th>10</th>\n",
       "      <th>11</th>\n",
       "    </tr>\n",
       "  </thead>\n",
       "  <tbody>\n",
       "    <tr>\n",
       "      <th>307539</th>\n",
       "      <td>None</td>\n",
       "      <td>None</td>\n",
       "      <td>None</td>\n",
       "      <td>None</td>\n",
       "      <td>None</td>\n",
       "      <td>None</td>\n",
       "      <td>None</td>\n",
       "      <td>None</td>\n",
       "      <td>None</td>\n",
       "      <td>None</td>\n",
       "      <td>None</td>\n",
       "      <td>None</td>\n",
       "    </tr>\n",
       "    <tr>\n",
       "      <th>307540</th>\n",
       "      <td>{'source': 'PLC', 'message': ' JV-Ti non prêt ...</td>\n",
       "      <td>None</td>\n",
       "      <td>None</td>\n",
       "      <td>None</td>\n",
       "      <td>None</td>\n",
       "      <td>None</td>\n",
       "      <td>None</td>\n",
       "      <td>None</td>\n",
       "      <td>None</td>\n",
       "      <td>None</td>\n",
       "      <td>None</td>\n",
       "      <td>None</td>\n",
       "    </tr>\n",
       "    <tr>\n",
       "      <th>307537</th>\n",
       "      <td>None</td>\n",
       "      <td>None</td>\n",
       "      <td>None</td>\n",
       "      <td>None</td>\n",
       "      <td>None</td>\n",
       "      <td>None</td>\n",
       "      <td>None</td>\n",
       "      <td>None</td>\n",
       "      <td>None</td>\n",
       "      <td>None</td>\n",
       "      <td>None</td>\n",
       "      <td>None</td>\n",
       "    </tr>\n",
       "  </tbody>\n",
       "</table>\n",
       "</div>"
      ],
      "text/plain": [
       "                                                       0     1     2     3   \\\n",
       "307539                                               None  None  None  None   \n",
       "307540  {'source': 'PLC', 'message': ' JV-Ti non prêt ...  None  None  None   \n",
       "307537                                               None  None  None  None   \n",
       "\n",
       "          4     5     6     7     8     9     10    11  \n",
       "307539  None  None  None  None  None  None  None  None  \n",
       "307540  None  None  None  None  None  None  None  None  \n",
       "307537  None  None  None  None  None  None  None  None  "
      ]
     },
     "execution_count": 41,
     "metadata": {},
     "output_type": "execute_result"
    }
   ],
   "source": [
    "# fractionnement des events\n",
    "events_split_df = pd.DataFrame(events_df.events.to_list(), dtype=object, index=events_df.index)\n",
    "events_split_df.head(3)"
   ]
  },
  {
   "cell_type": "code",
   "execution_count": 42,
   "metadata": {},
   "outputs": [],
   "source": [
    "# remplacement des valeurs \"None\" par des dictionnaires \n",
    "for col in events_split_df.columns :\n",
    "    for i in range(0,len(events_split_df.iloc[:,col])):\n",
    "        if isinstance(events_split_df.loc[i][col], type(None)) :\n",
    "            events_split_df.loc[i][col] = events_dict"
   ]
  },
  {
   "cell_type": "code",
   "execution_count": 43,
   "metadata": {},
   "outputs": [],
   "source": [
    "# renommage des colonnes du dataframe des events\n",
    "i = 0\n",
    "col_names = {}\n",
    "for col in range(events_split_df.columns.start, events_split_df.columns.stop):\n",
    "    col_names[col] = 'event_'+str(col)\n",
    "events_split_df.rename(columns=col_names, inplace=True)"
   ]
  },
  {
   "cell_type": "code",
   "execution_count": 44,
   "metadata": {},
   "outputs": [
    {
     "data": {
      "text/html": [
       "<div>\n",
       "<style scoped>\n",
       "    .dataframe tbody tr th:only-of-type {\n",
       "        vertical-align: middle;\n",
       "    }\n",
       "\n",
       "    .dataframe tbody tr th {\n",
       "        vertical-align: top;\n",
       "    }\n",
       "\n",
       "    .dataframe thead th {\n",
       "        text-align: right;\n",
       "    }\n",
       "</style>\n",
       "<table border=\"1\" class=\"dataframe\">\n",
       "  <thead>\n",
       "    <tr style=\"text-align: right;\">\n",
       "      <th></th>\n",
       "      <th>event_0</th>\n",
       "      <th>event_1</th>\n",
       "      <th>event_2</th>\n",
       "      <th>event_3</th>\n",
       "      <th>event_4</th>\n",
       "      <th>event_5</th>\n",
       "      <th>event_6</th>\n",
       "      <th>event_7</th>\n",
       "      <th>event_8</th>\n",
       "      <th>event_9</th>\n",
       "      <th>event_10</th>\n",
       "      <th>event_11</th>\n",
       "    </tr>\n",
       "  </thead>\n",
       "  <tbody>\n",
       "    <tr>\n",
       "      <th>307539</th>\n",
       "      <td>{'source': nan, 'message': nan, 'timestamp': n...</td>\n",
       "      <td>{'source': nan, 'message': nan, 'timestamp': n...</td>\n",
       "      <td>{'source': nan, 'message': nan, 'timestamp': n...</td>\n",
       "      <td>{'source': nan, 'message': nan, 'timestamp': n...</td>\n",
       "      <td>{'source': nan, 'message': nan, 'timestamp': n...</td>\n",
       "      <td>{'source': nan, 'message': nan, 'timestamp': n...</td>\n",
       "      <td>{'source': nan, 'message': nan, 'timestamp': n...</td>\n",
       "      <td>{'source': nan, 'message': nan, 'timestamp': n...</td>\n",
       "      <td>{'source': nan, 'message': nan, 'timestamp': n...</td>\n",
       "      <td>{'source': nan, 'message': nan, 'timestamp': n...</td>\n",
       "      <td>{'source': nan, 'message': nan, 'timestamp': n...</td>\n",
       "      <td>{'source': nan, 'message': nan, 'timestamp': n...</td>\n",
       "    </tr>\n",
       "    <tr>\n",
       "      <th>307540</th>\n",
       "      <td>{'source': 'PLC', 'message': ' JV-Ti non prêt ...</td>\n",
       "      <td>{'source': nan, 'message': nan, 'timestamp': n...</td>\n",
       "      <td>{'source': nan, 'message': nan, 'timestamp': n...</td>\n",
       "      <td>{'source': nan, 'message': nan, 'timestamp': n...</td>\n",
       "      <td>{'source': nan, 'message': nan, 'timestamp': n...</td>\n",
       "      <td>{'source': nan, 'message': nan, 'timestamp': n...</td>\n",
       "      <td>{'source': nan, 'message': nan, 'timestamp': n...</td>\n",
       "      <td>{'source': nan, 'message': nan, 'timestamp': n...</td>\n",
       "      <td>{'source': nan, 'message': nan, 'timestamp': n...</td>\n",
       "      <td>{'source': nan, 'message': nan, 'timestamp': n...</td>\n",
       "      <td>{'source': nan, 'message': nan, 'timestamp': n...</td>\n",
       "      <td>{'source': nan, 'message': nan, 'timestamp': n...</td>\n",
       "    </tr>\n",
       "    <tr>\n",
       "      <th>307537</th>\n",
       "      <td>{'source': nan, 'message': nan, 'timestamp': n...</td>\n",
       "      <td>{'source': nan, 'message': nan, 'timestamp': n...</td>\n",
       "      <td>{'source': nan, 'message': nan, 'timestamp': n...</td>\n",
       "      <td>{'source': nan, 'message': nan, 'timestamp': n...</td>\n",
       "      <td>{'source': nan, 'message': nan, 'timestamp': n...</td>\n",
       "      <td>{'source': nan, 'message': nan, 'timestamp': n...</td>\n",
       "      <td>{'source': nan, 'message': nan, 'timestamp': n...</td>\n",
       "      <td>{'source': nan, 'message': nan, 'timestamp': n...</td>\n",
       "      <td>{'source': nan, 'message': nan, 'timestamp': n...</td>\n",
       "      <td>{'source': nan, 'message': nan, 'timestamp': n...</td>\n",
       "      <td>{'source': nan, 'message': nan, 'timestamp': n...</td>\n",
       "      <td>{'source': nan, 'message': nan, 'timestamp': n...</td>\n",
       "    </tr>\n",
       "  </tbody>\n",
       "</table>\n",
       "</div>"
      ],
      "text/plain": [
       "                                                  event_0  \\\n",
       "307539  {'source': nan, 'message': nan, 'timestamp': n...   \n",
       "307540  {'source': 'PLC', 'message': ' JV-Ti non prêt ...   \n",
       "307537  {'source': nan, 'message': nan, 'timestamp': n...   \n",
       "\n",
       "                                                  event_1  \\\n",
       "307539  {'source': nan, 'message': nan, 'timestamp': n...   \n",
       "307540  {'source': nan, 'message': nan, 'timestamp': n...   \n",
       "307537  {'source': nan, 'message': nan, 'timestamp': n...   \n",
       "\n",
       "                                                  event_2  \\\n",
       "307539  {'source': nan, 'message': nan, 'timestamp': n...   \n",
       "307540  {'source': nan, 'message': nan, 'timestamp': n...   \n",
       "307537  {'source': nan, 'message': nan, 'timestamp': n...   \n",
       "\n",
       "                                                  event_3  \\\n",
       "307539  {'source': nan, 'message': nan, 'timestamp': n...   \n",
       "307540  {'source': nan, 'message': nan, 'timestamp': n...   \n",
       "307537  {'source': nan, 'message': nan, 'timestamp': n...   \n",
       "\n",
       "                                                  event_4  \\\n",
       "307539  {'source': nan, 'message': nan, 'timestamp': n...   \n",
       "307540  {'source': nan, 'message': nan, 'timestamp': n...   \n",
       "307537  {'source': nan, 'message': nan, 'timestamp': n...   \n",
       "\n",
       "                                                  event_5  \\\n",
       "307539  {'source': nan, 'message': nan, 'timestamp': n...   \n",
       "307540  {'source': nan, 'message': nan, 'timestamp': n...   \n",
       "307537  {'source': nan, 'message': nan, 'timestamp': n...   \n",
       "\n",
       "                                                  event_6  \\\n",
       "307539  {'source': nan, 'message': nan, 'timestamp': n...   \n",
       "307540  {'source': nan, 'message': nan, 'timestamp': n...   \n",
       "307537  {'source': nan, 'message': nan, 'timestamp': n...   \n",
       "\n",
       "                                                  event_7  \\\n",
       "307539  {'source': nan, 'message': nan, 'timestamp': n...   \n",
       "307540  {'source': nan, 'message': nan, 'timestamp': n...   \n",
       "307537  {'source': nan, 'message': nan, 'timestamp': n...   \n",
       "\n",
       "                                                  event_8  \\\n",
       "307539  {'source': nan, 'message': nan, 'timestamp': n...   \n",
       "307540  {'source': nan, 'message': nan, 'timestamp': n...   \n",
       "307537  {'source': nan, 'message': nan, 'timestamp': n...   \n",
       "\n",
       "                                                  event_9  \\\n",
       "307539  {'source': nan, 'message': nan, 'timestamp': n...   \n",
       "307540  {'source': nan, 'message': nan, 'timestamp': n...   \n",
       "307537  {'source': nan, 'message': nan, 'timestamp': n...   \n",
       "\n",
       "                                                 event_10  \\\n",
       "307539  {'source': nan, 'message': nan, 'timestamp': n...   \n",
       "307540  {'source': nan, 'message': nan, 'timestamp': n...   \n",
       "307537  {'source': nan, 'message': nan, 'timestamp': n...   \n",
       "\n",
       "                                                 event_11  \n",
       "307539  {'source': nan, 'message': nan, 'timestamp': n...  \n",
       "307540  {'source': nan, 'message': nan, 'timestamp': n...  \n",
       "307537  {'source': nan, 'message': nan, 'timestamp': n...  "
      ]
     },
     "execution_count": 44,
     "metadata": {},
     "output_type": "execute_result"
    }
   ],
   "source": [
    "# impression du dataframe events\n",
    "events_split_df.head(3)"
   ]
  },
  {
   "cell_type": "code",
   "execution_count": 45,
   "metadata": {},
   "outputs": [],
   "source": [
    "# on fractionne chaque event avec la liste des clés d'un dictionnaire event \n",
    "events_dict_split_df = pd.DataFrame()\n",
    "i = 0\n",
    "for col in events_split_df.columns :\n",
    "    events_dict_split_df[[\n",
    "        'source_'+str(col),\n",
    "        'message_'+str(col),\n",
    "        'timestamp_'+str(col),\n",
    "        'criticality_'+str(col),\n",
    "        'identification_'+str(col)\n",
    "        ]] = pd.DataFrame(events_split_df.iloc[:,i].tolist(), index= events_split_df.index)\n",
    "    i += 1"
   ]
  },
  {
   "cell_type": "code",
   "execution_count": 46,
   "metadata": {},
   "outputs": [
    {
     "data": {
      "text/html": [
       "<div>\n",
       "<style scoped>\n",
       "    .dataframe tbody tr th:only-of-type {\n",
       "        vertical-align: middle;\n",
       "    }\n",
       "\n",
       "    .dataframe tbody tr th {\n",
       "        vertical-align: top;\n",
       "    }\n",
       "\n",
       "    .dataframe thead th {\n",
       "        text-align: right;\n",
       "    }\n",
       "</style>\n",
       "<table border=\"1\" class=\"dataframe\">\n",
       "  <thead>\n",
       "    <tr style=\"text-align: right;\">\n",
       "      <th></th>\n",
       "      <th>source_event_0</th>\n",
       "      <th>message_event_0</th>\n",
       "      <th>timestamp_event_0</th>\n",
       "      <th>criticality_event_0</th>\n",
       "      <th>identification_event_0</th>\n",
       "      <th>source_event_1</th>\n",
       "      <th>message_event_1</th>\n",
       "      <th>timestamp_event_1</th>\n",
       "      <th>criticality_event_1</th>\n",
       "      <th>identification_event_1</th>\n",
       "      <th>...</th>\n",
       "      <th>source_event_10</th>\n",
       "      <th>message_event_10</th>\n",
       "      <th>timestamp_event_10</th>\n",
       "      <th>criticality_event_10</th>\n",
       "      <th>identification_event_10</th>\n",
       "      <th>source_event_11</th>\n",
       "      <th>message_event_11</th>\n",
       "      <th>timestamp_event_11</th>\n",
       "      <th>criticality_event_11</th>\n",
       "      <th>identification_event_11</th>\n",
       "    </tr>\n",
       "  </thead>\n",
       "  <tbody>\n",
       "    <tr>\n",
       "      <th>307539</th>\n",
       "      <td>NaN</td>\n",
       "      <td>NaN</td>\n",
       "      <td>NaN</td>\n",
       "      <td>NaN</td>\n",
       "      <td>NaN</td>\n",
       "      <td>NaN</td>\n",
       "      <td>NaN</td>\n",
       "      <td>NaN</td>\n",
       "      <td>NaN</td>\n",
       "      <td>NaN</td>\n",
       "      <td>...</td>\n",
       "      <td>NaN</td>\n",
       "      <td>NaN</td>\n",
       "      <td>NaN</td>\n",
       "      <td>NaN</td>\n",
       "      <td>NaN</td>\n",
       "      <td>NaN</td>\n",
       "      <td>NaN</td>\n",
       "      <td>NaN</td>\n",
       "      <td>NaN</td>\n",
       "      <td>NaN</td>\n",
       "    </tr>\n",
       "    <tr>\n",
       "      <th>307540</th>\n",
       "      <td>PLC</td>\n",
       "      <td>JV-Ti non prêt : impression impossible</td>\n",
       "      <td>2022-04-15T05:55:23.462Z</td>\n",
       "      <td>INFO</td>\n",
       "      <td>391</td>\n",
       "      <td>NaN</td>\n",
       "      <td>NaN</td>\n",
       "      <td>NaN</td>\n",
       "      <td>NaN</td>\n",
       "      <td>NaN</td>\n",
       "      <td>...</td>\n",
       "      <td>NaN</td>\n",
       "      <td>NaN</td>\n",
       "      <td>NaN</td>\n",
       "      <td>NaN</td>\n",
       "      <td>NaN</td>\n",
       "      <td>NaN</td>\n",
       "      <td>NaN</td>\n",
       "      <td>NaN</td>\n",
       "      <td>NaN</td>\n",
       "      <td>NaN</td>\n",
       "    </tr>\n",
       "    <tr>\n",
       "      <th>307537</th>\n",
       "      <td>NaN</td>\n",
       "      <td>NaN</td>\n",
       "      <td>NaN</td>\n",
       "      <td>NaN</td>\n",
       "      <td>NaN</td>\n",
       "      <td>NaN</td>\n",
       "      <td>NaN</td>\n",
       "      <td>NaN</td>\n",
       "      <td>NaN</td>\n",
       "      <td>NaN</td>\n",
       "      <td>...</td>\n",
       "      <td>NaN</td>\n",
       "      <td>NaN</td>\n",
       "      <td>NaN</td>\n",
       "      <td>NaN</td>\n",
       "      <td>NaN</td>\n",
       "      <td>NaN</td>\n",
       "      <td>NaN</td>\n",
       "      <td>NaN</td>\n",
       "      <td>NaN</td>\n",
       "      <td>NaN</td>\n",
       "    </tr>\n",
       "  </tbody>\n",
       "</table>\n",
       "<p>3 rows × 60 columns</p>\n",
       "</div>"
      ],
      "text/plain": [
       "       source_event_0                          message_event_0  \\\n",
       "307539            NaN                                      NaN   \n",
       "307540            PLC   JV-Ti non prêt : impression impossible   \n",
       "307537            NaN                                      NaN   \n",
       "\n",
       "               timestamp_event_0 criticality_event_0 identification_event_0  \\\n",
       "307539                       NaN                 NaN                    NaN   \n",
       "307540  2022-04-15T05:55:23.462Z                INFO                    391   \n",
       "307537                       NaN                 NaN                    NaN   \n",
       "\n",
       "       source_event_1 message_event_1 timestamp_event_1 criticality_event_1  \\\n",
       "307539            NaN             NaN               NaN                 NaN   \n",
       "307540            NaN             NaN               NaN                 NaN   \n",
       "307537            NaN             NaN               NaN                 NaN   \n",
       "\n",
       "       identification_event_1  ... source_event_10 message_event_10  \\\n",
       "307539                    NaN  ...             NaN              NaN   \n",
       "307540                    NaN  ...             NaN              NaN   \n",
       "307537                    NaN  ...             NaN              NaN   \n",
       "\n",
       "       timestamp_event_10 criticality_event_10 identification_event_10  \\\n",
       "307539                NaN                  NaN                     NaN   \n",
       "307540                NaN                  NaN                     NaN   \n",
       "307537                NaN                  NaN                     NaN   \n",
       "\n",
       "       source_event_11 message_event_11 timestamp_event_11  \\\n",
       "307539             NaN              NaN                NaN   \n",
       "307540             NaN              NaN                NaN   \n",
       "307537             NaN              NaN                NaN   \n",
       "\n",
       "       criticality_event_11 identification_event_11  \n",
       "307539                  NaN                     NaN  \n",
       "307540                  NaN                     NaN  \n",
       "307537                  NaN                     NaN  \n",
       "\n",
       "[3 rows x 60 columns]"
      ]
     },
     "execution_count": 46,
     "metadata": {},
     "output_type": "execute_result"
    }
   ],
   "source": [
    "events_dict_split_df.head(3)"
   ]
  },
  {
   "attachments": {},
   "cell_type": "markdown",
   "metadata": {},
   "source": [
    "#### Identification"
   ]
  },
  {
   "cell_type": "code",
   "execution_count": 47,
   "metadata": {},
   "outputs": [],
   "source": [
    "# creation d'un dataframe des colonnes 'identification_'\n",
    "identification_data = {}\n",
    "for col in events_dict_split_df.columns :\n",
    "    if 'identification_' in col :\n",
    "        identification_data[col] = events_dict_split_df[col].values\n",
    "identification_df = pd.DataFrame(identification_data, index=events_dict_split_df.index)"
   ]
  },
  {
   "cell_type": "code",
   "execution_count": 48,
   "metadata": {},
   "outputs": [],
   "source": [
    "# fusionner les valeurs des colonnes identifications dans une liste d'entiers\n",
    "identification_df['events_id'] = identification_df.iloc[:,:].apply(lambda x: convert_str_to_int_list(x), axis=1)\n",
    "identification_df = identification_df['events_id']"
   ]
  },
  {
   "attachments": {},
   "cell_type": "markdown",
   "metadata": {},
   "source": [
    "#### Criticality"
   ]
  },
  {
   "cell_type": "code",
   "execution_count": 49,
   "metadata": {},
   "outputs": [],
   "source": [
    "# creation d'un dataframe des colonnes 'criticality_'\n",
    "criticality_data = {}\n",
    "for col in events_dict_split_df.columns :\n",
    "    if 'criticality_' in col :\n",
    "        criticality_data[col] = events_dict_split_df[col].values\n",
    "criticality_df = pd.DataFrame(criticality_data, index=events_dict_split_df.index)\n",
    "criticality_df.fillna(0, inplace=True)"
   ]
  },
  {
   "cell_type": "code",
   "execution_count": 50,
   "metadata": {},
   "outputs": [
    {
     "name": "stdout",
     "output_type": "stream",
     "text": [
      "criticality_event_0 [0 'INFO' 'WARNING' 'ERROR']\n",
      "criticality_event_1 [0 'INFO' 'ERROR' 'WARNING']\n",
      "criticality_event_2 [0 'WARNING' 'INFO' 'ERROR']\n",
      "criticality_event_3 [0 'INFO' 'ERROR' 'WARNING']\n",
      "criticality_event_4 [0 'INFO' 'WARNING' 'ERROR']\n",
      "criticality_event_5 [0 'INFO' 'ERROR' 'WARNING']\n",
      "criticality_event_6 [0 'INFO' 'ERROR' 'WARNING']\n",
      "criticality_event_7 [0 'INFO' 'ERROR' 'WARNING']\n",
      "criticality_event_8 [0 'WARNING' 'INFO']\n",
      "criticality_event_9 [0 'INFO']\n",
      "criticality_event_10 [0 'ERROR']\n",
      "criticality_event_11 [0 'INFO']\n"
     ]
    }
   ],
   "source": [
    "# on print les différentes valeurs 'criticality' présentent dans chaque colonne\n",
    "for col in criticality_df.columns:\n",
    "    print(col, criticality_df[col].unique())"
   ]
  },
  {
   "attachments": {},
   "cell_type": "markdown",
   "metadata": {},
   "source": [
    "## Fusion dataframes"
   ]
  },
  {
   "cell_type": "code",
   "execution_count": 51,
   "metadata": {},
   "outputs": [],
   "source": [
    "# fusion des dataframes des colonnes fracionnées\n",
    "merge_df =  pd.merge(\n",
    "                pd.merge(\n",
    "                    pd.merge(\n",
    "                        metrics_df, \n",
    "                        connected_operators_df, left_index=True, right_index=True), \n",
    "                    modules_df, left_index=True, right_index=True), \n",
    "                events_dict_split_df, left_index=True, right_index=True)\n",
    "# suppression des colonnes fractionnées\n",
    "merge_df.drop(['connected_operators','modules','events'], axis=1, inplace=True)\n",
    "# conversion de la colonne \"created_at\" au format Date\n",
    "merge_df['created_at'] = pd.to_datetime(merge_df['created_at'])\n",
    "# indexation du dataset avec les valeurs \"created_at\"\n",
    "merge_df.index = merge_df['created_at']\n",
    "# suppression de la colonne \"created_at\"\n",
    "del merge_df['created_at']\n",
    "# sauvegarde du dataset en csv\n",
    "merge_df.to_csv('../data/metrics/metrics_df.csv')"
   ]
  },
  {
   "attachments": {},
   "cell_type": "markdown",
   "metadata": {},
   "source": [
    "### dataset ciblage events 'identification'"
   ]
  },
  {
   "cell_type": "code",
   "execution_count": 52,
   "metadata": {},
   "outputs": [],
   "source": [
    "# dataset temporaire\n",
    "temp_df = pd.merge(\n",
    "                pd.merge(\n",
    "                    pd.merge(\n",
    "                        metrics_df, \n",
    "                        connected_operators_df, left_index=True, right_index=True), \n",
    "                    modules_df, left_index=True, right_index=True), \n",
    "                identification_df, left_index=True, right_index=True)\n",
    "# suppression des colonnes fractionnées\n",
    "temp_df.drop(['connected_operators','modules'], axis=1, inplace=True)\n",
    "# conversion de la colonne \"created_at\" au format Date\n",
    "temp_df['created_at'] = pd.to_datetime(temp_df['created_at'])\n",
    "# sauvegarde du dataset en csv\n",
    "temp_df.to_csv('../data/metrics/temp_metrics_df.csv')"
   ]
  },
  {
   "attachments": {},
   "cell_type": "markdown",
   "metadata": {},
   "source": [
    "## Data exploration"
   ]
  },
  {
   "cell_type": "code",
   "execution_count": 53,
   "metadata": {},
   "outputs": [
    {
     "data": {
      "text/html": [
       "<div>\n",
       "<style scoped>\n",
       "    .dataframe tbody tr th:only-of-type {\n",
       "        vertical-align: middle;\n",
       "    }\n",
       "\n",
       "    .dataframe tbody tr th {\n",
       "        vertical-align: top;\n",
       "    }\n",
       "\n",
       "    .dataframe thead th {\n",
       "        text-align: right;\n",
       "    }\n",
       "</style>\n",
       "<table border=\"1\" class=\"dataframe\">\n",
       "  <thead>\n",
       "    <tr style=\"text-align: right;\">\n",
       "      <th></th>\n",
       "      <th>id</th>\n",
       "      <th>status</th>\n",
       "      <th>created_at</th>\n",
       "      <th>varnishLevelsTargetvolume</th>\n",
       "      <th>varnishLevelsTotalvolume</th>\n",
       "      <th>events</th>\n",
       "      <th>operators_name</th>\n",
       "      <th>operators_level</th>\n",
       "      <th>VarnishPrinter_3DVarnishCounter</th>\n",
       "      <th>iFoil_TotalPagesCounter</th>\n",
       "      <th>events_id</th>\n",
       "    </tr>\n",
       "  </thead>\n",
       "  <tbody>\n",
       "    <tr>\n",
       "      <th>307539</th>\n",
       "      <td>4169748</td>\n",
       "      <td>WARNING</td>\n",
       "      <td>2022-04-15 05:55:06.678</td>\n",
       "      <td>36192.322612</td>\n",
       "      <td>100000</td>\n",
       "      <td>[]</td>\n",
       "      <td>Viktor</td>\n",
       "      <td>Operator</td>\n",
       "      <td>1792992</td>\n",
       "      <td>22881</td>\n",
       "      <td>[]</td>\n",
       "    </tr>\n",
       "    <tr>\n",
       "      <th>307540</th>\n",
       "      <td>4169749</td>\n",
       "      <td>WARNING</td>\n",
       "      <td>2022-04-15 05:55:06.829</td>\n",
       "      <td>36192.322612</td>\n",
       "      <td>100000</td>\n",
       "      <td>[{\"source\": \"PLC\", \"message\": \" JV-Ti non prêt...</td>\n",
       "      <td>Viktor</td>\n",
       "      <td>Operator</td>\n",
       "      <td>1792992</td>\n",
       "      <td>22881</td>\n",
       "      <td>[391]</td>\n",
       "    </tr>\n",
       "    <tr>\n",
       "      <th>307537</th>\n",
       "      <td>4169753</td>\n",
       "      <td>WARNING</td>\n",
       "      <td>2022-04-15 05:55:14.494</td>\n",
       "      <td>36192.322612</td>\n",
       "      <td>100000</td>\n",
       "      <td>[]</td>\n",
       "      <td>Viktor</td>\n",
       "      <td>Operator</td>\n",
       "      <td>1792992</td>\n",
       "      <td>22881</td>\n",
       "      <td>[]</td>\n",
       "    </tr>\n",
       "    <tr>\n",
       "      <th>307541</th>\n",
       "      <td>4169758</td>\n",
       "      <td>WARNING</td>\n",
       "      <td>2022-04-15 05:55:24.503</td>\n",
       "      <td>36192.322612</td>\n",
       "      <td>100000</td>\n",
       "      <td>[]</td>\n",
       "      <td>Viktor</td>\n",
       "      <td>Operator</td>\n",
       "      <td>1792992</td>\n",
       "      <td>22881</td>\n",
       "      <td>[]</td>\n",
       "    </tr>\n",
       "    <tr>\n",
       "      <th>307542</th>\n",
       "      <td>4169763</td>\n",
       "      <td>WARNING</td>\n",
       "      <td>2022-04-15 05:55:34.515</td>\n",
       "      <td>36192.322612</td>\n",
       "      <td>100000</td>\n",
       "      <td>[]</td>\n",
       "      <td>Viktor</td>\n",
       "      <td>Operator</td>\n",
       "      <td>1792992</td>\n",
       "      <td>22881</td>\n",
       "      <td>[]</td>\n",
       "    </tr>\n",
       "  </tbody>\n",
       "</table>\n",
       "</div>"
      ],
      "text/plain": [
       "             id   status              created_at  varnishLevelsTargetvolume  \\\n",
       "307539  4169748  WARNING 2022-04-15 05:55:06.678               36192.322612   \n",
       "307540  4169749  WARNING 2022-04-15 05:55:06.829               36192.322612   \n",
       "307537  4169753  WARNING 2022-04-15 05:55:14.494               36192.322612   \n",
       "307541  4169758  WARNING 2022-04-15 05:55:24.503               36192.322612   \n",
       "307542  4169763  WARNING 2022-04-15 05:55:34.515               36192.322612   \n",
       "\n",
       "        varnishLevelsTotalvolume  \\\n",
       "307539                    100000   \n",
       "307540                    100000   \n",
       "307537                    100000   \n",
       "307541                    100000   \n",
       "307542                    100000   \n",
       "\n",
       "                                                   events operators_name  \\\n",
       "307539                                                 []         Viktor   \n",
       "307540  [{\"source\": \"PLC\", \"message\": \" JV-Ti non prêt...         Viktor   \n",
       "307537                                                 []         Viktor   \n",
       "307541                                                 []         Viktor   \n",
       "307542                                                 []         Viktor   \n",
       "\n",
       "       operators_level  VarnishPrinter_3DVarnishCounter  \\\n",
       "307539        Operator                          1792992   \n",
       "307540        Operator                          1792992   \n",
       "307537        Operator                          1792992   \n",
       "307541        Operator                          1792992   \n",
       "307542        Operator                          1792992   \n",
       "\n",
       "        iFoil_TotalPagesCounter events_id  \n",
       "307539                    22881        []  \n",
       "307540                    22881     [391]  \n",
       "307537                    22881        []  \n",
       "307541                    22881        []  \n",
       "307542                    22881        []  "
      ]
     },
     "execution_count": 53,
     "metadata": {},
     "output_type": "execute_result"
    }
   ],
   "source": [
    "temp_df.head(5)"
   ]
  },
  {
   "cell_type": "code",
   "execution_count": 54,
   "metadata": {},
   "outputs": [],
   "source": [
    "def plot_timeseries(dataframe) :\n",
    "    dataframe.plot(figsize=(15, 6))\n",
    "    plt.savefig('../data/metrics/img/metrics_df.png')\n",
    "    plt.show()"
   ]
  },
  {
   "cell_type": "code",
   "execution_count": 58,
   "metadata": {},
   "outputs": [
    {
     "data": {
      "text/html": [
       "<div>\n",
       "<style scoped>\n",
       "    .dataframe tbody tr th:only-of-type {\n",
       "        vertical-align: middle;\n",
       "    }\n",
       "\n",
       "    .dataframe tbody tr th {\n",
       "        vertical-align: top;\n",
       "    }\n",
       "\n",
       "    .dataframe thead th {\n",
       "        text-align: right;\n",
       "    }\n",
       "</style>\n",
       "<table border=\"1\" class=\"dataframe\">\n",
       "  <thead>\n",
       "    <tr style=\"text-align: right;\">\n",
       "      <th></th>\n",
       "      <th>varnishLevelsTargetvolume</th>\n",
       "      <th>varnishLevelsTotalvolume</th>\n",
       "      <th>VarnishPrinter_3DVarnishCounter</th>\n",
       "      <th>iFoil_TotalPagesCounter</th>\n",
       "    </tr>\n",
       "    <tr>\n",
       "      <th>created_at</th>\n",
       "      <th></th>\n",
       "      <th></th>\n",
       "      <th></th>\n",
       "      <th></th>\n",
       "    </tr>\n",
       "  </thead>\n",
       "  <tbody>\n",
       "    <tr>\n",
       "      <th>2022-04-15 05:55:06.678</th>\n",
       "      <td>0.361923</td>\n",
       "      <td>1.0</td>\n",
       "      <td>0.703951</td>\n",
       "      <td>0.349142</td>\n",
       "    </tr>\n",
       "    <tr>\n",
       "      <th>2022-04-15 05:55:06.829</th>\n",
       "      <td>0.361923</td>\n",
       "      <td>1.0</td>\n",
       "      <td>0.703951</td>\n",
       "      <td>0.349142</td>\n",
       "    </tr>\n",
       "    <tr>\n",
       "      <th>2022-04-15 05:55:14.494</th>\n",
       "      <td>0.361923</td>\n",
       "      <td>1.0</td>\n",
       "      <td>0.703951</td>\n",
       "      <td>0.349142</td>\n",
       "    </tr>\n",
       "    <tr>\n",
       "      <th>2022-04-15 05:55:24.503</th>\n",
       "      <td>0.361923</td>\n",
       "      <td>1.0</td>\n",
       "      <td>0.703951</td>\n",
       "      <td>0.349142</td>\n",
       "    </tr>\n",
       "    <tr>\n",
       "      <th>2022-04-15 05:55:34.515</th>\n",
       "      <td>0.361923</td>\n",
       "      <td>1.0</td>\n",
       "      <td>0.703951</td>\n",
       "      <td>0.349142</td>\n",
       "    </tr>\n",
       "    <tr>\n",
       "      <th>...</th>\n",
       "      <td>...</td>\n",
       "      <td>...</td>\n",
       "      <td>...</td>\n",
       "      <td>...</td>\n",
       "    </tr>\n",
       "    <tr>\n",
       "      <th>2022-12-12 08:20:57.846</th>\n",
       "      <td>0.890027</td>\n",
       "      <td>1.0</td>\n",
       "      <td>1.000000</td>\n",
       "      <td>0.845136</td>\n",
       "    </tr>\n",
       "    <tr>\n",
       "      <th>2022-12-12 08:21:08.067</th>\n",
       "      <td>0.889990</td>\n",
       "      <td>1.0</td>\n",
       "      <td>1.000000</td>\n",
       "      <td>0.845151</td>\n",
       "    </tr>\n",
       "    <tr>\n",
       "      <th>2022-12-12 08:21:18.076</th>\n",
       "      <td>0.889990</td>\n",
       "      <td>1.0</td>\n",
       "      <td>1.000000</td>\n",
       "      <td>0.845151</td>\n",
       "    </tr>\n",
       "    <tr>\n",
       "      <th>2022-12-12 08:21:28.092</th>\n",
       "      <td>0.889990</td>\n",
       "      <td>1.0</td>\n",
       "      <td>1.000000</td>\n",
       "      <td>0.845151</td>\n",
       "    </tr>\n",
       "    <tr>\n",
       "      <th>2022-12-12 08:21:38.102</th>\n",
       "      <td>0.889990</td>\n",
       "      <td>1.0</td>\n",
       "      <td>1.000000</td>\n",
       "      <td>0.845151</td>\n",
       "    </tr>\n",
       "  </tbody>\n",
       "</table>\n",
       "<p>1164430 rows × 4 columns</p>\n",
       "</div>"
      ],
      "text/plain": [
       "                         varnishLevelsTargetvolume  varnishLevelsTotalvolume  \\\n",
       "created_at                                                                     \n",
       "2022-04-15 05:55:06.678                   0.361923                       1.0   \n",
       "2022-04-15 05:55:06.829                   0.361923                       1.0   \n",
       "2022-04-15 05:55:14.494                   0.361923                       1.0   \n",
       "2022-04-15 05:55:24.503                   0.361923                       1.0   \n",
       "2022-04-15 05:55:34.515                   0.361923                       1.0   \n",
       "...                                            ...                       ...   \n",
       "2022-12-12 08:20:57.846                   0.890027                       1.0   \n",
       "2022-12-12 08:21:08.067                   0.889990                       1.0   \n",
       "2022-12-12 08:21:18.076                   0.889990                       1.0   \n",
       "2022-12-12 08:21:28.092                   0.889990                       1.0   \n",
       "2022-12-12 08:21:38.102                   0.889990                       1.0   \n",
       "\n",
       "                         VarnishPrinter_3DVarnishCounter  \\\n",
       "created_at                                                 \n",
       "2022-04-15 05:55:06.678                         0.703951   \n",
       "2022-04-15 05:55:06.829                         0.703951   \n",
       "2022-04-15 05:55:14.494                         0.703951   \n",
       "2022-04-15 05:55:24.503                         0.703951   \n",
       "2022-04-15 05:55:34.515                         0.703951   \n",
       "...                                                  ...   \n",
       "2022-12-12 08:20:57.846                         1.000000   \n",
       "2022-12-12 08:21:08.067                         1.000000   \n",
       "2022-12-12 08:21:18.076                         1.000000   \n",
       "2022-12-12 08:21:28.092                         1.000000   \n",
       "2022-12-12 08:21:38.102                         1.000000   \n",
       "\n",
       "                         iFoil_TotalPagesCounter  \n",
       "created_at                                        \n",
       "2022-04-15 05:55:06.678                 0.349142  \n",
       "2022-04-15 05:55:06.829                 0.349142  \n",
       "2022-04-15 05:55:14.494                 0.349142  \n",
       "2022-04-15 05:55:24.503                 0.349142  \n",
       "2022-04-15 05:55:34.515                 0.349142  \n",
       "...                                          ...  \n",
       "2022-12-12 08:20:57.846                 0.845136  \n",
       "2022-12-12 08:21:08.067                 0.845151  \n",
       "2022-12-12 08:21:18.076                 0.845151  \n",
       "2022-12-12 08:21:28.092                 0.845151  \n",
       "2022-12-12 08:21:38.102                 0.845151  \n",
       "\n",
       "[1164430 rows x 4 columns]"
      ]
     },
     "metadata": {},
     "output_type": "display_data"
    }
   ],
   "source": [
    "# creation d'une copie du dataframe avec normalisation\n",
    "# copy the data\n",
    "df_max_scaled = temp_df[['created_at','varnishLevelsTargetvolume','varnishLevelsTotalvolume','VarnishPrinter_3DVarnishCounter','iFoil_TotalPagesCounter']].copy(deep=True)\n",
    "df_max_scaled.index = df_max_scaled['created_at']\n",
    "del df_max_scaled['created_at']\n",
    "# apply normalization techniques\n",
    "for column in df_max_scaled.columns:\n",
    "    df_max_scaled[column] = df_max_scaled[column]  / df_max_scaled[column].abs().max()\n",
    "      \n",
    "# view normalized data\n",
    "display(df_max_scaled)"
   ]
  },
  {
   "cell_type": "code",
   "execution_count": 59,
   "metadata": {},
   "outputs": [
    {
     "data": {
      "image/png": "[encoded data removed]",
      "text/plain": [
       "<Figure size 1500x600 with 1 Axes>"
      ]
     },
     "metadata": {},
     "output_type": "display_data"
    }
   ],
   "source": [
    "plot_timeseries(df_max_scaled)"
   ]
  }
 ],
 "metadata": {
  "kernelspec": {
   "display_name": ".venv",
   "language": "python",
   "name": "python3"
  },
  "language_info": {
   "codemirror_mode": {
    "name": "ipython",
    "version": 3
   },
   "file_extension": ".py",
   "mimetype": "text/x-python",
   "name": "python",
   "nbconvert_exporter": "python",
   "pygments_lexer": "ipython3",
   "version": "3.10.4"
  },
  "orig_nbformat": 4
 },
 "nbformat": 4,
 "nbformat_minor": 2
}
