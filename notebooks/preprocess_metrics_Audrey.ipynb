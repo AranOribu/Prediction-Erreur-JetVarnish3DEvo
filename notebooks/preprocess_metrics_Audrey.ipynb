{
 "cells": [
  {
   "attachments": {},
   "cell_type": "markdown",
   "metadata": {},
   "source": [
    "# Notebook exploration données : metrics"
   ]
  },
  {
   "attachments": {},
   "cell_type": "markdown",
   "metadata": {},
   "source": [
    "Ce notebook génère 2 fichiers csv \n",
    "\n",
    "- complet avec les données métrics nettoyées et les colonnes json fractionnées,\n",
    "\n",
    "- partiel avec les données métrics et ne conservant que les id des events."
   ]
  },
  {
   "attachments": {},
   "cell_type": "markdown",
   "metadata": {},
   "source": [
    "## Imports"
   ]
  },
  {
   "cell_type": "code",
   "execution_count": 1,
   "metadata": {},
   "outputs": [],
   "source": [
    "import os, json\n",
    "import pandas as pd\n",
    "import numpy as np\n",
    "\n",
    "from azure_blob import download_blob_file\n",
    "from preprocess_functions import convert_str_to_list, get_keys, add_key_column, convert_str_to_int_list\n",
    "\n",
    "import matplotlib.pyplot as plt\n",
    "from datetime import datetime"
   ]
  },
  {
   "attachments": {},
   "cell_type": "markdown",
   "metadata": {},
   "source": [
    "### Data"
   ]
  },
  {
   "cell_type": "code",
   "execution_count": 2,
   "metadata": {},
   "outputs": [],
   "source": [
    "filename = 'metrics.csv'\n",
    "path = '../data/'"
   ]
  },
  {
   "cell_type": "code",
   "execution_count": 3,
   "metadata": {},
   "outputs": [
    {
     "name": "stdout",
     "output_type": "stream",
     "text": [
      "metrics.csv already in path ../data/.\n"
     ]
    }
   ],
   "source": [
    "# téléchargement dans le repertoire 'data' d'un fichiers 'csv' depuis le blob\n",
    "download_blob_file(file_name=filename, local_path=path)\n",
    "metrics = os.path.join(path, filename)"
   ]
  },
  {
   "cell_type": "code",
   "execution_count": 4,
   "metadata": {},
   "outputs": [
    {
     "name": "stdout",
     "output_type": "stream",
     "text": [
      "<class 'pandas.core.frame.DataFrame'>\n",
      "Int64Index: 1164430 entries, 307539 to 1164429\n",
      "Data columns (total 17 columns):\n",
      " #   Column                     Non-Null Count    Dtype  \n",
      "---  ------                     --------------    -----  \n",
      " 0   id                         1164430 non-null  int64  \n",
      " 1   status                     1164430 non-null  object \n",
      " 2   created_at                 1164430 non-null  object \n",
      " 3   cyan_capacity              0 non-null        float64\n",
      " 4   cyan_remaining             0 non-null        float64\n",
      " 5   magenta_capacity           0 non-null        float64\n",
      " 6   magenta_remaining          0 non-null        float64\n",
      " 7   yellow_capacity            0 non-null        float64\n",
      " 8   yellow_remaining           0 non-null        float64\n",
      " 9   black_capacity             0 non-null        float64\n",
      " 10  black_remaining            0 non-null        float64\n",
      " 11  machineId                  1164430 non-null  int64  \n",
      " 12  connected_operators        1164430 non-null  object \n",
      " 13  varnishLevelsTargetvolume  1164430 non-null  float64\n",
      " 14  varnishLevelsTotalvolume   1164430 non-null  int64  \n",
      " 15  modules                    1164430 non-null  object \n",
      " 16  events                     1164430 non-null  object \n",
      "dtypes: float64(9), int64(3), object(5)\n",
      "memory usage: 159.9+ MB\n"
     ]
    }
   ],
   "source": [
    "# création d'un dataframe à partir du csv de données\n",
    "metrics_df = pd.read_csv(metrics).sort_values(by='created_at')\n",
    "metrics_df.info()"
   ]
  },
  {
   "cell_type": "code",
   "execution_count": 5,
   "metadata": {},
   "outputs": [],
   "source": [
    "metrics_df.dropna(axis=1, inplace=True)\n",
    "metrics_df.drop('machineId', axis=1, inplace=True)\n",
    "# metrics_df.set_index('id')"
   ]
  },
  {
   "cell_type": "code",
   "execution_count": 6,
   "metadata": {},
   "outputs": [
    {
     "name": "stdout",
     "output_type": "stream",
     "text": [
      "<class 'pandas.core.frame.DataFrame'>\n",
      "Int64Index: 1164430 entries, 307539 to 1164429\n",
      "Data columns (total 8 columns):\n",
      " #   Column                     Non-Null Count    Dtype  \n",
      "---  ------                     --------------    -----  \n",
      " 0   id                         1164430 non-null  int64  \n",
      " 1   status                     1164430 non-null  object \n",
      " 2   created_at                 1164430 non-null  object \n",
      " 3   connected_operators        1164430 non-null  object \n",
      " 4   varnishLevelsTargetvolume  1164430 non-null  float64\n",
      " 5   varnishLevelsTotalvolume   1164430 non-null  int64  \n",
      " 6   modules                    1164430 non-null  object \n",
      " 7   events                     1164430 non-null  object \n",
      "dtypes: float64(1), int64(2), object(5)\n",
      "memory usage: 80.0+ MB\n"
     ]
    }
   ],
   "source": [
    "metrics_df.info()"
   ]
  },
  {
   "cell_type": "code",
   "execution_count": 7,
   "metadata": {},
   "outputs": [
    {
     "data": {
      "text/html": [
       "<div>\n",
       "<style scoped>\n",
       "    .dataframe tbody tr th:only-of-type {\n",
       "        vertical-align: middle;\n",
       "    }\n",
       "\n",
       "    .dataframe tbody tr th {\n",
       "        vertical-align: top;\n",
       "    }\n",
       "\n",
       "    .dataframe thead th {\n",
       "        text-align: right;\n",
       "    }\n",
       "</style>\n",
       "<table border=\"1\" class=\"dataframe\">\n",
       "  <thead>\n",
       "    <tr style=\"text-align: right;\">\n",
       "      <th></th>\n",
       "      <th>id</th>\n",
       "      <th>status</th>\n",
       "      <th>created_at</th>\n",
       "      <th>connected_operators</th>\n",
       "      <th>varnishLevelsTargetvolume</th>\n",
       "      <th>varnishLevelsTotalvolume</th>\n",
       "      <th>modules</th>\n",
       "      <th>events</th>\n",
       "    </tr>\n",
       "  </thead>\n",
       "  <tbody>\n",
       "    <tr>\n",
       "      <th>307539</th>\n",
       "      <td>4169748</td>\n",
       "      <td>WARNING</td>\n",
       "      <td>2022-04-15 05:55:06.678000</td>\n",
       "      <td>[{\"name\": \"Viktor\", \"level\": \"Operator\"}]</td>\n",
       "      <td>36192.322612</td>\n",
       "      <td>100000</td>\n",
       "      <td>[{\"sn\": \"\", \"name\": \"Print Engine 1\", \"type\": ...</td>\n",
       "      <td>[]</td>\n",
       "    </tr>\n",
       "    <tr>\n",
       "      <th>307540</th>\n",
       "      <td>4169749</td>\n",
       "      <td>WARNING</td>\n",
       "      <td>2022-04-15 05:55:06.829000</td>\n",
       "      <td>[{\"name\": \"Viktor\", \"level\": \"Operator\"}]</td>\n",
       "      <td>36192.322612</td>\n",
       "      <td>100000</td>\n",
       "      <td>[{\"sn\": \"\", \"name\": \"Print Engine 1\", \"type\": ...</td>\n",
       "      <td>[{\"source\": \"PLC\", \"message\": \" JV-Ti non prêt...</td>\n",
       "    </tr>\n",
       "    <tr>\n",
       "      <th>307537</th>\n",
       "      <td>4169753</td>\n",
       "      <td>WARNING</td>\n",
       "      <td>2022-04-15 05:55:14.494000</td>\n",
       "      <td>[{\"name\": \"Viktor\", \"level\": \"Operator\"}]</td>\n",
       "      <td>36192.322612</td>\n",
       "      <td>100000</td>\n",
       "      <td>[{\"sn\": \"\", \"name\": \"Print Engine 1\", \"type\": ...</td>\n",
       "      <td>[]</td>\n",
       "    </tr>\n",
       "  </tbody>\n",
       "</table>\n",
       "</div>"
      ],
      "text/plain": [
       "             id   status                  created_at  \\\n",
       "307539  4169748  WARNING  2022-04-15 05:55:06.678000   \n",
       "307540  4169749  WARNING  2022-04-15 05:55:06.829000   \n",
       "307537  4169753  WARNING  2022-04-15 05:55:14.494000   \n",
       "\n",
       "                              connected_operators  varnishLevelsTargetvolume  \\\n",
       "307539  [{\"name\": \"Viktor\", \"level\": \"Operator\"}]               36192.322612   \n",
       "307540  [{\"name\": \"Viktor\", \"level\": \"Operator\"}]               36192.322612   \n",
       "307537  [{\"name\": \"Viktor\", \"level\": \"Operator\"}]               36192.322612   \n",
       "\n",
       "        varnishLevelsTotalvolume  \\\n",
       "307539                    100000   \n",
       "307540                    100000   \n",
       "307537                    100000   \n",
       "\n",
       "                                                  modules  \\\n",
       "307539  [{\"sn\": \"\", \"name\": \"Print Engine 1\", \"type\": ...   \n",
       "307540  [{\"sn\": \"\", \"name\": \"Print Engine 1\", \"type\": ...   \n",
       "307537  [{\"sn\": \"\", \"name\": \"Print Engine 1\", \"type\": ...   \n",
       "\n",
       "                                                   events  \n",
       "307539                                                 []  \n",
       "307540  [{\"source\": \"PLC\", \"message\": \" JV-Ti non prêt...  \n",
       "307537                                                 []  "
      ]
     },
     "execution_count": 7,
     "metadata": {},
     "output_type": "execute_result"
    }
   ],
   "source": [
    "metrics_df.head(3)"
   ]
  },
  {
   "attachments": {},
   "cell_type": "markdown",
   "metadata": {},
   "source": [
    "## Dataframes"
   ]
  },
  {
   "attachments": {},
   "cell_type": "markdown",
   "metadata": {},
   "source": [
    "### Column \"connected_operators\""
   ]
  },
  {
   "cell_type": "code",
   "execution_count": 8,
   "metadata": {},
   "outputs": [],
   "source": [
    "#metrics_df.connected_operators = metrics_df.connected_operators.apply(lambda x :json.loads(x)[0])\n",
    "connected_operators_df = convert_str_to_list(metrics_df.connected_operators)"
   ]
  },
  {
   "cell_type": "code",
   "execution_count": 9,
   "metadata": {},
   "outputs": [],
   "source": [
    "# on récupère les clés du dictionnaire dans la première ligne du dataset 'loc.[0]' dans la première case de la liste '[0]'\n",
    "connected_operators_keys = get_keys(connected_operators_df.connected_operators.loc[0][0])"
   ]
  },
  {
   "cell_type": "code",
   "execution_count": 10,
   "metadata": {},
   "outputs": [],
   "source": [
    "# on ajoute des colonnes pour chaque clés\n",
    "for key in connected_operators_keys:\n",
    "    connected_operators_df = add_key_column(connected_operators_df, 'connected_operators', connected_operators_keys,0)"
   ]
  },
  {
   "cell_type": "code",
   "execution_count": 11,
   "metadata": {},
   "outputs": [],
   "source": [
    "# on supprime la colonne d'origine\n",
    "connected_operators_df.drop('connected_operators', axis='columns', inplace=True)"
   ]
  },
  {
   "cell_type": "code",
   "execution_count": 12,
   "metadata": {},
   "outputs": [],
   "source": [
    "connected_operators_df.rename(\n",
    "    columns={\n",
    "    'connected_operators_name_0': 'operators_name',\n",
    "    'connected_operators_level_0': 'operators_level'\n",
    "    }, \n",
    "    inplace=True)"
   ]
  },
  {
   "cell_type": "code",
   "execution_count": 13,
   "metadata": {},
   "outputs": [
    {
     "data": {
      "text/html": [
       "<div>\n",
       "<style scoped>\n",
       "    .dataframe tbody tr th:only-of-type {\n",
       "        vertical-align: middle;\n",
       "    }\n",
       "\n",
       "    .dataframe tbody tr th {\n",
       "        vertical-align: top;\n",
       "    }\n",
       "\n",
       "    .dataframe thead th {\n",
       "        text-align: right;\n",
       "    }\n",
       "</style>\n",
       "<table border=\"1\" class=\"dataframe\">\n",
       "  <thead>\n",
       "    <tr style=\"text-align: right;\">\n",
       "      <th></th>\n",
       "      <th>operators_name</th>\n",
       "      <th>operators_level</th>\n",
       "    </tr>\n",
       "  </thead>\n",
       "  <tbody>\n",
       "    <tr>\n",
       "      <th>307539</th>\n",
       "      <td>Viktor</td>\n",
       "      <td>Operator</td>\n",
       "    </tr>\n",
       "    <tr>\n",
       "      <th>307540</th>\n",
       "      <td>Viktor</td>\n",
       "      <td>Operator</td>\n",
       "    </tr>\n",
       "    <tr>\n",
       "      <th>307537</th>\n",
       "      <td>Viktor</td>\n",
       "      <td>Operator</td>\n",
       "    </tr>\n",
       "  </tbody>\n",
       "</table>\n",
       "</div>"
      ],
      "text/plain": [
       "       operators_name operators_level\n",
       "307539         Viktor        Operator\n",
       "307540         Viktor        Operator\n",
       "307537         Viktor        Operator"
      ]
     },
     "execution_count": 13,
     "metadata": {},
     "output_type": "execute_result"
    }
   ],
   "source": [
    "connected_operators_df.head(3)"
   ]
  },
  {
   "attachments": {},
   "cell_type": "markdown",
   "metadata": {},
   "source": [
    "### Column \"modules\""
   ]
  },
  {
   "cell_type": "code",
   "execution_count": 14,
   "metadata": {},
   "outputs": [],
   "source": [
    "modules_df = convert_str_to_list(metrics_df.modules)"
   ]
  },
  {
   "cell_type": "code",
   "execution_count": 15,
   "metadata": {},
   "outputs": [],
   "source": [
    "modules_keys = get_keys(modules_df.modules.loc[0][0])"
   ]
  },
  {
   "cell_type": "code",
   "execution_count": 16,
   "metadata": {},
   "outputs": [],
   "source": [
    "for key in modules_keys:\n",
    "    modules_df = add_key_column(modules_df, 'modules', modules_keys,0)\n",
    "for key in modules_keys:\n",
    "    modules_df = add_key_column(modules_df, 'modules', modules_keys,1)"
   ]
  },
  {
   "cell_type": "code",
   "execution_count": 17,
   "metadata": {},
   "outputs": [
    {
     "data": {
      "text/html": [
       "<div>\n",
       "<style scoped>\n",
       "    .dataframe tbody tr th:only-of-type {\n",
       "        vertical-align: middle;\n",
       "    }\n",
       "\n",
       "    .dataframe tbody tr th {\n",
       "        vertical-align: top;\n",
       "    }\n",
       "\n",
       "    .dataframe thead th {\n",
       "        text-align: right;\n",
       "    }\n",
       "</style>\n",
       "<table border=\"1\" class=\"dataframe\">\n",
       "  <thead>\n",
       "    <tr style=\"text-align: right;\">\n",
       "      <th></th>\n",
       "      <th>modules</th>\n",
       "      <th>modules_sn_0</th>\n",
       "      <th>modules_name_0</th>\n",
       "      <th>modules_type_0</th>\n",
       "      <th>modules_counters_0</th>\n",
       "      <th>modules_generation_0</th>\n",
       "      <th>modules_sn_1</th>\n",
       "      <th>modules_name_1</th>\n",
       "      <th>modules_type_1</th>\n",
       "      <th>modules_counters_1</th>\n",
       "      <th>modules_generation_1</th>\n",
       "    </tr>\n",
       "  </thead>\n",
       "  <tbody>\n",
       "    <tr>\n",
       "      <th>307539</th>\n",
       "      <td>[{'sn': '', 'name': 'Print Engine 1', 'type': ...</td>\n",
       "      <td></td>\n",
       "      <td>Print Engine 1</td>\n",
       "      <td>Varnish Printer</td>\n",
       "      <td>[{'name': '3D Varnish Counter', 'value': 17929...</td>\n",
       "      <td></td>\n",
       "      <td></td>\n",
       "      <td>iFoil L</td>\n",
       "      <td>iFoil</td>\n",
       "      <td>[{'name': 'Total Pages Counter', 'value': 2288...</td>\n",
       "      <td>Gen. 2</td>\n",
       "    </tr>\n",
       "    <tr>\n",
       "      <th>307540</th>\n",
       "      <td>[{'sn': '', 'name': 'Print Engine 1', 'type': ...</td>\n",
       "      <td></td>\n",
       "      <td>Print Engine 1</td>\n",
       "      <td>Varnish Printer</td>\n",
       "      <td>[{'name': '3D Varnish Counter', 'value': 17929...</td>\n",
       "      <td></td>\n",
       "      <td></td>\n",
       "      <td>iFoil L</td>\n",
       "      <td>iFoil</td>\n",
       "      <td>[{'name': 'Total Pages Counter', 'value': 2288...</td>\n",
       "      <td>Gen. 2</td>\n",
       "    </tr>\n",
       "    <tr>\n",
       "      <th>307537</th>\n",
       "      <td>[{'sn': '', 'name': 'Print Engine 1', 'type': ...</td>\n",
       "      <td></td>\n",
       "      <td>Print Engine 1</td>\n",
       "      <td>Varnish Printer</td>\n",
       "      <td>[{'name': '3D Varnish Counter', 'value': 17929...</td>\n",
       "      <td></td>\n",
       "      <td></td>\n",
       "      <td>iFoil L</td>\n",
       "      <td>iFoil</td>\n",
       "      <td>[{'name': 'Total Pages Counter', 'value': 2288...</td>\n",
       "      <td>Gen. 2</td>\n",
       "    </tr>\n",
       "  </tbody>\n",
       "</table>\n",
       "</div>"
      ],
      "text/plain": [
       "                                                  modules modules_sn_0  \\\n",
       "307539  [{'sn': '', 'name': 'Print Engine 1', 'type': ...                \n",
       "307540  [{'sn': '', 'name': 'Print Engine 1', 'type': ...                \n",
       "307537  [{'sn': '', 'name': 'Print Engine 1', 'type': ...                \n",
       "\n",
       "        modules_name_0   modules_type_0  \\\n",
       "307539  Print Engine 1  Varnish Printer   \n",
       "307540  Print Engine 1  Varnish Printer   \n",
       "307537  Print Engine 1  Varnish Printer   \n",
       "\n",
       "                                       modules_counters_0  \\\n",
       "307539  [{'name': '3D Varnish Counter', 'value': 17929...   \n",
       "307540  [{'name': '3D Varnish Counter', 'value': 17929...   \n",
       "307537  [{'name': '3D Varnish Counter', 'value': 17929...   \n",
       "\n",
       "       modules_generation_0 modules_sn_1 modules_name_1 modules_type_1  \\\n",
       "307539                                          iFoil L          iFoil   \n",
       "307540                                          iFoil L          iFoil   \n",
       "307537                                          iFoil L          iFoil   \n",
       "\n",
       "                                       modules_counters_1 modules_generation_1  \n",
       "307539  [{'name': 'Total Pages Counter', 'value': 2288...               Gen. 2  \n",
       "307540  [{'name': 'Total Pages Counter', 'value': 2288...               Gen. 2  \n",
       "307537  [{'name': 'Total Pages Counter', 'value': 2288...               Gen. 2  "
      ]
     },
     "execution_count": 17,
     "metadata": {},
     "output_type": "execute_result"
    }
   ],
   "source": [
    "modules_df.head(3)"
   ]
  },
  {
   "cell_type": "code",
   "execution_count": 18,
   "metadata": {},
   "outputs": [],
   "source": [
    "modules_df.drop('modules', axis='columns', inplace=True)"
   ]
  },
  {
   "cell_type": "code",
   "execution_count": 19,
   "metadata": {},
   "outputs": [
    {
     "name": "stdout",
     "output_type": "stream",
     "text": [
      "<class 'pandas.core.frame.DataFrame'>\n",
      "Int64Index: 1164430 entries, 307539 to 1164429\n",
      "Data columns (total 10 columns):\n",
      " #   Column                Non-Null Count    Dtype \n",
      "---  ------                --------------    ----- \n",
      " 0   modules_sn_0          1164430 non-null  object\n",
      " 1   modules_name_0        1164430 non-null  object\n",
      " 2   modules_type_0        1164430 non-null  object\n",
      " 3   modules_counters_0    1164430 non-null  object\n",
      " 4   modules_generation_0  1164430 non-null  object\n",
      " 5   modules_sn_1          1164430 non-null  object\n",
      " 6   modules_name_1        1164430 non-null  object\n",
      " 7   modules_type_1        1164430 non-null  object\n",
      " 8   modules_counters_1    1164430 non-null  object\n",
      " 9   modules_generation_1  1164430 non-null  object\n",
      "dtypes: object(10)\n",
      "memory usage: 130.0+ MB\n"
     ]
    }
   ],
   "source": [
    "modules_df.info()"
   ]
  },
  {
   "attachments": {},
   "cell_type": "markdown",
   "metadata": {},
   "source": [
    "#### Column \"modules counters\""
   ]
  },
  {
   "cell_type": "code",
   "execution_count": 20,
   "metadata": {},
   "outputs": [],
   "source": [
    "modules_counters_keys = get_keys(modules_df.modules_counters_0.loc[0][0])"
   ]
  },
  {
   "cell_type": "code",
   "execution_count": 21,
   "metadata": {},
   "outputs": [],
   "source": [
    "for key in modules_counters_keys:\n",
    "    modules_df = add_key_column(modules_df, 'modules_counters_0', modules_counters_keys,0)\n",
    "for key in modules_counters_keys:\n",
    "    modules_df = add_key_column(modules_df, 'modules_counters_1', modules_counters_keys,0)"
   ]
  },
  {
   "cell_type": "code",
   "execution_count": 22,
   "metadata": {},
   "outputs": [],
   "source": [
    "modules_df.drop(['modules_counters_0', 'modules_counters_1'], axis='columns', inplace=True)"
   ]
  },
  {
   "cell_type": "code",
   "execution_count": 23,
   "metadata": {},
   "outputs": [
    {
     "name": "stdout",
     "output_type": "stream",
     "text": [
      "<class 'pandas.core.frame.DataFrame'>\n",
      "Int64Index: 1164430 entries, 307539 to 1164429\n",
      "Data columns (total 12 columns):\n",
      " #   Column                      Non-Null Count    Dtype \n",
      "---  ------                      --------------    ----- \n",
      " 0   modules_sn_0                1164430 non-null  object\n",
      " 1   modules_name_0              1164430 non-null  object\n",
      " 2   modules_type_0              1164430 non-null  object\n",
      " 3   modules_generation_0        1164430 non-null  object\n",
      " 4   modules_sn_1                1164430 non-null  object\n",
      " 5   modules_name_1              1164430 non-null  object\n",
      " 6   modules_type_1              1164430 non-null  object\n",
      " 7   modules_generation_1        1164430 non-null  object\n",
      " 8   modules_counters_0_name_0   1164430 non-null  object\n",
      " 9   modules_counters_0_value_0  1164430 non-null  int64 \n",
      " 10  modules_counters_1_name_0   1164430 non-null  object\n",
      " 11  modules_counters_1_value_0  1164430 non-null  int64 \n",
      "dtypes: int64(2), object(10)\n",
      "memory usage: 147.7+ MB\n"
     ]
    }
   ],
   "source": [
    "modules_df.info()"
   ]
  },
  {
   "cell_type": "code",
   "execution_count": 24,
   "metadata": {},
   "outputs": [],
   "source": [
    "modules_df.dropna(axis='columns', how='any', inplace=True)"
   ]
  },
  {
   "cell_type": "code",
   "execution_count": 25,
   "metadata": {},
   "outputs": [
    {
     "name": "stdout",
     "output_type": "stream",
     "text": [
      "modules_sn_0 ['']\n",
      "modules_name_0 ['Print Engine 1']\n",
      "modules_type_0 ['Varnish Printer']\n",
      "modules_generation_0 ['']\n",
      "modules_sn_1 ['']\n",
      "modules_name_1 ['iFoil L']\n",
      "modules_type_1 ['iFoil']\n",
      "modules_generation_1 ['Gen. 2']\n",
      "modules_counters_0_name_0 ['3D Varnish Counter']\n",
      "modules_counters_0_value_0 nombre de valeurs unique : 294500\n",
      "modules_counters_1_name_0 ['Total Pages Counter']\n",
      "modules_counters_1_value_0 nombre de valeurs unique : 65342\n"
     ]
    }
   ],
   "source": [
    "for col in modules_df.columns :\n",
    "    if modules_df[col].nunique() > 1 :\n",
    "        print(col, 'nombre de valeurs unique : %d' % modules_df[col].nunique())\n",
    "    else :\n",
    "        print(col, modules_df[col].unique())"
   ]
  },
  {
   "cell_type": "code",
   "execution_count": 26,
   "metadata": {},
   "outputs": [],
   "source": [
    "columns_to_drop = []\n",
    "for col in modules_df.columns :\n",
    "    if modules_df[col].nunique() == 1 :\n",
    "        if modules_df[col].unique().item() != '':\n",
    "            columns_to_drop.append(col)\n",
    "        else :\n",
    "            modules_df.drop(columns=[col], axis='columns', inplace=True)"
   ]
  },
  {
   "cell_type": "code",
   "execution_count": 27,
   "metadata": {},
   "outputs": [],
   "source": [
    "modules_df.rename(columns={\n",
    "    'modules_counters_0_value_0': 'VarnishPrinter_3DVarnishCounter',\n",
    "    'modules_counters_1_value_0': 'iFoil_TotalPagesCounter'\n",
    "    }, inplace=True)\n",
    "modules_df.drop(columns=columns_to_drop, axis='columns', inplace=True)"
   ]
  },
  {
   "cell_type": "code",
   "execution_count": 28,
   "metadata": {},
   "outputs": [
    {
     "data": {
      "text/html": [
       "<div>\n",
       "<style scoped>\n",
       "    .dataframe tbody tr th:only-of-type {\n",
       "        vertical-align: middle;\n",
       "    }\n",
       "\n",
       "    .dataframe tbody tr th {\n",
       "        vertical-align: top;\n",
       "    }\n",
       "\n",
       "    .dataframe thead th {\n",
       "        text-align: right;\n",
       "    }\n",
       "</style>\n",
       "<table border=\"1\" class=\"dataframe\">\n",
       "  <thead>\n",
       "    <tr style=\"text-align: right;\">\n",
       "      <th></th>\n",
       "      <th>VarnishPrinter_3DVarnishCounter</th>\n",
       "      <th>iFoil_TotalPagesCounter</th>\n",
       "    </tr>\n",
       "  </thead>\n",
       "  <tbody>\n",
       "    <tr>\n",
       "      <th>307539</th>\n",
       "      <td>1792992</td>\n",
       "      <td>22881</td>\n",
       "    </tr>\n",
       "    <tr>\n",
       "      <th>307540</th>\n",
       "      <td>1792992</td>\n",
       "      <td>22881</td>\n",
       "    </tr>\n",
       "    <tr>\n",
       "      <th>307537</th>\n",
       "      <td>1792992</td>\n",
       "      <td>22881</td>\n",
       "    </tr>\n",
       "  </tbody>\n",
       "</table>\n",
       "</div>"
      ],
      "text/plain": [
       "        VarnishPrinter_3DVarnishCounter  iFoil_TotalPagesCounter\n",
       "307539                          1792992                    22881\n",
       "307540                          1792992                    22881\n",
       "307537                          1792992                    22881"
      ]
     },
     "execution_count": 28,
     "metadata": {},
     "output_type": "execute_result"
    }
   ],
   "source": [
    "modules_df.head(3)"
   ]
  },
  {
   "attachments": {},
   "cell_type": "markdown",
   "metadata": {},
   "source": [
    "### Column \"events\""
   ]
  },
  {
   "cell_type": "code",
   "execution_count": 29,
   "metadata": {},
   "outputs": [],
   "source": [
    "# conversion des valeurs \"events\" string en list\n",
    "events_df = convert_str_to_list(metrics_df.events)"
   ]
  },
  {
   "attachments": {},
   "cell_type": "markdown",
   "metadata": {},
   "source": [
    "#### Split events in dataframe"
   ]
  },
  {
   "cell_type": "code",
   "execution_count": 88,
   "metadata": {},
   "outputs": [],
   "source": [
    "# création d'un dataframe de la colonne events fractionnées\n",
    "import ast\n",
    "d = {'source': [],\n",
    "    'message': [],\n",
    "    'timestamp': [],\n",
    "    'criticality': [],\n",
    "    'identification': []}\n",
    "for values in events_df.events.values :\n",
    "    # pour chaque list non nulle\n",
    "    if len(values) > 0 :\n",
    "        # ajout des valeurs dans le dictionnaire 'd'\n",
    "        for event in values :\n",
    "            d['source'].append(event.get('source'))\n",
    "            d['message'].append(event.get('message'))\n",
    "            d['timestamp'].append(event.get('timestamp'))\n",
    "            d['criticality'].append(event.get('criticality'))\n",
    "            d['identification'].append(event.get('identification'))\n",
    "df =  pd.DataFrame(data=d)\n"
   ]
  },
  {
   "cell_type": "code",
   "execution_count": 31,
   "metadata": {},
   "outputs": [
    {
     "data": {
      "text/plain": [
       "array(['0', '2', '311', '313', '315', '320', '321', '322', '323', '324',\n",
       "       '325', '326', '327', '329', '330', '331', '332', '333', '334',\n",
       "       '343', '344', '345', '346', '349', '350', '351', '352', '354',\n",
       "       '355', '356', '357', '358', '359', '371', '372', '376', '377',\n",
       "       '380', '381', '384', '385', '386', '387', '388', '389', '391',\n",
       "       '405', '406', '407', '408', '411', '416', '417', '418', '419',\n",
       "       '430', '440', '444', '445', '446', '447', '453', '454', '460',\n",
       "       '466', '471', '472', '475', '476', '479', '480',\n",
       "       'ICB communication error', 'Kernel_Error',\n",
       "       'Pilot communication error', 'RCB communication error',\n",
       "       'iFoil communication error'], dtype=object)"
      ]
     },
     "execution_count": 31,
     "metadata": {},
     "output_type": "execute_result"
    }
   ],
   "source": [
    "# liste des codes d'identification\n",
    "identification_codes_list = df['identification'].unique()\n",
    "np.sort(identification_codes_list)"
   ]
  },
  {
   "cell_type": "code",
   "execution_count": 32,
   "metadata": {},
   "outputs": [
    {
     "data": {
      "text/plain": [
       "RangeIndex(start=0, stop=81361, step=1)"
      ]
     },
     "execution_count": 32,
     "metadata": {},
     "output_type": "execute_result"
    }
   ],
   "source": [
    "df.index"
   ]
  },
  {
   "cell_type": "code",
   "execution_count": 33,
   "metadata": {},
   "outputs": [
    {
     "data": {
      "text/plain": [
       "{'391': ' JV-Ti non prêt : impression impossible',\n",
       " '330': ' En attente',\n",
       " '332': ' Disponible',\n",
       " '377': ' Chargeur: mode auto non activé',\n",
       " '333': ' Plateau de têtes en mouvement',\n",
       " '334': ' Préchauffage',\n",
       " '331': ' Impression en cours',\n",
       " 'Kernel_Error': 'Cannot find enough search zones on the sheet (42,77%), please check your margins\\n',\n",
       " '315': ' Support lingette non installé',\n",
       " '417': ' Portes margeur ouvertes E-0417',\n",
       " '406': ' Purge en cours',\n",
       " '407': ' Essuyage en cours',\n",
       " '352': ' Double feuille détectée E-0352',\n",
       " '344': ' Manque papier',\n",
       " 'ICB communication error': 'A communication error has occured between RCB n° 1 and  ICB n°5',\n",
       " '376': ' Réception: mode auto non activé',\n",
       " '445': \" Erreur plaque d'empreintes E-0445\",\n",
       " '325': ' Erreur de com. tapis impression E-0325',\n",
       " '343': ' Nettoyage tapis en cours',\n",
       " '345': \" Consommable à 80% d'usure\",\n",
       " '358': ' Démarrage machine',\n",
       " '453': ' Erreur capteur lift palette C2 E-0453',\n",
       " '381': ' Capot après têtes ouvert E-0381',\n",
       " '354': ' Bourrage : module impression E-0354',\n",
       " '313': ' Ecart nb. feuilles demandées /nb. feuilles sorties',\n",
       " '447': ' Bidon de déchets plein',\n",
       " '454': ' Bourrage Corona - E0364',\n",
       " '387': ' Erreur positionnement plateau E-0387',\n",
       " '386': ' Erreur four UV E-0386',\n",
       " '372': ' Attente démarrage UV',\n",
       " '371': ' Démarrrage UV en cours',\n",
       " '323': \" Arrêt d'urgence feeder E-0323\",\n",
       " '480': \" Arrêt d'urgence stacker E-0480\",\n",
       " '311': ' Attente initialisation',\n",
       " '479': \" Arrêt d'urgence table de marge E-0479\",\n",
       " '351': ' Defaut carte moteur table marge E-0351',\n",
       " '440': ' Défaut remplissage réservoirs E-0440',\n",
       " '324': ' Consommable(s) expiré(s) E-0324',\n",
       " '321': \" Arrêt d'urgence impression E-0321\",\n",
       " '0': '',\n",
       " '349': ' Lampe UV 1000h de fonctionnement',\n",
       " 'RCB communication error': 'A communication error has occured between Network card  and  RCB n°1',\n",
       " '385': \" Absence d'air comprimée E-0385\",\n",
       " '357': ' Bourrage : sortie sécheur E-0357',\n",
       " '418': ' Erreur surcharge Corona E-0418',\n",
       " '446': ' Erreur moteur tapis impression E-0446',\n",
       " '355': ' Bourrage : module séchage IR E-0355',\n",
       " '389': ' Erreur cateurs verticaux plateau de têtes E-0389',\n",
       " '476': ' Défaut moteur Corona E-0476',\n",
       " '356': ' Bourrage : module séchage UV E-0356',\n",
       " 'iFoil communication error': 'A communication error has occured with the iFoil at192.168.187.10:502',\n",
       " '460': ' Défaut communication réception palette E-0460',\n",
       " '472': '.',\n",
       " '405': ' Utilisation déconseillée des IRs: vitesse basse E-0405',\n",
       " '380': ' Défaut communication sécheur E-0380',\n",
       " '388': ' Bidon de nettoyant vide E-0388',\n",
       " '408': ' Nettoyage en cours',\n",
       " '320': ' Porte avant ouverte E-0320',\n",
       " '329': ' Relais de securité AU désactivé E-329',\n",
       " '350': ' Attente extinction machine',\n",
       " '475': ' Défaut communication Corona E-0475',\n",
       " '466': ' Bidon de vernis vide E-466',\n",
       " '416': ' Erreur positionnement plateau E-0416',\n",
       " '411': ' Erreur moteur tapis sécheur E-0411',\n",
       " '346': ' Règles de marge en mouvement',\n",
       " '471': ' Défaut carte moteur feeder palette E-0471',\n",
       " '327': ' Défaut carte moteur sys. nett. E-0327',\n",
       " '430': ' Erreur système de dégazage E-0430',\n",
       " '444': ' Dépression trop faible E-0444',\n",
       " '2': '',\n",
       " '326': ' Erreur carte moteur plateau têtes E-326',\n",
       " '419': ' Capteur analogique débranché E-0419',\n",
       " 'Pilot communication error': 'A communication error has occured with the pilot at192.168.187.47:502',\n",
       " '359': ' Mauvais positionnement des cellules plateau de têtes E-0359',\n",
       " '322': \" Arret d'urgence sécheur E-0322\",\n",
       " '384': ' Capot sortie sécheur ouvert E-0384'}"
      ]
     },
     "execution_count": 33,
     "metadata": {},
     "output_type": "execute_result"
    }
   ],
   "source": [
    "# liste des évènements uniques\n",
    "identification_dict = {}\n",
    "c = 1\n",
    "id_list = []\n",
    "for i in range(df.index.start, df.index.stop):\n",
    "    id = df.identification.loc[i]\n",
    "    if id not in id_list:\n",
    "        id_list.append(id)\n",
    "        identification_dict[id] = df.message.loc[i]\n",
    "        c += 1\n",
    "identification_dict"
   ]
  },
  {
   "cell_type": "code",
   "execution_count": 34,
   "metadata": {},
   "outputs": [
    {
     "data": {
      "text/plain": [
       "array(['ICB n°1', 'ICB n°2', 'ICB n°4', 'ICB n°5', 'ICB n°6', 'ICB n°7',\n",
       "       'ICB n°8', 'Kernel', 'PLC', 'Pilot', 'RCB n°1', 'RCB n°2',\n",
       "       'RCB n°3', 'iFoil'], dtype=object)"
      ]
     },
     "execution_count": 34,
     "metadata": {},
     "output_type": "execute_result"
    }
   ],
   "source": [
    "# liste des sources\n",
    "source_list = df['source'].unique()\n",
    "np.sort(source_list)"
   ]
  },
  {
   "cell_type": "code",
   "execution_count": 35,
   "metadata": {},
   "outputs": [
    {
     "data": {
      "text/plain": [
       "array(['ERROR', 'INFO', 'WARNING'], dtype=object)"
      ]
     },
     "execution_count": 35,
     "metadata": {},
     "output_type": "execute_result"
    }
   ],
   "source": [
    "# liste des sources\n",
    "criticality_list = df['criticality'].unique()\n",
    "np.sort(criticality_list)"
   ]
  },
  {
   "cell_type": "code",
   "execution_count": 36,
   "metadata": {},
   "outputs": [],
   "source": [
    "# on sauvegarde la liste des codes d'identification d'event\n",
    "from pathlib import Path\n",
    "filepath = Path('../data/metrics/metrics_events_dict.json')\n",
    "with open(file=filepath, mode=\"r+\", encoding='utf-8') as jsonFile:\n",
    "    data = json.load(jsonFile)\n",
    "    data['identification'] = identification_dict\n",
    "    data['criticality'] = list(np.sort(criticality_list)),\n",
    "    data['source'] = list(np.sort(source_list))\n",
    "    jsonFile.seek(0)\n",
    "    json.dump(data, jsonFile, indent=4, ensure_ascii=False)\n",
    "    jsonFile.close()"
   ]
  },
  {
   "cell_type": "code",
   "execution_count": 37,
   "metadata": {},
   "outputs": [
    {
     "data": {
      "text/plain": [
       "[dict_keys(['source', 'message', 'timestamp', 'criticality', 'identification'])]"
      ]
     },
     "execution_count": 37,
     "metadata": {},
     "output_type": "execute_result"
    }
   ],
   "source": [
    "# on liste les clés d'un dictionnaire d'event\n",
    "events_keys = []\n",
    "for i in range(0, len(events_df)) :\n",
    "    if len(events_df.events.loc[i]) != 0 :\n",
    "        event_keys = events_df.events.loc[i][0].keys()\n",
    "        if event_keys not in events_keys :\n",
    "            events_keys.append(event_keys)\n",
    "# clés d'un dictionnaire d'event\n",
    "events_keys"
   ]
  },
  {
   "cell_type": "code",
   "execution_count": 38,
   "metadata": {},
   "outputs": [],
   "source": [
    "# création d'un dictionnaire d'event vide\n",
    "events_dict = {}\n",
    "for key in event_keys :\n",
    "    events_dict[key] = np.nan"
   ]
  },
  {
   "cell_type": "code",
   "execution_count": 39,
   "metadata": {},
   "outputs": [],
   "source": [
    "# ajout d'une colonne \"Length\" du nombre d'event pas ligne\n",
    "events_df['Length'] = events_df.events.map(len)"
   ]
  },
  {
   "cell_type": "code",
   "execution_count": 40,
   "metadata": {},
   "outputs": [
    {
     "data": {
      "text/html": [
       "<div>\n",
       "<style scoped>\n",
       "    .dataframe tbody tr th:only-of-type {\n",
       "        vertical-align: middle;\n",
       "    }\n",
       "\n",
       "    .dataframe tbody tr th {\n",
       "        vertical-align: top;\n",
       "    }\n",
       "\n",
       "    .dataframe thead th {\n",
       "        text-align: right;\n",
       "    }\n",
       "</style>\n",
       "<table border=\"1\" class=\"dataframe\">\n",
       "  <thead>\n",
       "    <tr style=\"text-align: right;\">\n",
       "      <th></th>\n",
       "      <th>events</th>\n",
       "      <th>Length</th>\n",
       "    </tr>\n",
       "  </thead>\n",
       "  <tbody>\n",
       "    <tr>\n",
       "      <th>307539</th>\n",
       "      <td>[]</td>\n",
       "      <td>0</td>\n",
       "    </tr>\n",
       "    <tr>\n",
       "      <th>307540</th>\n",
       "      <td>[{'source': 'PLC', 'message': ' JV-Ti non prêt...</td>\n",
       "      <td>1</td>\n",
       "    </tr>\n",
       "    <tr>\n",
       "      <th>307537</th>\n",
       "      <td>[]</td>\n",
       "      <td>0</td>\n",
       "    </tr>\n",
       "  </tbody>\n",
       "</table>\n",
       "</div>"
      ],
      "text/plain": [
       "                                                   events  Length\n",
       "307539                                                 []       0\n",
       "307540  [{'source': 'PLC', 'message': ' JV-Ti non prêt...       1\n",
       "307537                                                 []       0"
      ]
     },
     "execution_count": 40,
     "metadata": {},
     "output_type": "execute_result"
    }
   ],
   "source": [
    "events_df.head(3)"
   ]
  },
  {
   "cell_type": "code",
   "execution_count": 61,
   "metadata": {},
   "outputs": [
    {
     "data": {
      "text/html": [
       "<div>\n",
       "<style scoped>\n",
       "    .dataframe tbody tr th:only-of-type {\n",
       "        vertical-align: middle;\n",
       "    }\n",
       "\n",
       "    .dataframe tbody tr th {\n",
       "        vertical-align: top;\n",
       "    }\n",
       "\n",
       "    .dataframe thead th {\n",
       "        text-align: right;\n",
       "    }\n",
       "</style>\n",
       "<table border=\"1\" class=\"dataframe\">\n",
       "  <thead>\n",
       "    <tr style=\"text-align: right;\">\n",
       "      <th></th>\n",
       "      <th>0</th>\n",
       "      <th>1</th>\n",
       "      <th>2</th>\n",
       "      <th>3</th>\n",
       "      <th>4</th>\n",
       "      <th>5</th>\n",
       "      <th>6</th>\n",
       "      <th>7</th>\n",
       "      <th>8</th>\n",
       "      <th>9</th>\n",
       "      <th>10</th>\n",
       "      <th>11</th>\n",
       "    </tr>\n",
       "  </thead>\n",
       "  <tbody>\n",
       "    <tr>\n",
       "      <th>307539</th>\n",
       "      <td>None</td>\n",
       "      <td>None</td>\n",
       "      <td>None</td>\n",
       "      <td>None</td>\n",
       "      <td>None</td>\n",
       "      <td>None</td>\n",
       "      <td>None</td>\n",
       "      <td>None</td>\n",
       "      <td>None</td>\n",
       "      <td>None</td>\n",
       "      <td>None</td>\n",
       "      <td>None</td>\n",
       "    </tr>\n",
       "    <tr>\n",
       "      <th>307540</th>\n",
       "      <td>{'source': 'PLC', 'message': ' JV-Ti non prêt ...</td>\n",
       "      <td>None</td>\n",
       "      <td>None</td>\n",
       "      <td>None</td>\n",
       "      <td>None</td>\n",
       "      <td>None</td>\n",
       "      <td>None</td>\n",
       "      <td>None</td>\n",
       "      <td>None</td>\n",
       "      <td>None</td>\n",
       "      <td>None</td>\n",
       "      <td>None</td>\n",
       "    </tr>\n",
       "    <tr>\n",
       "      <th>307537</th>\n",
       "      <td>None</td>\n",
       "      <td>None</td>\n",
       "      <td>None</td>\n",
       "      <td>None</td>\n",
       "      <td>None</td>\n",
       "      <td>None</td>\n",
       "      <td>None</td>\n",
       "      <td>None</td>\n",
       "      <td>None</td>\n",
       "      <td>None</td>\n",
       "      <td>None</td>\n",
       "      <td>None</td>\n",
       "    </tr>\n",
       "  </tbody>\n",
       "</table>\n",
       "</div>"
      ],
      "text/plain": [
       "                                                       0     1     2     3   \\\n",
       "307539                                               None  None  None  None   \n",
       "307540  {'source': 'PLC', 'message': ' JV-Ti non prêt ...  None  None  None   \n",
       "307537                                               None  None  None  None   \n",
       "\n",
       "          4     5     6     7     8     9     10    11  \n",
       "307539  None  None  None  None  None  None  None  None  \n",
       "307540  None  None  None  None  None  None  None  None  \n",
       "307537  None  None  None  None  None  None  None  None  "
      ]
     },
     "execution_count": 61,
     "metadata": {},
     "output_type": "execute_result"
    }
   ],
   "source": [
    "# fractionnement des events\n",
    "events_split_df = pd.DataFrame(events_df.events.to_list(), dtype='object', index=events_df.index)\n",
    "events_split_df.head(3)"
   ]
  },
  {
   "cell_type": "code",
   "execution_count": null,
   "metadata": {},
   "outputs": [],
   "source": [
    "# remplacement des valeurs \"None\" par des dictionnaires \n",
    "for col in events_split_df.columns :\n",
    "    for i in range(0,len(events_split_df.iloc[:,col])):\n",
    "        if isinstance(events_split_df.loc[i][col], type(None)) :\n",
    "            events_split_df.loc[i][col] = events_dict"
   ]
  },
  {
   "cell_type": "code",
   "execution_count": null,
   "metadata": {},
   "outputs": [],
   "source": [
    "# renommage des colonnes du dataframe des events\n",
    "i = 0\n",
    "col_names = {}\n",
    "for col in range(events_split_df.columns.start, events_split_df.columns.stop):\n",
    "    col_names[col] = 'event_'+str(col)\n",
    "events_split_df.rename(columns=col_names, inplace=True)"
   ]
  },
  {
   "cell_type": "code",
   "execution_count": null,
   "metadata": {},
   "outputs": [],
   "source": [
    "# impression du dataframe events\n",
    "events_split_df.head(3)"
   ]
  },
  {
   "cell_type": "code",
   "execution_count": null,
   "metadata": {},
   "outputs": [],
   "source": [
    "events_split_df['event_0'].apply(pd.Series)"
   ]
  },
  {
   "cell_type": "code",
   "execution_count": null,
   "metadata": {},
   "outputs": [],
   "source": [
    "# on fractionne chaque event avec la liste des clés d'un dictionnaire event \n",
    "events_dict_split_df = pd.DataFrame()\n",
    "i = 0\n",
    "for col in events_split_df.columns :\n",
    "    events_dict_split_df[[\n",
    "        'source_'+str(col),\n",
    "        'message_'+str(col),\n",
    "        'timestamp_'+str(col),\n",
    "        'criticality_'+str(col),\n",
    "        'identification_'+str(col)\n",
    "        ]] = pd.DataFrame(events_split_df.iloc[:,i].tolist(), index= events_split_df.index)\n",
    "    i += 1"
   ]
  },
  {
   "cell_type": "code",
   "execution_count": null,
   "metadata": {},
   "outputs": [],
   "source": [
    "events_dict_split_df.head(3)"
   ]
  },
  {
   "attachments": {},
   "cell_type": "markdown",
   "metadata": {},
   "source": [
    "#### Identification"
   ]
  },
  {
   "cell_type": "code",
   "execution_count": null,
   "metadata": {},
   "outputs": [],
   "source": [
    "# creation d'un dataframe des colonnes 'identification_'\n",
    "identification_data = {}\n",
    "for col in events_dict_split_df.columns :\n",
    "    if 'identification_' in col :\n",
    "        identification_data[col] = events_dict_split_df[col].values\n",
    "identification_df = pd.DataFrame(identification_data, index=events_dict_split_df.index)"
   ]
  },
  {
   "cell_type": "code",
   "execution_count": null,
   "metadata": {},
   "outputs": [],
   "source": [
    "# fusionner les valeurs des colonnes identifications dans une liste d'entiers\n",
    "identification_df['events_id'] = identification_df.iloc[:,:].apply(lambda x: convert_str_to_int_list(x), axis=1)\n",
    "identification_df = identification_df['events_id']"
   ]
  },
  {
   "attachments": {},
   "cell_type": "markdown",
   "metadata": {},
   "source": [
    "#### Criticality"
   ]
  },
  {
   "cell_type": "code",
   "execution_count": null,
   "metadata": {},
   "outputs": [],
   "source": [
    "# creation d'un dataframe des colonnes 'criticality_'\n",
    "criticality_data = {}\n",
    "for col in events_dict_split_df.columns :\n",
    "    if 'criticality_' in col :\n",
    "        criticality_data[col] = events_dict_split_df[col].values\n",
    "criticality_df = pd.DataFrame(criticality_data, index=events_dict_split_df.index)\n",
    "criticality_df.fillna(0, inplace=True)"
   ]
  },
  {
   "cell_type": "code",
   "execution_count": null,
   "metadata": {},
   "outputs": [],
   "source": [
    "# on print les différentes valeurs 'criticality' présentent dans chaque colonne\n",
    "for col in criticality_df.columns:\n",
    "    print(col, criticality_df[col].unique())"
   ]
  },
  {
   "attachments": {},
   "cell_type": "markdown",
   "metadata": {},
   "source": [
    "## Fusion dataframes"
   ]
  },
  {
   "cell_type": "code",
   "execution_count": null,
   "metadata": {},
   "outputs": [],
   "source": [
    "# fusion des dataframes des colonnes fracionnées\n",
    "merge_df =  pd.merge(\n",
    "                pd.merge(\n",
    "                    pd.merge(\n",
    "                        metrics_df, \n",
    "                        connected_operators_df, left_index=True, right_index=True), \n",
    "                    modules_df, left_index=True, right_index=True), \n",
    "                events_dict_split_df, left_index=True, right_index=True)\n",
    "# suppression des colonnes fractionnées\n",
    "merge_df.drop(['connected_operators','modules','events'], axis=1, inplace=True)\n",
    "# conversion de la colonne \"created_at\" au format Date\n",
    "merge_df['created_at'] = pd.to_datetime(merge_df['created_at'])\n",
    "# indexation du dataset avec les valeurs \"created_at\"\n",
    "merge_df.index = merge_df['created_at']\n",
    "# suppression de la colonne \"created_at\"\n",
    "del merge_df['created_at']\n",
    "# sauvegarde du dataset en csv\n",
    "merge_df.to_csv('../data/metrics/metrics_df.csv')"
   ]
  },
  {
   "attachments": {},
   "cell_type": "markdown",
   "metadata": {},
   "source": [
    "### dataset ciblage events 'identification'"
   ]
  },
  {
   "cell_type": "code",
   "execution_count": null,
   "metadata": {},
   "outputs": [],
   "source": [
    "# dataset temporaire\n",
    "temp_df = pd.merge(\n",
    "                pd.merge(\n",
    "                    pd.merge(\n",
    "                        metrics_df, \n",
    "                        connected_operators_df, left_index=True, right_index=True), \n",
    "                    modules_df, left_index=True, right_index=True), \n",
    "                identification_df, left_index=True, right_index=True)\n",
    "# suppression des colonnes fractionnées\n",
    "temp_df.drop(['connected_operators','modules'], axis=1, inplace=True)\n",
    "# conversion de la colonne \"created_at\" au format Date\n",
    "temp_df['created_at'] = pd.to_datetime(temp_df['created_at'])\n",
    "# sauvegarde du dataset en csv\n",
    "temp_df.to_csv('../data/metrics/temp_metrics_df.csv')"
   ]
  },
  {
   "attachments": {},
   "cell_type": "markdown",
   "metadata": {},
   "source": [
    "## Data exploration"
   ]
  },
  {
   "cell_type": "code",
   "execution_count": null,
   "metadata": {},
   "outputs": [],
   "source": [
    "temp_df.head(5)"
   ]
  },
  {
   "cell_type": "code",
   "execution_count": null,
   "metadata": {},
   "outputs": [],
   "source": [
    "def plot_timeseries(dataframe) :\n",
    "    dataframe.plot(figsize=(15, 6))\n",
    "    plt.savefig('../data/metrics/img/metrics_df.png')\n",
    "    plt.show()"
   ]
  },
  {
   "cell_type": "code",
   "execution_count": null,
   "metadata": {},
   "outputs": [],
   "source": [
    "# creation d'une copie du dataframe avec normalisation\n",
    "# copy the data\n",
    "df_max_scaled = temp_df[['created_at','varnishLevelsTargetvolume','varnishLevelsTotalvolume','VarnishPrinter_3DVarnishCounter','iFoil_TotalPagesCounter']].copy(deep=True)\n",
    "df_max_scaled.index = df_max_scaled['created_at']\n",
    "del df_max_scaled['created_at']\n",
    "# apply normalization techniques\n",
    "for column in df_max_scaled.columns:\n",
    "    df_max_scaled[column] = df_max_scaled[column]  / df_max_scaled[column].abs().max()\n",
    "      \n",
    "# view normalized data\n",
    "display(df_max_scaled)"
   ]
  },
  {
   "cell_type": "code",
   "execution_count": null,
   "metadata": {},
   "outputs": [],
   "source": [
    "plot_timeseries(df_max_scaled)"
   ]
  }
 ],
 "metadata": {
  "kernelspec": {
   "display_name": ".venv",
   "language": "python",
   "name": "python3"
  },
  "language_info": {
   "codemirror_mode": {
    "name": "ipython",
    "version": 3
   },
   "file_extension": ".py",
   "mimetype": "text/x-python",
   "name": "python",
   "nbconvert_exporter": "python",
   "pygments_lexer": "ipython3",
   "version": "3.10.4"
  },
  "orig_nbformat": 4
 },
 "nbformat": 4,
 "nbformat_minor": 2
}
