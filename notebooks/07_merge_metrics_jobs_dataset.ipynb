{
 "cells": [
  {
   "attachments": {},
   "cell_type": "markdown",
   "metadata": {},
   "source": [
    "# 07 - Notebook de fusion des dataset metrics et jobs/job_events"
   ]
  },
  {
   "attachments": {},
   "cell_type": "markdown",
   "metadata": {},
   "source": [
    "# A. Imports"
   ]
  },
  {
   "attachments": {},
   "cell_type": "markdown",
   "metadata": {},
   "source": [
    "## a) Librairies"
   ]
  },
  {
   "cell_type": "code",
   "execution_count": 140,
   "metadata": {},
   "outputs": [],
   "source": [
    "import os, json, ast\n",
    "import pandas as pd\n",
    "import numpy as np\n",
    "import matplotlib.pyplot as plt"
   ]
  },
  {
   "attachments": {},
   "cell_type": "markdown",
   "metadata": {},
   "source": [
    "## b) Datasets"
   ]
  },
  {
   "cell_type": "code",
   "execution_count": 141,
   "metadata": {},
   "outputs": [],
   "source": [
    "# source path to datasets\n",
    "path = '../data/'\n",
    "metrics = 'metrics/clean_merge_metrics_dataset.csv'\n",
    "jobs = 'jobs/merge_raw_jobs_and_clean_jobevents_dataset.csv'"
   ]
  },
  {
   "attachments": {},
   "cell_type": "markdown",
   "metadata": {},
   "source": [
    "# B. Jeux de données"
   ]
  },
  {
   "attachments": {},
   "cell_type": "markdown",
   "metadata": {},
   "source": [
    "### a) Metrics"
   ]
  },
  {
   "cell_type": "code",
   "execution_count": 142,
   "metadata": {},
   "outputs": [
    {
     "name": "stdout",
     "output_type": "stream",
     "text": [
      "metrics dataset shape (3510431, 14)\n"
     ]
    }
   ],
   "source": [
    "# création d'un dataframe à partir du csv de données\n",
    "metrics_df = pd.read_csv(os.path.join(path, metrics), index_col=0)\n",
    "print(f'metrics dataset shape {metrics_df.shape}')"
   ]
  },
  {
   "cell_type": "code",
   "execution_count": 143,
   "metadata": {},
   "outputs": [
    {
     "data": {
      "text/plain": [
       "True"
      ]
     },
     "execution_count": 143,
     "metadata": {},
     "output_type": "execute_result"
    }
   ],
   "source": [
    "# la colonne timestamp contient-elle des valeurs en double ?\n",
    "metrics_df['timestamp'].duplicated().any()"
   ]
  },
  {
   "cell_type": "code",
   "execution_count": 144,
   "metadata": {},
   "outputs": [
    {
     "data": {
      "text/plain": [
       "'2022-04-15 05:55:06.678000+00:00'"
      ]
     },
     "execution_count": 144,
     "metadata": {},
     "output_type": "execute_result"
    }
   ],
   "source": [
    "metrics_df['timestamp'].min()"
   ]
  },
  {
   "cell_type": "code",
   "execution_count": 145,
   "metadata": {},
   "outputs": [
    {
     "name": "stdout",
     "output_type": "stream",
     "text": [
      "1242037\n"
     ]
    }
   ],
   "source": [
    "# Grouper les lignes par la colonne \"timestamp\" et obtenir les index correspondants\n",
    "groupes = metrics_df.groupby('timestamp').groups\n",
    "print(len(groupes.keys()))"
   ]
  },
  {
   "cell_type": "code",
   "execution_count": 146,
   "metadata": {},
   "outputs": [
    {
     "data": {
      "text/html": [
       "<div>\n",
       "<style scoped>\n",
       "    .dataframe tbody tr th:only-of-type {\n",
       "        vertical-align: middle;\n",
       "    }\n",
       "\n",
       "    .dataframe tbody tr th {\n",
       "        vertical-align: top;\n",
       "    }\n",
       "\n",
       "    .dataframe thead th {\n",
       "        text-align: right;\n",
       "    }\n",
       "</style>\n",
       "<table border=\"1\" class=\"dataframe\">\n",
       "  <thead>\n",
       "    <tr style=\"text-align: right;\">\n",
       "      <th></th>\n",
       "      <th>source_events</th>\n",
       "      <th>timestamp</th>\n",
       "      <th>criticality_events</th>\n",
       "      <th>identification_events</th>\n",
       "      <th>name_modules</th>\n",
       "      <th>type_modules</th>\n",
       "      <th>generation_modules</th>\n",
       "      <th>name_counters_modules</th>\n",
       "      <th>value_counters_modules</th>\n",
       "      <th>name_connected_operators</th>\n",
       "      <th>level_connected_operators</th>\n",
       "      <th>status</th>\n",
       "      <th>varnishLevelsTargetvolume</th>\n",
       "      <th>varnishLevelsTotalvolume</th>\n",
       "    </tr>\n",
       "  </thead>\n",
       "  <tbody>\n",
       "    <tr>\n",
       "      <th>0</th>\n",
       "      <td>iFoil</td>\n",
       "      <td>2022-04-15 06:06:56.278000+00:00</td>\n",
       "      <td>INFO</td>\n",
       "      <td>391</td>\n",
       "      <td>iFoil L</td>\n",
       "      <td>iFoil</td>\n",
       "      <td>Gen. 2</td>\n",
       "      <td>Total Pages Counter</td>\n",
       "      <td>22881</td>\n",
       "      <td>Viktor</td>\n",
       "      <td>Operator</td>\n",
       "      <td>IDLE</td>\n",
       "      <td>36192</td>\n",
       "      <td>100000</td>\n",
       "    </tr>\n",
       "    <tr>\n",
       "      <th>1</th>\n",
       "      <td>iFoil</td>\n",
       "      <td>2022-04-15 06:06:56.278000+00:00</td>\n",
       "      <td>INFO</td>\n",
       "      <td>391</td>\n",
       "      <td>iFoil L</td>\n",
       "      <td>iFoil</td>\n",
       "      <td>Gen. 2</td>\n",
       "      <td>Foiled Pages Counter</td>\n",
       "      <td>31092</td>\n",
       "      <td>Viktor</td>\n",
       "      <td>Operator</td>\n",
       "      <td>IDLE</td>\n",
       "      <td>36192</td>\n",
       "      <td>100000</td>\n",
       "    </tr>\n",
       "    <tr>\n",
       "      <th>2</th>\n",
       "      <td>PLC</td>\n",
       "      <td>2022-04-15 06:06:56.418000+00:00</td>\n",
       "      <td>INFO</td>\n",
       "      <td>330</td>\n",
       "      <td>Print Engine 1</td>\n",
       "      <td>Varnish Printer</td>\n",
       "      <td>NaN</td>\n",
       "      <td>3D Varnish Counter</td>\n",
       "      <td>1792992</td>\n",
       "      <td>Viktor</td>\n",
       "      <td>Operator</td>\n",
       "      <td>IDLE</td>\n",
       "      <td>36192</td>\n",
       "      <td>100000</td>\n",
       "    </tr>\n",
       "  </tbody>\n",
       "</table>\n",
       "</div>"
      ],
      "text/plain": [
       "  source_events                         timestamp criticality_events  \\\n",
       "0         iFoil  2022-04-15 06:06:56.278000+00:00               INFO   \n",
       "1         iFoil  2022-04-15 06:06:56.278000+00:00               INFO   \n",
       "2           PLC  2022-04-15 06:06:56.418000+00:00               INFO   \n",
       "\n",
       "   identification_events    name_modules     type_modules generation_modules  \\\n",
       "0                    391         iFoil L            iFoil             Gen. 2   \n",
       "1                    391         iFoil L            iFoil             Gen. 2   \n",
       "2                    330  Print Engine 1  Varnish Printer                NaN   \n",
       "\n",
       "  name_counters_modules  value_counters_modules name_connected_operators  \\\n",
       "0   Total Pages Counter                   22881                   Viktor   \n",
       "1  Foiled Pages Counter                   31092                   Viktor   \n",
       "2    3D Varnish Counter                 1792992                   Viktor   \n",
       "\n",
       "  level_connected_operators status  varnishLevelsTargetvolume  \\\n",
       "0                  Operator   IDLE                      36192   \n",
       "1                  Operator   IDLE                      36192   \n",
       "2                  Operator   IDLE                      36192   \n",
       "\n",
       "   varnishLevelsTotalvolume  \n",
       "0                    100000  \n",
       "1                    100000  \n",
       "2                    100000  "
      ]
     },
     "execution_count": 146,
     "metadata": {},
     "output_type": "execute_result"
    }
   ],
   "source": [
    "metrics_df.head(3)"
   ]
  },
  {
   "attachments": {},
   "cell_type": "markdown",
   "metadata": {},
   "source": [
    "### b) Jobs"
   ]
  },
  {
   "cell_type": "code",
   "execution_count": 147,
   "metadata": {},
   "outputs": [
    {
     "name": "stdout",
     "output_type": "stream",
     "text": [
      "jobs dataset shape (16295, 42)\n"
     ]
    }
   ],
   "source": [
    "# création d'un dataframe à partir du csv de données\n",
    "jobs_df = pd.read_csv(os.path.join(path, jobs), index_col=0)\n",
    "print(f'jobs dataset shape {jobs_df.shape}')"
   ]
  },
  {
   "cell_type": "code",
   "execution_count": 148,
   "metadata": {},
   "outputs": [
    {
     "data": {
      "text/plain": [
       "False"
      ]
     },
     "execution_count": 148,
     "metadata": {},
     "output_type": "execute_result"
    }
   ],
   "source": [
    "# la colonne started_at contient-elle des valeurs en double ?\n",
    "jobs_df['started_at'].duplicated().any()"
   ]
  },
  {
   "cell_type": "code",
   "execution_count": 149,
   "metadata": {},
   "outputs": [
    {
     "data": {
      "text/plain": [
       "'2021-06-18 09:22:46.866000+00:00'"
      ]
     },
     "execution_count": 149,
     "metadata": {},
     "output_type": "execute_result"
    }
   ],
   "source": [
    "jobs_df['started_at'].min()"
   ]
  },
  {
   "cell_type": "code",
   "execution_count": 150,
   "metadata": {},
   "outputs": [
    {
     "data": {
      "text/html": [
       "<div>\n",
       "<style scoped>\n",
       "    .dataframe tbody tr th:only-of-type {\n",
       "        vertical-align: middle;\n",
       "    }\n",
       "\n",
       "    .dataframe tbody tr th {\n",
       "        vertical-align: top;\n",
       "    }\n",
       "\n",
       "    .dataframe thead th {\n",
       "        text-align: right;\n",
       "    }\n",
       "</style>\n",
       "<table border=\"1\" class=\"dataframe\">\n",
       "  <thead>\n",
       "    <tr style=\"text-align: right;\">\n",
       "      <th></th>\n",
       "      <th>started_at</th>\n",
       "      <th>ended_at</th>\n",
       "      <th>paperHeight_job</th>\n",
       "      <th>paperWidth_job</th>\n",
       "      <th>scanner_mode</th>\n",
       "      <th>bars_job</th>\n",
       "      <th>varnishConsumptionVarnish_3d_job</th>\n",
       "      <th>jobId</th>\n",
       "      <th>total_copies_requested</th>\n",
       "      <th>LED</th>\n",
       "      <th>...</th>\n",
       "      <th>leftMargin_remoteScannerRegistration</th>\n",
       "      <th>redScore_gridMode_remoteScannerRegistration</th>\n",
       "      <th>redScore_cropmarksMode_remoteScannerRegistration</th>\n",
       "      <th>redScore_fullScannerMode_remoteScannerRegistration</th>\n",
       "      <th>blueScore_fullScannerMode_remoteScannerRegistration</th>\n",
       "      <th>greenScore_fullScannerMode_remoteScannerRegistration</th>\n",
       "      <th>mode_remoteScannerRegistration</th>\n",
       "      <th>jobState</th>\n",
       "      <th>total_copies</th>\n",
       "      <th>varnishConsumptionVarnish_3d_event</th>\n",
       "    </tr>\n",
       "  </thead>\n",
       "  <tbody>\n",
       "    <tr>\n",
       "      <th>0</th>\n",
       "      <td>2021-06-18 09:22:46.866000+00:00</td>\n",
       "      <td>2021-06-18 09:22:46.866000+00:00</td>\n",
       "      <td>520</td>\n",
       "      <td>740</td>\n",
       "      <td>0</td>\n",
       "      <td>0</td>\n",
       "      <td>0.0</td>\n",
       "      <td>1624008166</td>\n",
       "      <td>3</td>\n",
       "      <td>10</td>\n",
       "      <td>...</td>\n",
       "      <td>0</td>\n",
       "      <td>1500</td>\n",
       "      <td>1500</td>\n",
       "      <td>1500</td>\n",
       "      <td>16</td>\n",
       "      <td>16</td>\n",
       "      <td>1</td>\n",
       "      <td>UNDEFINED</td>\n",
       "      <td>0</td>\n",
       "      <td>0.000000</td>\n",
       "    </tr>\n",
       "    <tr>\n",
       "      <th>1</th>\n",
       "      <td>2021-06-18 10:08:13.716000+00:00</td>\n",
       "      <td>2021-06-18 10:10:22.257000+00:00</td>\n",
       "      <td>740</td>\n",
       "      <td>520</td>\n",
       "      <td>0</td>\n",
       "      <td>0</td>\n",
       "      <td>0.0</td>\n",
       "      <td>1624010893</td>\n",
       "      <td>100</td>\n",
       "      <td>30</td>\n",
       "      <td>...</td>\n",
       "      <td>0</td>\n",
       "      <td>1500</td>\n",
       "      <td>1500</td>\n",
       "      <td>1500</td>\n",
       "      <td>16</td>\n",
       "      <td>10</td>\n",
       "      <td>1</td>\n",
       "      <td>ERROR</td>\n",
       "      <td>3</td>\n",
       "      <td>1.440239</td>\n",
       "    </tr>\n",
       "    <tr>\n",
       "      <th>2</th>\n",
       "      <td>2021-06-18 10:11:52.165000+00:00</td>\n",
       "      <td>2021-06-18 10:18:20.294000+00:00</td>\n",
       "      <td>740</td>\n",
       "      <td>520</td>\n",
       "      <td>0</td>\n",
       "      <td>0</td>\n",
       "      <td>0.0</td>\n",
       "      <td>1624011111</td>\n",
       "      <td>100</td>\n",
       "      <td>30</td>\n",
       "      <td>...</td>\n",
       "      <td>0</td>\n",
       "      <td>1500</td>\n",
       "      <td>1500</td>\n",
       "      <td>1500</td>\n",
       "      <td>16</td>\n",
       "      <td>10</td>\n",
       "      <td>1</td>\n",
       "      <td>CANCELED</td>\n",
       "      <td>70</td>\n",
       "      <td>33.607494</td>\n",
       "    </tr>\n",
       "  </tbody>\n",
       "</table>\n",
       "<p>3 rows × 42 columns</p>\n",
       "</div>"
      ],
      "text/plain": [
       "                         started_at                          ended_at  \\\n",
       "0  2021-06-18 09:22:46.866000+00:00  2021-06-18 09:22:46.866000+00:00   \n",
       "1  2021-06-18 10:08:13.716000+00:00  2021-06-18 10:10:22.257000+00:00   \n",
       "2  2021-06-18 10:11:52.165000+00:00  2021-06-18 10:18:20.294000+00:00   \n",
       "\n",
       "   paperHeight_job  paperWidth_job  scanner_mode  bars_job  \\\n",
       "0              520             740             0         0   \n",
       "1              740             520             0         0   \n",
       "2              740             520             0         0   \n",
       "\n",
       "   varnishConsumptionVarnish_3d_job       jobId  total_copies_requested  LED  \\\n",
       "0                               0.0  1624008166                       3   10   \n",
       "1                               0.0  1624010893                     100   30   \n",
       "2                               0.0  1624011111                     100   30   \n",
       "\n",
       "   ... leftMargin_remoteScannerRegistration  \\\n",
       "0  ...                                    0   \n",
       "1  ...                                    0   \n",
       "2  ...                                    0   \n",
       "\n",
       "   redScore_gridMode_remoteScannerRegistration  \\\n",
       "0                                         1500   \n",
       "1                                         1500   \n",
       "2                                         1500   \n",
       "\n",
       "   redScore_cropmarksMode_remoteScannerRegistration  \\\n",
       "0                                              1500   \n",
       "1                                              1500   \n",
       "2                                              1500   \n",
       "\n",
       "   redScore_fullScannerMode_remoteScannerRegistration  \\\n",
       "0                                               1500    \n",
       "1                                               1500    \n",
       "2                                               1500    \n",
       "\n",
       "  blueScore_fullScannerMode_remoteScannerRegistration  \\\n",
       "0                                                 16    \n",
       "1                                                 16    \n",
       "2                                                 16    \n",
       "\n",
       "  greenScore_fullScannerMode_remoteScannerRegistration  \\\n",
       "0                                                 16     \n",
       "1                                                 10     \n",
       "2                                                 10     \n",
       "\n",
       "   mode_remoteScannerRegistration   jobState  total_copies  \\\n",
       "0                               1  UNDEFINED             0   \n",
       "1                               1      ERROR             3   \n",
       "2                               1   CANCELED            70   \n",
       "\n",
       "  varnishConsumptionVarnish_3d_event  \n",
       "0                           0.000000  \n",
       "1                           1.440239  \n",
       "2                          33.607494  \n",
       "\n",
       "[3 rows x 42 columns]"
      ]
     },
     "execution_count": 150,
     "metadata": {},
     "output_type": "execute_result"
    }
   ],
   "source": [
    "jobs_df.head(3)"
   ]
  },
  {
   "attachments": {},
   "cell_type": "markdown",
   "metadata": {},
   "source": [
    "Les tailles des datasets sont déséquilibrés :\n",
    "\n",
    "- 3510431 lignes pour metrics\n",
    "\n",
    "- 16295 lignes pour jobs\n",
    "\n",
    "Les dates de début sont différentes :\n",
    "\n",
    "- '2022-04-15 05:55:06.678000+00:00' pour metrics\n",
    "\n",
    "- '2021-06-18 09:22:46.866000+00:00' pour jobs\n",
    "\n",
    "Le dataset metrics compte 1242037 doublons pour la colonne timestamp"
   ]
  },
  {
   "attachments": {},
   "cell_type": "markdown",
   "metadata": {},
   "source": [
    "# C. Equilibrage des jeux de données"
   ]
  },
  {
   "attachments": {},
   "cell_type": "markdown",
   "metadata": {},
   "source": [
    "## a) Réduction de jobs"
   ]
  },
  {
   "cell_type": "code",
   "execution_count": 151,
   "metadata": {},
   "outputs": [
    {
     "data": {
      "text/plain": [
       "(10516, 42)"
      ]
     },
     "execution_count": 151,
     "metadata": {},
     "output_type": "execute_result"
    }
   ],
   "source": [
    "# concordance des données de temps dans un même cadre\n",
    "jobs_reduced = jobs_df[jobs_df.started_at > metrics_df.timestamp.min()]\n",
    "jobs_reduced.shape"
   ]
  },
  {
   "attachments": {},
   "cell_type": "markdown",
   "metadata": {},
   "source": [
    "## b) Réduction de metrics"
   ]
  },
  {
   "attachments": {},
   "cell_type": "markdown",
   "metadata": {},
   "source": [
    "#### Par source d'évènement"
   ]
  },
  {
   "cell_type": "code",
   "execution_count": 152,
   "metadata": {},
   "outputs": [
    {
     "data": {
      "text/plain": [
       "array(['iFoil', 'PLC', nan, 'Kernel', 'RCB n°1', 'RCB n°2', 'ICB n°1',\n",
       "       'RCB n°3', 'ICB n°5', 'ICB n°7', 'ICB n°8', 'Pilot', 'ICB n°4',\n",
       "       'ICB n°2', 'ICB n°6'], dtype=object)"
      ]
     },
     "execution_count": 152,
     "metadata": {},
     "output_type": "execute_result"
    }
   ],
   "source": [
    "metrics_df['source_events'].unique()"
   ]
  },
  {
   "cell_type": "code",
   "execution_count": 153,
   "metadata": {},
   "outputs": [
    {
     "data": {
      "text/plain": [
       "(94166, 14)"
      ]
     },
     "execution_count": 153,
     "metadata": {},
     "output_type": "execute_result"
    }
   ],
   "source": [
    "# on se concentre sur les données de metrics qui ont une source d'évènement\n",
    "metrics_by_source = metrics_df[metrics_df['source_events'].notna()]\n",
    "metrics_by_source.shape"
   ]
  },
  {
   "cell_type": "code",
   "execution_count": 154,
   "metadata": {},
   "outputs": [
    {
     "data": {
      "text/plain": [
       "INFO       68501\n",
       "WARNING    12848\n",
       "ERROR      12817\n",
       "Name: criticality_events, dtype: int64"
      ]
     },
     "execution_count": 154,
     "metadata": {},
     "output_type": "execute_result"
    }
   ],
   "source": [
    "metrics_by_source['criticality_events'].value_counts()"
   ]
  },
  {
   "attachments": {},
   "cell_type": "markdown",
   "metadata": {},
   "source": [
    "#### Par identifiant d'évènement"
   ]
  },
  {
   "cell_type": "code",
   "execution_count": 155,
   "metadata": {},
   "outputs": [
    {
     "data": {
      "text/plain": [
       "(8062, 14)"
      ]
     },
     "execution_count": 155,
     "metadata": {},
     "output_type": "execute_result"
    }
   ],
   "source": [
    "# lignes avec des évènements identifiant une maintenance\n",
    "id_to_drop_1 = [391, 330, 377, 407, 332, 331, 313, 333, 376, 372, 344, 343, 371, 358, 334, 311, 472, 0, 408, 406, 350, 2, 352, 346]\n",
    "# lignes avec des évènements identifiant une intervention humaine\n",
    "id_to_drop_2 = [352, 324, 381, 440, 385, 405, 447, 388, 320, 417, 444, 329, 315, 384, 345, 349, 466, 419]\n",
    "\n",
    "id_to_drop = id_to_drop_1 + id_to_drop_2\n",
    "# on supprime les lignes avec des évènements identifiant une maintenance\n",
    "metrics_by_identification = metrics_by_source[~metrics_by_source['identification_events'].isin(id_to_drop)]\n",
    "metrics_by_identification.shape"
   ]
  },
  {
   "cell_type": "code",
   "execution_count": 156,
   "metadata": {},
   "outputs": [
    {
     "data": {
      "text/plain": [
       "ERROR      5933\n",
       "INFO       1530\n",
       "WARNING     599\n",
       "Name: criticality_events, dtype: int64"
      ]
     },
     "execution_count": 156,
     "metadata": {},
     "output_type": "execute_result"
    }
   ],
   "source": [
    "metrics_by_identification['criticality_events'].value_counts()"
   ]
  },
  {
   "cell_type": "code",
   "execution_count": 157,
   "metadata": {},
   "outputs": [
    {
     "data": {
      "text/plain": [
       "INFO       13872\n",
       "ERROR      12357\n",
       "WARNING    11560\n",
       "Name: criticality_events, dtype: int64"
      ]
     },
     "execution_count": 157,
     "metadata": {},
     "output_type": "execute_result"
    }
   ],
   "source": [
    "metrics_by_identification_1 = metrics_by_source[~metrics_by_source['identification_events'].isin([331,330,334,332])]\n",
    "metrics_by_identification_1['criticality_events'].value_counts()"
   ]
  },
  {
   "cell_type": "code",
   "execution_count": 158,
   "metadata": {},
   "outputs": [],
   "source": [
    "# Grouper les lignes par la colonne \"timestamp\" et obtenir les index correspondants\n",
    "#len(metrics_by_criticity.groupby('timestamp').groups.keys())"
   ]
  },
  {
   "attachments": {},
   "cell_type": "markdown",
   "metadata": {},
   "source": [
    "# D. Fusion ou concaténation des jeux de données réduits"
   ]
  },
  {
   "cell_type": "code",
   "execution_count": 159,
   "metadata": {},
   "outputs": [],
   "source": [
    "metrics_reduced = metrics_by_identification_1.copy()"
   ]
  },
  {
   "attachments": {},
   "cell_type": "markdown",
   "metadata": {},
   "source": [
    "## a) Comparaison des dates entre dataset"
   ]
  },
  {
   "cell_type": "code",
   "execution_count": 160,
   "metadata": {},
   "outputs": [
    {
     "name": "stdout",
     "output_type": "stream",
     "text": [
      "Aucune date commune n'a été trouvée entre les ensembles de données.\n"
     ]
    }
   ],
   "source": [
    "# Vérifier si des dates communes existent\n",
    "dates_communes_exist = jobs_reduced['started_at'].isin(metrics_reduced['timestamp']).any()\n",
    "\n",
    "# Afficher le résultat\n",
    "if dates_communes_exist:\n",
    "    # Filtrer les dates communes\n",
    "    dates_communes = jobs_df['started_at'][jobs_df['started_at'].isin(metrics_df['timestamp'])]\n",
    "    \n",
    "    # Compter le nombre de dates communes\n",
    "    nombre_dates_communes = len(dates_communes)\n",
    "    \n",
    "    print(f\"Des dates communes existent entre les ensembles de données: {nombre_dates_communes}\")\n",
    "else:\n",
    "    print(\"Aucune date commune n'a été trouvée entre les ensembles de données.\")\n"
   ]
  },
  {
   "attachments": {},
   "cell_type": "markdown",
   "metadata": {},
   "source": [
    "### Nombre de lignes par mois pour chaque dataset"
   ]
  },
  {
   "cell_type": "code",
   "execution_count": 161,
   "metadata": {},
   "outputs": [],
   "source": [
    "def compare_datetime_series_shapes(s1, s2):\n",
    "    s1_serie = {}\n",
    "    s2_serie = {}\n",
    "    s1 = pd.to_datetime(s1)\n",
    "    s2 = pd.to_datetime(s2)\n",
    "    for i in range(1,13):\n",
    "        s1_month = s1[s1.dt.month == i]\n",
    "        s2_month = s2[s2.dt.month == i]\n",
    "        print(i, s1_month.shape, s2_month.shape)\n",
    "        s1_serie[i] = s1_month.index\n",
    "        s2_serie[i] = s2_month.index\n",
    "    return s1_serie, s2_serie"
   ]
  },
  {
   "cell_type": "code",
   "execution_count": 162,
   "metadata": {},
   "outputs": [
    {
     "name": "stdout",
     "output_type": "stream",
     "text": [
      "1 (0,) (0,)\n",
      "2 (0,) (0,)\n",
      "3 (0,) (0,)\n",
      "4 (728,) (2760,)\n",
      "5 (1378,) (4920,)\n",
      "6 (1615,) (5556,)\n",
      "7 (1290,) (4985,)\n",
      "8 (973,) (3527,)\n",
      "9 (1276,) (3740,)\n",
      "10 (1371,) (4905,)\n",
      "11 (1239,) (4842,)\n",
      "12 (646,) (2554,)\n"
     ]
    }
   ],
   "source": [
    "# on liste les index des lignes par mois\n",
    "jobs_indexes_by_month, metrics_indexes_by_month = compare_datetime_series_shapes(jobs_reduced['started_at'], metrics_reduced['timestamp'])"
   ]
  },
  {
   "attachments": {},
   "cell_type": "markdown",
   "metadata": {},
   "source": [
    "### Analyse du nombre de données sur un mois"
   ]
  },
  {
   "cell_type": "code",
   "execution_count": 25,
   "metadata": {},
   "outputs": [],
   "source": [
    "# month = 5\n",
    "\n",
    "# Selection des lignes de jobs en Mai\n",
    "# jobs_df['started_at'] = pd.to_datetime(jobs_df['started_at'])\n",
    "# jobs_batch = jobs_df[ (jobs_df['started_at'].dt.month == month)]\n",
    "# jobs_batch = jobs_df.loc[jobs_df.index.isin(jobs_indexes_by_month.get(month))]\n",
    "# jobs_batch.shape\n",
    "\n",
    "# Selection des lignes de metrics en Mai\n",
    "# metrics_df['timestamp'] = pd.to_datetime(metrics_df['timestamp'])\n",
    "# metrics_batch = metrics_df[ (metrics_df['timestamp'].dt.month == month)]\n",
    "# metrics_batch = metrics_df.loc[metrics_df.index.isin(metrics_indexes_by_month.get(month))]\n",
    "# metrics_batch.shape"
   ]
  },
  {
   "attachments": {},
   "cell_type": "markdown",
   "metadata": {},
   "source": [
    "## b) Concaténation des datasets"
   ]
  },
  {
   "cell_type": "code",
   "execution_count": 26,
   "metadata": {},
   "outputs": [],
   "source": [
    "# # Conversion des colonnes en datetime en utilisant .loc\n",
    "# jobs_reduced.loc['started_at'] = pd.to_datetime(jobs_reduced['started_at'])\n",
    "# jobs_reduced.loc['ended_at'] = pd.to_datetime(jobs_reduced['ended_at'])\n",
    "# metrics_reduced.loc['timestamp'] = pd.to_datetime(metrics_reduced['timestamp'])\n",
    "# # matrice de comparaison\n",
    "# compare = (jobs_reduced['started_at'].values[:, None] < metrics_reduced['timestamp'].values.T) & (jobs_reduced['ended_at'].values[:, None] > metrics_reduced['timestamp'].values.T)\n",
    "# ## get cell numbers which is in range 0 to matrix size which meets the condition\n",
    "# ind = np.arange(len(metrics_reduced)*len(jobs_reduced))[compare.ravel()]\n",
    "\n",
    "# ## calculate row and column index from cell number\n",
    "# concat_df = pd.concat([jobs_reduced.iloc[ind//len(metrics_reduced)].reset_index(drop=True), metrics_reduced.iloc[ind%len(metrics_reduced)].reset_index(drop=True)], axis=1, sort=False)\n",
    "# concat_df['timestamp'].duplicated().any()\n",
    "# duplicate_indices = concat_df[concat_df['timestamp'].duplicated()].index\n",
    "\n",
    "# duplicate_rows = concat_df[concat_df.timestamp.duplicated()]\n",
    "# duplicate_rows"
   ]
  },
  {
   "cell_type": "code",
   "execution_count": 163,
   "metadata": {},
   "outputs": [
    {
     "name": "stderr",
     "output_type": "stream",
     "text": [
      "C:\\Users\\Audrey\\AppData\\Local\\Temp\\ipykernel_11288\\1114395518.py:5: SettingWithCopyWarning: \n",
      "A value is trying to be set on a copy of a slice from a DataFrame.\n",
      "Try using .loc[row_indexer,col_indexer] = value instead\n",
      "\n",
      "See the caveats in the documentation: https://pandas.pydata.org/pandas-docs/stable/user_guide/indexing.html#returning-a-view-versus-a-copy\n",
      "  jobs_reduced['started_at'] = pd.to_datetime(jobs_reduced['started_at'])\n"
     ]
    }
   ],
   "source": [
    "# on prépare la concaténation des données de jobs et metrics du mois de juin\n",
    "\n",
    "month = 0\n",
    "\n",
    "jobs_reduced['started_at'] = pd.to_datetime(jobs_reduced['started_at'])\n",
    "metrics_reduced['timestamp'] = pd.to_datetime(metrics_reduced['timestamp'])\n",
    "\n",
    "if month == 0 :\n",
    "    # DataFrame 1 avec les intervalles de temps\n",
    "    dataframe1 = jobs_reduced.copy()\n",
    "    # DataFrame 2 avec les valeurs de date\n",
    "    dataframe2 = metrics_reduced.copy()\n",
    "else :\n",
    "     # DataFrame 1 avec les intervalles de temps\n",
    "    dataframe1 = jobs_reduced[(jobs_reduced['started_at'].dt.month == month)].copy()\n",
    "    # DataFrame 2 avec les valeurs de date\n",
    "    dataframe2 = metrics_reduced[(metrics_reduced['timestamp'].dt.month == month)].copy()\n",
    "   \n",
    "\n",
    "# Conversion des colonnes en format de date\n",
    "dataframe1['started_at'] = pd.to_datetime(dataframe1['started_at'])\n",
    "dataframe1['ended_at'] = pd.to_datetime(dataframe1['ended_at'])\n",
    "dataframe2['timestamp'] = pd.to_datetime(dataframe2['timestamp'])\n",
    "\n",
    "# Création de la nouvelle colonne dans dataframe2 pour l'association\n",
    "dataframe2['jobId'] = 0\n",
    "\n",
    "# Parcours des lignes de metrics\n",
    "for index2, row2 in dataframe2.iterrows():\n",
    "    metrics_timestamp = row2['timestamp']\n",
    "    # Vérification pour chaque ligne de job\n",
    "    for index1, row1 in dataframe1.iterrows():\n",
    "        if row2['timestamp'] >= row1['started_at'] and row2['timestamp']  <= row1['ended_at']:\n",
    "            dataframe2.loc[index2, 'jobId'] = dataframe1.loc[index1, 'jobId']\n",
    "            break"
   ]
  },
  {
   "cell_type": "code",
   "execution_count": 164,
   "metadata": {},
   "outputs": [
    {
     "data": {
      "text/plain": [
       "INFO       13872\n",
       "ERROR      12357\n",
       "WARNING    11560\n",
       "Name: criticality_events, dtype: int64"
      ]
     },
     "execution_count": 164,
     "metadata": {},
     "output_type": "execute_result"
    }
   ],
   "source": [
    "dataframe2['criticality_events'].value_counts()"
   ]
  },
  {
   "cell_type": "code",
   "execution_count": 165,
   "metadata": {},
   "outputs": [
    {
     "data": {
      "text/plain": [
       "(48305, 56)"
      ]
     },
     "execution_count": 165,
     "metadata": {},
     "output_type": "execute_result"
    }
   ],
   "source": [
    "# on concat les données de metrics et jobs\n",
    "concat_df = pd.concat([dataframe1, dataframe2]).reset_index(drop=True)\n",
    "concat_df.shape"
   ]
  },
  {
   "cell_type": "code",
   "execution_count": 172,
   "metadata": {},
   "outputs": [
    {
     "name": "stdout",
     "output_type": "stream",
     "text": [
      "Nombre de clés dont len(valeur) > 1 : 5894\n"
     ]
    }
   ],
   "source": [
    "# Compter le nombre de clés dont len(valeur) > 1\n",
    "count = 0\n",
    "\n",
    "for _, group in concat_df.groupby('jobId'):\n",
    "    if len(group) > 1:\n",
    "        count += 1\n",
    "\n",
    "# Afficher le nombre de clés\n",
    "print(\"Nombre de clés dont len(valeur) > 1 :\", count)\n"
   ]
  },
  {
   "cell_type": "code",
   "execution_count": 173,
   "metadata": {},
   "outputs": [
    {
     "data": {
      "text/plain": [
       "(24390, 56)"
      ]
     },
     "execution_count": 173,
     "metadata": {},
     "output_type": "execute_result"
    }
   ],
   "source": [
    "# on ne conserve que les lignes qui ont un jobId\n",
    "concat_df = concat_df[concat_df.jobId != 0]\n",
    "concat_df.shape"
   ]
  },
  {
   "cell_type": "code",
   "execution_count": 174,
   "metadata": {},
   "outputs": [],
   "source": [
    "# on remplace les valeurs maquantes des lignes metrics par celles de jobs avec le jobId correspondant\n",
    "for job_id in concat_df['jobId'].unique():\n",
    "    if concat_df['jobId'].value_counts().get(job_id, 0) > 1:\n",
    "        concat_df.loc[concat_df['jobId'] == job_id] = concat_df.loc[concat_df['jobId'] == job_id].fillna(method='ffill')"
   ]
  },
  {
   "cell_type": "code",
   "execution_count": 120,
   "metadata": {},
   "outputs": [],
   "source": [
    "# # on remplace les valeurs manquantes de criticality et identification par celle de la ligne précédente\n",
    "# concat_df.sort_values('started_at',ascending=True, inplace=True)\n",
    "# # on remplace les valeurs nulles de la colonne \"criticality_events\" par 'UNDEFINED'\n",
    "# concat_df['criticality_events'] = concat_df['criticality_events'].fillna(method='ffill')\n",
    "# # on remplace les valeurs nulles de la colonne \"criticality_events\" par 'UNDEFINED'\n",
    "# concat_df['identification_events'] = concat_df['identification_events'].fillna(method='ffill')"
   ]
  },
  {
   "cell_type": "code",
   "execution_count": 176,
   "metadata": {},
   "outputs": [],
   "source": [
    "concat_df_1 = concat_df[~concat_df['timestamp'].isnull()]"
   ]
  },
  {
   "cell_type": "code",
   "execution_count": 177,
   "metadata": {},
   "outputs": [
    {
     "data": {
      "text/html": [
       "<div>\n",
       "<style scoped>\n",
       "    .dataframe tbody tr th:only-of-type {\n",
       "        vertical-align: middle;\n",
       "    }\n",
       "\n",
       "    .dataframe tbody tr th {\n",
       "        vertical-align: top;\n",
       "    }\n",
       "\n",
       "    .dataframe thead th {\n",
       "        text-align: right;\n",
       "    }\n",
       "</style>\n",
       "<table border=\"1\" class=\"dataframe\">\n",
       "  <thead>\n",
       "    <tr style=\"text-align: right;\">\n",
       "      <th></th>\n",
       "      <th>started_at</th>\n",
       "      <th>ended_at</th>\n",
       "      <th>paperHeight_job</th>\n",
       "      <th>paperWidth_job</th>\n",
       "      <th>scanner_mode</th>\n",
       "      <th>bars_job</th>\n",
       "      <th>varnishConsumptionVarnish_3d_job</th>\n",
       "      <th>jobId</th>\n",
       "      <th>total_copies_requested</th>\n",
       "      <th>LED</th>\n",
       "      <th>...</th>\n",
       "      <th>name_modules</th>\n",
       "      <th>type_modules</th>\n",
       "      <th>generation_modules</th>\n",
       "      <th>name_counters_modules</th>\n",
       "      <th>value_counters_modules</th>\n",
       "      <th>name_connected_operators</th>\n",
       "      <th>level_connected_operators</th>\n",
       "      <th>status</th>\n",
       "      <th>varnishLevelsTargetvolume</th>\n",
       "      <th>varnishLevelsTotalvolume</th>\n",
       "    </tr>\n",
       "  </thead>\n",
       "  <tbody>\n",
       "    <tr>\n",
       "      <th>10697</th>\n",
       "      <td>2022-04-20 18:19:10.324000+00:00</td>\n",
       "      <td>2022-04-20 18:22:53.589000+00:00</td>\n",
       "      <td>450.0</td>\n",
       "      <td>320.0</td>\n",
       "      <td>3.0</td>\n",
       "      <td>2.0</td>\n",
       "      <td>5.143471</td>\n",
       "      <td>1650478750</td>\n",
       "      <td>120.0</td>\n",
       "      <td>30.0</td>\n",
       "      <td>...</td>\n",
       "      <td>iFoil L</td>\n",
       "      <td>iFoil</td>\n",
       "      <td>Gen. 2</td>\n",
       "      <td>Total Pages Counter</td>\n",
       "      <td>35755.0</td>\n",
       "      <td>Viktor</td>\n",
       "      <td>Operator</td>\n",
       "      <td>WARNING</td>\n",
       "      <td>29412.0</td>\n",
       "      <td>100000.0</td>\n",
       "    </tr>\n",
       "    <tr>\n",
       "      <th>10698</th>\n",
       "      <td>2022-04-20 18:19:10.324000+00:00</td>\n",
       "      <td>2022-04-20 18:22:53.589000+00:00</td>\n",
       "      <td>450.0</td>\n",
       "      <td>320.0</td>\n",
       "      <td>3.0</td>\n",
       "      <td>2.0</td>\n",
       "      <td>5.143471</td>\n",
       "      <td>1650478750</td>\n",
       "      <td>120.0</td>\n",
       "      <td>30.0</td>\n",
       "      <td>...</td>\n",
       "      <td>iFoil L</td>\n",
       "      <td>iFoil</td>\n",
       "      <td>Gen. 2</td>\n",
       "      <td>Foiled Pages Counter</td>\n",
       "      <td>31155.0</td>\n",
       "      <td>Viktor</td>\n",
       "      <td>Operator</td>\n",
       "      <td>WARNING</td>\n",
       "      <td>29412.0</td>\n",
       "      <td>100000.0</td>\n",
       "    </tr>\n",
       "    <tr>\n",
       "      <th>10699</th>\n",
       "      <td>2022-04-20 18:19:10.324000+00:00</td>\n",
       "      <td>2022-04-20 18:22:53.589000+00:00</td>\n",
       "      <td>450.0</td>\n",
       "      <td>320.0</td>\n",
       "      <td>3.0</td>\n",
       "      <td>2.0</td>\n",
       "      <td>5.143471</td>\n",
       "      <td>1650478750</td>\n",
       "      <td>120.0</td>\n",
       "      <td>30.0</td>\n",
       "      <td>...</td>\n",
       "      <td>Print Engine 1</td>\n",
       "      <td>Varnish Printer</td>\n",
       "      <td>Gen. 2</td>\n",
       "      <td>3D Varnish Counter</td>\n",
       "      <td>1805874.0</td>\n",
       "      <td>Viktor</td>\n",
       "      <td>Operator</td>\n",
       "      <td>WARNING</td>\n",
       "      <td>29412.0</td>\n",
       "      <td>100000.0</td>\n",
       "    </tr>\n",
       "    <tr>\n",
       "      <th>10700</th>\n",
       "      <td>2022-04-20 18:19:10.324000+00:00</td>\n",
       "      <td>2022-04-20 18:22:53.589000+00:00</td>\n",
       "      <td>450.0</td>\n",
       "      <td>320.0</td>\n",
       "      <td>3.0</td>\n",
       "      <td>2.0</td>\n",
       "      <td>5.143471</td>\n",
       "      <td>1650478750</td>\n",
       "      <td>120.0</td>\n",
       "      <td>30.0</td>\n",
       "      <td>...</td>\n",
       "      <td>iFoil L</td>\n",
       "      <td>iFoil</td>\n",
       "      <td>Gen. 2</td>\n",
       "      <td>Total Pages Counter</td>\n",
       "      <td>35755.0</td>\n",
       "      <td>Viktor</td>\n",
       "      <td>Operator</td>\n",
       "      <td>ERR</td>\n",
       "      <td>29407.0</td>\n",
       "      <td>100000.0</td>\n",
       "    </tr>\n",
       "    <tr>\n",
       "      <th>10701</th>\n",
       "      <td>2022-04-20 18:19:10.324000+00:00</td>\n",
       "      <td>2022-04-20 18:22:53.589000+00:00</td>\n",
       "      <td>450.0</td>\n",
       "      <td>320.0</td>\n",
       "      <td>3.0</td>\n",
       "      <td>2.0</td>\n",
       "      <td>5.143471</td>\n",
       "      <td>1650478750</td>\n",
       "      <td>120.0</td>\n",
       "      <td>30.0</td>\n",
       "      <td>...</td>\n",
       "      <td>iFoil L</td>\n",
       "      <td>iFoil</td>\n",
       "      <td>Gen. 2</td>\n",
       "      <td>Foiled Pages Counter</td>\n",
       "      <td>31155.0</td>\n",
       "      <td>Viktor</td>\n",
       "      <td>Operator</td>\n",
       "      <td>ERR</td>\n",
       "      <td>29407.0</td>\n",
       "      <td>100000.0</td>\n",
       "    </tr>\n",
       "    <tr>\n",
       "      <th>...</th>\n",
       "      <td>...</td>\n",
       "      <td>...</td>\n",
       "      <td>...</td>\n",
       "      <td>...</td>\n",
       "      <td>...</td>\n",
       "      <td>...</td>\n",
       "      <td>...</td>\n",
       "      <td>...</td>\n",
       "      <td>...</td>\n",
       "      <td>...</td>\n",
       "      <td>...</td>\n",
       "      <td>...</td>\n",
       "      <td>...</td>\n",
       "      <td>...</td>\n",
       "      <td>...</td>\n",
       "      <td>...</td>\n",
       "      <td>...</td>\n",
       "      <td>...</td>\n",
       "      <td>...</td>\n",
       "      <td>...</td>\n",
       "      <td>...</td>\n",
       "    </tr>\n",
       "    <tr>\n",
       "      <th>48293</th>\n",
       "      <td>2022-12-12 08:03:35.216000+00:00</td>\n",
       "      <td>2022-12-12 08:04:30.963000+00:00</td>\n",
       "      <td>450.0</td>\n",
       "      <td>320.0</td>\n",
       "      <td>1.0</td>\n",
       "      <td>2.0</td>\n",
       "      <td>1.227373</td>\n",
       "      <td>1670832215</td>\n",
       "      <td>80.0</td>\n",
       "      <td>30.0</td>\n",
       "      <td>...</td>\n",
       "      <td>Print Engine 1</td>\n",
       "      <td>Varnish Printer</td>\n",
       "      <td>NaN</td>\n",
       "      <td>3D Varnish Counter</td>\n",
       "      <td>2547017.0</td>\n",
       "      <td>Viktor</td>\n",
       "      <td>Operator</td>\n",
       "      <td>ERR</td>\n",
       "      <td>89030.0</td>\n",
       "      <td>100000.0</td>\n",
       "    </tr>\n",
       "    <tr>\n",
       "      <th>48296</th>\n",
       "      <td>2022-12-12 08:07:50.660000+00:00</td>\n",
       "      <td>2022-12-12 08:11:26.877000+00:00</td>\n",
       "      <td>450.0</td>\n",
       "      <td>320.0</td>\n",
       "      <td>1.0</td>\n",
       "      <td>2.0</td>\n",
       "      <td>22.095466</td>\n",
       "      <td>1670832470</td>\n",
       "      <td>80.0</td>\n",
       "      <td>30.0</td>\n",
       "      <td>...</td>\n",
       "      <td>Print Engine 1</td>\n",
       "      <td>Varnish Printer</td>\n",
       "      <td>NaN</td>\n",
       "      <td>3D Varnish Counter</td>\n",
       "      <td>2547017.0</td>\n",
       "      <td>Viktor</td>\n",
       "      <td>Operator</td>\n",
       "      <td>IDLE</td>\n",
       "      <td>89029.0</td>\n",
       "      <td>100000.0</td>\n",
       "    </tr>\n",
       "    <tr>\n",
       "      <th>48299</th>\n",
       "      <td>2022-12-12 08:13:29.110000+00:00</td>\n",
       "      <td>2022-12-12 08:14:41.168000+00:00</td>\n",
       "      <td>450.0</td>\n",
       "      <td>320.0</td>\n",
       "      <td>1.0</td>\n",
       "      <td>2.0</td>\n",
       "      <td>4.245281</td>\n",
       "      <td>1670832808</td>\n",
       "      <td>80.0</td>\n",
       "      <td>30.0</td>\n",
       "      <td>...</td>\n",
       "      <td>Print Engine 1</td>\n",
       "      <td>Varnish Printer</td>\n",
       "      <td>NaN</td>\n",
       "      <td>3D Varnish Counter</td>\n",
       "      <td>2547039.0</td>\n",
       "      <td>Viktor</td>\n",
       "      <td>Operator</td>\n",
       "      <td>ERR</td>\n",
       "      <td>89002.0</td>\n",
       "      <td>100000.0</td>\n",
       "    </tr>\n",
       "    <tr>\n",
       "      <th>48302</th>\n",
       "      <td>2022-12-12 08:17:32.467000+00:00</td>\n",
       "      <td>2022-12-12 08:17:45.689000+00:00</td>\n",
       "      <td>450.0</td>\n",
       "      <td>320.0</td>\n",
       "      <td>1.0</td>\n",
       "      <td>2.0</td>\n",
       "      <td>0.000000</td>\n",
       "      <td>1670833052</td>\n",
       "      <td>3.0</td>\n",
       "      <td>30.0</td>\n",
       "      <td>...</td>\n",
       "      <td>Print Engine 1</td>\n",
       "      <td>Varnish Printer</td>\n",
       "      <td>NaN</td>\n",
       "      <td>3D Varnish Counter</td>\n",
       "      <td>2547039.0</td>\n",
       "      <td>Viktor</td>\n",
       "      <td>Operator</td>\n",
       "      <td>ERR</td>\n",
       "      <td>89002.0</td>\n",
       "      <td>100000.0</td>\n",
       "    </tr>\n",
       "    <tr>\n",
       "      <th>48304</th>\n",
       "      <td>2022-12-12 08:18:59.581000+00:00</td>\n",
       "      <td>2022-12-12 08:21:01.946000+00:00</td>\n",
       "      <td>450.0</td>\n",
       "      <td>320.0</td>\n",
       "      <td>1.0</td>\n",
       "      <td>2.0</td>\n",
       "      <td>3.691804</td>\n",
       "      <td>1670833139</td>\n",
       "      <td>3.0</td>\n",
       "      <td>30.0</td>\n",
       "      <td>...</td>\n",
       "      <td>Print Engine 1</td>\n",
       "      <td>Varnish Printer</td>\n",
       "      <td>NaN</td>\n",
       "      <td>3D Varnish Counter</td>\n",
       "      <td>2547039.0</td>\n",
       "      <td>Viktor</td>\n",
       "      <td>Operator</td>\n",
       "      <td>IDLE</td>\n",
       "      <td>89002.0</td>\n",
       "      <td>100000.0</td>\n",
       "    </tr>\n",
       "  </tbody>\n",
       "</table>\n",
       "<p>13874 rows × 56 columns</p>\n",
       "</div>"
      ],
      "text/plain": [
       "                            started_at                         ended_at  \\\n",
       "10697 2022-04-20 18:19:10.324000+00:00 2022-04-20 18:22:53.589000+00:00   \n",
       "10698 2022-04-20 18:19:10.324000+00:00 2022-04-20 18:22:53.589000+00:00   \n",
       "10699 2022-04-20 18:19:10.324000+00:00 2022-04-20 18:22:53.589000+00:00   \n",
       "10700 2022-04-20 18:19:10.324000+00:00 2022-04-20 18:22:53.589000+00:00   \n",
       "10701 2022-04-20 18:19:10.324000+00:00 2022-04-20 18:22:53.589000+00:00   \n",
       "...                                ...                              ...   \n",
       "48293 2022-12-12 08:03:35.216000+00:00 2022-12-12 08:04:30.963000+00:00   \n",
       "48296 2022-12-12 08:07:50.660000+00:00 2022-12-12 08:11:26.877000+00:00   \n",
       "48299 2022-12-12 08:13:29.110000+00:00 2022-12-12 08:14:41.168000+00:00   \n",
       "48302 2022-12-12 08:17:32.467000+00:00 2022-12-12 08:17:45.689000+00:00   \n",
       "48304 2022-12-12 08:18:59.581000+00:00 2022-12-12 08:21:01.946000+00:00   \n",
       "\n",
       "       paperHeight_job  paperWidth_job  scanner_mode  bars_job  \\\n",
       "10697            450.0           320.0           3.0       2.0   \n",
       "10698            450.0           320.0           3.0       2.0   \n",
       "10699            450.0           320.0           3.0       2.0   \n",
       "10700            450.0           320.0           3.0       2.0   \n",
       "10701            450.0           320.0           3.0       2.0   \n",
       "...                ...             ...           ...       ...   \n",
       "48293            450.0           320.0           1.0       2.0   \n",
       "48296            450.0           320.0           1.0       2.0   \n",
       "48299            450.0           320.0           1.0       2.0   \n",
       "48302            450.0           320.0           1.0       2.0   \n",
       "48304            450.0           320.0           1.0       2.0   \n",
       "\n",
       "       varnishConsumptionVarnish_3d_job       jobId  total_copies_requested  \\\n",
       "10697                          5.143471  1650478750                   120.0   \n",
       "10698                          5.143471  1650478750                   120.0   \n",
       "10699                          5.143471  1650478750                   120.0   \n",
       "10700                          5.143471  1650478750                   120.0   \n",
       "10701                          5.143471  1650478750                   120.0   \n",
       "...                                 ...         ...                     ...   \n",
       "48293                          1.227373  1670832215                    80.0   \n",
       "48296                         22.095466  1670832470                    80.0   \n",
       "48299                          4.245281  1670832808                    80.0   \n",
       "48302                          0.000000  1670833052                     3.0   \n",
       "48304                          3.691804  1670833139                     3.0   \n",
       "\n",
       "        LED  ...    name_modules     type_modules generation_modules  \\\n",
       "10697  30.0  ...         iFoil L            iFoil             Gen. 2   \n",
       "10698  30.0  ...         iFoil L            iFoil             Gen. 2   \n",
       "10699  30.0  ...  Print Engine 1  Varnish Printer             Gen. 2   \n",
       "10700  30.0  ...         iFoil L            iFoil             Gen. 2   \n",
       "10701  30.0  ...         iFoil L            iFoil             Gen. 2   \n",
       "...     ...  ...             ...              ...                ...   \n",
       "48293  30.0  ...  Print Engine 1  Varnish Printer                NaN   \n",
       "48296  30.0  ...  Print Engine 1  Varnish Printer                NaN   \n",
       "48299  30.0  ...  Print Engine 1  Varnish Printer                NaN   \n",
       "48302  30.0  ...  Print Engine 1  Varnish Printer                NaN   \n",
       "48304  30.0  ...  Print Engine 1  Varnish Printer                NaN   \n",
       "\n",
       "       name_counters_modules value_counters_modules name_connected_operators  \\\n",
       "10697    Total Pages Counter                35755.0                   Viktor   \n",
       "10698   Foiled Pages Counter                31155.0                   Viktor   \n",
       "10699     3D Varnish Counter              1805874.0                   Viktor   \n",
       "10700    Total Pages Counter                35755.0                   Viktor   \n",
       "10701   Foiled Pages Counter                31155.0                   Viktor   \n",
       "...                      ...                    ...                      ...   \n",
       "48293     3D Varnish Counter              2547017.0                   Viktor   \n",
       "48296     3D Varnish Counter              2547017.0                   Viktor   \n",
       "48299     3D Varnish Counter              2547039.0                   Viktor   \n",
       "48302     3D Varnish Counter              2547039.0                   Viktor   \n",
       "48304     3D Varnish Counter              2547039.0                   Viktor   \n",
       "\n",
       "       level_connected_operators   status varnishLevelsTargetvolume  \\\n",
       "10697                   Operator  WARNING                   29412.0   \n",
       "10698                   Operator  WARNING                   29412.0   \n",
       "10699                   Operator  WARNING                   29412.0   \n",
       "10700                   Operator      ERR                   29407.0   \n",
       "10701                   Operator      ERR                   29407.0   \n",
       "...                          ...      ...                       ...   \n",
       "48293                   Operator      ERR                   89030.0   \n",
       "48296                   Operator     IDLE                   89029.0   \n",
       "48299                   Operator      ERR                   89002.0   \n",
       "48302                   Operator      ERR                   89002.0   \n",
       "48304                   Operator     IDLE                   89002.0   \n",
       "\n",
       "      varnishLevelsTotalvolume  \n",
       "10697                 100000.0  \n",
       "10698                 100000.0  \n",
       "10699                 100000.0  \n",
       "10700                 100000.0  \n",
       "10701                 100000.0  \n",
       "...                        ...  \n",
       "48293                 100000.0  \n",
       "48296                 100000.0  \n",
       "48299                 100000.0  \n",
       "48302                 100000.0  \n",
       "48304                 100000.0  \n",
       "\n",
       "[13874 rows x 56 columns]"
      ]
     },
     "execution_count": 177,
     "metadata": {},
     "output_type": "execute_result"
    }
   ],
   "source": [
    "concat_df_1"
   ]
  },
  {
   "cell_type": "code",
   "execution_count": 182,
   "metadata": {},
   "outputs": [
    {
     "data": {
      "text/plain": [
       "WARNING    6889\n",
       "ERROR      4211\n",
       "INFO       2774\n",
       "Name: criticality_events, dtype: int64"
      ]
     },
     "execution_count": 182,
     "metadata": {},
     "output_type": "execute_result"
    }
   ],
   "source": [
    "concat_df_1['criticality_events'].value_counts()"
   ]
  },
  {
   "attachments": {},
   "cell_type": "markdown",
   "metadata": {},
   "source": [
    "### Output"
   ]
  },
  {
   "cell_type": "code",
   "execution_count": 179,
   "metadata": {},
   "outputs": [],
   "source": [
    "concat_df.to_csv(path_or_buf='../data/training_dataset.csv')"
   ]
  },
  {
   "cell_type": "code",
   "execution_count": 180,
   "metadata": {},
   "outputs": [
    {
     "data": {
      "text/plain": [
       "(24390, 56)"
      ]
     },
     "execution_count": 180,
     "metadata": {},
     "output_type": "execute_result"
    }
   ],
   "source": [
    "concat_df.shape"
   ]
  },
  {
   "cell_type": "code",
   "execution_count": 181,
   "metadata": {},
   "outputs": [
    {
     "data": {
      "text/plain": [
       "WARNING    6889\n",
       "ERROR      4211\n",
       "INFO       2774\n",
       "Name: criticality_events, dtype: int64"
      ]
     },
     "execution_count": 181,
     "metadata": {},
     "output_type": "execute_result"
    }
   ],
   "source": [
    "concat_df['criticality_events'].value_counts()"
   ]
  }
 ],
 "metadata": {
  "kernelspec": {
   "display_name": ".venv",
   "language": "python",
   "name": "python3"
  },
  "language_info": {
   "codemirror_mode": {
    "name": "ipython",
    "version": 3
   },
   "file_extension": ".py",
   "mimetype": "text/x-python",
   "name": "python",
   "nbconvert_exporter": "python",
   "pygments_lexer": "ipython3",
   "version": "3.10.11"
  },
  "orig_nbformat": 4
 },
 "nbformat": 4,
 "nbformat_minor": 2
}
