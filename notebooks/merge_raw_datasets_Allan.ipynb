{
 "cells": [
  {
   "attachments": {},
   "cell_type": "markdown",
   "metadata": {},
   "source": [
    "# Création d'un dataset des données brutes fusionnées"
   ]
  },
  {
   "cell_type": "code",
   "execution_count": 45,
   "metadata": {},
   "outputs": [],
   "source": [
    "import pandas as pd"
   ]
  },
  {
   "cell_type": "code",
   "execution_count": 46,
   "metadata": {},
   "outputs": [],
   "source": [
    "metrics = '../data/metrics.csv'\n",
    "job_events = '../data/job_events.csv'\n",
    "jobs = '../data/jobs.csv'"
   ]
  },
  {
   "cell_type": "code",
   "execution_count": 47,
   "metadata": {},
   "outputs": [],
   "source": [
    "metrics_df = pd.read_csv(metrics)\n",
    "job_events_df = pd.read_csv(job_events)\n",
    "jobs_df = pd.read_csv(jobs)"
   ]
  },
  {
   "cell_type": "code",
   "execution_count": 48,
   "metadata": {},
   "outputs": [
    {
     "name": "stdout",
     "output_type": "stream",
     "text": [
      "<class 'pandas.core.frame.DataFrame'>\n",
      "RangeIndex: 1164430 entries, 0 to 1164429\n",
      "Data columns (total 17 columns):\n",
      " #   Column                     Non-Null Count    Dtype  \n",
      "---  ------                     --------------    -----  \n",
      " 0   id                         1164430 non-null  int64  \n",
      " 1   status                     1164430 non-null  object \n",
      " 2   created_at                 1164430 non-null  object \n",
      " 3   cyan_capacity              0 non-null        float64\n",
      " 4   cyan_remaining             0 non-null        float64\n",
      " 5   magenta_capacity           0 non-null        float64\n",
      " 6   magenta_remaining          0 non-null        float64\n",
      " 7   yellow_capacity            0 non-null        float64\n",
      " 8   yellow_remaining           0 non-null        float64\n",
      " 9   black_capacity             0 non-null        float64\n",
      " 10  black_remaining            0 non-null        float64\n",
      " 11  machineId                  1164430 non-null  int64  \n",
      " 12  connected_operators        1164430 non-null  object \n",
      " 13  varnishLevelsTargetvolume  1164430 non-null  float64\n",
      " 14  varnishLevelsTotalvolume   1164430 non-null  int64  \n",
      " 15  modules                    1164430 non-null  object \n",
      " 16  events                     1164430 non-null  object \n",
      "dtypes: float64(9), int64(3), object(5)\n",
      "memory usage: 151.0+ MB\n"
     ]
    }
   ],
   "source": [
    "metrics_df.info()"
   ]
  },
  {
   "cell_type": "code",
   "execution_count": 49,
   "metadata": {},
   "outputs": [
    {
     "data": {
      "text/plain": [
       "(1164430, 17)"
      ]
     },
     "execution_count": 49,
     "metadata": {},
     "output_type": "execute_result"
    }
   ],
   "source": [
    "metrics_df.shape"
   ]
  },
  {
   "cell_type": "code",
   "execution_count": 50,
   "metadata": {},
   "outputs": [],
   "source": [
    "# metrics_df.dropna(axis='columns', inplace=True)"
   ]
  },
  {
   "cell_type": "code",
   "execution_count": 51,
   "metadata": {},
   "outputs": [
    {
     "data": {
      "text/html": [
       "<div>\n",
       "<style scoped>\n",
       "    .dataframe tbody tr th:only-of-type {\n",
       "        vertical-align: middle;\n",
       "    }\n",
       "\n",
       "    .dataframe tbody tr th {\n",
       "        vertical-align: top;\n",
       "    }\n",
       "\n",
       "    .dataframe thead th {\n",
       "        text-align: right;\n",
       "    }\n",
       "</style>\n",
       "<table border=\"1\" class=\"dataframe\">\n",
       "  <thead>\n",
       "    <tr style=\"text-align: right;\">\n",
       "      <th></th>\n",
       "      <th>id</th>\n",
       "      <th>status</th>\n",
       "      <th>created_at</th>\n",
       "      <th>cyan_capacity</th>\n",
       "      <th>cyan_remaining</th>\n",
       "      <th>magenta_capacity</th>\n",
       "      <th>magenta_remaining</th>\n",
       "      <th>yellow_capacity</th>\n",
       "      <th>yellow_remaining</th>\n",
       "      <th>black_capacity</th>\n",
       "      <th>black_remaining</th>\n",
       "      <th>machineId</th>\n",
       "      <th>connected_operators</th>\n",
       "      <th>varnishLevelsTargetvolume</th>\n",
       "      <th>varnishLevelsTotalvolume</th>\n",
       "      <th>modules</th>\n",
       "      <th>events</th>\n",
       "    </tr>\n",
       "  </thead>\n",
       "  <tbody>\n",
       "    <tr>\n",
       "      <th>0</th>\n",
       "      <td>5561325</td>\n",
       "      <td>WARNING</td>\n",
       "      <td>2022-06-07 12:23:52.164000</td>\n",
       "      <td>NaN</td>\n",
       "      <td>NaN</td>\n",
       "      <td>NaN</td>\n",
       "      <td>NaN</td>\n",
       "      <td>NaN</td>\n",
       "      <td>NaN</td>\n",
       "      <td>NaN</td>\n",
       "      <td>NaN</td>\n",
       "      <td>14</td>\n",
       "      <td>[{\"name\": \"JAN\", \"level\": \"Operator\"}]</td>\n",
       "      <td>22050.818386</td>\n",
       "      <td>100000</td>\n",
       "      <td>[{\"sn\": \"\", \"name\": \"Print Engine 1\", \"type\": ...</td>\n",
       "      <td>[]</td>\n",
       "    </tr>\n",
       "    <tr>\n",
       "      <th>1</th>\n",
       "      <td>5513803</td>\n",
       "      <td>IDLE</td>\n",
       "      <td>2022-06-03 08:44:57.996000</td>\n",
       "      <td>NaN</td>\n",
       "      <td>NaN</td>\n",
       "      <td>NaN</td>\n",
       "      <td>NaN</td>\n",
       "      <td>NaN</td>\n",
       "      <td>NaN</td>\n",
       "      <td>NaN</td>\n",
       "      <td>NaN</td>\n",
       "      <td>14</td>\n",
       "      <td>[{\"name\": \"Viktor\", \"level\": \"Operator\"}]</td>\n",
       "      <td>22402.256226</td>\n",
       "      <td>100000</td>\n",
       "      <td>[{\"sn\": \"\", \"name\": \"Print Engine 1\", \"type\": ...</td>\n",
       "      <td>[]</td>\n",
       "    </tr>\n",
       "    <tr>\n",
       "      <th>2</th>\n",
       "      <td>5514125</td>\n",
       "      <td>IDLE</td>\n",
       "      <td>2022-06-03 08:50:28.520000</td>\n",
       "      <td>NaN</td>\n",
       "      <td>NaN</td>\n",
       "      <td>NaN</td>\n",
       "      <td>NaN</td>\n",
       "      <td>NaN</td>\n",
       "      <td>NaN</td>\n",
       "      <td>NaN</td>\n",
       "      <td>NaN</td>\n",
       "      <td>14</td>\n",
       "      <td>[{\"name\": \"Viktor\", \"level\": \"Operator\"}]</td>\n",
       "      <td>22402.256226</td>\n",
       "      <td>100000</td>\n",
       "      <td>[{\"sn\": \"\", \"name\": \"Print Engine 1\", \"type\": ...</td>\n",
       "      <td>[]</td>\n",
       "    </tr>\n",
       "    <tr>\n",
       "      <th>3</th>\n",
       "      <td>5513794</td>\n",
       "      <td>IDLE</td>\n",
       "      <td>2022-06-03 08:44:47.992000</td>\n",
       "      <td>NaN</td>\n",
       "      <td>NaN</td>\n",
       "      <td>NaN</td>\n",
       "      <td>NaN</td>\n",
       "      <td>NaN</td>\n",
       "      <td>NaN</td>\n",
       "      <td>NaN</td>\n",
       "      <td>NaN</td>\n",
       "      <td>14</td>\n",
       "      <td>[{\"name\": \"Viktor\", \"level\": \"Operator\"}]</td>\n",
       "      <td>22402.256226</td>\n",
       "      <td>100000</td>\n",
       "      <td>[{\"sn\": \"\", \"name\": \"Print Engine 1\", \"type\": ...</td>\n",
       "      <td>[]</td>\n",
       "    </tr>\n",
       "    <tr>\n",
       "      <th>4</th>\n",
       "      <td>5513880</td>\n",
       "      <td>IDLE</td>\n",
       "      <td>2022-06-03 08:46:18.097000</td>\n",
       "      <td>NaN</td>\n",
       "      <td>NaN</td>\n",
       "      <td>NaN</td>\n",
       "      <td>NaN</td>\n",
       "      <td>NaN</td>\n",
       "      <td>NaN</td>\n",
       "      <td>NaN</td>\n",
       "      <td>NaN</td>\n",
       "      <td>14</td>\n",
       "      <td>[{\"name\": \"Viktor\", \"level\": \"Operator\"}]</td>\n",
       "      <td>22402.256226</td>\n",
       "      <td>100000</td>\n",
       "      <td>[{\"sn\": \"\", \"name\": \"Print Engine 1\", \"type\": ...</td>\n",
       "      <td>[{\"source\": \"PLC\", \"message\": \" Plateau de têt...</td>\n",
       "    </tr>\n",
       "  </tbody>\n",
       "</table>\n",
       "</div>"
      ],
      "text/plain": [
       "        id   status                  created_at  cyan_capacity  \\\n",
       "0  5561325  WARNING  2022-06-07 12:23:52.164000            NaN   \n",
       "1  5513803     IDLE  2022-06-03 08:44:57.996000            NaN   \n",
       "2  5514125     IDLE  2022-06-03 08:50:28.520000            NaN   \n",
       "3  5513794     IDLE  2022-06-03 08:44:47.992000            NaN   \n",
       "4  5513880     IDLE  2022-06-03 08:46:18.097000            NaN   \n",
       "\n",
       "   cyan_remaining  magenta_capacity  magenta_remaining  yellow_capacity  \\\n",
       "0             NaN               NaN                NaN              NaN   \n",
       "1             NaN               NaN                NaN              NaN   \n",
       "2             NaN               NaN                NaN              NaN   \n",
       "3             NaN               NaN                NaN              NaN   \n",
       "4             NaN               NaN                NaN              NaN   \n",
       "\n",
       "   yellow_remaining  black_capacity  black_remaining  machineId  \\\n",
       "0               NaN             NaN              NaN         14   \n",
       "1               NaN             NaN              NaN         14   \n",
       "2               NaN             NaN              NaN         14   \n",
       "3               NaN             NaN              NaN         14   \n",
       "4               NaN             NaN              NaN         14   \n",
       "\n",
       "                         connected_operators  varnishLevelsTargetvolume  \\\n",
       "0     [{\"name\": \"JAN\", \"level\": \"Operator\"}]               22050.818386   \n",
       "1  [{\"name\": \"Viktor\", \"level\": \"Operator\"}]               22402.256226   \n",
       "2  [{\"name\": \"Viktor\", \"level\": \"Operator\"}]               22402.256226   \n",
       "3  [{\"name\": \"Viktor\", \"level\": \"Operator\"}]               22402.256226   \n",
       "4  [{\"name\": \"Viktor\", \"level\": \"Operator\"}]               22402.256226   \n",
       "\n",
       "   varnishLevelsTotalvolume  \\\n",
       "0                    100000   \n",
       "1                    100000   \n",
       "2                    100000   \n",
       "3                    100000   \n",
       "4                    100000   \n",
       "\n",
       "                                             modules  \\\n",
       "0  [{\"sn\": \"\", \"name\": \"Print Engine 1\", \"type\": ...   \n",
       "1  [{\"sn\": \"\", \"name\": \"Print Engine 1\", \"type\": ...   \n",
       "2  [{\"sn\": \"\", \"name\": \"Print Engine 1\", \"type\": ...   \n",
       "3  [{\"sn\": \"\", \"name\": \"Print Engine 1\", \"type\": ...   \n",
       "4  [{\"sn\": \"\", \"name\": \"Print Engine 1\", \"type\": ...   \n",
       "\n",
       "                                              events  \n",
       "0                                                 []  \n",
       "1                                                 []  \n",
       "2                                                 []  \n",
       "3                                                 []  \n",
       "4  [{\"source\": \"PLC\", \"message\": \" Plateau de têt...  "
      ]
     },
     "execution_count": 51,
     "metadata": {},
     "output_type": "execute_result"
    }
   ],
   "source": [
    "metrics_df.head()"
   ]
  },
  {
   "cell_type": "code",
   "execution_count": 52,
   "metadata": {},
   "outputs": [
    {
     "data": {
      "text/html": [
       "<div>\n",
       "<style scoped>\n",
       "    .dataframe tbody tr th:only-of-type {\n",
       "        vertical-align: middle;\n",
       "    }\n",
       "\n",
       "    .dataframe tbody tr th {\n",
       "        vertical-align: top;\n",
       "    }\n",
       "\n",
       "    .dataframe thead th {\n",
       "        text-align: right;\n",
       "    }\n",
       "</style>\n",
       "<table border=\"1\" class=\"dataframe\">\n",
       "  <thead>\n",
       "    <tr style=\"text-align: right;\">\n",
       "      <th></th>\n",
       "      <th>id</th>\n",
       "      <th>payload</th>\n",
       "      <th>received_at</th>\n",
       "      <th>machine_id</th>\n",
       "      <th>tag</th>\n",
       "    </tr>\n",
       "  </thead>\n",
       "  <tbody>\n",
       "    <tr>\n",
       "      <th>0</th>\n",
       "      <td>29394</td>\n",
       "      <td>{\"iper\": [{\"id\": \"PRINT_ENGINE_1\", \"LED\": 30, ...</td>\n",
       "      <td>2021-08-24 07:57:11.291000</td>\n",
       "      <td>14</td>\n",
       "      <td>job-started</td>\n",
       "    </tr>\n",
       "    <tr>\n",
       "      <th>1</th>\n",
       "      <td>29395</td>\n",
       "      <td>{\"path\": \"D:/IMAGES/Standard/3096378-52x74-350...</td>\n",
       "      <td>2021-08-24 07:57:11.411000</td>\n",
       "      <td>14</td>\n",
       "      <td>job-preview-ready</td>\n",
       "    </tr>\n",
       "    <tr>\n",
       "      <th>2</th>\n",
       "      <td>29396</td>\n",
       "      <td>{\"jobId\": \"1629791843\", \"jobState\": \"SUCCESS\",...</td>\n",
       "      <td>2021-08-24 07:58:13.870000</td>\n",
       "      <td>14</td>\n",
       "      <td>job-ended</td>\n",
       "    </tr>\n",
       "    <tr>\n",
       "      <th>3</th>\n",
       "      <td>29397</td>\n",
       "      <td>{\"iper\": [{\"id\": \"PRINT_ENGINE_1\", \"LED\": 30, ...</td>\n",
       "      <td>2021-08-24 07:59:32.708000</td>\n",
       "      <td>14</td>\n",
       "      <td>job-started</td>\n",
       "    </tr>\n",
       "    <tr>\n",
       "      <th>4</th>\n",
       "      <td>29398</td>\n",
       "      <td>{\"path\": \"D:/IMAGES/Standard/3096378-52x74-350...</td>\n",
       "      <td>2021-08-24 07:59:32.813000</td>\n",
       "      <td>14</td>\n",
       "      <td>job-preview-ready</td>\n",
       "    </tr>\n",
       "  </tbody>\n",
       "</table>\n",
       "</div>"
      ],
      "text/plain": [
       "      id                                            payload  \\\n",
       "0  29394  {\"iper\": [{\"id\": \"PRINT_ENGINE_1\", \"LED\": 30, ...   \n",
       "1  29395  {\"path\": \"D:/IMAGES/Standard/3096378-52x74-350...   \n",
       "2  29396  {\"jobId\": \"1629791843\", \"jobState\": \"SUCCESS\",...   \n",
       "3  29397  {\"iper\": [{\"id\": \"PRINT_ENGINE_1\", \"LED\": 30, ...   \n",
       "4  29398  {\"path\": \"D:/IMAGES/Standard/3096378-52x74-350...   \n",
       "\n",
       "                  received_at  machine_id                tag  \n",
       "0  2021-08-24 07:57:11.291000          14        job-started  \n",
       "1  2021-08-24 07:57:11.411000          14  job-preview-ready  \n",
       "2  2021-08-24 07:58:13.870000          14          job-ended  \n",
       "3  2021-08-24 07:59:32.708000          14        job-started  \n",
       "4  2021-08-24 07:59:32.813000          14  job-preview-ready  "
      ]
     },
     "execution_count": 52,
     "metadata": {},
     "output_type": "execute_result"
    }
   ],
   "source": [
    "job_events_df.head()"
   ]
  },
  {
   "cell_type": "code",
   "execution_count": 53,
   "metadata": {},
   "outputs": [
    {
     "data": {
      "text/html": [
       "<div>\n",
       "<style scoped>\n",
       "    .dataframe tbody tr th:only-of-type {\n",
       "        vertical-align: middle;\n",
       "    }\n",
       "\n",
       "    .dataframe tbody tr th {\n",
       "        vertical-align: top;\n",
       "    }\n",
       "\n",
       "    .dataframe thead th {\n",
       "        text-align: right;\n",
       "    }\n",
       "</style>\n",
       "<table border=\"1\" class=\"dataframe\">\n",
       "  <thead>\n",
       "    <tr style=\"text-align: right;\">\n",
       "      <th></th>\n",
       "      <th>id</th>\n",
       "      <th>thumbnail</th>\n",
       "      <th>total_copies</th>\n",
       "      <th>started_at</th>\n",
       "      <th>ended_at</th>\n",
       "      <th>machineId</th>\n",
       "      <th>speed</th>\n",
       "      <th>operator</th>\n",
       "      <th>operator_level</th>\n",
       "      <th>first_page_image_path_on_machine</th>\n",
       "      <th>...</th>\n",
       "      <th>paperThickness</th>\n",
       "      <th>id_on_machine</th>\n",
       "      <th>total_copies_requested</th>\n",
       "      <th>job_thumbnail_id</th>\n",
       "      <th>uses_ifoil</th>\n",
       "      <th>uses_iper</th>\n",
       "      <th>scanner_mode</th>\n",
       "      <th>iper_bvar_count</th>\n",
       "      <th>varnishConsumptionVarnish_3d</th>\n",
       "      <th>varnishConsumptionVarnish_2d</th>\n",
       "    </tr>\n",
       "  </thead>\n",
       "  <tbody>\n",
       "    <tr>\n",
       "      <th>0</th>\n",
       "      <td>5021</td>\n",
       "      <td>/9j/4AAQSkZJRgABAQEAYABgAAD/2wBDAAgGBgcGBQgHBw...</td>\n",
       "      <td>NaN</td>\n",
       "      <td>2021-06-18 09:22:46.866000</td>\n",
       "      <td>NaN</td>\n",
       "      <td>14</td>\n",
       "      <td>418</td>\n",
       "      <td>Distributor</td>\n",
       "      <td>Distributor</td>\n",
       "      <td>D:/IMAGES/Standard/3040459-52x74-350 CM-18-06-...</td>\n",
       "      <td>...</td>\n",
       "      <td>0</td>\n",
       "      <td>1624008166</td>\n",
       "      <td>3</td>\n",
       "      <td>2383.0</td>\n",
       "      <td>False</td>\n",
       "      <td>True</td>\n",
       "      <td>NaN</td>\n",
       "      <td>NaN</td>\n",
       "      <td>NaN</td>\n",
       "      <td>NaN</td>\n",
       "    </tr>\n",
       "    <tr>\n",
       "      <th>1</th>\n",
       "      <td>5034</td>\n",
       "      <td>/9j/4AAQSkZJRgABAQEAYABgAAD/2wBDAAgGBgcGBQgHBw...</td>\n",
       "      <td>3.0</td>\n",
       "      <td>2021-06-18 10:08:13.716000</td>\n",
       "      <td>2021-06-18 10:10:22.257000</td>\n",
       "      <td>14</td>\n",
       "      <td>313</td>\n",
       "      <td>Micka</td>\n",
       "      <td>Operator</td>\n",
       "      <td>D:/IMAGES/Standard/3040459-52x74-350 CM-18-06-...</td>\n",
       "      <td>...</td>\n",
       "      <td>0</td>\n",
       "      <td>1624010893</td>\n",
       "      <td>100</td>\n",
       "      <td>2391.0</td>\n",
       "      <td>False</td>\n",
       "      <td>True</td>\n",
       "      <td>NaN</td>\n",
       "      <td>NaN</td>\n",
       "      <td>NaN</td>\n",
       "      <td>NaN</td>\n",
       "    </tr>\n",
       "    <tr>\n",
       "      <th>2</th>\n",
       "      <td>5037</td>\n",
       "      <td>/9j/4AAQSkZJRgABAQEAYABgAAD/2wBDAAgGBgcGBQgHBw...</td>\n",
       "      <td>70.0</td>\n",
       "      <td>2021-06-18 10:11:52.165000</td>\n",
       "      <td>2021-06-18 10:18:20.294000</td>\n",
       "      <td>14</td>\n",
       "      <td>313</td>\n",
       "      <td>Micka</td>\n",
       "      <td>Operator</td>\n",
       "      <td>D:/IMAGES/Standard/3040459-52x74-350 CM-18-06-...</td>\n",
       "      <td>...</td>\n",
       "      <td>0</td>\n",
       "      <td>1624011111</td>\n",
       "      <td>100</td>\n",
       "      <td>2393.0</td>\n",
       "      <td>False</td>\n",
       "      <td>True</td>\n",
       "      <td>NaN</td>\n",
       "      <td>NaN</td>\n",
       "      <td>NaN</td>\n",
       "      <td>NaN</td>\n",
       "    </tr>\n",
       "    <tr>\n",
       "      <th>3</th>\n",
       "      <td>5042</td>\n",
       "      <td>/9j/4AAQSkZJRgABAQEAYABgAAD/2wBDAAgGBgcGBQgHBw...</td>\n",
       "      <td>NaN</td>\n",
       "      <td>2021-06-18 10:30:23.049000</td>\n",
       "      <td>NaN</td>\n",
       "      <td>14</td>\n",
       "      <td>700</td>\n",
       "      <td>Micka</td>\n",
       "      <td>Operator</td>\n",
       "      <td>D:/IMAGES/Standard/3035811-5coul#1/0000001 V01...</td>\n",
       "      <td>...</td>\n",
       "      <td>0</td>\n",
       "      <td>1624012222</td>\n",
       "      <td>50</td>\n",
       "      <td>2397.0</td>\n",
       "      <td>False</td>\n",
       "      <td>True</td>\n",
       "      <td>NaN</td>\n",
       "      <td>NaN</td>\n",
       "      <td>NaN</td>\n",
       "      <td>NaN</td>\n",
       "    </tr>\n",
       "    <tr>\n",
       "      <th>4</th>\n",
       "      <td>5062</td>\n",
       "      <td>/9j/4AAQSkZJRgABAQEAYABgAAD/2wBDAAgGBgcGBQgHBw...</td>\n",
       "      <td>NaN</td>\n",
       "      <td>2021-06-18 12:35:11.864000</td>\n",
       "      <td>NaN</td>\n",
       "      <td>14</td>\n",
       "      <td>700</td>\n",
       "      <td>Viktor</td>\n",
       "      <td>Operator</td>\n",
       "      <td>D:/IMAGES/Standard/3037332-vernis/3037332-vern...</td>\n",
       "      <td>...</td>\n",
       "      <td>0</td>\n",
       "      <td>1624019711</td>\n",
       "      <td>1</td>\n",
       "      <td>2416.0</td>\n",
       "      <td>False</td>\n",
       "      <td>True</td>\n",
       "      <td>NaN</td>\n",
       "      <td>NaN</td>\n",
       "      <td>NaN</td>\n",
       "      <td>NaN</td>\n",
       "    </tr>\n",
       "  </tbody>\n",
       "</table>\n",
       "<p>5 rows × 23 columns</p>\n",
       "</div>"
      ],
      "text/plain": [
       "     id                                          thumbnail  total_copies  \\\n",
       "0  5021  /9j/4AAQSkZJRgABAQEAYABgAAD/2wBDAAgGBgcGBQgHBw...           NaN   \n",
       "1  5034  /9j/4AAQSkZJRgABAQEAYABgAAD/2wBDAAgGBgcGBQgHBw...           3.0   \n",
       "2  5037  /9j/4AAQSkZJRgABAQEAYABgAAD/2wBDAAgGBgcGBQgHBw...          70.0   \n",
       "3  5042  /9j/4AAQSkZJRgABAQEAYABgAAD/2wBDAAgGBgcGBQgHBw...           NaN   \n",
       "4  5062  /9j/4AAQSkZJRgABAQEAYABgAAD/2wBDAAgGBgcGBQgHBw...           NaN   \n",
       "\n",
       "                   started_at                    ended_at  machineId  speed  \\\n",
       "0  2021-06-18 09:22:46.866000                         NaN         14    418   \n",
       "1  2021-06-18 10:08:13.716000  2021-06-18 10:10:22.257000         14    313   \n",
       "2  2021-06-18 10:11:52.165000  2021-06-18 10:18:20.294000         14    313   \n",
       "3  2021-06-18 10:30:23.049000                         NaN         14    700   \n",
       "4  2021-06-18 12:35:11.864000                         NaN         14    700   \n",
       "\n",
       "      operator operator_level  \\\n",
       "0  Distributor    Distributor   \n",
       "1        Micka       Operator   \n",
       "2        Micka       Operator   \n",
       "3        Micka       Operator   \n",
       "4       Viktor       Operator   \n",
       "\n",
       "                    first_page_image_path_on_machine  ...  paperThickness  \\\n",
       "0  D:/IMAGES/Standard/3040459-52x74-350 CM-18-06-...  ...               0   \n",
       "1  D:/IMAGES/Standard/3040459-52x74-350 CM-18-06-...  ...               0   \n",
       "2  D:/IMAGES/Standard/3040459-52x74-350 CM-18-06-...  ...               0   \n",
       "3  D:/IMAGES/Standard/3035811-5coul#1/0000001 V01...  ...               0   \n",
       "4  D:/IMAGES/Standard/3037332-vernis/3037332-vern...  ...               0   \n",
       "\n",
       "   id_on_machine total_copies_requested  job_thumbnail_id  uses_ifoil  \\\n",
       "0     1624008166                      3            2383.0       False   \n",
       "1     1624010893                    100            2391.0       False   \n",
       "2     1624011111                    100            2393.0       False   \n",
       "3     1624012222                     50            2397.0       False   \n",
       "4     1624019711                      1            2416.0       False   \n",
       "\n",
       "   uses_iper  scanner_mode  iper_bvar_count  varnishConsumptionVarnish_3d  \\\n",
       "0       True           NaN              NaN                           NaN   \n",
       "1       True           NaN              NaN                           NaN   \n",
       "2       True           NaN              NaN                           NaN   \n",
       "3       True           NaN              NaN                           NaN   \n",
       "4       True           NaN              NaN                           NaN   \n",
       "\n",
       "   varnishConsumptionVarnish_2d  \n",
       "0                           NaN  \n",
       "1                           NaN  \n",
       "2                           NaN  \n",
       "3                           NaN  \n",
       "4                           NaN  \n",
       "\n",
       "[5 rows x 23 columns]"
      ]
     },
     "execution_count": 53,
     "metadata": {},
     "output_type": "execute_result"
    }
   ],
   "source": [
    "jobs_df.head()"
   ]
  },
  {
   "cell_type": "code",
   "execution_count": 54,
   "metadata": {},
   "outputs": [
    {
     "data": {
      "text/plain": [
       "Index(['id', 'status', 'created_at', 'cyan_capacity', 'cyan_remaining',\n",
       "       'magenta_capacity', 'magenta_remaining', 'yellow_capacity',\n",
       "       'yellow_remaining', 'black_capacity', 'black_remaining', 'machineId',\n",
       "       'connected_operators', 'varnishLevelsTargetvolume',\n",
       "       'varnishLevelsTotalvolume', 'modules', 'events'],\n",
       "      dtype='object')"
      ]
     },
     "execution_count": 54,
     "metadata": {},
     "output_type": "execute_result"
    }
   ],
   "source": [
    "metrics_df.columns"
   ]
  },
  {
   "cell_type": "code",
   "execution_count": 55,
   "metadata": {},
   "outputs": [
    {
     "data": {
      "text/plain": [
       "(1164430, 17)"
      ]
     },
     "execution_count": 55,
     "metadata": {},
     "output_type": "execute_result"
    }
   ],
   "source": [
    "# on affiche les dimensions du dataframe\n",
    "metrics_df.shape"
   ]
  },
  {
   "cell_type": "code",
   "execution_count": 56,
   "metadata": {},
   "outputs": [],
   "source": [
    "metrics_df.drop_duplicates(inplace=True)"
   ]
  },
  {
   "cell_type": "code",
   "execution_count": 57,
   "metadata": {},
   "outputs": [
    {
     "data": {
      "text/plain": [
       "(1164430, 17)"
      ]
     },
     "execution_count": 57,
     "metadata": {},
     "output_type": "execute_result"
    }
   ],
   "source": [
    "metrics_df.shape"
   ]
  },
  {
   "cell_type": "code",
   "execution_count": 58,
   "metadata": {},
   "outputs": [
    {
     "data": {
      "text/plain": [
       "array(['WARNING', 'IDLE', 'ERR'], dtype=object)"
      ]
     },
     "execution_count": 58,
     "metadata": {},
     "output_type": "execute_result"
    }
   ],
   "source": [
    "# on liste les valeurs unique présent dans la colonne status\n",
    "metrics_df['status'].unique()"
   ]
  },
  {
   "cell_type": "code",
   "execution_count": 59,
   "metadata": {},
   "outputs": [
    {
     "data": {
      "text/plain": [
       "array([14], dtype=int64)"
      ]
     },
     "execution_count": 59,
     "metadata": {},
     "output_type": "execute_result"
    }
   ],
   "source": [
    "metrics_df['machineId'].unique()"
   ]
  },
  {
   "cell_type": "code",
   "execution_count": null,
   "metadata": {},
   "outputs": [],
   "source": []
  }
 ],
 "metadata": {
  "kernelspec": {
   "display_name": "Python 3",
   "language": "python",
   "name": "python3"
  },
  "language_info": {
   "codemirror_mode": {
    "name": "ipython",
    "version": 3
   },
   "file_extension": ".py",
   "mimetype": "text/x-python",
   "name": "python",
   "nbconvert_exporter": "python",
   "pygments_lexer": "ipython3",
   "version": "3.10.7"
  },
  "orig_nbformat": 4,
  "vscode": {
   "interpreter": {
    "hash": "c82c03ead04ab066437b6c9904a4a96e32bfea28adc00d1a80c0b0ea62323a7a"
   }
  }
 },
 "nbformat": 4,
 "nbformat_minor": 2
}
