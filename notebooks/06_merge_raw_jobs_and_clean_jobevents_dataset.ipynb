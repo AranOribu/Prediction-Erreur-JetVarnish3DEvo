{
 "cells": [
  {
   "attachments": {},
   "cell_type": "markdown",
   "metadata": {},
   "source": [
    "# Notebook de création du dataset des données jobs et job events fusionnées"
   ]
  },
  {
   "attachments": {},
   "cell_type": "markdown",
   "metadata": {},
   "source": [
    "# A. Imports"
   ]
  },
  {
   "attachments": {},
   "cell_type": "markdown",
   "metadata": {},
   "source": [
    "## a) Librairies"
   ]
  },
  {
   "cell_type": "code",
   "execution_count": 5,
   "metadata": {},
   "outputs": [],
   "source": [
    "import os, json\n",
    "import pandas as pd\n",
    "import numpy as np\n",
    "import matplotlib.pyplot as plt"
   ]
  },
  {
   "attachments": {},
   "cell_type": "markdown",
   "metadata": {},
   "source": [
    "## b) Données"
   ]
  },
  {
   "cell_type": "code",
   "execution_count": 6,
   "metadata": {},
   "outputs": [],
   "source": [
    "# source path\n",
    "jobs = '../data/jobs/raw_jobs_dataset.csv'\n",
    "\n",
    "# source path\n",
    "events = '../data/jobs/clean_merge_job_events_dataset.csv'\n",
    "\n",
    "# save target path\n",
    "save_csv = '../data/jobs/merge_raw_jobs_and_clean_jobevents_dataset.csv'"
   ]
  },
  {
   "attachments": {},
   "cell_type": "markdown",
   "metadata": {},
   "source": [
    "# B. Dataframe"
   ]
  },
  {
   "attachments": {},
   "cell_type": "markdown",
   "metadata": {},
   "source": [
    "## a) Création des dataframes jobs et events"
   ]
  },
  {
   "attachments": {},
   "cell_type": "markdown",
   "metadata": {},
   "source": [
    "### 1. jobs"
   ]
  },
  {
   "cell_type": "code",
   "execution_count": 7,
   "metadata": {},
   "outputs": [
    {
     "name": "stdout",
     "output_type": "stream",
     "text": [
      "<class 'pandas.core.frame.DataFrame'>\n",
      "Int64Index: 16295 entries, 0 to 16294\n",
      "Data columns (total 17 columns):\n",
      " #   Column                        Non-Null Count  Dtype  \n",
      "---  ------                        --------------  -----  \n",
      " 0   total_copies                  16295 non-null  int64  \n",
      " 1   started_at                    16295 non-null  object \n",
      " 2   ended_at                      16295 non-null  object \n",
      " 3   speed                         16295 non-null  int64  \n",
      " 4   operator                      16295 non-null  object \n",
      " 5   operator_level                16295 non-null  object \n",
      " 6   paperHeight                   16295 non-null  int64  \n",
      " 7   paperWidth                    16295 non-null  int64  \n",
      " 8   paperName                     16295 non-null  object \n",
      " 9   paperThickness                16295 non-null  int64  \n",
      " 10  id_on_machine                 16295 non-null  int64  \n",
      " 11  total_copies_requested        16295 non-null  int64  \n",
      " 12  uses_ifoil                    16295 non-null  bool   \n",
      " 13  uses_iper                     16295 non-null  bool   \n",
      " 14  scanner_mode                  16295 non-null  int64  \n",
      " 15  iper_bvar_count               16295 non-null  int64  \n",
      " 16  varnishConsumptionVarnish_3d  16295 non-null  float64\n",
      "dtypes: bool(2), float64(1), int64(9), object(5)\n",
      "memory usage: 2.0+ MB\n"
     ]
    }
   ],
   "source": [
    "# création d'un dataframe à partir du csv de données\n",
    "jobs_df = pd.read_csv(jobs, index_col=0)\n",
    "jobs_df.info()"
   ]
  },
  {
   "attachments": {},
   "cell_type": "markdown",
   "metadata": {},
   "source": [
    "### 2. job events"
   ]
  },
  {
   "cell_type": "code",
   "execution_count": 8,
   "metadata": {},
   "outputs": [
    {
     "name": "stdout",
     "output_type": "stream",
     "text": [
      "<class 'pandas.core.frame.DataFrame'>\n",
      "Int64Index: 16295 entries, 0 to 16294\n",
      "Data columns (total 37 columns):\n",
      " #   Column                                                Non-Null Count  Dtype  \n",
      "---  ------                                                --------------  -----  \n",
      " 0   jobId                                                 16295 non-null  int64  \n",
      " 1   timestamp_start                                       16295 non-null  object \n",
      " 2   totalCopies_start                                     16295 non-null  int64  \n",
      " 3   LED_iper                                              16295 non-null  int64  \n",
      " 4   bars_iper                                             16295 non-null  object \n",
      " 5   drops_iper                                            16295 non-null  int64  \n",
      " 6   dithering_iper                                        16295 non-null  bool   \n",
      " 7   deadPixelsOffset_iper                                 16295 non-null  int64  \n",
      " 8   level_user                                            16295 non-null  object \n",
      " 9   operator_user                                         16295 non-null  object \n",
      " 10  speed_ifoil                                           16295 non-null  float64\n",
      " 11  enabled_ifoil                                         16295 non-null  bool   \n",
      " 12  optifoil_ifoil                                        16295 non-null  bool   \n",
      " 13  stampAreas_ifoil                                      16295 non-null  object \n",
      " 14  heater1Enabled_ifoil                                  16295 non-null  bool   \n",
      " 15  speedTensionIn_ifoil                                  16295 non-null  float64\n",
      " 16  heater1Temperature_ifoil                              16295 non-null  int64  \n",
      " 17  x_imageLayout_layout                                  16295 non-null  int64  \n",
      " 18  y_imageLayout_layout                                  16295 non-null  int64  \n",
      " 19  name_paperFormat_layout                               16295 non-null  object \n",
      " 20  width_paperFormat_layout                              16295 non-null  float64\n",
      " 21  height_paperFormat_layout                             16295 non-null  float64\n",
      " 22  speed_layout                                          16295 non-null  int64  \n",
      " 23  power_irDryers                                        16295 non-null  int64  \n",
      " 24  power_uvDryers                                        16295 non-null  int64  \n",
      " 25  topMargin_registration_remoteScannerRegistration      16295 non-null  int64  \n",
      " 26  leftMargin_registration_remoteScannerRegistration     16295 non-null  int64  \n",
      " 27  redScore_gridMode_remoteScannerRegistration           16295 non-null  int64  \n",
      " 28  redScore_cropmarksMode_remoteScannerRegistration      16295 non-null  int64  \n",
      " 29  redScore_fullScannerMode_remoteScannerRegistration    16295 non-null  int64  \n",
      " 30  blueScore_fullScannerMode_remoteScannerRegistration   16295 non-null  int64  \n",
      " 31  greenScore_fullScannerMode_remoteScannerRegistration  16295 non-null  int64  \n",
      " 32  mode_remoteScannerRegistration                        16295 non-null  int64  \n",
      " 33  jobState                                              16295 non-null  object \n",
      " 34  timestamp_end                                         16295 non-null  object \n",
      " 35  totalCopies_end                                       16295 non-null  int64  \n",
      " 36  consumption_operatorSideTanks_varnishConsumption      16295 non-null  float64\n",
      "dtypes: bool(4), float64(5), int64(20), object(8)\n",
      "memory usage: 4.3+ MB\n"
     ]
    }
   ],
   "source": [
    "# création d'un dataframe à partir du csv de données\n",
    "events_df = pd.read_csv(events, index_col=0)\n",
    "events_df.info()"
   ]
  },
  {
   "attachments": {},
   "cell_type": "markdown",
   "metadata": {},
   "source": [
    "## b) Création d'un dataframe fusionné"
   ]
  },
  {
   "attachments": {},
   "cell_type": "markdown",
   "metadata": {},
   "source": [
    "### 1. Suppression de colonnes"
   ]
  },
  {
   "cell_type": "code",
   "execution_count": 9,
   "metadata": {},
   "outputs": [],
   "source": [
    "# suppression des colonnes avec des valeurs uniques\n",
    "for col in list(jobs_df.columns):\n",
    "    if jobs_df[col].nunique() == 1:\n",
    "        jobs_df.drop(col, axis=1, inplace=True)"
   ]
  },
  {
   "cell_type": "code",
   "execution_count": 10,
   "metadata": {},
   "outputs": [],
   "source": [
    "# suppression des colonnes avec des valeurs uniques\n",
    "for col in list(events_df.columns) :\n",
    "    if events_df[col].nunique() == 1:\n",
    "        events_df.drop(col, axis=1, inplace=True)"
   ]
  },
  {
   "attachments": {},
   "cell_type": "markdown",
   "metadata": {},
   "source": [
    "### 2. Concordance des colonnes entre dataframes"
   ]
  },
  {
   "cell_type": "code",
   "execution_count": 11,
   "metadata": {},
   "outputs": [],
   "source": [
    "# on renomme des colonnes de jobs\n",
    "jobs_df = jobs_df.rename(columns={\n",
    " 'uses_ifoil' : 'ifoil',\n",
    " 'iper_bvar_count': 'bars'\n",
    " })"
   ]
  },
  {
   "cell_type": "code",
   "execution_count": 12,
   "metadata": {},
   "outputs": [],
   "source": [
    "# on renomme des colonnes de events\n",
    "events_df = events_df.rename(columns={\n",
    "    'totalCopies_start':'total_copies_requested',\n",
    "    'LED_iper' : 'LED',\n",
    "    'bars_iper' : 'bars',\n",
    "    'drops_iper': 'drops',\n",
    "    'dithering_iper' : 'dithering',\n",
    "    'deadPixelsOffset_iper' : 'deadPixelsOffset',\n",
    "    'level_user' : 'operator_level',\n",
    "    'operator_user':'operator',\n",
    "    'enabled_ifoil' : 'ifoil',\n",
    "    'x_imageLayout_layout' : 'x_imageLayout',\n",
    "    'y_imageLayout_layout' : 'y_imageLayout',\n",
    "    'name_paperFormat_layout' : 'paperName',\n",
    "    'width_paperFormat_layout' : 'paperWidth',\n",
    "    'height_paperFormat_layout' : 'paperHeight',\n",
    "    'speed_layout' : 'speed',\n",
    "    'topMargin_registration_remoteScannerRegistration' : 'topMargin_remoteScannerRegistration',\n",
    "    'leftMargin_registration_remoteScannerRegistration' : 'leftMargin_remoteScannerRegistration',\n",
    "    'totalCopies_end' : 'total_copies',\n",
    "    'consumption_operatorSideTanks_varnishConsumption' : 'varnishConsumptionVarnish_3d'\n",
    "    })"
   ]
  },
  {
   "cell_type": "code",
   "execution_count": 13,
   "metadata": {},
   "outputs": [],
   "source": [
    "# liste des colonnes communes\n",
    "common_cols = [col for col in jobs_df.columns.to_list() if col in events_df.columns.to_list()]"
   ]
  },
  {
   "attachments": {},
   "cell_type": "markdown",
   "metadata": {},
   "source": [
    "### 3. Concordance des valeurs entre colonnes communes"
   ]
  },
  {
   "cell_type": "code",
   "execution_count": 14,
   "metadata": {},
   "outputs": [
    {
     "data": {
      "text/plain": [
       "['total_copies',\n",
       " 'speed',\n",
       " 'operator',\n",
       " 'operator_level',\n",
       " 'paperName',\n",
       " 'total_copies_requested',\n",
       " 'ifoil']"
      ]
     },
     "execution_count": 14,
     "metadata": {},
     "output_type": "execute_result"
    }
   ],
   "source": [
    "# on liste les colonnes des deux dataframes contenant toutes leurs valeurs identiques\n",
    "col_with_duplicates = []\n",
    "for col in common_cols :\n",
    "    if (events_df[col].values == jobs_df[col].values).all():\n",
    "        col_with_duplicates.append(col)\n",
    "col_with_duplicates"
   ]
  },
  {
   "cell_type": "code",
   "execution_count": 15,
   "metadata": {},
   "outputs": [],
   "source": [
    "# suppression des colonnes de jobs en doublons dans events\n",
    "jobs_df = jobs_df.drop(col_with_duplicates, axis=1)"
   ]
  },
  {
   "attachments": {},
   "cell_type": "markdown",
   "metadata": {},
   "source": [
    "### 4. Fusion des dataframes"
   ]
  },
  {
   "cell_type": "code",
   "execution_count": 16,
   "metadata": {},
   "outputs": [],
   "source": [
    "merge_df = pd.merge(jobs_df, events_df, left_on='id_on_machine', right_on='jobId')\n",
    "merge_df = merge_df.drop('id_on_machine', axis=1)"
   ]
  },
  {
   "attachments": {},
   "cell_type": "markdown",
   "metadata": {},
   "source": [
    "### 5. Vérification"
   ]
  },
  {
   "cell_type": "code",
   "execution_count": 17,
   "metadata": {},
   "outputs": [
    {
     "data": {
      "text/plain": [
       "False"
      ]
     },
     "execution_count": 17,
     "metadata": {},
     "output_type": "execute_result"
    }
   ],
   "source": [
    "# on verifie que les jobId sont uniques\n",
    "merge_df.jobId.duplicated().any()"
   ]
  },
  {
   "cell_type": "code",
   "execution_count": 18,
   "metadata": {},
   "outputs": [],
   "source": [
    "# id temoin\n",
    "check_jobid = 1624008166\n",
    "# détail de la ligne témoin dans chaque dataset\n",
    "jobs_check_line = jobs_df[jobs_df.id_on_machine == check_jobid]\n",
    "events_check_line = events_df[events_df.jobId == check_jobid]\n",
    "merge_check_line = merge_df[merge_df.jobId == check_jobid]"
   ]
  },
  {
   "cell_type": "code",
   "execution_count": 19,
   "metadata": {},
   "outputs": [
    {
     "data": {
      "text/html": [
       "<div>\n",
       "<style scoped>\n",
       "    .dataframe tbody tr th:only-of-type {\n",
       "        vertical-align: middle;\n",
       "    }\n",
       "\n",
       "    .dataframe tbody tr th {\n",
       "        vertical-align: top;\n",
       "    }\n",
       "\n",
       "    .dataframe thead th {\n",
       "        text-align: right;\n",
       "    }\n",
       "</style>\n",
       "<table border=\"1\" class=\"dataframe\">\n",
       "  <thead>\n",
       "    <tr style=\"text-align: right;\">\n",
       "      <th></th>\n",
       "      <th>started_at</th>\n",
       "      <th>ended_at</th>\n",
       "      <th>paperHeight</th>\n",
       "      <th>paperWidth</th>\n",
       "      <th>id_on_machine</th>\n",
       "      <th>scanner_mode</th>\n",
       "      <th>bars</th>\n",
       "      <th>varnishConsumptionVarnish_3d</th>\n",
       "    </tr>\n",
       "  </thead>\n",
       "  <tbody>\n",
       "    <tr>\n",
       "      <th>0</th>\n",
       "      <td>2021-06-18 09:22:46.866000+00:00</td>\n",
       "      <td>2021-06-18 09:22:46.866000+00:00</td>\n",
       "      <td>520</td>\n",
       "      <td>740</td>\n",
       "      <td>1624008166</td>\n",
       "      <td>0</td>\n",
       "      <td>0</td>\n",
       "      <td>0.0</td>\n",
       "    </tr>\n",
       "  </tbody>\n",
       "</table>\n",
       "</div>"
      ],
      "text/plain": [
       "                         started_at                          ended_at  \\\n",
       "0  2021-06-18 09:22:46.866000+00:00  2021-06-18 09:22:46.866000+00:00   \n",
       "\n",
       "   paperHeight  paperWidth  id_on_machine  scanner_mode  bars  \\\n",
       "0          520         740     1624008166             0     0   \n",
       "\n",
       "   varnishConsumptionVarnish_3d  \n",
       "0                           0.0  "
      ]
     },
     "execution_count": 19,
     "metadata": {},
     "output_type": "execute_result"
    }
   ],
   "source": [
    "jobs_check_line"
   ]
  },
  {
   "cell_type": "code",
   "execution_count": 20,
   "metadata": {},
   "outputs": [
    {
     "data": {
      "text/html": [
       "<div>\n",
       "<style scoped>\n",
       "    .dataframe tbody tr th:only-of-type {\n",
       "        vertical-align: middle;\n",
       "    }\n",
       "\n",
       "    .dataframe tbody tr th {\n",
       "        vertical-align: top;\n",
       "    }\n",
       "\n",
       "    .dataframe thead th {\n",
       "        text-align: right;\n",
       "    }\n",
       "</style>\n",
       "<table border=\"1\" class=\"dataframe\">\n",
       "  <thead>\n",
       "    <tr style=\"text-align: right;\">\n",
       "      <th></th>\n",
       "      <th>jobId</th>\n",
       "      <th>timestamp_start</th>\n",
       "      <th>total_copies_requested</th>\n",
       "      <th>LED</th>\n",
       "      <th>bars</th>\n",
       "      <th>drops</th>\n",
       "      <th>dithering</th>\n",
       "      <th>deadPixelsOffset</th>\n",
       "      <th>operator_level</th>\n",
       "      <th>operator</th>\n",
       "      <th>...</th>\n",
       "      <th>redScore_gridMode_remoteScannerRegistration</th>\n",
       "      <th>redScore_cropmarksMode_remoteScannerRegistration</th>\n",
       "      <th>redScore_fullScannerMode_remoteScannerRegistration</th>\n",
       "      <th>blueScore_fullScannerMode_remoteScannerRegistration</th>\n",
       "      <th>greenScore_fullScannerMode_remoteScannerRegistration</th>\n",
       "      <th>mode_remoteScannerRegistration</th>\n",
       "      <th>jobState</th>\n",
       "      <th>timestamp_end</th>\n",
       "      <th>total_copies</th>\n",
       "      <th>varnishConsumptionVarnish_3d</th>\n",
       "    </tr>\n",
       "  </thead>\n",
       "  <tbody>\n",
       "    <tr>\n",
       "      <th>0</th>\n",
       "      <td>1624008166</td>\n",
       "      <td>2021-06-18 09:22:46.866189200+00:00</td>\n",
       "      <td>3</td>\n",
       "      <td>10</td>\n",
       "      <td>[1, 2]</td>\n",
       "      <td>3</td>\n",
       "      <td>False</td>\n",
       "      <td>0</td>\n",
       "      <td>Distributor</td>\n",
       "      <td>Distributor</td>\n",
       "      <td>...</td>\n",
       "      <td>1500</td>\n",
       "      <td>1500</td>\n",
       "      <td>1500</td>\n",
       "      <td>16</td>\n",
       "      <td>16</td>\n",
       "      <td>1</td>\n",
       "      <td>UNDEFINED</td>\n",
       "      <td>2021-06-18 09:22:46.866189200+00:00</td>\n",
       "      <td>0</td>\n",
       "      <td>0.0</td>\n",
       "    </tr>\n",
       "  </tbody>\n",
       "</table>\n",
       "<p>1 rows × 37 columns</p>\n",
       "</div>"
      ],
      "text/plain": [
       "        jobId                      timestamp_start  total_copies_requested  \\\n",
       "0  1624008166  2021-06-18 09:22:46.866189200+00:00                       3   \n",
       "\n",
       "   LED    bars  drops  dithering  deadPixelsOffset operator_level  \\\n",
       "0   10  [1, 2]      3      False                 0    Distributor   \n",
       "\n",
       "      operator  ...  redScore_gridMode_remoteScannerRegistration  \\\n",
       "0  Distributor  ...                                         1500   \n",
       "\n",
       "   redScore_cropmarksMode_remoteScannerRegistration  \\\n",
       "0                                              1500   \n",
       "\n",
       "   redScore_fullScannerMode_remoteScannerRegistration  \\\n",
       "0                                               1500    \n",
       "\n",
       "  blueScore_fullScannerMode_remoteScannerRegistration  \\\n",
       "0                                                 16    \n",
       "\n",
       "   greenScore_fullScannerMode_remoteScannerRegistration  \\\n",
       "0                                                 16      \n",
       "\n",
       "   mode_remoteScannerRegistration   jobState  \\\n",
       "0                               1  UNDEFINED   \n",
       "\n",
       "                         timestamp_end  total_copies  \\\n",
       "0  2021-06-18 09:22:46.866189200+00:00             0   \n",
       "\n",
       "  varnishConsumptionVarnish_3d  \n",
       "0                          0.0  \n",
       "\n",
       "[1 rows x 37 columns]"
      ]
     },
     "execution_count": 20,
     "metadata": {},
     "output_type": "execute_result"
    }
   ],
   "source": [
    "events_check_line"
   ]
  },
  {
   "cell_type": "code",
   "execution_count": 21,
   "metadata": {},
   "outputs": [
    {
     "data": {
      "text/html": [
       "<div>\n",
       "<style scoped>\n",
       "    .dataframe tbody tr th:only-of-type {\n",
       "        vertical-align: middle;\n",
       "    }\n",
       "\n",
       "    .dataframe tbody tr th {\n",
       "        vertical-align: top;\n",
       "    }\n",
       "\n",
       "    .dataframe thead th {\n",
       "        text-align: right;\n",
       "    }\n",
       "</style>\n",
       "<table border=\"1\" class=\"dataframe\">\n",
       "  <thead>\n",
       "    <tr style=\"text-align: right;\">\n",
       "      <th></th>\n",
       "      <th>started_at</th>\n",
       "      <th>ended_at</th>\n",
       "      <th>paperHeight_x</th>\n",
       "      <th>paperWidth_x</th>\n",
       "      <th>scanner_mode</th>\n",
       "      <th>bars_x</th>\n",
       "      <th>varnishConsumptionVarnish_3d_x</th>\n",
       "      <th>jobId</th>\n",
       "      <th>timestamp_start</th>\n",
       "      <th>total_copies_requested</th>\n",
       "      <th>...</th>\n",
       "      <th>redScore_gridMode_remoteScannerRegistration</th>\n",
       "      <th>redScore_cropmarksMode_remoteScannerRegistration</th>\n",
       "      <th>redScore_fullScannerMode_remoteScannerRegistration</th>\n",
       "      <th>blueScore_fullScannerMode_remoteScannerRegistration</th>\n",
       "      <th>greenScore_fullScannerMode_remoteScannerRegistration</th>\n",
       "      <th>mode_remoteScannerRegistration</th>\n",
       "      <th>jobState</th>\n",
       "      <th>timestamp_end</th>\n",
       "      <th>total_copies</th>\n",
       "      <th>varnishConsumptionVarnish_3d_y</th>\n",
       "    </tr>\n",
       "  </thead>\n",
       "  <tbody>\n",
       "    <tr>\n",
       "      <th>0</th>\n",
       "      <td>2021-06-18 09:22:46.866000+00:00</td>\n",
       "      <td>2021-06-18 09:22:46.866000+00:00</td>\n",
       "      <td>520</td>\n",
       "      <td>740</td>\n",
       "      <td>0</td>\n",
       "      <td>0</td>\n",
       "      <td>0.0</td>\n",
       "      <td>1624008166</td>\n",
       "      <td>2021-06-18 09:22:46.866189200+00:00</td>\n",
       "      <td>3</td>\n",
       "      <td>...</td>\n",
       "      <td>1500</td>\n",
       "      <td>1500</td>\n",
       "      <td>1500</td>\n",
       "      <td>16</td>\n",
       "      <td>16</td>\n",
       "      <td>1</td>\n",
       "      <td>UNDEFINED</td>\n",
       "      <td>2021-06-18 09:22:46.866189200+00:00</td>\n",
       "      <td>0</td>\n",
       "      <td>0.0</td>\n",
       "    </tr>\n",
       "  </tbody>\n",
       "</table>\n",
       "<p>1 rows × 44 columns</p>\n",
       "</div>"
      ],
      "text/plain": [
       "                         started_at                          ended_at  \\\n",
       "0  2021-06-18 09:22:46.866000+00:00  2021-06-18 09:22:46.866000+00:00   \n",
       "\n",
       "   paperHeight_x  paperWidth_x  scanner_mode  bars_x  \\\n",
       "0            520           740             0       0   \n",
       "\n",
       "   varnishConsumptionVarnish_3d_x       jobId  \\\n",
       "0                             0.0  1624008166   \n",
       "\n",
       "                       timestamp_start  total_copies_requested  ...  \\\n",
       "0  2021-06-18 09:22:46.866189200+00:00                       3  ...   \n",
       "\n",
       "   redScore_gridMode_remoteScannerRegistration  \\\n",
       "0                                         1500   \n",
       "\n",
       "  redScore_cropmarksMode_remoteScannerRegistration  \\\n",
       "0                                             1500   \n",
       "\n",
       "   redScore_fullScannerMode_remoteScannerRegistration  \\\n",
       "0                                               1500    \n",
       "\n",
       "   blueScore_fullScannerMode_remoteScannerRegistration  \\\n",
       "0                                                 16     \n",
       "\n",
       "   greenScore_fullScannerMode_remoteScannerRegistration  \\\n",
       "0                                                 16      \n",
       "\n",
       "  mode_remoteScannerRegistration   jobState  \\\n",
       "0                              1  UNDEFINED   \n",
       "\n",
       "                         timestamp_end  total_copies  \\\n",
       "0  2021-06-18 09:22:46.866189200+00:00             0   \n",
       "\n",
       "   varnishConsumptionVarnish_3d_y  \n",
       "0                             0.0  \n",
       "\n",
       "[1 rows x 44 columns]"
      ]
     },
     "execution_count": 21,
     "metadata": {},
     "output_type": "execute_result"
    }
   ],
   "source": [
    "merge_check_line"
   ]
  },
  {
   "cell_type": "code",
   "execution_count": 22,
   "metadata": {},
   "outputs": [],
   "source": [
    "# on conserve les colonnes started_at et ended_at\n",
    "for index, row in merge_df.iterrows():\n",
    "    # on verifie que started_at à le datetime le plus petit\n",
    "    if row.timestamp_start < row.started_at :\n",
    "        row.started_at = row.timestamp_start\n",
    "    # on verifie que ended_at à le datetime le plus grand\n",
    "    if row.timestamp_end > row.ended_at :\n",
    "        row.ended_at = row.timestamp_end"
   ]
  },
  {
   "cell_type": "code",
   "execution_count": 23,
   "metadata": {},
   "outputs": [],
   "source": [
    "merge_df = merge_df.drop(['timestamp_start','timestamp_end'], axis=1)"
   ]
  },
  {
   "cell_type": "code",
   "execution_count": 24,
   "metadata": {},
   "outputs": [],
   "source": [
    "# # conversion des colonnes contenant des valeurs de temsps au format datetime\n",
    "# jobs_df['started_at'] = pd.to_datetime(jobs_df['started_at'], utc=True)\n",
    "# jobs_df['ended_at'] = pd.to_datetime(jobs_df['ended_at'], utc=True)\n",
    "# events_df['timestamp_start'] = pd.to_datetime(events_df['timestamp_start'], utc=True)\n",
    "# events_df['timestamp_end'] = pd.to_datetime(events_df['timestamp_end'], utc=True)"
   ]
  },
  {
   "attachments": {},
   "cell_type": "markdown",
   "metadata": {},
   "source": [
    "### 6. Output csv"
   ]
  },
  {
   "cell_type": "code",
   "execution_count": 25,
   "metadata": {},
   "outputs": [],
   "source": [
    "# sauvegarde du dataset en csv\n",
    "merge_df.to_csv(save_csv)"
   ]
  }
 ],
 "metadata": {
  "kernelspec": {
   "display_name": ".venv",
   "language": "python",
   "name": "python3"
  },
  "language_info": {
   "codemirror_mode": {
    "name": "ipython",
    "version": 3
   },
   "file_extension": ".py",
   "mimetype": "text/x-python",
   "name": "python",
   "nbconvert_exporter": "python",
   "pygments_lexer": "ipython3",
   "version": "3.10.4"
  },
  "orig_nbformat": 4,
  "vscode": {
   "interpreter": {
    "hash": "2315c9af7dedaeb0b2bf51504304a927c605b523f04dad98936c50abe500b408"
   }
  }
 },
 "nbformat": 4,
 "nbformat_minor": 2
}
