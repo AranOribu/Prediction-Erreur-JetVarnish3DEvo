{
 "cells": [
  {
   "attachments": {},
   "cell_type": "markdown",
   "metadata": {},
   "source": [
    "# 01 - Creation du dataset des données brutes de metrics fractionnées"
   ]
  },
  {
   "attachments": {},
   "cell_type": "markdown",
   "metadata": {},
   "source": [
    "Ce notebook génère :\n",
    "\n",
    "- 1 fichier csv \"raw_merge_metrics_dataset.csv\" qui fusionne les colonnes fractionnées avec le dataset d'origine\n",
    "- 1 fichier json \"metrics_events_dict.json\" pour lister les code d'identification des évènements\n",
    "\n",
    "**Etapes de création :**\n",
    "\n",
    "- Pour chaque colonne contenant des valeurs de type list ou dict\n",
    "\n",
    "    - Fractionnement des colonnes en dataframe\n",
    "\n",
    "    - Fusion des dataframes issus de la ou des fraction(s)\n",
    "\n",
    "- Fusion des colonnes fractionnées avec les colonnes non fratcionnées du dataset de départ"
   ]
  },
  {
   "attachments": {},
   "cell_type": "markdown",
   "metadata": {},
   "source": [
    "## Imports"
   ]
  },
  {
   "cell_type": "code",
   "execution_count": 1,
   "metadata": {},
   "outputs": [],
   "source": [
    "import os, json, ast\n",
    "import pandas as pd\n",
    "import numpy as np\n",
    "import matplotlib.pyplot as plt\n",
    "from datetime import datetime\n",
    "from pathlib import Path"
   ]
  },
  {
   "attachments": {},
   "cell_type": "markdown",
   "metadata": {},
   "source": [
    "## 1. Création dataset metrics"
   ]
  },
  {
   "cell_type": "code",
   "execution_count": 2,
   "metadata": {},
   "outputs": [],
   "source": [
    "# source path to raw metrics dataset\n",
    "filename = 'metrics.csv'\n",
    "path = '../data/raw/'\n",
    "source_csv = os.path.join(path, filename)\n",
    "# target path to save metrics dictionnaire\n",
    "save_json ='../data/metrics/metrics_events_dict.json'\n",
    "# target path to save merge raw metrics dataset\n",
    "save_csv = '../data/metrics/raw_merge_metrics_dataset.csv'"
   ]
  },
  {
   "attachments": {},
   "cell_type": "markdown",
   "metadata": {},
   "source": [
    "### a) Import des données brutes"
   ]
  },
  {
   "cell_type": "code",
   "execution_count": 3,
   "metadata": {},
   "outputs": [
    {
     "name": "stdout",
     "output_type": "stream",
     "text": [
      "metrics.csv successfully downloaded!\n"
     ]
    }
   ],
   "source": [
    "# téléchargement dans le repertoire 'data' d'un fichiers 'csv' depuis le blob Azure\n",
    "from azure_blob import download_blob_file\n",
    "download_blob_file(file_name=filename, local_path=path)"
   ]
  },
  {
   "cell_type": "code",
   "execution_count": 4,
   "metadata": {},
   "outputs": [
    {
     "name": "stdout",
     "output_type": "stream",
     "text": [
      "<class 'pandas.core.frame.DataFrame'>\n",
      "RangeIndex: 1164430 entries, 0 to 1164429\n",
      "Data columns (total 17 columns):\n",
      " #   Column                     Non-Null Count    Dtype  \n",
      "---  ------                     --------------    -----  \n",
      " 0   id                         1164430 non-null  int64  \n",
      " 1   status                     1164430 non-null  object \n",
      " 2   created_at                 1164430 non-null  object \n",
      " 3   cyan_capacity              0 non-null        float64\n",
      " 4   cyan_remaining             0 non-null        float64\n",
      " 5   magenta_capacity           0 non-null        float64\n",
      " 6   magenta_remaining          0 non-null        float64\n",
      " 7   yellow_capacity            0 non-null        float64\n",
      " 8   yellow_remaining           0 non-null        float64\n",
      " 9   black_capacity             0 non-null        float64\n",
      " 10  black_remaining            0 non-null        float64\n",
      " 11  machineId                  1164430 non-null  int64  \n",
      " 12  connected_operators        1164430 non-null  object \n",
      " 13  varnishLevelsTargetvolume  1164430 non-null  float64\n",
      " 14  varnishLevelsTotalvolume   1164430 non-null  int64  \n",
      " 15  modules                    1164430 non-null  object \n",
      " 16  events                     1164430 non-null  object \n",
      "dtypes: float64(9), int64(3), object(5)\n",
      "memory usage: 151.0+ MB\n"
     ]
    }
   ],
   "source": [
    "# création d'un dataframe à partir du csv de données\n",
    "metrics_df = pd.read_csv(filepath_or_buffer=Path(source_csv)).sort_values(by='created_at')\n",
    "metrics_df.reset_index(level=None, drop=True, inplace=True, col_level=0, col_fill='')\n",
    "metrics_df.info()"
   ]
  },
  {
   "cell_type": "code",
   "execution_count": 5,
   "metadata": {},
   "outputs": [
    {
     "data": {
      "text/html": [
       "<div>\n",
       "<style scoped>\n",
       "    .dataframe tbody tr th:only-of-type {\n",
       "        vertical-align: middle;\n",
       "    }\n",
       "\n",
       "    .dataframe tbody tr th {\n",
       "        vertical-align: top;\n",
       "    }\n",
       "\n",
       "    .dataframe thead th {\n",
       "        text-align: right;\n",
       "    }\n",
       "</style>\n",
       "<table border=\"1\" class=\"dataframe\">\n",
       "  <thead>\n",
       "    <tr style=\"text-align: right;\">\n",
       "      <th></th>\n",
       "      <th>id</th>\n",
       "      <th>status</th>\n",
       "      <th>created_at</th>\n",
       "      <th>connected_operators</th>\n",
       "      <th>varnishLevelsTargetvolume</th>\n",
       "      <th>varnishLevelsTotalvolume</th>\n",
       "      <th>modules</th>\n",
       "      <th>events</th>\n",
       "    </tr>\n",
       "  </thead>\n",
       "  <tbody>\n",
       "    <tr>\n",
       "      <th>0</th>\n",
       "      <td>4169748</td>\n",
       "      <td>WARNING</td>\n",
       "      <td>2022-04-15 05:55:06.678000</td>\n",
       "      <td>[{\"name\": \"Viktor\", \"level\": \"Operator\"}]</td>\n",
       "      <td>36192.322612</td>\n",
       "      <td>100000</td>\n",
       "      <td>[{\"sn\": \"\", \"name\": \"Print Engine 1\", \"type\": ...</td>\n",
       "      <td>[]</td>\n",
       "    </tr>\n",
       "    <tr>\n",
       "      <th>1</th>\n",
       "      <td>4169749</td>\n",
       "      <td>WARNING</td>\n",
       "      <td>2022-04-15 05:55:06.829000</td>\n",
       "      <td>[{\"name\": \"Viktor\", \"level\": \"Operator\"}]</td>\n",
       "      <td>36192.322612</td>\n",
       "      <td>100000</td>\n",
       "      <td>[{\"sn\": \"\", \"name\": \"Print Engine 1\", \"type\": ...</td>\n",
       "      <td>[{\"source\": \"PLC\", \"message\": \" JV-Ti non prêt...</td>\n",
       "    </tr>\n",
       "    <tr>\n",
       "      <th>2</th>\n",
       "      <td>4169753</td>\n",
       "      <td>WARNING</td>\n",
       "      <td>2022-04-15 05:55:14.494000</td>\n",
       "      <td>[{\"name\": \"Viktor\", \"level\": \"Operator\"}]</td>\n",
       "      <td>36192.322612</td>\n",
       "      <td>100000</td>\n",
       "      <td>[{\"sn\": \"\", \"name\": \"Print Engine 1\", \"type\": ...</td>\n",
       "      <td>[]</td>\n",
       "    </tr>\n",
       "  </tbody>\n",
       "</table>\n",
       "</div>"
      ],
      "text/plain": [
       "        id   status                  created_at  \\\n",
       "0  4169748  WARNING  2022-04-15 05:55:06.678000   \n",
       "1  4169749  WARNING  2022-04-15 05:55:06.829000   \n",
       "2  4169753  WARNING  2022-04-15 05:55:14.494000   \n",
       "\n",
       "                         connected_operators  varnishLevelsTargetvolume  \\\n",
       "0  [{\"name\": \"Viktor\", \"level\": \"Operator\"}]               36192.322612   \n",
       "1  [{\"name\": \"Viktor\", \"level\": \"Operator\"}]               36192.322612   \n",
       "2  [{\"name\": \"Viktor\", \"level\": \"Operator\"}]               36192.322612   \n",
       "\n",
       "   varnishLevelsTotalvolume  \\\n",
       "0                    100000   \n",
       "1                    100000   \n",
       "2                    100000   \n",
       "\n",
       "                                             modules  \\\n",
       "0  [{\"sn\": \"\", \"name\": \"Print Engine 1\", \"type\": ...   \n",
       "1  [{\"sn\": \"\", \"name\": \"Print Engine 1\", \"type\": ...   \n",
       "2  [{\"sn\": \"\", \"name\": \"Print Engine 1\", \"type\": ...   \n",
       "\n",
       "                                              events  \n",
       "0                                                 []  \n",
       "1  [{\"source\": \"PLC\", \"message\": \" JV-Ti non prêt...  \n",
       "2                                                 []  "
      ]
     },
     "execution_count": 5,
     "metadata": {},
     "output_type": "execute_result"
    }
   ],
   "source": [
    "# suppression des colonnes ne contenant aucune valeurs\n",
    "metrics_df = metrics_df.dropna(axis=1)\n",
    "# suppression de la colonne machineId\n",
    "metrics_df = metrics_df.drop('machineId', axis=1)\n",
    "# visualisation des 3 premières lignes\n",
    "metrics_df.head(3)"
   ]
  },
  {
   "attachments": {},
   "cell_type": "markdown",
   "metadata": {},
   "source": [
    "### b) Fractionnement des colonnes contenant des listes"
   ]
  },
  {
   "cell_type": "code",
   "execution_count": 6,
   "metadata": {},
   "outputs": [
    {
     "name": "stdout",
     "output_type": "stream",
     "text": [
      "modules : <class 'str'>\n",
      "events : <class 'str'>\n",
      "connected_operators : <class 'str'>\n"
     ]
    }
   ],
   "source": [
    "# on verifie le type des valeurs contenu dans les colonnes de type objet contenant des listes\n",
    "print('modules :', type(metrics_df.modules.loc[0]))\n",
    "print('events :', type(metrics_df.events.loc[0]))\n",
    "print('connected_operators :', type(metrics_df.connected_operators.loc[0]))"
   ]
  },
  {
   "cell_type": "code",
   "execution_count": 7,
   "metadata": {},
   "outputs": [],
   "source": [
    "# fonction retournant le dataframe d'une colonne fractionnée\n",
    "# col=colonne à fractionner\n",
    "# df=dataframe source\n",
    "# data=dict des colonnes du df à conserver dans le df à retourner\n",
    "def convert_col_to_df(col, df, data=None):\n",
    "    \n",
    "    # création du dictionnaire de données vide\n",
    "    if data == None :\n",
    "        data = {}\n",
    "    # ou liste des clés du dictionnaire input\n",
    "    else :\n",
    "        data_keys = list(data.keys())\n",
    "\n",
    "    # on converti le type des valeurs str en list\n",
    "    if not isinstance(df[col].loc[0], list):\n",
    "        df[col] = df[col].apply(lambda x : json.loads(x))\n",
    "\n",
    "    # liste des clés du dictionnaire de la colonne à partir de la première occurence\n",
    "    # on recherche la première occurence non vide et de type list \n",
    "    # pour l'affecter à une variable first\n",
    "    for i in range(0, (len(df[col]))):\n",
    "        value = df[col].loc[i]\n",
    "        if len(value) > 0 and isinstance(value, list):\n",
    "            first = value[0]\n",
    "            print('first : ', type(first), first)\n",
    "            break\n",
    "\n",
    "    # on liste les clés du dictionnaire de l'occurence\n",
    "    col_keys = first.keys()\n",
    "    for ck in col_keys :\n",
    "        data[ck+'_'+col] = []\n",
    "\n",
    "    # on itére dans la serie pour récupérer les valeurs et les stocker dans le dictionnaire data\n",
    "    for i in range(df.index.start, df.index.stop):\n",
    "        # evaluation des valeurs 'str' en 'list'\n",
    "        values = df[col].loc[i]\n",
    "        if isinstance(values, list) and len(values) > 0 :\n",
    "            # ajout des valeurs dans le dictionnaire 'd'\n",
    "            for value in values :\n",
    "                for k in value.keys():\n",
    "                    data[k+'_'+col].append(value.get(k))\n",
    "                for dk in data_keys:\n",
    "                    data[dk].append(df[dk].loc[i])\n",
    "\n",
    "    # re-assignation de la variable df\n",
    "    df = pd.DataFrame(data)\n",
    "\n",
    "    return df"
   ]
  },
  {
   "cell_type": "code",
   "execution_count": 8,
   "metadata": {},
   "outputs": [],
   "source": [
    "# id temoin pour vérifier le fractionnement et la fusion des colonnes\n",
    "check_id = 4170152"
   ]
  },
  {
   "cell_type": "code",
   "execution_count": 9,
   "metadata": {},
   "outputs": [
    {
     "name": "stdout",
     "output_type": "stream",
     "text": [
      "######## id 4170152 ######## \n",
      "[[4170152 'IDLE' '2022-04-15 06:06:35.404000'\n",
      "  '[{\"name\": \"Viktor\", \"level\": \"Operator\"}]' 36192.322612308 100000\n",
      "  '[{\"sn\": \"\", \"name\": \"Print Engine 1\", \"type\": \"Varnish Printer\", \"counters\": [{\"name\": \"3D Varnish Counter\", \"value\": 1792992}], \"generation\": \"\"}, {\"sn\": \"\", \"name\": \"iFoil L\", \"type\": \"iFoil\", \"counters\": [{\"name\": \"Total Pages Counter\", \"value\": 22881}, {\"name\": \"Foiled Pages Counter\", \"value\": 31092}], \"generation\": \"Gen. 2\"}]'\n",
      "  '[{\"source\": \"iFoil\", \"message\": \" JV-Ti non prêt : impression impossible\", \"timestamp\": \"2022-04-15T06:06:56.278Z\", \"criticality\": \"INFO\", \"identification\": \"391\"}, {\"source\": \"PLC\", \"message\": \" En attente\", \"timestamp\": \"2022-04-15T06:06:56.418Z\", \"criticality\": \"INFO\", \"identification\": \"330\"}]']]\n",
      "######## id 4170152 modules details ######## \n",
      "[{'name': '3D Varnish Counter', 'value': 1792992}]\n",
      "[{'name': 'Total Pages Counter', 'value': 22881}, {'name': 'Foiled Pages Counter', 'value': 31092}]\n",
      "######## id 4170152 events details ######## \n",
      "{'source': 'iFoil', 'message': ' JV-Ti non prêt : impression impossible', 'timestamp': '2022-04-15T06:06:56.278Z', 'criticality': 'INFO', 'identification': '391'}\n",
      "{'source': 'PLC', 'message': ' En attente', 'timestamp': '2022-04-15T06:06:56.418Z', 'criticality': 'INFO', 'identification': '330'}\n"
     ]
    }
   ],
   "source": [
    "# détail de la ligne témoin\n",
    "check_line = metrics_df[metrics_df.id == check_id]\n",
    "print('######## id %d ######## ' %check_id)\n",
    "print(check_line.values)\n",
    "print('######## id %d modules details ######## ' %check_id)\n",
    "print(json.loads(check_line.modules.values[0])[0].get('counters'))\n",
    "print(json.loads(check_line.modules.values[0])[1].get('counters'))\n",
    "print('######## id %d events details ######## ' %check_id)\n",
    "print(json.loads(check_line.events.values[0])[0])\n",
    "print(json.loads(check_line.events.values[0])[1])"
   ]
  },
  {
   "attachments": {},
   "cell_type": "markdown",
   "metadata": {},
   "source": [
    "#### 1) Colonne 'connected_operators'"
   ]
  },
  {
   "cell_type": "code",
   "execution_count": 10,
   "metadata": {},
   "outputs": [
    {
     "name": "stdout",
     "output_type": "stream",
     "text": [
      "first :  <class 'dict'> {'name': 'Viktor', 'level': 'Operator'}\n",
      "<class 'pandas.core.frame.DataFrame'>\n",
      "RangeIndex: 1164430 entries, 0 to 1164429\n",
      "Data columns (total 3 columns):\n",
      " #   Column                     Non-Null Count    Dtype \n",
      "---  ------                     --------------    ----- \n",
      " 0   id                         1164430 non-null  int64 \n",
      " 1   name_connected_operators   1164430 non-null  object\n",
      " 2   level_connected_operators  1164430 non-null  object\n",
      "dtypes: int64(1), object(2)\n",
      "memory usage: 26.7+ MB\n",
      "None\n"
     ]
    },
    {
     "data": {
      "text/html": [
       "<div>\n",
       "<style scoped>\n",
       "    .dataframe tbody tr th:only-of-type {\n",
       "        vertical-align: middle;\n",
       "    }\n",
       "\n",
       "    .dataframe tbody tr th {\n",
       "        vertical-align: top;\n",
       "    }\n",
       "\n",
       "    .dataframe thead th {\n",
       "        text-align: right;\n",
       "    }\n",
       "</style>\n",
       "<table border=\"1\" class=\"dataframe\">\n",
       "  <thead>\n",
       "    <tr style=\"text-align: right;\">\n",
       "      <th></th>\n",
       "      <th>id</th>\n",
       "      <th>name_connected_operators</th>\n",
       "      <th>level_connected_operators</th>\n",
       "    </tr>\n",
       "  </thead>\n",
       "  <tbody>\n",
       "    <tr>\n",
       "      <th>0</th>\n",
       "      <td>4169748</td>\n",
       "      <td>Viktor</td>\n",
       "      <td>Operator</td>\n",
       "    </tr>\n",
       "    <tr>\n",
       "      <th>1</th>\n",
       "      <td>4169749</td>\n",
       "      <td>Viktor</td>\n",
       "      <td>Operator</td>\n",
       "    </tr>\n",
       "  </tbody>\n",
       "</table>\n",
       "</div>"
      ],
      "text/plain": [
       "        id name_connected_operators level_connected_operators\n",
       "0  4169748                   Viktor                  Operator\n",
       "1  4169749                   Viktor                  Operator"
      ]
     },
     "execution_count": 10,
     "metadata": {},
     "output_type": "execute_result"
    }
   ],
   "source": [
    "# creation d'un dataframe connected_operators (~42s)\n",
    "connected_operators_df = convert_col_to_df('connected_operators', metrics_df, {'id':[]})\n",
    "print(connected_operators_df.info())\n",
    "connected_operators_df.head(2)"
   ]
  },
  {
   "attachments": {},
   "cell_type": "markdown",
   "metadata": {},
   "source": [
    "#### 2) Colonne 'events'"
   ]
  },
  {
   "cell_type": "code",
   "execution_count": 11,
   "metadata": {},
   "outputs": [
    {
     "name": "stdout",
     "output_type": "stream",
     "text": [
      "first :  <class 'dict'> {'source': 'PLC', 'message': ' JV-Ti non prêt : impression impossible', 'timestamp': '2022-04-15T05:55:23.462Z', 'criticality': 'INFO', 'identification': '391'}\n",
      "<class 'pandas.core.frame.DataFrame'>\n",
      "RangeIndex: 81361 entries, 0 to 81360\n",
      "Data columns (total 6 columns):\n",
      " #   Column                 Non-Null Count  Dtype \n",
      "---  ------                 --------------  ----- \n",
      " 0   id                     81361 non-null  int64 \n",
      " 1   source_events          81361 non-null  object\n",
      " 2   message_events         81361 non-null  object\n",
      " 3   timestamp_events       81361 non-null  object\n",
      " 4   criticality_events     81361 non-null  object\n",
      " 5   identification_events  81361 non-null  object\n",
      "dtypes: int64(1), object(5)\n",
      "memory usage: 3.7+ MB\n",
      "None\n"
     ]
    },
    {
     "data": {
      "text/html": [
       "<div>\n",
       "<style scoped>\n",
       "    .dataframe tbody tr th:only-of-type {\n",
       "        vertical-align: middle;\n",
       "    }\n",
       "\n",
       "    .dataframe tbody tr th {\n",
       "        vertical-align: top;\n",
       "    }\n",
       "\n",
       "    .dataframe thead th {\n",
       "        text-align: right;\n",
       "    }\n",
       "</style>\n",
       "<table border=\"1\" class=\"dataframe\">\n",
       "  <thead>\n",
       "    <tr style=\"text-align: right;\">\n",
       "      <th></th>\n",
       "      <th>id</th>\n",
       "      <th>source_events</th>\n",
       "      <th>message_events</th>\n",
       "      <th>timestamp_events</th>\n",
       "      <th>criticality_events</th>\n",
       "      <th>identification_events</th>\n",
       "    </tr>\n",
       "  </thead>\n",
       "  <tbody>\n",
       "    <tr>\n",
       "      <th>0</th>\n",
       "      <td>4169749</td>\n",
       "      <td>PLC</td>\n",
       "      <td>JV-Ti non prêt : impression impossible</td>\n",
       "      <td>2022-04-15T05:55:23.462Z</td>\n",
       "      <td>INFO</td>\n",
       "      <td>391</td>\n",
       "    </tr>\n",
       "    <tr>\n",
       "      <th>1</th>\n",
       "      <td>4170152</td>\n",
       "      <td>iFoil</td>\n",
       "      <td>JV-Ti non prêt : impression impossible</td>\n",
       "      <td>2022-04-15T06:06:56.278Z</td>\n",
       "      <td>INFO</td>\n",
       "      <td>391</td>\n",
       "    </tr>\n",
       "  </tbody>\n",
       "</table>\n",
       "</div>"
      ],
      "text/plain": [
       "        id source_events                           message_events  \\\n",
       "0  4169749           PLC   JV-Ti non prêt : impression impossible   \n",
       "1  4170152         iFoil   JV-Ti non prêt : impression impossible   \n",
       "\n",
       "           timestamp_events criticality_events identification_events  \n",
       "0  2022-04-15T05:55:23.462Z               INFO                   391  \n",
       "1  2022-04-15T06:06:56.278Z               INFO                   391  "
      ]
     },
     "execution_count": 11,
     "metadata": {},
     "output_type": "execute_result"
    }
   ],
   "source": [
    "# creation d'un dataframe events (~20s)\n",
    "events_df = convert_col_to_df('events', metrics_df, {'id':[]})\n",
    "print(events_df.info())\n",
    "events_df.head(2)"
   ]
  },
  {
   "attachments": {},
   "cell_type": "markdown",
   "metadata": {},
   "source": [
    "##### Identification"
   ]
  },
  {
   "cell_type": "code",
   "execution_count": 12,
   "metadata": {},
   "outputs": [
    {
     "data": {
      "text/plain": [
       "array(['0', '2', '311', '313', '315', '320', '321', '322', '323', '324',\n",
       "       '325', '326', '327', '329', '330', '331', '332', '333', '334',\n",
       "       '343', '344', '345', '346', '349', '350', '351', '352', '354',\n",
       "       '355', '356', '357', '358', '359', '371', '372', '376', '377',\n",
       "       '380', '381', '384', '385', '386', '387', '388', '389', '391',\n",
       "       '405', '406', '407', '408', '411', '416', '417', '418', '419',\n",
       "       '430', '440', '444', '445', '446', '447', '453', '454', '460',\n",
       "       '466', '471', '472', '475', '476', '479', '480',\n",
       "       'ICB communication error', 'Kernel_Error',\n",
       "       'Pilot communication error', 'RCB communication error',\n",
       "       'iFoil communication error'], dtype=object)"
      ]
     },
     "execution_count": 12,
     "metadata": {},
     "output_type": "execute_result"
    }
   ],
   "source": [
    "# liste des codes d'identification\n",
    "identification_codes_list = events_df['identification_events'].unique()\n",
    "np.sort(identification_codes_list)"
   ]
  },
  {
   "cell_type": "code",
   "execution_count": 13,
   "metadata": {},
   "outputs": [
    {
     "data": {
      "text/plain": [
       "{'391': ' JV-Ti non prêt : impression impossible',\n",
       " '330': ' En attente',\n",
       " '332': ' Disponible',\n",
       " '377': ' Chargeur: mode auto non activé',\n",
       " '333': ' Plateau de têtes en mouvement',\n",
       " '334': ' Préchauffage',\n",
       " '331': ' Impression en cours',\n",
       " 'Kernel_Error': 'Cannot find enough search zones on the sheet (42,77%), please check your margins\\n',\n",
       " '315': ' Support lingette non installé',\n",
       " '417': ' Portes margeur ouvertes E-0417',\n",
       " '406': ' Purge en cours',\n",
       " '407': ' Essuyage en cours',\n",
       " '352': ' Double feuille détectée E-0352',\n",
       " '344': ' Manque papier',\n",
       " 'ICB communication error': 'A communication error has occured between RCB n° 1 and  ICB n°5',\n",
       " '376': ' Réception: mode auto non activé',\n",
       " '445': \" Erreur plaque d'empreintes E-0445\",\n",
       " '325': ' Erreur de com. tapis impression E-0325',\n",
       " '343': ' Nettoyage tapis en cours',\n",
       " '345': \" Consommable à 80% d'usure\",\n",
       " '358': ' Démarrage machine',\n",
       " '453': ' Erreur capteur lift palette C2 E-0453',\n",
       " '381': ' Capot après têtes ouvert E-0381',\n",
       " '354': ' Bourrage : module impression E-0354',\n",
       " '313': ' Ecart nb. feuilles demandées /nb. feuilles sorties',\n",
       " '447': ' Bidon de déchets plein',\n",
       " '454': ' Bourrage Corona - E0364',\n",
       " '387': ' Erreur positionnement plateau E-0387',\n",
       " '386': ' Erreur four UV E-0386',\n",
       " '372': ' Attente démarrage UV',\n",
       " '371': ' Démarrrage UV en cours',\n",
       " '323': \" Arrêt d'urgence feeder E-0323\",\n",
       " '480': \" Arrêt d'urgence stacker E-0480\",\n",
       " '311': ' Attente initialisation',\n",
       " '479': \" Arrêt d'urgence table de marge E-0479\",\n",
       " '351': ' Defaut carte moteur table marge E-0351',\n",
       " '440': ' Défaut remplissage réservoirs E-0440',\n",
       " '324': ' Consommable(s) expiré(s) E-0324',\n",
       " '321': \" Arrêt d'urgence impression E-0321\",\n",
       " '0': '',\n",
       " '349': ' Lampe UV 1000h de fonctionnement',\n",
       " 'RCB communication error': 'A communication error has occured between Network card  and  RCB n°1',\n",
       " '385': \" Absence d'air comprimée E-0385\",\n",
       " '357': ' Bourrage : sortie sécheur E-0357',\n",
       " '418': ' Erreur surcharge Corona E-0418',\n",
       " '446': ' Erreur moteur tapis impression E-0446',\n",
       " '355': ' Bourrage : module séchage IR E-0355',\n",
       " '389': ' Erreur cateurs verticaux plateau de têtes E-0389',\n",
       " '476': ' Défaut moteur Corona E-0476',\n",
       " '356': ' Bourrage : module séchage UV E-0356',\n",
       " 'iFoil communication error': 'A communication error has occured with the iFoil at192.168.187.10:502',\n",
       " '460': ' Défaut communication réception palette E-0460',\n",
       " '472': '.',\n",
       " '405': ' Utilisation déconseillée des IRs: vitesse basse E-0405',\n",
       " '380': ' Défaut communication sécheur E-0380',\n",
       " '388': ' Bidon de nettoyant vide E-0388',\n",
       " '408': ' Nettoyage en cours',\n",
       " '320': ' Porte avant ouverte E-0320',\n",
       " '329': ' Relais de securité AU désactivé E-329',\n",
       " '350': ' Attente extinction machine',\n",
       " '475': ' Défaut communication Corona E-0475',\n",
       " '466': ' Bidon de vernis vide E-466',\n",
       " '416': ' Erreur positionnement plateau E-0416',\n",
       " '411': ' Erreur moteur tapis sécheur E-0411',\n",
       " '346': ' Règles de marge en mouvement',\n",
       " '471': ' Défaut carte moteur feeder palette E-0471',\n",
       " '327': ' Défaut carte moteur sys. nett. E-0327',\n",
       " '430': ' Erreur système de dégazage E-0430',\n",
       " '444': ' Dépression trop faible E-0444',\n",
       " '2': '',\n",
       " '326': ' Erreur carte moteur plateau têtes E-326',\n",
       " '419': ' Capteur analogique débranché E-0419',\n",
       " 'Pilot communication error': 'A communication error has occured with the pilot at192.168.187.47:502',\n",
       " '359': ' Mauvais positionnement des cellules plateau de têtes E-0359',\n",
       " '322': \" Arret d'urgence sécheur E-0322\",\n",
       " '384': ' Capot sortie sécheur ouvert E-0384'}"
      ]
     },
     "execution_count": 13,
     "metadata": {},
     "output_type": "execute_result"
    }
   ],
   "source": [
    "# liste des évènements uniques\n",
    "identification_dict = {}\n",
    "c = 1\n",
    "id_list = []\n",
    "for i in range(events_df.index.start, events_df.index.stop):\n",
    "    id = events_df.identification_events.loc[i]\n",
    "    if id not in id_list:\n",
    "        id_list.append(id)\n",
    "        identification_dict[id] = events_df.message_events.loc[i]\n",
    "        c += 1\n",
    "identification_dict"
   ]
  },
  {
   "attachments": {},
   "cell_type": "markdown",
   "metadata": {},
   "source": [
    "##### Source"
   ]
  },
  {
   "cell_type": "code",
   "execution_count": 14,
   "metadata": {},
   "outputs": [
    {
     "data": {
      "text/plain": [
       "array(['ICB n°1', 'ICB n°2', 'ICB n°4', 'ICB n°5', 'ICB n°6', 'ICB n°7',\n",
       "       'ICB n°8', 'Kernel', 'PLC', 'Pilot', 'RCB n°1', 'RCB n°2',\n",
       "       'RCB n°3', 'iFoil'], dtype=object)"
      ]
     },
     "execution_count": 14,
     "metadata": {},
     "output_type": "execute_result"
    }
   ],
   "source": [
    "# liste des sources\n",
    "source_list = events_df['source_events'].unique()\n",
    "np.sort(source_list)"
   ]
  },
  {
   "attachments": {},
   "cell_type": "markdown",
   "metadata": {},
   "source": [
    "##### Criticality"
   ]
  },
  {
   "cell_type": "code",
   "execution_count": 15,
   "metadata": {},
   "outputs": [
    {
     "data": {
      "text/plain": [
       "array(['ERROR', 'INFO', 'WARNING'], dtype=object)"
      ]
     },
     "execution_count": 15,
     "metadata": {},
     "output_type": "execute_result"
    }
   ],
   "source": [
    "# liste des sources\n",
    "criticality_list = events_df['criticality_events'].unique()\n",
    "np.sort(criticality_list)"
   ]
  },
  {
   "attachments": {},
   "cell_type": "markdown",
   "metadata": {},
   "source": [
    "##### Events Json dict"
   ]
  },
  {
   "cell_type": "code",
   "execution_count": 16,
   "metadata": {},
   "outputs": [],
   "source": [
    "# on sauvegarde la liste des codes d'identification d'event\n",
    "with open(file=Path(save_json), mode=\"r+\", encoding='utf-8') as jsonFile:\n",
    "    try :\n",
    "        # chargement des données du fichier dans un dictionnaire\n",
    "        data = json.load(jsonFile)\n",
    "        # ajout des données dans le dictionnaire\n",
    "        data['identification'] = identification_dict\n",
    "        data['criticality'] = list(np.sort(criticality_list)),\n",
    "        data['source'] = list(np.sort(source_list))\n",
    "        # définit la position actuelle du fichier à l'offset\n",
    "        jsonFile.seek(0)\n",
    "        # écriture du dicitonnaire dans le fichier\n",
    "        json.dump(data, jsonFile, indent=4, ensure_ascii=False)\n",
    "    except ValueError as e:\n",
    "        print(e)\n",
    "    finally :\n",
    "        # fermeture du fichier\n",
    "        jsonFile.close()"
   ]
  },
  {
   "attachments": {},
   "cell_type": "markdown",
   "metadata": {},
   "source": [
    "#### 3) Colonne 'modules'"
   ]
  },
  {
   "cell_type": "code",
   "execution_count": 17,
   "metadata": {},
   "outputs": [
    {
     "name": "stdout",
     "output_type": "stream",
     "text": [
      "first :  <class 'dict'> {'sn': '', 'name': 'Print Engine 1', 'type': 'Varnish Printer', 'counters': [{'name': '3D Varnish Counter', 'value': 1792992}], 'generation': ''}\n",
      "<class 'pandas.core.frame.DataFrame'>\n",
      "RangeIndex: 2328860 entries, 0 to 2328859\n",
      "Data columns (total 6 columns):\n",
      " #   Column              Dtype \n",
      "---  ------              ----- \n",
      " 0   id                  int64 \n",
      " 1   sn_modules          object\n",
      " 2   name_modules        object\n",
      " 3   type_modules        object\n",
      " 4   counters_modules    object\n",
      " 5   generation_modules  object\n",
      "dtypes: int64(1), object(5)\n",
      "memory usage: 106.6+ MB\n",
      "None\n"
     ]
    },
    {
     "data": {
      "text/html": [
       "<div>\n",
       "<style scoped>\n",
       "    .dataframe tbody tr th:only-of-type {\n",
       "        vertical-align: middle;\n",
       "    }\n",
       "\n",
       "    .dataframe tbody tr th {\n",
       "        vertical-align: top;\n",
       "    }\n",
       "\n",
       "    .dataframe thead th {\n",
       "        text-align: right;\n",
       "    }\n",
       "</style>\n",
       "<table border=\"1\" class=\"dataframe\">\n",
       "  <thead>\n",
       "    <tr style=\"text-align: right;\">\n",
       "      <th></th>\n",
       "      <th>id</th>\n",
       "      <th>sn_modules</th>\n",
       "      <th>name_modules</th>\n",
       "      <th>type_modules</th>\n",
       "      <th>counters_modules</th>\n",
       "      <th>generation_modules</th>\n",
       "    </tr>\n",
       "  </thead>\n",
       "  <tbody>\n",
       "    <tr>\n",
       "      <th>0</th>\n",
       "      <td>4169748</td>\n",
       "      <td></td>\n",
       "      <td>Print Engine 1</td>\n",
       "      <td>Varnish Printer</td>\n",
       "      <td>[{'name': '3D Varnish Counter', 'value': 17929...</td>\n",
       "      <td></td>\n",
       "    </tr>\n",
       "    <tr>\n",
       "      <th>1</th>\n",
       "      <td>4169748</td>\n",
       "      <td></td>\n",
       "      <td>iFoil L</td>\n",
       "      <td>iFoil</td>\n",
       "      <td>[{'name': 'Total Pages Counter', 'value': 2288...</td>\n",
       "      <td>Gen. 2</td>\n",
       "    </tr>\n",
       "  </tbody>\n",
       "</table>\n",
       "</div>"
      ],
      "text/plain": [
       "        id sn_modules    name_modules     type_modules  \\\n",
       "0  4169748             Print Engine 1  Varnish Printer   \n",
       "1  4169748                    iFoil L            iFoil   \n",
       "\n",
       "                                    counters_modules generation_modules  \n",
       "0  [{'name': '3D Varnish Counter', 'value': 17929...                     \n",
       "1  [{'name': 'Total Pages Counter', 'value': 2288...             Gen. 2  "
      ]
     },
     "execution_count": 17,
     "metadata": {},
     "output_type": "execute_result"
    }
   ],
   "source": [
    "# creation d'un dataframe modules (~1m15s)\n",
    "modules_df = convert_col_to_df('modules', metrics_df, {'id':[]})\n",
    "# visualisation des données\n",
    "print(modules_df.info())\n",
    "modules_df.head(2)"
   ]
  },
  {
   "attachments": {},
   "cell_type": "markdown",
   "metadata": {},
   "source": [
    "##### Colonne counters"
   ]
  },
  {
   "cell_type": "code",
   "execution_count": 18,
   "metadata": {},
   "outputs": [
    {
     "name": "stdout",
     "output_type": "stream",
     "text": [
      "first :  <class 'dict'> {'name': '3D Varnish Counter', 'value': 1792992}\n",
      "<class 'pandas.core.frame.DataFrame'>\n",
      "RangeIndex: 3493290 entries, 0 to 3493289\n",
      "Data columns (total 4 columns):\n",
      " #   Column                  Dtype \n",
      "---  ------                  ----- \n",
      " 0   type_modules            object\n",
      " 1   id                      int64 \n",
      " 2   name_counters_modules   object\n",
      " 3   value_counters_modules  int64 \n",
      "dtypes: int64(2), object(2)\n",
      "memory usage: 106.6+ MB\n",
      "None\n"
     ]
    },
    {
     "data": {
      "text/html": [
       "<div>\n",
       "<style scoped>\n",
       "    .dataframe tbody tr th:only-of-type {\n",
       "        vertical-align: middle;\n",
       "    }\n",
       "\n",
       "    .dataframe tbody tr th {\n",
       "        vertical-align: top;\n",
       "    }\n",
       "\n",
       "    .dataframe thead th {\n",
       "        text-align: right;\n",
       "    }\n",
       "</style>\n",
       "<table border=\"1\" class=\"dataframe\">\n",
       "  <thead>\n",
       "    <tr style=\"text-align: right;\">\n",
       "      <th></th>\n",
       "      <th>type_modules</th>\n",
       "      <th>id</th>\n",
       "      <th>name_counters_modules</th>\n",
       "      <th>value_counters_modules</th>\n",
       "    </tr>\n",
       "  </thead>\n",
       "  <tbody>\n",
       "    <tr>\n",
       "      <th>0</th>\n",
       "      <td>Varnish Printer</td>\n",
       "      <td>4169748</td>\n",
       "      <td>3D Varnish Counter</td>\n",
       "      <td>1792992</td>\n",
       "    </tr>\n",
       "    <tr>\n",
       "      <th>1</th>\n",
       "      <td>iFoil</td>\n",
       "      <td>4169748</td>\n",
       "      <td>Total Pages Counter</td>\n",
       "      <td>22881</td>\n",
       "    </tr>\n",
       "  </tbody>\n",
       "</table>\n",
       "</div>"
      ],
      "text/plain": [
       "      type_modules       id name_counters_modules  value_counters_modules\n",
       "0  Varnish Printer  4169748    3D Varnish Counter                 1792992\n",
       "1            iFoil  4169748   Total Pages Counter                   22881"
      ]
     },
     "execution_count": 18,
     "metadata": {},
     "output_type": "execute_result"
    }
   ],
   "source": [
    "# creation d'un dataframe counters (~2m7s)\n",
    "counters_df = convert_col_to_df('counters_modules', modules_df, {'type_modules':[], 'id': []})\n",
    "# visualisation des données\n",
    "print(counters_df.info())\n",
    "counters_df.head(2)"
   ]
  },
  {
   "cell_type": "code",
   "execution_count": 19,
   "metadata": {},
   "outputs": [
    {
     "data": {
      "text/html": [
       "<div>\n",
       "<style scoped>\n",
       "    .dataframe tbody tr th:only-of-type {\n",
       "        vertical-align: middle;\n",
       "    }\n",
       "\n",
       "    .dataframe tbody tr th {\n",
       "        vertical-align: top;\n",
       "    }\n",
       "\n",
       "    .dataframe thead th {\n",
       "        text-align: right;\n",
       "    }\n",
       "</style>\n",
       "<table border=\"1\" class=\"dataframe\">\n",
       "  <thead>\n",
       "    <tr style=\"text-align: right;\">\n",
       "      <th></th>\n",
       "      <th>type_modules</th>\n",
       "      <th>id</th>\n",
       "      <th>name_counters_modules</th>\n",
       "      <th>value_counters_modules</th>\n",
       "    </tr>\n",
       "  </thead>\n",
       "  <tbody>\n",
       "    <tr>\n",
       "      <th>210</th>\n",
       "      <td>Varnish Printer</td>\n",
       "      <td>4170152</td>\n",
       "      <td>3D Varnish Counter</td>\n",
       "      <td>1792992</td>\n",
       "    </tr>\n",
       "    <tr>\n",
       "      <th>211</th>\n",
       "      <td>iFoil</td>\n",
       "      <td>4170152</td>\n",
       "      <td>Total Pages Counter</td>\n",
       "      <td>22881</td>\n",
       "    </tr>\n",
       "    <tr>\n",
       "      <th>212</th>\n",
       "      <td>iFoil</td>\n",
       "      <td>4170152</td>\n",
       "      <td>Foiled Pages Counter</td>\n",
       "      <td>31092</td>\n",
       "    </tr>\n",
       "  </tbody>\n",
       "</table>\n",
       "</div>"
      ],
      "text/plain": [
       "        type_modules       id name_counters_modules  value_counters_modules\n",
       "210  Varnish Printer  4170152    3D Varnish Counter                 1792992\n",
       "211            iFoil  4170152   Total Pages Counter                   22881\n",
       "212            iFoil  4170152  Foiled Pages Counter                   31092"
      ]
     },
     "execution_count": 19,
     "metadata": {},
     "output_type": "execute_result"
    }
   ],
   "source": [
    "# verification de l'intégrité des données\n",
    "counters_check_line = counters_df[counters_df.id == check_id]\n",
    "counters_check_line"
   ]
  },
  {
   "attachments": {},
   "cell_type": "markdown",
   "metadata": {},
   "source": [
    "### c) Fusion des dataframes des colonnes fractionnées"
   ]
  },
  {
   "attachments": {},
   "cell_type": "markdown",
   "metadata": {},
   "source": [
    "#### 1) Merge modules et counters"
   ]
  },
  {
   "cell_type": "code",
   "execution_count": 20,
   "metadata": {},
   "outputs": [
    {
     "data": {
      "text/html": [
       "<div>\n",
       "<style scoped>\n",
       "    .dataframe tbody tr th:only-of-type {\n",
       "        vertical-align: middle;\n",
       "    }\n",
       "\n",
       "    .dataframe tbody tr th {\n",
       "        vertical-align: top;\n",
       "    }\n",
       "\n",
       "    .dataframe thead th {\n",
       "        text-align: right;\n",
       "    }\n",
       "</style>\n",
       "<table border=\"1\" class=\"dataframe\">\n",
       "  <thead>\n",
       "    <tr style=\"text-align: right;\">\n",
       "      <th></th>\n",
       "      <th>id</th>\n",
       "      <th>sn_modules</th>\n",
       "      <th>name_modules</th>\n",
       "      <th>type_modules</th>\n",
       "      <th>generation_modules</th>\n",
       "      <th>name_counters_modules</th>\n",
       "      <th>value_counters_modules</th>\n",
       "    </tr>\n",
       "  </thead>\n",
       "  <tbody>\n",
       "    <tr>\n",
       "      <th>210</th>\n",
       "      <td>4170152</td>\n",
       "      <td></td>\n",
       "      <td>Print Engine 1</td>\n",
       "      <td>Varnish Printer</td>\n",
       "      <td></td>\n",
       "      <td>3D Varnish Counter</td>\n",
       "      <td>1792992</td>\n",
       "    </tr>\n",
       "    <tr>\n",
       "      <th>211</th>\n",
       "      <td>4170152</td>\n",
       "      <td></td>\n",
       "      <td>iFoil L</td>\n",
       "      <td>iFoil</td>\n",
       "      <td>Gen. 2</td>\n",
       "      <td>Total Pages Counter</td>\n",
       "      <td>22881</td>\n",
       "    </tr>\n",
       "    <tr>\n",
       "      <th>212</th>\n",
       "      <td>4170152</td>\n",
       "      <td></td>\n",
       "      <td>iFoil L</td>\n",
       "      <td>iFoil</td>\n",
       "      <td>Gen. 2</td>\n",
       "      <td>Foiled Pages Counter</td>\n",
       "      <td>31092</td>\n",
       "    </tr>\n",
       "  </tbody>\n",
       "</table>\n",
       "</div>"
      ],
      "text/plain": [
       "          id sn_modules    name_modules     type_modules generation_modules  \\\n",
       "210  4170152             Print Engine 1  Varnish Printer                      \n",
       "211  4170152                    iFoil L            iFoil             Gen. 2   \n",
       "212  4170152                    iFoil L            iFoil             Gen. 2   \n",
       "\n",
       "    name_counters_modules  value_counters_modules  \n",
       "210    3D Varnish Counter                 1792992  \n",
       "211   Total Pages Counter                   22881  \n",
       "212  Foiled Pages Counter                   31092  "
      ]
     },
     "execution_count": 20,
     "metadata": {},
     "output_type": "execute_result"
    }
   ],
   "source": [
    "# fusion du df modue et du df counter\n",
    "merge_modules_df = pd.merge(modules_df, counters_df, on=['id','type_modules'])\n",
    "# suppression de la colonne fractionnées\n",
    "merge_modules_df = merge_modules_df.drop(['counters_modules'], axis=1)\n",
    "# verification de l'intégrité des données\n",
    "module_check_line = merge_modules_df[merge_modules_df.id == check_id]\n",
    "module_check_line"
   ]
  },
  {
   "cell_type": "code",
   "execution_count": 21,
   "metadata": {},
   "outputs": [
    {
     "name": "stdout",
     "output_type": "stream",
     "text": [
      "<class 'pandas.core.frame.DataFrame'>\n",
      "Int64Index: 3493290 entries, 0 to 3493289\n",
      "Data columns (total 7 columns):\n",
      " #   Column                  Dtype \n",
      "---  ------                  ----- \n",
      " 0   id                      int64 \n",
      " 1   sn_modules              object\n",
      " 2   name_modules            object\n",
      " 3   type_modules            object\n",
      " 4   generation_modules      object\n",
      " 5   name_counters_modules   object\n",
      " 6   value_counters_modules  int64 \n",
      "dtypes: int64(2), object(5)\n",
      "memory usage: 213.2+ MB\n"
     ]
    }
   ],
   "source": [
    "merge_modules_df.info()"
   ]
  },
  {
   "attachments": {},
   "cell_type": "markdown",
   "metadata": {},
   "source": [
    "#### 2) Merge operators"
   ]
  },
  {
   "cell_type": "code",
   "execution_count": 22,
   "metadata": {},
   "outputs": [
    {
     "data": {
      "text/html": [
       "<div>\n",
       "<style scoped>\n",
       "    .dataframe tbody tr th:only-of-type {\n",
       "        vertical-align: middle;\n",
       "    }\n",
       "\n",
       "    .dataframe tbody tr th {\n",
       "        vertical-align: top;\n",
       "    }\n",
       "\n",
       "    .dataframe thead th {\n",
       "        text-align: right;\n",
       "    }\n",
       "</style>\n",
       "<table border=\"1\" class=\"dataframe\">\n",
       "  <thead>\n",
       "    <tr style=\"text-align: right;\">\n",
       "      <th></th>\n",
       "      <th>id</th>\n",
       "      <th>sn_modules</th>\n",
       "      <th>name_modules</th>\n",
       "      <th>type_modules</th>\n",
       "      <th>generation_modules</th>\n",
       "      <th>name_counters_modules</th>\n",
       "      <th>value_counters_modules</th>\n",
       "      <th>name_connected_operators</th>\n",
       "      <th>level_connected_operators</th>\n",
       "    </tr>\n",
       "  </thead>\n",
       "  <tbody>\n",
       "    <tr>\n",
       "      <th>210</th>\n",
       "      <td>4170152</td>\n",
       "      <td></td>\n",
       "      <td>Print Engine 1</td>\n",
       "      <td>Varnish Printer</td>\n",
       "      <td></td>\n",
       "      <td>3D Varnish Counter</td>\n",
       "      <td>1792992</td>\n",
       "      <td>Viktor</td>\n",
       "      <td>Operator</td>\n",
       "    </tr>\n",
       "    <tr>\n",
       "      <th>211</th>\n",
       "      <td>4170152</td>\n",
       "      <td></td>\n",
       "      <td>iFoil L</td>\n",
       "      <td>iFoil</td>\n",
       "      <td>Gen. 2</td>\n",
       "      <td>Total Pages Counter</td>\n",
       "      <td>22881</td>\n",
       "      <td>Viktor</td>\n",
       "      <td>Operator</td>\n",
       "    </tr>\n",
       "    <tr>\n",
       "      <th>212</th>\n",
       "      <td>4170152</td>\n",
       "      <td></td>\n",
       "      <td>iFoil L</td>\n",
       "      <td>iFoil</td>\n",
       "      <td>Gen. 2</td>\n",
       "      <td>Foiled Pages Counter</td>\n",
       "      <td>31092</td>\n",
       "      <td>Viktor</td>\n",
       "      <td>Operator</td>\n",
       "    </tr>\n",
       "  </tbody>\n",
       "</table>\n",
       "</div>"
      ],
      "text/plain": [
       "          id sn_modules    name_modules     type_modules generation_modules  \\\n",
       "210  4170152             Print Engine 1  Varnish Printer                      \n",
       "211  4170152                    iFoil L            iFoil             Gen. 2   \n",
       "212  4170152                    iFoil L            iFoil             Gen. 2   \n",
       "\n",
       "    name_counters_modules  value_counters_modules name_connected_operators  \\\n",
       "210    3D Varnish Counter                 1792992                   Viktor   \n",
       "211   Total Pages Counter                   22881                   Viktor   \n",
       "212  Foiled Pages Counter                   31092                   Viktor   \n",
       "\n",
       "    level_connected_operators  \n",
       "210                  Operator  \n",
       "211                  Operator  \n",
       "212                  Operator  "
      ]
     },
     "execution_count": 22,
     "metadata": {},
     "output_type": "execute_result"
    }
   ],
   "source": [
    "# on merge avec le df operators en fonction de l'id de message\n",
    "merge_operators_df = pd.merge(merge_modules_df, connected_operators_df, on='id', suffixes=['','_op'])\n",
    "# verification de l'intégrité des données\n",
    "op_check_line = merge_operators_df[merge_operators_df.id == check_id]\n",
    "op_check_line"
   ]
  },
  {
   "attachments": {},
   "cell_type": "markdown",
   "metadata": {},
   "source": [
    "#### 3) Merge events"
   ]
  },
  {
   "cell_type": "code",
   "execution_count": 23,
   "metadata": {},
   "outputs": [
    {
     "data": {
      "text/html": [
       "<div>\n",
       "<style scoped>\n",
       "    .dataframe tbody tr th:only-of-type {\n",
       "        vertical-align: middle;\n",
       "    }\n",
       "\n",
       "    .dataframe tbody tr th {\n",
       "        vertical-align: top;\n",
       "    }\n",
       "\n",
       "    .dataframe thead th {\n",
       "        text-align: right;\n",
       "    }\n",
       "</style>\n",
       "<table border=\"1\" class=\"dataframe\">\n",
       "  <thead>\n",
       "    <tr style=\"text-align: right;\">\n",
       "      <th></th>\n",
       "      <th>id</th>\n",
       "      <th>source_events</th>\n",
       "      <th>message_events</th>\n",
       "      <th>timestamp_events</th>\n",
       "      <th>criticality_events</th>\n",
       "      <th>identification_events</th>\n",
       "      <th>sn_modules</th>\n",
       "      <th>name_modules</th>\n",
       "      <th>type_modules</th>\n",
       "      <th>generation_modules</th>\n",
       "      <th>name_counters_modules</th>\n",
       "      <th>value_counters_modules</th>\n",
       "      <th>name_connected_operators</th>\n",
       "      <th>level_connected_operators</th>\n",
       "    </tr>\n",
       "  </thead>\n",
       "  <tbody>\n",
       "    <tr>\n",
       "      <th>0</th>\n",
       "      <td>4170152</td>\n",
       "      <td>iFoil</td>\n",
       "      <td>JV-Ti non prêt : impression impossible</td>\n",
       "      <td>2022-04-15T06:06:56.278Z</td>\n",
       "      <td>INFO</td>\n",
       "      <td>391</td>\n",
       "      <td></td>\n",
       "      <td>iFoil L</td>\n",
       "      <td>iFoil</td>\n",
       "      <td>Gen. 2</td>\n",
       "      <td>Total Pages Counter</td>\n",
       "      <td>22881</td>\n",
       "      <td>Viktor</td>\n",
       "      <td>Operator</td>\n",
       "    </tr>\n",
       "    <tr>\n",
       "      <th>1</th>\n",
       "      <td>4170152</td>\n",
       "      <td>iFoil</td>\n",
       "      <td>JV-Ti non prêt : impression impossible</td>\n",
       "      <td>2022-04-15T06:06:56.278Z</td>\n",
       "      <td>INFO</td>\n",
       "      <td>391</td>\n",
       "      <td></td>\n",
       "      <td>iFoil L</td>\n",
       "      <td>iFoil</td>\n",
       "      <td>Gen. 2</td>\n",
       "      <td>Foiled Pages Counter</td>\n",
       "      <td>31092</td>\n",
       "      <td>Viktor</td>\n",
       "      <td>Operator</td>\n",
       "    </tr>\n",
       "  </tbody>\n",
       "</table>\n",
       "</div>"
      ],
      "text/plain": [
       "        id source_events                           message_events  \\\n",
       "0  4170152         iFoil   JV-Ti non prêt : impression impossible   \n",
       "1  4170152         iFoil   JV-Ti non prêt : impression impossible   \n",
       "\n",
       "           timestamp_events criticality_events identification_events  \\\n",
       "0  2022-04-15T06:06:56.278Z               INFO                   391   \n",
       "1  2022-04-15T06:06:56.278Z               INFO                   391   \n",
       "\n",
       "  sn_modules name_modules type_modules generation_modules  \\\n",
       "0                 iFoil L        iFoil             Gen. 2   \n",
       "1                 iFoil L        iFoil             Gen. 2   \n",
       "\n",
       "  name_counters_modules  value_counters_modules name_connected_operators  \\\n",
       "0   Total Pages Counter                   22881                   Viktor   \n",
       "1  Foiled Pages Counter                   31092                   Viktor   \n",
       "\n",
       "  level_connected_operators  \n",
       "0                  Operator  \n",
       "1                  Operator  "
      ]
     },
     "execution_count": 23,
     "metadata": {},
     "output_type": "execute_result"
    }
   ],
   "source": [
    "# on crée un df, à partir du df events, ne contenant que les lignes ayant un évènement de source Ifoil\n",
    "events_ifoil = events_df[events_df.source_events == 'iFoil']\n",
    "# on crée un df, à partir du df merge, ne contenant que les lignes ayant un module de type Ifoil\n",
    "module_ifoil = merge_operators_df[merge_operators_df.type_modules == 'iFoil']\n",
    "# on merge les deux df des lignes Ifoil en focntion de l'id de message\n",
    "merge_ifoil_df = pd.merge(events_ifoil, module_ifoil, how='outer', on='id', suffixes=['_event','_module'])\n",
    "# verification de l'intégrité des données\n",
    "events_check_line = merge_ifoil_df[merge_ifoil_df.id == check_id]\n",
    "events_check_line"
   ]
  },
  {
   "attachments": {},
   "cell_type": "markdown",
   "metadata": {},
   "source": [
    "Comme il y avait 2 counters ('Total Pages Counter' et 'Foiled Pages Counter') pour le module de type 'Ifoil', nous avons bien 2 lignes."
   ]
  },
  {
   "cell_type": "code",
   "execution_count": 24,
   "metadata": {},
   "outputs": [
    {
     "data": {
      "text/html": [
       "<div>\n",
       "<style scoped>\n",
       "    .dataframe tbody tr th:only-of-type {\n",
       "        vertical-align: middle;\n",
       "    }\n",
       "\n",
       "    .dataframe tbody tr th {\n",
       "        vertical-align: top;\n",
       "    }\n",
       "\n",
       "    .dataframe thead th {\n",
       "        text-align: right;\n",
       "    }\n",
       "</style>\n",
       "<table border=\"1\" class=\"dataframe\">\n",
       "  <thead>\n",
       "    <tr style=\"text-align: right;\">\n",
       "      <th></th>\n",
       "      <th>id</th>\n",
       "      <th>source_events</th>\n",
       "      <th>message_events</th>\n",
       "      <th>timestamp_events</th>\n",
       "      <th>criticality_events</th>\n",
       "      <th>identification_events</th>\n",
       "      <th>sn_modules</th>\n",
       "      <th>name_modules</th>\n",
       "      <th>type_modules</th>\n",
       "      <th>generation_modules</th>\n",
       "      <th>name_counters_modules</th>\n",
       "      <th>value_counters_modules</th>\n",
       "      <th>name_connected_operators</th>\n",
       "      <th>level_connected_operators</th>\n",
       "    </tr>\n",
       "  </thead>\n",
       "  <tbody>\n",
       "    <tr>\n",
       "      <th>1</th>\n",
       "      <td>4170152</td>\n",
       "      <td>PLC</td>\n",
       "      <td>En attente</td>\n",
       "      <td>2022-04-15T06:06:56.418Z</td>\n",
       "      <td>INFO</td>\n",
       "      <td>330</td>\n",
       "      <td></td>\n",
       "      <td>Print Engine 1</td>\n",
       "      <td>Varnish Printer</td>\n",
       "      <td></td>\n",
       "      <td>3D Varnish Counter</td>\n",
       "      <td>1792992</td>\n",
       "      <td>Viktor</td>\n",
       "      <td>Operator</td>\n",
       "    </tr>\n",
       "  </tbody>\n",
       "</table>\n",
       "</div>"
      ],
      "text/plain": [
       "        id source_events message_events          timestamp_events  \\\n",
       "1  4170152           PLC     En attente  2022-04-15T06:06:56.418Z   \n",
       "\n",
       "  criticality_events identification_events sn_modules    name_modules  \\\n",
       "1               INFO                   330             Print Engine 1   \n",
       "\n",
       "      type_modules generation_modules name_counters_modules  \\\n",
       "1  Varnish Printer                       3D Varnish Counter   \n",
       "\n",
       "   value_counters_modules name_connected_operators level_connected_operators  \n",
       "1                 1792992                   Viktor                  Operator  "
      ]
     },
     "execution_count": 24,
     "metadata": {},
     "output_type": "execute_result"
    }
   ],
   "source": [
    "# on crée un df, à partir du df events, ne contenant que les lignes ayant un évènement de source Ifoil\n",
    "events_no_ifoil = events_df[events_df.source_events != 'iFoil']\n",
    "# on crée un df, à partir du df merge, ne contenant que les lignes ayant un module de type Ifoil\n",
    "module_no_ifoil = merge_operators_df[merge_operators_df.type_modules != 'iFoil']\n",
    "# on merge les deux df des lignes Ifoil en focntion de l'id de message\n",
    "merge_no_ifoil_df = pd.merge(events_no_ifoil, module_no_ifoil, how='outer', on='id', suffixes=['_event','_module'])\n",
    "# verification de l'intégrité des données\n",
    "events_check_line = merge_no_ifoil_df[merge_no_ifoil_df.id == check_id]\n",
    "events_check_line"
   ]
  },
  {
   "attachments": {},
   "cell_type": "markdown",
   "metadata": {},
   "source": [
    "##### Concaténation"
   ]
  },
  {
   "cell_type": "code",
   "execution_count": 25,
   "metadata": {},
   "outputs": [
    {
     "data": {
      "text/html": [
       "<div>\n",
       "<style scoped>\n",
       "    .dataframe tbody tr th:only-of-type {\n",
       "        vertical-align: middle;\n",
       "    }\n",
       "\n",
       "    .dataframe tbody tr th {\n",
       "        vertical-align: top;\n",
       "    }\n",
       "\n",
       "    .dataframe thead th {\n",
       "        text-align: right;\n",
       "    }\n",
       "</style>\n",
       "<table border=\"1\" class=\"dataframe\">\n",
       "  <thead>\n",
       "    <tr style=\"text-align: right;\">\n",
       "      <th></th>\n",
       "      <th>id</th>\n",
       "      <th>source_events</th>\n",
       "      <th>message_events</th>\n",
       "      <th>timestamp_events</th>\n",
       "      <th>criticality_events</th>\n",
       "      <th>identification_events</th>\n",
       "      <th>sn_modules</th>\n",
       "      <th>name_modules</th>\n",
       "      <th>type_modules</th>\n",
       "      <th>generation_modules</th>\n",
       "      <th>name_counters_modules</th>\n",
       "      <th>value_counters_modules</th>\n",
       "      <th>name_connected_operators</th>\n",
       "      <th>level_connected_operators</th>\n",
       "    </tr>\n",
       "  </thead>\n",
       "  <tbody>\n",
       "    <tr>\n",
       "      <th>0</th>\n",
       "      <td>4170152</td>\n",
       "      <td>iFoil</td>\n",
       "      <td>JV-Ti non prêt : impression impossible</td>\n",
       "      <td>2022-04-15T06:06:56.278Z</td>\n",
       "      <td>INFO</td>\n",
       "      <td>391</td>\n",
       "      <td></td>\n",
       "      <td>iFoil L</td>\n",
       "      <td>iFoil</td>\n",
       "      <td>Gen. 2</td>\n",
       "      <td>Total Pages Counter</td>\n",
       "      <td>22881</td>\n",
       "      <td>Viktor</td>\n",
       "      <td>Operator</td>\n",
       "    </tr>\n",
       "    <tr>\n",
       "      <th>1</th>\n",
       "      <td>4170152</td>\n",
       "      <td>iFoil</td>\n",
       "      <td>JV-Ti non prêt : impression impossible</td>\n",
       "      <td>2022-04-15T06:06:56.278Z</td>\n",
       "      <td>INFO</td>\n",
       "      <td>391</td>\n",
       "      <td></td>\n",
       "      <td>iFoil L</td>\n",
       "      <td>iFoil</td>\n",
       "      <td>Gen. 2</td>\n",
       "      <td>Foiled Pages Counter</td>\n",
       "      <td>31092</td>\n",
       "      <td>Viktor</td>\n",
       "      <td>Operator</td>\n",
       "    </tr>\n",
       "    <tr>\n",
       "      <th>1</th>\n",
       "      <td>4170152</td>\n",
       "      <td>PLC</td>\n",
       "      <td>En attente</td>\n",
       "      <td>2022-04-15T06:06:56.418Z</td>\n",
       "      <td>INFO</td>\n",
       "      <td>330</td>\n",
       "      <td></td>\n",
       "      <td>Print Engine 1</td>\n",
       "      <td>Varnish Printer</td>\n",
       "      <td></td>\n",
       "      <td>3D Varnish Counter</td>\n",
       "      <td>1792992</td>\n",
       "      <td>Viktor</td>\n",
       "      <td>Operator</td>\n",
       "    </tr>\n",
       "  </tbody>\n",
       "</table>\n",
       "</div>"
      ],
      "text/plain": [
       "        id source_events                           message_events  \\\n",
       "0  4170152         iFoil   JV-Ti non prêt : impression impossible   \n",
       "1  4170152         iFoil   JV-Ti non prêt : impression impossible   \n",
       "1  4170152           PLC                               En attente   \n",
       "\n",
       "           timestamp_events criticality_events identification_events  \\\n",
       "0  2022-04-15T06:06:56.278Z               INFO                   391   \n",
       "1  2022-04-15T06:06:56.278Z               INFO                   391   \n",
       "1  2022-04-15T06:06:56.418Z               INFO                   330   \n",
       "\n",
       "  sn_modules    name_modules     type_modules generation_modules  \\\n",
       "0                    iFoil L            iFoil             Gen. 2   \n",
       "1                    iFoil L            iFoil             Gen. 2   \n",
       "1             Print Engine 1  Varnish Printer                      \n",
       "\n",
       "  name_counters_modules  value_counters_modules name_connected_operators  \\\n",
       "0   Total Pages Counter                   22881                   Viktor   \n",
       "1  Foiled Pages Counter                   31092                   Viktor   \n",
       "1    3D Varnish Counter                 1792992                   Viktor   \n",
       "\n",
       "  level_connected_operators  \n",
       "0                  Operator  \n",
       "1                  Operator  \n",
       "1                  Operator  "
      ]
     },
     "execution_count": 25,
     "metadata": {},
     "output_type": "execute_result"
    }
   ],
   "source": [
    "# on concatene les df ifoi et no_ifoil pour ne perdre aucune valeur\n",
    "concat_events_df = pd.concat([merge_ifoil_df, merge_no_ifoil_df])\n",
    "# verification de l'intégrité des données\n",
    "events_check_line = concat_events_df[concat_events_df.id == check_id]\n",
    "events_check_line"
   ]
  },
  {
   "cell_type": "code",
   "execution_count": 26,
   "metadata": {},
   "outputs": [
    {
     "name": "stdout",
     "output_type": "stream",
     "text": [
      "<class 'pandas.core.frame.DataFrame'>\n",
      "Int64Index: 3510431 entries, 0 to 1175124\n",
      "Data columns (total 14 columns):\n",
      " #   Column                     Dtype \n",
      "---  ------                     ----- \n",
      " 0   id                         int64 \n",
      " 1   source_events              object\n",
      " 2   message_events             object\n",
      " 3   timestamp_events           object\n",
      " 4   criticality_events         object\n",
      " 5   identification_events      object\n",
      " 6   sn_modules                 object\n",
      " 7   name_modules               object\n",
      " 8   type_modules               object\n",
      " 9   generation_modules         object\n",
      " 10  name_counters_modules      object\n",
      " 11  value_counters_modules     int64 \n",
      " 12  name_connected_operators   object\n",
      " 13  level_connected_operators  object\n",
      "dtypes: int64(2), object(12)\n",
      "memory usage: 401.7+ MB\n"
     ]
    }
   ],
   "source": [
    "concat_events_df.info()"
   ]
  },
  {
   "attachments": {},
   "cell_type": "markdown",
   "metadata": {},
   "source": [
    "#### 4) Merge metrics"
   ]
  },
  {
   "cell_type": "code",
   "execution_count": 27,
   "metadata": {},
   "outputs": [
    {
     "data": {
      "text/html": [
       "<div>\n",
       "<style scoped>\n",
       "    .dataframe tbody tr th:only-of-type {\n",
       "        vertical-align: middle;\n",
       "    }\n",
       "\n",
       "    .dataframe tbody tr th {\n",
       "        vertical-align: top;\n",
       "    }\n",
       "\n",
       "    .dataframe thead th {\n",
       "        text-align: right;\n",
       "    }\n",
       "</style>\n",
       "<table border=\"1\" class=\"dataframe\">\n",
       "  <thead>\n",
       "    <tr style=\"text-align: right;\">\n",
       "      <th></th>\n",
       "      <th>id</th>\n",
       "      <th>source_events</th>\n",
       "      <th>message_events</th>\n",
       "      <th>timestamp_events</th>\n",
       "      <th>criticality_events</th>\n",
       "      <th>identification_events</th>\n",
       "      <th>sn_modules</th>\n",
       "      <th>name_modules</th>\n",
       "      <th>type_modules</th>\n",
       "      <th>generation_modules</th>\n",
       "      <th>name_counters_modules</th>\n",
       "      <th>value_counters_modules</th>\n",
       "      <th>name_connected_operators</th>\n",
       "      <th>level_connected_operators</th>\n",
       "      <th>status</th>\n",
       "      <th>created_at</th>\n",
       "      <th>varnishLevelsTargetvolume</th>\n",
       "      <th>varnishLevelsTotalvolume</th>\n",
       "    </tr>\n",
       "  </thead>\n",
       "  <tbody>\n",
       "    <tr>\n",
       "      <th>0</th>\n",
       "      <td>4170152</td>\n",
       "      <td>iFoil</td>\n",
       "      <td>JV-Ti non prêt : impression impossible</td>\n",
       "      <td>2022-04-15T06:06:56.278Z</td>\n",
       "      <td>INFO</td>\n",
       "      <td>391</td>\n",
       "      <td></td>\n",
       "      <td>iFoil L</td>\n",
       "      <td>iFoil</td>\n",
       "      <td>Gen. 2</td>\n",
       "      <td>Total Pages Counter</td>\n",
       "      <td>22881</td>\n",
       "      <td>Viktor</td>\n",
       "      <td>Operator</td>\n",
       "      <td>IDLE</td>\n",
       "      <td>2022-04-15 06:06:35.404000</td>\n",
       "      <td>36192.322612</td>\n",
       "      <td>100000</td>\n",
       "    </tr>\n",
       "    <tr>\n",
       "      <th>1</th>\n",
       "      <td>4170152</td>\n",
       "      <td>iFoil</td>\n",
       "      <td>JV-Ti non prêt : impression impossible</td>\n",
       "      <td>2022-04-15T06:06:56.278Z</td>\n",
       "      <td>INFO</td>\n",
       "      <td>391</td>\n",
       "      <td></td>\n",
       "      <td>iFoil L</td>\n",
       "      <td>iFoil</td>\n",
       "      <td>Gen. 2</td>\n",
       "      <td>Foiled Pages Counter</td>\n",
       "      <td>31092</td>\n",
       "      <td>Viktor</td>\n",
       "      <td>Operator</td>\n",
       "      <td>IDLE</td>\n",
       "      <td>2022-04-15 06:06:35.404000</td>\n",
       "      <td>36192.322612</td>\n",
       "      <td>100000</td>\n",
       "    </tr>\n",
       "    <tr>\n",
       "      <th>2</th>\n",
       "      <td>4170152</td>\n",
       "      <td>PLC</td>\n",
       "      <td>En attente</td>\n",
       "      <td>2022-04-15T06:06:56.418Z</td>\n",
       "      <td>INFO</td>\n",
       "      <td>330</td>\n",
       "      <td></td>\n",
       "      <td>Print Engine 1</td>\n",
       "      <td>Varnish Printer</td>\n",
       "      <td></td>\n",
       "      <td>3D Varnish Counter</td>\n",
       "      <td>1792992</td>\n",
       "      <td>Viktor</td>\n",
       "      <td>Operator</td>\n",
       "      <td>IDLE</td>\n",
       "      <td>2022-04-15 06:06:35.404000</td>\n",
       "      <td>36192.322612</td>\n",
       "      <td>100000</td>\n",
       "    </tr>\n",
       "  </tbody>\n",
       "</table>\n",
       "</div>"
      ],
      "text/plain": [
       "        id source_events                           message_events  \\\n",
       "0  4170152         iFoil   JV-Ti non prêt : impression impossible   \n",
       "1  4170152         iFoil   JV-Ti non prêt : impression impossible   \n",
       "2  4170152           PLC                               En attente   \n",
       "\n",
       "           timestamp_events criticality_events identification_events  \\\n",
       "0  2022-04-15T06:06:56.278Z               INFO                   391   \n",
       "1  2022-04-15T06:06:56.278Z               INFO                   391   \n",
       "2  2022-04-15T06:06:56.418Z               INFO                   330   \n",
       "\n",
       "  sn_modules    name_modules     type_modules generation_modules  \\\n",
       "0                    iFoil L            iFoil             Gen. 2   \n",
       "1                    iFoil L            iFoil             Gen. 2   \n",
       "2             Print Engine 1  Varnish Printer                      \n",
       "\n",
       "  name_counters_modules  value_counters_modules name_connected_operators  \\\n",
       "0   Total Pages Counter                   22881                   Viktor   \n",
       "1  Foiled Pages Counter                   31092                   Viktor   \n",
       "2    3D Varnish Counter                 1792992                   Viktor   \n",
       "\n",
       "  level_connected_operators status                  created_at  \\\n",
       "0                  Operator   IDLE  2022-04-15 06:06:35.404000   \n",
       "1                  Operator   IDLE  2022-04-15 06:06:35.404000   \n",
       "2                  Operator   IDLE  2022-04-15 06:06:35.404000   \n",
       "\n",
       "   varnishLevelsTargetvolume  varnishLevelsTotalvolume  \n",
       "0               36192.322612                    100000  \n",
       "1               36192.322612                    100000  \n",
       "2               36192.322612                    100000  "
      ]
     },
     "execution_count": 27,
     "metadata": {},
     "output_type": "execute_result"
    }
   ],
   "source": [
    "# dernier merge de toutes les colonnes\n",
    "merge_metrics_df = pd.merge(concat_events_df, metrics_df, how='outer', on='id', suffixes=['','_metrics'])\n",
    "# suppression des colonnes fractionnées\n",
    "merge_metrics_df = merge_metrics_df.drop(['connected_operators','modules','events'], axis=1)\n",
    "# verification de l'intégrité des données\n",
    "metrics_check_line = merge_metrics_df[merge_metrics_df.id == check_id]\n",
    "metrics_check_line"
   ]
  },
  {
   "cell_type": "code",
   "execution_count": 28,
   "metadata": {},
   "outputs": [
    {
     "name": "stdout",
     "output_type": "stream",
     "text": [
      "<class 'pandas.core.frame.DataFrame'>\n",
      "Int64Index: 3510431 entries, 0 to 3510430\n",
      "Data columns (total 18 columns):\n",
      " #   Column                     Dtype  \n",
      "---  ------                     -----  \n",
      " 0   id                         int64  \n",
      " 1   source_events              object \n",
      " 2   message_events             object \n",
      " 3   timestamp_events           object \n",
      " 4   criticality_events         object \n",
      " 5   identification_events      object \n",
      " 6   sn_modules                 object \n",
      " 7   name_modules               object \n",
      " 8   type_modules               object \n",
      " 9   generation_modules         object \n",
      " 10  name_counters_modules      object \n",
      " 11  value_counters_modules     int64  \n",
      " 12  name_connected_operators   object \n",
      " 13  level_connected_operators  object \n",
      " 14  status                     object \n",
      " 15  created_at                 object \n",
      " 16  varnishLevelsTargetvolume  float64\n",
      " 17  varnishLevelsTotalvolume   int64  \n",
      "dtypes: float64(1), int64(3), object(14)\n",
      "memory usage: 508.9+ MB\n"
     ]
    }
   ],
   "source": [
    "merge_metrics_df.info()"
   ]
  },
  {
   "attachments": {},
   "cell_type": "markdown",
   "metadata": {},
   "source": [
    "## 2. Outout csv"
   ]
  },
  {
   "cell_type": "code",
   "execution_count": 29,
   "metadata": {},
   "outputs": [],
   "source": [
    "merge_metrics_df.to_csv(path_or_buf=Path(save_csv))"
   ]
  }
 ],
 "metadata": {
  "kernelspec": {
   "display_name": ".venv",
   "language": "python",
   "name": "python3"
  },
  "language_info": {
   "codemirror_mode": {
    "name": "ipython",
    "version": 3
   },
   "file_extension": ".py",
   "mimetype": "text/x-python",
   "name": "python",
   "nbconvert_exporter": "python",
   "pygments_lexer": "ipython3",
   "version": "3.10.11"
  },
  "orig_nbformat": 4,
  "vscode": {
   "interpreter": {
    "hash": "2315c9af7dedaeb0b2bf51504304a927c605b523f04dad98936c50abe500b408"
   }
  }
 },
 "nbformat": 4,
 "nbformat_minor": 2
}
