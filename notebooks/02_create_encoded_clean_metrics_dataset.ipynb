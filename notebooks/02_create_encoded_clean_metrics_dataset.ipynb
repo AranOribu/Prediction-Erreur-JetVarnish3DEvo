{
 "cells": [
  {
   "attachments": {},
   "cell_type": "markdown",
   "metadata": {},
   "source": [
    "# 2) Creation de merge clean metrics dataset "
   ]
  },
  {
   "attachments": {},
   "cell_type": "markdown",
   "metadata": {},
   "source": [
    "Ce notebook génère :\n",
    "\n",
    "- 1 fichier csv \"merge_clean_metrics_dataset.csv\""
   ]
  },
  {
   "attachments": {},
   "cell_type": "markdown",
   "metadata": {},
   "source": [
    "## Imports"
   ]
  },
  {
   "cell_type": "code",
   "execution_count": 240,
   "metadata": {},
   "outputs": [],
   "source": [
    "import os, json, ast\n",
    "import pandas as pd\n",
    "import numpy as np\n",
    "import matplotlib.pyplot as plt\n",
    "from datetime import datetime\n",
    "from pathlib import Path"
   ]
  },
  {
   "attachments": {},
   "cell_type": "markdown",
   "metadata": {},
   "source": [
    "## 1. Création clean dataset metrics\n",
    "\n",
    "Preprocessing du dataset pour l'entrainement :\n",
    "\n",
    "- Centralisation des infos temporels dans la colonne 'timestamp'\n",
    "\n",
    "- Transformation des colonnes de type 'object' avec encodage\n",
    "\n",
    "- Selection des colonnes (avec suppression)\n",
    "\n",
    "- Encodage des catégories\n",
    "\n",
    "- Normalisation des valeurs"
   ]
  },
  {
   "cell_type": "code",
   "execution_count": 241,
   "metadata": {},
   "outputs": [],
   "source": [
    "# source path to raw metrics dataset\n",
    "source_csv = '../data/metrics/merge_raw_metrics_dataset.csv'\n",
    "# target path to save metrics dictionnaire\n",
    "save_json ='../data/metrics/metrics_events_dict.json'\n",
    "# target path to save merge raw metrics dataset\n",
    "save_csv = '../data/metrics/encoded_merge_clean_metrics_dataset.csv'"
   ]
  },
  {
   "attachments": {},
   "cell_type": "markdown",
   "metadata": {},
   "source": [
    "### a) Import dataset"
   ]
  },
  {
   "cell_type": "code",
   "execution_count": 242,
   "metadata": {},
   "outputs": [
    {
     "name": "stderr",
     "output_type": "stream",
     "text": [
      "C:\\Users\\Audrey\\AppData\\Local\\Temp\\ipykernel_10280\\868493661.py:2: DtypeWarning: Columns (10,11,12,13,14) have mixed types. Specify dtype option on import or set low_memory=False.\n",
      "  df = pd.read_csv(Path(source_csv), index_col=0)\n"
     ]
    },
    {
     "name": "stdout",
     "output_type": "stream",
     "text": [
      "<class 'pandas.core.frame.DataFrame'>\n",
      "RangeIndex: 3546276 entries, 0 to 3546275\n",
      "Data columns (total 17 columns):\n",
      " #   Column                     Dtype  \n",
      "---  ------                     -----  \n",
      " 0   id                         int64  \n",
      " 1   sn                         float64\n",
      " 2   name                       object \n",
      " 3   type                       object \n",
      " 4   generation                 object \n",
      " 5   name_counter               object \n",
      " 6   value                      int64  \n",
      " 7   name_op                    object \n",
      " 8   level                      object \n",
      " 9   source                     object \n",
      " 10  message                    object \n",
      " 11  timestamp                  object \n",
      " 12  criticality                object \n",
      " 13  identification             object \n",
      " 14  created_at                 object \n",
      " 15  varnishLevelsTargetvolume  float64\n",
      " 16  varnishLevelsTotalvolume   int64  \n",
      "dtypes: float64(2), int64(3), object(12)\n",
      "memory usage: 460.0+ MB\n"
     ]
    }
   ],
   "source": [
    "# création d'un dataframe à partir du csv de données\n",
    "df = pd.read_csv(Path(source_csv), index_col=0)\n",
    "# réindexation à 0\n",
    "df.reset_index(level=None, drop=True, inplace=True, col_level=0, col_fill='')\n",
    "df.info()"
   ]
  },
  {
   "attachments": {},
   "cell_type": "markdown",
   "metadata": {},
   "source": [
    "### b) Selection des colonnes"
   ]
  },
  {
   "cell_type": "code",
   "execution_count": 243,
   "metadata": {},
   "outputs": [],
   "source": [
    "# suppression des colonnes ne contenant que des valeurs nulles\n",
    "df = df.dropna(axis=1, how='all')"
   ]
  },
  {
   "cell_type": "code",
   "execution_count": 244,
   "metadata": {},
   "outputs": [],
   "source": [
    "# on supprime les colonnes doublons (message=identification)\n",
    "df = df.drop(['id', 'message'], axis=1)"
   ]
  },
  {
   "cell_type": "code",
   "execution_count": 245,
   "metadata": {},
   "outputs": [],
   "source": [
    "# on converti les float en entier 64\n",
    "df.varnishLevelsTargetvolume = pd.to_numeric(df.varnishLevelsTargetvolume).astype('int64')"
   ]
  },
  {
   "cell_type": "code",
   "execution_count": 246,
   "metadata": {},
   "outputs": [
    {
     "name": "stdout",
     "output_type": "stream",
     "text": [
      "<class 'pandas.core.frame.DataFrame'>\n",
      "RangeIndex: 3546276 entries, 0 to 3546275\n",
      "Data columns (total 14 columns):\n",
      " #   Column                     Dtype \n",
      "---  ------                     ----- \n",
      " 0   name                       object\n",
      " 1   type                       object\n",
      " 2   generation                 object\n",
      " 3   name_counter               object\n",
      " 4   value                      int64 \n",
      " 5   name_op                    object\n",
      " 6   level                      object\n",
      " 7   source                     object\n",
      " 8   timestamp                  object\n",
      " 9   criticality                object\n",
      " 10  identification             object\n",
      " 11  created_at                 object\n",
      " 12  varnishLevelsTargetvolume  int64 \n",
      " 13  varnishLevelsTotalvolume   int64 \n",
      "dtypes: int64(3), object(11)\n",
      "memory usage: 378.8+ MB\n"
     ]
    }
   ],
   "source": [
    "df.info()"
   ]
  },
  {
   "attachments": {},
   "cell_type": "markdown",
   "metadata": {},
   "source": [
    "### c) Colonne 'timestamp'"
   ]
  },
  {
   "cell_type": "code",
   "execution_count": 247,
   "metadata": {},
   "outputs": [],
   "source": [
    "# on remplace des valeurs maquantes de timestamp par celle de created_at\n",
    "df.timestamp = df.timestamp.fillna(df['created_at'])\n",
    "# on converti les valeur en datetim\n",
    "df.timestamp = pd.to_datetime(df.timestamp, utc=True)\n",
    "# on supprime la colonne doublon (created_at=tiemstamp)\n",
    "df = df.drop(['created_at'], axis=1)"
   ]
  },
  {
   "attachments": {},
   "cell_type": "markdown",
   "metadata": {},
   "source": [
    "### d) Colonne 'identification'"
   ]
  },
  {
   "cell_type": "code",
   "execution_count": 248,
   "metadata": {},
   "outputs": [
    {
     "data": {
      "text/plain": [
       "array([nan, '391', '330', '332', '377', '333', '334', '331',\n",
       "       'Kernel_Error', '315', '417', '406', '407', '352', '344',\n",
       "       'ICB communication error', '376', '445', '325', '343', '345',\n",
       "       '358', '453', '381', '354', '313', '447', '454', '387', '386',\n",
       "       '372', '371', '323', '480', '311', '479', '351', '440', '324',\n",
       "       '321', '0', '349', 'RCB communication error', '385', '357', '418',\n",
       "       '446', '355', '389', '476', '356', 'iFoil communication error',\n",
       "       '460', '472', '405', '380', '388', '408', 445.0, 391.0, 330.0,\n",
       "       333.0, 408.0, 407.0, 406.0, 332.0, 334.0, 472.0, 331.0, 352.0,\n",
       "       '320', '329', '350', '475', '466', '416', '411', '346', '471',\n",
       "       '327', 430.0, '430', '444', '2', '326', '419',\n",
       "       'Pilot communication error', '359', 313.0, 377.0, 453.0, 376.0,\n",
       "       344.0, 325.0, 454.0, 315.0, 417.0, '322', 385.0, 371.0, 386.0,\n",
       "       '384'], dtype=object)"
      ]
     },
     "execution_count": 248,
     "metadata": {},
     "output_type": "execute_result"
    }
   ],
   "source": [
    "df.identification.unique()"
   ]
  },
  {
   "cell_type": "code",
   "execution_count": 249,
   "metadata": {},
   "outputs": [],
   "source": [
    "# on remplace les valeurs nulles par des 0\n",
    "df.identification = df.identification.replace(np.nan, 0)"
   ]
  },
  {
   "cell_type": "code",
   "execution_count": 250,
   "metadata": {},
   "outputs": [
    {
     "data": {
      "text/plain": [
       "{'Kernel_Error': 1000,\n",
       " 'ICB communication error': 1001,\n",
       " 'RCB communication error': 1002,\n",
       " 'iFoil communication error': 1003,\n",
       " 'Pilot communication error': 1004}"
      ]
     },
     "execution_count": 250,
     "metadata": {},
     "output_type": "execute_result"
    }
   ],
   "source": [
    "# on encode les valeurs du type 'str' avec un code\n",
    "events_id = []\n",
    "str_code_dict = {}\n",
    "str_code = 1000\n",
    "for id in list(df['identification'].unique()) :\n",
    "    try:\n",
    "        events_id.append(int(id))\n",
    "    except ValueError:\n",
    "        str_code_dict[id] = str_code\n",
    "        events_id.append(str_code)\n",
    "        str_code += 1\n",
    "str_code_dict"
   ]
  },
  {
   "cell_type": "code",
   "execution_count": 251,
   "metadata": {},
   "outputs": [],
   "source": [
    "# on sauvegarde l'encodage dans metrics_events_dict\n",
    "inv_str_code_dict = {v: k for k, v in str_code_dict.items()}\n",
    "with open(file=Path(save_json), mode=\"r+\", encoding='utf-8') as jsonFile:\n",
    "    data = json.load(jsonFile)\n",
    "    data['identification encoded'] = inv_str_code_dict\n",
    "    jsonFile.seek(0)\n",
    "    json.dump(data, jsonFile, indent=4, ensure_ascii=False)\n",
    "    jsonFile.close()"
   ]
  },
  {
   "cell_type": "code",
   "execution_count": 252,
   "metadata": {},
   "outputs": [],
   "source": [
    "# on remplace dans le dataframe les valeurs du type 'str' avec un code\n",
    "df.identification = df.identification.replace(str_code_dict)\n",
    "# on converti toutes les valeurs en entier\n",
    "df.identification = pd.to_numeric(df.identification).astype('int64')"
   ]
  },
  {
   "cell_type": "code",
   "execution_count": 253,
   "metadata": {},
   "outputs": [
    {
     "data": {
      "text/plain": [
       "array([   0,  391,  330,  332,  377,  333,  334,  331, 1000,  315,  417,\n",
       "        406,  407,  352,  344, 1001,  376,  445,  325,  343,  345,  358,\n",
       "        453,  381,  354,  313,  447,  454,  387,  386,  372,  371,  323,\n",
       "        480,  311,  479,  351,  440,  324,  321,  349, 1002,  385,  357,\n",
       "        418,  446,  355,  389,  476,  356, 1003,  460,  472,  405,  380,\n",
       "        388,  408,  320,  329,  350,  475,  466,  416,  411,  346,  471,\n",
       "        327,  430,  444,    2,  326,  419, 1004,  359,  322,  384],\n",
       "      dtype=int64)"
      ]
     },
     "execution_count": 253,
     "metadata": {},
     "output_type": "execute_result"
    }
   ],
   "source": [
    "df.identification.unique()"
   ]
  },
  {
   "attachments": {},
   "cell_type": "markdown",
   "metadata": {},
   "source": [
    "### e) Encodage des labels 'criticality'"
   ]
  },
  {
   "cell_type": "code",
   "execution_count": 254,
   "metadata": {},
   "outputs": [],
   "source": [
    "# on remplace dans le dataframe les valeurs du type 'str' avec un code\n",
    "criticality = {np.NaN: 0, 'INFO': 1, 'WARNING': 2, 'ERROR':3}\n",
    "df.criticality.replace(criticality, inplace=True)\n",
    "df.criticality = pd.to_numeric(df.criticality).astype('int64')"
   ]
  },
  {
   "attachments": {},
   "cell_type": "markdown",
   "metadata": {},
   "source": [
    "### f) Séléction des colonnes variables de type 'object'"
   ]
  },
  {
   "cell_type": "code",
   "execution_count": 255,
   "metadata": {},
   "outputs": [],
   "source": [
    "object_columns = list(df.select_dtypes(include=['object']).columns)"
   ]
  },
  {
   "cell_type": "code",
   "execution_count": 256,
   "metadata": {},
   "outputs": [
    {
     "name": "stdout",
     "output_type": "stream",
     "text": [
      "name ['Print Engine 1' 'iFoil L']\n",
      "type ['Varnish Printer' 'iFoil']\n",
      "generation [nan 'Gen. 2']\n",
      "name_counter ['3D Varnish Counter' 'Total Pages Counter' 'Foiled Pages Counter']\n",
      "name_op ['Viktor' 'JAN' 'Micka' 'Distributor']\n",
      "level ['Operator' 'Distributor']\n",
      "source [nan 'PLC' 'iFoil' 'Kernel' 'ICB n°5' 'RCB n°1' 'RCB n°2' 'RCB n°3'\n",
      " 'ICB n°4' 'ICB n°7' 'ICB n°8' 'ICB n°2' 'ICB n°1' 'ICB n°6' 'Pilot']\n"
     ]
    }
   ],
   "source": [
    "for col in object_columns :\n",
    "    print(col, df[col].unique())"
   ]
  },
  {
   "cell_type": "code",
   "execution_count": 257,
   "metadata": {},
   "outputs": [],
   "source": [
    "# on supprime les colonnes non pertinentes\n",
    "df = df.drop(['name','generation'], axis=1)\n",
    "object_columns.remove('name')\n",
    "object_columns.remove('generation')"
   ]
  },
  {
   "attachments": {},
   "cell_type": "markdown",
   "metadata": {},
   "source": [
    "#### Encodage des variables"
   ]
  },
  {
   "cell_type": "code",
   "execution_count": 258,
   "metadata": {},
   "outputs": [],
   "source": [
    "# on encode en vecteur les variables\n",
    "encoded_df = pd.concat(objs=[df, pd.get_dummies(df[object_columns])], axis=1)\n",
    "encoded_df = encoded_df.drop(labels=object_columns, axis=1)"
   ]
  },
  {
   "cell_type": "code",
   "execution_count": 259,
   "metadata": {},
   "outputs": [
    {
     "name": "stdout",
     "output_type": "stream",
     "text": [
      "<class 'pandas.core.frame.DataFrame'>\n",
      "RangeIndex: 3546276 entries, 0 to 3546275\n",
      "Data columns (total 11 columns):\n",
      " #   Column                     Dtype              \n",
      "---  ------                     -----              \n",
      " 0   type                       object             \n",
      " 1   name_counter               object             \n",
      " 2   value                      int64              \n",
      " 3   name_op                    object             \n",
      " 4   level                      object             \n",
      " 5   source                     object             \n",
      " 6   timestamp                  datetime64[ns, UTC]\n",
      " 7   criticality                int64              \n",
      " 8   identification             int64              \n",
      " 9   varnishLevelsTargetvolume  int64              \n",
      " 10  varnishLevelsTotalvolume   int64              \n",
      "dtypes: datetime64[ns, UTC](1), int64(5), object(5)\n",
      "memory usage: 297.6+ MB\n"
     ]
    }
   ],
   "source": [
    "df.info()"
   ]
  },
  {
   "attachments": {},
   "cell_type": "markdown",
   "metadata": {},
   "source": [
    "### g) Normalisation"
   ]
  },
  {
   "cell_type": "code",
   "execution_count": 262,
   "metadata": {},
   "outputs": [
    {
     "data": {
      "text/html": [
       "<div>\n",
       "<style scoped>\n",
       "    .dataframe tbody tr th:only-of-type {\n",
       "        vertical-align: middle;\n",
       "    }\n",
       "\n",
       "    .dataframe tbody tr th {\n",
       "        vertical-align: top;\n",
       "    }\n",
       "\n",
       "    .dataframe thead th {\n",
       "        text-align: right;\n",
       "    }\n",
       "</style>\n",
       "<table border=\"1\" class=\"dataframe\">\n",
       "  <thead>\n",
       "    <tr style=\"text-align: right;\">\n",
       "      <th></th>\n",
       "      <th>value</th>\n",
       "      <th>criticality</th>\n",
       "      <th>identification</th>\n",
       "      <th>varnishLevelsTargetvolume</th>\n",
       "      <th>varnishLevelsTotalvolume</th>\n",
       "      <th>type_Varnish Printer</th>\n",
       "      <th>type_iFoil</th>\n",
       "      <th>name_counter_3D Varnish Counter</th>\n",
       "      <th>name_counter_Foiled Pages Counter</th>\n",
       "      <th>name_counter_Total Pages Counter</th>\n",
       "      <th>...</th>\n",
       "      <th>source_ICB n°6</th>\n",
       "      <th>source_ICB n°7</th>\n",
       "      <th>source_ICB n°8</th>\n",
       "      <th>source_Kernel</th>\n",
       "      <th>source_PLC</th>\n",
       "      <th>source_Pilot</th>\n",
       "      <th>source_RCB n°1</th>\n",
       "      <th>source_RCB n°2</th>\n",
       "      <th>source_RCB n°3</th>\n",
       "      <th>source_iFoil</th>\n",
       "    </tr>\n",
       "  </thead>\n",
       "  <tbody>\n",
       "    <tr>\n",
       "      <th>0</th>\n",
       "      <td>0.703951</td>\n",
       "      <td>0</td>\n",
       "      <td>0.000000</td>\n",
       "      <td>0.36192</td>\n",
       "      <td>1.0</td>\n",
       "      <td>1.0</td>\n",
       "      <td>0.0</td>\n",
       "      <td>1.0</td>\n",
       "      <td>0.0</td>\n",
       "      <td>0.0</td>\n",
       "      <td>...</td>\n",
       "      <td>0.0</td>\n",
       "      <td>0.0</td>\n",
       "      <td>0.0</td>\n",
       "      <td>0.0</td>\n",
       "      <td>0.0</td>\n",
       "      <td>0.0</td>\n",
       "      <td>0.0</td>\n",
       "      <td>0.0</td>\n",
       "      <td>0.0</td>\n",
       "      <td>0.0</td>\n",
       "    </tr>\n",
       "    <tr>\n",
       "      <th>1</th>\n",
       "      <td>0.008983</td>\n",
       "      <td>0</td>\n",
       "      <td>0.000000</td>\n",
       "      <td>0.36192</td>\n",
       "      <td>1.0</td>\n",
       "      <td>0.0</td>\n",
       "      <td>1.0</td>\n",
       "      <td>0.0</td>\n",
       "      <td>0.0</td>\n",
       "      <td>1.0</td>\n",
       "      <td>...</td>\n",
       "      <td>0.0</td>\n",
       "      <td>0.0</td>\n",
       "      <td>0.0</td>\n",
       "      <td>0.0</td>\n",
       "      <td>0.0</td>\n",
       "      <td>0.0</td>\n",
       "      <td>0.0</td>\n",
       "      <td>0.0</td>\n",
       "      <td>0.0</td>\n",
       "      <td>0.0</td>\n",
       "    </tr>\n",
       "    <tr>\n",
       "      <th>2</th>\n",
       "      <td>0.012207</td>\n",
       "      <td>0</td>\n",
       "      <td>0.000000</td>\n",
       "      <td>0.36192</td>\n",
       "      <td>1.0</td>\n",
       "      <td>0.0</td>\n",
       "      <td>1.0</td>\n",
       "      <td>0.0</td>\n",
       "      <td>1.0</td>\n",
       "      <td>0.0</td>\n",
       "      <td>...</td>\n",
       "      <td>0.0</td>\n",
       "      <td>0.0</td>\n",
       "      <td>0.0</td>\n",
       "      <td>0.0</td>\n",
       "      <td>0.0</td>\n",
       "      <td>0.0</td>\n",
       "      <td>0.0</td>\n",
       "      <td>0.0</td>\n",
       "      <td>0.0</td>\n",
       "      <td>0.0</td>\n",
       "    </tr>\n",
       "    <tr>\n",
       "      <th>3</th>\n",
       "      <td>0.703951</td>\n",
       "      <td>1</td>\n",
       "      <td>0.389442</td>\n",
       "      <td>0.36192</td>\n",
       "      <td>1.0</td>\n",
       "      <td>1.0</td>\n",
       "      <td>0.0</td>\n",
       "      <td>1.0</td>\n",
       "      <td>0.0</td>\n",
       "      <td>0.0</td>\n",
       "      <td>...</td>\n",
       "      <td>0.0</td>\n",
       "      <td>0.0</td>\n",
       "      <td>0.0</td>\n",
       "      <td>0.0</td>\n",
       "      <td>1.0</td>\n",
       "      <td>0.0</td>\n",
       "      <td>0.0</td>\n",
       "      <td>0.0</td>\n",
       "      <td>0.0</td>\n",
       "      <td>0.0</td>\n",
       "    </tr>\n",
       "    <tr>\n",
       "      <th>4</th>\n",
       "      <td>0.008983</td>\n",
       "      <td>1</td>\n",
       "      <td>0.389442</td>\n",
       "      <td>0.36192</td>\n",
       "      <td>1.0</td>\n",
       "      <td>0.0</td>\n",
       "      <td>1.0</td>\n",
       "      <td>0.0</td>\n",
       "      <td>0.0</td>\n",
       "      <td>1.0</td>\n",
       "      <td>...</td>\n",
       "      <td>0.0</td>\n",
       "      <td>0.0</td>\n",
       "      <td>0.0</td>\n",
       "      <td>0.0</td>\n",
       "      <td>1.0</td>\n",
       "      <td>0.0</td>\n",
       "      <td>0.0</td>\n",
       "      <td>0.0</td>\n",
       "      <td>0.0</td>\n",
       "      <td>0.0</td>\n",
       "    </tr>\n",
       "    <tr>\n",
       "      <th>...</th>\n",
       "      <td>...</td>\n",
       "      <td>...</td>\n",
       "      <td>...</td>\n",
       "      <td>...</td>\n",
       "      <td>...</td>\n",
       "      <td>...</td>\n",
       "      <td>...</td>\n",
       "      <td>...</td>\n",
       "      <td>...</td>\n",
       "      <td>...</td>\n",
       "      <td>...</td>\n",
       "      <td>...</td>\n",
       "      <td>...</td>\n",
       "      <td>...</td>\n",
       "      <td>...</td>\n",
       "      <td>...</td>\n",
       "      <td>...</td>\n",
       "      <td>...</td>\n",
       "      <td>...</td>\n",
       "      <td>...</td>\n",
       "      <td>...</td>\n",
       "    </tr>\n",
       "    <tr>\n",
       "      <th>3546271</th>\n",
       "      <td>0.021746</td>\n",
       "      <td>0</td>\n",
       "      <td>0.000000</td>\n",
       "      <td>0.88999</td>\n",
       "      <td>1.0</td>\n",
       "      <td>0.0</td>\n",
       "      <td>1.0</td>\n",
       "      <td>0.0</td>\n",
       "      <td>0.0</td>\n",
       "      <td>1.0</td>\n",
       "      <td>...</td>\n",
       "      <td>0.0</td>\n",
       "      <td>0.0</td>\n",
       "      <td>0.0</td>\n",
       "      <td>0.0</td>\n",
       "      <td>0.0</td>\n",
       "      <td>0.0</td>\n",
       "      <td>0.0</td>\n",
       "      <td>0.0</td>\n",
       "      <td>0.0</td>\n",
       "      <td>0.0</td>\n",
       "    </tr>\n",
       "    <tr>\n",
       "      <th>3546272</th>\n",
       "      <td>0.030009</td>\n",
       "      <td>0</td>\n",
       "      <td>0.000000</td>\n",
       "      <td>0.88999</td>\n",
       "      <td>1.0</td>\n",
       "      <td>0.0</td>\n",
       "      <td>1.0</td>\n",
       "      <td>0.0</td>\n",
       "      <td>1.0</td>\n",
       "      <td>0.0</td>\n",
       "      <td>...</td>\n",
       "      <td>0.0</td>\n",
       "      <td>0.0</td>\n",
       "      <td>0.0</td>\n",
       "      <td>0.0</td>\n",
       "      <td>0.0</td>\n",
       "      <td>0.0</td>\n",
       "      <td>0.0</td>\n",
       "      <td>0.0</td>\n",
       "      <td>0.0</td>\n",
       "      <td>0.0</td>\n",
       "    </tr>\n",
       "    <tr>\n",
       "      <th>3546273</th>\n",
       "      <td>1.000000</td>\n",
       "      <td>0</td>\n",
       "      <td>0.000000</td>\n",
       "      <td>0.88999</td>\n",
       "      <td>1.0</td>\n",
       "      <td>1.0</td>\n",
       "      <td>0.0</td>\n",
       "      <td>1.0</td>\n",
       "      <td>0.0</td>\n",
       "      <td>0.0</td>\n",
       "      <td>...</td>\n",
       "      <td>0.0</td>\n",
       "      <td>0.0</td>\n",
       "      <td>0.0</td>\n",
       "      <td>0.0</td>\n",
       "      <td>0.0</td>\n",
       "      <td>0.0</td>\n",
       "      <td>0.0</td>\n",
       "      <td>0.0</td>\n",
       "      <td>0.0</td>\n",
       "      <td>0.0</td>\n",
       "    </tr>\n",
       "    <tr>\n",
       "      <th>3546274</th>\n",
       "      <td>0.021746</td>\n",
       "      <td>0</td>\n",
       "      <td>0.000000</td>\n",
       "      <td>0.88999</td>\n",
       "      <td>1.0</td>\n",
       "      <td>0.0</td>\n",
       "      <td>1.0</td>\n",
       "      <td>0.0</td>\n",
       "      <td>0.0</td>\n",
       "      <td>1.0</td>\n",
       "      <td>...</td>\n",
       "      <td>0.0</td>\n",
       "      <td>0.0</td>\n",
       "      <td>0.0</td>\n",
       "      <td>0.0</td>\n",
       "      <td>0.0</td>\n",
       "      <td>0.0</td>\n",
       "      <td>0.0</td>\n",
       "      <td>0.0</td>\n",
       "      <td>0.0</td>\n",
       "      <td>0.0</td>\n",
       "    </tr>\n",
       "    <tr>\n",
       "      <th>3546275</th>\n",
       "      <td>0.030009</td>\n",
       "      <td>0</td>\n",
       "      <td>0.000000</td>\n",
       "      <td>0.88999</td>\n",
       "      <td>1.0</td>\n",
       "      <td>0.0</td>\n",
       "      <td>1.0</td>\n",
       "      <td>0.0</td>\n",
       "      <td>1.0</td>\n",
       "      <td>0.0</td>\n",
       "      <td>...</td>\n",
       "      <td>0.0</td>\n",
       "      <td>0.0</td>\n",
       "      <td>0.0</td>\n",
       "      <td>0.0</td>\n",
       "      <td>0.0</td>\n",
       "      <td>0.0</td>\n",
       "      <td>0.0</td>\n",
       "      <td>0.0</td>\n",
       "      <td>0.0</td>\n",
       "      <td>0.0</td>\n",
       "    </tr>\n",
       "  </tbody>\n",
       "</table>\n",
       "<p>3546276 rows × 30 columns</p>\n",
       "</div>"
      ],
      "text/plain": [
       "            value  criticality  identification  varnishLevelsTargetvolume  \\\n",
       "0        0.703951            0        0.000000                    0.36192   \n",
       "1        0.008983            0        0.000000                    0.36192   \n",
       "2        0.012207            0        0.000000                    0.36192   \n",
       "3        0.703951            1        0.389442                    0.36192   \n",
       "4        0.008983            1        0.389442                    0.36192   \n",
       "...           ...          ...             ...                        ...   \n",
       "3546271  0.021746            0        0.000000                    0.88999   \n",
       "3546272  0.030009            0        0.000000                    0.88999   \n",
       "3546273  1.000000            0        0.000000                    0.88999   \n",
       "3546274  0.021746            0        0.000000                    0.88999   \n",
       "3546275  0.030009            0        0.000000                    0.88999   \n",
       "\n",
       "         varnishLevelsTotalvolume  type_Varnish Printer  type_iFoil  \\\n",
       "0                             1.0                   1.0         0.0   \n",
       "1                             1.0                   0.0         1.0   \n",
       "2                             1.0                   0.0         1.0   \n",
       "3                             1.0                   1.0         0.0   \n",
       "4                             1.0                   0.0         1.0   \n",
       "...                           ...                   ...         ...   \n",
       "3546271                       1.0                   0.0         1.0   \n",
       "3546272                       1.0                   0.0         1.0   \n",
       "3546273                       1.0                   1.0         0.0   \n",
       "3546274                       1.0                   0.0         1.0   \n",
       "3546275                       1.0                   0.0         1.0   \n",
       "\n",
       "         name_counter_3D Varnish Counter  name_counter_Foiled Pages Counter  \\\n",
       "0                                    1.0                                0.0   \n",
       "1                                    0.0                                0.0   \n",
       "2                                    0.0                                1.0   \n",
       "3                                    1.0                                0.0   \n",
       "4                                    0.0                                0.0   \n",
       "...                                  ...                                ...   \n",
       "3546271                              0.0                                0.0   \n",
       "3546272                              0.0                                1.0   \n",
       "3546273                              1.0                                0.0   \n",
       "3546274                              0.0                                0.0   \n",
       "3546275                              0.0                                1.0   \n",
       "\n",
       "         name_counter_Total Pages Counter  ...  source_ICB n°6  \\\n",
       "0                                     0.0  ...             0.0   \n",
       "1                                     1.0  ...             0.0   \n",
       "2                                     0.0  ...             0.0   \n",
       "3                                     0.0  ...             0.0   \n",
       "4                                     1.0  ...             0.0   \n",
       "...                                   ...  ...             ...   \n",
       "3546271                               1.0  ...             0.0   \n",
       "3546272                               0.0  ...             0.0   \n",
       "3546273                               0.0  ...             0.0   \n",
       "3546274                               1.0  ...             0.0   \n",
       "3546275                               0.0  ...             0.0   \n",
       "\n",
       "         source_ICB n°7  source_ICB n°8  source_Kernel  source_PLC  \\\n",
       "0                   0.0             0.0            0.0         0.0   \n",
       "1                   0.0             0.0            0.0         0.0   \n",
       "2                   0.0             0.0            0.0         0.0   \n",
       "3                   0.0             0.0            0.0         1.0   \n",
       "4                   0.0             0.0            0.0         1.0   \n",
       "...                 ...             ...            ...         ...   \n",
       "3546271             0.0             0.0            0.0         0.0   \n",
       "3546272             0.0             0.0            0.0         0.0   \n",
       "3546273             0.0             0.0            0.0         0.0   \n",
       "3546274             0.0             0.0            0.0         0.0   \n",
       "3546275             0.0             0.0            0.0         0.0   \n",
       "\n",
       "         source_Pilot  source_RCB n°1  source_RCB n°2  source_RCB n°3  \\\n",
       "0                 0.0             0.0             0.0             0.0   \n",
       "1                 0.0             0.0             0.0             0.0   \n",
       "2                 0.0             0.0             0.0             0.0   \n",
       "3                 0.0             0.0             0.0             0.0   \n",
       "4                 0.0             0.0             0.0             0.0   \n",
       "...               ...             ...             ...             ...   \n",
       "3546271           0.0             0.0             0.0             0.0   \n",
       "3546272           0.0             0.0             0.0             0.0   \n",
       "3546273           0.0             0.0             0.0             0.0   \n",
       "3546274           0.0             0.0             0.0             0.0   \n",
       "3546275           0.0             0.0             0.0             0.0   \n",
       "\n",
       "         source_iFoil  \n",
       "0                 0.0  \n",
       "1                 0.0  \n",
       "2                 0.0  \n",
       "3                 0.0  \n",
       "4                 0.0  \n",
       "...               ...  \n",
       "3546271           0.0  \n",
       "3546272           0.0  \n",
       "3546273           0.0  \n",
       "3546274           0.0  \n",
       "3546275           0.0  \n",
       "\n",
       "[3546276 rows x 30 columns]"
      ]
     },
     "metadata": {},
     "output_type": "display_data"
    }
   ],
   "source": [
    "# creation d'une copie du dataframe avec normalisation\n",
    "# copy the data\n",
    "df_max_scaled = encoded_df.copy(deep=True)\n",
    "# df_max_scaled.index = df_max_scaled['timestamp']\n",
    "del df_max_scaled['timestamp']\n",
    "# apply normalization techniques\n",
    "for column in df_max_scaled.drop('criticality', axis=1).columns:\n",
    "    df_max_scaled[column] = df_max_scaled[column]  / df_max_scaled[column].abs().max()\n",
    "# view normalized data\n",
    "display(df_max_scaled)"
   ]
  },
  {
   "attachments": {},
   "cell_type": "markdown",
   "metadata": {},
   "source": [
    "## Output"
   ]
  },
  {
   "cell_type": "code",
   "execution_count": 261,
   "metadata": {},
   "outputs": [],
   "source": [
    "encoded_df.to_csv(path_or_buf=Path(save_csv))"
   ]
  }
 ],
 "metadata": {
  "kernelspec": {
   "display_name": ".venv",
   "language": "python",
   "name": "python3"
  },
  "language_info": {
   "codemirror_mode": {
    "name": "ipython",
    "version": 3
   },
   "file_extension": ".py",
   "mimetype": "text/x-python",
   "name": "python",
   "nbconvert_exporter": "python",
   "pygments_lexer": "ipython3",
   "version": "3.10.4"
  },
  "orig_nbformat": 4,
  "vscode": {
   "interpreter": {
    "hash": "2315c9af7dedaeb0b2bf51504304a927c605b523f04dad98936c50abe500b408"
   }
  }
 },
 "nbformat": 4,
 "nbformat_minor": 2
}
