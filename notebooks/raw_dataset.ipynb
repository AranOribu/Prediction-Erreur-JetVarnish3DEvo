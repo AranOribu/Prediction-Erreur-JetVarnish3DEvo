{
 "cells": [
  {
   "cell_type": "code",
   "execution_count": 1,
   "metadata": {},
   "outputs": [],
   "source": [
    "import pandas as pd"
   ]
  },
  {
   "cell_type": "code",
   "execution_count": 2,
   "metadata": {},
   "outputs": [],
   "source": [
    "metrics = '../data/metrics.csv'"
   ]
  },
  {
   "cell_type": "code",
   "execution_count": 3,
   "metadata": {},
   "outputs": [],
   "source": [
    "metrics_df = pd.read_csv(metrics)"
   ]
  },
  {
   "cell_type": "code",
   "execution_count": 4,
   "metadata": {},
   "outputs": [
    {
     "name": "stdout",
     "output_type": "stream",
     "text": [
      "<class 'pandas.core.frame.DataFrame'>\n",
      "RangeIndex: 1164430 entries, 0 to 1164429\n",
      "Data columns (total 17 columns):\n",
      " #   Column                     Non-Null Count    Dtype  \n",
      "---  ------                     --------------    -----  \n",
      " 0   id                         1164430 non-null  int64  \n",
      " 1   status                     1164430 non-null  object \n",
      " 2   created_at                 1164430 non-null  object \n",
      " 3   cyan_capacity              0 non-null        float64\n",
      " 4   cyan_remaining             0 non-null        float64\n",
      " 5   magenta_capacity           0 non-null        float64\n",
      " 6   magenta_remaining          0 non-null        float64\n",
      " 7   yellow_capacity            0 non-null        float64\n",
      " 8   yellow_remaining           0 non-null        float64\n",
      " 9   black_capacity             0 non-null        float64\n",
      " 10  black_remaining            0 non-null        float64\n",
      " 11  machineId                  1164430 non-null  int64  \n",
      " 12  connected_operators        1164430 non-null  object \n",
      " 13  varnishLevelsTargetvolume  1164430 non-null  float64\n",
      " 14  varnishLevelsTotalvolume   1164430 non-null  int64  \n",
      " 15  modules                    1164430 non-null  object \n",
      " 16  events                     1164430 non-null  object \n",
      "dtypes: float64(9), int64(3), object(5)\n",
      "memory usage: 151.0+ MB\n"
     ]
    }
   ],
   "source": [
    "metrics_df.info()"
   ]
  },
  {
   "cell_type": "code",
   "execution_count": 8,
   "metadata": {},
   "outputs": [],
   "source": [
    "metrics_df.dropna(axis='columns', inplace=True)"
   ]
  },
  {
   "cell_type": "code",
   "execution_count": 9,
   "metadata": {},
   "outputs": [
    {
     "data": {
      "text/html": [
       "<div>\n",
       "<style scoped>\n",
       "    .dataframe tbody tr th:only-of-type {\n",
       "        vertical-align: middle;\n",
       "    }\n",
       "\n",
       "    .dataframe tbody tr th {\n",
       "        vertical-align: top;\n",
       "    }\n",
       "\n",
       "    .dataframe thead th {\n",
       "        text-align: right;\n",
       "    }\n",
       "</style>\n",
       "<table border=\"1\" class=\"dataframe\">\n",
       "  <thead>\n",
       "    <tr style=\"text-align: right;\">\n",
       "      <th></th>\n",
       "      <th>id</th>\n",
       "      <th>status</th>\n",
       "      <th>created_at</th>\n",
       "      <th>machineId</th>\n",
       "      <th>connected_operators</th>\n",
       "      <th>varnishLevelsTargetvolume</th>\n",
       "      <th>varnishLevelsTotalvolume</th>\n",
       "      <th>modules</th>\n",
       "      <th>events</th>\n",
       "    </tr>\n",
       "  </thead>\n",
       "  <tbody>\n",
       "    <tr>\n",
       "      <th>0</th>\n",
       "      <td>5561325</td>\n",
       "      <td>WARNING</td>\n",
       "      <td>2022-06-07 12:23:52.164000</td>\n",
       "      <td>14</td>\n",
       "      <td>[{\"name\": \"JAN\", \"level\": \"Operator\"}]</td>\n",
       "      <td>22050.818386</td>\n",
       "      <td>100000</td>\n",
       "      <td>[{\"sn\": \"\", \"name\": \"Print Engine 1\", \"type\": ...</td>\n",
       "      <td>[]</td>\n",
       "    </tr>\n",
       "    <tr>\n",
       "      <th>1</th>\n",
       "      <td>5513803</td>\n",
       "      <td>IDLE</td>\n",
       "      <td>2022-06-03 08:44:57.996000</td>\n",
       "      <td>14</td>\n",
       "      <td>[{\"name\": \"Viktor\", \"level\": \"Operator\"}]</td>\n",
       "      <td>22402.256226</td>\n",
       "      <td>100000</td>\n",
       "      <td>[{\"sn\": \"\", \"name\": \"Print Engine 1\", \"type\": ...</td>\n",
       "      <td>[]</td>\n",
       "    </tr>\n",
       "    <tr>\n",
       "      <th>2</th>\n",
       "      <td>5514125</td>\n",
       "      <td>IDLE</td>\n",
       "      <td>2022-06-03 08:50:28.520000</td>\n",
       "      <td>14</td>\n",
       "      <td>[{\"name\": \"Viktor\", \"level\": \"Operator\"}]</td>\n",
       "      <td>22402.256226</td>\n",
       "      <td>100000</td>\n",
       "      <td>[{\"sn\": \"\", \"name\": \"Print Engine 1\", \"type\": ...</td>\n",
       "      <td>[]</td>\n",
       "    </tr>\n",
       "    <tr>\n",
       "      <th>3</th>\n",
       "      <td>5513794</td>\n",
       "      <td>IDLE</td>\n",
       "      <td>2022-06-03 08:44:47.992000</td>\n",
       "      <td>14</td>\n",
       "      <td>[{\"name\": \"Viktor\", \"level\": \"Operator\"}]</td>\n",
       "      <td>22402.256226</td>\n",
       "      <td>100000</td>\n",
       "      <td>[{\"sn\": \"\", \"name\": \"Print Engine 1\", \"type\": ...</td>\n",
       "      <td>[]</td>\n",
       "    </tr>\n",
       "    <tr>\n",
       "      <th>4</th>\n",
       "      <td>5513880</td>\n",
       "      <td>IDLE</td>\n",
       "      <td>2022-06-03 08:46:18.097000</td>\n",
       "      <td>14</td>\n",
       "      <td>[{\"name\": \"Viktor\", \"level\": \"Operator\"}]</td>\n",
       "      <td>22402.256226</td>\n",
       "      <td>100000</td>\n",
       "      <td>[{\"sn\": \"\", \"name\": \"Print Engine 1\", \"type\": ...</td>\n",
       "      <td>[{\"source\": \"PLC\", \"message\": \" Plateau de têt...</td>\n",
       "    </tr>\n",
       "  </tbody>\n",
       "</table>\n",
       "</div>"
      ],
      "text/plain": [
       "        id   status                  created_at  machineId  \\\n",
       "0  5561325  WARNING  2022-06-07 12:23:52.164000         14   \n",
       "1  5513803     IDLE  2022-06-03 08:44:57.996000         14   \n",
       "2  5514125     IDLE  2022-06-03 08:50:28.520000         14   \n",
       "3  5513794     IDLE  2022-06-03 08:44:47.992000         14   \n",
       "4  5513880     IDLE  2022-06-03 08:46:18.097000         14   \n",
       "\n",
       "                         connected_operators  varnishLevelsTargetvolume  \\\n",
       "0     [{\"name\": \"JAN\", \"level\": \"Operator\"}]               22050.818386   \n",
       "1  [{\"name\": \"Viktor\", \"level\": \"Operator\"}]               22402.256226   \n",
       "2  [{\"name\": \"Viktor\", \"level\": \"Operator\"}]               22402.256226   \n",
       "3  [{\"name\": \"Viktor\", \"level\": \"Operator\"}]               22402.256226   \n",
       "4  [{\"name\": \"Viktor\", \"level\": \"Operator\"}]               22402.256226   \n",
       "\n",
       "   varnishLevelsTotalvolume  \\\n",
       "0                    100000   \n",
       "1                    100000   \n",
       "2                    100000   \n",
       "3                    100000   \n",
       "4                    100000   \n",
       "\n",
       "                                             modules  \\\n",
       "0  [{\"sn\": \"\", \"name\": \"Print Engine 1\", \"type\": ...   \n",
       "1  [{\"sn\": \"\", \"name\": \"Print Engine 1\", \"type\": ...   \n",
       "2  [{\"sn\": \"\", \"name\": \"Print Engine 1\", \"type\": ...   \n",
       "3  [{\"sn\": \"\", \"name\": \"Print Engine 1\", \"type\": ...   \n",
       "4  [{\"sn\": \"\", \"name\": \"Print Engine 1\", \"type\": ...   \n",
       "\n",
       "                                              events  \n",
       "0                                                 []  \n",
       "1                                                 []  \n",
       "2                                                 []  \n",
       "3                                                 []  \n",
       "4  [{\"source\": \"PLC\", \"message\": \" Plateau de têt...  "
      ]
     },
     "execution_count": 9,
     "metadata": {},
     "output_type": "execute_result"
    }
   ],
   "source": [
    "metrics_df.head()"
   ]
  },
  {
   "cell_type": "code",
   "execution_count": 11,
   "metadata": {},
   "outputs": [
    {
     "data": {
      "text/plain": [
       "Index(['id', 'status', 'created_at', 'machineId', 'connected_operators',\n",
       "       'varnishLevelsTargetvolume', 'varnishLevelsTotalvolume', 'modules',\n",
       "       'events'],\n",
       "      dtype='object')"
      ]
     },
     "execution_count": 11,
     "metadata": {},
     "output_type": "execute_result"
    }
   ],
   "source": [
    "metrics_df.columns"
   ]
  }
 ],
 "metadata": {
  "kernelspec": {
   "display_name": "Python 3",
   "language": "python",
   "name": "python3"
  },
  "language_info": {
   "codemirror_mode": {
    "name": "ipython",
    "version": 3
   },
   "file_extension": ".py",
   "mimetype": "text/x-python",
   "name": "python",
   "nbconvert_exporter": "python",
   "pygments_lexer": "ipython3",
   "version": "3.10.4"
  },
  "orig_nbformat": 4,
  "vscode": {
   "interpreter": {
    "hash": "c82c03ead04ab066437b6c9904a4a96e32bfea28adc00d1a80c0b0ea62323a7a"
   }
  }
 },
 "nbformat": 4,
 "nbformat_minor": 2
}
