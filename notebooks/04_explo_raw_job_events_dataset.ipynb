{
 "cells": [
  {
   "attachments": {},
   "cell_type": "markdown",
   "metadata": {},
   "source": [
    "# Notebook de exploration des données jobs_events"
   ]
  },
  {
   "attachments": {},
   "cell_type": "markdown",
   "metadata": {},
   "source": [
    "# A) Imports"
   ]
  },
  {
   "attachments": {},
   "cell_type": "markdown",
   "metadata": {},
   "source": [
    "## Librairies"
   ]
  },
  {
   "cell_type": "code",
   "execution_count": 274,
   "metadata": {},
   "outputs": [],
   "source": [
    "import os, math\n",
    "import pandas as pd\n",
    "import numpy as np\n",
    "import matplotlib.pyplot as plt\n",
    "import seaborn as sns\n",
    "from pathlib import Path"
   ]
  },
  {
   "attachments": {},
   "cell_type": "markdown",
   "metadata": {},
   "source": [
    "## Data"
   ]
  },
  {
   "cell_type": "code",
   "execution_count": 275,
   "metadata": {},
   "outputs": [],
   "source": [
    "# source path to raw metrics dataset\n",
    "filename = 'merge_raw_job_events_dataset.csv'\n",
    "path = '../data/jobs'\n",
    "job_events = os.path.join(path, filename)\n",
    "# target path to save merge raw metrics dataset\n",
    "save_csv = '../data/jobs/merge_clean_job_events_dataset.csv'"
   ]
  },
  {
   "attachments": {},
   "cell_type": "markdown",
   "metadata": {},
   "source": [
    "# B) Dataframe"
   ]
  },
  {
   "cell_type": "code",
   "execution_count": 276,
   "metadata": {},
   "outputs": [
    {
     "name": "stdout",
     "output_type": "stream",
     "text": [
      "<class 'pandas.core.frame.DataFrame'>\n",
      "Int64Index: 16297 entries, 0 to 16296\n",
      "Data columns (total 39 columns):\n",
      " #   Column                                                Non-Null Count  Dtype  \n",
      "---  ------                                                --------------  -----  \n",
      " 0   jobId                                                 16297 non-null  int64  \n",
      " 1   timestamp_start                                       16295 non-null  object \n",
      " 2   totalCopies_start                                     16295 non-null  float64\n",
      " 3   LED_iper                                              16295 non-null  float64\n",
      " 4   bars_iper                                             16295 non-null  object \n",
      " 5   drops_iper                                            16295 non-null  float64\n",
      " 6   dithering_iper                                        16295 non-null  object \n",
      " 7   deadPixelsOffset_iper                                 16295 non-null  float64\n",
      " 8   level_user                                            16295 non-null  object \n",
      " 9   operator_user                                         16295 non-null  object \n",
      " 10  speed_ifoil                                           16295 non-null  float64\n",
      " 11  enabled_ifoil                                         16295 non-null  object \n",
      " 12  optifoil_ifoil                                        16295 non-null  object \n",
      " 13  stampAreas_ifoil                                      16295 non-null  object \n",
      " 14  heater1Enabled_ifoil                                  16295 non-null  object \n",
      " 15  speedTensionIn_ifoil                                  16295 non-null  float64\n",
      " 16  heater1Temperature_ifoil                              16295 non-null  float64\n",
      " 17  x_imageLayout_layout                                  16295 non-null  float64\n",
      " 18  y_imageLayout_layout                                  16295 non-null  float64\n",
      " 19  name_paperFormat_layout                               578 non-null    object \n",
      " 20  width_paperFormat_layout                              16295 non-null  float64\n",
      " 21  height_paperFormat_layout                             16295 non-null  float64\n",
      " 22  speed_layout                                          16295 non-null  float64\n",
      " 23  power_irDryers                                        16295 non-null  float64\n",
      " 24  power_uvDryers                                        16295 non-null  float64\n",
      " 25  topMargin_registration_remoteScannerRegistration      16295 non-null  float64\n",
      " 26  leftMargin_registration_remoteScannerRegistration     16295 non-null  float64\n",
      " 27  redScore_gridMode_remoteScannerRegistration           16295 non-null  float64\n",
      " 28  redScore_cropmarksMode_remoteScannerRegistration      16295 non-null  float64\n",
      " 29  redScore_fullScannerMode_remoteScannerRegistration    16295 non-null  float64\n",
      " 30  blueScore_fullScannerMode_remoteScannerRegistration   16295 non-null  float64\n",
      " 31  greenScore_fullScannerMode_remoteScannerRegistration  16295 non-null  float64\n",
      " 32  mode_remoteScannerRegistration                        16295 non-null  float64\n",
      " 33  jobState                                              16203 non-null  object \n",
      " 34  timestamp_end                                         16203 non-null  object \n",
      " 35  totalCopies_end                                       16203 non-null  float64\n",
      " 36  consumption_operatorSideTanks_varnishConsumption      16203 non-null  float64\n",
      " 37  path                                                  16289 non-null  object \n",
      " 38  image                                                 16289 non-null  object \n",
      "dtypes: float64(24), int64(1), object(14)\n",
      "memory usage: 5.0+ MB\n"
     ]
    }
   ],
   "source": [
    "# création d'un dataframe à partir du csv de données\n",
    "df = pd.read_csv(job_events, index_col=0)\n",
    "df.info()"
   ]
  },
  {
   "cell_type": "code",
   "execution_count": 277,
   "metadata": {},
   "outputs": [
    {
     "data": {
      "text/html": [
       "<div>\n",
       "<style scoped>\n",
       "    .dataframe tbody tr th:only-of-type {\n",
       "        vertical-align: middle;\n",
       "    }\n",
       "\n",
       "    .dataframe tbody tr th {\n",
       "        vertical-align: top;\n",
       "    }\n",
       "\n",
       "    .dataframe thead th {\n",
       "        text-align: right;\n",
       "    }\n",
       "</style>\n",
       "<table border=\"1\" class=\"dataframe\">\n",
       "  <thead>\n",
       "    <tr style=\"text-align: right;\">\n",
       "      <th></th>\n",
       "      <th>jobId</th>\n",
       "      <th>timestamp_start</th>\n",
       "      <th>totalCopies_start</th>\n",
       "      <th>LED_iper</th>\n",
       "      <th>bars_iper</th>\n",
       "      <th>drops_iper</th>\n",
       "      <th>dithering_iper</th>\n",
       "      <th>deadPixelsOffset_iper</th>\n",
       "      <th>level_user</th>\n",
       "      <th>operator_user</th>\n",
       "      <th>...</th>\n",
       "      <th>redScore_fullScannerMode_remoteScannerRegistration</th>\n",
       "      <th>blueScore_fullScannerMode_remoteScannerRegistration</th>\n",
       "      <th>greenScore_fullScannerMode_remoteScannerRegistration</th>\n",
       "      <th>mode_remoteScannerRegistration</th>\n",
       "      <th>jobState</th>\n",
       "      <th>timestamp_end</th>\n",
       "      <th>totalCopies_end</th>\n",
       "      <th>consumption_operatorSideTanks_varnishConsumption</th>\n",
       "      <th>path</th>\n",
       "      <th>image</th>\n",
       "    </tr>\n",
       "  </thead>\n",
       "  <tbody>\n",
       "    <tr>\n",
       "      <th>0</th>\n",
       "      <td>1624008166</td>\n",
       "      <td>2021-06-18T09:22:46.8661892Z</td>\n",
       "      <td>3.0</td>\n",
       "      <td>10.0</td>\n",
       "      <td>[1, 2]</td>\n",
       "      <td>3.0</td>\n",
       "      <td>False</td>\n",
       "      <td>0.0</td>\n",
       "      <td>Distributor</td>\n",
       "      <td>Distributor</td>\n",
       "      <td>...</td>\n",
       "      <td>1500.0</td>\n",
       "      <td>16.0</td>\n",
       "      <td>16.0</td>\n",
       "      <td>1.0</td>\n",
       "      <td>NaN</td>\n",
       "      <td>NaN</td>\n",
       "      <td>NaN</td>\n",
       "      <td>NaN</td>\n",
       "      <td>D:/IMAGES/Standard/3040459-52x74-350 CM-18-06-...</td>\n",
       "      <td>/9j/4AAQSkZJRgABAQEAYABgAAD/2wBDAAgGBgcGBQgHBw...</td>\n",
       "    </tr>\n",
       "    <tr>\n",
       "      <th>1</th>\n",
       "      <td>1624010893</td>\n",
       "      <td>2021-06-18T10:08:13.7169739Z</td>\n",
       "      <td>100.0</td>\n",
       "      <td>30.0</td>\n",
       "      <td>[1, 2]</td>\n",
       "      <td>4.0</td>\n",
       "      <td>False</td>\n",
       "      <td>0.0</td>\n",
       "      <td>Operator</td>\n",
       "      <td>Micka</td>\n",
       "      <td>...</td>\n",
       "      <td>1500.0</td>\n",
       "      <td>16.0</td>\n",
       "      <td>10.0</td>\n",
       "      <td>1.0</td>\n",
       "      <td>ERROR</td>\n",
       "      <td>2021-06-18T10:10:22.2570778Z</td>\n",
       "      <td>3.0</td>\n",
       "      <td>1.440239</td>\n",
       "      <td>D:/IMAGES/Standard/3040459-52x74-350 CM-18-06-...</td>\n",
       "      <td>/9j/4AAQSkZJRgABAQEAYABgAAD/2wBDAAgGBgcGBQgHBw...</td>\n",
       "    </tr>\n",
       "    <tr>\n",
       "      <th>2</th>\n",
       "      <td>1624011111</td>\n",
       "      <td>2021-06-18T10:11:52.1659526Z</td>\n",
       "      <td>100.0</td>\n",
       "      <td>30.0</td>\n",
       "      <td>[1, 2]</td>\n",
       "      <td>4.0</td>\n",
       "      <td>False</td>\n",
       "      <td>0.0</td>\n",
       "      <td>Operator</td>\n",
       "      <td>Micka</td>\n",
       "      <td>...</td>\n",
       "      <td>1500.0</td>\n",
       "      <td>16.0</td>\n",
       "      <td>10.0</td>\n",
       "      <td>1.0</td>\n",
       "      <td>CANCELED</td>\n",
       "      <td>2021-06-18T10:18:20.2945923Z</td>\n",
       "      <td>70.0</td>\n",
       "      <td>33.607494</td>\n",
       "      <td>D:/IMAGES/Standard/3040459-52x74-350 CM-18-06-...</td>\n",
       "      <td>/9j/4AAQSkZJRgABAQEAYABgAAD/2wBDAAgGBgcGBQgHBw...</td>\n",
       "    </tr>\n",
       "    <tr>\n",
       "      <th>3</th>\n",
       "      <td>1624012222</td>\n",
       "      <td>2021-06-18T10:30:23.0496491Z</td>\n",
       "      <td>50.0</td>\n",
       "      <td>10.0</td>\n",
       "      <td>[2]</td>\n",
       "      <td>1.0</td>\n",
       "      <td>False</td>\n",
       "      <td>0.0</td>\n",
       "      <td>Operator</td>\n",
       "      <td>Micka</td>\n",
       "      <td>...</td>\n",
       "      <td>1500.0</td>\n",
       "      <td>16.0</td>\n",
       "      <td>10.0</td>\n",
       "      <td>1.0</td>\n",
       "      <td>NaN</td>\n",
       "      <td>NaN</td>\n",
       "      <td>NaN</td>\n",
       "      <td>NaN</td>\n",
       "      <td>D:/IMAGES/Standard/3035811-5coul#1/0000001 V01...</td>\n",
       "      <td>/9j/4AAQSkZJRgABAQEAYABgAAD/2wBDAAgGBgcGBQgHBw...</td>\n",
       "    </tr>\n",
       "    <tr>\n",
       "      <th>4</th>\n",
       "      <td>1624019711</td>\n",
       "      <td>2021-06-18T12:35:11.8641173Z</td>\n",
       "      <td>1.0</td>\n",
       "      <td>10.0</td>\n",
       "      <td>[2]</td>\n",
       "      <td>1.0</td>\n",
       "      <td>False</td>\n",
       "      <td>0.0</td>\n",
       "      <td>Operator</td>\n",
       "      <td>Viktor</td>\n",
       "      <td>...</td>\n",
       "      <td>1500.0</td>\n",
       "      <td>16.0</td>\n",
       "      <td>16.0</td>\n",
       "      <td>1.0</td>\n",
       "      <td>NaN</td>\n",
       "      <td>NaN</td>\n",
       "      <td>NaN</td>\n",
       "      <td>NaN</td>\n",
       "      <td>D:/IMAGES/Standard/3037332-vernis/3037332-vern...</td>\n",
       "      <td>/9j/4AAQSkZJRgABAQEAYABgAAD/2wBDAAgGBgcGBQgHBw...</td>\n",
       "    </tr>\n",
       "  </tbody>\n",
       "</table>\n",
       "<p>5 rows × 39 columns</p>\n",
       "</div>"
      ],
      "text/plain": [
       "        jobId               timestamp_start  totalCopies_start  LED_iper  \\\n",
       "0  1624008166  2021-06-18T09:22:46.8661892Z                3.0      10.0   \n",
       "1  1624010893  2021-06-18T10:08:13.7169739Z              100.0      30.0   \n",
       "2  1624011111  2021-06-18T10:11:52.1659526Z              100.0      30.0   \n",
       "3  1624012222  2021-06-18T10:30:23.0496491Z               50.0      10.0   \n",
       "4  1624019711  2021-06-18T12:35:11.8641173Z                1.0      10.0   \n",
       "\n",
       "  bars_iper  drops_iper dithering_iper  deadPixelsOffset_iper   level_user  \\\n",
       "0    [1, 2]         3.0          False                    0.0  Distributor   \n",
       "1    [1, 2]         4.0          False                    0.0     Operator   \n",
       "2    [1, 2]         4.0          False                    0.0     Operator   \n",
       "3       [2]         1.0          False                    0.0     Operator   \n",
       "4       [2]         1.0          False                    0.0     Operator   \n",
       "\n",
       "  operator_user  ...  redScore_fullScannerMode_remoteScannerRegistration  \\\n",
       "0   Distributor  ...                                             1500.0    \n",
       "1         Micka  ...                                             1500.0    \n",
       "2         Micka  ...                                             1500.0    \n",
       "3         Micka  ...                                             1500.0    \n",
       "4        Viktor  ...                                             1500.0    \n",
       "\n",
       "  blueScore_fullScannerMode_remoteScannerRegistration  \\\n",
       "0                                               16.0    \n",
       "1                                               16.0    \n",
       "2                                               16.0    \n",
       "3                                               16.0    \n",
       "4                                               16.0    \n",
       "\n",
       "  greenScore_fullScannerMode_remoteScannerRegistration  \\\n",
       "0                                               16.0     \n",
       "1                                               10.0     \n",
       "2                                               10.0     \n",
       "3                                               10.0     \n",
       "4                                               16.0     \n",
       "\n",
       "  mode_remoteScannerRegistration  jobState                 timestamp_end  \\\n",
       "0                            1.0       NaN                           NaN   \n",
       "1                            1.0     ERROR  2021-06-18T10:10:22.2570778Z   \n",
       "2                            1.0  CANCELED  2021-06-18T10:18:20.2945923Z   \n",
       "3                            1.0       NaN                           NaN   \n",
       "4                            1.0       NaN                           NaN   \n",
       "\n",
       "   totalCopies_end  consumption_operatorSideTanks_varnishConsumption  \\\n",
       "0              NaN                                               NaN   \n",
       "1              3.0                                          1.440239   \n",
       "2             70.0                                         33.607494   \n",
       "3              NaN                                               NaN   \n",
       "4              NaN                                               NaN   \n",
       "\n",
       "                                                path  \\\n",
       "0  D:/IMAGES/Standard/3040459-52x74-350 CM-18-06-...   \n",
       "1  D:/IMAGES/Standard/3040459-52x74-350 CM-18-06-...   \n",
       "2  D:/IMAGES/Standard/3040459-52x74-350 CM-18-06-...   \n",
       "3  D:/IMAGES/Standard/3035811-5coul#1/0000001 V01...   \n",
       "4  D:/IMAGES/Standard/3037332-vernis/3037332-vern...   \n",
       "\n",
       "                                               image  \n",
       "0  /9j/4AAQSkZJRgABAQEAYABgAAD/2wBDAAgGBgcGBQgHBw...  \n",
       "1  /9j/4AAQSkZJRgABAQEAYABgAAD/2wBDAAgGBgcGBQgHBw...  \n",
       "2  /9j/4AAQSkZJRgABAQEAYABgAAD/2wBDAAgGBgcGBQgHBw...  \n",
       "3  /9j/4AAQSkZJRgABAQEAYABgAAD/2wBDAAgGBgcGBQgHBw...  \n",
       "4  /9j/4AAQSkZJRgABAQEAYABgAAD/2wBDAAgGBgcGBQgHBw...  \n",
       "\n",
       "[5 rows x 39 columns]"
      ]
     },
     "execution_count": 277,
     "metadata": {},
     "output_type": "execute_result"
    }
   ],
   "source": [
    "# réindexation\n",
    "df.reset_index(level=None, drop=True, inplace=True, col_level=0, col_fill='')\n",
    "df.head(5)"
   ]
  },
  {
   "attachments": {},
   "cell_type": "markdown",
   "metadata": {},
   "source": [
    "## 1) Nettoyage"
   ]
  },
  {
   "attachments": {},
   "cell_type": "markdown",
   "metadata": {},
   "source": [
    "### a) Lignes"
   ]
  },
  {
   "cell_type": "code",
   "execution_count": 278,
   "metadata": {},
   "outputs": [
    {
     "data": {
      "text/plain": [
       "[16295, 16296]"
      ]
     },
     "execution_count": 278,
     "metadata": {},
     "output_type": "execute_result"
    }
   ],
   "source": [
    "# on vérifie si il existe des lignes sans timestamp de départ\n",
    "no_start_row = list(df[df['timestamp_start'].isna()].index)\n",
    "no_start_row"
   ]
  },
  {
   "cell_type": "code",
   "execution_count": 279,
   "metadata": {},
   "outputs": [],
   "source": [
    "# on supprime les lignes sans timestamp de départ\n",
    "df.drop(no_start_row, axis=0, inplace=True)"
   ]
  },
  {
   "attachments": {},
   "cell_type": "markdown",
   "metadata": {},
   "source": [
    "### b) Colonnes"
   ]
  },
  {
   "cell_type": "code",
   "execution_count": 280,
   "metadata": {},
   "outputs": [
    {
     "data": {
      "text/plain": [
       "Index(['jobId', 'timestamp_start', 'totalCopies_start', 'LED_iper',\n",
       "       'bars_iper', 'drops_iper', 'dithering_iper', 'deadPixelsOffset_iper',\n",
       "       'level_user', 'operator_user', 'speed_ifoil', 'enabled_ifoil',\n",
       "       'optifoil_ifoil', 'stampAreas_ifoil', 'heater1Enabled_ifoil',\n",
       "       'speedTensionIn_ifoil', 'heater1Temperature_ifoil',\n",
       "       'x_imageLayout_layout', 'y_imageLayout_layout',\n",
       "       'name_paperFormat_layout', 'width_paperFormat_layout',\n",
       "       'height_paperFormat_layout', 'speed_layout', 'power_irDryers',\n",
       "       'power_uvDryers', 'topMargin_registration_remoteScannerRegistration',\n",
       "       'leftMargin_registration_remoteScannerRegistration',\n",
       "       'redScore_gridMode_remoteScannerRegistration',\n",
       "       'redScore_cropmarksMode_remoteScannerRegistration',\n",
       "       'redScore_fullScannerMode_remoteScannerRegistration',\n",
       "       'blueScore_fullScannerMode_remoteScannerRegistration',\n",
       "       'greenScore_fullScannerMode_remoteScannerRegistration',\n",
       "       'mode_remoteScannerRegistration', 'jobState', 'timestamp_end',\n",
       "       'totalCopies_end', 'consumption_operatorSideTanks_varnishConsumption',\n",
       "       'path', 'image'],\n",
       "      dtype='object')"
      ]
     },
     "execution_count": 280,
     "metadata": {},
     "output_type": "execute_result"
    }
   ],
   "source": [
    "df.columns"
   ]
  },
  {
   "cell_type": "code",
   "execution_count": 281,
   "metadata": {},
   "outputs": [
    {
     "data": {
      "text/plain": [
       "1010.40445205"
      ]
     },
     "execution_count": 281,
     "metadata": {},
     "output_type": "execute_result"
    }
   ],
   "source": [
    "df.consumption_operatorSideTanks_varnishConsumption.max()"
   ]
  },
  {
   "attachments": {},
   "cell_type": "markdown",
   "metadata": {},
   "source": [
    "#### Suppression"
   ]
  },
  {
   "cell_type": "code",
   "execution_count": 282,
   "metadata": {},
   "outputs": [],
   "source": [
    "# suppression des colonnes non pertinentes\n",
    "col_to_drop = [\n",
    "    'jobId',\n",
    "    'level_user',\n",
    "    'operator_user', \n",
    "    'path', \n",
    "    'image']\n",
    "df.drop(col_to_drop, axis=1, inplace=True)"
   ]
  },
  {
   "attachments": {},
   "cell_type": "markdown",
   "metadata": {},
   "source": [
    "#### Données maquantes"
   ]
  },
  {
   "cell_type": "code",
   "execution_count": 283,
   "metadata": {},
   "outputs": [
    {
     "name": "stdout",
     "output_type": "stream",
     "text": [
      "name_paperFormat_layout : [nan 'B2']\n",
      "jobState : [nan 'ERROR' 'CANCELED' 'SUCCESS']\n",
      "timestamp_end : 16201\n",
      "totalCopies_end : 681\n",
      "consumption_operatorSideTanks_varnishConsumption : 14242\n"
     ]
    }
   ],
   "source": [
    "# on liste les colonnes qui contiennent des valeurs nulles\n",
    "col_with_nan = []\n",
    "for col in df.columns:\n",
    "    if df[col].isnull().any():\n",
    "        col_with_nan.append(col)\n",
    "\n",
    "for col in col_with_nan :\n",
    "    if df[col].nunique() <= 10 :\n",
    "        print(col, ':', df[col].unique())\n",
    "    else :\n",
    "        print(col, ':', df[col].nunique())"
   ]
  },
  {
   "cell_type": "code",
   "execution_count": 284,
   "metadata": {},
   "outputs": [],
   "source": [
    "# on remplace les 'name_paperFormat' sans nom par UNDEFINED\n",
    "df['name_paperFormat_layout'] = df['name_paperFormat_layout'].fillna('UNDEFINED')"
   ]
  },
  {
   "cell_type": "code",
   "execution_count": 285,
   "metadata": {},
   "outputs": [],
   "source": [
    "# on remplace les 'jobState' non défini par UNDEFINED\n",
    "df['jobState'] = df['jobState'].fillna('UNDEFINED')"
   ]
  },
  {
   "cell_type": "code",
   "execution_count": 286,
   "metadata": {},
   "outputs": [],
   "source": [
    "# on converti les valeur de 'timestamp_end' en booléen\n",
    "df['timestamp_end'] = df['timestamp_end'].apply(lambda x: False if pd.isna(x) else True)"
   ]
  },
  {
   "cell_type": "code",
   "execution_count": 287,
   "metadata": {},
   "outputs": [],
   "source": [
    "# on remplace les valeurs de 'totalCopies_end' nulles par 0\n",
    "df['totalCopies_end'] = df['totalCopies_end'].fillna(0)"
   ]
  },
  {
   "cell_type": "code",
   "execution_count": 288,
   "metadata": {},
   "outputs": [],
   "source": [
    "# on remplace les valeurs de 'varnishConsumption' nulles par 0\n",
    "df['consumption_operatorSideTanks_varnishConsumption'] = df['consumption_operatorSideTanks_varnishConsumption'].fillna(float(0))"
   ]
  },
  {
   "attachments": {},
   "cell_type": "markdown",
   "metadata": {},
   "source": [
    "#### Conversion de type"
   ]
  },
  {
   "cell_type": "code",
   "execution_count": 289,
   "metadata": {},
   "outputs": [],
   "source": [
    "# conversion des colonnes de type 'float' dont toutes les valeurs ont des décimales à 0 en type 'int'\n",
    "for col in list(df.select_dtypes(exclude=['object','bool']).columns):\n",
    "    if not True in (math.modf(value)[0] != float(0) for value in list(df[col].unique())):\n",
    "        df[col] = df[col].astype('int64')"
   ]
  },
  {
   "cell_type": "code",
   "execution_count": 290,
   "metadata": {},
   "outputs": [
    {
     "name": "stdout",
     "output_type": "stream",
     "text": [
      "timestamp_start : 16295 values\n",
      "bars_iper : ['[1, 2]' '[2]' '[1]']\n",
      "dithering_iper : [False True]\n",
      "enabled_ifoil : [False True]\n",
      "optifoil_ifoil : [True False]\n",
      "stampAreas_ifoil : 24 values\n",
      "heater1Enabled_ifoil : [False True]\n",
      "name_paperFormat_layout : ['UNDEFINED' 'B2']\n",
      "jobState : ['UNDEFINED' 'ERROR' 'CANCELED' 'SUCCESS']\n"
     ]
    }
   ],
   "source": [
    "# on liste les valeurs (si pas plus de 5) des colonnes de type object\n",
    "for col in list(df.select_dtypes(include=['object']).columns):\n",
    "    print(f\"{col} : {df[col].unique()}\") if df[col].nunique() <= 5  else print(f\"{col} : {df[col].nunique()} values\")"
   ]
  },
  {
   "cell_type": "code",
   "execution_count": 291,
   "metadata": {},
   "outputs": [],
   "source": [
    "# on peut convertir certaines colonnes au format datetime\n",
    "df['timestamp_start'] = pd.to_datetime(df['timestamp_start'], utc=True)"
   ]
  },
  {
   "cell_type": "code",
   "execution_count": 292,
   "metadata": {},
   "outputs": [],
   "source": [
    "# on peut convertir le type des colonnes contenant True au format booléen\n",
    "for col in list(df.select_dtypes(include=['object']).columns):\n",
    "    values = list(df[col].unique())\n",
    "    if True in (len(values) == 2  and value == True for value in values):\n",
    "        df[col] = df[col].astype('bool')"
   ]
  },
  {
   "cell_type": "code",
   "execution_count": 293,
   "metadata": {},
   "outputs": [
    {
     "name": "stdout",
     "output_type": "stream",
     "text": [
      "bars_iper : ['[1, 2]' '[2]' '[1]']\n",
      "stampAreas_ifoil : 24 values\n",
      "name_paperFormat_layout : ['UNDEFINED' 'B2']\n",
      "jobState : ['UNDEFINED' 'ERROR' 'CANCELED' 'SUCCESS']\n"
     ]
    }
   ],
   "source": [
    "# on liste les valeurs (si pas plus de 5) des colonnes de type object\n",
    "for col in list(df.select_dtypes(include=['object']).columns):\n",
    "    print(f\"{col} : {df[col].unique()}\") if df[col].nunique() <= 5  else print(f\"{col} : {df[col].nunique()} values\")"
   ]
  },
  {
   "attachments": {},
   "cell_type": "markdown",
   "metadata": {},
   "source": [
    "#### Output csv"
   ]
  },
  {
   "cell_type": "code",
   "execution_count": 21,
   "metadata": {},
   "outputs": [],
   "source": [
    "df.to_csv(path_or_buf=Path(save_csv))"
   ]
  }
 ],
 "metadata": {
  "kernelspec": {
   "display_name": ".venv",
   "language": "python",
   "name": "python3"
  },
  "language_info": {
   "codemirror_mode": {
    "name": "ipython",
    "version": 3
   },
   "file_extension": ".py",
   "mimetype": "text/x-python",
   "name": "python",
   "nbconvert_exporter": "python",
   "pygments_lexer": "ipython3",
   "version": "3.10.4"
  },
  "orig_nbformat": 4,
  "vscode": {
   "interpreter": {
    "hash": "2315c9af7dedaeb0b2bf51504304a927c605b523f04dad98936c50abe500b408"
   }
  }
 },
 "nbformat": 4,
 "nbformat_minor": 2
}
