{
 "cells": [
  {
   "cell_type": "code",
   "execution_count": null,
   "metadata": {},
   "outputs": [],
   "source": [
    "import os\n",
    "import sys\n",
    "import json\n",
    "import pandas as pd\n",
    "import numpy as np\n",
    "\n",
    "from azure_blob import download_blob_file\n",
    "from utilities import string_to_dict"
   ]
  },
  {
   "cell_type": "code",
   "execution_count": null,
   "metadata": {},
   "outputs": [],
   "source": [
    "# Download du .csv originel depuis le serveur de stockage\n",
    "\n",
    "filename = \"metrics.csv\"\n",
    "path = \"../data/metrics/\"\n",
    "\n",
    "download_blob_file(file_name=filename , local_path=path)"
   ]
  },
  {
   "cell_type": "code",
   "execution_count": null,
   "metadata": {},
   "outputs": [],
   "source": [
    "# Création du Dataframe à partir du .csv importé\n",
    "# Filtration du Df via la colonne \"created_at\"\n",
    "# Suppression de toutes les colonnes vides\n",
    "\n",
    "df= pd.read_csv(path + filename).sort_values(\"created_at\").dropna(axis=1, how=\"all\",)\n",
    "df.info()\n",
    "df.head()"
   ]
  },
  {
   "cell_type": "code",
   "execution_count": null,
   "metadata": {},
   "outputs": [],
   "source": [
    "# Modification du Dataframe pour ne garder que les colonnes qui nous intéresse\n",
    "\n",
    "df = df[[\"id\",\"status\",\"created_at\",\"events\"]]\n",
    "df.head()"
   ]
  },
  {
   "cell_type": "code",
   "execution_count": null,
   "metadata": {},
   "outputs": [],
   "source": [
    "# Suppression de toutes les lignes sans données dans la colonne \"events\"\n",
    "# Remise de l'index à zéro\n",
    "\n",
    "df = df[df.events != \"[]\"].reset_index(drop=True)\n",
    "df.head()"
   ]
  },
  {
   "cell_type": "code",
   "execution_count": null,
   "metadata": {},
   "outputs": [],
   "source": [
    "## Modification du Dataframe pour ne garder que les colonnes qui nous intéresse\n",
    "## Suppression de toutes les lignes sans données dans la colonne \"events\"\n",
    "## Remise de l'index à zéro\n",
    "\n",
    "df = df[[\"id\",\"status\",\"created_at\",\"events\"]][df.events != \"[]\"].reset_index(drop=True)\n",
    "# df.head()"
   ]
  },
  {
   "cell_type": "code",
   "execution_count": null,
   "metadata": {},
   "outputs": [],
   "source": [
    "# Création d'un .csv permettant de sauvegardé les modification faites\n",
    "\n",
    "df.to_csv(path + \"metrics_events.csv\")"
   ]
  },
  {
   "cell_type": "code",
   "execution_count": null,
   "metadata": {},
   "outputs": [],
   "source": [
    "def convert_str_to_list(series):\n",
    "    return pd.DataFrame(series.apply(lambda x :json.loads(x)), columns=[series.name])"
   ]
  },
  {
   "cell_type": "code",
   "execution_count": null,
   "metadata": {},
   "outputs": [],
   "source": [
    "df_events = convert_str_to_list(df.events)\n",
    "df_events.head()"
   ]
  },
  {
   "cell_type": "code",
   "execution_count": null,
   "metadata": {},
   "outputs": [],
   "source": [
    "events_keys = []\n",
    "for i in range(0, len(df_events)) :\n",
    "    if len(df_events.events.loc[i]) != 0 :\n",
    "        event_keys = df_events.events.loc[i][0].keys()\n",
    "        if event_keys not in events_keys :\n",
    "            events_keys.append(event_keys)"
   ]
  },
  {
   "cell_type": "code",
   "execution_count": null,
   "metadata": {},
   "outputs": [],
   "source": [
    "events_dict = {}\n",
    "for key in event_keys :\n",
    "    events_dict[key] = None"
   ]
  },
  {
   "cell_type": "code",
   "execution_count": null,
   "metadata": {},
   "outputs": [],
   "source": [
    "df_events['Length'] = df_events.events.map(len)"
   ]
  },
  {
   "cell_type": "code",
   "execution_count": null,
   "metadata": {},
   "outputs": [],
   "source": [
    "df_events = pd.DataFrame(df_events.events.to_list(), dtype=object)\n",
    "\n",
    "df_events.info()\n",
    "df_events.head()"
   ]
  },
  {
   "cell_type": "code",
   "execution_count": null,
   "metadata": {},
   "outputs": [],
   "source": [
    "for col in df_events.columns :\n",
    "    for i in range(0,len(df_events.iloc[:,col])):\n",
    "        if isinstance(df_events.loc[i][col], type(None)) :\n",
    "            df_events.loc[i][col] = np.nan\n",
    "\n",
    "df_events.info()\n",
    "df_events.head()"
   ]
  },
  {
   "cell_type": "code",
   "execution_count": null,
   "metadata": {},
   "outputs": [],
   "source": [
    "i = 0\n",
    "col_names = {}\n",
    "for col in range(df_events.columns.start, df_events.columns.stop):\n",
    "    col_names[col] = 'event_'+str(col + 1)\n",
    "df_events.rename(columns=col_names, inplace=True)\n",
    "\n",
    "df_events.head()"
   ]
  },
  {
   "cell_type": "code",
   "execution_count": null,
   "metadata": {},
   "outputs": [],
   "source": [
    "df = df.drop(\"events\", axis=1)\n",
    "df.head()"
   ]
  },
  {
   "cell_type": "code",
   "execution_count": null,
   "metadata": {},
   "outputs": [],
   "source": [
    "df = df.join(df_events)\n",
    "df.head()"
   ]
  },
  {
   "cell_type": "code",
   "execution_count": null,
   "metadata": {},
   "outputs": [],
   "source": [
    "df.to_csv(path + \"metrics_events_split.csv\")"
   ]
  }
 ],
 "metadata": {
  "kernelspec": {
   "display_name": "Python 3.11.0 ('venv': venv)",
   "language": "python",
   "name": "python3"
  },
  "language_info": {
   "codemirror_mode": {
    "name": "ipython",
    "version": 3
   },
   "file_extension": ".py",
   "mimetype": "text/x-python",
   "name": "python",
   "nbconvert_exporter": "python",
   "pygments_lexer": "ipython3",
   "version": "3.11.0"
  },
  "orig_nbformat": 4,
  "vscode": {
   "interpreter": {
    "hash": "641716e2d83a1b48ea94de6ae288ab2fe5414e63c34b937b40deb4d555d5021e"
   }
  }
 },
 "nbformat": 4,
 "nbformat_minor": 2
}
