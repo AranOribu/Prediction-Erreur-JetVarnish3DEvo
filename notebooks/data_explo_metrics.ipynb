{
 "cells": [
  {
   "attachments": {},
   "cell_type": "markdown",
   "metadata": {},
   "source": [
    "# Notebook exploration données : metrics"
   ]
  },
  {
   "attachments": {},
   "cell_type": "markdown",
   "metadata": {},
   "source": [
    "## Imports"
   ]
  },
  {
   "cell_type": "code",
   "execution_count": 1,
   "metadata": {},
   "outputs": [],
   "source": [
    "import os, json\n",
    "import pandas as pd\n",
    "import numpy as np\n",
    "from azure_blob import download_blob_file\n",
    "from utilities import string_to_dict\n",
    "import matplotlib.pyplot as plt\n",
    "from datetime import datetime"
   ]
  },
  {
   "attachments": {},
   "cell_type": "markdown",
   "metadata": {},
   "source": [
    "### Data"
   ]
  },
  {
   "cell_type": "code",
   "execution_count": 2,
   "metadata": {},
   "outputs": [],
   "source": [
    "filename = 'metrics.csv'\n",
    "path = '../data/'"
   ]
  },
  {
   "cell_type": "code",
   "execution_count": 3,
   "metadata": {},
   "outputs": [
    {
     "name": "stdout",
     "output_type": "stream",
     "text": [
      "metrics.csv already in path ../data/.\n"
     ]
    }
   ],
   "source": [
    "# téléchargement dans le repertoire 'data' d'un fichiers 'csv' depuis le blob\n",
    "download_blob_file(file_name=filename, local_path=path)\n",
    "metrics = os.path.join(path, filename)"
   ]
  },
  {
   "cell_type": "code",
   "execution_count": 4,
   "metadata": {},
   "outputs": [
    {
     "name": "stdout",
     "output_type": "stream",
     "text": [
      "<class 'pandas.core.frame.DataFrame'>\n",
      "Int64Index: 1164430 entries, 307539 to 1164429\n",
      "Data columns (total 17 columns):\n",
      " #   Column                     Non-Null Count    Dtype  \n",
      "---  ------                     --------------    -----  \n",
      " 0   id                         1164430 non-null  int64  \n",
      " 1   status                     1164430 non-null  object \n",
      " 2   created_at                 1164430 non-null  object \n",
      " 3   cyan_capacity              0 non-null        float64\n",
      " 4   cyan_remaining             0 non-null        float64\n",
      " 5   magenta_capacity           0 non-null        float64\n",
      " 6   magenta_remaining          0 non-null        float64\n",
      " 7   yellow_capacity            0 non-null        float64\n",
      " 8   yellow_remaining           0 non-null        float64\n",
      " 9   black_capacity             0 non-null        float64\n",
      " 10  black_remaining            0 non-null        float64\n",
      " 11  machineId                  1164430 non-null  int64  \n",
      " 12  connected_operators        1164430 non-null  object \n",
      " 13  varnishLevelsTargetvolume  1164430 non-null  float64\n",
      " 14  varnishLevelsTotalvolume   1164430 non-null  int64  \n",
      " 15  modules                    1164430 non-null  object \n",
      " 16  events                     1164430 non-null  object \n",
      "dtypes: float64(9), int64(3), object(5)\n",
      "memory usage: 159.9+ MB\n"
     ]
    }
   ],
   "source": [
    "# création d'un dataframe à partir du csv de données\n",
    "metrics_df = pd.read_csv(metrics).sort_values(by='created_at')\n",
    "metrics_df.info()"
   ]
  },
  {
   "cell_type": "code",
   "execution_count": 5,
   "metadata": {},
   "outputs": [],
   "source": [
    "metrics_df.dropna(axis=1, inplace=True)\n",
    "metrics_df.drop('machineId', axis=1, inplace=True)\n",
    "# metrics_df.set_index('id')"
   ]
  },
  {
   "cell_type": "code",
   "execution_count": 6,
   "metadata": {},
   "outputs": [
    {
     "name": "stdout",
     "output_type": "stream",
     "text": [
      "<class 'pandas.core.frame.DataFrame'>\n",
      "Int64Index: 1164430 entries, 307539 to 1164429\n",
      "Data columns (total 8 columns):\n",
      " #   Column                     Non-Null Count    Dtype  \n",
      "---  ------                     --------------    -----  \n",
      " 0   id                         1164430 non-null  int64  \n",
      " 1   status                     1164430 non-null  object \n",
      " 2   created_at                 1164430 non-null  object \n",
      " 3   connected_operators        1164430 non-null  object \n",
      " 4   varnishLevelsTargetvolume  1164430 non-null  float64\n",
      " 5   varnishLevelsTotalvolume   1164430 non-null  int64  \n",
      " 6   modules                    1164430 non-null  object \n",
      " 7   events                     1164430 non-null  object \n",
      "dtypes: float64(1), int64(2), object(5)\n",
      "memory usage: 80.0+ MB\n"
     ]
    }
   ],
   "source": [
    "metrics_df.info()"
   ]
  },
  {
   "cell_type": "code",
   "execution_count": 7,
   "metadata": {},
   "outputs": [
    {
     "data": {
      "text/html": [
       "<div>\n",
       "<style scoped>\n",
       "    .dataframe tbody tr th:only-of-type {\n",
       "        vertical-align: middle;\n",
       "    }\n",
       "\n",
       "    .dataframe tbody tr th {\n",
       "        vertical-align: top;\n",
       "    }\n",
       "\n",
       "    .dataframe thead th {\n",
       "        text-align: right;\n",
       "    }\n",
       "</style>\n",
       "<table border=\"1\" class=\"dataframe\">\n",
       "  <thead>\n",
       "    <tr style=\"text-align: right;\">\n",
       "      <th></th>\n",
       "      <th>id</th>\n",
       "      <th>status</th>\n",
       "      <th>created_at</th>\n",
       "      <th>connected_operators</th>\n",
       "      <th>varnishLevelsTargetvolume</th>\n",
       "      <th>varnishLevelsTotalvolume</th>\n",
       "      <th>modules</th>\n",
       "      <th>events</th>\n",
       "    </tr>\n",
       "  </thead>\n",
       "  <tbody>\n",
       "    <tr>\n",
       "      <th>307539</th>\n",
       "      <td>4169748</td>\n",
       "      <td>WARNING</td>\n",
       "      <td>2022-04-15 05:55:06.678000</td>\n",
       "      <td>[{\"name\": \"Viktor\", \"level\": \"Operator\"}]</td>\n",
       "      <td>36192.322612</td>\n",
       "      <td>100000</td>\n",
       "      <td>[{\"sn\": \"\", \"name\": \"Print Engine 1\", \"type\": ...</td>\n",
       "      <td>[]</td>\n",
       "    </tr>\n",
       "    <tr>\n",
       "      <th>307540</th>\n",
       "      <td>4169749</td>\n",
       "      <td>WARNING</td>\n",
       "      <td>2022-04-15 05:55:06.829000</td>\n",
       "      <td>[{\"name\": \"Viktor\", \"level\": \"Operator\"}]</td>\n",
       "      <td>36192.322612</td>\n",
       "      <td>100000</td>\n",
       "      <td>[{\"sn\": \"\", \"name\": \"Print Engine 1\", \"type\": ...</td>\n",
       "      <td>[{\"source\": \"PLC\", \"message\": \" JV-Ti non prêt...</td>\n",
       "    </tr>\n",
       "    <tr>\n",
       "      <th>307537</th>\n",
       "      <td>4169753</td>\n",
       "      <td>WARNING</td>\n",
       "      <td>2022-04-15 05:55:14.494000</td>\n",
       "      <td>[{\"name\": \"Viktor\", \"level\": \"Operator\"}]</td>\n",
       "      <td>36192.322612</td>\n",
       "      <td>100000</td>\n",
       "      <td>[{\"sn\": \"\", \"name\": \"Print Engine 1\", \"type\": ...</td>\n",
       "      <td>[]</td>\n",
       "    </tr>\n",
       "  </tbody>\n",
       "</table>\n",
       "</div>"
      ],
      "text/plain": [
       "             id   status                  created_at  \\\n",
       "307539  4169748  WARNING  2022-04-15 05:55:06.678000   \n",
       "307540  4169749  WARNING  2022-04-15 05:55:06.829000   \n",
       "307537  4169753  WARNING  2022-04-15 05:55:14.494000   \n",
       "\n",
       "                              connected_operators  varnishLevelsTargetvolume  \\\n",
       "307539  [{\"name\": \"Viktor\", \"level\": \"Operator\"}]               36192.322612   \n",
       "307540  [{\"name\": \"Viktor\", \"level\": \"Operator\"}]               36192.322612   \n",
       "307537  [{\"name\": \"Viktor\", \"level\": \"Operator\"}]               36192.322612   \n",
       "\n",
       "        varnishLevelsTotalvolume  \\\n",
       "307539                    100000   \n",
       "307540                    100000   \n",
       "307537                    100000   \n",
       "\n",
       "                                                  modules  \\\n",
       "307539  [{\"sn\": \"\", \"name\": \"Print Engine 1\", \"type\": ...   \n",
       "307540  [{\"sn\": \"\", \"name\": \"Print Engine 1\", \"type\": ...   \n",
       "307537  [{\"sn\": \"\", \"name\": \"Print Engine 1\", \"type\": ...   \n",
       "\n",
       "                                                   events  \n",
       "307539                                                 []  \n",
       "307540  [{\"source\": \"PLC\", \"message\": \" JV-Ti non prêt...  \n",
       "307537                                                 []  "
      ]
     },
     "execution_count": 7,
     "metadata": {},
     "output_type": "execute_result"
    }
   ],
   "source": [
    "metrics_df.head(3)"
   ]
  },
  {
   "attachments": {},
   "cell_type": "markdown",
   "metadata": {},
   "source": [
    "## Fonctions"
   ]
  },
  {
   "cell_type": "code",
   "execution_count": 8,
   "metadata": {},
   "outputs": [],
   "source": [
    "def convert_str_to_list(series):\n",
    "    return pd.DataFrame(series.apply(lambda x :json.loads(x)), columns=[series.name])"
   ]
  },
  {
   "cell_type": "code",
   "execution_count": 9,
   "metadata": {},
   "outputs": [],
   "source": [
    "def get_keys(dict):\n",
    "    return list(k for k in dict.keys() )"
   ]
  },
  {
   "cell_type": "code",
   "execution_count": 10,
   "metadata": {},
   "outputs": [],
   "source": [
    "def add_key_column(df, col_name, keys, index):\n",
    "    for key in keys:\n",
    "        df[col_name+'_'+key+'_'+str(index)] = df[col_name].apply(lambda x: x[index].get(key))\n",
    "    return df"
   ]
  },
  {
   "cell_type": "code",
   "execution_count": 11,
   "metadata": {},
   "outputs": [],
   "source": [
    "def check_list_length(list):\n",
    "    if len(list) :\n",
    "        print(len(list))"
   ]
  },
  {
   "attachments": {},
   "cell_type": "markdown",
   "metadata": {},
   "source": [
    "## Dataframes"
   ]
  },
  {
   "attachments": {},
   "cell_type": "markdown",
   "metadata": {},
   "source": [
    "### Column \"connected_operators\""
   ]
  },
  {
   "cell_type": "code",
   "execution_count": 12,
   "metadata": {},
   "outputs": [],
   "source": [
    "#metrics_df.connected_operators = metrics_df.connected_operators.apply(lambda x :json.loads(x)[0])\n",
    "connected_operators_df = convert_str_to_list(metrics_df.connected_operators)"
   ]
  },
  {
   "cell_type": "code",
   "execution_count": 13,
   "metadata": {},
   "outputs": [],
   "source": [
    "# on récupère les clés du dictionnaire dans la première ligne du dataset 'loc.[0]' dans la première case de la liste '[0]'\n",
    "connected_operators_keys = get_keys(connected_operators_df.connected_operators.loc[0][0])"
   ]
  },
  {
   "cell_type": "code",
   "execution_count": 14,
   "metadata": {},
   "outputs": [],
   "source": [
    "# on ajoute des colonnes pour chaque clés\n",
    "for key in connected_operators_keys:\n",
    "    connected_operators_df = add_key_column(connected_operators_df, 'connected_operators', connected_operators_keys,0)"
   ]
  },
  {
   "cell_type": "code",
   "execution_count": 15,
   "metadata": {},
   "outputs": [],
   "source": [
    "# on supprime la colonne d'origine\n",
    "connected_operators_df.drop('connected_operators', axis='columns', inplace=True)"
   ]
  },
  {
   "cell_type": "code",
   "execution_count": 16,
   "metadata": {},
   "outputs": [],
   "source": [
    "connected_operators_df.rename(columns={\n",
    "    'connected_operators_name_0': 'operators_name',\n",
    "    'connected_operators_level_0': 'operators_level'\n",
    "    }, inplace=True)"
   ]
  },
  {
   "cell_type": "code",
   "execution_count": 17,
   "metadata": {},
   "outputs": [
    {
     "data": {
      "text/html": [
       "<div>\n",
       "<style scoped>\n",
       "    .dataframe tbody tr th:only-of-type {\n",
       "        vertical-align: middle;\n",
       "    }\n",
       "\n",
       "    .dataframe tbody tr th {\n",
       "        vertical-align: top;\n",
       "    }\n",
       "\n",
       "    .dataframe thead th {\n",
       "        text-align: right;\n",
       "    }\n",
       "</style>\n",
       "<table border=\"1\" class=\"dataframe\">\n",
       "  <thead>\n",
       "    <tr style=\"text-align: right;\">\n",
       "      <th></th>\n",
       "      <th>operators_name</th>\n",
       "      <th>operators_level</th>\n",
       "    </tr>\n",
       "  </thead>\n",
       "  <tbody>\n",
       "    <tr>\n",
       "      <th>307539</th>\n",
       "      <td>Viktor</td>\n",
       "      <td>Operator</td>\n",
       "    </tr>\n",
       "    <tr>\n",
       "      <th>307540</th>\n",
       "      <td>Viktor</td>\n",
       "      <td>Operator</td>\n",
       "    </tr>\n",
       "    <tr>\n",
       "      <th>307537</th>\n",
       "      <td>Viktor</td>\n",
       "      <td>Operator</td>\n",
       "    </tr>\n",
       "  </tbody>\n",
       "</table>\n",
       "</div>"
      ],
      "text/plain": [
       "       operators_name operators_level\n",
       "307539         Viktor        Operator\n",
       "307540         Viktor        Operator\n",
       "307537         Viktor        Operator"
      ]
     },
     "execution_count": 17,
     "metadata": {},
     "output_type": "execute_result"
    }
   ],
   "source": [
    "connected_operators_df.head(3)"
   ]
  },
  {
   "attachments": {},
   "cell_type": "markdown",
   "metadata": {},
   "source": [
    "### Column \"modules\""
   ]
  },
  {
   "cell_type": "code",
   "execution_count": 18,
   "metadata": {},
   "outputs": [],
   "source": [
    "modules_df = convert_str_to_list(metrics_df.modules)"
   ]
  },
  {
   "cell_type": "code",
   "execution_count": 19,
   "metadata": {},
   "outputs": [],
   "source": [
    "modules_keys = get_keys(modules_df.modules.loc[0][0])"
   ]
  },
  {
   "cell_type": "code",
   "execution_count": 20,
   "metadata": {},
   "outputs": [],
   "source": [
    "for key in modules_keys:\n",
    "    modules_df = add_key_column(modules_df, 'modules', modules_keys,0)\n",
    "for key in modules_keys:\n",
    "    modules_df = add_key_column(modules_df, 'modules', modules_keys,1)"
   ]
  },
  {
   "cell_type": "code",
   "execution_count": 21,
   "metadata": {},
   "outputs": [
    {
     "data": {
      "text/html": [
       "<div>\n",
       "<style scoped>\n",
       "    .dataframe tbody tr th:only-of-type {\n",
       "        vertical-align: middle;\n",
       "    }\n",
       "\n",
       "    .dataframe tbody tr th {\n",
       "        vertical-align: top;\n",
       "    }\n",
       "\n",
       "    .dataframe thead th {\n",
       "        text-align: right;\n",
       "    }\n",
       "</style>\n",
       "<table border=\"1\" class=\"dataframe\">\n",
       "  <thead>\n",
       "    <tr style=\"text-align: right;\">\n",
       "      <th></th>\n",
       "      <th>modules</th>\n",
       "      <th>modules_sn_0</th>\n",
       "      <th>modules_name_0</th>\n",
       "      <th>modules_type_0</th>\n",
       "      <th>modules_counters_0</th>\n",
       "      <th>modules_generation_0</th>\n",
       "      <th>modules_sn_1</th>\n",
       "      <th>modules_name_1</th>\n",
       "      <th>modules_type_1</th>\n",
       "      <th>modules_counters_1</th>\n",
       "      <th>modules_generation_1</th>\n",
       "    </tr>\n",
       "  </thead>\n",
       "  <tbody>\n",
       "    <tr>\n",
       "      <th>307539</th>\n",
       "      <td>[{'sn': '', 'name': 'Print Engine 1', 'type': ...</td>\n",
       "      <td></td>\n",
       "      <td>Print Engine 1</td>\n",
       "      <td>Varnish Printer</td>\n",
       "      <td>[{'name': '3D Varnish Counter', 'value': 17929...</td>\n",
       "      <td></td>\n",
       "      <td></td>\n",
       "      <td>iFoil L</td>\n",
       "      <td>iFoil</td>\n",
       "      <td>[{'name': 'Total Pages Counter', 'value': 2288...</td>\n",
       "      <td>Gen. 2</td>\n",
       "    </tr>\n",
       "    <tr>\n",
       "      <th>307540</th>\n",
       "      <td>[{'sn': '', 'name': 'Print Engine 1', 'type': ...</td>\n",
       "      <td></td>\n",
       "      <td>Print Engine 1</td>\n",
       "      <td>Varnish Printer</td>\n",
       "      <td>[{'name': '3D Varnish Counter', 'value': 17929...</td>\n",
       "      <td></td>\n",
       "      <td></td>\n",
       "      <td>iFoil L</td>\n",
       "      <td>iFoil</td>\n",
       "      <td>[{'name': 'Total Pages Counter', 'value': 2288...</td>\n",
       "      <td>Gen. 2</td>\n",
       "    </tr>\n",
       "    <tr>\n",
       "      <th>307537</th>\n",
       "      <td>[{'sn': '', 'name': 'Print Engine 1', 'type': ...</td>\n",
       "      <td></td>\n",
       "      <td>Print Engine 1</td>\n",
       "      <td>Varnish Printer</td>\n",
       "      <td>[{'name': '3D Varnish Counter', 'value': 17929...</td>\n",
       "      <td></td>\n",
       "      <td></td>\n",
       "      <td>iFoil L</td>\n",
       "      <td>iFoil</td>\n",
       "      <td>[{'name': 'Total Pages Counter', 'value': 2288...</td>\n",
       "      <td>Gen. 2</td>\n",
       "    </tr>\n",
       "  </tbody>\n",
       "</table>\n",
       "</div>"
      ],
      "text/plain": [
       "                                                  modules modules_sn_0  \\\n",
       "307539  [{'sn': '', 'name': 'Print Engine 1', 'type': ...                \n",
       "307540  [{'sn': '', 'name': 'Print Engine 1', 'type': ...                \n",
       "307537  [{'sn': '', 'name': 'Print Engine 1', 'type': ...                \n",
       "\n",
       "        modules_name_0   modules_type_0  \\\n",
       "307539  Print Engine 1  Varnish Printer   \n",
       "307540  Print Engine 1  Varnish Printer   \n",
       "307537  Print Engine 1  Varnish Printer   \n",
       "\n",
       "                                       modules_counters_0  \\\n",
       "307539  [{'name': '3D Varnish Counter', 'value': 17929...   \n",
       "307540  [{'name': '3D Varnish Counter', 'value': 17929...   \n",
       "307537  [{'name': '3D Varnish Counter', 'value': 17929...   \n",
       "\n",
       "       modules_generation_0 modules_sn_1 modules_name_1 modules_type_1  \\\n",
       "307539                                          iFoil L          iFoil   \n",
       "307540                                          iFoil L          iFoil   \n",
       "307537                                          iFoil L          iFoil   \n",
       "\n",
       "                                       modules_counters_1 modules_generation_1  \n",
       "307539  [{'name': 'Total Pages Counter', 'value': 2288...               Gen. 2  \n",
       "307540  [{'name': 'Total Pages Counter', 'value': 2288...               Gen. 2  \n",
       "307537  [{'name': 'Total Pages Counter', 'value': 2288...               Gen. 2  "
      ]
     },
     "execution_count": 21,
     "metadata": {},
     "output_type": "execute_result"
    }
   ],
   "source": [
    "modules_df.head(3)"
   ]
  },
  {
   "cell_type": "code",
   "execution_count": 22,
   "metadata": {},
   "outputs": [],
   "source": [
    "modules_df.drop('modules', axis='columns', inplace=True)"
   ]
  },
  {
   "cell_type": "code",
   "execution_count": 23,
   "metadata": {},
   "outputs": [
    {
     "name": "stdout",
     "output_type": "stream",
     "text": [
      "<class 'pandas.core.frame.DataFrame'>\n",
      "Int64Index: 1164430 entries, 307539 to 1164429\n",
      "Data columns (total 10 columns):\n",
      " #   Column                Non-Null Count    Dtype \n",
      "---  ------                --------------    ----- \n",
      " 0   modules_sn_0          1164430 non-null  object\n",
      " 1   modules_name_0        1164430 non-null  object\n",
      " 2   modules_type_0        1164430 non-null  object\n",
      " 3   modules_counters_0    1164430 non-null  object\n",
      " 4   modules_generation_0  1164430 non-null  object\n",
      " 5   modules_sn_1          1164430 non-null  object\n",
      " 6   modules_name_1        1164430 non-null  object\n",
      " 7   modules_type_1        1164430 non-null  object\n",
      " 8   modules_counters_1    1164430 non-null  object\n",
      " 9   modules_generation_1  1164430 non-null  object\n",
      "dtypes: object(10)\n",
      "memory usage: 130.0+ MB\n"
     ]
    }
   ],
   "source": [
    "modules_df.info()"
   ]
  },
  {
   "attachments": {},
   "cell_type": "markdown",
   "metadata": {},
   "source": [
    "#### Column \"modules counters\""
   ]
  },
  {
   "cell_type": "code",
   "execution_count": 24,
   "metadata": {},
   "outputs": [],
   "source": [
    "modules_counters_keys = get_keys(modules_df.modules_counters_0.loc[0][0])"
   ]
  },
  {
   "cell_type": "code",
   "execution_count": 25,
   "metadata": {},
   "outputs": [],
   "source": [
    "for key in modules_counters_keys:\n",
    "    modules_df = add_key_column(modules_df, 'modules_counters_0', modules_counters_keys,0)\n",
    "for key in modules_counters_keys:\n",
    "    modules_df = add_key_column(modules_df, 'modules_counters_1', modules_counters_keys,0)"
   ]
  },
  {
   "cell_type": "code",
   "execution_count": 26,
   "metadata": {},
   "outputs": [],
   "source": [
    "modules_df.drop(['modules_counters_0', 'modules_counters_1'], axis='columns', inplace=True)"
   ]
  },
  {
   "cell_type": "code",
   "execution_count": 27,
   "metadata": {},
   "outputs": [
    {
     "name": "stdout",
     "output_type": "stream",
     "text": [
      "<class 'pandas.core.frame.DataFrame'>\n",
      "Int64Index: 1164430 entries, 307539 to 1164429\n",
      "Data columns (total 12 columns):\n",
      " #   Column                      Non-Null Count    Dtype \n",
      "---  ------                      --------------    ----- \n",
      " 0   modules_sn_0                1164430 non-null  object\n",
      " 1   modules_name_0              1164430 non-null  object\n",
      " 2   modules_type_0              1164430 non-null  object\n",
      " 3   modules_generation_0        1164430 non-null  object\n",
      " 4   modules_sn_1                1164430 non-null  object\n",
      " 5   modules_name_1              1164430 non-null  object\n",
      " 6   modules_type_1              1164430 non-null  object\n",
      " 7   modules_generation_1        1164430 non-null  object\n",
      " 8   modules_counters_0_name_0   1164430 non-null  object\n",
      " 9   modules_counters_0_value_0  1164430 non-null  int64 \n",
      " 10  modules_counters_1_name_0   1164430 non-null  object\n",
      " 11  modules_counters_1_value_0  1164430 non-null  int64 \n",
      "dtypes: int64(2), object(10)\n",
      "memory usage: 147.7+ MB\n"
     ]
    }
   ],
   "source": [
    "modules_df.info()"
   ]
  },
  {
   "cell_type": "code",
   "execution_count": 28,
   "metadata": {},
   "outputs": [],
   "source": [
    "modules_df.dropna(axis='columns', how='any', inplace=True)"
   ]
  },
  {
   "cell_type": "code",
   "execution_count": 29,
   "metadata": {},
   "outputs": [
    {
     "name": "stdout",
     "output_type": "stream",
     "text": [
      "modules_sn_0 ['']\n",
      "modules_name_0 ['Print Engine 1']\n",
      "modules_type_0 ['Varnish Printer']\n",
      "modules_generation_0 ['']\n",
      "modules_sn_1 ['']\n",
      "modules_name_1 ['iFoil L']\n",
      "modules_type_1 ['iFoil']\n",
      "modules_generation_1 ['Gen. 2']\n",
      "modules_counters_0_name_0 ['3D Varnish Counter']\n",
      "modules_counters_0_value_0 nombre de valeurs unique : 294500\n",
      "modules_counters_1_name_0 ['Total Pages Counter']\n",
      "modules_counters_1_value_0 nombre de valeurs unique : 65342\n"
     ]
    }
   ],
   "source": [
    "for col in modules_df.columns :\n",
    "    if modules_df[col].nunique() > 1 :\n",
    "        print(col, 'nombre de valeurs unique : %d' % modules_df[col].nunique())\n",
    "    else :\n",
    "        print(col, modules_df[col].unique())"
   ]
  },
  {
   "cell_type": "code",
   "execution_count": 30,
   "metadata": {},
   "outputs": [],
   "source": [
    "columns_to_drop = []\n",
    "for col in modules_df.columns :\n",
    "    if modules_df[col].nunique() == 1 :\n",
    "        if modules_df[col].unique().item() != '':\n",
    "            columns_to_drop.append(col)\n",
    "        else :\n",
    "            modules_df.drop(columns=[col], axis='columns', inplace=True)"
   ]
  },
  {
   "cell_type": "code",
   "execution_count": 31,
   "metadata": {},
   "outputs": [],
   "source": [
    "modules_df.rename(columns={\n",
    "    'modules_counters_0_value_0': 'VarnishPrinter_3DVarnishCounter',\n",
    "    'modules_counters_1_value_0': 'iFoil_TotalPagesCounter'\n",
    "    }, inplace=True)\n",
    "modules_df.drop(columns=columns_to_drop, axis='columns', inplace=True)"
   ]
  },
  {
   "cell_type": "code",
   "execution_count": 32,
   "metadata": {},
   "outputs": [
    {
     "data": {
      "text/html": [
       "<div>\n",
       "<style scoped>\n",
       "    .dataframe tbody tr th:only-of-type {\n",
       "        vertical-align: middle;\n",
       "    }\n",
       "\n",
       "    .dataframe tbody tr th {\n",
       "        vertical-align: top;\n",
       "    }\n",
       "\n",
       "    .dataframe thead th {\n",
       "        text-align: right;\n",
       "    }\n",
       "</style>\n",
       "<table border=\"1\" class=\"dataframe\">\n",
       "  <thead>\n",
       "    <tr style=\"text-align: right;\">\n",
       "      <th></th>\n",
       "      <th>VarnishPrinter_3DVarnishCounter</th>\n",
       "      <th>iFoil_TotalPagesCounter</th>\n",
       "    </tr>\n",
       "  </thead>\n",
       "  <tbody>\n",
       "    <tr>\n",
       "      <th>307539</th>\n",
       "      <td>1792992</td>\n",
       "      <td>22881</td>\n",
       "    </tr>\n",
       "    <tr>\n",
       "      <th>307540</th>\n",
       "      <td>1792992</td>\n",
       "      <td>22881</td>\n",
       "    </tr>\n",
       "    <tr>\n",
       "      <th>307537</th>\n",
       "      <td>1792992</td>\n",
       "      <td>22881</td>\n",
       "    </tr>\n",
       "  </tbody>\n",
       "</table>\n",
       "</div>"
      ],
      "text/plain": [
       "        VarnishPrinter_3DVarnishCounter  iFoil_TotalPagesCounter\n",
       "307539                          1792992                    22881\n",
       "307540                          1792992                    22881\n",
       "307537                          1792992                    22881"
      ]
     },
     "execution_count": 32,
     "metadata": {},
     "output_type": "execute_result"
    }
   ],
   "source": [
    "modules_df.head(3)"
   ]
  },
  {
   "attachments": {},
   "cell_type": "markdown",
   "metadata": {},
   "source": [
    "### Column \"events\""
   ]
  },
  {
   "cell_type": "code",
   "execution_count": 33,
   "metadata": {},
   "outputs": [],
   "source": [
    "events_df = convert_str_to_list(metrics_df.events)"
   ]
  },
  {
   "cell_type": "code",
   "execution_count": 34,
   "metadata": {},
   "outputs": [],
   "source": [
    "events_keys = []\n",
    "for i in range(0, len(events_df)) :\n",
    "    if len(events_df.events.loc[i]) != 0 :\n",
    "        event_keys = events_df.events.loc[i][0].keys()\n",
    "        if event_keys not in events_keys :\n",
    "            events_keys.append(event_keys)"
   ]
  },
  {
   "cell_type": "code",
   "execution_count": 35,
   "metadata": {},
   "outputs": [
    {
     "data": {
      "text/plain": [
       "[dict_keys(['source', 'message', 'timestamp', 'criticality', 'identification'])]"
      ]
     },
     "execution_count": 35,
     "metadata": {},
     "output_type": "execute_result"
    }
   ],
   "source": [
    "events_keys"
   ]
  },
  {
   "cell_type": "code",
   "execution_count": 36,
   "metadata": {},
   "outputs": [],
   "source": [
    "events_dict = {}\n",
    "for key in event_keys :\n",
    "    events_dict[key] = None"
   ]
  },
  {
   "cell_type": "code",
   "execution_count": 37,
   "metadata": {},
   "outputs": [],
   "source": [
    "events_df['Length'] = events_df.events.map(len)"
   ]
  },
  {
   "cell_type": "code",
   "execution_count": 38,
   "metadata": {},
   "outputs": [
    {
     "data": {
      "text/html": [
       "<div>\n",
       "<style scoped>\n",
       "    .dataframe tbody tr th:only-of-type {\n",
       "        vertical-align: middle;\n",
       "    }\n",
       "\n",
       "    .dataframe tbody tr th {\n",
       "        vertical-align: top;\n",
       "    }\n",
       "\n",
       "    .dataframe thead th {\n",
       "        text-align: right;\n",
       "    }\n",
       "</style>\n",
       "<table border=\"1\" class=\"dataframe\">\n",
       "  <thead>\n",
       "    <tr style=\"text-align: right;\">\n",
       "      <th></th>\n",
       "      <th>0</th>\n",
       "      <th>1</th>\n",
       "      <th>2</th>\n",
       "      <th>3</th>\n",
       "      <th>4</th>\n",
       "      <th>5</th>\n",
       "      <th>6</th>\n",
       "      <th>7</th>\n",
       "      <th>8</th>\n",
       "      <th>9</th>\n",
       "      <th>10</th>\n",
       "      <th>11</th>\n",
       "    </tr>\n",
       "  </thead>\n",
       "  <tbody>\n",
       "    <tr>\n",
       "      <th>0</th>\n",
       "      <td>None</td>\n",
       "      <td>None</td>\n",
       "      <td>None</td>\n",
       "      <td>None</td>\n",
       "      <td>None</td>\n",
       "      <td>None</td>\n",
       "      <td>None</td>\n",
       "      <td>None</td>\n",
       "      <td>None</td>\n",
       "      <td>None</td>\n",
       "      <td>None</td>\n",
       "      <td>None</td>\n",
       "    </tr>\n",
       "    <tr>\n",
       "      <th>1</th>\n",
       "      <td>{'source': 'PLC', 'message': ' JV-Ti non prêt ...</td>\n",
       "      <td>None</td>\n",
       "      <td>None</td>\n",
       "      <td>None</td>\n",
       "      <td>None</td>\n",
       "      <td>None</td>\n",
       "      <td>None</td>\n",
       "      <td>None</td>\n",
       "      <td>None</td>\n",
       "      <td>None</td>\n",
       "      <td>None</td>\n",
       "      <td>None</td>\n",
       "    </tr>\n",
       "    <tr>\n",
       "      <th>2</th>\n",
       "      <td>None</td>\n",
       "      <td>None</td>\n",
       "      <td>None</td>\n",
       "      <td>None</td>\n",
       "      <td>None</td>\n",
       "      <td>None</td>\n",
       "      <td>None</td>\n",
       "      <td>None</td>\n",
       "      <td>None</td>\n",
       "      <td>None</td>\n",
       "      <td>None</td>\n",
       "      <td>None</td>\n",
       "    </tr>\n",
       "    <tr>\n",
       "      <th>3</th>\n",
       "      <td>None</td>\n",
       "      <td>None</td>\n",
       "      <td>None</td>\n",
       "      <td>None</td>\n",
       "      <td>None</td>\n",
       "      <td>None</td>\n",
       "      <td>None</td>\n",
       "      <td>None</td>\n",
       "      <td>None</td>\n",
       "      <td>None</td>\n",
       "      <td>None</td>\n",
       "      <td>None</td>\n",
       "    </tr>\n",
       "    <tr>\n",
       "      <th>4</th>\n",
       "      <td>None</td>\n",
       "      <td>None</td>\n",
       "      <td>None</td>\n",
       "      <td>None</td>\n",
       "      <td>None</td>\n",
       "      <td>None</td>\n",
       "      <td>None</td>\n",
       "      <td>None</td>\n",
       "      <td>None</td>\n",
       "      <td>None</td>\n",
       "      <td>None</td>\n",
       "      <td>None</td>\n",
       "    </tr>\n",
       "  </tbody>\n",
       "</table>\n",
       "</div>"
      ],
      "text/plain": [
       "                                                  0     1     2     3     4   \\\n",
       "0                                               None  None  None  None  None   \n",
       "1  {'source': 'PLC', 'message': ' JV-Ti non prêt ...  None  None  None  None   \n",
       "2                                               None  None  None  None  None   \n",
       "3                                               None  None  None  None  None   \n",
       "4                                               None  None  None  None  None   \n",
       "\n",
       "     5     6     7     8     9     10    11  \n",
       "0  None  None  None  None  None  None  None  \n",
       "1  None  None  None  None  None  None  None  \n",
       "2  None  None  None  None  None  None  None  \n",
       "3  None  None  None  None  None  None  None  \n",
       "4  None  None  None  None  None  None  None  "
      ]
     },
     "execution_count": 38,
     "metadata": {},
     "output_type": "execute_result"
    }
   ],
   "source": [
    "df = pd.DataFrame(events_df.events.to_list(), dtype=object)\n",
    "df.head(5)"
   ]
  },
  {
   "cell_type": "code",
   "execution_count": 39,
   "metadata": {},
   "outputs": [],
   "source": [
    "for col in df.columns :\n",
    "    for i in range(0,len(df.iloc[:,col])):\n",
    "        if isinstance(df.loc[i][col], type(None)) :\n",
    "            df.loc[i][col] = events_dict"
   ]
  },
  {
   "cell_type": "code",
   "execution_count": 40,
   "metadata": {},
   "outputs": [],
   "source": [
    "# renommage des colonnes du dataframe des events\n",
    "i = 0\n",
    "col_names = {}\n",
    "for col in range(df.columns.start, df.columns.stop):\n",
    "    col_names[col] = 'event_'+str(col)\n",
    "df.rename(columns=col_names, inplace=True)"
   ]
  },
  {
   "cell_type": "code",
   "execution_count": 41,
   "metadata": {},
   "outputs": [
    {
     "data": {
      "text/html": [
       "<div>\n",
       "<style scoped>\n",
       "    .dataframe tbody tr th:only-of-type {\n",
       "        vertical-align: middle;\n",
       "    }\n",
       "\n",
       "    .dataframe tbody tr th {\n",
       "        vertical-align: top;\n",
       "    }\n",
       "\n",
       "    .dataframe thead th {\n",
       "        text-align: right;\n",
       "    }\n",
       "</style>\n",
       "<table border=\"1\" class=\"dataframe\">\n",
       "  <thead>\n",
       "    <tr style=\"text-align: right;\">\n",
       "      <th></th>\n",
       "      <th>event_0</th>\n",
       "      <th>event_1</th>\n",
       "      <th>event_2</th>\n",
       "      <th>event_3</th>\n",
       "      <th>event_4</th>\n",
       "      <th>event_5</th>\n",
       "      <th>event_6</th>\n",
       "      <th>event_7</th>\n",
       "      <th>event_8</th>\n",
       "      <th>event_9</th>\n",
       "      <th>event_10</th>\n",
       "      <th>event_11</th>\n",
       "    </tr>\n",
       "  </thead>\n",
       "  <tbody>\n",
       "    <tr>\n",
       "      <th>0</th>\n",
       "      <td>{'source': None, 'message': None, 'timestamp':...</td>\n",
       "      <td>{'source': None, 'message': None, 'timestamp':...</td>\n",
       "      <td>{'source': None, 'message': None, 'timestamp':...</td>\n",
       "      <td>{'source': None, 'message': None, 'timestamp':...</td>\n",
       "      <td>{'source': None, 'message': None, 'timestamp':...</td>\n",
       "      <td>{'source': None, 'message': None, 'timestamp':...</td>\n",
       "      <td>{'source': None, 'message': None, 'timestamp':...</td>\n",
       "      <td>{'source': None, 'message': None, 'timestamp':...</td>\n",
       "      <td>{'source': None, 'message': None, 'timestamp':...</td>\n",
       "      <td>{'source': None, 'message': None, 'timestamp':...</td>\n",
       "      <td>{'source': None, 'message': None, 'timestamp':...</td>\n",
       "      <td>{'source': None, 'message': None, 'timestamp':...</td>\n",
       "    </tr>\n",
       "    <tr>\n",
       "      <th>1</th>\n",
       "      <td>{'source': 'PLC', 'message': ' JV-Ti non prêt ...</td>\n",
       "      <td>{'source': None, 'message': None, 'timestamp':...</td>\n",
       "      <td>{'source': None, 'message': None, 'timestamp':...</td>\n",
       "      <td>{'source': None, 'message': None, 'timestamp':...</td>\n",
       "      <td>{'source': None, 'message': None, 'timestamp':...</td>\n",
       "      <td>{'source': None, 'message': None, 'timestamp':...</td>\n",
       "      <td>{'source': None, 'message': None, 'timestamp':...</td>\n",
       "      <td>{'source': None, 'message': None, 'timestamp':...</td>\n",
       "      <td>{'source': None, 'message': None, 'timestamp':...</td>\n",
       "      <td>{'source': None, 'message': None, 'timestamp':...</td>\n",
       "      <td>{'source': None, 'message': None, 'timestamp':...</td>\n",
       "      <td>{'source': None, 'message': None, 'timestamp':...</td>\n",
       "    </tr>\n",
       "    <tr>\n",
       "      <th>2</th>\n",
       "      <td>{'source': None, 'message': None, 'timestamp':...</td>\n",
       "      <td>{'source': None, 'message': None, 'timestamp':...</td>\n",
       "      <td>{'source': None, 'message': None, 'timestamp':...</td>\n",
       "      <td>{'source': None, 'message': None, 'timestamp':...</td>\n",
       "      <td>{'source': None, 'message': None, 'timestamp':...</td>\n",
       "      <td>{'source': None, 'message': None, 'timestamp':...</td>\n",
       "      <td>{'source': None, 'message': None, 'timestamp':...</td>\n",
       "      <td>{'source': None, 'message': None, 'timestamp':...</td>\n",
       "      <td>{'source': None, 'message': None, 'timestamp':...</td>\n",
       "      <td>{'source': None, 'message': None, 'timestamp':...</td>\n",
       "      <td>{'source': None, 'message': None, 'timestamp':...</td>\n",
       "      <td>{'source': None, 'message': None, 'timestamp':...</td>\n",
       "    </tr>\n",
       "  </tbody>\n",
       "</table>\n",
       "</div>"
      ],
      "text/plain": [
       "                                             event_0  \\\n",
       "0  {'source': None, 'message': None, 'timestamp':...   \n",
       "1  {'source': 'PLC', 'message': ' JV-Ti non prêt ...   \n",
       "2  {'source': None, 'message': None, 'timestamp':...   \n",
       "\n",
       "                                             event_1  \\\n",
       "0  {'source': None, 'message': None, 'timestamp':...   \n",
       "1  {'source': None, 'message': None, 'timestamp':...   \n",
       "2  {'source': None, 'message': None, 'timestamp':...   \n",
       "\n",
       "                                             event_2  \\\n",
       "0  {'source': None, 'message': None, 'timestamp':...   \n",
       "1  {'source': None, 'message': None, 'timestamp':...   \n",
       "2  {'source': None, 'message': None, 'timestamp':...   \n",
       "\n",
       "                                             event_3  \\\n",
       "0  {'source': None, 'message': None, 'timestamp':...   \n",
       "1  {'source': None, 'message': None, 'timestamp':...   \n",
       "2  {'source': None, 'message': None, 'timestamp':...   \n",
       "\n",
       "                                             event_4  \\\n",
       "0  {'source': None, 'message': None, 'timestamp':...   \n",
       "1  {'source': None, 'message': None, 'timestamp':...   \n",
       "2  {'source': None, 'message': None, 'timestamp':...   \n",
       "\n",
       "                                             event_5  \\\n",
       "0  {'source': None, 'message': None, 'timestamp':...   \n",
       "1  {'source': None, 'message': None, 'timestamp':...   \n",
       "2  {'source': None, 'message': None, 'timestamp':...   \n",
       "\n",
       "                                             event_6  \\\n",
       "0  {'source': None, 'message': None, 'timestamp':...   \n",
       "1  {'source': None, 'message': None, 'timestamp':...   \n",
       "2  {'source': None, 'message': None, 'timestamp':...   \n",
       "\n",
       "                                             event_7  \\\n",
       "0  {'source': None, 'message': None, 'timestamp':...   \n",
       "1  {'source': None, 'message': None, 'timestamp':...   \n",
       "2  {'source': None, 'message': None, 'timestamp':...   \n",
       "\n",
       "                                             event_8  \\\n",
       "0  {'source': None, 'message': None, 'timestamp':...   \n",
       "1  {'source': None, 'message': None, 'timestamp':...   \n",
       "2  {'source': None, 'message': None, 'timestamp':...   \n",
       "\n",
       "                                             event_9  \\\n",
       "0  {'source': None, 'message': None, 'timestamp':...   \n",
       "1  {'source': None, 'message': None, 'timestamp':...   \n",
       "2  {'source': None, 'message': None, 'timestamp':...   \n",
       "\n",
       "                                            event_10  \\\n",
       "0  {'source': None, 'message': None, 'timestamp':...   \n",
       "1  {'source': None, 'message': None, 'timestamp':...   \n",
       "2  {'source': None, 'message': None, 'timestamp':...   \n",
       "\n",
       "                                            event_11  \n",
       "0  {'source': None, 'message': None, 'timestamp':...  \n",
       "1  {'source': None, 'message': None, 'timestamp':...  \n",
       "2  {'source': None, 'message': None, 'timestamp':...  "
      ]
     },
     "execution_count": 41,
     "metadata": {},
     "output_type": "execute_result"
    }
   ],
   "source": [
    "df.head(3)"
   ]
  },
  {
   "cell_type": "code",
   "execution_count": 42,
   "metadata": {},
   "outputs": [],
   "source": [
    "df1 = pd.DataFrame()\n",
    "i = 0\n",
    "for col in df.columns :\n",
    "    df1[[\n",
    "        'source_'+str(col),\n",
    "        'message_'+str(col),\n",
    "        'timestamp_'+str(col),\n",
    "        'criticality_'+str(col),\n",
    "        'identification_'+str(col)\n",
    "        ]] = pd.DataFrame(df.iloc[:,i].tolist(), index= df.index)\n",
    "    i += 1"
   ]
  },
  {
   "attachments": {},
   "cell_type": "markdown",
   "metadata": {},
   "source": [
    "#### Identification"
   ]
  },
  {
   "cell_type": "code",
   "execution_count": 43,
   "metadata": {},
   "outputs": [],
   "source": [
    "df2 = df1"
   ]
  },
  {
   "cell_type": "code",
   "execution_count": 44,
   "metadata": {},
   "outputs": [
    {
     "data": {
      "text/plain": [
       "{'identification_event_0': array([None, '391', None, ..., '330', None, None], dtype=object),\n",
       " 'identification_event_1': array([None, None, None, ..., None, None, None], dtype=object),\n",
       " 'identification_event_2': array([None, None, None, ..., None, None, None], dtype=object),\n",
       " 'identification_event_3': array([None, None, None, ..., None, None, None], dtype=object),\n",
       " 'identification_event_4': array([None, None, None, ..., None, None, None], dtype=object),\n",
       " 'identification_event_5': array([None, None, None, ..., None, None, None], dtype=object),\n",
       " 'identification_event_6': array([None, None, None, ..., None, None, None], dtype=object),\n",
       " 'identification_event_7': array([None, None, None, ..., None, None, None], dtype=object),\n",
       " 'identification_event_8': array([None, None, None, ..., None, None, None], dtype=object),\n",
       " 'identification_event_9': array([None, None, None, ..., None, None, None], dtype=object),\n",
       " 'identification_event_10': array([None, None, None, ..., None, None, None], dtype=object),\n",
       " 'identification_event_11': array([None, None, None, ..., None, None, None], dtype=object)}"
      ]
     },
     "execution_count": 44,
     "metadata": {},
     "output_type": "execute_result"
    }
   ],
   "source": [
    "identification_data = {}\n",
    "for col in df2.columns :\n",
    "    if 'identification_' in col :\n",
    "        identification_data[col] = df2[col].values\n",
    "identification_data"
   ]
  },
  {
   "cell_type": "code",
   "execution_count": 45,
   "metadata": {},
   "outputs": [],
   "source": [
    "identification_df = pd.DataFrame(identification_data, index=df2.index)"
   ]
  },
  {
   "attachments": {},
   "cell_type": "markdown",
   "metadata": {},
   "source": [
    "## Fusion dataframes"
   ]
  },
  {
   "cell_type": "code",
   "execution_count": 74,
   "metadata": {},
   "outputs": [],
   "source": [
    "#full_df = pd.concat([pd.concat([pd.concat([metrics_df.drop(['connected_operators','modules','events'], axis=1), connected_operators_df]), modules_df]), df1])"
   ]
  },
  {
   "attachments": {},
   "cell_type": "markdown",
   "metadata": {},
   "source": [
    "## Data exploration"
   ]
  },
  {
   "cell_type": "code",
   "execution_count": 76,
   "metadata": {},
   "outputs": [],
   "source": [
    "def plot_timeseries(dataframe) :\n",
    "    # Set the Date as datetime\n",
    "    dataframe['created_at'] = pd.to_datetime(dataframe['created_at'])\n",
    "    # Set the Date as Index\n",
    "    dataframe.index = dataframe['created_at']\n",
    "    del dataframe['created_at']\n",
    "    dataframe.plot(figsize=(15, 6))\n",
    "    plt.show()"
   ]
  },
  {
   "cell_type": "code",
   "execution_count": 78,
   "metadata": {},
   "outputs": [
    {
     "ename": "KeyError",
     "evalue": "'created_at'",
     "output_type": "error",
     "traceback": [
      "\u001b[1;31m---------------------------------------------------------------------------\u001b[0m",
      "\u001b[1;31mKeyError\u001b[0m                                  Traceback (most recent call last)",
      "File \u001b[1;32md:\\Fabeon\\Project JetVarnish3d-ErrorPrediction\\Prediction-Erreur-JetVarnish3D\\.venv\\lib\\site-packages\\pandas\\core\\indexes\\base.py:3802\u001b[0m, in \u001b[0;36mIndex.get_loc\u001b[1;34m(self, key, method, tolerance)\u001b[0m\n\u001b[0;32m   3801\u001b[0m \u001b[39mtry\u001b[39;00m:\n\u001b[1;32m-> 3802\u001b[0m     \u001b[39mreturn\u001b[39;00m \u001b[39mself\u001b[39;49m\u001b[39m.\u001b[39;49m_engine\u001b[39m.\u001b[39;49mget_loc(casted_key)\n\u001b[0;32m   3803\u001b[0m \u001b[39mexcept\u001b[39;00m \u001b[39mKeyError\u001b[39;00m \u001b[39mas\u001b[39;00m err:\n",
      "File \u001b[1;32md:\\Fabeon\\Project JetVarnish3d-ErrorPrediction\\Prediction-Erreur-JetVarnish3D\\.venv\\lib\\site-packages\\pandas\\_libs\\index.pyx:138\u001b[0m, in \u001b[0;36mpandas._libs.index.IndexEngine.get_loc\u001b[1;34m()\u001b[0m\n",
      "File \u001b[1;32md:\\Fabeon\\Project JetVarnish3d-ErrorPrediction\\Prediction-Erreur-JetVarnish3D\\.venv\\lib\\site-packages\\pandas\\_libs\\index.pyx:165\u001b[0m, in \u001b[0;36mpandas._libs.index.IndexEngine.get_loc\u001b[1;34m()\u001b[0m\n",
      "File \u001b[1;32mpandas\\_libs\\hashtable_class_helper.pxi:5745\u001b[0m, in \u001b[0;36mpandas._libs.hashtable.PyObjectHashTable.get_item\u001b[1;34m()\u001b[0m\n",
      "File \u001b[1;32mpandas\\_libs\\hashtable_class_helper.pxi:5753\u001b[0m, in \u001b[0;36mpandas._libs.hashtable.PyObjectHashTable.get_item\u001b[1;34m()\u001b[0m\n",
      "\u001b[1;31mKeyError\u001b[0m: 'created_at'",
      "\nThe above exception was the direct cause of the following exception:\n",
      "\u001b[1;31mKeyError\u001b[0m                                  Traceback (most recent call last)",
      "Cell \u001b[1;32mIn[78], line 1\u001b[0m\n\u001b[1;32m----> 1\u001b[0m plot_timeseries(metrics_df\u001b[39m.\u001b[39;49mdrop([\u001b[39m'\u001b[39;49m\u001b[39mid\u001b[39;49m\u001b[39m'\u001b[39;49m], axis\u001b[39m=\u001b[39;49m\u001b[39m1\u001b[39;49m))\n",
      "Cell \u001b[1;32mIn[76], line 3\u001b[0m, in \u001b[0;36mplot_timeseries\u001b[1;34m(dataframe)\u001b[0m\n\u001b[0;32m      1\u001b[0m \u001b[39mdef\u001b[39;00m \u001b[39mplot_timeseries\u001b[39m(dataframe) :\n\u001b[0;32m      2\u001b[0m     \u001b[39m# Set the Date as datetime\u001b[39;00m\n\u001b[1;32m----> 3\u001b[0m     dataframe[\u001b[39m'\u001b[39m\u001b[39mcreated_at\u001b[39m\u001b[39m'\u001b[39m] \u001b[39m=\u001b[39m pd\u001b[39m.\u001b[39mto_datetime(dataframe[\u001b[39m'\u001b[39;49m\u001b[39mcreated_at\u001b[39;49m\u001b[39m'\u001b[39;49m])\n\u001b[0;32m      4\u001b[0m     \u001b[39m# Set the Date as Index\u001b[39;00m\n\u001b[0;32m      5\u001b[0m     dataframe\u001b[39m.\u001b[39mindex \u001b[39m=\u001b[39m dataframe[\u001b[39m'\u001b[39m\u001b[39mcreated_at\u001b[39m\u001b[39m'\u001b[39m]\n",
      "File \u001b[1;32md:\\Fabeon\\Project JetVarnish3d-ErrorPrediction\\Prediction-Erreur-JetVarnish3D\\.venv\\lib\\site-packages\\pandas\\core\\frame.py:3807\u001b[0m, in \u001b[0;36mDataFrame.__getitem__\u001b[1;34m(self, key)\u001b[0m\n\u001b[0;32m   3805\u001b[0m \u001b[39mif\u001b[39;00m \u001b[39mself\u001b[39m\u001b[39m.\u001b[39mcolumns\u001b[39m.\u001b[39mnlevels \u001b[39m>\u001b[39m \u001b[39m1\u001b[39m:\n\u001b[0;32m   3806\u001b[0m     \u001b[39mreturn\u001b[39;00m \u001b[39mself\u001b[39m\u001b[39m.\u001b[39m_getitem_multilevel(key)\n\u001b[1;32m-> 3807\u001b[0m indexer \u001b[39m=\u001b[39m \u001b[39mself\u001b[39;49m\u001b[39m.\u001b[39;49mcolumns\u001b[39m.\u001b[39;49mget_loc(key)\n\u001b[0;32m   3808\u001b[0m \u001b[39mif\u001b[39;00m is_integer(indexer):\n\u001b[0;32m   3809\u001b[0m     indexer \u001b[39m=\u001b[39m [indexer]\n",
      "File \u001b[1;32md:\\Fabeon\\Project JetVarnish3d-ErrorPrediction\\Prediction-Erreur-JetVarnish3D\\.venv\\lib\\site-packages\\pandas\\core\\indexes\\base.py:3804\u001b[0m, in \u001b[0;36mIndex.get_loc\u001b[1;34m(self, key, method, tolerance)\u001b[0m\n\u001b[0;32m   3802\u001b[0m     \u001b[39mreturn\u001b[39;00m \u001b[39mself\u001b[39m\u001b[39m.\u001b[39m_engine\u001b[39m.\u001b[39mget_loc(casted_key)\n\u001b[0;32m   3803\u001b[0m \u001b[39mexcept\u001b[39;00m \u001b[39mKeyError\u001b[39;00m \u001b[39mas\u001b[39;00m err:\n\u001b[1;32m-> 3804\u001b[0m     \u001b[39mraise\u001b[39;00m \u001b[39mKeyError\u001b[39;00m(key) \u001b[39mfrom\u001b[39;00m \u001b[39merr\u001b[39;00m\n\u001b[0;32m   3805\u001b[0m \u001b[39mexcept\u001b[39;00m \u001b[39mTypeError\u001b[39;00m:\n\u001b[0;32m   3806\u001b[0m     \u001b[39m# If we have a listlike key, _check_indexing_error will raise\u001b[39;00m\n\u001b[0;32m   3807\u001b[0m     \u001b[39m#  InvalidIndexError. Otherwise we fall through and re-raise\u001b[39;00m\n\u001b[0;32m   3808\u001b[0m     \u001b[39m#  the TypeError.\u001b[39;00m\n\u001b[0;32m   3809\u001b[0m     \u001b[39mself\u001b[39m\u001b[39m.\u001b[39m_check_indexing_error(key)\n",
      "\u001b[1;31mKeyError\u001b[0m: 'created_at'"
     ]
    }
   ],
   "source": [
    "plot_timeseries(metrics_df.drop(['id'], axis=1))"
   ]
  },
  {
   "cell_type": "code",
   "execution_count": null,
   "metadata": {},
   "outputs": [],
   "source": [
    "# df = metrics_df.loc[:, ['created_at', 'varnishLevelsTargetvolume']]\n",
    "# # Set the Date as Index\n",
    "# df.created_at = pd.to_datetime(df.created_at)\n",
    "# df.index = df['created_at']\n",
    "# del df['created_at']\n",
    "# df.plot(figsize=(15, 6))\n",
    "# plt.show()"
   ]
  }
 ],
 "metadata": {
  "kernelspec": {
   "display_name": ".venv",
   "language": "python",
   "name": "python3"
  },
  "language_info": {
   "codemirror_mode": {
    "name": "ipython",
    "version": 3
   },
   "file_extension": ".py",
   "mimetype": "text/x-python",
   "name": "python",
   "nbconvert_exporter": "python",
   "pygments_lexer": "ipython3",
   "version": "3.10.4"
  },
  "orig_nbformat": 4
 },
 "nbformat": 4,
 "nbformat_minor": 2
}
