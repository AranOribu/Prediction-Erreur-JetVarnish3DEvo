{
 "cells": [
  {
   "attachments": {},
   "cell_type": "markdown",
   "metadata": {},
   "source": [
    "# Notebook exploration données : metrics"
   ]
  },
  {
   "attachments": {},
   "cell_type": "markdown",
   "metadata": {},
   "source": [
    "## Imports"
   ]
  },
  {
   "cell_type": "code",
   "execution_count": 1,
   "metadata": {},
   "outputs": [
    {
     "name": "stdout",
     "output_type": "stream",
     "text": [
      "Création du répertoire 'data/'.\n"
     ]
    }
   ],
   "source": [
    "import os, json\n",
    "import pandas as pd\n",
    "import numpy as np\n",
    "from azure_blob import download_blob_file\n",
    "from utilities import string_to_dict\n",
    "import matplotlib.pyplot as plt\n",
    "from datetime import datetime"
   ]
  },
  {
   "attachments": {},
   "cell_type": "markdown",
   "metadata": {},
   "source": [
    "### Data"
   ]
  },
  {
   "cell_type": "code",
   "execution_count": 60,
   "metadata": {},
   "outputs": [],
   "source": [
    "filename = 'metrics.csv'\n",
    "path = '../data/'"
   ]
  },
  {
   "cell_type": "code",
   "execution_count": 61,
   "metadata": {},
   "outputs": [
    {
     "name": "stdout",
     "output_type": "stream",
     "text": [
      "metrics.csv already in path ../data/.\n"
     ]
    }
   ],
   "source": [
    "# téléchargement dans le repertoire 'data' d'un fichiers 'csv' depuis le blob\n",
    "download_blob_file(file_name=filename, local_path=path)\n",
    "metrics = os.path.join(path, filename)"
   ]
  },
  {
   "cell_type": "code",
   "execution_count": 62,
   "metadata": {},
   "outputs": [
    {
     "name": "stdout",
     "output_type": "stream",
     "text": [
      "<class 'pandas.core.frame.DataFrame'>\n",
      "Int64Index: 1164430 entries, 307539 to 1164429\n",
      "Data columns (total 17 columns):\n",
      " #   Column                     Non-Null Count    Dtype  \n",
      "---  ------                     --------------    -----  \n",
      " 0   id                         1164430 non-null  int64  \n",
      " 1   status                     1164430 non-null  object \n",
      " 2   created_at                 1164430 non-null  object \n",
      " 3   cyan_capacity              0 non-null        float64\n",
      " 4   cyan_remaining             0 non-null        float64\n",
      " 5   magenta_capacity           0 non-null        float64\n",
      " 6   magenta_remaining          0 non-null        float64\n",
      " 7   yellow_capacity            0 non-null        float64\n",
      " 8   yellow_remaining           0 non-null        float64\n",
      " 9   black_capacity             0 non-null        float64\n",
      " 10  black_remaining            0 non-null        float64\n",
      " 11  machineId                  1164430 non-null  int64  \n",
      " 12  connected_operators        1164430 non-null  object \n",
      " 13  varnishLevelsTargetvolume  1164430 non-null  float64\n",
      " 14  varnishLevelsTotalvolume   1164430 non-null  int64  \n",
      " 15  modules                    1164430 non-null  object \n",
      " 16  events                     1164430 non-null  object \n",
      "dtypes: float64(9), int64(3), object(5)\n",
      "memory usage: 159.9+ MB\n"
     ]
    }
   ],
   "source": [
    "# création d'un dataframe à partir du csv de données\n",
    "metrics_df = pd.read_csv(metrics).sort_values(by='created_at')\n",
    "metrics_df.info()"
   ]
  },
  {
   "cell_type": "code",
   "execution_count": 63,
   "metadata": {},
   "outputs": [],
   "source": [
    "metrics_df.dropna(axis=1, inplace=True)\n",
    "metrics_df.drop('machineId', axis=1, inplace=True)\n",
    "# metrics_df.set_index('id')"
   ]
  },
  {
   "cell_type": "code",
   "execution_count": 64,
   "metadata": {},
   "outputs": [
    {
     "name": "stdout",
     "output_type": "stream",
     "text": [
      "<class 'pandas.core.frame.DataFrame'>\n",
      "Int64Index: 1164430 entries, 307539 to 1164429\n",
      "Data columns (total 8 columns):\n",
      " #   Column                     Non-Null Count    Dtype  \n",
      "---  ------                     --------------    -----  \n",
      " 0   id                         1164430 non-null  int64  \n",
      " 1   status                     1164430 non-null  object \n",
      " 2   created_at                 1164430 non-null  object \n",
      " 3   connected_operators        1164430 non-null  object \n",
      " 4   varnishLevelsTargetvolume  1164430 non-null  float64\n",
      " 5   varnishLevelsTotalvolume   1164430 non-null  int64  \n",
      " 6   modules                    1164430 non-null  object \n",
      " 7   events                     1164430 non-null  object \n",
      "dtypes: float64(1), int64(2), object(5)\n",
      "memory usage: 80.0+ MB\n"
     ]
    }
   ],
   "source": [
    "metrics_df.info()"
   ]
  },
  {
   "cell_type": "code",
   "execution_count": 65,
   "metadata": {},
   "outputs": [
    {
     "data": {
      "text/html": [
       "<div>\n",
       "<style scoped>\n",
       "    .dataframe tbody tr th:only-of-type {\n",
       "        vertical-align: middle;\n",
       "    }\n",
       "\n",
       "    .dataframe tbody tr th {\n",
       "        vertical-align: top;\n",
       "    }\n",
       "\n",
       "    .dataframe thead th {\n",
       "        text-align: right;\n",
       "    }\n",
       "</style>\n",
       "<table border=\"1\" class=\"dataframe\">\n",
       "  <thead>\n",
       "    <tr style=\"text-align: right;\">\n",
       "      <th></th>\n",
       "      <th>id</th>\n",
       "      <th>status</th>\n",
       "      <th>created_at</th>\n",
       "      <th>connected_operators</th>\n",
       "      <th>varnishLevelsTargetvolume</th>\n",
       "      <th>varnishLevelsTotalvolume</th>\n",
       "      <th>modules</th>\n",
       "      <th>events</th>\n",
       "    </tr>\n",
       "  </thead>\n",
       "  <tbody>\n",
       "    <tr>\n",
       "      <th>307539</th>\n",
       "      <td>4169748</td>\n",
       "      <td>WARNING</td>\n",
       "      <td>2022-04-15 05:55:06.678000</td>\n",
       "      <td>[{\"name\": \"Viktor\", \"level\": \"Operator\"}]</td>\n",
       "      <td>36192.322612</td>\n",
       "      <td>100000</td>\n",
       "      <td>[{\"sn\": \"\", \"name\": \"Print Engine 1\", \"type\": ...</td>\n",
       "      <td>[]</td>\n",
       "    </tr>\n",
       "    <tr>\n",
       "      <th>307540</th>\n",
       "      <td>4169749</td>\n",
       "      <td>WARNING</td>\n",
       "      <td>2022-04-15 05:55:06.829000</td>\n",
       "      <td>[{\"name\": \"Viktor\", \"level\": \"Operator\"}]</td>\n",
       "      <td>36192.322612</td>\n",
       "      <td>100000</td>\n",
       "      <td>[{\"sn\": \"\", \"name\": \"Print Engine 1\", \"type\": ...</td>\n",
       "      <td>[{\"source\": \"PLC\", \"message\": \" JV-Ti non prêt...</td>\n",
       "    </tr>\n",
       "    <tr>\n",
       "      <th>307537</th>\n",
       "      <td>4169753</td>\n",
       "      <td>WARNING</td>\n",
       "      <td>2022-04-15 05:55:14.494000</td>\n",
       "      <td>[{\"name\": \"Viktor\", \"level\": \"Operator\"}]</td>\n",
       "      <td>36192.322612</td>\n",
       "      <td>100000</td>\n",
       "      <td>[{\"sn\": \"\", \"name\": \"Print Engine 1\", \"type\": ...</td>\n",
       "      <td>[]</td>\n",
       "    </tr>\n",
       "  </tbody>\n",
       "</table>\n",
       "</div>"
      ],
      "text/plain": [
       "             id   status                  created_at  \\\n",
       "307539  4169748  WARNING  2022-04-15 05:55:06.678000   \n",
       "307540  4169749  WARNING  2022-04-15 05:55:06.829000   \n",
       "307537  4169753  WARNING  2022-04-15 05:55:14.494000   \n",
       "\n",
       "                              connected_operators  varnishLevelsTargetvolume  \\\n",
       "307539  [{\"name\": \"Viktor\", \"level\": \"Operator\"}]               36192.322612   \n",
       "307540  [{\"name\": \"Viktor\", \"level\": \"Operator\"}]               36192.322612   \n",
       "307537  [{\"name\": \"Viktor\", \"level\": \"Operator\"}]               36192.322612   \n",
       "\n",
       "        varnishLevelsTotalvolume  \\\n",
       "307539                    100000   \n",
       "307540                    100000   \n",
       "307537                    100000   \n",
       "\n",
       "                                                  modules  \\\n",
       "307539  [{\"sn\": \"\", \"name\": \"Print Engine 1\", \"type\": ...   \n",
       "307540  [{\"sn\": \"\", \"name\": \"Print Engine 1\", \"type\": ...   \n",
       "307537  [{\"sn\": \"\", \"name\": \"Print Engine 1\", \"type\": ...   \n",
       "\n",
       "                                                   events  \n",
       "307539                                                 []  \n",
       "307540  [{\"source\": \"PLC\", \"message\": \" JV-Ti non prêt...  \n",
       "307537                                                 []  "
      ]
     },
     "execution_count": 65,
     "metadata": {},
     "output_type": "execute_result"
    }
   ],
   "source": [
    "metrics_df.head(3)"
   ]
  },
  {
   "attachments": {},
   "cell_type": "markdown",
   "metadata": {},
   "source": [
    "## Fonctions"
   ]
  },
  {
   "cell_type": "code",
   "execution_count": 66,
   "metadata": {},
   "outputs": [],
   "source": [
    "def convert_str_to_list(series):\n",
    "    return pd.DataFrame(series.apply(lambda x :json.loads(x)), columns=[series.name])"
   ]
  },
  {
   "cell_type": "code",
   "execution_count": 67,
   "metadata": {},
   "outputs": [],
   "source": [
    "def get_keys(dict):\n",
    "    return list(k for k in dict.keys() )"
   ]
  },
  {
   "cell_type": "code",
   "execution_count": 68,
   "metadata": {},
   "outputs": [],
   "source": [
    "def add_key_column(df, col_name, keys, index):\n",
    "    for key in keys:\n",
    "        df[col_name+'_'+key+'_'+str(index)] = df[col_name].apply(lambda x: x[index].get(key))\n",
    "    return df"
   ]
  },
  {
   "cell_type": "code",
   "execution_count": 69,
   "metadata": {},
   "outputs": [],
   "source": [
    "def check_list_length(list):\n",
    "    if len(list) :\n",
    "        print(len(list))"
   ]
  },
  {
   "attachments": {},
   "cell_type": "markdown",
   "metadata": {},
   "source": [
    "## Dataframes"
   ]
  },
  {
   "attachments": {},
   "cell_type": "markdown",
   "metadata": {},
   "source": [
    "### Column \"connected_operators\""
   ]
  },
  {
   "cell_type": "code",
   "execution_count": 70,
   "metadata": {},
   "outputs": [],
   "source": [
    "#metrics_df.connected_operators = metrics_df.connected_operators.apply(lambda x :json.loads(x)[0])\n",
    "connected_operators_df = convert_str_to_list(metrics_df.connected_operators)"
   ]
  },
  {
   "cell_type": "code",
   "execution_count": 71,
   "metadata": {},
   "outputs": [],
   "source": [
    "# on récupère les clés du dictionnaire dans la première ligne du dataset 'loc.[0]' dans la première case de la liste '[0]'\n",
    "connected_operators_keys = get_keys(connected_operators_df.connected_operators.loc[0][0])"
   ]
  },
  {
   "cell_type": "code",
   "execution_count": 72,
   "metadata": {},
   "outputs": [],
   "source": [
    "# on ajoute des colonnes pour chaque clés\n",
    "for key in connected_operators_keys:\n",
    "    connected_operators_df = add_key_column(connected_operators_df, 'connected_operators', connected_operators_keys,0)"
   ]
  },
  {
   "cell_type": "code",
   "execution_count": 73,
   "metadata": {},
   "outputs": [],
   "source": [
    "# on supprime la colonne d'origine\n",
    "connected_operators_df.drop('connected_operators', axis='columns', inplace=True)"
   ]
  },
  {
   "cell_type": "code",
   "execution_count": 74,
   "metadata": {},
   "outputs": [],
   "source": [
    "connected_operators_df.rename(columns={\n",
    "    'connected_operators_name_0': 'operators_name',\n",
    "    'connected_operators_level_0': 'operators_level'\n",
    "    }, inplace=True)"
   ]
  },
  {
   "cell_type": "code",
   "execution_count": 75,
   "metadata": {},
   "outputs": [
    {
     "data": {
      "text/html": [
       "<div>\n",
       "<style scoped>\n",
       "    .dataframe tbody tr th:only-of-type {\n",
       "        vertical-align: middle;\n",
       "    }\n",
       "\n",
       "    .dataframe tbody tr th {\n",
       "        vertical-align: top;\n",
       "    }\n",
       "\n",
       "    .dataframe thead th {\n",
       "        text-align: right;\n",
       "    }\n",
       "</style>\n",
       "<table border=\"1\" class=\"dataframe\">\n",
       "  <thead>\n",
       "    <tr style=\"text-align: right;\">\n",
       "      <th></th>\n",
       "      <th>operators_name</th>\n",
       "      <th>operators_level</th>\n",
       "    </tr>\n",
       "  </thead>\n",
       "  <tbody>\n",
       "    <tr>\n",
       "      <th>307539</th>\n",
       "      <td>Viktor</td>\n",
       "      <td>Operator</td>\n",
       "    </tr>\n",
       "    <tr>\n",
       "      <th>307540</th>\n",
       "      <td>Viktor</td>\n",
       "      <td>Operator</td>\n",
       "    </tr>\n",
       "    <tr>\n",
       "      <th>307537</th>\n",
       "      <td>Viktor</td>\n",
       "      <td>Operator</td>\n",
       "    </tr>\n",
       "  </tbody>\n",
       "</table>\n",
       "</div>"
      ],
      "text/plain": [
       "       operators_name operators_level\n",
       "307539         Viktor        Operator\n",
       "307540         Viktor        Operator\n",
       "307537         Viktor        Operator"
      ]
     },
     "execution_count": 75,
     "metadata": {},
     "output_type": "execute_result"
    }
   ],
   "source": [
    "connected_operators_df.head(3)"
   ]
  },
  {
   "attachments": {},
   "cell_type": "markdown",
   "metadata": {},
   "source": [
    "### Column \"modules\""
   ]
  },
  {
   "cell_type": "code",
   "execution_count": 76,
   "metadata": {},
   "outputs": [],
   "source": [
    "modules_df = convert_str_to_list(metrics_df.modules)"
   ]
  },
  {
   "cell_type": "code",
   "execution_count": 77,
   "metadata": {},
   "outputs": [],
   "source": [
    "modules_keys = get_keys(modules_df.modules.loc[0][0])"
   ]
  },
  {
   "cell_type": "code",
   "execution_count": 78,
   "metadata": {},
   "outputs": [],
   "source": [
    "for key in modules_keys:\n",
    "    modules_df = add_key_column(modules_df, 'modules', modules_keys,0)\n",
    "for key in modules_keys:\n",
    "    modules_df = add_key_column(modules_df, 'modules', modules_keys,1)"
   ]
  },
  {
   "cell_type": "code",
   "execution_count": 79,
   "metadata": {},
   "outputs": [
    {
     "data": {
      "text/html": [
       "<div>\n",
       "<style scoped>\n",
       "    .dataframe tbody tr th:only-of-type {\n",
       "        vertical-align: middle;\n",
       "    }\n",
       "\n",
       "    .dataframe tbody tr th {\n",
       "        vertical-align: top;\n",
       "    }\n",
       "\n",
       "    .dataframe thead th {\n",
       "        text-align: right;\n",
       "    }\n",
       "</style>\n",
       "<table border=\"1\" class=\"dataframe\">\n",
       "  <thead>\n",
       "    <tr style=\"text-align: right;\">\n",
       "      <th></th>\n",
       "      <th>modules</th>\n",
       "      <th>modules_sn_0</th>\n",
       "      <th>modules_name_0</th>\n",
       "      <th>modules_type_0</th>\n",
       "      <th>modules_counters_0</th>\n",
       "      <th>modules_generation_0</th>\n",
       "      <th>modules_sn_1</th>\n",
       "      <th>modules_name_1</th>\n",
       "      <th>modules_type_1</th>\n",
       "      <th>modules_counters_1</th>\n",
       "      <th>modules_generation_1</th>\n",
       "    </tr>\n",
       "  </thead>\n",
       "  <tbody>\n",
       "    <tr>\n",
       "      <th>307539</th>\n",
       "      <td>[{'sn': '', 'name': 'Print Engine 1', 'type': ...</td>\n",
       "      <td></td>\n",
       "      <td>Print Engine 1</td>\n",
       "      <td>Varnish Printer</td>\n",
       "      <td>[{'name': '3D Varnish Counter', 'value': 17929...</td>\n",
       "      <td></td>\n",
       "      <td></td>\n",
       "      <td>iFoil L</td>\n",
       "      <td>iFoil</td>\n",
       "      <td>[{'name': 'Total Pages Counter', 'value': 2288...</td>\n",
       "      <td>Gen. 2</td>\n",
       "    </tr>\n",
       "    <tr>\n",
       "      <th>307540</th>\n",
       "      <td>[{'sn': '', 'name': 'Print Engine 1', 'type': ...</td>\n",
       "      <td></td>\n",
       "      <td>Print Engine 1</td>\n",
       "      <td>Varnish Printer</td>\n",
       "      <td>[{'name': '3D Varnish Counter', 'value': 17929...</td>\n",
       "      <td></td>\n",
       "      <td></td>\n",
       "      <td>iFoil L</td>\n",
       "      <td>iFoil</td>\n",
       "      <td>[{'name': 'Total Pages Counter', 'value': 2288...</td>\n",
       "      <td>Gen. 2</td>\n",
       "    </tr>\n",
       "    <tr>\n",
       "      <th>307537</th>\n",
       "      <td>[{'sn': '', 'name': 'Print Engine 1', 'type': ...</td>\n",
       "      <td></td>\n",
       "      <td>Print Engine 1</td>\n",
       "      <td>Varnish Printer</td>\n",
       "      <td>[{'name': '3D Varnish Counter', 'value': 17929...</td>\n",
       "      <td></td>\n",
       "      <td></td>\n",
       "      <td>iFoil L</td>\n",
       "      <td>iFoil</td>\n",
       "      <td>[{'name': 'Total Pages Counter', 'value': 2288...</td>\n",
       "      <td>Gen. 2</td>\n",
       "    </tr>\n",
       "  </tbody>\n",
       "</table>\n",
       "</div>"
      ],
      "text/plain": [
       "                                                  modules modules_sn_0  \\\n",
       "307539  [{'sn': '', 'name': 'Print Engine 1', 'type': ...                \n",
       "307540  [{'sn': '', 'name': 'Print Engine 1', 'type': ...                \n",
       "307537  [{'sn': '', 'name': 'Print Engine 1', 'type': ...                \n",
       "\n",
       "        modules_name_0   modules_type_0  \\\n",
       "307539  Print Engine 1  Varnish Printer   \n",
       "307540  Print Engine 1  Varnish Printer   \n",
       "307537  Print Engine 1  Varnish Printer   \n",
       "\n",
       "                                       modules_counters_0  \\\n",
       "307539  [{'name': '3D Varnish Counter', 'value': 17929...   \n",
       "307540  [{'name': '3D Varnish Counter', 'value': 17929...   \n",
       "307537  [{'name': '3D Varnish Counter', 'value': 17929...   \n",
       "\n",
       "       modules_generation_0 modules_sn_1 modules_name_1 modules_type_1  \\\n",
       "307539                                          iFoil L          iFoil   \n",
       "307540                                          iFoil L          iFoil   \n",
       "307537                                          iFoil L          iFoil   \n",
       "\n",
       "                                       modules_counters_1 modules_generation_1  \n",
       "307539  [{'name': 'Total Pages Counter', 'value': 2288...               Gen. 2  \n",
       "307540  [{'name': 'Total Pages Counter', 'value': 2288...               Gen. 2  \n",
       "307537  [{'name': 'Total Pages Counter', 'value': 2288...               Gen. 2  "
      ]
     },
     "execution_count": 79,
     "metadata": {},
     "output_type": "execute_result"
    }
   ],
   "source": [
    "modules_df.head(3)"
   ]
  },
  {
   "cell_type": "code",
   "execution_count": 80,
   "metadata": {},
   "outputs": [],
   "source": [
    "modules_df.drop('modules', axis='columns', inplace=True)"
   ]
  },
  {
   "cell_type": "code",
   "execution_count": 81,
   "metadata": {},
   "outputs": [
    {
     "name": "stdout",
     "output_type": "stream",
     "text": [
      "<class 'pandas.core.frame.DataFrame'>\n",
      "Int64Index: 1164430 entries, 307539 to 1164429\n",
      "Data columns (total 10 columns):\n",
      " #   Column                Non-Null Count    Dtype \n",
      "---  ------                --------------    ----- \n",
      " 0   modules_sn_0          1164430 non-null  object\n",
      " 1   modules_name_0        1164430 non-null  object\n",
      " 2   modules_type_0        1164430 non-null  object\n",
      " 3   modules_counters_0    1164430 non-null  object\n",
      " 4   modules_generation_0  1164430 non-null  object\n",
      " 5   modules_sn_1          1164430 non-null  object\n",
      " 6   modules_name_1        1164430 non-null  object\n",
      " 7   modules_type_1        1164430 non-null  object\n",
      " 8   modules_counters_1    1164430 non-null  object\n",
      " 9   modules_generation_1  1164430 non-null  object\n",
      "dtypes: object(10)\n",
      "memory usage: 130.0+ MB\n"
     ]
    }
   ],
   "source": [
    "modules_df.info()"
   ]
  },
  {
   "attachments": {},
   "cell_type": "markdown",
   "metadata": {},
   "source": [
    "#### Column \"modules counters\""
   ]
  },
  {
   "cell_type": "code",
   "execution_count": 82,
   "metadata": {},
   "outputs": [],
   "source": [
    "modules_counters_keys = get_keys(modules_df.modules_counters_0.loc[0][0])"
   ]
  },
  {
   "cell_type": "code",
   "execution_count": 83,
   "metadata": {},
   "outputs": [],
   "source": [
    "for key in modules_counters_keys:\n",
    "    modules_df = add_key_column(modules_df, 'modules_counters_0', modules_counters_keys,0)\n",
    "for key in modules_counters_keys:\n",
    "    modules_df = add_key_column(modules_df, 'modules_counters_1', modules_counters_keys,0)"
   ]
  },
  {
   "cell_type": "code",
   "execution_count": 84,
   "metadata": {},
   "outputs": [],
   "source": [
    "modules_df.drop(['modules_counters_0', 'modules_counters_1'], axis='columns', inplace=True)"
   ]
  },
  {
   "cell_type": "code",
   "execution_count": 85,
   "metadata": {},
   "outputs": [
    {
     "name": "stdout",
     "output_type": "stream",
     "text": [
      "<class 'pandas.core.frame.DataFrame'>\n",
      "Int64Index: 1164430 entries, 307539 to 1164429\n",
      "Data columns (total 12 columns):\n",
      " #   Column                      Non-Null Count    Dtype \n",
      "---  ------                      --------------    ----- \n",
      " 0   modules_sn_0                1164430 non-null  object\n",
      " 1   modules_name_0              1164430 non-null  object\n",
      " 2   modules_type_0              1164430 non-null  object\n",
      " 3   modules_generation_0        1164430 non-null  object\n",
      " 4   modules_sn_1                1164430 non-null  object\n",
      " 5   modules_name_1              1164430 non-null  object\n",
      " 6   modules_type_1              1164430 non-null  object\n",
      " 7   modules_generation_1        1164430 non-null  object\n",
      " 8   modules_counters_0_name_0   1164430 non-null  object\n",
      " 9   modules_counters_0_value_0  1164430 non-null  int64 \n",
      " 10  modules_counters_1_name_0   1164430 non-null  object\n",
      " 11  modules_counters_1_value_0  1164430 non-null  int64 \n",
      "dtypes: int64(2), object(10)\n",
      "memory usage: 147.7+ MB\n"
     ]
    }
   ],
   "source": [
    "modules_df.info()"
   ]
  },
  {
   "cell_type": "code",
   "execution_count": 86,
   "metadata": {},
   "outputs": [],
   "source": [
    "modules_df.dropna(axis='columns', how='any', inplace=True)"
   ]
  },
  {
   "cell_type": "code",
   "execution_count": 87,
   "metadata": {},
   "outputs": [
    {
     "name": "stdout",
     "output_type": "stream",
     "text": [
      "modules_sn_0 ['']\n",
      "modules_name_0 ['Print Engine 1']\n",
      "modules_type_0 ['Varnish Printer']\n",
      "modules_generation_0 ['']\n",
      "modules_sn_1 ['']\n",
      "modules_name_1 ['iFoil L']\n",
      "modules_type_1 ['iFoil']\n",
      "modules_generation_1 ['Gen. 2']\n",
      "modules_counters_0_name_0 ['3D Varnish Counter']\n",
      "modules_counters_0_value_0 nombre de valeurs unique : 294500\n",
      "modules_counters_1_name_0 ['Total Pages Counter']\n",
      "modules_counters_1_value_0 nombre de valeurs unique : 65342\n"
     ]
    }
   ],
   "source": [
    "for col in modules_df.columns :\n",
    "    if modules_df[col].nunique() > 1 :\n",
    "        print(col, 'nombre de valeurs unique : %d' % modules_df[col].nunique())\n",
    "    else :\n",
    "        print(col, modules_df[col].unique())"
   ]
  },
  {
   "cell_type": "code",
   "execution_count": 88,
   "metadata": {},
   "outputs": [],
   "source": [
    "columns_to_drop = []\n",
    "for col in modules_df.columns :\n",
    "    if modules_df[col].nunique() == 1 :\n",
    "        if modules_df[col].unique().item() != '':\n",
    "            columns_to_drop.append(col)\n",
    "        else :\n",
    "            modules_df.drop(columns=[col], axis='columns', inplace=True)"
   ]
  },
  {
   "cell_type": "code",
   "execution_count": 89,
   "metadata": {},
   "outputs": [],
   "source": [
    "modules_df.rename(columns={\n",
    "    'modules_counters_0_value_0': 'VarnishPrinter_3DVarnishCounter',\n",
    "    'modules_counters_1_value_0': 'iFoil_TotalPagesCounter'\n",
    "    }, inplace=True)\n",
    "modules_df.drop(columns=columns_to_drop, axis='columns', inplace=True)"
   ]
  },
  {
   "cell_type": "code",
   "execution_count": 90,
   "metadata": {},
   "outputs": [
    {
     "data": {
      "text/html": [
       "<div>\n",
       "<style scoped>\n",
       "    .dataframe tbody tr th:only-of-type {\n",
       "        vertical-align: middle;\n",
       "    }\n",
       "\n",
       "    .dataframe tbody tr th {\n",
       "        vertical-align: top;\n",
       "    }\n",
       "\n",
       "    .dataframe thead th {\n",
       "        text-align: right;\n",
       "    }\n",
       "</style>\n",
       "<table border=\"1\" class=\"dataframe\">\n",
       "  <thead>\n",
       "    <tr style=\"text-align: right;\">\n",
       "      <th></th>\n",
       "      <th>VarnishPrinter_3DVarnishCounter</th>\n",
       "      <th>iFoil_TotalPagesCounter</th>\n",
       "    </tr>\n",
       "  </thead>\n",
       "  <tbody>\n",
       "    <tr>\n",
       "      <th>307539</th>\n",
       "      <td>1792992</td>\n",
       "      <td>22881</td>\n",
       "    </tr>\n",
       "    <tr>\n",
       "      <th>307540</th>\n",
       "      <td>1792992</td>\n",
       "      <td>22881</td>\n",
       "    </tr>\n",
       "    <tr>\n",
       "      <th>307537</th>\n",
       "      <td>1792992</td>\n",
       "      <td>22881</td>\n",
       "    </tr>\n",
       "  </tbody>\n",
       "</table>\n",
       "</div>"
      ],
      "text/plain": [
       "        VarnishPrinter_3DVarnishCounter  iFoil_TotalPagesCounter\n",
       "307539                          1792992                    22881\n",
       "307540                          1792992                    22881\n",
       "307537                          1792992                    22881"
      ]
     },
     "execution_count": 90,
     "metadata": {},
     "output_type": "execute_result"
    }
   ],
   "source": [
    "modules_df.head(3)"
   ]
  },
  {
   "attachments": {},
   "cell_type": "markdown",
   "metadata": {},
   "source": [
    "### Column \"events\""
   ]
  },
  {
   "cell_type": "code",
   "execution_count": 91,
   "metadata": {},
   "outputs": [],
   "source": [
    "events_df = convert_str_to_list(metrics_df.events)"
   ]
  },
  {
   "cell_type": "code",
   "execution_count": 92,
   "metadata": {},
   "outputs": [],
   "source": [
    "events_keys = []\n",
    "for i in range(0, len(events_df)) :\n",
    "    if len(events_df.events.loc[i]) != 0 :\n",
    "        event_keys = events_df.events.loc[i][0].keys()\n",
    "        if event_keys not in events_keys :\n",
    "            events_keys.append(event_keys)"
   ]
  },
  {
   "cell_type": "code",
   "execution_count": 93,
   "metadata": {},
   "outputs": [
    {
     "data": {
      "text/plain": [
       "[dict_keys(['source', 'message', 'timestamp', 'criticality', 'identification'])]"
      ]
     },
     "execution_count": 93,
     "metadata": {},
     "output_type": "execute_result"
    }
   ],
   "source": [
    "events_keys"
   ]
  },
  {
   "cell_type": "code",
   "execution_count": 94,
   "metadata": {},
   "outputs": [],
   "source": [
    "events_dict = {}\n",
    "for key in event_keys :\n",
    "    events_dict[key] = None"
   ]
  },
  {
   "cell_type": "code",
   "execution_count": 95,
   "metadata": {},
   "outputs": [],
   "source": [
    "events_df['Length'] = events_df.events.map(len)"
   ]
  },
  {
   "cell_type": "code",
   "execution_count": 96,
   "metadata": {},
   "outputs": [
    {
     "data": {
      "text/html": [
       "<div>\n",
       "<style scoped>\n",
       "    .dataframe tbody tr th:only-of-type {\n",
       "        vertical-align: middle;\n",
       "    }\n",
       "\n",
       "    .dataframe tbody tr th {\n",
       "        vertical-align: top;\n",
       "    }\n",
       "\n",
       "    .dataframe thead th {\n",
       "        text-align: right;\n",
       "    }\n",
       "</style>\n",
       "<table border=\"1\" class=\"dataframe\">\n",
       "  <thead>\n",
       "    <tr style=\"text-align: right;\">\n",
       "      <th></th>\n",
       "      <th>0</th>\n",
       "      <th>1</th>\n",
       "      <th>2</th>\n",
       "      <th>3</th>\n",
       "      <th>4</th>\n",
       "      <th>5</th>\n",
       "      <th>6</th>\n",
       "      <th>7</th>\n",
       "      <th>8</th>\n",
       "      <th>9</th>\n",
       "      <th>10</th>\n",
       "      <th>11</th>\n",
       "    </tr>\n",
       "  </thead>\n",
       "  <tbody>\n",
       "    <tr>\n",
       "      <th>0</th>\n",
       "      <td>None</td>\n",
       "      <td>None</td>\n",
       "      <td>None</td>\n",
       "      <td>None</td>\n",
       "      <td>None</td>\n",
       "      <td>None</td>\n",
       "      <td>None</td>\n",
       "      <td>None</td>\n",
       "      <td>None</td>\n",
       "      <td>None</td>\n",
       "      <td>None</td>\n",
       "      <td>None</td>\n",
       "    </tr>\n",
       "    <tr>\n",
       "      <th>1</th>\n",
       "      <td>{'source': 'PLC', 'message': ' JV-Ti non prêt ...</td>\n",
       "      <td>None</td>\n",
       "      <td>None</td>\n",
       "      <td>None</td>\n",
       "      <td>None</td>\n",
       "      <td>None</td>\n",
       "      <td>None</td>\n",
       "      <td>None</td>\n",
       "      <td>None</td>\n",
       "      <td>None</td>\n",
       "      <td>None</td>\n",
       "      <td>None</td>\n",
       "    </tr>\n",
       "    <tr>\n",
       "      <th>2</th>\n",
       "      <td>None</td>\n",
       "      <td>None</td>\n",
       "      <td>None</td>\n",
       "      <td>None</td>\n",
       "      <td>None</td>\n",
       "      <td>None</td>\n",
       "      <td>None</td>\n",
       "      <td>None</td>\n",
       "      <td>None</td>\n",
       "      <td>None</td>\n",
       "      <td>None</td>\n",
       "      <td>None</td>\n",
       "    </tr>\n",
       "    <tr>\n",
       "      <th>3</th>\n",
       "      <td>None</td>\n",
       "      <td>None</td>\n",
       "      <td>None</td>\n",
       "      <td>None</td>\n",
       "      <td>None</td>\n",
       "      <td>None</td>\n",
       "      <td>None</td>\n",
       "      <td>None</td>\n",
       "      <td>None</td>\n",
       "      <td>None</td>\n",
       "      <td>None</td>\n",
       "      <td>None</td>\n",
       "    </tr>\n",
       "    <tr>\n",
       "      <th>4</th>\n",
       "      <td>None</td>\n",
       "      <td>None</td>\n",
       "      <td>None</td>\n",
       "      <td>None</td>\n",
       "      <td>None</td>\n",
       "      <td>None</td>\n",
       "      <td>None</td>\n",
       "      <td>None</td>\n",
       "      <td>None</td>\n",
       "      <td>None</td>\n",
       "      <td>None</td>\n",
       "      <td>None</td>\n",
       "    </tr>\n",
       "  </tbody>\n",
       "</table>\n",
       "</div>"
      ],
      "text/plain": [
       "                                                  0     1     2     3     4   \\\n",
       "0                                               None  None  None  None  None   \n",
       "1  {'source': 'PLC', 'message': ' JV-Ti non prêt ...  None  None  None  None   \n",
       "2                                               None  None  None  None  None   \n",
       "3                                               None  None  None  None  None   \n",
       "4                                               None  None  None  None  None   \n",
       "\n",
       "     5     6     7     8     9     10    11  \n",
       "0  None  None  None  None  None  None  None  \n",
       "1  None  None  None  None  None  None  None  \n",
       "2  None  None  None  None  None  None  None  \n",
       "3  None  None  None  None  None  None  None  \n",
       "4  None  None  None  None  None  None  None  "
      ]
     },
     "execution_count": 96,
     "metadata": {},
     "output_type": "execute_result"
    }
   ],
   "source": [
    "df = pd.DataFrame(events_df.events.to_list(), dtype=object)\n",
    "df.head(5)"
   ]
  },
  {
   "cell_type": "code",
   "execution_count": 97,
   "metadata": {},
   "outputs": [],
   "source": [
    "for col in df.columns :\n",
    "    for i in range(0,len(df.iloc[:,col])):\n",
    "        if isinstance(df.loc[i][col], type(None)) :\n",
    "            df.loc[i][col] = events_dict"
   ]
  },
  {
   "cell_type": "code",
   "execution_count": 98,
   "metadata": {},
   "outputs": [],
   "source": [
    "# renommage des colonnes du dataframe des events\n",
    "i = 0\n",
    "col_names = {}\n",
    "for col in range(df.columns.start, df.columns.stop):\n",
    "    col_names[col] = 'event_'+str(col)\n",
    "df.rename(columns=col_names, inplace=True)"
   ]
  },
  {
   "cell_type": "code",
   "execution_count": 99,
   "metadata": {},
   "outputs": [
    {
     "data": {
      "text/html": [
       "<div>\n",
       "<style scoped>\n",
       "    .dataframe tbody tr th:only-of-type {\n",
       "        vertical-align: middle;\n",
       "    }\n",
       "\n",
       "    .dataframe tbody tr th {\n",
       "        vertical-align: top;\n",
       "    }\n",
       "\n",
       "    .dataframe thead th {\n",
       "        text-align: right;\n",
       "    }\n",
       "</style>\n",
       "<table border=\"1\" class=\"dataframe\">\n",
       "  <thead>\n",
       "    <tr style=\"text-align: right;\">\n",
       "      <th></th>\n",
       "      <th>event_0</th>\n",
       "      <th>event_1</th>\n",
       "      <th>event_2</th>\n",
       "      <th>event_3</th>\n",
       "      <th>event_4</th>\n",
       "      <th>event_5</th>\n",
       "      <th>event_6</th>\n",
       "      <th>event_7</th>\n",
       "      <th>event_8</th>\n",
       "      <th>event_9</th>\n",
       "      <th>event_10</th>\n",
       "      <th>event_11</th>\n",
       "    </tr>\n",
       "  </thead>\n",
       "  <tbody>\n",
       "    <tr>\n",
       "      <th>0</th>\n",
       "      <td>{'source': None, 'message': None, 'timestamp':...</td>\n",
       "      <td>{'source': None, 'message': None, 'timestamp':...</td>\n",
       "      <td>{'source': None, 'message': None, 'timestamp':...</td>\n",
       "      <td>{'source': None, 'message': None, 'timestamp':...</td>\n",
       "      <td>{'source': None, 'message': None, 'timestamp':...</td>\n",
       "      <td>{'source': None, 'message': None, 'timestamp':...</td>\n",
       "      <td>{'source': None, 'message': None, 'timestamp':...</td>\n",
       "      <td>{'source': None, 'message': None, 'timestamp':...</td>\n",
       "      <td>{'source': None, 'message': None, 'timestamp':...</td>\n",
       "      <td>{'source': None, 'message': None, 'timestamp':...</td>\n",
       "      <td>{'source': None, 'message': None, 'timestamp':...</td>\n",
       "      <td>{'source': None, 'message': None, 'timestamp':...</td>\n",
       "    </tr>\n",
       "    <tr>\n",
       "      <th>1</th>\n",
       "      <td>{'source': 'PLC', 'message': ' JV-Ti non prêt ...</td>\n",
       "      <td>{'source': None, 'message': None, 'timestamp':...</td>\n",
       "      <td>{'source': None, 'message': None, 'timestamp':...</td>\n",
       "      <td>{'source': None, 'message': None, 'timestamp':...</td>\n",
       "      <td>{'source': None, 'message': None, 'timestamp':...</td>\n",
       "      <td>{'source': None, 'message': None, 'timestamp':...</td>\n",
       "      <td>{'source': None, 'message': None, 'timestamp':...</td>\n",
       "      <td>{'source': None, 'message': None, 'timestamp':...</td>\n",
       "      <td>{'source': None, 'message': None, 'timestamp':...</td>\n",
       "      <td>{'source': None, 'message': None, 'timestamp':...</td>\n",
       "      <td>{'source': None, 'message': None, 'timestamp':...</td>\n",
       "      <td>{'source': None, 'message': None, 'timestamp':...</td>\n",
       "    </tr>\n",
       "    <tr>\n",
       "      <th>2</th>\n",
       "      <td>{'source': None, 'message': None, 'timestamp':...</td>\n",
       "      <td>{'source': None, 'message': None, 'timestamp':...</td>\n",
       "      <td>{'source': None, 'message': None, 'timestamp':...</td>\n",
       "      <td>{'source': None, 'message': None, 'timestamp':...</td>\n",
       "      <td>{'source': None, 'message': None, 'timestamp':...</td>\n",
       "      <td>{'source': None, 'message': None, 'timestamp':...</td>\n",
       "      <td>{'source': None, 'message': None, 'timestamp':...</td>\n",
       "      <td>{'source': None, 'message': None, 'timestamp':...</td>\n",
       "      <td>{'source': None, 'message': None, 'timestamp':...</td>\n",
       "      <td>{'source': None, 'message': None, 'timestamp':...</td>\n",
       "      <td>{'source': None, 'message': None, 'timestamp':...</td>\n",
       "      <td>{'source': None, 'message': None, 'timestamp':...</td>\n",
       "    </tr>\n",
       "  </tbody>\n",
       "</table>\n",
       "</div>"
      ],
      "text/plain": [
       "                                             event_0  \\\n",
       "0  {'source': None, 'message': None, 'timestamp':...   \n",
       "1  {'source': 'PLC', 'message': ' JV-Ti non prêt ...   \n",
       "2  {'source': None, 'message': None, 'timestamp':...   \n",
       "\n",
       "                                             event_1  \\\n",
       "0  {'source': None, 'message': None, 'timestamp':...   \n",
       "1  {'source': None, 'message': None, 'timestamp':...   \n",
       "2  {'source': None, 'message': None, 'timestamp':...   \n",
       "\n",
       "                                             event_2  \\\n",
       "0  {'source': None, 'message': None, 'timestamp':...   \n",
       "1  {'source': None, 'message': None, 'timestamp':...   \n",
       "2  {'source': None, 'message': None, 'timestamp':...   \n",
       "\n",
       "                                             event_3  \\\n",
       "0  {'source': None, 'message': None, 'timestamp':...   \n",
       "1  {'source': None, 'message': None, 'timestamp':...   \n",
       "2  {'source': None, 'message': None, 'timestamp':...   \n",
       "\n",
       "                                             event_4  \\\n",
       "0  {'source': None, 'message': None, 'timestamp':...   \n",
       "1  {'source': None, 'message': None, 'timestamp':...   \n",
       "2  {'source': None, 'message': None, 'timestamp':...   \n",
       "\n",
       "                                             event_5  \\\n",
       "0  {'source': None, 'message': None, 'timestamp':...   \n",
       "1  {'source': None, 'message': None, 'timestamp':...   \n",
       "2  {'source': None, 'message': None, 'timestamp':...   \n",
       "\n",
       "                                             event_6  \\\n",
       "0  {'source': None, 'message': None, 'timestamp':...   \n",
       "1  {'source': None, 'message': None, 'timestamp':...   \n",
       "2  {'source': None, 'message': None, 'timestamp':...   \n",
       "\n",
       "                                             event_7  \\\n",
       "0  {'source': None, 'message': None, 'timestamp':...   \n",
       "1  {'source': None, 'message': None, 'timestamp':...   \n",
       "2  {'source': None, 'message': None, 'timestamp':...   \n",
       "\n",
       "                                             event_8  \\\n",
       "0  {'source': None, 'message': None, 'timestamp':...   \n",
       "1  {'source': None, 'message': None, 'timestamp':...   \n",
       "2  {'source': None, 'message': None, 'timestamp':...   \n",
       "\n",
       "                                             event_9  \\\n",
       "0  {'source': None, 'message': None, 'timestamp':...   \n",
       "1  {'source': None, 'message': None, 'timestamp':...   \n",
       "2  {'source': None, 'message': None, 'timestamp':...   \n",
       "\n",
       "                                            event_10  \\\n",
       "0  {'source': None, 'message': None, 'timestamp':...   \n",
       "1  {'source': None, 'message': None, 'timestamp':...   \n",
       "2  {'source': None, 'message': None, 'timestamp':...   \n",
       "\n",
       "                                            event_11  \n",
       "0  {'source': None, 'message': None, 'timestamp':...  \n",
       "1  {'source': None, 'message': None, 'timestamp':...  \n",
       "2  {'source': None, 'message': None, 'timestamp':...  "
      ]
     },
     "execution_count": 99,
     "metadata": {},
     "output_type": "execute_result"
    }
   ],
   "source": [
    "df.head(3)"
   ]
  },
  {
   "cell_type": "code",
   "execution_count": 100,
   "metadata": {},
   "outputs": [],
   "source": [
    "df1 = pd.DataFrame()\n",
    "i = 0\n",
    "for col in df.columns :\n",
    "    df1[[\n",
    "        'source_'+str(col),\n",
    "        'message_'+str(col),\n",
    "        'timestamp_'+str(col),\n",
    "        'criticality_'+str(col),\n",
    "        'identification_'+str(col)\n",
    "        ]] = pd.DataFrame(df.iloc[:,i].tolist(), index= df.index)\n",
    "    i += 1"
   ]
  },
  {
   "attachments": {},
   "cell_type": "markdown",
   "metadata": {},
   "source": [
    "#### Identification"
   ]
  },
  {
   "cell_type": "code",
   "execution_count": 101,
   "metadata": {},
   "outputs": [],
   "source": [
    "df2 = df1"
   ]
  },
  {
   "cell_type": "code",
   "execution_count": 102,
   "metadata": {},
   "outputs": [
    {
     "data": {
      "text/plain": [
       "{'identification_event_0': array([None, '391', None, ..., '330', None, None], dtype=object),\n",
       " 'identification_event_1': array([None, None, None, ..., None, None, None], dtype=object),\n",
       " 'identification_event_2': array([None, None, None, ..., None, None, None], dtype=object),\n",
       " 'identification_event_3': array([None, None, None, ..., None, None, None], dtype=object),\n",
       " 'identification_event_4': array([None, None, None, ..., None, None, None], dtype=object),\n",
       " 'identification_event_5': array([None, None, None, ..., None, None, None], dtype=object),\n",
       " 'identification_event_6': array([None, None, None, ..., None, None, None], dtype=object),\n",
       " 'identification_event_7': array([None, None, None, ..., None, None, None], dtype=object),\n",
       " 'identification_event_8': array([None, None, None, ..., None, None, None], dtype=object),\n",
       " 'identification_event_9': array([None, None, None, ..., None, None, None], dtype=object),\n",
       " 'identification_event_10': array([None, None, None, ..., None, None, None], dtype=object),\n",
       " 'identification_event_11': array([None, None, None, ..., None, None, None], dtype=object)}"
      ]
     },
     "execution_count": 102,
     "metadata": {},
     "output_type": "execute_result"
    }
   ],
   "source": [
    "identification_data = {}\n",
    "for col in df2.columns :\n",
    "    if 'identification_' in col :\n",
    "        identification_data[col] = df2[col].values\n",
    "identification_data"
   ]
  },
  {
   "cell_type": "code",
   "execution_count": 103,
   "metadata": {},
   "outputs": [],
   "source": [
    "identification_df = pd.DataFrame(identification_data, index=df2.index)"
   ]
  },
  {
   "attachments": {},
   "cell_type": "markdown",
   "metadata": {},
   "source": [
    "## Fusion dataframes"
   ]
  },
  {
   "cell_type": "code",
   "execution_count": 104,
   "metadata": {},
   "outputs": [],
   "source": [
    "# fusion des dataframes des colonnes fracionnées\n",
    "full_df = pd.merge(\n",
    "            pd.merge(\n",
    "                pd.merge(metrics_df, connected_operators_df, left_index=True, right_index=True), \n",
    "                    modules_df, left_index=True, right_index=True), \n",
    "                        df1, left_index=True, right_index=True)\n",
    "# suppression des colonnes fractionnées\n",
    "full_df.drop(['connected_operators','modules','events'], axis=1, inplace=True)\n",
    "# conversion de la colonne \"created_at\" au format Date\n",
    "full_df['created_at'] = pd.to_datetime(full_df['created_at'])\n",
    "# indexation du dataset avec les valeurs \"created_at\"\n",
    "full_df.index = full_df['created_at']\n",
    "# suppression de la colonne \"created_at\"\n",
    "del full_df['created_at']\n",
    "# sauvegarde du dataset en csv\n",
    "full_df.to_csv('../data/metrics/metrics_df.csv')"
   ]
  },
  {
   "cell_type": "code",
   "execution_count": 105,
   "metadata": {},
   "outputs": [
    {
     "data": {
      "text/html": [
       "<div>\n",
       "<style scoped>\n",
       "    .dataframe tbody tr th:only-of-type {\n",
       "        vertical-align: middle;\n",
       "    }\n",
       "\n",
       "    .dataframe tbody tr th {\n",
       "        vertical-align: top;\n",
       "    }\n",
       "\n",
       "    .dataframe thead th {\n",
       "        text-align: right;\n",
       "    }\n",
       "</style>\n",
       "<table border=\"1\" class=\"dataframe\">\n",
       "  <thead>\n",
       "    <tr style=\"text-align: right;\">\n",
       "      <th></th>\n",
       "      <th>id</th>\n",
       "      <th>status</th>\n",
       "      <th>varnishLevelsTargetvolume</th>\n",
       "      <th>varnishLevelsTotalvolume</th>\n",
       "      <th>operators_name</th>\n",
       "      <th>operators_level</th>\n",
       "      <th>VarnishPrinter_3DVarnishCounter</th>\n",
       "      <th>iFoil_TotalPagesCounter</th>\n",
       "      <th>source_event_0</th>\n",
       "      <th>message_event_0</th>\n",
       "      <th>...</th>\n",
       "      <th>source_event_10</th>\n",
       "      <th>message_event_10</th>\n",
       "      <th>timestamp_event_10</th>\n",
       "      <th>criticality_event_10</th>\n",
       "      <th>identification_event_10</th>\n",
       "      <th>source_event_11</th>\n",
       "      <th>message_event_11</th>\n",
       "      <th>timestamp_event_11</th>\n",
       "      <th>criticality_event_11</th>\n",
       "      <th>identification_event_11</th>\n",
       "    </tr>\n",
       "    <tr>\n",
       "      <th>created_at</th>\n",
       "      <th></th>\n",
       "      <th></th>\n",
       "      <th></th>\n",
       "      <th></th>\n",
       "      <th></th>\n",
       "      <th></th>\n",
       "      <th></th>\n",
       "      <th></th>\n",
       "      <th></th>\n",
       "      <th></th>\n",
       "      <th></th>\n",
       "      <th></th>\n",
       "      <th></th>\n",
       "      <th></th>\n",
       "      <th></th>\n",
       "      <th></th>\n",
       "      <th></th>\n",
       "      <th></th>\n",
       "      <th></th>\n",
       "      <th></th>\n",
       "      <th></th>\n",
       "    </tr>\n",
       "  </thead>\n",
       "  <tbody>\n",
       "    <tr>\n",
       "      <th>2022-04-15 05:55:06.678</th>\n",
       "      <td>4169748</td>\n",
       "      <td>WARNING</td>\n",
       "      <td>36192.322612</td>\n",
       "      <td>100000</td>\n",
       "      <td>Viktor</td>\n",
       "      <td>Operator</td>\n",
       "      <td>1792992</td>\n",
       "      <td>22881</td>\n",
       "      <td>None</td>\n",
       "      <td>None</td>\n",
       "      <td>...</td>\n",
       "      <td>None</td>\n",
       "      <td>None</td>\n",
       "      <td>None</td>\n",
       "      <td>None</td>\n",
       "      <td>None</td>\n",
       "      <td>None</td>\n",
       "      <td>None</td>\n",
       "      <td>None</td>\n",
       "      <td>None</td>\n",
       "      <td>None</td>\n",
       "    </tr>\n",
       "    <tr>\n",
       "      <th>2022-04-15 05:55:06.829</th>\n",
       "      <td>4169749</td>\n",
       "      <td>WARNING</td>\n",
       "      <td>36192.322612</td>\n",
       "      <td>100000</td>\n",
       "      <td>Viktor</td>\n",
       "      <td>Operator</td>\n",
       "      <td>1792992</td>\n",
       "      <td>22881</td>\n",
       "      <td>None</td>\n",
       "      <td>None</td>\n",
       "      <td>...</td>\n",
       "      <td>None</td>\n",
       "      <td>None</td>\n",
       "      <td>None</td>\n",
       "      <td>None</td>\n",
       "      <td>None</td>\n",
       "      <td>None</td>\n",
       "      <td>None</td>\n",
       "      <td>None</td>\n",
       "      <td>None</td>\n",
       "      <td>None</td>\n",
       "    </tr>\n",
       "    <tr>\n",
       "      <th>2022-04-15 05:55:14.494</th>\n",
       "      <td>4169753</td>\n",
       "      <td>WARNING</td>\n",
       "      <td>36192.322612</td>\n",
       "      <td>100000</td>\n",
       "      <td>Viktor</td>\n",
       "      <td>Operator</td>\n",
       "      <td>1792992</td>\n",
       "      <td>22881</td>\n",
       "      <td>None</td>\n",
       "      <td>None</td>\n",
       "      <td>...</td>\n",
       "      <td>None</td>\n",
       "      <td>None</td>\n",
       "      <td>None</td>\n",
       "      <td>None</td>\n",
       "      <td>None</td>\n",
       "      <td>None</td>\n",
       "      <td>None</td>\n",
       "      <td>None</td>\n",
       "      <td>None</td>\n",
       "      <td>None</td>\n",
       "    </tr>\n",
       "    <tr>\n",
       "      <th>2022-04-15 05:55:24.503</th>\n",
       "      <td>4169758</td>\n",
       "      <td>WARNING</td>\n",
       "      <td>36192.322612</td>\n",
       "      <td>100000</td>\n",
       "      <td>Viktor</td>\n",
       "      <td>Operator</td>\n",
       "      <td>1792992</td>\n",
       "      <td>22881</td>\n",
       "      <td>None</td>\n",
       "      <td>None</td>\n",
       "      <td>...</td>\n",
       "      <td>None</td>\n",
       "      <td>None</td>\n",
       "      <td>None</td>\n",
       "      <td>None</td>\n",
       "      <td>None</td>\n",
       "      <td>None</td>\n",
       "      <td>None</td>\n",
       "      <td>None</td>\n",
       "      <td>None</td>\n",
       "      <td>None</td>\n",
       "    </tr>\n",
       "    <tr>\n",
       "      <th>2022-04-15 05:55:34.515</th>\n",
       "      <td>4169763</td>\n",
       "      <td>WARNING</td>\n",
       "      <td>36192.322612</td>\n",
       "      <td>100000</td>\n",
       "      <td>Viktor</td>\n",
       "      <td>Operator</td>\n",
       "      <td>1792992</td>\n",
       "      <td>22881</td>\n",
       "      <td>None</td>\n",
       "      <td>None</td>\n",
       "      <td>...</td>\n",
       "      <td>None</td>\n",
       "      <td>None</td>\n",
       "      <td>None</td>\n",
       "      <td>None</td>\n",
       "      <td>None</td>\n",
       "      <td>None</td>\n",
       "      <td>None</td>\n",
       "      <td>None</td>\n",
       "      <td>None</td>\n",
       "      <td>None</td>\n",
       "    </tr>\n",
       "    <tr>\n",
       "      <th>...</th>\n",
       "      <td>...</td>\n",
       "      <td>...</td>\n",
       "      <td>...</td>\n",
       "      <td>...</td>\n",
       "      <td>...</td>\n",
       "      <td>...</td>\n",
       "      <td>...</td>\n",
       "      <td>...</td>\n",
       "      <td>...</td>\n",
       "      <td>...</td>\n",
       "      <td>...</td>\n",
       "      <td>...</td>\n",
       "      <td>...</td>\n",
       "      <td>...</td>\n",
       "      <td>...</td>\n",
       "      <td>...</td>\n",
       "      <td>...</td>\n",
       "      <td>...</td>\n",
       "      <td>...</td>\n",
       "      <td>...</td>\n",
       "      <td>...</td>\n",
       "    </tr>\n",
       "    <tr>\n",
       "      <th>2022-12-12 08:20:57.846</th>\n",
       "      <td>10909300</td>\n",
       "      <td>IDLE</td>\n",
       "      <td>89002.696800</td>\n",
       "      <td>100000</td>\n",
       "      <td>Viktor</td>\n",
       "      <td>Operator</td>\n",
       "      <td>2547041</td>\n",
       "      <td>55386</td>\n",
       "      <td>None</td>\n",
       "      <td>None</td>\n",
       "      <td>...</td>\n",
       "      <td>None</td>\n",
       "      <td>None</td>\n",
       "      <td>None</td>\n",
       "      <td>None</td>\n",
       "      <td>None</td>\n",
       "      <td>None</td>\n",
       "      <td>None</td>\n",
       "      <td>None</td>\n",
       "      <td>None</td>\n",
       "      <td>None</td>\n",
       "    </tr>\n",
       "    <tr>\n",
       "      <th>2022-12-12 08:21:08.067</th>\n",
       "      <td>10909304</td>\n",
       "      <td>IDLE</td>\n",
       "      <td>88999.004996</td>\n",
       "      <td>100000</td>\n",
       "      <td>Viktor</td>\n",
       "      <td>Operator</td>\n",
       "      <td>2547042</td>\n",
       "      <td>55387</td>\n",
       "      <td>PLC</td>\n",
       "      <td>En attente</td>\n",
       "      <td>...</td>\n",
       "      <td>None</td>\n",
       "      <td>None</td>\n",
       "      <td>None</td>\n",
       "      <td>None</td>\n",
       "      <td>None</td>\n",
       "      <td>None</td>\n",
       "      <td>None</td>\n",
       "      <td>None</td>\n",
       "      <td>None</td>\n",
       "      <td>None</td>\n",
       "    </tr>\n",
       "    <tr>\n",
       "      <th>2022-12-12 08:21:18.076</th>\n",
       "      <td>10909309</td>\n",
       "      <td>IDLE</td>\n",
       "      <td>88999.004996</td>\n",
       "      <td>100000</td>\n",
       "      <td>Viktor</td>\n",
       "      <td>Operator</td>\n",
       "      <td>2547042</td>\n",
       "      <td>55387</td>\n",
       "      <td>None</td>\n",
       "      <td>None</td>\n",
       "      <td>...</td>\n",
       "      <td>None</td>\n",
       "      <td>None</td>\n",
       "      <td>None</td>\n",
       "      <td>None</td>\n",
       "      <td>None</td>\n",
       "      <td>None</td>\n",
       "      <td>None</td>\n",
       "      <td>None</td>\n",
       "      <td>None</td>\n",
       "      <td>None</td>\n",
       "    </tr>\n",
       "    <tr>\n",
       "      <th>2022-12-12 08:21:28.092</th>\n",
       "      <td>10909314</td>\n",
       "      <td>IDLE</td>\n",
       "      <td>88999.004996</td>\n",
       "      <td>100000</td>\n",
       "      <td>Viktor</td>\n",
       "      <td>Operator</td>\n",
       "      <td>2547042</td>\n",
       "      <td>55387</td>\n",
       "      <td>None</td>\n",
       "      <td>None</td>\n",
       "      <td>...</td>\n",
       "      <td>None</td>\n",
       "      <td>None</td>\n",
       "      <td>None</td>\n",
       "      <td>None</td>\n",
       "      <td>None</td>\n",
       "      <td>None</td>\n",
       "      <td>None</td>\n",
       "      <td>None</td>\n",
       "      <td>None</td>\n",
       "      <td>None</td>\n",
       "    </tr>\n",
       "    <tr>\n",
       "      <th>2022-12-12 08:21:38.102</th>\n",
       "      <td>10909319</td>\n",
       "      <td>IDLE</td>\n",
       "      <td>88999.004996</td>\n",
       "      <td>100000</td>\n",
       "      <td>Viktor</td>\n",
       "      <td>Operator</td>\n",
       "      <td>2547042</td>\n",
       "      <td>55387</td>\n",
       "      <td>None</td>\n",
       "      <td>None</td>\n",
       "      <td>...</td>\n",
       "      <td>None</td>\n",
       "      <td>None</td>\n",
       "      <td>None</td>\n",
       "      <td>None</td>\n",
       "      <td>None</td>\n",
       "      <td>None</td>\n",
       "      <td>None</td>\n",
       "      <td>None</td>\n",
       "      <td>None</td>\n",
       "      <td>None</td>\n",
       "    </tr>\n",
       "  </tbody>\n",
       "</table>\n",
       "<p>1164430 rows × 68 columns</p>\n",
       "</div>"
      ],
      "text/plain": [
       "                               id   status  varnishLevelsTargetvolume  \\\n",
       "created_at                                                              \n",
       "2022-04-15 05:55:06.678   4169748  WARNING               36192.322612   \n",
       "2022-04-15 05:55:06.829   4169749  WARNING               36192.322612   \n",
       "2022-04-15 05:55:14.494   4169753  WARNING               36192.322612   \n",
       "2022-04-15 05:55:24.503   4169758  WARNING               36192.322612   \n",
       "2022-04-15 05:55:34.515   4169763  WARNING               36192.322612   \n",
       "...                           ...      ...                        ...   \n",
       "2022-12-12 08:20:57.846  10909300     IDLE               89002.696800   \n",
       "2022-12-12 08:21:08.067  10909304     IDLE               88999.004996   \n",
       "2022-12-12 08:21:18.076  10909309     IDLE               88999.004996   \n",
       "2022-12-12 08:21:28.092  10909314     IDLE               88999.004996   \n",
       "2022-12-12 08:21:38.102  10909319     IDLE               88999.004996   \n",
       "\n",
       "                         varnishLevelsTotalvolume operators_name  \\\n",
       "created_at                                                         \n",
       "2022-04-15 05:55:06.678                    100000         Viktor   \n",
       "2022-04-15 05:55:06.829                    100000         Viktor   \n",
       "2022-04-15 05:55:14.494                    100000         Viktor   \n",
       "2022-04-15 05:55:24.503                    100000         Viktor   \n",
       "2022-04-15 05:55:34.515                    100000         Viktor   \n",
       "...                                           ...            ...   \n",
       "2022-12-12 08:20:57.846                    100000         Viktor   \n",
       "2022-12-12 08:21:08.067                    100000         Viktor   \n",
       "2022-12-12 08:21:18.076                    100000         Viktor   \n",
       "2022-12-12 08:21:28.092                    100000         Viktor   \n",
       "2022-12-12 08:21:38.102                    100000         Viktor   \n",
       "\n",
       "                        operators_level  VarnishPrinter_3DVarnishCounter  \\\n",
       "created_at                                                                 \n",
       "2022-04-15 05:55:06.678        Operator                          1792992   \n",
       "2022-04-15 05:55:06.829        Operator                          1792992   \n",
       "2022-04-15 05:55:14.494        Operator                          1792992   \n",
       "2022-04-15 05:55:24.503        Operator                          1792992   \n",
       "2022-04-15 05:55:34.515        Operator                          1792992   \n",
       "...                                 ...                              ...   \n",
       "2022-12-12 08:20:57.846        Operator                          2547041   \n",
       "2022-12-12 08:21:08.067        Operator                          2547042   \n",
       "2022-12-12 08:21:18.076        Operator                          2547042   \n",
       "2022-12-12 08:21:28.092        Operator                          2547042   \n",
       "2022-12-12 08:21:38.102        Operator                          2547042   \n",
       "\n",
       "                         iFoil_TotalPagesCounter source_event_0  \\\n",
       "created_at                                                        \n",
       "2022-04-15 05:55:06.678                    22881           None   \n",
       "2022-04-15 05:55:06.829                    22881           None   \n",
       "2022-04-15 05:55:14.494                    22881           None   \n",
       "2022-04-15 05:55:24.503                    22881           None   \n",
       "2022-04-15 05:55:34.515                    22881           None   \n",
       "...                                          ...            ...   \n",
       "2022-12-12 08:20:57.846                    55386           None   \n",
       "2022-12-12 08:21:08.067                    55387            PLC   \n",
       "2022-12-12 08:21:18.076                    55387           None   \n",
       "2022-12-12 08:21:28.092                    55387           None   \n",
       "2022-12-12 08:21:38.102                    55387           None   \n",
       "\n",
       "                        message_event_0  ... source_event_10 message_event_10  \\\n",
       "created_at                               ...                                    \n",
       "2022-04-15 05:55:06.678            None  ...            None             None   \n",
       "2022-04-15 05:55:06.829            None  ...            None             None   \n",
       "2022-04-15 05:55:14.494            None  ...            None             None   \n",
       "2022-04-15 05:55:24.503            None  ...            None             None   \n",
       "2022-04-15 05:55:34.515            None  ...            None             None   \n",
       "...                                 ...  ...             ...              ...   \n",
       "2022-12-12 08:20:57.846            None  ...            None             None   \n",
       "2022-12-12 08:21:08.067      En attente  ...            None             None   \n",
       "2022-12-12 08:21:18.076            None  ...            None             None   \n",
       "2022-12-12 08:21:28.092            None  ...            None             None   \n",
       "2022-12-12 08:21:38.102            None  ...            None             None   \n",
       "\n",
       "                        timestamp_event_10 criticality_event_10  \\\n",
       "created_at                                                        \n",
       "2022-04-15 05:55:06.678               None                 None   \n",
       "2022-04-15 05:55:06.829               None                 None   \n",
       "2022-04-15 05:55:14.494               None                 None   \n",
       "2022-04-15 05:55:24.503               None                 None   \n",
       "2022-04-15 05:55:34.515               None                 None   \n",
       "...                                    ...                  ...   \n",
       "2022-12-12 08:20:57.846               None                 None   \n",
       "2022-12-12 08:21:08.067               None                 None   \n",
       "2022-12-12 08:21:18.076               None                 None   \n",
       "2022-12-12 08:21:28.092               None                 None   \n",
       "2022-12-12 08:21:38.102               None                 None   \n",
       "\n",
       "                        identification_event_10 source_event_11  \\\n",
       "created_at                                                        \n",
       "2022-04-15 05:55:06.678                    None            None   \n",
       "2022-04-15 05:55:06.829                    None            None   \n",
       "2022-04-15 05:55:14.494                    None            None   \n",
       "2022-04-15 05:55:24.503                    None            None   \n",
       "2022-04-15 05:55:34.515                    None            None   \n",
       "...                                         ...             ...   \n",
       "2022-12-12 08:20:57.846                    None            None   \n",
       "2022-12-12 08:21:08.067                    None            None   \n",
       "2022-12-12 08:21:18.076                    None            None   \n",
       "2022-12-12 08:21:28.092                    None            None   \n",
       "2022-12-12 08:21:38.102                    None            None   \n",
       "\n",
       "                        message_event_11 timestamp_event_11  \\\n",
       "created_at                                                    \n",
       "2022-04-15 05:55:06.678             None               None   \n",
       "2022-04-15 05:55:06.829             None               None   \n",
       "2022-04-15 05:55:14.494             None               None   \n",
       "2022-04-15 05:55:24.503             None               None   \n",
       "2022-04-15 05:55:34.515             None               None   \n",
       "...                                  ...                ...   \n",
       "2022-12-12 08:20:57.846             None               None   \n",
       "2022-12-12 08:21:08.067             None               None   \n",
       "2022-12-12 08:21:18.076             None               None   \n",
       "2022-12-12 08:21:28.092             None               None   \n",
       "2022-12-12 08:21:38.102             None               None   \n",
       "\n",
       "                        criticality_event_11 identification_event_11  \n",
       "created_at                                                            \n",
       "2022-04-15 05:55:06.678                 None                    None  \n",
       "2022-04-15 05:55:06.829                 None                    None  \n",
       "2022-04-15 05:55:14.494                 None                    None  \n",
       "2022-04-15 05:55:24.503                 None                    None  \n",
       "2022-04-15 05:55:34.515                 None                    None  \n",
       "...                                      ...                     ...  \n",
       "2022-12-12 08:20:57.846                 None                    None  \n",
       "2022-12-12 08:21:08.067                 None                    None  \n",
       "2022-12-12 08:21:18.076                 None                    None  \n",
       "2022-12-12 08:21:28.092                 None                    None  \n",
       "2022-12-12 08:21:38.102                 None                    None  \n",
       "\n",
       "[1164430 rows x 68 columns]"
      ]
     },
     "execution_count": 105,
     "metadata": {},
     "output_type": "execute_result"
    }
   ],
   "source": [
    "full_df"
   ]
  },
  {
   "cell_type": "code",
   "execution_count": 106,
   "metadata": {},
   "outputs": [],
   "source": [
    "# dataset temporaire\n",
    "temp_df = full_df\n",
    "temp_df.drop([\n",
    "       'source_event_0', 'message_event_0', 'timestamp_event_0',\n",
    "       'criticality_event_0', 'identification_event_0', 'source_event_1',\n",
    "       'message_event_1', 'timestamp_event_1', 'criticality_event_1',\n",
    "       'identification_event_1', 'source_event_2', 'message_event_2',\n",
    "       'timestamp_event_2', 'criticality_event_2', 'identification_event_2',\n",
    "       'source_event_3', 'message_event_3', 'timestamp_event_3',\n",
    "       'criticality_event_3', 'identification_event_3', 'source_event_4',\n",
    "       'message_event_4', 'timestamp_event_4', 'criticality_event_4',\n",
    "       'identification_event_4', 'source_event_5', 'message_event_5',\n",
    "       'timestamp_event_5', 'criticality_event_5', 'identification_event_5',\n",
    "       'source_event_6', 'message_event_6', 'timestamp_event_6',\n",
    "       'criticality_event_6', 'identification_event_6', 'source_event_7',\n",
    "       'message_event_7', 'timestamp_event_7', 'criticality_event_7',\n",
    "       'identification_event_7', 'source_event_8', 'message_event_8',\n",
    "       'timestamp_event_8', 'criticality_event_8', 'identification_event_8',\n",
    "       'source_event_9', 'message_event_9', 'timestamp_event_9',\n",
    "       'criticality_event_9', 'identification_event_9', 'source_event_10',\n",
    "       'message_event_10', 'timestamp_event_10', 'criticality_event_10',\n",
    "       'identification_event_10', 'source_event_11', 'message_event_11',\n",
    "       'timestamp_event_11', 'criticality_event_11',\n",
    "       'identification_event_11'], axis=1, inplace=True)\n",
    "temp_df.to_csv('../data/metrics/temp_metrics_df.csv')"
   ]
  },
  {
   "attachments": {},
   "cell_type": "markdown",
   "metadata": {},
   "source": [
    "## Data exploration"
   ]
  },
  {
   "cell_type": "code",
   "execution_count": 107,
   "metadata": {},
   "outputs": [],
   "source": [
    "def plot_timeseries(dataframe) :\n",
    "    dataframe.plot(figsize=(15, 6))\n",
    "    plt.savefig('../data/metrics/metrics_df.png')\n",
    "    plt.show()"
   ]
  },
  {
   "cell_type": "code",
   "execution_count": 110,
   "metadata": {},
   "outputs": [
    {
     "data": {
      "image/png": "[encoded data removed]",
      "text/plain": [
       "<Figure size 1500x600 with 1 Axes>"
      ]
     },
     "metadata": {},
     "output_type": "display_data"
    }
   ],
   "source": [
    "plot_timeseries(temp_df.drop(['id'], axis=1))"
   ]
  },
  {
   "cell_type": "code",
   "execution_count": 109,
   "metadata": {},
   "outputs": [],
   "source": [
    "# df = metrics_df.loc[:, ['created_at', 'varnishLevelsTargetvolume']]\n",
    "# # Set the Date as Index\n",
    "# df.created_at = pd.to_datetime(df.created_at)\n",
    "# df.index = df['created_at']\n",
    "# del df['created_at']\n",
    "# df.plot(figsize=(15, 6))\n",
    "# plt.show()"
   ]
  }
 ],
 "metadata": {
  "kernelspec": {
   "display_name": "Python 3.11.0 ('venv': venv)",
   "language": "python",
   "name": "python3"
  },
  "language_info": {
   "codemirror_mode": {
    "name": "ipython",
    "version": 3
   },
   "file_extension": ".py",
   "mimetype": "text/x-python",
   "name": "python",
   "nbconvert_exporter": "python",
   "pygments_lexer": "ipython3",
   "version": "3.11.0"
  },
  "orig_nbformat": 4,
  "vscode": {
   "interpreter": {
    "hash": "641716e2d83a1b48ea94de6ae288ab2fe5414e63c34b937b40deb4d555d5021e"
   }
  }
 },
 "nbformat": 4,
 "nbformat_minor": 2
}
