{
 "cells": [
  {
   "cell_type": "code",
   "execution_count": 13,
   "metadata": {},
   "outputs": [],
   "source": [
    "import numpy as np\n",
    "import matplotlib.pyplot as plt\n",
    "from matplotlib.dates import MonthLocator, DateFormatter\n",
    "import pandas as pd\n",
    "import seaborn as sns\n",
    "import matplotlib.dates as mdates\n",
    "from babel.dates import format_date\n",
    "\n",
    "\n",
    "\n",
    "\n",
    "#On indique à Pandas qu'on travaille sur une serie temporel en lui indiquant que notre index sera la colonne qui représente nos dates index_col='created_at'\n",
    "# Il faut aussi dire qu'il l'interprete comme un date parse_dates=True\n",
    "df = pd.read_csv('../data/metrics/temp_metrics_df.csv', index_col='created_at',parse_dates=True)\n",
    "# df = pd.read_csv('../data/metrics/temp_metrics_df.csv')"
   ]
  },
  {
   "cell_type": "code",
   "execution_count": 14,
   "metadata": {},
   "outputs": [
    {
     "data": {
      "text/html": [
       "<div>\n",
       "<style scoped>\n",
       "    .dataframe tbody tr th:only-of-type {\n",
       "        vertical-align: middle;\n",
       "    }\n",
       "\n",
       "    .dataframe tbody tr th {\n",
       "        vertical-align: top;\n",
       "    }\n",
       "\n",
       "    .dataframe thead th {\n",
       "        text-align: right;\n",
       "    }\n",
       "</style>\n",
       "<table border=\"1\" class=\"dataframe\">\n",
       "  <thead>\n",
       "    <tr style=\"text-align: right;\">\n",
       "      <th></th>\n",
       "      <th>id</th>\n",
       "      <th>status</th>\n",
       "      <th>created_at.1</th>\n",
       "      <th>varnishLevelsTargetvolume</th>\n",
       "      <th>varnishLevelsTotalvolume</th>\n",
       "      <th>operators_name</th>\n",
       "      <th>operators_level</th>\n",
       "      <th>VarnishPrinter_3DVarnishCounter</th>\n",
       "      <th>iFoil_TotalPagesCounter</th>\n",
       "      <th>events_id</th>\n",
       "    </tr>\n",
       "    <tr>\n",
       "      <th>created_at</th>\n",
       "      <th></th>\n",
       "      <th></th>\n",
       "      <th></th>\n",
       "      <th></th>\n",
       "      <th></th>\n",
       "      <th></th>\n",
       "      <th></th>\n",
       "      <th></th>\n",
       "      <th></th>\n",
       "      <th></th>\n",
       "    </tr>\n",
       "  </thead>\n",
       "  <tbody>\n",
       "    <tr>\n",
       "      <th>2022-04-15 05:55:06.678</th>\n",
       "      <td>4169748</td>\n",
       "      <td>WARNING</td>\n",
       "      <td>2022-04-15 05:55:06.678</td>\n",
       "      <td>36192.322612</td>\n",
       "      <td>100000</td>\n",
       "      <td>Viktor</td>\n",
       "      <td>Operator</td>\n",
       "      <td>1792992</td>\n",
       "      <td>22881</td>\n",
       "      <td>NaN</td>\n",
       "    </tr>\n",
       "    <tr>\n",
       "      <th>2022-04-15 05:55:06.829</th>\n",
       "      <td>4169749</td>\n",
       "      <td>WARNING</td>\n",
       "      <td>2022-04-15 05:55:06.829</td>\n",
       "      <td>36192.322612</td>\n",
       "      <td>100000</td>\n",
       "      <td>Viktor</td>\n",
       "      <td>Operator</td>\n",
       "      <td>1792992</td>\n",
       "      <td>22881</td>\n",
       "      <td>391</td>\n",
       "    </tr>\n",
       "    <tr>\n",
       "      <th>2022-04-15 05:55:14.494</th>\n",
       "      <td>4169753</td>\n",
       "      <td>WARNING</td>\n",
       "      <td>2022-04-15 05:55:14.494</td>\n",
       "      <td>36192.322612</td>\n",
       "      <td>100000</td>\n",
       "      <td>Viktor</td>\n",
       "      <td>Operator</td>\n",
       "      <td>1792992</td>\n",
       "      <td>22881</td>\n",
       "      <td>NaN</td>\n",
       "    </tr>\n",
       "    <tr>\n",
       "      <th>2022-04-15 05:55:24.503</th>\n",
       "      <td>4169758</td>\n",
       "      <td>WARNING</td>\n",
       "      <td>2022-04-15 05:55:24.503</td>\n",
       "      <td>36192.322612</td>\n",
       "      <td>100000</td>\n",
       "      <td>Viktor</td>\n",
       "      <td>Operator</td>\n",
       "      <td>1792992</td>\n",
       "      <td>22881</td>\n",
       "      <td>NaN</td>\n",
       "    </tr>\n",
       "    <tr>\n",
       "      <th>2022-04-15 05:55:34.515</th>\n",
       "      <td>4169763</td>\n",
       "      <td>WARNING</td>\n",
       "      <td>2022-04-15 05:55:34.515</td>\n",
       "      <td>36192.322612</td>\n",
       "      <td>100000</td>\n",
       "      <td>Viktor</td>\n",
       "      <td>Operator</td>\n",
       "      <td>1792992</td>\n",
       "      <td>22881</td>\n",
       "      <td>NaN</td>\n",
       "    </tr>\n",
       "  </tbody>\n",
       "</table>\n",
       "</div>"
      ],
      "text/plain": [
       "                              id   status             created_at.1  \\\n",
       "created_at                                                           \n",
       "2022-04-15 05:55:06.678  4169748  WARNING  2022-04-15 05:55:06.678   \n",
       "2022-04-15 05:55:06.829  4169749  WARNING  2022-04-15 05:55:06.829   \n",
       "2022-04-15 05:55:14.494  4169753  WARNING  2022-04-15 05:55:14.494   \n",
       "2022-04-15 05:55:24.503  4169758  WARNING  2022-04-15 05:55:24.503   \n",
       "2022-04-15 05:55:34.515  4169763  WARNING  2022-04-15 05:55:34.515   \n",
       "\n",
       "                         varnishLevelsTargetvolume  varnishLevelsTotalvolume  \\\n",
       "created_at                                                                     \n",
       "2022-04-15 05:55:06.678               36192.322612                    100000   \n",
       "2022-04-15 05:55:06.829               36192.322612                    100000   \n",
       "2022-04-15 05:55:14.494               36192.322612                    100000   \n",
       "2022-04-15 05:55:24.503               36192.322612                    100000   \n",
       "2022-04-15 05:55:34.515               36192.322612                    100000   \n",
       "\n",
       "                        operators_name operators_level  \\\n",
       "created_at                                               \n",
       "2022-04-15 05:55:06.678         Viktor        Operator   \n",
       "2022-04-15 05:55:06.829         Viktor        Operator   \n",
       "2022-04-15 05:55:14.494         Viktor        Operator   \n",
       "2022-04-15 05:55:24.503         Viktor        Operator   \n",
       "2022-04-15 05:55:34.515         Viktor        Operator   \n",
       "\n",
       "                         VarnishPrinter_3DVarnishCounter  \\\n",
       "created_at                                                 \n",
       "2022-04-15 05:55:06.678                          1792992   \n",
       "2022-04-15 05:55:06.829                          1792992   \n",
       "2022-04-15 05:55:14.494                          1792992   \n",
       "2022-04-15 05:55:24.503                          1792992   \n",
       "2022-04-15 05:55:34.515                          1792992   \n",
       "\n",
       "                         iFoil_TotalPagesCounter events_id  \n",
       "created_at                                                  \n",
       "2022-04-15 05:55:06.678                    22881       NaN  \n",
       "2022-04-15 05:55:06.829                    22881       391  \n",
       "2022-04-15 05:55:14.494                    22881       NaN  \n",
       "2022-04-15 05:55:24.503                    22881       NaN  \n",
       "2022-04-15 05:55:34.515                    22881       NaN  "
      ]
     },
     "execution_count": 14,
     "metadata": {},
     "output_type": "execute_result"
    }
   ],
   "source": [
    "df.head()"
   ]
  },
  {
   "cell_type": "code",
   "execution_count": 15,
   "metadata": {},
   "outputs": [
    {
     "data": {
      "text/plain": [
       "DatetimeIndex(['2022-04-15 05:55:06.678000', '2022-04-15 05:55:06.829000',\n",
       "               '2022-04-15 05:55:14.494000', '2022-04-15 05:55:24.503000',\n",
       "               '2022-04-15 05:55:34.515000', '2022-04-15 05:55:44.547000',\n",
       "               '2022-04-15 05:55:54.559000', '2022-04-15 05:56:04.570000',\n",
       "               '2022-04-15 05:56:14.586000', '2022-04-15 05:56:24.602000',\n",
       "               ...\n",
       "               '2022-12-12 08:20:07.769000', '2022-12-12 08:20:17.777000',\n",
       "               '2022-12-12 08:20:27.795000', '2022-12-12 08:20:37.813000',\n",
       "               '2022-12-12 08:20:47.870000', '2022-12-12 08:20:57.846000',\n",
       "               '2022-12-12 08:21:08.067000', '2022-12-12 08:21:18.076000',\n",
       "               '2022-12-12 08:21:28.092000', '2022-12-12 08:21:38.102000'],\n",
       "              dtype='datetime64[ns]', name='created_at', length=1164430, freq=None)"
      ]
     },
     "execution_count": 15,
     "metadata": {},
     "output_type": "execute_result"
    }
   ],
   "source": [
    "df.index"
   ]
  },
  {
   "cell_type": "code",
   "execution_count": 16,
   "metadata": {},
   "outputs": [
    {
     "data": {
      "text/plain": [
       "(1164430, 10)"
      ]
     },
     "execution_count": 16,
     "metadata": {},
     "output_type": "execute_result"
    }
   ],
   "source": [
    "df.shape\n"
   ]
  },
  {
   "cell_type": "code",
   "execution_count": 17,
   "metadata": {},
   "outputs": [],
   "source": [
    "df.dropna(inplace=True)"
   ]
  },
  {
   "cell_type": "code",
   "execution_count": 18,
   "metadata": {},
   "outputs": [
    {
     "data": {
      "text/plain": [
       "id        status   created_at.1             varnishLevelsTargetvolume  varnishLevelsTotalvolume  operators_name  operators_level  VarnishPrinter_3DVarnishCounter  iFoil_TotalPagesCounter  events_id   \n",
       "4169749   WARNING  2022-04-15 05:55:06.829  36192.322612               100000                    Viktor          Operator         1792992                          22881                    391             1\n",
       "8806783   IDLE     2022-09-30 00:14:08.349  70569.247632               100000                    Micka           Operator         2296316                          1502                     332,334         1\n",
       "8806731   IDLE     2022-09-30 00:05:23.976  70569.414969               100000                    Micka           Operator         2296301                          1487                     334             1\n",
       "8806733   IDLE     2022-09-30 00:05:44.012  70569.414969               100000                    Micka           Operator         2296301                          1487                     331             1\n",
       "8806735   IDLE     2022-09-30 00:06:04.031  70569.360470               100000                    Micka           Operator         2296301                          1487                     Kernel_Error    1\n",
       "                                                                                                                                                                                                           ..\n",
       "6181510   IDLE     2022-06-27 08:26:55.783  60124.188937               100000                    Viktor          Operator         2039199                          6795                     331             1\n",
       "6181537   IDLE     2022-06-27 08:27:25.837  60121.208426               100000                    Viktor          Operator         2039201                          6795                     330             1\n",
       "6181699   IDLE     2022-06-27 08:30:26.122  60121.208426               100000                    Viktor          Operator         2039201                          6797                     332             1\n",
       "6181708   IDLE     2022-06-27 08:30:36.162  60121.208426               100000                    Viktor          Operator         2039201                          6797                     334             1\n",
       "10909309  IDLE     2022-12-12 08:21:18.076  88999.004996               100000                    Viktor          Operator         2547042                          55387                    330             1\n",
       "Length: 63699, dtype: int64"
      ]
     },
     "execution_count": 18,
     "metadata": {},
     "output_type": "execute_result"
    }
   ],
   "source": [
    "df.value_counts()"
   ]
  },
  {
   "cell_type": "code",
   "execution_count": 19,
   "metadata": {},
   "outputs": [],
   "source": [
    "# df_events = df.drop(['created_at.1','varnishLevelsTargetvolume', 'varnishLevelsTotalvolume', 'operators_name', 'operators_level','VarnishPrinter_3DVarnishCounter','iFoil_TotalPagesCounter'], axis=1)\n",
    "\n",
    "# df_events"
   ]
  },
  {
   "cell_type": "code",
   "execution_count": 20,
   "metadata": {},
   "outputs": [],
   "source": [
    "# On Divise la colonne \"events_id\" en une liste de valeurs\n",
    "df[\"events_id\"] = df[\"events_id\"].apply(lambda x: x.split(','))\n"
   ]
  },
  {
   "attachments": {},
   "cell_type": "markdown",
   "metadata": {},
   "source": [
    "lambda x: x.split(','): Il s'agit d'une fonction lambda, c'est-à-dire une petite fonction anonyme (sans nom) en Python. Elle prend un seul argument x et, pour cette fonction lambda spécifique, x représente chaque élément (valeur) de la colonne events_id.\n",
    "\n",
    "La méthode .split(',') est une méthode de chaîne qui divise la chaîne d'entrée en une liste de sous-chaînes en fonction du délimiteur fourni, qui dans ce cas est une virgule ,. Ainsi, pour chaque élément de la colonne events_id, la fonction lambda divise la chaîne par le caractère virgule , et renvoie une liste de sous-chaînes."
   ]
  },
  {
   "cell_type": "code",
   "execution_count": 21,
   "metadata": {},
   "outputs": [
    {
     "name": "stdout",
     "output_type": "stream",
     "text": [
      "                               id   status             created_at.1  \\\n",
      "created_at                                                            \n",
      "2022-04-15 05:55:06.829   4169749  WARNING  2022-04-15 05:55:06.829   \n",
      "2022-04-15 06:06:35.404   4170152     IDLE  2022-04-15 06:06:35.404   \n",
      "2022-04-15 06:06:35.404   4170152     IDLE  2022-04-15 06:06:35.404   \n",
      "2022-04-15 06:07:05.443   4170167     IDLE  2022-04-15 06:07:05.443   \n",
      "2022-04-15 06:07:15.471   4170172     IDLE  2022-04-15 06:07:15.471   \n",
      "...                           ...      ...                      ...   \n",
      "2022-12-12 08:19:07.632  10909256     IDLE  2022-12-12 08:19:07.632   \n",
      "2022-12-12 08:19:07.632  10909256     IDLE  2022-12-12 08:19:07.632   \n",
      "2022-12-12 08:19:48.688  10909272     IDLE  2022-12-12 08:19:48.688   \n",
      "2022-12-12 08:20:17.777  10909284     IDLE  2022-12-12 08:20:17.777   \n",
      "2022-12-12 08:21:18.076  10909309     IDLE  2022-12-12 08:21:18.076   \n",
      "\n",
      "                         varnishLevelsTargetvolume  varnishLevelsTotalvolume  \\\n",
      "created_at                                                                     \n",
      "2022-04-15 05:55:06.829               36192.322612                    100000   \n",
      "2022-04-15 06:06:35.404               36192.322612                    100000   \n",
      "2022-04-15 06:06:35.404               36192.322612                    100000   \n",
      "2022-04-15 06:07:05.443               36192.322612                    100000   \n",
      "2022-04-15 06:07:15.471               36192.322612                    100000   \n",
      "...                                            ...                       ...   \n",
      "2022-12-12 08:19:07.632               89002.696800                    100000   \n",
      "2022-12-12 08:19:07.632               89002.696800                    100000   \n",
      "2022-12-12 08:19:48.688               89002.696800                    100000   \n",
      "2022-12-12 08:20:17.777               89002.696800                    100000   \n",
      "2022-12-12 08:21:18.076               88999.004996                    100000   \n",
      "\n",
      "                        operators_name operators_level  \\\n",
      "created_at                                               \n",
      "2022-04-15 05:55:06.829         Viktor        Operator   \n",
      "2022-04-15 06:06:35.404         Viktor        Operator   \n",
      "2022-04-15 06:06:35.404         Viktor        Operator   \n",
      "2022-04-15 06:07:05.443         Viktor        Operator   \n",
      "2022-04-15 06:07:15.471         Viktor        Operator   \n",
      "...                                ...             ...   \n",
      "2022-12-12 08:19:07.632         Viktor        Operator   \n",
      "2022-12-12 08:19:07.632         Viktor        Operator   \n",
      "2022-12-12 08:19:48.688         Viktor        Operator   \n",
      "2022-12-12 08:20:17.777         Viktor        Operator   \n",
      "2022-12-12 08:21:18.076         Viktor        Operator   \n",
      "\n",
      "                         VarnishPrinter_3DVarnishCounter  \\\n",
      "created_at                                                 \n",
      "2022-04-15 05:55:06.829                          1792992   \n",
      "2022-04-15 06:06:35.404                          1792992   \n",
      "2022-04-15 06:06:35.404                          1792992   \n",
      "2022-04-15 06:07:05.443                          1792992   \n",
      "2022-04-15 06:07:15.471                          1792992   \n",
      "...                                                  ...   \n",
      "2022-12-12 08:19:07.632                          2547039   \n",
      "2022-12-12 08:19:07.632                          2547039   \n",
      "2022-12-12 08:19:48.688                          2547039   \n",
      "2022-12-12 08:20:17.777                          2547039   \n",
      "2022-12-12 08:21:18.076                          2547042   \n",
      "\n",
      "                         iFoil_TotalPagesCounter events_id  \n",
      "created_at                                                  \n",
      "2022-04-15 05:55:06.829                    22881       391  \n",
      "2022-04-15 06:06:35.404                    22881       391  \n",
      "2022-04-15 06:06:35.404                    22881       330  \n",
      "2022-04-15 06:07:05.443                    22881       332  \n",
      "2022-04-15 06:07:15.471                    22881       377  \n",
      "...                                          ...       ...  \n",
      "2022-12-12 08:19:07.632                    55385       334  \n",
      "2022-12-12 08:19:07.632                    55385       333  \n",
      "2022-12-12 08:19:48.688                    55385       334  \n",
      "2022-12-12 08:20:17.777                    55385       331  \n",
      "2022-12-12 08:21:18.076                    55387       330  \n",
      "\n",
      "[81361 rows x 10 columns]\n"
     ]
    }
   ],
   "source": [
    "# On Utilise la fonction \"explode\" pour créer une nouvelle ligne pour chaque valeur de la colonne \"events_id\".\n",
    "df_exploded = df.explode(\"events_id\")\n",
    "print(df_exploded)"
   ]
  },
  {
   "cell_type": "code",
   "execution_count": 22,
   "metadata": {},
   "outputs": [
    {
     "data": {
      "text/plain": [
       "array(['391', '330', '332', '377', '333', '334', '331', 'Kernel_Error',\n",
       "       '315', '417', '406', '407', '352', '344',\n",
       "       'ICB communication error', '376', '445', '325', '343', '345',\n",
       "       '358', '453', '381', '354', '313', '447', '454', '387', '386',\n",
       "       '372', '371', '323', '480', '311', '479', '351', '440', '324',\n",
       "       '321', '0', '349', 'RCB communication error', '385', '357', '418',\n",
       "       '446', '355', '389', '476', '356', 'iFoil communication error',\n",
       "       '460', '472', '405', '380', '388', '408', '320', '329', '350',\n",
       "       '475', '466', '416', '411', '346', '471', '327', '430', '444', '2',\n",
       "       '326', '419', 'Pilot communication error', '359', '322', '384'],\n",
       "      dtype=object)"
      ]
     },
     "execution_count": 22,
     "metadata": {},
     "output_type": "execute_result"
    }
   ],
   "source": [
    "df_exploded['events_id'].unique()"
   ]
  },
  {
   "cell_type": "code",
   "execution_count": 23,
   "metadata": {},
   "outputs": [
    {
     "data": {
      "text/plain": [
       "331    16795\n",
       "330    16343\n",
       "334    10337\n",
       "332     7422\n",
       "377     6852\n",
       "       ...  \n",
       "349        2\n",
       "322        2\n",
       "327        1\n",
       "2          1\n",
       "419        1\n",
       "Name: events_id, Length: 76, dtype: int64"
      ]
     },
     "execution_count": 23,
     "metadata": {},
     "output_type": "execute_result"
    }
   ],
   "source": [
    "df_exploded['events_id'].value_counts()"
   ]
  },
  {
   "cell_type": "code",
   "execution_count": 27,
   "metadata": {},
   "outputs": [
    {
     "data": {
      "image/png": "[encoded data removed]",
      "text/plain": [
       "<Figure size 1500x600 with 1 Axes>"
      ]
     },
     "metadata": {},
     "output_type": "display_data"
    }
   ],
   "source": [
    "# On filtrer pour n'inclure que les lignes avec 'ERR' ou 'WARNING'.\n",
    "df_filtered = df_exploded[df_exploded['status'].isin(['ERR', 'WARNING'])]\n",
    "\n",
    "\n",
    "# Rééchantillonnage par mois et comptage du nombre d'events_id pour chaque mois.\n",
    "df_monthly_counts = df_filtered.resample('M')['events_id'].value_counts().rename('count').reset_index()\n",
    "\n",
    "# On groupe par la colonne \"created_at\" et on applique une fonction lambda à chaque groupe. \n",
    "# La fonction lambda prend les 5 premières lignes de chaque groupe sur la base de la colonne \"count\".\n",
    "df_top5_monthly = df_monthly_counts.groupby('created_at').apply(lambda x: x.nlargest(5, 'count')).reset_index(drop=True)\n",
    "\n",
    "# On convertie les dates en Français\n",
    "df_top5_monthly['Month'] = df_top5_monthly['created_at'].apply(lambda x: format_date(x, 'MMMM', locale='fr_FR'))\n",
    "\n",
    "# On affiche avec seaborn\n",
    "plt.figure(figsize=(15, 6))\n",
    "sns.barplot(x='Month', y='count', hue='events_id', data=df_top5_monthly)\n",
    "plt.title('Top 5 des évenements (WARNING ou ERROR) les plus récurents par mois')\n",
    "plt.xlabel('Mois')\n",
    "plt.ylabel('Nombre de detection')\n",
    "plt.legend(title='Events_ID')\n",
    "\n",
    "plt.show()"
   ]
  }
 ],
 "metadata": {
  "kernelspec": {
   "display_name": "Python 3",
   "language": "python",
   "name": "python3"
  },
  "language_info": {
   "codemirror_mode": {
    "name": "ipython",
    "version": 3
   },
   "file_extension": ".py",
   "mimetype": "text/x-python",
   "name": "python",
   "nbconvert_exporter": "python",
   "pygments_lexer": "ipython3",
   "version": "3.10.7"
  },
  "orig_nbformat": 4
 },
 "nbformat": 4,
 "nbformat_minor": 2
}
