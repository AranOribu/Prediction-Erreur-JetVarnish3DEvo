{
 "cells": [
  {
   "cell_type": "code",
   "execution_count": 27,
   "metadata": {},
   "outputs": [],
   "source": [
    "import os\n",
    "import json\n",
    "import pandas as pd\n",
    "import numpy as np\n"
   ]
  },
  {
   "cell_type": "code",
   "execution_count": 28,
   "metadata": {},
   "outputs": [],
   "source": [
    "# Chemin complet vers le csv servant de source.\n",
    "source_csv = '../data/metrics/raw_merge_metrics_dataset.csv'\n",
    "\n",
    "# Chemin de stockage des csv\n",
    "path = \"../data/metrics/\""
   ]
  },
  {
   "cell_type": "markdown",
   "metadata": {},
   "source": [
    "## <center>**Import du Dataset originel**<center>"
   ]
  },
  {
   "cell_type": "code",
   "execution_count": 29,
   "metadata": {},
   "outputs": [
    {
     "name": "stderr",
     "output_type": "stream",
     "text": [
      "C:\\Users\\Arthur\\AppData\\Local\\Temp\\ipykernel_14584\\3036002175.py:2: DtypeWarning: Columns (2,3,4,5,6) have mixed types. Specify dtype option on import or set low_memory=False.\n",
      "  df = pd.read_csv(source_csv, index_col=0).reset_index(drop=True).dropna(axis=1, how=\"all\")\n"
     ]
    }
   ],
   "source": [
    "# Création Dataframe\n",
    "df = pd.read_csv(source_csv, index_col=0).reset_index(drop=True).dropna(axis=1, how=\"all\")"
   ]
  },
  {
   "cell_type": "code",
   "execution_count": 30,
   "metadata": {},
   "outputs": [
    {
     "name": "stdout",
     "output_type": "stream",
     "text": [
      "<class 'pandas.core.frame.DataFrame'>\n",
      "RangeIndex: 3510431 entries, 0 to 3510430\n",
      "Data columns (total 17 columns):\n",
      " #   Column                     Dtype  \n",
      "---  ------                     -----  \n",
      " 0   id                         int64  \n",
      " 1   source_events              object \n",
      " 2   message_events             object \n",
      " 3   timestamp_events           object \n",
      " 4   criticality_events         object \n",
      " 5   identification_events      object \n",
      " 6   name_modules               object \n",
      " 7   type_modules               object \n",
      " 8   generation_modules         object \n",
      " 9   name_counters_modules      object \n",
      " 10  value_counters_modules     int64  \n",
      " 11  name_connected_operators   object \n",
      " 12  level_connected_operators  object \n",
      " 13  status                     object \n",
      " 14  created_at                 object \n",
      " 15  varnishLevelsTargetvolume  float64\n",
      " 16  varnishLevelsTotalvolume   int64  \n",
      "dtypes: float64(1), int64(3), object(13)\n",
      "memory usage: 455.3+ MB\n"
     ]
    },
    {
     "data": {
      "text/html": [
       "<div>\n",
       "<style scoped>\n",
       "    .dataframe tbody tr th:only-of-type {\n",
       "        vertical-align: middle;\n",
       "    }\n",
       "\n",
       "    .dataframe tbody tr th {\n",
       "        vertical-align: top;\n",
       "    }\n",
       "\n",
       "    .dataframe thead th {\n",
       "        text-align: right;\n",
       "    }\n",
       "</style>\n",
       "<table border=\"1\" class=\"dataframe\">\n",
       "  <thead>\n",
       "    <tr style=\"text-align: right;\">\n",
       "      <th></th>\n",
       "      <th>id</th>\n",
       "      <th>source_events</th>\n",
       "      <th>message_events</th>\n",
       "      <th>timestamp_events</th>\n",
       "      <th>criticality_events</th>\n",
       "      <th>identification_events</th>\n",
       "      <th>name_modules</th>\n",
       "      <th>type_modules</th>\n",
       "      <th>generation_modules</th>\n",
       "      <th>name_counters_modules</th>\n",
       "      <th>value_counters_modules</th>\n",
       "      <th>name_connected_operators</th>\n",
       "      <th>level_connected_operators</th>\n",
       "      <th>status</th>\n",
       "      <th>created_at</th>\n",
       "      <th>varnishLevelsTargetvolume</th>\n",
       "      <th>varnishLevelsTotalvolume</th>\n",
       "    </tr>\n",
       "  </thead>\n",
       "  <tbody>\n",
       "    <tr>\n",
       "      <th>0</th>\n",
       "      <td>4170152</td>\n",
       "      <td>iFoil</td>\n",
       "      <td>JV-Ti non prêt : impression impossible</td>\n",
       "      <td>2022-04-15T06:06:56.278Z</td>\n",
       "      <td>INFO</td>\n",
       "      <td>391</td>\n",
       "      <td>iFoil L</td>\n",
       "      <td>iFoil</td>\n",
       "      <td>Gen. 2</td>\n",
       "      <td>Total Pages Counter</td>\n",
       "      <td>22881</td>\n",
       "      <td>Viktor</td>\n",
       "      <td>Operator</td>\n",
       "      <td>IDLE</td>\n",
       "      <td>2022-04-15 06:06:35.404000</td>\n",
       "      <td>36192.322612</td>\n",
       "      <td>100000</td>\n",
       "    </tr>\n",
       "    <tr>\n",
       "      <th>1</th>\n",
       "      <td>4170152</td>\n",
       "      <td>iFoil</td>\n",
       "      <td>JV-Ti non prêt : impression impossible</td>\n",
       "      <td>2022-04-15T06:06:56.278Z</td>\n",
       "      <td>INFO</td>\n",
       "      <td>391</td>\n",
       "      <td>iFoil L</td>\n",
       "      <td>iFoil</td>\n",
       "      <td>Gen. 2</td>\n",
       "      <td>Foiled Pages Counter</td>\n",
       "      <td>31092</td>\n",
       "      <td>Viktor</td>\n",
       "      <td>Operator</td>\n",
       "      <td>IDLE</td>\n",
       "      <td>2022-04-15 06:06:35.404000</td>\n",
       "      <td>36192.322612</td>\n",
       "      <td>100000</td>\n",
       "    </tr>\n",
       "    <tr>\n",
       "      <th>2</th>\n",
       "      <td>4170152</td>\n",
       "      <td>PLC</td>\n",
       "      <td>En attente</td>\n",
       "      <td>2022-04-15T06:06:56.418Z</td>\n",
       "      <td>INFO</td>\n",
       "      <td>330</td>\n",
       "      <td>Print Engine 1</td>\n",
       "      <td>Varnish Printer</td>\n",
       "      <td>NaN</td>\n",
       "      <td>3D Varnish Counter</td>\n",
       "      <td>1792992</td>\n",
       "      <td>Viktor</td>\n",
       "      <td>Operator</td>\n",
       "      <td>IDLE</td>\n",
       "      <td>2022-04-15 06:06:35.404000</td>\n",
       "      <td>36192.322612</td>\n",
       "      <td>100000</td>\n",
       "    </tr>\n",
       "    <tr>\n",
       "      <th>3</th>\n",
       "      <td>4171311</td>\n",
       "      <td>iFoil</td>\n",
       "      <td>En attente</td>\n",
       "      <td>2022-04-15T06:40:40.321Z</td>\n",
       "      <td>INFO</td>\n",
       "      <td>330</td>\n",
       "      <td>iFoil L</td>\n",
       "      <td>iFoil</td>\n",
       "      <td>Gen. 2</td>\n",
       "      <td>Total Pages Counter</td>\n",
       "      <td>22883</td>\n",
       "      <td>Viktor</td>\n",
       "      <td>Operator</td>\n",
       "      <td>IDLE</td>\n",
       "      <td>2022-04-15 06:40:19.459000</td>\n",
       "      <td>36192.263131</td>\n",
       "      <td>100000</td>\n",
       "    </tr>\n",
       "    <tr>\n",
       "      <th>4</th>\n",
       "      <td>4171311</td>\n",
       "      <td>iFoil</td>\n",
       "      <td>En attente</td>\n",
       "      <td>2022-04-15T06:40:40.321Z</td>\n",
       "      <td>INFO</td>\n",
       "      <td>330</td>\n",
       "      <td>iFoil L</td>\n",
       "      <td>iFoil</td>\n",
       "      <td>Gen. 2</td>\n",
       "      <td>Foiled Pages Counter</td>\n",
       "      <td>31092</td>\n",
       "      <td>Viktor</td>\n",
       "      <td>Operator</td>\n",
       "      <td>IDLE</td>\n",
       "      <td>2022-04-15 06:40:19.459000</td>\n",
       "      <td>36192.263131</td>\n",
       "      <td>100000</td>\n",
       "    </tr>\n",
       "  </tbody>\n",
       "</table>\n",
       "</div>"
      ],
      "text/plain": [
       "        id source_events                           message_events  \\\n",
       "0  4170152         iFoil   JV-Ti non prêt : impression impossible   \n",
       "1  4170152         iFoil   JV-Ti non prêt : impression impossible   \n",
       "2  4170152           PLC                               En attente   \n",
       "3  4171311         iFoil                               En attente   \n",
       "4  4171311         iFoil                               En attente   \n",
       "\n",
       "           timestamp_events criticality_events identification_events  \\\n",
       "0  2022-04-15T06:06:56.278Z               INFO                   391   \n",
       "1  2022-04-15T06:06:56.278Z               INFO                   391   \n",
       "2  2022-04-15T06:06:56.418Z               INFO                   330   \n",
       "3  2022-04-15T06:40:40.321Z               INFO                   330   \n",
       "4  2022-04-15T06:40:40.321Z               INFO                   330   \n",
       "\n",
       "     name_modules     type_modules generation_modules name_counters_modules  \\\n",
       "0         iFoil L            iFoil             Gen. 2   Total Pages Counter   \n",
       "1         iFoil L            iFoil             Gen. 2  Foiled Pages Counter   \n",
       "2  Print Engine 1  Varnish Printer                NaN    3D Varnish Counter   \n",
       "3         iFoil L            iFoil             Gen. 2   Total Pages Counter   \n",
       "4         iFoil L            iFoil             Gen. 2  Foiled Pages Counter   \n",
       "\n",
       "   value_counters_modules name_connected_operators level_connected_operators  \\\n",
       "0                   22881                   Viktor                  Operator   \n",
       "1                   31092                   Viktor                  Operator   \n",
       "2                 1792992                   Viktor                  Operator   \n",
       "3                   22883                   Viktor                  Operator   \n",
       "4                   31092                   Viktor                  Operator   \n",
       "\n",
       "  status                  created_at  varnishLevelsTargetvolume  \\\n",
       "0   IDLE  2022-04-15 06:06:35.404000               36192.322612   \n",
       "1   IDLE  2022-04-15 06:06:35.404000               36192.322612   \n",
       "2   IDLE  2022-04-15 06:06:35.404000               36192.322612   \n",
       "3   IDLE  2022-04-15 06:40:19.459000               36192.263131   \n",
       "4   IDLE  2022-04-15 06:40:19.459000               36192.263131   \n",
       "\n",
       "   varnishLevelsTotalvolume  \n",
       "0                    100000  \n",
       "1                    100000  \n",
       "2                    100000  \n",
       "3                    100000  \n",
       "4                    100000  "
      ]
     },
     "execution_count": 30,
     "metadata": {},
     "output_type": "execute_result"
    }
   ],
   "source": [
    "df.info()\n",
    "df.head()"
   ]
  },
  {
   "cell_type": "markdown",
   "metadata": {},
   "source": [
    "## <center>**Préparation du Dataset**<center>\n",
    "\n",
    "### I - Imputation des données manquantes et suppression des colonnes inutiles "
   ]
  },
  {
   "cell_type": "code",
   "execution_count": 31,
   "metadata": {},
   "outputs": [],
   "source": [
    "# création d'une liste de colonnes à suppr\n",
    "drop_col = [\"id\", \"message_events\"]"
   ]
  },
  {
   "cell_type": "code",
   "execution_count": 32,
   "metadata": {},
   "outputs": [],
   "source": [
    "# Renommage de la colonne \"timestamp_events\"\n",
    "if \"timestamp_events\" in df :\n",
    "    df = df.rename(columns={\"timestamp_events\" : \"timestamp\"})"
   ]
  },
  {
   "cell_type": "code",
   "execution_count": 33,
   "metadata": {},
   "outputs": [],
   "source": [
    "# Remplacement les données manquants dans la colonne \"timestamp_events\" par les timestamp de la colonne \"created_at\"\n",
    "df.timestamp = df.timestamp.fillna(df[\"created_at\"])"
   ]
  },
  {
   "cell_type": "code",
   "execution_count": 34,
   "metadata": {},
   "outputs": [
    {
     "name": "stdout",
     "output_type": "stream",
     "text": [
      "['id', 'message_events', 'created_at', 'name_modules', 'generation_modules', 'status']\n"
     ]
    }
   ],
   "source": [
    "# ajout des colonnes redondante à la liste de colonnes a suppr\n",
    "if \"created_at\" not in drop_col :\n",
    "    drop_col.append(\"created_at\")\n",
    "if \"name_modules\" not in drop_col :\n",
    "    drop_col.append(\"name_modules\")\n",
    "if \"generation_modules\" not in drop_col :\n",
    "    drop_col.append(\"generation_modules\")\n",
    "if \"status\" not in drop_col :\n",
    "    drop_col.append(\"status\")\n",
    "\n",
    "print(drop_col)\n"
   ]
  },
  {
   "cell_type": "code",
   "execution_count": 35,
   "metadata": {},
   "outputs": [],
   "source": [
    "df = df.drop(drop_col, axis=1)"
   ]
  },
  {
   "cell_type": "code",
   "execution_count": 36,
   "metadata": {},
   "outputs": [
    {
     "data": {
      "text/html": [
       "<div>\n",
       "<style scoped>\n",
       "    .dataframe tbody tr th:only-of-type {\n",
       "        vertical-align: middle;\n",
       "    }\n",
       "\n",
       "    .dataframe tbody tr th {\n",
       "        vertical-align: top;\n",
       "    }\n",
       "\n",
       "    .dataframe thead th {\n",
       "        text-align: right;\n",
       "    }\n",
       "</style>\n",
       "<table border=\"1\" class=\"dataframe\">\n",
       "  <thead>\n",
       "    <tr style=\"text-align: right;\">\n",
       "      <th></th>\n",
       "      <th>source_events</th>\n",
       "      <th>timestamp</th>\n",
       "      <th>criticality_events</th>\n",
       "      <th>identification_events</th>\n",
       "      <th>type_modules</th>\n",
       "      <th>name_counters_modules</th>\n",
       "      <th>value_counters_modules</th>\n",
       "      <th>name_connected_operators</th>\n",
       "      <th>level_connected_operators</th>\n",
       "      <th>varnishLevelsTargetvolume</th>\n",
       "      <th>varnishLevelsTotalvolume</th>\n",
       "    </tr>\n",
       "  </thead>\n",
       "  <tbody>\n",
       "    <tr>\n",
       "      <th>0</th>\n",
       "      <td>iFoil</td>\n",
       "      <td>2022-04-15T06:06:56.278Z</td>\n",
       "      <td>INFO</td>\n",
       "      <td>391</td>\n",
       "      <td>iFoil</td>\n",
       "      <td>Total Pages Counter</td>\n",
       "      <td>22881</td>\n",
       "      <td>Viktor</td>\n",
       "      <td>Operator</td>\n",
       "      <td>36192.322612</td>\n",
       "      <td>100000</td>\n",
       "    </tr>\n",
       "    <tr>\n",
       "      <th>1</th>\n",
       "      <td>iFoil</td>\n",
       "      <td>2022-04-15T06:06:56.278Z</td>\n",
       "      <td>INFO</td>\n",
       "      <td>391</td>\n",
       "      <td>iFoil</td>\n",
       "      <td>Foiled Pages Counter</td>\n",
       "      <td>31092</td>\n",
       "      <td>Viktor</td>\n",
       "      <td>Operator</td>\n",
       "      <td>36192.322612</td>\n",
       "      <td>100000</td>\n",
       "    </tr>\n",
       "    <tr>\n",
       "      <th>2</th>\n",
       "      <td>PLC</td>\n",
       "      <td>2022-04-15T06:06:56.418Z</td>\n",
       "      <td>INFO</td>\n",
       "      <td>330</td>\n",
       "      <td>Varnish Printer</td>\n",
       "      <td>3D Varnish Counter</td>\n",
       "      <td>1792992</td>\n",
       "      <td>Viktor</td>\n",
       "      <td>Operator</td>\n",
       "      <td>36192.322612</td>\n",
       "      <td>100000</td>\n",
       "    </tr>\n",
       "    <tr>\n",
       "      <th>3</th>\n",
       "      <td>iFoil</td>\n",
       "      <td>2022-04-15T06:40:40.321Z</td>\n",
       "      <td>INFO</td>\n",
       "      <td>330</td>\n",
       "      <td>iFoil</td>\n",
       "      <td>Total Pages Counter</td>\n",
       "      <td>22883</td>\n",
       "      <td>Viktor</td>\n",
       "      <td>Operator</td>\n",
       "      <td>36192.263131</td>\n",
       "      <td>100000</td>\n",
       "    </tr>\n",
       "    <tr>\n",
       "      <th>4</th>\n",
       "      <td>iFoil</td>\n",
       "      <td>2022-04-15T06:40:40.321Z</td>\n",
       "      <td>INFO</td>\n",
       "      <td>330</td>\n",
       "      <td>iFoil</td>\n",
       "      <td>Foiled Pages Counter</td>\n",
       "      <td>31092</td>\n",
       "      <td>Viktor</td>\n",
       "      <td>Operator</td>\n",
       "      <td>36192.263131</td>\n",
       "      <td>100000</td>\n",
       "    </tr>\n",
       "  </tbody>\n",
       "</table>\n",
       "</div>"
      ],
      "text/plain": [
       "  source_events                 timestamp criticality_events  \\\n",
       "0         iFoil  2022-04-15T06:06:56.278Z               INFO   \n",
       "1         iFoil  2022-04-15T06:06:56.278Z               INFO   \n",
       "2           PLC  2022-04-15T06:06:56.418Z               INFO   \n",
       "3         iFoil  2022-04-15T06:40:40.321Z               INFO   \n",
       "4         iFoil  2022-04-15T06:40:40.321Z               INFO   \n",
       "\n",
       "  identification_events     type_modules name_counters_modules  \\\n",
       "0                   391            iFoil   Total Pages Counter   \n",
       "1                   391            iFoil  Foiled Pages Counter   \n",
       "2                   330  Varnish Printer    3D Varnish Counter   \n",
       "3                   330            iFoil   Total Pages Counter   \n",
       "4                   330            iFoil  Foiled Pages Counter   \n",
       "\n",
       "   value_counters_modules name_connected_operators level_connected_operators  \\\n",
       "0                   22881                   Viktor                  Operator   \n",
       "1                   31092                   Viktor                  Operator   \n",
       "2                 1792992                   Viktor                  Operator   \n",
       "3                   22883                   Viktor                  Operator   \n",
       "4                   31092                   Viktor                  Operator   \n",
       "\n",
       "   varnishLevelsTargetvolume  varnishLevelsTotalvolume  \n",
       "0               36192.322612                    100000  \n",
       "1               36192.322612                    100000  \n",
       "2               36192.322612                    100000  \n",
       "3               36192.263131                    100000  \n",
       "4               36192.263131                    100000  "
      ]
     },
     "execution_count": 36,
     "metadata": {},
     "output_type": "execute_result"
    }
   ],
   "source": [
    "df.head()"
   ]
  },
  {
   "cell_type": "code",
   "execution_count": 37,
   "metadata": {},
   "outputs": [
    {
     "data": {
      "text/plain": [
       "True"
      ]
     },
     "execution_count": 37,
     "metadata": {},
     "output_type": "execute_result"
    }
   ],
   "source": [
    "# Vérification de la présence de NaN dans la colonne \"identification_events\"\n",
    "df[\"identification_events\"].isnull().values.any()"
   ]
  },
  {
   "cell_type": "code",
   "execution_count": 38,
   "metadata": {},
   "outputs": [],
   "source": [
    "df.identification_events = df.identification_events.replace(np.nan, 200)"
   ]
  },
  {
   "cell_type": "markdown",
   "metadata": {},
   "source": [
    "### II - Modification des données textuelles en données numériques et encodage"
   ]
  },
  {
   "cell_type": "code",
   "execution_count": 39,
   "metadata": {},
   "outputs": [
    {
     "name": "stdout",
     "output_type": "stream",
     "text": [
      "<class 'pandas.core.frame.DataFrame'>\n",
      "RangeIndex: 3510431 entries, 0 to 3510430\n",
      "Data columns (total 11 columns):\n",
      " #   Column                     Dtype  \n",
      "---  ------                     -----  \n",
      " 0   source_events              object \n",
      " 1   timestamp                  object \n",
      " 2   criticality_events         object \n",
      " 3   identification_events      object \n",
      " 4   type_modules               object \n",
      " 5   name_counters_modules      object \n",
      " 6   value_counters_modules     int64  \n",
      " 7   name_connected_operators   object \n",
      " 8   level_connected_operators  object \n",
      " 9   varnishLevelsTargetvolume  float64\n",
      " 10  varnishLevelsTotalvolume   int64  \n",
      "dtypes: float64(1), int64(2), object(8)\n",
      "memory usage: 294.6+ MB\n"
     ]
    }
   ],
   "source": [
    "df.info()"
   ]
  },
  {
   "cell_type": "markdown",
   "metadata": {},
   "source": [
    "#### 1 - Colonne \"timestamp\""
   ]
  },
  {
   "cell_type": "code",
   "execution_count": 40,
   "metadata": {},
   "outputs": [],
   "source": [
    "# transformation en datetime\n",
    "df.timestamp = pd.to_datetime(df.timestamp, utc=True)"
   ]
  },
  {
   "cell_type": "markdown",
   "metadata": {},
   "source": [
    "#### 2 - Colonne \"criticality_events\""
   ]
  },
  {
   "cell_type": "code",
   "execution_count": 41,
   "metadata": {},
   "outputs": [],
   "source": [
    "# on remplace dans le dataframe les valeurs du type 'str' avec un code\n",
    "df.criticality_events = df.criticality_events.fillna(\"UNDEFINED\")"
   ]
  },
  {
   "cell_type": "markdown",
   "metadata": {},
   "source": [
    "#### 3 - Colonne \"identification_events\""
   ]
  },
  {
   "cell_type": "code",
   "execution_count": 42,
   "metadata": {},
   "outputs": [
    {
     "data": {
      "text/plain": [
       "array(['391', '330', '377', 200, '407', '332', '331', '313', '333', '376',\n",
       "       '454', '323', '480', '386', '479', '372', 'Kernel_Error', '344',\n",
       "       '343', '445', '352', '324', '321', '385', '354', '355', '440',\n",
       "       '371', '358', '357', '334', '381', '311', '453',\n",
       "       'iFoil communication error', '472', '356', '405', '387', '447',\n",
       "       '0', 'RCB communication error', '380', '388', '460',\n",
       "       'ICB communication error', '411', '408', '471', '325', '320',\n",
       "       '430', '406', '417', '444', '329', '446',\n",
       "       'Pilot communication error', '359', '315', '384', '322', '345',\n",
       "       '351', '349', '418', '389', '476', '350', '475', '466', '416',\n",
       "       '346', 445.0, 391.0, '327', 430.0, '2', '326', '419', 333.0, 332.0,\n",
       "       330.0, 334.0, 331.0, 377.0, 315.0, 406.0, 407.0, 376.0, 325.0,\n",
       "       454.0, 313.0, 352.0, 344.0, 385.0, 371.0, 386.0], dtype=object)"
      ]
     },
     "execution_count": 42,
     "metadata": {},
     "output_type": "execute_result"
    }
   ],
   "source": [
    "df.identification_events.unique()"
   ]
  },
  {
   "cell_type": "code",
   "execution_count": 43,
   "metadata": {},
   "outputs": [
    {
     "data": {
      "text/plain": [
       "{'Kernel_Error': 500,\n",
       " 'iFoil communication error': 501,\n",
       " 'RCB communication error': 502,\n",
       " 'ICB communication error': 503,\n",
       " 'Pilot communication error': 504}"
      ]
     },
     "execution_count": 43,
     "metadata": {},
     "output_type": "execute_result"
    }
   ],
   "source": [
    "# Encodage des 5 id textuelles\n",
    "events_id = []\n",
    "str_code_dict = {}\n",
    "str_code = 500\n",
    "for id in list(df['identification_events'].unique()) :\n",
    "    try:\n",
    "        events_id.append(int(id))\n",
    "    except ValueError:\n",
    "        str_code_dict[id] = str_code\n",
    "        events_id.append(str_code)\n",
    "        str_code += 1\n",
    "str_code_dict"
   ]
  },
  {
   "cell_type": "code",
   "execution_count": 44,
   "metadata": {},
   "outputs": [],
   "source": [
    "# on remplace dans le dataframe les valeurs des id textuelles par leur code correspondant\n",
    "df.identification_events = df.identification_events.replace(str_code_dict)\n",
    "# on converti toutes les valeurs en int64\n",
    "df.identification_events = pd.to_numeric(df.identification_events).astype('int64')"
   ]
  },
  {
   "cell_type": "code",
   "execution_count": 45,
   "metadata": {},
   "outputs": [
    {
     "data": {
      "text/plain": [
       "array([391, 330, 377, 200, 407, 332, 331, 313, 333, 376, 454, 323, 480,\n",
       "       386, 479, 372, 500, 344, 343, 445, 352, 324, 321, 385, 354, 355,\n",
       "       440, 371, 358, 357, 334, 381, 311, 453, 501, 472, 356, 405, 387,\n",
       "       447,   0, 502, 380, 388, 460, 503, 411, 408, 471, 325, 320, 430,\n",
       "       406, 417, 444, 329, 446, 504, 359, 315, 384, 322, 345, 351, 349,\n",
       "       418, 389, 476, 350, 475, 466, 416, 346, 327,   2, 326, 419],\n",
       "      dtype=int64)"
      ]
     },
     "execution_count": 45,
     "metadata": {},
     "output_type": "execute_result"
    }
   ],
   "source": [
    "df.identification_events.unique()"
   ]
  },
  {
   "cell_type": "code",
   "execution_count": 46,
   "metadata": {},
   "outputs": [
    {
     "name": "stdout",
     "output_type": "stream",
     "text": [
      "<class 'pandas.core.frame.DataFrame'>\n",
      "RangeIndex: 3510431 entries, 0 to 3510430\n",
      "Data columns (total 11 columns):\n",
      " #   Column                     Dtype              \n",
      "---  ------                     -----              \n",
      " 0   source_events              object             \n",
      " 1   timestamp                  datetime64[ns, UTC]\n",
      " 2   criticality_events         object             \n",
      " 3   identification_events      int64              \n",
      " 4   type_modules               object             \n",
      " 5   name_counters_modules      object             \n",
      " 6   value_counters_modules     int64              \n",
      " 7   name_connected_operators   object             \n",
      " 8   level_connected_operators  object             \n",
      " 9   varnishLevelsTargetvolume  float64            \n",
      " 10  varnishLevelsTotalvolume   int64              \n",
      "dtypes: datetime64[ns, UTC](1), float64(1), int64(3), object(6)\n",
      "memory usage: 294.6+ MB\n"
     ]
    }
   ],
   "source": [
    "df.info()"
   ]
  },
  {
   "cell_type": "code",
   "execution_count": 47,
   "metadata": {},
   "outputs": [
    {
     "data": {
      "text/html": [
       "<div>\n",
       "<style scoped>\n",
       "    .dataframe tbody tr th:only-of-type {\n",
       "        vertical-align: middle;\n",
       "    }\n",
       "\n",
       "    .dataframe tbody tr th {\n",
       "        vertical-align: top;\n",
       "    }\n",
       "\n",
       "    .dataframe thead th {\n",
       "        text-align: right;\n",
       "    }\n",
       "</style>\n",
       "<table border=\"1\" class=\"dataframe\">\n",
       "  <thead>\n",
       "    <tr style=\"text-align: right;\">\n",
       "      <th></th>\n",
       "      <th>source_events</th>\n",
       "      <th>timestamp</th>\n",
       "      <th>criticality_events</th>\n",
       "      <th>identification_events</th>\n",
       "      <th>type_modules</th>\n",
       "      <th>name_counters_modules</th>\n",
       "      <th>value_counters_modules</th>\n",
       "      <th>name_connected_operators</th>\n",
       "      <th>level_connected_operators</th>\n",
       "      <th>varnishLevelsTargetvolume</th>\n",
       "      <th>varnishLevelsTotalvolume</th>\n",
       "    </tr>\n",
       "  </thead>\n",
       "  <tbody>\n",
       "    <tr>\n",
       "      <th>0</th>\n",
       "      <td>iFoil</td>\n",
       "      <td>2022-04-15 06:06:56.278000+00:00</td>\n",
       "      <td>INFO</td>\n",
       "      <td>391</td>\n",
       "      <td>iFoil</td>\n",
       "      <td>Total Pages Counter</td>\n",
       "      <td>22881</td>\n",
       "      <td>Viktor</td>\n",
       "      <td>Operator</td>\n",
       "      <td>36192.322612</td>\n",
       "      <td>100000</td>\n",
       "    </tr>\n",
       "    <tr>\n",
       "      <th>1</th>\n",
       "      <td>iFoil</td>\n",
       "      <td>2022-04-15 06:06:56.278000+00:00</td>\n",
       "      <td>INFO</td>\n",
       "      <td>391</td>\n",
       "      <td>iFoil</td>\n",
       "      <td>Foiled Pages Counter</td>\n",
       "      <td>31092</td>\n",
       "      <td>Viktor</td>\n",
       "      <td>Operator</td>\n",
       "      <td>36192.322612</td>\n",
       "      <td>100000</td>\n",
       "    </tr>\n",
       "    <tr>\n",
       "      <th>2</th>\n",
       "      <td>PLC</td>\n",
       "      <td>2022-04-15 06:06:56.418000+00:00</td>\n",
       "      <td>INFO</td>\n",
       "      <td>330</td>\n",
       "      <td>Varnish Printer</td>\n",
       "      <td>3D Varnish Counter</td>\n",
       "      <td>1792992</td>\n",
       "      <td>Viktor</td>\n",
       "      <td>Operator</td>\n",
       "      <td>36192.322612</td>\n",
       "      <td>100000</td>\n",
       "    </tr>\n",
       "    <tr>\n",
       "      <th>3</th>\n",
       "      <td>iFoil</td>\n",
       "      <td>2022-04-15 06:40:40.321000+00:00</td>\n",
       "      <td>INFO</td>\n",
       "      <td>330</td>\n",
       "      <td>iFoil</td>\n",
       "      <td>Total Pages Counter</td>\n",
       "      <td>22883</td>\n",
       "      <td>Viktor</td>\n",
       "      <td>Operator</td>\n",
       "      <td>36192.263131</td>\n",
       "      <td>100000</td>\n",
       "    </tr>\n",
       "    <tr>\n",
       "      <th>4</th>\n",
       "      <td>iFoil</td>\n",
       "      <td>2022-04-15 06:40:40.321000+00:00</td>\n",
       "      <td>INFO</td>\n",
       "      <td>330</td>\n",
       "      <td>iFoil</td>\n",
       "      <td>Foiled Pages Counter</td>\n",
       "      <td>31092</td>\n",
       "      <td>Viktor</td>\n",
       "      <td>Operator</td>\n",
       "      <td>36192.263131</td>\n",
       "      <td>100000</td>\n",
       "    </tr>\n",
       "  </tbody>\n",
       "</table>\n",
       "</div>"
      ],
      "text/plain": [
       "  source_events                        timestamp criticality_events  \\\n",
       "0         iFoil 2022-04-15 06:06:56.278000+00:00               INFO   \n",
       "1         iFoil 2022-04-15 06:06:56.278000+00:00               INFO   \n",
       "2           PLC 2022-04-15 06:06:56.418000+00:00               INFO   \n",
       "3         iFoil 2022-04-15 06:40:40.321000+00:00               INFO   \n",
       "4         iFoil 2022-04-15 06:40:40.321000+00:00               INFO   \n",
       "\n",
       "   identification_events     type_modules name_counters_modules  \\\n",
       "0                    391            iFoil   Total Pages Counter   \n",
       "1                    391            iFoil  Foiled Pages Counter   \n",
       "2                    330  Varnish Printer    3D Varnish Counter   \n",
       "3                    330            iFoil   Total Pages Counter   \n",
       "4                    330            iFoil  Foiled Pages Counter   \n",
       "\n",
       "   value_counters_modules name_connected_operators level_connected_operators  \\\n",
       "0                   22881                   Viktor                  Operator   \n",
       "1                   31092                   Viktor                  Operator   \n",
       "2                 1792992                   Viktor                  Operator   \n",
       "3                   22883                   Viktor                  Operator   \n",
       "4                   31092                   Viktor                  Operator   \n",
       "\n",
       "   varnishLevelsTargetvolume  varnishLevelsTotalvolume  \n",
       "0               36192.322612                    100000  \n",
       "1               36192.322612                    100000  \n",
       "2               36192.322612                    100000  \n",
       "3               36192.263131                    100000  \n",
       "4               36192.263131                    100000  "
      ]
     },
     "execution_count": 47,
     "metadata": {},
     "output_type": "execute_result"
    }
   ],
   "source": [
    "df.head()"
   ]
  },
  {
   "cell_type": "markdown",
   "metadata": {},
   "source": [
    "#### 4 - Colonne \"varnishLevelsTargetvolume\""
   ]
  },
  {
   "cell_type": "code",
   "execution_count": 48,
   "metadata": {},
   "outputs": [],
   "source": [
    "# on converti les float en entier 64\n",
    "df.varnishLevelsTargetvolume = pd.to_numeric(df.varnishLevelsTargetvolume).astype('int64')"
   ]
  },
  {
   "cell_type": "code",
   "execution_count": 49,
   "metadata": {},
   "outputs": [
    {
     "name": "stdout",
     "output_type": "stream",
     "text": [
      "<class 'pandas.core.frame.DataFrame'>\n",
      "RangeIndex: 3510431 entries, 0 to 3510430\n",
      "Data columns (total 11 columns):\n",
      " #   Column                     Dtype              \n",
      "---  ------                     -----              \n",
      " 0   source_events              object             \n",
      " 1   timestamp                  datetime64[ns, UTC]\n",
      " 2   criticality_events         object             \n",
      " 3   identification_events      int64              \n",
      " 4   type_modules               object             \n",
      " 5   name_counters_modules      object             \n",
      " 6   value_counters_modules     int64              \n",
      " 7   name_connected_operators   object             \n",
      " 8   level_connected_operators  object             \n",
      " 9   varnishLevelsTargetvolume  int64              \n",
      " 10  varnishLevelsTotalvolume   int64              \n",
      "dtypes: datetime64[ns, UTC](1), int64(4), object(6)\n",
      "memory usage: 294.6+ MB\n"
     ]
    }
   ],
   "source": [
    "df.info()"
   ]
  },
  {
   "cell_type": "code",
   "execution_count": 50,
   "metadata": {},
   "outputs": [
    {
     "data": {
      "text/plain": [
       "array(['iFoil', 'PLC', nan, 'Kernel', 'RCB n°1', 'RCB n°2', 'ICB n°1',\n",
       "       'RCB n°3', 'ICB n°5', 'ICB n°7', 'ICB n°8', 'Pilot', 'ICB n°4',\n",
       "       'ICB n°2', 'ICB n°6'], dtype=object)"
      ]
     },
     "execution_count": 50,
     "metadata": {},
     "output_type": "execute_result"
    }
   ],
   "source": [
    "df.source_events.unique()"
   ]
  },
  {
   "cell_type": "code",
   "execution_count": 51,
   "metadata": {},
   "outputs": [
    {
     "data": {
      "text/plain": [
       "array(['iFoil', 'Varnish Printer'], dtype=object)"
      ]
     },
     "execution_count": 51,
     "metadata": {},
     "output_type": "execute_result"
    }
   ],
   "source": [
    "df.type_modules.unique()"
   ]
  },
  {
   "cell_type": "markdown",
   "metadata": {},
   "source": [
    "### III - Sauvegarde du nouveau dataframe pour réutilisation"
   ]
  },
  {
   "cell_type": "code",
   "execution_count": 52,
   "metadata": {},
   "outputs": [],
   "source": [
    "df.to_csv(\"../data/metrics/Arthur_dataset_V1.csv\")"
   ]
  }
 ],
 "metadata": {
  "kernelspec": {
   "display_name": "Python 3.11.0 ('venv': venv)",
   "language": "python",
   "name": "python3"
  },
  "language_info": {
   "codemirror_mode": {
    "name": "ipython",
    "version": 3
   },
   "file_extension": ".py",
   "mimetype": "text/x-python",
   "name": "python",
   "nbconvert_exporter": "python",
   "pygments_lexer": "ipython3",
   "version": "3.11.0"
  },
  "orig_nbformat": 4,
  "vscode": {
   "interpreter": {
    "hash": "641716e2d83a1b48ea94de6ae288ab2fe5414e63c34b937b40deb4d555d5021e"
   }
  }
 },
 "nbformat": 4,
 "nbformat_minor": 2
}
