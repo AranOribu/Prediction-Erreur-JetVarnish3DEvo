{
 "cells": [
  {
   "attachments": {},
   "cell_type": "markdown",
   "metadata": {},
   "source": [
    "# Notebook jobs"
   ]
  },
  {
   "attachments": {},
   "cell_type": "markdown",
   "metadata": {},
   "source": [
    "Ce notebook génère 1 csv :\n",
    "\n",
    "- raw_jobs_dataset.csv\n",
    "\n",
    "Etapes :\n",
    "\n",
    "- Suppression des lignes avec les valeurs timestamp_start manquantes\n",
    "\n",
    "- Suppression des colonnes ayant des valeurs uniques\n",
    "\n",
    "- Remplacement des données maquantes\n",
    "\n",
    "- Conversion des types des séries en fonction des types des valeurs"
   ]
  },
  {
   "attachments": {},
   "cell_type": "markdown",
   "metadata": {},
   "source": [
    "# A. Imports"
   ]
  },
  {
   "attachments": {},
   "cell_type": "markdown",
   "metadata": {},
   "source": [
    "## a) Librairies"
   ]
  },
  {
   "cell_type": "code",
   "execution_count": 68,
   "metadata": {},
   "outputs": [],
   "source": [
    "import os, math\n",
    "import pandas as pd\n",
    "pd.set_option('display.max_columns', 500)\n",
    "import numpy as np\n",
    "import matplotlib.pyplot as plt\n",
    "from datetime import datetime"
   ]
  },
  {
   "attachments": {},
   "cell_type": "markdown",
   "metadata": {},
   "source": [
    "## b) Données"
   ]
  },
  {
   "cell_type": "code",
   "execution_count": 69,
   "metadata": {},
   "outputs": [],
   "source": [
    "# chemin vers fichier source\n",
    "filename = 'jobs.csv'\n",
    "path = '../data/raw/'\n",
    "# target path to save merge raw jobs dataset\n",
    "save_csv = '../data/jobs/raw_jobs_dataset.csv'"
   ]
  },
  {
   "cell_type": "code",
   "execution_count": 70,
   "metadata": {},
   "outputs": [
    {
     "name": "stdout",
     "output_type": "stream",
     "text": [
      "jobs.csv already in path ../data/raw/.\n"
     ]
    }
   ],
   "source": [
    "# téléchargement dans le repertoire 'data' d'un fichiers 'csv' depuis le blob\n",
    "from azure_blob import download_blob_file\n",
    "download_blob_file(file_name=filename, local_path=path)"
   ]
  },
  {
   "attachments": {},
   "cell_type": "markdown",
   "metadata": {},
   "source": [
    "# B. Dataframe"
   ]
  },
  {
   "attachments": {},
   "cell_type": "markdown",
   "metadata": {},
   "source": [
    "## a) Création"
   ]
  },
  {
   "cell_type": "code",
   "execution_count": 71,
   "metadata": {},
   "outputs": [
    {
     "name": "stdout",
     "output_type": "stream",
     "text": [
      "<class 'pandas.core.frame.DataFrame'>\n",
      "RangeIndex: 16295 entries, 0 to 16294\n",
      "Data columns (total 23 columns):\n",
      " #   Column                            Non-Null Count  Dtype  \n",
      "---  ------                            --------------  -----  \n",
      " 0   id                                16295 non-null  int64  \n",
      " 1   thumbnail                         1497 non-null   object \n",
      " 2   total_copies                      16201 non-null  float64\n",
      " 3   started_at                        16295 non-null  object \n",
      " 4   ended_at                          16201 non-null  object \n",
      " 5   machineId                         16295 non-null  int64  \n",
      " 6   speed                             16295 non-null  int64  \n",
      " 7   operator                          16295 non-null  object \n",
      " 8   operator_level                    16295 non-null  object \n",
      " 9   first_page_image_path_on_machine  16289 non-null  object \n",
      " 10  paperHeight                       16295 non-null  int64  \n",
      " 11  paperWidth                        16295 non-null  int64  \n",
      " 12  paperName                         578 non-null    object \n",
      " 13  paperThickness                    16295 non-null  int64  \n",
      " 14  id_on_machine                     16295 non-null  int64  \n",
      " 15  total_copies_requested            16295 non-null  int64  \n",
      " 16  job_thumbnail_id                  16289 non-null  float64\n",
      " 17  uses_ifoil                        16295 non-null  bool   \n",
      " 18  uses_iper                         16295 non-null  bool   \n",
      " 19  scanner_mode                      15893 non-null  float64\n",
      " 20  iper_bvar_count                   15893 non-null  float64\n",
      " 21  varnishConsumptionVarnish_3d      15818 non-null  float64\n",
      " 22  varnishConsumptionVarnish_2d      0 non-null      float64\n",
      "dtypes: bool(2), float64(6), int64(8), object(7)\n",
      "memory usage: 2.6+ MB\n"
     ]
    }
   ],
   "source": [
    "# création d'un dataframe à partir du csv de données\n",
    "jobs_df = pd.read_csv(os.path.join(path, filename))\n",
    "jobs_df.info()"
   ]
  },
  {
   "cell_type": "code",
   "execution_count": 72,
   "metadata": {},
   "outputs": [
    {
     "data": {
      "text/html": [
       "<div>\n",
       "<style scoped>\n",
       "    .dataframe tbody tr th:only-of-type {\n",
       "        vertical-align: middle;\n",
       "    }\n",
       "\n",
       "    .dataframe tbody tr th {\n",
       "        vertical-align: top;\n",
       "    }\n",
       "\n",
       "    .dataframe thead th {\n",
       "        text-align: right;\n",
       "    }\n",
       "</style>\n",
       "<table border=\"1\" class=\"dataframe\">\n",
       "  <thead>\n",
       "    <tr style=\"text-align: right;\">\n",
       "      <th></th>\n",
       "      <th>id</th>\n",
       "      <th>thumbnail</th>\n",
       "      <th>total_copies</th>\n",
       "      <th>started_at</th>\n",
       "      <th>ended_at</th>\n",
       "      <th>machineId</th>\n",
       "      <th>speed</th>\n",
       "      <th>operator</th>\n",
       "      <th>operator_level</th>\n",
       "      <th>first_page_image_path_on_machine</th>\n",
       "      <th>paperHeight</th>\n",
       "      <th>paperWidth</th>\n",
       "      <th>paperName</th>\n",
       "      <th>paperThickness</th>\n",
       "      <th>id_on_machine</th>\n",
       "      <th>total_copies_requested</th>\n",
       "      <th>job_thumbnail_id</th>\n",
       "      <th>uses_ifoil</th>\n",
       "      <th>uses_iper</th>\n",
       "      <th>scanner_mode</th>\n",
       "      <th>iper_bvar_count</th>\n",
       "      <th>varnishConsumptionVarnish_3d</th>\n",
       "      <th>varnishConsumptionVarnish_2d</th>\n",
       "    </tr>\n",
       "  </thead>\n",
       "  <tbody>\n",
       "    <tr>\n",
       "      <th>0</th>\n",
       "      <td>5021</td>\n",
       "      <td>/9j/4AAQSkZJRgABAQEAYABgAAD/2wBDAAgGBgcGBQgHBw...</td>\n",
       "      <td>NaN</td>\n",
       "      <td>2021-06-18 09:22:46.866000</td>\n",
       "      <td>NaN</td>\n",
       "      <td>14</td>\n",
       "      <td>418</td>\n",
       "      <td>Distributor</td>\n",
       "      <td>Distributor</td>\n",
       "      <td>D:/IMAGES/Standard/3040459-52x74-350 CM-18-06-...</td>\n",
       "      <td>520</td>\n",
       "      <td>740</td>\n",
       "      <td>NaN</td>\n",
       "      <td>0</td>\n",
       "      <td>1624008166</td>\n",
       "      <td>3</td>\n",
       "      <td>2383.0</td>\n",
       "      <td>False</td>\n",
       "      <td>True</td>\n",
       "      <td>NaN</td>\n",
       "      <td>NaN</td>\n",
       "      <td>NaN</td>\n",
       "      <td>NaN</td>\n",
       "    </tr>\n",
       "    <tr>\n",
       "      <th>1</th>\n",
       "      <td>5034</td>\n",
       "      <td>/9j/4AAQSkZJRgABAQEAYABgAAD/2wBDAAgGBgcGBQgHBw...</td>\n",
       "      <td>3.0</td>\n",
       "      <td>2021-06-18 10:08:13.716000</td>\n",
       "      <td>2021-06-18 10:10:22.257000</td>\n",
       "      <td>14</td>\n",
       "      <td>313</td>\n",
       "      <td>Micka</td>\n",
       "      <td>Operator</td>\n",
       "      <td>D:/IMAGES/Standard/3040459-52x74-350 CM-18-06-...</td>\n",
       "      <td>740</td>\n",
       "      <td>520</td>\n",
       "      <td>NaN</td>\n",
       "      <td>0</td>\n",
       "      <td>1624010893</td>\n",
       "      <td>100</td>\n",
       "      <td>2391.0</td>\n",
       "      <td>False</td>\n",
       "      <td>True</td>\n",
       "      <td>NaN</td>\n",
       "      <td>NaN</td>\n",
       "      <td>NaN</td>\n",
       "      <td>NaN</td>\n",
       "    </tr>\n",
       "    <tr>\n",
       "      <th>2</th>\n",
       "      <td>5037</td>\n",
       "      <td>/9j/4AAQSkZJRgABAQEAYABgAAD/2wBDAAgGBgcGBQgHBw...</td>\n",
       "      <td>70.0</td>\n",
       "      <td>2021-06-18 10:11:52.165000</td>\n",
       "      <td>2021-06-18 10:18:20.294000</td>\n",
       "      <td>14</td>\n",
       "      <td>313</td>\n",
       "      <td>Micka</td>\n",
       "      <td>Operator</td>\n",
       "      <td>D:/IMAGES/Standard/3040459-52x74-350 CM-18-06-...</td>\n",
       "      <td>740</td>\n",
       "      <td>520</td>\n",
       "      <td>NaN</td>\n",
       "      <td>0</td>\n",
       "      <td>1624011111</td>\n",
       "      <td>100</td>\n",
       "      <td>2393.0</td>\n",
       "      <td>False</td>\n",
       "      <td>True</td>\n",
       "      <td>NaN</td>\n",
       "      <td>NaN</td>\n",
       "      <td>NaN</td>\n",
       "      <td>NaN</td>\n",
       "    </tr>\n",
       "    <tr>\n",
       "      <th>3</th>\n",
       "      <td>5042</td>\n",
       "      <td>/9j/4AAQSkZJRgABAQEAYABgAAD/2wBDAAgGBgcGBQgHBw...</td>\n",
       "      <td>NaN</td>\n",
       "      <td>2021-06-18 10:30:23.049000</td>\n",
       "      <td>NaN</td>\n",
       "      <td>14</td>\n",
       "      <td>700</td>\n",
       "      <td>Micka</td>\n",
       "      <td>Operator</td>\n",
       "      <td>D:/IMAGES/Standard/3035811-5coul#1/0000001 V01...</td>\n",
       "      <td>450</td>\n",
       "      <td>320</td>\n",
       "      <td>NaN</td>\n",
       "      <td>0</td>\n",
       "      <td>1624012222</td>\n",
       "      <td>50</td>\n",
       "      <td>2397.0</td>\n",
       "      <td>False</td>\n",
       "      <td>True</td>\n",
       "      <td>NaN</td>\n",
       "      <td>NaN</td>\n",
       "      <td>NaN</td>\n",
       "      <td>NaN</td>\n",
       "    </tr>\n",
       "    <tr>\n",
       "      <th>4</th>\n",
       "      <td>5062</td>\n",
       "      <td>/9j/4AAQSkZJRgABAQEAYABgAAD/2wBDAAgGBgcGBQgHBw...</td>\n",
       "      <td>NaN</td>\n",
       "      <td>2021-06-18 12:35:11.864000</td>\n",
       "      <td>NaN</td>\n",
       "      <td>14</td>\n",
       "      <td>700</td>\n",
       "      <td>Viktor</td>\n",
       "      <td>Operator</td>\n",
       "      <td>D:/IMAGES/Standard/3037332-vernis/3037332-vern...</td>\n",
       "      <td>450</td>\n",
       "      <td>320</td>\n",
       "      <td>NaN</td>\n",
       "      <td>0</td>\n",
       "      <td>1624019711</td>\n",
       "      <td>1</td>\n",
       "      <td>2416.0</td>\n",
       "      <td>False</td>\n",
       "      <td>True</td>\n",
       "      <td>NaN</td>\n",
       "      <td>NaN</td>\n",
       "      <td>NaN</td>\n",
       "      <td>NaN</td>\n",
       "    </tr>\n",
       "  </tbody>\n",
       "</table>\n",
       "</div>"
      ],
      "text/plain": [
       "     id                                          thumbnail  total_copies  \\\n",
       "0  5021  /9j/4AAQSkZJRgABAQEAYABgAAD/2wBDAAgGBgcGBQgHBw...           NaN   \n",
       "1  5034  /9j/4AAQSkZJRgABAQEAYABgAAD/2wBDAAgGBgcGBQgHBw...           3.0   \n",
       "2  5037  /9j/4AAQSkZJRgABAQEAYABgAAD/2wBDAAgGBgcGBQgHBw...          70.0   \n",
       "3  5042  /9j/4AAQSkZJRgABAQEAYABgAAD/2wBDAAgGBgcGBQgHBw...           NaN   \n",
       "4  5062  /9j/4AAQSkZJRgABAQEAYABgAAD/2wBDAAgGBgcGBQgHBw...           NaN   \n",
       "\n",
       "                   started_at                    ended_at  machineId  speed  \\\n",
       "0  2021-06-18 09:22:46.866000                         NaN         14    418   \n",
       "1  2021-06-18 10:08:13.716000  2021-06-18 10:10:22.257000         14    313   \n",
       "2  2021-06-18 10:11:52.165000  2021-06-18 10:18:20.294000         14    313   \n",
       "3  2021-06-18 10:30:23.049000                         NaN         14    700   \n",
       "4  2021-06-18 12:35:11.864000                         NaN         14    700   \n",
       "\n",
       "      operator operator_level  \\\n",
       "0  Distributor    Distributor   \n",
       "1        Micka       Operator   \n",
       "2        Micka       Operator   \n",
       "3        Micka       Operator   \n",
       "4       Viktor       Operator   \n",
       "\n",
       "                    first_page_image_path_on_machine  paperHeight  paperWidth  \\\n",
       "0  D:/IMAGES/Standard/3040459-52x74-350 CM-18-06-...          520         740   \n",
       "1  D:/IMAGES/Standard/3040459-52x74-350 CM-18-06-...          740         520   \n",
       "2  D:/IMAGES/Standard/3040459-52x74-350 CM-18-06-...          740         520   \n",
       "3  D:/IMAGES/Standard/3035811-5coul#1/0000001 V01...          450         320   \n",
       "4  D:/IMAGES/Standard/3037332-vernis/3037332-vern...          450         320   \n",
       "\n",
       "  paperName  paperThickness  id_on_machine  total_copies_requested  \\\n",
       "0       NaN               0     1624008166                       3   \n",
       "1       NaN               0     1624010893                     100   \n",
       "2       NaN               0     1624011111                     100   \n",
       "3       NaN               0     1624012222                      50   \n",
       "4       NaN               0     1624019711                       1   \n",
       "\n",
       "   job_thumbnail_id  uses_ifoil  uses_iper  scanner_mode  iper_bvar_count  \\\n",
       "0            2383.0       False       True           NaN              NaN   \n",
       "1            2391.0       False       True           NaN              NaN   \n",
       "2            2393.0       False       True           NaN              NaN   \n",
       "3            2397.0       False       True           NaN              NaN   \n",
       "4            2416.0       False       True           NaN              NaN   \n",
       "\n",
       "   varnishConsumptionVarnish_3d  varnishConsumptionVarnish_2d  \n",
       "0                           NaN                           NaN  \n",
       "1                           NaN                           NaN  \n",
       "2                           NaN                           NaN  \n",
       "3                           NaN                           NaN  \n",
       "4                           NaN                           NaN  "
      ]
     },
     "execution_count": 72,
     "metadata": {},
     "output_type": "execute_result"
    }
   ],
   "source": [
    "jobs_df.head()"
   ]
  },
  {
   "attachments": {},
   "cell_type": "markdown",
   "metadata": {},
   "source": [
    "## b) Nettoyage"
   ]
  },
  {
   "attachments": {},
   "cell_type": "markdown",
   "metadata": {},
   "source": [
    "### 1. Suppression de lignes"
   ]
  },
  {
   "cell_type": "code",
   "execution_count": 51,
   "metadata": {},
   "outputs": [
    {
     "data": {
      "text/plain": [
       "[]"
      ]
     },
     "execution_count": 51,
     "metadata": {},
     "output_type": "execute_result"
    }
   ],
   "source": [
    "# on cherche les index des lignes sans timestamp de départ\n",
    "no_start_row = list(jobs_df[jobs_df['started_at'].isna()].index)\n",
    "no_start_row"
   ]
  },
  {
   "attachments": {},
   "cell_type": "markdown",
   "metadata": {},
   "source": [
    "### 2. Suppression de colonnes"
   ]
  },
  {
   "cell_type": "code",
   "execution_count": 52,
   "metadata": {},
   "outputs": [],
   "source": [
    "# suppression des colonnes non pertinentes\n",
    "col_to_drop = [\n",
    "    'id',\n",
    "    'thumbnail',\n",
    "    'machineId',\n",
    "    'first_page_image_path_on_machine',\n",
    "    'job_thumbnail_id'\n",
    "    ]\n",
    "jobs_df = jobs_df.drop(col_to_drop, axis=1)"
   ]
  },
  {
   "cell_type": "code",
   "execution_count": 53,
   "metadata": {},
   "outputs": [],
   "source": [
    "# suppression des colonnes ne contenant que des valeurs nulles\n",
    "jobs_df = jobs_df.dropna(axis=1, how='all')"
   ]
  },
  {
   "attachments": {},
   "cell_type": "markdown",
   "metadata": {},
   "source": [
    "### 3. Données manquantes"
   ]
  },
  {
   "cell_type": "code",
   "execution_count": 54,
   "metadata": {},
   "outputs": [
    {
     "name": "stdout",
     "output_type": "stream",
     "text": [
      "total_copies : 681 - dtype : float64\n",
      "ended_at : 16201 - dtype : object\n",
      "paperName : [nan 'B2']\n",
      "scanner_mode : [nan  1.  3.  0.]\n",
      "iper_bvar_count : [nan  1.  2.]\n",
      "varnishConsumptionVarnish_3d : 13886 - dtype : float64\n"
     ]
    }
   ],
   "source": [
    "# on liste les colonnes qui contiennent des valeurs nulles\n",
    "col_with_nan = []\n",
    "for col in jobs_df.columns:\n",
    "    if jobs_df[col].isnull().any():\n",
    "        col_with_nan.append(col)\n",
    "        print(f'{col} : {jobs_df[col].unique()}') if jobs_df[col].nunique() <= 10 else print(f'{col} : {jobs_df[col].nunique()} - dtype : {jobs_df[col].dtype}')     "
   ]
  },
  {
   "cell_type": "code",
   "execution_count": 55,
   "metadata": {},
   "outputs": [],
   "source": [
    "# on remplace les valeurs de 'total_copies' nulles par 0\n",
    "jobs_df['total_copies'] = jobs_df['total_copies'].fillna(float(0))"
   ]
  },
  {
   "cell_type": "code",
   "execution_count": 56,
   "metadata": {},
   "outputs": [],
   "source": [
    "# on remplace les datetime de fin maquant par les datetime de début\n",
    "jobs_df['ended_at'] = jobs_df['ended_at'].fillna(jobs_df['started_at'])"
   ]
  },
  {
   "cell_type": "code",
   "execution_count": 57,
   "metadata": {},
   "outputs": [],
   "source": [
    "# on remplace les 'paperName' non défini par UNDEFINED\n",
    "jobs_df['paperName'] = jobs_df['paperName'].fillna('UNDEFINED')"
   ]
  },
  {
   "cell_type": "code",
   "execution_count": 58,
   "metadata": {},
   "outputs": [],
   "source": [
    "# on remplace les valeurs de 'scanner_mode' nulles par 0\n",
    "jobs_df['scanner_mode'] = jobs_df['scanner_mode'].fillna(0)"
   ]
  },
  {
   "cell_type": "code",
   "execution_count": 59,
   "metadata": {},
   "outputs": [],
   "source": [
    "# on remplace les valeurs de 'iper_bvar_count' nulles par 0\n",
    "jobs_df['iper_bvar_count'] = jobs_df['iper_bvar_count'].fillna(0)"
   ]
  },
  {
   "cell_type": "code",
   "execution_count": 60,
   "metadata": {},
   "outputs": [],
   "source": [
    "# on remplace les valeurs de 'total_copies' nulles par 0\n",
    "jobs_df['varnishConsumptionVarnish_3d'] = jobs_df['varnishConsumptionVarnish_3d'].fillna(float(0))"
   ]
  },
  {
   "attachments": {},
   "cell_type": "markdown",
   "metadata": {},
   "source": [
    "### 4. Conversion des types"
   ]
  },
  {
   "cell_type": "code",
   "execution_count": 61,
   "metadata": {},
   "outputs": [
    {
     "data": {
      "text/plain": [
       "array([dtype('float64'), dtype('O'), dtype('int64'), dtype('bool')],\n",
       "      dtype=object)"
      ]
     },
     "execution_count": 61,
     "metadata": {},
     "output_type": "execute_result"
    }
   ],
   "source": [
    "jobs_df.dtypes.unique()"
   ]
  },
  {
   "attachments": {},
   "cell_type": "markdown",
   "metadata": {},
   "source": [
    "#### Object"
   ]
  },
  {
   "cell_type": "code",
   "execution_count": 62,
   "metadata": {},
   "outputs": [
    {
     "name": "stdout",
     "output_type": "stream",
     "text": [
      "started_at : 16295 values\n",
      "ended_at : 16295 values\n",
      "operator : ['Distributor' 'Micka' 'Viktor' 'JAN']\n",
      "operator_level : ['Distributor' 'Operator']\n",
      "paperName : ['UNDEFINED' 'B2']\n"
     ]
    }
   ],
   "source": [
    "# on liste les valeurs (si pas plus de 5) des colonnes de type object\n",
    "object_columns = list(jobs_df.select_dtypes(include=['object']).columns)\n",
    "for col in object_columns :\n",
    "    print(f\"{col} : {jobs_df[col].unique()}\") if jobs_df[col].nunique() <= 5  else print(f\"{col} : {jobs_df[col].nunique()} values\")"
   ]
  },
  {
   "cell_type": "code",
   "execution_count": 63,
   "metadata": {},
   "outputs": [],
   "source": [
    "# on peut convertir les colonnes contenant des valeurs de temsps au format datetime\n",
    "jobs_df['started_at'] = pd.to_datetime(jobs_df['started_at'], utc=True)\n",
    "jobs_df['ended_at'] = pd.to_datetime(jobs_df['ended_at'], utc=True)"
   ]
  },
  {
   "attachments": {},
   "cell_type": "markdown",
   "metadata": {},
   "source": [
    "#### Float64"
   ]
  },
  {
   "cell_type": "code",
   "execution_count": 64,
   "metadata": {},
   "outputs": [
    {
     "name": "stdout",
     "output_type": "stream",
     "text": [
      "total_copies : 681 values\n",
      "scanner_mode : [0. 1. 3.]\n",
      "iper_bvar_count : [0. 1. 2.]\n",
      "varnishConsumptionVarnish_3d : 13886 values\n"
     ]
    }
   ],
   "source": [
    "float_columns = list(jobs_df.select_dtypes(include=['float64']).columns)\n",
    "# on liste les valeurs (si pas plus de 5) des colonnes de type object\n",
    "for col in float_columns:\n",
    "    print(f\"{col} : {jobs_df[col].unique()}\") if jobs_df[col].nunique() <= 5  else print(f\"{col} : {jobs_df[col].nunique()} values\")"
   ]
  },
  {
   "cell_type": "code",
   "execution_count": 65,
   "metadata": {},
   "outputs": [],
   "source": [
    "# conversion des colonnes de type 'float' dont toutes les valeurs ont des décimales à 0 en type 'int'\n",
    "for col in float_columns :\n",
    "# remplacement de nan par 0\n",
    "    jobs_df[col] = jobs_df[col].fillna(0)\n",
    "    if not True in (math.modf(value)[0] != float(0) for value in list(jobs_df[col].unique())):\n",
    "        jobs_df[col] = jobs_df[col].astype('int64')"
   ]
  },
  {
   "cell_type": "code",
   "execution_count": 66,
   "metadata": {},
   "outputs": [
    {
     "data": {
      "text/html": [
       "<div>\n",
       "<style scoped>\n",
       "    .dataframe tbody tr th:only-of-type {\n",
       "        vertical-align: middle;\n",
       "    }\n",
       "\n",
       "    .dataframe tbody tr th {\n",
       "        vertical-align: top;\n",
       "    }\n",
       "\n",
       "    .dataframe thead th {\n",
       "        text-align: right;\n",
       "    }\n",
       "</style>\n",
       "<table border=\"1\" class=\"dataframe\">\n",
       "  <thead>\n",
       "    <tr style=\"text-align: right;\">\n",
       "      <th></th>\n",
       "      <th>total_copies</th>\n",
       "      <th>started_at</th>\n",
       "      <th>ended_at</th>\n",
       "      <th>speed</th>\n",
       "      <th>operator</th>\n",
       "      <th>operator_level</th>\n",
       "      <th>paperHeight</th>\n",
       "      <th>paperWidth</th>\n",
       "      <th>paperName</th>\n",
       "      <th>paperThickness</th>\n",
       "      <th>id_on_machine</th>\n",
       "      <th>total_copies_requested</th>\n",
       "      <th>uses_ifoil</th>\n",
       "      <th>uses_iper</th>\n",
       "      <th>scanner_mode</th>\n",
       "      <th>iper_bvar_count</th>\n",
       "      <th>varnishConsumptionVarnish_3d</th>\n",
       "    </tr>\n",
       "  </thead>\n",
       "  <tbody>\n",
       "    <tr>\n",
       "      <th>0</th>\n",
       "      <td>0</td>\n",
       "      <td>2021-06-18 09:22:46.866000+00:00</td>\n",
       "      <td>2021-06-18 09:22:46.866000+00:00</td>\n",
       "      <td>418</td>\n",
       "      <td>Distributor</td>\n",
       "      <td>Distributor</td>\n",
       "      <td>520</td>\n",
       "      <td>740</td>\n",
       "      <td>UNDEFINED</td>\n",
       "      <td>0</td>\n",
       "      <td>1624008166</td>\n",
       "      <td>3</td>\n",
       "      <td>False</td>\n",
       "      <td>True</td>\n",
       "      <td>0</td>\n",
       "      <td>0</td>\n",
       "      <td>0.0</td>\n",
       "    </tr>\n",
       "    <tr>\n",
       "      <th>1</th>\n",
       "      <td>3</td>\n",
       "      <td>2021-06-18 10:08:13.716000+00:00</td>\n",
       "      <td>2021-06-18 10:10:22.257000+00:00</td>\n",
       "      <td>313</td>\n",
       "      <td>Micka</td>\n",
       "      <td>Operator</td>\n",
       "      <td>740</td>\n",
       "      <td>520</td>\n",
       "      <td>UNDEFINED</td>\n",
       "      <td>0</td>\n",
       "      <td>1624010893</td>\n",
       "      <td>100</td>\n",
       "      <td>False</td>\n",
       "      <td>True</td>\n",
       "      <td>0</td>\n",
       "      <td>0</td>\n",
       "      <td>0.0</td>\n",
       "    </tr>\n",
       "    <tr>\n",
       "      <th>2</th>\n",
       "      <td>70</td>\n",
       "      <td>2021-06-18 10:11:52.165000+00:00</td>\n",
       "      <td>2021-06-18 10:18:20.294000+00:00</td>\n",
       "      <td>313</td>\n",
       "      <td>Micka</td>\n",
       "      <td>Operator</td>\n",
       "      <td>740</td>\n",
       "      <td>520</td>\n",
       "      <td>UNDEFINED</td>\n",
       "      <td>0</td>\n",
       "      <td>1624011111</td>\n",
       "      <td>100</td>\n",
       "      <td>False</td>\n",
       "      <td>True</td>\n",
       "      <td>0</td>\n",
       "      <td>0</td>\n",
       "      <td>0.0</td>\n",
       "    </tr>\n",
       "    <tr>\n",
       "      <th>3</th>\n",
       "      <td>0</td>\n",
       "      <td>2021-06-18 10:30:23.049000+00:00</td>\n",
       "      <td>2021-06-18 10:30:23.049000+00:00</td>\n",
       "      <td>700</td>\n",
       "      <td>Micka</td>\n",
       "      <td>Operator</td>\n",
       "      <td>450</td>\n",
       "      <td>320</td>\n",
       "      <td>UNDEFINED</td>\n",
       "      <td>0</td>\n",
       "      <td>1624012222</td>\n",
       "      <td>50</td>\n",
       "      <td>False</td>\n",
       "      <td>True</td>\n",
       "      <td>0</td>\n",
       "      <td>0</td>\n",
       "      <td>0.0</td>\n",
       "    </tr>\n",
       "    <tr>\n",
       "      <th>4</th>\n",
       "      <td>0</td>\n",
       "      <td>2021-06-18 12:35:11.864000+00:00</td>\n",
       "      <td>2021-06-18 12:35:11.864000+00:00</td>\n",
       "      <td>700</td>\n",
       "      <td>Viktor</td>\n",
       "      <td>Operator</td>\n",
       "      <td>450</td>\n",
       "      <td>320</td>\n",
       "      <td>UNDEFINED</td>\n",
       "      <td>0</td>\n",
       "      <td>1624019711</td>\n",
       "      <td>1</td>\n",
       "      <td>False</td>\n",
       "      <td>True</td>\n",
       "      <td>0</td>\n",
       "      <td>0</td>\n",
       "      <td>0.0</td>\n",
       "    </tr>\n",
       "  </tbody>\n",
       "</table>\n",
       "</div>"
      ],
      "text/plain": [
       "   total_copies                       started_at  \\\n",
       "0             0 2021-06-18 09:22:46.866000+00:00   \n",
       "1             3 2021-06-18 10:08:13.716000+00:00   \n",
       "2            70 2021-06-18 10:11:52.165000+00:00   \n",
       "3             0 2021-06-18 10:30:23.049000+00:00   \n",
       "4             0 2021-06-18 12:35:11.864000+00:00   \n",
       "\n",
       "                          ended_at  speed     operator operator_level  \\\n",
       "0 2021-06-18 09:22:46.866000+00:00    418  Distributor    Distributor   \n",
       "1 2021-06-18 10:10:22.257000+00:00    313        Micka       Operator   \n",
       "2 2021-06-18 10:18:20.294000+00:00    313        Micka       Operator   \n",
       "3 2021-06-18 10:30:23.049000+00:00    700        Micka       Operator   \n",
       "4 2021-06-18 12:35:11.864000+00:00    700       Viktor       Operator   \n",
       "\n",
       "   paperHeight  paperWidth  paperName  paperThickness  id_on_machine  \\\n",
       "0          520         740  UNDEFINED               0     1624008166   \n",
       "1          740         520  UNDEFINED               0     1624010893   \n",
       "2          740         520  UNDEFINED               0     1624011111   \n",
       "3          450         320  UNDEFINED               0     1624012222   \n",
       "4          450         320  UNDEFINED               0     1624019711   \n",
       "\n",
       "   total_copies_requested  uses_ifoil  uses_iper  scanner_mode  \\\n",
       "0                       3       False       True             0   \n",
       "1                     100       False       True             0   \n",
       "2                     100       False       True             0   \n",
       "3                      50       False       True             0   \n",
       "4                       1       False       True             0   \n",
       "\n",
       "   iper_bvar_count  varnishConsumptionVarnish_3d  \n",
       "0                0                           0.0  \n",
       "1                0                           0.0  \n",
       "2                0                           0.0  \n",
       "3                0                           0.0  \n",
       "4                0                           0.0  "
      ]
     },
     "execution_count": 66,
     "metadata": {},
     "output_type": "execute_result"
    }
   ],
   "source": [
    "jobs_df.head(5)"
   ]
  },
  {
   "attachments": {},
   "cell_type": "markdown",
   "metadata": {},
   "source": [
    "### 5. Outout csv"
   ]
  },
  {
   "cell_type": "code",
   "execution_count": 67,
   "metadata": {},
   "outputs": [],
   "source": [
    "# sauvegarde du dataset en csv\n",
    "jobs_df.to_csv(save_csv)"
   ]
  }
 ],
 "metadata": {
  "kernelspec": {
   "display_name": ".venv",
   "language": "python",
   "name": "python3"
  },
  "language_info": {
   "codemirror_mode": {
    "name": "ipython",
    "version": 3
   },
   "file_extension": ".py",
   "mimetype": "text/x-python",
   "name": "python",
   "nbconvert_exporter": "python",
   "pygments_lexer": "ipython3",
   "version": "3.10.11"
  },
  "orig_nbformat": 4,
  "vscode": {
   "interpreter": {
    "hash": "2315c9af7dedaeb0b2bf51504304a927c605b523f04dad98936c50abe500b408"
   }
  }
 },
 "nbformat": 4,
 "nbformat_minor": 2
}
