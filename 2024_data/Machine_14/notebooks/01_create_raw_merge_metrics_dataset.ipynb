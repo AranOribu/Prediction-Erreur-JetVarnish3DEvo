{
 "cells": [
  {
   "attachments": {},
   "cell_type": "markdown",
   "metadata": {},
   "source": [
    "# 01 - Creation du dataset des données brutes de metrics fractionnées"
   ]
  },
  {
   "attachments": {},
   "cell_type": "markdown",
   "metadata": {},
   "source": [
    "Ce notebook génère :\n",
    "\n",
    "- 1 fichier csv \"raw_merge_metrics_dataset.csv\" qui fusionne les colonnes fractionnées avec le dataset d'origine\n",
    "- 1 fichier json \"metrics_events_dict.json\" pour lister les code d'identification des évènements\n",
    "\n",
    "**Etapes de création :**\n",
    "\n",
    "- Pour chaque colonne contenant des valeurs de type list ou dict\n",
    "\n",
    "    - Fractionnement des colonnes en dataframe\n",
    "\n",
    "    - Fusion des dataframes issus de la ou des fraction(s)\n",
    "\n",
    "- Fusion des colonnes fractionnées avec les colonnes non fratcionnées du dataset de départ"
   ]
  },
  {
   "attachments": {},
   "cell_type": "markdown",
   "metadata": {},
   "source": [
    "## Imports"
   ]
  },
  {
   "cell_type": "code",
   "execution_count": 1,
   "metadata": {},
   "outputs": [
    {
     "name": "stdout",
     "output_type": "stream",
     "text": [
      "['c:\\\\Users\\\\Allan\\\\Documents\\\\MGI\\\\predict-ia-notebook\\\\JetVarnish3DEvo\\\\2024_data\\\\Machine_14\\\\notebooks', 'C:\\\\Users\\\\Allan\\\\AppData\\\\Local\\\\Programs\\\\Python\\\\Python310\\\\python310.zip', 'C:\\\\Users\\\\Allan\\\\AppData\\\\Local\\\\Programs\\\\Python\\\\Python310\\\\DLLs', 'C:\\\\Users\\\\Allan\\\\AppData\\\\Local\\\\Programs\\\\Python\\\\Python310\\\\lib', 'C:\\\\Users\\\\Allan\\\\AppData\\\\Local\\\\Programs\\\\Python\\\\Python310', 'c:\\\\Users\\\\Allan\\\\Documents\\\\MGI\\\\predict-ia-notebook\\\\venv', '', 'c:\\\\Users\\\\Allan\\\\Documents\\\\MGI\\\\predict-ia-notebook\\\\venv\\\\lib\\\\site-packages', 'c:\\\\Users\\\\Allan\\\\Documents\\\\MGI\\\\predict-ia-notebook\\\\venv\\\\lib\\\\site-packages\\\\win32', 'c:\\\\Users\\\\Allan\\\\Documents\\\\MGI\\\\predict-ia-notebook\\\\venv\\\\lib\\\\site-packages\\\\win32\\\\lib', 'c:\\\\Users\\\\Allan\\\\Documents\\\\MGI\\\\predict-ia-notebook\\\\venv\\\\lib\\\\site-packages\\\\Pythonwin']\n"
     ]
    }
   ],
   "source": [
    "import sys\n",
    "print(sys.path)\n"
   ]
  },
  {
   "cell_type": "code",
   "execution_count": 2,
   "metadata": {},
   "outputs": [
    {
     "name": "stdout",
     "output_type": "stream",
     "text": [
      "c:\\Users\\Allan\\Documents\\MGI\\predict-ia-notebook\\venv\\Scripts\\python.exe\n"
     ]
    }
   ],
   "source": [
    "print(sys.executable)"
   ]
  },
  {
   "cell_type": "code",
   "execution_count": 3,
   "metadata": {},
   "outputs": [],
   "source": [
    "import os, json, ast\n",
    "import pandas as pd\n",
    "import numpy as np\n",
    "import matplotlib.pyplot as plt\n",
    "from datetime import datetime\n",
    "from pathlib import Path"
   ]
  },
  {
   "attachments": {},
   "cell_type": "markdown",
   "metadata": {},
   "source": [
    "## 1. Création dataset metrics"
   ]
  },
  {
   "cell_type": "code",
   "execution_count": 4,
   "metadata": {},
   "outputs": [],
   "source": [
    "# source path to raw metrics dataset\n",
    "filename = 'metrics.csv'\n",
    "path = '../data/raw/'\n",
    "source_csv = os.path.join(path, filename)\n",
    "# target path to save metrics dictionnaire\n",
    "save_json ='../data/metrics/metrics_events_dict.json'\n",
    "# target path to save merge raw metrics dataset\n",
    "save_csv = '../data/metrics/raw_merge_metrics_dataset.csv'"
   ]
  },
  {
   "attachments": {},
   "cell_type": "markdown",
   "metadata": {},
   "source": [
    "### a) Import des données brutes"
   ]
  },
  {
   "cell_type": "code",
   "execution_count": 5,
   "metadata": {},
   "outputs": [],
   "source": [
    "# # téléchargement dans le repertoire 'data' d'un fichiers 'csv' depuis le blob Azure\n",
    "# from azure_blob import download_blob_file\n",
    "# download_blob_file(file_name=filename, local_path=path)"
   ]
  },
  {
   "cell_type": "code",
   "execution_count": 6,
   "metadata": {},
   "outputs": [
    {
     "name": "stdout",
     "output_type": "stream",
     "text": [
      "<class 'pandas.core.frame.DataFrame'>\n",
      "RangeIndex: 59372 entries, 0 to 59371\n",
      "Data columns (total 21 columns):\n",
      " #   Column                      Non-Null Count  Dtype  \n",
      "---  ------                      --------------  -----  \n",
      " 0   id                          59372 non-null  int64  \n",
      " 1   status                      59372 non-null  object \n",
      " 2   created_at                  59372 non-null  object \n",
      " 3   cyan_capacity               0 non-null      float64\n",
      " 4   cyan_remaining              0 non-null      float64\n",
      " 5   magenta_capacity            0 non-null      float64\n",
      " 6   magenta_remaining           0 non-null      float64\n",
      " 7   yellow_capacity             0 non-null      float64\n",
      " 8   yellow_remaining            0 non-null      float64\n",
      " 9   black_capacity              0 non-null      float64\n",
      " 10  black_remaining             0 non-null      float64\n",
      " 11  machineId                   59372 non-null  int64  \n",
      " 12  connected_operators         59372 non-null  object \n",
      " 13  varnishLevelsTargetvolume   59372 non-null  float64\n",
      " 14  varnishLevelsTotalvolume    59372 non-null  int64  \n",
      " 15  modules                     59372 non-null  object \n",
      " 16  events                      59372 non-null  object \n",
      " 17  sensors                     0 non-null      float64\n",
      " 18  print_heads                 0 non-null      float64\n",
      " 19  varnishLevelsWeightpercent  0 non-null      float64\n",
      " 20  feeder_counter              0 non-null      float64\n",
      "dtypes: float64(13), int64(3), object(5)\n",
      "memory usage: 9.5+ MB\n"
     ]
    }
   ],
   "source": [
    "# création d'un dataframe à partir du csv de données\n",
    "metrics_df = pd.read_csv(filepath_or_buffer=Path(source_csv)).sort_values(by='created_at')\n",
    "metrics_df.reset_index(level=None, drop=True, inplace=True, col_level=0, col_fill='')\n",
    "metrics_df.info()"
   ]
  },
  {
   "cell_type": "code",
   "execution_count": 7,
   "metadata": {},
   "outputs": [
    {
     "data": {
      "text/html": [
       "<div>\n",
       "<style scoped>\n",
       "    .dataframe tbody tr th:only-of-type {\n",
       "        vertical-align: middle;\n",
       "    }\n",
       "\n",
       "    .dataframe tbody tr th {\n",
       "        vertical-align: top;\n",
       "    }\n",
       "\n",
       "    .dataframe thead th {\n",
       "        text-align: right;\n",
       "    }\n",
       "</style>\n",
       "<table border=\"1\" class=\"dataframe\">\n",
       "  <thead>\n",
       "    <tr style=\"text-align: right;\">\n",
       "      <th></th>\n",
       "      <th>id</th>\n",
       "      <th>status</th>\n",
       "      <th>created_at</th>\n",
       "      <th>connected_operators</th>\n",
       "      <th>varnishLevelsTargetvolume</th>\n",
       "      <th>varnishLevelsTotalvolume</th>\n",
       "      <th>modules</th>\n",
       "      <th>events</th>\n",
       "    </tr>\n",
       "  </thead>\n",
       "  <tbody>\n",
       "    <tr>\n",
       "      <th>0</th>\n",
       "      <td>26377486</td>\n",
       "      <td>WARNING</td>\n",
       "      <td>2024-01-02 13:39:57.321000</td>\n",
       "      <td>[{\"name\": \"JAN\", \"level\": \"Operator\"}]</td>\n",
       "      <td>40490.237879</td>\n",
       "      <td>100000</td>\n",
       "      <td>[{\"sn\": \"\", \"name\": \"Print Engine 1\", \"type\": ...</td>\n",
       "      <td>[]</td>\n",
       "    </tr>\n",
       "    <tr>\n",
       "      <th>1</th>\n",
       "      <td>26377496</td>\n",
       "      <td>WARNING</td>\n",
       "      <td>2024-01-02 13:40:07.223000</td>\n",
       "      <td>[{\"name\": \"JAN\", \"level\": \"Operator\"}]</td>\n",
       "      <td>40490.237879</td>\n",
       "      <td>100000</td>\n",
       "      <td>[{\"sn\": \"\", \"name\": \"Print Engine 1\", \"type\": ...</td>\n",
       "      <td>[{\"source\": \"PLC\", \"message\": \" JV-Ti non prêt...</td>\n",
       "    </tr>\n",
       "    <tr>\n",
       "      <th>2</th>\n",
       "      <td>26377507</td>\n",
       "      <td>WARNING</td>\n",
       "      <td>2024-01-02 13:40:17.284000</td>\n",
       "      <td>[{\"name\": \"JAN\", \"level\": \"Operator\"}]</td>\n",
       "      <td>40490.237879</td>\n",
       "      <td>100000</td>\n",
       "      <td>[{\"sn\": \"\", \"name\": \"Print Engine 1\", \"type\": ...</td>\n",
       "      <td>[]</td>\n",
       "    </tr>\n",
       "  </tbody>\n",
       "</table>\n",
       "</div>"
      ],
      "text/plain": [
       "         id   status                  created_at  \\\n",
       "0  26377486  WARNING  2024-01-02 13:39:57.321000   \n",
       "1  26377496  WARNING  2024-01-02 13:40:07.223000   \n",
       "2  26377507  WARNING  2024-01-02 13:40:17.284000   \n",
       "\n",
       "                      connected_operators  varnishLevelsTargetvolume  \\\n",
       "0  [{\"name\": \"JAN\", \"level\": \"Operator\"}]               40490.237879   \n",
       "1  [{\"name\": \"JAN\", \"level\": \"Operator\"}]               40490.237879   \n",
       "2  [{\"name\": \"JAN\", \"level\": \"Operator\"}]               40490.237879   \n",
       "\n",
       "   varnishLevelsTotalvolume  \\\n",
       "0                    100000   \n",
       "1                    100000   \n",
       "2                    100000   \n",
       "\n",
       "                                             modules  \\\n",
       "0  [{\"sn\": \"\", \"name\": \"Print Engine 1\", \"type\": ...   \n",
       "1  [{\"sn\": \"\", \"name\": \"Print Engine 1\", \"type\": ...   \n",
       "2  [{\"sn\": \"\", \"name\": \"Print Engine 1\", \"type\": ...   \n",
       "\n",
       "                                              events  \n",
       "0                                                 []  \n",
       "1  [{\"source\": \"PLC\", \"message\": \" JV-Ti non prêt...  \n",
       "2                                                 []  "
      ]
     },
     "execution_count": 7,
     "metadata": {},
     "output_type": "execute_result"
    }
   ],
   "source": [
    "# suppression des colonnes ne contenant aucune valeurs\n",
    "metrics_df = metrics_df.dropna(axis=1)\n",
    "# suppression de la colonne machineId\n",
    "metrics_df = metrics_df.drop('machineId', axis=1)\n",
    "# visualisation des 3 premières lignes\n",
    "metrics_df.head(3)"
   ]
  },
  {
   "attachments": {},
   "cell_type": "markdown",
   "metadata": {},
   "source": [
    "### b) Fractionnement des colonnes contenant des listes"
   ]
  },
  {
   "cell_type": "code",
   "execution_count": 8,
   "metadata": {},
   "outputs": [
    {
     "name": "stdout",
     "output_type": "stream",
     "text": [
      "modules : <class 'str'>\n",
      "events : <class 'str'>\n",
      "connected_operators : <class 'str'>\n"
     ]
    }
   ],
   "source": [
    "# on verifie le type des valeurs contenu dans les colonnes de type objet contenant des listes\n",
    "print('modules :', type(metrics_df.modules.loc[0]))\n",
    "print('events :', type(metrics_df.events.loc[0]))\n",
    "print('connected_operators :', type(metrics_df.connected_operators.loc[0]))"
   ]
  },
  {
   "cell_type": "code",
   "execution_count": 9,
   "metadata": {},
   "outputs": [],
   "source": [
    "# fonction retournant le dataframe d'une colonne fractionnée\n",
    "# col=colonne à fractionner\n",
    "# df=dataframe source\n",
    "# data=dict des colonnes du df à conserver dans le df à retourner\n",
    "def convert_col_to_df(col, df, data=None):\n",
    "    \n",
    "    # création du dictionnaire de données vide\n",
    "    if data == None :\n",
    "        data = {}\n",
    "    # ou liste des clés du dictionnaire input\n",
    "    else :\n",
    "        data_keys = list(data.keys())\n",
    "\n",
    "    # on converti le type des valeurs str en list\n",
    "    if not isinstance(df[col].loc[0], list):\n",
    "        df[col] = df[col].apply(lambda x : json.loads(x))\n",
    "\n",
    "    # liste des clés du dictionnaire de la colonne à partir de la première occurence\n",
    "    # on recherche la première occurence non vide et de type list \n",
    "    # pour l'affecter à une variable first\n",
    "    for i in range(0, (len(df[col]))):\n",
    "        value = df[col].loc[i]\n",
    "        if len(value) > 0 and isinstance(value, list):\n",
    "            first = value[0]\n",
    "            print('first : ', type(first), first)\n",
    "            break\n",
    "\n",
    "    # on liste les clés du dictionnaire de l'occurence\n",
    "    col_keys = first.keys()\n",
    "    for ck in col_keys :\n",
    "        data[ck+'_'+col] = []\n",
    "\n",
    "    # on itére dans la serie pour récupérer les valeurs et les stocker dans le dictionnaire data\n",
    "    for i in range(df.index.start, df.index.stop):\n",
    "        # evaluation des valeurs 'str' en 'list'\n",
    "        values = df[col].loc[i]\n",
    "        if isinstance(values, list) and len(values) > 0 :\n",
    "            # ajout des valeurs dans le dictionnaire 'd'\n",
    "            for value in values :\n",
    "                for k in value.keys():\n",
    "                    data[k+'_'+col].append(value.get(k))\n",
    "                for dk in data_keys:\n",
    "                    data[dk].append(df[dk].loc[i])\n",
    "\n",
    "    # re-assignation de la variable df\n",
    "    df = pd.DataFrame(data)\n",
    "\n",
    "    return df"
   ]
  },
  {
   "cell_type": "code",
   "execution_count": 10,
   "metadata": {},
   "outputs": [],
   "source": [
    "# id temoin pour vérifier le fractionnement et la fusion des colonnes\n",
    "check_id = 26377588"
   ]
  },
  {
   "cell_type": "code",
   "execution_count": 11,
   "metadata": {},
   "outputs": [],
   "source": [
    "# # Initialize an empty list to collect all the 'counters' values\n",
    "# counters_values = []\n",
    "\n",
    "# # Define a function to extract 'counters' values from the 'modules' column\n",
    "# def extract_counters_value(row):\n",
    "#     try:\n",
    "#         # Convert the JSON-like string to a Python object (list of dictionaries in this case)\n",
    "#         modules_list = json.loads(row.replace(\"'\", \"\\\"\"))\n",
    "        \n",
    "#         # Loop through the list of dictionaries to find the 'counters' key-value pair\n",
    "#         for module in modules_list:\n",
    "#             if 'counters' in module:\n",
    "#                 for counter in module['counters']:\n",
    "#                     counters_values.append(counter['name'])\n",
    "#     except:\n",
    "#         # Handle any exceptions that may occur during JSON conversion or key access\n",
    "#         pass\n",
    "\n",
    "# # Apply the function to each row in the 'modules' column\n",
    "# metrics_df['modules'].apply(extract_counters_value)\n",
    "\n",
    "# # Find unique 'counters' values\n",
    "# unique_counters_values = set(counters_values)\n",
    "\n",
    "# # Display the unique 'counters' values and their count\n",
    "# unique_counters_values, len(unique_counters_values)"
   ]
  },
  {
   "cell_type": "code",
   "execution_count": 12,
   "metadata": {},
   "outputs": [],
   "source": [
    "check_line = metrics_df[metrics_df.id == check_id]"
   ]
  },
  {
   "cell_type": "code",
   "execution_count": 13,
   "metadata": {},
   "outputs": [
    {
     "name": "stdout",
     "output_type": "stream",
     "text": [
      "Valeur maximale de l'id: 27252818\n",
      "Valeur minimale de l'id: 26377486\n"
     ]
    }
   ],
   "source": [
    "# Trouver la valeur maximale de la colonne 'id'\n",
    "max_id = metrics_df['id'].max()\n",
    "print(\"Valeur maximale de l'id:\", max_id)\n",
    "\n",
    "# Trouver la valeur minimale de la colonne 'id'\n",
    "min_id = metrics_df['id'].min()\n",
    "print(\"Valeur minimale de l'id:\", min_id)\n"
   ]
  },
  {
   "cell_type": "code",
   "execution_count": 14,
   "metadata": {},
   "outputs": [
    {
     "name": "stdout",
     "output_type": "stream",
     "text": [
      "######## id 26377588 ######## \n",
      "[[26377588 'IDLE' '2024-01-02 13:41:37.441000'\n",
      "  '[{\"name\": \"JAN\", \"level\": \"Operator\"}]' 40490.23787903 100000\n",
      "  '[{\"sn\": \"\", \"name\": \"Print Engine 1\", \"type\": \"Varnish Printer\", \"counters\": [{\"name\": \"3D Varnish Counter\", \"value\": 36042}], \"generation\": \"\"}, {\"sn\": \"\", \"name\": \"iFoil L\", \"type\": \"iFoil\", \"counters\": [{\"name\": \"Total Pages Counter\", \"value\": 52108}, {\"name\": \"Foiled Pages Counter\", \"value\": 132061}], \"generation\": \"Gen. 2\"}]'\n",
      "  '[{\"source\": \"PLC\", \"message\": \" Portes margeur ouvertes E-0417\", \"timestamp\": \"2024-01-02T13:41:28.848Z\", \"criticality\": \"ERROR\", \"identification\": \"417\"}, {\"source\": \"PLC\", \"message\": \" Plateau de têtes en mouvement\", \"timestamp\": \"2024-01-02T13:41:31.674Z\", \"criticality\": \"INFO\", \"identification\": \"333\"}]']]\n",
      "######## id 26377588 modules details ######## \n",
      "[{'name': '3D Varnish Counter', 'value': 36042}]\n",
      "[{'name': 'Total Pages Counter', 'value': 52108}, {'name': 'Foiled Pages Counter', 'value': 132061}]\n",
      "######## id 26377588 events details ######## \n",
      "{'source': 'PLC', 'message': ' Portes margeur ouvertes E-0417', 'timestamp': '2024-01-02T13:41:28.848Z', 'criticality': 'ERROR', 'identification': '417'}\n",
      "{'source': 'PLC', 'message': ' Plateau de têtes en mouvement', 'timestamp': '2024-01-02T13:41:31.674Z', 'criticality': 'INFO', 'identification': '333'}\n"
     ]
    }
   ],
   "source": [
    "# détail de la ligne témoin\n",
    "check_line = metrics_df[metrics_df.id == check_id]\n",
    "print('######## id %d ######## ' %check_id)\n",
    "print(check_line.values)\n",
    "print('######## id %d modules details ######## ' %check_id)\n",
    "print(json.loads(check_line.modules.values[0])[0].get('counters'))\n",
    "print(json.loads(check_line.modules.values[0])[1].get('counters'))\n",
    "print('######## id %d events details ######## ' %check_id)\n",
    "print(json.loads(check_line.events.values[0])[0])\n",
    "print(json.loads(check_line.events.values[0])[1])"
   ]
  },
  {
   "attachments": {},
   "cell_type": "markdown",
   "metadata": {},
   "source": [
    "#### 1) Colonne 'connected_operators'"
   ]
  },
  {
   "cell_type": "code",
   "execution_count": 15,
   "metadata": {},
   "outputs": [
    {
     "name": "stdout",
     "output_type": "stream",
     "text": [
      "first :  <class 'dict'> {'name': 'JAN', 'level': 'Operator'}\n",
      "<class 'pandas.core.frame.DataFrame'>\n",
      "RangeIndex: 59372 entries, 0 to 59371\n",
      "Data columns (total 3 columns):\n",
      " #   Column                     Non-Null Count  Dtype \n",
      "---  ------                     --------------  ----- \n",
      " 0   id                         59372 non-null  int64 \n",
      " 1   name_connected_operators   59372 non-null  object\n",
      " 2   level_connected_operators  59372 non-null  object\n",
      "dtypes: int64(1), object(2)\n",
      "memory usage: 1.4+ MB\n",
      "None\n"
     ]
    },
    {
     "data": {
      "text/html": [
       "<div>\n",
       "<style scoped>\n",
       "    .dataframe tbody tr th:only-of-type {\n",
       "        vertical-align: middle;\n",
       "    }\n",
       "\n",
       "    .dataframe tbody tr th {\n",
       "        vertical-align: top;\n",
       "    }\n",
       "\n",
       "    .dataframe thead th {\n",
       "        text-align: right;\n",
       "    }\n",
       "</style>\n",
       "<table border=\"1\" class=\"dataframe\">\n",
       "  <thead>\n",
       "    <tr style=\"text-align: right;\">\n",
       "      <th></th>\n",
       "      <th>id</th>\n",
       "      <th>name_connected_operators</th>\n",
       "      <th>level_connected_operators</th>\n",
       "    </tr>\n",
       "  </thead>\n",
       "  <tbody>\n",
       "    <tr>\n",
       "      <th>0</th>\n",
       "      <td>26377486</td>\n",
       "      <td>JAN</td>\n",
       "      <td>Operator</td>\n",
       "    </tr>\n",
       "    <tr>\n",
       "      <th>1</th>\n",
       "      <td>26377496</td>\n",
       "      <td>JAN</td>\n",
       "      <td>Operator</td>\n",
       "    </tr>\n",
       "  </tbody>\n",
       "</table>\n",
       "</div>"
      ],
      "text/plain": [
       "         id name_connected_operators level_connected_operators\n",
       "0  26377486                      JAN                  Operator\n",
       "1  26377496                      JAN                  Operator"
      ]
     },
     "execution_count": 15,
     "metadata": {},
     "output_type": "execute_result"
    }
   ],
   "source": [
    "# creation d'un dataframe connected_operators (~42s)\n",
    "connected_operators_df = convert_col_to_df('connected_operators', metrics_df, {'id':[]})\n",
    "print(connected_operators_df.info())\n",
    "connected_operators_df.head(2)"
   ]
  },
  {
   "attachments": {},
   "cell_type": "markdown",
   "metadata": {},
   "source": [
    "#### 2) Colonne 'events'"
   ]
  },
  {
   "cell_type": "code",
   "execution_count": 16,
   "metadata": {},
   "outputs": [
    {
     "name": "stdout",
     "output_type": "stream",
     "text": [
      "first :  <class 'dict'> {'source': 'PLC', 'message': ' JV-Ti non prêt : impression impossible', 'timestamp': '2024-01-02T13:39:58.986Z', 'criticality': 'INFO', 'identification': '391'}\n",
      "<class 'pandas.core.frame.DataFrame'>\n",
      "RangeIndex: 3479 entries, 0 to 3478\n",
      "Data columns (total 6 columns):\n",
      " #   Column                 Non-Null Count  Dtype \n",
      "---  ------                 --------------  ----- \n",
      " 0   id                     3479 non-null   int64 \n",
      " 1   source_events          3479 non-null   object\n",
      " 2   message_events         3479 non-null   object\n",
      " 3   timestamp_events       3479 non-null   object\n",
      " 4   criticality_events     3479 non-null   object\n",
      " 5   identification_events  3479 non-null   object\n",
      "dtypes: int64(1), object(5)\n",
      "memory usage: 163.2+ KB\n",
      "None\n"
     ]
    },
    {
     "data": {
      "text/html": [
       "<div>\n",
       "<style scoped>\n",
       "    .dataframe tbody tr th:only-of-type {\n",
       "        vertical-align: middle;\n",
       "    }\n",
       "\n",
       "    .dataframe tbody tr th {\n",
       "        vertical-align: top;\n",
       "    }\n",
       "\n",
       "    .dataframe thead th {\n",
       "        text-align: right;\n",
       "    }\n",
       "</style>\n",
       "<table border=\"1\" class=\"dataframe\">\n",
       "  <thead>\n",
       "    <tr style=\"text-align: right;\">\n",
       "      <th></th>\n",
       "      <th>id</th>\n",
       "      <th>source_events</th>\n",
       "      <th>message_events</th>\n",
       "      <th>timestamp_events</th>\n",
       "      <th>criticality_events</th>\n",
       "      <th>identification_events</th>\n",
       "    </tr>\n",
       "  </thead>\n",
       "  <tbody>\n",
       "    <tr>\n",
       "      <th>0</th>\n",
       "      <td>26377496</td>\n",
       "      <td>PLC</td>\n",
       "      <td>JV-Ti non prêt : impression impossible</td>\n",
       "      <td>2024-01-02T13:39:58.986Z</td>\n",
       "      <td>INFO</td>\n",
       "      <td>391</td>\n",
       "    </tr>\n",
       "    <tr>\n",
       "      <th>1</th>\n",
       "      <td>26377496</td>\n",
       "      <td>iFoil</td>\n",
       "      <td>JV-Ti non prêt : impression impossible</td>\n",
       "      <td>2024-01-02T13:39:59.075Z</td>\n",
       "      <td>INFO</td>\n",
       "      <td>391</td>\n",
       "    </tr>\n",
       "  </tbody>\n",
       "</table>\n",
       "</div>"
      ],
      "text/plain": [
       "         id source_events                           message_events  \\\n",
       "0  26377496           PLC   JV-Ti non prêt : impression impossible   \n",
       "1  26377496         iFoil   JV-Ti non prêt : impression impossible   \n",
       "\n",
       "           timestamp_events criticality_events identification_events  \n",
       "0  2024-01-02T13:39:58.986Z               INFO                   391  \n",
       "1  2024-01-02T13:39:59.075Z               INFO                   391  "
      ]
     },
     "execution_count": 16,
     "metadata": {},
     "output_type": "execute_result"
    }
   ],
   "source": [
    "# creation d'un dataframe events (~20s)\n",
    "events_df = convert_col_to_df('events', metrics_df, {'id':[]})\n",
    "print(events_df.info())\n",
    "events_df.head(2)"
   ]
  },
  {
   "attachments": {},
   "cell_type": "markdown",
   "metadata": {},
   "source": [
    "##### Identification"
   ]
  },
  {
   "cell_type": "code",
   "execution_count": 17,
   "metadata": {},
   "outputs": [
    {
     "data": {
      "text/plain": [
       "array(['0', '311', '313', '315', '321', '323', '324', '330', '331', '332',\n",
       "       '333', '334', '343', '344', '345', '352', '354', '355', '356',\n",
       "       '357', '358', '371', '372', '373', '374', '376', '377', '386',\n",
       "       '387', '391', '405', '406', '407', '408', '417', '440', '445',\n",
       "       '453', '454', '460', '470', '472', '475', '480', 'Kernel_Error',\n",
       "       'RCB communication error'], dtype=object)"
      ]
     },
     "execution_count": 17,
     "metadata": {},
     "output_type": "execute_result"
    }
   ],
   "source": [
    "# liste des codes d'identification\n",
    "identification_codes_list = events_df['identification_events'].unique()\n",
    "np.sort(identification_codes_list)"
   ]
  },
  {
   "cell_type": "code",
   "execution_count": 18,
   "metadata": {},
   "outputs": [
    {
     "data": {
      "text/plain": [
       "{'391': ' JV-Ti non prêt : impression impossible',\n",
       " '333': ' Plateau de têtes en mouvement',\n",
       " '330': ' En attente',\n",
       " '334': ' Préchauffage',\n",
       " '417': ' Portes margeur ouvertes E-0417',\n",
       " '387': ' Erreur positionnement plateau E-0387',\n",
       " '311': ' Attente initialisation',\n",
       " '354': ' Bourrage : module impression E-0354',\n",
       " '315': ' Support lingette non installé',\n",
       " '406': ' Purge en cours',\n",
       " '440': ' Défaut remplissage réservoirs E-0440',\n",
       " '407': ' Essuyage en cours',\n",
       " '332': ' Disponible',\n",
       " '331': ' Impression en cours',\n",
       " '377': ' Chargeur: mode auto non activé',\n",
       " '344': ' Manque papier',\n",
       " '321': \" Arrêt d'urgence impression E-0321\",\n",
       " '480': \" Arrêt d'urgence stacker E-0480\",\n",
       " '386': ' Erreur four UV E-0386',\n",
       " '372': ' Attente démarrage UV',\n",
       " '371': ' Démarrrage UV en cours',\n",
       " '0': '',\n",
       " '374': ' Défaut LED UV E-0374',\n",
       " 'Kernel_Error': 'AIS, There might be a communication problem with the following cameras : 1 2 3 4\\n',\n",
       " '376': ' Réception: mode auto non activé',\n",
       " '470': ' Défaut communication chargeur palette E-0470',\n",
       " '352': ' Double feuille détectée E-0352',\n",
       " '408': ' Nettoyage en cours',\n",
       " 'RCB communication error': 'A communication error has occured between Network card  and  RCB n°1',\n",
       " '472': '.',\n",
       " '373': ' Extinction UV en cours',\n",
       " '323': \" Arrêt d'urgence feeder E-0323\",\n",
       " '475': ' Défaut communication Corona E-0475',\n",
       " '405': ' Utilisation déconseillée des IRs: vitesse basse E-0405',\n",
       " '313': ' Ecart nb. feuilles demandées /nb. feuilles sorties',\n",
       " '355': ' Bourrage : module séchage IR E-0355',\n",
       " '345': \" Consommable à 80% d'usure\",\n",
       " '343': ' Nettoyage tapis en cours',\n",
       " '324': ' Consommable(s) expiré(s) E-0324',\n",
       " '357': ' Bourrage : sortie sécheur E-0357',\n",
       " '356': ' Bourrage : module séchage UV E-0356',\n",
       " '454': ' Bourrage Corona - E0454',\n",
       " '445': \" Erreur plaque d'empreintes E-0445\",\n",
       " '358': ' Démarrage machine',\n",
       " '460': ' Défaut communication réception palette E-0460',\n",
       " '453': ' Erreur capteur lift palette C2 E-0453'}"
      ]
     },
     "execution_count": 18,
     "metadata": {},
     "output_type": "execute_result"
    }
   ],
   "source": [
    "# liste des évènements uniques\n",
    "identification_dict = {}\n",
    "c = 1\n",
    "id_list = []\n",
    "for i in range(events_df.index.start, events_df.index.stop):\n",
    "    id = events_df.identification_events.loc[i]\n",
    "    if id not in id_list:\n",
    "        id_list.append(id)\n",
    "        identification_dict[id] = events_df.message_events.loc[i]\n",
    "        c += 1\n",
    "identification_dict"
   ]
  },
  {
   "attachments": {},
   "cell_type": "markdown",
   "metadata": {},
   "source": [
    "##### Source"
   ]
  },
  {
   "cell_type": "code",
   "execution_count": 19,
   "metadata": {},
   "outputs": [
    {
     "data": {
      "text/plain": [
       "array(['Kernel', 'PLC', 'RCB n°1', 'RCB n°2', 'RCB n°3', 'iFoil'],\n",
       "      dtype=object)"
      ]
     },
     "execution_count": 19,
     "metadata": {},
     "output_type": "execute_result"
    }
   ],
   "source": [
    "# liste des sources\n",
    "source_list = events_df['source_events'].unique()\n",
    "np.sort(source_list)"
   ]
  },
  {
   "attachments": {},
   "cell_type": "markdown",
   "metadata": {},
   "source": [
    "##### Criticality"
   ]
  },
  {
   "cell_type": "code",
   "execution_count": 20,
   "metadata": {},
   "outputs": [
    {
     "data": {
      "text/plain": [
       "array(['ERROR', 'INFO', 'WARNING'], dtype=object)"
      ]
     },
     "execution_count": 20,
     "metadata": {},
     "output_type": "execute_result"
    }
   ],
   "source": [
    "# liste des sources\n",
    "criticality_list = events_df['criticality_events'].unique()\n",
    "np.sort(criticality_list)"
   ]
  },
  {
   "attachments": {},
   "cell_type": "markdown",
   "metadata": {},
   "source": [
    "##### Events Json dict"
   ]
  },
  {
   "cell_type": "code",
   "execution_count": 21,
   "metadata": {},
   "outputs": [],
   "source": [
    "# on sauvegarde la liste des codes d'identification d'event\n",
    "with open(file=Path(save_json), mode=\"r+\", encoding='utf-8') as jsonFile:\n",
    "    try :\n",
    "        # chargement des données du fichier dans un dictionnaire\n",
    "        data = json.load(jsonFile)\n",
    "        # ajout des données dans le dictionnaire\n",
    "        data['identification'] = identification_dict\n",
    "        data['criticality'] = list(np.sort(criticality_list)),\n",
    "        data['source'] = list(np.sort(source_list))\n",
    "        # définit la position actuelle du fichier à l'offset\n",
    "        jsonFile.seek(0)\n",
    "        # écriture du dicitonnaire dans le fichier\n",
    "        json.dump(data, jsonFile, indent=4, ensure_ascii=False)\n",
    "    except ValueError as e:\n",
    "        print(e)\n",
    "    finally :\n",
    "        # fermeture du fichier\n",
    "        jsonFile.close()"
   ]
  },
  {
   "attachments": {},
   "cell_type": "markdown",
   "metadata": {},
   "source": [
    "#### 3) Colonne 'modules'"
   ]
  },
  {
   "cell_type": "code",
   "execution_count": 22,
   "metadata": {},
   "outputs": [
    {
     "name": "stdout",
     "output_type": "stream",
     "text": [
      "first :  <class 'dict'> {'sn': '', 'name': 'Print Engine 1', 'type': 'Varnish Printer', 'counters': [{'name': '3D Varnish Counter', 'value': 36042}], 'generation': ''}\n",
      "<class 'pandas.core.frame.DataFrame'>\n",
      "RangeIndex: 118744 entries, 0 to 118743\n",
      "Data columns (total 6 columns):\n",
      " #   Column              Non-Null Count   Dtype \n",
      "---  ------              --------------   ----- \n",
      " 0   id                  118744 non-null  int64 \n",
      " 1   sn_modules          118744 non-null  object\n",
      " 2   name_modules        118744 non-null  object\n",
      " 3   type_modules        118744 non-null  object\n",
      " 4   counters_modules    118744 non-null  object\n",
      " 5   generation_modules  118744 non-null  object\n",
      "dtypes: int64(1), object(5)\n",
      "memory usage: 5.4+ MB\n",
      "None\n"
     ]
    },
    {
     "data": {
      "text/html": [
       "<div>\n",
       "<style scoped>\n",
       "    .dataframe tbody tr th:only-of-type {\n",
       "        vertical-align: middle;\n",
       "    }\n",
       "\n",
       "    .dataframe tbody tr th {\n",
       "        vertical-align: top;\n",
       "    }\n",
       "\n",
       "    .dataframe thead th {\n",
       "        text-align: right;\n",
       "    }\n",
       "</style>\n",
       "<table border=\"1\" class=\"dataframe\">\n",
       "  <thead>\n",
       "    <tr style=\"text-align: right;\">\n",
       "      <th></th>\n",
       "      <th>id</th>\n",
       "      <th>sn_modules</th>\n",
       "      <th>name_modules</th>\n",
       "      <th>type_modules</th>\n",
       "      <th>counters_modules</th>\n",
       "      <th>generation_modules</th>\n",
       "    </tr>\n",
       "  </thead>\n",
       "  <tbody>\n",
       "    <tr>\n",
       "      <th>0</th>\n",
       "      <td>26377486</td>\n",
       "      <td></td>\n",
       "      <td>Print Engine 1</td>\n",
       "      <td>Varnish Printer</td>\n",
       "      <td>[{'name': '3D Varnish Counter', 'value': 36042}]</td>\n",
       "      <td></td>\n",
       "    </tr>\n",
       "    <tr>\n",
       "      <th>1</th>\n",
       "      <td>26377486</td>\n",
       "      <td></td>\n",
       "      <td>iFoil L</td>\n",
       "      <td>iFoil</td>\n",
       "      <td>[{'name': 'Total Pages Counter', 'value': 5210...</td>\n",
       "      <td>Gen. 2</td>\n",
       "    </tr>\n",
       "  </tbody>\n",
       "</table>\n",
       "</div>"
      ],
      "text/plain": [
       "         id sn_modules    name_modules     type_modules  \\\n",
       "0  26377486             Print Engine 1  Varnish Printer   \n",
       "1  26377486                    iFoil L            iFoil   \n",
       "\n",
       "                                    counters_modules generation_modules  \n",
       "0   [{'name': '3D Varnish Counter', 'value': 36042}]                     \n",
       "1  [{'name': 'Total Pages Counter', 'value': 5210...             Gen. 2  "
      ]
     },
     "execution_count": 22,
     "metadata": {},
     "output_type": "execute_result"
    }
   ],
   "source": [
    "# creation d'un dataframe modules (~1m15s)\n",
    "modules_df = convert_col_to_df('modules', metrics_df, {'id':[]})\n",
    "# visualisation des données\n",
    "print(modules_df.info())\n",
    "modules_df.head(2)"
   ]
  },
  {
   "attachments": {},
   "cell_type": "markdown",
   "metadata": {},
   "source": [
    "##### Colonne counters"
   ]
  },
  {
   "cell_type": "code",
   "execution_count": 23,
   "metadata": {},
   "outputs": [
    {
     "name": "stdout",
     "output_type": "stream",
     "text": [
      "first :  <class 'dict'> {'name': '3D Varnish Counter', 'value': 36042}\n",
      "<class 'pandas.core.frame.DataFrame'>\n",
      "RangeIndex: 178116 entries, 0 to 178115\n",
      "Data columns (total 4 columns):\n",
      " #   Column                  Non-Null Count   Dtype \n",
      "---  ------                  --------------   ----- \n",
      " 0   type_modules            178116 non-null  object\n",
      " 1   id                      178116 non-null  int64 \n",
      " 2   name_counters_modules   178116 non-null  object\n",
      " 3   value_counters_modules  178116 non-null  int64 \n",
      "dtypes: int64(2), object(2)\n",
      "memory usage: 5.4+ MB\n",
      "None\n"
     ]
    },
    {
     "data": {
      "text/html": [
       "<div>\n",
       "<style scoped>\n",
       "    .dataframe tbody tr th:only-of-type {\n",
       "        vertical-align: middle;\n",
       "    }\n",
       "\n",
       "    .dataframe tbody tr th {\n",
       "        vertical-align: top;\n",
       "    }\n",
       "\n",
       "    .dataframe thead th {\n",
       "        text-align: right;\n",
       "    }\n",
       "</style>\n",
       "<table border=\"1\" class=\"dataframe\">\n",
       "  <thead>\n",
       "    <tr style=\"text-align: right;\">\n",
       "      <th></th>\n",
       "      <th>type_modules</th>\n",
       "      <th>id</th>\n",
       "      <th>name_counters_modules</th>\n",
       "      <th>value_counters_modules</th>\n",
       "    </tr>\n",
       "  </thead>\n",
       "  <tbody>\n",
       "    <tr>\n",
       "      <th>0</th>\n",
       "      <td>Varnish Printer</td>\n",
       "      <td>26377486</td>\n",
       "      <td>3D Varnish Counter</td>\n",
       "      <td>36042</td>\n",
       "    </tr>\n",
       "    <tr>\n",
       "      <th>1</th>\n",
       "      <td>iFoil</td>\n",
       "      <td>26377486</td>\n",
       "      <td>Total Pages Counter</td>\n",
       "      <td>52108</td>\n",
       "    </tr>\n",
       "  </tbody>\n",
       "</table>\n",
       "</div>"
      ],
      "text/plain": [
       "      type_modules        id name_counters_modules  value_counters_modules\n",
       "0  Varnish Printer  26377486    3D Varnish Counter                   36042\n",
       "1            iFoil  26377486   Total Pages Counter                   52108"
      ]
     },
     "execution_count": 23,
     "metadata": {},
     "output_type": "execute_result"
    }
   ],
   "source": [
    "# creation d'un dataframe counters (~2m7s)\n",
    "counters_df = convert_col_to_df('counters_modules', modules_df, {'type_modules':[], 'id': []})\n",
    "# visualisation des données\n",
    "print(counters_df.info())\n",
    "counters_df.head(2)"
   ]
  },
  {
   "cell_type": "code",
   "execution_count": 24,
   "metadata": {},
   "outputs": [
    {
     "data": {
      "text/html": [
       "<div>\n",
       "<style scoped>\n",
       "    .dataframe tbody tr th:only-of-type {\n",
       "        vertical-align: middle;\n",
       "    }\n",
       "\n",
       "    .dataframe tbody tr th {\n",
       "        vertical-align: top;\n",
       "    }\n",
       "\n",
       "    .dataframe thead th {\n",
       "        text-align: right;\n",
       "    }\n",
       "</style>\n",
       "<table border=\"1\" class=\"dataframe\">\n",
       "  <thead>\n",
       "    <tr style=\"text-align: right;\">\n",
       "      <th></th>\n",
       "      <th>type_modules</th>\n",
       "      <th>id</th>\n",
       "      <th>name_counters_modules</th>\n",
       "      <th>value_counters_modules</th>\n",
       "    </tr>\n",
       "  </thead>\n",
       "  <tbody>\n",
       "    <tr>\n",
       "      <th>30</th>\n",
       "      <td>Varnish Printer</td>\n",
       "      <td>26377588</td>\n",
       "      <td>3D Varnish Counter</td>\n",
       "      <td>36042</td>\n",
       "    </tr>\n",
       "    <tr>\n",
       "      <th>31</th>\n",
       "      <td>iFoil</td>\n",
       "      <td>26377588</td>\n",
       "      <td>Total Pages Counter</td>\n",
       "      <td>52108</td>\n",
       "    </tr>\n",
       "    <tr>\n",
       "      <th>32</th>\n",
       "      <td>iFoil</td>\n",
       "      <td>26377588</td>\n",
       "      <td>Foiled Pages Counter</td>\n",
       "      <td>132061</td>\n",
       "    </tr>\n",
       "  </tbody>\n",
       "</table>\n",
       "</div>"
      ],
      "text/plain": [
       "       type_modules        id name_counters_modules  value_counters_modules\n",
       "30  Varnish Printer  26377588    3D Varnish Counter                   36042\n",
       "31            iFoil  26377588   Total Pages Counter                   52108\n",
       "32            iFoil  26377588  Foiled Pages Counter                  132061"
      ]
     },
     "execution_count": 24,
     "metadata": {},
     "output_type": "execute_result"
    }
   ],
   "source": [
    "# verification de l'intégrité des données\n",
    "counters_check_line = counters_df[counters_df.id == check_id]\n",
    "counters_check_line"
   ]
  },
  {
   "attachments": {},
   "cell_type": "markdown",
   "metadata": {},
   "source": [
    "### c) Fusion des dataframes des colonnes fractionnées"
   ]
  },
  {
   "attachments": {},
   "cell_type": "markdown",
   "metadata": {},
   "source": [
    "#### 1) Merge modules et counters"
   ]
  },
  {
   "cell_type": "code",
   "execution_count": 25,
   "metadata": {},
   "outputs": [
    {
     "data": {
      "text/html": [
       "<div>\n",
       "<style scoped>\n",
       "    .dataframe tbody tr th:only-of-type {\n",
       "        vertical-align: middle;\n",
       "    }\n",
       "\n",
       "    .dataframe tbody tr th {\n",
       "        vertical-align: top;\n",
       "    }\n",
       "\n",
       "    .dataframe thead th {\n",
       "        text-align: right;\n",
       "    }\n",
       "</style>\n",
       "<table border=\"1\" class=\"dataframe\">\n",
       "  <thead>\n",
       "    <tr style=\"text-align: right;\">\n",
       "      <th></th>\n",
       "      <th>id</th>\n",
       "      <th>sn_modules</th>\n",
       "      <th>name_modules</th>\n",
       "      <th>type_modules</th>\n",
       "      <th>generation_modules</th>\n",
       "      <th>name_counters_modules</th>\n",
       "      <th>value_counters_modules</th>\n",
       "    </tr>\n",
       "  </thead>\n",
       "  <tbody>\n",
       "    <tr>\n",
       "      <th>30</th>\n",
       "      <td>26377588</td>\n",
       "      <td></td>\n",
       "      <td>Print Engine 1</td>\n",
       "      <td>Varnish Printer</td>\n",
       "      <td></td>\n",
       "      <td>3D Varnish Counter</td>\n",
       "      <td>36042</td>\n",
       "    </tr>\n",
       "    <tr>\n",
       "      <th>31</th>\n",
       "      <td>26377588</td>\n",
       "      <td></td>\n",
       "      <td>iFoil L</td>\n",
       "      <td>iFoil</td>\n",
       "      <td>Gen. 2</td>\n",
       "      <td>Total Pages Counter</td>\n",
       "      <td>52108</td>\n",
       "    </tr>\n",
       "    <tr>\n",
       "      <th>32</th>\n",
       "      <td>26377588</td>\n",
       "      <td></td>\n",
       "      <td>iFoil L</td>\n",
       "      <td>iFoil</td>\n",
       "      <td>Gen. 2</td>\n",
       "      <td>Foiled Pages Counter</td>\n",
       "      <td>132061</td>\n",
       "    </tr>\n",
       "  </tbody>\n",
       "</table>\n",
       "</div>"
      ],
      "text/plain": [
       "          id sn_modules    name_modules     type_modules generation_modules  \\\n",
       "30  26377588             Print Engine 1  Varnish Printer                      \n",
       "31  26377588                    iFoil L            iFoil             Gen. 2   \n",
       "32  26377588                    iFoil L            iFoil             Gen. 2   \n",
       "\n",
       "   name_counters_modules  value_counters_modules  \n",
       "30    3D Varnish Counter                   36042  \n",
       "31   Total Pages Counter                   52108  \n",
       "32  Foiled Pages Counter                  132061  "
      ]
     },
     "execution_count": 25,
     "metadata": {},
     "output_type": "execute_result"
    }
   ],
   "source": [
    "# fusion du df modue et du df counter\n",
    "merge_modules_df = pd.merge(modules_df, counters_df, on=['id','type_modules'])\n",
    "# suppression de la colonne fractionnées\n",
    "merge_modules_df = merge_modules_df.drop(['counters_modules'], axis=1)\n",
    "# verification de l'intégrité des données\n",
    "module_check_line = merge_modules_df[merge_modules_df.id == check_id]\n",
    "module_check_line"
   ]
  },
  {
   "cell_type": "code",
   "execution_count": 26,
   "metadata": {},
   "outputs": [
    {
     "name": "stdout",
     "output_type": "stream",
     "text": [
      "<class 'pandas.core.frame.DataFrame'>\n",
      "Int64Index: 178116 entries, 0 to 178115\n",
      "Data columns (total 7 columns):\n",
      " #   Column                  Non-Null Count   Dtype \n",
      "---  ------                  --------------   ----- \n",
      " 0   id                      178116 non-null  int64 \n",
      " 1   sn_modules              178116 non-null  object\n",
      " 2   name_modules            178116 non-null  object\n",
      " 3   type_modules            178116 non-null  object\n",
      " 4   generation_modules      178116 non-null  object\n",
      " 5   name_counters_modules   178116 non-null  object\n",
      " 6   value_counters_modules  178116 non-null  int64 \n",
      "dtypes: int64(2), object(5)\n",
      "memory usage: 10.9+ MB\n"
     ]
    }
   ],
   "source": [
    "merge_modules_df.info()"
   ]
  },
  {
   "attachments": {},
   "cell_type": "markdown",
   "metadata": {},
   "source": [
    "#### 2) Merge operators"
   ]
  },
  {
   "cell_type": "code",
   "execution_count": 27,
   "metadata": {},
   "outputs": [
    {
     "data": {
      "text/html": [
       "<div>\n",
       "<style scoped>\n",
       "    .dataframe tbody tr th:only-of-type {\n",
       "        vertical-align: middle;\n",
       "    }\n",
       "\n",
       "    .dataframe tbody tr th {\n",
       "        vertical-align: top;\n",
       "    }\n",
       "\n",
       "    .dataframe thead th {\n",
       "        text-align: right;\n",
       "    }\n",
       "</style>\n",
       "<table border=\"1\" class=\"dataframe\">\n",
       "  <thead>\n",
       "    <tr style=\"text-align: right;\">\n",
       "      <th></th>\n",
       "      <th>id</th>\n",
       "      <th>sn_modules</th>\n",
       "      <th>name_modules</th>\n",
       "      <th>type_modules</th>\n",
       "      <th>generation_modules</th>\n",
       "      <th>name_counters_modules</th>\n",
       "      <th>value_counters_modules</th>\n",
       "      <th>name_connected_operators</th>\n",
       "      <th>level_connected_operators</th>\n",
       "    </tr>\n",
       "  </thead>\n",
       "  <tbody>\n",
       "    <tr>\n",
       "      <th>30</th>\n",
       "      <td>26377588</td>\n",
       "      <td></td>\n",
       "      <td>Print Engine 1</td>\n",
       "      <td>Varnish Printer</td>\n",
       "      <td></td>\n",
       "      <td>3D Varnish Counter</td>\n",
       "      <td>36042</td>\n",
       "      <td>JAN</td>\n",
       "      <td>Operator</td>\n",
       "    </tr>\n",
       "    <tr>\n",
       "      <th>31</th>\n",
       "      <td>26377588</td>\n",
       "      <td></td>\n",
       "      <td>iFoil L</td>\n",
       "      <td>iFoil</td>\n",
       "      <td>Gen. 2</td>\n",
       "      <td>Total Pages Counter</td>\n",
       "      <td>52108</td>\n",
       "      <td>JAN</td>\n",
       "      <td>Operator</td>\n",
       "    </tr>\n",
       "    <tr>\n",
       "      <th>32</th>\n",
       "      <td>26377588</td>\n",
       "      <td></td>\n",
       "      <td>iFoil L</td>\n",
       "      <td>iFoil</td>\n",
       "      <td>Gen. 2</td>\n",
       "      <td>Foiled Pages Counter</td>\n",
       "      <td>132061</td>\n",
       "      <td>JAN</td>\n",
       "      <td>Operator</td>\n",
       "    </tr>\n",
       "  </tbody>\n",
       "</table>\n",
       "</div>"
      ],
      "text/plain": [
       "          id sn_modules    name_modules     type_modules generation_modules  \\\n",
       "30  26377588             Print Engine 1  Varnish Printer                      \n",
       "31  26377588                    iFoil L            iFoil             Gen. 2   \n",
       "32  26377588                    iFoil L            iFoil             Gen. 2   \n",
       "\n",
       "   name_counters_modules  value_counters_modules name_connected_operators  \\\n",
       "30    3D Varnish Counter                   36042                      JAN   \n",
       "31   Total Pages Counter                   52108                      JAN   \n",
       "32  Foiled Pages Counter                  132061                      JAN   \n",
       "\n",
       "   level_connected_operators  \n",
       "30                  Operator  \n",
       "31                  Operator  \n",
       "32                  Operator  "
      ]
     },
     "execution_count": 27,
     "metadata": {},
     "output_type": "execute_result"
    }
   ],
   "source": [
    "# on merge avec le df operators en fonction de l'id de message\n",
    "merge_operators_df = pd.merge(merge_modules_df, connected_operators_df, on='id', suffixes=['','_op'])\n",
    "# verification de l'intégrité des données\n",
    "op_check_line = merge_operators_df[merge_operators_df.id == check_id]\n",
    "op_check_line"
   ]
  },
  {
   "attachments": {},
   "cell_type": "markdown",
   "metadata": {},
   "source": [
    "#### 3) Merge events"
   ]
  },
  {
   "cell_type": "code",
   "execution_count": 28,
   "metadata": {},
   "outputs": [
    {
     "data": {
      "text/html": [
       "<div>\n",
       "<style scoped>\n",
       "    .dataframe tbody tr th:only-of-type {\n",
       "        vertical-align: middle;\n",
       "    }\n",
       "\n",
       "    .dataframe tbody tr th {\n",
       "        vertical-align: top;\n",
       "    }\n",
       "\n",
       "    .dataframe thead th {\n",
       "        text-align: right;\n",
       "    }\n",
       "</style>\n",
       "<table border=\"1\" class=\"dataframe\">\n",
       "  <thead>\n",
       "    <tr style=\"text-align: right;\">\n",
       "      <th></th>\n",
       "      <th>id</th>\n",
       "      <th>source_events</th>\n",
       "      <th>message_events</th>\n",
       "      <th>timestamp_events</th>\n",
       "      <th>criticality_events</th>\n",
       "      <th>identification_events</th>\n",
       "      <th>sn_modules</th>\n",
       "      <th>name_modules</th>\n",
       "      <th>type_modules</th>\n",
       "      <th>generation_modules</th>\n",
       "      <th>name_counters_modules</th>\n",
       "      <th>value_counters_modules</th>\n",
       "      <th>name_connected_operators</th>\n",
       "      <th>level_connected_operators</th>\n",
       "    </tr>\n",
       "  </thead>\n",
       "  <tbody>\n",
       "    <tr>\n",
       "      <th>810</th>\n",
       "      <td>26377588</td>\n",
       "      <td>NaN</td>\n",
       "      <td>NaN</td>\n",
       "      <td>NaN</td>\n",
       "      <td>NaN</td>\n",
       "      <td>NaN</td>\n",
       "      <td></td>\n",
       "      <td>iFoil L</td>\n",
       "      <td>iFoil</td>\n",
       "      <td>Gen. 2</td>\n",
       "      <td>Total Pages Counter</td>\n",
       "      <td>52108</td>\n",
       "      <td>JAN</td>\n",
       "      <td>Operator</td>\n",
       "    </tr>\n",
       "    <tr>\n",
       "      <th>811</th>\n",
       "      <td>26377588</td>\n",
       "      <td>NaN</td>\n",
       "      <td>NaN</td>\n",
       "      <td>NaN</td>\n",
       "      <td>NaN</td>\n",
       "      <td>NaN</td>\n",
       "      <td></td>\n",
       "      <td>iFoil L</td>\n",
       "      <td>iFoil</td>\n",
       "      <td>Gen. 2</td>\n",
       "      <td>Foiled Pages Counter</td>\n",
       "      <td>132061</td>\n",
       "      <td>JAN</td>\n",
       "      <td>Operator</td>\n",
       "    </tr>\n",
       "  </tbody>\n",
       "</table>\n",
       "</div>"
      ],
      "text/plain": [
       "           id source_events message_events timestamp_events  \\\n",
       "810  26377588           NaN            NaN              NaN   \n",
       "811  26377588           NaN            NaN              NaN   \n",
       "\n",
       "    criticality_events identification_events sn_modules name_modules  \\\n",
       "810                NaN                   NaN                 iFoil L   \n",
       "811                NaN                   NaN                 iFoil L   \n",
       "\n",
       "    type_modules generation_modules name_counters_modules  \\\n",
       "810        iFoil             Gen. 2   Total Pages Counter   \n",
       "811        iFoil             Gen. 2  Foiled Pages Counter   \n",
       "\n",
       "     value_counters_modules name_connected_operators level_connected_operators  \n",
       "810                   52108                      JAN                  Operator  \n",
       "811                  132061                      JAN                  Operator  "
      ]
     },
     "execution_count": 28,
     "metadata": {},
     "output_type": "execute_result"
    }
   ],
   "source": [
    "# on crée un df, à partir du df events, ne contenant que les lignes ayant un évènement de source Ifoil\n",
    "events_ifoil = events_df[events_df.source_events == 'iFoil']\n",
    "# on crée un df, à partir du df merge, ne contenant que les lignes ayant un module de type Ifoil\n",
    "module_ifoil = merge_operators_df[merge_operators_df.type_modules == 'iFoil']\n",
    "# on merge les deux df des lignes Ifoil en focntion de l'id de message\n",
    "merge_ifoil_df = pd.merge(events_ifoil, module_ifoil, how='outer', on='id', suffixes=['_event','_module'])\n",
    "# verification de l'intégrité des données\n",
    "events_check_line = merge_ifoil_df[merge_ifoil_df.id == check_id]\n",
    "events_check_line"
   ]
  },
  {
   "attachments": {},
   "cell_type": "markdown",
   "metadata": {},
   "source": [
    "Comme il y avait 2 counters ('Total Pages Counter' et 'Foiled Pages Counter') pour le module de type 'Ifoil', nous avons bien 2 lignes."
   ]
  },
  {
   "cell_type": "code",
   "execution_count": 29,
   "metadata": {},
   "outputs": [
    {
     "data": {
      "text/html": [
       "<div>\n",
       "<style scoped>\n",
       "    .dataframe tbody tr th:only-of-type {\n",
       "        vertical-align: middle;\n",
       "    }\n",
       "\n",
       "    .dataframe tbody tr th {\n",
       "        vertical-align: top;\n",
       "    }\n",
       "\n",
       "    .dataframe thead th {\n",
       "        text-align: right;\n",
       "    }\n",
       "</style>\n",
       "<table border=\"1\" class=\"dataframe\">\n",
       "  <thead>\n",
       "    <tr style=\"text-align: right;\">\n",
       "      <th></th>\n",
       "      <th>id</th>\n",
       "      <th>source_events</th>\n",
       "      <th>message_events</th>\n",
       "      <th>timestamp_events</th>\n",
       "      <th>criticality_events</th>\n",
       "      <th>identification_events</th>\n",
       "      <th>sn_modules</th>\n",
       "      <th>name_modules</th>\n",
       "      <th>type_modules</th>\n",
       "      <th>generation_modules</th>\n",
       "      <th>name_counters_modules</th>\n",
       "      <th>value_counters_modules</th>\n",
       "      <th>name_connected_operators</th>\n",
       "      <th>level_connected_operators</th>\n",
       "    </tr>\n",
       "  </thead>\n",
       "  <tbody>\n",
       "    <tr>\n",
       "      <th>5</th>\n",
       "      <td>26377588</td>\n",
       "      <td>PLC</td>\n",
       "      <td>Portes margeur ouvertes E-0417</td>\n",
       "      <td>2024-01-02T13:41:28.848Z</td>\n",
       "      <td>ERROR</td>\n",
       "      <td>417</td>\n",
       "      <td></td>\n",
       "      <td>Print Engine 1</td>\n",
       "      <td>Varnish Printer</td>\n",
       "      <td></td>\n",
       "      <td>3D Varnish Counter</td>\n",
       "      <td>36042</td>\n",
       "      <td>JAN</td>\n",
       "      <td>Operator</td>\n",
       "    </tr>\n",
       "    <tr>\n",
       "      <th>6</th>\n",
       "      <td>26377588</td>\n",
       "      <td>PLC</td>\n",
       "      <td>Plateau de têtes en mouvement</td>\n",
       "      <td>2024-01-02T13:41:31.674Z</td>\n",
       "      <td>INFO</td>\n",
       "      <td>333</td>\n",
       "      <td></td>\n",
       "      <td>Print Engine 1</td>\n",
       "      <td>Varnish Printer</td>\n",
       "      <td></td>\n",
       "      <td>3D Varnish Counter</td>\n",
       "      <td>36042</td>\n",
       "      <td>JAN</td>\n",
       "      <td>Operator</td>\n",
       "    </tr>\n",
       "  </tbody>\n",
       "</table>\n",
       "</div>"
      ],
      "text/plain": [
       "         id source_events                   message_events  \\\n",
       "5  26377588           PLC   Portes margeur ouvertes E-0417   \n",
       "6  26377588           PLC    Plateau de têtes en mouvement   \n",
       "\n",
       "           timestamp_events criticality_events identification_events  \\\n",
       "5  2024-01-02T13:41:28.848Z              ERROR                   417   \n",
       "6  2024-01-02T13:41:31.674Z               INFO                   333   \n",
       "\n",
       "  sn_modules    name_modules     type_modules generation_modules  \\\n",
       "5             Print Engine 1  Varnish Printer                      \n",
       "6             Print Engine 1  Varnish Printer                      \n",
       "\n",
       "  name_counters_modules  value_counters_modules name_connected_operators  \\\n",
       "5    3D Varnish Counter                   36042                      JAN   \n",
       "6    3D Varnish Counter                   36042                      JAN   \n",
       "\n",
       "  level_connected_operators  \n",
       "5                  Operator  \n",
       "6                  Operator  "
      ]
     },
     "execution_count": 29,
     "metadata": {},
     "output_type": "execute_result"
    }
   ],
   "source": [
    "# on crée un df, à partir du df events, ne contenant que les lignes ayant un évènement de source Ifoil\n",
    "events_no_ifoil = events_df[events_df.source_events != 'iFoil']\n",
    "# on crée un df, à partir du df merge, ne contenant que les lignes ayant un module de type Ifoil\n",
    "module_no_ifoil = merge_operators_df[merge_operators_df.type_modules != 'iFoil']\n",
    "# on merge les deux df des lignes Ifoil en focntion de l'id de message\n",
    "merge_no_ifoil_df = pd.merge(events_no_ifoil, module_no_ifoil, how='outer', on='id', suffixes=['_event','_module'])\n",
    "# verification de l'intégrité des données\n",
    "events_check_line = merge_no_ifoil_df[merge_no_ifoil_df.id == check_id]\n",
    "events_check_line"
   ]
  },
  {
   "attachments": {},
   "cell_type": "markdown",
   "metadata": {},
   "source": [
    "##### Concaténation"
   ]
  },
  {
   "cell_type": "code",
   "execution_count": 30,
   "metadata": {},
   "outputs": [
    {
     "data": {
      "text/html": [
       "<div>\n",
       "<style scoped>\n",
       "    .dataframe tbody tr th:only-of-type {\n",
       "        vertical-align: middle;\n",
       "    }\n",
       "\n",
       "    .dataframe tbody tr th {\n",
       "        vertical-align: top;\n",
       "    }\n",
       "\n",
       "    .dataframe thead th {\n",
       "        text-align: right;\n",
       "    }\n",
       "</style>\n",
       "<table border=\"1\" class=\"dataframe\">\n",
       "  <thead>\n",
       "    <tr style=\"text-align: right;\">\n",
       "      <th></th>\n",
       "      <th>id</th>\n",
       "      <th>source_events</th>\n",
       "      <th>message_events</th>\n",
       "      <th>timestamp_events</th>\n",
       "      <th>criticality_events</th>\n",
       "      <th>identification_events</th>\n",
       "      <th>sn_modules</th>\n",
       "      <th>name_modules</th>\n",
       "      <th>type_modules</th>\n",
       "      <th>generation_modules</th>\n",
       "      <th>name_counters_modules</th>\n",
       "      <th>value_counters_modules</th>\n",
       "      <th>name_connected_operators</th>\n",
       "      <th>level_connected_operators</th>\n",
       "    </tr>\n",
       "  </thead>\n",
       "  <tbody>\n",
       "    <tr>\n",
       "      <th>810</th>\n",
       "      <td>26377588</td>\n",
       "      <td>NaN</td>\n",
       "      <td>NaN</td>\n",
       "      <td>NaN</td>\n",
       "      <td>NaN</td>\n",
       "      <td>NaN</td>\n",
       "      <td></td>\n",
       "      <td>iFoil L</td>\n",
       "      <td>iFoil</td>\n",
       "      <td>Gen. 2</td>\n",
       "      <td>Total Pages Counter</td>\n",
       "      <td>52108</td>\n",
       "      <td>JAN</td>\n",
       "      <td>Operator</td>\n",
       "    </tr>\n",
       "    <tr>\n",
       "      <th>811</th>\n",
       "      <td>26377588</td>\n",
       "      <td>NaN</td>\n",
       "      <td>NaN</td>\n",
       "      <td>NaN</td>\n",
       "      <td>NaN</td>\n",
       "      <td>NaN</td>\n",
       "      <td></td>\n",
       "      <td>iFoil L</td>\n",
       "      <td>iFoil</td>\n",
       "      <td>Gen. 2</td>\n",
       "      <td>Foiled Pages Counter</td>\n",
       "      <td>132061</td>\n",
       "      <td>JAN</td>\n",
       "      <td>Operator</td>\n",
       "    </tr>\n",
       "    <tr>\n",
       "      <th>5</th>\n",
       "      <td>26377588</td>\n",
       "      <td>PLC</td>\n",
       "      <td>Portes margeur ouvertes E-0417</td>\n",
       "      <td>2024-01-02T13:41:28.848Z</td>\n",
       "      <td>ERROR</td>\n",
       "      <td>417</td>\n",
       "      <td></td>\n",
       "      <td>Print Engine 1</td>\n",
       "      <td>Varnish Printer</td>\n",
       "      <td></td>\n",
       "      <td>3D Varnish Counter</td>\n",
       "      <td>36042</td>\n",
       "      <td>JAN</td>\n",
       "      <td>Operator</td>\n",
       "    </tr>\n",
       "    <tr>\n",
       "      <th>6</th>\n",
       "      <td>26377588</td>\n",
       "      <td>PLC</td>\n",
       "      <td>Plateau de têtes en mouvement</td>\n",
       "      <td>2024-01-02T13:41:31.674Z</td>\n",
       "      <td>INFO</td>\n",
       "      <td>333</td>\n",
       "      <td></td>\n",
       "      <td>Print Engine 1</td>\n",
       "      <td>Varnish Printer</td>\n",
       "      <td></td>\n",
       "      <td>3D Varnish Counter</td>\n",
       "      <td>36042</td>\n",
       "      <td>JAN</td>\n",
       "      <td>Operator</td>\n",
       "    </tr>\n",
       "  </tbody>\n",
       "</table>\n",
       "</div>"
      ],
      "text/plain": [
       "           id source_events                   message_events  \\\n",
       "810  26377588           NaN                              NaN   \n",
       "811  26377588           NaN                              NaN   \n",
       "5    26377588           PLC   Portes margeur ouvertes E-0417   \n",
       "6    26377588           PLC    Plateau de têtes en mouvement   \n",
       "\n",
       "             timestamp_events criticality_events identification_events  \\\n",
       "810                       NaN                NaN                   NaN   \n",
       "811                       NaN                NaN                   NaN   \n",
       "5    2024-01-02T13:41:28.848Z              ERROR                   417   \n",
       "6    2024-01-02T13:41:31.674Z               INFO                   333   \n",
       "\n",
       "    sn_modules    name_modules     type_modules generation_modules  \\\n",
       "810                    iFoil L            iFoil             Gen. 2   \n",
       "811                    iFoil L            iFoil             Gen. 2   \n",
       "5               Print Engine 1  Varnish Printer                      \n",
       "6               Print Engine 1  Varnish Printer                      \n",
       "\n",
       "    name_counters_modules  value_counters_modules name_connected_operators  \\\n",
       "810   Total Pages Counter                   52108                      JAN   \n",
       "811  Foiled Pages Counter                  132061                      JAN   \n",
       "5      3D Varnish Counter                   36042                      JAN   \n",
       "6      3D Varnish Counter                   36042                      JAN   \n",
       "\n",
       "    level_connected_operators  \n",
       "810                  Operator  \n",
       "811                  Operator  \n",
       "5                    Operator  \n",
       "6                    Operator  "
      ]
     },
     "execution_count": 30,
     "metadata": {},
     "output_type": "execute_result"
    }
   ],
   "source": [
    "# on concatene les df ifoi et no_ifoil pour ne perdre aucune valeur\n",
    "concat_events_df = pd.concat([merge_ifoil_df, merge_no_ifoil_df])\n",
    "# verification de l'intégrité des données\n",
    "events_check_line = concat_events_df[concat_events_df.id == check_id]\n",
    "events_check_line"
   ]
  },
  {
   "cell_type": "code",
   "execution_count": 31,
   "metadata": {},
   "outputs": [
    {
     "name": "stdout",
     "output_type": "stream",
     "text": [
      "<class 'pandas.core.frame.DataFrame'>\n",
      "Int64Index: 178761 entries, 0 to 59860\n",
      "Data columns (total 14 columns):\n",
      " #   Column                     Non-Null Count   Dtype \n",
      "---  ------                     --------------   ----- \n",
      " 0   id                         178761 non-null  int64 \n",
      " 1   source_events              3876 non-null    object\n",
      " 2   message_events             3876 non-null    object\n",
      " 3   timestamp_events           3876 non-null    object\n",
      " 4   criticality_events         3876 non-null    object\n",
      " 5   identification_events      3876 non-null    object\n",
      " 6   sn_modules                 178761 non-null  object\n",
      " 7   name_modules               178761 non-null  object\n",
      " 8   type_modules               178761 non-null  object\n",
      " 9   generation_modules         178761 non-null  object\n",
      " 10  name_counters_modules      178761 non-null  object\n",
      " 11  value_counters_modules     178761 non-null  int64 \n",
      " 12  name_connected_operators   178761 non-null  object\n",
      " 13  level_connected_operators  178761 non-null  object\n",
      "dtypes: int64(2), object(12)\n",
      "memory usage: 20.5+ MB\n"
     ]
    }
   ],
   "source": [
    "concat_events_df.info()"
   ]
  },
  {
   "attachments": {},
   "cell_type": "markdown",
   "metadata": {},
   "source": [
    "#### 4) Merge metrics"
   ]
  },
  {
   "cell_type": "code",
   "execution_count": 32,
   "metadata": {},
   "outputs": [
    {
     "data": {
      "text/html": [
       "<div>\n",
       "<style scoped>\n",
       "    .dataframe tbody tr th:only-of-type {\n",
       "        vertical-align: middle;\n",
       "    }\n",
       "\n",
       "    .dataframe tbody tr th {\n",
       "        vertical-align: top;\n",
       "    }\n",
       "\n",
       "    .dataframe thead th {\n",
       "        text-align: right;\n",
       "    }\n",
       "</style>\n",
       "<table border=\"1\" class=\"dataframe\">\n",
       "  <thead>\n",
       "    <tr style=\"text-align: right;\">\n",
       "      <th></th>\n",
       "      <th>id</th>\n",
       "      <th>source_events</th>\n",
       "      <th>message_events</th>\n",
       "      <th>timestamp_events</th>\n",
       "      <th>criticality_events</th>\n",
       "      <th>identification_events</th>\n",
       "      <th>sn_modules</th>\n",
       "      <th>name_modules</th>\n",
       "      <th>type_modules</th>\n",
       "      <th>generation_modules</th>\n",
       "      <th>name_counters_modules</th>\n",
       "      <th>value_counters_modules</th>\n",
       "      <th>name_connected_operators</th>\n",
       "      <th>level_connected_operators</th>\n",
       "      <th>status</th>\n",
       "      <th>created_at</th>\n",
       "      <th>varnishLevelsTargetvolume</th>\n",
       "      <th>varnishLevelsTotalvolume</th>\n",
       "    </tr>\n",
       "  </thead>\n",
       "  <tbody>\n",
       "    <tr>\n",
       "      <th>1156</th>\n",
       "      <td>26377588</td>\n",
       "      <td>NaN</td>\n",
       "      <td>NaN</td>\n",
       "      <td>NaN</td>\n",
       "      <td>NaN</td>\n",
       "      <td>NaN</td>\n",
       "      <td></td>\n",
       "      <td>iFoil L</td>\n",
       "      <td>iFoil</td>\n",
       "      <td>Gen. 2</td>\n",
       "      <td>Total Pages Counter</td>\n",
       "      <td>52108</td>\n",
       "      <td>JAN</td>\n",
       "      <td>Operator</td>\n",
       "      <td>IDLE</td>\n",
       "      <td>2024-01-02 13:41:37.441000</td>\n",
       "      <td>40490.237879</td>\n",
       "      <td>100000</td>\n",
       "    </tr>\n",
       "    <tr>\n",
       "      <th>1157</th>\n",
       "      <td>26377588</td>\n",
       "      <td>NaN</td>\n",
       "      <td>NaN</td>\n",
       "      <td>NaN</td>\n",
       "      <td>NaN</td>\n",
       "      <td>NaN</td>\n",
       "      <td></td>\n",
       "      <td>iFoil L</td>\n",
       "      <td>iFoil</td>\n",
       "      <td>Gen. 2</td>\n",
       "      <td>Foiled Pages Counter</td>\n",
       "      <td>132061</td>\n",
       "      <td>JAN</td>\n",
       "      <td>Operator</td>\n",
       "      <td>IDLE</td>\n",
       "      <td>2024-01-02 13:41:37.441000</td>\n",
       "      <td>40490.237879</td>\n",
       "      <td>100000</td>\n",
       "    </tr>\n",
       "    <tr>\n",
       "      <th>1158</th>\n",
       "      <td>26377588</td>\n",
       "      <td>PLC</td>\n",
       "      <td>Portes margeur ouvertes E-0417</td>\n",
       "      <td>2024-01-02T13:41:28.848Z</td>\n",
       "      <td>ERROR</td>\n",
       "      <td>417</td>\n",
       "      <td></td>\n",
       "      <td>Print Engine 1</td>\n",
       "      <td>Varnish Printer</td>\n",
       "      <td></td>\n",
       "      <td>3D Varnish Counter</td>\n",
       "      <td>36042</td>\n",
       "      <td>JAN</td>\n",
       "      <td>Operator</td>\n",
       "      <td>IDLE</td>\n",
       "      <td>2024-01-02 13:41:37.441000</td>\n",
       "      <td>40490.237879</td>\n",
       "      <td>100000</td>\n",
       "    </tr>\n",
       "    <tr>\n",
       "      <th>1159</th>\n",
       "      <td>26377588</td>\n",
       "      <td>PLC</td>\n",
       "      <td>Plateau de têtes en mouvement</td>\n",
       "      <td>2024-01-02T13:41:31.674Z</td>\n",
       "      <td>INFO</td>\n",
       "      <td>333</td>\n",
       "      <td></td>\n",
       "      <td>Print Engine 1</td>\n",
       "      <td>Varnish Printer</td>\n",
       "      <td></td>\n",
       "      <td>3D Varnish Counter</td>\n",
       "      <td>36042</td>\n",
       "      <td>JAN</td>\n",
       "      <td>Operator</td>\n",
       "      <td>IDLE</td>\n",
       "      <td>2024-01-02 13:41:37.441000</td>\n",
       "      <td>40490.237879</td>\n",
       "      <td>100000</td>\n",
       "    </tr>\n",
       "  </tbody>\n",
       "</table>\n",
       "</div>"
      ],
      "text/plain": [
       "            id source_events                   message_events  \\\n",
       "1156  26377588           NaN                              NaN   \n",
       "1157  26377588           NaN                              NaN   \n",
       "1158  26377588           PLC   Portes margeur ouvertes E-0417   \n",
       "1159  26377588           PLC    Plateau de têtes en mouvement   \n",
       "\n",
       "              timestamp_events criticality_events identification_events  \\\n",
       "1156                       NaN                NaN                   NaN   \n",
       "1157                       NaN                NaN                   NaN   \n",
       "1158  2024-01-02T13:41:28.848Z              ERROR                   417   \n",
       "1159  2024-01-02T13:41:31.674Z               INFO                   333   \n",
       "\n",
       "     sn_modules    name_modules     type_modules generation_modules  \\\n",
       "1156                    iFoil L            iFoil             Gen. 2   \n",
       "1157                    iFoil L            iFoil             Gen. 2   \n",
       "1158             Print Engine 1  Varnish Printer                      \n",
       "1159             Print Engine 1  Varnish Printer                      \n",
       "\n",
       "     name_counters_modules  value_counters_modules name_connected_operators  \\\n",
       "1156   Total Pages Counter                   52108                      JAN   \n",
       "1157  Foiled Pages Counter                  132061                      JAN   \n",
       "1158    3D Varnish Counter                   36042                      JAN   \n",
       "1159    3D Varnish Counter                   36042                      JAN   \n",
       "\n",
       "     level_connected_operators status                  created_at  \\\n",
       "1156                  Operator   IDLE  2024-01-02 13:41:37.441000   \n",
       "1157                  Operator   IDLE  2024-01-02 13:41:37.441000   \n",
       "1158                  Operator   IDLE  2024-01-02 13:41:37.441000   \n",
       "1159                  Operator   IDLE  2024-01-02 13:41:37.441000   \n",
       "\n",
       "      varnishLevelsTargetvolume  varnishLevelsTotalvolume  \n",
       "1156               40490.237879                    100000  \n",
       "1157               40490.237879                    100000  \n",
       "1158               40490.237879                    100000  \n",
       "1159               40490.237879                    100000  "
      ]
     },
     "execution_count": 32,
     "metadata": {},
     "output_type": "execute_result"
    }
   ],
   "source": [
    "# dernier merge de toutes les colonnes\n",
    "merge_metrics_df = pd.merge(concat_events_df, metrics_df, how='outer', on='id', suffixes=['','_metrics'])\n",
    "# suppression des colonnes fractionnées\n",
    "merge_metrics_df = merge_metrics_df.drop(['connected_operators','modules','events'], axis=1)\n",
    "# verification de l'intégrité des données\n",
    "metrics_check_line = merge_metrics_df[merge_metrics_df.id == check_id]\n",
    "metrics_check_line"
   ]
  },
  {
   "cell_type": "code",
   "execution_count": 33,
   "metadata": {},
   "outputs": [
    {
     "name": "stdout",
     "output_type": "stream",
     "text": [
      "<class 'pandas.core.frame.DataFrame'>\n",
      "Int64Index: 178761 entries, 0 to 178760\n",
      "Data columns (total 18 columns):\n",
      " #   Column                     Non-Null Count   Dtype  \n",
      "---  ------                     --------------   -----  \n",
      " 0   id                         178761 non-null  int64  \n",
      " 1   source_events              3876 non-null    object \n",
      " 2   message_events             3876 non-null    object \n",
      " 3   timestamp_events           3876 non-null    object \n",
      " 4   criticality_events         3876 non-null    object \n",
      " 5   identification_events      3876 non-null    object \n",
      " 6   sn_modules                 178761 non-null  object \n",
      " 7   name_modules               178761 non-null  object \n",
      " 8   type_modules               178761 non-null  object \n",
      " 9   generation_modules         178761 non-null  object \n",
      " 10  name_counters_modules      178761 non-null  object \n",
      " 11  value_counters_modules     178761 non-null  int64  \n",
      " 12  name_connected_operators   178761 non-null  object \n",
      " 13  level_connected_operators  178761 non-null  object \n",
      " 14  status                     178761 non-null  object \n",
      " 15  created_at                 178761 non-null  object \n",
      " 16  varnishLevelsTargetvolume  178761 non-null  float64\n",
      " 17  varnishLevelsTotalvolume   178761 non-null  int64  \n",
      "dtypes: float64(1), int64(3), object(14)\n",
      "memory usage: 25.9+ MB\n"
     ]
    }
   ],
   "source": [
    "merge_metrics_df.info()"
   ]
  },
  {
   "attachments": {},
   "cell_type": "markdown",
   "metadata": {},
   "source": [
    "## 2. Outout csv"
   ]
  },
  {
   "cell_type": "code",
   "execution_count": 34,
   "metadata": {},
   "outputs": [],
   "source": [
    "merge_metrics_df.to_csv(path_or_buf=Path(save_csv))"
   ]
  }
 ],
 "metadata": {
  "kernelspec": {
   "display_name": ".venv",
   "language": "python",
   "name": "python3"
  },
  "language_info": {
   "codemirror_mode": {
    "name": "ipython",
    "version": 3
   },
   "file_extension": ".py",
   "mimetype": "text/x-python",
   "name": "python",
   "nbconvert_exporter": "python",
   "pygments_lexer": "ipython3",
   "version": "3.10.11"
  },
  "orig_nbformat": 4,
  "vscode": {
   "interpreter": {
    "hash": "2315c9af7dedaeb0b2bf51504304a927c605b523f04dad98936c50abe500b408"
   }
  }
 },
 "nbformat": 4,
 "nbformat_minor": 2
}
