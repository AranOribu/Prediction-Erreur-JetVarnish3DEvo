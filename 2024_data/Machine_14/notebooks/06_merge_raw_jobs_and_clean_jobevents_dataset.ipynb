{
 "cells": [
  {
   "attachments": {},
   "cell_type": "markdown",
   "metadata": {},
   "source": [
    "# 06 - Création du dataset des données de jobs et de job_events fusionnées"
   ]
  },
  {
   "attachments": {},
   "cell_type": "markdown",
   "metadata": {},
   "source": [
    "Ce notebook génère 1 csv :\n",
    "\n",
    "- merge_raw_jobs_and_clean_jobevents_dataset.csv\n",
    "\n",
    "Etapes :\n",
    "\n",
    "- Suppression des colonnes doublon dans les 2 datasets\n",
    "\n",
    "- Fusion des datasets"
   ]
  },
  {
   "attachments": {},
   "cell_type": "markdown",
   "metadata": {},
   "source": [
    "# A. Imports"
   ]
  },
  {
   "attachments": {},
   "cell_type": "markdown",
   "metadata": {},
   "source": [
    "## a) Librairies"
   ]
  },
  {
   "cell_type": "code",
   "execution_count": 1,
   "metadata": {},
   "outputs": [],
   "source": [
    "import os, json\n",
    "import pandas as pd\n",
    "import numpy as np\n",
    "import matplotlib.pyplot as plt"
   ]
  },
  {
   "attachments": {},
   "cell_type": "markdown",
   "metadata": {},
   "source": [
    "## b) Données"
   ]
  },
  {
   "cell_type": "code",
   "execution_count": 2,
   "metadata": {},
   "outputs": [],
   "source": [
    "# source path\n",
    "jobs = '../data/jobs/raw_jobs_dataset.csv'\n",
    "\n",
    "# source path\n",
    "events = '../data/jobs/clean_merge_job_events_dataset.csv'\n",
    "\n",
    "# save target path\n",
    "save_csv = '../data/jobs/merge_raw_jobs_and_clean_jobevents_dataset.csv'"
   ]
  },
  {
   "attachments": {},
   "cell_type": "markdown",
   "metadata": {},
   "source": [
    "# B. Dataframe"
   ]
  },
  {
   "attachments": {},
   "cell_type": "markdown",
   "metadata": {},
   "source": [
    "## a) Création des dataframes jobs et events"
   ]
  },
  {
   "attachments": {},
   "cell_type": "markdown",
   "metadata": {},
   "source": [
    "### 1. jobs"
   ]
  },
  {
   "cell_type": "code",
   "execution_count": 3,
   "metadata": {},
   "outputs": [
    {
     "name": "stdout",
     "output_type": "stream",
     "text": [
      "<class 'pandas.core.frame.DataFrame'>\n",
      "Int64Index: 1139 entries, 0 to 1138\n",
      "Data columns (total 19 columns):\n",
      " #   Column                        Non-Null Count  Dtype  \n",
      "---  ------                        --------------  -----  \n",
      " 0   total_copies                  1139 non-null   int64  \n",
      " 1   started_at                    1139 non-null   object \n",
      " 2   ended_at                      1139 non-null   object \n",
      " 3   speed                         1139 non-null   int64  \n",
      " 4   operator                      1139 non-null   object \n",
      " 5   operator_level                1139 non-null   object \n",
      " 6   paperHeight                   1139 non-null   int64  \n",
      " 7   paperWidth                    1139 non-null   int64  \n",
      " 8   paperThickness                1139 non-null   int64  \n",
      " 9   id_on_machine                 1139 non-null   int64  \n",
      " 10  total_copies_requested        1139 non-null   int64  \n",
      " 11  uses_ifoil                    1139 non-null   bool   \n",
      " 12  uses_iper                     1139 non-null   bool   \n",
      " 13  scanner_mode                  1139 non-null   int64  \n",
      " 14  iper_bvar_count               1139 non-null   int64  \n",
      " 15  varnishConsumptionVarnish_3d  1139 non-null   float64\n",
      " 16  run                           1139 non-null   int64  \n",
      " 17  total_run                     1139 non-null   int64  \n",
      " 18  copies_per_run                1139 non-null   int64  \n",
      "dtypes: bool(2), float64(1), int64(12), object(4)\n",
      "memory usage: 162.4+ KB\n"
     ]
    }
   ],
   "source": [
    "# création d'un dataframe à partir du csv de données\n",
    "jobs_df = pd.read_csv(jobs, index_col=0)\n",
    "jobs_df.info()"
   ]
  },
  {
   "attachments": {},
   "cell_type": "markdown",
   "metadata": {},
   "source": [
    "### 2. job events"
   ]
  },
  {
   "cell_type": "code",
   "execution_count": 4,
   "metadata": {},
   "outputs": [
    {
     "name": "stdout",
     "output_type": "stream",
     "text": [
      "<class 'pandas.core.frame.DataFrame'>\n",
      "Int64Index: 1139 entries, 0 to 1138\n",
      "Data columns (total 32 columns):\n",
      " #   Column                                                Non-Null Count  Dtype  \n",
      "---  ------                                                --------------  -----  \n",
      " 0   jobId                                                 1139 non-null   int64  \n",
      " 1   timestamp_start                                       1139 non-null   object \n",
      " 2   jsonVersion                                           1139 non-null   int64  \n",
      " 3   totalCopies_start                                     1139 non-null   int64  \n",
      " 4   LED_iper                                              1139 non-null   int64  \n",
      " 5   bars_iper                                             1139 non-null   object \n",
      " 6   drops_iper                                            1139 non-null   int64  \n",
      " 7   dithering_iper                                        1139 non-null   bool   \n",
      " 8   deadPixelsOffset_iper                                 1139 non-null   int64  \n",
      " 9   level_user                                            1139 non-null   object \n",
      " 10  operator_user                                         1139 non-null   object \n",
      " 11  speed_ifoil                                           1139 non-null   float64\n",
      " 12  enabled_ifoil                                         1139 non-null   bool   \n",
      " 13  optifoil_ifoil                                        1139 non-null   bool   \n",
      " 14  stampAreas_ifoil                                      1139 non-null   object \n",
      " 15  heater1Enabled_ifoil                                  1139 non-null   bool   \n",
      " 16  heater1Temperature_ifoil                              1139 non-null   int64  \n",
      " 17  x_imageLayout_layout                                  1139 non-null   int64  \n",
      " 18  y_imageLayout_layout                                  1139 non-null   int64  \n",
      " 19  width_paperFormat_layout                              1139 non-null   float64\n",
      " 20  height_paperFormat_layout                             1139 non-null   float64\n",
      " 21  speed_layout                                          1139 non-null   int64  \n",
      " 22  power_irDryers                                        1139 non-null   int64  \n",
      " 23  power_uvDryers                                        1139 non-null   int64  \n",
      " 24  leftMargin_registration_remoteScannerRegistration     1139 non-null   int64  \n",
      " 25  blueScore_fullScannerMode_remoteScannerRegistration   1139 non-null   int64  \n",
      " 26  greenScore_fullScannerMode_remoteScannerRegistration  1139 non-null   int64  \n",
      " 27  mode_remoteScannerRegistration                        1139 non-null   int64  \n",
      " 28  jobState                                              1139 non-null   object \n",
      " 29  timestamp_end                                         1139 non-null   object \n",
      " 30  totalCopies_end                                       1139 non-null   int64  \n",
      " 31  consumption_operatorSideTanks_varnishConsumption      1139 non-null   float64\n",
      "dtypes: bool(4), float64(4), int64(17), object(7)\n",
      "memory usage: 262.5+ KB\n"
     ]
    }
   ],
   "source": [
    "# création d'un dataframe à partir du csv de données\n",
    "events_df = pd.read_csv(events, index_col=0)\n",
    "events_df.info()"
   ]
  },
  {
   "attachments": {},
   "cell_type": "markdown",
   "metadata": {},
   "source": [
    "## b) Création d'un dataframe fusionné"
   ]
  },
  {
   "attachments": {},
   "cell_type": "markdown",
   "metadata": {},
   "source": [
    "### 1. Suppression de colonnes"
   ]
  },
  {
   "cell_type": "code",
   "execution_count": 5,
   "metadata": {},
   "outputs": [],
   "source": [
    "# suppression des colonnes avec des valeurs uniques\n",
    "for col in list(jobs_df.columns):\n",
    "    if jobs_df[col].nunique() == 1:\n",
    "        jobs_df.drop(col, axis=1, inplace=True)"
   ]
  },
  {
   "cell_type": "code",
   "execution_count": 6,
   "metadata": {},
   "outputs": [],
   "source": [
    "# suppression des colonnes avec des valeurs uniques\n",
    "for col in list(events_df.columns) :\n",
    "    if events_df[col].nunique() == 1:\n",
    "        events_df.drop(col, axis=1, inplace=True)"
   ]
  },
  {
   "attachments": {},
   "cell_type": "markdown",
   "metadata": {},
   "source": [
    "### 2. Concordance des colonnes entre dataframes"
   ]
  },
  {
   "cell_type": "code",
   "execution_count": 7,
   "metadata": {},
   "outputs": [],
   "source": [
    "# on renomme des colonnes de jobs\n",
    "jobs_df = jobs_df.rename(columns={\n",
    " 'uses_ifoil' : 'ifoil',\n",
    " 'iper_bvar_count': 'bars'\n",
    " })"
   ]
  },
  {
   "cell_type": "code",
   "execution_count": 8,
   "metadata": {},
   "outputs": [],
   "source": [
    "# on renomme des colonnes de events\n",
    "events_df = events_df.rename(columns={\n",
    "    'totalCopies_start':'total_copies_requested',\n",
    "    'LED_iper' : 'LED',\n",
    "    'bars_iper' : 'bars',\n",
    "    'drops_iper': 'drops',\n",
    "    'dithering_iper' : 'dithering',\n",
    "    'deadPixelsOffset_iper' : 'deadPixelsOffset',\n",
    "    'level_user' : 'operator_level',\n",
    "    'operator_user':'operator',\n",
    "    'enabled_ifoil' : 'ifoil',\n",
    "    'x_imageLayout_layout' : 'x_imageLayout',\n",
    "    'y_imageLayout_layout' : 'y_imageLayout',\n",
    "    'name_paperFormat_layout' : 'paperName',\n",
    "    'width_paperFormat_layout' : 'paperWidth',\n",
    "    'height_paperFormat_layout' : 'paperHeight',\n",
    "    'speed_layout' : 'speed',\n",
    "    'topMargin_registration_remoteScannerRegistration' : 'topMargin_remoteScannerRegistration',\n",
    "    'leftMargin_registration_remoteScannerRegistration' : 'leftMargin_remoteScannerRegistration',\n",
    "    'totalCopies_end' : 'total_copies',\n",
    "    'consumption_operatorSideTanks_varnishConsumption' : 'varnishConsumptionVarnish_3d'\n",
    "    })"
   ]
  },
  {
   "cell_type": "code",
   "execution_count": 9,
   "metadata": {},
   "outputs": [
    {
     "data": {
      "text/plain": [
       "False"
      ]
     },
     "execution_count": 9,
     "metadata": {},
     "output_type": "execute_result"
    }
   ],
   "source": [
    "# Comparer les valeurs de la colonne \"bars\" entre les dataframes \"events_df\" et \"jobs_df\"\n",
    "events_df['bars'].isin(jobs_df['bars']).any()"
   ]
  },
  {
   "cell_type": "code",
   "execution_count": 10,
   "metadata": {},
   "outputs": [],
   "source": [
    "# liste des colonnes communes\n",
    "common_cols = [col for col in jobs_df.columns.to_list() if col in events_df.columns.to_list()]"
   ]
  },
  {
   "attachments": {},
   "cell_type": "markdown",
   "metadata": {},
   "source": [
    "### 3. Concordance des valeurs entre colonnes communes"
   ]
  },
  {
   "cell_type": "code",
   "execution_count": 11,
   "metadata": {},
   "outputs": [
    {
     "data": {
      "text/plain": [
       "(1139, 15)"
      ]
     },
     "execution_count": 11,
     "metadata": {},
     "output_type": "execute_result"
    }
   ],
   "source": [
    "jobs_df.shape"
   ]
  },
  {
   "cell_type": "code",
   "execution_count": 12,
   "metadata": {},
   "outputs": [
    {
     "data": {
      "text/plain": [
       "(1139, 31)"
      ]
     },
     "execution_count": 12,
     "metadata": {},
     "output_type": "execute_result"
    }
   ],
   "source": [
    "events_df.shape"
   ]
  },
  {
   "cell_type": "code",
   "execution_count": 13,
   "metadata": {},
   "outputs": [
    {
     "data": {
      "text/plain": [
       "Index(['jobId', 'timestamp_start', 'total_copies_requested', 'LED', 'bars',\n",
       "       'drops', 'dithering', 'deadPixelsOffset', 'operator_level', 'operator',\n",
       "       'speed_ifoil', 'ifoil', 'optifoil_ifoil', 'stampAreas_ifoil',\n",
       "       'heater1Enabled_ifoil', 'heater1Temperature_ifoil', 'x_imageLayout',\n",
       "       'y_imageLayout', 'paperWidth', 'paperHeight', 'speed', 'power_irDryers',\n",
       "       'power_uvDryers', 'leftMargin_remoteScannerRegistration',\n",
       "       'blueScore_fullScannerMode_remoteScannerRegistration',\n",
       "       'greenScore_fullScannerMode_remoteScannerRegistration',\n",
       "       'mode_remoteScannerRegistration', 'jobState', 'timestamp_end',\n",
       "       'total_copies', 'varnishConsumptionVarnish_3d'],\n",
       "      dtype='object')"
      ]
     },
     "execution_count": 13,
     "metadata": {},
     "output_type": "execute_result"
    }
   ],
   "source": [
    "events_df.columns"
   ]
  },
  {
   "cell_type": "code",
   "execution_count": 14,
   "metadata": {},
   "outputs": [
    {
     "data": {
      "text/html": [
       "<div>\n",
       "<style scoped>\n",
       "    .dataframe tbody tr th:only-of-type {\n",
       "        vertical-align: middle;\n",
       "    }\n",
       "\n",
       "    .dataframe tbody tr th {\n",
       "        vertical-align: top;\n",
       "    }\n",
       "\n",
       "    .dataframe thead th {\n",
       "        text-align: right;\n",
       "    }\n",
       "</style>\n",
       "<table border=\"1\" class=\"dataframe\">\n",
       "  <thead>\n",
       "    <tr style=\"text-align: right;\">\n",
       "      <th></th>\n",
       "      <th>total_copies</th>\n",
       "      <th>started_at</th>\n",
       "      <th>ended_at</th>\n",
       "      <th>speed</th>\n",
       "      <th>operator</th>\n",
       "      <th>operator_level</th>\n",
       "      <th>paperHeight</th>\n",
       "      <th>paperWidth</th>\n",
       "      <th>id_on_machine</th>\n",
       "      <th>total_copies_requested</th>\n",
       "      <th>ifoil</th>\n",
       "      <th>scanner_mode</th>\n",
       "      <th>bars</th>\n",
       "      <th>varnishConsumptionVarnish_3d</th>\n",
       "      <th>copies_per_run</th>\n",
       "    </tr>\n",
       "  </thead>\n",
       "  <tbody>\n",
       "    <tr>\n",
       "      <th>0</th>\n",
       "      <td>0</td>\n",
       "      <td>2024-01-02 13:41:07.413000+00:00</td>\n",
       "      <td>2024-01-02 13:42:21.613000+00:00</td>\n",
       "      <td>500</td>\n",
       "      <td>JAN</td>\n",
       "      <td>Operator</td>\n",
       "      <td>520</td>\n",
       "      <td>740</td>\n",
       "      <td>1704202867</td>\n",
       "      <td>350</td>\n",
       "      <td>False</td>\n",
       "      <td>1</td>\n",
       "      <td>2</td>\n",
       "      <td>0.0</td>\n",
       "      <td>0</td>\n",
       "    </tr>\n",
       "    <tr>\n",
       "      <th>1</th>\n",
       "      <td>0</td>\n",
       "      <td>2024-01-02 14:07:56.422000+00:00</td>\n",
       "      <td>2024-01-02 14:13:05.397000+00:00</td>\n",
       "      <td>500</td>\n",
       "      <td>JAN</td>\n",
       "      <td>Operator</td>\n",
       "      <td>520</td>\n",
       "      <td>740</td>\n",
       "      <td>1704204476</td>\n",
       "      <td>350</td>\n",
       "      <td>False</td>\n",
       "      <td>1</td>\n",
       "      <td>2</td>\n",
       "      <td>0.0</td>\n",
       "      <td>0</td>\n",
       "    </tr>\n",
       "    <tr>\n",
       "      <th>2</th>\n",
       "      <td>0</td>\n",
       "      <td>2024-01-02 14:26:11.497000+00:00</td>\n",
       "      <td>2024-01-02 14:29:28.946000+00:00</td>\n",
       "      <td>500</td>\n",
       "      <td>JAN</td>\n",
       "      <td>Operator</td>\n",
       "      <td>520</td>\n",
       "      <td>740</td>\n",
       "      <td>1704205571</td>\n",
       "      <td>350</td>\n",
       "      <td>False</td>\n",
       "      <td>1</td>\n",
       "      <td>2</td>\n",
       "      <td>0.0</td>\n",
       "      <td>0</td>\n",
       "    </tr>\n",
       "    <tr>\n",
       "      <th>3</th>\n",
       "      <td>0</td>\n",
       "      <td>2024-01-02 14:36:14.532000+00:00</td>\n",
       "      <td>2024-01-02 14:38:22.847000+00:00</td>\n",
       "      <td>500</td>\n",
       "      <td>JAN</td>\n",
       "      <td>Operator</td>\n",
       "      <td>520</td>\n",
       "      <td>740</td>\n",
       "      <td>1704206174</td>\n",
       "      <td>350</td>\n",
       "      <td>False</td>\n",
       "      <td>1</td>\n",
       "      <td>2</td>\n",
       "      <td>0.0</td>\n",
       "      <td>0</td>\n",
       "    </tr>\n",
       "    <tr>\n",
       "      <th>4</th>\n",
       "      <td>0</td>\n",
       "      <td>2024-01-02 15:56:46.339000+00:00</td>\n",
       "      <td>2024-01-02 16:01:48.278000+00:00</td>\n",
       "      <td>500</td>\n",
       "      <td>JAN</td>\n",
       "      <td>Operator</td>\n",
       "      <td>520</td>\n",
       "      <td>740</td>\n",
       "      <td>1704211006</td>\n",
       "      <td>350</td>\n",
       "      <td>False</td>\n",
       "      <td>1</td>\n",
       "      <td>2</td>\n",
       "      <td>0.0</td>\n",
       "      <td>0</td>\n",
       "    </tr>\n",
       "  </tbody>\n",
       "</table>\n",
       "</div>"
      ],
      "text/plain": [
       "   total_copies                        started_at  \\\n",
       "0             0  2024-01-02 13:41:07.413000+00:00   \n",
       "1             0  2024-01-02 14:07:56.422000+00:00   \n",
       "2             0  2024-01-02 14:26:11.497000+00:00   \n",
       "3             0  2024-01-02 14:36:14.532000+00:00   \n",
       "4             0  2024-01-02 15:56:46.339000+00:00   \n",
       "\n",
       "                           ended_at  speed operator operator_level  \\\n",
       "0  2024-01-02 13:42:21.613000+00:00    500      JAN       Operator   \n",
       "1  2024-01-02 14:13:05.397000+00:00    500      JAN       Operator   \n",
       "2  2024-01-02 14:29:28.946000+00:00    500      JAN       Operator   \n",
       "3  2024-01-02 14:38:22.847000+00:00    500      JAN       Operator   \n",
       "4  2024-01-02 16:01:48.278000+00:00    500      JAN       Operator   \n",
       "\n",
       "   paperHeight  paperWidth  id_on_machine  total_copies_requested  ifoil  \\\n",
       "0          520         740     1704202867                     350  False   \n",
       "1          520         740     1704204476                     350  False   \n",
       "2          520         740     1704205571                     350  False   \n",
       "3          520         740     1704206174                     350  False   \n",
       "4          520         740     1704211006                     350  False   \n",
       "\n",
       "   scanner_mode  bars  varnishConsumptionVarnish_3d  copies_per_run  \n",
       "0             1     2                           0.0               0  \n",
       "1             1     2                           0.0               0  \n",
       "2             1     2                           0.0               0  \n",
       "3             1     2                           0.0               0  \n",
       "4             1     2                           0.0               0  "
      ]
     },
     "execution_count": 14,
     "metadata": {},
     "output_type": "execute_result"
    }
   ],
   "source": [
    "jobs_df.head()"
   ]
  },
  {
   "cell_type": "code",
   "execution_count": 15,
   "metadata": {},
   "outputs": [
    {
     "data": {
      "text/html": [
       "<div>\n",
       "<style scoped>\n",
       "    .dataframe tbody tr th:only-of-type {\n",
       "        vertical-align: middle;\n",
       "    }\n",
       "\n",
       "    .dataframe tbody tr th {\n",
       "        vertical-align: top;\n",
       "    }\n",
       "\n",
       "    .dataframe thead th {\n",
       "        text-align: right;\n",
       "    }\n",
       "</style>\n",
       "<table border=\"1\" class=\"dataframe\">\n",
       "  <thead>\n",
       "    <tr style=\"text-align: right;\">\n",
       "      <th></th>\n",
       "      <th>jobId</th>\n",
       "      <th>timestamp_start</th>\n",
       "      <th>total_copies_requested</th>\n",
       "      <th>LED</th>\n",
       "      <th>bars</th>\n",
       "      <th>drops</th>\n",
       "      <th>dithering</th>\n",
       "      <th>deadPixelsOffset</th>\n",
       "      <th>operator_level</th>\n",
       "      <th>operator</th>\n",
       "      <th>...</th>\n",
       "      <th>power_irDryers</th>\n",
       "      <th>power_uvDryers</th>\n",
       "      <th>leftMargin_remoteScannerRegistration</th>\n",
       "      <th>blueScore_fullScannerMode_remoteScannerRegistration</th>\n",
       "      <th>greenScore_fullScannerMode_remoteScannerRegistration</th>\n",
       "      <th>mode_remoteScannerRegistration</th>\n",
       "      <th>jobState</th>\n",
       "      <th>timestamp_end</th>\n",
       "      <th>total_copies</th>\n",
       "      <th>varnishConsumptionVarnish_3d</th>\n",
       "    </tr>\n",
       "  </thead>\n",
       "  <tbody>\n",
       "    <tr>\n",
       "      <th>0</th>\n",
       "      <td>1704202867</td>\n",
       "      <td>2024-01-02 13:41:07.413238200+00:00</td>\n",
       "      <td>350</td>\n",
       "      <td>10</td>\n",
       "      <td>[1, 2]</td>\n",
       "      <td>1</td>\n",
       "      <td>False</td>\n",
       "      <td>0</td>\n",
       "      <td>Operator</td>\n",
       "      <td>JAN</td>\n",
       "      <td>...</td>\n",
       "      <td>45</td>\n",
       "      <td>100</td>\n",
       "      <td>0</td>\n",
       "      <td>16</td>\n",
       "      <td>16</td>\n",
       "      <td>1</td>\n",
       "      <td>SUCCESS</td>\n",
       "      <td>2024-01-02 13:42:21.613618200+00:00</td>\n",
       "      <td>0</td>\n",
       "      <td>0.0</td>\n",
       "    </tr>\n",
       "    <tr>\n",
       "      <th>1</th>\n",
       "      <td>1704204476</td>\n",
       "      <td>2024-01-02 14:07:56.422711100+00:00</td>\n",
       "      <td>350</td>\n",
       "      <td>10</td>\n",
       "      <td>[1, 2]</td>\n",
       "      <td>1</td>\n",
       "      <td>False</td>\n",
       "      <td>0</td>\n",
       "      <td>Operator</td>\n",
       "      <td>JAN</td>\n",
       "      <td>...</td>\n",
       "      <td>45</td>\n",
       "      <td>100</td>\n",
       "      <td>0</td>\n",
       "      <td>16</td>\n",
       "      <td>16</td>\n",
       "      <td>1</td>\n",
       "      <td>SUCCESS</td>\n",
       "      <td>2024-01-02 14:13:05.397923300+00:00</td>\n",
       "      <td>0</td>\n",
       "      <td>0.0</td>\n",
       "    </tr>\n",
       "    <tr>\n",
       "      <th>2</th>\n",
       "      <td>1704205571</td>\n",
       "      <td>2024-01-02 14:26:11.497801900+00:00</td>\n",
       "      <td>350</td>\n",
       "      <td>10</td>\n",
       "      <td>[1, 2]</td>\n",
       "      <td>1</td>\n",
       "      <td>False</td>\n",
       "      <td>0</td>\n",
       "      <td>Operator</td>\n",
       "      <td>JAN</td>\n",
       "      <td>...</td>\n",
       "      <td>45</td>\n",
       "      <td>100</td>\n",
       "      <td>0</td>\n",
       "      <td>16</td>\n",
       "      <td>16</td>\n",
       "      <td>1</td>\n",
       "      <td>CANCELED</td>\n",
       "      <td>2024-01-02 14:29:28.946483700+00:00</td>\n",
       "      <td>0</td>\n",
       "      <td>0.0</td>\n",
       "    </tr>\n",
       "    <tr>\n",
       "      <th>3</th>\n",
       "      <td>1704206174</td>\n",
       "      <td>2024-01-02 14:36:14.532507700+00:00</td>\n",
       "      <td>350</td>\n",
       "      <td>10</td>\n",
       "      <td>[1, 2]</td>\n",
       "      <td>1</td>\n",
       "      <td>False</td>\n",
       "      <td>0</td>\n",
       "      <td>Operator</td>\n",
       "      <td>JAN</td>\n",
       "      <td>...</td>\n",
       "      <td>45</td>\n",
       "      <td>100</td>\n",
       "      <td>0</td>\n",
       "      <td>16</td>\n",
       "      <td>16</td>\n",
       "      <td>1</td>\n",
       "      <td>CANCELED</td>\n",
       "      <td>2024-01-02 14:38:22.847171+00:00</td>\n",
       "      <td>0</td>\n",
       "      <td>0.0</td>\n",
       "    </tr>\n",
       "    <tr>\n",
       "      <th>4</th>\n",
       "      <td>1704211006</td>\n",
       "      <td>2024-01-02 15:56:46.339593600+00:00</td>\n",
       "      <td>350</td>\n",
       "      <td>10</td>\n",
       "      <td>[1, 2]</td>\n",
       "      <td>1</td>\n",
       "      <td>False</td>\n",
       "      <td>0</td>\n",
       "      <td>Operator</td>\n",
       "      <td>JAN</td>\n",
       "      <td>...</td>\n",
       "      <td>45</td>\n",
       "      <td>100</td>\n",
       "      <td>0</td>\n",
       "      <td>16</td>\n",
       "      <td>16</td>\n",
       "      <td>1</td>\n",
       "      <td>SUCCESS</td>\n",
       "      <td>2024-01-02 16:01:48.278870900+00:00</td>\n",
       "      <td>0</td>\n",
       "      <td>0.0</td>\n",
       "    </tr>\n",
       "  </tbody>\n",
       "</table>\n",
       "<p>5 rows × 31 columns</p>\n",
       "</div>"
      ],
      "text/plain": [
       "        jobId                      timestamp_start  total_copies_requested  \\\n",
       "0  1704202867  2024-01-02 13:41:07.413238200+00:00                     350   \n",
       "1  1704204476  2024-01-02 14:07:56.422711100+00:00                     350   \n",
       "2  1704205571  2024-01-02 14:26:11.497801900+00:00                     350   \n",
       "3  1704206174  2024-01-02 14:36:14.532507700+00:00                     350   \n",
       "4  1704211006  2024-01-02 15:56:46.339593600+00:00                     350   \n",
       "\n",
       "   LED    bars  drops  dithering  deadPixelsOffset operator_level operator  \\\n",
       "0   10  [1, 2]      1      False                 0       Operator      JAN   \n",
       "1   10  [1, 2]      1      False                 0       Operator      JAN   \n",
       "2   10  [1, 2]      1      False                 0       Operator      JAN   \n",
       "3   10  [1, 2]      1      False                 0       Operator      JAN   \n",
       "4   10  [1, 2]      1      False                 0       Operator      JAN   \n",
       "\n",
       "   ...  power_irDryers  power_uvDryers  leftMargin_remoteScannerRegistration  \\\n",
       "0  ...              45             100                                     0   \n",
       "1  ...              45             100                                     0   \n",
       "2  ...              45             100                                     0   \n",
       "3  ...              45             100                                     0   \n",
       "4  ...              45             100                                     0   \n",
       "\n",
       "  blueScore_fullScannerMode_remoteScannerRegistration  \\\n",
       "0                                                 16    \n",
       "1                                                 16    \n",
       "2                                                 16    \n",
       "3                                                 16    \n",
       "4                                                 16    \n",
       "\n",
       "   greenScore_fullScannerMode_remoteScannerRegistration  \\\n",
       "0                                                 16      \n",
       "1                                                 16      \n",
       "2                                                 16      \n",
       "3                                                 16      \n",
       "4                                                 16      \n",
       "\n",
       "   mode_remoteScannerRegistration  jobState  \\\n",
       "0                               1   SUCCESS   \n",
       "1                               1   SUCCESS   \n",
       "2                               1  CANCELED   \n",
       "3                               1  CANCELED   \n",
       "4                               1   SUCCESS   \n",
       "\n",
       "                         timestamp_end  total_copies  \\\n",
       "0  2024-01-02 13:42:21.613618200+00:00             0   \n",
       "1  2024-01-02 14:13:05.397923300+00:00             0   \n",
       "2  2024-01-02 14:29:28.946483700+00:00             0   \n",
       "3     2024-01-02 14:38:22.847171+00:00             0   \n",
       "4  2024-01-02 16:01:48.278870900+00:00             0   \n",
       "\n",
       "   varnishConsumptionVarnish_3d  \n",
       "0                           0.0  \n",
       "1                           0.0  \n",
       "2                           0.0  \n",
       "3                           0.0  \n",
       "4                           0.0  \n",
       "\n",
       "[5 rows x 31 columns]"
      ]
     },
     "execution_count": 15,
     "metadata": {},
     "output_type": "execute_result"
    }
   ],
   "source": [
    "events_df.head()"
   ]
  },
  {
   "cell_type": "code",
   "execution_count": 16,
   "metadata": {},
   "outputs": [
    {
     "data": {
      "text/plain": [
       "(1139, 31)"
      ]
     },
     "execution_count": 16,
     "metadata": {},
     "output_type": "execute_result"
    }
   ],
   "source": [
    "events_df.shape"
   ]
  },
  {
   "cell_type": "code",
   "execution_count": 17,
   "metadata": {},
   "outputs": [
    {
     "data": {
      "text/plain": [
       "(1139, 15)"
      ]
     },
     "execution_count": 17,
     "metadata": {},
     "output_type": "execute_result"
    }
   ],
   "source": [
    "jobs_df.shape"
   ]
  },
  {
   "cell_type": "code",
   "execution_count": 18,
   "metadata": {},
   "outputs": [
    {
     "data": {
      "text/plain": [
       "['total_copies',\n",
       " 'speed',\n",
       " 'operator',\n",
       " 'operator_level',\n",
       " 'total_copies_requested',\n",
       " 'ifoil',\n",
       " 'varnishConsumptionVarnish_3d']"
      ]
     },
     "execution_count": 18,
     "metadata": {},
     "output_type": "execute_result"
    }
   ],
   "source": [
    "# on liste les colonnes des deux dataframes contenant toutes leurs valeurs identiques\n",
    "col_with_duplicates = []\n",
    "for col in common_cols :\n",
    "    if (events_df[col].values == jobs_df[col].values).all():\n",
    "        col_with_duplicates.append(col)\n",
    "col_with_duplicates"
   ]
  },
  {
   "cell_type": "code",
   "execution_count": 19,
   "metadata": {},
   "outputs": [],
   "source": [
    "# suppression des colonnes de jobs en doublons dans events\n",
    "jobs_df = jobs_df.drop(col_with_duplicates, axis=1)"
   ]
  },
  {
   "attachments": {},
   "cell_type": "markdown",
   "metadata": {},
   "source": [
    "### 4. Fusion des dataframes"
   ]
  },
  {
   "cell_type": "code",
   "execution_count": 20,
   "metadata": {},
   "outputs": [],
   "source": [
    "merge_df = pd.merge(jobs_df, events_df, left_on='id_on_machine', right_on='jobId', suffixes=['_job', '_event'])\n",
    "merge_df = merge_df.drop('id_on_machine', axis=1)"
   ]
  },
  {
   "attachments": {},
   "cell_type": "markdown",
   "metadata": {},
   "source": [
    "### 5. Vérification"
   ]
  },
  {
   "cell_type": "code",
   "execution_count": 21,
   "metadata": {},
   "outputs": [
    {
     "data": {
      "text/plain": [
       "False"
      ]
     },
     "execution_count": 21,
     "metadata": {},
     "output_type": "execute_result"
    }
   ],
   "source": [
    "# on verifie que les jobId sont uniques\n",
    "merge_df.jobId.duplicated().any()"
   ]
  },
  {
   "cell_type": "code",
   "execution_count": 22,
   "metadata": {},
   "outputs": [],
   "source": [
    "# id temoin\n",
    "check_jobid = 1624008166\n",
    "# détail de la ligne témoin dans chaque dataset\n",
    "jobs_check_line = jobs_df[jobs_df.id_on_machine == check_jobid]\n",
    "events_check_line = events_df[events_df.jobId == check_jobid]\n",
    "merge_check_line = merge_df[merge_df.jobId == check_jobid]"
   ]
  },
  {
   "cell_type": "code",
   "execution_count": 23,
   "metadata": {},
   "outputs": [
    {
     "data": {
      "text/html": [
       "<div>\n",
       "<style scoped>\n",
       "    .dataframe tbody tr th:only-of-type {\n",
       "        vertical-align: middle;\n",
       "    }\n",
       "\n",
       "    .dataframe tbody tr th {\n",
       "        vertical-align: top;\n",
       "    }\n",
       "\n",
       "    .dataframe thead th {\n",
       "        text-align: right;\n",
       "    }\n",
       "</style>\n",
       "<table border=\"1\" class=\"dataframe\">\n",
       "  <thead>\n",
       "    <tr style=\"text-align: right;\">\n",
       "      <th></th>\n",
       "      <th>started_at</th>\n",
       "      <th>ended_at</th>\n",
       "      <th>paperHeight</th>\n",
       "      <th>paperWidth</th>\n",
       "      <th>id_on_machine</th>\n",
       "      <th>scanner_mode</th>\n",
       "      <th>bars</th>\n",
       "      <th>copies_per_run</th>\n",
       "    </tr>\n",
       "  </thead>\n",
       "  <tbody>\n",
       "  </tbody>\n",
       "</table>\n",
       "</div>"
      ],
      "text/plain": [
       "Empty DataFrame\n",
       "Columns: [started_at, ended_at, paperHeight, paperWidth, id_on_machine, scanner_mode, bars, copies_per_run]\n",
       "Index: []"
      ]
     },
     "execution_count": 23,
     "metadata": {},
     "output_type": "execute_result"
    }
   ],
   "source": [
    "jobs_check_line"
   ]
  },
  {
   "cell_type": "code",
   "execution_count": 24,
   "metadata": {},
   "outputs": [
    {
     "data": {
      "text/html": [
       "<div>\n",
       "<style scoped>\n",
       "    .dataframe tbody tr th:only-of-type {\n",
       "        vertical-align: middle;\n",
       "    }\n",
       "\n",
       "    .dataframe tbody tr th {\n",
       "        vertical-align: top;\n",
       "    }\n",
       "\n",
       "    .dataframe thead th {\n",
       "        text-align: right;\n",
       "    }\n",
       "</style>\n",
       "<table border=\"1\" class=\"dataframe\">\n",
       "  <thead>\n",
       "    <tr style=\"text-align: right;\">\n",
       "      <th></th>\n",
       "      <th>jobId</th>\n",
       "      <th>timestamp_start</th>\n",
       "      <th>total_copies_requested</th>\n",
       "      <th>LED</th>\n",
       "      <th>bars</th>\n",
       "      <th>drops</th>\n",
       "      <th>dithering</th>\n",
       "      <th>deadPixelsOffset</th>\n",
       "      <th>operator_level</th>\n",
       "      <th>operator</th>\n",
       "      <th>...</th>\n",
       "      <th>power_irDryers</th>\n",
       "      <th>power_uvDryers</th>\n",
       "      <th>leftMargin_remoteScannerRegistration</th>\n",
       "      <th>blueScore_fullScannerMode_remoteScannerRegistration</th>\n",
       "      <th>greenScore_fullScannerMode_remoteScannerRegistration</th>\n",
       "      <th>mode_remoteScannerRegistration</th>\n",
       "      <th>jobState</th>\n",
       "      <th>timestamp_end</th>\n",
       "      <th>total_copies</th>\n",
       "      <th>varnishConsumptionVarnish_3d</th>\n",
       "    </tr>\n",
       "  </thead>\n",
       "  <tbody>\n",
       "  </tbody>\n",
       "</table>\n",
       "<p>0 rows × 31 columns</p>\n",
       "</div>"
      ],
      "text/plain": [
       "Empty DataFrame\n",
       "Columns: [jobId, timestamp_start, total_copies_requested, LED, bars, drops, dithering, deadPixelsOffset, operator_level, operator, speed_ifoil, ifoil, optifoil_ifoil, stampAreas_ifoil, heater1Enabled_ifoil, heater1Temperature_ifoil, x_imageLayout, y_imageLayout, paperWidth, paperHeight, speed, power_irDryers, power_uvDryers, leftMargin_remoteScannerRegistration, blueScore_fullScannerMode_remoteScannerRegistration, greenScore_fullScannerMode_remoteScannerRegistration, mode_remoteScannerRegistration, jobState, timestamp_end, total_copies, varnishConsumptionVarnish_3d]\n",
       "Index: []\n",
       "\n",
       "[0 rows x 31 columns]"
      ]
     },
     "execution_count": 24,
     "metadata": {},
     "output_type": "execute_result"
    }
   ],
   "source": [
    "events_check_line"
   ]
  },
  {
   "cell_type": "code",
   "execution_count": 25,
   "metadata": {},
   "outputs": [
    {
     "data": {
      "text/html": [
       "<div>\n",
       "<style scoped>\n",
       "    .dataframe tbody tr th:only-of-type {\n",
       "        vertical-align: middle;\n",
       "    }\n",
       "\n",
       "    .dataframe tbody tr th {\n",
       "        vertical-align: top;\n",
       "    }\n",
       "\n",
       "    .dataframe thead th {\n",
       "        text-align: right;\n",
       "    }\n",
       "</style>\n",
       "<table border=\"1\" class=\"dataframe\">\n",
       "  <thead>\n",
       "    <tr style=\"text-align: right;\">\n",
       "      <th></th>\n",
       "      <th>started_at</th>\n",
       "      <th>ended_at</th>\n",
       "      <th>paperHeight_job</th>\n",
       "      <th>paperWidth_job</th>\n",
       "      <th>scanner_mode</th>\n",
       "      <th>bars_job</th>\n",
       "      <th>copies_per_run</th>\n",
       "      <th>jobId</th>\n",
       "      <th>timestamp_start</th>\n",
       "      <th>total_copies_requested</th>\n",
       "      <th>...</th>\n",
       "      <th>power_irDryers</th>\n",
       "      <th>power_uvDryers</th>\n",
       "      <th>leftMargin_remoteScannerRegistration</th>\n",
       "      <th>blueScore_fullScannerMode_remoteScannerRegistration</th>\n",
       "      <th>greenScore_fullScannerMode_remoteScannerRegistration</th>\n",
       "      <th>mode_remoteScannerRegistration</th>\n",
       "      <th>jobState</th>\n",
       "      <th>timestamp_end</th>\n",
       "      <th>total_copies</th>\n",
       "      <th>varnishConsumptionVarnish_3d</th>\n",
       "    </tr>\n",
       "  </thead>\n",
       "  <tbody>\n",
       "  </tbody>\n",
       "</table>\n",
       "<p>0 rows × 38 columns</p>\n",
       "</div>"
      ],
      "text/plain": [
       "Empty DataFrame\n",
       "Columns: [started_at, ended_at, paperHeight_job, paperWidth_job, scanner_mode, bars_job, copies_per_run, jobId, timestamp_start, total_copies_requested, LED, bars_event, drops, dithering, deadPixelsOffset, operator_level, operator, speed_ifoil, ifoil, optifoil_ifoil, stampAreas_ifoil, heater1Enabled_ifoil, heater1Temperature_ifoil, x_imageLayout, y_imageLayout, paperWidth_event, paperHeight_event, speed, power_irDryers, power_uvDryers, leftMargin_remoteScannerRegistration, blueScore_fullScannerMode_remoteScannerRegistration, greenScore_fullScannerMode_remoteScannerRegistration, mode_remoteScannerRegistration, jobState, timestamp_end, total_copies, varnishConsumptionVarnish_3d]\n",
       "Index: []\n",
       "\n",
       "[0 rows x 38 columns]"
      ]
     },
     "execution_count": 25,
     "metadata": {},
     "output_type": "execute_result"
    }
   ],
   "source": [
    "merge_check_line"
   ]
  },
  {
   "cell_type": "code",
   "execution_count": 26,
   "metadata": {},
   "outputs": [],
   "source": [
    "# on conserve les colonnes started_at et ended_at\n",
    "for index, row in merge_df.iterrows():\n",
    "    # on verifie que started_at à le datetime le plus petit\n",
    "    if row.timestamp_start < row.started_at :\n",
    "        row.started_at = row.timestamp_start\n",
    "    # on verifie que ended_at à le datetime le plus grand\n",
    "    if row.timestamp_end > row.ended_at :\n",
    "        row.ended_at = row.timestamp_end"
   ]
  },
  {
   "cell_type": "code",
   "execution_count": 27,
   "metadata": {},
   "outputs": [],
   "source": [
    "merge_df = merge_df.drop(['timestamp_start','timestamp_end'], axis=1)"
   ]
  },
  {
   "cell_type": "code",
   "execution_count": 28,
   "metadata": {},
   "outputs": [],
   "source": [
    "# # conversion des colonnes contenant des valeurs de temsps au format datetime\n",
    "# jobs_df['started_at'] = pd.to_datetime(jobs_df['started_at'], utc=True)\n",
    "# jobs_df['ended_at'] = pd.to_datetime(jobs_df['ended_at'], utc=True)\n",
    "# events_df['timestamp_start'] = pd.to_datetime(events_df['timestamp_start'], utc=True)\n",
    "# events_df['timestamp_end'] = pd.to_datetime(events_df['timestamp_end'], utc=True)"
   ]
  },
  {
   "attachments": {},
   "cell_type": "markdown",
   "metadata": {},
   "source": [
    "### 6. Output csv"
   ]
  },
  {
   "cell_type": "code",
   "execution_count": 29,
   "metadata": {},
   "outputs": [],
   "source": [
    "# sauvegarde du dataset en csv\n",
    "merge_df.to_csv(save_csv)"
   ]
  },
  {
   "cell_type": "code",
   "execution_count": 30,
   "metadata": {},
   "outputs": [
    {
     "data": {
      "text/html": [
       "<div>\n",
       "<style scoped>\n",
       "    .dataframe tbody tr th:only-of-type {\n",
       "        vertical-align: middle;\n",
       "    }\n",
       "\n",
       "    .dataframe tbody tr th {\n",
       "        vertical-align: top;\n",
       "    }\n",
       "\n",
       "    .dataframe thead th {\n",
       "        text-align: right;\n",
       "    }\n",
       "</style>\n",
       "<table border=\"1\" class=\"dataframe\">\n",
       "  <thead>\n",
       "    <tr style=\"text-align: right;\">\n",
       "      <th></th>\n",
       "      <th>started_at</th>\n",
       "      <th>ended_at</th>\n",
       "      <th>paperHeight_job</th>\n",
       "      <th>paperWidth_job</th>\n",
       "      <th>scanner_mode</th>\n",
       "      <th>bars_job</th>\n",
       "      <th>copies_per_run</th>\n",
       "      <th>jobId</th>\n",
       "      <th>total_copies_requested</th>\n",
       "      <th>LED</th>\n",
       "      <th>...</th>\n",
       "      <th>speed</th>\n",
       "      <th>power_irDryers</th>\n",
       "      <th>power_uvDryers</th>\n",
       "      <th>leftMargin_remoteScannerRegistration</th>\n",
       "      <th>blueScore_fullScannerMode_remoteScannerRegistration</th>\n",
       "      <th>greenScore_fullScannerMode_remoteScannerRegistration</th>\n",
       "      <th>mode_remoteScannerRegistration</th>\n",
       "      <th>jobState</th>\n",
       "      <th>total_copies</th>\n",
       "      <th>varnishConsumptionVarnish_3d</th>\n",
       "    </tr>\n",
       "  </thead>\n",
       "  <tbody>\n",
       "    <tr>\n",
       "      <th>0</th>\n",
       "      <td>2024-01-02 13:41:07.413000+00:00</td>\n",
       "      <td>2024-01-02 13:42:21.613000+00:00</td>\n",
       "      <td>520</td>\n",
       "      <td>740</td>\n",
       "      <td>1</td>\n",
       "      <td>2</td>\n",
       "      <td>0</td>\n",
       "      <td>1704202867</td>\n",
       "      <td>350</td>\n",
       "      <td>10</td>\n",
       "      <td>...</td>\n",
       "      <td>500</td>\n",
       "      <td>45</td>\n",
       "      <td>100</td>\n",
       "      <td>0</td>\n",
       "      <td>16</td>\n",
       "      <td>16</td>\n",
       "      <td>1</td>\n",
       "      <td>SUCCESS</td>\n",
       "      <td>0</td>\n",
       "      <td>0.0</td>\n",
       "    </tr>\n",
       "    <tr>\n",
       "      <th>1</th>\n",
       "      <td>2024-01-02 14:07:56.422000+00:00</td>\n",
       "      <td>2024-01-02 14:13:05.397000+00:00</td>\n",
       "      <td>520</td>\n",
       "      <td>740</td>\n",
       "      <td>1</td>\n",
       "      <td>2</td>\n",
       "      <td>0</td>\n",
       "      <td>1704204476</td>\n",
       "      <td>350</td>\n",
       "      <td>10</td>\n",
       "      <td>...</td>\n",
       "      <td>500</td>\n",
       "      <td>45</td>\n",
       "      <td>100</td>\n",
       "      <td>0</td>\n",
       "      <td>16</td>\n",
       "      <td>16</td>\n",
       "      <td>1</td>\n",
       "      <td>SUCCESS</td>\n",
       "      <td>0</td>\n",
       "      <td>0.0</td>\n",
       "    </tr>\n",
       "    <tr>\n",
       "      <th>2</th>\n",
       "      <td>2024-01-02 14:26:11.497000+00:00</td>\n",
       "      <td>2024-01-02 14:29:28.946000+00:00</td>\n",
       "      <td>520</td>\n",
       "      <td>740</td>\n",
       "      <td>1</td>\n",
       "      <td>2</td>\n",
       "      <td>0</td>\n",
       "      <td>1704205571</td>\n",
       "      <td>350</td>\n",
       "      <td>10</td>\n",
       "      <td>...</td>\n",
       "      <td>500</td>\n",
       "      <td>45</td>\n",
       "      <td>100</td>\n",
       "      <td>0</td>\n",
       "      <td>16</td>\n",
       "      <td>16</td>\n",
       "      <td>1</td>\n",
       "      <td>CANCELED</td>\n",
       "      <td>0</td>\n",
       "      <td>0.0</td>\n",
       "    </tr>\n",
       "  </tbody>\n",
       "</table>\n",
       "<p>3 rows × 36 columns</p>\n",
       "</div>"
      ],
      "text/plain": [
       "                         started_at                          ended_at  \\\n",
       "0  2024-01-02 13:41:07.413000+00:00  2024-01-02 13:42:21.613000+00:00   \n",
       "1  2024-01-02 14:07:56.422000+00:00  2024-01-02 14:13:05.397000+00:00   \n",
       "2  2024-01-02 14:26:11.497000+00:00  2024-01-02 14:29:28.946000+00:00   \n",
       "\n",
       "   paperHeight_job  paperWidth_job  scanner_mode  bars_job  copies_per_run  \\\n",
       "0              520             740             1         2               0   \n",
       "1              520             740             1         2               0   \n",
       "2              520             740             1         2               0   \n",
       "\n",
       "        jobId  total_copies_requested  LED  ... speed  power_irDryers  \\\n",
       "0  1704202867                     350   10  ...   500              45   \n",
       "1  1704204476                     350   10  ...   500              45   \n",
       "2  1704205571                     350   10  ...   500              45   \n",
       "\n",
       "   power_uvDryers  leftMargin_remoteScannerRegistration  \\\n",
       "0             100                                     0   \n",
       "1             100                                     0   \n",
       "2             100                                     0   \n",
       "\n",
       "  blueScore_fullScannerMode_remoteScannerRegistration  \\\n",
       "0                                                 16    \n",
       "1                                                 16    \n",
       "2                                                 16    \n",
       "\n",
       "  greenScore_fullScannerMode_remoteScannerRegistration  \\\n",
       "0                                                 16     \n",
       "1                                                 16     \n",
       "2                                                 16     \n",
       "\n",
       "   mode_remoteScannerRegistration  jobState  total_copies  \\\n",
       "0                               1   SUCCESS             0   \n",
       "1                               1   SUCCESS             0   \n",
       "2                               1  CANCELED             0   \n",
       "\n",
       "  varnishConsumptionVarnish_3d  \n",
       "0                          0.0  \n",
       "1                          0.0  \n",
       "2                          0.0  \n",
       "\n",
       "[3 rows x 36 columns]"
      ]
     },
     "execution_count": 30,
     "metadata": {},
     "output_type": "execute_result"
    }
   ],
   "source": [
    "merge_df.head(3)"
   ]
  },
  {
   "cell_type": "code",
   "execution_count": 31,
   "metadata": {},
   "outputs": [
    {
     "name": "stdout",
     "output_type": "stream",
     "text": [
      "Column started_at has 1139 unique values.\n",
      "Column ended_at has 1139 unique values.\n",
      "Column paperHeight_job has 7 unique values.\n",
      "Column paperWidth_job has 6 unique values.\n",
      "Column scanner_mode has 2 unique values.\n",
      "Column bars_job has 2 unique values.\n",
      "Column copies_per_run has 243 unique values.\n",
      "Column jobId has 1139 unique values.\n",
      "Column total_copies_requested has 110 unique values.\n",
      "Column LED has 6 unique values.\n",
      "Column bars_event has 3 unique values.\n",
      "Column drops has 7 unique values.\n",
      "Column dithering has 2 unique values.\n",
      "Column deadPixelsOffset has 2 unique values.\n",
      "Column operator_level has 2 unique values.\n",
      "Column operator has 4 unique values.\n",
      "Column speed_ifoil has 40 unique values.\n",
      "Column ifoil has 2 unique values.\n",
      "Column optifoil_ifoil has 2 unique values.\n",
      "Column stampAreas_ifoil has 9 unique values.\n",
      "Column heater1Enabled_ifoil has 2 unique values.\n",
      "Column heater1Temperature_ifoil has 13 unique values.\n",
      "Column x_imageLayout has 10 unique values.\n",
      "Column y_imageLayout has 13 unique values.\n",
      "Column paperWidth_event has 7 unique values.\n",
      "Column paperHeight_event has 8 unique values.\n",
      "Column speed has 133 unique values.\n",
      "Column power_irDryers has 8 unique values.\n",
      "Column power_uvDryers has 18 unique values.\n",
      "Column leftMargin_remoteScannerRegistration has 2 unique values.\n",
      "Column blueScore_fullScannerMode_remoteScannerRegistration has 6 unique values.\n",
      "Column greenScore_fullScannerMode_remoteScannerRegistration has 6 unique values.\n",
      "Column mode_remoteScannerRegistration has 2 unique values.\n",
      "Column jobState has 4 unique values.\n",
      "Column total_copies has 243 unique values.\n",
      "Column varnishConsumptionVarnish_3d has 984 unique values.\n"
     ]
    }
   ],
   "source": [
    "for col in merge_df.columns:\n",
    "    unique_values = merge_df[col].nunique()\n",
    "    print(f\"Column {col} has {unique_values} unique values.\")\n"
   ]
  },
  {
   "cell_type": "code",
   "execution_count": 32,
   "metadata": {},
   "outputs": [
    {
     "name": "stdout",
     "output_type": "stream",
     "text": [
      "<class 'pandas.core.frame.DataFrame'>\n",
      "Int64Index: 1139 entries, 0 to 1138\n",
      "Data columns (total 36 columns):\n",
      " #   Column                                                Non-Null Count  Dtype  \n",
      "---  ------                                                --------------  -----  \n",
      " 0   started_at                                            1139 non-null   object \n",
      " 1   ended_at                                              1139 non-null   object \n",
      " 2   paperHeight_job                                       1139 non-null   int64  \n",
      " 3   paperWidth_job                                        1139 non-null   int64  \n",
      " 4   scanner_mode                                          1139 non-null   int64  \n",
      " 5   bars_job                                              1139 non-null   int64  \n",
      " 6   copies_per_run                                        1139 non-null   int64  \n",
      " 7   jobId                                                 1139 non-null   int64  \n",
      " 8   total_copies_requested                                1139 non-null   int64  \n",
      " 9   LED                                                   1139 non-null   int64  \n",
      " 10  bars_event                                            1139 non-null   object \n",
      " 11  drops                                                 1139 non-null   int64  \n",
      " 12  dithering                                             1139 non-null   bool   \n",
      " 13  deadPixelsOffset                                      1139 non-null   int64  \n",
      " 14  operator_level                                        1139 non-null   object \n",
      " 15  operator                                              1139 non-null   object \n",
      " 16  speed_ifoil                                           1139 non-null   float64\n",
      " 17  ifoil                                                 1139 non-null   bool   \n",
      " 18  optifoil_ifoil                                        1139 non-null   bool   \n",
      " 19  stampAreas_ifoil                                      1139 non-null   object \n",
      " 20  heater1Enabled_ifoil                                  1139 non-null   bool   \n",
      " 21  heater1Temperature_ifoil                              1139 non-null   int64  \n",
      " 22  x_imageLayout                                         1139 non-null   int64  \n",
      " 23  y_imageLayout                                         1139 non-null   int64  \n",
      " 24  paperWidth_event                                      1139 non-null   float64\n",
      " 25  paperHeight_event                                     1139 non-null   float64\n",
      " 26  speed                                                 1139 non-null   int64  \n",
      " 27  power_irDryers                                        1139 non-null   int64  \n",
      " 28  power_uvDryers                                        1139 non-null   int64  \n",
      " 29  leftMargin_remoteScannerRegistration                  1139 non-null   int64  \n",
      " 30  blueScore_fullScannerMode_remoteScannerRegistration   1139 non-null   int64  \n",
      " 31  greenScore_fullScannerMode_remoteScannerRegistration  1139 non-null   int64  \n",
      " 32  mode_remoteScannerRegistration                        1139 non-null   int64  \n",
      " 33  jobState                                              1139 non-null   object \n",
      " 34  total_copies                                          1139 non-null   int64  \n",
      " 35  varnishConsumptionVarnish_3d                          1139 non-null   float64\n",
      "dtypes: bool(4), float64(4), int64(21), object(7)\n",
      "memory usage: 298.1+ KB\n"
     ]
    }
   ],
   "source": [
    "merge_df.info()"
   ]
  },
  {
   "attachments": {},
   "cell_type": "markdown",
   "metadata": {},
   "source": [
    "# C. Visualisation"
   ]
  },
  {
   "cell_type": "code",
   "execution_count": 33,
   "metadata": {},
   "outputs": [],
   "source": [
    "df = merge_df.copy()"
   ]
  },
  {
   "cell_type": "code",
   "execution_count": 34,
   "metadata": {},
   "outputs": [
    {
     "data": {
      "text/plain": [
       "array(['SUCCESS', 'CANCELED', 'ERROR', 'UNDEFINED'], dtype=object)"
      ]
     },
     "execution_count": 34,
     "metadata": {},
     "output_type": "execute_result"
    }
   ],
   "source": [
    "df.jobState.unique()"
   ]
  },
  {
   "cell_type": "code",
   "execution_count": 35,
   "metadata": {},
   "outputs": [],
   "source": [
    "# on remplace dans le dataframe les valeurs du type 'str' avec un code\n",
    "criticality = {'UNDEFINED': 0, 'SUCCESS': 1, 'CANCELED': 2, 'ERROR':3}\n",
    "df.jobState.replace(criticality, inplace=True)\n",
    "df.jobState = pd.to_numeric(df.jobState).astype('int64')"
   ]
  },
  {
   "cell_type": "code",
   "execution_count": 37,
   "metadata": {},
   "outputs": [
    {
     "data": {
      "image/png": "[encoded data removed]",
      "text/plain": [
       "<Figure size 640x480 with 2 Axes>"
      ]
     },
     "metadata": {},
     "output_type": "display_data"
    }
   ],
   "source": [
    "import numpy as np\n",
    "import matplotlib.pyplot as plt\n",
    "from mpl_toolkits.mplot3d import Axes3D\n",
    "\n",
    "# Generate some sample data\n",
    "x = df['speed'][:1000]\n",
    "y = df['varnishConsumptionVarnish_3d'][:1000]\n",
    "z = df[['total_copies']][:1000]\n",
    "\n",
    "# Create a 3D plot\n",
    "fig = plt.figure()\n",
    "ax = fig.add_subplot(111, projection='3d')\n",
    "\n",
    "# Plot the surface\n",
    "c = df[['jobState']][:1000]\n",
    "scatter = ax.scatter(x, y, z, c=c, cmap='viridis')\n",
    "\n",
    "# Customize the plot\n",
    "ax.set_xlabel('speed')\n",
    "ax.set_ylabel('varnish')\n",
    "ax.set_zlabel('printed')\n",
    "ax.set_title('Distribution des états de jobs en fonction du nombre de copies imprimées, demandées et des LED')\n",
    "\n",
    "# Add colorbar with precise tick labels\n",
    "cbar = fig.colorbar(scatter, ticks=np.linspace(min(c.jobState), max(c.jobState), num=4))\n",
    "cbar.set_label('Etats')\n",
    "\n",
    "# Show the plot\n",
    "plt.show()"
   ]
  },
  {
   "cell_type": "code",
   "execution_count": 38,
   "metadata": {},
   "outputs": [
    {
     "data": {
      "text/plain": [
       "0"
      ]
     },
     "execution_count": 38,
     "metadata": {},
     "output_type": "execute_result"
    }
   ],
   "source": [
    "min(c.jobState)"
   ]
  }
 ],
 "metadata": {
  "kernelspec": {
   "display_name": ".venv",
   "language": "python",
   "name": "python3"
  },
  "language_info": {
   "codemirror_mode": {
    "name": "ipython",
    "version": 3
   },
   "file_extension": ".py",
   "mimetype": "text/x-python",
   "name": "python",
   "nbconvert_exporter": "python",
   "pygments_lexer": "ipython3",
   "version": "3.10.11"
  },
  "orig_nbformat": 4,
  "vscode": {
   "interpreter": {
    "hash": "2315c9af7dedaeb0b2bf51504304a927c605b523f04dad98936c50abe500b408"
   }
  }
 },
 "nbformat": 4,
 "nbformat_minor": 2
}
