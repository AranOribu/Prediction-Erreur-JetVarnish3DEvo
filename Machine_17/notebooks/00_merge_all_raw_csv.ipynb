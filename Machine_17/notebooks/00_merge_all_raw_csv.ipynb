{
 "cells": [
  {
   "cell_type": "code",
   "execution_count": 10,
   "metadata": {},
   "outputs": [],
   "source": [
    "import os, json, ast\n",
    "import pandas as pd\n",
    "import numpy as np\n",
    "from datetime import datetime\n",
    "from pathlib import Path"
   ]
  },
  {
   "cell_type": "code",
   "execution_count": 11,
   "metadata": {},
   "outputs": [
    {
     "name": "stdout",
     "output_type": "stream",
     "text": [
      "<class 'pandas.core.frame.DataFrame'>\n",
      "RangeIndex: 60716 entries, 0 to 60715\n",
      "Data columns (total 5 columns):\n",
      " #   Column       Non-Null Count  Dtype \n",
      "---  ------       --------------  ----- \n",
      " 0   id           60716 non-null  int64 \n",
      " 1   payload      60716 non-null  object\n",
      " 2   received_at  60716 non-null  object\n",
      " 3   machine_id   60716 non-null  int64 \n",
      " 4   tag          60716 non-null  object\n",
      "dtypes: int64(2), object(3)\n",
      "memory usage: 2.3+ MB\n"
     ]
    }
   ],
   "source": [
    "# création d'un dataframe à partir du csv de données\n",
    "job_events_df = pd.read_csv(\"../data/raw_unmerged/job_events_17_inf.csv\")\n",
    "job_events_df_sup = pd.read_csv(\"../data/raw_unmerged/job_events_17-sup.csv\")\n",
    "job_events_df_sup2 = pd.read_csv(\"../data/raw_unmerged/job_events-17-sup2.csv\")\n",
    "job_events_df.reset_index(level=None, drop=True, inplace=True, col_level=0, col_fill='')\n",
    "job_events_df.info()"
   ]
  },
  {
   "cell_type": "code",
   "execution_count": 12,
   "metadata": {},
   "outputs": [
    {
     "name": "stdout",
     "output_type": "stream",
     "text": [
      "<class 'pandas.core.frame.DataFrame'>\n",
      "RangeIndex: 42226 entries, 0 to 42225\n",
      "Data columns (total 5 columns):\n",
      " #   Column       Non-Null Count  Dtype \n",
      "---  ------       --------------  ----- \n",
      " 0   id           42226 non-null  int64 \n",
      " 1   payload      42226 non-null  object\n",
      " 2   received_at  42226 non-null  object\n",
      " 3   machine_id   42226 non-null  int64 \n",
      " 4   tag          42226 non-null  object\n",
      "dtypes: int64(2), object(3)\n",
      "memory usage: 1.6+ MB\n"
     ]
    }
   ],
   "source": [
    "job_events_df_sup.reset_index(level=None, drop=True, inplace=True, col_level=0, col_fill='')\n",
    "job_events_df_sup.info()"
   ]
  },
  {
   "cell_type": "code",
   "execution_count": 13,
   "metadata": {},
   "outputs": [
    {
     "name": "stdout",
     "output_type": "stream",
     "text": [
      "<class 'pandas.core.frame.DataFrame'>\n",
      "RangeIndex: 40515 entries, 0 to 40514\n",
      "Data columns (total 5 columns):\n",
      " #   Column       Non-Null Count  Dtype \n",
      "---  ------       --------------  ----- \n",
      " 0   id           40515 non-null  int64 \n",
      " 1   payload      40515 non-null  object\n",
      " 2   received_at  40515 non-null  object\n",
      " 3   machine_id   40515 non-null  int64 \n",
      " 4   tag          40515 non-null  object\n",
      "dtypes: int64(2), object(3)\n",
      "memory usage: 1.5+ MB\n"
     ]
    }
   ],
   "source": [
    "job_events_df_sup2.reset_index(level=None, drop=True, inplace=True, col_level=0, col_fill='')\n",
    "job_events_df_sup2.info()"
   ]
  },
  {
   "cell_type": "code",
   "execution_count": 14,
   "metadata": {},
   "outputs": [
    {
     "data": {
      "text/html": [
       "<div>\n",
       "<style scoped>\n",
       "    .dataframe tbody tr th:only-of-type {\n",
       "        vertical-align: middle;\n",
       "    }\n",
       "\n",
       "    .dataframe tbody tr th {\n",
       "        vertical-align: top;\n",
       "    }\n",
       "\n",
       "    .dataframe thead th {\n",
       "        text-align: right;\n",
       "    }\n",
       "</style>\n",
       "<table border=\"1\" class=\"dataframe\">\n",
       "  <thead>\n",
       "    <tr style=\"text-align: right;\">\n",
       "      <th></th>\n",
       "      <th>id</th>\n",
       "      <th>payload</th>\n",
       "      <th>received_at</th>\n",
       "      <th>machine_id</th>\n",
       "      <th>tag</th>\n",
       "    </tr>\n",
       "  </thead>\n",
       "  <tbody>\n",
       "    <tr>\n",
       "      <th>59062</th>\n",
       "      <td>82914</td>\n",
       "      <td>{\"iper\": [{\"id\": \"PRINT_ENGINE_1\", \"LED\": 50, ...</td>\n",
       "      <td>2022-02-22 09:43:03.545000</td>\n",
       "      <td>17</td>\n",
       "      <td>job-started</td>\n",
       "    </tr>\n",
       "    <tr>\n",
       "      <th>59063</th>\n",
       "      <td>82916</td>\n",
       "      <td>{\"path\": \"D:/IMAGES/Standard/1502734#1/0000001...</td>\n",
       "      <td>2022-02-22 09:43:03.725000</td>\n",
       "      <td>17</td>\n",
       "      <td>job-preview-ready</td>\n",
       "    </tr>\n",
       "    <tr>\n",
       "      <th>59064</th>\n",
       "      <td>82923</td>\n",
       "      <td>{\"jobId\": \"1645522984\", \"jobState\": \"SUCCESS\",...</td>\n",
       "      <td>2022-02-22 09:46:07.041000</td>\n",
       "      <td>17</td>\n",
       "      <td>job-ended</td>\n",
       "    </tr>\n",
       "    <tr>\n",
       "      <th>59065</th>\n",
       "      <td>82926</td>\n",
       "      <td>{\"iper\": [{\"id\": \"PRINT_ENGINE_1\", \"LED\": 50, ...</td>\n",
       "      <td>2022-02-22 09:47:19.711000</td>\n",
       "      <td>17</td>\n",
       "      <td>job-started</td>\n",
       "    </tr>\n",
       "    <tr>\n",
       "      <th>59066</th>\n",
       "      <td>82927</td>\n",
       "      <td>{\"path\": \"D:/IMAGES/Standard/1496447#1/0000001...</td>\n",
       "      <td>2022-02-22 09:47:19.872000</td>\n",
       "      <td>17</td>\n",
       "      <td>job-preview-ready</td>\n",
       "    </tr>\n",
       "  </tbody>\n",
       "</table>\n",
       "</div>"
      ],
      "text/plain": [
       "          id                                            payload  \\\n",
       "59062  82914  {\"iper\": [{\"id\": \"PRINT_ENGINE_1\", \"LED\": 50, ...   \n",
       "59063  82916  {\"path\": \"D:/IMAGES/Standard/1502734#1/0000001...   \n",
       "59064  82923  {\"jobId\": \"1645522984\", \"jobState\": \"SUCCESS\",...   \n",
       "59065  82926  {\"iper\": [{\"id\": \"PRINT_ENGINE_1\", \"LED\": 50, ...   \n",
       "59066  82927  {\"path\": \"D:/IMAGES/Standard/1496447#1/0000001...   \n",
       "\n",
       "                      received_at  machine_id                tag  \n",
       "59062  2022-02-22 09:43:03.545000          17        job-started  \n",
       "59063  2022-02-22 09:43:03.725000          17  job-preview-ready  \n",
       "59064  2022-02-22 09:46:07.041000          17          job-ended  \n",
       "59065  2022-02-22 09:47:19.711000          17        job-started  \n",
       "59066  2022-02-22 09:47:19.872000          17  job-preview-ready  "
      ]
     },
     "execution_count": 14,
     "metadata": {},
     "output_type": "execute_result"
    }
   ],
   "source": [
    "job_events_merged_df = pd.concat([job_events_df, job_events_df_sup, job_events_df_sup2], ignore_index=True)\n",
    "job_events_merged_df = job_events_merged_df.sort_values(by='received_at')\n",
    "\n",
    "# Vérifier la fusion\n",
    "job_events_merged_df.head()"
   ]
  },
  {
   "cell_type": "code",
   "execution_count": 15,
   "metadata": {},
   "outputs": [
    {
     "data": {
      "text/html": [
       "<div>\n",
       "<style scoped>\n",
       "    .dataframe tbody tr th:only-of-type {\n",
       "        vertical-align: middle;\n",
       "    }\n",
       "\n",
       "    .dataframe tbody tr th {\n",
       "        vertical-align: top;\n",
       "    }\n",
       "\n",
       "    .dataframe thead th {\n",
       "        text-align: right;\n",
       "    }\n",
       "</style>\n",
       "<table border=\"1\" class=\"dataframe\">\n",
       "  <thead>\n",
       "    <tr style=\"text-align: right;\">\n",
       "      <th></th>\n",
       "      <th>id</th>\n",
       "      <th>payload</th>\n",
       "      <th>received_at</th>\n",
       "      <th>machine_id</th>\n",
       "      <th>tag</th>\n",
       "    </tr>\n",
       "  </thead>\n",
       "  <tbody>\n",
       "    <tr>\n",
       "      <th>77810</th>\n",
       "      <td>885811</td>\n",
       "      <td>{\"path\": \"D:/IMAGES/Standard/2117813#1/0000001...</td>\n",
       "      <td>2023-11-22 08:48:20.119000</td>\n",
       "      <td>17</td>\n",
       "      <td>job-preview-ready</td>\n",
       "    </tr>\n",
       "    <tr>\n",
       "      <th>77811</th>\n",
       "      <td>885813</td>\n",
       "      <td>{\"jobId\": \"1700642899\", \"jobState\": \"SUCCESS\",...</td>\n",
       "      <td>2023-11-22 08:49:32.409000</td>\n",
       "      <td>17</td>\n",
       "      <td>job-ended</td>\n",
       "    </tr>\n",
       "    <tr>\n",
       "      <th>77812</th>\n",
       "      <td>885825</td>\n",
       "      <td>{\"iper\": [{\"id\": \"PRINT_ENGINE_1\", \"LED\": 50, ...</td>\n",
       "      <td>2023-11-22 08:51:55.884000</td>\n",
       "      <td>17</td>\n",
       "      <td>job-started</td>\n",
       "    </tr>\n",
       "    <tr>\n",
       "      <th>77813</th>\n",
       "      <td>885826</td>\n",
       "      <td>{\"path\": \"D:/IMAGES/Standard/2120169#1/0000001...</td>\n",
       "      <td>2023-11-22 08:51:56.013000</td>\n",
       "      <td>17</td>\n",
       "      <td>job-preview-ready</td>\n",
       "    </tr>\n",
       "    <tr>\n",
       "      <th>77814</th>\n",
       "      <td>885837</td>\n",
       "      <td>{\"jobId\": \"1700643115\", \"jobState\": \"SUCCESS\",...</td>\n",
       "      <td>2023-11-22 08:52:58.453000</td>\n",
       "      <td>17</td>\n",
       "      <td>job-ended</td>\n",
       "    </tr>\n",
       "  </tbody>\n",
       "</table>\n",
       "</div>"
      ],
      "text/plain": [
       "           id                                            payload  \\\n",
       "77810  885811  {\"path\": \"D:/IMAGES/Standard/2117813#1/0000001...   \n",
       "77811  885813  {\"jobId\": \"1700642899\", \"jobState\": \"SUCCESS\",...   \n",
       "77812  885825  {\"iper\": [{\"id\": \"PRINT_ENGINE_1\", \"LED\": 50, ...   \n",
       "77813  885826  {\"path\": \"D:/IMAGES/Standard/2120169#1/0000001...   \n",
       "77814  885837  {\"jobId\": \"1700643115\", \"jobState\": \"SUCCESS\",...   \n",
       "\n",
       "                      received_at  machine_id                tag  \n",
       "77810  2023-11-22 08:48:20.119000          17  job-preview-ready  \n",
       "77811  2023-11-22 08:49:32.409000          17          job-ended  \n",
       "77812  2023-11-22 08:51:55.884000          17        job-started  \n",
       "77813  2023-11-22 08:51:56.013000          17  job-preview-ready  \n",
       "77814  2023-11-22 08:52:58.453000          17          job-ended  "
      ]
     },
     "execution_count": 15,
     "metadata": {},
     "output_type": "execute_result"
    }
   ],
   "source": [
    "job_events_merged_df.tail()"
   ]
  },
  {
   "cell_type": "code",
   "execution_count": 16,
   "metadata": {},
   "outputs": [
    {
     "name": "stdout",
     "output_type": "stream",
     "text": [
      "143457\n"
     ]
    }
   ],
   "source": [
    "print(len(job_events_merged_df))  "
   ]
  },
  {
   "cell_type": "code",
   "execution_count": 17,
   "metadata": {},
   "outputs": [],
   "source": [
    "job_events_merged_df.to_csv(\"../data/raw/job_events.csv\", index=False)"
   ]
  },
  {
   "cell_type": "code",
   "execution_count": 18,
   "metadata": {},
   "outputs": [
    {
     "name": "stderr",
     "output_type": "stream",
     "text": [
      "C:\\Users\\Allan\\AppData\\Local\\Temp\\ipykernel_9896\\3270355420.py:3: DtypeWarning: Columns (12) have mixed types. Specify dtype option on import or set low_memory=False.\n",
      "  jobs_merged_df = pd.read_csv(\"../data/raw/jobs.csv\")\n"
     ]
    }
   ],
   "source": [
    "metrics_merged_df = pd.read_csv(\"../data/raw/metrics.csv\")\n",
    "job_events_merged_df = pd.read_csv(\"../data/raw/job_events.csv\")\n",
    "jobs_merged_df = pd.read_csv(\"../data/raw/jobs.csv\")"
   ]
  },
  {
   "cell_type": "code",
   "execution_count": 19,
   "metadata": {},
   "outputs": [
    {
     "name": "stderr",
     "output_type": "stream",
     "text": [
      "C:\\Users\\Allan\\AppData\\Local\\Temp\\ipykernel_9896\\1947789244.py:4: DtypeWarning: Columns (12) have mixed types. Specify dtype option on import or set low_memory=False.\n",
      "  jobs_merged_df = pd.read_csv(\"../data/raw/jobs.csv\")\n"
     ]
    },
    {
     "name": "stdout",
     "output_type": "stream",
     "text": [
      "metrics_merged_df - Date Min: 2022-11-02 08:28:54.218000, Date Max: 2023-11-15 14:16:20.075000\n",
      "job_events_merged_df - Date Min: 2022-02-22 09:43:03.545000, Date Max: 2023-11-22 08:52:58.453000\n",
      "jobs_merged_df - Date Min: 2022-02-22 09:43:04.487000, Date Max: 2023-11-15 14:23:31.020000\n"
     ]
    }
   ],
   "source": [
    "# Charger les fichiers CSV\n",
    "metrics_merged_df = pd.read_csv(\"../data/raw/metrics.csv\")\n",
    "job_events_merged_df = pd.read_csv(\"../data/raw/job_events.csv\")\n",
    "jobs_merged_df = pd.read_csv(\"../data/raw/jobs.csv\")\n",
    "\n",
    "# Convertir les colonnes de date\n",
    "metrics_merged_df['created_at'] = pd.to_datetime(metrics_merged_df['created_at'])\n",
    "job_events_merged_df['received_at'] = pd.to_datetime(job_events_merged_df['received_at'])\n",
    "jobs_merged_df['started_at'] = pd.to_datetime(jobs_merged_df['started_at'])\n",
    "\n",
    "# Trouver et afficher les valeurs maximales et minimales pour chaque DataFrame\n",
    "max_date_metrics = metrics_merged_df['created_at'].max()\n",
    "min_date_metrics = metrics_merged_df['created_at'].min()\n",
    "print(f\"metrics_merged_df - Date Min: {min_date_metrics}, Date Max: {max_date_metrics}\")\n",
    "\n",
    "max_date_job_events = job_events_merged_df['received_at'].max()\n",
    "min_date_job_events = job_events_merged_df['received_at'].min()\n",
    "print(f\"job_events_merged_df - Date Min: {min_date_job_events}, Date Max: {max_date_job_events}\")\n",
    "\n",
    "max_date_jobs = jobs_merged_df['started_at'].max()\n",
    "min_date_jobs = jobs_merged_df['started_at'].min()\n",
    "print(f\"jobs_merged_df - Date Min: {min_date_jobs}, Date Max: {max_date_jobs}\")\n"
   ]
  },
  {
   "cell_type": "markdown",
   "metadata": {},
   "source": [
    "-----------------------------------------------"
   ]
  }
 ],
 "metadata": {
  "kernelspec": {
   "display_name": "venv",
   "language": "python",
   "name": "python3"
  },
  "language_info": {
   "codemirror_mode": {
    "name": "ipython",
    "version": 3
   },
   "file_extension": ".py",
   "mimetype": "text/x-python",
   "name": "python",
   "nbconvert_exporter": "python",
   "pygments_lexer": "ipython3",
   "version": "3.10.11"
  }
 },
 "nbformat": 4,
 "nbformat_minor": 2
}
