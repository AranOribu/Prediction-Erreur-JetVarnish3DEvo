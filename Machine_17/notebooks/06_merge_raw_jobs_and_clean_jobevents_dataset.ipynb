{
 "cells": [
  {
   "attachments": {},
   "cell_type": "markdown",
   "metadata": {},
   "source": [
    "# 06 - Création du dataset des données de jobs et de job_events fusionnées"
   ]
  },
  {
   "attachments": {},
   "cell_type": "markdown",
   "metadata": {},
   "source": [
    "Ce notebook génère 1 csv :\n",
    "\n",
    "- merge_raw_jobs_and_clean_jobevents_dataset.csv\n",
    "\n",
    "Etapes :\n",
    "\n",
    "- Suppression des colonnes doublon dans les 2 datasets\n",
    "\n",
    "- Fusion des datasets"
   ]
  },
  {
   "attachments": {},
   "cell_type": "markdown",
   "metadata": {},
   "source": [
    "# A. Imports"
   ]
  },
  {
   "attachments": {},
   "cell_type": "markdown",
   "metadata": {},
   "source": [
    "## a) Librairies"
   ]
  },
  {
   "cell_type": "code",
   "execution_count": 1,
   "metadata": {},
   "outputs": [],
   "source": [
    "import os, json\n",
    "import pandas as pd\n",
    "import numpy as np\n",
    "import matplotlib.pyplot as plt"
   ]
  },
  {
   "attachments": {},
   "cell_type": "markdown",
   "metadata": {},
   "source": [
    "## b) Données"
   ]
  },
  {
   "cell_type": "code",
   "execution_count": 2,
   "metadata": {},
   "outputs": [],
   "source": [
    "# source path\n",
    "jobs = '../data/jobs/raw_jobs_dataset.csv'\n",
    "\n",
    "# source path\n",
    "events = '../data/jobs/clean_merge_job_events_dataset.csv'\n",
    "\n",
    "# save target path\n",
    "save_csv = '../data/jobs/merge_raw_jobs_and_clean_jobevents_dataset.csv'"
   ]
  },
  {
   "attachments": {},
   "cell_type": "markdown",
   "metadata": {},
   "source": [
    "# B. Dataframe"
   ]
  },
  {
   "attachments": {},
   "cell_type": "markdown",
   "metadata": {},
   "source": [
    "## a) Création des dataframes jobs et events"
   ]
  },
  {
   "attachments": {},
   "cell_type": "markdown",
   "metadata": {},
   "source": [
    "### 1. jobs"
   ]
  },
  {
   "cell_type": "code",
   "execution_count": 3,
   "metadata": {},
   "outputs": [
    {
     "name": "stdout",
     "output_type": "stream",
     "text": [
      "<class 'pandas.core.frame.DataFrame'>\n",
      "Int64Index: 47073 entries, 0 to 47072\n",
      "Data columns (total 20 columns):\n",
      " #   Column                        Non-Null Count  Dtype  \n",
      "---  ------                        --------------  -----  \n",
      " 0   total_copies                  47073 non-null  int64  \n",
      " 1   started_at                    47073 non-null  object \n",
      " 2   ended_at                      47073 non-null  object \n",
      " 3   speed                         47073 non-null  int64  \n",
      " 4   operator                      47073 non-null  object \n",
      " 5   operator_level                47073 non-null  object \n",
      " 6   paperHeight                   47073 non-null  int64  \n",
      " 7   paperWidth                    47073 non-null  int64  \n",
      " 8   paperName                     47073 non-null  object \n",
      " 9   paperThickness                47073 non-null  int64  \n",
      " 10  id_on_machine                 47073 non-null  int64  \n",
      " 11  total_copies_requested        47073 non-null  int64  \n",
      " 12  uses_ifoil                    47073 non-null  bool   \n",
      " 13  uses_iper                     47073 non-null  bool   \n",
      " 14  scanner_mode                  47073 non-null  int64  \n",
      " 15  iper_bvar_count               47073 non-null  int64  \n",
      " 16  varnishConsumptionVarnish_3d  47073 non-null  float64\n",
      " 17  run                           47073 non-null  int64  \n",
      " 18  total_run                     47073 non-null  int64  \n",
      " 19  copies_per_run                47073 non-null  int64  \n",
      "dtypes: bool(2), float64(1), int64(12), object(5)\n",
      "memory usage: 6.9+ MB\n"
     ]
    }
   ],
   "source": [
    "# création d'un dataframe à partir du csv de données\n",
    "jobs_df = pd.read_csv(jobs, index_col=0)\n",
    "jobs_df.info()"
   ]
  },
  {
   "attachments": {},
   "cell_type": "markdown",
   "metadata": {},
   "source": [
    "### 2. job events"
   ]
  },
  {
   "cell_type": "code",
   "execution_count": 4,
   "metadata": {},
   "outputs": [
    {
     "name": "stdout",
     "output_type": "stream",
     "text": [
      "<class 'pandas.core.frame.DataFrame'>\n",
      "Int64Index: 47837 entries, 0 to 47836\n",
      "Data columns (total 44 columns):\n",
      " #   Column                                                 Non-Null Count  Dtype  \n",
      "---  ------                                                 --------------  -----  \n",
      " 0   jobId                                                  47837 non-null  int64  \n",
      " 1   timestamp_start                                        47837 non-null  object \n",
      " 2   totalCopies_start                                      47837 non-null  int64  \n",
      " 3   jsonVersion_x                                          34053 non-null  float64\n",
      " 4   LED_iper                                               47837 non-null  int64  \n",
      " 5   bars_iper                                              47837 non-null  object \n",
      " 6   drops_iper                                             47837 non-null  int64  \n",
      " 7   dithering_iper                                         47837 non-null  bool   \n",
      " 8   deadPixelsOffset_iper                                  47837 non-null  int64  \n",
      " 9   level_user                                             47837 non-null  object \n",
      " 10  operator_user                                          47837 non-null  object \n",
      " 11  speed_ifoil                                            47837 non-null  float64\n",
      " 12  enabled_ifoil                                          47837 non-null  bool   \n",
      " 13  optifoil_ifoil                                         47837 non-null  bool   \n",
      " 14  stampAreas_ifoil                                       47837 non-null  object \n",
      " 15  heater1Enabled_ifoil                                   47837 non-null  bool   \n",
      " 16  speedTensionIn_ifoil                                   47837 non-null  float64\n",
      " 17  speedTensionOut_ifoil                                  47837 non-null  float64\n",
      " 18  heater1Temperature_ifoil                               47837 non-null  int64  \n",
      " 19  x_imageLayout_layout                                   47837 non-null  int64  \n",
      " 20  y_imageLayout_layout                                   47837 non-null  int64  \n",
      " 21  name_paperFormat_layout                                47837 non-null  object \n",
      " 22  width_paperFormat_layout                               47837 non-null  float64\n",
      " 23  height_paperFormat_layout                              47837 non-null  float64\n",
      " 24  speed_layout                                           47837 non-null  int64  \n",
      " 25  power_irDryers                                         47837 non-null  int64  \n",
      " 26  power_uvDryers                                         47837 non-null  int64  \n",
      " 27  redScore_gridMode_remoteScannerRegistration            47837 non-null  int64  \n",
      " 28  redScore_cropmarksMode_remoteScannerRegistration       47837 non-null  int64  \n",
      " 29  x_cropmark1_cropmarksMode_remoteScannerRegistration    47837 non-null  int64  \n",
      " 30  y_cropmark1_cropmarksMode_remoteScannerRegistration    47837 non-null  int64  \n",
      " 31  x_cropmark2_cropmarksMode_remoteScannerRegistration    47837 non-null  int64  \n",
      " 32  y_cropmark2_cropmarksMode_remoteScannerRegistration    47837 non-null  int64  \n",
      " 33  exposureTime_manualLighting_remoteScannerRegistration  47837 non-null  int64  \n",
      " 34  redScore_fullScannerMode_remoteScannerRegistration     47837 non-null  int64  \n",
      " 35  blueScore_fullScannerMode_remoteScannerRegistration    47837 non-null  int64  \n",
      " 36  greenScore_fullScannerMode_remoteScannerRegistration   47837 non-null  int64  \n",
      " 37  enable_specialSubstrate_remoteScannerRegistration      47837 non-null  bool   \n",
      " 38  mode_remoteScannerRegistration                         47837 non-null  int64  \n",
      " 39  jobState                                               47837 non-null  object \n",
      " 40  timestamp_end                                          47837 non-null  object \n",
      " 41  totalCopies_end                                        47837 non-null  int64  \n",
      " 42  consumption_operatorSideTanks_varnishConsumption       47837 non-null  float64\n",
      " 43  jsonVersion_y                                          34030 non-null  float64\n",
      "dtypes: bool(5), float64(8), int64(23), object(8)\n",
      "memory usage: 14.8+ MB\n"
     ]
    }
   ],
   "source": [
    "# création d'un dataframe à partir du csv de données\n",
    "events_df = pd.read_csv(events, index_col=0)\n",
    "events_df.info()"
   ]
  },
  {
   "attachments": {},
   "cell_type": "markdown",
   "metadata": {},
   "source": [
    "## b) Création d'un dataframe fusionné"
   ]
  },
  {
   "attachments": {},
   "cell_type": "markdown",
   "metadata": {},
   "source": [
    "### 1. Suppression de colonnes"
   ]
  },
  {
   "cell_type": "code",
   "execution_count": 5,
   "metadata": {},
   "outputs": [],
   "source": [
    "# suppression des colonnes avec des valeurs uniques\n",
    "for col in list(jobs_df.columns):\n",
    "    if jobs_df[col].nunique() == 1:\n",
    "        jobs_df.drop(col, axis=1, inplace=True)"
   ]
  },
  {
   "cell_type": "code",
   "execution_count": 6,
   "metadata": {},
   "outputs": [],
   "source": [
    "# suppression des colonnes avec des valeurs uniques\n",
    "for col in list(events_df.columns) :\n",
    "    if events_df[col].nunique() == 1:\n",
    "        events_df.drop(col, axis=1, inplace=True)"
   ]
  },
  {
   "attachments": {},
   "cell_type": "markdown",
   "metadata": {},
   "source": [
    "### 2. Concordance des colonnes entre dataframes"
   ]
  },
  {
   "cell_type": "code",
   "execution_count": 7,
   "metadata": {},
   "outputs": [],
   "source": [
    "# on renomme des colonnes de jobs\n",
    "jobs_df = jobs_df.rename(columns={\n",
    " 'uses_ifoil' : 'ifoil',\n",
    " 'iper_bvar_count': 'bars'\n",
    " })"
   ]
  },
  {
   "cell_type": "code",
   "execution_count": 8,
   "metadata": {},
   "outputs": [],
   "source": [
    "# on renomme des colonnes de events\n",
    "events_df = events_df.rename(columns={\n",
    "    'totalCopies_start':'total_copies_requested',\n",
    "    'LED_iper' : 'LED',\n",
    "    'bars_iper' : 'bars',\n",
    "    'drops_iper': 'drops',\n",
    "    'dithering_iper' : 'dithering',\n",
    "    'deadPixelsOffset_iper' : 'deadPixelsOffset',\n",
    "    'level_user' : 'operator_level',\n",
    "    'operator_user':'operator',\n",
    "    'enabled_ifoil' : 'ifoil',\n",
    "    'x_imageLayout_layout' : 'x_imageLayout',\n",
    "    'y_imageLayout_layout' : 'y_imageLayout',\n",
    "    'name_paperFormat_layout' : 'paperName',\n",
    "    'width_paperFormat_layout' : 'paperWidth',\n",
    "    'height_paperFormat_layout' : 'paperHeight',\n",
    "    'speed_layout' : 'speed',\n",
    "    'topMargin_registration_remoteScannerRegistration' : 'topMargin_remoteScannerRegistration',\n",
    "    'leftMargin_registration_remoteScannerRegistration' : 'leftMargin_remoteScannerRegistration',\n",
    "    'totalCopies_end' : 'total_copies',\n",
    "    'consumption_operatorSideTanks_varnishConsumption' : 'varnishConsumptionVarnish_3d'\n",
    "    })"
   ]
  },
  {
   "cell_type": "code",
   "execution_count": 9,
   "metadata": {},
   "outputs": [
    {
     "data": {
      "text/plain": [
       "False"
      ]
     },
     "execution_count": 9,
     "metadata": {},
     "output_type": "execute_result"
    }
   ],
   "source": [
    "# Comparer les valeurs de la colonne \"bars\" entre les dataframes \"events_df\" et \"jobs_df\"\n",
    "events_df['bars'].isin(jobs_df['bars']).any()"
   ]
  },
  {
   "cell_type": "code",
   "execution_count": 10,
   "metadata": {},
   "outputs": [],
   "source": [
    "# liste des colonnes communes\n",
    "common_cols = [col for col in jobs_df.columns.to_list() if col in events_df.columns.to_list()]"
   ]
  },
  {
   "attachments": {},
   "cell_type": "markdown",
   "metadata": {},
   "source": [
    "### 3. Concordance des valeurs entre colonnes communes"
   ]
  },
  {
   "cell_type": "code",
   "execution_count": 11,
   "metadata": {},
   "outputs": [
    {
     "data": {
      "text/plain": [
       "(47073, 18)"
      ]
     },
     "execution_count": 11,
     "metadata": {},
     "output_type": "execute_result"
    }
   ],
   "source": [
    "jobs_df.shape"
   ]
  },
  {
   "cell_type": "code",
   "execution_count": 12,
   "metadata": {},
   "outputs": [
    {
     "data": {
      "text/plain": [
       "(47837, 42)"
      ]
     },
     "execution_count": 12,
     "metadata": {},
     "output_type": "execute_result"
    }
   ],
   "source": [
    "events_df.shape"
   ]
  },
  {
   "cell_type": "code",
   "execution_count": 13,
   "metadata": {},
   "outputs": [
    {
     "data": {
      "text/plain": [
       "Index(['jobId', 'timestamp_start', 'total_copies_requested', 'LED', 'bars',\n",
       "       'drops', 'dithering', 'deadPixelsOffset', 'operator_level', 'operator',\n",
       "       'speed_ifoil', 'ifoil', 'optifoil_ifoil', 'stampAreas_ifoil',\n",
       "       'heater1Enabled_ifoil', 'speedTensionIn_ifoil', 'speedTensionOut_ifoil',\n",
       "       'heater1Temperature_ifoil', 'x_imageLayout', 'y_imageLayout',\n",
       "       'paperName', 'paperWidth', 'paperHeight', 'speed', 'power_irDryers',\n",
       "       'power_uvDryers', 'redScore_gridMode_remoteScannerRegistration',\n",
       "       'redScore_cropmarksMode_remoteScannerRegistration',\n",
       "       'x_cropmark1_cropmarksMode_remoteScannerRegistration',\n",
       "       'y_cropmark1_cropmarksMode_remoteScannerRegistration',\n",
       "       'x_cropmark2_cropmarksMode_remoteScannerRegistration',\n",
       "       'y_cropmark2_cropmarksMode_remoteScannerRegistration',\n",
       "       'exposureTime_manualLighting_remoteScannerRegistration',\n",
       "       'redScore_fullScannerMode_remoteScannerRegistration',\n",
       "       'blueScore_fullScannerMode_remoteScannerRegistration',\n",
       "       'greenScore_fullScannerMode_remoteScannerRegistration',\n",
       "       'enable_specialSubstrate_remoteScannerRegistration',\n",
       "       'mode_remoteScannerRegistration', 'jobState', 'timestamp_end',\n",
       "       'total_copies', 'varnishConsumptionVarnish_3d'],\n",
       "      dtype='object')"
      ]
     },
     "execution_count": 13,
     "metadata": {},
     "output_type": "execute_result"
    }
   ],
   "source": [
    "events_df.columns"
   ]
  },
  {
   "cell_type": "code",
   "execution_count": 15,
   "metadata": {},
   "outputs": [
    {
     "data": {
      "text/html": [
       "<div>\n",
       "<style scoped>\n",
       "    .dataframe tbody tr th:only-of-type {\n",
       "        vertical-align: middle;\n",
       "    }\n",
       "\n",
       "    .dataframe tbody tr th {\n",
       "        vertical-align: top;\n",
       "    }\n",
       "\n",
       "    .dataframe thead th {\n",
       "        text-align: right;\n",
       "    }\n",
       "</style>\n",
       "<table border=\"1\" class=\"dataframe\">\n",
       "  <thead>\n",
       "    <tr style=\"text-align: right;\">\n",
       "      <th></th>\n",
       "      <th>total_copies</th>\n",
       "      <th>started_at</th>\n",
       "      <th>ended_at</th>\n",
       "      <th>speed</th>\n",
       "      <th>operator</th>\n",
       "      <th>operator_level</th>\n",
       "      <th>paperHeight</th>\n",
       "      <th>paperWidth</th>\n",
       "      <th>paperName</th>\n",
       "      <th>id_on_machine</th>\n",
       "      <th>total_copies_requested</th>\n",
       "      <th>ifoil</th>\n",
       "      <th>scanner_mode</th>\n",
       "      <th>bars</th>\n",
       "      <th>varnishConsumptionVarnish_3d</th>\n",
       "      <th>run</th>\n",
       "      <th>total_run</th>\n",
       "      <th>copies_per_run</th>\n",
       "    </tr>\n",
       "  </thead>\n",
       "  <tbody>\n",
       "    <tr>\n",
       "      <th>0</th>\n",
       "      <td>40</td>\n",
       "      <td>2022-02-22 09:43:04.487000+00:00</td>\n",
       "      <td>2022-02-22 09:46:07.946000+00:00</td>\n",
       "      <td>313</td>\n",
       "      <td>User</td>\n",
       "      <td>Operator</td>\n",
       "      <td>470</td>\n",
       "      <td>330</td>\n",
       "      <td>UNDEFINED</td>\n",
       "      <td>1645522984</td>\n",
       "      <td>40</td>\n",
       "      <td>True</td>\n",
       "      <td>3</td>\n",
       "      <td>2</td>\n",
       "      <td>4.414782</td>\n",
       "      <td>0</td>\n",
       "      <td>0</td>\n",
       "      <td>0</td>\n",
       "    </tr>\n",
       "    <tr>\n",
       "      <th>1</th>\n",
       "      <td>18</td>\n",
       "      <td>2022-02-22 09:47:20.673000+00:00</td>\n",
       "      <td>2022-02-22 09:48:57.474000+00:00</td>\n",
       "      <td>313</td>\n",
       "      <td>User</td>\n",
       "      <td>Operator</td>\n",
       "      <td>470</td>\n",
       "      <td>330</td>\n",
       "      <td>UNDEFINED</td>\n",
       "      <td>1645523240</td>\n",
       "      <td>29</td>\n",
       "      <td>True</td>\n",
       "      <td>3</td>\n",
       "      <td>2</td>\n",
       "      <td>3.004043</td>\n",
       "      <td>0</td>\n",
       "      <td>0</td>\n",
       "      <td>0</td>\n",
       "    </tr>\n",
       "    <tr>\n",
       "      <th>2</th>\n",
       "      <td>15</td>\n",
       "      <td>2022-02-22 09:50:14.555000+00:00</td>\n",
       "      <td>2022-02-22 09:51:50.551000+00:00</td>\n",
       "      <td>313</td>\n",
       "      <td>User</td>\n",
       "      <td>Operator</td>\n",
       "      <td>470</td>\n",
       "      <td>330</td>\n",
       "      <td>UNDEFINED</td>\n",
       "      <td>1645523414</td>\n",
       "      <td>15</td>\n",
       "      <td>True</td>\n",
       "      <td>3</td>\n",
       "      <td>2</td>\n",
       "      <td>2.503964</td>\n",
       "      <td>0</td>\n",
       "      <td>0</td>\n",
       "      <td>0</td>\n",
       "    </tr>\n",
       "    <tr>\n",
       "      <th>3</th>\n",
       "      <td>17</td>\n",
       "      <td>2022-02-22 09:52:53.450000+00:00</td>\n",
       "      <td>2022-02-22 09:54:26.428000+00:00</td>\n",
       "      <td>313</td>\n",
       "      <td>User</td>\n",
       "      <td>Operator</td>\n",
       "      <td>470</td>\n",
       "      <td>330</td>\n",
       "      <td>UNDEFINED</td>\n",
       "      <td>1645523573</td>\n",
       "      <td>44</td>\n",
       "      <td>True</td>\n",
       "      <td>3</td>\n",
       "      <td>2</td>\n",
       "      <td>1.564754</td>\n",
       "      <td>0</td>\n",
       "      <td>0</td>\n",
       "      <td>0</td>\n",
       "    </tr>\n",
       "    <tr>\n",
       "      <th>4</th>\n",
       "      <td>31</td>\n",
       "      <td>2022-02-22 09:56:21.120000+00:00</td>\n",
       "      <td>2022-02-22 09:58:44.819000+00:00</td>\n",
       "      <td>313</td>\n",
       "      <td>User</td>\n",
       "      <td>Operator</td>\n",
       "      <td>470</td>\n",
       "      <td>330</td>\n",
       "      <td>UNDEFINED</td>\n",
       "      <td>1645523780</td>\n",
       "      <td>31</td>\n",
       "      <td>True</td>\n",
       "      <td>3</td>\n",
       "      <td>2</td>\n",
       "      <td>2.967451</td>\n",
       "      <td>0</td>\n",
       "      <td>0</td>\n",
       "      <td>0</td>\n",
       "    </tr>\n",
       "  </tbody>\n",
       "</table>\n",
       "</div>"
      ],
      "text/plain": [
       "   total_copies                        started_at  \\\n",
       "0            40  2022-02-22 09:43:04.487000+00:00   \n",
       "1            18  2022-02-22 09:47:20.673000+00:00   \n",
       "2            15  2022-02-22 09:50:14.555000+00:00   \n",
       "3            17  2022-02-22 09:52:53.450000+00:00   \n",
       "4            31  2022-02-22 09:56:21.120000+00:00   \n",
       "\n",
       "                           ended_at  speed operator operator_level  \\\n",
       "0  2022-02-22 09:46:07.946000+00:00    313     User       Operator   \n",
       "1  2022-02-22 09:48:57.474000+00:00    313     User       Operator   \n",
       "2  2022-02-22 09:51:50.551000+00:00    313     User       Operator   \n",
       "3  2022-02-22 09:54:26.428000+00:00    313     User       Operator   \n",
       "4  2022-02-22 09:58:44.819000+00:00    313     User       Operator   \n",
       "\n",
       "   paperHeight  paperWidth  paperName  id_on_machine  total_copies_requested  \\\n",
       "0          470         330  UNDEFINED     1645522984                      40   \n",
       "1          470         330  UNDEFINED     1645523240                      29   \n",
       "2          470         330  UNDEFINED     1645523414                      15   \n",
       "3          470         330  UNDEFINED     1645523573                      44   \n",
       "4          470         330  UNDEFINED     1645523780                      31   \n",
       "\n",
       "   ifoil  scanner_mode  bars  varnishConsumptionVarnish_3d  run  total_run  \\\n",
       "0   True             3     2                      4.414782    0          0   \n",
       "1   True             3     2                      3.004043    0          0   \n",
       "2   True             3     2                      2.503964    0          0   \n",
       "3   True             3     2                      1.564754    0          0   \n",
       "4   True             3     2                      2.967451    0          0   \n",
       "\n",
       "   copies_per_run  \n",
       "0               0  \n",
       "1               0  \n",
       "2               0  \n",
       "3               0  \n",
       "4               0  "
      ]
     },
     "execution_count": 15,
     "metadata": {},
     "output_type": "execute_result"
    }
   ],
   "source": [
    "jobs_df.head()"
   ]
  },
  {
   "cell_type": "code",
   "execution_count": 16,
   "metadata": {},
   "outputs": [
    {
     "data": {
      "text/html": [
       "<div>\n",
       "<style scoped>\n",
       "    .dataframe tbody tr th:only-of-type {\n",
       "        vertical-align: middle;\n",
       "    }\n",
       "\n",
       "    .dataframe tbody tr th {\n",
       "        vertical-align: top;\n",
       "    }\n",
       "\n",
       "    .dataframe thead th {\n",
       "        text-align: right;\n",
       "    }\n",
       "</style>\n",
       "<table border=\"1\" class=\"dataframe\">\n",
       "  <thead>\n",
       "    <tr style=\"text-align: right;\">\n",
       "      <th></th>\n",
       "      <th>jobId</th>\n",
       "      <th>timestamp_start</th>\n",
       "      <th>total_copies_requested</th>\n",
       "      <th>LED</th>\n",
       "      <th>bars</th>\n",
       "      <th>drops</th>\n",
       "      <th>dithering</th>\n",
       "      <th>deadPixelsOffset</th>\n",
       "      <th>operator_level</th>\n",
       "      <th>operator</th>\n",
       "      <th>...</th>\n",
       "      <th>exposureTime_manualLighting_remoteScannerRegistration</th>\n",
       "      <th>redScore_fullScannerMode_remoteScannerRegistration</th>\n",
       "      <th>blueScore_fullScannerMode_remoteScannerRegistration</th>\n",
       "      <th>greenScore_fullScannerMode_remoteScannerRegistration</th>\n",
       "      <th>enable_specialSubstrate_remoteScannerRegistration</th>\n",
       "      <th>mode_remoteScannerRegistration</th>\n",
       "      <th>jobState</th>\n",
       "      <th>timestamp_end</th>\n",
       "      <th>total_copies</th>\n",
       "      <th>varnishConsumptionVarnish_3d</th>\n",
       "    </tr>\n",
       "  </thead>\n",
       "  <tbody>\n",
       "    <tr>\n",
       "      <th>0</th>\n",
       "      <td>1645522984</td>\n",
       "      <td>2022-02-22 09:43:04.487931800+00:00</td>\n",
       "      <td>40</td>\n",
       "      <td>50</td>\n",
       "      <td>[1, 2]</td>\n",
       "      <td>4</td>\n",
       "      <td>False</td>\n",
       "      <td>1</td>\n",
       "      <td>Operator</td>\n",
       "      <td>User</td>\n",
       "      <td>...</td>\n",
       "      <td>100</td>\n",
       "      <td>1500</td>\n",
       "      <td>20</td>\n",
       "      <td>20</td>\n",
       "      <td>False</td>\n",
       "      <td>3</td>\n",
       "      <td>SUCCESS</td>\n",
       "      <td>2022-02-22 09:46:07.946315100+00:00</td>\n",
       "      <td>40</td>\n",
       "      <td>4.414782</td>\n",
       "    </tr>\n",
       "    <tr>\n",
       "      <th>1</th>\n",
       "      <td>1645523240</td>\n",
       "      <td>2022-02-22 09:47:20.673083400+00:00</td>\n",
       "      <td>29</td>\n",
       "      <td>50</td>\n",
       "      <td>[1, 2]</td>\n",
       "      <td>4</td>\n",
       "      <td>False</td>\n",
       "      <td>1</td>\n",
       "      <td>Operator</td>\n",
       "      <td>User</td>\n",
       "      <td>...</td>\n",
       "      <td>100</td>\n",
       "      <td>1500</td>\n",
       "      <td>20</td>\n",
       "      <td>20</td>\n",
       "      <td>False</td>\n",
       "      <td>3</td>\n",
       "      <td>SUCCESS</td>\n",
       "      <td>2022-02-22 09:48:57.474210800+00:00</td>\n",
       "      <td>18</td>\n",
       "      <td>3.004043</td>\n",
       "    </tr>\n",
       "    <tr>\n",
       "      <th>2</th>\n",
       "      <td>1645523414</td>\n",
       "      <td>2022-02-22 09:50:14.555594100+00:00</td>\n",
       "      <td>15</td>\n",
       "      <td>50</td>\n",
       "      <td>[1, 2]</td>\n",
       "      <td>4</td>\n",
       "      <td>False</td>\n",
       "      <td>1</td>\n",
       "      <td>Operator</td>\n",
       "      <td>User</td>\n",
       "      <td>...</td>\n",
       "      <td>100</td>\n",
       "      <td>1500</td>\n",
       "      <td>20</td>\n",
       "      <td>20</td>\n",
       "      <td>False</td>\n",
       "      <td>3</td>\n",
       "      <td>SUCCESS</td>\n",
       "      <td>2022-02-22 09:51:50.551872800+00:00</td>\n",
       "      <td>15</td>\n",
       "      <td>2.503964</td>\n",
       "    </tr>\n",
       "    <tr>\n",
       "      <th>3</th>\n",
       "      <td>1645523573</td>\n",
       "      <td>2022-02-22 09:52:53.450152800+00:00</td>\n",
       "      <td>44</td>\n",
       "      <td>50</td>\n",
       "      <td>[1, 2]</td>\n",
       "      <td>4</td>\n",
       "      <td>False</td>\n",
       "      <td>1</td>\n",
       "      <td>Operator</td>\n",
       "      <td>User</td>\n",
       "      <td>...</td>\n",
       "      <td>100</td>\n",
       "      <td>1500</td>\n",
       "      <td>20</td>\n",
       "      <td>20</td>\n",
       "      <td>False</td>\n",
       "      <td>3</td>\n",
       "      <td>SUCCESS</td>\n",
       "      <td>2022-02-22 09:54:26.428501800+00:00</td>\n",
       "      <td>17</td>\n",
       "      <td>1.564754</td>\n",
       "    </tr>\n",
       "    <tr>\n",
       "      <th>4</th>\n",
       "      <td>1645523780</td>\n",
       "      <td>2022-02-22 09:56:21.120323700+00:00</td>\n",
       "      <td>31</td>\n",
       "      <td>50</td>\n",
       "      <td>[1, 2]</td>\n",
       "      <td>4</td>\n",
       "      <td>False</td>\n",
       "      <td>1</td>\n",
       "      <td>Operator</td>\n",
       "      <td>User</td>\n",
       "      <td>...</td>\n",
       "      <td>100</td>\n",
       "      <td>1500</td>\n",
       "      <td>20</td>\n",
       "      <td>20</td>\n",
       "      <td>False</td>\n",
       "      <td>3</td>\n",
       "      <td>SUCCESS</td>\n",
       "      <td>2022-02-22 09:58:44.819033+00:00</td>\n",
       "      <td>31</td>\n",
       "      <td>2.967451</td>\n",
       "    </tr>\n",
       "  </tbody>\n",
       "</table>\n",
       "<p>5 rows × 42 columns</p>\n",
       "</div>"
      ],
      "text/plain": [
       "        jobId                      timestamp_start  total_copies_requested  \\\n",
       "0  1645522984  2022-02-22 09:43:04.487931800+00:00                      40   \n",
       "1  1645523240  2022-02-22 09:47:20.673083400+00:00                      29   \n",
       "2  1645523414  2022-02-22 09:50:14.555594100+00:00                      15   \n",
       "3  1645523573  2022-02-22 09:52:53.450152800+00:00                      44   \n",
       "4  1645523780  2022-02-22 09:56:21.120323700+00:00                      31   \n",
       "\n",
       "   LED    bars  drops  dithering  deadPixelsOffset operator_level operator  \\\n",
       "0   50  [1, 2]      4      False                 1       Operator     User   \n",
       "1   50  [1, 2]      4      False                 1       Operator     User   \n",
       "2   50  [1, 2]      4      False                 1       Operator     User   \n",
       "3   50  [1, 2]      4      False                 1       Operator     User   \n",
       "4   50  [1, 2]      4      False                 1       Operator     User   \n",
       "\n",
       "   ...  exposureTime_manualLighting_remoteScannerRegistration  \\\n",
       "0  ...                                                100       \n",
       "1  ...                                                100       \n",
       "2  ...                                                100       \n",
       "3  ...                                                100       \n",
       "4  ...                                                100       \n",
       "\n",
       "   redScore_fullScannerMode_remoteScannerRegistration  \\\n",
       "0                                               1500    \n",
       "1                                               1500    \n",
       "2                                               1500    \n",
       "3                                               1500    \n",
       "4                                               1500    \n",
       "\n",
       "   blueScore_fullScannerMode_remoteScannerRegistration  \\\n",
       "0                                                 20     \n",
       "1                                                 20     \n",
       "2                                                 20     \n",
       "3                                                 20     \n",
       "4                                                 20     \n",
       "\n",
       "  greenScore_fullScannerMode_remoteScannerRegistration  \\\n",
       "0                                                 20     \n",
       "1                                                 20     \n",
       "2                                                 20     \n",
       "3                                                 20     \n",
       "4                                                 20     \n",
       "\n",
       "   enable_specialSubstrate_remoteScannerRegistration  \\\n",
       "0                                              False   \n",
       "1                                              False   \n",
       "2                                              False   \n",
       "3                                              False   \n",
       "4                                              False   \n",
       "\n",
       "   mode_remoteScannerRegistration  jobState  \\\n",
       "0                               3   SUCCESS   \n",
       "1                               3   SUCCESS   \n",
       "2                               3   SUCCESS   \n",
       "3                               3   SUCCESS   \n",
       "4                               3   SUCCESS   \n",
       "\n",
       "                         timestamp_end  total_copies  \\\n",
       "0  2022-02-22 09:46:07.946315100+00:00            40   \n",
       "1  2022-02-22 09:48:57.474210800+00:00            18   \n",
       "2  2022-02-22 09:51:50.551872800+00:00            15   \n",
       "3  2022-02-22 09:54:26.428501800+00:00            17   \n",
       "4     2022-02-22 09:58:44.819033+00:00            31   \n",
       "\n",
       "   varnishConsumptionVarnish_3d  \n",
       "0                      4.414782  \n",
       "1                      3.004043  \n",
       "2                      2.503964  \n",
       "3                      1.564754  \n",
       "4                      2.967451  \n",
       "\n",
       "[5 rows x 42 columns]"
      ]
     },
     "execution_count": 16,
     "metadata": {},
     "output_type": "execute_result"
    }
   ],
   "source": [
    "events_df.head()"
   ]
  },
  {
   "cell_type": "code",
   "execution_count": 17,
   "metadata": {},
   "outputs": [
    {
     "data": {
      "text/plain": [
       "(47837, 42)"
      ]
     },
     "execution_count": 17,
     "metadata": {},
     "output_type": "execute_result"
    }
   ],
   "source": [
    "events_df.shape"
   ]
  },
  {
   "cell_type": "code",
   "execution_count": 18,
   "metadata": {},
   "outputs": [
    {
     "data": {
      "text/plain": [
       "(47073, 18)"
      ]
     },
     "execution_count": 18,
     "metadata": {},
     "output_type": "execute_result"
    }
   ],
   "source": [
    "jobs_df.shape"
   ]
  },
  {
   "cell_type": "code",
   "execution_count": 19,
   "metadata": {},
   "outputs": [],
   "source": [
    "# on supprime les lignes dans events_df qui n'ont pas de JobId qui coïncident avec 'id_on_machine' de jobs_df\n",
    "events_df = events_df[events_df['jobId'].isin(jobs_df['id_on_machine'])]"
   ]
  },
  {
   "cell_type": "code",
   "execution_count": 20,
   "metadata": {},
   "outputs": [
    {
     "data": {
      "text/plain": [
       "(47073, 42)"
      ]
     },
     "execution_count": 20,
     "metadata": {},
     "output_type": "execute_result"
    }
   ],
   "source": [
    "events_df.shape"
   ]
  },
  {
   "cell_type": "code",
   "execution_count": 21,
   "metadata": {},
   "outputs": [
    {
     "data": {
      "text/plain": [
       "['speed',\n",
       " 'operator',\n",
       " 'operator_level',\n",
       " 'paperName',\n",
       " 'total_copies_requested',\n",
       " 'ifoil']"
      ]
     },
     "execution_count": 21,
     "metadata": {},
     "output_type": "execute_result"
    }
   ],
   "source": [
    "# # on liste les colonnes des deux dataframes contenant toutes leurs valeurs identiques\n",
    "# col_with_duplicates = []\n",
    "# for col in common_cols :\n",
    "#     if (events_df[col].values == jobs_df[col].values).all():\n",
    "#         col_with_duplicates.append(col)\n",
    "# col_with_duplicates\n",
    "col_with_duplicates = []\n",
    "for col in common_cols:\n",
    "    # Vérifier si les deux colonnes ont la même longueur\n",
    "    if len(events_df[col]) == len(jobs_df[col]):\n",
    "        # Si elles ont la même longueur, effectuer la comparaison\n",
    "        if (events_df[col].values == jobs_df[col].values).all():\n",
    "            col_with_duplicates.append(col)\n",
    "    else:\n",
    "        print(f\"Les colonnes {col} n'ont pas la même longueur.\")\n",
    "col_with_duplicates"
   ]
  },
  {
   "cell_type": "code",
   "execution_count": 22,
   "metadata": {},
   "outputs": [],
   "source": [
    "# suppression des colonnes de jobs en doublons dans events\n",
    "jobs_df = jobs_df.drop(col_with_duplicates, axis=1)"
   ]
  },
  {
   "attachments": {},
   "cell_type": "markdown",
   "metadata": {},
   "source": [
    "### 4. Fusion des dataframes"
   ]
  },
  {
   "cell_type": "code",
   "execution_count": 23,
   "metadata": {},
   "outputs": [],
   "source": [
    "merge_df = pd.merge(jobs_df, events_df, left_on='id_on_machine', right_on='jobId', suffixes=['_job', '_event'])\n",
    "merge_df = merge_df.drop('id_on_machine', axis=1)"
   ]
  },
  {
   "attachments": {},
   "cell_type": "markdown",
   "metadata": {},
   "source": [
    "### 5. Vérification"
   ]
  },
  {
   "cell_type": "code",
   "execution_count": 24,
   "metadata": {},
   "outputs": [
    {
     "data": {
      "text/plain": [
       "False"
      ]
     },
     "execution_count": 24,
     "metadata": {},
     "output_type": "execute_result"
    }
   ],
   "source": [
    "# on verifie que les jobId sont uniques\n",
    "merge_df.jobId.duplicated().any()"
   ]
  },
  {
   "cell_type": "code",
   "execution_count": 25,
   "metadata": {},
   "outputs": [
    {
     "data": {
      "text/html": [
       "<div>\n",
       "<style scoped>\n",
       "    .dataframe tbody tr th:only-of-type {\n",
       "        vertical-align: middle;\n",
       "    }\n",
       "\n",
       "    .dataframe tbody tr th {\n",
       "        vertical-align: top;\n",
       "    }\n",
       "\n",
       "    .dataframe thead th {\n",
       "        text-align: right;\n",
       "    }\n",
       "</style>\n",
       "<table border=\"1\" class=\"dataframe\">\n",
       "  <thead>\n",
       "    <tr style=\"text-align: right;\">\n",
       "      <th></th>\n",
       "      <th>total_copies_job</th>\n",
       "      <th>started_at</th>\n",
       "      <th>ended_at</th>\n",
       "      <th>paperHeight_job</th>\n",
       "      <th>paperWidth_job</th>\n",
       "      <th>scanner_mode</th>\n",
       "      <th>bars_job</th>\n",
       "      <th>varnishConsumptionVarnish_3d_job</th>\n",
       "      <th>run</th>\n",
       "      <th>total_run</th>\n",
       "      <th>...</th>\n",
       "      <th>exposureTime_manualLighting_remoteScannerRegistration</th>\n",
       "      <th>redScore_fullScannerMode_remoteScannerRegistration</th>\n",
       "      <th>blueScore_fullScannerMode_remoteScannerRegistration</th>\n",
       "      <th>greenScore_fullScannerMode_remoteScannerRegistration</th>\n",
       "      <th>enable_specialSubstrate_remoteScannerRegistration</th>\n",
       "      <th>mode_remoteScannerRegistration</th>\n",
       "      <th>jobState</th>\n",
       "      <th>timestamp_end</th>\n",
       "      <th>total_copies_event</th>\n",
       "      <th>varnishConsumptionVarnish_3d_event</th>\n",
       "    </tr>\n",
       "  </thead>\n",
       "  <tbody>\n",
       "    <tr>\n",
       "      <th>0</th>\n",
       "      <td>40</td>\n",
       "      <td>2022-02-22 09:43:04.487000+00:00</td>\n",
       "      <td>2022-02-22 09:46:07.946000+00:00</td>\n",
       "      <td>470</td>\n",
       "      <td>330</td>\n",
       "      <td>3</td>\n",
       "      <td>2</td>\n",
       "      <td>4.414782</td>\n",
       "      <td>0</td>\n",
       "      <td>0</td>\n",
       "      <td>...</td>\n",
       "      <td>100</td>\n",
       "      <td>1500</td>\n",
       "      <td>20</td>\n",
       "      <td>20</td>\n",
       "      <td>False</td>\n",
       "      <td>3</td>\n",
       "      <td>SUCCESS</td>\n",
       "      <td>2022-02-22 09:46:07.946315100+00:00</td>\n",
       "      <td>40</td>\n",
       "      <td>4.414782</td>\n",
       "    </tr>\n",
       "    <tr>\n",
       "      <th>1</th>\n",
       "      <td>18</td>\n",
       "      <td>2022-02-22 09:47:20.673000+00:00</td>\n",
       "      <td>2022-02-22 09:48:57.474000+00:00</td>\n",
       "      <td>470</td>\n",
       "      <td>330</td>\n",
       "      <td>3</td>\n",
       "      <td>2</td>\n",
       "      <td>3.004043</td>\n",
       "      <td>0</td>\n",
       "      <td>0</td>\n",
       "      <td>...</td>\n",
       "      <td>100</td>\n",
       "      <td>1500</td>\n",
       "      <td>20</td>\n",
       "      <td>20</td>\n",
       "      <td>False</td>\n",
       "      <td>3</td>\n",
       "      <td>SUCCESS</td>\n",
       "      <td>2022-02-22 09:48:57.474210800+00:00</td>\n",
       "      <td>18</td>\n",
       "      <td>3.004043</td>\n",
       "    </tr>\n",
       "    <tr>\n",
       "      <th>2</th>\n",
       "      <td>15</td>\n",
       "      <td>2022-02-22 09:50:14.555000+00:00</td>\n",
       "      <td>2022-02-22 09:51:50.551000+00:00</td>\n",
       "      <td>470</td>\n",
       "      <td>330</td>\n",
       "      <td>3</td>\n",
       "      <td>2</td>\n",
       "      <td>2.503964</td>\n",
       "      <td>0</td>\n",
       "      <td>0</td>\n",
       "      <td>...</td>\n",
       "      <td>100</td>\n",
       "      <td>1500</td>\n",
       "      <td>20</td>\n",
       "      <td>20</td>\n",
       "      <td>False</td>\n",
       "      <td>3</td>\n",
       "      <td>SUCCESS</td>\n",
       "      <td>2022-02-22 09:51:50.551872800+00:00</td>\n",
       "      <td>15</td>\n",
       "      <td>2.503964</td>\n",
       "    </tr>\n",
       "    <tr>\n",
       "      <th>3</th>\n",
       "      <td>17</td>\n",
       "      <td>2022-02-22 09:52:53.450000+00:00</td>\n",
       "      <td>2022-02-22 09:54:26.428000+00:00</td>\n",
       "      <td>470</td>\n",
       "      <td>330</td>\n",
       "      <td>3</td>\n",
       "      <td>2</td>\n",
       "      <td>1.564754</td>\n",
       "      <td>0</td>\n",
       "      <td>0</td>\n",
       "      <td>...</td>\n",
       "      <td>100</td>\n",
       "      <td>1500</td>\n",
       "      <td>20</td>\n",
       "      <td>20</td>\n",
       "      <td>False</td>\n",
       "      <td>3</td>\n",
       "      <td>SUCCESS</td>\n",
       "      <td>2022-02-22 09:54:26.428501800+00:00</td>\n",
       "      <td>17</td>\n",
       "      <td>1.564754</td>\n",
       "    </tr>\n",
       "    <tr>\n",
       "      <th>4</th>\n",
       "      <td>31</td>\n",
       "      <td>2022-02-22 09:56:21.120000+00:00</td>\n",
       "      <td>2022-02-22 09:58:44.819000+00:00</td>\n",
       "      <td>470</td>\n",
       "      <td>330</td>\n",
       "      <td>3</td>\n",
       "      <td>2</td>\n",
       "      <td>2.967451</td>\n",
       "      <td>0</td>\n",
       "      <td>0</td>\n",
       "      <td>...</td>\n",
       "      <td>100</td>\n",
       "      <td>1500</td>\n",
       "      <td>20</td>\n",
       "      <td>20</td>\n",
       "      <td>False</td>\n",
       "      <td>3</td>\n",
       "      <td>SUCCESS</td>\n",
       "      <td>2022-02-22 09:58:44.819033+00:00</td>\n",
       "      <td>31</td>\n",
       "      <td>2.967451</td>\n",
       "    </tr>\n",
       "  </tbody>\n",
       "</table>\n",
       "<p>5 rows × 53 columns</p>\n",
       "</div>"
      ],
      "text/plain": [
       "   total_copies_job                        started_at  \\\n",
       "0                40  2022-02-22 09:43:04.487000+00:00   \n",
       "1                18  2022-02-22 09:47:20.673000+00:00   \n",
       "2                15  2022-02-22 09:50:14.555000+00:00   \n",
       "3                17  2022-02-22 09:52:53.450000+00:00   \n",
       "4                31  2022-02-22 09:56:21.120000+00:00   \n",
       "\n",
       "                           ended_at  paperHeight_job  paperWidth_job  \\\n",
       "0  2022-02-22 09:46:07.946000+00:00              470             330   \n",
       "1  2022-02-22 09:48:57.474000+00:00              470             330   \n",
       "2  2022-02-22 09:51:50.551000+00:00              470             330   \n",
       "3  2022-02-22 09:54:26.428000+00:00              470             330   \n",
       "4  2022-02-22 09:58:44.819000+00:00              470             330   \n",
       "\n",
       "   scanner_mode  bars_job  varnishConsumptionVarnish_3d_job  run  total_run  \\\n",
       "0             3         2                          4.414782    0          0   \n",
       "1             3         2                          3.004043    0          0   \n",
       "2             3         2                          2.503964    0          0   \n",
       "3             3         2                          1.564754    0          0   \n",
       "4             3         2                          2.967451    0          0   \n",
       "\n",
       "   ...  exposureTime_manualLighting_remoteScannerRegistration  \\\n",
       "0  ...                                                100       \n",
       "1  ...                                                100       \n",
       "2  ...                                                100       \n",
       "3  ...                                                100       \n",
       "4  ...                                                100       \n",
       "\n",
       "   redScore_fullScannerMode_remoteScannerRegistration  \\\n",
       "0                                               1500    \n",
       "1                                               1500    \n",
       "2                                               1500    \n",
       "3                                               1500    \n",
       "4                                               1500    \n",
       "\n",
       "  blueScore_fullScannerMode_remoteScannerRegistration  \\\n",
       "0                                                 20    \n",
       "1                                                 20    \n",
       "2                                                 20    \n",
       "3                                                 20    \n",
       "4                                                 20    \n",
       "\n",
       "   greenScore_fullScannerMode_remoteScannerRegistration  \\\n",
       "0                                                 20      \n",
       "1                                                 20      \n",
       "2                                                 20      \n",
       "3                                                 20      \n",
       "4                                                 20      \n",
       "\n",
       "   enable_specialSubstrate_remoteScannerRegistration  \\\n",
       "0                                              False   \n",
       "1                                              False   \n",
       "2                                              False   \n",
       "3                                              False   \n",
       "4                                              False   \n",
       "\n",
       "  mode_remoteScannerRegistration  jobState  \\\n",
       "0                              3   SUCCESS   \n",
       "1                              3   SUCCESS   \n",
       "2                              3   SUCCESS   \n",
       "3                              3   SUCCESS   \n",
       "4                              3   SUCCESS   \n",
       "\n",
       "                         timestamp_end  total_copies_event  \\\n",
       "0  2022-02-22 09:46:07.946315100+00:00                  40   \n",
       "1  2022-02-22 09:48:57.474210800+00:00                  18   \n",
       "2  2022-02-22 09:51:50.551872800+00:00                  15   \n",
       "3  2022-02-22 09:54:26.428501800+00:00                  17   \n",
       "4     2022-02-22 09:58:44.819033+00:00                  31   \n",
       "\n",
       "  varnishConsumptionVarnish_3d_event  \n",
       "0                           4.414782  \n",
       "1                           3.004043  \n",
       "2                           2.503964  \n",
       "3                           1.564754  \n",
       "4                           2.967451  \n",
       "\n",
       "[5 rows x 53 columns]"
      ]
     },
     "execution_count": 25,
     "metadata": {},
     "output_type": "execute_result"
    }
   ],
   "source": [
    "merge_df.head()"
   ]
  },
  {
   "cell_type": "code",
   "execution_count": 26,
   "metadata": {},
   "outputs": [
    {
     "data": {
      "text/plain": [
       "Index(['total_copies_job', 'started_at', 'ended_at', 'paperHeight_job',\n",
       "       'paperWidth_job', 'scanner_mode', 'bars_job',\n",
       "       'varnishConsumptionVarnish_3d_job', 'run', 'total_run',\n",
       "       'copies_per_run', 'jobId', 'timestamp_start', 'total_copies_requested',\n",
       "       'LED', 'bars_event', 'drops', 'dithering', 'deadPixelsOffset',\n",
       "       'operator_level', 'operator', 'speed_ifoil', 'ifoil', 'optifoil_ifoil',\n",
       "       'stampAreas_ifoil', 'heater1Enabled_ifoil', 'speedTensionIn_ifoil',\n",
       "       'speedTensionOut_ifoil', 'heater1Temperature_ifoil', 'x_imageLayout',\n",
       "       'y_imageLayout', 'paperName', 'paperWidth_event', 'paperHeight_event',\n",
       "       'speed', 'power_irDryers', 'power_uvDryers',\n",
       "       'redScore_gridMode_remoteScannerRegistration',\n",
       "       'redScore_cropmarksMode_remoteScannerRegistration',\n",
       "       'x_cropmark1_cropmarksMode_remoteScannerRegistration',\n",
       "       'y_cropmark1_cropmarksMode_remoteScannerRegistration',\n",
       "       'x_cropmark2_cropmarksMode_remoteScannerRegistration',\n",
       "       'y_cropmark2_cropmarksMode_remoteScannerRegistration',\n",
       "       'exposureTime_manualLighting_remoteScannerRegistration',\n",
       "       'redScore_fullScannerMode_remoteScannerRegistration',\n",
       "       'blueScore_fullScannerMode_remoteScannerRegistration',\n",
       "       'greenScore_fullScannerMode_remoteScannerRegistration',\n",
       "       'enable_specialSubstrate_remoteScannerRegistration',\n",
       "       'mode_remoteScannerRegistration', 'jobState', 'timestamp_end',\n",
       "       'total_copies_event', 'varnishConsumptionVarnish_3d_event'],\n",
       "      dtype='object')"
      ]
     },
     "execution_count": 26,
     "metadata": {},
     "output_type": "execute_result"
    }
   ],
   "source": [
    "merge_df.columns"
   ]
  },
  {
   "cell_type": "code",
   "execution_count": 27,
   "metadata": {},
   "outputs": [],
   "source": [
    "# id temoin\n",
    "check_jobid = 1645522984\n",
    "# détail de la ligne témoin dans chaque dataset\n",
    "jobs_check_line = jobs_df[jobs_df.id_on_machine == check_jobid]\n",
    "events_check_line = events_df[events_df.jobId == check_jobid]\n",
    "merge_check_line = merge_df[merge_df.jobId == check_jobid]"
   ]
  },
  {
   "cell_type": "code",
   "execution_count": 28,
   "metadata": {},
   "outputs": [
    {
     "data": {
      "text/html": [
       "<div>\n",
       "<style scoped>\n",
       "    .dataframe tbody tr th:only-of-type {\n",
       "        vertical-align: middle;\n",
       "    }\n",
       "\n",
       "    .dataframe tbody tr th {\n",
       "        vertical-align: top;\n",
       "    }\n",
       "\n",
       "    .dataframe thead th {\n",
       "        text-align: right;\n",
       "    }\n",
       "</style>\n",
       "<table border=\"1\" class=\"dataframe\">\n",
       "  <thead>\n",
       "    <tr style=\"text-align: right;\">\n",
       "      <th></th>\n",
       "      <th>total_copies</th>\n",
       "      <th>started_at</th>\n",
       "      <th>ended_at</th>\n",
       "      <th>paperHeight</th>\n",
       "      <th>paperWidth</th>\n",
       "      <th>id_on_machine</th>\n",
       "      <th>scanner_mode</th>\n",
       "      <th>bars</th>\n",
       "      <th>varnishConsumptionVarnish_3d</th>\n",
       "      <th>run</th>\n",
       "      <th>total_run</th>\n",
       "      <th>copies_per_run</th>\n",
       "    </tr>\n",
       "  </thead>\n",
       "  <tbody>\n",
       "    <tr>\n",
       "      <th>0</th>\n",
       "      <td>40</td>\n",
       "      <td>2022-02-22 09:43:04.487000+00:00</td>\n",
       "      <td>2022-02-22 09:46:07.946000+00:00</td>\n",
       "      <td>470</td>\n",
       "      <td>330</td>\n",
       "      <td>1645522984</td>\n",
       "      <td>3</td>\n",
       "      <td>2</td>\n",
       "      <td>4.414782</td>\n",
       "      <td>0</td>\n",
       "      <td>0</td>\n",
       "      <td>0</td>\n",
       "    </tr>\n",
       "  </tbody>\n",
       "</table>\n",
       "</div>"
      ],
      "text/plain": [
       "   total_copies                        started_at  \\\n",
       "0            40  2022-02-22 09:43:04.487000+00:00   \n",
       "\n",
       "                           ended_at  paperHeight  paperWidth  id_on_machine  \\\n",
       "0  2022-02-22 09:46:07.946000+00:00          470         330     1645522984   \n",
       "\n",
       "   scanner_mode  bars  varnishConsumptionVarnish_3d  run  total_run  \\\n",
       "0             3     2                      4.414782    0          0   \n",
       "\n",
       "   copies_per_run  \n",
       "0               0  "
      ]
     },
     "execution_count": 28,
     "metadata": {},
     "output_type": "execute_result"
    }
   ],
   "source": [
    "jobs_check_line"
   ]
  },
  {
   "cell_type": "code",
   "execution_count": 29,
   "metadata": {},
   "outputs": [
    {
     "data": {
      "text/html": [
       "<div>\n",
       "<style scoped>\n",
       "    .dataframe tbody tr th:only-of-type {\n",
       "        vertical-align: middle;\n",
       "    }\n",
       "\n",
       "    .dataframe tbody tr th {\n",
       "        vertical-align: top;\n",
       "    }\n",
       "\n",
       "    .dataframe thead th {\n",
       "        text-align: right;\n",
       "    }\n",
       "</style>\n",
       "<table border=\"1\" class=\"dataframe\">\n",
       "  <thead>\n",
       "    <tr style=\"text-align: right;\">\n",
       "      <th></th>\n",
       "      <th>jobId</th>\n",
       "      <th>timestamp_start</th>\n",
       "      <th>total_copies_requested</th>\n",
       "      <th>LED</th>\n",
       "      <th>bars</th>\n",
       "      <th>drops</th>\n",
       "      <th>dithering</th>\n",
       "      <th>deadPixelsOffset</th>\n",
       "      <th>operator_level</th>\n",
       "      <th>operator</th>\n",
       "      <th>...</th>\n",
       "      <th>exposureTime_manualLighting_remoteScannerRegistration</th>\n",
       "      <th>redScore_fullScannerMode_remoteScannerRegistration</th>\n",
       "      <th>blueScore_fullScannerMode_remoteScannerRegistration</th>\n",
       "      <th>greenScore_fullScannerMode_remoteScannerRegistration</th>\n",
       "      <th>enable_specialSubstrate_remoteScannerRegistration</th>\n",
       "      <th>mode_remoteScannerRegistration</th>\n",
       "      <th>jobState</th>\n",
       "      <th>timestamp_end</th>\n",
       "      <th>total_copies</th>\n",
       "      <th>varnishConsumptionVarnish_3d</th>\n",
       "    </tr>\n",
       "  </thead>\n",
       "  <tbody>\n",
       "    <tr>\n",
       "      <th>0</th>\n",
       "      <td>1645522984</td>\n",
       "      <td>2022-02-22 09:43:04.487931800+00:00</td>\n",
       "      <td>40</td>\n",
       "      <td>50</td>\n",
       "      <td>[1, 2]</td>\n",
       "      <td>4</td>\n",
       "      <td>False</td>\n",
       "      <td>1</td>\n",
       "      <td>Operator</td>\n",
       "      <td>User</td>\n",
       "      <td>...</td>\n",
       "      <td>100</td>\n",
       "      <td>1500</td>\n",
       "      <td>20</td>\n",
       "      <td>20</td>\n",
       "      <td>False</td>\n",
       "      <td>3</td>\n",
       "      <td>SUCCESS</td>\n",
       "      <td>2022-02-22 09:46:07.946315100+00:00</td>\n",
       "      <td>40</td>\n",
       "      <td>4.414782</td>\n",
       "    </tr>\n",
       "  </tbody>\n",
       "</table>\n",
       "<p>1 rows × 42 columns</p>\n",
       "</div>"
      ],
      "text/plain": [
       "        jobId                      timestamp_start  total_copies_requested  \\\n",
       "0  1645522984  2022-02-22 09:43:04.487931800+00:00                      40   \n",
       "\n",
       "   LED    bars  drops  dithering  deadPixelsOffset operator_level operator  \\\n",
       "0   50  [1, 2]      4      False                 1       Operator     User   \n",
       "\n",
       "   ...  exposureTime_manualLighting_remoteScannerRegistration  \\\n",
       "0  ...                                                100       \n",
       "\n",
       "   redScore_fullScannerMode_remoteScannerRegistration  \\\n",
       "0                                               1500    \n",
       "\n",
       "   blueScore_fullScannerMode_remoteScannerRegistration  \\\n",
       "0                                                 20     \n",
       "\n",
       "  greenScore_fullScannerMode_remoteScannerRegistration  \\\n",
       "0                                                 20     \n",
       "\n",
       "   enable_specialSubstrate_remoteScannerRegistration  \\\n",
       "0                                              False   \n",
       "\n",
       "   mode_remoteScannerRegistration  jobState  \\\n",
       "0                               3   SUCCESS   \n",
       "\n",
       "                         timestamp_end  total_copies  \\\n",
       "0  2022-02-22 09:46:07.946315100+00:00            40   \n",
       "\n",
       "   varnishConsumptionVarnish_3d  \n",
       "0                      4.414782  \n",
       "\n",
       "[1 rows x 42 columns]"
      ]
     },
     "execution_count": 29,
     "metadata": {},
     "output_type": "execute_result"
    }
   ],
   "source": [
    "events_check_line"
   ]
  },
  {
   "cell_type": "code",
   "execution_count": 30,
   "metadata": {},
   "outputs": [
    {
     "data": {
      "text/html": [
       "<div>\n",
       "<style scoped>\n",
       "    .dataframe tbody tr th:only-of-type {\n",
       "        vertical-align: middle;\n",
       "    }\n",
       "\n",
       "    .dataframe tbody tr th {\n",
       "        vertical-align: top;\n",
       "    }\n",
       "\n",
       "    .dataframe thead th {\n",
       "        text-align: right;\n",
       "    }\n",
       "</style>\n",
       "<table border=\"1\" class=\"dataframe\">\n",
       "  <thead>\n",
       "    <tr style=\"text-align: right;\">\n",
       "      <th></th>\n",
       "      <th>total_copies_job</th>\n",
       "      <th>started_at</th>\n",
       "      <th>ended_at</th>\n",
       "      <th>paperHeight_job</th>\n",
       "      <th>paperWidth_job</th>\n",
       "      <th>scanner_mode</th>\n",
       "      <th>bars_job</th>\n",
       "      <th>varnishConsumptionVarnish_3d_job</th>\n",
       "      <th>run</th>\n",
       "      <th>total_run</th>\n",
       "      <th>...</th>\n",
       "      <th>exposureTime_manualLighting_remoteScannerRegistration</th>\n",
       "      <th>redScore_fullScannerMode_remoteScannerRegistration</th>\n",
       "      <th>blueScore_fullScannerMode_remoteScannerRegistration</th>\n",
       "      <th>greenScore_fullScannerMode_remoteScannerRegistration</th>\n",
       "      <th>enable_specialSubstrate_remoteScannerRegistration</th>\n",
       "      <th>mode_remoteScannerRegistration</th>\n",
       "      <th>jobState</th>\n",
       "      <th>timestamp_end</th>\n",
       "      <th>total_copies_event</th>\n",
       "      <th>varnishConsumptionVarnish_3d_event</th>\n",
       "    </tr>\n",
       "  </thead>\n",
       "  <tbody>\n",
       "    <tr>\n",
       "      <th>0</th>\n",
       "      <td>40</td>\n",
       "      <td>2022-02-22 09:43:04.487000+00:00</td>\n",
       "      <td>2022-02-22 09:46:07.946000+00:00</td>\n",
       "      <td>470</td>\n",
       "      <td>330</td>\n",
       "      <td>3</td>\n",
       "      <td>2</td>\n",
       "      <td>4.414782</td>\n",
       "      <td>0</td>\n",
       "      <td>0</td>\n",
       "      <td>...</td>\n",
       "      <td>100</td>\n",
       "      <td>1500</td>\n",
       "      <td>20</td>\n",
       "      <td>20</td>\n",
       "      <td>False</td>\n",
       "      <td>3</td>\n",
       "      <td>SUCCESS</td>\n",
       "      <td>2022-02-22 09:46:07.946315100+00:00</td>\n",
       "      <td>40</td>\n",
       "      <td>4.414782</td>\n",
       "    </tr>\n",
       "  </tbody>\n",
       "</table>\n",
       "<p>1 rows × 53 columns</p>\n",
       "</div>"
      ],
      "text/plain": [
       "   total_copies_job                        started_at  \\\n",
       "0                40  2022-02-22 09:43:04.487000+00:00   \n",
       "\n",
       "                           ended_at  paperHeight_job  paperWidth_job  \\\n",
       "0  2022-02-22 09:46:07.946000+00:00              470             330   \n",
       "\n",
       "   scanner_mode  bars_job  varnishConsumptionVarnish_3d_job  run  total_run  \\\n",
       "0             3         2                          4.414782    0          0   \n",
       "\n",
       "   ...  exposureTime_manualLighting_remoteScannerRegistration  \\\n",
       "0  ...                                                100       \n",
       "\n",
       "   redScore_fullScannerMode_remoteScannerRegistration  \\\n",
       "0                                               1500    \n",
       "\n",
       "  blueScore_fullScannerMode_remoteScannerRegistration  \\\n",
       "0                                                 20    \n",
       "\n",
       "   greenScore_fullScannerMode_remoteScannerRegistration  \\\n",
       "0                                                 20      \n",
       "\n",
       "   enable_specialSubstrate_remoteScannerRegistration  \\\n",
       "0                                              False   \n",
       "\n",
       "  mode_remoteScannerRegistration  jobState  \\\n",
       "0                              3   SUCCESS   \n",
       "\n",
       "                         timestamp_end  total_copies_event  \\\n",
       "0  2022-02-22 09:46:07.946315100+00:00                  40   \n",
       "\n",
       "  varnishConsumptionVarnish_3d_event  \n",
       "0                           4.414782  \n",
       "\n",
       "[1 rows x 53 columns]"
      ]
     },
     "execution_count": 30,
     "metadata": {},
     "output_type": "execute_result"
    }
   ],
   "source": [
    "merge_check_line"
   ]
  },
  {
   "cell_type": "code",
   "execution_count": 31,
   "metadata": {},
   "outputs": [],
   "source": [
    "# on conserve les colonnes started_at et ended_at\n",
    "for index, row in merge_df.iterrows():\n",
    "    # on verifie que started_at à le datetime le plus petit\n",
    "    if row.timestamp_start < row.started_at :\n",
    "        row.started_at = row.timestamp_start\n",
    "    # on verifie que ended_at à le datetime le plus grand\n",
    "    if row.timestamp_end > row.ended_at :\n",
    "        row.ended_at = row.timestamp_end"
   ]
  },
  {
   "cell_type": "code",
   "execution_count": 32,
   "metadata": {},
   "outputs": [],
   "source": [
    "merge_df = merge_df.drop(['timestamp_start','timestamp_end'], axis=1)"
   ]
  },
  {
   "cell_type": "code",
   "execution_count": 33,
   "metadata": {},
   "outputs": [],
   "source": [
    "# # conversion des colonnes contenant des valeurs de temsps au format datetime\n",
    "# jobs_df['started_at'] = pd.to_datetime(jobs_df['started_at'], utc=True)\n",
    "# jobs_df['ended_at'] = pd.to_datetime(jobs_df['ended_at'], utc=True)\n",
    "# events_df['timestamp_start'] = pd.to_datetime(events_df['timestamp_start'], utc=True)\n",
    "# events_df['timestamp_end'] = pd.to_datetime(events_df['timestamp_end'], utc=True)"
   ]
  },
  {
   "attachments": {},
   "cell_type": "markdown",
   "metadata": {},
   "source": [
    "### 6. Output csv"
   ]
  },
  {
   "cell_type": "code",
   "execution_count": 34,
   "metadata": {},
   "outputs": [],
   "source": [
    "# sauvegarde du dataset en csv\n",
    "merge_df.to_csv(save_csv)"
   ]
  },
  {
   "cell_type": "code",
   "execution_count": 35,
   "metadata": {},
   "outputs": [
    {
     "data": {
      "text/html": [
       "<div>\n",
       "<style scoped>\n",
       "    .dataframe tbody tr th:only-of-type {\n",
       "        vertical-align: middle;\n",
       "    }\n",
       "\n",
       "    .dataframe tbody tr th {\n",
       "        vertical-align: top;\n",
       "    }\n",
       "\n",
       "    .dataframe thead th {\n",
       "        text-align: right;\n",
       "    }\n",
       "</style>\n",
       "<table border=\"1\" class=\"dataframe\">\n",
       "  <thead>\n",
       "    <tr style=\"text-align: right;\">\n",
       "      <th></th>\n",
       "      <th>total_copies_job</th>\n",
       "      <th>started_at</th>\n",
       "      <th>ended_at</th>\n",
       "      <th>paperHeight_job</th>\n",
       "      <th>paperWidth_job</th>\n",
       "      <th>scanner_mode</th>\n",
       "      <th>bars_job</th>\n",
       "      <th>varnishConsumptionVarnish_3d_job</th>\n",
       "      <th>run</th>\n",
       "      <th>total_run</th>\n",
       "      <th>...</th>\n",
       "      <th>y_cropmark2_cropmarksMode_remoteScannerRegistration</th>\n",
       "      <th>exposureTime_manualLighting_remoteScannerRegistration</th>\n",
       "      <th>redScore_fullScannerMode_remoteScannerRegistration</th>\n",
       "      <th>blueScore_fullScannerMode_remoteScannerRegistration</th>\n",
       "      <th>greenScore_fullScannerMode_remoteScannerRegistration</th>\n",
       "      <th>enable_specialSubstrate_remoteScannerRegistration</th>\n",
       "      <th>mode_remoteScannerRegistration</th>\n",
       "      <th>jobState</th>\n",
       "      <th>total_copies_event</th>\n",
       "      <th>varnishConsumptionVarnish_3d_event</th>\n",
       "    </tr>\n",
       "  </thead>\n",
       "  <tbody>\n",
       "    <tr>\n",
       "      <th>0</th>\n",
       "      <td>40</td>\n",
       "      <td>2022-02-22 09:43:04.487000+00:00</td>\n",
       "      <td>2022-02-22 09:46:07.946000+00:00</td>\n",
       "      <td>470</td>\n",
       "      <td>330</td>\n",
       "      <td>3</td>\n",
       "      <td>2</td>\n",
       "      <td>4.414782</td>\n",
       "      <td>0</td>\n",
       "      <td>0</td>\n",
       "      <td>...</td>\n",
       "      <td>0</td>\n",
       "      <td>100</td>\n",
       "      <td>1500</td>\n",
       "      <td>20</td>\n",
       "      <td>20</td>\n",
       "      <td>False</td>\n",
       "      <td>3</td>\n",
       "      <td>SUCCESS</td>\n",
       "      <td>40</td>\n",
       "      <td>4.414782</td>\n",
       "    </tr>\n",
       "    <tr>\n",
       "      <th>1</th>\n",
       "      <td>18</td>\n",
       "      <td>2022-02-22 09:47:20.673000+00:00</td>\n",
       "      <td>2022-02-22 09:48:57.474000+00:00</td>\n",
       "      <td>470</td>\n",
       "      <td>330</td>\n",
       "      <td>3</td>\n",
       "      <td>2</td>\n",
       "      <td>3.004043</td>\n",
       "      <td>0</td>\n",
       "      <td>0</td>\n",
       "      <td>...</td>\n",
       "      <td>0</td>\n",
       "      <td>100</td>\n",
       "      <td>1500</td>\n",
       "      <td>20</td>\n",
       "      <td>20</td>\n",
       "      <td>False</td>\n",
       "      <td>3</td>\n",
       "      <td>SUCCESS</td>\n",
       "      <td>18</td>\n",
       "      <td>3.004043</td>\n",
       "    </tr>\n",
       "    <tr>\n",
       "      <th>2</th>\n",
       "      <td>15</td>\n",
       "      <td>2022-02-22 09:50:14.555000+00:00</td>\n",
       "      <td>2022-02-22 09:51:50.551000+00:00</td>\n",
       "      <td>470</td>\n",
       "      <td>330</td>\n",
       "      <td>3</td>\n",
       "      <td>2</td>\n",
       "      <td>2.503964</td>\n",
       "      <td>0</td>\n",
       "      <td>0</td>\n",
       "      <td>...</td>\n",
       "      <td>0</td>\n",
       "      <td>100</td>\n",
       "      <td>1500</td>\n",
       "      <td>20</td>\n",
       "      <td>20</td>\n",
       "      <td>False</td>\n",
       "      <td>3</td>\n",
       "      <td>SUCCESS</td>\n",
       "      <td>15</td>\n",
       "      <td>2.503964</td>\n",
       "    </tr>\n",
       "  </tbody>\n",
       "</table>\n",
       "<p>3 rows × 51 columns</p>\n",
       "</div>"
      ],
      "text/plain": [
       "   total_copies_job                        started_at  \\\n",
       "0                40  2022-02-22 09:43:04.487000+00:00   \n",
       "1                18  2022-02-22 09:47:20.673000+00:00   \n",
       "2                15  2022-02-22 09:50:14.555000+00:00   \n",
       "\n",
       "                           ended_at  paperHeight_job  paperWidth_job  \\\n",
       "0  2022-02-22 09:46:07.946000+00:00              470             330   \n",
       "1  2022-02-22 09:48:57.474000+00:00              470             330   \n",
       "2  2022-02-22 09:51:50.551000+00:00              470             330   \n",
       "\n",
       "   scanner_mode  bars_job  varnishConsumptionVarnish_3d_job  run  total_run  \\\n",
       "0             3         2                          4.414782    0          0   \n",
       "1             3         2                          3.004043    0          0   \n",
       "2             3         2                          2.503964    0          0   \n",
       "\n",
       "   ...  y_cropmark2_cropmarksMode_remoteScannerRegistration  \\\n",
       "0  ...                                                  0     \n",
       "1  ...                                                  0     \n",
       "2  ...                                                  0     \n",
       "\n",
       "   exposureTime_manualLighting_remoteScannerRegistration  \\\n",
       "0                                                100       \n",
       "1                                                100       \n",
       "2                                                100       \n",
       "\n",
       "   redScore_fullScannerMode_remoteScannerRegistration  \\\n",
       "0                                               1500    \n",
       "1                                               1500    \n",
       "2                                               1500    \n",
       "\n",
       "   blueScore_fullScannerMode_remoteScannerRegistration  \\\n",
       "0                                                 20     \n",
       "1                                                 20     \n",
       "2                                                 20     \n",
       "\n",
       "  greenScore_fullScannerMode_remoteScannerRegistration  \\\n",
       "0                                                 20     \n",
       "1                                                 20     \n",
       "2                                                 20     \n",
       "\n",
       "   enable_specialSubstrate_remoteScannerRegistration  \\\n",
       "0                                              False   \n",
       "1                                              False   \n",
       "2                                              False   \n",
       "\n",
       "   mode_remoteScannerRegistration  jobState total_copies_event  \\\n",
       "0                               3   SUCCESS                 40   \n",
       "1                               3   SUCCESS                 18   \n",
       "2                               3   SUCCESS                 15   \n",
       "\n",
       "  varnishConsumptionVarnish_3d_event  \n",
       "0                           4.414782  \n",
       "1                           3.004043  \n",
       "2                           2.503964  \n",
       "\n",
       "[3 rows x 51 columns]"
      ]
     },
     "execution_count": 35,
     "metadata": {},
     "output_type": "execute_result"
    }
   ],
   "source": [
    "merge_df.head(3)"
   ]
  },
  {
   "cell_type": "code",
   "execution_count": 36,
   "metadata": {},
   "outputs": [
    {
     "name": "stdout",
     "output_type": "stream",
     "text": [
      "Column total_copies_job has 219 unique values.\n",
      "Column started_at has 47073 unique values.\n",
      "Column ended_at has 47073 unique values.\n",
      "Column paperHeight_job has 9 unique values.\n",
      "Column paperWidth_job has 9 unique values.\n",
      "Column scanner_mode has 4 unique values.\n",
      "Column bars_job has 2 unique values.\n",
      "Column varnishConsumptionVarnish_3d_job has 45119 unique values.\n",
      "Column run has 2 unique values.\n",
      "Column total_run has 2 unique values.\n",
      "Column copies_per_run has 107 unique values.\n",
      "Column jobId has 47073 unique values.\n",
      "Column total_copies_requested has 228 unique values.\n",
      "Column LED has 9 unique values.\n",
      "Column bars_event has 3 unique values.\n",
      "Column drops has 11 unique values.\n",
      "Column dithering has 2 unique values.\n",
      "Column deadPixelsOffset has 3 unique values.\n",
      "Column operator_level has 2 unique values.\n",
      "Column operator has 2 unique values.\n",
      "Column speed_ifoil has 31 unique values.\n",
      "Column ifoil has 2 unique values.\n",
      "Column optifoil_ifoil has 2 unique values.\n",
      "Column stampAreas_ifoil has 11 unique values.\n",
      "Column heater1Enabled_ifoil has 2 unique values.\n",
      "Column speedTensionIn_ifoil has 15 unique values.\n",
      "Column speedTensionOut_ifoil has 10 unique values.\n",
      "Column heater1Temperature_ifoil has 22 unique values.\n",
      "Column x_imageLayout has 57 unique values.\n",
      "Column y_imageLayout has 62 unique values.\n",
      "Column paperName has 3 unique values.\n",
      "Column paperWidth_event has 11 unique values.\n",
      "Column paperHeight_event has 11 unique values.\n",
      "Column speed has 62 unique values.\n",
      "Column power_irDryers has 11 unique values.\n",
      "Column power_uvDryers has 41 unique values.\n",
      "Column redScore_gridMode_remoteScannerRegistration has 31 unique values.\n",
      "Column redScore_cropmarksMode_remoteScannerRegistration has 31 unique values.\n",
      "Column x_cropmark1_cropmarksMode_remoteScannerRegistration has 30 unique values.\n",
      "Column y_cropmark1_cropmarksMode_remoteScannerRegistration has 28 unique values.\n",
      "Column x_cropmark2_cropmarksMode_remoteScannerRegistration has 31 unique values.\n",
      "Column y_cropmark2_cropmarksMode_remoteScannerRegistration has 29 unique values.\n",
      "Column exposureTime_manualLighting_remoteScannerRegistration has 13 unique values.\n",
      "Column redScore_fullScannerMode_remoteScannerRegistration has 31 unique values.\n",
      "Column blueScore_fullScannerMode_remoteScannerRegistration has 11 unique values.\n",
      "Column greenScore_fullScannerMode_remoteScannerRegistration has 11 unique values.\n",
      "Column enable_specialSubstrate_remoteScannerRegistration has 2 unique values.\n",
      "Column mode_remoteScannerRegistration has 4 unique values.\n",
      "Column jobState has 4 unique values.\n",
      "Column total_copies_event has 219 unique values.\n",
      "Column varnishConsumptionVarnish_3d_event has 45120 unique values.\n"
     ]
    }
   ],
   "source": [
    "for col in merge_df.columns:\n",
    "    unique_values = merge_df[col].nunique()\n",
    "    print(f\"Column {col} has {unique_values} unique values.\")\n"
   ]
  },
  {
   "cell_type": "code",
   "execution_count": 37,
   "metadata": {},
   "outputs": [
    {
     "name": "stdout",
     "output_type": "stream",
     "text": [
      "<class 'pandas.core.frame.DataFrame'>\n",
      "Int64Index: 47073 entries, 0 to 47072\n",
      "Data columns (total 51 columns):\n",
      " #   Column                                                 Non-Null Count  Dtype  \n",
      "---  ------                                                 --------------  -----  \n",
      " 0   total_copies_job                                       47073 non-null  int64  \n",
      " 1   started_at                                             47073 non-null  object \n",
      " 2   ended_at                                               47073 non-null  object \n",
      " 3   paperHeight_job                                        47073 non-null  int64  \n",
      " 4   paperWidth_job                                         47073 non-null  int64  \n",
      " 5   scanner_mode                                           47073 non-null  int64  \n",
      " 6   bars_job                                               47073 non-null  int64  \n",
      " 7   varnishConsumptionVarnish_3d_job                       47073 non-null  float64\n",
      " 8   run                                                    47073 non-null  int64  \n",
      " 9   total_run                                              47073 non-null  int64  \n",
      " 10  copies_per_run                                         47073 non-null  int64  \n",
      " 11  jobId                                                  47073 non-null  int64  \n",
      " 12  total_copies_requested                                 47073 non-null  int64  \n",
      " 13  LED                                                    47073 non-null  int64  \n",
      " 14  bars_event                                             47073 non-null  object \n",
      " 15  drops                                                  47073 non-null  int64  \n",
      " 16  dithering                                              47073 non-null  bool   \n",
      " 17  deadPixelsOffset                                       47073 non-null  int64  \n",
      " 18  operator_level                                         47073 non-null  object \n",
      " 19  operator                                               47073 non-null  object \n",
      " 20  speed_ifoil                                            47073 non-null  float64\n",
      " 21  ifoil                                                  47073 non-null  bool   \n",
      " 22  optifoil_ifoil                                         47073 non-null  bool   \n",
      " 23  stampAreas_ifoil                                       47073 non-null  object \n",
      " 24  heater1Enabled_ifoil                                   47073 non-null  bool   \n",
      " 25  speedTensionIn_ifoil                                   47073 non-null  float64\n",
      " 26  speedTensionOut_ifoil                                  47073 non-null  float64\n",
      " 27  heater1Temperature_ifoil                               47073 non-null  int64  \n",
      " 28  x_imageLayout                                          47073 non-null  int64  \n",
      " 29  y_imageLayout                                          47073 non-null  int64  \n",
      " 30  paperName                                              47073 non-null  object \n",
      " 31  paperWidth_event                                       47073 non-null  float64\n",
      " 32  paperHeight_event                                      47073 non-null  float64\n",
      " 33  speed                                                  47073 non-null  int64  \n",
      " 34  power_irDryers                                         47073 non-null  int64  \n",
      " 35  power_uvDryers                                         47073 non-null  int64  \n",
      " 36  redScore_gridMode_remoteScannerRegistration            47073 non-null  int64  \n",
      " 37  redScore_cropmarksMode_remoteScannerRegistration       47073 non-null  int64  \n",
      " 38  x_cropmark1_cropmarksMode_remoteScannerRegistration    47073 non-null  int64  \n",
      " 39  y_cropmark1_cropmarksMode_remoteScannerRegistration    47073 non-null  int64  \n",
      " 40  x_cropmark2_cropmarksMode_remoteScannerRegistration    47073 non-null  int64  \n",
      " 41  y_cropmark2_cropmarksMode_remoteScannerRegistration    47073 non-null  int64  \n",
      " 42  exposureTime_manualLighting_remoteScannerRegistration  47073 non-null  int64  \n",
      " 43  redScore_fullScannerMode_remoteScannerRegistration     47073 non-null  int64  \n",
      " 44  blueScore_fullScannerMode_remoteScannerRegistration    47073 non-null  int64  \n",
      " 45  greenScore_fullScannerMode_remoteScannerRegistration   47073 non-null  int64  \n",
      " 46  enable_specialSubstrate_remoteScannerRegistration      47073 non-null  bool   \n",
      " 47  mode_remoteScannerRegistration                         47073 non-null  int64  \n",
      " 48  jobState                                               47073 non-null  object \n",
      " 49  total_copies_event                                     47073 non-null  int64  \n",
      " 50  varnishConsumptionVarnish_3d_event                     47073 non-null  float64\n",
      "dtypes: bool(5), float64(7), int64(31), object(8)\n",
      "memory usage: 17.1+ MB\n"
     ]
    }
   ],
   "source": [
    "merge_df.info()"
   ]
  },
  {
   "attachments": {},
   "cell_type": "markdown",
   "metadata": {},
   "source": [
    "# C. Visualisation"
   ]
  },
  {
   "cell_type": "code",
   "execution_count": 38,
   "metadata": {},
   "outputs": [],
   "source": [
    "df = merge_df.copy()"
   ]
  },
  {
   "cell_type": "code",
   "execution_count": 39,
   "metadata": {},
   "outputs": [
    {
     "data": {
      "text/plain": [
       "array(['SUCCESS', 'ERROR', 'CANCELED', 'UNDEFINED'], dtype=object)"
      ]
     },
     "execution_count": 39,
     "metadata": {},
     "output_type": "execute_result"
    }
   ],
   "source": [
    "df.jobState.unique()"
   ]
  },
  {
   "cell_type": "code",
   "execution_count": 42,
   "metadata": {},
   "outputs": [
    {
     "data": {
      "text/plain": [
       "Index(['total_copies_job', 'started_at', 'ended_at', 'paperHeight_job',\n",
       "       'paperWidth_job', 'scanner_mode', 'bars_job',\n",
       "       'varnishConsumptionVarnish_3d_job', 'run', 'total_run',\n",
       "       'copies_per_run', 'jobId', 'total_copies_requested', 'LED',\n",
       "       'bars_event', 'drops', 'dithering', 'deadPixelsOffset',\n",
       "       'operator_level', 'operator', 'speed_ifoil', 'ifoil', 'optifoil_ifoil',\n",
       "       'stampAreas_ifoil', 'heater1Enabled_ifoil', 'speedTensionIn_ifoil',\n",
       "       'speedTensionOut_ifoil', 'heater1Temperature_ifoil', 'x_imageLayout',\n",
       "       'y_imageLayout', 'paperName', 'paperWidth_event', 'paperHeight_event',\n",
       "       'speed', 'power_irDryers', 'power_uvDryers',\n",
       "       'redScore_gridMode_remoteScannerRegistration',\n",
       "       'redScore_cropmarksMode_remoteScannerRegistration',\n",
       "       'x_cropmark1_cropmarksMode_remoteScannerRegistration',\n",
       "       'y_cropmark1_cropmarksMode_remoteScannerRegistration',\n",
       "       'x_cropmark2_cropmarksMode_remoteScannerRegistration',\n",
       "       'y_cropmark2_cropmarksMode_remoteScannerRegistration',\n",
       "       'exposureTime_manualLighting_remoteScannerRegistration',\n",
       "       'redScore_fullScannerMode_remoteScannerRegistration',\n",
       "       'blueScore_fullScannerMode_remoteScannerRegistration',\n",
       "       'greenScore_fullScannerMode_remoteScannerRegistration',\n",
       "       'enable_specialSubstrate_remoteScannerRegistration',\n",
       "       'mode_remoteScannerRegistration', 'jobState', 'total_copies_event',\n",
       "       'varnishConsumptionVarnish_3d_event'],\n",
       "      dtype='object')"
      ]
     },
     "execution_count": 42,
     "metadata": {},
     "output_type": "execute_result"
    }
   ],
   "source": [
    "df.columns"
   ]
  },
  {
   "cell_type": "code",
   "execution_count": 40,
   "metadata": {},
   "outputs": [],
   "source": [
    "# on remplace dans le dataframe les valeurs du type 'str' avec un code\n",
    "criticality = {'UNDEFINED': 0, 'SUCCESS': 1, 'CANCELED': 2, 'ERROR':3}\n",
    "df.jobState.replace(criticality, inplace=True)\n",
    "df.jobState = pd.to_numeric(df.jobState).astype('int64')"
   ]
  },
  {
   "cell_type": "code",
   "execution_count": 44,
   "metadata": {},
   "outputs": [
    {
     "data": {
      "image/png": "[encoded data removed]",
      "text/plain": [
       "<Figure size 640x480 with 2 Axes>"
      ]
     },
     "metadata": {},
     "output_type": "display_data"
    }
   ],
   "source": [
    "import numpy as np\n",
    "import matplotlib.pyplot as plt\n",
    "from mpl_toolkits.mplot3d import Axes3D\n",
    "\n",
    "# Generate some sample data\n",
    "x = df['speed'][:1000]\n",
    "y = df['varnishConsumptionVarnish_3d_job'][:1000]\n",
    "z = df[['total_copies_event']][:1000]\n",
    "\n",
    "# Create a 3D plot\n",
    "fig = plt.figure()\n",
    "ax = fig.add_subplot(111, projection='3d')\n",
    "\n",
    "# Plot the surface\n",
    "c = df[['jobState']][:1000]\n",
    "scatter = ax.scatter(x, y, z, c=c, cmap='viridis')\n",
    "\n",
    "# Customize the plot\n",
    "ax.set_xlabel('speed')\n",
    "ax.set_ylabel('varnish')\n",
    "ax.set_zlabel('printed')\n",
    "ax.set_title('Distribution des états de jobs en fonction du nombre de copies imprimées, demandées et des LED')\n",
    "\n",
    "# Add colorbar with precise tick labels\n",
    "cbar = fig.colorbar(scatter, ticks=np.linspace(min(c.jobState), max(c.jobState), num=4))\n",
    "cbar.set_label('Etats')\n",
    "\n",
    "# Show the plot\n",
    "plt.show()"
   ]
  },
  {
   "cell_type": "code",
   "execution_count": 45,
   "metadata": {},
   "outputs": [
    {
     "data": {
      "text/plain": [
       "1"
      ]
     },
     "execution_count": 45,
     "metadata": {},
     "output_type": "execute_result"
    }
   ],
   "source": [
    "min(c.jobState)"
   ]
  }
 ],
 "metadata": {
  "kernelspec": {
   "display_name": ".venv",
   "language": "python",
   "name": "python3"
  },
  "language_info": {
   "codemirror_mode": {
    "name": "ipython",
    "version": 3
   },
   "file_extension": ".py",
   "mimetype": "text/x-python",
   "name": "python",
   "nbconvert_exporter": "python",
   "pygments_lexer": "ipython3",
   "version": "3.10.11"
  },
  "orig_nbformat": 4,
  "vscode": {
   "interpreter": {
    "hash": "2315c9af7dedaeb0b2bf51504304a927c605b523f04dad98936c50abe500b408"
   }
  }
 },
 "nbformat": 4,
 "nbformat_minor": 2
}
