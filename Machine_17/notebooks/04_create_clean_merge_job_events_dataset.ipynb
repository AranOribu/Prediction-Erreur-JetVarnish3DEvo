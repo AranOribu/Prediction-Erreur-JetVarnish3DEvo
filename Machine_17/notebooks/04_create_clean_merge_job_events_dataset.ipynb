{
 "cells": [
  {
   "attachments": {},
   "cell_type": "markdown",
   "metadata": {},
   "source": [
    "# 04 - Création d'un dataset des données nettoyées de job_events (après fractionnement)"
   ]
  },
  {
   "attachments": {},
   "cell_type": "markdown",
   "metadata": {},
   "source": [
    "Ce notebook génère 1 csv :\n",
    "\n",
    "- clean_merge_job_events_dataset.csv\n",
    "\n",
    "Etapes :\n",
    "\n",
    "- Suppression des lignes avec les valeurs timestamp_start manquantes\n",
    "\n",
    "- Suppression des colonnes ayant des valeurs uniques\n",
    "\n",
    "- Remplacement des données maquantes\n",
    "\n",
    "- Conversion des types des séries en fonction des types des valeurs"
   ]
  },
  {
   "attachments": {},
   "cell_type": "markdown",
   "metadata": {},
   "source": [
    "# A. Imports"
   ]
  },
  {
   "attachments": {},
   "cell_type": "markdown",
   "metadata": {},
   "source": [
    "## a) Librairies"
   ]
  },
  {
   "cell_type": "code",
   "execution_count": 1,
   "metadata": {},
   "outputs": [],
   "source": [
    "import os, math\n",
    "import pandas as pd\n",
    "import numpy as np\n",
    "import matplotlib.pyplot as plt\n",
    "import seaborn as sns\n",
    "from pathlib import Path"
   ]
  },
  {
   "attachments": {},
   "cell_type": "markdown",
   "metadata": {},
   "source": [
    "## b) Données"
   ]
  },
  {
   "cell_type": "code",
   "execution_count": 2,
   "metadata": {},
   "outputs": [],
   "source": [
    "# source path to raw metrics dataset\n",
    "filename = 'raw_merge_job_events_dataset.csv'\n",
    "path = '../data/jobs'\n",
    "job_events = os.path.join(path, filename)\n",
    "# target path to save merge raw metrics dataset\n",
    "save_csv = '../data/jobs/clean_merge_job_events_dataset.csv'"
   ]
  },
  {
   "attachments": {},
   "cell_type": "markdown",
   "metadata": {},
   "source": [
    "# B. Dataframe"
   ]
  },
  {
   "attachments": {},
   "cell_type": "markdown",
   "metadata": {},
   "source": [
    "## a) Création"
   ]
  },
  {
   "cell_type": "code",
   "execution_count": 3,
   "metadata": {},
   "outputs": [
    {
     "name": "stdout",
     "output_type": "stream",
     "text": [
      "<class 'pandas.core.frame.DataFrame'>\n",
      "Int64Index: 47852 entries, 0 to 47851\n",
      "Data columns (total 46 columns):\n",
      " #   Column                                                 Non-Null Count  Dtype  \n",
      "---  ------                                                 --------------  -----  \n",
      " 0   jobId                                                  47852 non-null  int64  \n",
      " 1   timestamp_start                                        47837 non-null  object \n",
      " 2   totalCopies_start                                      47837 non-null  float64\n",
      " 3   jsonVersion_x                                          34053 non-null  float64\n",
      " 4   LED_iper                                               47837 non-null  float64\n",
      " 5   bars_iper                                              47837 non-null  object \n",
      " 6   drops_iper                                             47837 non-null  float64\n",
      " 7   dithering_iper                                         47837 non-null  object \n",
      " 8   deadPixelsOffset_iper                                  47837 non-null  float64\n",
      " 9   level_user                                             47837 non-null  object \n",
      " 10  operator_user                                          47837 non-null  object \n",
      " 11  speed_ifoil                                            47837 non-null  float64\n",
      " 12  enabled_ifoil                                          47837 non-null  object \n",
      " 13  optifoil_ifoil                                         47837 non-null  object \n",
      " 14  stampAreas_ifoil                                       47837 non-null  object \n",
      " 15  heater1Enabled_ifoil                                   47837 non-null  object \n",
      " 16  speedTensionIn_ifoil                                   47837 non-null  float64\n",
      " 17  speedTensionOut_ifoil                                  47837 non-null  float64\n",
      " 18  heater1Temperature_ifoil                               47837 non-null  float64\n",
      " 19  x_imageLayout_layout                                   47837 non-null  float64\n",
      " 20  y_imageLayout_layout                                   47837 non-null  float64\n",
      " 21  name_paperFormat_layout                                5 non-null      object \n",
      " 22  width_paperFormat_layout                               47837 non-null  float64\n",
      " 23  height_paperFormat_layout                              47837 non-null  float64\n",
      " 24  speed_layout                                           47837 non-null  float64\n",
      " 25  power_irDryers                                         47837 non-null  float64\n",
      " 26  power_uvDryers                                         47837 non-null  float64\n",
      " 27  redScore_gridMode_remoteScannerRegistration            47837 non-null  float64\n",
      " 28  redScore_cropmarksMode_remoteScannerRegistration       47837 non-null  float64\n",
      " 29  x_cropmark1_cropmarksMode_remoteScannerRegistration    47837 non-null  float64\n",
      " 30  y_cropmark1_cropmarksMode_remoteScannerRegistration    47837 non-null  float64\n",
      " 31  x_cropmark2_cropmarksMode_remoteScannerRegistration    47837 non-null  float64\n",
      " 32  y_cropmark2_cropmarksMode_remoteScannerRegistration    47837 non-null  float64\n",
      " 33  exposureTime_manualLighting_remoteScannerRegistration  47837 non-null  float64\n",
      " 34  redScore_fullScannerMode_remoteScannerRegistration     47837 non-null  float64\n",
      " 35  blueScore_fullScannerMode_remoteScannerRegistration    47837 non-null  float64\n",
      " 36  greenScore_fullScannerMode_remoteScannerRegistration   47837 non-null  float64\n",
      " 37  enable_specialSubstrate_remoteScannerRegistration      47837 non-null  object \n",
      " 38  mode_remoteScannerRegistration                         47837 non-null  float64\n",
      " 39  jobState                                               47806 non-null  object \n",
      " 40  timestamp_end                                          47806 non-null  object \n",
      " 41  totalCopies_end                                        47806 non-null  float64\n",
      " 42  consumption_operatorSideTanks_varnishConsumption       47806 non-null  float64\n",
      " 43  path                                                   47814 non-null  object \n",
      " 44  image                                                  47814 non-null  object \n",
      " 45  jsonVersion_y                                          34034 non-null  float64\n",
      "dtypes: float64(30), int64(1), object(15)\n",
      "memory usage: 17.2+ MB\n"
     ]
    },
    {
     "name": "stderr",
     "output_type": "stream",
     "text": [
      "C:\\Users\\Allan\\AppData\\Local\\Temp\\ipykernel_5752\\3017163755.py:2: DtypeWarning: Columns (8,13,14,16,22,38) have mixed types. Specify dtype option on import or set low_memory=False.\n",
      "  df = pd.read_csv(job_events, index_col=0)\n"
     ]
    }
   ],
   "source": [
    "# création d'un dataframe à partir du csv de données\n",
    "df = pd.read_csv(job_events, index_col=0)\n",
    "df.info()"
   ]
  },
  {
   "cell_type": "code",
   "execution_count": 4,
   "metadata": {},
   "outputs": [
    {
     "data": {
      "text/html": [
       "<div>\n",
       "<style scoped>\n",
       "    .dataframe tbody tr th:only-of-type {\n",
       "        vertical-align: middle;\n",
       "    }\n",
       "\n",
       "    .dataframe tbody tr th {\n",
       "        vertical-align: top;\n",
       "    }\n",
       "\n",
       "    .dataframe thead th {\n",
       "        text-align: right;\n",
       "    }\n",
       "</style>\n",
       "<table border=\"1\" class=\"dataframe\">\n",
       "  <thead>\n",
       "    <tr style=\"text-align: right;\">\n",
       "      <th></th>\n",
       "      <th>jobId</th>\n",
       "      <th>timestamp_start</th>\n",
       "      <th>totalCopies_start</th>\n",
       "      <th>jsonVersion_x</th>\n",
       "      <th>LED_iper</th>\n",
       "      <th>bars_iper</th>\n",
       "      <th>drops_iper</th>\n",
       "      <th>dithering_iper</th>\n",
       "      <th>deadPixelsOffset_iper</th>\n",
       "      <th>level_user</th>\n",
       "      <th>...</th>\n",
       "      <th>greenScore_fullScannerMode_remoteScannerRegistration</th>\n",
       "      <th>enable_specialSubstrate_remoteScannerRegistration</th>\n",
       "      <th>mode_remoteScannerRegistration</th>\n",
       "      <th>jobState</th>\n",
       "      <th>timestamp_end</th>\n",
       "      <th>totalCopies_end</th>\n",
       "      <th>consumption_operatorSideTanks_varnishConsumption</th>\n",
       "      <th>path</th>\n",
       "      <th>image</th>\n",
       "      <th>jsonVersion_y</th>\n",
       "    </tr>\n",
       "  </thead>\n",
       "  <tbody>\n",
       "    <tr>\n",
       "      <th>0</th>\n",
       "      <td>1645522984</td>\n",
       "      <td>2022-02-22T09:43:04.4879318Z</td>\n",
       "      <td>40.0</td>\n",
       "      <td>NaN</td>\n",
       "      <td>50.0</td>\n",
       "      <td>[1, 2]</td>\n",
       "      <td>4.0</td>\n",
       "      <td>False</td>\n",
       "      <td>1.0</td>\n",
       "      <td>Operator</td>\n",
       "      <td>...</td>\n",
       "      <td>20.0</td>\n",
       "      <td>False</td>\n",
       "      <td>3.0</td>\n",
       "      <td>SUCCESS</td>\n",
       "      <td>2022-02-22T09:46:07.9463151Z</td>\n",
       "      <td>40.0</td>\n",
       "      <td>4.414782</td>\n",
       "      <td>D:/IMAGES/Standard/1502734#1/0000001.tif</td>\n",
       "      <td>/9j/4AAQSkZJRgABAQEASABIAAD/4gxYSUNDX1BST0ZJTE...</td>\n",
       "      <td>NaN</td>\n",
       "    </tr>\n",
       "    <tr>\n",
       "      <th>1</th>\n",
       "      <td>1645523240</td>\n",
       "      <td>2022-02-22T09:47:20.6730834Z</td>\n",
       "      <td>29.0</td>\n",
       "      <td>NaN</td>\n",
       "      <td>50.0</td>\n",
       "      <td>[1, 2]</td>\n",
       "      <td>4.0</td>\n",
       "      <td>False</td>\n",
       "      <td>1.0</td>\n",
       "      <td>Operator</td>\n",
       "      <td>...</td>\n",
       "      <td>20.0</td>\n",
       "      <td>False</td>\n",
       "      <td>3.0</td>\n",
       "      <td>SUCCESS</td>\n",
       "      <td>2022-02-22T09:48:57.4742108Z</td>\n",
       "      <td>18.0</td>\n",
       "      <td>3.004043</td>\n",
       "      <td>D:/IMAGES/Standard/1496447#1/0000001.tif</td>\n",
       "      <td>/9j/4AAQSkZJRgABAQEASABIAAD/4gxYSUNDX1BST0ZJTE...</td>\n",
       "      <td>NaN</td>\n",
       "    </tr>\n",
       "    <tr>\n",
       "      <th>2</th>\n",
       "      <td>1645523414</td>\n",
       "      <td>2022-02-22T09:50:14.5555941Z</td>\n",
       "      <td>15.0</td>\n",
       "      <td>NaN</td>\n",
       "      <td>50.0</td>\n",
       "      <td>[1, 2]</td>\n",
       "      <td>4.0</td>\n",
       "      <td>False</td>\n",
       "      <td>1.0</td>\n",
       "      <td>Operator</td>\n",
       "      <td>...</td>\n",
       "      <td>20.0</td>\n",
       "      <td>False</td>\n",
       "      <td>3.0</td>\n",
       "      <td>SUCCESS</td>\n",
       "      <td>2022-02-22T09:51:50.5518728Z</td>\n",
       "      <td>15.0</td>\n",
       "      <td>2.503964</td>\n",
       "      <td>D:/IMAGES/Standard/1496447#1/0000001.tif</td>\n",
       "      <td>/9j/4AAQSkZJRgABAQEASABIAAD/4gxYSUNDX1BST0ZJTE...</td>\n",
       "      <td>NaN</td>\n",
       "    </tr>\n",
       "    <tr>\n",
       "      <th>3</th>\n",
       "      <td>1645523573</td>\n",
       "      <td>2022-02-22T09:52:53.4501528Z</td>\n",
       "      <td>44.0</td>\n",
       "      <td>NaN</td>\n",
       "      <td>50.0</td>\n",
       "      <td>[1, 2]</td>\n",
       "      <td>4.0</td>\n",
       "      <td>False</td>\n",
       "      <td>1.0</td>\n",
       "      <td>Operator</td>\n",
       "      <td>...</td>\n",
       "      <td>20.0</td>\n",
       "      <td>False</td>\n",
       "      <td>3.0</td>\n",
       "      <td>SUCCESS</td>\n",
       "      <td>2022-02-22T09:54:26.4285018Z</td>\n",
       "      <td>17.0</td>\n",
       "      <td>1.564754</td>\n",
       "      <td>D:/IMAGES/Standard/1498393#1/0000001.tif</td>\n",
       "      <td>/9j/4AAQSkZJRgABAQEASABIAAD/4gxYSUNDX1BST0ZJTE...</td>\n",
       "      <td>NaN</td>\n",
       "    </tr>\n",
       "    <tr>\n",
       "      <th>4</th>\n",
       "      <td>1645523780</td>\n",
       "      <td>2022-02-22T09:56:21.1203237Z</td>\n",
       "      <td>31.0</td>\n",
       "      <td>NaN</td>\n",
       "      <td>50.0</td>\n",
       "      <td>[1, 2]</td>\n",
       "      <td>4.0</td>\n",
       "      <td>False</td>\n",
       "      <td>1.0</td>\n",
       "      <td>Operator</td>\n",
       "      <td>...</td>\n",
       "      <td>20.0</td>\n",
       "      <td>False</td>\n",
       "      <td>3.0</td>\n",
       "      <td>SUCCESS</td>\n",
       "      <td>2022-02-22T09:58:44.8190330Z</td>\n",
       "      <td>31.0</td>\n",
       "      <td>2.967451</td>\n",
       "      <td>D:/IMAGES/Standard/1498393#1/0000001.tif</td>\n",
       "      <td>/9j/4AAQSkZJRgABAQEASABIAAD/4gxYSUNDX1BST0ZJTE...</td>\n",
       "      <td>NaN</td>\n",
       "    </tr>\n",
       "  </tbody>\n",
       "</table>\n",
       "<p>5 rows × 46 columns</p>\n",
       "</div>"
      ],
      "text/plain": [
       "        jobId               timestamp_start  totalCopies_start  jsonVersion_x  \\\n",
       "0  1645522984  2022-02-22T09:43:04.4879318Z               40.0            NaN   \n",
       "1  1645523240  2022-02-22T09:47:20.6730834Z               29.0            NaN   \n",
       "2  1645523414  2022-02-22T09:50:14.5555941Z               15.0            NaN   \n",
       "3  1645523573  2022-02-22T09:52:53.4501528Z               44.0            NaN   \n",
       "4  1645523780  2022-02-22T09:56:21.1203237Z               31.0            NaN   \n",
       "\n",
       "   LED_iper bars_iper  drops_iper dithering_iper  deadPixelsOffset_iper  \\\n",
       "0      50.0    [1, 2]         4.0          False                    1.0   \n",
       "1      50.0    [1, 2]         4.0          False                    1.0   \n",
       "2      50.0    [1, 2]         4.0          False                    1.0   \n",
       "3      50.0    [1, 2]         4.0          False                    1.0   \n",
       "4      50.0    [1, 2]         4.0          False                    1.0   \n",
       "\n",
       "  level_user  ... greenScore_fullScannerMode_remoteScannerRegistration  \\\n",
       "0   Operator  ...                                               20.0     \n",
       "1   Operator  ...                                               20.0     \n",
       "2   Operator  ...                                               20.0     \n",
       "3   Operator  ...                                               20.0     \n",
       "4   Operator  ...                                               20.0     \n",
       "\n",
       "   enable_specialSubstrate_remoteScannerRegistration  \\\n",
       "0                                              False   \n",
       "1                                              False   \n",
       "2                                              False   \n",
       "3                                              False   \n",
       "4                                              False   \n",
       "\n",
       "  mode_remoteScannerRegistration jobState                 timestamp_end  \\\n",
       "0                            3.0  SUCCESS  2022-02-22T09:46:07.9463151Z   \n",
       "1                            3.0  SUCCESS  2022-02-22T09:48:57.4742108Z   \n",
       "2                            3.0  SUCCESS  2022-02-22T09:51:50.5518728Z   \n",
       "3                            3.0  SUCCESS  2022-02-22T09:54:26.4285018Z   \n",
       "4                            3.0  SUCCESS  2022-02-22T09:58:44.8190330Z   \n",
       "\n",
       "  totalCopies_end  consumption_operatorSideTanks_varnishConsumption  \\\n",
       "0            40.0                                          4.414782   \n",
       "1            18.0                                          3.004043   \n",
       "2            15.0                                          2.503964   \n",
       "3            17.0                                          1.564754   \n",
       "4            31.0                                          2.967451   \n",
       "\n",
       "                                       path  \\\n",
       "0  D:/IMAGES/Standard/1502734#1/0000001.tif   \n",
       "1  D:/IMAGES/Standard/1496447#1/0000001.tif   \n",
       "2  D:/IMAGES/Standard/1496447#1/0000001.tif   \n",
       "3  D:/IMAGES/Standard/1498393#1/0000001.tif   \n",
       "4  D:/IMAGES/Standard/1498393#1/0000001.tif   \n",
       "\n",
       "                                               image  jsonVersion_y  \n",
       "0  /9j/4AAQSkZJRgABAQEASABIAAD/4gxYSUNDX1BST0ZJTE...            NaN  \n",
       "1  /9j/4AAQSkZJRgABAQEASABIAAD/4gxYSUNDX1BST0ZJTE...            NaN  \n",
       "2  /9j/4AAQSkZJRgABAQEASABIAAD/4gxYSUNDX1BST0ZJTE...            NaN  \n",
       "3  /9j/4AAQSkZJRgABAQEASABIAAD/4gxYSUNDX1BST0ZJTE...            NaN  \n",
       "4  /9j/4AAQSkZJRgABAQEASABIAAD/4gxYSUNDX1BST0ZJTE...            NaN  \n",
       "\n",
       "[5 rows x 46 columns]"
      ]
     },
     "execution_count": 4,
     "metadata": {},
     "output_type": "execute_result"
    }
   ],
   "source": [
    "# réindexation\n",
    "df.reset_index(level=None, drop=True, inplace=True, col_level=0, col_fill='')\n",
    "df.head(5)"
   ]
  },
  {
   "attachments": {},
   "cell_type": "markdown",
   "metadata": {},
   "source": [
    "## b) Nettoyage"
   ]
  },
  {
   "attachments": {},
   "cell_type": "markdown",
   "metadata": {},
   "source": [
    "### 1. Suppression de lignes"
   ]
  },
  {
   "cell_type": "code",
   "execution_count": 5,
   "metadata": {},
   "outputs": [
    {
     "data": {
      "text/plain": [
       "[47837,\n",
       " 47838,\n",
       " 47839,\n",
       " 47840,\n",
       " 47841,\n",
       " 47842,\n",
       " 47843,\n",
       " 47844,\n",
       " 47845,\n",
       " 47846,\n",
       " 47847,\n",
       " 47848,\n",
       " 47849,\n",
       " 47850,\n",
       " 47851]"
      ]
     },
     "execution_count": 5,
     "metadata": {},
     "output_type": "execute_result"
    }
   ],
   "source": [
    "# on cherche les index des lignes sans timestamp de départ\n",
    "no_start_row = list(df[df['timestamp_start'].isna()].index)\n",
    "no_start_row"
   ]
  },
  {
   "cell_type": "code",
   "execution_count": 6,
   "metadata": {},
   "outputs": [],
   "source": [
    "# on supprime les lignes sans timestamp de départ\n",
    "df.drop(no_start_row, axis=0, inplace=True)"
   ]
  },
  {
   "attachments": {},
   "cell_type": "markdown",
   "metadata": {},
   "source": [
    "### 2. Suppression de colonnes"
   ]
  },
  {
   "cell_type": "code",
   "execution_count": 7,
   "metadata": {},
   "outputs": [
    {
     "data": {
      "text/plain": [
       "Index(['jobId', 'timestamp_start', 'totalCopies_start', 'jsonVersion_x',\n",
       "       'LED_iper', 'bars_iper', 'drops_iper', 'dithering_iper',\n",
       "       'deadPixelsOffset_iper', 'level_user', 'operator_user', 'speed_ifoil',\n",
       "       'enabled_ifoil', 'optifoil_ifoil', 'stampAreas_ifoil',\n",
       "       'heater1Enabled_ifoil', 'speedTensionIn_ifoil', 'speedTensionOut_ifoil',\n",
       "       'heater1Temperature_ifoil', 'x_imageLayout_layout',\n",
       "       'y_imageLayout_layout', 'name_paperFormat_layout',\n",
       "       'width_paperFormat_layout', 'height_paperFormat_layout', 'speed_layout',\n",
       "       'power_irDryers', 'power_uvDryers',\n",
       "       'redScore_gridMode_remoteScannerRegistration',\n",
       "       'redScore_cropmarksMode_remoteScannerRegistration',\n",
       "       'x_cropmark1_cropmarksMode_remoteScannerRegistration',\n",
       "       'y_cropmark1_cropmarksMode_remoteScannerRegistration',\n",
       "       'x_cropmark2_cropmarksMode_remoteScannerRegistration',\n",
       "       'y_cropmark2_cropmarksMode_remoteScannerRegistration',\n",
       "       'exposureTime_manualLighting_remoteScannerRegistration',\n",
       "       'redScore_fullScannerMode_remoteScannerRegistration',\n",
       "       'blueScore_fullScannerMode_remoteScannerRegistration',\n",
       "       'greenScore_fullScannerMode_remoteScannerRegistration',\n",
       "       'enable_specialSubstrate_remoteScannerRegistration',\n",
       "       'mode_remoteScannerRegistration', 'jobState', 'timestamp_end',\n",
       "       'totalCopies_end', 'consumption_operatorSideTanks_varnishConsumption',\n",
       "       'path', 'image', 'jsonVersion_y'],\n",
       "      dtype='object')"
      ]
     },
     "execution_count": 7,
     "metadata": {},
     "output_type": "execute_result"
    }
   ],
   "source": [
    "# liste des colonnes\n",
    "df.columns"
   ]
  },
  {
   "cell_type": "code",
   "execution_count": 8,
   "metadata": {},
   "outputs": [
    {
     "data": {
      "text/plain": [
       "array([dtype('int64'), dtype('O'), dtype('float64')], dtype=object)"
      ]
     },
     "execution_count": 8,
     "metadata": {},
     "output_type": "execute_result"
    }
   ],
   "source": [
    "# liste des types des colonnes\n",
    "df.dtypes.unique()"
   ]
  },
  {
   "cell_type": "code",
   "execution_count": 9,
   "metadata": {},
   "outputs": [],
   "source": [
    "# suppression des colonnes non pertinentes\n",
    "col_to_drop = [\n",
    "    'path', \n",
    "    'image']\n",
    "df.drop(col_to_drop, axis=1, inplace=True)"
   ]
  },
  {
   "attachments": {},
   "cell_type": "markdown",
   "metadata": {},
   "source": [
    "### 3. Données maquantes"
   ]
  },
  {
   "cell_type": "code",
   "execution_count": 10,
   "metadata": {},
   "outputs": [
    {
     "name": "stdout",
     "output_type": "stream",
     "text": [
      "jsonVersion_x : [nan  2.]\n",
      "name_paperFormat_layout : [nan 'calque' 'B2']\n",
      "jobState : ['SUCCESS' 'ERROR' 'CANCELED' nan]\n",
      "timestamp_end : 47791 - dtype : object\n",
      "totalCopies_end : 219 - dtype : float64\n",
      "consumption_operatorSideTanks_varnishConsumption : 45846 - dtype : float64\n",
      "jsonVersion_y : [nan  2.]\n"
     ]
    }
   ],
   "source": [
    "# on liste les colonnes qui contiennent des valeurs nulles\n",
    "col_with_nan = []\n",
    "for col in df.columns:\n",
    "    if df[col].isnull().any():\n",
    "        col_with_nan.append(col)\n",
    "        print(f'{col} : {df[col].unique()}') if df[col].nunique() <= 10 else print(f'{col} : {df[col].nunique()} - dtype : {df[col].dtype}')     "
   ]
  },
  {
   "cell_type": "code",
   "execution_count": 11,
   "metadata": {},
   "outputs": [],
   "source": [
    "# on remplace les 'name_paperFormat' sans nom par UNDEFINED\n",
    "df['name_paperFormat_layout'] = df['name_paperFormat_layout'].fillna('UNDEFINED')"
   ]
  },
  {
   "cell_type": "code",
   "execution_count": 12,
   "metadata": {},
   "outputs": [],
   "source": [
    "# on remplace les 'jobState' non défini par UNDEFINED\n",
    "df['jobState'] = df['jobState'].fillna('UNDEFINED')"
   ]
  },
  {
   "cell_type": "code",
   "execution_count": 13,
   "metadata": {},
   "outputs": [],
   "source": [
    "# on converti les valeur de 'timestamp_end' en booléen\n",
    "#df['timestamp_end'] = df['timestamp_end'].apply(lambda x: False if pd.isna(x) else True)\n",
    "df['timestamp_end'] = df['timestamp_end'].fillna(df['timestamp_start'])"
   ]
  },
  {
   "cell_type": "code",
   "execution_count": 14,
   "metadata": {},
   "outputs": [],
   "source": [
    "# on remplace les valeurs de 'totalCopies_end' nulles par 0\n",
    "df['totalCopies_end'] = df['totalCopies_end'].fillna(float(0))"
   ]
  },
  {
   "cell_type": "code",
   "execution_count": 15,
   "metadata": {},
   "outputs": [],
   "source": [
    "# on remplace les valeurs de 'varnishConsumption' nulles par 0\n",
    "df['consumption_operatorSideTanks_varnishConsumption'] = df['consumption_operatorSideTanks_varnishConsumption'].fillna(float(0))"
   ]
  },
  {
   "attachments": {},
   "cell_type": "markdown",
   "metadata": {},
   "source": [
    "### 4. Conversion de type"
   ]
  },
  {
   "cell_type": "code",
   "execution_count": 16,
   "metadata": {},
   "outputs": [],
   "source": [
    "# conversion des colonnes de type 'float' dont toutes les valeurs ont des décimales à 0 en type 'int'\n",
    "for col in list(df.select_dtypes(exclude=['object','bool']).columns):\n",
    "    if not True in (math.modf(value)[0] != float(0) for value in list(df[col].unique())):\n",
    "        df[col] = df[col].astype('int64')"
   ]
  },
  {
   "cell_type": "code",
   "execution_count": 17,
   "metadata": {},
   "outputs": [
    {
     "name": "stdout",
     "output_type": "stream",
     "text": [
      "timestamp_start : 47837 values\n",
      "bars_iper : ['[1, 2]' '[1]' '[2]']\n",
      "dithering_iper : [False True]\n",
      "level_user : ['Operator' 'Distributor']\n",
      "operator_user : ['User' 'Distributor']\n",
      "enabled_ifoil : [True False]\n",
      "optifoil_ifoil : [False True]\n",
      "stampAreas_ifoil : 11 values\n",
      "heater1Enabled_ifoil : [True False]\n",
      "name_paperFormat_layout : ['UNDEFINED' 'calque' 'B2']\n",
      "enable_specialSubstrate_remoteScannerRegistration : [False True]\n",
      "jobState : ['SUCCESS' 'ERROR' 'CANCELED' 'UNDEFINED']\n",
      "timestamp_end : 47837 values\n"
     ]
    }
   ],
   "source": [
    "# on liste les valeurs (si pas plus de 5) des colonnes de type object\n",
    "for col in list(df.select_dtypes(include=['object']).columns):\n",
    "    print(f\"{col} : {df[col].unique()}\") if df[col].nunique() <= 5  else print(f\"{col} : {df[col].nunique()} values\")"
   ]
  },
  {
   "cell_type": "code",
   "execution_count": 18,
   "metadata": {},
   "outputs": [],
   "source": [
    "# on peut convertir certaines colonnes au format datetime\n",
    "df['timestamp_start'] = pd.to_datetime(df['timestamp_start'], utc=True)\n",
    "df['timestamp_end'] = pd.to_datetime(df['timestamp_end'], utc=True)"
   ]
  },
  {
   "cell_type": "code",
   "execution_count": 19,
   "metadata": {},
   "outputs": [],
   "source": [
    "# on peut convertir le type des colonnes contenant True au format booléen\n",
    "for col in list(df.select_dtypes(include=['object']).columns):\n",
    "    values = list(df[col].unique())\n",
    "    if True in (len(values) == 2  and value == True for value in values):\n",
    "        df[col] = df[col].astype('bool')"
   ]
  },
  {
   "cell_type": "code",
   "execution_count": 20,
   "metadata": {},
   "outputs": [
    {
     "name": "stdout",
     "output_type": "stream",
     "text": [
      "bars_iper : ['[1, 2]' '[1]' '[2]']\n",
      "level_user : ['Operator' 'Distributor']\n",
      "operator_user : ['User' 'Distributor']\n",
      "stampAreas_ifoil : 11 values\n",
      "name_paperFormat_layout : ['UNDEFINED' 'calque' 'B2']\n",
      "jobState : ['SUCCESS' 'ERROR' 'CANCELED' 'UNDEFINED']\n"
     ]
    }
   ],
   "source": [
    "# on liste les valeurs (si pas plus de 5) des colonnes de type object\n",
    "for col in list(df.select_dtypes(include=['object']).columns):\n",
    "    print(f\"{col} : {df[col].unique()}\") if df[col].nunique() <= 5  else print(f\"{col} : {df[col].nunique()} values\")"
   ]
  },
  {
   "attachments": {},
   "cell_type": "markdown",
   "metadata": {},
   "source": [
    "### 5. Output csv"
   ]
  },
  {
   "cell_type": "code",
   "execution_count": 21,
   "metadata": {},
   "outputs": [
    {
     "data": {
      "text/plain": [
       "Index(['jobId', 'timestamp_start', 'totalCopies_start', 'jsonVersion_x',\n",
       "       'LED_iper', 'bars_iper', 'drops_iper', 'dithering_iper',\n",
       "       'deadPixelsOffset_iper', 'level_user', 'operator_user', 'speed_ifoil',\n",
       "       'enabled_ifoil', 'optifoil_ifoil', 'stampAreas_ifoil',\n",
       "       'heater1Enabled_ifoil', 'speedTensionIn_ifoil', 'speedTensionOut_ifoil',\n",
       "       'heater1Temperature_ifoil', 'x_imageLayout_layout',\n",
       "       'y_imageLayout_layout', 'name_paperFormat_layout',\n",
       "       'width_paperFormat_layout', 'height_paperFormat_layout', 'speed_layout',\n",
       "       'power_irDryers', 'power_uvDryers',\n",
       "       'redScore_gridMode_remoteScannerRegistration',\n",
       "       'redScore_cropmarksMode_remoteScannerRegistration',\n",
       "       'x_cropmark1_cropmarksMode_remoteScannerRegistration',\n",
       "       'y_cropmark1_cropmarksMode_remoteScannerRegistration',\n",
       "       'x_cropmark2_cropmarksMode_remoteScannerRegistration',\n",
       "       'y_cropmark2_cropmarksMode_remoteScannerRegistration',\n",
       "       'exposureTime_manualLighting_remoteScannerRegistration',\n",
       "       'redScore_fullScannerMode_remoteScannerRegistration',\n",
       "       'blueScore_fullScannerMode_remoteScannerRegistration',\n",
       "       'greenScore_fullScannerMode_remoteScannerRegistration',\n",
       "       'enable_specialSubstrate_remoteScannerRegistration',\n",
       "       'mode_remoteScannerRegistration', 'jobState', 'timestamp_end',\n",
       "       'totalCopies_end', 'consumption_operatorSideTanks_varnishConsumption',\n",
       "       'jsonVersion_y'],\n",
       "      dtype='object')"
      ]
     },
     "execution_count": 21,
     "metadata": {},
     "output_type": "execute_result"
    }
   ],
   "source": [
    "df.columns"
   ]
  },
  {
   "cell_type": "code",
   "execution_count": 22,
   "metadata": {},
   "outputs": [],
   "source": [
    "df.to_csv(path_or_buf=Path(save_csv))"
   ]
  }
 ],
 "metadata": {
  "kernelspec": {
   "display_name": ".venv",
   "language": "python",
   "name": "python3"
  },
  "language_info": {
   "codemirror_mode": {
    "name": "ipython",
    "version": 3
   },
   "file_extension": ".py",
   "mimetype": "text/x-python",
   "name": "python",
   "nbconvert_exporter": "python",
   "pygments_lexer": "ipython3",
   "version": "3.10.11"
  },
  "orig_nbformat": 4,
  "vscode": {
   "interpreter": {
    "hash": "2315c9af7dedaeb0b2bf51504304a927c605b523f04dad98936c50abe500b408"
   }
  }
 },
 "nbformat": 4,
 "nbformat_minor": 2
}
