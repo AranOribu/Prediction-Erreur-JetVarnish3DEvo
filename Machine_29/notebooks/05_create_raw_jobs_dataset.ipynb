{
 "cells": [
  {
   "attachments": {},
   "cell_type": "markdown",
   "metadata": {},
   "source": [
    "# 05 - Création du dataset des données nettoyées de jobs"
   ]
  },
  {
   "attachments": {},
   "cell_type": "markdown",
   "metadata": {},
   "source": [
    "Ce notebook génère 1 csv :\n",
    "\n",
    "- raw_jobs_dataset.csv\n",
    "\n",
    "Etapes :\n",
    "\n",
    "- Suppression des lignes avec les valeurs timestamp_start manquantes\n",
    "\n",
    "- Suppression des colonnes ayant des valeurs uniques\n",
    "\n",
    "- Remplacement des données maquantes\n",
    "\n",
    "- Conversion des types des séries en fonction des types des valeurs"
   ]
  },
  {
   "attachments": {},
   "cell_type": "markdown",
   "metadata": {},
   "source": [
    "# A. Imports"
   ]
  },
  {
   "attachments": {},
   "cell_type": "markdown",
   "metadata": {},
   "source": [
    "## a) Librairies"
   ]
  },
  {
   "cell_type": "code",
   "execution_count": 1,
   "metadata": {},
   "outputs": [],
   "source": [
    "import os, math\n",
    "import pandas as pd\n",
    "pd.set_option('display.max_columns', 500)\n",
    "import numpy as np\n",
    "import matplotlib.pyplot as plt\n",
    "from datetime import datetime"
   ]
  },
  {
   "attachments": {},
   "cell_type": "markdown",
   "metadata": {},
   "source": [
    "## b) Données"
   ]
  },
  {
   "cell_type": "code",
   "execution_count": 2,
   "metadata": {},
   "outputs": [],
   "source": [
    "# chemin vers fichier source\n",
    "filename = 'jobs.csv'\n",
    "path = '../data/raw/'\n",
    "# target path to save merge raw jobs dataset\n",
    "save_csv = '../data/jobs/raw_jobs_dataset.csv'"
   ]
  },
  {
   "cell_type": "code",
   "execution_count": 3,
   "metadata": {},
   "outputs": [],
   "source": [
    "# # téléchargement dans le repertoire 'data' d'un fichiers 'csv' depuis le blob\n",
    "# from azure_blob import download_blob_file\n",
    "# download_blob_file(file_name=filename, local_path=path)"
   ]
  },
  {
   "attachments": {},
   "cell_type": "markdown",
   "metadata": {},
   "source": [
    "# B. Dataframe"
   ]
  },
  {
   "attachments": {},
   "cell_type": "markdown",
   "metadata": {},
   "source": [
    "## a) Création"
   ]
  },
  {
   "cell_type": "code",
   "execution_count": 4,
   "metadata": {},
   "outputs": [
    {
     "name": "stdout",
     "output_type": "stream",
     "text": [
      "<class 'pandas.core.frame.DataFrame'>\n",
      "RangeIndex: 4182 entries, 0 to 4181\n",
      "Data columns (total 26 columns):\n",
      " #   Column                            Non-Null Count  Dtype  \n",
      "---  ------                            --------------  -----  \n",
      " 0   id                                4182 non-null   int64  \n",
      " 1   thumbnail                         0 non-null      float64\n",
      " 2   total_copies                      4173 non-null   float64\n",
      " 3   started_at                        4182 non-null   object \n",
      " 4   ended_at                          4173 non-null   object \n",
      " 5   machineId                         4182 non-null   int64  \n",
      " 6   speed                             4182 non-null   int64  \n",
      " 7   operator                          4182 non-null   object \n",
      " 8   operator_level                    4182 non-null   object \n",
      " 9   first_page_image_path_on_machine  4182 non-null   object \n",
      " 10  paperHeight                       4182 non-null   int64  \n",
      " 11  paperWidth                        4182 non-null   int64  \n",
      " 12  paperName                         0 non-null      float64\n",
      " 13  paperThickness                    4182 non-null   int64  \n",
      " 14  id_on_machine                     4182 non-null   int64  \n",
      " 15  total_copies_requested            4182 non-null   int64  \n",
      " 16  job_thumbnail_id                  4182 non-null   int64  \n",
      " 17  uses_ifoil                        4182 non-null   bool   \n",
      " 18  uses_iper                         4182 non-null   bool   \n",
      " 19  scanner_mode                      4182 non-null   int64  \n",
      " 20  iper_bvar_count                   4182 non-null   int64  \n",
      " 21  varnishConsumptionVarnish_3d      4173 non-null   float64\n",
      " 22  varnishConsumptionVarnish_2d      0 non-null      float64\n",
      " 23  run                               966 non-null    float64\n",
      " 24  total_run                         966 non-null    float64\n",
      " 25  copies_per_run                    962 non-null    float64\n",
      "dtypes: bool(2), float64(8), int64(11), object(5)\n",
      "memory usage: 792.4+ KB\n"
     ]
    }
   ],
   "source": [
    "# création d'un dataframe à partir du csv de données\n",
    "jobs_df = pd.read_csv(os.path.join(path, filename))\n",
    "jobs_df.info()"
   ]
  },
  {
   "cell_type": "code",
   "execution_count": 5,
   "metadata": {},
   "outputs": [
    {
     "data": {
      "text/html": [
       "<div>\n",
       "<style scoped>\n",
       "    .dataframe tbody tr th:only-of-type {\n",
       "        vertical-align: middle;\n",
       "    }\n",
       "\n",
       "    .dataframe tbody tr th {\n",
       "        vertical-align: top;\n",
       "    }\n",
       "\n",
       "    .dataframe thead th {\n",
       "        text-align: right;\n",
       "    }\n",
       "</style>\n",
       "<table border=\"1\" class=\"dataframe\">\n",
       "  <thead>\n",
       "    <tr style=\"text-align: right;\">\n",
       "      <th></th>\n",
       "      <th>id</th>\n",
       "      <th>thumbnail</th>\n",
       "      <th>total_copies</th>\n",
       "      <th>started_at</th>\n",
       "      <th>ended_at</th>\n",
       "      <th>machineId</th>\n",
       "      <th>speed</th>\n",
       "      <th>operator</th>\n",
       "      <th>operator_level</th>\n",
       "      <th>first_page_image_path_on_machine</th>\n",
       "      <th>paperHeight</th>\n",
       "      <th>paperWidth</th>\n",
       "      <th>paperName</th>\n",
       "      <th>paperThickness</th>\n",
       "      <th>id_on_machine</th>\n",
       "      <th>total_copies_requested</th>\n",
       "      <th>job_thumbnail_id</th>\n",
       "      <th>uses_ifoil</th>\n",
       "      <th>uses_iper</th>\n",
       "      <th>scanner_mode</th>\n",
       "      <th>iper_bvar_count</th>\n",
       "      <th>varnishConsumptionVarnish_3d</th>\n",
       "      <th>varnishConsumptionVarnish_2d</th>\n",
       "      <th>run</th>\n",
       "      <th>total_run</th>\n",
       "      <th>copies_per_run</th>\n",
       "    </tr>\n",
       "  </thead>\n",
       "  <tbody>\n",
       "    <tr>\n",
       "      <th>0</th>\n",
       "      <td>113216</td>\n",
       "      <td>NaN</td>\n",
       "      <td>1.0</td>\n",
       "      <td>2022-10-25 08:25:14.728000</td>\n",
       "      <td>2022-10-25 08:26:18.522000</td>\n",
       "      <td>29</td>\n",
       "      <td>179</td>\n",
       "      <td>User</td>\n",
       "      <td>Operator</td>\n",
       "      <td>D:/IMAGES/Standard/22100077-00 test vernis__VE...</td>\n",
       "      <td>500</td>\n",
       "      <td>320</td>\n",
       "      <td>NaN</td>\n",
       "      <td>0</td>\n",
       "      <td>1666686314</td>\n",
       "      <td>1</td>\n",
       "      <td>109234</td>\n",
       "      <td>False</td>\n",
       "      <td>True</td>\n",
       "      <td>1</td>\n",
       "      <td>2</td>\n",
       "      <td>0.046652</td>\n",
       "      <td>NaN</td>\n",
       "      <td>NaN</td>\n",
       "      <td>NaN</td>\n",
       "      <td>NaN</td>\n",
       "    </tr>\n",
       "    <tr>\n",
       "      <th>1</th>\n",
       "      <td>113219</td>\n",
       "      <td>NaN</td>\n",
       "      <td>4.0</td>\n",
       "      <td>2022-10-25 08:27:37.387000</td>\n",
       "      <td>2022-10-25 08:28:49.018000</td>\n",
       "      <td>29</td>\n",
       "      <td>209</td>\n",
       "      <td>User</td>\n",
       "      <td>Operator</td>\n",
       "      <td>D:/IMAGES/Standard/22100077-00 test vernis__VE...</td>\n",
       "      <td>500</td>\n",
       "      <td>320</td>\n",
       "      <td>NaN</td>\n",
       "      <td>0</td>\n",
       "      <td>1666686457</td>\n",
       "      <td>4</td>\n",
       "      <td>109237</td>\n",
       "      <td>False</td>\n",
       "      <td>True</td>\n",
       "      <td>1</td>\n",
       "      <td>2</td>\n",
       "      <td>0.158389</td>\n",
       "      <td>NaN</td>\n",
       "      <td>NaN</td>\n",
       "      <td>NaN</td>\n",
       "      <td>NaN</td>\n",
       "    </tr>\n",
       "    <tr>\n",
       "      <th>2</th>\n",
       "      <td>113223</td>\n",
       "      <td>NaN</td>\n",
       "      <td>1.0</td>\n",
       "      <td>2022-10-25 08:30:20.210000</td>\n",
       "      <td>2022-10-25 08:31:20.859000</td>\n",
       "      <td>29</td>\n",
       "      <td>209</td>\n",
       "      <td>User</td>\n",
       "      <td>Operator</td>\n",
       "      <td>D:/IMAGES/Standard/22100077-00 test vernis__VE...</td>\n",
       "      <td>500</td>\n",
       "      <td>320</td>\n",
       "      <td>NaN</td>\n",
       "      <td>0</td>\n",
       "      <td>1666686620</td>\n",
       "      <td>1</td>\n",
       "      <td>109241</td>\n",
       "      <td>False</td>\n",
       "      <td>True</td>\n",
       "      <td>1</td>\n",
       "      <td>2</td>\n",
       "      <td>0.368169</td>\n",
       "      <td>NaN</td>\n",
       "      <td>NaN</td>\n",
       "      <td>NaN</td>\n",
       "      <td>NaN</td>\n",
       "    </tr>\n",
       "    <tr>\n",
       "      <th>3</th>\n",
       "      <td>113225</td>\n",
       "      <td>NaN</td>\n",
       "      <td>4.0</td>\n",
       "      <td>2022-10-25 08:32:05.603000</td>\n",
       "      <td>2022-10-25 08:33:24.691000</td>\n",
       "      <td>29</td>\n",
       "      <td>209</td>\n",
       "      <td>User</td>\n",
       "      <td>Operator</td>\n",
       "      <td>D:/IMAGES/Standard/22100077-00 test vernis__VE...</td>\n",
       "      <td>500</td>\n",
       "      <td>320</td>\n",
       "      <td>NaN</td>\n",
       "      <td>0</td>\n",
       "      <td>1666686725</td>\n",
       "      <td>4</td>\n",
       "      <td>109243</td>\n",
       "      <td>False</td>\n",
       "      <td>True</td>\n",
       "      <td>1</td>\n",
       "      <td>2</td>\n",
       "      <td>1.471035</td>\n",
       "      <td>NaN</td>\n",
       "      <td>NaN</td>\n",
       "      <td>NaN</td>\n",
       "      <td>NaN</td>\n",
       "    </tr>\n",
       "    <tr>\n",
       "      <th>4</th>\n",
       "      <td>113352</td>\n",
       "      <td>NaN</td>\n",
       "      <td>4.0</td>\n",
       "      <td>2022-10-25 10:46:30.394000</td>\n",
       "      <td>2022-10-25 10:48:54.039000</td>\n",
       "      <td>29</td>\n",
       "      <td>209</td>\n",
       "      <td>User</td>\n",
       "      <td>Operator</td>\n",
       "      <td>D:/IMAGES/Standard/22100077-00 test vernis__VE...</td>\n",
       "      <td>500</td>\n",
       "      <td>320</td>\n",
       "      <td>NaN</td>\n",
       "      <td>0</td>\n",
       "      <td>1666694790</td>\n",
       "      <td>4</td>\n",
       "      <td>109365</td>\n",
       "      <td>False</td>\n",
       "      <td>True</td>\n",
       "      <td>1</td>\n",
       "      <td>2</td>\n",
       "      <td>1.468951</td>\n",
       "      <td>NaN</td>\n",
       "      <td>NaN</td>\n",
       "      <td>NaN</td>\n",
       "      <td>NaN</td>\n",
       "    </tr>\n",
       "  </tbody>\n",
       "</table>\n",
       "</div>"
      ],
      "text/plain": [
       "       id  thumbnail  total_copies                  started_at  \\\n",
       "0  113216        NaN           1.0  2022-10-25 08:25:14.728000   \n",
       "1  113219        NaN           4.0  2022-10-25 08:27:37.387000   \n",
       "2  113223        NaN           1.0  2022-10-25 08:30:20.210000   \n",
       "3  113225        NaN           4.0  2022-10-25 08:32:05.603000   \n",
       "4  113352        NaN           4.0  2022-10-25 10:46:30.394000   \n",
       "\n",
       "                     ended_at  machineId  speed operator operator_level  \\\n",
       "0  2022-10-25 08:26:18.522000         29    179     User       Operator   \n",
       "1  2022-10-25 08:28:49.018000         29    209     User       Operator   \n",
       "2  2022-10-25 08:31:20.859000         29    209     User       Operator   \n",
       "3  2022-10-25 08:33:24.691000         29    209     User       Operator   \n",
       "4  2022-10-25 10:48:54.039000         29    209     User       Operator   \n",
       "\n",
       "                    first_page_image_path_on_machine  paperHeight  paperWidth  \\\n",
       "0  D:/IMAGES/Standard/22100077-00 test vernis__VE...          500         320   \n",
       "1  D:/IMAGES/Standard/22100077-00 test vernis__VE...          500         320   \n",
       "2  D:/IMAGES/Standard/22100077-00 test vernis__VE...          500         320   \n",
       "3  D:/IMAGES/Standard/22100077-00 test vernis__VE...          500         320   \n",
       "4  D:/IMAGES/Standard/22100077-00 test vernis__VE...          500         320   \n",
       "\n",
       "   paperName  paperThickness  id_on_machine  total_copies_requested  \\\n",
       "0        NaN               0     1666686314                       1   \n",
       "1        NaN               0     1666686457                       4   \n",
       "2        NaN               0     1666686620                       1   \n",
       "3        NaN               0     1666686725                       4   \n",
       "4        NaN               0     1666694790                       4   \n",
       "\n",
       "   job_thumbnail_id  uses_ifoil  uses_iper  scanner_mode  iper_bvar_count  \\\n",
       "0            109234       False       True             1                2   \n",
       "1            109237       False       True             1                2   \n",
       "2            109241       False       True             1                2   \n",
       "3            109243       False       True             1                2   \n",
       "4            109365       False       True             1                2   \n",
       "\n",
       "   varnishConsumptionVarnish_3d  varnishConsumptionVarnish_2d  run  total_run  \\\n",
       "0                      0.046652                           NaN  NaN        NaN   \n",
       "1                      0.158389                           NaN  NaN        NaN   \n",
       "2                      0.368169                           NaN  NaN        NaN   \n",
       "3                      1.471035                           NaN  NaN        NaN   \n",
       "4                      1.468951                           NaN  NaN        NaN   \n",
       "\n",
       "   copies_per_run  \n",
       "0             NaN  \n",
       "1             NaN  \n",
       "2             NaN  \n",
       "3             NaN  \n",
       "4             NaN  "
      ]
     },
     "execution_count": 5,
     "metadata": {},
     "output_type": "execute_result"
    }
   ],
   "source": [
    "jobs_df.head()"
   ]
  },
  {
   "attachments": {},
   "cell_type": "markdown",
   "metadata": {},
   "source": [
    "## b) Nettoyage"
   ]
  },
  {
   "attachments": {},
   "cell_type": "markdown",
   "metadata": {},
   "source": [
    "### 1. Suppression de lignes"
   ]
  },
  {
   "cell_type": "code",
   "execution_count": 6,
   "metadata": {},
   "outputs": [
    {
     "data": {
      "text/plain": [
       "[]"
      ]
     },
     "execution_count": 6,
     "metadata": {},
     "output_type": "execute_result"
    }
   ],
   "source": [
    "# on cherche les index des lignes sans timestamp de départ\n",
    "no_start_row = list(jobs_df[jobs_df['started_at'].isna()].index)\n",
    "no_start_row"
   ]
  },
  {
   "attachments": {},
   "cell_type": "markdown",
   "metadata": {},
   "source": [
    "### 2. Suppression de colonnes"
   ]
  },
  {
   "cell_type": "code",
   "execution_count": 7,
   "metadata": {},
   "outputs": [],
   "source": [
    "# suppression des colonnes non pertinentes\n",
    "col_to_drop = [\n",
    "    'id',\n",
    "    'thumbnail',\n",
    "    'machineId',\n",
    "    'first_page_image_path_on_machine',\n",
    "    'job_thumbnail_id'\n",
    "    ]\n",
    "jobs_df = jobs_df.drop(col_to_drop, axis=1)"
   ]
  },
  {
   "cell_type": "code",
   "execution_count": 8,
   "metadata": {},
   "outputs": [
    {
     "name": "stdout",
     "output_type": "stream",
     "text": [
      "['paperName', 'varnishConsumptionVarnish_2d']\n"
     ]
    }
   ],
   "source": [
    "# suppression des colonnes ne contenant que des valeurs nulles\n",
    "print(jobs_df.columns[jobs_df.isnull().all()].tolist())\n",
    "jobs_df.dropna(axis=1, how='all', inplace=True)"
   ]
  },
  {
   "attachments": {},
   "cell_type": "markdown",
   "metadata": {},
   "source": [
    "### 3. Données manquantes"
   ]
  },
  {
   "cell_type": "code",
   "execution_count": 9,
   "metadata": {},
   "outputs": [
    {
     "name": "stdout",
     "output_type": "stream",
     "text": [
      "total_copies : 231 - dtype : float64\n",
      "ended_at : 4173 - dtype : object\n",
      "varnishConsumptionVarnish_3d : 3537 - dtype : float64\n",
      "run : [nan  1.]\n",
      "total_run : [nan  1.]\n",
      "copies_per_run : 103 - dtype : float64\n"
     ]
    }
   ],
   "source": [
    "# on liste les colonnes qui contiennent des valeurs nulles\n",
    "col_with_nan = []\n",
    "for col in jobs_df.columns:\n",
    "    if jobs_df[col].isnull().any():\n",
    "        col_with_nan.append(col)\n",
    "        print(f'{col} : {jobs_df[col].unique()}') if jobs_df[col].nunique() <= 10 else print(f'{col} : {jobs_df[col].nunique()} - dtype : {jobs_df[col].dtype}')     "
   ]
  },
  {
   "cell_type": "code",
   "execution_count": 10,
   "metadata": {},
   "outputs": [],
   "source": [
    "# on remplace les valeurs de 'total_copies' nulles par 0\n",
    "jobs_df['total_copies'] = jobs_df['total_copies'].fillna(float(0))"
   ]
  },
  {
   "cell_type": "code",
   "execution_count": 11,
   "metadata": {},
   "outputs": [],
   "source": [
    "# on remplace les datetime de fin maquant par les datetime de début\n",
    "jobs_df['ended_at'] = jobs_df['ended_at'].fillna(jobs_df['started_at'])"
   ]
  },
  {
   "cell_type": "code",
   "execution_count": 12,
   "metadata": {},
   "outputs": [],
   "source": [
    "# # on remplace les 'paperName' non défini par UNDEFINED\n",
    "# jobs_df['paperName'] = jobs_df['paperName'].fillna('UNDEFINED')"
   ]
  },
  {
   "cell_type": "code",
   "execution_count": 13,
   "metadata": {},
   "outputs": [],
   "source": [
    "# on remplace les valeurs de 'scanner_mode' nulles par 0\n",
    "jobs_df['scanner_mode'] = jobs_df['scanner_mode'].fillna(0)"
   ]
  },
  {
   "cell_type": "code",
   "execution_count": 14,
   "metadata": {},
   "outputs": [],
   "source": [
    "# on remplace les valeurs de 'iper_bvar_count' nulles par 0\n",
    "jobs_df['iper_bvar_count'] = jobs_df['iper_bvar_count'].fillna(0)"
   ]
  },
  {
   "cell_type": "code",
   "execution_count": 15,
   "metadata": {},
   "outputs": [],
   "source": [
    "# on remplace les valeurs de 'total_copies' nulles par 0\n",
    "jobs_df['varnishConsumptionVarnish_3d'] = jobs_df['varnishConsumptionVarnish_3d'].fillna(float(0))"
   ]
  },
  {
   "attachments": {},
   "cell_type": "markdown",
   "metadata": {},
   "source": [
    "### 4. Conversion des types"
   ]
  },
  {
   "cell_type": "code",
   "execution_count": 16,
   "metadata": {},
   "outputs": [
    {
     "data": {
      "text/plain": [
       "array([dtype('float64'), dtype('O'), dtype('int64'), dtype('bool')],\n",
       "      dtype=object)"
      ]
     },
     "execution_count": 16,
     "metadata": {},
     "output_type": "execute_result"
    }
   ],
   "source": [
    "jobs_df.dtypes.unique()"
   ]
  },
  {
   "attachments": {},
   "cell_type": "markdown",
   "metadata": {},
   "source": [
    "#### Object"
   ]
  },
  {
   "cell_type": "code",
   "execution_count": 17,
   "metadata": {},
   "outputs": [
    {
     "name": "stdout",
     "output_type": "stream",
     "text": [
      "started_at : 4182 values\n",
      "ended_at : 4182 values\n",
      "operator : ['User' 'Distributor']\n",
      "operator_level : ['Operator' 'Distributor']\n"
     ]
    }
   ],
   "source": [
    "# on liste les valeurs (si pas plus de 5) des colonnes de type object\n",
    "object_columns = list(jobs_df.select_dtypes(include=['object']).columns)\n",
    "for col in object_columns :\n",
    "    print(f\"{col} : {jobs_df[col].unique()}\") if jobs_df[col].nunique() <= 5  else print(f\"{col} : {jobs_df[col].nunique()} values\")"
   ]
  },
  {
   "cell_type": "code",
   "execution_count": 18,
   "metadata": {},
   "outputs": [],
   "source": [
    "# on peut convertir les colonnes contenant des valeurs de temsps au format datetime\n",
    "jobs_df['started_at'] = pd.to_datetime(jobs_df['started_at'], utc=True)\n",
    "jobs_df['ended_at'] = pd.to_datetime(jobs_df['ended_at'], utc=True)"
   ]
  },
  {
   "attachments": {},
   "cell_type": "markdown",
   "metadata": {},
   "source": [
    "#### Float64"
   ]
  },
  {
   "cell_type": "code",
   "execution_count": 19,
   "metadata": {},
   "outputs": [
    {
     "name": "stdout",
     "output_type": "stream",
     "text": [
      "total_copies : 231 values\n",
      "varnishConsumptionVarnish_3d : 3537 values\n",
      "run : [nan  1.]\n",
      "total_run : [nan  1.]\n",
      "copies_per_run : 103 values\n"
     ]
    }
   ],
   "source": [
    "float_columns = list(jobs_df.select_dtypes(include=['float64']).columns)\n",
    "# on liste les valeurs (si pas plus de 5) des colonnes de type object\n",
    "for col in float_columns:\n",
    "    print(f\"{col} : {jobs_df[col].unique()}\") if jobs_df[col].nunique() <= 5  else print(f\"{col} : {jobs_df[col].nunique()} values\")"
   ]
  },
  {
   "cell_type": "code",
   "execution_count": 20,
   "metadata": {},
   "outputs": [],
   "source": [
    "# conversion des colonnes de type 'float' dont toutes les valeurs ont des décimales à 0 en type 'int'\n",
    "for col in float_columns :\n",
    "# remplacement de nan par 0\n",
    "    jobs_df[col] = jobs_df[col].fillna(0)\n",
    "    if not True in (math.modf(value)[0] != float(0) for value in list(jobs_df[col].unique())):\n",
    "        jobs_df[col] = jobs_df[col].astype('int64')"
   ]
  },
  {
   "cell_type": "code",
   "execution_count": 21,
   "metadata": {},
   "outputs": [
    {
     "data": {
      "text/html": [
       "<div>\n",
       "<style scoped>\n",
       "    .dataframe tbody tr th:only-of-type {\n",
       "        vertical-align: middle;\n",
       "    }\n",
       "\n",
       "    .dataframe tbody tr th {\n",
       "        vertical-align: top;\n",
       "    }\n",
       "\n",
       "    .dataframe thead th {\n",
       "        text-align: right;\n",
       "    }\n",
       "</style>\n",
       "<table border=\"1\" class=\"dataframe\">\n",
       "  <thead>\n",
       "    <tr style=\"text-align: right;\">\n",
       "      <th></th>\n",
       "      <th>total_copies</th>\n",
       "      <th>started_at</th>\n",
       "      <th>ended_at</th>\n",
       "      <th>speed</th>\n",
       "      <th>operator</th>\n",
       "      <th>operator_level</th>\n",
       "      <th>paperHeight</th>\n",
       "      <th>paperWidth</th>\n",
       "      <th>paperThickness</th>\n",
       "      <th>id_on_machine</th>\n",
       "      <th>total_copies_requested</th>\n",
       "      <th>uses_ifoil</th>\n",
       "      <th>uses_iper</th>\n",
       "      <th>scanner_mode</th>\n",
       "      <th>iper_bvar_count</th>\n",
       "      <th>varnishConsumptionVarnish_3d</th>\n",
       "      <th>run</th>\n",
       "      <th>total_run</th>\n",
       "      <th>copies_per_run</th>\n",
       "    </tr>\n",
       "  </thead>\n",
       "  <tbody>\n",
       "    <tr>\n",
       "      <th>0</th>\n",
       "      <td>1</td>\n",
       "      <td>2022-10-25 08:25:14.728000+00:00</td>\n",
       "      <td>2022-10-25 08:26:18.522000+00:00</td>\n",
       "      <td>179</td>\n",
       "      <td>User</td>\n",
       "      <td>Operator</td>\n",
       "      <td>500</td>\n",
       "      <td>320</td>\n",
       "      <td>0</td>\n",
       "      <td>1666686314</td>\n",
       "      <td>1</td>\n",
       "      <td>False</td>\n",
       "      <td>True</td>\n",
       "      <td>1</td>\n",
       "      <td>2</td>\n",
       "      <td>0.046652</td>\n",
       "      <td>0</td>\n",
       "      <td>0</td>\n",
       "      <td>0</td>\n",
       "    </tr>\n",
       "    <tr>\n",
       "      <th>1</th>\n",
       "      <td>4</td>\n",
       "      <td>2022-10-25 08:27:37.387000+00:00</td>\n",
       "      <td>2022-10-25 08:28:49.018000+00:00</td>\n",
       "      <td>209</td>\n",
       "      <td>User</td>\n",
       "      <td>Operator</td>\n",
       "      <td>500</td>\n",
       "      <td>320</td>\n",
       "      <td>0</td>\n",
       "      <td>1666686457</td>\n",
       "      <td>4</td>\n",
       "      <td>False</td>\n",
       "      <td>True</td>\n",
       "      <td>1</td>\n",
       "      <td>2</td>\n",
       "      <td>0.158389</td>\n",
       "      <td>0</td>\n",
       "      <td>0</td>\n",
       "      <td>0</td>\n",
       "    </tr>\n",
       "    <tr>\n",
       "      <th>2</th>\n",
       "      <td>1</td>\n",
       "      <td>2022-10-25 08:30:20.210000+00:00</td>\n",
       "      <td>2022-10-25 08:31:20.859000+00:00</td>\n",
       "      <td>209</td>\n",
       "      <td>User</td>\n",
       "      <td>Operator</td>\n",
       "      <td>500</td>\n",
       "      <td>320</td>\n",
       "      <td>0</td>\n",
       "      <td>1666686620</td>\n",
       "      <td>1</td>\n",
       "      <td>False</td>\n",
       "      <td>True</td>\n",
       "      <td>1</td>\n",
       "      <td>2</td>\n",
       "      <td>0.368169</td>\n",
       "      <td>0</td>\n",
       "      <td>0</td>\n",
       "      <td>0</td>\n",
       "    </tr>\n",
       "    <tr>\n",
       "      <th>3</th>\n",
       "      <td>4</td>\n",
       "      <td>2022-10-25 08:32:05.603000+00:00</td>\n",
       "      <td>2022-10-25 08:33:24.691000+00:00</td>\n",
       "      <td>209</td>\n",
       "      <td>User</td>\n",
       "      <td>Operator</td>\n",
       "      <td>500</td>\n",
       "      <td>320</td>\n",
       "      <td>0</td>\n",
       "      <td>1666686725</td>\n",
       "      <td>4</td>\n",
       "      <td>False</td>\n",
       "      <td>True</td>\n",
       "      <td>1</td>\n",
       "      <td>2</td>\n",
       "      <td>1.471035</td>\n",
       "      <td>0</td>\n",
       "      <td>0</td>\n",
       "      <td>0</td>\n",
       "    </tr>\n",
       "    <tr>\n",
       "      <th>4</th>\n",
       "      <td>4</td>\n",
       "      <td>2022-10-25 10:46:30.394000+00:00</td>\n",
       "      <td>2022-10-25 10:48:54.039000+00:00</td>\n",
       "      <td>209</td>\n",
       "      <td>User</td>\n",
       "      <td>Operator</td>\n",
       "      <td>500</td>\n",
       "      <td>320</td>\n",
       "      <td>0</td>\n",
       "      <td>1666694790</td>\n",
       "      <td>4</td>\n",
       "      <td>False</td>\n",
       "      <td>True</td>\n",
       "      <td>1</td>\n",
       "      <td>2</td>\n",
       "      <td>1.468951</td>\n",
       "      <td>0</td>\n",
       "      <td>0</td>\n",
       "      <td>0</td>\n",
       "    </tr>\n",
       "  </tbody>\n",
       "</table>\n",
       "</div>"
      ],
      "text/plain": [
       "   total_copies                       started_at  \\\n",
       "0             1 2022-10-25 08:25:14.728000+00:00   \n",
       "1             4 2022-10-25 08:27:37.387000+00:00   \n",
       "2             1 2022-10-25 08:30:20.210000+00:00   \n",
       "3             4 2022-10-25 08:32:05.603000+00:00   \n",
       "4             4 2022-10-25 10:46:30.394000+00:00   \n",
       "\n",
       "                          ended_at  speed operator operator_level  \\\n",
       "0 2022-10-25 08:26:18.522000+00:00    179     User       Operator   \n",
       "1 2022-10-25 08:28:49.018000+00:00    209     User       Operator   \n",
       "2 2022-10-25 08:31:20.859000+00:00    209     User       Operator   \n",
       "3 2022-10-25 08:33:24.691000+00:00    209     User       Operator   \n",
       "4 2022-10-25 10:48:54.039000+00:00    209     User       Operator   \n",
       "\n",
       "   paperHeight  paperWidth  paperThickness  id_on_machine  \\\n",
       "0          500         320               0     1666686314   \n",
       "1          500         320               0     1666686457   \n",
       "2          500         320               0     1666686620   \n",
       "3          500         320               0     1666686725   \n",
       "4          500         320               0     1666694790   \n",
       "\n",
       "   total_copies_requested  uses_ifoil  uses_iper  scanner_mode  \\\n",
       "0                       1       False       True             1   \n",
       "1                       4       False       True             1   \n",
       "2                       1       False       True             1   \n",
       "3                       4       False       True             1   \n",
       "4                       4       False       True             1   \n",
       "\n",
       "   iper_bvar_count  varnishConsumptionVarnish_3d  run  total_run  \\\n",
       "0                2                      0.046652    0          0   \n",
       "1                2                      0.158389    0          0   \n",
       "2                2                      0.368169    0          0   \n",
       "3                2                      1.471035    0          0   \n",
       "4                2                      1.468951    0          0   \n",
       "\n",
       "   copies_per_run  \n",
       "0               0  \n",
       "1               0  \n",
       "2               0  \n",
       "3               0  \n",
       "4               0  "
      ]
     },
     "execution_count": 21,
     "metadata": {},
     "output_type": "execute_result"
    }
   ],
   "source": [
    "jobs_df.head(5)"
   ]
  },
  {
   "cell_type": "code",
   "execution_count": 22,
   "metadata": {},
   "outputs": [
    {
     "data": {
      "text/plain": [
       "Index(['total_copies', 'started_at', 'ended_at', 'speed', 'operator',\n",
       "       'operator_level', 'paperHeight', 'paperWidth', 'paperThickness',\n",
       "       'id_on_machine', 'total_copies_requested', 'uses_ifoil', 'uses_iper',\n",
       "       'scanner_mode', 'iper_bvar_count', 'varnishConsumptionVarnish_3d',\n",
       "       'run', 'total_run', 'copies_per_run'],\n",
       "      dtype='object')"
      ]
     },
     "execution_count": 22,
     "metadata": {},
     "output_type": "execute_result"
    }
   ],
   "source": [
    "jobs_df.columns"
   ]
  },
  {
   "attachments": {},
   "cell_type": "markdown",
   "metadata": {},
   "source": [
    "### 5. Outout csv"
   ]
  },
  {
   "cell_type": "code",
   "execution_count": 23,
   "metadata": {},
   "outputs": [],
   "source": [
    "# sauvegarde du dataset en csv\n",
    "jobs_df.to_csv(save_csv)"
   ]
  }
 ],
 "metadata": {
  "kernelspec": {
   "display_name": ".venv",
   "language": "python",
   "name": "python3"
  },
  "language_info": {
   "codemirror_mode": {
    "name": "ipython",
    "version": 3
   },
   "file_extension": ".py",
   "mimetype": "text/x-python",
   "name": "python",
   "nbconvert_exporter": "python",
   "pygments_lexer": "ipython3",
   "version": "3.10.11"
  },
  "orig_nbformat": 4,
  "vscode": {
   "interpreter": {
    "hash": "2315c9af7dedaeb0b2bf51504304a927c605b523f04dad98936c50abe500b408"
   }
  }
 },
 "nbformat": 4,
 "nbformat_minor": 2
}
