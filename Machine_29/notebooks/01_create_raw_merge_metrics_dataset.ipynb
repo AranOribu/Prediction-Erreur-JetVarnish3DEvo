{
 "cells": [
  {
   "attachments": {},
   "cell_type": "markdown",
   "metadata": {},
   "source": [
    "# 01 - Creation du dataset des données brutes de metrics fractionnées"
   ]
  },
  {
   "attachments": {},
   "cell_type": "markdown",
   "metadata": {},
   "source": [
    "Ce notebook génère :\n",
    "\n",
    "- 1 fichier csv \"raw_merge_metrics_dataset.csv\" qui fusionne les colonnes fractionnées avec le dataset d'origine\n",
    "- 1 fichier json \"metrics_events_dict.json\" pour lister les code d'identification des évènements\n",
    "\n",
    "**Etapes de création :**\n",
    "\n",
    "- Pour chaque colonne contenant des valeurs de type list ou dict\n",
    "\n",
    "    - Fractionnement des colonnes en dataframe\n",
    "\n",
    "    - Fusion des dataframes issus de la ou des fraction(s)\n",
    "\n",
    "- Fusion des colonnes fractionnées avec les colonnes non fratcionnées du dataset de départ"
   ]
  },
  {
   "attachments": {},
   "cell_type": "markdown",
   "metadata": {},
   "source": [
    "## Imports"
   ]
  },
  {
   "cell_type": "code",
   "execution_count": 1,
   "metadata": {},
   "outputs": [],
   "source": [
    "import os, json, ast\n",
    "import pandas as pd\n",
    "import numpy as np\n",
    "import matplotlib.pyplot as plt\n",
    "from datetime import datetime\n",
    "from pathlib import Path"
   ]
  },
  {
   "attachments": {},
   "cell_type": "markdown",
   "metadata": {},
   "source": [
    "## 1. Création dataset metrics"
   ]
  },
  {
   "cell_type": "code",
   "execution_count": 2,
   "metadata": {},
   "outputs": [],
   "source": [
    "# source path to raw metrics dataset\n",
    "filename = 'metrics.csv'\n",
    "path = '../data/raw/'\n",
    "source_csv = os.path.join(path, filename)\n",
    "# target path to save metrics dictionnaire\n",
    "save_json ='../data/metrics/metrics_events_dict.json'\n",
    "# target path to save merge raw metrics dataset\n",
    "save_csv = '../data/metrics/raw_merge_metrics_dataset.csv'"
   ]
  },
  {
   "attachments": {},
   "cell_type": "markdown",
   "metadata": {},
   "source": [
    "### a) Import des données brutes"
   ]
  },
  {
   "cell_type": "code",
   "execution_count": 3,
   "metadata": {},
   "outputs": [],
   "source": [
    "# # téléchargement dans le repertoire 'data' d'un fichiers 'csv' depuis le blob Azure\n",
    "# from azure_blob import download_blob_file\n",
    "# download_blob_file(file_name=filename, local_path=path)"
   ]
  },
  {
   "cell_type": "code",
   "execution_count": 4,
   "metadata": {},
   "outputs": [
    {
     "name": "stdout",
     "output_type": "stream",
     "text": [
      "<class 'pandas.core.frame.DataFrame'>\n",
      "RangeIndex: 251840 entries, 0 to 251839\n",
      "Data columns (total 21 columns):\n",
      " #   Column                      Non-Null Count   Dtype  \n",
      "---  ------                      --------------   -----  \n",
      " 0   id                          251840 non-null  int64  \n",
      " 1   status                      251840 non-null  object \n",
      " 2   created_at                  251840 non-null  object \n",
      " 3   cyan_capacity               0 non-null       float64\n",
      " 4   cyan_remaining              0 non-null       float64\n",
      " 5   magenta_capacity            0 non-null       float64\n",
      " 6   magenta_remaining           0 non-null       float64\n",
      " 7   yellow_capacity             0 non-null       float64\n",
      " 8   yellow_remaining            0 non-null       float64\n",
      " 9   black_capacity              0 non-null       float64\n",
      " 10  black_remaining             0 non-null       float64\n",
      " 11  machineId                   251840 non-null  int64  \n",
      " 12  connected_operators         251840 non-null  object \n",
      " 13  varnishLevelsTargetvolume   251840 non-null  float64\n",
      " 14  varnishLevelsTotalvolume    251840 non-null  int64  \n",
      " 15  modules                     251840 non-null  object \n",
      " 16  events                      251840 non-null  object \n",
      " 17  sensors                     0 non-null       float64\n",
      " 18  print_heads                 0 non-null       float64\n",
      " 19  varnishLevelsWeightpercent  0 non-null       float64\n",
      " 20  feeder_counter              0 non-null       float64\n",
      "dtypes: float64(13), int64(3), object(5)\n",
      "memory usage: 40.3+ MB\n"
     ]
    }
   ],
   "source": [
    "# création d'un dataframe à partir du csv de données\n",
    "metrics_df = pd.read_csv(filepath_or_buffer=Path(source_csv)).sort_values(by='created_at')\n",
    "metrics_df.reset_index(level=None, drop=True, inplace=True, col_level=0, col_fill='')\n",
    "metrics_df.info()"
   ]
  },
  {
   "cell_type": "code",
   "execution_count": 5,
   "metadata": {},
   "outputs": [
    {
     "data": {
      "text/html": [
       "<div>\n",
       "<style scoped>\n",
       "    .dataframe tbody tr th:only-of-type {\n",
       "        vertical-align: middle;\n",
       "    }\n",
       "\n",
       "    .dataframe tbody tr th {\n",
       "        vertical-align: top;\n",
       "    }\n",
       "\n",
       "    .dataframe thead th {\n",
       "        text-align: right;\n",
       "    }\n",
       "</style>\n",
       "<table border=\"1\" class=\"dataframe\">\n",
       "  <thead>\n",
       "    <tr style=\"text-align: right;\">\n",
       "      <th></th>\n",
       "      <th>id</th>\n",
       "      <th>status</th>\n",
       "      <th>created_at</th>\n",
       "      <th>connected_operators</th>\n",
       "      <th>varnishLevelsTargetvolume</th>\n",
       "      <th>varnishLevelsTotalvolume</th>\n",
       "      <th>modules</th>\n",
       "      <th>events</th>\n",
       "    </tr>\n",
       "  </thead>\n",
       "  <tbody>\n",
       "    <tr>\n",
       "      <th>0</th>\n",
       "      <td>9698765</td>\n",
       "      <td>WARNING</td>\n",
       "      <td>2022-11-03 08:43:13.960000</td>\n",
       "      <td>[{\"name\": \"User\", \"level\": \"Operator\"}]</td>\n",
       "      <td>1386.302305</td>\n",
       "      <td>18000</td>\n",
       "      <td>[{\"sn\": \"\", \"name\": \"Print Engine 1\", \"type\": ...</td>\n",
       "      <td>[]</td>\n",
       "    </tr>\n",
       "    <tr>\n",
       "      <th>1</th>\n",
       "      <td>9698772</td>\n",
       "      <td>WARNING</td>\n",
       "      <td>2022-11-03 08:43:23.785000</td>\n",
       "      <td>[{\"name\": \"User\", \"level\": \"Operator\"}]</td>\n",
       "      <td>1386.302305</td>\n",
       "      <td>18000</td>\n",
       "      <td>[{\"sn\": \"\", \"name\": \"Print Engine 1\", \"type\": ...</td>\n",
       "      <td>[{\"source\": \"PLC\", \"message\": \" Essuyage en co...</td>\n",
       "    </tr>\n",
       "    <tr>\n",
       "      <th>2</th>\n",
       "      <td>9698779</td>\n",
       "      <td>WARNING</td>\n",
       "      <td>2022-11-03 08:43:33.802000</td>\n",
       "      <td>[{\"name\": \"User\", \"level\": \"Operator\"}]</td>\n",
       "      <td>1386.302305</td>\n",
       "      <td>18000</td>\n",
       "      <td>[{\"sn\": \"\", \"name\": \"Print Engine 1\", \"type\": ...</td>\n",
       "      <td>[]</td>\n",
       "    </tr>\n",
       "  </tbody>\n",
       "</table>\n",
       "</div>"
      ],
      "text/plain": [
       "        id   status                  created_at  \\\n",
       "0  9698765  WARNING  2022-11-03 08:43:13.960000   \n",
       "1  9698772  WARNING  2022-11-03 08:43:23.785000   \n",
       "2  9698779  WARNING  2022-11-03 08:43:33.802000   \n",
       "\n",
       "                       connected_operators  varnishLevelsTargetvolume  \\\n",
       "0  [{\"name\": \"User\", \"level\": \"Operator\"}]                1386.302305   \n",
       "1  [{\"name\": \"User\", \"level\": \"Operator\"}]                1386.302305   \n",
       "2  [{\"name\": \"User\", \"level\": \"Operator\"}]                1386.302305   \n",
       "\n",
       "   varnishLevelsTotalvolume  \\\n",
       "0                     18000   \n",
       "1                     18000   \n",
       "2                     18000   \n",
       "\n",
       "                                             modules  \\\n",
       "0  [{\"sn\": \"\", \"name\": \"Print Engine 1\", \"type\": ...   \n",
       "1  [{\"sn\": \"\", \"name\": \"Print Engine 1\", \"type\": ...   \n",
       "2  [{\"sn\": \"\", \"name\": \"Print Engine 1\", \"type\": ...   \n",
       "\n",
       "                                              events  \n",
       "0                                                 []  \n",
       "1  [{\"source\": \"PLC\", \"message\": \" Essuyage en co...  \n",
       "2                                                 []  "
      ]
     },
     "execution_count": 5,
     "metadata": {},
     "output_type": "execute_result"
    }
   ],
   "source": [
    "# suppression des colonnes ne contenant aucune valeurs\n",
    "metrics_df = metrics_df.dropna(axis=1)\n",
    "# suppression de la colonne machineId\n",
    "metrics_df = metrics_df.drop('machineId', axis=1)\n",
    "# visualisation des 3 premières lignes\n",
    "metrics_df.head(3)"
   ]
  },
  {
   "attachments": {},
   "cell_type": "markdown",
   "metadata": {},
   "source": [
    "### b) Fractionnement des colonnes contenant des listes"
   ]
  },
  {
   "cell_type": "code",
   "execution_count": 6,
   "metadata": {},
   "outputs": [
    {
     "name": "stdout",
     "output_type": "stream",
     "text": [
      "modules : <class 'str'>\n",
      "events : <class 'str'>\n",
      "connected_operators : <class 'str'>\n"
     ]
    }
   ],
   "source": [
    "# on verifie le type des valeurs contenu dans les colonnes de type objet contenant des listes\n",
    "print('modules :', type(metrics_df.modules.loc[0]))\n",
    "print('events :', type(metrics_df.events.loc[0]))\n",
    "print('connected_operators :', type(metrics_df.connected_operators.loc[0]))"
   ]
  },
  {
   "cell_type": "code",
   "execution_count": 7,
   "metadata": {},
   "outputs": [],
   "source": [
    "# fonction retournant le dataframe d'une colonne fractionnée\n",
    "# col=colonne à fractionner\n",
    "# df=dataframe source\n",
    "# data=dict des colonnes du df à conserver dans le df à retourner\n",
    "def convert_col_to_df(col, df, data=None):\n",
    "    \n",
    "    # création du dictionnaire de données vide\n",
    "    if data == None :\n",
    "        data = {}\n",
    "    # ou liste des clés du dictionnaire input\n",
    "    else :\n",
    "        data_keys = list(data.keys())\n",
    "\n",
    "    # on converti le type des valeurs str en list\n",
    "    if not isinstance(df[col].loc[0], list):\n",
    "        df[col] = df[col].apply(lambda x : json.loads(x))\n",
    "\n",
    "    # liste des clés du dictionnaire de la colonne à partir de la première occurence\n",
    "    # on recherche la première occurence non vide et de type list \n",
    "    # pour l'affecter à une variable first\n",
    "    for i in range(0, (len(df[col]))):\n",
    "        value = df[col].loc[i]\n",
    "        if len(value) > 0 and isinstance(value, list):\n",
    "            first = value[0]\n",
    "            print('first : ', type(first), first)\n",
    "            break\n",
    "\n",
    "    # on liste les clés du dictionnaire de l'occurence\n",
    "    col_keys = first.keys()\n",
    "    for ck in col_keys :\n",
    "        data[ck+'_'+col] = []\n",
    "\n",
    "    # on itére dans la serie pour récupérer les valeurs et les stocker dans le dictionnaire data\n",
    "    for i in range(df.index.start, df.index.stop):\n",
    "        # evaluation des valeurs 'str' en 'list'\n",
    "        values = df[col].loc[i]\n",
    "        if isinstance(values, list) and len(values) > 0 :\n",
    "            # ajout des valeurs dans le dictionnaire 'd'\n",
    "            for value in values :\n",
    "                for k in value.keys():\n",
    "                    data[k+'_'+col].append(value.get(k))\n",
    "                for dk in data_keys:\n",
    "                    data[dk].append(df[dk].loc[i])\n",
    "\n",
    "    # re-assignation de la variable df\n",
    "    df = pd.DataFrame(data)\n",
    "\n",
    "    return df"
   ]
  },
  {
   "cell_type": "code",
   "execution_count": 8,
   "metadata": {},
   "outputs": [],
   "source": [
    "# id temoin pour vérifier le fractionnement et la fusion des colonnes\n",
    "check_id = 9698772"
   ]
  },
  {
   "cell_type": "code",
   "execution_count": 9,
   "metadata": {},
   "outputs": [],
   "source": [
    "# # Initialize an empty list to collect all the 'counters' values\n",
    "# counters_values = []\n",
    "\n",
    "# # Define a function to extract 'counters' values from the 'modules' column\n",
    "# def extract_counters_value(row):\n",
    "#     try:\n",
    "#         # Convert the JSON-like string to a Python object (list of dictionaries in this case)\n",
    "#         modules_list = json.loads(row.replace(\"'\", \"\\\"\"))\n",
    "        \n",
    "#         # Loop through the list of dictionaries to find the 'counters' key-value pair\n",
    "#         for module in modules_list:\n",
    "#             if 'counters' in module:\n",
    "#                 for counter in module['counters']:\n",
    "#                     counters_values.append(counter['name'])\n",
    "#     except:\n",
    "#         # Handle any exceptions that may occur during JSON conversion or key access\n",
    "#         pass\n",
    "\n",
    "# # Apply the function to each row in the 'modules' column\n",
    "# metrics_df['modules'].apply(extract_counters_value)\n",
    "\n",
    "# # Find unique 'counters' values\n",
    "# unique_counters_values = set(counters_values)\n",
    "\n",
    "# # Display the unique 'counters' values and their count\n",
    "# unique_counters_values, len(unique_counters_values)"
   ]
  },
  {
   "cell_type": "code",
   "execution_count": 10,
   "metadata": {},
   "outputs": [],
   "source": [
    "check_line = metrics_df[metrics_df.id == check_id]"
   ]
  },
  {
   "cell_type": "code",
   "execution_count": 11,
   "metadata": {},
   "outputs": [
    {
     "name": "stdout",
     "output_type": "stream",
     "text": [
      "######## id 9698772 ######## \n",
      "[[9698772 'WARNING' '2022-11-03 08:43:23.785000'\n",
      "  '[{\"name\": \"User\", \"level\": \"Operator\"}]' 1386.3023053696015 18000\n",
      "  '[{\"sn\": \"\", \"name\": \"Print Engine 1\", \"type\": \"Varnish Printer\", \"counters\": [{\"name\": \"3D Varnish Counter\", \"value\": 308536}], \"generation\": \"\"}, {\"sn\": \"\", \"name\": \"iFoil L\", \"type\": \"iFoil\", \"counters\": [{\"name\": \"Total Pages Counter\", \"value\": 31185}, {\"name\": \"Foiled Pages Counter\", \"value\": 79566}], \"generation\": \"Gen. 2\"}]'\n",
      "  '[{\"source\": \"PLC\", \"message\": \" Essuyage en cours\", \"timestamp\": \"2022-11-03T08:43:16.746Z\", \"criticality\": \"WARNING\", \"identification\": \"407\"}, {\"source\": \"iFoil\", \"message\": \" Essuyage en cours\", \"timestamp\": \"2022-11-03T08:43:16.808Z\", \"criticality\": \"INFO\", \"identification\": \"407\"}]']]\n",
      "######## id 9698772 modules details ######## \n",
      "[{'name': '3D Varnish Counter', 'value': 308536}]\n",
      "[{'name': 'Total Pages Counter', 'value': 31185}, {'name': 'Foiled Pages Counter', 'value': 79566}]\n",
      "######## id 9698772 events details ######## \n",
      "{'source': 'PLC', 'message': ' Essuyage en cours', 'timestamp': '2022-11-03T08:43:16.746Z', 'criticality': 'WARNING', 'identification': '407'}\n",
      "{'source': 'iFoil', 'message': ' Essuyage en cours', 'timestamp': '2022-11-03T08:43:16.808Z', 'criticality': 'INFO', 'identification': '407'}\n"
     ]
    }
   ],
   "source": [
    "# détail de la ligne témoin\n",
    "check_line = metrics_df[metrics_df.id == check_id]\n",
    "print('######## id %d ######## ' %check_id)\n",
    "print(check_line.values)\n",
    "print('######## id %d modules details ######## ' %check_id)\n",
    "print(json.loads(check_line.modules.values[0])[0].get('counters'))\n",
    "print(json.loads(check_line.modules.values[0])[1].get('counters'))\n",
    "print('######## id %d events details ######## ' %check_id)\n",
    "print(json.loads(check_line.events.values[0])[0])\n",
    "print(json.loads(check_line.events.values[0])[1])"
   ]
  },
  {
   "attachments": {},
   "cell_type": "markdown",
   "metadata": {},
   "source": [
    "#### 1) Colonne 'connected_operators'"
   ]
  },
  {
   "cell_type": "code",
   "execution_count": 12,
   "metadata": {},
   "outputs": [
    {
     "name": "stdout",
     "output_type": "stream",
     "text": [
      "first :  <class 'dict'> {'name': 'User', 'level': 'Operator'}\n",
      "<class 'pandas.core.frame.DataFrame'>\n",
      "RangeIndex: 251840 entries, 0 to 251839\n",
      "Data columns (total 3 columns):\n",
      " #   Column                     Non-Null Count   Dtype \n",
      "---  ------                     --------------   ----- \n",
      " 0   id                         251840 non-null  int64 \n",
      " 1   name_connected_operators   251840 non-null  object\n",
      " 2   level_connected_operators  251840 non-null  object\n",
      "dtypes: int64(1), object(2)\n",
      "memory usage: 5.8+ MB\n",
      "None\n"
     ]
    },
    {
     "data": {
      "text/html": [
       "<div>\n",
       "<style scoped>\n",
       "    .dataframe tbody tr th:only-of-type {\n",
       "        vertical-align: middle;\n",
       "    }\n",
       "\n",
       "    .dataframe tbody tr th {\n",
       "        vertical-align: top;\n",
       "    }\n",
       "\n",
       "    .dataframe thead th {\n",
       "        text-align: right;\n",
       "    }\n",
       "</style>\n",
       "<table border=\"1\" class=\"dataframe\">\n",
       "  <thead>\n",
       "    <tr style=\"text-align: right;\">\n",
       "      <th></th>\n",
       "      <th>id</th>\n",
       "      <th>name_connected_operators</th>\n",
       "      <th>level_connected_operators</th>\n",
       "    </tr>\n",
       "  </thead>\n",
       "  <tbody>\n",
       "    <tr>\n",
       "      <th>0</th>\n",
       "      <td>9698765</td>\n",
       "      <td>User</td>\n",
       "      <td>Operator</td>\n",
       "    </tr>\n",
       "    <tr>\n",
       "      <th>1</th>\n",
       "      <td>9698772</td>\n",
       "      <td>User</td>\n",
       "      <td>Operator</td>\n",
       "    </tr>\n",
       "  </tbody>\n",
       "</table>\n",
       "</div>"
      ],
      "text/plain": [
       "        id name_connected_operators level_connected_operators\n",
       "0  9698765                     User                  Operator\n",
       "1  9698772                     User                  Operator"
      ]
     },
     "execution_count": 12,
     "metadata": {},
     "output_type": "execute_result"
    }
   ],
   "source": [
    "# creation d'un dataframe connected_operators (~42s)\n",
    "connected_operators_df = convert_col_to_df('connected_operators', metrics_df, {'id':[]})\n",
    "print(connected_operators_df.info())\n",
    "connected_operators_df.head(2)"
   ]
  },
  {
   "attachments": {},
   "cell_type": "markdown",
   "metadata": {},
   "source": [
    "#### 2) Colonne 'events'"
   ]
  },
  {
   "cell_type": "code",
   "execution_count": 13,
   "metadata": {},
   "outputs": [
    {
     "name": "stdout",
     "output_type": "stream",
     "text": [
      "first :  <class 'dict'> {'source': 'PLC', 'message': ' Essuyage en cours', 'timestamp': '2022-11-03T08:43:16.746Z', 'criticality': 'WARNING', 'identification': '407'}\n",
      "<class 'pandas.core.frame.DataFrame'>\n",
      "RangeIndex: 25728 entries, 0 to 25727\n",
      "Data columns (total 6 columns):\n",
      " #   Column                 Non-Null Count  Dtype \n",
      "---  ------                 --------------  ----- \n",
      " 0   id                     25728 non-null  int64 \n",
      " 1   source_events          25728 non-null  object\n",
      " 2   message_events         25728 non-null  object\n",
      " 3   timestamp_events       25728 non-null  object\n",
      " 4   criticality_events     25728 non-null  object\n",
      " 5   identification_events  25728 non-null  object\n",
      "dtypes: int64(1), object(5)\n",
      "memory usage: 1.2+ MB\n",
      "None\n"
     ]
    },
    {
     "data": {
      "text/html": [
       "<div>\n",
       "<style scoped>\n",
       "    .dataframe tbody tr th:only-of-type {\n",
       "        vertical-align: middle;\n",
       "    }\n",
       "\n",
       "    .dataframe tbody tr th {\n",
       "        vertical-align: top;\n",
       "    }\n",
       "\n",
       "    .dataframe thead th {\n",
       "        text-align: right;\n",
       "    }\n",
       "</style>\n",
       "<table border=\"1\" class=\"dataframe\">\n",
       "  <thead>\n",
       "    <tr style=\"text-align: right;\">\n",
       "      <th></th>\n",
       "      <th>id</th>\n",
       "      <th>source_events</th>\n",
       "      <th>message_events</th>\n",
       "      <th>timestamp_events</th>\n",
       "      <th>criticality_events</th>\n",
       "      <th>identification_events</th>\n",
       "    </tr>\n",
       "  </thead>\n",
       "  <tbody>\n",
       "    <tr>\n",
       "      <th>0</th>\n",
       "      <td>9698772</td>\n",
       "      <td>PLC</td>\n",
       "      <td>Essuyage en cours</td>\n",
       "      <td>2022-11-03T08:43:16.746Z</td>\n",
       "      <td>WARNING</td>\n",
       "      <td>407</td>\n",
       "    </tr>\n",
       "    <tr>\n",
       "      <th>1</th>\n",
       "      <td>9698772</td>\n",
       "      <td>iFoil</td>\n",
       "      <td>Essuyage en cours</td>\n",
       "      <td>2022-11-03T08:43:16.808Z</td>\n",
       "      <td>INFO</td>\n",
       "      <td>407</td>\n",
       "    </tr>\n",
       "  </tbody>\n",
       "</table>\n",
       "</div>"
      ],
      "text/plain": [
       "        id source_events      message_events          timestamp_events  \\\n",
       "0  9698772           PLC   Essuyage en cours  2022-11-03T08:43:16.746Z   \n",
       "1  9698772         iFoil   Essuyage en cours  2022-11-03T08:43:16.808Z   \n",
       "\n",
       "  criticality_events identification_events  \n",
       "0            WARNING                   407  \n",
       "1               INFO                   407  "
      ]
     },
     "execution_count": 13,
     "metadata": {},
     "output_type": "execute_result"
    }
   ],
   "source": [
    "# creation d'un dataframe events (~20s)\n",
    "events_df = convert_col_to_df('events', metrics_df, {'id':[]})\n",
    "print(events_df.info())\n",
    "events_df.head(2)"
   ]
  },
  {
   "attachments": {},
   "cell_type": "markdown",
   "metadata": {},
   "source": [
    "##### Identification"
   ]
  },
  {
   "cell_type": "code",
   "execution_count": 14,
   "metadata": {},
   "outputs": [
    {
     "data": {
      "text/plain": [
       "array(['0', '311', '313', '314', '320', '321', '325', '328', '330', '331',\n",
       "       '332', '333', '334', '343', '344', '345', '346', '350', '352',\n",
       "       '354', '355', '356', '357', '358', '371', '372', '376', '377',\n",
       "       '380', '381', '382', '383', '384', '385', '386', '387', '388',\n",
       "       '389', '391', '405', '406', '407', '408', '416', '417', '418',\n",
       "       '430', '440', '445', '446', '447', '451', '453', '454', '460',\n",
       "       '466', '480', 'Kernel_Error', 'RCB communication error',\n",
       "       'iFoil communication error'], dtype=object)"
      ]
     },
     "execution_count": 14,
     "metadata": {},
     "output_type": "execute_result"
    }
   ],
   "source": [
    "# liste des codes d'identification\n",
    "identification_codes_list = events_df['identification_events'].unique()\n",
    "np.sort(identification_codes_list)"
   ]
  },
  {
   "cell_type": "code",
   "execution_count": 15,
   "metadata": {},
   "outputs": [
    {
     "data": {
      "text/plain": [
       "{'407': ' Essuyage en cours',\n",
       " '358': ' Démarrage machine',\n",
       " '391': ' JV-Ti non prêt : impression impossible',\n",
       " '330': ' En attente',\n",
       " '332': ' Disponible',\n",
       " '376': ' Réception: mode auto non activé',\n",
       " '333': ' Plateau de têtes en mouvement',\n",
       " '334': ' Préchauffage',\n",
       " '331': ' Impression en cours',\n",
       " 'Kernel_Error': 'Cannot find enough search zones on the sheet (0.00%), please check your margins\\n',\n",
       " '352': ' Double feuille détectée E-0352',\n",
       " '377': ' Chargeur: mode auto non activé',\n",
       " '454': ' Bourrage Corona - E0454',\n",
       " '313': ' Ecart nb. feuilles demandées /nb. feuilles sorties',\n",
       " '383': ' Capot UV ouvert E-0383',\n",
       " '354': ' Bourrage : module impression E-0354',\n",
       " '320': ' Porte avant ouverte E-0320',\n",
       " '381': ' Capot après têtes ouvert E-0381',\n",
       " '480': \" Arrêt d'urgence stacker E-0480\",\n",
       " '430': ' Erreur système de dégazage E-0430',\n",
       " '406': ' Purge en cours',\n",
       " '445': \" Erreur plaque d'empreintes E-0445\",\n",
       " '446': ' Erreur moteur tapis impression E-0446',\n",
       " '384': ' Capot sortie sécheur ouvert E-0384',\n",
       " '417': ' Portes margeur ouvertes E-0417',\n",
       " '466': ' Bidon de vernis vide E-466',\n",
       " '453': ' Erreur capteur lift palette C2 E-0453',\n",
       " '344': ' Manque papier',\n",
       " '405': ' Utilisation déconseillée des IRs: vitesse basse E-0405',\n",
       " '356': ' Bourrage : module séchage UV E-0356',\n",
       " '325': ' Erreur de com. tapis impression E-0325',\n",
       " '355': ' Bourrage : module séchage IR E-0355',\n",
       " '357': ' Bourrage : sortie sécheur E-0357',\n",
       " '343': ' Nettoyage tapis en cours',\n",
       " '451': ' Erreur interlock Corona E-0451',\n",
       " '460': ' Défaut communication réception palette E-0460',\n",
       " 'iFoil communication error': 'A communication error has occured with the iFoil at192.168.187.10:502',\n",
       " '311': ' Attente initialisation',\n",
       " '440': ' Défaut remplissage réservoirs E-0440',\n",
       " '408': ' Nettoyage en cours',\n",
       " '382': ' Capot IR ouvert E-0382',\n",
       " '328': ' Porte arrière ouverte E-0328',\n",
       " '447': ' Bidon de déchets plein',\n",
       " 'RCB communication error': 'A communication error has occured between Network card  and  RCB n°1',\n",
       " '321': \" Arrêt d'urgence impression E-0321\",\n",
       " '386': ' Erreur four UV E-0386',\n",
       " '371': ' Démarrrage UV en cours',\n",
       " '350': ' Attente extinction machine',\n",
       " '372': ' Attente démarrage UV',\n",
       " '314': ' Stacker plein',\n",
       " '385': \" Absence d'air comprimée E-0385\",\n",
       " '345': \" Consommable à 80% d'usure\",\n",
       " '416': ' Erreur positionnement plateau E-0416',\n",
       " '387': ' Erreur positionnement plateau E-0387',\n",
       " '389': ' Erreur cateurs verticaux plateau de têtes E-0389',\n",
       " '346': ' Règles de marge en mouvement',\n",
       " '418': ' Erreur surcharge Corona E-0418',\n",
       " '0': '',\n",
       " '380': ' Défaut communication sécheur E-0380',\n",
       " '388': ' Bidon de nettoyant vide E-0388'}"
      ]
     },
     "execution_count": 15,
     "metadata": {},
     "output_type": "execute_result"
    }
   ],
   "source": [
    "# liste des évènements uniques\n",
    "identification_dict = {}\n",
    "c = 1\n",
    "id_list = []\n",
    "for i in range(events_df.index.start, events_df.index.stop):\n",
    "    id = events_df.identification_events.loc[i]\n",
    "    if id not in id_list:\n",
    "        id_list.append(id)\n",
    "        identification_dict[id] = events_df.message_events.loc[i]\n",
    "        c += 1\n",
    "identification_dict"
   ]
  },
  {
   "attachments": {},
   "cell_type": "markdown",
   "metadata": {},
   "source": [
    "##### Source"
   ]
  },
  {
   "cell_type": "code",
   "execution_count": 16,
   "metadata": {},
   "outputs": [
    {
     "data": {
      "text/plain": [
       "array(['Kernel', 'PLC', 'RCB n°1', 'RCB n°2', 'iFoil'], dtype=object)"
      ]
     },
     "execution_count": 16,
     "metadata": {},
     "output_type": "execute_result"
    }
   ],
   "source": [
    "# liste des sources\n",
    "source_list = events_df['source_events'].unique()\n",
    "np.sort(source_list)"
   ]
  },
  {
   "attachments": {},
   "cell_type": "markdown",
   "metadata": {},
   "source": [
    "##### Criticality"
   ]
  },
  {
   "cell_type": "code",
   "execution_count": 17,
   "metadata": {},
   "outputs": [
    {
     "data": {
      "text/plain": [
       "array(['ERROR', 'INFO', 'WARNING'], dtype=object)"
      ]
     },
     "execution_count": 17,
     "metadata": {},
     "output_type": "execute_result"
    }
   ],
   "source": [
    "# liste des sources\n",
    "criticality_list = events_df['criticality_events'].unique()\n",
    "np.sort(criticality_list)"
   ]
  },
  {
   "attachments": {},
   "cell_type": "markdown",
   "metadata": {},
   "source": [
    "##### Events Json dict"
   ]
  },
  {
   "cell_type": "code",
   "execution_count": 18,
   "metadata": {},
   "outputs": [],
   "source": [
    "# on sauvegarde la liste des codes d'identification d'event\n",
    "with open(file=Path(save_json), mode=\"r+\", encoding='utf-8') as jsonFile:\n",
    "    try :\n",
    "        # chargement des données du fichier dans un dictionnaire\n",
    "        data = json.load(jsonFile)\n",
    "        # ajout des données dans le dictionnaire\n",
    "        data['identification'] = identification_dict\n",
    "        data['criticality'] = list(np.sort(criticality_list)),\n",
    "        data['source'] = list(np.sort(source_list))\n",
    "        # définit la position actuelle du fichier à l'offset\n",
    "        jsonFile.seek(0)\n",
    "        # écriture du dicitonnaire dans le fichier\n",
    "        json.dump(data, jsonFile, indent=4, ensure_ascii=False)\n",
    "    except ValueError as e:\n",
    "        print(e)\n",
    "    finally :\n",
    "        # fermeture du fichier\n",
    "        jsonFile.close()"
   ]
  },
  {
   "attachments": {},
   "cell_type": "markdown",
   "metadata": {},
   "source": [
    "#### 3) Colonne 'modules'"
   ]
  },
  {
   "cell_type": "code",
   "execution_count": 19,
   "metadata": {},
   "outputs": [
    {
     "name": "stdout",
     "output_type": "stream",
     "text": [
      "first :  <class 'dict'> {'sn': '', 'name': 'Print Engine 1', 'type': 'Varnish Printer', 'counters': [{'name': '3D Varnish Counter', 'value': 308536}], 'generation': ''}\n",
      "<class 'pandas.core.frame.DataFrame'>\n",
      "RangeIndex: 503680 entries, 0 to 503679\n",
      "Data columns (total 6 columns):\n",
      " #   Column              Non-Null Count   Dtype \n",
      "---  ------              --------------   ----- \n",
      " 0   id                  503680 non-null  int64 \n",
      " 1   sn_modules          503680 non-null  object\n",
      " 2   name_modules        503680 non-null  object\n",
      " 3   type_modules        503680 non-null  object\n",
      " 4   counters_modules    503680 non-null  object\n",
      " 5   generation_modules  503680 non-null  object\n",
      "dtypes: int64(1), object(5)\n",
      "memory usage: 23.1+ MB\n",
      "None\n"
     ]
    },
    {
     "data": {
      "text/html": [
       "<div>\n",
       "<style scoped>\n",
       "    .dataframe tbody tr th:only-of-type {\n",
       "        vertical-align: middle;\n",
       "    }\n",
       "\n",
       "    .dataframe tbody tr th {\n",
       "        vertical-align: top;\n",
       "    }\n",
       "\n",
       "    .dataframe thead th {\n",
       "        text-align: right;\n",
       "    }\n",
       "</style>\n",
       "<table border=\"1\" class=\"dataframe\">\n",
       "  <thead>\n",
       "    <tr style=\"text-align: right;\">\n",
       "      <th></th>\n",
       "      <th>id</th>\n",
       "      <th>sn_modules</th>\n",
       "      <th>name_modules</th>\n",
       "      <th>type_modules</th>\n",
       "      <th>counters_modules</th>\n",
       "      <th>generation_modules</th>\n",
       "    </tr>\n",
       "  </thead>\n",
       "  <tbody>\n",
       "    <tr>\n",
       "      <th>0</th>\n",
       "      <td>9698765</td>\n",
       "      <td></td>\n",
       "      <td>Print Engine 1</td>\n",
       "      <td>Varnish Printer</td>\n",
       "      <td>[{'name': '3D Varnish Counter', 'value': 308536}]</td>\n",
       "      <td></td>\n",
       "    </tr>\n",
       "    <tr>\n",
       "      <th>1</th>\n",
       "      <td>9698765</td>\n",
       "      <td></td>\n",
       "      <td>iFoil L</td>\n",
       "      <td>iFoil</td>\n",
       "      <td>[{'name': 'Total Pages Counter', 'value': 3118...</td>\n",
       "      <td>Gen. 2</td>\n",
       "    </tr>\n",
       "  </tbody>\n",
       "</table>\n",
       "</div>"
      ],
      "text/plain": [
       "        id sn_modules    name_modules     type_modules  \\\n",
       "0  9698765             Print Engine 1  Varnish Printer   \n",
       "1  9698765                    iFoil L            iFoil   \n",
       "\n",
       "                                    counters_modules generation_modules  \n",
       "0  [{'name': '3D Varnish Counter', 'value': 308536}]                     \n",
       "1  [{'name': 'Total Pages Counter', 'value': 3118...             Gen. 2  "
      ]
     },
     "execution_count": 19,
     "metadata": {},
     "output_type": "execute_result"
    }
   ],
   "source": [
    "# creation d'un dataframe modules (~1m15s)\n",
    "modules_df = convert_col_to_df('modules', metrics_df, {'id':[]})\n",
    "# visualisation des données\n",
    "print(modules_df.info())\n",
    "modules_df.head(2)"
   ]
  },
  {
   "attachments": {},
   "cell_type": "markdown",
   "metadata": {},
   "source": [
    "##### Colonne counters"
   ]
  },
  {
   "cell_type": "code",
   "execution_count": 20,
   "metadata": {},
   "outputs": [
    {
     "name": "stdout",
     "output_type": "stream",
     "text": [
      "first :  <class 'dict'> {'name': '3D Varnish Counter', 'value': 308536}\n",
      "<class 'pandas.core.frame.DataFrame'>\n",
      "RangeIndex: 755520 entries, 0 to 755519\n",
      "Data columns (total 4 columns):\n",
      " #   Column                  Non-Null Count   Dtype \n",
      "---  ------                  --------------   ----- \n",
      " 0   type_modules            755520 non-null  object\n",
      " 1   id                      755520 non-null  int64 \n",
      " 2   name_counters_modules   755520 non-null  object\n",
      " 3   value_counters_modules  755520 non-null  int64 \n",
      "dtypes: int64(2), object(2)\n",
      "memory usage: 23.1+ MB\n",
      "None\n"
     ]
    },
    {
     "data": {
      "text/html": [
       "<div>\n",
       "<style scoped>\n",
       "    .dataframe tbody tr th:only-of-type {\n",
       "        vertical-align: middle;\n",
       "    }\n",
       "\n",
       "    .dataframe tbody tr th {\n",
       "        vertical-align: top;\n",
       "    }\n",
       "\n",
       "    .dataframe thead th {\n",
       "        text-align: right;\n",
       "    }\n",
       "</style>\n",
       "<table border=\"1\" class=\"dataframe\">\n",
       "  <thead>\n",
       "    <tr style=\"text-align: right;\">\n",
       "      <th></th>\n",
       "      <th>type_modules</th>\n",
       "      <th>id</th>\n",
       "      <th>name_counters_modules</th>\n",
       "      <th>value_counters_modules</th>\n",
       "    </tr>\n",
       "  </thead>\n",
       "  <tbody>\n",
       "    <tr>\n",
       "      <th>0</th>\n",
       "      <td>Varnish Printer</td>\n",
       "      <td>9698765</td>\n",
       "      <td>3D Varnish Counter</td>\n",
       "      <td>308536</td>\n",
       "    </tr>\n",
       "    <tr>\n",
       "      <th>1</th>\n",
       "      <td>iFoil</td>\n",
       "      <td>9698765</td>\n",
       "      <td>Total Pages Counter</td>\n",
       "      <td>31185</td>\n",
       "    </tr>\n",
       "  </tbody>\n",
       "</table>\n",
       "</div>"
      ],
      "text/plain": [
       "      type_modules       id name_counters_modules  value_counters_modules\n",
       "0  Varnish Printer  9698765    3D Varnish Counter                  308536\n",
       "1            iFoil  9698765   Total Pages Counter                   31185"
      ]
     },
     "execution_count": 20,
     "metadata": {},
     "output_type": "execute_result"
    }
   ],
   "source": [
    "# creation d'un dataframe counters (~2m7s)\n",
    "counters_df = convert_col_to_df('counters_modules', modules_df, {'type_modules':[], 'id': []})\n",
    "# visualisation des données\n",
    "print(counters_df.info())\n",
    "counters_df.head(2)"
   ]
  },
  {
   "cell_type": "code",
   "execution_count": 21,
   "metadata": {},
   "outputs": [
    {
     "data": {
      "text/html": [
       "<div>\n",
       "<style scoped>\n",
       "    .dataframe tbody tr th:only-of-type {\n",
       "        vertical-align: middle;\n",
       "    }\n",
       "\n",
       "    .dataframe tbody tr th {\n",
       "        vertical-align: top;\n",
       "    }\n",
       "\n",
       "    .dataframe thead th {\n",
       "        text-align: right;\n",
       "    }\n",
       "</style>\n",
       "<table border=\"1\" class=\"dataframe\">\n",
       "  <thead>\n",
       "    <tr style=\"text-align: right;\">\n",
       "      <th></th>\n",
       "      <th>type_modules</th>\n",
       "      <th>id</th>\n",
       "      <th>name_counters_modules</th>\n",
       "      <th>value_counters_modules</th>\n",
       "    </tr>\n",
       "  </thead>\n",
       "  <tbody>\n",
       "    <tr>\n",
       "      <th>3</th>\n",
       "      <td>Varnish Printer</td>\n",
       "      <td>9698772</td>\n",
       "      <td>3D Varnish Counter</td>\n",
       "      <td>308536</td>\n",
       "    </tr>\n",
       "    <tr>\n",
       "      <th>4</th>\n",
       "      <td>iFoil</td>\n",
       "      <td>9698772</td>\n",
       "      <td>Total Pages Counter</td>\n",
       "      <td>31185</td>\n",
       "    </tr>\n",
       "    <tr>\n",
       "      <th>5</th>\n",
       "      <td>iFoil</td>\n",
       "      <td>9698772</td>\n",
       "      <td>Foiled Pages Counter</td>\n",
       "      <td>79566</td>\n",
       "    </tr>\n",
       "  </tbody>\n",
       "</table>\n",
       "</div>"
      ],
      "text/plain": [
       "      type_modules       id name_counters_modules  value_counters_modules\n",
       "3  Varnish Printer  9698772    3D Varnish Counter                  308536\n",
       "4            iFoil  9698772   Total Pages Counter                   31185\n",
       "5            iFoil  9698772  Foiled Pages Counter                   79566"
      ]
     },
     "execution_count": 21,
     "metadata": {},
     "output_type": "execute_result"
    }
   ],
   "source": [
    "# verification de l'intégrité des données\n",
    "counters_check_line = counters_df[counters_df.id == check_id]\n",
    "counters_check_line"
   ]
  },
  {
   "attachments": {},
   "cell_type": "markdown",
   "metadata": {},
   "source": [
    "### c) Fusion des dataframes des colonnes fractionnées"
   ]
  },
  {
   "attachments": {},
   "cell_type": "markdown",
   "metadata": {},
   "source": [
    "#### 1) Merge modules et counters"
   ]
  },
  {
   "cell_type": "code",
   "execution_count": 22,
   "metadata": {},
   "outputs": [
    {
     "data": {
      "text/html": [
       "<div>\n",
       "<style scoped>\n",
       "    .dataframe tbody tr th:only-of-type {\n",
       "        vertical-align: middle;\n",
       "    }\n",
       "\n",
       "    .dataframe tbody tr th {\n",
       "        vertical-align: top;\n",
       "    }\n",
       "\n",
       "    .dataframe thead th {\n",
       "        text-align: right;\n",
       "    }\n",
       "</style>\n",
       "<table border=\"1\" class=\"dataframe\">\n",
       "  <thead>\n",
       "    <tr style=\"text-align: right;\">\n",
       "      <th></th>\n",
       "      <th>id</th>\n",
       "      <th>sn_modules</th>\n",
       "      <th>name_modules</th>\n",
       "      <th>type_modules</th>\n",
       "      <th>generation_modules</th>\n",
       "      <th>name_counters_modules</th>\n",
       "      <th>value_counters_modules</th>\n",
       "    </tr>\n",
       "  </thead>\n",
       "  <tbody>\n",
       "    <tr>\n",
       "      <th>3</th>\n",
       "      <td>9698772</td>\n",
       "      <td></td>\n",
       "      <td>Print Engine 1</td>\n",
       "      <td>Varnish Printer</td>\n",
       "      <td></td>\n",
       "      <td>3D Varnish Counter</td>\n",
       "      <td>308536</td>\n",
       "    </tr>\n",
       "    <tr>\n",
       "      <th>4</th>\n",
       "      <td>9698772</td>\n",
       "      <td></td>\n",
       "      <td>iFoil L</td>\n",
       "      <td>iFoil</td>\n",
       "      <td>Gen. 2</td>\n",
       "      <td>Total Pages Counter</td>\n",
       "      <td>31185</td>\n",
       "    </tr>\n",
       "    <tr>\n",
       "      <th>5</th>\n",
       "      <td>9698772</td>\n",
       "      <td></td>\n",
       "      <td>iFoil L</td>\n",
       "      <td>iFoil</td>\n",
       "      <td>Gen. 2</td>\n",
       "      <td>Foiled Pages Counter</td>\n",
       "      <td>79566</td>\n",
       "    </tr>\n",
       "  </tbody>\n",
       "</table>\n",
       "</div>"
      ],
      "text/plain": [
       "        id sn_modules    name_modules     type_modules generation_modules  \\\n",
       "3  9698772             Print Engine 1  Varnish Printer                      \n",
       "4  9698772                    iFoil L            iFoil             Gen. 2   \n",
       "5  9698772                    iFoil L            iFoil             Gen. 2   \n",
       "\n",
       "  name_counters_modules  value_counters_modules  \n",
       "3    3D Varnish Counter                  308536  \n",
       "4   Total Pages Counter                   31185  \n",
       "5  Foiled Pages Counter                   79566  "
      ]
     },
     "execution_count": 22,
     "metadata": {},
     "output_type": "execute_result"
    }
   ],
   "source": [
    "# fusion du df modue et du df counter\n",
    "merge_modules_df = pd.merge(modules_df, counters_df, on=['id','type_modules'])\n",
    "# suppression de la colonne fractionnées\n",
    "merge_modules_df = merge_modules_df.drop(['counters_modules'], axis=1)\n",
    "# verification de l'intégrité des données\n",
    "module_check_line = merge_modules_df[merge_modules_df.id == check_id]\n",
    "module_check_line"
   ]
  },
  {
   "cell_type": "code",
   "execution_count": 23,
   "metadata": {},
   "outputs": [
    {
     "name": "stdout",
     "output_type": "stream",
     "text": [
      "<class 'pandas.core.frame.DataFrame'>\n",
      "Int64Index: 755520 entries, 0 to 755519\n",
      "Data columns (total 7 columns):\n",
      " #   Column                  Non-Null Count   Dtype \n",
      "---  ------                  --------------   ----- \n",
      " 0   id                      755520 non-null  int64 \n",
      " 1   sn_modules              755520 non-null  object\n",
      " 2   name_modules            755520 non-null  object\n",
      " 3   type_modules            755520 non-null  object\n",
      " 4   generation_modules      755520 non-null  object\n",
      " 5   name_counters_modules   755520 non-null  object\n",
      " 6   value_counters_modules  755520 non-null  int64 \n",
      "dtypes: int64(2), object(5)\n",
      "memory usage: 46.1+ MB\n"
     ]
    }
   ],
   "source": [
    "merge_modules_df.info()"
   ]
  },
  {
   "attachments": {},
   "cell_type": "markdown",
   "metadata": {},
   "source": [
    "#### 2) Merge operators"
   ]
  },
  {
   "cell_type": "code",
   "execution_count": 24,
   "metadata": {},
   "outputs": [
    {
     "data": {
      "text/html": [
       "<div>\n",
       "<style scoped>\n",
       "    .dataframe tbody tr th:only-of-type {\n",
       "        vertical-align: middle;\n",
       "    }\n",
       "\n",
       "    .dataframe tbody tr th {\n",
       "        vertical-align: top;\n",
       "    }\n",
       "\n",
       "    .dataframe thead th {\n",
       "        text-align: right;\n",
       "    }\n",
       "</style>\n",
       "<table border=\"1\" class=\"dataframe\">\n",
       "  <thead>\n",
       "    <tr style=\"text-align: right;\">\n",
       "      <th></th>\n",
       "      <th>id</th>\n",
       "      <th>sn_modules</th>\n",
       "      <th>name_modules</th>\n",
       "      <th>type_modules</th>\n",
       "      <th>generation_modules</th>\n",
       "      <th>name_counters_modules</th>\n",
       "      <th>value_counters_modules</th>\n",
       "      <th>name_connected_operators</th>\n",
       "      <th>level_connected_operators</th>\n",
       "    </tr>\n",
       "  </thead>\n",
       "  <tbody>\n",
       "    <tr>\n",
       "      <th>3</th>\n",
       "      <td>9698772</td>\n",
       "      <td></td>\n",
       "      <td>Print Engine 1</td>\n",
       "      <td>Varnish Printer</td>\n",
       "      <td></td>\n",
       "      <td>3D Varnish Counter</td>\n",
       "      <td>308536</td>\n",
       "      <td>User</td>\n",
       "      <td>Operator</td>\n",
       "    </tr>\n",
       "    <tr>\n",
       "      <th>4</th>\n",
       "      <td>9698772</td>\n",
       "      <td></td>\n",
       "      <td>iFoil L</td>\n",
       "      <td>iFoil</td>\n",
       "      <td>Gen. 2</td>\n",
       "      <td>Total Pages Counter</td>\n",
       "      <td>31185</td>\n",
       "      <td>User</td>\n",
       "      <td>Operator</td>\n",
       "    </tr>\n",
       "    <tr>\n",
       "      <th>5</th>\n",
       "      <td>9698772</td>\n",
       "      <td></td>\n",
       "      <td>iFoil L</td>\n",
       "      <td>iFoil</td>\n",
       "      <td>Gen. 2</td>\n",
       "      <td>Foiled Pages Counter</td>\n",
       "      <td>79566</td>\n",
       "      <td>User</td>\n",
       "      <td>Operator</td>\n",
       "    </tr>\n",
       "  </tbody>\n",
       "</table>\n",
       "</div>"
      ],
      "text/plain": [
       "        id sn_modules    name_modules     type_modules generation_modules  \\\n",
       "3  9698772             Print Engine 1  Varnish Printer                      \n",
       "4  9698772                    iFoil L            iFoil             Gen. 2   \n",
       "5  9698772                    iFoil L            iFoil             Gen. 2   \n",
       "\n",
       "  name_counters_modules  value_counters_modules name_connected_operators  \\\n",
       "3    3D Varnish Counter                  308536                     User   \n",
       "4   Total Pages Counter                   31185                     User   \n",
       "5  Foiled Pages Counter                   79566                     User   \n",
       "\n",
       "  level_connected_operators  \n",
       "3                  Operator  \n",
       "4                  Operator  \n",
       "5                  Operator  "
      ]
     },
     "execution_count": 24,
     "metadata": {},
     "output_type": "execute_result"
    }
   ],
   "source": [
    "# on merge avec le df operators en fonction de l'id de message\n",
    "merge_operators_df = pd.merge(merge_modules_df, connected_operators_df, on='id', suffixes=['','_op'])\n",
    "# verification de l'intégrité des données\n",
    "op_check_line = merge_operators_df[merge_operators_df.id == check_id]\n",
    "op_check_line"
   ]
  },
  {
   "attachments": {},
   "cell_type": "markdown",
   "metadata": {},
   "source": [
    "#### 3) Merge events"
   ]
  },
  {
   "cell_type": "code",
   "execution_count": 25,
   "metadata": {},
   "outputs": [
    {
     "data": {
      "text/html": [
       "<div>\n",
       "<style scoped>\n",
       "    .dataframe tbody tr th:only-of-type {\n",
       "        vertical-align: middle;\n",
       "    }\n",
       "\n",
       "    .dataframe tbody tr th {\n",
       "        vertical-align: top;\n",
       "    }\n",
       "\n",
       "    .dataframe thead th {\n",
       "        text-align: right;\n",
       "    }\n",
       "</style>\n",
       "<table border=\"1\" class=\"dataframe\">\n",
       "  <thead>\n",
       "    <tr style=\"text-align: right;\">\n",
       "      <th></th>\n",
       "      <th>id</th>\n",
       "      <th>source_events</th>\n",
       "      <th>message_events</th>\n",
       "      <th>timestamp_events</th>\n",
       "      <th>criticality_events</th>\n",
       "      <th>identification_events</th>\n",
       "      <th>sn_modules</th>\n",
       "      <th>name_modules</th>\n",
       "      <th>type_modules</th>\n",
       "      <th>generation_modules</th>\n",
       "      <th>name_counters_modules</th>\n",
       "      <th>value_counters_modules</th>\n",
       "      <th>name_connected_operators</th>\n",
       "      <th>level_connected_operators</th>\n",
       "    </tr>\n",
       "  </thead>\n",
       "  <tbody>\n",
       "    <tr>\n",
       "      <th>0</th>\n",
       "      <td>9698772</td>\n",
       "      <td>iFoil</td>\n",
       "      <td>Essuyage en cours</td>\n",
       "      <td>2022-11-03T08:43:16.808Z</td>\n",
       "      <td>INFO</td>\n",
       "      <td>407</td>\n",
       "      <td></td>\n",
       "      <td>iFoil L</td>\n",
       "      <td>iFoil</td>\n",
       "      <td>Gen. 2</td>\n",
       "      <td>Total Pages Counter</td>\n",
       "      <td>31185</td>\n",
       "      <td>User</td>\n",
       "      <td>Operator</td>\n",
       "    </tr>\n",
       "    <tr>\n",
       "      <th>1</th>\n",
       "      <td>9698772</td>\n",
       "      <td>iFoil</td>\n",
       "      <td>Essuyage en cours</td>\n",
       "      <td>2022-11-03T08:43:16.808Z</td>\n",
       "      <td>INFO</td>\n",
       "      <td>407</td>\n",
       "      <td></td>\n",
       "      <td>iFoil L</td>\n",
       "      <td>iFoil</td>\n",
       "      <td>Gen. 2</td>\n",
       "      <td>Foiled Pages Counter</td>\n",
       "      <td>79566</td>\n",
       "      <td>User</td>\n",
       "      <td>Operator</td>\n",
       "    </tr>\n",
       "  </tbody>\n",
       "</table>\n",
       "</div>"
      ],
      "text/plain": [
       "        id source_events      message_events          timestamp_events  \\\n",
       "0  9698772         iFoil   Essuyage en cours  2022-11-03T08:43:16.808Z   \n",
       "1  9698772         iFoil   Essuyage en cours  2022-11-03T08:43:16.808Z   \n",
       "\n",
       "  criticality_events identification_events sn_modules name_modules  \\\n",
       "0               INFO                   407                 iFoil L   \n",
       "1               INFO                   407                 iFoil L   \n",
       "\n",
       "  type_modules generation_modules name_counters_modules  \\\n",
       "0        iFoil             Gen. 2   Total Pages Counter   \n",
       "1        iFoil             Gen. 2  Foiled Pages Counter   \n",
       "\n",
       "   value_counters_modules name_connected_operators level_connected_operators  \n",
       "0                   31185                     User                  Operator  \n",
       "1                   79566                     User                  Operator  "
      ]
     },
     "execution_count": 25,
     "metadata": {},
     "output_type": "execute_result"
    }
   ],
   "source": [
    "# on crée un df, à partir du df events, ne contenant que les lignes ayant un évènement de source Ifoil\n",
    "events_ifoil = events_df[events_df.source_events == 'iFoil']\n",
    "# on crée un df, à partir du df merge, ne contenant que les lignes ayant un module de type Ifoil\n",
    "module_ifoil = merge_operators_df[merge_operators_df.type_modules == 'iFoil']\n",
    "# on merge les deux df des lignes Ifoil en focntion de l'id de message\n",
    "merge_ifoil_df = pd.merge(events_ifoil, module_ifoil, how='outer', on='id', suffixes=['_event','_module'])\n",
    "# verification de l'intégrité des données\n",
    "events_check_line = merge_ifoil_df[merge_ifoil_df.id == check_id]\n",
    "events_check_line"
   ]
  },
  {
   "attachments": {},
   "cell_type": "markdown",
   "metadata": {},
   "source": [
    "Comme il y avait 2 counters ('Total Pages Counter' et 'Foiled Pages Counter') pour le module de type 'Ifoil', nous avons bien 2 lignes."
   ]
  },
  {
   "cell_type": "code",
   "execution_count": 26,
   "metadata": {},
   "outputs": [
    {
     "data": {
      "text/html": [
       "<div>\n",
       "<style scoped>\n",
       "    .dataframe tbody tr th:only-of-type {\n",
       "        vertical-align: middle;\n",
       "    }\n",
       "\n",
       "    .dataframe tbody tr th {\n",
       "        vertical-align: top;\n",
       "    }\n",
       "\n",
       "    .dataframe thead th {\n",
       "        text-align: right;\n",
       "    }\n",
       "</style>\n",
       "<table border=\"1\" class=\"dataframe\">\n",
       "  <thead>\n",
       "    <tr style=\"text-align: right;\">\n",
       "      <th></th>\n",
       "      <th>id</th>\n",
       "      <th>source_events</th>\n",
       "      <th>message_events</th>\n",
       "      <th>timestamp_events</th>\n",
       "      <th>criticality_events</th>\n",
       "      <th>identification_events</th>\n",
       "      <th>sn_modules</th>\n",
       "      <th>name_modules</th>\n",
       "      <th>type_modules</th>\n",
       "      <th>generation_modules</th>\n",
       "      <th>name_counters_modules</th>\n",
       "      <th>value_counters_modules</th>\n",
       "      <th>name_connected_operators</th>\n",
       "      <th>level_connected_operators</th>\n",
       "    </tr>\n",
       "  </thead>\n",
       "  <tbody>\n",
       "    <tr>\n",
       "      <th>0</th>\n",
       "      <td>9698772</td>\n",
       "      <td>PLC</td>\n",
       "      <td>Essuyage en cours</td>\n",
       "      <td>2022-11-03T08:43:16.746Z</td>\n",
       "      <td>WARNING</td>\n",
       "      <td>407</td>\n",
       "      <td></td>\n",
       "      <td>Print Engine 1</td>\n",
       "      <td>Varnish Printer</td>\n",
       "      <td></td>\n",
       "      <td>3D Varnish Counter</td>\n",
       "      <td>308536</td>\n",
       "      <td>User</td>\n",
       "      <td>Operator</td>\n",
       "    </tr>\n",
       "  </tbody>\n",
       "</table>\n",
       "</div>"
      ],
      "text/plain": [
       "        id source_events      message_events          timestamp_events  \\\n",
       "0  9698772           PLC   Essuyage en cours  2022-11-03T08:43:16.746Z   \n",
       "\n",
       "  criticality_events identification_events sn_modules    name_modules  \\\n",
       "0            WARNING                   407             Print Engine 1   \n",
       "\n",
       "      type_modules generation_modules name_counters_modules  \\\n",
       "0  Varnish Printer                       3D Varnish Counter   \n",
       "\n",
       "   value_counters_modules name_connected_operators level_connected_operators  \n",
       "0                  308536                     User                  Operator  "
      ]
     },
     "execution_count": 26,
     "metadata": {},
     "output_type": "execute_result"
    }
   ],
   "source": [
    "# on crée un df, à partir du df events, ne contenant que les lignes ayant un évènement de source Ifoil\n",
    "events_no_ifoil = events_df[events_df.source_events != 'iFoil']\n",
    "# on crée un df, à partir du df merge, ne contenant que les lignes ayant un module de type Ifoil\n",
    "module_no_ifoil = merge_operators_df[merge_operators_df.type_modules != 'iFoil']\n",
    "# on merge les deux df des lignes Ifoil en focntion de l'id de message\n",
    "merge_no_ifoil_df = pd.merge(events_no_ifoil, module_no_ifoil, how='outer', on='id', suffixes=['_event','_module'])\n",
    "# verification de l'intégrité des données\n",
    "events_check_line = merge_no_ifoil_df[merge_no_ifoil_df.id == check_id]\n",
    "events_check_line"
   ]
  },
  {
   "attachments": {},
   "cell_type": "markdown",
   "metadata": {},
   "source": [
    "##### Concaténation"
   ]
  },
  {
   "cell_type": "code",
   "execution_count": 27,
   "metadata": {},
   "outputs": [
    {
     "data": {
      "text/html": [
       "<div>\n",
       "<style scoped>\n",
       "    .dataframe tbody tr th:only-of-type {\n",
       "        vertical-align: middle;\n",
       "    }\n",
       "\n",
       "    .dataframe tbody tr th {\n",
       "        vertical-align: top;\n",
       "    }\n",
       "\n",
       "    .dataframe thead th {\n",
       "        text-align: right;\n",
       "    }\n",
       "</style>\n",
       "<table border=\"1\" class=\"dataframe\">\n",
       "  <thead>\n",
       "    <tr style=\"text-align: right;\">\n",
       "      <th></th>\n",
       "      <th>id</th>\n",
       "      <th>source_events</th>\n",
       "      <th>message_events</th>\n",
       "      <th>timestamp_events</th>\n",
       "      <th>criticality_events</th>\n",
       "      <th>identification_events</th>\n",
       "      <th>sn_modules</th>\n",
       "      <th>name_modules</th>\n",
       "      <th>type_modules</th>\n",
       "      <th>generation_modules</th>\n",
       "      <th>name_counters_modules</th>\n",
       "      <th>value_counters_modules</th>\n",
       "      <th>name_connected_operators</th>\n",
       "      <th>level_connected_operators</th>\n",
       "    </tr>\n",
       "  </thead>\n",
       "  <tbody>\n",
       "    <tr>\n",
       "      <th>0</th>\n",
       "      <td>9698772</td>\n",
       "      <td>iFoil</td>\n",
       "      <td>Essuyage en cours</td>\n",
       "      <td>2022-11-03T08:43:16.808Z</td>\n",
       "      <td>INFO</td>\n",
       "      <td>407</td>\n",
       "      <td></td>\n",
       "      <td>iFoil L</td>\n",
       "      <td>iFoil</td>\n",
       "      <td>Gen. 2</td>\n",
       "      <td>Total Pages Counter</td>\n",
       "      <td>31185</td>\n",
       "      <td>User</td>\n",
       "      <td>Operator</td>\n",
       "    </tr>\n",
       "    <tr>\n",
       "      <th>1</th>\n",
       "      <td>9698772</td>\n",
       "      <td>iFoil</td>\n",
       "      <td>Essuyage en cours</td>\n",
       "      <td>2022-11-03T08:43:16.808Z</td>\n",
       "      <td>INFO</td>\n",
       "      <td>407</td>\n",
       "      <td></td>\n",
       "      <td>iFoil L</td>\n",
       "      <td>iFoil</td>\n",
       "      <td>Gen. 2</td>\n",
       "      <td>Foiled Pages Counter</td>\n",
       "      <td>79566</td>\n",
       "      <td>User</td>\n",
       "      <td>Operator</td>\n",
       "    </tr>\n",
       "    <tr>\n",
       "      <th>0</th>\n",
       "      <td>9698772</td>\n",
       "      <td>PLC</td>\n",
       "      <td>Essuyage en cours</td>\n",
       "      <td>2022-11-03T08:43:16.746Z</td>\n",
       "      <td>WARNING</td>\n",
       "      <td>407</td>\n",
       "      <td></td>\n",
       "      <td>Print Engine 1</td>\n",
       "      <td>Varnish Printer</td>\n",
       "      <td></td>\n",
       "      <td>3D Varnish Counter</td>\n",
       "      <td>308536</td>\n",
       "      <td>User</td>\n",
       "      <td>Operator</td>\n",
       "    </tr>\n",
       "  </tbody>\n",
       "</table>\n",
       "</div>"
      ],
      "text/plain": [
       "        id source_events      message_events          timestamp_events  \\\n",
       "0  9698772         iFoil   Essuyage en cours  2022-11-03T08:43:16.808Z   \n",
       "1  9698772         iFoil   Essuyage en cours  2022-11-03T08:43:16.808Z   \n",
       "0  9698772           PLC   Essuyage en cours  2022-11-03T08:43:16.746Z   \n",
       "\n",
       "  criticality_events identification_events sn_modules    name_modules  \\\n",
       "0               INFO                   407                    iFoil L   \n",
       "1               INFO                   407                    iFoil L   \n",
       "0            WARNING                   407             Print Engine 1   \n",
       "\n",
       "      type_modules generation_modules name_counters_modules  \\\n",
       "0            iFoil             Gen. 2   Total Pages Counter   \n",
       "1            iFoil             Gen. 2  Foiled Pages Counter   \n",
       "0  Varnish Printer                       3D Varnish Counter   \n",
       "\n",
       "   value_counters_modules name_connected_operators level_connected_operators  \n",
       "0                   31185                     User                  Operator  \n",
       "1                   79566                     User                  Operator  \n",
       "0                  308536                     User                  Operator  "
      ]
     },
     "execution_count": 27,
     "metadata": {},
     "output_type": "execute_result"
    }
   ],
   "source": [
    "# on concatene les df ifoi et no_ifoil pour ne perdre aucune valeur\n",
    "concat_events_df = pd.concat([merge_ifoil_df, merge_no_ifoil_df])\n",
    "# verification de l'intégrité des données\n",
    "events_check_line = concat_events_df[concat_events_df.id == check_id]\n",
    "events_check_line"
   ]
  },
  {
   "cell_type": "code",
   "execution_count": 28,
   "metadata": {},
   "outputs": [
    {
     "name": "stdout",
     "output_type": "stream",
     "text": [
      "<class 'pandas.core.frame.DataFrame'>\n",
      "Int64Index: 761371 entries, 0 to 255726\n",
      "Data columns (total 14 columns):\n",
      " #   Column                     Non-Null Count   Dtype \n",
      "---  ------                     --------------   ----- \n",
      " 0   id                         761371 non-null  int64 \n",
      " 1   source_events              30316 non-null   object\n",
      " 2   message_events             30316 non-null   object\n",
      " 3   timestamp_events           30316 non-null   object\n",
      " 4   criticality_events         30316 non-null   object\n",
      " 5   identification_events      30316 non-null   object\n",
      " 6   sn_modules                 761371 non-null  object\n",
      " 7   name_modules               761371 non-null  object\n",
      " 8   type_modules               761371 non-null  object\n",
      " 9   generation_modules         761371 non-null  object\n",
      " 10  name_counters_modules      761371 non-null  object\n",
      " 11  value_counters_modules     761371 non-null  int64 \n",
      " 12  name_connected_operators   761371 non-null  object\n",
      " 13  level_connected_operators  761371 non-null  object\n",
      "dtypes: int64(2), object(12)\n",
      "memory usage: 87.1+ MB\n"
     ]
    }
   ],
   "source": [
    "concat_events_df.info()"
   ]
  },
  {
   "attachments": {},
   "cell_type": "markdown",
   "metadata": {},
   "source": [
    "#### 4) Merge metrics"
   ]
  },
  {
   "cell_type": "code",
   "execution_count": 29,
   "metadata": {},
   "outputs": [
    {
     "data": {
      "text/html": [
       "<div>\n",
       "<style scoped>\n",
       "    .dataframe tbody tr th:only-of-type {\n",
       "        vertical-align: middle;\n",
       "    }\n",
       "\n",
       "    .dataframe tbody tr th {\n",
       "        vertical-align: top;\n",
       "    }\n",
       "\n",
       "    .dataframe thead th {\n",
       "        text-align: right;\n",
       "    }\n",
       "</style>\n",
       "<table border=\"1\" class=\"dataframe\">\n",
       "  <thead>\n",
       "    <tr style=\"text-align: right;\">\n",
       "      <th></th>\n",
       "      <th>id</th>\n",
       "      <th>source_events</th>\n",
       "      <th>message_events</th>\n",
       "      <th>timestamp_events</th>\n",
       "      <th>criticality_events</th>\n",
       "      <th>identification_events</th>\n",
       "      <th>sn_modules</th>\n",
       "      <th>name_modules</th>\n",
       "      <th>type_modules</th>\n",
       "      <th>generation_modules</th>\n",
       "      <th>name_counters_modules</th>\n",
       "      <th>value_counters_modules</th>\n",
       "      <th>name_connected_operators</th>\n",
       "      <th>level_connected_operators</th>\n",
       "      <th>status</th>\n",
       "      <th>created_at</th>\n",
       "      <th>varnishLevelsTargetvolume</th>\n",
       "      <th>varnishLevelsTotalvolume</th>\n",
       "    </tr>\n",
       "  </thead>\n",
       "  <tbody>\n",
       "    <tr>\n",
       "      <th>0</th>\n",
       "      <td>9698772</td>\n",
       "      <td>iFoil</td>\n",
       "      <td>Essuyage en cours</td>\n",
       "      <td>2022-11-03T08:43:16.808Z</td>\n",
       "      <td>INFO</td>\n",
       "      <td>407</td>\n",
       "      <td></td>\n",
       "      <td>iFoil L</td>\n",
       "      <td>iFoil</td>\n",
       "      <td>Gen. 2</td>\n",
       "      <td>Total Pages Counter</td>\n",
       "      <td>31185</td>\n",
       "      <td>User</td>\n",
       "      <td>Operator</td>\n",
       "      <td>WARNING</td>\n",
       "      <td>2022-11-03 08:43:23.785000</td>\n",
       "      <td>1386.302305</td>\n",
       "      <td>18000</td>\n",
       "    </tr>\n",
       "    <tr>\n",
       "      <th>1</th>\n",
       "      <td>9698772</td>\n",
       "      <td>iFoil</td>\n",
       "      <td>Essuyage en cours</td>\n",
       "      <td>2022-11-03T08:43:16.808Z</td>\n",
       "      <td>INFO</td>\n",
       "      <td>407</td>\n",
       "      <td></td>\n",
       "      <td>iFoil L</td>\n",
       "      <td>iFoil</td>\n",
       "      <td>Gen. 2</td>\n",
       "      <td>Foiled Pages Counter</td>\n",
       "      <td>79566</td>\n",
       "      <td>User</td>\n",
       "      <td>Operator</td>\n",
       "      <td>WARNING</td>\n",
       "      <td>2022-11-03 08:43:23.785000</td>\n",
       "      <td>1386.302305</td>\n",
       "      <td>18000</td>\n",
       "    </tr>\n",
       "    <tr>\n",
       "      <th>2</th>\n",
       "      <td>9698772</td>\n",
       "      <td>PLC</td>\n",
       "      <td>Essuyage en cours</td>\n",
       "      <td>2022-11-03T08:43:16.746Z</td>\n",
       "      <td>WARNING</td>\n",
       "      <td>407</td>\n",
       "      <td></td>\n",
       "      <td>Print Engine 1</td>\n",
       "      <td>Varnish Printer</td>\n",
       "      <td></td>\n",
       "      <td>3D Varnish Counter</td>\n",
       "      <td>308536</td>\n",
       "      <td>User</td>\n",
       "      <td>Operator</td>\n",
       "      <td>WARNING</td>\n",
       "      <td>2022-11-03 08:43:23.785000</td>\n",
       "      <td>1386.302305</td>\n",
       "      <td>18000</td>\n",
       "    </tr>\n",
       "  </tbody>\n",
       "</table>\n",
       "</div>"
      ],
      "text/plain": [
       "        id source_events      message_events          timestamp_events  \\\n",
       "0  9698772         iFoil   Essuyage en cours  2022-11-03T08:43:16.808Z   \n",
       "1  9698772         iFoil   Essuyage en cours  2022-11-03T08:43:16.808Z   \n",
       "2  9698772           PLC   Essuyage en cours  2022-11-03T08:43:16.746Z   \n",
       "\n",
       "  criticality_events identification_events sn_modules    name_modules  \\\n",
       "0               INFO                   407                    iFoil L   \n",
       "1               INFO                   407                    iFoil L   \n",
       "2            WARNING                   407             Print Engine 1   \n",
       "\n",
       "      type_modules generation_modules name_counters_modules  \\\n",
       "0            iFoil             Gen. 2   Total Pages Counter   \n",
       "1            iFoil             Gen. 2  Foiled Pages Counter   \n",
       "2  Varnish Printer                       3D Varnish Counter   \n",
       "\n",
       "   value_counters_modules name_connected_operators level_connected_operators  \\\n",
       "0                   31185                     User                  Operator   \n",
       "1                   79566                     User                  Operator   \n",
       "2                  308536                     User                  Operator   \n",
       "\n",
       "    status                  created_at  varnishLevelsTargetvolume  \\\n",
       "0  WARNING  2022-11-03 08:43:23.785000                1386.302305   \n",
       "1  WARNING  2022-11-03 08:43:23.785000                1386.302305   \n",
       "2  WARNING  2022-11-03 08:43:23.785000                1386.302305   \n",
       "\n",
       "   varnishLevelsTotalvolume  \n",
       "0                     18000  \n",
       "1                     18000  \n",
       "2                     18000  "
      ]
     },
     "execution_count": 29,
     "metadata": {},
     "output_type": "execute_result"
    }
   ],
   "source": [
    "# dernier merge de toutes les colonnes\n",
    "merge_metrics_df = pd.merge(concat_events_df, metrics_df, how='outer', on='id', suffixes=['','_metrics'])\n",
    "# suppression des colonnes fractionnées\n",
    "merge_metrics_df = merge_metrics_df.drop(['connected_operators','modules','events'], axis=1)\n",
    "# verification de l'intégrité des données\n",
    "metrics_check_line = merge_metrics_df[merge_metrics_df.id == check_id]\n",
    "metrics_check_line"
   ]
  },
  {
   "cell_type": "code",
   "execution_count": 30,
   "metadata": {},
   "outputs": [
    {
     "name": "stdout",
     "output_type": "stream",
     "text": [
      "<class 'pandas.core.frame.DataFrame'>\n",
      "Int64Index: 761371 entries, 0 to 761370\n",
      "Data columns (total 18 columns):\n",
      " #   Column                     Non-Null Count   Dtype  \n",
      "---  ------                     --------------   -----  \n",
      " 0   id                         761371 non-null  int64  \n",
      " 1   source_events              30316 non-null   object \n",
      " 2   message_events             30316 non-null   object \n",
      " 3   timestamp_events           30316 non-null   object \n",
      " 4   criticality_events         30316 non-null   object \n",
      " 5   identification_events      30316 non-null   object \n",
      " 6   sn_modules                 761371 non-null  object \n",
      " 7   name_modules               761371 non-null  object \n",
      " 8   type_modules               761371 non-null  object \n",
      " 9   generation_modules         761371 non-null  object \n",
      " 10  name_counters_modules      761371 non-null  object \n",
      " 11  value_counters_modules     761371 non-null  int64  \n",
      " 12  name_connected_operators   761371 non-null  object \n",
      " 13  level_connected_operators  761371 non-null  object \n",
      " 14  status                     761371 non-null  object \n",
      " 15  created_at                 761371 non-null  object \n",
      " 16  varnishLevelsTargetvolume  761371 non-null  float64\n",
      " 17  varnishLevelsTotalvolume   761371 non-null  int64  \n",
      "dtypes: float64(1), int64(3), object(14)\n",
      "memory usage: 110.4+ MB\n"
     ]
    }
   ],
   "source": [
    "merge_metrics_df.info()"
   ]
  },
  {
   "attachments": {},
   "cell_type": "markdown",
   "metadata": {},
   "source": [
    "## 2. Outout csv"
   ]
  },
  {
   "cell_type": "code",
   "execution_count": 31,
   "metadata": {},
   "outputs": [],
   "source": [
    "merge_metrics_df.to_csv(path_or_buf=Path(save_csv))"
   ]
  }
 ],
 "metadata": {
  "kernelspec": {
   "display_name": ".venv",
   "language": "python",
   "name": "python3"
  },
  "language_info": {
   "codemirror_mode": {
    "name": "ipython",
    "version": 3
   },
   "file_extension": ".py",
   "mimetype": "text/x-python",
   "name": "python",
   "nbconvert_exporter": "python",
   "pygments_lexer": "ipython3",
   "version": "3.10.11"
  },
  "orig_nbformat": 4,
  "vscode": {
   "interpreter": {
    "hash": "2315c9af7dedaeb0b2bf51504304a927c605b523f04dad98936c50abe500b408"
   }
  }
 },
 "nbformat": 4,
 "nbformat_minor": 2
}
