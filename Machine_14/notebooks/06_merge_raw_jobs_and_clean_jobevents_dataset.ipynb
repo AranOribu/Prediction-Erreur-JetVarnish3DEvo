{
 "cells": [
  {
   "attachments": {},
   "cell_type": "markdown",
   "metadata": {},
   "source": [
    "# 06 - Création du dataset des données de jobs et de job_events fusionnées"
   ]
  },
  {
   "attachments": {},
   "cell_type": "markdown",
   "metadata": {},
   "source": [
    "Ce notebook génère 1 csv :\n",
    "\n",
    "- merge_raw_jobs_and_clean_jobevents_dataset.csv\n",
    "\n",
    "Etapes :\n",
    "\n",
    "- Suppression des colonnes doublon dans les 2 datasets\n",
    "\n",
    "- Fusion des datasets"
   ]
  },
  {
   "attachments": {},
   "cell_type": "markdown",
   "metadata": {},
   "source": [
    "# A. Imports"
   ]
  },
  {
   "attachments": {},
   "cell_type": "markdown",
   "metadata": {},
   "source": [
    "## a) Librairies"
   ]
  },
  {
   "cell_type": "code",
   "execution_count": 2,
   "metadata": {},
   "outputs": [],
   "source": [
    "import os, json\n",
    "import pandas as pd\n",
    "import numpy as np\n",
    "import matplotlib.pyplot as plt"
   ]
  },
  {
   "attachments": {},
   "cell_type": "markdown",
   "metadata": {},
   "source": [
    "## b) Données"
   ]
  },
  {
   "cell_type": "code",
   "execution_count": 3,
   "metadata": {},
   "outputs": [],
   "source": [
    "# source path\n",
    "jobs = '../data/jobs/raw_jobs_dataset.csv'\n",
    "\n",
    "# source path\n",
    "events = '../data/jobs/clean_merge_job_events_dataset.csv'\n",
    "\n",
    "# save target path\n",
    "save_csv = '../data/jobs/merge_raw_jobs_and_clean_jobevents_dataset.csv'"
   ]
  },
  {
   "attachments": {},
   "cell_type": "markdown",
   "metadata": {},
   "source": [
    "# B. Dataframe"
   ]
  },
  {
   "attachments": {},
   "cell_type": "markdown",
   "metadata": {},
   "source": [
    "## a) Création des dataframes jobs et events"
   ]
  },
  {
   "attachments": {},
   "cell_type": "markdown",
   "metadata": {},
   "source": [
    "### 1. jobs"
   ]
  },
  {
   "cell_type": "code",
   "execution_count": 4,
   "metadata": {},
   "outputs": [
    {
     "name": "stdout",
     "output_type": "stream",
     "text": [
      "<class 'pandas.core.frame.DataFrame'>\n",
      "Int64Index: 30399 entries, 0 to 30398\n",
      "Data columns (total 20 columns):\n",
      " #   Column                        Non-Null Count  Dtype  \n",
      "---  ------                        --------------  -----  \n",
      " 0   total_copies                  30399 non-null  int64  \n",
      " 1   started_at                    30399 non-null  object \n",
      " 2   ended_at                      30399 non-null  object \n",
      " 3   speed                         30399 non-null  int64  \n",
      " 4   operator                      30399 non-null  object \n",
      " 5   operator_level                30399 non-null  object \n",
      " 6   paperHeight                   30399 non-null  int64  \n",
      " 7   paperWidth                    30399 non-null  int64  \n",
      " 8   paperName                     30399 non-null  object \n",
      " 9   paperThickness                30399 non-null  int64  \n",
      " 10  id_on_machine                 30399 non-null  int64  \n",
      " 11  total_copies_requested        30399 non-null  int64  \n",
      " 12  uses_ifoil                    30399 non-null  bool   \n",
      " 13  uses_iper                     30399 non-null  bool   \n",
      " 14  scanner_mode                  30399 non-null  int64  \n",
      " 15  iper_bvar_count               30399 non-null  int64  \n",
      " 16  varnishConsumptionVarnish_3d  30399 non-null  float64\n",
      " 17  run                           30399 non-null  int64  \n",
      " 18  total_run                     30399 non-null  int64  \n",
      " 19  copies_per_run                30399 non-null  int64  \n",
      "dtypes: bool(2), float64(1), int64(12), object(5)\n",
      "memory usage: 4.5+ MB\n"
     ]
    }
   ],
   "source": [
    "# création d'un dataframe à partir du csv de données\n",
    "jobs_df = pd.read_csv(jobs, index_col=0)\n",
    "jobs_df.info()"
   ]
  },
  {
   "attachments": {},
   "cell_type": "markdown",
   "metadata": {},
   "source": [
    "### 2. job events"
   ]
  },
  {
   "cell_type": "code",
   "execution_count": 5,
   "metadata": {},
   "outputs": [
    {
     "name": "stdout",
     "output_type": "stream",
     "text": [
      "<class 'pandas.core.frame.DataFrame'>\n",
      "Int64Index: 30399 entries, 0 to 30398\n",
      "Data columns (total 39 columns):\n",
      " #   Column                                                Non-Null Count  Dtype  \n",
      "---  ------                                                --------------  -----  \n",
      " 0   jobId                                                 30399 non-null  int64  \n",
      " 1   timestamp_start                                       30399 non-null  object \n",
      " 2   totalCopies_start                                     30399 non-null  int64  \n",
      " 3   jsonVersion_x                                         10908 non-null  float64\n",
      " 4   LED_iper                                              30399 non-null  int64  \n",
      " 5   bars_iper                                             30399 non-null  object \n",
      " 6   drops_iper                                            30399 non-null  int64  \n",
      " 7   dithering_iper                                        30399 non-null  bool   \n",
      " 8   deadPixelsOffset_iper                                 30399 non-null  int64  \n",
      " 9   level_user                                            30399 non-null  object \n",
      " 10  operator_user                                         30399 non-null  object \n",
      " 11  speed_ifoil                                           30399 non-null  float64\n",
      " 12  enabled_ifoil                                         30399 non-null  bool   \n",
      " 13  optifoil_ifoil                                        30399 non-null  bool   \n",
      " 14  stampAreas_ifoil                                      30399 non-null  object \n",
      " 15  heater1Enabled_ifoil                                  30399 non-null  bool   \n",
      " 16  speedTensionIn_ifoil                                  30399 non-null  float64\n",
      " 17  heater1Temperature_ifoil                              30399 non-null  int64  \n",
      " 18  x_imageLayout_layout                                  30399 non-null  int64  \n",
      " 19  y_imageLayout_layout                                  30399 non-null  int64  \n",
      " 20  name_paperFormat_layout                               30399 non-null  object \n",
      " 21  width_paperFormat_layout                              30399 non-null  float64\n",
      " 22  height_paperFormat_layout                             30399 non-null  float64\n",
      " 23  speed_layout                                          30399 non-null  int64  \n",
      " 24  power_irDryers                                        30399 non-null  int64  \n",
      " 25  power_uvDryers                                        30399 non-null  int64  \n",
      " 26  topMargin_registration_remoteScannerRegistration      30399 non-null  int64  \n",
      " 27  leftMargin_registration_remoteScannerRegistration     30399 non-null  int64  \n",
      " 28  redScore_gridMode_remoteScannerRegistration           30399 non-null  int64  \n",
      " 29  redScore_cropmarksMode_remoteScannerRegistration      30399 non-null  int64  \n",
      " 30  redScore_fullScannerMode_remoteScannerRegistration    30399 non-null  int64  \n",
      " 31  blueScore_fullScannerMode_remoteScannerRegistration   30399 non-null  int64  \n",
      " 32  greenScore_fullScannerMode_remoteScannerRegistration  30399 non-null  int64  \n",
      " 33  mode_remoteScannerRegistration                        30399 non-null  int64  \n",
      " 34  jobState                                              30399 non-null  object \n",
      " 35  timestamp_end                                         30399 non-null  object \n",
      " 36  totalCopies_end                                       30399 non-null  int64  \n",
      " 37  consumption_operatorSideTanks_varnishConsumption      30399 non-null  float64\n",
      " 38  jsonVersion_y                                         10908 non-null  float64\n",
      "dtypes: bool(4), float64(7), int64(20), object(8)\n",
      "memory usage: 8.5+ MB\n"
     ]
    }
   ],
   "source": [
    "# création d'un dataframe à partir du csv de données\n",
    "events_df = pd.read_csv(events, index_col=0)\n",
    "events_df.info()"
   ]
  },
  {
   "attachments": {},
   "cell_type": "markdown",
   "metadata": {},
   "source": [
    "## b) Création d'un dataframe fusionné"
   ]
  },
  {
   "attachments": {},
   "cell_type": "markdown",
   "metadata": {},
   "source": [
    "### 1. Suppression de colonnes"
   ]
  },
  {
   "cell_type": "code",
   "execution_count": 6,
   "metadata": {},
   "outputs": [],
   "source": [
    "# suppression des colonnes avec des valeurs uniques\n",
    "for col in list(jobs_df.columns):\n",
    "    if jobs_df[col].nunique() == 1:\n",
    "        jobs_df.drop(col, axis=1, inplace=True)"
   ]
  },
  {
   "cell_type": "code",
   "execution_count": 7,
   "metadata": {},
   "outputs": [],
   "source": [
    "# suppression des colonnes avec des valeurs uniques\n",
    "for col in list(events_df.columns) :\n",
    "    if events_df[col].nunique() == 1:\n",
    "        events_df.drop(col, axis=1, inplace=True)"
   ]
  },
  {
   "attachments": {},
   "cell_type": "markdown",
   "metadata": {},
   "source": [
    "### 2. Concordance des colonnes entre dataframes"
   ]
  },
  {
   "cell_type": "code",
   "execution_count": 8,
   "metadata": {},
   "outputs": [],
   "source": [
    "# on renomme des colonnes de jobs\n",
    "jobs_df = jobs_df.rename(columns={\n",
    " 'uses_ifoil' : 'ifoil',\n",
    " 'iper_bvar_count': 'bars'\n",
    " })"
   ]
  },
  {
   "cell_type": "code",
   "execution_count": 9,
   "metadata": {},
   "outputs": [],
   "source": [
    "# on renomme des colonnes de events\n",
    "events_df = events_df.rename(columns={\n",
    "    'totalCopies_start':'total_copies_requested',\n",
    "    'LED_iper' : 'LED',\n",
    "    'bars_iper' : 'bars',\n",
    "    'drops_iper': 'drops',\n",
    "    'dithering_iper' : 'dithering',\n",
    "    'deadPixelsOffset_iper' : 'deadPixelsOffset',\n",
    "    'level_user' : 'operator_level',\n",
    "    'operator_user':'operator',\n",
    "    'enabled_ifoil' : 'ifoil',\n",
    "    'x_imageLayout_layout' : 'x_imageLayout',\n",
    "    'y_imageLayout_layout' : 'y_imageLayout',\n",
    "    'name_paperFormat_layout' : 'paperName',\n",
    "    'width_paperFormat_layout' : 'paperWidth',\n",
    "    'height_paperFormat_layout' : 'paperHeight',\n",
    "    'speed_layout' : 'speed',\n",
    "    'topMargin_registration_remoteScannerRegistration' : 'topMargin_remoteScannerRegistration',\n",
    "    'leftMargin_registration_remoteScannerRegistration' : 'leftMargin_remoteScannerRegistration',\n",
    "    'totalCopies_end' : 'total_copies',\n",
    "    'consumption_operatorSideTanks_varnishConsumption' : 'varnishConsumptionVarnish_3d'\n",
    "    })"
   ]
  },
  {
   "cell_type": "code",
   "execution_count": 10,
   "metadata": {},
   "outputs": [
    {
     "data": {
      "text/plain": [
       "False"
      ]
     },
     "execution_count": 10,
     "metadata": {},
     "output_type": "execute_result"
    }
   ],
   "source": [
    "# Comparer les valeurs de la colonne \"bars\" entre les dataframes \"events_df\" et \"jobs_df\"\n",
    "events_df['bars'].isin(jobs_df['bars']).any()"
   ]
  },
  {
   "cell_type": "code",
   "execution_count": 11,
   "metadata": {},
   "outputs": [],
   "source": [
    "# liste des colonnes communes\n",
    "common_cols = [col for col in jobs_df.columns.to_list() if col in events_df.columns.to_list()]"
   ]
  },
  {
   "attachments": {},
   "cell_type": "markdown",
   "metadata": {},
   "source": [
    "### 3. Concordance des valeurs entre colonnes communes"
   ]
  },
  {
   "cell_type": "code",
   "execution_count": 12,
   "metadata": {},
   "outputs": [
    {
     "data": {
      "text/plain": [
       "(30399, 18)"
      ]
     },
     "execution_count": 12,
     "metadata": {},
     "output_type": "execute_result"
    }
   ],
   "source": [
    "jobs_df.shape"
   ]
  },
  {
   "cell_type": "code",
   "execution_count": 13,
   "metadata": {},
   "outputs": [
    {
     "data": {
      "text/plain": [
       "(30399, 37)"
      ]
     },
     "execution_count": 13,
     "metadata": {},
     "output_type": "execute_result"
    }
   ],
   "source": [
    "events_df.shape"
   ]
  },
  {
   "cell_type": "code",
   "execution_count": 14,
   "metadata": {},
   "outputs": [
    {
     "data": {
      "text/plain": [
       "Index(['jobId', 'timestamp_start', 'total_copies_requested', 'LED', 'bars',\n",
       "       'drops', 'dithering', 'deadPixelsOffset', 'operator_level', 'operator',\n",
       "       'speed_ifoil', 'ifoil', 'optifoil_ifoil', 'stampAreas_ifoil',\n",
       "       'heater1Enabled_ifoil', 'speedTensionIn_ifoil',\n",
       "       'heater1Temperature_ifoil', 'x_imageLayout', 'y_imageLayout',\n",
       "       'paperName', 'paperWidth', 'paperHeight', 'speed', 'power_irDryers',\n",
       "       'power_uvDryers', 'topMargin_remoteScannerRegistration',\n",
       "       'leftMargin_remoteScannerRegistration',\n",
       "       'redScore_gridMode_remoteScannerRegistration',\n",
       "       'redScore_cropmarksMode_remoteScannerRegistration',\n",
       "       'redScore_fullScannerMode_remoteScannerRegistration',\n",
       "       'blueScore_fullScannerMode_remoteScannerRegistration',\n",
       "       'greenScore_fullScannerMode_remoteScannerRegistration',\n",
       "       'mode_remoteScannerRegistration', 'jobState', 'timestamp_end',\n",
       "       'total_copies', 'varnishConsumptionVarnish_3d'],\n",
       "      dtype='object')"
      ]
     },
     "execution_count": 14,
     "metadata": {},
     "output_type": "execute_result"
    }
   ],
   "source": [
    "events_df.columns"
   ]
  },
  {
   "cell_type": "code",
   "execution_count": 13,
   "metadata": {},
   "outputs": [
    {
     "data": {
      "text/html": [
       "<div>\n",
       "<style scoped>\n",
       "    .dataframe tbody tr th:only-of-type {\n",
       "        vertical-align: middle;\n",
       "    }\n",
       "\n",
       "    .dataframe tbody tr th {\n",
       "        vertical-align: top;\n",
       "    }\n",
       "\n",
       "    .dataframe thead th {\n",
       "        text-align: right;\n",
       "    }\n",
       "</style>\n",
       "<table border=\"1\" class=\"dataframe\">\n",
       "  <thead>\n",
       "    <tr style=\"text-align: right;\">\n",
       "      <th></th>\n",
       "      <th>total_copies</th>\n",
       "      <th>started_at</th>\n",
       "      <th>ended_at</th>\n",
       "      <th>speed</th>\n",
       "      <th>operator</th>\n",
       "      <th>operator_level</th>\n",
       "      <th>paperHeight</th>\n",
       "      <th>paperWidth</th>\n",
       "      <th>paperName</th>\n",
       "      <th>id_on_machine</th>\n",
       "      <th>total_copies_requested</th>\n",
       "      <th>ifoil</th>\n",
       "      <th>scanner_mode</th>\n",
       "      <th>bars</th>\n",
       "      <th>varnishConsumptionVarnish_3d</th>\n",
       "      <th>run</th>\n",
       "      <th>total_run</th>\n",
       "      <th>copies_per_run</th>\n",
       "    </tr>\n",
       "  </thead>\n",
       "  <tbody>\n",
       "    <tr>\n",
       "      <th>0</th>\n",
       "      <td>0</td>\n",
       "      <td>2021-06-18 09:22:46.866000+00:00</td>\n",
       "      <td>2021-06-18 09:22:46.866000+00:00</td>\n",
       "      <td>418</td>\n",
       "      <td>Distributor</td>\n",
       "      <td>Distributor</td>\n",
       "      <td>520</td>\n",
       "      <td>740</td>\n",
       "      <td>UNDEFINED</td>\n",
       "      <td>1624008166</td>\n",
       "      <td>3</td>\n",
       "      <td>False</td>\n",
       "      <td>0</td>\n",
       "      <td>0</td>\n",
       "      <td>0.0</td>\n",
       "      <td>0</td>\n",
       "      <td>0</td>\n",
       "      <td>0</td>\n",
       "    </tr>\n",
       "    <tr>\n",
       "      <th>1</th>\n",
       "      <td>3</td>\n",
       "      <td>2021-06-18 10:08:13.716000+00:00</td>\n",
       "      <td>2021-06-18 10:10:22.257000+00:00</td>\n",
       "      <td>313</td>\n",
       "      <td>Micka</td>\n",
       "      <td>Operator</td>\n",
       "      <td>740</td>\n",
       "      <td>520</td>\n",
       "      <td>UNDEFINED</td>\n",
       "      <td>1624010893</td>\n",
       "      <td>100</td>\n",
       "      <td>False</td>\n",
       "      <td>0</td>\n",
       "      <td>0</td>\n",
       "      <td>0.0</td>\n",
       "      <td>0</td>\n",
       "      <td>0</td>\n",
       "      <td>0</td>\n",
       "    </tr>\n",
       "    <tr>\n",
       "      <th>2</th>\n",
       "      <td>70</td>\n",
       "      <td>2021-06-18 10:11:52.165000+00:00</td>\n",
       "      <td>2021-06-18 10:18:20.294000+00:00</td>\n",
       "      <td>313</td>\n",
       "      <td>Micka</td>\n",
       "      <td>Operator</td>\n",
       "      <td>740</td>\n",
       "      <td>520</td>\n",
       "      <td>UNDEFINED</td>\n",
       "      <td>1624011111</td>\n",
       "      <td>100</td>\n",
       "      <td>False</td>\n",
       "      <td>0</td>\n",
       "      <td>0</td>\n",
       "      <td>0.0</td>\n",
       "      <td>0</td>\n",
       "      <td>0</td>\n",
       "      <td>0</td>\n",
       "    </tr>\n",
       "    <tr>\n",
       "      <th>3</th>\n",
       "      <td>0</td>\n",
       "      <td>2021-06-18 10:30:23.049000+00:00</td>\n",
       "      <td>2021-06-18 10:30:23.049000+00:00</td>\n",
       "      <td>700</td>\n",
       "      <td>Micka</td>\n",
       "      <td>Operator</td>\n",
       "      <td>450</td>\n",
       "      <td>320</td>\n",
       "      <td>UNDEFINED</td>\n",
       "      <td>1624012222</td>\n",
       "      <td>50</td>\n",
       "      <td>False</td>\n",
       "      <td>0</td>\n",
       "      <td>0</td>\n",
       "      <td>0.0</td>\n",
       "      <td>0</td>\n",
       "      <td>0</td>\n",
       "      <td>0</td>\n",
       "    </tr>\n",
       "    <tr>\n",
       "      <th>4</th>\n",
       "      <td>0</td>\n",
       "      <td>2021-06-18 12:35:11.864000+00:00</td>\n",
       "      <td>2021-06-18 12:35:11.864000+00:00</td>\n",
       "      <td>700</td>\n",
       "      <td>Viktor</td>\n",
       "      <td>Operator</td>\n",
       "      <td>450</td>\n",
       "      <td>320</td>\n",
       "      <td>UNDEFINED</td>\n",
       "      <td>1624019711</td>\n",
       "      <td>1</td>\n",
       "      <td>False</td>\n",
       "      <td>0</td>\n",
       "      <td>0</td>\n",
       "      <td>0.0</td>\n",
       "      <td>0</td>\n",
       "      <td>0</td>\n",
       "      <td>0</td>\n",
       "    </tr>\n",
       "  </tbody>\n",
       "</table>\n",
       "</div>"
      ],
      "text/plain": [
       "   total_copies                        started_at  \\\n",
       "0             0  2021-06-18 09:22:46.866000+00:00   \n",
       "1             3  2021-06-18 10:08:13.716000+00:00   \n",
       "2            70  2021-06-18 10:11:52.165000+00:00   \n",
       "3             0  2021-06-18 10:30:23.049000+00:00   \n",
       "4             0  2021-06-18 12:35:11.864000+00:00   \n",
       "\n",
       "                           ended_at  speed     operator operator_level  \\\n",
       "0  2021-06-18 09:22:46.866000+00:00    418  Distributor    Distributor   \n",
       "1  2021-06-18 10:10:22.257000+00:00    313        Micka       Operator   \n",
       "2  2021-06-18 10:18:20.294000+00:00    313        Micka       Operator   \n",
       "3  2021-06-18 10:30:23.049000+00:00    700        Micka       Operator   \n",
       "4  2021-06-18 12:35:11.864000+00:00    700       Viktor       Operator   \n",
       "\n",
       "   paperHeight  paperWidth  paperName  id_on_machine  total_copies_requested  \\\n",
       "0          520         740  UNDEFINED     1624008166                       3   \n",
       "1          740         520  UNDEFINED     1624010893                     100   \n",
       "2          740         520  UNDEFINED     1624011111                     100   \n",
       "3          450         320  UNDEFINED     1624012222                      50   \n",
       "4          450         320  UNDEFINED     1624019711                       1   \n",
       "\n",
       "   ifoil  scanner_mode  bars  varnishConsumptionVarnish_3d  run  total_run  \\\n",
       "0  False             0     0                           0.0    0          0   \n",
       "1  False             0     0                           0.0    0          0   \n",
       "2  False             0     0                           0.0    0          0   \n",
       "3  False             0     0                           0.0    0          0   \n",
       "4  False             0     0                           0.0    0          0   \n",
       "\n",
       "   copies_per_run  \n",
       "0               0  \n",
       "1               0  \n",
       "2               0  \n",
       "3               0  \n",
       "4               0  "
      ]
     },
     "execution_count": 13,
     "metadata": {},
     "output_type": "execute_result"
    }
   ],
   "source": [
    "jobs_df.head()"
   ]
  },
  {
   "cell_type": "code",
   "execution_count": 14,
   "metadata": {},
   "outputs": [
    {
     "data": {
      "text/html": [
       "<div>\n",
       "<style scoped>\n",
       "    .dataframe tbody tr th:only-of-type {\n",
       "        vertical-align: middle;\n",
       "    }\n",
       "\n",
       "    .dataframe tbody tr th {\n",
       "        vertical-align: top;\n",
       "    }\n",
       "\n",
       "    .dataframe thead th {\n",
       "        text-align: right;\n",
       "    }\n",
       "</style>\n",
       "<table border=\"1\" class=\"dataframe\">\n",
       "  <thead>\n",
       "    <tr style=\"text-align: right;\">\n",
       "      <th></th>\n",
       "      <th>jobId</th>\n",
       "      <th>timestamp_start</th>\n",
       "      <th>total_copies_requested</th>\n",
       "      <th>LED</th>\n",
       "      <th>bars</th>\n",
       "      <th>drops</th>\n",
       "      <th>dithering</th>\n",
       "      <th>deadPixelsOffset</th>\n",
       "      <th>operator_level</th>\n",
       "      <th>operator</th>\n",
       "      <th>...</th>\n",
       "      <th>redScore_gridMode_remoteScannerRegistration</th>\n",
       "      <th>redScore_cropmarksMode_remoteScannerRegistration</th>\n",
       "      <th>redScore_fullScannerMode_remoteScannerRegistration</th>\n",
       "      <th>blueScore_fullScannerMode_remoteScannerRegistration</th>\n",
       "      <th>greenScore_fullScannerMode_remoteScannerRegistration</th>\n",
       "      <th>mode_remoteScannerRegistration</th>\n",
       "      <th>jobState</th>\n",
       "      <th>timestamp_end</th>\n",
       "      <th>total_copies</th>\n",
       "      <th>varnishConsumptionVarnish_3d</th>\n",
       "    </tr>\n",
       "  </thead>\n",
       "  <tbody>\n",
       "    <tr>\n",
       "      <th>0</th>\n",
       "      <td>1624008166</td>\n",
       "      <td>2021-06-18 09:22:46.866189200+00:00</td>\n",
       "      <td>3</td>\n",
       "      <td>10</td>\n",
       "      <td>[1, 2]</td>\n",
       "      <td>3</td>\n",
       "      <td>False</td>\n",
       "      <td>0</td>\n",
       "      <td>Distributor</td>\n",
       "      <td>Distributor</td>\n",
       "      <td>...</td>\n",
       "      <td>1500</td>\n",
       "      <td>1500</td>\n",
       "      <td>1500</td>\n",
       "      <td>16</td>\n",
       "      <td>16</td>\n",
       "      <td>1</td>\n",
       "      <td>UNDEFINED</td>\n",
       "      <td>2021-06-18 09:22:46.866189200+00:00</td>\n",
       "      <td>0</td>\n",
       "      <td>0.000000</td>\n",
       "    </tr>\n",
       "    <tr>\n",
       "      <th>1</th>\n",
       "      <td>1624010893</td>\n",
       "      <td>2021-06-18 10:08:13.716973900+00:00</td>\n",
       "      <td>100</td>\n",
       "      <td>30</td>\n",
       "      <td>[1, 2]</td>\n",
       "      <td>4</td>\n",
       "      <td>False</td>\n",
       "      <td>0</td>\n",
       "      <td>Operator</td>\n",
       "      <td>Micka</td>\n",
       "      <td>...</td>\n",
       "      <td>1500</td>\n",
       "      <td>1500</td>\n",
       "      <td>1500</td>\n",
       "      <td>16</td>\n",
       "      <td>10</td>\n",
       "      <td>1</td>\n",
       "      <td>ERROR</td>\n",
       "      <td>2021-06-18 10:10:22.257077800+00:00</td>\n",
       "      <td>3</td>\n",
       "      <td>1.440239</td>\n",
       "    </tr>\n",
       "    <tr>\n",
       "      <th>2</th>\n",
       "      <td>1624011111</td>\n",
       "      <td>2021-06-18 10:11:52.165952600+00:00</td>\n",
       "      <td>100</td>\n",
       "      <td>30</td>\n",
       "      <td>[1, 2]</td>\n",
       "      <td>4</td>\n",
       "      <td>False</td>\n",
       "      <td>0</td>\n",
       "      <td>Operator</td>\n",
       "      <td>Micka</td>\n",
       "      <td>...</td>\n",
       "      <td>1500</td>\n",
       "      <td>1500</td>\n",
       "      <td>1500</td>\n",
       "      <td>16</td>\n",
       "      <td>10</td>\n",
       "      <td>1</td>\n",
       "      <td>CANCELED</td>\n",
       "      <td>2021-06-18 10:18:20.294592300+00:00</td>\n",
       "      <td>70</td>\n",
       "      <td>33.607494</td>\n",
       "    </tr>\n",
       "    <tr>\n",
       "      <th>3</th>\n",
       "      <td>1624012222</td>\n",
       "      <td>2021-06-18 10:30:23.049649100+00:00</td>\n",
       "      <td>50</td>\n",
       "      <td>10</td>\n",
       "      <td>[2]</td>\n",
       "      <td>1</td>\n",
       "      <td>False</td>\n",
       "      <td>0</td>\n",
       "      <td>Operator</td>\n",
       "      <td>Micka</td>\n",
       "      <td>...</td>\n",
       "      <td>1500</td>\n",
       "      <td>1500</td>\n",
       "      <td>1500</td>\n",
       "      <td>16</td>\n",
       "      <td>10</td>\n",
       "      <td>1</td>\n",
       "      <td>UNDEFINED</td>\n",
       "      <td>2021-06-18 10:30:23.049649100+00:00</td>\n",
       "      <td>0</td>\n",
       "      <td>0.000000</td>\n",
       "    </tr>\n",
       "    <tr>\n",
       "      <th>4</th>\n",
       "      <td>1624019711</td>\n",
       "      <td>2021-06-18 12:35:11.864117300+00:00</td>\n",
       "      <td>1</td>\n",
       "      <td>10</td>\n",
       "      <td>[2]</td>\n",
       "      <td>1</td>\n",
       "      <td>False</td>\n",
       "      <td>0</td>\n",
       "      <td>Operator</td>\n",
       "      <td>Viktor</td>\n",
       "      <td>...</td>\n",
       "      <td>1500</td>\n",
       "      <td>1500</td>\n",
       "      <td>1500</td>\n",
       "      <td>16</td>\n",
       "      <td>16</td>\n",
       "      <td>1</td>\n",
       "      <td>UNDEFINED</td>\n",
       "      <td>2021-06-18 12:35:11.864117300+00:00</td>\n",
       "      <td>0</td>\n",
       "      <td>0.000000</td>\n",
       "    </tr>\n",
       "  </tbody>\n",
       "</table>\n",
       "<p>5 rows × 37 columns</p>\n",
       "</div>"
      ],
      "text/plain": [
       "        jobId                      timestamp_start  total_copies_requested  \\\n",
       "0  1624008166  2021-06-18 09:22:46.866189200+00:00                       3   \n",
       "1  1624010893  2021-06-18 10:08:13.716973900+00:00                     100   \n",
       "2  1624011111  2021-06-18 10:11:52.165952600+00:00                     100   \n",
       "3  1624012222  2021-06-18 10:30:23.049649100+00:00                      50   \n",
       "4  1624019711  2021-06-18 12:35:11.864117300+00:00                       1   \n",
       "\n",
       "   LED    bars  drops  dithering  deadPixelsOffset operator_level  \\\n",
       "0   10  [1, 2]      3      False                 0    Distributor   \n",
       "1   30  [1, 2]      4      False                 0       Operator   \n",
       "2   30  [1, 2]      4      False                 0       Operator   \n",
       "3   10     [2]      1      False                 0       Operator   \n",
       "4   10     [2]      1      False                 0       Operator   \n",
       "\n",
       "      operator  ...  redScore_gridMode_remoteScannerRegistration  \\\n",
       "0  Distributor  ...                                         1500   \n",
       "1        Micka  ...                                         1500   \n",
       "2        Micka  ...                                         1500   \n",
       "3        Micka  ...                                         1500   \n",
       "4       Viktor  ...                                         1500   \n",
       "\n",
       "   redScore_cropmarksMode_remoteScannerRegistration  \\\n",
       "0                                              1500   \n",
       "1                                              1500   \n",
       "2                                              1500   \n",
       "3                                              1500   \n",
       "4                                              1500   \n",
       "\n",
       "   redScore_fullScannerMode_remoteScannerRegistration  \\\n",
       "0                                               1500    \n",
       "1                                               1500    \n",
       "2                                               1500    \n",
       "3                                               1500    \n",
       "4                                               1500    \n",
       "\n",
       "  blueScore_fullScannerMode_remoteScannerRegistration  \\\n",
       "0                                                 16    \n",
       "1                                                 16    \n",
       "2                                                 16    \n",
       "3                                                 16    \n",
       "4                                                 16    \n",
       "\n",
       "   greenScore_fullScannerMode_remoteScannerRegistration  \\\n",
       "0                                                 16      \n",
       "1                                                 10      \n",
       "2                                                 10      \n",
       "3                                                 10      \n",
       "4                                                 16      \n",
       "\n",
       "   mode_remoteScannerRegistration   jobState  \\\n",
       "0                               1  UNDEFINED   \n",
       "1                               1      ERROR   \n",
       "2                               1   CANCELED   \n",
       "3                               1  UNDEFINED   \n",
       "4                               1  UNDEFINED   \n",
       "\n",
       "                         timestamp_end  total_copies  \\\n",
       "0  2021-06-18 09:22:46.866189200+00:00             0   \n",
       "1  2021-06-18 10:10:22.257077800+00:00             3   \n",
       "2  2021-06-18 10:18:20.294592300+00:00            70   \n",
       "3  2021-06-18 10:30:23.049649100+00:00             0   \n",
       "4  2021-06-18 12:35:11.864117300+00:00             0   \n",
       "\n",
       "  varnishConsumptionVarnish_3d  \n",
       "0                     0.000000  \n",
       "1                     1.440239  \n",
       "2                    33.607494  \n",
       "3                     0.000000  \n",
       "4                     0.000000  \n",
       "\n",
       "[5 rows x 37 columns]"
      ]
     },
     "execution_count": 14,
     "metadata": {},
     "output_type": "execute_result"
    }
   ],
   "source": [
    "events_df.head()"
   ]
  },
  {
   "cell_type": "code",
   "execution_count": 15,
   "metadata": {},
   "outputs": [
    {
     "data": {
      "text/plain": [
       "(30399, 37)"
      ]
     },
     "execution_count": 15,
     "metadata": {},
     "output_type": "execute_result"
    }
   ],
   "source": [
    "events_df.shape"
   ]
  },
  {
   "cell_type": "code",
   "execution_count": 16,
   "metadata": {},
   "outputs": [
    {
     "data": {
      "text/plain": [
       "(30399, 18)"
      ]
     },
     "execution_count": 16,
     "metadata": {},
     "output_type": "execute_result"
    }
   ],
   "source": [
    "jobs_df.shape"
   ]
  },
  {
   "cell_type": "code",
   "execution_count": 49,
   "metadata": {},
   "outputs": [
    {
     "data": {
      "text/plain": [
       "['total_copies',\n",
       " 'speed',\n",
       " 'operator',\n",
       " 'operator_level',\n",
       " 'paperName',\n",
       " 'total_copies_requested',\n",
       " 'ifoil']"
      ]
     },
     "execution_count": 49,
     "metadata": {},
     "output_type": "execute_result"
    }
   ],
   "source": [
    "# on liste les colonnes des deux dataframes contenant toutes leurs valeurs identiques\n",
    "col_with_duplicates = []\n",
    "for col in common_cols :\n",
    "    if (events_df[col].values == jobs_df[col].values).all():\n",
    "        col_with_duplicates.append(col)\n",
    "col_with_duplicates"
   ]
  },
  {
   "cell_type": "code",
   "execution_count": 50,
   "metadata": {},
   "outputs": [],
   "source": [
    "# suppression des colonnes de jobs en doublons dans events\n",
    "jobs_df = jobs_df.drop(col_with_duplicates, axis=1)"
   ]
  },
  {
   "attachments": {},
   "cell_type": "markdown",
   "metadata": {},
   "source": [
    "### 4. Fusion des dataframes"
   ]
  },
  {
   "cell_type": "code",
   "execution_count": 51,
   "metadata": {},
   "outputs": [],
   "source": [
    "merge_df = pd.merge(jobs_df, events_df, left_on='id_on_machine', right_on='jobId', suffixes=['_job', '_event'])\n",
    "merge_df = merge_df.drop('id_on_machine', axis=1)"
   ]
  },
  {
   "attachments": {},
   "cell_type": "markdown",
   "metadata": {},
   "source": [
    "### 5. Vérification"
   ]
  },
  {
   "cell_type": "code",
   "execution_count": 52,
   "metadata": {},
   "outputs": [
    {
     "data": {
      "text/plain": [
       "False"
      ]
     },
     "execution_count": 52,
     "metadata": {},
     "output_type": "execute_result"
    }
   ],
   "source": [
    "# on verifie que les jobId sont uniques\n",
    "merge_df.jobId.duplicated().any()"
   ]
  },
  {
   "cell_type": "code",
   "execution_count": 53,
   "metadata": {},
   "outputs": [],
   "source": [
    "# id temoin\n",
    "check_jobid = 1624008166\n",
    "# détail de la ligne témoin dans chaque dataset\n",
    "jobs_check_line = jobs_df[jobs_df.id_on_machine == check_jobid]\n",
    "events_check_line = events_df[events_df.jobId == check_jobid]\n",
    "merge_check_line = merge_df[merge_df.jobId == check_jobid]"
   ]
  },
  {
   "cell_type": "code",
   "execution_count": 54,
   "metadata": {},
   "outputs": [
    {
     "data": {
      "text/html": [
       "<div>\n",
       "<style scoped>\n",
       "    .dataframe tbody tr th:only-of-type {\n",
       "        vertical-align: middle;\n",
       "    }\n",
       "\n",
       "    .dataframe tbody tr th {\n",
       "        vertical-align: top;\n",
       "    }\n",
       "\n",
       "    .dataframe thead th {\n",
       "        text-align: right;\n",
       "    }\n",
       "</style>\n",
       "<table border=\"1\" class=\"dataframe\">\n",
       "  <thead>\n",
       "    <tr style=\"text-align: right;\">\n",
       "      <th></th>\n",
       "      <th>started_at</th>\n",
       "      <th>ended_at</th>\n",
       "      <th>paperHeight</th>\n",
       "      <th>paperWidth</th>\n",
       "      <th>id_on_machine</th>\n",
       "      <th>scanner_mode</th>\n",
       "      <th>bars</th>\n",
       "      <th>varnishConsumptionVarnish_3d</th>\n",
       "      <th>run</th>\n",
       "      <th>total_run</th>\n",
       "      <th>copies_per_run</th>\n",
       "    </tr>\n",
       "  </thead>\n",
       "  <tbody>\n",
       "    <tr>\n",
       "      <th>0</th>\n",
       "      <td>2021-06-18 09:22:46.866000+00:00</td>\n",
       "      <td>2021-06-18 09:22:46.866000+00:00</td>\n",
       "      <td>520</td>\n",
       "      <td>740</td>\n",
       "      <td>1624008166</td>\n",
       "      <td>0</td>\n",
       "      <td>0</td>\n",
       "      <td>0.0</td>\n",
       "      <td>0</td>\n",
       "      <td>0</td>\n",
       "      <td>0</td>\n",
       "    </tr>\n",
       "  </tbody>\n",
       "</table>\n",
       "</div>"
      ],
      "text/plain": [
       "                         started_at                          ended_at  \\\n",
       "0  2021-06-18 09:22:46.866000+00:00  2021-06-18 09:22:46.866000+00:00   \n",
       "\n",
       "   paperHeight  paperWidth  id_on_machine  scanner_mode  bars  \\\n",
       "0          520         740     1624008166             0     0   \n",
       "\n",
       "   varnishConsumptionVarnish_3d  run  total_run  copies_per_run  \n",
       "0                           0.0    0          0               0  "
      ]
     },
     "execution_count": 54,
     "metadata": {},
     "output_type": "execute_result"
    }
   ],
   "source": [
    "jobs_check_line"
   ]
  },
  {
   "cell_type": "code",
   "execution_count": 55,
   "metadata": {},
   "outputs": [
    {
     "data": {
      "text/html": [
       "<div>\n",
       "<style scoped>\n",
       "    .dataframe tbody tr th:only-of-type {\n",
       "        vertical-align: middle;\n",
       "    }\n",
       "\n",
       "    .dataframe tbody tr th {\n",
       "        vertical-align: top;\n",
       "    }\n",
       "\n",
       "    .dataframe thead th {\n",
       "        text-align: right;\n",
       "    }\n",
       "</style>\n",
       "<table border=\"1\" class=\"dataframe\">\n",
       "  <thead>\n",
       "    <tr style=\"text-align: right;\">\n",
       "      <th></th>\n",
       "      <th>jobId</th>\n",
       "      <th>timestamp_start</th>\n",
       "      <th>total_copies_requested</th>\n",
       "      <th>LED</th>\n",
       "      <th>bars</th>\n",
       "      <th>drops</th>\n",
       "      <th>dithering</th>\n",
       "      <th>deadPixelsOffset</th>\n",
       "      <th>operator_level</th>\n",
       "      <th>operator</th>\n",
       "      <th>...</th>\n",
       "      <th>redScore_gridMode_remoteScannerRegistration</th>\n",
       "      <th>redScore_cropmarksMode_remoteScannerRegistration</th>\n",
       "      <th>redScore_fullScannerMode_remoteScannerRegistration</th>\n",
       "      <th>blueScore_fullScannerMode_remoteScannerRegistration</th>\n",
       "      <th>greenScore_fullScannerMode_remoteScannerRegistration</th>\n",
       "      <th>mode_remoteScannerRegistration</th>\n",
       "      <th>jobState</th>\n",
       "      <th>timestamp_end</th>\n",
       "      <th>total_copies</th>\n",
       "      <th>varnishConsumptionVarnish_3d</th>\n",
       "    </tr>\n",
       "  </thead>\n",
       "  <tbody>\n",
       "    <tr>\n",
       "      <th>0</th>\n",
       "      <td>1624008166</td>\n",
       "      <td>2021-06-18 09:22:46.866189200+00:00</td>\n",
       "      <td>3</td>\n",
       "      <td>10</td>\n",
       "      <td>[1, 2]</td>\n",
       "      <td>3</td>\n",
       "      <td>False</td>\n",
       "      <td>0</td>\n",
       "      <td>Distributor</td>\n",
       "      <td>Distributor</td>\n",
       "      <td>...</td>\n",
       "      <td>1500</td>\n",
       "      <td>1500</td>\n",
       "      <td>1500</td>\n",
       "      <td>16</td>\n",
       "      <td>16</td>\n",
       "      <td>1</td>\n",
       "      <td>UNDEFINED</td>\n",
       "      <td>2021-06-18 09:22:46.866189200+00:00</td>\n",
       "      <td>0</td>\n",
       "      <td>0.0</td>\n",
       "    </tr>\n",
       "  </tbody>\n",
       "</table>\n",
       "<p>1 rows × 37 columns</p>\n",
       "</div>"
      ],
      "text/plain": [
       "        jobId                      timestamp_start  total_copies_requested  \\\n",
       "0  1624008166  2021-06-18 09:22:46.866189200+00:00                       3   \n",
       "\n",
       "   LED    bars  drops  dithering  deadPixelsOffset operator_level  \\\n",
       "0   10  [1, 2]      3      False                 0    Distributor   \n",
       "\n",
       "      operator  ...  redScore_gridMode_remoteScannerRegistration  \\\n",
       "0  Distributor  ...                                         1500   \n",
       "\n",
       "   redScore_cropmarksMode_remoteScannerRegistration  \\\n",
       "0                                              1500   \n",
       "\n",
       "   redScore_fullScannerMode_remoteScannerRegistration  \\\n",
       "0                                               1500    \n",
       "\n",
       "  blueScore_fullScannerMode_remoteScannerRegistration  \\\n",
       "0                                                 16    \n",
       "\n",
       "   greenScore_fullScannerMode_remoteScannerRegistration  \\\n",
       "0                                                 16      \n",
       "\n",
       "   mode_remoteScannerRegistration   jobState  \\\n",
       "0                               1  UNDEFINED   \n",
       "\n",
       "                         timestamp_end  total_copies  \\\n",
       "0  2021-06-18 09:22:46.866189200+00:00             0   \n",
       "\n",
       "  varnishConsumptionVarnish_3d  \n",
       "0                          0.0  \n",
       "\n",
       "[1 rows x 37 columns]"
      ]
     },
     "execution_count": 55,
     "metadata": {},
     "output_type": "execute_result"
    }
   ],
   "source": [
    "events_check_line"
   ]
  },
  {
   "cell_type": "code",
   "execution_count": 56,
   "metadata": {},
   "outputs": [
    {
     "data": {
      "text/html": [
       "<div>\n",
       "<style scoped>\n",
       "    .dataframe tbody tr th:only-of-type {\n",
       "        vertical-align: middle;\n",
       "    }\n",
       "\n",
       "    .dataframe tbody tr th {\n",
       "        vertical-align: top;\n",
       "    }\n",
       "\n",
       "    .dataframe thead th {\n",
       "        text-align: right;\n",
       "    }\n",
       "</style>\n",
       "<table border=\"1\" class=\"dataframe\">\n",
       "  <thead>\n",
       "    <tr style=\"text-align: right;\">\n",
       "      <th></th>\n",
       "      <th>started_at</th>\n",
       "      <th>ended_at</th>\n",
       "      <th>paperHeight_job</th>\n",
       "      <th>paperWidth_job</th>\n",
       "      <th>scanner_mode</th>\n",
       "      <th>bars_job</th>\n",
       "      <th>varnishConsumptionVarnish_3d_job</th>\n",
       "      <th>run</th>\n",
       "      <th>total_run</th>\n",
       "      <th>copies_per_run</th>\n",
       "      <th>...</th>\n",
       "      <th>redScore_gridMode_remoteScannerRegistration</th>\n",
       "      <th>redScore_cropmarksMode_remoteScannerRegistration</th>\n",
       "      <th>redScore_fullScannerMode_remoteScannerRegistration</th>\n",
       "      <th>blueScore_fullScannerMode_remoteScannerRegistration</th>\n",
       "      <th>greenScore_fullScannerMode_remoteScannerRegistration</th>\n",
       "      <th>mode_remoteScannerRegistration</th>\n",
       "      <th>jobState</th>\n",
       "      <th>timestamp_end</th>\n",
       "      <th>total_copies</th>\n",
       "      <th>varnishConsumptionVarnish_3d_event</th>\n",
       "    </tr>\n",
       "  </thead>\n",
       "  <tbody>\n",
       "    <tr>\n",
       "      <th>0</th>\n",
       "      <td>2021-06-18 09:22:46.866000+00:00</td>\n",
       "      <td>2021-06-18 09:22:46.866000+00:00</td>\n",
       "      <td>520</td>\n",
       "      <td>740</td>\n",
       "      <td>0</td>\n",
       "      <td>0</td>\n",
       "      <td>0.0</td>\n",
       "      <td>0</td>\n",
       "      <td>0</td>\n",
       "      <td>0</td>\n",
       "      <td>...</td>\n",
       "      <td>1500</td>\n",
       "      <td>1500</td>\n",
       "      <td>1500</td>\n",
       "      <td>16</td>\n",
       "      <td>16</td>\n",
       "      <td>1</td>\n",
       "      <td>UNDEFINED</td>\n",
       "      <td>2021-06-18 09:22:46.866189200+00:00</td>\n",
       "      <td>0</td>\n",
       "      <td>0.0</td>\n",
       "    </tr>\n",
       "  </tbody>\n",
       "</table>\n",
       "<p>1 rows × 47 columns</p>\n",
       "</div>"
      ],
      "text/plain": [
       "                         started_at                          ended_at  \\\n",
       "0  2021-06-18 09:22:46.866000+00:00  2021-06-18 09:22:46.866000+00:00   \n",
       "\n",
       "   paperHeight_job  paperWidth_job  scanner_mode  bars_job  \\\n",
       "0              520             740             0         0   \n",
       "\n",
       "   varnishConsumptionVarnish_3d_job  run  total_run  copies_per_run  ...  \\\n",
       "0                               0.0    0          0               0  ...   \n",
       "\n",
       "   redScore_gridMode_remoteScannerRegistration  \\\n",
       "0                                         1500   \n",
       "\n",
       "  redScore_cropmarksMode_remoteScannerRegistration  \\\n",
       "0                                             1500   \n",
       "\n",
       "   redScore_fullScannerMode_remoteScannerRegistration  \\\n",
       "0                                               1500    \n",
       "\n",
       "   blueScore_fullScannerMode_remoteScannerRegistration  \\\n",
       "0                                                 16     \n",
       "\n",
       "  greenScore_fullScannerMode_remoteScannerRegistration  \\\n",
       "0                                                 16     \n",
       "\n",
       "   mode_remoteScannerRegistration   jobState  \\\n",
       "0                               1  UNDEFINED   \n",
       "\n",
       "                         timestamp_end total_copies  \\\n",
       "0  2021-06-18 09:22:46.866189200+00:00            0   \n",
       "\n",
       "  varnishConsumptionVarnish_3d_event  \n",
       "0                                0.0  \n",
       "\n",
       "[1 rows x 47 columns]"
      ]
     },
     "execution_count": 56,
     "metadata": {},
     "output_type": "execute_result"
    }
   ],
   "source": [
    "merge_check_line"
   ]
  },
  {
   "cell_type": "code",
   "execution_count": 57,
   "metadata": {},
   "outputs": [],
   "source": [
    "# on conserve les colonnes started_at et ended_at\n",
    "for index, row in merge_df.iterrows():\n",
    "    # on verifie que started_at à le datetime le plus petit\n",
    "    if row.timestamp_start < row.started_at :\n",
    "        row.started_at = row.timestamp_start\n",
    "    # on verifie que ended_at à le datetime le plus grand\n",
    "    if row.timestamp_end > row.ended_at :\n",
    "        row.ended_at = row.timestamp_end"
   ]
  },
  {
   "cell_type": "code",
   "execution_count": 58,
   "metadata": {},
   "outputs": [],
   "source": [
    "merge_df = merge_df.drop(['timestamp_start','timestamp_end'], axis=1)"
   ]
  },
  {
   "cell_type": "code",
   "execution_count": 59,
   "metadata": {},
   "outputs": [],
   "source": [
    "# # conversion des colonnes contenant des valeurs de temsps au format datetime\n",
    "# jobs_df['started_at'] = pd.to_datetime(jobs_df['started_at'], utc=True)\n",
    "# jobs_df['ended_at'] = pd.to_datetime(jobs_df['ended_at'], utc=True)\n",
    "# events_df['timestamp_start'] = pd.to_datetime(events_df['timestamp_start'], utc=True)\n",
    "# events_df['timestamp_end'] = pd.to_datetime(events_df['timestamp_end'], utc=True)"
   ]
  },
  {
   "attachments": {},
   "cell_type": "markdown",
   "metadata": {},
   "source": [
    "### 6. Output csv"
   ]
  },
  {
   "cell_type": "code",
   "execution_count": 60,
   "metadata": {},
   "outputs": [],
   "source": [
    "# sauvegarde du dataset en csv\n",
    "merge_df.to_csv(save_csv)"
   ]
  },
  {
   "cell_type": "code",
   "execution_count": 61,
   "metadata": {},
   "outputs": [
    {
     "data": {
      "text/html": [
       "<div>\n",
       "<style scoped>\n",
       "    .dataframe tbody tr th:only-of-type {\n",
       "        vertical-align: middle;\n",
       "    }\n",
       "\n",
       "    .dataframe tbody tr th {\n",
       "        vertical-align: top;\n",
       "    }\n",
       "\n",
       "    .dataframe thead th {\n",
       "        text-align: right;\n",
       "    }\n",
       "</style>\n",
       "<table border=\"1\" class=\"dataframe\">\n",
       "  <thead>\n",
       "    <tr style=\"text-align: right;\">\n",
       "      <th></th>\n",
       "      <th>started_at</th>\n",
       "      <th>ended_at</th>\n",
       "      <th>paperHeight_job</th>\n",
       "      <th>paperWidth_job</th>\n",
       "      <th>scanner_mode</th>\n",
       "      <th>bars_job</th>\n",
       "      <th>varnishConsumptionVarnish_3d_job</th>\n",
       "      <th>run</th>\n",
       "      <th>total_run</th>\n",
       "      <th>copies_per_run</th>\n",
       "      <th>...</th>\n",
       "      <th>leftMargin_remoteScannerRegistration</th>\n",
       "      <th>redScore_gridMode_remoteScannerRegistration</th>\n",
       "      <th>redScore_cropmarksMode_remoteScannerRegistration</th>\n",
       "      <th>redScore_fullScannerMode_remoteScannerRegistration</th>\n",
       "      <th>blueScore_fullScannerMode_remoteScannerRegistration</th>\n",
       "      <th>greenScore_fullScannerMode_remoteScannerRegistration</th>\n",
       "      <th>mode_remoteScannerRegistration</th>\n",
       "      <th>jobState</th>\n",
       "      <th>total_copies</th>\n",
       "      <th>varnishConsumptionVarnish_3d_event</th>\n",
       "    </tr>\n",
       "  </thead>\n",
       "  <tbody>\n",
       "    <tr>\n",
       "      <th>0</th>\n",
       "      <td>2021-06-18 09:22:46.866000+00:00</td>\n",
       "      <td>2021-06-18 09:22:46.866000+00:00</td>\n",
       "      <td>520</td>\n",
       "      <td>740</td>\n",
       "      <td>0</td>\n",
       "      <td>0</td>\n",
       "      <td>0.0</td>\n",
       "      <td>0</td>\n",
       "      <td>0</td>\n",
       "      <td>0</td>\n",
       "      <td>...</td>\n",
       "      <td>0</td>\n",
       "      <td>1500</td>\n",
       "      <td>1500</td>\n",
       "      <td>1500</td>\n",
       "      <td>16</td>\n",
       "      <td>16</td>\n",
       "      <td>1</td>\n",
       "      <td>UNDEFINED</td>\n",
       "      <td>0</td>\n",
       "      <td>0.000000</td>\n",
       "    </tr>\n",
       "    <tr>\n",
       "      <th>1</th>\n",
       "      <td>2021-06-18 10:08:13.716000+00:00</td>\n",
       "      <td>2021-06-18 10:10:22.257000+00:00</td>\n",
       "      <td>740</td>\n",
       "      <td>520</td>\n",
       "      <td>0</td>\n",
       "      <td>0</td>\n",
       "      <td>0.0</td>\n",
       "      <td>0</td>\n",
       "      <td>0</td>\n",
       "      <td>0</td>\n",
       "      <td>...</td>\n",
       "      <td>0</td>\n",
       "      <td>1500</td>\n",
       "      <td>1500</td>\n",
       "      <td>1500</td>\n",
       "      <td>16</td>\n",
       "      <td>10</td>\n",
       "      <td>1</td>\n",
       "      <td>ERROR</td>\n",
       "      <td>3</td>\n",
       "      <td>1.440239</td>\n",
       "    </tr>\n",
       "    <tr>\n",
       "      <th>2</th>\n",
       "      <td>2021-06-18 10:11:52.165000+00:00</td>\n",
       "      <td>2021-06-18 10:18:20.294000+00:00</td>\n",
       "      <td>740</td>\n",
       "      <td>520</td>\n",
       "      <td>0</td>\n",
       "      <td>0</td>\n",
       "      <td>0.0</td>\n",
       "      <td>0</td>\n",
       "      <td>0</td>\n",
       "      <td>0</td>\n",
       "      <td>...</td>\n",
       "      <td>0</td>\n",
       "      <td>1500</td>\n",
       "      <td>1500</td>\n",
       "      <td>1500</td>\n",
       "      <td>16</td>\n",
       "      <td>10</td>\n",
       "      <td>1</td>\n",
       "      <td>CANCELED</td>\n",
       "      <td>70</td>\n",
       "      <td>33.607494</td>\n",
       "    </tr>\n",
       "  </tbody>\n",
       "</table>\n",
       "<p>3 rows × 45 columns</p>\n",
       "</div>"
      ],
      "text/plain": [
       "                         started_at                          ended_at  \\\n",
       "0  2021-06-18 09:22:46.866000+00:00  2021-06-18 09:22:46.866000+00:00   \n",
       "1  2021-06-18 10:08:13.716000+00:00  2021-06-18 10:10:22.257000+00:00   \n",
       "2  2021-06-18 10:11:52.165000+00:00  2021-06-18 10:18:20.294000+00:00   \n",
       "\n",
       "   paperHeight_job  paperWidth_job  scanner_mode  bars_job  \\\n",
       "0              520             740             0         0   \n",
       "1              740             520             0         0   \n",
       "2              740             520             0         0   \n",
       "\n",
       "   varnishConsumptionVarnish_3d_job  run  total_run  copies_per_run  ...  \\\n",
       "0                               0.0    0          0               0  ...   \n",
       "1                               0.0    0          0               0  ...   \n",
       "2                               0.0    0          0               0  ...   \n",
       "\n",
       "   leftMargin_remoteScannerRegistration  \\\n",
       "0                                     0   \n",
       "1                                     0   \n",
       "2                                     0   \n",
       "\n",
       "   redScore_gridMode_remoteScannerRegistration  \\\n",
       "0                                         1500   \n",
       "1                                         1500   \n",
       "2                                         1500   \n",
       "\n",
       "   redScore_cropmarksMode_remoteScannerRegistration  \\\n",
       "0                                              1500   \n",
       "1                                              1500   \n",
       "2                                              1500   \n",
       "\n",
       "  redScore_fullScannerMode_remoteScannerRegistration  \\\n",
       "0                                               1500   \n",
       "1                                               1500   \n",
       "2                                               1500   \n",
       "\n",
       "   blueScore_fullScannerMode_remoteScannerRegistration  \\\n",
       "0                                                 16     \n",
       "1                                                 16     \n",
       "2                                                 16     \n",
       "\n",
       "   greenScore_fullScannerMode_remoteScannerRegistration  \\\n",
       "0                                                 16      \n",
       "1                                                 10      \n",
       "2                                                 10      \n",
       "\n",
       "   mode_remoteScannerRegistration   jobState total_copies  \\\n",
       "0                               1  UNDEFINED            0   \n",
       "1                               1      ERROR            3   \n",
       "2                               1   CANCELED           70   \n",
       "\n",
       "   varnishConsumptionVarnish_3d_event  \n",
       "0                            0.000000  \n",
       "1                            1.440239  \n",
       "2                           33.607494  \n",
       "\n",
       "[3 rows x 45 columns]"
      ]
     },
     "execution_count": 61,
     "metadata": {},
     "output_type": "execute_result"
    }
   ],
   "source": [
    "merge_df.head(3)"
   ]
  },
  {
   "cell_type": "code",
   "execution_count": 62,
   "metadata": {},
   "outputs": [
    {
     "name": "stdout",
     "output_type": "stream",
     "text": [
      "Column started_at has 30399 unique values.\n",
      "Column ended_at has 30399 unique values.\n",
      "Column paperHeight_job has 19 unique values.\n",
      "Column paperWidth_job has 18 unique values.\n",
      "Column scanner_mode has 3 unique values.\n",
      "Column bars_job has 3 unique values.\n",
      "Column varnishConsumptionVarnish_3d_job has 26065 unique values.\n",
      "Column run has 2 unique values.\n",
      "Column total_run has 2 unique values.\n",
      "Column copies_per_run has 306 unique values.\n",
      "Column jobId has 30399 unique values.\n",
      "Column total_copies_requested has 301 unique values.\n",
      "Column LED has 39 unique values.\n",
      "Column bars_event has 3 unique values.\n",
      "Column drops has 12 unique values.\n",
      "Column dithering has 2 unique values.\n",
      "Column deadPixelsOffset has 4 unique values.\n",
      "Column operator_level has 2 unique values.\n",
      "Column operator has 4 unique values.\n",
      "Column speed_ifoil has 76 unique values.\n",
      "Column ifoil has 2 unique values.\n",
      "Column optifoil_ifoil has 2 unique values.\n",
      "Column stampAreas_ifoil has 26 unique values.\n",
      "Column heater1Enabled_ifoil has 2 unique values.\n",
      "Column speedTensionIn_ifoil has 2 unique values.\n",
      "Column heater1Temperature_ifoil has 41 unique values.\n",
      "Column x_imageLayout has 59 unique values.\n",
      "Column y_imageLayout has 32 unique values.\n",
      "Column paperName has 2 unique values.\n",
      "Column paperWidth_event has 26 unique values.\n",
      "Column paperHeight_event has 28 unique values.\n",
      "Column speed has 464 unique values.\n",
      "Column power_irDryers has 49 unique values.\n",
      "Column power_uvDryers has 33 unique values.\n",
      "Column topMargin_remoteScannerRegistration has 4 unique values.\n",
      "Column leftMargin_remoteScannerRegistration has 7 unique values.\n",
      "Column redScore_gridMode_remoteScannerRegistration has 270 unique values.\n",
      "Column redScore_cropmarksMode_remoteScannerRegistration has 270 unique values.\n",
      "Column redScore_fullScannerMode_remoteScannerRegistration has 270 unique values.\n",
      "Column blueScore_fullScannerMode_remoteScannerRegistration has 27 unique values.\n",
      "Column greenScore_fullScannerMode_remoteScannerRegistration has 25 unique values.\n",
      "Column mode_remoteScannerRegistration has 3 unique values.\n",
      "Column jobState has 4 unique values.\n",
      "Column total_copies has 762 unique values.\n",
      "Column varnishConsumptionVarnish_3d_event has 26421 unique values.\n"
     ]
    }
   ],
   "source": [
    "for col in merge_df.columns:\n",
    "    unique_values = merge_df[col].nunique()\n",
    "    print(f\"Column {col} has {unique_values} unique values.\")\n"
   ]
  },
  {
   "cell_type": "code",
   "execution_count": 63,
   "metadata": {},
   "outputs": [
    {
     "name": "stdout",
     "output_type": "stream",
     "text": [
      "<class 'pandas.core.frame.DataFrame'>\n",
      "Int64Index: 30399 entries, 0 to 30398\n",
      "Data columns (total 45 columns):\n",
      " #   Column                                                Non-Null Count  Dtype  \n",
      "---  ------                                                --------------  -----  \n",
      " 0   started_at                                            30399 non-null  object \n",
      " 1   ended_at                                              30399 non-null  object \n",
      " 2   paperHeight_job                                       30399 non-null  int64  \n",
      " 3   paperWidth_job                                        30399 non-null  int64  \n",
      " 4   scanner_mode                                          30399 non-null  int64  \n",
      " 5   bars_job                                              30399 non-null  int64  \n",
      " 6   varnishConsumptionVarnish_3d_job                      30399 non-null  float64\n",
      " 7   run                                                   30399 non-null  int64  \n",
      " 8   total_run                                             30399 non-null  int64  \n",
      " 9   copies_per_run                                        30399 non-null  int64  \n",
      " 10  jobId                                                 30399 non-null  int64  \n",
      " 11  total_copies_requested                                30399 non-null  int64  \n",
      " 12  LED                                                   30399 non-null  int64  \n",
      " 13  bars_event                                            30399 non-null  object \n",
      " 14  drops                                                 30399 non-null  int64  \n",
      " 15  dithering                                             30399 non-null  bool   \n",
      " 16  deadPixelsOffset                                      30399 non-null  int64  \n",
      " 17  operator_level                                        30399 non-null  object \n",
      " 18  operator                                              30399 non-null  object \n",
      " 19  speed_ifoil                                           30399 non-null  float64\n",
      " 20  ifoil                                                 30399 non-null  bool   \n",
      " 21  optifoil_ifoil                                        30399 non-null  bool   \n",
      " 22  stampAreas_ifoil                                      30399 non-null  object \n",
      " 23  heater1Enabled_ifoil                                  30399 non-null  bool   \n",
      " 24  speedTensionIn_ifoil                                  30399 non-null  float64\n",
      " 25  heater1Temperature_ifoil                              30399 non-null  int64  \n",
      " 26  x_imageLayout                                         30399 non-null  int64  \n",
      " 27  y_imageLayout                                         30399 non-null  int64  \n",
      " 28  paperName                                             30399 non-null  object \n",
      " 29  paperWidth_event                                      30399 non-null  float64\n",
      " 30  paperHeight_event                                     30399 non-null  float64\n",
      " 31  speed                                                 30399 non-null  int64  \n",
      " 32  power_irDryers                                        30399 non-null  int64  \n",
      " 33  power_uvDryers                                        30399 non-null  int64  \n",
      " 34  topMargin_remoteScannerRegistration                   30399 non-null  int64  \n",
      " 35  leftMargin_remoteScannerRegistration                  30399 non-null  int64  \n",
      " 36  redScore_gridMode_remoteScannerRegistration           30399 non-null  int64  \n",
      " 37  redScore_cropmarksMode_remoteScannerRegistration      30399 non-null  int64  \n",
      " 38  redScore_fullScannerMode_remoteScannerRegistration    30399 non-null  int64  \n",
      " 39  blueScore_fullScannerMode_remoteScannerRegistration   30399 non-null  int64  \n",
      " 40  greenScore_fullScannerMode_remoteScannerRegistration  30399 non-null  int64  \n",
      " 41  mode_remoteScannerRegistration                        30399 non-null  int64  \n",
      " 42  jobState                                              30399 non-null  object \n",
      " 43  total_copies                                          30399 non-null  int64  \n",
      " 44  varnishConsumptionVarnish_3d_event                    30399 non-null  float64\n",
      "dtypes: bool(4), float64(6), int64(27), object(8)\n",
      "memory usage: 9.9+ MB\n"
     ]
    }
   ],
   "source": [
    "merge_df.info()"
   ]
  },
  {
   "attachments": {},
   "cell_type": "markdown",
   "metadata": {},
   "source": [
    "# C. Visualisation"
   ]
  },
  {
   "cell_type": "code",
   "execution_count": 64,
   "metadata": {},
   "outputs": [],
   "source": [
    "df = merge_df.copy()"
   ]
  },
  {
   "cell_type": "code",
   "execution_count": 65,
   "metadata": {},
   "outputs": [
    {
     "data": {
      "text/plain": [
       "array(['UNDEFINED', 'ERROR', 'CANCELED', 'SUCCESS'], dtype=object)"
      ]
     },
     "execution_count": 65,
     "metadata": {},
     "output_type": "execute_result"
    }
   ],
   "source": [
    "df.jobState.unique()"
   ]
  },
  {
   "cell_type": "code",
   "execution_count": 66,
   "metadata": {},
   "outputs": [],
   "source": [
    "# on remplace dans le dataframe les valeurs du type 'str' avec un code\n",
    "criticality = {'UNDEFINED': 0, 'SUCCESS': 1, 'CANCELED': 2, 'ERROR':3}\n",
    "df.jobState.replace(criticality, inplace=True)\n",
    "df.jobState = pd.to_numeric(df.jobState).astype('int64')"
   ]
  },
  {
   "cell_type": "code",
   "execution_count": 67,
   "metadata": {},
   "outputs": [
    {
     "data": {
      "image/png": "[encoded data removed]",
      "text/plain": [
       "<Figure size 640x480 with 2 Axes>"
      ]
     },
     "metadata": {},
     "output_type": "display_data"
    }
   ],
   "source": [
    "import numpy as np\n",
    "import matplotlib.pyplot as plt\n",
    "from mpl_toolkits.mplot3d import Axes3D\n",
    "\n",
    "# Generate some sample data\n",
    "x = df['speed'][:1000]\n",
    "y = df['varnishConsumptionVarnish_3d_job'][:1000]\n",
    "z = df[['total_copies']][:1000]\n",
    "\n",
    "# Create a 3D plot\n",
    "fig = plt.figure()\n",
    "ax = fig.add_subplot(111, projection='3d')\n",
    "\n",
    "# Plot the surface\n",
    "c = df[['jobState']][:1000]\n",
    "scatter = ax.scatter(x, y, z, c=c, cmap='viridis')\n",
    "\n",
    "# Customize the plot\n",
    "ax.set_xlabel('speed')\n",
    "ax.set_ylabel('varnish')\n",
    "ax.set_zlabel('printed')\n",
    "ax.set_title('Distribution des états de jobs en fonction du nombre de copies imprimées, demandées et des LED')\n",
    "\n",
    "# Add colorbar with precise tick labels\n",
    "cbar = fig.colorbar(scatter, ticks=np.linspace(min(c.jobState), max(c.jobState), num=4))\n",
    "cbar.set_label('Etats')\n",
    "\n",
    "# Show the plot\n",
    "plt.show()"
   ]
  },
  {
   "cell_type": "code",
   "execution_count": 68,
   "metadata": {},
   "outputs": [
    {
     "data": {
      "text/plain": [
       "0"
      ]
     },
     "execution_count": 68,
     "metadata": {},
     "output_type": "execute_result"
    }
   ],
   "source": [
    "min(c.jobState)"
   ]
  }
 ],
 "metadata": {
  "kernelspec": {
   "display_name": ".venv",
   "language": "python",
   "name": "python3"
  },
  "language_info": {
   "codemirror_mode": {
    "name": "ipython",
    "version": 3
   },
   "file_extension": ".py",
   "mimetype": "text/x-python",
   "name": "python",
   "nbconvert_exporter": "python",
   "pygments_lexer": "ipython3",
   "version": "3.10.11"
  },
  "orig_nbformat": 4,
  "vscode": {
   "interpreter": {
    "hash": "2315c9af7dedaeb0b2bf51504304a927c605b523f04dad98936c50abe500b408"
   }
  }
 },
 "nbformat": 4,
 "nbformat_minor": 2
}
