{
 "cells": [
  {
   "cell_type": "code",
   "execution_count": 2,
   "metadata": {},
   "outputs": [],
   "source": [
    "import pandas as pd\n",
    "pd.set_option('display.max_columns', 500)"
   ]
  },
  {
   "cell_type": "code",
   "execution_count": 4,
   "metadata": {},
   "outputs": [],
   "source": [
    "df7 =  pd.read_csv(\"../data/dataset_for_preprocess_id_events_filtered_07.csv\")\n",
    "df701 = pd.read_csv(\"../data/dataset_for_preprocess_criticality_balanced_07.1.csv\")\n",
    "df8 = pd.read_csv(\"../data/dataset_for_training_id_events_filtered_08.csv\")\n",
    "df801 = pd.read_csv(\"../data/dataset_for_training_criticality_balanced_08.1.csv\")"
   ]
  },
  {
   "cell_type": "code",
   "execution_count": 5,
   "metadata": {},
   "outputs": [
    {
     "name": "stdout",
     "output_type": "stream",
     "text": [
      "(3101, 50)\n",
      "(40680, 50)\n",
      "(3101, 29)\n",
      "(40680, 27)\n"
     ]
    }
   ],
   "source": [
    "print(df7.shape)\n",
    "print(df701.shape)\n",
    "print(df8.shape)\n",
    "print(df801.shape)"
   ]
  },
  {
   "cell_type": "code",
   "execution_count": null,
   "metadata": {},
   "outputs": [
    {
     "name": "stdout",
     "output_type": "stream",
     "text": [
      "<class 'pandas.core.frame.DataFrame'>\n",
      "RangeIndex: 3101 entries, 0 to 3100\n",
      "Data columns (total 29 columns):\n",
      " #   Column                                                Non-Null Count  Dtype  \n",
      "---  ------                                                --------------  -----  \n",
      " 0   Unnamed: 0                                            3101 non-null   int64  \n",
      " 1   duration                                              3101 non-null   float64\n",
      " 2   total_copies                                          3101 non-null   int64  \n",
      " 3   speed                                                 3101 non-null   int64  \n",
      " 4   paperHeight_job                                       3101 non-null   int64  \n",
      " 5   paperWidth_job                                        3101 non-null   int64  \n",
      " 6   total_copies_requested                                3101 non-null   int64  \n",
      " 7   ifoil                                                 3101 non-null   bool   \n",
      " 8   scanner_mode                                          3101 non-null   int64  \n",
      " 9   bars_job                                              3101 non-null   int64  \n",
      " 10  varnishConsumptionVarnish_3d_job                      3101 non-null   float64\n",
      " 11  LED                                                   3101 non-null   int64  \n",
      " 12  drops                                                 3101 non-null   int64  \n",
      " 13  speed_ifoil                                           3101 non-null   float64\n",
      " 14  optifoil_ifoil                                        3101 non-null   bool   \n",
      " 15  heater1Enabled_ifoil                                  3101 non-null   bool   \n",
      " 16  heater1Temperature_ifoil                              3101 non-null   int64  \n",
      " 17  x_imageLayout                                         3101 non-null   int64  \n",
      " 18  y_imageLayout                                         3101 non-null   int64  \n",
      " 19  power_irDryers                                        3101 non-null   int64  \n",
      " 20  power_uvDryers                                        3101 non-null   int64  \n",
      " 21  leftMargin_remoteScannerRegistration                  3101 non-null   int64  \n",
      " 22  redScore_gridMode_remoteScannerRegistration           3101 non-null   int64  \n",
      " 23  redScore_cropmarksMode_remoteScannerRegistration      3101 non-null   int64  \n",
      " 24  redScore_fullScannerMode_remoteScannerRegistration    3101 non-null   int64  \n",
      " 25  blueScore_fullScannerMode_remoteScannerRegistration   3101 non-null   int64  \n",
      " 26  greenScore_fullScannerMode_remoteScannerRegistration  3101 non-null   int64  \n",
      " 27  mode_remoteScannerRegistration                        3101 non-null   int64  \n",
      " 28  identification_events                                 3101 non-null   int64  \n",
      "dtypes: bool(3), float64(3), int64(23)\n",
      "memory usage: 639.1 KB\n"
     ]
    }
   ],
   "source": [
    "df7.info()"
   ]
  },
  {
   "cell_type": "code",
   "execution_count": null,
   "metadata": {},
   "outputs": [
    {
     "name": "stdout",
     "output_type": "stream",
     "text": [
      "<class 'pandas.core.frame.DataFrame'>\n",
      "RangeIndex: 40680 entries, 0 to 40679\n",
      "Data columns (total 50 columns):\n",
      " #   Column                                                Non-Null Count  Dtype  \n",
      "---  ------                                                --------------  -----  \n",
      " 0   Unnamed: 0                                            40680 non-null  int64  \n",
      " 1   started_at                                            40680 non-null  object \n",
      " 2   ended_at                                              40680 non-null  object \n",
      " 3   paperHeight_job                                       40680 non-null  int64  \n",
      " 4   paperWidth_job                                        40680 non-null  int64  \n",
      " 5   scanner_mode                                          40680 non-null  int64  \n",
      " 6   bars_job                                              40680 non-null  int64  \n",
      " 7   varnishConsumptionVarnish_3d_job                      40680 non-null  float64\n",
      " 8   run                                                   40680 non-null  int64  \n",
      " 9   total_run                                             40680 non-null  int64  \n",
      " 10  copies_per_run                                        40680 non-null  int64  \n",
      " 11  jobId                                                 40680 non-null  int64  \n",
      " 12  total_copies_requested                                40680 non-null  int64  \n",
      " 13  LED                                                   40680 non-null  int64  \n",
      " 14  bars_event                                            40680 non-null  object \n",
      " 15  drops                                                 40680 non-null  int64  \n",
      " 16  dithering                                             40680 non-null  bool   \n",
      " 17  deadPixelsOffset                                      40680 non-null  int64  \n",
      " 18  operator_level                                        40680 non-null  object \n",
      " 19  operator                                              40680 non-null  object \n",
      " 20  speed_ifoil                                           40680 non-null  float64\n",
      " 21  ifoil                                                 40680 non-null  bool   \n",
      " 22  optifoil_ifoil                                        40680 non-null  bool   \n",
      " 23  stampAreas_ifoil                                      40680 non-null  object \n",
      " 24  heater1Enabled_ifoil                                  40680 non-null  bool   \n",
      " 25  speedTensionIn_ifoil                                  40680 non-null  float64\n",
      " 26  heater1Temperature_ifoil                              40680 non-null  int64  \n",
      " 27  x_imageLayout                                         40680 non-null  int64  \n",
      " 28  y_imageLayout                                         40680 non-null  int64  \n",
      " 29  paperName                                             40680 non-null  object \n",
      " 30  paperWidth_event                                      40680 non-null  float64\n",
      " 31  paperHeight_event                                     40680 non-null  float64\n",
      " 32  speed                                                 40680 non-null  int64  \n",
      " 33  power_irDryers                                        40680 non-null  int64  \n",
      " 34  power_uvDryers                                        40680 non-null  int64  \n",
      " 35  topMargin_remoteScannerRegistration                   40680 non-null  int64  \n",
      " 36  leftMargin_remoteScannerRegistration                  40680 non-null  int64  \n",
      " 37  redScore_gridMode_remoteScannerRegistration           40680 non-null  int64  \n",
      " 38  redScore_cropmarksMode_remoteScannerRegistration      40680 non-null  int64  \n",
      " 39  redScore_fullScannerMode_remoteScannerRegistration    40680 non-null  int64  \n",
      " 40  blueScore_fullScannerMode_remoteScannerRegistration   40680 non-null  int64  \n",
      " 41  greenScore_fullScannerMode_remoteScannerRegistration  40680 non-null  int64  \n",
      " 42  mode_remoteScannerRegistration                        40680 non-null  int64  \n",
      " 43  jobState                                              40680 non-null  object \n",
      " 44  total_copies                                          40680 non-null  int64  \n",
      " 45  varnishConsumptionVarnish_3d_event                    40680 non-null  float64\n",
      " 46  index                                                 40680 non-null  int64  \n",
      " 47  timestamp                                             40680 non-null  object \n",
      " 48  criticality_events                                    40680 non-null  object \n",
      " 49  identification_events                                 40680 non-null  int64  \n",
      "dtypes: bool(4), float64(6), int64(30), object(10)\n",
      "memory usage: 14.4+ MB\n"
     ]
    }
   ],
   "source": [
    "df701.info()"
   ]
  }
 ],
 "metadata": {
  "kernelspec": {
   "display_name": "venv",
   "language": "python",
   "name": "python3"
  },
  "language_info": {
   "codemirror_mode": {
    "name": "ipython",
    "version": 3
   },
   "file_extension": ".py",
   "mimetype": "text/x-python",
   "name": "python",
   "nbconvert_exporter": "python",
   "pygments_lexer": "ipython3",
   "version": "3.10.11"
  }
 },
 "nbformat": 4,
 "nbformat_minor": 2
}
