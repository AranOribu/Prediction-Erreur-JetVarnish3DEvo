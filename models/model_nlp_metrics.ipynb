{
 "cells": [
  {
   "attachments": {},
   "cell_type": "markdown",
   "metadata": {},
   "source": [
    "# Modèle de NLP avec NLTK"
   ]
  },
  {
   "attachments": {},
   "cell_type": "markdown",
   "metadata": {},
   "source": [
    "## 1. Librairies"
   ]
  },
  {
   "cell_type": "code",
   "execution_count": 9,
   "metadata": {},
   "outputs": [],
   "source": [
    "import pandas as pd\n",
    "import numpy as np\n",
    "import matplotlib.pyplot as plt\n",
    "import seaborn as sns"
   ]
  },
  {
   "attachments": {},
   "cell_type": "markdown",
   "metadata": {},
   "source": [
    "## 2. Dataset metrics"
   ]
  },
  {
   "cell_type": "code",
   "execution_count": 10,
   "metadata": {},
   "outputs": [
    {
     "data": {
      "text/html": [
       "<div>\n",
       "<style scoped>\n",
       "    .dataframe tbody tr th:only-of-type {\n",
       "        vertical-align: middle;\n",
       "    }\n",
       "\n",
       "    .dataframe tbody tr th {\n",
       "        vertical-align: top;\n",
       "    }\n",
       "\n",
       "    .dataframe thead th {\n",
       "        text-align: right;\n",
       "    }\n",
       "</style>\n",
       "<table border=\"1\" class=\"dataframe\">\n",
       "  <thead>\n",
       "    <tr style=\"text-align: right;\">\n",
       "      <th></th>\n",
       "      <th>status</th>\n",
       "      <th>created_at</th>\n",
       "      <th>cyan_capacity</th>\n",
       "      <th>cyan_remaining</th>\n",
       "      <th>magenta_capacity</th>\n",
       "      <th>magenta_remaining</th>\n",
       "      <th>yellow_capacity</th>\n",
       "      <th>yellow_remaining</th>\n",
       "      <th>black_capacity</th>\n",
       "      <th>black_remaining</th>\n",
       "      <th>machineId</th>\n",
       "      <th>connected_operators</th>\n",
       "      <th>varnishLevelsTargetvolume</th>\n",
       "      <th>varnishLevelsTotalvolume</th>\n",
       "      <th>modules</th>\n",
       "      <th>events</th>\n",
       "    </tr>\n",
       "    <tr>\n",
       "      <th>id</th>\n",
       "      <th></th>\n",
       "      <th></th>\n",
       "      <th></th>\n",
       "      <th></th>\n",
       "      <th></th>\n",
       "      <th></th>\n",
       "      <th></th>\n",
       "      <th></th>\n",
       "      <th></th>\n",
       "      <th></th>\n",
       "      <th></th>\n",
       "      <th></th>\n",
       "      <th></th>\n",
       "      <th></th>\n",
       "      <th></th>\n",
       "      <th></th>\n",
       "    </tr>\n",
       "  </thead>\n",
       "  <tbody>\n",
       "    <tr>\n",
       "      <th>5561325</th>\n",
       "      <td>WARNING</td>\n",
       "      <td>2022-06-07 12:23:52.164000</td>\n",
       "      <td>NaN</td>\n",
       "      <td>NaN</td>\n",
       "      <td>NaN</td>\n",
       "      <td>NaN</td>\n",
       "      <td>NaN</td>\n",
       "      <td>NaN</td>\n",
       "      <td>NaN</td>\n",
       "      <td>NaN</td>\n",
       "      <td>14</td>\n",
       "      <td>[{\"name\": \"JAN\", \"level\": \"Operator\"}]</td>\n",
       "      <td>22050.818386</td>\n",
       "      <td>100000</td>\n",
       "      <td>[{\"sn\": \"\", \"name\": \"Print Engine 1\", \"type\": ...</td>\n",
       "      <td>[]</td>\n",
       "    </tr>\n",
       "    <tr>\n",
       "      <th>5513803</th>\n",
       "      <td>IDLE</td>\n",
       "      <td>2022-06-03 08:44:57.996000</td>\n",
       "      <td>NaN</td>\n",
       "      <td>NaN</td>\n",
       "      <td>NaN</td>\n",
       "      <td>NaN</td>\n",
       "      <td>NaN</td>\n",
       "      <td>NaN</td>\n",
       "      <td>NaN</td>\n",
       "      <td>NaN</td>\n",
       "      <td>14</td>\n",
       "      <td>[{\"name\": \"Viktor\", \"level\": \"Operator\"}]</td>\n",
       "      <td>22402.256226</td>\n",
       "      <td>100000</td>\n",
       "      <td>[{\"sn\": \"\", \"name\": \"Print Engine 1\", \"type\": ...</td>\n",
       "      <td>[]</td>\n",
       "    </tr>\n",
       "  </tbody>\n",
       "</table>\n",
       "</div>"
      ],
      "text/plain": [
       "          status                  created_at  cyan_capacity  cyan_remaining  \\\n",
       "id                                                                            \n",
       "5561325  WARNING  2022-06-07 12:23:52.164000            NaN             NaN   \n",
       "5513803     IDLE  2022-06-03 08:44:57.996000            NaN             NaN   \n",
       "\n",
       "         magenta_capacity  magenta_remaining  yellow_capacity  \\\n",
       "id                                                              \n",
       "5561325               NaN                NaN              NaN   \n",
       "5513803               NaN                NaN              NaN   \n",
       "\n",
       "         yellow_remaining  black_capacity  black_remaining  machineId  \\\n",
       "id                                                                      \n",
       "5561325               NaN             NaN              NaN         14   \n",
       "5513803               NaN             NaN              NaN         14   \n",
       "\n",
       "                               connected_operators  varnishLevelsTargetvolume  \\\n",
       "id                                                                              \n",
       "5561325     [{\"name\": \"JAN\", \"level\": \"Operator\"}]               22050.818386   \n",
       "5513803  [{\"name\": \"Viktor\", \"level\": \"Operator\"}]               22402.256226   \n",
       "\n",
       "         varnishLevelsTotalvolume  \\\n",
       "id                                  \n",
       "5561325                    100000   \n",
       "5513803                    100000   \n",
       "\n",
       "                                                   modules events  \n",
       "id                                                                 \n",
       "5561325  [{\"sn\": \"\", \"name\": \"Print Engine 1\", \"type\": ...     []  \n",
       "5513803  [{\"sn\": \"\", \"name\": \"Print Engine 1\", \"type\": ...     []  "
      ]
     },
     "execution_count": 10,
     "metadata": {},
     "output_type": "execute_result"
    }
   ],
   "source": [
    "# nom de fichier et chemin relatif\n",
    "filename = '/raw/metrics.csv'\n",
    "path = '../data'\n",
    "# création d'un dataframe à partir du csv de données\n",
    "df = pd.read_csv(path+filename, index_col=0)\n",
    "df.head(2)"
   ]
  },
  {
   "cell_type": "code",
   "execution_count": 11,
   "metadata": {},
   "outputs": [
    {
     "name": "stdout",
     "output_type": "stream",
     "text": [
      "<class 'pandas.core.frame.DataFrame'>\n",
      "Int64Index: 1164430 entries, 5561325 to 10909319\n",
      "Data columns (total 16 columns):\n",
      " #   Column                     Non-Null Count    Dtype  \n",
      "---  ------                     --------------    -----  \n",
      " 0   status                     1164430 non-null  object \n",
      " 1   created_at                 1164430 non-null  object \n",
      " 2   cyan_capacity              0 non-null        float64\n",
      " 3   cyan_remaining             0 non-null        float64\n",
      " 4   magenta_capacity           0 non-null        float64\n",
      " 5   magenta_remaining          0 non-null        float64\n",
      " 6   yellow_capacity            0 non-null        float64\n",
      " 7   yellow_remaining           0 non-null        float64\n",
      " 8   black_capacity             0 non-null        float64\n",
      " 9   black_remaining            0 non-null        float64\n",
      " 10  machineId                  1164430 non-null  int64  \n",
      " 11  connected_operators        1164430 non-null  object \n",
      " 12  varnishLevelsTargetvolume  1164430 non-null  float64\n",
      " 13  varnishLevelsTotalvolume   1164430 non-null  int64  \n",
      " 14  modules                    1164430 non-null  object \n",
      " 15  events                     1164430 non-null  object \n",
      "dtypes: float64(9), int64(2), object(5)\n",
      "memory usage: 151.0+ MB\n"
     ]
    }
   ],
   "source": [
    "df.info()"
   ]
  },
  {
   "cell_type": "code",
   "execution_count": 12,
   "metadata": {},
   "outputs": [],
   "source": [
    "df.reset_index(level=None, drop=True, inplace=True, col_level=0, col_fill='')\n",
    "df = df.dropna(axis=1)"
   ]
  },
  {
   "cell_type": "code",
   "execution_count": 13,
   "metadata": {},
   "outputs": [
    {
     "data": {
      "text/html": [
       "<div>\n",
       "<style scoped>\n",
       "    .dataframe tbody tr th:only-of-type {\n",
       "        vertical-align: middle;\n",
       "    }\n",
       "\n",
       "    .dataframe tbody tr th {\n",
       "        vertical-align: top;\n",
       "    }\n",
       "\n",
       "    .dataframe thead th {\n",
       "        text-align: right;\n",
       "    }\n",
       "</style>\n",
       "<table border=\"1\" class=\"dataframe\">\n",
       "  <thead>\n",
       "    <tr style=\"text-align: right;\">\n",
       "      <th></th>\n",
       "      <th>status</th>\n",
       "      <th>created_at</th>\n",
       "      <th>machineId</th>\n",
       "      <th>connected_operators</th>\n",
       "      <th>varnishLevelsTargetvolume</th>\n",
       "      <th>varnishLevelsTotalvolume</th>\n",
       "      <th>modules</th>\n",
       "      <th>events</th>\n",
       "    </tr>\n",
       "  </thead>\n",
       "  <tbody>\n",
       "    <tr>\n",
       "      <th>0</th>\n",
       "      <td>WARNING</td>\n",
       "      <td>2022-06-07 12:23:52.164000</td>\n",
       "      <td>14</td>\n",
       "      <td>[{\"name\": \"JAN\", \"level\": \"Operator\"}]</td>\n",
       "      <td>22050.818386</td>\n",
       "      <td>100000</td>\n",
       "      <td>[{\"sn\": \"\", \"name\": \"Print Engine 1\", \"type\": ...</td>\n",
       "      <td>[]</td>\n",
       "    </tr>\n",
       "    <tr>\n",
       "      <th>1</th>\n",
       "      <td>IDLE</td>\n",
       "      <td>2022-06-03 08:44:57.996000</td>\n",
       "      <td>14</td>\n",
       "      <td>[{\"name\": \"Viktor\", \"level\": \"Operator\"}]</td>\n",
       "      <td>22402.256226</td>\n",
       "      <td>100000</td>\n",
       "      <td>[{\"sn\": \"\", \"name\": \"Print Engine 1\", \"type\": ...</td>\n",
       "      <td>[]</td>\n",
       "    </tr>\n",
       "  </tbody>\n",
       "</table>\n",
       "</div>"
      ],
      "text/plain": [
       "    status                  created_at  machineId  \\\n",
       "0  WARNING  2022-06-07 12:23:52.164000         14   \n",
       "1     IDLE  2022-06-03 08:44:57.996000         14   \n",
       "\n",
       "                         connected_operators  varnishLevelsTargetvolume  \\\n",
       "0     [{\"name\": \"JAN\", \"level\": \"Operator\"}]               22050.818386   \n",
       "1  [{\"name\": \"Viktor\", \"level\": \"Operator\"}]               22402.256226   \n",
       "\n",
       "   varnishLevelsTotalvolume  \\\n",
       "0                    100000   \n",
       "1                    100000   \n",
       "\n",
       "                                             modules events  \n",
       "0  [{\"sn\": \"\", \"name\": \"Print Engine 1\", \"type\": ...     []  \n",
       "1  [{\"sn\": \"\", \"name\": \"Print Engine 1\", \"type\": ...     []  "
      ]
     },
     "execution_count": 13,
     "metadata": {},
     "output_type": "execute_result"
    }
   ],
   "source": [
    "df.head(2)"
   ]
  },
  {
   "attachments": {},
   "cell_type": "markdown",
   "metadata": {},
   "source": [
    "## 3. Colonne Modules"
   ]
  },
  {
   "attachments": {},
   "cell_type": "markdown",
   "metadata": {},
   "source": [
    "### a) Tokenisation des mots"
   ]
  },
  {
   "cell_type": "code",
   "execution_count": 14,
   "metadata": {},
   "outputs": [
    {
     "name": "stderr",
     "output_type": "stream",
     "text": [
      "[nltk_data] Downloading package punkt to\n",
      "[nltk_data]     C:\\Users\\odazo\\AppData\\Roaming\\nltk_data...\n",
      "[nltk_data]   Package punkt is already up-to-date!\n"
     ]
    },
    {
     "data": {
      "text/plain": [
       "True"
      ]
     },
     "execution_count": 14,
     "metadata": {},
     "output_type": "execute_result"
    }
   ],
   "source": [
    "from nltk.tokenize import sent_tokenize, word_tokenize\n",
    "from nltk.corpus import stopwords\n",
    "import nltk\n",
    "nltk.download('punkt')"
   ]
  },
  {
   "cell_type": "code",
   "execution_count": 15,
   "metadata": {},
   "outputs": [
    {
     "name": "stdout",
     "output_type": "stream",
     "text": [
      "['sn', 'name', 'print', 'engine', '1', 'type', 'varnish', 'printer', 'counters', 'name', 'varnish', 'counter', 'value', '1965087', 'generation', 'sn', 'name', 'ifoil', 'l', 'type', 'ifoil', 'counters', 'name', 'total', 'pages', 'counter', 'value', '63822', 'name', 'foiled', 'pages', 'counter', 'value', '36211', 'generation', '2']\n"
     ]
    },
    {
     "data": {
      "text/plain": [
       "36"
      ]
     },
     "execution_count": 15,
     "metadata": {},
     "output_type": "execute_result"
    }
   ],
   "source": [
    "str_ = df.modules.loc[0]\n",
    "words_in_quote = word_tokenize(str_)\n",
    "words = [word.lower() for word in words_in_quote if word.isalpha() or word.isnumeric()]\n",
    "print(words)\n",
    "len(words)"
   ]
  },
  {
   "attachments": {},
   "cell_type": "markdown",
   "metadata": {},
   "source": [
    "### b) Vectorisation des tokens"
   ]
  },
  {
   "cell_type": "code",
   "execution_count": 22,
   "metadata": {},
   "outputs": [
    {
     "name": "stdout",
     "output_type": "stream",
     "text": [
      "le token \"sn\" = un vecteur de taille   (0, 13)\t1.0\n"
     ]
    },
    {
     "data": {
      "text/plain": [
       "(36, 18)"
      ]
     },
     "execution_count": 22,
     "metadata": {},
     "output_type": "execute_result"
    }
   ],
   "source": [
    "from sklearn.feature_extraction.text import TfidfVectorizer\n",
    "# Initialiser le vecteur TF-IDF\n",
    "tf_idf_vector = TfidfVectorizer()\n",
    "# Vectoriser les mots\n",
    "word_vector = tf_idf_vector.fit_transform(words)\n",
    "# Afficher le vecteur résultant\n",
    "print(f'le token \"{words[1]}\" = un vecteur de taille {word_vector[1]}')\n",
    "word_vector.shape"
   ]
  },
  {
   "cell_type": "code",
   "execution_count": 29,
   "metadata": {},
   "outputs": [
    {
     "name": "stdout",
     "output_type": "stream",
     "text": [
      "(36, 10)\n"
     ]
    }
   ],
   "source": [
    "from sklearn.preprocessing import StandardScaler\n",
    "from sklearn.decomposition import TruncatedSVD\n",
    "from scipy.sparse import csr_matrix\n",
    "from sklearn import datasets\n",
    "from numpy import count_nonzero\n",
    "\n",
    "# representing in CSR form\n",
    "X_sparse = csr_matrix(word_vector)\n",
    "# specify the no of output features\n",
    "tsvd = TruncatedSVD(n_components=10)\n",
    "# apply the truncatedSVD function\n",
    "X_sparse_tsvd = tsvd.fit(X_sparse).transform(X_sparse)\n",
    "# shape of the reduced matrix\n",
    "print(X_sparse_tsvd.shape)\n"
   ]
  },
  {
   "cell_type": "code",
   "execution_count": 30,
   "metadata": {},
   "outputs": [],
   "source": [
    "def vectorize_serie(serie):\n",
    "    tfid_vectorize = TfidfVectorizer()\n",
    "    words = [word.lower() for word in word_tokenize(serie) if word.isalpha() or word.isnumeric()]\n",
    "    word_vector = tfid_vectorize.fit_transform(words)\n",
    "    return word_vector.resize(1,1)"
   ]
  },
  {
   "cell_type": "code",
   "execution_count": 31,
   "metadata": {},
   "outputs": [
    {
     "ename": "KeyboardInterrupt",
     "evalue": "",
     "output_type": "error",
     "traceback": [
      "\u001b[1;31m---------------------------------------------------------------------------\u001b[0m",
      "\u001b[1;31mKeyboardInterrupt\u001b[0m                         Traceback (most recent call last)",
      "Cell \u001b[1;32mIn[31], line 1\u001b[0m\n\u001b[1;32m----> 1\u001b[0m module_df \u001b[39m=\u001b[39m df\u001b[39m.\u001b[39;49mmodules\u001b[39m.\u001b[39;49mapply(\u001b[39mlambda\u001b[39;49;00m x : vectorize_serie(x))\n",
      "File \u001b[1;32md:\\02.Pro\\SIMPLON\\Certification\\E1\\Prediction-Erreur-JetVarnish3D\\.venv\\lib\\site-packages\\pandas\\core\\series.py:4771\u001b[0m, in \u001b[0;36mSeries.apply\u001b[1;34m(self, func, convert_dtype, args, **kwargs)\u001b[0m\n\u001b[0;32m   4661\u001b[0m \u001b[39mdef\u001b[39;00m \u001b[39mapply\u001b[39m(\n\u001b[0;32m   4662\u001b[0m     \u001b[39mself\u001b[39m,\n\u001b[0;32m   4663\u001b[0m     func: AggFuncType,\n\u001b[1;32m   (...)\u001b[0m\n\u001b[0;32m   4666\u001b[0m     \u001b[39m*\u001b[39m\u001b[39m*\u001b[39mkwargs,\n\u001b[0;32m   4667\u001b[0m ) \u001b[39m-\u001b[39m\u001b[39m>\u001b[39m DataFrame \u001b[39m|\u001b[39m Series:\n\u001b[0;32m   4668\u001b[0m \u001b[39m    \u001b[39m\u001b[39m\"\"\"\u001b[39;00m\n\u001b[0;32m   4669\u001b[0m \u001b[39m    Invoke function on values of Series.\u001b[39;00m\n\u001b[0;32m   4670\u001b[0m \n\u001b[1;32m   (...)\u001b[0m\n\u001b[0;32m   4769\u001b[0m \u001b[39m    dtype: float64\u001b[39;00m\n\u001b[0;32m   4770\u001b[0m \u001b[39m    \"\"\"\u001b[39;00m\n\u001b[1;32m-> 4771\u001b[0m     \u001b[39mreturn\u001b[39;00m SeriesApply(\u001b[39mself\u001b[39;49m, func, convert_dtype, args, kwargs)\u001b[39m.\u001b[39;49mapply()\n",
      "File \u001b[1;32md:\\02.Pro\\SIMPLON\\Certification\\E1\\Prediction-Erreur-JetVarnish3D\\.venv\\lib\\site-packages\\pandas\\core\\apply.py:1123\u001b[0m, in \u001b[0;36mSeriesApply.apply\u001b[1;34m(self)\u001b[0m\n\u001b[0;32m   1120\u001b[0m     \u001b[39mreturn\u001b[39;00m \u001b[39mself\u001b[39m\u001b[39m.\u001b[39mapply_str()\n\u001b[0;32m   1122\u001b[0m \u001b[39m# self.f is Callable\u001b[39;00m\n\u001b[1;32m-> 1123\u001b[0m \u001b[39mreturn\u001b[39;00m \u001b[39mself\u001b[39;49m\u001b[39m.\u001b[39;49mapply_standard()\n",
      "File \u001b[1;32md:\\02.Pro\\SIMPLON\\Certification\\E1\\Prediction-Erreur-JetVarnish3D\\.venv\\lib\\site-packages\\pandas\\core\\apply.py:1174\u001b[0m, in \u001b[0;36mSeriesApply.apply_standard\u001b[1;34m(self)\u001b[0m\n\u001b[0;32m   1172\u001b[0m     \u001b[39melse\u001b[39;00m:\n\u001b[0;32m   1173\u001b[0m         values \u001b[39m=\u001b[39m obj\u001b[39m.\u001b[39mastype(\u001b[39mobject\u001b[39m)\u001b[39m.\u001b[39m_values\n\u001b[1;32m-> 1174\u001b[0m         mapped \u001b[39m=\u001b[39m lib\u001b[39m.\u001b[39;49mmap_infer(\n\u001b[0;32m   1175\u001b[0m             values,\n\u001b[0;32m   1176\u001b[0m             f,\n\u001b[0;32m   1177\u001b[0m             convert\u001b[39m=\u001b[39;49m\u001b[39mself\u001b[39;49m\u001b[39m.\u001b[39;49mconvert_dtype,\n\u001b[0;32m   1178\u001b[0m         )\n\u001b[0;32m   1180\u001b[0m \u001b[39mif\u001b[39;00m \u001b[39mlen\u001b[39m(mapped) \u001b[39mand\u001b[39;00m \u001b[39misinstance\u001b[39m(mapped[\u001b[39m0\u001b[39m], ABCSeries):\n\u001b[0;32m   1181\u001b[0m     \u001b[39m# GH#43986 Need to do list(mapped) in order to get treated as nested\u001b[39;00m\n\u001b[0;32m   1182\u001b[0m     \u001b[39m#  See also GH#25959 regarding EA support\u001b[39;00m\n\u001b[0;32m   1183\u001b[0m     \u001b[39mreturn\u001b[39;00m obj\u001b[39m.\u001b[39m_constructor_expanddim(\u001b[39mlist\u001b[39m(mapped), index\u001b[39m=\u001b[39mobj\u001b[39m.\u001b[39mindex)\n",
      "File \u001b[1;32md:\\02.Pro\\SIMPLON\\Certification\\E1\\Prediction-Erreur-JetVarnish3D\\.venv\\lib\\site-packages\\pandas\\_libs\\lib.pyx:2924\u001b[0m, in \u001b[0;36mpandas._libs.lib.map_infer\u001b[1;34m()\u001b[0m\n",
      "Cell \u001b[1;32mIn[31], line 1\u001b[0m, in \u001b[0;36m<lambda>\u001b[1;34m(x)\u001b[0m\n\u001b[1;32m----> 1\u001b[0m module_df \u001b[39m=\u001b[39m df\u001b[39m.\u001b[39mmodules\u001b[39m.\u001b[39mapply(\u001b[39mlambda\u001b[39;00m x : vectorize_serie(x))\n",
      "Cell \u001b[1;32mIn[30], line 4\u001b[0m, in \u001b[0;36mvectorize_serie\u001b[1;34m(serie)\u001b[0m\n\u001b[0;32m      2\u001b[0m tfid_vectorize \u001b[39m=\u001b[39m TfidfVectorizer()\n\u001b[0;32m      3\u001b[0m words \u001b[39m=\u001b[39m [word\u001b[39m.\u001b[39mlower() \u001b[39mfor\u001b[39;00m word \u001b[39min\u001b[39;00m word_tokenize(serie) \u001b[39mif\u001b[39;00m word\u001b[39m.\u001b[39misalpha() \u001b[39mor\u001b[39;00m word\u001b[39m.\u001b[39misnumeric()]\n\u001b[1;32m----> 4\u001b[0m word_vector \u001b[39m=\u001b[39m tfid_vectorize\u001b[39m.\u001b[39;49mfit_transform(words)\n\u001b[0;32m      5\u001b[0m \u001b[39mreturn\u001b[39;00m word_vector\u001b[39m.\u001b[39mresize(\u001b[39m1\u001b[39m,\u001b[39m1\u001b[39m)\n",
      "File \u001b[1;32md:\\02.Pro\\SIMPLON\\Certification\\E1\\Prediction-Erreur-JetVarnish3D\\.venv\\lib\\site-packages\\sklearn\\feature_extraction\\text.py:2134\u001b[0m, in \u001b[0;36mTfidfVectorizer.fit_transform\u001b[1;34m(self, raw_documents, y)\u001b[0m\n\u001b[0;32m   2127\u001b[0m \u001b[39mself\u001b[39m\u001b[39m.\u001b[39m_tfidf \u001b[39m=\u001b[39m TfidfTransformer(\n\u001b[0;32m   2128\u001b[0m     norm\u001b[39m=\u001b[39m\u001b[39mself\u001b[39m\u001b[39m.\u001b[39mnorm,\n\u001b[0;32m   2129\u001b[0m     use_idf\u001b[39m=\u001b[39m\u001b[39mself\u001b[39m\u001b[39m.\u001b[39muse_idf,\n\u001b[0;32m   2130\u001b[0m     smooth_idf\u001b[39m=\u001b[39m\u001b[39mself\u001b[39m\u001b[39m.\u001b[39msmooth_idf,\n\u001b[0;32m   2131\u001b[0m     sublinear_tf\u001b[39m=\u001b[39m\u001b[39mself\u001b[39m\u001b[39m.\u001b[39msublinear_tf,\n\u001b[0;32m   2132\u001b[0m )\n\u001b[0;32m   2133\u001b[0m X \u001b[39m=\u001b[39m \u001b[39msuper\u001b[39m()\u001b[39m.\u001b[39mfit_transform(raw_documents)\n\u001b[1;32m-> 2134\u001b[0m \u001b[39mself\u001b[39;49m\u001b[39m.\u001b[39;49m_tfidf\u001b[39m.\u001b[39;49mfit(X)\n\u001b[0;32m   2135\u001b[0m \u001b[39m# X is already a transformed view of raw_documents so\u001b[39;00m\n\u001b[0;32m   2136\u001b[0m \u001b[39m# we set copy to False\u001b[39;00m\n\u001b[0;32m   2137\u001b[0m \u001b[39mreturn\u001b[39;00m \u001b[39mself\u001b[39m\u001b[39m.\u001b[39m_tfidf\u001b[39m.\u001b[39mtransform(X, copy\u001b[39m=\u001b[39m\u001b[39mFalse\u001b[39;00m)\n",
      "File \u001b[1;32md:\\02.Pro\\SIMPLON\\Certification\\E1\\Prediction-Erreur-JetVarnish3D\\.venv\\lib\\site-packages\\sklearn\\feature_extraction\\text.py:1683\u001b[0m, in \u001b[0;36mTfidfTransformer.fit\u001b[1;34m(self, X, y)\u001b[0m\n\u001b[0;32m   1680\u001b[0m     \u001b[39m# log+1 instead of log makes sure terms with zero idf don't get\u001b[39;00m\n\u001b[0;32m   1681\u001b[0m     \u001b[39m# suppressed entirely.\u001b[39;00m\n\u001b[0;32m   1682\u001b[0m     idf \u001b[39m=\u001b[39m np\u001b[39m.\u001b[39mlog(n_samples \u001b[39m/\u001b[39m df) \u001b[39m+\u001b[39m \u001b[39m1\u001b[39m\n\u001b[1;32m-> 1683\u001b[0m     \u001b[39mself\u001b[39m\u001b[39m.\u001b[39m_idf_diag \u001b[39m=\u001b[39m sp\u001b[39m.\u001b[39;49mdiags(\n\u001b[0;32m   1684\u001b[0m         idf,\n\u001b[0;32m   1685\u001b[0m         offsets\u001b[39m=\u001b[39;49m\u001b[39m0\u001b[39;49m,\n\u001b[0;32m   1686\u001b[0m         shape\u001b[39m=\u001b[39;49m(n_features, n_features),\n\u001b[0;32m   1687\u001b[0m         \u001b[39mformat\u001b[39;49m\u001b[39m=\u001b[39;49m\u001b[39m\"\u001b[39;49m\u001b[39mcsr\u001b[39;49m\u001b[39m\"\u001b[39;49m,\n\u001b[0;32m   1688\u001b[0m         dtype\u001b[39m=\u001b[39;49mdtype,\n\u001b[0;32m   1689\u001b[0m     )\n\u001b[0;32m   1691\u001b[0m \u001b[39mreturn\u001b[39;00m \u001b[39mself\u001b[39m\n",
      "File \u001b[1;32md:\\02.Pro\\SIMPLON\\Certification\\E1\\Prediction-Erreur-JetVarnish3D\\.venv\\lib\\site-packages\\scipy\\sparse\\_construct.py:187\u001b[0m, in \u001b[0;36mdiags\u001b[1;34m(diagonals, offsets, shape, format, dtype)\u001b[0m\n\u001b[0;32m    185\u001b[0m     \u001b[39mraise\u001b[39;00m \u001b[39mValueError\u001b[39;00m(\u001b[39m\"\u001b[39m\u001b[39mOffset \u001b[39m\u001b[39m%d\u001b[39;00m\u001b[39m (index \u001b[39m\u001b[39m%d\u001b[39;00m\u001b[39m) out of bounds\u001b[39m\u001b[39m\"\u001b[39m \u001b[39m%\u001b[39m (offset, j))\n\u001b[0;32m    186\u001b[0m \u001b[39mtry\u001b[39;00m:\n\u001b[1;32m--> 187\u001b[0m     data_arr[j, k:k\u001b[39m+\u001b[39mlength] \u001b[39m=\u001b[39m diagonal[\u001b[39m.\u001b[39m\u001b[39m.\u001b[39m\u001b[39m.\u001b[39m,:length]\n\u001b[0;32m    188\u001b[0m \u001b[39mexcept\u001b[39;00m \u001b[39mValueError\u001b[39;00m \u001b[39mas\u001b[39;00m e:\n\u001b[0;32m    189\u001b[0m     \u001b[39mif\u001b[39;00m \u001b[39mlen\u001b[39m(diagonal) \u001b[39m!=\u001b[39m length \u001b[39mand\u001b[39;00m \u001b[39mlen\u001b[39m(diagonal) \u001b[39m!=\u001b[39m \u001b[39m1\u001b[39m:\n",
      "\u001b[1;31mKeyboardInterrupt\u001b[0m: "
     ]
    }
   ],
   "source": [
    "# plus de 20min\n",
    "module_df = df.modules.apply(lambda x : vectorize_serie(x))\n"
   ]
  },
  {
   "cell_type": "code",
   "execution_count": 37,
   "metadata": {},
   "outputs": [],
   "source": [
    "#module_df = df.modules.apply(lambda x : [word.lower() for word in word_tokenize(x) if word.isalpha() or word.isnumeric()])"
   ]
  },
  {
   "cell_type": "code",
   "execution_count": 53,
   "metadata": {},
   "outputs": [
    {
     "data": {
      "text/plain": [
       "(36, 18)"
      ]
     },
     "execution_count": 53,
     "metadata": {},
     "output_type": "execute_result"
    }
   ],
   "source": [
    "module_df.loc[0].get_shape()"
   ]
  },
  {
   "cell_type": "code",
   "execution_count": 103,
   "metadata": {},
   "outputs": [],
   "source": [
    "def sparce_vector(serie):\n",
    "    X_sparse = csr_matrix(serie)\n",
    "    #print(X_sparse)\n",
    "\n",
    "    # specify the no of output features\n",
    "    tsvd = TruncatedSVD(n_components=10)\n",
    "\n",
    "    # apply the truncatedSVD function\n",
    "    X_sparse_tsvd = tsvd.fit(X_sparse).transform(X_sparse)\n",
    "    #print(X_sparse_tsvd)\n",
    "\n",
    "    # shape of the reduced matrix\n",
    "    #print(X_sparse_tsvd.shape)\n",
    "\n",
    "    return X_sparse_tsvd"
   ]
  },
  {
   "cell_type": "code",
   "execution_count": 104,
   "metadata": {},
   "outputs": [],
   "source": [
    "sparce_module_df = module_df.apply(lambda x : sparce_vector(x))"
   ]
  },
  {
   "cell_type": "code",
   "execution_count": 108,
   "metadata": {},
   "outputs": [
    {
     "data": {
      "text/plain": [
       "array([[ 3.20692026e-16, -1.39862080e-16, -9.28541275e-17,\n",
       "        -4.21614222e-01, -7.06408444e-02,  5.90430653e-01,\n",
       "        -1.85051299e-02, -4.14600244e-01,  3.69906998e-01,\n",
       "         3.99469615e-01],\n",
       "       [ 1.00000000e+00, -6.19700807e-15,  2.30476165e-16,\n",
       "        -8.32667268e-17,  2.69360552e-15, -1.66533454e-16,\n",
       "         1.11022302e-16, -1.38777878e-16, -2.22044605e-16,\n",
       "        -2.22044605e-16],\n",
       "       [ 5.88412856e-17, -1.91860416e-15, -3.27968334e-17,\n",
       "        -3.56794294e-16,  2.58126853e-15,  2.62021141e-15,\n",
       "        -6.54369824e-15, -3.27372561e-18,  2.44217171e-16,\n",
       "        -5.21318035e-16],\n",
       "       [-1.49294711e-16, -5.75928194e-16, -1.09985792e-16,\n",
       "        -6.90732718e-17,  1.22124533e-15, -1.00993291e-15,\n",
       "        -5.88510675e-15, -2.28870348e-16,  5.60651389e-17,\n",
       "         7.03992366e-16],\n",
       "       [ 0.00000000e+00,  0.00000000e+00,  0.00000000e+00,\n",
       "         0.00000000e+00,  0.00000000e+00,  0.00000000e+00,\n",
       "         0.00000000e+00,  0.00000000e+00,  0.00000000e+00,\n",
       "         0.00000000e+00],\n",
       "       [ 7.88219538e-16,  1.44849410e-16,  5.37201107e-16,\n",
       "        -3.04025622e-01, -3.62034328e-01, -5.31198416e-01,\n",
       "         2.46556758e-01, -4.67168293e-01,  3.01662613e-01,\n",
       "        -3.52549328e-01],\n",
       "       [ 1.39513026e-15,  4.04190570e-16, -1.46744896e-16,\n",
       "         6.75212092e-01, -5.08614080e-01,  3.45789319e-01,\n",
       "        -1.17811408e-01, -3.10579763e-01,  2.00049213e-02,\n",
       "        -2.34713828e-01],\n",
       "       [-9.72414913e-17,  1.33226763e-15, -1.01860654e-17,\n",
       "        -1.23074619e-16, -1.49880108e-15,  4.30315146e-16,\n",
       "         2.25976743e-15,  5.00106016e-16,  2.57682876e-16,\n",
       "        -1.86509009e-15],\n",
       "       [-4.72093794e-16,  5.62809348e-16,  2.24353987e-16,\n",
       "        -2.02020230e-01, -4.94485911e-02,  4.21444511e-01,\n",
       "         7.04129660e-01,  9.59950129e-02, -3.74844891e-01,\n",
       "        -3.65520005e-01],\n",
       "       [ 1.00000000e+00, -6.19700807e-15,  2.30476165e-16,\n",
       "        -8.32667268e-17,  2.69360552e-15, -1.66533454e-16,\n",
       "         1.11022302e-16, -1.38777878e-16, -2.22044605e-16,\n",
       "        -2.22044605e-16],\n",
       "       [ 1.39513026e-15,  4.04190570e-16, -1.46744896e-16,\n",
       "         6.75212092e-01, -5.08614080e-01,  3.45789319e-01,\n",
       "        -1.17811408e-01, -3.10579763e-01,  2.00049213e-02,\n",
       "        -2.34713828e-01],\n",
       "       [-4.52988504e-15, -7.07106781e-01,  7.07106781e-01,\n",
       "        -1.47840579e-16, -2.06432094e-16,  4.60956791e-16,\n",
       "        -5.78548432e-16, -2.44342567e-16, -8.89458228e-16,\n",
       "        -4.46259437e-16],\n",
       "       [ 4.23400781e-15,  7.07106781e-01,  7.07106781e-01,\n",
       "        -2.47676373e-16,  9.54097912e-17,  1.63543660e-16,\n",
       "        -9.65355462e-16, -1.67333161e-17, -3.44797525e-16,\n",
       "         9.58452950e-17],\n",
       "       [ 0.00000000e+00,  0.00000000e+00,  0.00000000e+00,\n",
       "         0.00000000e+00,  0.00000000e+00,  0.00000000e+00,\n",
       "         0.00000000e+00,  0.00000000e+00,  0.00000000e+00,\n",
       "         0.00000000e+00],\n",
       "       [ 1.34995868e-15, -1.86482774e-16,  6.64120562e-16,\n",
       "         2.73967675e-02, -4.23845067e-01,  3.32747955e-02,\n",
       "         2.13438347e-01,  6.72756701e-01,  5.57702295e-01,\n",
       "         9.64790511e-02],\n",
       "       [ 3.20692026e-16, -1.39862080e-16, -9.28541275e-17,\n",
       "        -4.21614222e-01, -7.06408444e-02,  5.90430653e-01,\n",
       "        -1.85051299e-02, -4.14600244e-01,  3.69906998e-01,\n",
       "         3.99469615e-01],\n",
       "       [ 1.00000000e+00, -6.19700807e-15,  2.30476165e-16,\n",
       "        -8.32667268e-17,  2.69360552e-15, -1.66533454e-16,\n",
       "         1.11022302e-16, -1.38777878e-16, -2.22044605e-16,\n",
       "        -2.22044605e-16],\n",
       "       [-1.72946825e-15, -2.22044605e-16,  6.65520058e-16,\n",
       "         3.30969187e-01,  6.49895769e-01,  8.16283274e-02,\n",
       "         2.60345686e-01, -1.10929426e-01,  5.54114793e-01,\n",
       "        -2.72586290e-01],\n",
       "       [ 0.00000000e+00,  0.00000000e+00,  0.00000000e+00,\n",
       "         0.00000000e+00,  0.00000000e+00,  0.00000000e+00,\n",
       "         0.00000000e+00,  0.00000000e+00,  0.00000000e+00,\n",
       "         0.00000000e+00],\n",
       "       [ 7.88219538e-16,  1.44849410e-16,  5.37201107e-16,\n",
       "        -3.04025622e-01, -3.62034328e-01, -5.31198416e-01,\n",
       "         2.46556758e-01, -4.67168293e-01,  3.01662613e-01,\n",
       "        -3.52549328e-01],\n",
       "       [-1.72946825e-15, -2.22044605e-16,  6.65520058e-16,\n",
       "         3.30969187e-01,  6.49895769e-01,  8.16283274e-02,\n",
       "         2.60345686e-01, -1.10929426e-01,  5.54114793e-01,\n",
       "        -2.72586290e-01],\n",
       "       [-4.72093794e-16,  5.62809348e-16,  2.24353987e-16,\n",
       "        -2.02020230e-01, -4.94485911e-02,  4.21444511e-01,\n",
       "         7.04129660e-01,  9.59950129e-02, -3.74844891e-01,\n",
       "        -3.65520005e-01],\n",
       "       [ 1.00000000e+00, -6.19700807e-15,  2.30476165e-16,\n",
       "        -8.32667268e-17,  2.69360552e-15, -1.66533454e-16,\n",
       "         1.11022302e-16, -1.38777878e-16, -2.22044605e-16,\n",
       "        -2.22044605e-16],\n",
       "       [ 4.35201620e-17, -5.93275429e-16,  3.62753775e-17,\n",
       "        -4.15522263e-17,  7.00828284e-16, -2.76585800e-15,\n",
       "        -7.41493061e-15,  2.30432976e-16,  5.78066977e-17,\n",
       "        -1.78487639e-15],\n",
       "       [ 1.13358188e-16, -4.44522891e-17,  8.91108881e-16,\n",
       "         3.50421376e-01, -2.82563378e-02, -2.53502982e-01,\n",
       "         5.62008375e-01, -1.98188483e-01, -1.14823943e-01,\n",
       "         6.66202709e-01],\n",
       "       [-4.52988504e-15, -7.07106781e-01,  7.07106781e-01,\n",
       "        -1.47840579e-16, -2.06432094e-16,  4.60956791e-16,\n",
       "        -5.78548432e-16, -2.44342567e-16, -8.89458228e-16,\n",
       "        -4.46259437e-16],\n",
       "       [ 4.23400781e-15,  7.07106781e-01,  7.07106781e-01,\n",
       "        -2.47676373e-16,  9.54097912e-17,  1.63543660e-16,\n",
       "        -9.65355462e-16, -1.67333161e-17, -3.44797525e-16,\n",
       "         9.58452950e-17],\n",
       "       [ 1.72398744e-16, -1.14491749e-15,  2.63090969e-16,\n",
       "        -8.14395637e-17,  1.33226763e-15,  2.38184378e-15,\n",
       "         1.13715754e-16, -9.29459392e-16,  1.47620982e-16,\n",
       "        -1.95555967e-15],\n",
       "       [ 1.00000000e+00, -6.19700807e-15,  2.30476165e-16,\n",
       "        -8.32667268e-17,  2.69360552e-15, -1.66533454e-16,\n",
       "         1.11022302e-16, -1.38777878e-16, -2.22044605e-16,\n",
       "        -2.22044605e-16],\n",
       "       [ 4.72625299e-17, -4.51028104e-17,  1.02919083e-16,\n",
       "        -1.78400733e-16, -4.16333634e-17,  2.92246303e-15,\n",
       "        -2.24436179e-15,  1.10677464e-15,  4.20991980e-16,\n",
       "        -4.58004188e-16],\n",
       "       [ 1.13358188e-16, -4.44522891e-17,  8.91108881e-16,\n",
       "         3.50421376e-01, -2.82563378e-02, -2.53502982e-01,\n",
       "         5.62008375e-01, -1.98188483e-01, -1.14823943e-01,\n",
       "         6.66202709e-01],\n",
       "       [-4.52988504e-15, -7.07106781e-01,  7.07106781e-01,\n",
       "        -1.47840579e-16, -2.06432094e-16,  4.60956791e-16,\n",
       "        -5.78548432e-16, -2.44342567e-16, -8.89458228e-16,\n",
       "        -4.46259437e-16],\n",
       "       [ 4.23400781e-15,  7.07106781e-01,  7.07106781e-01,\n",
       "        -2.47676373e-16,  9.54097912e-17,  1.63543660e-16,\n",
       "        -9.65355462e-16, -1.67333161e-17, -3.44797525e-16,\n",
       "         9.58452950e-17],\n",
       "       [-5.19407945e-17,  2.17881269e-15, -1.48728972e-16,\n",
       "        -1.37790011e-16, -3.08086889e-15,  1.92906016e-15,\n",
       "        -4.83987415e-15, -3.67440030e-16, -2.85627211e-16,\n",
       "         3.82750031e-16],\n",
       "       [ 1.34995868e-15, -1.86482774e-16,  6.64120562e-16,\n",
       "         2.73967675e-02, -4.23845067e-01,  3.32747955e-02,\n",
       "         2.13438347e-01,  6.72756701e-01,  5.57702295e-01,\n",
       "         9.64790511e-02],\n",
       "       [ 0.00000000e+00,  0.00000000e+00,  0.00000000e+00,\n",
       "         0.00000000e+00,  0.00000000e+00,  0.00000000e+00,\n",
       "         0.00000000e+00,  0.00000000e+00,  0.00000000e+00,\n",
       "         0.00000000e+00]])"
      ]
     },
     "execution_count": 108,
     "metadata": {},
     "output_type": "execute_result"
    }
   ],
   "source": [
    "sparce_module_df.loc[0]"
   ]
  }
 ],
 "metadata": {
  "kernelspec": {
   "display_name": ".venv",
   "language": "python",
   "name": "python3"
  },
  "language_info": {
   "codemirror_mode": {
    "name": "ipython",
    "version": 3
   },
   "file_extension": ".py",
   "mimetype": "text/x-python",
   "name": "python",
   "nbconvert_exporter": "python",
   "pygments_lexer": "ipython3",
   "version": "3.10.11"
  },
  "orig_nbformat": 4,
  "vscode": {
   "interpreter": {
    "hash": "2315c9af7dedaeb0b2bf51504304a927c605b523f04dad98936c50abe500b408"
   }
  }
 },
 "nbformat": 4,
 "nbformat_minor": 2
}
