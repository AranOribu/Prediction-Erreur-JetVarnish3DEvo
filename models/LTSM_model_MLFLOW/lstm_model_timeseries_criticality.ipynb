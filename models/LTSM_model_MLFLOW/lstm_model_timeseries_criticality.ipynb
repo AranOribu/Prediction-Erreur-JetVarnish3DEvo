{
 "cells": [
  {
   "cell_type": "code",
   "execution_count": 1,
   "metadata": {},
   "outputs": [],
   "source": [
    "import numpy as np\n",
    "import pandas as pd\n",
    "import matplotlib.pyplot as plt\n",
    "import matplotlib.dates as mdates\n",
    "import seaborn as sns\n",
    "from sklearn.preprocessing import LabelEncoder, MinMaxScaler , OneHotEncoder\n",
    "from sklearn.model_selection import train_test_split, TimeSeriesSplit\n",
    "from sklearn.metrics import accuracy_score, classification_report, confusion_matrix\n",
    "from sklearn.metrics import precision_recall_fscore_support\n",
    "\n",
    "\n",
    "from keras.optimizers import Adam\n",
    "\n",
    "import pickle\n",
    "import joblib\n",
    "import mlflow\n",
    "import mlflow.keras\n",
    "from mlflow.models.signature import ModelSignature\n",
    "from mlflow.types import ColSpec, TensorSpec\n",
    "from mlflow.types import Schema\n",
    "\n",
    "\n",
    "import datetime\n",
    "import io\n",
    "\n",
    "from tensorflow.keras.models import Sequential\n",
    "from tensorflow.keras.layers import LSTM, Dense, Dropout\n",
    "from tensorflow.keras.callbacks import EarlyStopping\n",
    "from tensorflow.keras.callbacks import ModelCheckpoint\n",
    "from tensorflow.keras.models import load_model\n",
    "from tensorflow.keras.regularizers import L2\n"
   ]
  },
  {
   "cell_type": "code",
   "execution_count": 2,
   "metadata": {},
   "outputs": [
    {
     "name": "stderr",
     "output_type": "stream",
     "text": [
      "C:\\Users\\Arthur\\AppData\\Local\\Temp\\ipykernel_5772\\832058585.py:5: DtypeWarning: Columns (2,3,4,5,6) have mixed types. Specify dtype option on import or set low_memory=False.\n",
      "  df = pd.read_csv(\n"
     ]
    },
    {
     "data": {
      "text/html": [
       "<div>\n",
       "<style scoped>\n",
       "    .dataframe tbody tr th:only-of-type {\n",
       "        vertical-align: middle;\n",
       "    }\n",
       "\n",
       "    .dataframe tbody tr th {\n",
       "        vertical-align: top;\n",
       "    }\n",
       "\n",
       "    .dataframe thead th {\n",
       "        text-align: right;\n",
       "    }\n",
       "</style>\n",
       "<table border=\"1\" class=\"dataframe\">\n",
       "  <thead>\n",
       "    <tr style=\"text-align: right;\">\n",
       "      <th></th>\n",
       "      <th>id</th>\n",
       "      <th>source_events</th>\n",
       "      <th>message_events</th>\n",
       "      <th>timestamp_events</th>\n",
       "      <th>criticality_events</th>\n",
       "      <th>identification_events</th>\n",
       "      <th>sn_modules</th>\n",
       "      <th>name_modules</th>\n",
       "      <th>type_modules</th>\n",
       "      <th>generation_modules</th>\n",
       "      <th>name_counters_modules</th>\n",
       "      <th>value_counters_modules</th>\n",
       "      <th>name_connected_operators</th>\n",
       "      <th>level_connected_operators</th>\n",
       "      <th>status</th>\n",
       "      <th>created_at</th>\n",
       "      <th>varnishLevelsTargetvolume</th>\n",
       "      <th>varnishLevelsTotalvolume</th>\n",
       "    </tr>\n",
       "  </thead>\n",
       "  <tbody>\n",
       "    <tr>\n",
       "      <th>35738</th>\n",
       "      <td>4169748</td>\n",
       "      <td>NaN</td>\n",
       "      <td>NaN</td>\n",
       "      <td>NaN</td>\n",
       "      <td>NaN</td>\n",
       "      <td>NaN</td>\n",
       "      <td>NaN</td>\n",
       "      <td>Print Engine 1</td>\n",
       "      <td>Varnish Printer</td>\n",
       "      <td>NaN</td>\n",
       "      <td>3D Varnish Counter</td>\n",
       "      <td>1792992</td>\n",
       "      <td>Viktor</td>\n",
       "      <td>Operator</td>\n",
       "      <td>WARNING</td>\n",
       "      <td>2022-04-15 05:55:06.678000</td>\n",
       "      <td>36192.322612</td>\n",
       "      <td>100000</td>\n",
       "    </tr>\n",
       "    <tr>\n",
       "      <th>35737</th>\n",
       "      <td>4169748</td>\n",
       "      <td>NaN</td>\n",
       "      <td>NaN</td>\n",
       "      <td>NaN</td>\n",
       "      <td>NaN</td>\n",
       "      <td>NaN</td>\n",
       "      <td>NaN</td>\n",
       "      <td>iFoil L</td>\n",
       "      <td>iFoil</td>\n",
       "      <td>Gen. 2</td>\n",
       "      <td>Foiled Pages Counter</td>\n",
       "      <td>31092</td>\n",
       "      <td>Viktor</td>\n",
       "      <td>Operator</td>\n",
       "      <td>WARNING</td>\n",
       "      <td>2022-04-15 05:55:06.678000</td>\n",
       "      <td>36192.322612</td>\n",
       "      <td>100000</td>\n",
       "    </tr>\n",
       "  </tbody>\n",
       "</table>\n",
       "</div>"
      ],
      "text/plain": [
       "            id source_events message_events timestamp_events  \\\n",
       "35738  4169748           NaN            NaN              NaN   \n",
       "35737  4169748           NaN            NaN              NaN   \n",
       "\n",
       "      criticality_events identification_events  sn_modules    name_modules  \\\n",
       "35738                NaN                   NaN         NaN  Print Engine 1   \n",
       "35737                NaN                   NaN         NaN         iFoil L   \n",
       "\n",
       "          type_modules generation_modules name_counters_modules  \\\n",
       "35738  Varnish Printer                NaN    3D Varnish Counter   \n",
       "35737            iFoil             Gen. 2  Foiled Pages Counter   \n",
       "\n",
       "       value_counters_modules name_connected_operators  \\\n",
       "35738                 1792992                   Viktor   \n",
       "35737                   31092                   Viktor   \n",
       "\n",
       "      level_connected_operators   status                  created_at  \\\n",
       "35738                  Operator  WARNING  2022-04-15 05:55:06.678000   \n",
       "35737                  Operator  WARNING  2022-04-15 05:55:06.678000   \n",
       "\n",
       "       varnishLevelsTargetvolume  varnishLevelsTotalvolume  \n",
       "35738               36192.322612                    100000  \n",
       "35737               36192.322612                    100000  "
      ]
     },
     "execution_count": 2,
     "metadata": {},
     "output_type": "execute_result"
    }
   ],
   "source": [
    "# nom de fichier et chemin relatif\n",
    "filename = 'raw_merge_metrics_dataset.csv'\n",
    "path = '../../data/metrics/'\n",
    "# création d'un dataframe à partir du csv de données\n",
    "df = pd.read_csv(\n",
    "    path+filename, index_col=0).sort_values(by='created_at', ascending=True)\n",
    "df.head(2)\n"
   ]
  },
  {
   "cell_type": "code",
   "execution_count": 3,
   "metadata": {},
   "outputs": [
    {
     "data": {
      "text/html": [
       "<div>\n",
       "<style scoped>\n",
       "    .dataframe tbody tr th:only-of-type {\n",
       "        vertical-align: middle;\n",
       "    }\n",
       "\n",
       "    .dataframe tbody tr th {\n",
       "        vertical-align: top;\n",
       "    }\n",
       "\n",
       "    .dataframe thead th {\n",
       "        text-align: right;\n",
       "    }\n",
       "</style>\n",
       "<table border=\"1\" class=\"dataframe\">\n",
       "  <thead>\n",
       "    <tr style=\"text-align: right;\">\n",
       "      <th></th>\n",
       "      <th>id</th>\n",
       "      <th>source_events</th>\n",
       "      <th>message_events</th>\n",
       "      <th>timestamp_events</th>\n",
       "      <th>criticality_events</th>\n",
       "      <th>identification_events</th>\n",
       "      <th>sn_modules</th>\n",
       "      <th>name_modules</th>\n",
       "      <th>type_modules</th>\n",
       "      <th>generation_modules</th>\n",
       "      <th>name_counters_modules</th>\n",
       "      <th>value_counters_modules</th>\n",
       "      <th>name_connected_operators</th>\n",
       "      <th>level_connected_operators</th>\n",
       "      <th>status</th>\n",
       "      <th>varnishLevelsTargetvolume</th>\n",
       "      <th>varnishLevelsTotalvolume</th>\n",
       "    </tr>\n",
       "    <tr>\n",
       "      <th>created_at</th>\n",
       "      <th></th>\n",
       "      <th></th>\n",
       "      <th></th>\n",
       "      <th></th>\n",
       "      <th></th>\n",
       "      <th></th>\n",
       "      <th></th>\n",
       "      <th></th>\n",
       "      <th></th>\n",
       "      <th></th>\n",
       "      <th></th>\n",
       "      <th></th>\n",
       "      <th></th>\n",
       "      <th></th>\n",
       "      <th></th>\n",
       "      <th></th>\n",
       "      <th></th>\n",
       "    </tr>\n",
       "  </thead>\n",
       "  <tbody>\n",
       "    <tr>\n",
       "      <th>2022-04-15 05:55:06.678</th>\n",
       "      <td>4169748</td>\n",
       "      <td>NaN</td>\n",
       "      <td>NaN</td>\n",
       "      <td>NaN</td>\n",
       "      <td>NaN</td>\n",
       "      <td>NaN</td>\n",
       "      <td>NaN</td>\n",
       "      <td>Print Engine 1</td>\n",
       "      <td>Varnish Printer</td>\n",
       "      <td>NaN</td>\n",
       "      <td>3D Varnish Counter</td>\n",
       "      <td>1792992</td>\n",
       "      <td>Viktor</td>\n",
       "      <td>Operator</td>\n",
       "      <td>WARNING</td>\n",
       "      <td>36192.322612</td>\n",
       "      <td>100000</td>\n",
       "    </tr>\n",
       "    <tr>\n",
       "      <th>2022-04-15 05:55:06.678</th>\n",
       "      <td>4169748</td>\n",
       "      <td>NaN</td>\n",
       "      <td>NaN</td>\n",
       "      <td>NaN</td>\n",
       "      <td>NaN</td>\n",
       "      <td>NaN</td>\n",
       "      <td>NaN</td>\n",
       "      <td>iFoil L</td>\n",
       "      <td>iFoil</td>\n",
       "      <td>Gen. 2</td>\n",
       "      <td>Foiled Pages Counter</td>\n",
       "      <td>31092</td>\n",
       "      <td>Viktor</td>\n",
       "      <td>Operator</td>\n",
       "      <td>WARNING</td>\n",
       "      <td>36192.322612</td>\n",
       "      <td>100000</td>\n",
       "    </tr>\n",
       "    <tr>\n",
       "      <th>2022-04-15 05:55:06.678</th>\n",
       "      <td>4169748</td>\n",
       "      <td>NaN</td>\n",
       "      <td>NaN</td>\n",
       "      <td>NaN</td>\n",
       "      <td>NaN</td>\n",
       "      <td>NaN</td>\n",
       "      <td>NaN</td>\n",
       "      <td>iFoil L</td>\n",
       "      <td>iFoil</td>\n",
       "      <td>Gen. 2</td>\n",
       "      <td>Total Pages Counter</td>\n",
       "      <td>22881</td>\n",
       "      <td>Viktor</td>\n",
       "      <td>Operator</td>\n",
       "      <td>WARNING</td>\n",
       "      <td>36192.322612</td>\n",
       "      <td>100000</td>\n",
       "    </tr>\n",
       "    <tr>\n",
       "      <th>2022-04-15 05:55:06.829</th>\n",
       "      <td>4169749</td>\n",
       "      <td>NaN</td>\n",
       "      <td>NaN</td>\n",
       "      <td>NaN</td>\n",
       "      <td>NaN</td>\n",
       "      <td>NaN</td>\n",
       "      <td>NaN</td>\n",
       "      <td>iFoil L</td>\n",
       "      <td>iFoil</td>\n",
       "      <td>Gen. 2</td>\n",
       "      <td>Foiled Pages Counter</td>\n",
       "      <td>31092</td>\n",
       "      <td>Viktor</td>\n",
       "      <td>Operator</td>\n",
       "      <td>WARNING</td>\n",
       "      <td>36192.322612</td>\n",
       "      <td>100000</td>\n",
       "    </tr>\n",
       "    <tr>\n",
       "      <th>2022-04-15 05:55:06.829</th>\n",
       "      <td>4169749</td>\n",
       "      <td>NaN</td>\n",
       "      <td>NaN</td>\n",
       "      <td>NaN</td>\n",
       "      <td>NaN</td>\n",
       "      <td>NaN</td>\n",
       "      <td>NaN</td>\n",
       "      <td>iFoil L</td>\n",
       "      <td>iFoil</td>\n",
       "      <td>Gen. 2</td>\n",
       "      <td>Total Pages Counter</td>\n",
       "      <td>22881</td>\n",
       "      <td>Viktor</td>\n",
       "      <td>Operator</td>\n",
       "      <td>WARNING</td>\n",
       "      <td>36192.322612</td>\n",
       "      <td>100000</td>\n",
       "    </tr>\n",
       "  </tbody>\n",
       "</table>\n",
       "</div>"
      ],
      "text/plain": [
       "                              id source_events message_events  \\\n",
       "created_at                                                      \n",
       "2022-04-15 05:55:06.678  4169748           NaN            NaN   \n",
       "2022-04-15 05:55:06.678  4169748           NaN            NaN   \n",
       "2022-04-15 05:55:06.678  4169748           NaN            NaN   \n",
       "2022-04-15 05:55:06.829  4169749           NaN            NaN   \n",
       "2022-04-15 05:55:06.829  4169749           NaN            NaN   \n",
       "\n",
       "                        timestamp_events criticality_events  \\\n",
       "created_at                                                    \n",
       "2022-04-15 05:55:06.678              NaN                NaN   \n",
       "2022-04-15 05:55:06.678              NaN                NaN   \n",
       "2022-04-15 05:55:06.678              NaN                NaN   \n",
       "2022-04-15 05:55:06.829              NaN                NaN   \n",
       "2022-04-15 05:55:06.829              NaN                NaN   \n",
       "\n",
       "                        identification_events  sn_modules    name_modules  \\\n",
       "created_at                                                                  \n",
       "2022-04-15 05:55:06.678                   NaN         NaN  Print Engine 1   \n",
       "2022-04-15 05:55:06.678                   NaN         NaN         iFoil L   \n",
       "2022-04-15 05:55:06.678                   NaN         NaN         iFoil L   \n",
       "2022-04-15 05:55:06.829                   NaN         NaN         iFoil L   \n",
       "2022-04-15 05:55:06.829                   NaN         NaN         iFoil L   \n",
       "\n",
       "                            type_modules generation_modules  \\\n",
       "created_at                                                    \n",
       "2022-04-15 05:55:06.678  Varnish Printer                NaN   \n",
       "2022-04-15 05:55:06.678            iFoil             Gen. 2   \n",
       "2022-04-15 05:55:06.678            iFoil             Gen. 2   \n",
       "2022-04-15 05:55:06.829            iFoil             Gen. 2   \n",
       "2022-04-15 05:55:06.829            iFoil             Gen. 2   \n",
       "\n",
       "                        name_counters_modules  value_counters_modules  \\\n",
       "created_at                                                              \n",
       "2022-04-15 05:55:06.678    3D Varnish Counter                 1792992   \n",
       "2022-04-15 05:55:06.678  Foiled Pages Counter                   31092   \n",
       "2022-04-15 05:55:06.678   Total Pages Counter                   22881   \n",
       "2022-04-15 05:55:06.829  Foiled Pages Counter                   31092   \n",
       "2022-04-15 05:55:06.829   Total Pages Counter                   22881   \n",
       "\n",
       "                        name_connected_operators level_connected_operators  \\\n",
       "created_at                                                                   \n",
       "2022-04-15 05:55:06.678                   Viktor                  Operator   \n",
       "2022-04-15 05:55:06.678                   Viktor                  Operator   \n",
       "2022-04-15 05:55:06.678                   Viktor                  Operator   \n",
       "2022-04-15 05:55:06.829                   Viktor                  Operator   \n",
       "2022-04-15 05:55:06.829                   Viktor                  Operator   \n",
       "\n",
       "                          status  varnishLevelsTargetvolume  \\\n",
       "created_at                                                    \n",
       "2022-04-15 05:55:06.678  WARNING               36192.322612   \n",
       "2022-04-15 05:55:06.678  WARNING               36192.322612   \n",
       "2022-04-15 05:55:06.678  WARNING               36192.322612   \n",
       "2022-04-15 05:55:06.829  WARNING               36192.322612   \n",
       "2022-04-15 05:55:06.829  WARNING               36192.322612   \n",
       "\n",
       "                         varnishLevelsTotalvolume  \n",
       "created_at                                         \n",
       "2022-04-15 05:55:06.678                    100000  \n",
       "2022-04-15 05:55:06.678                    100000  \n",
       "2022-04-15 05:55:06.678                    100000  \n",
       "2022-04-15 05:55:06.829                    100000  \n",
       "2022-04-15 05:55:06.829                    100000  "
      ]
     },
     "execution_count": 3,
     "metadata": {},
     "output_type": "execute_result"
    }
   ],
   "source": [
    "df['created_at'] = pd.to_datetime(df['created_at'])\n",
    "\n",
    "df = df.sort_values(by='created_at')\n",
    "df.set_index('created_at', inplace=True)\n",
    "\n",
    "df.head(5)"
   ]
  },
  {
   "cell_type": "code",
   "execution_count": 4,
   "metadata": {},
   "outputs": [
    {
     "data": {
      "text/plain": [
       "Index(['id', 'source_events', 'message_events', 'timestamp_events',\n",
       "       'criticality_events', 'identification_events', 'sn_modules',\n",
       "       'name_modules', 'type_modules', 'generation_modules',\n",
       "       'name_counters_modules', 'value_counters_modules',\n",
       "       'name_connected_operators', 'level_connected_operators', 'status',\n",
       "       'varnishLevelsTargetvolume', 'varnishLevelsTotalvolume'],\n",
       "      dtype='object')"
      ]
     },
     "execution_count": 4,
     "metadata": {},
     "output_type": "execute_result"
    }
   ],
   "source": [
    "df.columns"
   ]
  },
  {
   "cell_type": "code",
   "execution_count": 5,
   "metadata": {},
   "outputs": [
    {
     "data": {
      "text/plain": [
       "(3510431, 17)"
      ]
     },
     "execution_count": 5,
     "metadata": {},
     "output_type": "execute_result"
    }
   ],
   "source": [
    "df.shape"
   ]
  },
  {
   "cell_type": "code",
   "execution_count": 6,
   "metadata": {},
   "outputs": [
    {
     "name": "stdout",
     "output_type": "stream",
     "text": [
      "Columns with missing values:\n",
      "source_events            True\n",
      "message_events           True\n",
      "timestamp_events         True\n",
      "criticality_events       True\n",
      "identification_events    True\n",
      "sn_modules               True\n",
      "generation_modules       True\n",
      "dtype: bool\n"
     ]
    }
   ],
   "source": [
    "null_columns = df.isna().any()\n",
    "print(\"Columns with missing values:\")\n",
    "print(null_columns[null_columns == True])\n"
   ]
  },
  {
   "cell_type": "code",
   "execution_count": 7,
   "metadata": {},
   "outputs": [
    {
     "data": {
      "text/plain": [
       "(3510431, 17)"
      ]
     },
     "execution_count": 7,
     "metadata": {},
     "output_type": "execute_result"
    }
   ],
   "source": [
    "df.drop_duplicates()\n",
    "df.shape\n"
   ]
  },
  {
   "cell_type": "code",
   "execution_count": 8,
   "metadata": {},
   "outputs": [],
   "source": [
    "# cela va supprimer la colonne sn car vide\n",
    "df.dropna(axis='columns', how='all', inplace=True)"
   ]
  },
  {
   "cell_type": "code",
   "execution_count": 9,
   "metadata": {},
   "outputs": [
    {
     "data": {
      "text/plain": [
       "3"
      ]
     },
     "execution_count": 9,
     "metadata": {},
     "output_type": "execute_result"
    }
   ],
   "source": [
    "df['varnishLevelsTotalvolume'].nunique()"
   ]
  },
  {
   "cell_type": "code",
   "execution_count": 10,
   "metadata": {},
   "outputs": [
    {
     "data": {
      "text/plain": [
       "1"
      ]
     },
     "execution_count": 10,
     "metadata": {},
     "output_type": "execute_result"
    }
   ],
   "source": [
    "df['generation_modules'].nunique()"
   ]
  },
  {
   "cell_type": "code",
   "execution_count": 11,
   "metadata": {},
   "outputs": [],
   "source": [
    "# on supprime les colonnes :\n",
    "# message events car redondante avec la colonne identification_events \n",
    "# id , name_connected_operators, level_connected_operators car inutiles pour entrainer le model\n",
    "# timestamp_events : on a déjà une date pour l'index qui servi pour les prediction dans le temps\n",
    "# A VERIFIER : generation_modules , la colonne dispose d'une seul valeur qui est 'gen2' \n",
    "# 'name_modules' information redondante avec 'type_modules'\n",
    "df.drop(columns=['message_events','type_modules','id','name_connected_operators','level_connected_operators','generation_modules','timestamp_events'], inplace=True)"
   ]
  },
  {
   "cell_type": "code",
   "execution_count": 12,
   "metadata": {},
   "outputs": [
    {
     "data": {
      "text/plain": [
       "(3510431, 9)"
      ]
     },
     "execution_count": 12,
     "metadata": {},
     "output_type": "execute_result"
    }
   ],
   "source": [
    "df.shape"
   ]
  },
  {
   "cell_type": "code",
   "execution_count": 13,
   "metadata": {},
   "outputs": [
    {
     "data": {
      "text/plain": [
       "array([nan, '391', '330', '332', '333', '377', '334', '331',\n",
       "       'Kernel_Error', '315', '417', '406', '407', '352', '344',\n",
       "       'ICB communication error', '376', '445', '325', '343', '345',\n",
       "       '358', '453', '381', '354', '313', '447', '454', '387', '386',\n",
       "       '372', '371', '480', '323', '311', '479', '351', '440', '324',\n",
       "       '321', '0', '349', 'RCB communication error', '385', '357', '418',\n",
       "       '446', '355', '389', '476', '356', 'iFoil communication error',\n",
       "       '460', '472', '405', '380', '388', '408', '320', '329', '350',\n",
       "       '475', '466', '416', '411', '346', '471', 445.0, 391.0, '327',\n",
       "       430.0, '430', '444', '2', '326', '419',\n",
       "       'Pilot communication error', '359', '322', 333.0, 330.0, 332.0,\n",
       "       334.0, 331.0, 377.0, 315.0, 406.0, 407.0, 376.0, 325.0, 454.0,\n",
       "       313.0, 352.0, 344.0, 385.0, 386.0, 371.0, '384'], dtype=object)"
      ]
     },
     "execution_count": 13,
     "metadata": {},
     "output_type": "execute_result"
    }
   ],
   "source": [
    "df['identification_events'].unique()"
   ]
  },
  {
   "cell_type": "code",
   "execution_count": 14,
   "metadata": {},
   "outputs": [],
   "source": [
    "# Initialize a dictionary to store the mapping for non-integer strings\n",
    "non_int_string_mapping = {}\n",
    "next_mapping_value = 1000\n",
    "# 'Kernel_Error' = 1000 , 'ICB communication error' = 1001 ; 'RCB communication error' = 1002 , 'iFoil communication error' = 1003 , 'Pilot communication error' = \n",
    "\n",
    "# Function to convert the value\n",
    "def convert_value(value):\n",
    "    global next_mapping_value\n",
    "\n",
    "    if pd.isna(value):\n",
    "        return value\n",
    "\n",
    "    if isinstance(value, (int, float)):\n",
    "        return int(value)\n",
    "    \n",
    "    if value.isdigit():\n",
    "        return int(value)\n",
    "    \n",
    "    if value not in non_int_string_mapping:\n",
    "        non_int_string_mapping[value] = next_mapping_value\n",
    "        next_mapping_value += 1\n",
    "        \n",
    "    return non_int_string_mapping[value]\n",
    "\n",
    "# Apply the conversion function to the 'identification_events' column\n",
    "df['identification_events'] = df['identification_events'].apply(convert_value)\n",
    "\n",
    "# Convert the column to integers, keeping NaN values as float\n",
    "df['identification_events'] = df['identification_events'].astype(pd.Int64Dtype())"
   ]
  },
  {
   "cell_type": "code",
   "execution_count": 15,
   "metadata": {},
   "outputs": [
    {
     "data": {
      "text/plain": [
       "<IntegerArray>\n",
       "[<NA>,  391,  330,  332,  333,  377,  334,  331, 1000,  315,  417,  406,  407,\n",
       "  352,  344, 1001,  376,  445,  325,  343,  345,  358,  453,  381,  354,  313,\n",
       "  447,  454,  387,  386,  372,  371,  480,  323,  311,  479,  351,  440,  324,\n",
       "  321,    0,  349, 1002,  385,  357,  418,  446,  355,  389,  476,  356, 1003,\n",
       "  460,  472,  405,  380,  388,  408,  320,  329,  350,  475,  466,  416,  411,\n",
       "  346,  471,  327,  430,  444,    2,  326,  419, 1004,  359,  322,  384]\n",
       "Length: 77, dtype: Int64"
      ]
     },
     "execution_count": 15,
     "metadata": {},
     "output_type": "execute_result"
    }
   ],
   "source": [
    "df['identification_events'].unique()"
   ]
  },
  {
   "cell_type": "code",
   "execution_count": 16,
   "metadata": {},
   "outputs": [
    {
     "data": {
      "text/plain": [
       "array([nan, 'PLC', 'iFoil', 'Kernel', 'ICB n°5', 'RCB n°1', 'RCB n°3',\n",
       "       'RCB n°2', 'ICB n°4', 'ICB n°7', 'ICB n°8', 'ICB n°2', 'ICB n°1',\n",
       "       'ICB n°6', 'Pilot'], dtype=object)"
      ]
     },
     "execution_count": 16,
     "metadata": {},
     "output_type": "execute_result"
    }
   ],
   "source": [
    "df['source_events'].unique()"
   ]
  },
  {
   "cell_type": "code",
   "execution_count": 17,
   "metadata": {},
   "outputs": [
    {
     "name": "stdout",
     "output_type": "stream",
     "text": [
      "source_events: 3416265 valeurs manquantes sur 3510431\n",
      "criticality_events: 3416265 valeurs manquantes sur 3510431\n",
      "identification_events: 3416265 valeurs manquantes sur 3510431\n"
     ]
    }
   ],
   "source": [
    "# count null values in each column\n",
    "null_values_count = df.isnull().sum()\n",
    "\n",
    "for column, value in null_values_count.items():\n",
    "    if value > 0:\n",
    "        print(f\"{column}: {value} valeurs manquantes sur {df.shape[0]}\")\n"
   ]
  },
  {
   "cell_type": "code",
   "execution_count": 18,
   "metadata": {},
   "outputs": [
    {
     "data": {
      "text/plain": [
       "INFO       68501\n",
       "WARNING    12848\n",
       "ERROR      12817\n",
       "Name: criticality_events, dtype: int64"
      ]
     },
     "execution_count": 18,
     "metadata": {},
     "output_type": "execute_result"
    }
   ],
   "source": [
    "df['criticality_events'].value_counts()"
   ]
  },
  {
   "cell_type": "code",
   "execution_count": 19,
   "metadata": {},
   "outputs": [
    {
     "data": {
      "text/plain": [
       "['name_modules', 'name_counters_modules', 'source_events']"
      ]
     },
     "execution_count": 19,
     "metadata": {},
     "output_type": "execute_result"
    }
   ],
   "source": [
    "# Identify categorical columns (excluding the target column 'criticality')\n",
    "categorical_columns = ['name_modules',  'name_counters_modules', 'source_events']\n",
    "\n",
    "categorical_columns"
   ]
  },
  {
   "cell_type": "code",
   "execution_count": 20,
   "metadata": {},
   "outputs": [],
   "source": [
    "# Drop rows with 'nan' in 'criticality_events'\n",
    "df.dropna(subset=['criticality_events'], inplace=True)"
   ]
  },
  {
   "cell_type": "code",
   "execution_count": 21,
   "metadata": {},
   "outputs": [
    {
     "data": {
      "text/plain": [
       "DatetimeIndex(['2022-04-15 05:55:06.829000', '2022-04-15 06:06:35.404000',\n",
       "               '2022-04-15 06:06:35.404000', '2022-04-15 06:06:35.404000',\n",
       "               '2022-04-15 06:07:05.443000', '2022-04-15 06:07:15.471000',\n",
       "               '2022-04-15 06:07:15.471000', '2022-04-15 06:08:25.616000',\n",
       "               '2022-04-15 06:09:45.826000', '2022-04-15 06:09:55.832000',\n",
       "               ...\n",
       "               '2022-12-12 08:17:37.527000', '2022-12-12 08:17:47.537000',\n",
       "               '2022-12-12 08:18:07.564000', '2022-12-12 08:18:07.564000',\n",
       "               '2022-12-12 08:18:57.633000', '2022-12-12 08:19:07.632000',\n",
       "               '2022-12-12 08:19:07.632000', '2022-12-12 08:19:48.688000',\n",
       "               '2022-12-12 08:20:17.777000', '2022-12-12 08:21:18.076000'],\n",
       "              dtype='datetime64[ns]', name='created_at', length=94166, freq=None)"
      ]
     },
     "execution_count": 21,
     "metadata": {},
     "output_type": "execute_result"
    }
   ],
   "source": [
    "df.index"
   ]
  },
  {
   "cell_type": "code",
   "execution_count": 22,
   "metadata": {},
   "outputs": [],
   "source": [
    "# 1. Select the last row from `X_test` (before encoding) for an MLFLOW input example\n",
    "last_row_enxample = df.iloc[-1]\n",
    "\n",
    "# 2. Create a JSON object using the original row and column names\n",
    "example_input_json = last_row_enxample.to_dict()\n",
    "\n",
    "# Save the JSON object to a file\n",
    "import json\n",
    "with open(\"example_input.json\", \"w\") as f:\n",
    "    json.dump(example_input_json, f)"
   ]
  },
  {
   "cell_type": "code",
   "execution_count": 23,
   "metadata": {},
   "outputs": [
    {
     "name": "stderr",
     "output_type": "stream",
     "text": [
      "c:\\Users\\Arthur\\Desktop\\AI Project\\MGI\\Prediction_erreur_JetVarnish3D\\.venv\\lib\\site-packages\\sklearn\\preprocessing\\_encoders.py:868: FutureWarning: `sparse` was renamed to `sparse_output` in version 1.2 and will be removed in 1.4. `sparse_output` is ignored unless you leave `sparse` to its default value.\n",
      "  warnings.warn(\n"
     ]
    }
   ],
   "source": [
    "# One-hot encode categorical columns except for 'criticality_events'\n",
    "cat_columns = ['name_modules', 'name_counters_modules', 'source_events']\n",
    "\n",
    "# Initialize OneHotEncoder\n",
    "ohe = OneHotEncoder(sparse=False)\n",
    "\n",
    "# Fit and transform the categorical columns\n",
    "cat_data_encoded = ohe.fit_transform(df[cat_columns])\n",
    "\n",
    "# Convert the encoded data to a DataFrame\n",
    "cat_data_encoded_df = pd.DataFrame(cat_data_encoded, columns=ohe.get_feature_names_out(cat_columns))\n",
    "\n",
    "# Drop the original categorical columns from the DataFrame\n",
    "df_encoded = df.drop(cat_columns, axis=1)\n",
    "\n",
    "# Reset the index of both DataFrames to avoid index-related issues\n",
    "df_encoded.reset_index(drop=True, inplace=True)\n",
    "cat_data_encoded_df.reset_index(drop=True, inplace=True)\n",
    "\n",
    "# Concatenate the one-hot encoded DataFrame with the original DataFrame\n",
    "df_encoded = pd.concat([df_encoded, cat_data_encoded_df], axis=1)\n",
    "\n",
    "# Label encode 'criticality_events' column\n",
    "le = LabelEncoder()\n",
    "le.classes_ = np.array(['INFO', 'WARNING', 'ERROR'])\n",
    "df_encoded['criticality_events'] = le.fit_transform(df_encoded['criticality_events'])\n"
   ]
  },
  {
   "cell_type": "code",
   "execution_count": 24,
   "metadata": {},
   "outputs": [],
   "source": [
    "# Normalize numerical columns\n",
    "numerical_columns = ['value_counters_modules', 'identification_events', 'varnishLevelsTargetvolume', 'varnishLevelsTotalvolume']\n",
    "scaler = MinMaxScaler()\n",
    "df_encoded[numerical_columns] = scaler.fit_transform(df_encoded[numerical_columns])"
   ]
  },
  {
   "cell_type": "code",
   "execution_count": 29,
   "metadata": {},
   "outputs": [],
   "source": [
    "df_encoded = df_encoded.drop([\"status\"], axis=1)"
   ]
  },
  {
   "cell_type": "code",
   "execution_count": 31,
   "metadata": {},
   "outputs": [],
   "source": [
    "df_encoded.to_csv(\"../../data/metrics/Predict_csv.csv\")"
   ]
  },
  {
   "cell_type": "code",
   "execution_count": null,
   "metadata": {},
   "outputs": [],
   "source": [
    "# Split dataset into X and y\n",
    "X = df_encoded.drop('criticality_events', axis=1)\n",
    "y = df_encoded['criticality_events']"
   ]
  },
  {
   "cell_type": "code",
   "execution_count": 25,
   "metadata": {},
   "outputs": [
    {
     "data": {
      "text/plain": [
       "Index(['identification_events', 'value_counters_modules', 'status',\n",
       "       'varnishLevelsTargetvolume', 'varnishLevelsTotalvolume',\n",
       "       'name_modules_Print Engine 1', 'name_modules_iFoil L',\n",
       "       'name_counters_modules_3D Varnish Counter',\n",
       "       'name_counters_modules_Foiled Pages Counter',\n",
       "       'name_counters_modules_Total Pages Counter', 'source_events_ICB n°1',\n",
       "       'source_events_ICB n°2', 'source_events_ICB n°4',\n",
       "       'source_events_ICB n°5', 'source_events_ICB n°6',\n",
       "       'source_events_ICB n°7', 'source_events_ICB n°8',\n",
       "       'source_events_Kernel', 'source_events_PLC', 'source_events_Pilot',\n",
       "       'source_events_RCB n°1', 'source_events_RCB n°2',\n",
       "       'source_events_RCB n°3', 'source_events_iFoil'],\n",
       "      dtype='object')"
      ]
     },
     "execution_count": 25,
     "metadata": {},
     "output_type": "execute_result"
    }
   ],
   "source": [
    "X.columns"
   ]
  },
  {
   "cell_type": "code",
   "execution_count": 26,
   "metadata": {},
   "outputs": [
    {
     "data": {
      "text/plain": [
       "(94166, 24)"
      ]
     },
     "execution_count": 26,
     "metadata": {},
     "output_type": "execute_result"
    }
   ],
   "source": [
    "X.shape"
   ]
  },
  {
   "cell_type": "code",
   "execution_count": 94,
   "metadata": {},
   "outputs": [],
   "source": [
    "# Function to create sequences\n",
    "def create_sequences(X_data, y_data, seq_length):\n",
    "    xs, ys = [], []\n",
    "    for i in range(len(X_data) - seq_length):\n",
    "        x = X_data.iloc[i:(i + seq_length)].values\n",
    "        y = y_data.iloc[i + seq_length]\n",
    "        xs.append(x)\n",
    "        ys.append(y)\n",
    "    return np.array(xs), np.array(ys)"
   ]
  },
  {
   "cell_type": "code",
   "execution_count": 95,
   "metadata": {},
   "outputs": [],
   "source": [
    "# TimeSeriesSplit\n",
    "tscv = TimeSeriesSplit(n_splits=5)\n",
    "for train_index, test_index in tscv.split(X):\n",
    "    X_train, X_test = X.iloc[train_index], X.iloc[test_index]\n",
    "    y_train, y_test = y.iloc[train_index], y.iloc[test_index]\n",
    "\n",
    "# Store the original index information for X_test and y_test\n",
    "X_test_index = X_test.index\n",
    "y_test_index = y_test.index"
   ]
  },
  {
   "cell_type": "code",
   "execution_count": 96,
   "metadata": {},
   "outputs": [],
   "source": [
    "# Reshape the input data into sequences of the specified length\n",
    "sequence_length = 1\n",
    "X_train, y_train = create_sequences(X_train, y_train, sequence_length)\n",
    "X_test, y_test = create_sequences(X_test, y_test, sequence_length)\n"
   ]
  },
  {
   "cell_type": "code",
   "execution_count": 97,
   "metadata": {},
   "outputs": [],
   "source": [
    "# Define the input schema\n",
    "input_schema = Schema([\n",
    "    TensorSpec(type=np.dtype(np.float64), shape=(-1, X_train.shape[1], X_train.shape[2]), name='input')\n",
    "])\n",
    "\n",
    "# Define the output schema\n",
    "output_schema = Schema([\n",
    "    ColSpec(type='integer', name='output')\n",
    "])\n",
    "\n",
    "# Create the signature\n",
    "signature = ModelSignature(inputs=input_schema, outputs=output_schema)"
   ]
  },
  {
   "cell_type": "code",
   "execution_count": 98,
   "metadata": {},
   "outputs": [],
   "source": [
    "# Reshape for LSTM\n",
    "X_train = X_train.reshape(X_train.shape[0], X_train.shape[1], X_train.shape[2])\n",
    "X_test = X_test.reshape(X_test.shape[0], X_test.shape[1], X_test.shape[2])"
   ]
  },
  {
   "cell_type": "code",
   "execution_count": 99,
   "metadata": {},
   "outputs": [
    {
     "data": {
      "text/plain": [
       "(15693, 1, 23)"
      ]
     },
     "execution_count": 99,
     "metadata": {},
     "output_type": "execute_result"
    }
   ],
   "source": [
    "X_test.shape"
   ]
  },
  {
   "cell_type": "code",
   "execution_count": 100,
   "metadata": {},
   "outputs": [
    {
     "name": "stdout",
     "output_type": "stream",
     "text": [
      "491/491 [==============================] - 1s 1ms/step\n",
      "[[0.1402995  0.7024219  0.15727861]\n",
      " [0.14033735 0.7023685  0.15729421]\n",
      " [0.14007603 0.70273757 0.15718646]\n",
      " ...\n",
      " [0.13429974 0.71091443 0.15478586]\n",
      " [0.13429974 0.71091443 0.15478586]\n",
      " [0.13433489 0.710865   0.1548001 ]]\n"
     ]
    }
   ],
   "source": [
    "import mlflow\n",
    "import mlflow.keras\n",
    "import pandas as pd\n",
    "\n",
    "# charger le modèle enregistré\n",
    "model_uri = \"runs:/7e33dd8ce5104fc3b194f2c564f42202/trained_model\"  # spécifier le chemin d'accès au modèle enregistré\n",
    "loaded_model = mlflow.keras.load_model(model_uri)\n",
    "\n",
    "# charger les nouvelles données à prédire\n",
    "# new_data = pd.read_csv(\"../../data/test/2023_metrics.csv\")\n",
    "\n",
    "# faire des prédictions avec le modèle chargé\n",
    "predictions = loaded_model.predict(X_test)\n",
    "\n",
    "# afficher les prédictions\n",
    "print(predictions)"
   ]
  },
  {
   "cell_type": "code",
   "execution_count": 33,
   "metadata": {},
   "outputs": [
    {
     "data": {
      "text/plain": [
       "(203402, 1, 23)"
      ]
     },
     "execution_count": 33,
     "metadata": {},
     "output_type": "execute_result"
    }
   ],
   "source": [
    "X_train.shape"
   ]
  },
  {
   "attachments": {},
   "cell_type": "markdown",
   "metadata": {},
   "source": [
    "La régularisation L2 est une technique utilisée pour éviter le surajustement en ajoutant un terme de pénalité à la fonction de perte. Ce terme de pénalité est proportionnel au carré des poids du modèle. En ajoutant la régularisation L2, le modèle est encouragé à apprendre des poids plus petits et plus épars, ce qui permet d'obtenir un modèle plus simple et plus généralisé.\n",
    "\n",
    "Dans l'exemple fourni, j'ai ajouté une régularisation L2 aux couches LSTM à l'aide des paramètres kernel_regularizer et recurrent_regularizer. Voici une brève explication de ces paramètres :\n",
    "\n",
    "- kernel_regularizer : Ce paramètre applique la régularisation L2 aux poids de l'entrée vers la couche cachée (également connus sous le nom de poids \"noyau\") de la couche LSTM. En d'autres termes, il ajoute un terme de pénalité basé sur le carré de ces poids à la fonction de perte.\n",
    "- recurrent_regularizer : Cette fonction applique une régularisation L2 aux poids cachés-cachés (récurrents) de la couche LSTM. De même, il ajoute un terme de pénalité basé sur le carré de ces poids à la fonction de perte.\n",
    "En ajoutant la régularisation L2 au noyau et aux poids récurrents, le modèle est encouragé à apprendre des poids plus petits, ce qui permet de réduire l'ajustement excessif et d'améliorer la généralisation.\n",
    "\n",
    "N'oubliez pas que la force de la régularisation est contrôlée par l'hyperparamètre lambda (noté 0,001 dans l'exemple). Une valeur plus élevée de lambda se traduit par un effet de régularisation plus important, mais une valeur trop élevée peut entraîner un sous-ajustement, car le modèle devient trop simple pour apprendre des modèles complexes dans les données. Il se peut que vous deviez expérimenter différentes valeurs de lambda pour trouver la force de régularisation optimale pour votre problème spécifique."
   ]
  },
  {
   "attachments": {},
   "cell_type": "markdown",
   "metadata": {},
   "source": [
    "With validation_split=0.1, the last 10% of the training data is used as the validation set, and the remaining 90% is used for training the model. Since we've set shuffle=False, the validation data consists of the most recent 10% of the training data, preserving the chronological order.\n",
    "\n",
    "This way, both the validation and test sets consist of later data points in time, which is a more realistic approach for time series prediction tasks."
   ]
  },
  {
   "cell_type": "code",
   "execution_count": 34,
   "metadata": {},
   "outputs": [],
   "source": [
    "# # Build an LSTM model with added regularization\n",
    "# model = Sequential()\n",
    "# model.add(LSTM(128, input_shape=(X_train.shape[1], X_train.shape[2]), return_sequences=True, kernel_regularizer=L2(0.0001), recurrent_regularizer=L2(0.001), dropout=0.2, recurrent_dropout=0.2))\n",
    "# model.add(LSTM(64, return_sequences=True, kernel_regularizer=L2(0.0001), recurrent_regularizer=L2(0.0001), dropout=0.2, recurrent_dropout=0.2))\n",
    "# model.add(LSTM(32, return_sequences=True, kernel_regularizer=L2(0.0001), recurrent_regularizer=L2(0.0001), dropout=0.2, recurrent_dropout=0.2))\n",
    "# model.add(LSTM(16, kernel_regularizer=L2(0.0001), recurrent_regularizer=L2(0.0001), dropout=0.2, recurrent_dropout=0.2))\n",
    "# model.add(Dense(4, activation='softmax'))\n",
    "\n",
    "# Build the LSTM model\n",
    "model = Sequential()\n",
    "# model.add(LSTM(256, input_shape=(X_train.shape[1], X_train.shape[2]), return_sequences=True))\n",
    "# model.add(Dropout(0.3))\n",
    "model.add(LSTM(128, input_shape=(X_train.shape[1], X_train.shape[2]), return_sequences=True))\n",
    "model.add(Dropout(0.3))\n",
    "model.add(LSTM(64, return_sequences=True))\n",
    "model.add(Dropout(0.3))\n",
    "model.add(LSTM(32, return_sequences=True))\n",
    "model.add(Dropout(0.3))\n",
    "model.add(LSTM(16))\n",
    "model.add(Dropout(0.3))\n",
    "model.add(Dense(3, activation='softmax'))\n",
    "\n",
    "# Define model hyperparameters\n",
    "patience = 10\n",
    "batch_size = 64\n",
    "epochs = 30\n",
    "learning_rate = 0.001\n",
    "\n",
    "# Set the optimizer with the specified learning_rate\n",
    "optimizer = Adam(learning_rate=learning_rate)\n",
    "\n",
    "# Compile the model\n",
    "model.compile(loss='sparse_categorical_crossentropy', optimizer=optimizer, metrics=['accuracy'])\n",
    "\n",
    "# Define callbacks\n",
    "early_stop = EarlyStopping(monitor='val_loss', patience=patience)\n",
    "checkpoint = ModelCheckpoint('model_checkpoint.h5', monitor='val_loss', mode='min', save_best_only=True, verbose=1)"
   ]
  },
  {
   "cell_type": "code",
   "execution_count": 35,
   "metadata": {},
   "outputs": [
    {
     "name": "stdout",
     "output_type": "stream",
     "text": [
      "Epoch 1/30\n",
      "2856/2861 [============================>.] - ETA: 0s - loss: 0.7601 - accuracy: 0.7392\n",
      "Epoch 1: val_loss improved from inf to 0.71474, saving model to model_checkpoint.h5\n",
      "2861/2861 [==============================] - 38s 11ms/step - loss: 0.7599 - accuracy: 0.7394 - val_loss: 0.7147 - val_accuracy: 0.7579\n",
      "Epoch 2/30\n",
      "2859/2861 [============================>.] - ETA: 0s - loss: 0.7388 - accuracy: 0.7440\n",
      "Epoch 2: val_loss improved from 0.71474 to 0.71306, saving model to model_checkpoint.h5\n",
      "2861/2861 [==============================] - 33s 11ms/step - loss: 0.7388 - accuracy: 0.7441 - val_loss: 0.7131 - val_accuracy: 0.7580\n",
      "Epoch 3/30\n",
      "2861/2861 [==============================] - ETA: 0s - loss: 0.7015 - accuracy: 0.7494\n",
      "Epoch 3: val_loss improved from 0.71306 to 0.70657, saving model to model_checkpoint.h5\n",
      "2861/2861 [==============================] - 32s 11ms/step - loss: 0.7015 - accuracy: 0.7494 - val_loss: 0.7066 - val_accuracy: 0.7619\n",
      "Epoch 4/30\n",
      "2861/2861 [==============================] - ETA: 0s - loss: 0.6642 - accuracy: 0.7599\n",
      "Epoch 4: val_loss improved from 0.70657 to 0.68995, saving model to model_checkpoint.h5\n",
      "2861/2861 [==============================] - 34s 12ms/step - loss: 0.6642 - accuracy: 0.7599 - val_loss: 0.6899 - val_accuracy: 0.7682\n",
      "Epoch 5/30\n",
      "2860/2861 [============================>.] - ETA: 0s - loss: 0.6648 - accuracy: 0.7566\n",
      "Epoch 5: val_loss improved from 0.68995 to 0.68106, saving model to model_checkpoint.h5\n",
      "2861/2861 [==============================] - 32s 11ms/step - loss: 0.6648 - accuracy: 0.7566 - val_loss: 0.6811 - val_accuracy: 0.7638\n",
      "Epoch 6/30\n",
      "2858/2861 [============================>.] - ETA: 0s - loss: 0.6420 - accuracy: 0.7644\n",
      "Epoch 6: val_loss improved from 0.68106 to 0.63575, saving model to model_checkpoint.h5\n",
      "2861/2861 [==============================] - 31s 11ms/step - loss: 0.6419 - accuracy: 0.7645 - val_loss: 0.6357 - val_accuracy: 0.7720\n",
      "Epoch 7/30\n",
      "2858/2861 [============================>.] - ETA: 0s - loss: 0.6310 - accuracy: 0.7726\n",
      "Epoch 7: val_loss improved from 0.63575 to 0.61708, saving model to model_checkpoint.h5\n",
      "2861/2861 [==============================] - 30s 10ms/step - loss: 0.6309 - accuracy: 0.7727 - val_loss: 0.6171 - val_accuracy: 0.7849\n",
      "Epoch 8/30\n",
      "2861/2861 [==============================] - ETA: 0s - loss: 0.6244 - accuracy: 0.7750\n",
      "Epoch 8: val_loss did not improve from 0.61708\n",
      "2861/2861 [==============================] - 30s 11ms/step - loss: 0.6244 - accuracy: 0.7750 - val_loss: 0.6718 - val_accuracy: 0.7596\n",
      "Epoch 9/30\n",
      "2859/2861 [============================>.] - ETA: 0s - loss: 0.6175 - accuracy: 0.7784\n",
      "Epoch 9: val_loss improved from 0.61708 to 0.60695, saving model to model_checkpoint.h5\n",
      "2861/2861 [==============================] - 31s 11ms/step - loss: 0.6174 - accuracy: 0.7785 - val_loss: 0.6069 - val_accuracy: 0.7879\n",
      "Epoch 10/30\n",
      "2858/2861 [============================>.] - ETA: 0s - loss: 0.6436 - accuracy: 0.7666\n",
      "Epoch 10: val_loss did not improve from 0.60695\n",
      "2861/2861 [==============================] - 31s 11ms/step - loss: 0.6435 - accuracy: 0.7666 - val_loss: 0.6231 - val_accuracy: 0.7749\n",
      "Epoch 11/30\n",
      "2857/2861 [============================>.] - ETA: 0s - loss: 0.6413 - accuracy: 0.7644\n",
      "Epoch 11: val_loss improved from 0.60695 to 0.59580, saving model to model_checkpoint.h5\n",
      "2861/2861 [==============================] - 31s 11ms/step - loss: 0.6411 - accuracy: 0.7645 - val_loss: 0.5958 - val_accuracy: 0.7902\n",
      "Epoch 12/30\n",
      "2861/2861 [==============================] - ETA: 0s - loss: 0.6165 - accuracy: 0.7773\n",
      "Epoch 12: val_loss improved from 0.59580 to 0.58983, saving model to model_checkpoint.h5\n",
      "2861/2861 [==============================] - 32s 11ms/step - loss: 0.6165 - accuracy: 0.7773 - val_loss: 0.5898 - val_accuracy: 0.7926\n",
      "Epoch 13/30\n",
      "2857/2861 [============================>.] - ETA: 0s - loss: 0.6227 - accuracy: 0.7744\n",
      "Epoch 13: val_loss did not improve from 0.58983\n",
      "2861/2861 [==============================] - 31s 11ms/step - loss: 0.6225 - accuracy: 0.7746 - val_loss: 0.6090 - val_accuracy: 0.7863\n",
      "Epoch 14/30\n",
      "2859/2861 [============================>.] - ETA: 0s - loss: 0.6207 - accuracy: 0.7756\n",
      "Epoch 14: val_loss did not improve from 0.58983\n",
      "2861/2861 [==============================] - 31s 11ms/step - loss: 0.6207 - accuracy: 0.7756 - val_loss: 0.6136 - val_accuracy: 0.7856\n",
      "Epoch 15/30\n",
      "2860/2861 [============================>.] - ETA: 0s - loss: 0.6209 - accuracy: 0.7740\n",
      "Epoch 15: val_loss did not improve from 0.58983\n",
      "2861/2861 [==============================] - 32s 11ms/step - loss: 0.6209 - accuracy: 0.7740 - val_loss: 0.6265 - val_accuracy: 0.7818\n",
      "Epoch 16/30\n",
      "2857/2861 [============================>.] - ETA: 0s - loss: 0.6151 - accuracy: 0.7745\n",
      "Epoch 16: val_loss improved from 0.58983 to 0.58148, saving model to model_checkpoint.h5\n",
      "2861/2861 [==============================] - 33s 12ms/step - loss: 0.6149 - accuracy: 0.7746 - val_loss: 0.5815 - val_accuracy: 0.7934\n",
      "Epoch 17/30\n",
      "2861/2861 [==============================] - ETA: 0s - loss: 0.6339 - accuracy: 0.7669\n",
      "Epoch 17: val_loss did not improve from 0.58148\n",
      "2861/2861 [==============================] - 32s 11ms/step - loss: 0.6339 - accuracy: 0.7669 - val_loss: 0.5880 - val_accuracy: 0.7930\n",
      "Epoch 18/30\n",
      "2858/2861 [============================>.] - ETA: 0s - loss: 0.6256 - accuracy: 0.7730\n",
      "Epoch 18: val_loss did not improve from 0.58148\n",
      "2861/2861 [==============================] - 32s 11ms/step - loss: 0.6255 - accuracy: 0.7731 - val_loss: 0.5891 - val_accuracy: 0.7959\n",
      "Epoch 19/30\n",
      "2859/2861 [============================>.] - ETA: 0s - loss: 0.6104 - accuracy: 0.7823\n",
      "Epoch 19: val_loss did not improve from 0.58148\n",
      "2861/2861 [==============================] - 32s 11ms/step - loss: 0.6104 - accuracy: 0.7823 - val_loss: 0.6413 - val_accuracy: 0.7750\n",
      "Epoch 20/30\n",
      "2858/2861 [============================>.] - ETA: 0s - loss: 0.6131 - accuracy: 0.7792\n",
      "Epoch 20: val_loss improved from 0.58148 to 0.57544, saving model to model_checkpoint.h5\n",
      "2861/2861 [==============================] - 30s 11ms/step - loss: 0.6130 - accuracy: 0.7793 - val_loss: 0.5754 - val_accuracy: 0.8019\n",
      "Epoch 21/30\n",
      "2860/2861 [============================>.] - ETA: 0s - loss: 0.6102 - accuracy: 0.7797\n",
      "Epoch 21: val_loss did not improve from 0.57544\n",
      "2861/2861 [==============================] - 30s 11ms/step - loss: 0.6102 - accuracy: 0.7797 - val_loss: 0.5876 - val_accuracy: 0.7966\n",
      "Epoch 22/30\n",
      "2858/2861 [============================>.] - ETA: 0s - loss: 0.6074 - accuracy: 0.7802\n",
      "Epoch 22: val_loss did not improve from 0.57544\n",
      "2861/2861 [==============================] - 32s 11ms/step - loss: 0.6073 - accuracy: 0.7803 - val_loss: 0.5777 - val_accuracy: 0.7986\n",
      "Epoch 23/30\n",
      "2857/2861 [============================>.] - ETA: 0s - loss: 0.6137 - accuracy: 0.7791\n",
      "Epoch 23: val_loss did not improve from 0.57544\n",
      "2861/2861 [==============================] - 32s 11ms/step - loss: 0.6135 - accuracy: 0.7793 - val_loss: 0.6154 - val_accuracy: 0.7882\n",
      "Epoch 24/30\n",
      "2860/2861 [============================>.] - ETA: 0s - loss: 0.6107 - accuracy: 0.7796\n",
      "Epoch 24: val_loss did not improve from 0.57544\n",
      "2861/2861 [==============================] - 31s 11ms/step - loss: 0.6107 - accuracy: 0.7796 - val_loss: 0.5887 - val_accuracy: 0.7958\n",
      "Epoch 25/30\n",
      "2858/2861 [============================>.] - ETA: 0s - loss: 0.6016 - accuracy: 0.7832\n",
      "Epoch 25: val_loss did not improve from 0.57544\n",
      "2861/2861 [==============================] - 31s 11ms/step - loss: 0.6016 - accuracy: 0.7833 - val_loss: 0.6583 - val_accuracy: 0.7747\n",
      "Epoch 26/30\n",
      "2861/2861 [==============================] - ETA: 0s - loss: 0.6009 - accuracy: 0.7833\n",
      "Epoch 26: val_loss did not improve from 0.57544\n",
      "2861/2861 [==============================] - 31s 11ms/step - loss: 0.6009 - accuracy: 0.7833 - val_loss: 0.6224 - val_accuracy: 0.7871\n",
      "Epoch 27/30\n",
      "2861/2861 [==============================] - ETA: 0s - loss: 0.6142 - accuracy: 0.7786\n",
      "Epoch 27: val_loss did not improve from 0.57544\n",
      "2861/2861 [==============================] - 31s 11ms/step - loss: 0.6142 - accuracy: 0.7786 - val_loss: 0.5763 - val_accuracy: 0.7999\n",
      "Epoch 28/30\n",
      "2860/2861 [============================>.] - ETA: 0s - loss: 0.6010 - accuracy: 0.7840\n",
      "Epoch 28: val_loss did not improve from 0.57544\n",
      "2861/2861 [==============================] - 31s 11ms/step - loss: 0.6010 - accuracy: 0.7840 - val_loss: 0.5871 - val_accuracy: 0.7944\n",
      "Epoch 29/30\n",
      "2859/2861 [============================>.] - ETA: 0s - loss: 0.5979 - accuracy: 0.7857\n",
      "Epoch 29: val_loss did not improve from 0.57544\n",
      "2861/2861 [==============================] - 30s 10ms/step - loss: 0.5978 - accuracy: 0.7857 - val_loss: 0.5847 - val_accuracy: 0.7966\n",
      "Epoch 30/30\n",
      "2861/2861 [==============================] - ETA: 0s - loss: 0.6054 - accuracy: 0.7810\n",
      "Epoch 30: val_loss did not improve from 0.57544\n",
      "2861/2861 [==============================] - 31s 11ms/step - loss: 0.6054 - accuracy: 0.7810 - val_loss: 0.6059 - val_accuracy: 0.7901\n"
     ]
    },
    {
     "name": "stderr",
     "output_type": "stream",
     "text": [
      "WARNING:absl:Found untraced functions such as lstm_cell_layer_call_fn, lstm_cell_layer_call_and_return_conditional_losses, lstm_cell_1_layer_call_fn, lstm_cell_1_layer_call_and_return_conditional_losses, lstm_cell_2_layer_call_fn while saving (showing 5 of 8). These functions will not be directly callable after loading.\n"
     ]
    },
    {
     "name": "stdout",
     "output_type": "stream",
     "text": [
      "INFO:tensorflow:Assets written to: C:\\Users\\ALLAN\\AppData\\Local\\Temp\\tmpydnvqied\\model\\data\\model\\assets\n"
     ]
    },
    {
     "name": "stderr",
     "output_type": "stream",
     "text": [
      "INFO:tensorflow:Assets written to: C:\\Users\\ALLAN\\AppData\\Local\\Temp\\tmpydnvqied\\model\\data\\model\\assets\n",
      "p:\\HubAcademy\\AI\\MGI\\Prediction-Erreur-JetVarnish3D\\venv\\lib\\site-packages\\_distutils_hack\\__init__.py:33: UserWarning: Setuptools is replacing distutils.\n",
      "  warnings.warn(\"Setuptools is replacing distutils.\")\n"
     ]
    }
   ],
   "source": [
    "# Start MLflow tracking\n",
    "mlflow.start_run()\n",
    "\n",
    "# Log the model's parameters\n",
    "mlflow.log_param('sequence_length', sequence_length)\n",
    "mlflow.log_param('batch_size', batch_size)\n",
    "mlflow.log_param('epochs', epochs)\n",
    "mlflow.log_param('learning_rate', learning_rate)\n",
    "mlflow.log_param('early_stopping_patience', patience)\n",
    "\n",
    "# Train the LSTM model\n",
    "history = model.fit(X_train, y_train,\n",
    "                    epochs=epochs, \n",
    "                    batch_size=batch_size, \n",
    "                    validation_split=0.1, \n",
    "                    callbacks=[early_stop, checkpoint], \n",
    "                    shuffle=False)\n",
    "\n",
    "# Log the final training loss and accuracy\n",
    "train_loss = history.history['loss'][-1]\n",
    "train_accuracy = history.history['accuracy'][-1]\n",
    "mlflow.log_metric('train_loss', train_loss)\n",
    "mlflow.log_metric('train_accuracy', train_accuracy)\n",
    "\n",
    "# Log the final validation loss and accuracy\n",
    "val_loss = history.history['val_loss'][-1]\n",
    "val_accuracy = history.history['val_accuracy'][-1]\n",
    "mlflow.log_metric('val_loss', val_loss)\n",
    "mlflow.log_metric('val_accuracy', val_accuracy)\n",
    "\n",
    "# Save the trained model with the schema\n",
    "mlflow.keras.log_model(model, 'trained_model', signature=signature)\n",
    "\n",
    "\n",
    "# Save the encoders and normalizer\n",
    "joblib.dump(ohe, 'ohe.pkl')\n",
    "joblib.dump(scaler, 'scaler.pkl')\n",
    "mlflow.log_artifact('ohe.pkl')\n",
    "mlflow.log_artifact('scaler.pkl')\n",
    "\n",
    "# Log the example input JSON file as an artifact\n",
    "mlflow.log_artifact(\"example_input.json\")\n"
   ]
  },
  {
   "cell_type": "code",
   "execution_count": 36,
   "metadata": {},
   "outputs": [],
   "source": [
    "# with open('history2.pkl', 'wb') as f:\n",
    "#     pickle.dump(history.history, f)"
   ]
  },
  {
   "cell_type": "code",
   "execution_count": 37,
   "metadata": {},
   "outputs": [],
   "source": [
    "# # Load the best mode\n",
    "# model = load_model('LTSM_model_1_93ACC/lstm_model.h5')\n",
    "\n",
    "# # Load the saved training history:\n",
    "# with open('LTSM_model_1_93ACC/history.pkl', 'rb') as f:\n",
    "#     history = pickle.load(f)"
   ]
  },
  {
   "cell_type": "code",
   "execution_count": 38,
   "metadata": {},
   "outputs": [
    {
     "name": "stdout",
     "output_type": "stream",
     "text": [
      "1272/1272 [==============================] - 7s 5ms/step\n",
      "Accuracy: 0.7924481919417882\n",
      "Loss: 0.5954845547676086\n",
      "              precision    recall  f1-score   support\n",
      "\n",
      "       ERROR       0.63      0.36      0.45      4494\n",
      "        INFO       0.82      0.94      0.88     30233\n",
      "     WARNING       0.60      0.35      0.44      5952\n",
      "\n",
      "    accuracy                           0.79     40679\n",
      "   macro avg       0.68      0.55      0.59     40679\n",
      "weighted avg       0.77      0.79      0.77     40679\n",
      "\n",
      "[[ 1599  2589   306]\n",
      " [  579 28536  1118]\n",
      " [  377  3474  2101]]\n"
     ]
    }
   ],
   "source": [
    "from sklearn.metrics import precision_recall_fscore_support\n",
    "\n",
    "# Predict on test set\n",
    "y_pred_prob = model.predict(X_test)\n",
    "y_pred = np.argmax(y_pred_prob, axis=1)\n",
    "# Inverse transform the predictions and true labels\n",
    "y_pred_labels = le.inverse_transform(y_pred)\n",
    "y_test_labels = le.inverse_transform(y_test)\n",
    "\n",
    "# Calculate and print accuracy, classification report, and confusion matrix\n",
    "acc = accuracy_score(y_test_labels, y_pred_labels)\n",
    "print(f'Accuracy: {acc}')\n",
    "\n",
    "# Calculate loss score on test set\n",
    "loss = model.evaluate(X_test, y_test, verbose=0)\n",
    "\n",
    "# Print test loss score\n",
    "print(f'Loss: {loss[0]}')\n",
    "\n",
    "print(classification_report(y_test_labels, y_pred_labels))\n",
    "print(confusion_matrix(y_test_labels, y_pred_labels))\n",
    "\n",
    "# Calculate the classification report\n",
    "report = classification_report(y_test_labels, y_pred_labels, output_dict=True)\n",
    "\n",
    "\n",
    "with open(\"classification_report.txt\", \"w\") as f:\n",
    "    f.write(report)\n",
    "\n",
    "# Extract the metrics for the 'error' class\n",
    "error_precision = report['ERROR']['precision']\n",
    "error_recall = report['ERROR']['recall']\n",
    "error_f1_score = report['ERROR']['f1-score']\n",
    "\n",
    "\n",
    "# Log the metrics to MLflow\n",
    "mlflow.log_metric('error_precision', error_precision)\n",
    "mlflow.log_metric('error_recall', error_recall)\n",
    "mlflow.log_metric('error_f1_score', error_f1_score)\n",
    "\n",
    "# Log the classification report \n",
    "mlflow.log_artifact('classification_report.txt')"
   ]
  },
  {
   "cell_type": "code",
   "execution_count": 39,
   "metadata": {},
   "outputs": [
    {
     "name": "stdout",
     "output_type": "stream",
     "text": [
      "1272/1272 [==============================] - 5s 4ms/step\n",
      "Accuracy: 0.7924481919417882\n",
      "Loss: 0.5954845547676086\n",
      "              precision    recall  f1-score   support\n",
      "\n",
      "       ERROR       0.63      0.36      0.45      4494\n",
      "        INFO       0.82      0.94      0.88     30233\n",
      "     WARNING       0.60      0.35      0.44      5952\n",
      "\n",
      "    accuracy                           0.79     40679\n",
      "   macro avg       0.68      0.55      0.59     40679\n",
      "weighted avg       0.77      0.79      0.77     40679\n",
      "\n"
     ]
    },
    {
     "data": {
      "image/png": "[encoded data removed]",
      "text/plain": [
       "<Figure size 1000x800 with 2 Axes>"
      ]
     },
     "metadata": {},
     "output_type": "display_data"
    }
   ],
   "source": [
    "# Predict on test set\n",
    "y_pred_prob = model.predict(X_test)\n",
    "y_pred = np.argmax(y_pred_prob, axis=1)\n",
    "# Inverse transform the predictions and true labels\n",
    "y_pred_labels = le.inverse_transform(y_pred)\n",
    "y_test_labels = le.inverse_transform(y_test)\n",
    "\n",
    "# Calculate and print accuracy, classification report, and confusion matrix\n",
    "acc = accuracy_score(y_test_labels, y_pred_labels)\n",
    "print(f'Accuracy: {acc}')\n",
    "\n",
    "# Calculate loss score on test set\n",
    "loss = model.evaluate(X_test, y_test, verbose=0)\n",
    "\n",
    "# Print test loss score\n",
    "print(f'Loss: {loss[0]}')\n",
    "\n",
    "\n",
    "\n",
    "# Save confusion matrix\n",
    "confusion_mtx = confusion_matrix(y_test_labels, y_pred_labels)\n",
    "fig, ax = plt.subplots(figsize=(10, 8))\n",
    "sns.heatmap(confusion_mtx, annot=True, fmt=\"d\", cmap=\"Blues\", ax=ax)\n",
    "plt.ylabel('True label')\n",
    "plt.xlabel('Predicted label')\n",
    "plt.title('Confusion Matrix')\n",
    "plt.savefig('confusion_matrix.png')\n",
    "\n",
    "\n",
    "\n",
    "# Log the confusion matrix to MLflow\n",
    "mlflow.log_artifact('classification_report.txt')\n",
    "mlflow.log_artifact('confusion_matrix.png')\n"
   ]
  },
  {
   "cell_type": "code",
   "execution_count": 40,
   "metadata": {},
   "outputs": [
    {
     "data": {
      "image/png": "[encoded data removed]",
      "text/plain": [
       "<Figure size 640x480 with 1 Axes>"
      ]
     },
     "metadata": {},
     "output_type": "display_data"
    },
    {
     "data": {
      "image/png": "[encoded data removed]",
      "text/plain": [
       "<Figure size 640x480 with 1 Axes>"
      ]
     },
     "metadata": {},
     "output_type": "display_data"
    }
   ],
   "source": [
    "# Plot training history\n",
    "plt.plot(history.history['loss'], label='train')\n",
    "plt.plot(history.history['val_loss'], label='validation')\n",
    "plt.legend()\n",
    "plt.xlabel('Epoch')\n",
    "plt.ylabel('Loss')\n",
    "plt.title('Training and Validation Loss')\n",
    "plt.savefig('training_and_validation_loss.png')\n",
    "plt.show()\n",
    "\n",
    "\n",
    "# Plot accuracy from the loaded training history\n",
    "plt.plot(history.history['accuracy'], label='train')\n",
    "plt.plot(history.history['val_accuracy'], label='validation')\n",
    "plt.legend()\n",
    "plt.xlabel('Epoch')\n",
    "plt.ylabel('Accuracy')\n",
    "plt.title('Training and Validation Accuracy')\n",
    "plt.savefig('training_and_validation_accuracy.png')\n",
    "plt.show()\n",
    "\n",
    "mlflow.log_artifact('training_and_validation_loss.png')\n",
    "mlflow.log_artifact('training_and_validation_accuracy.png')"
   ]
  },
  {
   "cell_type": "code",
   "execution_count": 41,
   "metadata": {},
   "outputs": [
    {
     "name": "stdout",
     "output_type": "stream",
     "text": [
      "Class mapping: {'ERROR': 0, 'INFO': 1, 'WARNING': 2}\n"
     ]
    }
   ],
   "source": [
    "# Print class names and their corresponding numerical values\n",
    "class_mapping = dict(zip(le.classes_, range(len(le.classes_))))\n",
    "print(\"Class mapping:\", class_mapping)\n"
   ]
  },
  {
   "cell_type": "code",
   "execution_count": 42,
   "metadata": {},
   "outputs": [
    {
     "data": {
      "image/png": "[encoded data removed]",
      "text/plain": [
       "<Figure size 1400x600 with 1 Axes>"
      ]
     },
     "metadata": {},
     "output_type": "display_data"
    }
   ],
   "source": [
    "# Get the last 100 real and predicted values\n",
    "y_test_last50 = y_test_labels[-200:]\n",
    "y_pred_last50 = y_pred_labels[-200:]\n",
    "\n",
    "# Create a line chart to visualize the real and predicted values\n",
    "plt.figure(figsize=(14, 6))\n",
    "plt.plot(y_test_last50, label='Real', marker='o')\n",
    "plt.plot(y_pred_last50, label='Predicted', marker='x')\n",
    "plt.xlabel('Time Steps')\n",
    "plt.ylabel('Criticality Events')\n",
    "plt.legend()\n",
    "plt.title('Comparison of Real and Predicted Criticality Events (Last 200)')\n",
    "plt.savefig('real_and_predicted.png')\n",
    "plt.show()\n",
    "\n",
    "mlflow.log_artifact('real_and_predicted.png')\n",
    "\n",
    "# End MLflow tracking\n",
    "mlflow.end_run()"
   ]
  },
  {
   "cell_type": "code",
   "execution_count": 43,
   "metadata": {},
   "outputs": [],
   "source": [
    "# # Define the start and end dates for the next week\n",
    "# start_date = X_test_index.max() + datetime.timedelta(days=1)\n",
    "# end_date = start_date + datetime.timedelta(weeks=1)\n",
    "\n",
    "# # Generate a date range for the next week at 10-second intervals\n",
    "# next_week_dates = pd.date_range(start=start_date, end=end_date, freq='10S')[:-1]\n",
    "\n",
    "\n",
    "# # Create a new DataFrame with the index set as the 'created_at' column\n",
    "# X_test_with_index = pd.DataFrame(X_test.reshape(X_test.shape[0], -1), columns=X.columns, index=X_test_index)\n",
    "\n",
    "# # Merge the new DataFrame with the original data\n",
    "# X_test_resampled = X_test_with_index.reset_index().merge(pd.DataFrame(index=next_week_dates), left_on='created_at', right_index=True, how='outer')\n",
    "\n",
    "# # Forward fill the missing data\n",
    "# X_test_resampled.fillna(method='ffill', inplace=True)\n",
    "\n",
    "# # Drop the 'created_at' column\n",
    "# X_test_resampled.drop(columns=['created_at'], inplace=True)\n",
    "\n",
    "# # Resample y_test\n",
    "# y_test_resampled = y_test.reset_index().merge(pd.DataFrame(index=next_week_dates), left_on='created_at', right_index=True, how='outer')\n",
    "# y_test_resampled['created_at'] = pd.to_datetime(y_test_resampled['created_at'])  # Add this line\n",
    "# y_test_resampled.fillna(method='ffill', inplace=True)\n",
    "# y_test_resampled.drop(columns=['created_at'], inplace=True)"
   ]
  },
  {
   "cell_type": "code",
   "execution_count": 44,
   "metadata": {},
   "outputs": [],
   "source": [
    "# # Predict the 'criticality_events' for the resampled X_test data\n",
    "# X_test_resampled_3D = X_test_resampled.values.reshape(X_test_resampled.shape[0], 1, X_test_resampled.shape[1])\n",
    "# y_pred_resampled = model.predict(X_test_resampled_3D)\n",
    "\n",
    "# # Convert the predicted probabilities to class labels\n",
    "# y_pred_resampled_labels = np.argmax(y_pred_resampled, axis=1)\n",
    "# y_pred_resampled_labels = le.inverse_transform(y_pred_resampled_labels)\n",
    "\n",
    "# # Truncate or extend the index to match the length of the predicted values\n",
    "# if len(next_week_dates) > len(y_pred_resampled_labels):\n",
    "#     next_week_dates = next_week_dates[:len(y_pred_resampled_labels)]\n",
    "# elif len(next_week_dates) < len(y_pred_resampled_labels):\n",
    "#     next_week_dates = pd.date_range(start=start_date, periods=len(y_pred_resampled_labels), freq='10S')\n",
    "\n",
    "# # Create a DataFrame with predicted labels and timestamps\n",
    "# y_pred_resampled_df = pd.DataFrame(y_pred_resampled_labels, columns=['predicted_criticality'], index=next_week_dates)\n",
    "\n",
    "# # Merge the true labels with the predicted labels\n",
    "# comparison_df = y_test_resampled.reset_index().rename(columns={'index': 'created_at'})\n",
    "# comparison_df['predicted_criticality'] = y_pred_resampled_labels\n",
    "# comparison_df.set_index('created_at', inplace=True)\n",
    "\n",
    "# # Rename the columns for better readability\n",
    "# comparison_df.columns = ['true_criticality', 'predicted_criticality']\n",
    "\n",
    "# plt.figure(figsize=(20, 6))\n",
    "# plt.plot(comparison_df.index, comparison_df['true_criticality'], label='True')\n",
    "# plt.plot(comparison_df.index, comparison_df['predicted_criticality'], label='Predicted', linestyle='--', alpha=0.7)\n",
    "# plt.xlabel('Timestamp')\n",
    "# plt.ylabel('Criticality Events')\n",
    "# plt.title('True vs. Predicted Criticality Events')\n",
    "# plt.legend()\n",
    "# plt.show()"
   ]
  }
 ],
 "metadata": {
  "kernelspec": {
   "display_name": "Python 3.10.7 ('.venv': venv)",
   "language": "python",
   "name": "python3"
  },
  "language_info": {
   "codemirror_mode": {
    "name": "ipython",
    "version": 3
   },
   "file_extension": ".py",
   "mimetype": "text/x-python",
   "name": "python",
   "nbconvert_exporter": "python",
   "pygments_lexer": "ipython3",
   "version": "3.10.7"
  },
  "orig_nbformat": 4,
  "vscode": {
   "interpreter": {
    "hash": "f0c7abbec0650d75999735885ec4e51a9997eab7a28c22852f5732fb88ff64a6"
   }
  }
 },
 "nbformat": 4,
 "nbformat_minor": 2
}
