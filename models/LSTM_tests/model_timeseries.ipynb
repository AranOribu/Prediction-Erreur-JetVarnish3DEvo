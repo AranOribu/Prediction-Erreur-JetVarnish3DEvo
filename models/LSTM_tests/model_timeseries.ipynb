{
 "cells": [
  {
   "cell_type": "code",
   "execution_count": 1,
   "metadata": {},
   "outputs": [],
   "source": [
    "import pandas as pd\n",
    "import numpy as np\n",
    "\n",
    "import os\n",
    "\n",
    "import matplotlib.pyplot as plt\n",
    "import matplotlib.dates as mdates\n",
    "\n",
    "from datetime import datetime\n",
    "from babel.dates import format_date\n",
    "import seaborn as sns\n",
    "\n",
    "from statsmodels.tsa.statespace.sarimax import SARIMAX\n",
    "from statsmodels.tsa.stattools import adfuller\n",
    "from statsmodels.graphics.tsaplots import plot_acf, plot_pacf\n",
    "\n",
    "from sklearn.model_selection import train_test_split , TimeSeriesSplit, cross_val_score , GridSearchCV\n",
    "\n",
    "from sklearn.preprocessing import LabelEncoder, OneHotEncoder, StandardScaler\n",
    "\n",
    "from keras.models import load_model\n",
    "from keras.callbacks import ModelCheckpoint\n",
    "\n",
    "import tensorflow as tf\n",
    "from tensorflow.keras.models import Sequential\n",
    "from tensorflow.keras.layers import LSTM, Dense, Dropout\n",
    "from tensorflow.keras.wrappers.scikit_learn import KerasRegressor\n",
    "\n",
    "from pprint import pprint"
   ]
  },
  {
   "cell_type": "code",
   "execution_count": 2,
   "metadata": {},
   "outputs": [
    {
     "name": "stderr",
     "output_type": "stream",
     "text": [
      "C:\\Users\\ALLAN\\AppData\\Local\\Temp\\ipykernel_23228\\505030999.py:5: DtypeWarning: Columns (10,11,12,13,14) have mixed types. Specify dtype option on import or set low_memory=False.\n",
      "  df = pd.read_csv(\n"
     ]
    },
    {
     "data": {
      "text/html": [
       "<div>\n",
       "<style scoped>\n",
       "    .dataframe tbody tr th:only-of-type {\n",
       "        vertical-align: middle;\n",
       "    }\n",
       "\n",
       "    .dataframe tbody tr th {\n",
       "        vertical-align: top;\n",
       "    }\n",
       "\n",
       "    .dataframe thead th {\n",
       "        text-align: right;\n",
       "    }\n",
       "</style>\n",
       "<table border=\"1\" class=\"dataframe\">\n",
       "  <thead>\n",
       "    <tr style=\"text-align: right;\">\n",
       "      <th></th>\n",
       "      <th>id</th>\n",
       "      <th>sn_modules</th>\n",
       "      <th>name_modules</th>\n",
       "      <th>type_modules</th>\n",
       "      <th>generation_modules</th>\n",
       "      <th>name_counters_modules</th>\n",
       "      <th>value_counters_modules</th>\n",
       "      <th>name_connected_operators</th>\n",
       "      <th>level_connected_operators</th>\n",
       "      <th>source_events</th>\n",
       "      <th>message_events</th>\n",
       "      <th>timestamp_events</th>\n",
       "      <th>criticality_events</th>\n",
       "      <th>identification_events</th>\n",
       "      <th>created_at</th>\n",
       "      <th>varnishLevelsTargetvolume</th>\n",
       "      <th>varnishLevelsTotalvolume</th>\n",
       "    </tr>\n",
       "  </thead>\n",
       "  <tbody>\n",
       "    <tr>\n",
       "      <th>0</th>\n",
       "      <td>4169748</td>\n",
       "      <td>NaN</td>\n",
       "      <td>Print Engine 1</td>\n",
       "      <td>Varnish Printer</td>\n",
       "      <td>NaN</td>\n",
       "      <td>3D Varnish Counter</td>\n",
       "      <td>1792992</td>\n",
       "      <td>Viktor</td>\n",
       "      <td>Operator</td>\n",
       "      <td>NaN</td>\n",
       "      <td>NaN</td>\n",
       "      <td>NaN</td>\n",
       "      <td>NaN</td>\n",
       "      <td>NaN</td>\n",
       "      <td>2022-04-15 05:55:06.678000</td>\n",
       "      <td>36192.322612</td>\n",
       "      <td>100000</td>\n",
       "    </tr>\n",
       "    <tr>\n",
       "      <th>1</th>\n",
       "      <td>4169748</td>\n",
       "      <td>NaN</td>\n",
       "      <td>iFoil L</td>\n",
       "      <td>iFoil</td>\n",
       "      <td>Gen. 2</td>\n",
       "      <td>Total Pages Counter</td>\n",
       "      <td>22881</td>\n",
       "      <td>Viktor</td>\n",
       "      <td>Operator</td>\n",
       "      <td>NaN</td>\n",
       "      <td>NaN</td>\n",
       "      <td>NaN</td>\n",
       "      <td>NaN</td>\n",
       "      <td>NaN</td>\n",
       "      <td>2022-04-15 05:55:06.678000</td>\n",
       "      <td>36192.322612</td>\n",
       "      <td>100000</td>\n",
       "    </tr>\n",
       "  </tbody>\n",
       "</table>\n",
       "</div>"
      ],
      "text/plain": [
       "        id  sn_modules    name_modules     type_modules generation_modules  \\\n",
       "0  4169748         NaN  Print Engine 1  Varnish Printer                NaN   \n",
       "1  4169748         NaN         iFoil L            iFoil             Gen. 2   \n",
       "\n",
       "  name_counters_modules  value_counters_modules name_connected_operators  \\\n",
       "0    3D Varnish Counter                 1792992                   Viktor   \n",
       "1   Total Pages Counter                   22881                   Viktor   \n",
       "\n",
       "  level_connected_operators source_events message_events timestamp_events  \\\n",
       "0                  Operator           NaN            NaN              NaN   \n",
       "1                  Operator           NaN            NaN              NaN   \n",
       "\n",
       "  criticality_events identification_events                  created_at  \\\n",
       "0                NaN                   NaN  2022-04-15 05:55:06.678000   \n",
       "1                NaN                   NaN  2022-04-15 05:55:06.678000   \n",
       "\n",
       "   varnishLevelsTargetvolume  varnishLevelsTotalvolume  \n",
       "0               36192.322612                    100000  \n",
       "1               36192.322612                    100000  "
      ]
     },
     "execution_count": 2,
     "metadata": {},
     "output_type": "execute_result"
    }
   ],
   "source": [
    "# nom de fichier et chemin relatif\n",
    "filename = 'merge_raw_metrics_dataset.csv'\n",
    "path = '../data/metrics/'\n",
    "# création d'un dataframe à partir du csv de données\n",
    "df = pd.read_csv(\n",
    "    path+filename, index_col=0).sort_values(by='created_at', ascending=True)\n",
    "df.head(2)\n"
   ]
  },
  {
   "cell_type": "code",
   "execution_count": 3,
   "metadata": {},
   "outputs": [
    {
     "data": {
      "text/html": [
       "<div>\n",
       "<style scoped>\n",
       "    .dataframe tbody tr th:only-of-type {\n",
       "        vertical-align: middle;\n",
       "    }\n",
       "\n",
       "    .dataframe tbody tr th {\n",
       "        vertical-align: top;\n",
       "    }\n",
       "\n",
       "    .dataframe thead th {\n",
       "        text-align: right;\n",
       "    }\n",
       "</style>\n",
       "<table border=\"1\" class=\"dataframe\">\n",
       "  <thead>\n",
       "    <tr style=\"text-align: right;\">\n",
       "      <th></th>\n",
       "      <th>id</th>\n",
       "      <th>sn_modules</th>\n",
       "      <th>name_modules</th>\n",
       "      <th>type_modules</th>\n",
       "      <th>generation_modules</th>\n",
       "      <th>name_counters_modules</th>\n",
       "      <th>value_counters_modules</th>\n",
       "      <th>name_connected_operators</th>\n",
       "      <th>level_connected_operators</th>\n",
       "      <th>source_events</th>\n",
       "      <th>message_events</th>\n",
       "      <th>timestamp_events</th>\n",
       "      <th>criticality_events</th>\n",
       "      <th>identification_events</th>\n",
       "      <th>varnishLevelsTargetvolume</th>\n",
       "      <th>varnishLevelsTotalvolume</th>\n",
       "    </tr>\n",
       "    <tr>\n",
       "      <th>created_at</th>\n",
       "      <th></th>\n",
       "      <th></th>\n",
       "      <th></th>\n",
       "      <th></th>\n",
       "      <th></th>\n",
       "      <th></th>\n",
       "      <th></th>\n",
       "      <th></th>\n",
       "      <th></th>\n",
       "      <th></th>\n",
       "      <th></th>\n",
       "      <th></th>\n",
       "      <th></th>\n",
       "      <th></th>\n",
       "      <th></th>\n",
       "      <th></th>\n",
       "    </tr>\n",
       "  </thead>\n",
       "  <tbody>\n",
       "    <tr>\n",
       "      <th>2022-04-15 05:55:06.678</th>\n",
       "      <td>4169748</td>\n",
       "      <td>NaN</td>\n",
       "      <td>Print Engine 1</td>\n",
       "      <td>Varnish Printer</td>\n",
       "      <td>NaN</td>\n",
       "      <td>3D Varnish Counter</td>\n",
       "      <td>1792992</td>\n",
       "      <td>Viktor</td>\n",
       "      <td>Operator</td>\n",
       "      <td>NaN</td>\n",
       "      <td>NaN</td>\n",
       "      <td>NaN</td>\n",
       "      <td>NaN</td>\n",
       "      <td>NaN</td>\n",
       "      <td>36192.322612</td>\n",
       "      <td>100000</td>\n",
       "    </tr>\n",
       "    <tr>\n",
       "      <th>2022-04-15 05:55:06.678</th>\n",
       "      <td>4169748</td>\n",
       "      <td>NaN</td>\n",
       "      <td>iFoil L</td>\n",
       "      <td>iFoil</td>\n",
       "      <td>Gen. 2</td>\n",
       "      <td>Total Pages Counter</td>\n",
       "      <td>22881</td>\n",
       "      <td>Viktor</td>\n",
       "      <td>Operator</td>\n",
       "      <td>NaN</td>\n",
       "      <td>NaN</td>\n",
       "      <td>NaN</td>\n",
       "      <td>NaN</td>\n",
       "      <td>NaN</td>\n",
       "      <td>36192.322612</td>\n",
       "      <td>100000</td>\n",
       "    </tr>\n",
       "    <tr>\n",
       "      <th>2022-04-15 05:55:06.678</th>\n",
       "      <td>4169748</td>\n",
       "      <td>NaN</td>\n",
       "      <td>iFoil L</td>\n",
       "      <td>iFoil</td>\n",
       "      <td>Gen. 2</td>\n",
       "      <td>Foiled Pages Counter</td>\n",
       "      <td>31092</td>\n",
       "      <td>Viktor</td>\n",
       "      <td>Operator</td>\n",
       "      <td>NaN</td>\n",
       "      <td>NaN</td>\n",
       "      <td>NaN</td>\n",
       "      <td>NaN</td>\n",
       "      <td>NaN</td>\n",
       "      <td>36192.322612</td>\n",
       "      <td>100000</td>\n",
       "    </tr>\n",
       "    <tr>\n",
       "      <th>2022-04-15 05:55:06.829</th>\n",
       "      <td>4169749</td>\n",
       "      <td>NaN</td>\n",
       "      <td>Print Engine 1</td>\n",
       "      <td>Varnish Printer</td>\n",
       "      <td>NaN</td>\n",
       "      <td>3D Varnish Counter</td>\n",
       "      <td>1792992</td>\n",
       "      <td>Viktor</td>\n",
       "      <td>Operator</td>\n",
       "      <td>PLC</td>\n",
       "      <td>JV-Ti non prêt : impression impossible</td>\n",
       "      <td>2022-04-15T05:55:23.462Z</td>\n",
       "      <td>INFO</td>\n",
       "      <td>391</td>\n",
       "      <td>36192.322612</td>\n",
       "      <td>100000</td>\n",
       "    </tr>\n",
       "    <tr>\n",
       "      <th>2022-04-15 05:55:06.829</th>\n",
       "      <td>4169749</td>\n",
       "      <td>NaN</td>\n",
       "      <td>iFoil L</td>\n",
       "      <td>iFoil</td>\n",
       "      <td>Gen. 2</td>\n",
       "      <td>Total Pages Counter</td>\n",
       "      <td>22881</td>\n",
       "      <td>Viktor</td>\n",
       "      <td>Operator</td>\n",
       "      <td>PLC</td>\n",
       "      <td>JV-Ti non prêt : impression impossible</td>\n",
       "      <td>2022-04-15T05:55:23.462Z</td>\n",
       "      <td>INFO</td>\n",
       "      <td>391</td>\n",
       "      <td>36192.322612</td>\n",
       "      <td>100000</td>\n",
       "    </tr>\n",
       "  </tbody>\n",
       "</table>\n",
       "</div>"
      ],
      "text/plain": [
       "                              id  sn_modules    name_modules     type_modules  \\\n",
       "created_at                                                                      \n",
       "2022-04-15 05:55:06.678  4169748         NaN  Print Engine 1  Varnish Printer   \n",
       "2022-04-15 05:55:06.678  4169748         NaN         iFoil L            iFoil   \n",
       "2022-04-15 05:55:06.678  4169748         NaN         iFoil L            iFoil   \n",
       "2022-04-15 05:55:06.829  4169749         NaN  Print Engine 1  Varnish Printer   \n",
       "2022-04-15 05:55:06.829  4169749         NaN         iFoil L            iFoil   \n",
       "\n",
       "                        generation_modules name_counters_modules  \\\n",
       "created_at                                                         \n",
       "2022-04-15 05:55:06.678                NaN    3D Varnish Counter   \n",
       "2022-04-15 05:55:06.678             Gen. 2   Total Pages Counter   \n",
       "2022-04-15 05:55:06.678             Gen. 2  Foiled Pages Counter   \n",
       "2022-04-15 05:55:06.829                NaN    3D Varnish Counter   \n",
       "2022-04-15 05:55:06.829             Gen. 2   Total Pages Counter   \n",
       "\n",
       "                         value_counters_modules name_connected_operators  \\\n",
       "created_at                                                                 \n",
       "2022-04-15 05:55:06.678                 1792992                   Viktor   \n",
       "2022-04-15 05:55:06.678                   22881                   Viktor   \n",
       "2022-04-15 05:55:06.678                   31092                   Viktor   \n",
       "2022-04-15 05:55:06.829                 1792992                   Viktor   \n",
       "2022-04-15 05:55:06.829                   22881                   Viktor   \n",
       "\n",
       "                        level_connected_operators source_events  \\\n",
       "created_at                                                        \n",
       "2022-04-15 05:55:06.678                  Operator           NaN   \n",
       "2022-04-15 05:55:06.678                  Operator           NaN   \n",
       "2022-04-15 05:55:06.678                  Operator           NaN   \n",
       "2022-04-15 05:55:06.829                  Operator           PLC   \n",
       "2022-04-15 05:55:06.829                  Operator           PLC   \n",
       "\n",
       "                                                  message_events  \\\n",
       "created_at                                                         \n",
       "2022-04-15 05:55:06.678                                      NaN   \n",
       "2022-04-15 05:55:06.678                                      NaN   \n",
       "2022-04-15 05:55:06.678                                      NaN   \n",
       "2022-04-15 05:55:06.829   JV-Ti non prêt : impression impossible   \n",
       "2022-04-15 05:55:06.829   JV-Ti non prêt : impression impossible   \n",
       "\n",
       "                                 timestamp_events criticality_events  \\\n",
       "created_at                                                             \n",
       "2022-04-15 05:55:06.678                       NaN                NaN   \n",
       "2022-04-15 05:55:06.678                       NaN                NaN   \n",
       "2022-04-15 05:55:06.678                       NaN                NaN   \n",
       "2022-04-15 05:55:06.829  2022-04-15T05:55:23.462Z               INFO   \n",
       "2022-04-15 05:55:06.829  2022-04-15T05:55:23.462Z               INFO   \n",
       "\n",
       "                        identification_events  varnishLevelsTargetvolume  \\\n",
       "created_at                                                                 \n",
       "2022-04-15 05:55:06.678                   NaN               36192.322612   \n",
       "2022-04-15 05:55:06.678                   NaN               36192.322612   \n",
       "2022-04-15 05:55:06.678                   NaN               36192.322612   \n",
       "2022-04-15 05:55:06.829                   391               36192.322612   \n",
       "2022-04-15 05:55:06.829                   391               36192.322612   \n",
       "\n",
       "                         varnishLevelsTotalvolume  \n",
       "created_at                                         \n",
       "2022-04-15 05:55:06.678                    100000  \n",
       "2022-04-15 05:55:06.678                    100000  \n",
       "2022-04-15 05:55:06.678                    100000  \n",
       "2022-04-15 05:55:06.829                    100000  \n",
       "2022-04-15 05:55:06.829                    100000  "
      ]
     },
     "execution_count": 3,
     "metadata": {},
     "output_type": "execute_result"
    }
   ],
   "source": [
    "df['created_at'] = pd.to_datetime(df['created_at'])\n",
    "\n",
    "df = df.sort_values(by='created_at')\n",
    "df.set_index('created_at', inplace=True)\n",
    "\n",
    "df.head(5)"
   ]
  },
  {
   "cell_type": "code",
   "execution_count": 4,
   "metadata": {},
   "outputs": [
    {
     "data": {
      "text/plain": [
       "Index(['id', 'sn_modules', 'name_modules', 'type_modules',\n",
       "       'generation_modules', 'name_counters_modules', 'value_counters_modules',\n",
       "       'name_connected_operators', 'level_connected_operators',\n",
       "       'source_events', 'message_events', 'timestamp_events',\n",
       "       'criticality_events', 'identification_events',\n",
       "       'varnishLevelsTargetvolume', 'varnishLevelsTotalvolume'],\n",
       "      dtype='object')"
      ]
     },
     "execution_count": 4,
     "metadata": {},
     "output_type": "execute_result"
    }
   ],
   "source": [
    "df.columns"
   ]
  },
  {
   "cell_type": "code",
   "execution_count": 5,
   "metadata": {},
   "outputs": [
    {
     "data": {
      "text/plain": [
       "(3546276, 16)"
      ]
     },
     "execution_count": 5,
     "metadata": {},
     "output_type": "execute_result"
    }
   ],
   "source": [
    "df.shape"
   ]
  },
  {
   "cell_type": "code",
   "execution_count": 6,
   "metadata": {},
   "outputs": [
    {
     "name": "stdout",
     "output_type": "stream",
     "text": [
      "Columns with missing values:\n",
      "sn_modules               True\n",
      "generation_modules       True\n",
      "source_events            True\n",
      "message_events           True\n",
      "timestamp_events         True\n",
      "criticality_events       True\n",
      "identification_events    True\n",
      "dtype: bool\n"
     ]
    }
   ],
   "source": [
    "null_columns = df.isna().any()\n",
    "print(\"Columns with missing values:\")\n",
    "print(null_columns[null_columns == True])\n"
   ]
  },
  {
   "cell_type": "code",
   "execution_count": 7,
   "metadata": {},
   "outputs": [
    {
     "data": {
      "text/plain": [
       "(3546276, 16)"
      ]
     },
     "execution_count": 7,
     "metadata": {},
     "output_type": "execute_result"
    }
   ],
   "source": [
    "df.drop_duplicates()\n",
    "df.shape\n"
   ]
  },
  {
   "cell_type": "code",
   "execution_count": 8,
   "metadata": {},
   "outputs": [],
   "source": [
    "# cela va supprimer la colonne sn car vide\n",
    "df.dropna(axis='columns', how='all', inplace=True)"
   ]
  },
  {
   "cell_type": "code",
   "execution_count": 9,
   "metadata": {},
   "outputs": [
    {
     "data": {
      "text/plain": [
       "3"
      ]
     },
     "execution_count": 9,
     "metadata": {},
     "output_type": "execute_result"
    }
   ],
   "source": [
    "df['varnishLevelsTotalvolume'].nunique()"
   ]
  },
  {
   "cell_type": "code",
   "execution_count": 10,
   "metadata": {},
   "outputs": [
    {
     "data": {
      "text/plain": [
       "1"
      ]
     },
     "execution_count": 10,
     "metadata": {},
     "output_type": "execute_result"
    }
   ],
   "source": [
    "df['generation_modules'].nunique()"
   ]
  },
  {
   "cell_type": "code",
   "execution_count": 11,
   "metadata": {},
   "outputs": [],
   "source": [
    "# on supprime les colonnes :\n",
    "# message events car redondante avec la colonne identification_events \n",
    "# id , name_connected_operators, level_connected_operators car inutiles pour entrainer le model\n",
    "# timestamp_events : on a déjà une date pour l'index qui servi pour les prediction dans le temps\n",
    "# A VERIFIER : generation_modules , la colonne dispose d'une seul valeur qui est 'gen2' \n",
    "# 'name_modules' information redondante avec 'type_modules'\n",
    "df.drop(columns=['message_events','type_modules','id','name_connected_operators','level_connected_operators','generation_modules','timestamp_events'], inplace=True)"
   ]
  },
  {
   "cell_type": "code",
   "execution_count": 12,
   "metadata": {},
   "outputs": [
    {
     "data": {
      "text/plain": [
       "(3546276, 8)"
      ]
     },
     "execution_count": 12,
     "metadata": {},
     "output_type": "execute_result"
    }
   ],
   "source": [
    "df.shape"
   ]
  },
  {
   "cell_type": "code",
   "execution_count": 13,
   "metadata": {},
   "outputs": [
    {
     "data": {
      "text/plain": [
       "array([nan, '391', '330', '332', '377', '333', '334', '331',\n",
       "       'Kernel_Error', '315', '417', '406', '407', '352', '344',\n",
       "       'ICB communication error', '376', '445', '325', '343', '345',\n",
       "       '358', '453', '381', '354', '313', '447', '454', '387', '386',\n",
       "       '372', '371', '323', '480', '311', '479', '351', '440', '324',\n",
       "       '321', '0', '349', 'RCB communication error', '385', '357', '418',\n",
       "       '446', '355', '389', '476', '356', 'iFoil communication error',\n",
       "       '460', '472', '405', '380', '388', '408', 445.0, 391.0, 330.0,\n",
       "       333.0, 408.0, 407.0, 406.0, 332.0, 334.0, 472.0, 331.0, 352.0,\n",
       "       '320', '329', '350', '475', '466', '416', '411', '346', '471',\n",
       "       '327', 430.0, '430', '444', '2', '326', '419',\n",
       "       'Pilot communication error', '359', 313.0, 377.0, 453.0, 376.0,\n",
       "       344.0, 325.0, 454.0, 315.0, 417.0, '322', 385.0, 371.0, 386.0,\n",
       "       '384'], dtype=object)"
      ]
     },
     "execution_count": 13,
     "metadata": {},
     "output_type": "execute_result"
    }
   ],
   "source": [
    "df['identification_events'].unique()"
   ]
  },
  {
   "cell_type": "code",
   "execution_count": 14,
   "metadata": {},
   "outputs": [],
   "source": [
    "# Initialize a dictionary to store the mapping for non-integer strings\n",
    "non_int_string_mapping = {}\n",
    "next_mapping_value = 1000\n",
    "# 'Kernel_Error' = 1000 , 'ICB communication error' = 1001 ; 'RCB communication error' = 1002 , 'iFoil communication error' = 1003 , 'Pilot communication error' = \n",
    "\n",
    "# Function to convert the value\n",
    "def convert_value(value):\n",
    "    global next_mapping_value\n",
    "\n",
    "    if pd.isna(value):\n",
    "        return value\n",
    "\n",
    "    if isinstance(value, (int, float)):\n",
    "        return int(value)\n",
    "    \n",
    "    if value.isdigit():\n",
    "        return int(value)\n",
    "    \n",
    "    if value not in non_int_string_mapping:\n",
    "        non_int_string_mapping[value] = next_mapping_value\n",
    "        next_mapping_value += 1\n",
    "        \n",
    "    return non_int_string_mapping[value]\n",
    "\n",
    "# Apply the conversion function to the 'identification_events' column\n",
    "df['identification_events'] = df['identification_events'].apply(convert_value)\n",
    "\n",
    "# Convert the column to integers, keeping NaN values as float\n",
    "df['identification_events'] = df['identification_events'].astype(pd.Int64Dtype())"
   ]
  },
  {
   "cell_type": "code",
   "execution_count": 15,
   "metadata": {},
   "outputs": [
    {
     "data": {
      "text/plain": [
       "<IntegerArray>\n",
       "[<NA>,  391,  330,  332,  377,  333,  334,  331, 1000,  315,  417,  406,  407,\n",
       "  352,  344, 1001,  376,  445,  325,  343,  345,  358,  453,  381,  354,  313,\n",
       "  447,  454,  387,  386,  372,  371,  323,  480,  311,  479,  351,  440,  324,\n",
       "  321,    0,  349, 1002,  385,  357,  418,  446,  355,  389,  476,  356, 1003,\n",
       "  460,  472,  405,  380,  388,  408,  320,  329,  350,  475,  466,  416,  411,\n",
       "  346,  471,  327,  430,  444,    2,  326,  419, 1004,  359,  322,  384]\n",
       "Length: 77, dtype: Int64"
      ]
     },
     "execution_count": 15,
     "metadata": {},
     "output_type": "execute_result"
    }
   ],
   "source": [
    "df['identification_events'].unique()"
   ]
  },
  {
   "cell_type": "code",
   "execution_count": 16,
   "metadata": {},
   "outputs": [
    {
     "data": {
      "text/plain": [
       "array([nan, 'PLC', 'iFoil', 'Kernel', 'ICB n°5', 'RCB n°1', 'RCB n°2',\n",
       "       'RCB n°3', 'ICB n°7', 'ICB n°4', 'ICB n°8', 'ICB n°2', 'ICB n°1',\n",
       "       'ICB n°6', 'Pilot'], dtype=object)"
      ]
     },
     "execution_count": 16,
     "metadata": {},
     "output_type": "execute_result"
    }
   ],
   "source": [
    "df['source_events'].unique()"
   ]
  },
  {
   "cell_type": "code",
   "execution_count": 17,
   "metadata": {},
   "outputs": [
    {
     "name": "stdout",
     "output_type": "stream",
     "text": [
      "source_events: 3302193 valeurs manquantes sur 3546276\n",
      "criticality_events: 3302193 valeurs manquantes sur 3546276\n",
      "identification_events: 3302193 valeurs manquantes sur 3546276\n"
     ]
    }
   ],
   "source": [
    "# count null values in each column\n",
    "null_values_count = df.isnull().sum()\n",
    "\n",
    "for column, value in null_values_count.items():\n",
    "    if value > 0:\n",
    "        print(f\"{column}: {value} valeurs manquantes sur {df.shape[0]}\")\n"
   ]
  },
  {
   "cell_type": "code",
   "execution_count": 18,
   "metadata": {},
   "outputs": [
    {
     "data": {
      "text/plain": [
       "INFO       179610\n",
       "WARNING     34497\n",
       "ERROR       29976\n",
       "Name: criticality_events, dtype: int64"
      ]
     },
     "execution_count": 18,
     "metadata": {},
     "output_type": "execute_result"
    }
   ],
   "source": [
    "df['criticality_events'].value_counts()"
   ]
  },
  {
   "cell_type": "code",
   "execution_count": 19,
   "metadata": {},
   "outputs": [
    {
     "data": {
      "text/plain": [
       "['name_modules', 'name_counters_modules', 'source_events']"
      ]
     },
     "execution_count": 19,
     "metadata": {},
     "output_type": "execute_result"
    }
   ],
   "source": [
    "# Identify categorical columns (excluding the target column 'criticality')\n",
    "categorical_columns = ['name_modules',  'name_counters_modules', 'source_events']\n",
    "\n",
    "categorical_columns"
   ]
  },
  {
   "cell_type": "code",
   "execution_count": 20,
   "metadata": {},
   "outputs": [
    {
     "name": "stderr",
     "output_type": "stream",
     "text": [
      "p:\\HubAcademy\\AI\\MGI\\Prediction-Erreur-JetVarnish3D\\venv\\lib\\site-packages\\sklearn\\preprocessing\\_encoders.py:868: FutureWarning: `sparse` was renamed to `sparse_output` in version 1.2 and will be removed in 1.4. `sparse_output` is ignored unless you leave `sparse` to its default value.\n",
      "  warnings.warn(\n"
     ]
    }
   ],
   "source": [
    "# Initialize OneHotEncoder\n",
    "ohe = OneHotEncoder(handle_unknown='ignore', sparse=False)\n",
    "\n",
    "# Perform one-hot encoding on categorical columns\n",
    "one_hot_encoded_columns = ohe.fit_transform(df[categorical_columns])\n",
    "\n",
    "# Create a new DataFrame with the one-hot encoded columns and the appropriate column names\n",
    "one_hot_encoded_df = pd.DataFrame(\n",
    "    one_hot_encoded_columns,\n",
    "    columns=ohe.get_feature_names_out(categorical_columns),\n",
    "    index=df.index\n",
    ")\n",
    "\n",
    "# Merge the one-hot encoded columns with the original dataframe and drop the original categorical columns\n",
    "df = pd.concat([df.drop(categorical_columns, axis=1),\n",
    "               one_hot_encoded_df], axis=1)\n"
   ]
  },
  {
   "cell_type": "code",
   "execution_count": 21,
   "metadata": {},
   "outputs": [],
   "source": [
    "# Label encode the target variable 'criticality'\n",
    "le_criticality = LabelEncoder()\n",
    "df['criticality_events'] = le_criticality.fit_transform(df['criticality_events'])"
   ]
  },
  {
   "cell_type": "code",
   "execution_count": 22,
   "metadata": {},
   "outputs": [],
   "source": [
    "train_size = int(0.8 * len(df))\n",
    "train_df, test_df = df.iloc[:train_size], df.iloc[train_size:]"
   ]
  },
  {
   "cell_type": "code",
   "execution_count": 23,
   "metadata": {},
   "outputs": [],
   "source": [
    "# Initialize the scaler\n",
    "scaler = StandardScaler()\n",
    "\n",
    "# Fit the scaler on the training set and transform both the training and testing sets\n",
    "X_train = train_df.drop('criticality_events', axis=1)\n",
    "y_train = train_df['criticality_events']\n",
    "X_test = test_df.drop('criticality_events', axis=1)\n",
    "y_test = test_df['criticality_events']\n",
    "\n",
    "X_train = scaler.fit_transform(X_train)\n",
    "X_test = scaler.transform(X_test)"
   ]
  },
  {
   "cell_type": "code",
   "execution_count": 24,
   "metadata": {},
   "outputs": [],
   "source": [
    "def create_time_series_data(X, y, time_steps=1):\n",
    "    Xs, ys = [], []\n",
    "    for i in range(len(X) - time_steps):\n",
    "        Xs.append(X[i: (i + time_steps)])\n",
    "        ys.append(y[i + time_steps])\n",
    "    return np.array(Xs), np.array(ys)\n",
    "\n",
    "time_steps = 30  # You can choose an appropriate number of time steps for your problem\n",
    "\n",
    "X_train, y_train = create_time_series_data(X_train, y_train, time_steps)\n",
    "X_test, y_test = create_time_series_data(X_test, y_test, time_steps)\n"
   ]
  },
  {
   "cell_type": "code",
   "execution_count": 25,
   "metadata": {},
   "outputs": [],
   "source": [
    "#Define the LSTM model function\n",
    "def build_model(input_shape, units=50, dropout_rate=0.2):\n",
    "    model = Sequential()\n",
    "    model.add(LSTM(units=units, return_sequences=True, input_shape=input_shape))\n",
    "    model.add(Dropout(dropout_rate))\n",
    "    model.add(LSTM(units=units, return_sequences=True))\n",
    "    model.add(Dropout(dropout_rate))\n",
    "    model.add(LSTM(units=units))\n",
    "    model.add(Dropout(dropout_rate))\n",
    "    model.add(Dense(units=1, activation='linear'))\n",
    "    model.compile(optimizer='adam', loss='mean_squared_error', metrics=['mae'])\n",
    "    return model"
   ]
  },
  {
   "cell_type": "code",
   "execution_count": 32,
   "metadata": {},
   "outputs": [],
   "source": [
    "# Set hyperparameters manually (you can change these according to your preference)\n",
    "best_units = 25\n",
    "best_dropout_rate = 0.2"
   ]
  },
  {
   "cell_type": "code",
   "execution_count": 33,
   "metadata": {},
   "outputs": [],
   "source": [
    "os.environ['CUDA_VISIBLE_DEVICES'] = '-1'"
   ]
  },
  {
   "cell_type": "code",
   "execution_count": 34,
   "metadata": {},
   "outputs": [
    {
     "name": "stdout",
     "output_type": "stream",
     "text": [
      "Epoch 1/10\n",
      "31484/39896 [======================>.......] - ETA: 2:35 - loss: nan - mae: nan"
     ]
    }
   ],
   "source": [
    "# Train the model with the chosen hyperparameters\n",
    "input_shape = (time_steps, X_train.shape[2])\n",
    "model = build_model(input_shape, units=best_units, dropout_rate=best_dropout_rate)\n",
    "checkpoint = ModelCheckpoint('best_model.h5', monitor='val_loss', save_best_only=True, verbose=1)\n",
    "history = model.fit(X_train, y_train, epochs=10, batch_size=64, validation_split=0.1, callbacks=[checkpoint], verbose=1)"
   ]
  },
  {
   "cell_type": "code",
   "execution_count": null,
   "metadata": {},
   "outputs": [],
   "source": [
    "model.save('lstm_model.h5')"
   ]
  },
  {
   "cell_type": "code",
   "execution_count": null,
   "metadata": {},
   "outputs": [],
   "source": [
    "model.evaluate(X_test, y_test, verbose=1)"
   ]
  },
  {
   "cell_type": "code",
   "execution_count": null,
   "metadata": {},
   "outputs": [],
   "source": [
    "y_pred = model.predict(X_test)"
   ]
  },
  {
   "cell_type": "code",
   "execution_count": null,
   "metadata": {},
   "outputs": [],
   "source": [
    "y_pred_original = le_criticality.inverse_transform(y_pred.round().astype(int))\n",
    "y_test_original = le_criticality.inverse_transform(y_test)\n"
   ]
  },
  {
   "cell_type": "code",
   "execution_count": null,
   "metadata": {},
   "outputs": [],
   "source": [
    "from sklearn.metrics import mean_absolute_error, mean_squared_error, r2_score\n",
    "\n",
    "mae = mean_absolute_error(y_test_original, y_pred_original)\n",
    "mse = mean_squared_error(y_test_original, y_pred_original)\n",
    "r2 = r2_score(y_test_original, y_pred_original)\n",
    "\n",
    "print(f\"Mean Absolute Error: {mae}\")\n",
    "print(f\"Mean Squared Error: {mse}\")\n",
    "print(f\"R-squared Score: {r2}\")\n"
   ]
  }
 ],
 "metadata": {
  "kernelspec": {
   "display_name": "venv",
   "language": "python",
   "name": "python3"
  },
  "language_info": {
   "codemirror_mode": {
    "name": "ipython",
    "version": 3
   },
   "file_extension": ".py",
   "mimetype": "text/x-python",
   "name": "python",
   "nbconvert_exporter": "python",
   "pygments_lexer": "ipython3",
   "version": "3.10.7"
  },
  "orig_nbformat": 4
 },
 "nbformat": 4,
 "nbformat_minor": 2
}
