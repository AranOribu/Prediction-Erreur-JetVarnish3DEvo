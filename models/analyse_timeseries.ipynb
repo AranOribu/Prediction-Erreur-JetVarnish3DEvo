{
 "cells": [
  {
   "cell_type": "code",
   "execution_count": 4,
   "metadata": {},
   "outputs": [],
   "source": [
    "import numpy as np\n",
    "import pandas as pd\n",
    "from datetime import datetime, timedelta"
   ]
  },
  {
   "attachments": {},
   "cell_type": "markdown",
   "metadata": {},
   "source": [
    "## Import des données"
   ]
  },
  {
   "cell_type": "code",
   "execution_count": 5,
   "metadata": {},
   "outputs": [
    {
     "name": "stderr",
     "output_type": "stream",
     "text": [
      "C:\\Users\\Audrey\\AppData\\Local\\Temp\\ipykernel_9876\\3772619081.py:5: DtypeWarning: Columns (2,3,4,5,6) have mixed types. Specify dtype option on import or set low_memory=False.\n",
      "  df = pd.read_csv(\n"
     ]
    },
    {
     "data": {
      "text/html": [
       "<div>\n",
       "<style scoped>\n",
       "    .dataframe tbody tr th:only-of-type {\n",
       "        vertical-align: middle;\n",
       "    }\n",
       "\n",
       "    .dataframe tbody tr th {\n",
       "        vertical-align: top;\n",
       "    }\n",
       "\n",
       "    .dataframe thead th {\n",
       "        text-align: right;\n",
       "    }\n",
       "</style>\n",
       "<table border=\"1\" class=\"dataframe\">\n",
       "  <thead>\n",
       "    <tr style=\"text-align: right;\">\n",
       "      <th></th>\n",
       "      <th>id</th>\n",
       "      <th>source_events</th>\n",
       "      <th>message_events</th>\n",
       "      <th>timestamp_events</th>\n",
       "      <th>criticality_events</th>\n",
       "      <th>identification_events</th>\n",
       "      <th>sn_modules</th>\n",
       "      <th>name_modules</th>\n",
       "      <th>type_modules</th>\n",
       "      <th>generation_modules</th>\n",
       "      <th>name_counters_modules</th>\n",
       "      <th>value_counters_modules</th>\n",
       "      <th>name_connected_operators</th>\n",
       "      <th>level_connected_operators</th>\n",
       "      <th>created_at</th>\n",
       "      <th>varnishLevelsTargetvolume</th>\n",
       "      <th>varnishLevelsTotalvolume</th>\n",
       "    </tr>\n",
       "  </thead>\n",
       "  <tbody>\n",
       "    <tr>\n",
       "      <th>35738</th>\n",
       "      <td>4169748</td>\n",
       "      <td>NaN</td>\n",
       "      <td>NaN</td>\n",
       "      <td>NaN</td>\n",
       "      <td>NaN</td>\n",
       "      <td>NaN</td>\n",
       "      <td>NaN</td>\n",
       "      <td>Print Engine 1</td>\n",
       "      <td>Varnish Printer</td>\n",
       "      <td>NaN</td>\n",
       "      <td>3D Varnish Counter</td>\n",
       "      <td>1792992</td>\n",
       "      <td>Viktor</td>\n",
       "      <td>Operator</td>\n",
       "      <td>2022-04-15 05:55:06.678000</td>\n",
       "      <td>36192.322612</td>\n",
       "      <td>100000</td>\n",
       "    </tr>\n",
       "    <tr>\n",
       "      <th>35737</th>\n",
       "      <td>4169748</td>\n",
       "      <td>NaN</td>\n",
       "      <td>NaN</td>\n",
       "      <td>NaN</td>\n",
       "      <td>NaN</td>\n",
       "      <td>NaN</td>\n",
       "      <td>NaN</td>\n",
       "      <td>iFoil L</td>\n",
       "      <td>iFoil</td>\n",
       "      <td>Gen. 2</td>\n",
       "      <td>Foiled Pages Counter</td>\n",
       "      <td>31092</td>\n",
       "      <td>Viktor</td>\n",
       "      <td>Operator</td>\n",
       "      <td>2022-04-15 05:55:06.678000</td>\n",
       "      <td>36192.322612</td>\n",
       "      <td>100000</td>\n",
       "    </tr>\n",
       "  </tbody>\n",
       "</table>\n",
       "</div>"
      ],
      "text/plain": [
       "            id source_events message_events timestamp_events  \\\n",
       "35738  4169748           NaN            NaN              NaN   \n",
       "35737  4169748           NaN            NaN              NaN   \n",
       "\n",
       "      criticality_events identification_events  sn_modules    name_modules  \\\n",
       "35738                NaN                   NaN         NaN  Print Engine 1   \n",
       "35737                NaN                   NaN         NaN         iFoil L   \n",
       "\n",
       "          type_modules generation_modules name_counters_modules  \\\n",
       "35738  Varnish Printer                NaN    3D Varnish Counter   \n",
       "35737            iFoil             Gen. 2  Foiled Pages Counter   \n",
       "\n",
       "       value_counters_modules name_connected_operators  \\\n",
       "35738                 1792992                   Viktor   \n",
       "35737                   31092                   Viktor   \n",
       "\n",
       "      level_connected_operators                  created_at  \\\n",
       "35738                  Operator  2022-04-15 05:55:06.678000   \n",
       "35737                  Operator  2022-04-15 05:55:06.678000   \n",
       "\n",
       "       varnishLevelsTargetvolume  varnishLevelsTotalvolume  \n",
       "35738               36192.322612                    100000  \n",
       "35737               36192.322612                    100000  "
      ]
     },
     "execution_count": 5,
     "metadata": {},
     "output_type": "execute_result"
    }
   ],
   "source": [
    "# nom de fichier et chemin relatif\n",
    "filename = 'raw_merge_metrics_dataset.csv'\n",
    "path = '../data/metrics/'\n",
    "# création d'un dataframe à partir du csv de données\n",
    "df = pd.read_csv(\n",
    "    path+filename, index_col=0).sort_values(by='created_at', ascending=True)\n",
    "df.head(2)"
   ]
  },
  {
   "attachments": {},
   "cell_type": "markdown",
   "metadata": {},
   "source": [
    "## Analyse du temps"
   ]
  },
  {
   "cell_type": "code",
   "execution_count": 6,
   "metadata": {},
   "outputs": [],
   "source": [
    "# conversion du type de la colonne timestamp_events\n",
    "df['timestamp_events'] = pd.to_datetime(df['timestamp_events'])\n",
    "# ordonnancement des dates\n",
    "df.sort_values(by='timestamp_events', ascending=True, inplace=True)"
   ]
  },
  {
   "cell_type": "code",
   "execution_count": 7,
   "metadata": {},
   "outputs": [],
   "source": [
    "# création d'un dict des données d'ecart de temps entre les lignes timestamp_events\n",
    "time_diff = {'diff': [], 'days': [], 'seconds': []}\n",
    "for i in range(len(df.timestamp_events) - 1):\n",
    "    ecart = df.timestamp_events[i+1] - df.timestamp_events[i]\n",
    "    time_diff['diff'].append(ecart)\n",
    "    time_diff['days'].append(ecart.days)\n",
    "    time_diff['seconds'].append(ecart.seconds)"
   ]
  },
  {
   "cell_type": "code",
   "execution_count": 8,
   "metadata": {},
   "outputs": [],
   "source": [
    "# Dataframe des données d'ecart de temps entre les lignes\n",
    "df_time_diff = pd.DataFrame(time_diff)"
   ]
  },
  {
   "cell_type": "code",
   "execution_count": 9,
   "metadata": {},
   "outputs": [
    {
     "data": {
      "text/plain": [
       "diff       0 days 00:06:12.787303498\n",
       "days                       -0.041916\n",
       "seconds                  3994.006051\n",
       "dtype: object"
      ]
     },
     "execution_count": 9,
     "metadata": {},
     "output_type": "execute_result"
    }
   ],
   "source": [
    "# moyenne d'ecart de temps entre chaque event\n",
    "df_time_diff.mean()"
   ]
  },
  {
   "cell_type": "code",
   "execution_count": 10,
   "metadata": {},
   "outputs": [
    {
     "data": {
      "text/plain": [
       "diff       0 days 00:04:05.760983245\n",
       "days                             0.0\n",
       "seconds                   245.421487\n",
       "dtype: object"
      ]
     },
     "execution_count": 10,
     "metadata": {},
     "output_type": "execute_result"
    }
   ],
   "source": [
    "# moyenne d'ecart de temps entre chaque event des events ayant 0 jours d'écart\n",
    "df_time_diff[df_time_diff.days == 0].mean()"
   ]
  },
  {
   "cell_type": "code",
   "execution_count": 12,
   "metadata": {},
   "outputs": [
    {
     "data": {
      "text/plain": [
       "diff       0 days 00:52:17.109913506\n",
       "days                       -0.954092\n",
       "seconds                  85569.99002\n",
       "dtype: object"
      ]
     },
     "execution_count": 12,
     "metadata": {},
     "output_type": "execute_result"
    }
   ],
   "source": [
    "# moyenne d'ecart de temps entre chaque event des events ayant plus de 0 jours d'écart\n",
    "df_time_diff[df_time_diff.days != 0].mean()"
   ]
  },
  {
   "cell_type": "code",
   "execution_count": 13,
   "metadata": {},
   "outputs": [
    {
     "name": "stdout",
     "output_type": "stream",
     "text": [
      "Nombre de lignes avec un écart de temps supérieur à 0 days : 3477722\n"
     ]
    }
   ],
   "source": [
    "print(f'Nombre de lignes avec un écart de temps supérieur à 0 days : {len(df_time_diff[df_time_diff.days != 0].values)}')"
   ]
  }
 ],
 "metadata": {
  "kernelspec": {
   "display_name": "venv",
   "language": "python",
   "name": "python3"
  },
  "language_info": {
   "codemirror_mode": {
    "name": "ipython",
    "version": 3
   },
   "file_extension": ".py",
   "mimetype": "text/x-python",
   "name": "python",
   "nbconvert_exporter": "python",
   "pygments_lexer": "ipython3",
   "version": "3.10.11"
  },
  "orig_nbformat": 4
 },
 "nbformat": 4,
 "nbformat_minor": 2
}
