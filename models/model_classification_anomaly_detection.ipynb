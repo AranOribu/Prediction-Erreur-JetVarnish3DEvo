{
 "cells": [
  {
   "attachments": {},
   "cell_type": "markdown",
   "metadata": {},
   "source": [
    "# Modèle de Classification detection d'anomalies"
   ]
  },
  {
   "attachments": {},
   "cell_type": "markdown",
   "metadata": {},
   "source": [
    "https://blog.floydhub.com/introduction-to-anomaly-detection-in-python/"
   ]
  },
  {
   "cell_type": "code",
   "execution_count": 133,
   "metadata": {},
   "outputs": [],
   "source": [
    "import pandas as pd\n",
    "import numpy as np\n",
    "import matplotlib.pyplot as plt"
   ]
  },
  {
   "cell_type": "code",
   "execution_count": 134,
   "metadata": {},
   "outputs": [
    {
     "data": {
      "text/html": [
       "<div>\n",
       "<style scoped>\n",
       "    .dataframe tbody tr th:only-of-type {\n",
       "        vertical-align: middle;\n",
       "    }\n",
       "\n",
       "    .dataframe tbody tr th {\n",
       "        vertical-align: top;\n",
       "    }\n",
       "\n",
       "    .dataframe thead th {\n",
       "        text-align: right;\n",
       "    }\n",
       "</style>\n",
       "<table border=\"1\" class=\"dataframe\">\n",
       "  <thead>\n",
       "    <tr style=\"text-align: right;\">\n",
       "      <th></th>\n",
       "      <th>source</th>\n",
       "      <th>message</th>\n",
       "      <th>timestamp</th>\n",
       "      <th>criticality</th>\n",
       "      <th>identification</th>\n",
       "      <th>id</th>\n",
       "      <th>varnishLevelsTargetvolume</th>\n",
       "      <th>varnishLevelsTotalvolume</th>\n",
       "      <th>VarnishPrinter_3DVarnishCounter</th>\n",
       "      <th>iFoil_TotalPagesCounter</th>\n",
       "    </tr>\n",
       "  </thead>\n",
       "  <tbody>\n",
       "    <tr>\n",
       "      <th>0</th>\n",
       "      <td>PLC</td>\n",
       "      <td>JV-Ti non prêt : impression impossible</td>\n",
       "      <td>2022-04-15 05:55:23.462000+00:00</td>\n",
       "      <td>INFO</td>\n",
       "      <td>391</td>\n",
       "      <td>4169749</td>\n",
       "      <td>36192.322612</td>\n",
       "      <td>100000</td>\n",
       "      <td>1792992</td>\n",
       "      <td>22881</td>\n",
       "    </tr>\n",
       "    <tr>\n",
       "      <th>1</th>\n",
       "      <td>iFoil</td>\n",
       "      <td>JV-Ti non prêt : impression impossible</td>\n",
       "      <td>2022-04-15 06:06:56.278000+00:00</td>\n",
       "      <td>INFO</td>\n",
       "      <td>391</td>\n",
       "      <td>4170152</td>\n",
       "      <td>36192.322612</td>\n",
       "      <td>100000</td>\n",
       "      <td>1792992</td>\n",
       "      <td>22881</td>\n",
       "    </tr>\n",
       "  </tbody>\n",
       "</table>\n",
       "</div>"
      ],
      "text/plain": [
       "  source                                  message  \\\n",
       "0    PLC   JV-Ti non prêt : impression impossible   \n",
       "1  iFoil   JV-Ti non prêt : impression impossible   \n",
       "\n",
       "                          timestamp criticality identification       id  \\\n",
       "0  2022-04-15 05:55:23.462000+00:00        INFO            391  4169749   \n",
       "1  2022-04-15 06:06:56.278000+00:00        INFO            391  4170152   \n",
       "\n",
       "   varnishLevelsTargetvolume  varnishLevelsTotalvolume  \\\n",
       "0               36192.322612                    100000   \n",
       "1               36192.322612                    100000   \n",
       "\n",
       "   VarnishPrinter_3DVarnishCounter  iFoil_TotalPagesCounter  \n",
       "0                          1792992                    22881  \n",
       "1                          1792992                    22881  "
      ]
     },
     "execution_count": 134,
     "metadata": {},
     "output_type": "execute_result"
    }
   ],
   "source": [
    "# nom de fichier et chemin relatif\n",
    "filename = 'metrics_events_split_df.csv'\n",
    "path = '../data/metrics/'\n",
    "# création d'un dataframe à partir du csv de données\n",
    "df = pd.read_csv(path+filename, index_col=0)\n",
    "df.head(2)"
   ]
  },
  {
   "cell_type": "code",
   "execution_count": 135,
   "metadata": {},
   "outputs": [],
   "source": [
    "# création d'un dictionnaire des criticité avec leur niveau\n",
    "def ordinal_features_encoding(serie):\n",
    "    categories_mapper = {}\n",
    "    index = 1\n",
    "    for catgeory in list(serie) :\n",
    "        categories_mapper[catgeory] = index\n",
    "        index += 1\n",
    "    return categories_mapper"
   ]
  },
  {
   "cell_type": "code",
   "execution_count": 136,
   "metadata": {},
   "outputs": [
    {
     "name": "stdout",
     "output_type": "stream",
     "text": [
      "<class 'pandas.core.frame.DataFrame'>\n",
      "Int64Index: 68556 entries, 0 to 81360\n",
      "Data columns (total 10 columns):\n",
      " #   Column                           Non-Null Count  Dtype  \n",
      "---  ------                           --------------  -----  \n",
      " 0   source                           68556 non-null  object \n",
      " 1   message                          68542 non-null  object \n",
      " 2   timestamp                        68556 non-null  object \n",
      " 3   criticality                      68556 non-null  object \n",
      " 4   identification                   68556 non-null  object \n",
      " 5   id                               68556 non-null  int64  \n",
      " 6   varnishLevelsTargetvolume        68556 non-null  float64\n",
      " 7   varnishLevelsTotalvolume         68556 non-null  int64  \n",
      " 8   VarnishPrinter_3DVarnishCounter  68556 non-null  int64  \n",
      " 9   iFoil_TotalPagesCounter          68556 non-null  int64  \n",
      "dtypes: float64(1), int64(4), object(5)\n",
      "memory usage: 5.8+ MB\n"
     ]
    }
   ],
   "source": [
    "plc_df = df[df.source != 'iFoil']\n",
    "plc_df.info()"
   ]
  },
  {
   "cell_type": "code",
   "execution_count": 137,
   "metadata": {},
   "outputs": [],
   "source": [
    "# suppression des colonnes inutiles\n",
    "plc_df = plc_df.drop(['source', 'message'], axis=1)"
   ]
  },
  {
   "cell_type": "code",
   "execution_count": 140,
   "metadata": {},
   "outputs": [
    {
     "data": {
      "text/plain": [
       "array(['391', '330', '332', '377', '333', '334', '331', 'Kernel_Error',\n",
       "       '315', '417', '406', '407', '352', '344',\n",
       "       'ICB communication error', '376', '445', '325', '343', '345',\n",
       "       '358', '453', '381', '354', '313', '447', '454', '387', '386',\n",
       "       '372', '371', '323', '480', '311', '479', '351', '440', '324',\n",
       "       '321', '0', '349', 'RCB communication error', '385', '357', '418',\n",
       "       '446', '355', '389', '476', '356', '460', '472', '405', '380',\n",
       "       '388', '408', '320', '329', '350', '475', '466', '416', '411',\n",
       "       '346', '471', '327', '430', '444', '2', '326', '419',\n",
       "       'Pilot communication error', '359', '322', '384'], dtype=object)"
      ]
     },
     "execution_count": 140,
     "metadata": {},
     "output_type": "execute_result"
    }
   ],
   "source": [
    "plc_df.identification.unique()"
   ]
  },
  {
   "cell_type": "code",
   "execution_count": 139,
   "metadata": {},
   "outputs": [
    {
     "name": "stdout",
     "output_type": "stream",
     "text": [
      "Unexpected exception formatting exception. Falling back to standard exception\n"
     ]
    },
    {
     "name": "stderr",
     "output_type": "stream",
     "text": [
      "Traceback (most recent call last):\n",
      "  File \"pandas\\_libs\\lib.pyx\", line 2369, in pandas._libs.lib.maybe_convert_numeric\n",
      "ValueError: Unable to parse string \"Kernel_Error\"\n",
      "\n",
      "During handling of the above exception, another exception occurred:\n",
      "\n",
      "Traceback (most recent call last):\n",
      "  File \"d:\\02.Pro\\SIMPLON\\Certification\\E1\\Prediction-Erreur-JetVarnish3D\\.venv\\lib\\site-packages\\IPython\\core\\interactiveshell.py\", line 3460, in run_code\n",
      "    exec(code_obj, self.user_global_ns, self.user_ns)\n",
      "  File \"C:\\Users\\odazo\\AppData\\Local\\Temp\\ipykernel_22876\\503213786.py\", line 3, in <module>\n",
      "    plc_df[\"identification\"] = pd.to_numeric(plc_df[\"identification\"])\n",
      "  File \"d:\\02.Pro\\SIMPLON\\Certification\\E1\\Prediction-Erreur-JetVarnish3D\\.venv\\lib\\site-packages\\pandas\\core\\tools\\numeric.py\", line 185, in to_numeric\n",
      "    values, _ = lib.maybe_convert_numeric(\n",
      "  File \"pandas\\_libs\\lib.pyx\", line 2411, in pandas._libs.lib.maybe_convert_numeric\n",
      "ValueError: Unable to parse string \"Kernel_Error\" at position 7\n",
      "\n",
      "During handling of the above exception, another exception occurred:\n",
      "\n",
      "Traceback (most recent call last):\n",
      "  File \"d:\\02.Pro\\SIMPLON\\Certification\\E1\\Prediction-Erreur-JetVarnish3D\\.venv\\lib\\site-packages\\IPython\\core\\interactiveshell.py\", line 2057, in showtraceback\n",
      "    stb = self.InteractiveTB.structured_traceback(\n",
      "  File \"d:\\02.Pro\\SIMPLON\\Certification\\E1\\Prediction-Erreur-JetVarnish3D\\.venv\\lib\\site-packages\\IPython\\core\\ultratb.py\", line 1288, in structured_traceback\n",
      "    return FormattedTB.structured_traceback(\n",
      "  File \"d:\\02.Pro\\SIMPLON\\Certification\\E1\\Prediction-Erreur-JetVarnish3D\\.venv\\lib\\site-packages\\IPython\\core\\ultratb.py\", line 1177, in structured_traceback\n",
      "    return VerboseTB.structured_traceback(\n",
      "  File \"d:\\02.Pro\\SIMPLON\\Certification\\E1\\Prediction-Erreur-JetVarnish3D\\.venv\\lib\\site-packages\\IPython\\core\\ultratb.py\", line 1049, in structured_traceback\n",
      "    formatted_exceptions += self.format_exception_as_a_whole(etype, evalue, etb, lines_of_context,\n",
      "  File \"d:\\02.Pro\\SIMPLON\\Certification\\E1\\Prediction-Erreur-JetVarnish3D\\.venv\\lib\\site-packages\\IPython\\core\\ultratb.py\", line 935, in format_exception_as_a_whole\n",
      "    self.get_records(etb, number_of_lines_of_context, tb_offset) if etb else []\n",
      "  File \"d:\\02.Pro\\SIMPLON\\Certification\\E1\\Prediction-Erreur-JetVarnish3D\\.venv\\lib\\site-packages\\IPython\\core\\ultratb.py\", line 1003, in get_records\n",
      "    lines, first = inspect.getsourcelines(etb.tb_frame)\n",
      "  File \"C:\\Python310\\lib\\inspect.py\", line 1129, in getsourcelines\n",
      "    lines, lnum = findsource(object)\n",
      "  File \"C:\\Python310\\lib\\inspect.py\", line 958, in findsource\n",
      "    raise OSError('could not get source code')\n",
      "OSError: could not get source code\n"
     ]
    }
   ],
   "source": [
    "# conversion des types\n",
    "plc_df[\"timestamp\"] = pd.to_datetime(plc_df[\"timestamp\"])\n",
    "plc_df[\"identification\"] = pd.to_numeric(plc_df[\"identification\"])"
   ]
  },
  {
   "cell_type": "code",
   "execution_count": 130,
   "metadata": {},
   "outputs": [],
   "source": [
    "# encodage de la colonne criticality\n",
    "plc_df[\"criticality\"] = plc_df[\"criticality\"].replace(ordinal_features_encoding(plc_df.criticality.unique()))"
   ]
  },
  {
   "cell_type": "code",
   "execution_count": 95,
   "metadata": {},
   "outputs": [],
   "source": [
    "# c_df = df[[\"criticality\", 'timestamp']].copy()\n",
    "# c_df.timestamp = pd.to_datetime(c_df.timestamp, errors='ignore', utc=True, format=\"%f\")\n",
    "# c_df.index = df[\"timestamp\"] \n",
    "# del c_df[\"timestamp\"]\n",
    "# c_df.info()\n",
    "# c_df[\"criticality\"].plot(figsize=(15, 6))\n",
    "# plt.show()\n"
   ]
  },
  {
   "cell_type": "code",
   "execution_count": 24,
   "metadata": {},
   "outputs": [
    {
     "data": {
      "image/png": "[encoded data removed]",
      "text/plain": [
       "<Figure size 640x480 with 1 Axes>"
      ]
     },
     "metadata": {},
     "output_type": "display_data"
    }
   ],
   "source": [
    "# Generate a Boxplot\n",
    "# df1['criticality'].plot(kind='box')\n",
    "# plt.show()"
   ]
  },
  {
   "cell_type": "code",
   "execution_count": 99,
   "metadata": {},
   "outputs": [
    {
     "data": {
      "text/html": [
       "<div>\n",
       "<style scoped>\n",
       "    .dataframe tbody tr th:only-of-type {\n",
       "        vertical-align: middle;\n",
       "    }\n",
       "\n",
       "    .dataframe tbody tr th {\n",
       "        vertical-align: top;\n",
       "    }\n",
       "\n",
       "    .dataframe thead th {\n",
       "        text-align: right;\n",
       "    }\n",
       "</style>\n",
       "<table border=\"1\" class=\"dataframe\">\n",
       "  <thead>\n",
       "    <tr style=\"text-align: right;\">\n",
       "      <th></th>\n",
       "      <th>source</th>\n",
       "      <th>message</th>\n",
       "      <th>timestamp</th>\n",
       "      <th>identification</th>\n",
       "      <th>id</th>\n",
       "      <th>varnishLevelsTargetvolume</th>\n",
       "      <th>varnishLevelsTotalvolume</th>\n",
       "      <th>VarnishPrinter_3DVarnishCounter</th>\n",
       "      <th>iFoil_TotalPagesCounter</th>\n",
       "    </tr>\n",
       "    <tr>\n",
       "      <th>criticality</th>\n",
       "      <th></th>\n",
       "      <th></th>\n",
       "      <th></th>\n",
       "      <th></th>\n",
       "      <th></th>\n",
       "      <th></th>\n",
       "      <th></th>\n",
       "      <th></th>\n",
       "      <th></th>\n",
       "    </tr>\n",
       "  </thead>\n",
       "  <tbody>\n",
       "    <tr>\n",
       "      <th>1</th>\n",
       "      <td>59870</td>\n",
       "      <td>59854</td>\n",
       "      <td>59870</td>\n",
       "      <td>59870</td>\n",
       "      <td>59870</td>\n",
       "      <td>59870</td>\n",
       "      <td>59870</td>\n",
       "      <td>59870</td>\n",
       "      <td>59870</td>\n",
       "    </tr>\n",
       "    <tr>\n",
       "      <th>2</th>\n",
       "      <td>11499</td>\n",
       "      <td>11498</td>\n",
       "      <td>11499</td>\n",
       "      <td>11499</td>\n",
       "      <td>11499</td>\n",
       "      <td>11499</td>\n",
       "      <td>11499</td>\n",
       "      <td>11499</td>\n",
       "      <td>11499</td>\n",
       "    </tr>\n",
       "    <tr>\n",
       "      <th>3</th>\n",
       "      <td>9992</td>\n",
       "      <td>9992</td>\n",
       "      <td>9992</td>\n",
       "      <td>9992</td>\n",
       "      <td>9992</td>\n",
       "      <td>9992</td>\n",
       "      <td>9992</td>\n",
       "      <td>9992</td>\n",
       "      <td>9992</td>\n",
       "    </tr>\n",
       "  </tbody>\n",
       "</table>\n",
       "</div>"
      ],
      "text/plain": [
       "             source  message  timestamp  identification     id  \\\n",
       "criticality                                                      \n",
       "1             59870    59854      59870           59870  59870   \n",
       "2             11499    11498      11499           11499  11499   \n",
       "3              9992     9992       9992            9992   9992   \n",
       "\n",
       "             varnishLevelsTargetvolume  varnishLevelsTotalvolume  \\\n",
       "criticality                                                        \n",
       "1                                59870                     59870   \n",
       "2                                11499                     11499   \n",
       "3                                 9992                      9992   \n",
       "\n",
       "             VarnishPrinter_3DVarnishCounter  iFoil_TotalPagesCounter  \n",
       "criticality                                                            \n",
       "1                                      59870                    59870  \n",
       "2                                      11499                    11499  \n",
       "3                                       9992                     9992  "
      ]
     },
     "execution_count": 99,
     "metadata": {},
     "output_type": "execute_result"
    }
   ],
   "source": [
    "df.groupby(df.criticality).count()"
   ]
  },
  {
   "cell_type": "code",
   "execution_count": 25,
   "metadata": {},
   "outputs": [
    {
     "data": {
      "image/png": "[encoded data removed]",
      "text/plain": [
       "<Figure size 640x480 with 1 Axes>"
      ]
     },
     "metadata": {},
     "output_type": "display_data"
    }
   ],
   "source": [
    "# Generate a Histogram plot\n",
    "df['criticality'].plot(kind='hist')\n",
    "plt.show()"
   ]
  }
 ],
 "metadata": {
  "kernelspec": {
   "display_name": ".venv",
   "language": "python",
   "name": "python3"
  },
  "language_info": {
   "codemirror_mode": {
    "name": "ipython",
    "version": 3
   },
   "file_extension": ".py",
   "mimetype": "text/x-python",
   "name": "python",
   "nbconvert_exporter": "python",
   "pygments_lexer": "ipython3",
   "version": "3.10.2"
  },
  "orig_nbformat": 4
 },
 "nbformat": 4,
 "nbformat_minor": 2
}
