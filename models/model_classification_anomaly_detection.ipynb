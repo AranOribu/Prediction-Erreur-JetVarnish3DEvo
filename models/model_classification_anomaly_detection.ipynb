{
 "cells": [
  {
   "attachments": {},
   "cell_type": "markdown",
   "metadata": {},
   "source": [
    "# Modèle de Classification detection d'anomalies"
   ]
  },
  {
   "attachments": {},
   "cell_type": "markdown",
   "metadata": {},
   "source": [
    "https://blog.floydhub.com/introduction-to-anomaly-detection-in-python/"
   ]
  },
  {
   "attachments": {},
   "cell_type": "markdown",
   "metadata": {},
   "source": [
    "## 1. Librairies"
   ]
  },
  {
   "cell_type": "code",
   "execution_count": 224,
   "metadata": {},
   "outputs": [],
   "source": [
    "import pandas as pd\n",
    "import numpy as np\n",
    "import matplotlib.pyplot as plt"
   ]
  },
  {
   "attachments": {},
   "cell_type": "markdown",
   "metadata": {},
   "source": [
    "## 2. Dataset"
   ]
  },
  {
   "cell_type": "code",
   "execution_count": 225,
   "metadata": {},
   "outputs": [
    {
     "data": {
      "text/html": [
       "<div>\n",
       "<style scoped>\n",
       "    .dataframe tbody tr th:only-of-type {\n",
       "        vertical-align: middle;\n",
       "    }\n",
       "\n",
       "    .dataframe tbody tr th {\n",
       "        vertical-align: top;\n",
       "    }\n",
       "\n",
       "    .dataframe thead th {\n",
       "        text-align: right;\n",
       "    }\n",
       "</style>\n",
       "<table border=\"1\" class=\"dataframe\">\n",
       "  <thead>\n",
       "    <tr style=\"text-align: right;\">\n",
       "      <th></th>\n",
       "      <th>source</th>\n",
       "      <th>message</th>\n",
       "      <th>timestamp</th>\n",
       "      <th>criticality</th>\n",
       "      <th>identification</th>\n",
       "      <th>id</th>\n",
       "      <th>varnishLevelsTargetvolume</th>\n",
       "      <th>varnishLevelsTotalvolume</th>\n",
       "      <th>VarnishPrinter_3DVarnishCounter</th>\n",
       "      <th>iFoil_TotalPagesCounter</th>\n",
       "    </tr>\n",
       "  </thead>\n",
       "  <tbody>\n",
       "    <tr>\n",
       "      <th>0</th>\n",
       "      <td>PLC</td>\n",
       "      <td>JV-Ti non prêt : impression impossible</td>\n",
       "      <td>2022-04-15 05:55:23.462000+00:00</td>\n",
       "      <td>INFO</td>\n",
       "      <td>391</td>\n",
       "      <td>4169749</td>\n",
       "      <td>36192.322612</td>\n",
       "      <td>100000</td>\n",
       "      <td>1792992</td>\n",
       "      <td>22881</td>\n",
       "    </tr>\n",
       "    <tr>\n",
       "      <th>1</th>\n",
       "      <td>iFoil</td>\n",
       "      <td>JV-Ti non prêt : impression impossible</td>\n",
       "      <td>2022-04-15 06:06:56.278000+00:00</td>\n",
       "      <td>INFO</td>\n",
       "      <td>391</td>\n",
       "      <td>4170152</td>\n",
       "      <td>36192.322612</td>\n",
       "      <td>100000</td>\n",
       "      <td>1792992</td>\n",
       "      <td>22881</td>\n",
       "    </tr>\n",
       "  </tbody>\n",
       "</table>\n",
       "</div>"
      ],
      "text/plain": [
       "  source                                  message  \\\n",
       "0    PLC   JV-Ti non prêt : impression impossible   \n",
       "1  iFoil   JV-Ti non prêt : impression impossible   \n",
       "\n",
       "                          timestamp criticality  identification       id  \\\n",
       "0  2022-04-15 05:55:23.462000+00:00        INFO             391  4169749   \n",
       "1  2022-04-15 06:06:56.278000+00:00        INFO             391  4170152   \n",
       "\n",
       "   varnishLevelsTargetvolume  varnishLevelsTotalvolume  \\\n",
       "0               36192.322612                    100000   \n",
       "1               36192.322612                    100000   \n",
       "\n",
       "   VarnishPrinter_3DVarnishCounter  iFoil_TotalPagesCounter  \n",
       "0                          1792992                    22881  \n",
       "1                          1792992                    22881  "
      ]
     },
     "execution_count": 225,
     "metadata": {},
     "output_type": "execute_result"
    }
   ],
   "source": [
    "# nom de fichier et chemin relatif\n",
    "filename = 'metrics_events_split_df.csv'\n",
    "path = '../data/metrics/'\n",
    "# création d'un dataframe à partir du csv de données\n",
    "df = pd.read_csv(path+filename, index_col=0)\n",
    "df.head(2)"
   ]
  },
  {
   "cell_type": "code",
   "execution_count": 226,
   "metadata": {},
   "outputs": [
    {
     "name": "stdout",
     "output_type": "stream",
     "text": [
      "<class 'pandas.core.frame.DataFrame'>\n",
      "Int64Index: 81361 entries, 0 to 81360\n",
      "Data columns (total 10 columns):\n",
      " #   Column                           Non-Null Count  Dtype  \n",
      "---  ------                           --------------  -----  \n",
      " 0   source                           81361 non-null  object \n",
      " 1   message                          81344 non-null  object \n",
      " 2   timestamp                        81361 non-null  object \n",
      " 3   criticality                      81361 non-null  object \n",
      " 4   identification                   81361 non-null  int64  \n",
      " 5   id                               81361 non-null  int64  \n",
      " 6   varnishLevelsTargetvolume        81361 non-null  float64\n",
      " 7   varnishLevelsTotalvolume         81361 non-null  int64  \n",
      " 8   VarnishPrinter_3DVarnishCounter  81361 non-null  int64  \n",
      " 9   iFoil_TotalPagesCounter          81361 non-null  int64  \n",
      "dtypes: float64(1), int64(5), object(4)\n",
      "memory usage: 6.8+ MB\n"
     ]
    }
   ],
   "source": [
    "df.info()"
   ]
  },
  {
   "attachments": {},
   "cell_type": "markdown",
   "metadata": {},
   "source": [
    "## 3. Fonctions"
   ]
  },
  {
   "cell_type": "code",
   "execution_count": 227,
   "metadata": {},
   "outputs": [],
   "source": [
    "# création d'un dictionnaire des criticité avec leur niveau\n",
    "def ordinal_features_encoding(serie):\n",
    "    categories_mapper = {}\n",
    "    index = 1\n",
    "    for cat in list(serie) :\n",
    "        categories_mapper[cat] = index\n",
    "        index += 1\n",
    "    return categories_mapper"
   ]
  },
  {
   "attachments": {},
   "cell_type": "markdown",
   "metadata": {},
   "source": [
    "## 4. Selection"
   ]
  },
  {
   "cell_type": "code",
   "execution_count": 228,
   "metadata": {},
   "outputs": [
    {
     "data": {
      "text/plain": [
       "source\n",
       "PLC        56499\n",
       "iFoil       9582\n",
       "Kernel      1282\n",
       "ICB n°2       89\n",
       "ICB n°5       80\n",
       "RCB n°1       37\n",
       "RCB n°2       33\n",
       "RCB n°3       31\n",
       "ICB n°1       18\n",
       "ICB n°8       17\n",
       "ICB n°4       16\n",
       "ICB n°6        9\n",
       "ICB n°7        2\n",
       "Pilot          2\n",
       "Name: id, dtype: int64"
      ]
     },
     "execution_count": 228,
     "metadata": {},
     "output_type": "execute_result"
    }
   ],
   "source": [
    "# on recherche la source la plus représentée\n",
    "df.groupby('source')['id'].nunique().sort_values(ascending=False)"
   ]
  },
  {
   "attachments": {},
   "cell_type": "markdown",
   "metadata": {},
   "source": [
    "### a. PLC"
   ]
  },
  {
   "attachments": {},
   "cell_type": "markdown",
   "metadata": {},
   "source": [
    "#### i. Dataframe"
   ]
  },
  {
   "cell_type": "code",
   "execution_count": 229,
   "metadata": {},
   "outputs": [
    {
     "name": "stdout",
     "output_type": "stream",
     "text": [
      "<class 'pandas.core.frame.DataFrame'>\n",
      "Int64Index: 66877 entries, 0 to 81360\n",
      "Data columns (total 10 columns):\n",
      " #   Column                           Non-Null Count  Dtype  \n",
      "---  ------                           --------------  -----  \n",
      " 0   source                           66877 non-null  object \n",
      " 1   message                          66863 non-null  object \n",
      " 2   timestamp                        66877 non-null  object \n",
      " 3   criticality                      66877 non-null  object \n",
      " 4   identification                   66877 non-null  int64  \n",
      " 5   id                               66877 non-null  int64  \n",
      " 6   varnishLevelsTargetvolume        66877 non-null  float64\n",
      " 7   varnishLevelsTotalvolume         66877 non-null  int64  \n",
      " 8   VarnishPrinter_3DVarnishCounter  66877 non-null  int64  \n",
      " 9   iFoil_TotalPagesCounter          66877 non-null  int64  \n",
      "dtypes: float64(1), int64(5), object(4)\n",
      "memory usage: 5.6+ MB\n",
      "None\n"
     ]
    }
   ],
   "source": [
    "# création d'un dataframe de la source PLC\n",
    "plc_df = df[df.source == 'PLC']\n",
    "print(plc_df.info())\n",
    "# trie des valeurs par timestamp\n",
    "plc_df = plc_df.sort_values(by='timestamp') \n",
    "# suppression des colonnes inutiles\n",
    "plc_df = plc_df.drop(['source', 'message'], axis=1)\n",
    "# conversion des types datetim et numerique\n",
    "plc_df[\"timestamp\"] = pd.to_datetime(plc_df[\"timestamp\"], utc=True)\n",
    "plc_df[\"varnishLevelsTargetvolume\"] = np.round(plc_df[\"varnishLevelsTargetvolume\"] , decimals=2)\n",
    "# encodage de la colonne criticality\n",
    "plc_df[\"criticality\"] = plc_df[\"criticality\"].replace(ordinal_features_encoding(plc_df.criticality.unique()))\n",
    "# réindexation\n",
    "plc_df.reset_index(level=None, drop=True, inplace=True, col_level=0, col_fill='')\n"
   ]
  },
  {
   "cell_type": "code",
   "execution_count": 230,
   "metadata": {},
   "outputs": [
    {
     "name": "stdout",
     "output_type": "stream",
     "text": [
      "<class 'pandas.core.frame.DataFrame'>\n",
      "RangeIndex: 66877 entries, 0 to 66876\n",
      "Data columns (total 8 columns):\n",
      " #   Column                           Non-Null Count  Dtype              \n",
      "---  ------                           --------------  -----              \n",
      " 0   timestamp                        66877 non-null  datetime64[ns, UTC]\n",
      " 1   criticality                      66877 non-null  int64              \n",
      " 2   identification                   66877 non-null  int64              \n",
      " 3   id                               66877 non-null  int64              \n",
      " 4   varnishLevelsTargetvolume        66877 non-null  float64            \n",
      " 5   varnishLevelsTotalvolume         66877 non-null  int64              \n",
      " 6   VarnishPrinter_3DVarnishCounter  66877 non-null  int64              \n",
      " 7   iFoil_TotalPagesCounter          66877 non-null  int64              \n",
      "dtypes: datetime64[ns, UTC](1), float64(1), int64(6)\n",
      "memory usage: 4.1 MB\n",
      "None\n"
     ]
    }
   ],
   "source": [
    "print(plc_df.info())"
   ]
  },
  {
   "cell_type": "code",
   "execution_count": 231,
   "metadata": {},
   "outputs": [],
   "source": [
    "# c_df = df[[\"criticality\", 'timestamp']].copy()\n",
    "# c_df.timestamp = pd.to_datetime(c_df.timestamp, errors='ignore', utc=True, format=\"%f\")\n",
    "# c_df.index = df[\"timestamp\"] \n",
    "# del c_df[\"timestamp\"]\n",
    "# c_df.info()\n",
    "# c_df[\"criticality\"].plot(figsize=(15, 6))\n",
    "# plt.show()\n"
   ]
  },
  {
   "cell_type": "code",
   "execution_count": 232,
   "metadata": {},
   "outputs": [],
   "source": [
    "# Generate a Boxplot\n",
    "# df1['criticality'].plot(kind='box')\n",
    "# plt.show()"
   ]
  },
  {
   "cell_type": "code",
   "execution_count": 233,
   "metadata": {},
   "outputs": [],
   "source": [
    "# # Generate a Histogram plot\n",
    "# plc_df['criticality'].plot(kind='hist')\n",
    "# plt.show()"
   ]
  },
  {
   "attachments": {},
   "cell_type": "markdown",
   "metadata": {},
   "source": [
    "#### ii. Visualisation"
   ]
  },
  {
   "cell_type": "code",
   "execution_count": 234,
   "metadata": {},
   "outputs": [
    {
     "data": {
      "image/png": "[encoded data removed]",
      "text/plain": [
       "<Figure size 1500x600 with 1 Axes>"
      ]
     },
     "metadata": {},
     "output_type": "display_data"
    }
   ],
   "source": [
    "import seaborn as sns\n",
    "from babel.dates import format_date\n",
    "\n",
    "# On filtrer pour n'inclure que les lignes avec 'ERR' ou 'WARNING'.\n",
    "df_filtered = plc_df.copy()\n",
    "\n",
    "# Indexation des timestamp\n",
    "df_filtered.index = df_filtered.timestamp\n",
    "\n",
    "# Rééchantillonnage par mois et comptage du nombre d'events_id pour chaque mois.\n",
    "df_monthly_counts = df_filtered.resample('M')['criticality'].value_counts().rename('count').reset_index()\n",
    "\n",
    "# On convertie les dates en Français\n",
    "df_monthly_counts['month'] = df_monthly_counts['timestamp'].apply(lambda x: format_date(x, 'MMMM', locale='fr_FR'))\n",
    "\n",
    "# On affiche avec seaborn\n",
    "plt.figure(figsize=(15, 6))\n",
    "splot = sns.barplot(data=df_monthly_counts,\n",
    "                    x='month', \n",
    "                    y='count', \n",
    "                    palette=[\"#009999\", \"#FF9933\", \"#FF3333\"], \n",
    "                    hue='criticality')\n",
    "# Ajoute une étiquette de valeur à chaque colonne\n",
    "for g in splot.patches:\n",
    "    splot.annotate(text=format(g.get_height(), '.0f'),\n",
    "                   xy=(g.get_x() + g.get_width() / 2., g.get_height()),\n",
    "                   ha='center', \n",
    "                   va='center',\n",
    "                   xytext=(0, 3),\n",
    "                   textcoords='offset points')\n",
    "#Drawing a horizontal line\n",
    "splot.axhline(df_monthly_counts['count'].median())\n",
    "\n",
    "plt.title(\"Décompte du nombre d'évènements de la source PLC par criticité et par mois en 2022\")\n",
    "plt.xlabel('Mois')\n",
    "plt.ylabel('Nombre')\n",
    "plt.legend(title='Criticité')\n",
    "\n",
    "plt.show()"
   ]
  },
  {
   "attachments": {},
   "cell_type": "markdown",
   "metadata": {},
   "source": [
    "### b. Ifoil"
   ]
  },
  {
   "attachments": {},
   "cell_type": "markdown",
   "metadata": {},
   "source": [
    "#### i. Dataframe"
   ]
  },
  {
   "cell_type": "code",
   "execution_count": 235,
   "metadata": {},
   "outputs": [
    {
     "name": "stdout",
     "output_type": "stream",
     "text": [
      "<class 'pandas.core.frame.DataFrame'>\n",
      "Int64Index: 12805 entries, 1 to 81320\n",
      "Data columns (total 10 columns):\n",
      " #   Column                           Non-Null Count  Dtype  \n",
      "---  ------                           --------------  -----  \n",
      " 0   source                           12805 non-null  object \n",
      " 1   message                          12802 non-null  object \n",
      " 2   timestamp                        12805 non-null  object \n",
      " 3   criticality                      12805 non-null  object \n",
      " 4   identification                   12805 non-null  int64  \n",
      " 5   id                               12805 non-null  int64  \n",
      " 6   varnishLevelsTargetvolume        12805 non-null  float64\n",
      " 7   varnishLevelsTotalvolume         12805 non-null  int64  \n",
      " 8   VarnishPrinter_3DVarnishCounter  12805 non-null  int64  \n",
      " 9   iFoil_TotalPagesCounter          12805 non-null  int64  \n",
      "dtypes: float64(1), int64(5), object(4)\n",
      "memory usage: 1.1+ MB\n",
      "None\n"
     ]
    }
   ],
   "source": [
    "# création d'un dataframe de la source iFoil\n",
    "ifoil_df = df[df.source == 'iFoil']\n",
    "print(ifoil_df.info())\n",
    "# trie des valeurs par timestamp\n",
    "ifoil_df = ifoil_df.sort_values(by='timestamp') \n",
    "# suppression de colonnes \n",
    "ifoil_df = ifoil_df.drop(['identification','source', 'message', 'varnishLevelsTargetvolume','varnishLevelsTotalvolume','VarnishPrinter_3DVarnishCounter'], axis=1)\n",
    "# conversion des types datetim et numerique\n",
    "ifoil_df[\"timestamp\"] = pd.to_datetime(ifoil_df[\"timestamp\"], utc=True)\n",
    "# encodage de la colonne criticality\n",
    "ifoil_df[\"criticality\"] = ifoil_df[\"criticality\"].replace(ordinal_features_encoding(ifoil_df.criticality.unique()))\n",
    "# réindexation\n",
    "ifoil_df.reset_index(level=None, drop=True, inplace=True, col_level=0, col_fill='')"
   ]
  },
  {
   "cell_type": "code",
   "execution_count": 236,
   "metadata": {},
   "outputs": [
    {
     "name": "stdout",
     "output_type": "stream",
     "text": [
      "<class 'pandas.core.frame.DataFrame'>\n",
      "RangeIndex: 12805 entries, 0 to 12804\n",
      "Data columns (total 4 columns):\n",
      " #   Column                   Non-Null Count  Dtype              \n",
      "---  ------                   --------------  -----              \n",
      " 0   timestamp                12805 non-null  datetime64[ns, UTC]\n",
      " 1   criticality              12805 non-null  int64              \n",
      " 2   id                       12805 non-null  int64              \n",
      " 3   iFoil_TotalPagesCounter  12805 non-null  int64              \n",
      "dtypes: datetime64[ns, UTC](1), int64(3)\n",
      "memory usage: 400.3 KB\n"
     ]
    }
   ],
   "source": [
    "ifoil_df.info()"
   ]
  },
  {
   "attachments": {},
   "cell_type": "markdown",
   "metadata": {},
   "source": [
    "#### ii. Visualisation"
   ]
  },
  {
   "cell_type": "code",
   "execution_count": 237,
   "metadata": {},
   "outputs": [
    {
     "data": {
      "image/png": "[encoded data removed]",
      "text/plain": [
       "<Figure size 1500x600 with 1 Axes>"
      ]
     },
     "metadata": {},
     "output_type": "display_data"
    }
   ],
   "source": [
    "# On filtrer pour n'inclure que les lignes avec 'ERR' ou 'WARNING'.\n",
    "df_filtered2 = ifoil_df.copy()\n",
    "\n",
    "# Indexation des timestamp\n",
    "df_filtered2.index = df_filtered2.timestamp\n",
    "\n",
    "# Rééchantillonnage par mois et comptage du nombre d'events_id pour chaque mois.\n",
    "df_monthly_counts2 = df_filtered2.resample('M')['criticality'].value_counts().rename('count').reset_index()\n",
    "\n",
    "# On convertie les dates en Français\n",
    "df_monthly_counts2['month'] = df_monthly_counts2['timestamp'].apply(lambda x: format_date(x, 'MMMM', locale='fr_FR'))\n",
    "\n",
    "# On affiche avec seaborn\n",
    "plt.figure(figsize=(15, 6))\n",
    "splot2 = sns.barplot(data=df_monthly_counts2,\n",
    "                    x='month', \n",
    "                    y='count', \n",
    "                    palette=[\"#009999\", \"#FF9933\", \"#FF3333\"], \n",
    "                    hue='criticality')\n",
    "# Ajoute une étiquette de valeur à chaque colonne\n",
    "for g in splot2.patches:\n",
    "    splot2.annotate(text=format(g.get_height(), '.0f'),\n",
    "                   xy=(g.get_x() + g.get_width() / 2., g.get_height()),\n",
    "                   ha='center', \n",
    "                   va='center',\n",
    "                   xytext=(0, 3),\n",
    "                   textcoords='offset points')\n",
    "#Drawing a horizontal line\n",
    "splot2.axhline(df_monthly_counts2['count'].median())\n",
    "\n",
    "plt.title(\"Décompte du nombre d'évènements de la source iFoil par criticité et par mois en 2022\")\n",
    "plt.xlabel('Mois')\n",
    "plt.ylabel('Nombre')\n",
    "plt.legend(title='Criticité')\n",
    "\n",
    "plt.show()"
   ]
  },
  {
   "cell_type": "code",
   "execution_count": 238,
   "metadata": {},
   "outputs": [
    {
     "data": {
      "text/html": [
       "<div>\n",
       "<style scoped>\n",
       "    .dataframe tbody tr th:only-of-type {\n",
       "        vertical-align: middle;\n",
       "    }\n",
       "\n",
       "    .dataframe tbody tr th {\n",
       "        vertical-align: top;\n",
       "    }\n",
       "\n",
       "    .dataframe thead th {\n",
       "        text-align: right;\n",
       "    }\n",
       "</style>\n",
       "<table border=\"1\" class=\"dataframe\">\n",
       "  <thead>\n",
       "    <tr style=\"text-align: right;\">\n",
       "      <th></th>\n",
       "      <th>timestamp</th>\n",
       "      <th>criticality</th>\n",
       "      <th>id</th>\n",
       "      <th>iFoil_TotalPagesCounter</th>\n",
       "    </tr>\n",
       "  </thead>\n",
       "  <tbody>\n",
       "    <tr>\n",
       "      <th>0</th>\n",
       "      <td>2022-04-15 06:06:56.278000+00:00</td>\n",
       "      <td>1</td>\n",
       "      <td>4170152</td>\n",
       "      <td>22881</td>\n",
       "    </tr>\n",
       "    <tr>\n",
       "      <th>1</th>\n",
       "      <td>2022-04-15 06:40:40.321000+00:00</td>\n",
       "      <td>1</td>\n",
       "      <td>4171311</td>\n",
       "      <td>22883</td>\n",
       "    </tr>\n",
       "  </tbody>\n",
       "</table>\n",
       "</div>"
      ],
      "text/plain": [
       "                         timestamp  criticality       id  \\\n",
       "0 2022-04-15 06:06:56.278000+00:00            1  4170152   \n",
       "1 2022-04-15 06:40:40.321000+00:00            1  4171311   \n",
       "\n",
       "   iFoil_TotalPagesCounter  \n",
       "0                    22881  \n",
       "1                    22883  "
      ]
     },
     "execution_count": 238,
     "metadata": {},
     "output_type": "execute_result"
    }
   ],
   "source": [
    "ifoil_df.head(2)"
   ]
  },
  {
   "attachments": {},
   "cell_type": "markdown",
   "metadata": {},
   "source": [
    "## 4. Création du dataset iFoil : metrics + jobs"
   ]
  },
  {
   "attachments": {},
   "cell_type": "markdown",
   "metadata": {},
   "source": [
    "### a. Import datasets"
   ]
  },
  {
   "cell_type": "code",
   "execution_count": 255,
   "metadata": {},
   "outputs": [
    {
     "name": "stdout",
     "output_type": "stream",
     "text": [
      "<class 'pandas.core.frame.DataFrame'>\n",
      "RangeIndex: 12805 entries, 0 to 12804\n",
      "Data columns (total 3 columns):\n",
      " #   Column                   Non-Null Count  Dtype              \n",
      "---  ------                   --------------  -----              \n",
      " 0   timestamp                12805 non-null  datetime64[ns, UTC]\n",
      " 1   criticality              12805 non-null  int64              \n",
      " 2   iFoil_TotalPagesCounter  12805 non-null  int64              \n",
      "dtypes: datetime64[ns, UTC](1), int64(2)\n",
      "memory usage: 300.2 KB\n",
      "None\n"
     ]
    }
   ],
   "source": [
    "# Load time series data\n",
    "time_series_df = ifoil_df.copy()\n",
    "time_series_df = time_series_df.drop(['id'], axis=1)\n",
    "print(time_series_df.info())"
   ]
  },
  {
   "attachments": {},
   "cell_type": "markdown",
   "metadata": {},
   "source": [
    "#### jobs ifoil column"
   ]
  },
  {
   "cell_type": "code",
   "execution_count": 256,
   "metadata": {},
   "outputs": [
    {
     "data": {
      "text/html": [
       "<div>\n",
       "<style scoped>\n",
       "    .dataframe tbody tr th:only-of-type {\n",
       "        vertical-align: middle;\n",
       "    }\n",
       "\n",
       "    .dataframe tbody tr th {\n",
       "        vertical-align: top;\n",
       "    }\n",
       "\n",
       "    .dataframe thead th {\n",
       "        text-align: right;\n",
       "    }\n",
       "</style>\n",
       "<table border=\"1\" class=\"dataframe\">\n",
       "  <thead>\n",
       "    <tr style=\"text-align: right;\">\n",
       "      <th></th>\n",
       "      <th>id</th>\n",
       "      <th>total_copies</th>\n",
       "      <th>started_at</th>\n",
       "      <th>ended_at</th>\n",
       "      <th>speed</th>\n",
       "      <th>operator</th>\n",
       "      <th>operator_level</th>\n",
       "      <th>paperHeight</th>\n",
       "      <th>paperWidth</th>\n",
       "      <th>jobId</th>\n",
       "      <th>total_copies_requested</th>\n",
       "    </tr>\n",
       "  </thead>\n",
       "  <tbody>\n",
       "    <tr>\n",
       "      <th>0</th>\n",
       "      <td>6191</td>\n",
       "      <td>0</td>\n",
       "      <td>2021-06-29 14:14:56.792000+00:00</td>\n",
       "      <td>2021-06-29 14:14:58.759000+00:00</td>\n",
       "      <td>313</td>\n",
       "      <td>1</td>\n",
       "      <td>1</td>\n",
       "      <td>520</td>\n",
       "      <td>740</td>\n",
       "      <td>1624976096</td>\n",
       "      <td>1</td>\n",
       "    </tr>\n",
       "    <tr>\n",
       "      <th>1</th>\n",
       "      <td>6192</td>\n",
       "      <td>2</td>\n",
       "      <td>2021-06-29 14:15:16.235000+00:00</td>\n",
       "      <td>2021-06-29 14:20:17.203000+00:00</td>\n",
       "      <td>313</td>\n",
       "      <td>1</td>\n",
       "      <td>1</td>\n",
       "      <td>520</td>\n",
       "      <td>740</td>\n",
       "      <td>1624976116</td>\n",
       "      <td>25</td>\n",
       "    </tr>\n",
       "  </tbody>\n",
       "</table>\n",
       "</div>"
      ],
      "text/plain": [
       "     id  total_copies                        started_at  \\\n",
       "0  6191             0  2021-06-29 14:14:56.792000+00:00   \n",
       "1  6192             2  2021-06-29 14:15:16.235000+00:00   \n",
       "\n",
       "                           ended_at  speed  operator  operator_level  \\\n",
       "0  2021-06-29 14:14:58.759000+00:00    313         1               1   \n",
       "1  2021-06-29 14:20:17.203000+00:00    313         1               1   \n",
       "\n",
       "   paperHeight  paperWidth       jobId  total_copies_requested  \n",
       "0          520         740  1624976096                       1  \n",
       "1          520         740  1624976116                      25  "
      ]
     },
     "execution_count": 256,
     "metadata": {},
     "output_type": "execute_result"
    }
   ],
   "source": [
    "# création d'un dataframe à partir du csv de données\n",
    "jobs_ifoil_df = pd.read_csv('../data/jobs/jobs_uses_ifoil_df.csv', index_col=0)\n",
    "jobs_ifoil_df.reset_index(level=None, drop=True, inplace=True, col_level=0, col_fill='')\n",
    "jobs_ifoil_df.head(2)"
   ]
  },
  {
   "cell_type": "code",
   "execution_count": 257,
   "metadata": {},
   "outputs": [
    {
     "data": {
      "text/plain": [
       "False"
      ]
     },
     "execution_count": 257,
     "metadata": {},
     "output_type": "execute_result"
    }
   ],
   "source": [
    "jobs_ifoil_df.jobId.duplicated().any()"
   ]
  },
  {
   "attachments": {},
   "cell_type": "markdown",
   "metadata": {},
   "source": [
    "#### job_events ifoil column"
   ]
  },
  {
   "cell_type": "code",
   "execution_count": 258,
   "metadata": {},
   "outputs": [
    {
     "name": "stdout",
     "output_type": "stream",
     "text": [
      "<class 'pandas.core.frame.DataFrame'>\n",
      "RangeIndex: 16295 entries, 0 to 16294\n",
      "Data columns (total 9 columns):\n",
      " #   Column              Non-Null Count  Dtype              \n",
      "---  ------              --------------  -----              \n",
      " 0   timestamp           16295 non-null  datetime64[ns, UTC]\n",
      " 1   totalCopies         16295 non-null  int64              \n",
      " 2   jobId               16295 non-null  int64              \n",
      " 3   speed               16295 non-null  float64            \n",
      " 4   enabled             16295 non-null  bool               \n",
      " 5   optifoil            16295 non-null  bool               \n",
      " 6   heater1Enabled      16295 non-null  bool               \n",
      " 7   speedTensionIn      16295 non-null  float64            \n",
      " 8   heater1Temperature  16295 non-null  int64              \n",
      "dtypes: bool(3), datetime64[ns, UTC](1), float64(2), int64(3)\n",
      "memory usage: 811.7 KB\n",
      "None\n"
     ]
    },
    {
     "data": {
      "text/html": [
       "<div>\n",
       "<style scoped>\n",
       "    .dataframe tbody tr th:only-of-type {\n",
       "        vertical-align: middle;\n",
       "    }\n",
       "\n",
       "    .dataframe tbody tr th {\n",
       "        vertical-align: top;\n",
       "    }\n",
       "\n",
       "    .dataframe thead th {\n",
       "        text-align: right;\n",
       "    }\n",
       "</style>\n",
       "<table border=\"1\" class=\"dataframe\">\n",
       "  <thead>\n",
       "    <tr style=\"text-align: right;\">\n",
       "      <th></th>\n",
       "      <th>timestamp</th>\n",
       "      <th>totalCopies</th>\n",
       "      <th>jobId</th>\n",
       "      <th>speed</th>\n",
       "      <th>enabled</th>\n",
       "      <th>optifoil</th>\n",
       "      <th>heater1Enabled</th>\n",
       "      <th>speedTensionIn</th>\n",
       "      <th>heater1Temperature</th>\n",
       "    </tr>\n",
       "  </thead>\n",
       "  <tbody>\n",
       "    <tr>\n",
       "      <th>0</th>\n",
       "      <td>2021-06-18 09:22:46.866189200+00:00</td>\n",
       "      <td>3</td>\n",
       "      <td>1624008166</td>\n",
       "      <td>31.799999</td>\n",
       "      <td>False</td>\n",
       "      <td>True</td>\n",
       "      <td>False</td>\n",
       "      <td>-0.2</td>\n",
       "      <td>115</td>\n",
       "    </tr>\n",
       "    <tr>\n",
       "      <th>1</th>\n",
       "      <td>2021-06-18 10:08:13.716973900+00:00</td>\n",
       "      <td>100</td>\n",
       "      <td>1624010893</td>\n",
       "      <td>26.200001</td>\n",
       "      <td>False</td>\n",
       "      <td>True</td>\n",
       "      <td>False</td>\n",
       "      <td>-0.2</td>\n",
       "      <td>115</td>\n",
       "    </tr>\n",
       "  </tbody>\n",
       "</table>\n",
       "</div>"
      ],
      "text/plain": [
       "                            timestamp  totalCopies       jobId      speed  \\\n",
       "0 2021-06-18 09:22:46.866189200+00:00            3  1624008166  31.799999   \n",
       "1 2021-06-18 10:08:13.716973900+00:00          100  1624010893  26.200001   \n",
       "\n",
       "   enabled  optifoil  heater1Enabled  speedTensionIn  heater1Temperature  \n",
       "0    False      True           False            -0.2                 115  \n",
       "1    False      True           False            -0.2                 115  "
      ]
     },
     "execution_count": 258,
     "metadata": {},
     "output_type": "execute_result"
    }
   ],
   "source": [
    "job_events_ifoil_df = pd.read_csv('../data/jobs/idf.csv', index_col=0)\n",
    "job_events_ifoil_df.reset_index(level=None, drop=True, inplace=True, col_level=0, col_fill='')\n",
    "# conversion des types datetim et numerique\n",
    "job_events_ifoil_df[\"timestamp\"] = pd.to_datetime(job_events_ifoil_df[\"timestamp\"], utc=True)\n",
    "print(job_events_ifoil_df.info())\n",
    "job_events_ifoil_df.head(2)"
   ]
  },
  {
   "cell_type": "code",
   "execution_count": 259,
   "metadata": {},
   "outputs": [
    {
     "data": {
      "text/plain": [
       "False"
      ]
     },
     "execution_count": 259,
     "metadata": {},
     "output_type": "execute_result"
    }
   ],
   "source": [
    "job_events_ifoil_df.jobId.duplicated().any()"
   ]
  },
  {
   "attachments": {},
   "cell_type": "markdown",
   "metadata": {},
   "source": [
    "### b. Fusion dataframes"
   ]
  },
  {
   "attachments": {},
   "cell_type": "markdown",
   "metadata": {},
   "source": [
    "#### fusion jobs + job_events ifoil columns"
   ]
  },
  {
   "cell_type": "code",
   "execution_count": 260,
   "metadata": {},
   "outputs": [],
   "source": [
    "jobs_batch_df = job_events_ifoil_df.merge(right=jobs_ifoil_df, on='jobId', how='outer', suffixes=['_events', '_jobs']).sort_values(by='timestamp')"
   ]
  },
  {
   "cell_type": "code",
   "execution_count": 261,
   "metadata": {},
   "outputs": [
    {
     "data": {
      "text/html": [
       "<div>\n",
       "<style scoped>\n",
       "    .dataframe tbody tr th:only-of-type {\n",
       "        vertical-align: middle;\n",
       "    }\n",
       "\n",
       "    .dataframe tbody tr th {\n",
       "        vertical-align: top;\n",
       "    }\n",
       "\n",
       "    .dataframe thead th {\n",
       "        text-align: right;\n",
       "    }\n",
       "</style>\n",
       "<table border=\"1\" class=\"dataframe\">\n",
       "  <thead>\n",
       "    <tr style=\"text-align: right;\">\n",
       "      <th></th>\n",
       "      <th>timestamp</th>\n",
       "      <th>totalCopies</th>\n",
       "      <th>jobId</th>\n",
       "      <th>speed_events</th>\n",
       "      <th>enabled</th>\n",
       "      <th>optifoil</th>\n",
       "      <th>heater1Enabled</th>\n",
       "      <th>speedTensionIn</th>\n",
       "      <th>heater1Temperature</th>\n",
       "      <th>id</th>\n",
       "      <th>total_copies</th>\n",
       "      <th>started_at</th>\n",
       "      <th>ended_at</th>\n",
       "      <th>speed_jobs</th>\n",
       "      <th>operator</th>\n",
       "      <th>operator_level</th>\n",
       "      <th>paperHeight</th>\n",
       "      <th>paperWidth</th>\n",
       "      <th>total_copies_requested</th>\n",
       "    </tr>\n",
       "  </thead>\n",
       "  <tbody>\n",
       "    <tr>\n",
       "      <th>0</th>\n",
       "      <td>2021-06-18 09:22:46.866189200+00:00</td>\n",
       "      <td>3</td>\n",
       "      <td>1624008166</td>\n",
       "      <td>31.799999</td>\n",
       "      <td>False</td>\n",
       "      <td>True</td>\n",
       "      <td>False</td>\n",
       "      <td>-0.2</td>\n",
       "      <td>115</td>\n",
       "      <td>NaN</td>\n",
       "      <td>NaN</td>\n",
       "      <td>NaN</td>\n",
       "      <td>NaN</td>\n",
       "      <td>NaN</td>\n",
       "      <td>NaN</td>\n",
       "      <td>NaN</td>\n",
       "      <td>NaN</td>\n",
       "      <td>NaN</td>\n",
       "      <td>NaN</td>\n",
       "    </tr>\n",
       "    <tr>\n",
       "      <th>1</th>\n",
       "      <td>2021-06-18 10:08:13.716973900+00:00</td>\n",
       "      <td>100</td>\n",
       "      <td>1624010893</td>\n",
       "      <td>26.200001</td>\n",
       "      <td>False</td>\n",
       "      <td>True</td>\n",
       "      <td>False</td>\n",
       "      <td>-0.2</td>\n",
       "      <td>115</td>\n",
       "      <td>NaN</td>\n",
       "      <td>NaN</td>\n",
       "      <td>NaN</td>\n",
       "      <td>NaN</td>\n",
       "      <td>NaN</td>\n",
       "      <td>NaN</td>\n",
       "      <td>NaN</td>\n",
       "      <td>NaN</td>\n",
       "      <td>NaN</td>\n",
       "      <td>NaN</td>\n",
       "    </tr>\n",
       "    <tr>\n",
       "      <th>2</th>\n",
       "      <td>2021-06-18 10:11:52.165952600+00:00</td>\n",
       "      <td>100</td>\n",
       "      <td>1624011111</td>\n",
       "      <td>26.200001</td>\n",
       "      <td>False</td>\n",
       "      <td>True</td>\n",
       "      <td>False</td>\n",
       "      <td>-0.2</td>\n",
       "      <td>115</td>\n",
       "      <td>NaN</td>\n",
       "      <td>NaN</td>\n",
       "      <td>NaN</td>\n",
       "      <td>NaN</td>\n",
       "      <td>NaN</td>\n",
       "      <td>NaN</td>\n",
       "      <td>NaN</td>\n",
       "      <td>NaN</td>\n",
       "      <td>NaN</td>\n",
       "      <td>NaN</td>\n",
       "    </tr>\n",
       "    <tr>\n",
       "      <th>3</th>\n",
       "      <td>2021-06-18 10:30:23.049649100+00:00</td>\n",
       "      <td>50</td>\n",
       "      <td>1624012222</td>\n",
       "      <td>42.000000</td>\n",
       "      <td>False</td>\n",
       "      <td>True</td>\n",
       "      <td>False</td>\n",
       "      <td>-0.2</td>\n",
       "      <td>115</td>\n",
       "      <td>NaN</td>\n",
       "      <td>NaN</td>\n",
       "      <td>NaN</td>\n",
       "      <td>NaN</td>\n",
       "      <td>NaN</td>\n",
       "      <td>NaN</td>\n",
       "      <td>NaN</td>\n",
       "      <td>NaN</td>\n",
       "      <td>NaN</td>\n",
       "      <td>NaN</td>\n",
       "    </tr>\n",
       "    <tr>\n",
       "      <th>4</th>\n",
       "      <td>2021-06-18 12:35:11.864117300+00:00</td>\n",
       "      <td>1</td>\n",
       "      <td>1624019711</td>\n",
       "      <td>42.000000</td>\n",
       "      <td>False</td>\n",
       "      <td>True</td>\n",
       "      <td>False</td>\n",
       "      <td>-0.2</td>\n",
       "      <td>115</td>\n",
       "      <td>NaN</td>\n",
       "      <td>NaN</td>\n",
       "      <td>NaN</td>\n",
       "      <td>NaN</td>\n",
       "      <td>NaN</td>\n",
       "      <td>NaN</td>\n",
       "      <td>NaN</td>\n",
       "      <td>NaN</td>\n",
       "      <td>NaN</td>\n",
       "      <td>NaN</td>\n",
       "    </tr>\n",
       "    <tr>\n",
       "      <th>...</th>\n",
       "      <td>...</td>\n",
       "      <td>...</td>\n",
       "      <td>...</td>\n",
       "      <td>...</td>\n",
       "      <td>...</td>\n",
       "      <td>...</td>\n",
       "      <td>...</td>\n",
       "      <td>...</td>\n",
       "      <td>...</td>\n",
       "      <td>...</td>\n",
       "      <td>...</td>\n",
       "      <td>...</td>\n",
       "      <td>...</td>\n",
       "      <td>...</td>\n",
       "      <td>...</td>\n",
       "      <td>...</td>\n",
       "      <td>...</td>\n",
       "      <td>...</td>\n",
       "      <td>...</td>\n",
       "    </tr>\n",
       "    <tr>\n",
       "      <th>16290</th>\n",
       "      <td>2022-12-12 08:18:59.581900+00:00</td>\n",
       "      <td>3</td>\n",
       "      <td>1670833139</td>\n",
       "      <td>26.200001</td>\n",
       "      <td>False</td>\n",
       "      <td>True</td>\n",
       "      <td>False</td>\n",
       "      <td>-0.2</td>\n",
       "      <td>115</td>\n",
       "      <td>NaN</td>\n",
       "      <td>NaN</td>\n",
       "      <td>NaN</td>\n",
       "      <td>NaN</td>\n",
       "      <td>NaN</td>\n",
       "      <td>NaN</td>\n",
       "      <td>NaN</td>\n",
       "      <td>NaN</td>\n",
       "      <td>NaN</td>\n",
       "      <td>NaN</td>\n",
       "    </tr>\n",
       "    <tr>\n",
       "      <th>16291</th>\n",
       "      <td>2022-12-12 08:22:04.409915600+00:00</td>\n",
       "      <td>3</td>\n",
       "      <td>1670833324</td>\n",
       "      <td>26.200001</td>\n",
       "      <td>False</td>\n",
       "      <td>True</td>\n",
       "      <td>False</td>\n",
       "      <td>-0.2</td>\n",
       "      <td>115</td>\n",
       "      <td>NaN</td>\n",
       "      <td>NaN</td>\n",
       "      <td>NaN</td>\n",
       "      <td>NaN</td>\n",
       "      <td>NaN</td>\n",
       "      <td>NaN</td>\n",
       "      <td>NaN</td>\n",
       "      <td>NaN</td>\n",
       "      <td>NaN</td>\n",
       "      <td>NaN</td>\n",
       "    </tr>\n",
       "    <tr>\n",
       "      <th>16292</th>\n",
       "      <td>2022-12-12 08:24:46.438612200+00:00</td>\n",
       "      <td>80</td>\n",
       "      <td>1670833486</td>\n",
       "      <td>26.200001</td>\n",
       "      <td>False</td>\n",
       "      <td>True</td>\n",
       "      <td>False</td>\n",
       "      <td>-0.2</td>\n",
       "      <td>115</td>\n",
       "      <td>NaN</td>\n",
       "      <td>NaN</td>\n",
       "      <td>NaN</td>\n",
       "      <td>NaN</td>\n",
       "      <td>NaN</td>\n",
       "      <td>NaN</td>\n",
       "      <td>NaN</td>\n",
       "      <td>NaN</td>\n",
       "      <td>NaN</td>\n",
       "      <td>NaN</td>\n",
       "    </tr>\n",
       "    <tr>\n",
       "      <th>16293</th>\n",
       "      <td>2022-12-12 08:28:34.659403500+00:00</td>\n",
       "      <td>80</td>\n",
       "      <td>1670833714</td>\n",
       "      <td>26.200001</td>\n",
       "      <td>False</td>\n",
       "      <td>True</td>\n",
       "      <td>False</td>\n",
       "      <td>-0.2</td>\n",
       "      <td>115</td>\n",
       "      <td>NaN</td>\n",
       "      <td>NaN</td>\n",
       "      <td>NaN</td>\n",
       "      <td>NaN</td>\n",
       "      <td>NaN</td>\n",
       "      <td>NaN</td>\n",
       "      <td>NaN</td>\n",
       "      <td>NaN</td>\n",
       "      <td>NaN</td>\n",
       "      <td>NaN</td>\n",
       "    </tr>\n",
       "    <tr>\n",
       "      <th>16294</th>\n",
       "      <td>2022-12-12 08:32:23.112765200+00:00</td>\n",
       "      <td>80</td>\n",
       "      <td>1670833942</td>\n",
       "      <td>26.200001</td>\n",
       "      <td>False</td>\n",
       "      <td>True</td>\n",
       "      <td>False</td>\n",
       "      <td>-0.2</td>\n",
       "      <td>115</td>\n",
       "      <td>NaN</td>\n",
       "      <td>NaN</td>\n",
       "      <td>NaN</td>\n",
       "      <td>NaN</td>\n",
       "      <td>NaN</td>\n",
       "      <td>NaN</td>\n",
       "      <td>NaN</td>\n",
       "      <td>NaN</td>\n",
       "      <td>NaN</td>\n",
       "      <td>NaN</td>\n",
       "    </tr>\n",
       "  </tbody>\n",
       "</table>\n",
       "<p>16295 rows × 19 columns</p>\n",
       "</div>"
      ],
      "text/plain": [
       "                                timestamp  totalCopies       jobId  \\\n",
       "0     2021-06-18 09:22:46.866189200+00:00            3  1624008166   \n",
       "1     2021-06-18 10:08:13.716973900+00:00          100  1624010893   \n",
       "2     2021-06-18 10:11:52.165952600+00:00          100  1624011111   \n",
       "3     2021-06-18 10:30:23.049649100+00:00           50  1624012222   \n",
       "4     2021-06-18 12:35:11.864117300+00:00            1  1624019711   \n",
       "...                                   ...          ...         ...   \n",
       "16290    2022-12-12 08:18:59.581900+00:00            3  1670833139   \n",
       "16291 2022-12-12 08:22:04.409915600+00:00            3  1670833324   \n",
       "16292 2022-12-12 08:24:46.438612200+00:00           80  1670833486   \n",
       "16293 2022-12-12 08:28:34.659403500+00:00           80  1670833714   \n",
       "16294 2022-12-12 08:32:23.112765200+00:00           80  1670833942   \n",
       "\n",
       "       speed_events  enabled  optifoil  heater1Enabled  speedTensionIn  \\\n",
       "0         31.799999    False      True           False            -0.2   \n",
       "1         26.200001    False      True           False            -0.2   \n",
       "2         26.200001    False      True           False            -0.2   \n",
       "3         42.000000    False      True           False            -0.2   \n",
       "4         42.000000    False      True           False            -0.2   \n",
       "...             ...      ...       ...             ...             ...   \n",
       "16290     26.200001    False      True           False            -0.2   \n",
       "16291     26.200001    False      True           False            -0.2   \n",
       "16292     26.200001    False      True           False            -0.2   \n",
       "16293     26.200001    False      True           False            -0.2   \n",
       "16294     26.200001    False      True           False            -0.2   \n",
       "\n",
       "       heater1Temperature  id  total_copies started_at ended_at  speed_jobs  \\\n",
       "0                     115 NaN           NaN        NaN      NaN         NaN   \n",
       "1                     115 NaN           NaN        NaN      NaN         NaN   \n",
       "2                     115 NaN           NaN        NaN      NaN         NaN   \n",
       "3                     115 NaN           NaN        NaN      NaN         NaN   \n",
       "4                     115 NaN           NaN        NaN      NaN         NaN   \n",
       "...                   ...  ..           ...        ...      ...         ...   \n",
       "16290                 115 NaN           NaN        NaN      NaN         NaN   \n",
       "16291                 115 NaN           NaN        NaN      NaN         NaN   \n",
       "16292                 115 NaN           NaN        NaN      NaN         NaN   \n",
       "16293                 115 NaN           NaN        NaN      NaN         NaN   \n",
       "16294                 115 NaN           NaN        NaN      NaN         NaN   \n",
       "\n",
       "       operator  operator_level  paperHeight  paperWidth  \\\n",
       "0           NaN             NaN          NaN         NaN   \n",
       "1           NaN             NaN          NaN         NaN   \n",
       "2           NaN             NaN          NaN         NaN   \n",
       "3           NaN             NaN          NaN         NaN   \n",
       "4           NaN             NaN          NaN         NaN   \n",
       "...         ...             ...          ...         ...   \n",
       "16290       NaN             NaN          NaN         NaN   \n",
       "16291       NaN             NaN          NaN         NaN   \n",
       "16292       NaN             NaN          NaN         NaN   \n",
       "16293       NaN             NaN          NaN         NaN   \n",
       "16294       NaN             NaN          NaN         NaN   \n",
       "\n",
       "       total_copies_requested  \n",
       "0                         NaN  \n",
       "1                         NaN  \n",
       "2                         NaN  \n",
       "3                         NaN  \n",
       "4                         NaN  \n",
       "...                       ...  \n",
       "16290                     NaN  \n",
       "16291                     NaN  \n",
       "16292                     NaN  \n",
       "16293                     NaN  \n",
       "16294                     NaN  \n",
       "\n",
       "[16295 rows x 19 columns]"
      ]
     },
     "execution_count": 261,
     "metadata": {},
     "output_type": "execute_result"
    }
   ],
   "source": [
    "jobs_batch_df"
   ]
  },
  {
   "attachments": {},
   "cell_type": "markdown",
   "metadata": {},
   "source": [
    "#### fusion ifoil_df + metrics"
   ]
  },
  {
   "cell_type": "code",
   "execution_count": 262,
   "metadata": {},
   "outputs": [],
   "source": [
    "df_1 = time_series_df.copy()\n",
    "df_1[\"timestamp\"] = pd.to_datetime(df_1[\"timestamp\"]).astype('int64')\n",
    "\n",
    "df_2 = jobs_ifoil_df.copy()\n",
    "df_2[\"started_at\"] = pd.to_datetime(df_2[\"started_at\"]).astype('int64')\n",
    "df_2[\"ended_at\"] = pd.to_datetime(df_2[\"ended_at\"]).astype('int64')\n",
    "\n",
    "compare = (df_2[[\"started_at\"]].values < df_1.timestamp.values) & (df_2[[\"ended_at\"]].values > df_1.timestamp.values)\n",
    "\n",
    "## get cell numbers which is in range 0 to matrix size which meets the condition\n",
    "ind = np.arange(len(df_1)*len(df_2))[compare.ravel()]\n",
    "\n",
    "## calculate row and column index from cell number\n",
    "merge_df = pd.concat([df_2.iloc[ind//len(df_1)].reset_index(drop=True), df_1.iloc[ind%len(df_1)].reset_index(drop=True)], axis=1, sort=False)"
   ]
  },
  {
   "cell_type": "code",
   "execution_count": 263,
   "metadata": {},
   "outputs": [
    {
     "name": "stdout",
     "output_type": "stream",
     "text": [
      "<class 'pandas.core.frame.DataFrame'>\n",
      "RangeIndex: 3426 entries, 0 to 3425\n",
      "Data columns (total 14 columns):\n",
      " #   Column                   Non-Null Count  Dtype\n",
      "---  ------                   --------------  -----\n",
      " 0   id                       3426 non-null   int64\n",
      " 1   total_copies             3426 non-null   int64\n",
      " 2   started_at               3426 non-null   int64\n",
      " 3   ended_at                 3426 non-null   int64\n",
      " 4   speed                    3426 non-null   int64\n",
      " 5   operator                 3426 non-null   int64\n",
      " 6   operator_level           3426 non-null   int64\n",
      " 7   paperHeight              3426 non-null   int64\n",
      " 8   paperWidth               3426 non-null   int64\n",
      " 9   jobId                    3426 non-null   int64\n",
      " 10  total_copies_requested   3426 non-null   int64\n",
      " 11  timestamp                3426 non-null   int64\n",
      " 12  criticality              3426 non-null   int64\n",
      " 13  iFoil_TotalPagesCounter  3426 non-null   int64\n",
      "dtypes: int64(14)\n",
      "memory usage: 374.8 KB\n"
     ]
    }
   ],
   "source": [
    "merge_df.info()"
   ]
  },
  {
   "cell_type": "code",
   "execution_count": 266,
   "metadata": {},
   "outputs": [],
   "source": [
    "merge_df = merge_df.drop(['id','timestamp','started_at', 'ended_at', 'jobId'], axis=1)"
   ]
  },
  {
   "cell_type": "code",
   "execution_count": 267,
   "metadata": {},
   "outputs": [
    {
     "data": {
      "text/html": [
       "<div>\n",
       "<style scoped>\n",
       "    .dataframe tbody tr th:only-of-type {\n",
       "        vertical-align: middle;\n",
       "    }\n",
       "\n",
       "    .dataframe tbody tr th {\n",
       "        vertical-align: top;\n",
       "    }\n",
       "\n",
       "    .dataframe thead th {\n",
       "        text-align: right;\n",
       "    }\n",
       "</style>\n",
       "<table border=\"1\" class=\"dataframe\">\n",
       "  <thead>\n",
       "    <tr style=\"text-align: right;\">\n",
       "      <th></th>\n",
       "      <th>total_copies</th>\n",
       "      <th>speed</th>\n",
       "      <th>operator</th>\n",
       "      <th>operator_level</th>\n",
       "      <th>paperHeight</th>\n",
       "      <th>paperWidth</th>\n",
       "      <th>total_copies_requested</th>\n",
       "      <th>criticality</th>\n",
       "      <th>iFoil_TotalPagesCounter</th>\n",
       "    </tr>\n",
       "  </thead>\n",
       "  <tbody>\n",
       "    <tr>\n",
       "      <th>0</th>\n",
       "      <td>2</td>\n",
       "      <td>313</td>\n",
       "      <td>1</td>\n",
       "      <td>1</td>\n",
       "      <td>450</td>\n",
       "      <td>320</td>\n",
       "      <td>2</td>\n",
       "      <td>1</td>\n",
       "      <td>35692</td>\n",
       "    </tr>\n",
       "    <tr>\n",
       "      <th>1</th>\n",
       "      <td>2</td>\n",
       "      <td>313</td>\n",
       "      <td>1</td>\n",
       "      <td>1</td>\n",
       "      <td>450</td>\n",
       "      <td>320</td>\n",
       "      <td>2</td>\n",
       "      <td>1</td>\n",
       "      <td>35692</td>\n",
       "    </tr>\n",
       "    <tr>\n",
       "      <th>2</th>\n",
       "      <td>2</td>\n",
       "      <td>418</td>\n",
       "      <td>1</td>\n",
       "      <td>1</td>\n",
       "      <td>450</td>\n",
       "      <td>320</td>\n",
       "      <td>2</td>\n",
       "      <td>1</td>\n",
       "      <td>35697</td>\n",
       "    </tr>\n",
       "    <tr>\n",
       "      <th>3</th>\n",
       "      <td>2</td>\n",
       "      <td>627</td>\n",
       "      <td>1</td>\n",
       "      <td>1</td>\n",
       "      <td>450</td>\n",
       "      <td>320</td>\n",
       "      <td>2</td>\n",
       "      <td>1</td>\n",
       "      <td>35698</td>\n",
       "    </tr>\n",
       "    <tr>\n",
       "      <th>4</th>\n",
       "      <td>55</td>\n",
       "      <td>627</td>\n",
       "      <td>1</td>\n",
       "      <td>1</td>\n",
       "      <td>450</td>\n",
       "      <td>320</td>\n",
       "      <td>120</td>\n",
       "      <td>1</td>\n",
       "      <td>35702</td>\n",
       "    </tr>\n",
       "    <tr>\n",
       "      <th>...</th>\n",
       "      <td>...</td>\n",
       "      <td>...</td>\n",
       "      <td>...</td>\n",
       "      <td>...</td>\n",
       "      <td>...</td>\n",
       "      <td>...</td>\n",
       "      <td>...</td>\n",
       "      <td>...</td>\n",
       "      <td>...</td>\n",
       "    </tr>\n",
       "    <tr>\n",
       "      <th>3421</th>\n",
       "      <td>41</td>\n",
       "      <td>313</td>\n",
       "      <td>3</td>\n",
       "      <td>1</td>\n",
       "      <td>450</td>\n",
       "      <td>320</td>\n",
       "      <td>41</td>\n",
       "      <td>1</td>\n",
       "      <td>53341</td>\n",
       "    </tr>\n",
       "    <tr>\n",
       "      <th>3422</th>\n",
       "      <td>50</td>\n",
       "      <td>313</td>\n",
       "      <td>3</td>\n",
       "      <td>1</td>\n",
       "      <td>450</td>\n",
       "      <td>320</td>\n",
       "      <td>50</td>\n",
       "      <td>1</td>\n",
       "      <td>53380</td>\n",
       "    </tr>\n",
       "    <tr>\n",
       "      <th>3423</th>\n",
       "      <td>50</td>\n",
       "      <td>313</td>\n",
       "      <td>3</td>\n",
       "      <td>1</td>\n",
       "      <td>450</td>\n",
       "      <td>320</td>\n",
       "      <td>50</td>\n",
       "      <td>1</td>\n",
       "      <td>53382</td>\n",
       "    </tr>\n",
       "    <tr>\n",
       "      <th>3424</th>\n",
       "      <td>50</td>\n",
       "      <td>313</td>\n",
       "      <td>3</td>\n",
       "      <td>1</td>\n",
       "      <td>450</td>\n",
       "      <td>320</td>\n",
       "      <td>50</td>\n",
       "      <td>1</td>\n",
       "      <td>53382</td>\n",
       "    </tr>\n",
       "    <tr>\n",
       "      <th>3425</th>\n",
       "      <td>50</td>\n",
       "      <td>313</td>\n",
       "      <td>3</td>\n",
       "      <td>1</td>\n",
       "      <td>450</td>\n",
       "      <td>320</td>\n",
       "      <td>50</td>\n",
       "      <td>1</td>\n",
       "      <td>53384</td>\n",
       "    </tr>\n",
       "  </tbody>\n",
       "</table>\n",
       "<p>3426 rows × 9 columns</p>\n",
       "</div>"
      ],
      "text/plain": [
       "      total_copies  speed  operator  operator_level  paperHeight  paperWidth  \\\n",
       "0                2    313         1               1          450         320   \n",
       "1                2    313         1               1          450         320   \n",
       "2                2    418         1               1          450         320   \n",
       "3                2    627         1               1          450         320   \n",
       "4               55    627         1               1          450         320   \n",
       "...            ...    ...       ...             ...          ...         ...   \n",
       "3421            41    313         3               1          450         320   \n",
       "3422            50    313         3               1          450         320   \n",
       "3423            50    313         3               1          450         320   \n",
       "3424            50    313         3               1          450         320   \n",
       "3425            50    313         3               1          450         320   \n",
       "\n",
       "      total_copies_requested  criticality  iFoil_TotalPagesCounter  \n",
       "0                          2            1                    35692  \n",
       "1                          2            1                    35692  \n",
       "2                          2            1                    35697  \n",
       "3                          2            1                    35698  \n",
       "4                        120            1                    35702  \n",
       "...                      ...          ...                      ...  \n",
       "3421                      41            1                    53341  \n",
       "3422                      50            1                    53380  \n",
       "3423                      50            1                    53382  \n",
       "3424                      50            1                    53382  \n",
       "3425                      50            1                    53384  \n",
       "\n",
       "[3426 rows x 9 columns]"
      ]
     },
     "execution_count": 267,
     "metadata": {},
     "output_type": "execute_result"
    }
   ],
   "source": [
    "merge_df"
   ]
  },
  {
   "attachments": {},
   "cell_type": "markdown",
   "metadata": {},
   "source": [
    "## Test"
   ]
  },
  {
   "cell_type": "code",
   "execution_count": null,
   "metadata": {},
   "outputs": [],
   "source": [
    "## load sample data\n",
    "df1 = pd.DataFrame([\n",
    "    ('0', '2019-07-14 05:31:00', '0.020228', '0.026572', 10), \n",
    "    ('1', '2019-07-14 06:32:00', '0.057780', '0.175499', 12), \n",
    "    ('2', '2019-07-14 07:02:00', '0.076623', '0.875499', 15),\n",
    "    ('3', '2019-07-14 07:12:00', '0.086623', '0.895499', 16),\n",
    "    ('4', '2019-07-14 08:32:00', '0.096623', '0.035499', 20)\n",
    "    ], \n",
    "                   columns=('id', 'timestamp', 'A', 'B', 'C'))\n",
    "df2 = pd.DataFrame([\n",
    "    ('10', '2019-07-14 05:30:00', '2019-07-14 06:30:00', 'E1'), \n",
    "    ('11', '2019-07-14 06:00:00', '2019-07-14 07:00:00', 'E2'), \n",
    "    ('12', '2019-07-14 06:30:01', '2019-07-14 07:30:00', 'E3'), \n",
    "    ('13', '2019-07-14 07:30:01', '2019-07-14 08:30:00', 'E4')\n",
    "    ], \n",
    "                   columns=('id', 'start', 'end', 'event'))\n",
    "\n",
    "df1[\"timestamp\"] = pd.to_datetime(df1[\"timestamp\"])\n",
    "df2[\"start\"] = pd.to_datetime(df2[\"start\"])\n",
    "df2[\"end\"] = pd.to_datetime(df2[\"end\"])"
   ]
  },
  {
   "cell_type": "code",
   "execution_count": null,
   "metadata": {},
   "outputs": [
    {
     "data": {
      "text/plain": [
       "array(['2019-07-14T05:31:00.000000000', '2019-07-14T06:32:00.000000000',\n",
       "       '2019-07-14T07:02:00.000000000', '2019-07-14T07:12:00.000000000',\n",
       "       '2019-07-14T08:32:00.000000000'], dtype='datetime64[ns]')"
      ]
     },
     "execution_count": 248,
     "metadata": {},
     "output_type": "execute_result"
    }
   ],
   "source": [
    "df1.timestamp.values"
   ]
  },
  {
   "cell_type": "code",
   "execution_count": null,
   "metadata": {},
   "outputs": [
    {
     "data": {
      "text/plain": [
       "array([['2019-07-14T05:30:00.000000000'],\n",
       "       ['2019-07-14T06:00:00.000000000'],\n",
       "       ['2019-07-14T06:30:01.000000000'],\n",
       "       ['2019-07-14T07:30:01.000000000']], dtype='datetime64[ns]')"
      ]
     },
     "execution_count": 249,
     "metadata": {},
     "output_type": "execute_result"
    }
   ],
   "source": [
    "df2[[\"start\"]].values "
   ]
  },
  {
   "cell_type": "code",
   "execution_count": null,
   "metadata": {},
   "outputs": [
    {
     "data": {
      "text/html": [
       "<div>\n",
       "<style scoped>\n",
       "    .dataframe tbody tr th:only-of-type {\n",
       "        vertical-align: middle;\n",
       "    }\n",
       "\n",
       "    .dataframe tbody tr th {\n",
       "        vertical-align: top;\n",
       "    }\n",
       "\n",
       "    .dataframe thead th {\n",
       "        text-align: right;\n",
       "    }\n",
       "</style>\n",
       "<table border=\"1\" class=\"dataframe\">\n",
       "  <thead>\n",
       "    <tr style=\"text-align: right;\">\n",
       "      <th></th>\n",
       "      <th>id</th>\n",
       "      <th>start</th>\n",
       "      <th>end</th>\n",
       "      <th>event</th>\n",
       "      <th>id</th>\n",
       "      <th>timestamp</th>\n",
       "      <th>A</th>\n",
       "      <th>B</th>\n",
       "      <th>C</th>\n",
       "    </tr>\n",
       "  </thead>\n",
       "  <tbody>\n",
       "    <tr>\n",
       "      <th>0</th>\n",
       "      <td>10</td>\n",
       "      <td>2019-07-14 05:30:00</td>\n",
       "      <td>2019-07-14 06:30:00</td>\n",
       "      <td>E1</td>\n",
       "      <td>0</td>\n",
       "      <td>2019-07-14 05:31:00</td>\n",
       "      <td>0.020228</td>\n",
       "      <td>0.026572</td>\n",
       "      <td>10</td>\n",
       "    </tr>\n",
       "    <tr>\n",
       "      <th>1</th>\n",
       "      <td>11</td>\n",
       "      <td>2019-07-14 06:00:00</td>\n",
       "      <td>2019-07-14 07:00:00</td>\n",
       "      <td>E2</td>\n",
       "      <td>1</td>\n",
       "      <td>2019-07-14 06:32:00</td>\n",
       "      <td>0.057780</td>\n",
       "      <td>0.175499</td>\n",
       "      <td>12</td>\n",
       "    </tr>\n",
       "    <tr>\n",
       "      <th>2</th>\n",
       "      <td>12</td>\n",
       "      <td>2019-07-14 06:30:01</td>\n",
       "      <td>2019-07-14 07:30:00</td>\n",
       "      <td>E3</td>\n",
       "      <td>1</td>\n",
       "      <td>2019-07-14 06:32:00</td>\n",
       "      <td>0.057780</td>\n",
       "      <td>0.175499</td>\n",
       "      <td>12</td>\n",
       "    </tr>\n",
       "    <tr>\n",
       "      <th>3</th>\n",
       "      <td>12</td>\n",
       "      <td>2019-07-14 06:30:01</td>\n",
       "      <td>2019-07-14 07:30:00</td>\n",
       "      <td>E3</td>\n",
       "      <td>2</td>\n",
       "      <td>2019-07-14 07:02:00</td>\n",
       "      <td>0.076623</td>\n",
       "      <td>0.875499</td>\n",
       "      <td>15</td>\n",
       "    </tr>\n",
       "    <tr>\n",
       "      <th>4</th>\n",
       "      <td>12</td>\n",
       "      <td>2019-07-14 06:30:01</td>\n",
       "      <td>2019-07-14 07:30:00</td>\n",
       "      <td>E3</td>\n",
       "      <td>3</td>\n",
       "      <td>2019-07-14 07:12:00</td>\n",
       "      <td>0.086623</td>\n",
       "      <td>0.895499</td>\n",
       "      <td>16</td>\n",
       "    </tr>\n",
       "  </tbody>\n",
       "</table>\n",
       "</div>"
      ],
      "text/plain": [
       "   id               start                 end event id           timestamp  \\\n",
       "0  10 2019-07-14 05:30:00 2019-07-14 06:30:00    E1  0 2019-07-14 05:31:00   \n",
       "1  11 2019-07-14 06:00:00 2019-07-14 07:00:00    E2  1 2019-07-14 06:32:00   \n",
       "2  12 2019-07-14 06:30:01 2019-07-14 07:30:00    E3  1 2019-07-14 06:32:00   \n",
       "3  12 2019-07-14 06:30:01 2019-07-14 07:30:00    E3  2 2019-07-14 07:02:00   \n",
       "4  12 2019-07-14 06:30:01 2019-07-14 07:30:00    E3  3 2019-07-14 07:12:00   \n",
       "\n",
       "          A         B   C  \n",
       "0  0.020228  0.026572  10  \n",
       "1  0.057780  0.175499  12  \n",
       "2  0.057780  0.175499  12  \n",
       "3  0.076623  0.875499  15  \n",
       "4  0.086623  0.895499  16  "
      ]
     },
     "execution_count": 250,
     "metadata": {},
     "output_type": "execute_result"
    }
   ],
   "source": [
    "## df2[[\"start\"]] is a column vector of size m and df1.timestamp.values is row \n",
    "## vector of size n then broad cast will result matrix of shape m,n which is \n",
    "## result of comparing each pair of m and n\n",
    "compare = (df2[[\"start\"]].values < df1.timestamp.values) & (df2[[\"end\"]].values > df1.timestamp.values)\n",
    "\n",
    "## get cell numbers which is in range 0 to matrix size which meets the condition\n",
    "ind = np.arange(len(df1)*len(df2))[compare.ravel()]\n",
    "\n",
    "## calculate row and column index from cell number\n",
    "pd.concat([df2.iloc[ind//len(df1)].reset_index(drop=True), df1.iloc[ind%len(df1)].reset_index(drop=True)], axis=1, sort=False)"
   ]
  }
 ],
 "metadata": {
  "kernelspec": {
   "display_name": ".venv",
   "language": "python",
   "name": "python3"
  },
  "language_info": {
   "codemirror_mode": {
    "name": "ipython",
    "version": 3
   },
   "file_extension": ".py",
   "mimetype": "text/x-python",
   "name": "python",
   "nbconvert_exporter": "python",
   "pygments_lexer": "ipython3",
   "version": "3.10.2"
  },
  "orig_nbformat": 4
 },
 "nbformat": 4,
 "nbformat_minor": 2
}
