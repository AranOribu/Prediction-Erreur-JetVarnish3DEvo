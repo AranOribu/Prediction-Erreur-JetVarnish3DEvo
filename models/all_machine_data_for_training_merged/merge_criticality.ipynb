{
 "cells": [
  {
   "cell_type": "markdown",
   "metadata": {},
   "source": [
    "<h2> </h2>"
   ]
  },
  {
   "cell_type": "code",
   "execution_count": 122,
   "metadata": {},
   "outputs": [],
   "source": [
    "import pandas as pd "
   ]
  },
  {
   "cell_type": "code",
   "execution_count": 123,
   "metadata": {},
   "outputs": [],
   "source": [
    "df_printer14 = pd.read_csv(\"../../Machine_14/data/dataset_for_training_criticality_balanced_08.1.csv\")\n",
    "df_printer17 = pd.read_csv(\"../../Machine_17/data/dataset_for_training_criticality_balanced_08.1.csv\")\n",
    "df_printer18 = pd.read_csv(\"../../Machine_18/data/dataset_for_training_criticality_balanced_08.1.csv\")\n",
    "df_printer29 = pd.read_csv(\"../../Machine_29/data/dataset_for_training_criticality_balanced_08.1.csv\")\n",
    "\n",
    "pd.set_option('display.max_columns', None)"
   ]
  },
  {
   "cell_type": "code",
   "execution_count": 124,
   "metadata": {},
   "outputs": [],
   "source": [
    "cols_printer14 = set(df_printer14.columns)\n",
    "cols_printer17 = set(df_printer17.columns)\n",
    "cols_printer18 = set(df_printer18.columns)\n",
    "cols_printer29 = set(df_printer29.columns)"
   ]
  },
  {
   "cell_type": "code",
   "execution_count": 125,
   "metadata": {},
   "outputs": [],
   "source": [
    "unique_to_printer14 = cols_printer14 - (cols_printer18 | cols_printer17 | cols_printer29)\n",
    "unique_to_printer17 = cols_printer17 - (cols_printer14 | cols_printer18 | cols_printer29)\n",
    "unique_to_printer18 = cols_printer18 - (cols_printer14 | cols_printer17 | cols_printer29)\n",
    "unique_to_printer29 = cols_printer29 - (cols_printer14 | cols_printer17 | cols_printer18)"
   ]
  },
  {
   "cell_type": "code",
   "execution_count": 126,
   "metadata": {},
   "outputs": [
    {
     "name": "stdout",
     "output_type": "stream",
     "text": [
      "Colonnes uniques à df_printer14: {'optifoil_ifoil', 'leftMargin_remoteScannerRegistration'}\n",
      "Colonnes uniques à df_printer17: set()\n",
      "Colonnes uniques à df_printer18: set()\n",
      "Colonnes uniques à df_printer29: set()\n"
     ]
    }
   ],
   "source": [
    "print(\"Colonnes uniques à df_printer14:\", unique_to_printer14)\n",
    "print(\"Colonnes uniques à df_printer17:\", unique_to_printer17)\n",
    "print(\"Colonnes uniques à df_printer18:\", unique_to_printer18)\n",
    "print(\"Colonnes uniques à df_printer29:\", unique_to_printer29)"
   ]
  },
  {
   "cell_type": "code",
   "execution_count": 127,
   "metadata": {},
   "outputs": [],
   "source": [
    "df_printer14.drop(unique_to_printer14, axis=1, inplace=True)"
   ]
  },
  {
   "cell_type": "code",
   "execution_count": 128,
   "metadata": {},
   "outputs": [
    {
     "data": {
      "text/plain": [
       "(40680, 25)"
      ]
     },
     "execution_count": 128,
     "metadata": {},
     "output_type": "execute_result"
    }
   ],
   "source": [
    "df_printer14.shape"
   ]
  },
  {
   "cell_type": "markdown",
   "metadata": {},
   "source": [
    "--------------------------------------------------------------------------------------\n",
    "<h2>Imprimante 14</h2>"
   ]
  },
  {
   "cell_type": "code",
   "execution_count": 129,
   "metadata": {},
   "outputs": [
    {
     "data": {
      "text/plain": [
       "(40680, 25)"
      ]
     },
     "execution_count": 129,
     "metadata": {},
     "output_type": "execute_result"
    }
   ],
   "source": [
    "df_printer14.shape"
   ]
  },
  {
   "cell_type": "code",
   "execution_count": 130,
   "metadata": {},
   "outputs": [
    {
     "data": {
      "text/plain": [
       "Index(['Unnamed: 0', 'duration', 'speed', 'paperHeight_job', 'paperWidth_job',\n",
       "       'total_copies_requested', 'ifoil', 'scanner_mode', 'bars_job',\n",
       "       'varnishConsumptionVarnish_3d_job', 'LED', 'drops', 'speed_ifoil',\n",
       "       'heater1Enabled_ifoil', 'heater1Temperature_ifoil', 'x_imageLayout',\n",
       "       'y_imageLayout', 'power_irDryers', 'power_uvDryers',\n",
       "       'redScore_gridMode_remoteScannerRegistration',\n",
       "       'redScore_cropmarksMode_remoteScannerRegistration',\n",
       "       'redScore_fullScannerMode_remoteScannerRegistration',\n",
       "       'blueScore_fullScannerMode_remoteScannerRegistration',\n",
       "       'greenScore_fullScannerMode_remoteScannerRegistration',\n",
       "       'criticality_events'],\n",
       "      dtype='object')"
      ]
     },
     "execution_count": 130,
     "metadata": {},
     "output_type": "execute_result"
    }
   ],
   "source": [
    "df_printer14.columns"
   ]
  },
  {
   "cell_type": "markdown",
   "metadata": {},
   "source": [
    "--------------------------------------------------------------------------------------\n",
    "<h2>Imprimante 17</h2>"
   ]
  },
  {
   "cell_type": "code",
   "execution_count": 131,
   "metadata": {},
   "outputs": [
    {
     "data": {
      "text/plain": [
       "(23533, 25)"
      ]
     },
     "execution_count": 131,
     "metadata": {},
     "output_type": "execute_result"
    }
   ],
   "source": [
    "df_printer17.shape"
   ]
  },
  {
   "cell_type": "markdown",
   "metadata": {},
   "source": [
    "--------------------------------------------------------------------------------------\n",
    "<h2>Imprimante 18</h2>"
   ]
  },
  {
   "cell_type": "code",
   "execution_count": 132,
   "metadata": {},
   "outputs": [
    {
     "data": {
      "text/plain": [
       "(23356, 25)"
      ]
     },
     "execution_count": 132,
     "metadata": {},
     "output_type": "execute_result"
    }
   ],
   "source": [
    "df_printer18.shape"
   ]
  },
  {
   "cell_type": "markdown",
   "metadata": {},
   "source": [
    "--------------------------------------------------------------------------------------\n",
    "<h2>Imprimante 29</h2>"
   ]
  },
  {
   "cell_type": "code",
   "execution_count": 133,
   "metadata": {},
   "outputs": [
    {
     "data": {
      "text/plain": [
       "(3420, 25)"
      ]
     },
     "execution_count": 133,
     "metadata": {},
     "output_type": "execute_result"
    }
   ],
   "source": [
    "df_printer29.shape"
   ]
  },
  {
   "cell_type": "markdown",
   "metadata": {},
   "source": [
    "----------------------------------"
   ]
  },
  {
   "cell_type": "code",
   "execution_count": 134,
   "metadata": {},
   "outputs": [],
   "source": [
    "df_printer14['machineID'] = 14\n",
    "df_printer17['machineID'] = 17\n",
    "df_printer18['machineID'] = 18\n",
    "df_printer29['machineID'] = 29"
   ]
  },
  {
   "cell_type": "code",
   "execution_count": 135,
   "metadata": {},
   "outputs": [
    {
     "data": {
      "text/html": [
       "<div>\n",
       "<style scoped>\n",
       "    .dataframe tbody tr th:only-of-type {\n",
       "        vertical-align: middle;\n",
       "    }\n",
       "\n",
       "    .dataframe tbody tr th {\n",
       "        vertical-align: top;\n",
       "    }\n",
       "\n",
       "    .dataframe thead th {\n",
       "        text-align: right;\n",
       "    }\n",
       "</style>\n",
       "<table border=\"1\" class=\"dataframe\">\n",
       "  <thead>\n",
       "    <tr style=\"text-align: right;\">\n",
       "      <th></th>\n",
       "      <th>Unnamed: 0</th>\n",
       "      <th>duration</th>\n",
       "      <th>speed</th>\n",
       "      <th>paperHeight_job</th>\n",
       "      <th>paperWidth_job</th>\n",
       "      <th>total_copies_requested</th>\n",
       "      <th>ifoil</th>\n",
       "      <th>scanner_mode</th>\n",
       "      <th>bars_job</th>\n",
       "      <th>varnishConsumptionVarnish_3d_job</th>\n",
       "      <th>LED</th>\n",
       "      <th>drops</th>\n",
       "      <th>speed_ifoil</th>\n",
       "      <th>heater1Enabled_ifoil</th>\n",
       "      <th>heater1Temperature_ifoil</th>\n",
       "      <th>x_imageLayout</th>\n",
       "      <th>y_imageLayout</th>\n",
       "      <th>power_irDryers</th>\n",
       "      <th>power_uvDryers</th>\n",
       "      <th>redScore_gridMode_remoteScannerRegistration</th>\n",
       "      <th>redScore_cropmarksMode_remoteScannerRegistration</th>\n",
       "      <th>redScore_fullScannerMode_remoteScannerRegistration</th>\n",
       "      <th>blueScore_fullScannerMode_remoteScannerRegistration</th>\n",
       "      <th>greenScore_fullScannerMode_remoteScannerRegistration</th>\n",
       "      <th>criticality_events</th>\n",
       "      <th>machineID</th>\n",
       "    </tr>\n",
       "  </thead>\n",
       "  <tbody>\n",
       "    <tr>\n",
       "      <th>0</th>\n",
       "      <td>0</td>\n",
       "      <td>171.889</td>\n",
       "      <td>700</td>\n",
       "      <td>520</td>\n",
       "      <td>740</td>\n",
       "      <td>2</td>\n",
       "      <td>False</td>\n",
       "      <td>1</td>\n",
       "      <td>1</td>\n",
       "      <td>0.059481</td>\n",
       "      <td>10</td>\n",
       "      <td>1</td>\n",
       "      <td>42.000000</td>\n",
       "      <td>False</td>\n",
       "      <td>115</td>\n",
       "      <td>70</td>\n",
       "      <td>0</td>\n",
       "      <td>45</td>\n",
       "      <td>100</td>\n",
       "      <td>1500</td>\n",
       "      <td>1500</td>\n",
       "      <td>1500</td>\n",
       "      <td>16</td>\n",
       "      <td>16</td>\n",
       "      <td>INFO</td>\n",
       "      <td>14</td>\n",
       "    </tr>\n",
       "    <tr>\n",
       "      <th>1</th>\n",
       "      <td>1</td>\n",
       "      <td>171.889</td>\n",
       "      <td>700</td>\n",
       "      <td>520</td>\n",
       "      <td>740</td>\n",
       "      <td>2</td>\n",
       "      <td>False</td>\n",
       "      <td>1</td>\n",
       "      <td>1</td>\n",
       "      <td>0.059481</td>\n",
       "      <td>10</td>\n",
       "      <td>1</td>\n",
       "      <td>42.000000</td>\n",
       "      <td>False</td>\n",
       "      <td>115</td>\n",
       "      <td>70</td>\n",
       "      <td>0</td>\n",
       "      <td>45</td>\n",
       "      <td>100</td>\n",
       "      <td>1500</td>\n",
       "      <td>1500</td>\n",
       "      <td>1500</td>\n",
       "      <td>16</td>\n",
       "      <td>16</td>\n",
       "      <td>INFO</td>\n",
       "      <td>14</td>\n",
       "    </tr>\n",
       "    <tr>\n",
       "      <th>2</th>\n",
       "      <td>2</td>\n",
       "      <td>152.296</td>\n",
       "      <td>700</td>\n",
       "      <td>520</td>\n",
       "      <td>740</td>\n",
       "      <td>2</td>\n",
       "      <td>False</td>\n",
       "      <td>1</td>\n",
       "      <td>1</td>\n",
       "      <td>0.060070</td>\n",
       "      <td>10</td>\n",
       "      <td>1</td>\n",
       "      <td>42.000000</td>\n",
       "      <td>False</td>\n",
       "      <td>115</td>\n",
       "      <td>70</td>\n",
       "      <td>0</td>\n",
       "      <td>45</td>\n",
       "      <td>100</td>\n",
       "      <td>1817</td>\n",
       "      <td>1817</td>\n",
       "      <td>1817</td>\n",
       "      <td>19</td>\n",
       "      <td>20</td>\n",
       "      <td>INFO</td>\n",
       "      <td>14</td>\n",
       "    </tr>\n",
       "    <tr>\n",
       "      <th>3</th>\n",
       "      <td>3</td>\n",
       "      <td>664.237</td>\n",
       "      <td>359</td>\n",
       "      <td>520</td>\n",
       "      <td>740</td>\n",
       "      <td>200</td>\n",
       "      <td>False</td>\n",
       "      <td>1</td>\n",
       "      <td>1</td>\n",
       "      <td>16.710324</td>\n",
       "      <td>10</td>\n",
       "      <td>1</td>\n",
       "      <td>29.200001</td>\n",
       "      <td>False</td>\n",
       "      <td>115</td>\n",
       "      <td>70</td>\n",
       "      <td>0</td>\n",
       "      <td>45</td>\n",
       "      <td>100</td>\n",
       "      <td>2484</td>\n",
       "      <td>2484</td>\n",
       "      <td>2484</td>\n",
       "      <td>24</td>\n",
       "      <td>27</td>\n",
       "      <td>ERROR</td>\n",
       "      <td>14</td>\n",
       "    </tr>\n",
       "    <tr>\n",
       "      <th>4</th>\n",
       "      <td>4</td>\n",
       "      <td>111.879</td>\n",
       "      <td>700</td>\n",
       "      <td>450</td>\n",
       "      <td>320</td>\n",
       "      <td>2</td>\n",
       "      <td>False</td>\n",
       "      <td>1</td>\n",
       "      <td>1</td>\n",
       "      <td>0.075276</td>\n",
       "      <td>10</td>\n",
       "      <td>1</td>\n",
       "      <td>42.000000</td>\n",
       "      <td>False</td>\n",
       "      <td>115</td>\n",
       "      <td>3047</td>\n",
       "      <td>0</td>\n",
       "      <td>45</td>\n",
       "      <td>100</td>\n",
       "      <td>2350</td>\n",
       "      <td>2350</td>\n",
       "      <td>2350</td>\n",
       "      <td>21</td>\n",
       "      <td>24</td>\n",
       "      <td>WARNING</td>\n",
       "      <td>14</td>\n",
       "    </tr>\n",
       "  </tbody>\n",
       "</table>\n",
       "</div>"
      ],
      "text/plain": [
       "   Unnamed: 0  duration  speed  paperHeight_job  paperWidth_job  \\\n",
       "0           0   171.889    700              520             740   \n",
       "1           1   171.889    700              520             740   \n",
       "2           2   152.296    700              520             740   \n",
       "3           3   664.237    359              520             740   \n",
       "4           4   111.879    700              450             320   \n",
       "\n",
       "   total_copies_requested  ifoil  scanner_mode  bars_job  \\\n",
       "0                       2  False             1         1   \n",
       "1                       2  False             1         1   \n",
       "2                       2  False             1         1   \n",
       "3                     200  False             1         1   \n",
       "4                       2  False             1         1   \n",
       "\n",
       "   varnishConsumptionVarnish_3d_job  LED  drops  speed_ifoil  \\\n",
       "0                          0.059481   10      1    42.000000   \n",
       "1                          0.059481   10      1    42.000000   \n",
       "2                          0.060070   10      1    42.000000   \n",
       "3                         16.710324   10      1    29.200001   \n",
       "4                          0.075276   10      1    42.000000   \n",
       "\n",
       "   heater1Enabled_ifoil  heater1Temperature_ifoil  x_imageLayout  \\\n",
       "0                 False                       115             70   \n",
       "1                 False                       115             70   \n",
       "2                 False                       115             70   \n",
       "3                 False                       115             70   \n",
       "4                 False                       115           3047   \n",
       "\n",
       "   y_imageLayout  power_irDryers  power_uvDryers  \\\n",
       "0              0              45             100   \n",
       "1              0              45             100   \n",
       "2              0              45             100   \n",
       "3              0              45             100   \n",
       "4              0              45             100   \n",
       "\n",
       "   redScore_gridMode_remoteScannerRegistration  \\\n",
       "0                                         1500   \n",
       "1                                         1500   \n",
       "2                                         1817   \n",
       "3                                         2484   \n",
       "4                                         2350   \n",
       "\n",
       "   redScore_cropmarksMode_remoteScannerRegistration  \\\n",
       "0                                              1500   \n",
       "1                                              1500   \n",
       "2                                              1817   \n",
       "3                                              2484   \n",
       "4                                              2350   \n",
       "\n",
       "   redScore_fullScannerMode_remoteScannerRegistration  \\\n",
       "0                                               1500    \n",
       "1                                               1500    \n",
       "2                                               1817    \n",
       "3                                               2484    \n",
       "4                                               2350    \n",
       "\n",
       "   blueScore_fullScannerMode_remoteScannerRegistration  \\\n",
       "0                                                 16     \n",
       "1                                                 16     \n",
       "2                                                 19     \n",
       "3                                                 24     \n",
       "4                                                 21     \n",
       "\n",
       "   greenScore_fullScannerMode_remoteScannerRegistration criticality_events  \\\n",
       "0                                                 16                  INFO   \n",
       "1                                                 16                  INFO   \n",
       "2                                                 20                  INFO   \n",
       "3                                                 27                 ERROR   \n",
       "4                                                 24               WARNING   \n",
       "\n",
       "   machineID  \n",
       "0         14  \n",
       "1         14  \n",
       "2         14  \n",
       "3         14  \n",
       "4         14  "
      ]
     },
     "execution_count": 135,
     "metadata": {},
     "output_type": "execute_result"
    }
   ],
   "source": [
    "df_printer14.head()"
   ]
  },
  {
   "cell_type": "code",
   "execution_count": 136,
   "metadata": {},
   "outputs": [],
   "source": [
    "df_merged = pd.concat([df_printer14, df_printer17, df_printer18, df_printer29], ignore_index=True)"
   ]
  },
  {
   "cell_type": "code",
   "execution_count": 137,
   "metadata": {},
   "outputs": [],
   "source": [
    "df_merged.drop('Unnamed: 0',axis=1,inplace=True)"
   ]
  },
  {
   "cell_type": "code",
   "execution_count": 138,
   "metadata": {},
   "outputs": [
    {
     "data": {
      "text/html": [
       "<div>\n",
       "<style scoped>\n",
       "    .dataframe tbody tr th:only-of-type {\n",
       "        vertical-align: middle;\n",
       "    }\n",
       "\n",
       "    .dataframe tbody tr th {\n",
       "        vertical-align: top;\n",
       "    }\n",
       "\n",
       "    .dataframe thead th {\n",
       "        text-align: right;\n",
       "    }\n",
       "</style>\n",
       "<table border=\"1\" class=\"dataframe\">\n",
       "  <thead>\n",
       "    <tr style=\"text-align: right;\">\n",
       "      <th></th>\n",
       "      <th>duration</th>\n",
       "      <th>speed</th>\n",
       "      <th>paperHeight_job</th>\n",
       "      <th>paperWidth_job</th>\n",
       "      <th>total_copies_requested</th>\n",
       "      <th>ifoil</th>\n",
       "      <th>scanner_mode</th>\n",
       "      <th>bars_job</th>\n",
       "      <th>varnishConsumptionVarnish_3d_job</th>\n",
       "      <th>LED</th>\n",
       "      <th>drops</th>\n",
       "      <th>speed_ifoil</th>\n",
       "      <th>heater1Enabled_ifoil</th>\n",
       "      <th>heater1Temperature_ifoil</th>\n",
       "      <th>x_imageLayout</th>\n",
       "      <th>y_imageLayout</th>\n",
       "      <th>power_irDryers</th>\n",
       "      <th>power_uvDryers</th>\n",
       "      <th>redScore_gridMode_remoteScannerRegistration</th>\n",
       "      <th>redScore_cropmarksMode_remoteScannerRegistration</th>\n",
       "      <th>redScore_fullScannerMode_remoteScannerRegistration</th>\n",
       "      <th>blueScore_fullScannerMode_remoteScannerRegistration</th>\n",
       "      <th>greenScore_fullScannerMode_remoteScannerRegistration</th>\n",
       "      <th>criticality_events</th>\n",
       "      <th>machineID</th>\n",
       "    </tr>\n",
       "  </thead>\n",
       "  <tbody>\n",
       "    <tr>\n",
       "      <th>0</th>\n",
       "      <td>171.889</td>\n",
       "      <td>700</td>\n",
       "      <td>520</td>\n",
       "      <td>740</td>\n",
       "      <td>2</td>\n",
       "      <td>False</td>\n",
       "      <td>1</td>\n",
       "      <td>1</td>\n",
       "      <td>0.059481</td>\n",
       "      <td>10</td>\n",
       "      <td>1</td>\n",
       "      <td>42.000000</td>\n",
       "      <td>False</td>\n",
       "      <td>115</td>\n",
       "      <td>70</td>\n",
       "      <td>0</td>\n",
       "      <td>45</td>\n",
       "      <td>100</td>\n",
       "      <td>1500</td>\n",
       "      <td>1500</td>\n",
       "      <td>1500</td>\n",
       "      <td>16</td>\n",
       "      <td>16</td>\n",
       "      <td>INFO</td>\n",
       "      <td>14</td>\n",
       "    </tr>\n",
       "    <tr>\n",
       "      <th>1</th>\n",
       "      <td>171.889</td>\n",
       "      <td>700</td>\n",
       "      <td>520</td>\n",
       "      <td>740</td>\n",
       "      <td>2</td>\n",
       "      <td>False</td>\n",
       "      <td>1</td>\n",
       "      <td>1</td>\n",
       "      <td>0.059481</td>\n",
       "      <td>10</td>\n",
       "      <td>1</td>\n",
       "      <td>42.000000</td>\n",
       "      <td>False</td>\n",
       "      <td>115</td>\n",
       "      <td>70</td>\n",
       "      <td>0</td>\n",
       "      <td>45</td>\n",
       "      <td>100</td>\n",
       "      <td>1500</td>\n",
       "      <td>1500</td>\n",
       "      <td>1500</td>\n",
       "      <td>16</td>\n",
       "      <td>16</td>\n",
       "      <td>INFO</td>\n",
       "      <td>14</td>\n",
       "    </tr>\n",
       "    <tr>\n",
       "      <th>2</th>\n",
       "      <td>152.296</td>\n",
       "      <td>700</td>\n",
       "      <td>520</td>\n",
       "      <td>740</td>\n",
       "      <td>2</td>\n",
       "      <td>False</td>\n",
       "      <td>1</td>\n",
       "      <td>1</td>\n",
       "      <td>0.060070</td>\n",
       "      <td>10</td>\n",
       "      <td>1</td>\n",
       "      <td>42.000000</td>\n",
       "      <td>False</td>\n",
       "      <td>115</td>\n",
       "      <td>70</td>\n",
       "      <td>0</td>\n",
       "      <td>45</td>\n",
       "      <td>100</td>\n",
       "      <td>1817</td>\n",
       "      <td>1817</td>\n",
       "      <td>1817</td>\n",
       "      <td>19</td>\n",
       "      <td>20</td>\n",
       "      <td>INFO</td>\n",
       "      <td>14</td>\n",
       "    </tr>\n",
       "    <tr>\n",
       "      <th>3</th>\n",
       "      <td>664.237</td>\n",
       "      <td>359</td>\n",
       "      <td>520</td>\n",
       "      <td>740</td>\n",
       "      <td>200</td>\n",
       "      <td>False</td>\n",
       "      <td>1</td>\n",
       "      <td>1</td>\n",
       "      <td>16.710324</td>\n",
       "      <td>10</td>\n",
       "      <td>1</td>\n",
       "      <td>29.200001</td>\n",
       "      <td>False</td>\n",
       "      <td>115</td>\n",
       "      <td>70</td>\n",
       "      <td>0</td>\n",
       "      <td>45</td>\n",
       "      <td>100</td>\n",
       "      <td>2484</td>\n",
       "      <td>2484</td>\n",
       "      <td>2484</td>\n",
       "      <td>24</td>\n",
       "      <td>27</td>\n",
       "      <td>ERROR</td>\n",
       "      <td>14</td>\n",
       "    </tr>\n",
       "    <tr>\n",
       "      <th>4</th>\n",
       "      <td>111.879</td>\n",
       "      <td>700</td>\n",
       "      <td>450</td>\n",
       "      <td>320</td>\n",
       "      <td>2</td>\n",
       "      <td>False</td>\n",
       "      <td>1</td>\n",
       "      <td>1</td>\n",
       "      <td>0.075276</td>\n",
       "      <td>10</td>\n",
       "      <td>1</td>\n",
       "      <td>42.000000</td>\n",
       "      <td>False</td>\n",
       "      <td>115</td>\n",
       "      <td>3047</td>\n",
       "      <td>0</td>\n",
       "      <td>45</td>\n",
       "      <td>100</td>\n",
       "      <td>2350</td>\n",
       "      <td>2350</td>\n",
       "      <td>2350</td>\n",
       "      <td>21</td>\n",
       "      <td>24</td>\n",
       "      <td>WARNING</td>\n",
       "      <td>14</td>\n",
       "    </tr>\n",
       "  </tbody>\n",
       "</table>\n",
       "</div>"
      ],
      "text/plain": [
       "   duration  speed  paperHeight_job  paperWidth_job  total_copies_requested  \\\n",
       "0   171.889    700              520             740                       2   \n",
       "1   171.889    700              520             740                       2   \n",
       "2   152.296    700              520             740                       2   \n",
       "3   664.237    359              520             740                     200   \n",
       "4   111.879    700              450             320                       2   \n",
       "\n",
       "   ifoil  scanner_mode  bars_job  varnishConsumptionVarnish_3d_job  LED  \\\n",
       "0  False             1         1                          0.059481   10   \n",
       "1  False             1         1                          0.059481   10   \n",
       "2  False             1         1                          0.060070   10   \n",
       "3  False             1         1                         16.710324   10   \n",
       "4  False             1         1                          0.075276   10   \n",
       "\n",
       "   drops  speed_ifoil  heater1Enabled_ifoil  heater1Temperature_ifoil  \\\n",
       "0      1    42.000000                 False                       115   \n",
       "1      1    42.000000                 False                       115   \n",
       "2      1    42.000000                 False                       115   \n",
       "3      1    29.200001                 False                       115   \n",
       "4      1    42.000000                 False                       115   \n",
       "\n",
       "   x_imageLayout  y_imageLayout  power_irDryers  power_uvDryers  \\\n",
       "0             70              0              45             100   \n",
       "1             70              0              45             100   \n",
       "2             70              0              45             100   \n",
       "3             70              0              45             100   \n",
       "4           3047              0              45             100   \n",
       "\n",
       "   redScore_gridMode_remoteScannerRegistration  \\\n",
       "0                                         1500   \n",
       "1                                         1500   \n",
       "2                                         1817   \n",
       "3                                         2484   \n",
       "4                                         2350   \n",
       "\n",
       "   redScore_cropmarksMode_remoteScannerRegistration  \\\n",
       "0                                              1500   \n",
       "1                                              1500   \n",
       "2                                              1817   \n",
       "3                                              2484   \n",
       "4                                              2350   \n",
       "\n",
       "   redScore_fullScannerMode_remoteScannerRegistration  \\\n",
       "0                                               1500    \n",
       "1                                               1500    \n",
       "2                                               1817    \n",
       "3                                               2484    \n",
       "4                                               2350    \n",
       "\n",
       "   blueScore_fullScannerMode_remoteScannerRegistration  \\\n",
       "0                                                 16     \n",
       "1                                                 16     \n",
       "2                                                 19     \n",
       "3                                                 24     \n",
       "4                                                 21     \n",
       "\n",
       "   greenScore_fullScannerMode_remoteScannerRegistration criticality_events  \\\n",
       "0                                                 16                  INFO   \n",
       "1                                                 16                  INFO   \n",
       "2                                                 20                  INFO   \n",
       "3                                                 27                 ERROR   \n",
       "4                                                 24               WARNING   \n",
       "\n",
       "   machineID  \n",
       "0         14  \n",
       "1         14  \n",
       "2         14  \n",
       "3         14  \n",
       "4         14  "
      ]
     },
     "execution_count": 138,
     "metadata": {},
     "output_type": "execute_result"
    }
   ],
   "source": [
    "df_merged.head()"
   ]
  },
  {
   "cell_type": "code",
   "execution_count": null,
   "metadata": {},
   "outputs": [],
   "source": [
    "df_merged.to_csv(\"../data/merged_printers_data_criticality.csv\", index=False)"
   ]
  }
 ],
 "metadata": {
  "kernelspec": {
   "display_name": "Python 3",
   "language": "python",
   "name": "python3"
  },
  "language_info": {
   "codemirror_mode": {
    "name": "ipython",
    "version": 3
   },
   "file_extension": ".py",
   "mimetype": "text/x-python",
   "name": "python",
   "nbconvert_exporter": "python",
   "pygments_lexer": "ipython3",
   "version": "3.10.11"
  }
 },
 "nbformat": 4,
 "nbformat_minor": 2
}
