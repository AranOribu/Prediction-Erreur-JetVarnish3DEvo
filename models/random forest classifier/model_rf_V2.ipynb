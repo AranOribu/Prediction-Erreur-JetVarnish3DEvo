{
 "cells": [
  {
   "cell_type": "code",
   "execution_count": 7,
   "metadata": {},
   "outputs": [],
   "source": [
    "import pandas as pd\n",
    "import numpy as np\n",
    "\n",
    "from sklearn.model_selection import train_test_split\n",
    "from sklearn.ensemble import RandomForestClassifier\n",
    "from sklearn.metrics import accuracy_score, confusion_matrix, classification_report\n",
    "from sklearn.preprocessing import StandardScaler, MinMaxScaler"
   ]
  },
  {
   "cell_type": "markdown",
   "metadata": {},
   "source": [
    "- Colonne status merge avec colonne criticality \n",
    "\n",
    "==> 4 criticitées :     \n",
    "- IDLE\n",
    "- INFO\n",
    "- WARNING\n",
    "- ERROR"
   ]
  },
  {
   "cell_type": "markdown",
   "metadata": {},
   "source": [
    "## <center>**Import du Dataset originel**<center>"
   ]
  },
  {
   "cell_type": "code",
   "execution_count": 8,
   "metadata": {},
   "outputs": [
    {
     "data": {
      "text/html": [
       "<div>\n",
       "<style scoped>\n",
       "    .dataframe tbody tr th:only-of-type {\n",
       "        vertical-align: middle;\n",
       "    }\n",
       "\n",
       "    .dataframe tbody tr th {\n",
       "        vertical-align: top;\n",
       "    }\n",
       "\n",
       "    .dataframe thead th {\n",
       "        text-align: right;\n",
       "    }\n",
       "</style>\n",
       "<table border=\"1\" class=\"dataframe\">\n",
       "  <thead>\n",
       "    <tr style=\"text-align: right;\">\n",
       "      <th></th>\n",
       "      <th>source_events</th>\n",
       "      <th>timestamp</th>\n",
       "      <th>criticality_events</th>\n",
       "      <th>identification_events</th>\n",
       "      <th>type_modules</th>\n",
       "      <th>name_counters_modules</th>\n",
       "      <th>value_counters_modules</th>\n",
       "      <th>name_connected_operators</th>\n",
       "      <th>level_connected_operators</th>\n",
       "      <th>varnishLevelsTargetvolume</th>\n",
       "      <th>varnishLevelsTotalvolume</th>\n",
       "    </tr>\n",
       "  </thead>\n",
       "  <tbody>\n",
       "    <tr>\n",
       "      <th>0</th>\n",
       "      <td>iFoil</td>\n",
       "      <td>2022-04-15 06:06:56.278000+00:00</td>\n",
       "      <td>INFO</td>\n",
       "      <td>391</td>\n",
       "      <td>iFoil</td>\n",
       "      <td>Total Pages Counter</td>\n",
       "      <td>22881</td>\n",
       "      <td>Viktor</td>\n",
       "      <td>Operator</td>\n",
       "      <td>36192</td>\n",
       "      <td>100000</td>\n",
       "    </tr>\n",
       "    <tr>\n",
       "      <th>1</th>\n",
       "      <td>iFoil</td>\n",
       "      <td>2022-04-15 06:06:56.278000+00:00</td>\n",
       "      <td>INFO</td>\n",
       "      <td>391</td>\n",
       "      <td>iFoil</td>\n",
       "      <td>Foiled Pages Counter</td>\n",
       "      <td>31092</td>\n",
       "      <td>Viktor</td>\n",
       "      <td>Operator</td>\n",
       "      <td>36192</td>\n",
       "      <td>100000</td>\n",
       "    </tr>\n",
       "  </tbody>\n",
       "</table>\n",
       "</div>"
      ],
      "text/plain": [
       "  source_events                         timestamp criticality_events  \\\n",
       "0         iFoil  2022-04-15 06:06:56.278000+00:00               INFO   \n",
       "1         iFoil  2022-04-15 06:06:56.278000+00:00               INFO   \n",
       "\n",
       "   identification_events type_modules name_counters_modules  \\\n",
       "0                    391        iFoil   Total Pages Counter   \n",
       "1                    391        iFoil  Foiled Pages Counter   \n",
       "\n",
       "   value_counters_modules name_connected_operators level_connected_operators  \\\n",
       "0                   22881                   Viktor                  Operator   \n",
       "1                   31092                   Viktor                  Operator   \n",
       "\n",
       "   varnishLevelsTargetvolume  varnishLevelsTotalvolume  \n",
       "0                      36192                    100000  \n",
       "1                      36192                    100000  "
      ]
     },
     "execution_count": 8,
     "metadata": {},
     "output_type": "execute_result"
    }
   ],
   "source": [
    "df = pd.read_csv(\"../data/metrics/Arthur_dataset_V2.csv\", index_col=0)\n",
    "df.head(2)"
   ]
  },
  {
   "cell_type": "code",
   "execution_count": 9,
   "metadata": {},
   "outputs": [
    {
     "name": "stdout",
     "output_type": "stream",
     "text": [
      "<class 'pandas.core.frame.DataFrame'>\n",
      "Int64Index: 3510431 entries, 0 to 3510430\n",
      "Data columns (total 11 columns):\n",
      " #   Column                     Dtype \n",
      "---  ------                     ----- \n",
      " 0   source_events              object\n",
      " 1   timestamp                  object\n",
      " 2   criticality_events         object\n",
      " 3   identification_events      int64 \n",
      " 4   type_modules               object\n",
      " 5   name_counters_modules      object\n",
      " 6   value_counters_modules     int64 \n",
      " 7   name_connected_operators   object\n",
      " 8   level_connected_operators  object\n",
      " 9   varnishLevelsTargetvolume  int64 \n",
      " 10  varnishLevelsTotalvolume   int64 \n",
      "dtypes: int64(4), object(7)\n",
      "memory usage: 321.4+ MB\n"
     ]
    }
   ],
   "source": [
    "df.info()"
   ]
  },
  {
   "cell_type": "markdown",
   "metadata": {},
   "source": [
    "## <center>**Encodage du Dataset**<center>"
   ]
  },
  {
   "cell_type": "code",
   "execution_count": 10,
   "metadata": {},
   "outputs": [
    {
     "data": {
      "text/plain": [
       "array(['INFO', 'WARNING', 'ERROR', 'IDLE'], dtype=object)"
      ]
     },
     "execution_count": 10,
     "metadata": {},
     "output_type": "execute_result"
    }
   ],
   "source": [
    "df.criticality_events.unique()"
   ]
  },
  {
   "cell_type": "code",
   "execution_count": 11,
   "metadata": {},
   "outputs": [],
   "source": [
    "# on remplace dans le dataframe les valeurs du type 'str' avec un code\n",
    "criticality = {'IDLE': 0, 'INFO': 1, 'WARNING': 2, 'ERROR':3}\n",
    "df.criticality_events.replace(criticality, inplace=True)\n",
    "df.criticality_events = pd.to_numeric(df.criticality_events).astype('int64')"
   ]
  },
  {
   "cell_type": "code",
   "execution_count": 12,
   "metadata": {},
   "outputs": [],
   "source": [
    "object_columns = [\"source_events\",\"type_modules\",\"name_counters_modules\",\"name_connected_operators\",\"level_connected_operators\"]\n",
    "\n",
    "num_columns = [\"identification_events\", \"value_counters_modules\", \"varnishLevelsTargetvolume\", \"varnishLevelsTotalvolume\"]"
   ]
  },
  {
   "cell_type": "code",
   "execution_count": 13,
   "metadata": {},
   "outputs": [],
   "source": [
    "df = df.drop(\"timestamp\", axis= 1)"
   ]
  },
  {
   "cell_type": "code",
   "execution_count": 14,
   "metadata": {},
   "outputs": [],
   "source": [
    "df_encoded = pd.get_dummies(df, columns= object_columns, drop_first=True)"
   ]
  },
  {
   "cell_type": "code",
   "execution_count": 15,
   "metadata": {},
   "outputs": [
    {
     "name": "stdout",
     "output_type": "stream",
     "text": [
      "<class 'pandas.core.frame.DataFrame'>\n",
      "Int64Index: 3510431 entries, 0 to 3510430\n",
      "Data columns (total 25 columns):\n",
      " #   Column                                      Dtype\n",
      "---  ------                                      -----\n",
      " 0   criticality_events                          int64\n",
      " 1   identification_events                       int64\n",
      " 2   value_counters_modules                      int64\n",
      " 3   varnishLevelsTargetvolume                   int64\n",
      " 4   varnishLevelsTotalvolume                    int64\n",
      " 5   source_events_ICB n°2                       uint8\n",
      " 6   source_events_ICB n°4                       uint8\n",
      " 7   source_events_ICB n°5                       uint8\n",
      " 8   source_events_ICB n°6                       uint8\n",
      " 9   source_events_ICB n°7                       uint8\n",
      " 10  source_events_ICB n°8                       uint8\n",
      " 11  source_events_Kernel                        uint8\n",
      " 12  source_events_PLC                           uint8\n",
      " 13  source_events_Pilot                         uint8\n",
      " 14  source_events_RCB n°1                       uint8\n",
      " 15  source_events_RCB n°2                       uint8\n",
      " 16  source_events_RCB n°3                       uint8\n",
      " 17  source_events_iFoil                         uint8\n",
      " 18  type_modules_iFoil                          uint8\n",
      " 19  name_counters_modules_Foiled Pages Counter  uint8\n",
      " 20  name_counters_modules_Total Pages Counter   uint8\n",
      " 21  name_connected_operators_JAN                uint8\n",
      " 22  name_connected_operators_Micka              uint8\n",
      " 23  name_connected_operators_Viktor             uint8\n",
      " 24  level_connected_operators_Operator          uint8\n",
      "dtypes: int64(5), uint8(20)\n",
      "memory usage: 227.7 MB\n"
     ]
    },
    {
     "data": {
      "text/html": [
       "<div>\n",
       "<style scoped>\n",
       "    .dataframe tbody tr th:only-of-type {\n",
       "        vertical-align: middle;\n",
       "    }\n",
       "\n",
       "    .dataframe tbody tr th {\n",
       "        vertical-align: top;\n",
       "    }\n",
       "\n",
       "    .dataframe thead th {\n",
       "        text-align: right;\n",
       "    }\n",
       "</style>\n",
       "<table border=\"1\" class=\"dataframe\">\n",
       "  <thead>\n",
       "    <tr style=\"text-align: right;\">\n",
       "      <th></th>\n",
       "      <th>criticality_events</th>\n",
       "      <th>identification_events</th>\n",
       "      <th>value_counters_modules</th>\n",
       "      <th>varnishLevelsTargetvolume</th>\n",
       "      <th>varnishLevelsTotalvolume</th>\n",
       "      <th>source_events_ICB n°2</th>\n",
       "      <th>source_events_ICB n°4</th>\n",
       "      <th>source_events_ICB n°5</th>\n",
       "      <th>source_events_ICB n°6</th>\n",
       "      <th>source_events_ICB n°7</th>\n",
       "      <th>...</th>\n",
       "      <th>source_events_RCB n°2</th>\n",
       "      <th>source_events_RCB n°3</th>\n",
       "      <th>source_events_iFoil</th>\n",
       "      <th>type_modules_iFoil</th>\n",
       "      <th>name_counters_modules_Foiled Pages Counter</th>\n",
       "      <th>name_counters_modules_Total Pages Counter</th>\n",
       "      <th>name_connected_operators_JAN</th>\n",
       "      <th>name_connected_operators_Micka</th>\n",
       "      <th>name_connected_operators_Viktor</th>\n",
       "      <th>level_connected_operators_Operator</th>\n",
       "    </tr>\n",
       "  </thead>\n",
       "  <tbody>\n",
       "    <tr>\n",
       "      <th>0</th>\n",
       "      <td>1</td>\n",
       "      <td>391</td>\n",
       "      <td>22881</td>\n",
       "      <td>36192</td>\n",
       "      <td>100000</td>\n",
       "      <td>0</td>\n",
       "      <td>0</td>\n",
       "      <td>0</td>\n",
       "      <td>0</td>\n",
       "      <td>0</td>\n",
       "      <td>...</td>\n",
       "      <td>0</td>\n",
       "      <td>0</td>\n",
       "      <td>1</td>\n",
       "      <td>1</td>\n",
       "      <td>0</td>\n",
       "      <td>1</td>\n",
       "      <td>0</td>\n",
       "      <td>0</td>\n",
       "      <td>1</td>\n",
       "      <td>1</td>\n",
       "    </tr>\n",
       "    <tr>\n",
       "      <th>1</th>\n",
       "      <td>1</td>\n",
       "      <td>391</td>\n",
       "      <td>31092</td>\n",
       "      <td>36192</td>\n",
       "      <td>100000</td>\n",
       "      <td>0</td>\n",
       "      <td>0</td>\n",
       "      <td>0</td>\n",
       "      <td>0</td>\n",
       "      <td>0</td>\n",
       "      <td>...</td>\n",
       "      <td>0</td>\n",
       "      <td>0</td>\n",
       "      <td>1</td>\n",
       "      <td>1</td>\n",
       "      <td>1</td>\n",
       "      <td>0</td>\n",
       "      <td>0</td>\n",
       "      <td>0</td>\n",
       "      <td>1</td>\n",
       "      <td>1</td>\n",
       "    </tr>\n",
       "  </tbody>\n",
       "</table>\n",
       "<p>2 rows × 25 columns</p>\n",
       "</div>"
      ],
      "text/plain": [
       "   criticality_events  identification_events  value_counters_modules  \\\n",
       "0                   1                    391                   22881   \n",
       "1                   1                    391                   31092   \n",
       "\n",
       "   varnishLevelsTargetvolume  varnishLevelsTotalvolume  source_events_ICB n°2  \\\n",
       "0                      36192                    100000                      0   \n",
       "1                      36192                    100000                      0   \n",
       "\n",
       "   source_events_ICB n°4  source_events_ICB n°5  source_events_ICB n°6  \\\n",
       "0                      0                      0                      0   \n",
       "1                      0                      0                      0   \n",
       "\n",
       "   source_events_ICB n°7  ...  source_events_RCB n°2  source_events_RCB n°3  \\\n",
       "0                      0  ...                      0                      0   \n",
       "1                      0  ...                      0                      0   \n",
       "\n",
       "   source_events_iFoil  type_modules_iFoil  \\\n",
       "0                    1                   1   \n",
       "1                    1                   1   \n",
       "\n",
       "   name_counters_modules_Foiled Pages Counter  \\\n",
       "0                                           0   \n",
       "1                                           1   \n",
       "\n",
       "   name_counters_modules_Total Pages Counter  name_connected_operators_JAN  \\\n",
       "0                                          1                             0   \n",
       "1                                          0                             0   \n",
       "\n",
       "   name_connected_operators_Micka  name_connected_operators_Viktor  \\\n",
       "0                               0                                1   \n",
       "1                               0                                1   \n",
       "\n",
       "   level_connected_operators_Operator  \n",
       "0                                   1  \n",
       "1                                   1  \n",
       "\n",
       "[2 rows x 25 columns]"
      ]
     },
     "execution_count": 15,
     "metadata": {},
     "output_type": "execute_result"
    }
   ],
   "source": [
    "df_encoded.info()\n",
    "df_encoded.head(2)\n"
   ]
  },
  {
   "cell_type": "code",
   "execution_count": 16,
   "metadata": {},
   "outputs": [],
   "source": [
    "X = df_encoded.drop(\"criticality_events\", axis= 1)\n",
    "y = df_encoded.criticality_events"
   ]
  },
  {
   "cell_type": "code",
   "execution_count": 17,
   "metadata": {},
   "outputs": [],
   "source": [
    "X_train, X_test, y_train, y_test =  train_test_split(X,y, test_size=0.25, random_state=40000)"
   ]
  },
  {
   "cell_type": "code",
   "execution_count": 18,
   "metadata": {},
   "outputs": [],
   "source": [
    "Norm_Scaler = MinMaxScaler()\n",
    "\n",
    "X_train[num_columns]= Norm_Scaler.fit_transform(X_train[num_columns])\n",
    "X_test[num_columns]= Norm_Scaler.transform(X_test[num_columns])"
   ]
  },
  {
   "cell_type": "code",
   "execution_count": 19,
   "metadata": {},
   "outputs": [
    {
     "data": {
      "text/html": [
       "<style>#sk-container-id-1 {color: black;background-color: white;}#sk-container-id-1 pre{padding: 0;}#sk-container-id-1 div.sk-toggleable {background-color: white;}#sk-container-id-1 label.sk-toggleable__label {cursor: pointer;display: block;width: 100%;margin-bottom: 0;padding: 0.3em;box-sizing: border-box;text-align: center;}#sk-container-id-1 label.sk-toggleable__label-arrow:before {content: \"▸\";float: left;margin-right: 0.25em;color: #696969;}#sk-container-id-1 label.sk-toggleable__label-arrow:hover:before {color: black;}#sk-container-id-1 div.sk-estimator:hover label.sk-toggleable__label-arrow:before {color: black;}#sk-container-id-1 div.sk-toggleable__content {max-height: 0;max-width: 0;overflow: hidden;text-align: left;background-color: #f0f8ff;}#sk-container-id-1 div.sk-toggleable__content pre {margin: 0.2em;color: black;border-radius: 0.25em;background-color: #f0f8ff;}#sk-container-id-1 input.sk-toggleable__control:checked~div.sk-toggleable__content {max-height: 200px;max-width: 100%;overflow: auto;}#sk-container-id-1 input.sk-toggleable__control:checked~label.sk-toggleable__label-arrow:before {content: \"▾\";}#sk-container-id-1 div.sk-estimator input.sk-toggleable__control:checked~label.sk-toggleable__label {background-color: #d4ebff;}#sk-container-id-1 div.sk-label input.sk-toggleable__control:checked~label.sk-toggleable__label {background-color: #d4ebff;}#sk-container-id-1 input.sk-hidden--visually {border: 0;clip: rect(1px 1px 1px 1px);clip: rect(1px, 1px, 1px, 1px);height: 1px;margin: -1px;overflow: hidden;padding: 0;position: absolute;width: 1px;}#sk-container-id-1 div.sk-estimator {font-family: monospace;background-color: #f0f8ff;border: 1px dotted black;border-radius: 0.25em;box-sizing: border-box;margin-bottom: 0.5em;}#sk-container-id-1 div.sk-estimator:hover {background-color: #d4ebff;}#sk-container-id-1 div.sk-parallel-item::after {content: \"\";width: 100%;border-bottom: 1px solid gray;flex-grow: 1;}#sk-container-id-1 div.sk-label:hover label.sk-toggleable__label {background-color: #d4ebff;}#sk-container-id-1 div.sk-serial::before {content: \"\";position: absolute;border-left: 1px solid gray;box-sizing: border-box;top: 0;bottom: 0;left: 50%;z-index: 0;}#sk-container-id-1 div.sk-serial {display: flex;flex-direction: column;align-items: center;background-color: white;padding-right: 0.2em;padding-left: 0.2em;position: relative;}#sk-container-id-1 div.sk-item {position: relative;z-index: 1;}#sk-container-id-1 div.sk-parallel {display: flex;align-items: stretch;justify-content: center;background-color: white;position: relative;}#sk-container-id-1 div.sk-item::before, #sk-container-id-1 div.sk-parallel-item::before {content: \"\";position: absolute;border-left: 1px solid gray;box-sizing: border-box;top: 0;bottom: 0;left: 50%;z-index: -1;}#sk-container-id-1 div.sk-parallel-item {display: flex;flex-direction: column;z-index: 1;position: relative;background-color: white;}#sk-container-id-1 div.sk-parallel-item:first-child::after {align-self: flex-end;width: 50%;}#sk-container-id-1 div.sk-parallel-item:last-child::after {align-self: flex-start;width: 50%;}#sk-container-id-1 div.sk-parallel-item:only-child::after {width: 0;}#sk-container-id-1 div.sk-dashed-wrapped {border: 1px dashed gray;margin: 0 0.4em 0.5em 0.4em;box-sizing: border-box;padding-bottom: 0.4em;background-color: white;}#sk-container-id-1 div.sk-label label {font-family: monospace;font-weight: bold;display: inline-block;line-height: 1.2em;}#sk-container-id-1 div.sk-label-container {text-align: center;}#sk-container-id-1 div.sk-container {/* jupyter's `normalize.less` sets `[hidden] { display: none; }` but bootstrap.min.css set `[hidden] { display: none !important; }` so we also need the `!important` here to be able to override the default hidden behavior on the sphinx rendered scikit-learn.org. See: https://github.com/scikit-learn/scikit-learn/issues/21755 */display: inline-block !important;position: relative;}#sk-container-id-1 div.sk-text-repr-fallback {display: none;}</style><div id=\"sk-container-id-1\" class=\"sk-top-container\"><div class=\"sk-text-repr-fallback\"><pre>RandomForestClassifier(n_estimators=1000, random_state=40000)</pre><b>In a Jupyter environment, please rerun this cell to show the HTML representation or trust the notebook. <br />On GitHub, the HTML representation is unable to render, please try loading this page with nbviewer.org.</b></div><div class=\"sk-container\" hidden><div class=\"sk-item\"><div class=\"sk-estimator sk-toggleable\"><input class=\"sk-toggleable__control sk-hidden--visually\" id=\"sk-estimator-id-1\" type=\"checkbox\" checked><label for=\"sk-estimator-id-1\" class=\"sk-toggleable__label sk-toggleable__label-arrow\">RandomForestClassifier</label><div class=\"sk-toggleable__content\"><pre>RandomForestClassifier(n_estimators=1000, random_state=40000)</pre></div></div></div></div></div>"
      ],
      "text/plain": [
       "RandomForestClassifier(n_estimators=1000, random_state=40000)"
      ]
     },
     "execution_count": 19,
     "metadata": {},
     "output_type": "execute_result"
    }
   ],
   "source": [
    "rf_model = RandomForestClassifier(n_estimators=1000, random_state=40000)\n",
    "\n",
    "rf_model.fit(X_train,y_train)"
   ]
  },
  {
   "cell_type": "code",
   "execution_count": 20,
   "metadata": {},
   "outputs": [],
   "source": [
    "y_pred = rf_model.predict(X_test)\n",
    "\n",
    "accu = accuracy_score(y_test, y_pred)\n",
    "conf_matrix = confusion_matrix(y_test, y_pred)\n",
    "class_report = classification_report(y_test, y_pred)"
   ]
  },
  {
   "cell_type": "code",
   "execution_count": 21,
   "metadata": {},
   "outputs": [
    {
     "name": "stdout",
     "output_type": "stream",
     "text": [
      "0.9067237308684515\n"
     ]
    }
   ],
   "source": [
    "print(accu)\n"
   ]
  },
  {
   "cell_type": "code",
   "execution_count": 22,
   "metadata": {},
   "outputs": [
    {
     "name": "stdout",
     "output_type": "stream",
     "text": [
      "[[532779      0  22573   9885]\n",
      " [     1  16053    309    746]\n",
      " [ 21780    417 157944   4878]\n",
      " [ 12779    888   7604  88972]]\n"
     ]
    }
   ],
   "source": [
    "print(conf_matrix)"
   ]
  },
  {
   "cell_type": "code",
   "execution_count": 23,
   "metadata": {},
   "outputs": [
    {
     "name": "stdout",
     "output_type": "stream",
     "text": [
      "              precision    recall  f1-score   support\n",
      "\n",
      "           0       0.94      0.94      0.94    565237\n",
      "           1       0.92      0.94      0.93     17109\n",
      "           2       0.84      0.85      0.85    185019\n",
      "           3       0.85      0.81      0.83    110243\n",
      "\n",
      "    accuracy                           0.91    877608\n",
      "   macro avg       0.89      0.89      0.89    877608\n",
      "weighted avg       0.91      0.91      0.91    877608\n",
      "\n"
     ]
    }
   ],
   "source": [
    "print(class_report)"
   ]
  }
 ],
 "metadata": {
  "kernelspec": {
   "display_name": "Python 3.11.0 64-bit",
   "language": "python",
   "name": "python3"
  },
  "language_info": {
   "codemirror_mode": {
    "name": "ipython",
    "version": 3
   },
   "file_extension": ".py",
   "mimetype": "text/x-python",
   "name": "python",
   "nbconvert_exporter": "python",
   "pygments_lexer": "ipython3",
   "version": "3.11.0"
  },
  "orig_nbformat": 4,
  "vscode": {
   "interpreter": {
    "hash": "e2de187e2ac018b1966125b89a9965710f2e135e980700bc64d2907d990fa000"
   }
  }
 },
 "nbformat": 4,
 "nbformat_minor": 2
}
